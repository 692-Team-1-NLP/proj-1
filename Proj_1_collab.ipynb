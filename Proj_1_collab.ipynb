{
  "nbformat": 4,
  "nbformat_minor": 0,
  "metadata": {
    "colab": {
      "name": "Proj-1-collab.ipynb",
      "provenance": [],
      "collapsed_sections": [],
      "include_colab_link": true
    },
    "kernelspec": {
      "name": "python3",
      "display_name": "Python 3"
    },
    "language_info": {
      "name": "python"
    }
  },
  "cells": [
    {
      "cell_type": "markdown",
      "metadata": {
        "id": "view-in-github",
        "colab_type": "text"
      },
      "source": [
        "<a href=\"https://colab.research.google.com/github/692-Team-1-NLP/proj-1/blob/main/Proj_1_collab.ipynb\" target=\"_parent\"><img src=\"https://colab.research.google.com/assets/colab-badge.svg\" alt=\"Open In Colab\"/></a>"
      ]
    },
    {
      "cell_type": "markdown",
      "metadata": {
        "id": "8FHlrdot1Lsi"
      },
      "source": [
        "# `692-Proj-1 : Crime Novel Plot Analysis with Regex - Agatha Christie`\n",
        "The goal of this project is to conduct a plot and protagonist/antagonist analysis of the famous crime novels. For this project, we will analyze five publicly available crime novels/stories by Agatha Christie at the project Gutenberg http://www.gutenberg.org/. The novels chosen are: \n",
        "- The Mysterious Affair at Styles \n",
        "- The Murder on the Links \n",
        "- The Secret Adversary \n",
        "- The Man in the Brown Suit \n",
        "- The Secret of Chimneys \n",
        "\n",
        "\n",
        "Note: Feel free to use any background resource for the understanding of the plot, protagonist and antagonist names, and other details. Look for spoilers, details, etc. Our goal is not to predict the crime, but to computationally analyze the structure of the plot."
      ]
    },
    {
      "cell_type": "markdown",
      "metadata": {
        "id": "rUWekg6N1Rb0"
      },
      "source": [
        "#Data collection\n",
        "\n",
        "##Background research: \n",
        "\n",
        "Location for Plain text UTF-8 files for novels: \n",
        "- The Mysterious Affair at Styles https://www.gutenberg.org/files/863/863-0.txt\n",
        "- The Murder on the Links https://www.gutenberg.org/files/58866/58866-0.txt\n",
        "- The Secret Adversary https://www.gutenberg.org/files/1155/1155-0.txt\n",
        "- The Man in the Brown Suit https://www.gutenberg.org/files/61168/61168-0.txt\n",
        "- The Secret of Chimneys https://www.gutenberg.org/files/65238/65238-0.txt\n",
        "\n",
        "Note: One benefit to getting the text version is that the html version also has page number to clean, not present in text files\n",
        "\n",
        "###Helpful Links\n",
        "\n",
        "https://stackoverflow.com/questions/7243750/download-file-from-web-in-python-3\n",
        "\n",
        "https://docs.python.org/3/howto/urllib2.html\n",
        "\n"
      ]
    },
    {
      "cell_type": "code",
      "metadata": {
        "id": "y3zV4HGP1Us-"
      },
      "source": [
        "# example test run for one file \n",
        "# we will need a data structure that holds the name and links and loop through or sequentially get the data of all the novels.\n",
        "\n",
        "import urllib.request, re\n",
        "url = \"https://www.gutenberg.org/files/863/863-0.txt\" # utf-8 text file link for The Mysterious Affair at Styles \n",
        "\n",
        "response = urllib.request.urlopen(url)\n",
        "data = response.read()      # a `bytes` object\n",
        "text = data.decode('utf-8') # Default encoding is ascii; gutenberg has utf-8 encoded files\n",
        "#text  # uncomment for output if needed\n",
        "# text needs to be cleaned before it can be analyzed \n",
        "\n",
        "# trying out word; we will need both word and sentences\n",
        "#words = re.split('\\s+', text)\n",
        "\n",
        "# trying out tokenization sentences via re\n",
        "# tried, this WIP, as you can see in the output, doesnt get all the sentences\n",
        "sentences = re.split('(?<!\\w\\.\\w.)(?<![A-Z][a-z]\\.)(?<=\\.|\\?)\\s', text)"
      ],
      "execution_count": 10,
      "outputs": []
    },
    {
      "cell_type": "code",
      "metadata": {
        "id": "JDv-TcBQ1MU9"
      },
      "source": [
        ""
      ],
      "execution_count": 1,
      "outputs": []
    },
    {
      "cell_type": "code",
      "metadata": {
        "id": "srz1rKdu-x0P"
      },
      "source": [
        ""
      ],
      "execution_count": 1,
      "outputs": []
    },
    {
      "cell_type": "code",
      "metadata": {
        "id": "FHwNdj3-S5gW"
      },
      "source": [
        "#Author: Luke\n",
        "#Description: exploratory code for carving book file into chapters\n",
        "#Note: looks like it works for Murder on the Links, not tested on other books yet\n",
        "#Note: the upturned quote character \\u201c in chapter title was a nice bug till I remembered left/right handed quotes exist in unicode\n",
        "#copied fetch code from Addi\n",
        "#reverse engineering: virtual function in C++ makes sure derived function called instead of original function when derived pointer passed to function that expects basep pointer\n",
        "#without virtual functions, calling delete on derived class will call base destructor, which fails to delete extra data of derived class, which then leaks memory and can cause state errors\n",
        "#always make destructor virtual \n",
        "def get_index(title):\n",
        "  last_reg=re.compile(r\"\\w+$\")\n",
        "  last_word=re.findall(last_reg,title)[0]\n",
        "  if last_word ==\"Links\":\n",
        "    #\"The Murder on the Links\"\n",
        "    index=1\n",
        "  elif last_word==\"Styles\":\n",
        "    #\"The Mysterious Affair at Styles\"\n",
        "    index=2\n",
        "  elif last_word==\"Adversary\":\n",
        "    #\"The Secret Adversary\"\n",
        "    index=3\n",
        "  elif last_word==\"Suit\":\n",
        "    #\"The Man in the Brown Suit\"\n",
        "    index=4\n",
        "  elif last_word==\"Chimneys\":\n",
        "    #\"The Secret of Chimneys\"\n",
        "    index=5\n",
        "  return index\n",
        "\n",
        "def get_text(index):\n",
        "  if index==1:\n",
        "    #\"The Murder on the Links\"\n",
        "    url = \"https://www.gutenberg.org/files/58866/58866-0.txt\"\n",
        "  elif index==2:\n",
        "    #\"The Mysterious Affair at Styles\"\n",
        "    url=\"https://www.gutenberg.org/files/863/863-0.txt\"\n",
        "  elif index==3:\n",
        "    #\"The Secret Adversary\"\n",
        "    url=\"https://www.gutenberg.org/files/1155/1155-0.txt\"\n",
        "  elif index==4:\n",
        "    #\"The Man in the Brown Suit\"\n",
        "    url=\"https://www.gutenberg.org/files/61168/61168-0.txt\"\n",
        "  elif index==5:\n",
        "    #\"The Secret of Chimneys\"\n",
        "    url=\"https://www.gutenberg.org/files/65238/65238-0.txt\"\n",
        "  response = urllib.request.urlopen(url)\n",
        "  data = response.read()      # a `bytes` object\n",
        "  text = data.decode('utf-8')\n",
        "  return text\n",
        "\n",
        "def get_ch_regex(index):\n",
        "  if index==1:\n",
        "    ch_carve=re.compile(r'\\n\\d\\d?\\s[\\'\\\"\\u201c]?[A-Z].*\\n')\n",
        "  elif index==2:\n",
        "    ch_carve=re.compile(r'CHAPTER\\s[IVX]+\\.\\r\\n.*\\r\\n')\n",
        "  elif index==3:\n",
        "    ch_carve=re.compile(r'\\r\\n\\r\\n\\r\\nCHAPTER.*\\r\\n')\n",
        "  elif index==4:\n",
        "    ch_carve=re.compile(r'CHAPTER\\s\\w+\\r\\n')  \n",
        "  elif index==5:\n",
        "    ch_carve=re.compile(r'\\d\\d?\\r\\n\\r\\n[A-OQ-Z].*\\r\\n')\n",
        "  return ch_carve\n",
        "\n",
        "def trim_contents(ch_contents_dict,index):\n",
        "  last=len(ch_contents_dict)\n",
        "  if index==1:\n",
        "    ch_contents_dict[last]=ch_contents_dict[last].split('\\nEnd of Project Gutenberg')[0]\n",
        "  elif index==2:\n",
        "    ch_contents_dict[last]=ch_contents_dict[last].split('\\nTHE END')[0]\n",
        "  elif index==3:\n",
        "    ch_contents_dict[last-1]=ch_contents_dict[last-1].split('\\nEnd of the Project Gutenberg')[0]\n",
        "  elif index==4:\n",
        "    ch_contents_dict[last-1]=ch_contents_dict[last-1].split('THE END')[0]\n",
        "  elif index==5:\n",
        "    ch_contents_dict[last]=re.split(r\"TRANSCRIBER\",ch_contents_dict[last])[0]\n",
        "  return ch_contents_dict\n",
        "\n",
        "def remove_white(chapter):\n",
        "  regex=r'[\\r\\n\\u200a]'\n",
        "  chapter = re.sub(regex,' ',chapter)\n",
        "  return chapter\n",
        "\n",
        "def sent_carve(chapter):\n",
        "  chapter=re.split(r'[\\.\\?!](?![\\'\\\"\\u2019\\u201a\\u201c\\u275c\\u275f\\u201e\\u201d\\u0022\\u275e]\\s[a-z])(?![\\'\\\"\\u2019\\u201a\\u201c\\u275c\\u275f\\u201e\\u201d\\u0022\\u275e]\\sI said)[\\'\\\"\\u2018\\u2019\\u201c\\u201d\\)\\]]*\\s*(?<!\\w\\.\\w.)(?<![A-Z][a-z][a-z]\\.)(?<![A-Z][a-z]\\.)(?<![A-Z]\\.)\\s+',chapter,flags=re.UNICODE)\n",
        "  chapter={num:contents.lower() for (num,contents) in enumerate(chapter)}\n",
        "  return chapter\n",
        "\n",
        "def ch_carve(title):\n",
        "\n",
        "  index=get_index(title)\n",
        "  text=get_text(index)\n",
        "  ch_regex=get_ch_regex(index)\n",
        "  if index ==3:\n",
        "    text=re.split(\"CHAPTER XXVIII.     AND AFTER\\r\\n\\r\\n\\r\\n\\r\\nPROLOGUE\",text)[1]\n",
        "  if index ==4:\n",
        "    text=re.split(\"PROLOGUE\",text)[1]\n",
        "  ch_titles=re.findall(ch_regex,text)\n",
        "  ch_titles_dict={num+1:remove_white(title.strip()) for (num,title) in enumerate(ch_titles)}\n",
        "  if index==3 or index ==4:\n",
        "    ch_titles_dict.update( {0 :\"PROLOGUE\"} )\n",
        "  chapters=re.split(ch_regex,text)\n",
        "  if index==3 or index==4:\n",
        "    ch_contents_dict = {num:contents for (num,contents) in enumerate(chapters)}  \n",
        "  elif index ==1 or index ==2 or index==5:\n",
        "    chapters=chapters[1:]\n",
        "    ch_contents_dict = {num+1:contents for (num,contents) in enumerate(chapters)}\n",
        "  ch_contents_dict=trim_contents(ch_contents_dict,index)\n",
        "  return {\"title\":title,\"contents\":ch_contents_dict,\"chapters\":ch_titles_dict}\n",
        "\n",
        "def get_corpus():\n",
        "  #tentatively planning to index books from 1 to match chapters\n",
        "  titles=[\"The Mysterious Affair at Styles\",\"The Murder on the Links\",\"The Secret Adversary\",\"The Man in the Brown Suit\",\"The Secret of Chimneys\"]\n",
        "  corpus={ get_index(title):ch_carve(title) for title in titles}\n",
        "  return corpus\n",
        "def clean_corpus(corpus):\n",
        "  for keyb,value in corpus.items():\n",
        "    for  keyc,value in value[\"contents\"].items():\n",
        "      corpus[keyb][\"contents\"][keyc]=sent_carve(remove_white(value))\n",
        "  return corpus"
      ],
      "execution_count": 7,
      "outputs": []
    },
    {
      "cell_type": "code",
      "metadata": {
        "colab": {
          "base_uri": "https://localhost:8080/"
        },
        "id": "lUaxNizp9CDJ",
        "outputId": "6b8ba6f1-9c77-4afb-9bfd-2a2676c26afb"
      },
      "source": [
        "corpus=get_corpus()\n",
        "\n",
        "print(corpus[1][\"title\"],len(corpus[1][\"chapters\"]),len(corpus[1][\"contents\"]))\n",
        "#print(corpus[1][\"contents\"][28])\n",
        "#print(corpus[2][\"contents\"][13])\n",
        "corpus=clean_corpus(corpus)\n",
        "def get_det(index):\n",
        "  if index==1:\n",
        "    det=re.compile(r\"hercule|poirot|arthur|hastings\")\n",
        "  return det\n",
        "\n",
        "def get_perp(index):\n",
        "  if index==1:\n",
        "    perp=re.compile(r\"mademoiselle daubreuil|marthe\")\n",
        "  return perp\n",
        "\n",
        "def get_occur(index,regex):\n",
        "  occur=[]\n",
        "  for ch_index,ch_contents in corpus[1][\"contents\"].items():\n",
        "    for sent_index,sent_contents in ch_contents.items():\n",
        "      matches=re.search(regex,sent_contents)\n",
        "      if matches is not None:\n",
        "        occur.append([ch_index,sent_index,sent_contents])\n",
        "        #print(\"Chapter: \",ch_index, \"Sentence: \", sent_index, \"Contents: \",sent_contents)\n",
        "  return occur\n",
        "def get_co_occur(index, det,perp):\n",
        "  co_occur=[]\n",
        "  for ch_index,ch_contents in corpus[1][\"contents\"].items():\n",
        "    for sent_index,sent_contents in ch_contents.items():\n",
        "      dmatches=re.search(det,sent_contents)\n",
        "      pmatches=re.search(perp,sent_contents)\n",
        "      if dmatches is not None and pmatches is not None:\n",
        "        co_occur.append([ch_index,sent_index,sent_contents])\n",
        "        #print(\"Chapter: \",ch_index, \"Sentence: \", sent_index, \"Contents: \",sent_contents)\n",
        "  return co_occur\n",
        "\n",
        "det=get_det(1)\n",
        "perp=get_perp(1)\n",
        "det_occur=get_occur(1,det)\n",
        "perp_occur=get_occur(1,perp)\n",
        "co=get_co_occur(1,det,perp)\n",
        "print(det_occur)\n",
        "print(perp_occur)\n",
        "print(co)"
      ],
      "execution_count": 33,
      "outputs": [
        {
          "output_type": "stream",
          "name": "stdout",
          "text": [
            "The Murder on the Links 28 28\n",
            "[[1, 4, 'i had been transacting some business in  paris and was returning by the morning service to london where i was  still sharing rooms with my old friend, the belgian ex-detective,  hercule poirot'], [1, 122, '“that was poirot’s first big case'], [2, 1, 'my friend poirot, exact to the minute as usual, was just tapping the  shell of his second egg'], [2, 8, 'elsewhere, i have described hercule poirot'], [2, 17, '_the little  grey cells___—remember always the little grey cells, _mon ami!___”    i slipped into my seat, and remarked idly, in answer to poirot’s  greeting, that an hour’s sea passage from calais to dover could hardly  be dignified by the epithet “terrible'], [2, 18, 'poirot waved his egg-spoon in vigorous refutation of my remark'], [2, 37, 'poirot shook his head seriously'], [2, 53, 'poirot threw me a withering glance'], [2, 54, '“what an intelligence has my friend hastings!” he exclaimed  sarcastically'], [2, 58, 'poirot shook his head with a dissatisfied air'], [2, 65, '“cheer up, poirot, the luck will change'], [2, 68, 'poirot smiled, and taking up the neat little letter opener with which  he opened his correspondence he slit the tops of the several envelopes  that lay by his plate'], [2, 82, 'poirot  continued to read his correspondence placidly'], [2, 88, 'poirot was reading  attentively'], [2, 106, '“yes, indeed,” said poirot meditatively'], [2, 108, 'poirot nodded'], [2, 130, '“dear me, poirot,” i said, my excitement rising, “i smell some goodly  shekels in this'], [2, 136, '“in any case,” continued poirot, “it is not the money which attracts me  here'], [2, 160, 'poirot nodded'], [2, 179, 'a woman cannot  wait—always remember that, hastings'], [2, 181, 'before starting poirot had despatched a telegram to mr. renauld giving  the time of our arrival at calais'], [2, 182, '“i’m surprised you haven’t invested  in a few bottles of some sea sick remedy, poirot,” i observed  maliciously, as i recalled our conversation at breakfast'], [2, 191, '“he did not know the methods of hercule poirot'], [2, 195, '“it’s all very well, poirot, but i think you are falling into the habit  of despising certain things too much'], [2, 197, '“and has, without doubt, hanged more than one innocent man,” remarked  poirot dryly'], [2, 202, 'but the others, the hercules  poirots, they are above the experts'], [2, 210, '“but yet,” poirot wagged his finger at me'], [2, 213, 'poirot nodded in a satisfied  manner'], [2, 215, 'yet you demand  that i, hercule poirot, should make myself ridiculous by lying down  (possibly on damp grass) to study hypothetical footprints, and should  scoop up cigarette ash when i do not know one kind from the other'], [2, 233, 'and poirot, having effectually silenced, if not convinced me, leaned  back with a satisfied air'], [2, 235, 'the  weather was gorgeous, and the sea as smooth as the proverbial  mill-pond, so i was hardly surprised to hear that laverguier’s method  had once more justified itself when a smiling poirot joined me on  disembarking at calais'], [2, 236, 'a disappointment was in store for us, as no car  had been sent to meet us, but poirot put this down to his telegram  having been delayed in transit'], [2, 250, 'are you not the one and  only hercule poirot'], [2, 253, '“you are what the scotch people call ‘fey,’ hastings'], [2, 281, '“by jove, poirot,” i exclaimed, “did you see that young goddess'], [2, 282, 'poirot raised his eyebrows'], [2, 293, '“i saw only a girl with anxious eyes,” said poirot gravely'], [2, 301, '“yes, monsieur, but—”    poirot leaned forward'], [3, 0, '  in a moment poirot had leapt from the car, his eyes blazing with  excitement'], [3, 10, 'poirot reflected for a minute'], [3, 13, 'poirot took out a card, and scribbled a few words on it'], [3, 16, 'in a  few seconds a comrade joined him and was handed poirot’s message'], [3, 19, '“my dear m. poirot,” cried the new-comer, “i am delighted to see you'], [3, 21, 'poirot’s face had lighted up'], [3, 25, '“this is an  english friend of mine, captain hastings—m. lucien bex'], [3, 26, 'the commissary and i bowed to each other ceremoniously, then m. bex  turned once more to poirot'], [3, 50, '“when was the crime committed?” asked poirot'], [3, 68, 'poirot handed it to him, and the magistrate read it'], [3, 72, 'we  are much indebted to you, m. poirot'], [3, 92, 'm. poirot,  the body was lying, face downwards, _in an open grave___'], [3, 102, 'poirot nodded, and the commissary resumed:    “madame renauld was hastily freed from the cords that bound her by the  horrified servants'], [3, 118, 'poirot bowed his head'], [3, 280, 'a perplexed frown was beginning to gather between poirot’s eyes'], [3, 285, 'poirot’s frown deepened'], [4, 9, '“we have forgotten to inform m. poirot of  that'], [4, 11, '“this letter, m. poirot, we  found in the pocket of the dead man’s overcoat'], [4, 12, 'poirot took it and unfolded it'], [4, 29, 'poirot handed it back with a grave face'], [4, 36, 'm. poirot, at first sight the  case seemed simplicity itself'], [4, 39, 'poirot nodded'], [4, 48, 'poirot shook his head'], [4, 57, '“excellent,” said poirot appreciatively'], [4, 59, '“you have found no other letters from this bella amongst m. renauld’s  effects?” asked poirot'], [4, 65, 'poirot ran through the document'], [4, 74, '“perhaps,” began bex, “you did not notice—”    “the date?” twinkled poirot'], [4, 84, 'poirot shrugged his shoulders'], [4, 90, 'now, m. poirot, you would without doubt like to  visit the scene of the crime'], [4, 95, 'he opened the door, and bowed ceremoniously to poirot to precede him'], [4, 96, 'poirot, with equal politeness, drew back and bowed to the commissary'], [4, 100, '“that room there, it is the study, _hein?___” asked poirot suddenly,  nodding towards the door opposite'], [4, 108, 'poirot stood a moment talking in the room, then he stepped forward,  passed his hand lightly over the backs of the leather chairs, picked up  a magazine from the table, and drew a finger gingerly over the surface  of the oak sideboard'], [4, 121, '“you recognize it—eh, hastings'], [4, 128, '“the former, i fancy,” said poirot, “for, if i am not mistaken, the  handwriting is that of m. renauld'], [4, 131, 'poirot laughed'], [4, 133, 'my friend hastings  here will tell you that anything in the least crooked is a torment to  me'], [4, 154, '“courage!” cried poirot, clapping him on the back'], [4, 159, 'as we turned to leave the room, poirot remarked casually: “it was here  that m. renauld received his guest last night, eh'], [4, 175, '“one can see by his face that he was stabbed in the back,” remarked  poirot'], [4, 179, 'poirot  examined it narrowly'], [4, 186, 'poirot tested the  discoloured point gingerly with his finger tip'], [4, 191, '“of course he did,” said poirot contemptuously'], [4, 212, 'poirot lingered a moment, looking back towards the body'], [5, 1, 'poirot  went up in a zigzag fashion which puzzled me, until he whispered with a  grimace:    “no wonder the servants heard m. renauld mounting the stairs; not a  board of them but creaks fit to wake the dead'], [5, 57, '“_pardon___,” interrupted poirot, “but is there then no other egress  from the dressing-room'], [5, 88, '“yes, this gentleman—m. hercule poirot'], [5, 89, 'poirot bowed'], [5, 105, 'poirot rose from his seat, scrutinized the clock carefully, and nodded,  satisfied'], [5, 114, 'but poirot, deft as ever, took the broken trinket from the startled  commissary, and held it to his ear'], [5, 120, '“no,” said poirot gently, “it is a few minutes after five'], [5, 138, 'asked poirot'], [5, 140, '“of course,” agreed poirot, looking somewhat crestfallen'], [5, 193, 'it was at this moment, when we were all stunned by the mention of that  word, that poirot approached mrs. renauld'], [5, 227, 'instantly poirot was beside her, he raised the lid of her eye, felt her  pulse'], [6, 5, 'now, m. poirot, shall we visit the  place where the crime was committed'], [6, 8, 'poirot had  looked up at the staircase in passing, and shook his head in a  dissatisfied manner'], [6, 13, 'but poirot continued to shake his head as though not fully accepting  the explanation'], [6, 19, 'poirot pointed to a window on the first floor'], [6, 28, 'poirot went close to the bed and studied it attentively'], [6, 31, 'poirot nodded, as though convinced, and we turned away, but he suddenly  darted off and began examining the other flower-bed'], [6, 36, '“my dear m. poirot, those are without doubt the footprints of the  gardener’s large hobnailed boots'], [6, 38, '“true,” said poirot, evidently crestfallen'], [6, 41, 'then, to my utter astonishment, poirot pronounced these words:    “i do not agree with you'], [6, 47, 'i can investigate this matter of the footprints later,”  said poirot cheerfully'], [6, 75, 'bex introduced us, presenting poirot as a colleague'], [6, 77, '“i know you by name, m. poirot,” he said'], [6, 80, '“crimes, though, are very much the same,” remarked poirot gently'], [6, 96, '“the external sign,” said poirot'], [6, 100, 'a very faint smile came to poirot’s lips'], [6, 114, 'but poirot was now apparently interested in something else, a short  discoloured piece of lead-piping which lay beside the spade'], [6, 120, '“i, on the contrary, find it very interesting,” said poirot sweetly'], [6, 123, 'meanwhile poirot, as though struck by a sudden idea, stepped back over  the boundary, and tried the door of the little shed'], [6, 133, 'i could not help  feeling that, so far, poirot had not greatly distinguished himself, and  it vexed me'], [6, 137, '“no, m. poirot, it is an affair of the golf course'], [6, 140, 'poirot turned to me'], [6, 143, '“you do not play the golf, m. poirot?” inquired bex'], [6, 153, 'i could not refrain from a laugh at the way the game appeared to  poirot, and my little friend smiled at me affectionately, bearing no  malice'], [6, 158, 'poirot nodded thoughtfully'], [6, 164, '“yes,” said poirot doubtfully'], [6, 168, '“yes,” said poirot, in a somewhat dissatisfied voice'], [7, 1, 'giraud himself had been  obviously delighted when poirot declared that he had seen all he  wanted'], [7, 3, 'poirot guessed my thoughts, for as soon as we  were alone he remarked ironically:    “at last you have seen the detective you admire—the human foxhound'], [7, 9, '“nonsense, poirot'], [7, 23, 'poirot brushed a speck of dust from his sleeve with a dissatisfied air'], [7, 43, 'poirot called to him, and he set down the barrow and came  hobbling towards us'], [7, 46, 'my faith in poirot revived a little'], [7, 48, '“exactly,” said poirot'], [7, 68, 'auguste was charmed with poirot’s interest, and was quite inclined to  be garrulous'], [7, 69, '“that is a splendid specimen there,” said poirot, pointing'], [7, 72, 'the old fellow stepped into the bed, and  carefully took a slip from the plant poirot had admired'], [7, 73, 'poirot was profuse in his thanks, and auguste departed to his barrow'], [7, 74, '“you see?” said poirot with a smile, as he bent over the bed to examine  the indentation of the gardener’s hobnailed boot'], [7, 82, '_eh bien___, i agree with you,” said poirot'], [7, 88, 'but to my surprise poirot shook his head'], [7, 94, '“ah, m. poirot, we were coming to look for you,” said the magistrate'], [7, 101, '“is m. giraud not going to accompany us?” asked poirot'], [7, 105, 'poirot walked with the examining magistrate, and the commissary  and i followed a few paces behind'], [7, 217, 'poirot seemed lost in thought'], [7, 225, 'with mutual civilities, we parted company, poirot and i going towards  merlinville, and the others returning to the villa geneviève'], [7, 226, '“the french police system is very marvellous,” said poirot, looking  after them'], [7, 238, '“yes, mademoiselle,” said poirot gently'], [7, 242, 'poirot made a grimace'], [7, 249, 'poirot eyed her keenly'], [7, 254, 'all at once poirot’s words  about her earlier in the day recurred to me'], [7, 258, '“i see,” said poirot'], [7, 270, '“_mon ami___,” said poirot, in his gentle ironical voice, “is it that  we are to remain planted here all night—just because you have seen a  beautiful young woman, and your head is in a whirl'], [7, 272, '“but she _is___ beautiful, poirot'], [7, 274, 'poirot groaned'], [7, 276, '“poirot,” i said, “do you remember after the styles case when—”    “when you were in love with two charming women at once, and neither of  them were for you'], [7, 279, 'but to my surprise poirot shook his head very earnestly'], [7, 282, 'take it from papa poirot'], [7, 285, '“some of the greatest criminals i have known had the faces of angels,”  remarked poirot cheerfully'], [7, 287, '“poirot,” i cried, horrified, “you cannot mean that you suspect an  innocent child like this'], [7, 294, '“my friend,” said poirot, “as usual, you see nothing at all'], [7, 299, 'i, hercule poirot, know it'], [8, 4, 'poirot inquired after the health of mrs. renauld'], [8, 10, 'poirot nodded sympathetically'], [8, 22, '“indeed,” said poirot'], [8, 44, '“_quelle idée___,” murmured poirot, as the girl disappeared'], [8, 53, '“the human foxhound,” murmured poirot, as he leaned back in a  comfortable chair, and closed his eyes'], [8, 193, 'i felt a thrill of satisfaction as i realized that in marchaud’s eyes,  at least, i ranked equally in importance with poirot'], [9, 1, 'poirot and the commissary, who were both  present, greeted me respectively with a smile and a polite bow'], [9, 19, 'remembering poirot’s unaccountable  insistence on the footprints in the flower beds, i scrutinized him  narrowly as he gave his evidence'], [9, 68, 'the detective wheeled round on  poirot'], [9, 72, 'but poirot remained unmoved'], [9, 76, 'poirot spread out his hands'], [9, 85, '“and the other match?” asked poirot'], [9, 92, '“i see you love a joke, m. poirot'], [9, 95, 'poirot bowed'], [9, 101, '“you do not think it odd,” asked poirot, “that these strangers should  come unprovided with a weapon, with gloves, with a spade, and that they  should so conveniently find all these things'], [9, 136, '“tell me one thing, m. giraud,” said poirot suddenly'], [9, 144, 'then, to my surprise, poirot uttered almost the same words as he had  uttered to bex the previous evening:    “_i do not agree with you.___ the door being left open was the result  of either design or necessity, and any theory that does not admit that  fact is bound to prove vain'], [9, 159, '“you are wrong,” said poirot quietly'], [9, 170, 'poirot suddenly  assumed his lecturing manner, and addressed us collectively'], [9, 173, '(japp would tell you the same, hastings'], [9, 184, 'you may know all about cigarettes and match ends,  m. giraud, but i, hercule poirot, know the mind of man'], [9, 187, '“for your guidance,” continued poirot, “i will also advise you of one  fact which might fail to be brought to your notice'], [9, 194, '“all the same, two hours is a good deal,” said poirot softly'], [9, 201, '“no,” said poirot, straightening a little pile of books on a table'], [10, 17, 'this gentleman  is m. hercule poirot'], [10, 19, 'a friend of m. poirot’s, captain  hastings'], [10, 20, 'stonor looked at poirot with some interest'], [10, 153, 'poirot interjected a remark:    “m. stonor, the english chauffeur, masters, had he been long with m'], [10, 161, 'poirot seemed somewhat crest-fallen'], [11, 95, 'but  another voice spoke, imperturbable and calm, the voice of hercule  poirot'], [11, 131, 'my father reminded  me that i was entirely dependent on him, and it must have been in  answer to that that i made the remark about doing as i pleased after  his death—”    poirot interrupted with a quick question'], [11, 204, 'poirot had risen and was adjusting a pair of candlesticks  that struck his trained eye as being a shade askew'], [11, 238, '“but it is a  grave fault you have committed there, captain hastings'], [11, 277, 'poirot turned to bex'], [11, 281, 'poirot looked at him'], [11, 287, '“_ils sont mal renseignés, les accomplices!___” muttered poirot, but he  said no more'], [11, 300, 'poirot tugged out that large turnip of a watch of his, and observed the  time'], [11, 307, 'i was going down the steps when poirot’s voice  arrested me:    “one little moment, my friend'], [11, 310, 'then, with a little satisfied grunt, poirot returned the measure to his  pocket, and followed me out into the open air'], [12, 4, 'poirot’s incurable habit of making a mystery out of  nothing never failed to irritate me'], [12, 18, '“you think profoundly, my friend,” remarked poirot, breaking in upon my  reflections'], [12, 22, '“you are quite right, hastings'], [12, 36, '_the wrist  watch, hastings, the wrist watch!___”    again that wrist watch'], [12, 37, 'poirot was eyeing me curiously'], [12, 43, '“do not enrage yourself, my friend,” said poirot with a smile'], [12, 48, 'i assured poirot that he could rely upon my discretion'], [12, 54, 'but  i, hercule poirot, say that madame renauld lied'], [12, 71, '“perfect, hastings'], [12, 77, '“you think so, hastings'], [12, 80, 'poirot restrained my ardour with a light touch upon the arm'], [12, 93, 'oh, be assured, hastings, the danger that threatened him was not  in santiago, it was near at hand, in france'], [12, 97, 'a light of pure enjoyment lit up poirot’s face'], [12, 113, 'poirot shrugged his shoulders'], [12, 117, 'a remarkable woman that,  hastings'], [12, 139, 'tell  me, hastings, what is your explanation of the open door'], [12, 142, 'poirot shook his head, and sighed'], [12, 152, '“an admirable theory, hastings, but for two facts which you have  characteristically overlooked'], [12, 158, '“no,” continued poirot, “we must look elsewhere for a solution of the  open door mystery'], [12, 164, '“no—_and there ought to have been.___ listen, hastings'], [12, 169, '“where they got the spade and the gardening gloves,” said poirot  impatiently'], [12, 177, 'i mused, thinking over the new field of conjecture that poirot’s  deductions had opened up to me'], [12, 189, '“no,” said poirot cheerfully'], [12, 204, 'even i, hercule poirot, might fail to catch such a one'], [12, 207, '“poirot'], [12, 211, 'from the quietness with which poirot received my remark, i could see  that the idea had already occurred to him'], [12, 216, 'poirot maintained a strictly  non-committal attitude, repeating:    “it may be—yes, it may be'], [13, 1, 'i understood well enough that  poirot did not wish to discuss the tragedy where we could so easily be  overheard'], [13, 3, 'for a while we ate in silence, and then poirot observed  maliciously:    “_eh bien!___ and your indiscretions'], [13, 8, 'but i was no match for poirot'], [13, 16, '“don’t be an ass, poirot'], [13, 18, 'decidedly you have the heart of a turk,  hastings'], [13, 26, 'poirot nodded thoughtfully'], [13, 42, 'i answered poirot lightly enough'], [13, 52, '“ah, my friend, have faith in papa poirot'], [13, 55, 'poirot sighed and shook his head'], [13, 64, 'surely i had never mentioned  any hotel to poirot'], [13, 69, 'poirot smoked one of his tiny  cigarettes, and then drew his watch from his pocket'], [13, 101, 'poirot smiled'], [13, 104, '“what do you mean by that, poirot'], [13, 121, 'i felt rather at a loose end after poirot had left me'], [13, 165, 'poirot'], [13, 204, 'and then i saw the look in her eyes, the look poirot had spoken of, as  she murmured, so that i almost guessed at the words'], [13, 222, '“m. poirot has gone to paris,” i replied coldly'], [13, 255, 'another murder—and poirot away'], [14, 49, 'it was a woman’s long black hair—similar to the one poirot had taken  from the arm-chair in the library'], [15, 6, 'it was from poirot, and  announced his return by the train arriving at merlinville at 12:28'], [15, 9, 'evidently, i reflected, poirot had had no difficulty in finding what he  wanted in paris'], [15, 35, 'hence her anxiety, and her eager questioning of poirot to know whether  any one were suspected'], [15, 36, 'my cogitations were interrupted by the arrival of the train, and in  another moment i was greeting poirot'], [15, 54, '“my dear poirot—never mind all that'], [15, 85, 'in all my knowledge of poirot he  had never done anything so amazing as this'], [15, 87, '“poirot,” i cried, “you’re pulling my leg'], [15, 102, 'poirot listened attentively'], [15, 113, '“you speak as usual, without reflection, hastings'], [15, 120, 'a hint of the lecturer crept into poirot’s tone'], [15, 127, 'we found all our friends there and, after an  interchange of polite amenities, poirot began his task'], [15, 129, 'poirot bestowed  but a cursory glance on the surroundings'], [15, 131, 'a disdainful smile rose  to giraud’s lips, and, as though noting it, poirot flung the bundle  down again'], [15, 134, 'poirot knelt down by the body'], [15, 142, 'suddenly poirot stiffened'], [15, 151, 'poirot again shot a question at giraud'], [15, 154, 'poirot proceeded'], [15, 157, 'poirot examined it, then he studied the wound closely'], [15, 168, 'and, stilling the clamour of voices that arose  with a wave of his hand, poirot turned to giraud and added, “m. giraud  agrees with me, do you not, monsieur'], [15, 177, '“no, m. le juge,” said poirot'], [15, 180, '“the impression it nearly did create,” returned poirot oracularly'], [15, 186, 'this statement of poirot’s again aroused considerable excitement'], [15, 191, '“m. poirot, i am inclined to believe that you are correct in your  assertion'], [15, 194, 'poirot was the hero of the hour'], [15, 196, 'poirot responded gracefully, and then excused himself  on the pretext that neither he nor i had yet lunched, and that he  wished to repair the ravages of the journey'], [15, 198, '“one more thing, m. poirot,” he said, in his suave mocking voice'], [15, 201, '“ah!” said poirot'], [15, 206, '“he was insistent, the good giraud,” said poirot thoughtfully, as we  walked towards the hotel'], [15, 209, 'we lunched heartily, but i found poirot somewhat distrait and  inattentive'], [15, 222, 'poirot shook his head with a smile'], [17, 5, 'i admit that i am impulsive, and poirot deplores my custom of  jumping to conclusions, but i think i had some excuse in this instance'], [17, 6, 'the remarkable way in which this discovery justified poirot’s point of  view struck me at once'], [17, 7, '“poirot,” i said, “i congratulate you'], [17, 14, 'poirot lit one of his little cigarettes with his usual precision'], [17, 24, 'poirot walked to the end of the room, absentmindedly straightened a  chair, and then said thoughtfully'], [17, 30, 'poirot sat down again, and regarded me, his thoughtful air more marked  than ever'], [17, 31, '“so it is definitely your opinion, hastings, that madame daubreuil  murdered m. renauld'], [17, 39, 'poirot nodded his head at me'], [17, 47, '“true,” agreed poirot placidly'], [17, 54, 'poirot shook his head'], [17, 72, '“why, poirot, it was you who remarked on that'], [17, 74, 'poirot smiled a little'], [17, 83, '“ta-ta-ta,” said poirot impatiently'], [17, 90, '“poirot,” i cried, “what more do you know'], [17, 94, 'reason—not like giraud—but  like hercule poirot'], [17, 105, '“but, poirot, i thought you said the man in the shed had died a natural  death'], [17, 107, 'poirot made his favourite ejaculation of impatience'], [17, 117, 'that changed the course of my ideas, and i asked poirot if he knew that  jack renauld had been in merlinville on the night of the crime'], [17, 120, '“and without doubt we are not original in the idea, hastings'], [17, 124, 'poirot looked inquiringly at me, but i said no more'], [17, 128, 'poirot greeted him in a business-like manner'], [17, 133, '“exactly, m. poirot,” said the lad'], [17, 142, '“i and my friend, you comprehend, have business elsewhere,” explained  poirot'], [17, 146, 'poirot’s voice stopped him'], [17, 153, 'poirot looked at him, his eyes narrowed, cat-like, until they only  showed a gleam of green'], [17, 166, 'poirot’s eyes never left the other’s face'], [17, 176, 'poirot bowed his head as a sign that he accepted the explanation'], [17, 178, 'in a trice poirot jumped  to his feet'], [17, 179, '“quick, hastings'], [17, 182, 'but when poirot saw that he took the  turning to the station, he checked himself'], [17, 189, '“your penetration is amazing, hastings'], [18, 0, '  “by the way, poirot,” i said, as we walked along the hot white road,  “i’ve got a bone to pick with you'], [18, 2, 'poirot shot a quick sidelong glance at me'], [18, 6, 'i rather feared poirot’s banter, but to my relief, and somewhat to my  surprise, he only shook his head with a rather unusual gravity'], [18, 13, 'poirot seemed to be about to say something further, but checked  himself'], [18, 14, 'arrived at the villa, poirot led the way up to the shed where the  second body had been discovered'], [18, 26, '“certainly, monsieur poirot'], [18, 53, 'poirot, too, watched her intently'], [18, 57, '“it was unwise to have tried to conceal the fact,” ventured poirot'], [18, 63, '“the facts will tell against him,” said poirot'], [18, 70, '“mademoiselle,” said poirot observing her keenly, “is there not  something that you are keeping back that you could tell us'], [18, 88, 'poirot uttered an exclamation'], [18, 92, 'but tell me, monsieur poirot, is it not  possible that this tramp might have attacked and killed m. renauld, and  taken his clothes and money'], [18, 93, '“it is an idea, mademoiselle,” said poirot slowly'], [18, 99, '“come,” said poirot, and taking my arm, turned in the direction of the  villa'], [18, 103, '“it is a curious tale,” said poirot, “but i believe it to be the  absolute truth'], [18, 111, 'now, hastings, what  was jack renauld doing here on that eventful evening, and if he did not  see mademoiselle marthe whom did he see'], [18, 112, '“surely, poirot,” i cried, aghast, “you cannot believe that a boy like  that would murder his own father'], [18, 113, '“_mon ami___,” said poirot, “you continue to be of a sentimentality  unbelievable'], [18, 121, 'poirot shrugged his shoulders'], [18, 125, '“ah,” said poirot, smiling broadly'], [18, 131, '“no,” said poirot with a curious smile'], [18, 134, '“perhaps,” said poirot, regarding me quizzically'], [18, 146, 'neatly and methodically, poirot opened each drawer in turn, examined  the contents, and returned them exactly to their places'], [18, 148, 'poirot waded on through  collars, pajamas and socks'], [18, 151, '“poirot'], [18, 155, '“_sacré tonnerre!___” growled poirot'], [18, 160, 'suddenly with a cry of triumph poirot pounced on  something, a small square cardboard, evidently a photograph'], [18, 163, '“good afternoon, m. giraud,” said poirot'], [18, 168, 'poirot wheeled to confront the boy who leaned limply against the door,  his face ashy pale'], [19, 2, 'i had expected a ringing proclamation of  his innocence when poirot challenged him'], [19, 4, 'but poirot had turned to giraud'], [19, 11, '“it would not surprise me,” replied poirot, with a soupçon of malice'], [19, 16, '“now, m. poirot,” said giraud laying his hat on the table, and speaking  with the utmost sarcasm, “i will treat you to a little lecture on  detective work'], [19, 18, '“_bien!___” said poirot, composing himself to listen'], [19, 25, '“very creditable so far, my dear giraud,” murmured poirot'], [19, 36, 'captain hastings here  can fix the time'], [19, 39, 'poirot interrupted:    “you are wrong'], [19, 46, 'without doubt, he saw captain hastings and his companion leave  the shed, slipped in himself and took the dagger, stabbed his  accomplice in the shed—”    “who was already dead'], [19, 53, '“but it could not deceive m. giraud,” murmured poirot'], [19, 63, 'poirot regarded him steadily'], [19, 74, 'i saw a quick flash of green in poirot’s eyes as he rose to his feet'], [19, 80, 'poirot moved towards the door'], [19, 84, '“the piece of lead piping,” said poirot, and left the room'], [19, 96, 'in a minute  poirot stood up again'], [19, 101, 'denise and françoise had run to their mistress, and leaving her in  their charge poirot left the house'], [19, 105, 'poirot did not answer at once, but after a long wait he said gravely:    “i do not know, hastings'], [19, 113, 'this was what i called one of poirot’s irritating answers'], [19, 118, 'we established ourselves on the grassy knoll as poirot had suggested,  looking out to sea'], [19, 120, 'the sea was of the palest blue, and the  halcyon calm reminded me of the day we had arrived at merlinville, my  own good spirits, and poirot’s suggestion that i was “fey'], [19, 123, '“think, my friend,” said poirot’s voice encouragingly'], [19, 129, 'and reluctantly it seemed to me that the only clear and  possible solution was that of giraud—which poirot despised'], [19, 133, 'poirot had declared the beroldy case to be all important'], [19, 141, '“poirot,” i said, “it seems to me we have been strangely remiss'], [19, 146, '“and who is that?” inquired poirot, with twinkling eyes'], [20, 0, '  the next moment poirot embraced me warmly'], [20, 10, '“_aucunement___,” agreed poirot'], [20, 20, 'the sentimentality,” warned poirot'], [20, 35, 'there, poirot, what do you think of that'], [20, 37, 'poirot looked at me thoughtfully'], [20, 50, '“you are wrong, hastings'], [20, 56, '“my theory is the truth,” said poirot quietly'], [20, 63, 'poirot sat very upright and began, wagging his forefinger emphatically  to emphasize his points'], [20, 83, 'poirot paused, cleared his throat, and signed to me to write'], [20, 88, '“letter written to m. hercule poirot, imploring assistance'], [20, 93, '…’ ”    poirot paused'], [20, 94, '“there, hastings, take each of those facts one by one, consider them  carefully by themselves and in relation to the whole, and see if you do  not get new light on the matter'], [20, 103, '“none whatever, i grant you, hastings'], [20, 105, '“the letter, poirot'], [20, 109, '“why it was found in his pocket and—and—”    “and that is all!” cut in poirot'], [20, 119, '“i see,” i said slowly, as the meaning of poirot’s remarks bore in upon  me'], [20, 122, 'poirot nodded'], [20, 145, 'and if you do not see that, you see  nothing, hastings'], [20, 151, 'a faint smile crossed poirot’s lips'], [20, 157, 'poirot shook his head'], [20, 189, '“my dear poirot, i can’t see anything glaring about it'], [20, 191, 'poirot looked at me sadly, and shook his head'], [20, 195, 'you really are the most irritating of  fellows, poirot'], [20, 212, '“georges conneau,” i said doubtfully, eyeing poirot warily'], [20, 234, 'poirot nodded'], [20, 247, '“_eh bien, mon ami___,” said poirot placidly, “that is just what he did  do'], [21, 0, '  in a measured voice, poirot began his exposition'], [21, 5, '“but no, it is all most simple really,” said poirot kindly'], [21, 62, '“and then,” said poirot gravely, “the justice that he has so long  eluded overtakes him'], [21, 64, '… now,  hastings, you understand what i mean when i talk of _two___ crimes'], [21, 66, 'he misjudged  hercule poirot'], [21, 72, '“you’re marvellous, poirot,” i said, with admiration'], [21, 77, '“ah, then you no longer despise poor old papa poirot'], [21, 82, '“that poor giraud,” said poirot, trying unsuccessfully to look modest'], [21, 87, '“to tell you the truth, poirot,” i said slowly, “even now i don’t quite  see—whose hair was it'], [21, 100, 'but i, hercule poirot, whom he  despises, will be the little pin that pricks the big balloon—_comme  ça!___” and he made an expressive gesture'], [21, 104, 'voilà une femme___, hastings'], [21, 123, 'poirot lost himself in contemplation'], [21, 124, '“one thing more, poirot, what about the piece of lead piping'], [21, 134, '“you see, hastings, we must now start again'], [21, 152, 'for answer, poirot consulted his turnip-faced watch, and then asked:    “what time is the afternoon boat from calais'], [21, 161, 'with a rather peculiar smile upon his face, poirot replied:    “miss bella duveen'], [22, 2, 'at the same time, i stole a quick glance at poirot'], [22, 10, 'in the bustle of departure, i had no time for thinking, but once on  board the boat, secure from poirot’s observation (he, as usual, was  “practising the method most excellent of laverguier”) i pulled myself  together, and attacked the facts dispassionately'], [22, 11, 'how much did poirot  know'], [22, 36, 'was that what poirot  was after'], [22, 46, 'i disliked  intensely being associated with poirot in hunting this girl down, but i  could not see any way of avoiding it, without revealing everything to  him, and this, for some reason, i was loath to do'], [22, 47, 'poirot reappeared brisk and smiling at dover, and our journey to london  was uneventful'], [22, 49, 'but poirot had other plans'], [22, 59, 'he greeted poirot with every  evidence of warmth, and professed himself ready to be of service to us  in any way'], [22, 86, 'poirot made no inquiries at  the theatre, but contented himself with booking stalls for the variety  performance that evening'], [22, 102, 'i suggested leaving to poirot'], [22, 108, 'i heard the door open, and turned my  head, thinking it was poirot'], [22, 120, 'and in that moment i  understood everything—understood why poirot was seeking her, and what  she feared, and understood at last my own heart'], [22, 199, 'poirot was standing  there looking at us'], [22, 207, 'i held poirot in  a grip of iron'], [22, 216, 'keeping a suspicious eye upon him, for i paid poirot the compliment of  knowing that i was no match for him in astuteness, i relaxed my grip,  and he sank into an arm-chair, feeling his arms tenderly'], [22, 217, '“it is that you have the strength of a bull when you are roused,  hastings'], [22, 221, 'so poirot had known all along'], [22, 226, '_eh  bien!___ it comes to this—are you going to work with me or against me,  hastings'], [22, 232, '“poirot,” i said, “i’m sorry'], [22, 236, 'poirot nodded his head several times'], [22, 247, '“nothing that you could tell me would be any surprise to me, poirot'], [22, 253, 'poirot looked at me thoughtfully'], [22, 256, 'poirot rose and bowed'], [22, 260, 'it defeats even hercule  poirot'], [23, 6, 'no, i was still satisfied  with my idea—had not even poirot admitted that it defeated him'], [23, 11, 'poirot would not take defeat lying  down'], [23, 14, 'poirot’s good temper was imperturbable, yet i thought i  detected a film of reserve in his manner which was new'], [23, 16, 'a  malicious gleam shot through poirot’s eyes'], [23, 20, '“is that really so, poirot'], [23, 21, '“you can take it from me, hastings'], [23, 30, 'she would know the risk she ran of a message being  intercepted by poirot, thus setting him on her track once more'], [23, 32, 'but, in the meantime, what was poirot doing'], [23, 36, 'i had learned, with poirot, that the less dangerous he  looked, the more dangerous he was'], [23, 39, '“you are puzzled, hastings'], [23, 53, 'poirot’s perfect calm awakened a thousand apprehensions'], [23, 54, '“i suppose, poirot,” i said rather diffidently, “i mustn’t ask what  your plans are'], [23, 59, '“_we?___”    “precisely—‘_we!___’ you know very well that you cannot afford to let  papa poirot out of your sight'], [23, 67, 'at all costs i must keep near poirot'], [23, 68, 'poirot observed me attentively as these reflections passed through my  mind, and gave a nod of satisfaction'], [23, 125, 'but i  pinned my faith to poirot'], [24, 1, 'poirot lost  no time in visiting m. hautet'], [24, 5, '“i was told that you had returned to england, m. poirot'], [24, 10, 'poirot shrugged his shoulders'], [24, 20, 'but poirot was not to be drawn'], [24, 43, 'i have here a letter for you, m. poirot'], [24, 46, 'at last he found the  missive, and handed it to poirot'], [24, 49, 'poirot studied the letter curiously'], [24, 51, 'poirot  did not open it'], [24, 63, 'i am sorry to have to record that poirot’s first remark  to me as we traversed the corridor was:    “a famous old imbecile, that one'], [24, 67, 'm. poirot,” he cried airily'], [24, 69, '“as you see,” said poirot'], [24, 72, 'poirot spoke in a subdued tone'], [24, 77, '“so extraordinary that it gives one to think, does it not?” suggested  poirot mildly'], [24, 80, '“well, good day, m. poirot'], [24, 84, 'giraud stared for a moment—then burst out laughing, tapping his head  significantly with the brief remark: “_toqué!___”    poirot drew himself up'], [24, 90, 'giraud stared helplessly at him, and murmured again:    “_toqué!___”    “come now,” urged poirot, “is it agreed'], [24, 96, '“i am enchanted to hear it,” said poirot'], [24, 98, 'come, hastings'], [24, 101, 'poirot had displayed his intentions only too plainly'], [24, 103, 'this unlucky encounter with giraud had roused poirot and put him on his  mettle'], [24, 106, '“and what are you doing here, m. stonor?” inquired poirot'], [24, 121, 'he turned to  poirot'], [24, 123, '“i think that things look very black against him,” said poirot quietly'], [24, 135, '“for one thing, the dagger—” i  paused, uncertain as to how much poirot would wish me to reveal'], [24, 142, 'poirot’s hand arrested his departure'], [24, 146, '“that point about the dagger is good, poirot,” i urged as we went  upstairs'], [24, 155, '_eh bien___,  hastings, they made to his order not _two___ paper-knives, but  _three___'], [24, 158, 'no,  hastings, i fear the dagger question will not help us to save him from  the guillotine'], [24, 160, 'poirot shook his head uncertainly'], [24, 162, 'poirot glanced at me dryly'], [24, 170, '“there are other women in the world who suffer, hastings'], [24, 171, 'the writing was blurred and the note had evidently been written in  great agitation:    “_dear m. poirot:___  “if you get this, i beg of you to come to my aid'], [24, 180, 'marthe was at the  door to meet us, and led poirot in, clinging with both hands to one of  his'], [24, 189, '“neither do i believe it, mademoiselle,” said poirot gently'], [24, 192, '“perhaps because he is screening some one,” suggested poirot, watching  her'], [24, 208, '“mademoiselle,” said poirot quietly, “if we are to work together, you  and i, we must have things clear'], [24, 213, '“there, there,” said poirot, patting her on the shoulder'], [25, 52, 'i began to realize the magnitude of the task  i had so lightly set poirot'], [26, 75, 'poirot was with me when i read it'], [26, 87, '“you were rather high-handed in your methods, _mon ami___,” said poirot  dryly'], [26, 102, '“what is it that worries you, hastings'], [26, 103, 'this was quite a new mood in poirot'], [26, 107, 'poirot turned back the pages'], [26, 108, '“i think you are mistaken, hastings'], [26, 111, 'poirot smiled'], [26, 117, 'leave it to papa poirot'], [27, 0, '  “congratulations, m. jack,” said poirot, wringing the lad warmly by the  hand'], [27, 6, 'he smiled mournfully at poirot, and said in a low  voice:    “i went through it to protect her, and now it’s all no use'], [27, 9, '“_eh ma foi!___ and you were heading for it too!” added poirot, with a  slight twinkle'], [27, 16, '“if i were you,” said poirot frankly, “i should not distress myself  unduly'], [27, 20, 'you see, m. poirot, in a way i _do___ feel  guilty of my father’s murder'], [27, 36, 'i mean, my mother didn’t think—couldn’t  think—that—that it was _me?___”    poirot reassured him quickly'], [27, 58, '“and afterwards?” asked poirot gently'], [27, 69, 'poirot sprang to his feet'], [27, 73, 'poirot, jack renauld and i set off in the renauld car'], [27, 75, 'as we approached the doorway of  the villa marguerite, jack renauld shot a questioning glance at poirot'], [27, 76, '“how would it be if you went on first—to break the news to my mother  that i am free—”    “while you break it in person to mademoiselle marthe, eh?” finished  poirot, with a twinkle'], [27, 81, '“poirot,” i said, “do you remember how we arrived here that first day'], [27, 86, 'but what a lot of things have  happened since then—especially for you, _mon ami!___”    “poirot, what have you done about finding bel—i mean dulcie'], [27, 87, '“calm yourself, hastings'], [27, 90, 'poirot changed the subject'], [27, 94, '“you are regarding it from the sentimental standpoint, hastings'], [27, 101, 'and in the midst of a fit of laughter on my part at poirot’s  peculiarities, the door was opened by françoise'], [27, 102, 'poirot explained that he must see mrs. renauld at once, and the old  woman conducted him upstairs'], [27, 104, 'it was some  time before poirot reappeared'], [27, 106, '“_vous voilà___, hastings'], [27, 110, '“i would hardly have credited it,” said poirot thoughtfully, “but women  are very unexpected'], [27, 112, 'poirot bounded out of the room, and met the young couple on the steps  outside'], [27, 123, '“i thank you for your good offices, m. poirot, but i will make my own  wishes clear'], [27, 137, 'poirot made a mediating gesture, but instantly she regained  command of herself'], [27, 147, 'poirot and i went quickly to his assistance'], [27, 148, '“he is overdone,” murmured poirot to marthe'], [27, 155, 'poirot felt his head and hands'], [27, 159, 'get him to bed, and hastings and i will summon a doctor'], [27, 167, '“and now for quarters for the night,” said poirot, when at length _café  noir___ had completed the meal'], [27, 171, 'then poirot asked  a question which surprised me'], [27, 176, '“poirot,” i cried, keeping pace with him as he walked along the  corridor, “who on earth is miss robinson'], [27, 177, 'poirot beamed kindly on me'], [27, 178, '“it is that i have arranged you a marriage, hastings'], [27, 179, '“but, i say—”    “bah!” said poirot, giving me a friendly push over the threshold of the  door'], [27, 184, 'poirot cleared his throat'], [27, 188, 'in response, cinderella took from her bag an object wrapped up in  paper, and handed it silently to poirot'], [27, 192, '“_très bien, mon enfant___,” said poirot'], [27, 195, 'hastings here and i have work to do'], [27, 201, 'poirot realized that it was futile to argue further'], [27, 209, 'poirot led the way out of the town in the direction  of the villa geneviève'], [27, 212, 'come with me, hastings'], [27, 216, 'as we went round to the  side of the house, i drew poirot’s attention to a window on the first  floor'], [27, 218, '“ah!” said poirot'], [27, 226, '“is the doctor coming again?” asked poirot in a whisper'], [27, 235, '“i hope we have not deranged you, madame,” said poirot politely as she  opened the door for us to pass out'], [27, 237, '“by the way,” said poirot, as though struck by an afterthought, “m'], [27, 239, 'i could not at all fathom the point of this question which i well knew  to be meaningless as far as poirot was concerned'], [27, 243, '“true,” said poirot'], [27, 247, '“no ‘_whys___,’ hastings'], [27, 250, 'poirot looked over his shoulder once at the lighted  window and the profile of marthe as she bent over her work'], [27, 252, 'arrived at the villa geneviève, poirot took up his stand behind some  bushes to the left of the drive, where, whilst enjoying a good view  ourselves, we were completely hidden from sight'], [27, 255, 'it seemed to me that it was upon  this spot that poirot’s eyes were fixed'], [27, 263, '“_mille tonnerres!___” cried poirot'], [27, 272, 'poirot had rushed through the empty room and was pounding on the door  leading into the corridor'], [27, 276, 'i saw despair in  poirot’s eyes'], [27, 285, 'she’s a professional acrobat, hastings'], [27, 292, 'poirot brushed her aside unceremoniously and rushed down the  passage to where the other maids were grouped round the further door'], [27, 297, '“she is safe?” demanded poirot'], [27, 303, 'the girl picked up  something from the floor and handed it to poirot'], [27, 305, '“a getaway,” said poirot'], [27, 316, '“the murderer of m. renauld, hastings'], [28, 1, 'poirot  seemed deaf to my repeated questions'], [28, 6, 'poirot deigned to attend to me for a brief moment'], [28, 10, '“then why was i not told,” vociferated poirot, striking the table, and  working himself into a first-class passion'], [28, 17, 'i was aroused from my condition of mental fog by a sharp command from  poirot to fetch the doctor immediately on mrs. renauld’s behalf'], [28, 28, 'i awoke to find the sun pouring in through the open windows and poirot,  neat and smiling, sitting beside the bed'], [28, 30, 'but it is that you are a famous sleeper, hastings'], [28, 38, '“oh, no, hastings, she did not'], [28, 45, 'poirot leaned back in his chair, and brought the tips of his fingers  together in familiar style'], [28, 84, 'poirot paused and cleared his throat'], [28, 86, 'the solution did not commend itself to me, because,  as i pointed out to you, hastings, an expert, such as i am, likes to  meet a foeman worthy of his steel'], [28, 98, 'i said no word to you, hastings  (it was no time for romance) but i sought out mademoiselle dulcie, told  her as much as i deemed needful, and set her to search amongst the  effects of her sister'], [28, 111, 'that is where, as the americans say, she ‘put it over’ on hercule  poirot'], [28, 132, '“however, hastings, things did not go quite as mademoiselle marthe had  planned'], [28, 138, 'but she was checkmated—not by hercule poirot—but by _la petite  acrobate___ with her wrists of steel'], [28, 140, '“when did you first begin to suspect marthe daubreuil, poirot'], [28, 142, 'poirot smiled'], [28, 162, 'and yet, do you know, hastings, i doubt if his heart was  ever seriously engaged'], [28, 173, 'poirot proved a fairly true prophet'], [28, 174, 'when at length the doctor  pronounced jack renauld strong enough to hear the truth, it was poirot  who broke it to him'], [28, 180, 'poirot had acquainted mrs'], [28, 185, 'a  halting question was promptly answered by poirot'], [28, 191, 'there were, of course, various points in the case that remained  puzzling to the police, but poirot explained things in so plausible a  fashion that all query about them was gradually stilled'], [28, 192, 'shortly after we got back to london, i noticed a magnificent model of a  foxhound adorning poirot’s mantelpiece'], [28, 193, 'in answer to my inquiring  glance, poirot nodded'], [28, 198, '“m. poirot, i’ve come to say good-bye'], [28, 212, '“so have all of us, at one time and another,” observed poirot  philosophically'], [28, 218, 'hastings here will tell you that i  believe in heredity—”    “well, then—”    “wait'], [28, 231, 'and what of captain arthur hastings, humble chronicler of these pages']]\n",
            "[[7, 138, '“mademoiselle daubreuil,” said m. hautet, sweeping off his hat, “we  regret infinitely to disturb you, but the exigencies of the law—you  comprehend'], [7, 169, '“marthe, dear—”    but the girl shook her head'], [7, 176, '“i should prefer not to speak before mademoiselle daubreuil'], [7, 233, 'it was marthe  daubreuil'], [7, 241, '“françoise told our amélie,” explained marthe, with a blush'], [7, 280, '“ah, _mon ami___, do not set your heart on marthe daubreuil'], [11, 99, 'the subject of the quarrel was mademoiselle marthe  daubreuil'], [11, 105, '“i love mademoiselle daubreuil, and i wish to marry  her'], [11, 113, 'marthe is as good as she is  beautiful'], [11, 115, '“i have nothing against mademoiselle daubreuil in any way'], [11, 127, 'i answered that i was marrying marthe, and not her  antecedents, but he shouted me down with a peremptory refusal to  discuss the matter in any way'], [11, 138, 'i wrote to marthe, telling her what had happened,  and her reply soothed me still further'], [13, 17, '“yesterday it was mademoiselle daubreuil, today it is  mademoiselle—cinderella'], [13, 21, 'mademoiselle daubreuil is a very  beautiful girl, and i do admire her immensely—i don’t mind admitting  it'], [13, 89, 'and  thirdly, if you wish, endeavour to cut him out with mademoiselle  marthe'], [13, 95, 'throw together a boy young renauld  and a beautiful girl like mademoiselle marthe, and the result is almost  inevitable'], [13, 102, '“at any rate—_i saw that she had anxious eyes.___ that is how always  think of mademoiselle daubreuil _as the girl with the anxious  eyes'], [13, 188, 'a girl’s voice was speaking, a voice  that i recognized as that of the beautiful marthe'], [13, 191, '“you know it, marthe,” jack renauld replied'], [15, 19, 'i do not know what put the idea into my head—possibly it was the deep  anxiety underlying marthe daubreuil’s tones—but i asked suddenly:    “young m. renauld—he did not leave by that train, did he'], [15, 28, 'that, then, was the reason of marthe’s poignant  anxiety'], [15, 34, 'one thing was certain, marthe had known all along'], [18, 19, '“with good fortune,” he remarked to me over his shoulder, “mademoiselle  marthe may find herself in the garden'], [18, 24, '_un moment, s’il vous  plaît.___”    i joined him at the moment that marthe daubreuil, looking slightly  startled, came running up to the hedge at his call'], [18, 97, '“_maman___,” whispered marthe, “i must go'], [18, 104, 'unwittingly, mademoiselle marthe told us the truth on  another point—and incidentally gave jack renauld the lie'], [18, 105, 'did you  notice his hesitation when i asked him if he saw marthe daubreuil on  the night of the crime'], [18, 108, 'it was necessary for me to see mademoiselle marthe before  he could put her on her guard'], [18, 111, 'now, hastings, what  was jack renauld doing here on that eventful evening, and if he did not  see mademoiselle marthe whom did he see'], [20, 84, '“_23rd may.___ m. renauld quarrels with his son over latter’s wish to  marry marthe daubreuil'], [20, 87, '“_7th june.___ quarrel with tramp in garden, witnessed by marthe  daubreuil'], [20, 125, '“may 23rd,” i read, “m. renauld quarrels with his son over latter’s  wish to marry marthe daubreuil'], [22, 37, 'had jack renauld, returning to see marthe daubreuil, come  face to face instead with bella duveen, the girl he had heartlessly  thrown over'], [22, 42, 'did he fear for this former entanglement of his to come to the  ears of marthe daubreuil'], [24, 174, '“marthe daubreuil'], [24, 180, 'marthe was at the  door to meet us, and led poirot in, clinging with both hands to one of  his'], [24, 193, 'marthe frowned'], [24, 212, 'marthe looked at him for a minute, then, letting her head fall forward  on her arms, she burst into tears'], [24, 220, 'marthe listened spellbound'], [27, 1, 'young renauld had come to us as soon as he was liberated—before  starting for merlinville to rejoin marthe and his mother'], [27, 27, 'after i met marthe, and  realized i’d made a mistake, i ought to have written and told her so  honestly'], [27, 28, 'but i was so terrified of a row, and of its coming to  marthe’s ears, and her thinking there was more in it than there ever  had been, that—well, i was a coward, and went on hoping the thing would  die down of itself'], [27, 43, 'i came from cherbourg, as i told you, in  order to see marthe before going to the other end of the world'], [27, 76, '“how would it be if you went on first—to break the news to my mother  that i am free—”    “while you break it in person to mademoiselle marthe, eh?” finished  poirot, with a twinkle'], [27, 111, '“here are jack and marthe daubreuil,” i exclaimed, looking out of the  window'], [27, 120, '“but marthe and i—”    “in any case, do not take mademoiselle with you'], [27, 148, '“he is overdone,” murmured poirot to marthe'], [27, 164, 'finally, having done all we could, we left him in the charge of marthe  and her mother, and set out for the town'], [27, 217, 'thrown sharply on the blind was the profile of marthe daubreuil'], [27, 223, 'marthe daubreuil was embroidering by  a table with a lamp on it'], [27, 250, 'poirot looked over his shoulder once at the lighted  window and the profile of marthe as she bent over her work'], [27, 318, 'puzzled and uncomprehending, i knelt down, and lifting the fold of  cloth, looked into the dead beautiful face of marthe daubreuil'], [28, 34, '“do you know, i actually dreamt  that we found marthe daubreuil’s body in mrs. renauld’s room, and that  you declared her to have murdered mr. renauld'], [28, 54, 'yes. from marthe daubreuil’s own lips we  have the admission that she overheard m. renauld’s quarrel with the  tramp'], [28, 56, 'remember how easily you overheard marthe’s conversation with jack  renauld from that spot'], [28, 57, '“but what possible motive could marthe have for murdering mr. renauld'], [28, 62, 'let us reconstruct the scene from the standpoint  of marthe daubreuil'], [28, 63, '“marthe daubreuil overhears what passes between renauld and his wife'], [28, 68, 'if the latter defies his father, he will be a  pauper—which is not at all to the mind of mademoiselle marthe'], [28, 77, 'and here comes in the  second point which led me infallibly to marthe daubreuil—the dagger'], [28, 79, 'one he gave to his mother,  one to bella duveen; was it not highly probable that he had given the  third one to marthe daubreuil'], [28, 80, '“so then, to sum up, there were four points of note against marthe  daubreuil:    “(1) marthe daubreuil could have overheard m. renauld’s plans'], [28, 81, '“(2) marthe daubreuil had a direct interest in causing m. renauld’s  death'], [28, 82, '“(3) marthe daubreuil was the daughter of the notorious madame beroldy  who in my opinion was morally and virtually the murderess of her  husband, although it may have been georges conneau’s hand which struck  the actual blow'], [28, 83, '“(4) marthe daubreuil was the only person, besides jack renauld, likely  to have the third dagger in her possession'], [28, 93, 'if it was _not___ bella duveen, the only other person who  could have committed the crime was marthe daubreuil'], [28, 97, 'but if, by any chance, it was _not___ her  sister’s, but the one given by jack to marthe daubreuil—why then, bella  duveen’s dagger would be still intact'], [28, 100, '“in the meantime i had taken steps to force mademoiselle marthe into  the open'], [28, 105, 'marthe daubreuil made a last  bold bid for the renauld millions—and failed'], [28, 119, 'she had brains, that beautiful  mademoiselle marthe'], [28, 122, 'but it would have  been suicide, _mon ami!___ on the floor by marthe daubreuil’s body, i  found a pad and a little bottle of chloroform and a hypodermic syringe  containing a fatal dose of morphine'], [28, 132, '“however, hastings, things did not go quite as mademoiselle marthe had  planned'], [28, 136, 'there  is a last chance for marthe daubreuil'], [28, 140, '“when did you first begin to suspect marthe daubreuil, poirot'], [28, 146, 'that is how i have thought of  marthe daubreuil from the beginning'], [28, 163, 'so far we have looked upon bella duveen as a  siren, and marthe daubreuil as the girl he really loved'], [28, 165, 'marthe daubreuil was very beautiful']]\n",
            "[[18, 111, 'now, hastings, what  was jack renauld doing here on that eventful evening, and if he did not  see mademoiselle marthe whom did he see'], [24, 180, 'marthe was at the  door to meet us, and led poirot in, clinging with both hands to one of  his'], [27, 76, '“how would it be if you went on first—to break the news to my mother  that i am free—”    “while you break it in person to mademoiselle marthe, eh?” finished  poirot, with a twinkle'], [27, 148, '“he is overdone,” murmured poirot to marthe'], [27, 250, 'poirot looked over his shoulder once at the lighted  window and the profile of marthe as she bent over her work'], [28, 132, '“however, hastings, things did not go quite as mademoiselle marthe had  planned'], [28, 140, '“when did you first begin to suspect marthe daubreuil, poirot']]\n"
          ]
        }
      ]
    },
    {
      "cell_type": "code",
      "metadata": {
        "colab": {
          "base_uri": "https://localhost:8080/"
        },
        "id": "smz9geGxDtCv",
        "outputId": "37b83598-0033-4a3e-952e-98db2f0ee34f"
      },
      "source": [
        "print(corpus[3][\"title\"],len(corpus[3][\"chapters\"]),len(corpus[3][\"contents\"]))\n",
        "print(corpus[3][\"chapters\"])\n",
        "#print(corpus[3][\"contents\"][0])\n",
        "print(corpus[4][\"title\"],len(corpus[4][\"chapters\"]),len(corpus[4][\"contents\"]))\n",
        "print(corpus[4][\"chapters\"])\n",
        "#print(corpus[4][\"contents\"][36])\n",
        "print(corpus[5][\"title\"],len(corpus[5][\"chapters\"]),len(corpus[5][\"contents\"]))\n",
        "print(corpus[5][\"chapters\"])\n",
        "print(corpus[5][\"contents\"][31])\n",
        "\n"
      ],
      "execution_count": 4,
      "outputs": [
        {
          "output_type": "stream",
          "name": "stdout",
          "text": [
            "The Secret Adversary 29 29\n",
            "{1: 'CHAPTER I. THE YOUNG ADVENTURERS, LTD.', 2: 'CHAPTER II. MR. WHITTINGTON’S OFFER', 3: 'CHAPTER III. A SET BACK', 4: 'CHAPTER IV. WHO IS JANE FINN?', 5: 'CHAPTER V. MR. JULIUS P. HERSHEIMMER', 6: 'CHAPTER VI. A PLAN OF CAMPAIGN', 7: 'CHAPTER VII. THE HOUSE IN SOHO', 8: 'CHAPTER VIII. THE ADVENTURES OF TOMMY', 9: 'CHAPTER IX. TUPPENCE ENTERS DOMESTIC SERVICE', 10: 'CHAPTER X. ENTER SIR JAMES PEEL EDGERTON', 11: 'CHAPTER XI. JULIUS TELLS A STORY', 12: 'CHAPTER XII. A FRIEND IN NEED', 13: 'CHAPTER XIII. THE VIGIL', 14: 'CHAPTER XIV. A CONSULTATION', 15: 'CHAPTER XV. TUPPENCE RECEIVES A PROPOSAL', 16: 'CHAPTER XVI. FURTHER ADVENTURES OF TOMMY', 17: 'CHAPTER XVII. ANNETTE', 18: 'CHAPTER XVIII. THE TELEGRAM', 19: 'CHAPTER XIX. JANE FINN', 20: 'CHAPTER XX. TOO LATE', 21: 'CHAPTER XXI. TOMMY MAKES A DISCOVERY', 22: 'CHAPTER XXII. IN DOWNING STREET', 23: 'CHAPTER XXIII. A RACE AGAINST TIME', 24: 'CHAPTER XXIV. JULIUS TAKES A HAND', 25: 'CHAPTER XXV. JANE’S STORY', 26: 'CHAPTER XXVI. MR. BROWN', 27: 'CHAPTER XXVII. A SUPPER PARTY AT THE _SAVOY_', 28: 'CHAPTER XXVIII. AND AFTER', 0: 'PROLOGUE'}\n",
            "The Man in the Brown Suit 37 37\n",
            "{1: 'CHAPTER I', 2: 'CHAPTER II', 3: 'CHAPTER III', 4: 'CHAPTER IV', 5: 'CHAPTER V', 6: 'CHAPTER VI', 7: 'CHAPTER VII', 8: 'CHAPTER VIII', 9: 'CHAPTER IX', 10: 'CHAPTER X', 11: 'CHAPTER XI', 12: 'CHAPTER XII', 13: 'CHAPTER XIII', 14: 'CHAPTER XIV', 15: 'CHAPTER XV', 16: 'CHAPTER XVI', 17: 'CHAPTER XVII', 18: 'CHAPTER XVIII', 19: 'CHAPTER XIX', 20: 'CHAPTER XX', 21: 'CHAPTER XXI', 22: 'CHAPTER XXII', 23: 'CHAPTER XXIII', 24: 'CHAPTER XXIV', 25: 'CHAPTER XXV', 26: 'CHAPTER XXVI', 27: 'CHAPTER XXVII', 28: 'CHAPTER XXVIII', 29: 'CHAPTER XXIX', 30: 'CHAPTER XXX', 31: 'CHAPTER XXXI', 32: 'CHAPTER XXXII', 33: 'CHAPTER XXXIII', 34: 'CHAPTER XXXIV', 35: 'CHAPTER XXXV', 36: 'CHAPTER XXXVI', 0: 'PROLOGUE'}\n",
            "The Secret of Chimneys 31 31\n",
            "{1: '1\\r\\n\\r\\nAnthony Cade Signs on', 2: '2\\r\\n\\r\\nA Lady in Distress', 3: '3\\r\\n\\r\\nAnxiety in High Places', 4: '4\\r\\n\\r\\nIntroducing a Very Charming Lady', 5: '5\\r\\n\\r\\nFirst Night in London', 6: '6\\r\\n\\r\\nThe Gentle Art of Blackmail', 7: '7\\r\\n\\r\\nMr. McGrath Refuses an Invitation', 8: '8\\r\\n\\r\\nA Dead Man', 9: '9\\r\\n\\r\\nAnthony Disposes of a Body', 10: '10\\r\\n\\r\\nChimneys', 11: '11\\r\\n\\r\\nSuperintendent Battle Arrives', 12: '12\\r\\n\\r\\nAnthony Tells His Story', 13: '13\\r\\n\\r\\nThe American Visitor', 14: '14\\r\\n\\r\\nMainly Political and Financial', 15: '15\\r\\n\\r\\nThe French Stranger', 16: '16\\r\\n\\r\\nTea in the Schoolroom', 17: '17\\r\\n\\r\\nA Midnight Adventure', 18: '18\\r\\n\\r\\nSecond Midnight Adventure', 19: '19\\r\\n\\r\\nSecret History', 20: '20\\r\\n\\r\\nBattle and Anthony Confer', 21: '21\\r\\n\\r\\nMr. Isaacstein’s Suit-case', 22: '22\\r\\n\\r\\nThe Red Signal', 23: '23\\r\\n\\r\\nEncounter in the Rose Garden', 24: '24\\r\\n\\r\\nThe House at Dover', 25: '25\\r\\n\\r\\nTuesday Night at Chimneys', 26: '26\\r\\n\\r\\nThe 13th of October', 27: '27\\r\\n\\r\\nThe 13th of October (contd.)', 28: '28\\r\\n\\r\\nKing Victor', 29: '29\\r\\n\\r\\nFurther Explanations', 30: '30\\r\\n\\r\\nAnthony Signs on for a New Job', 31: '31\\r\\n\\r\\nSundry Details'}\n",
            "\r\n",
            "\r\n",
            "Scene—Chimneys, 11 A.M. Thursday morning.\r\n",
            "\r\n",
            "Johnson, the police constable, with his coat off, digging.\r\n",
            "\r\n",
            "Something in the nature of a funeral feeling seems to be in the air.\r\n",
            "The friends and relations stand round the grave that Johnson is digging.\r\n",
            "\r\n",
            "George Lomax has the air of the principal beneficiary under the will\r\n",
            "of the deceased. Superintendent Battle, with his immovable face, seems\r\n",
            "pleased that the funeral arrangements have gone so nicely. As the\r\n",
            "undertaker, it reflects credit upon him. Lord Caterham has that solemn\r\n",
            "and shocked look which Englishmen assume when a religious ceremony is\r\n",
            "in progress.\r\n",
            "\r\n",
            "Mr. Fish does not fit into the picture so well. He is not sufficiently\r\n",
            "grave.\r\n",
            "\r\n",
            "Johnson bends to his task. Suddenly he straightens up. A little stir of\r\n",
            "excitement passes round.\r\n",
            "\r\n",
            "“That’ll do, sonny,” says Mr. Fish. “We shall do nicely now.”\r\n",
            "\r\n",
            "One perceives at once that he is really the family physician.\r\n",
            "\r\n",
            "Johnson retires. Mr. Fish, with due solemnity, stoops over the\r\n",
            "excavation. The surgeon is about to operate.\r\n",
            "\r\n",
            "He brings out a small canvas package. With much ceremony he hands it\r\n",
            "to Superintendent Battle. The latter, in his turn, hands it to George\r\n",
            "Lomax. The etiquette of the situation has now been fully complied with.\r\n",
            "\r\n",
            "George Lomax unwraps the package, slits up the oil-silk inside it,\r\n",
            "burrows into further wrapping. For a moment he holds something on the\r\n",
            "palm of his hand—then quickly shrouds it once more in cotton wool.\r\n",
            "\r\n",
            "He clears his throat.\r\n",
            "\r\n",
            "“At this auspicious minute,” he begins, with the clear delivery of the\r\n",
            "practised speaker.\r\n",
            "\r\n",
            "Lord Caterham beats a precipitate retreat. On the terrace he finds his\r\n",
            "daughter.\r\n",
            "\r\n",
            "“Bundle, is that car of yours in order?”\r\n",
            "\r\n",
            "“Yes. Why?”\r\n",
            "\r\n",
            "“Then take me up to town in it immediately. I’m going abroad at\r\n",
            "once—to-day.”\r\n",
            "\r\n",
            "“But, father——”\r\n",
            "\r\n",
            "“Don’t argue with me, Bundle. George Lomax told me when he arrived this\r\n",
            "morning that he was anxious to have a few words with me privately on a\r\n",
            "matter of the utmost delicacy. He added that the King of Timbuctoo was\r\n",
            "arriving in London shortly. I won’t go through it again, Bundle, do you\r\n",
            "hear? Not for fifty George Lomaxes! If Chimneys is so valuable to the\r\n",
            "nation, let the nation buy it. Otherwise I shall sell it to a syndicate\r\n",
            "and they can turn it into an hotel.”\r\n",
            "\r\n",
            "“Where is Codders now?”\r\n",
            "\r\n",
            "Bundle is rising to the situation.\r\n",
            "\r\n",
            "“At the present minute,” replied Lord Caterham, looking at his watch,\r\n",
            "“he is good for at least fifteen minutes about the Empire.”\r\n",
            "\r\n",
            "Another picture.\r\n",
            "\r\n",
            "Mr. Bill Eversleigh, not invited to be present at the graveside\r\n",
            "ceremony, at the telephone.\r\n",
            "\r\n",
            "“No, really, I mean it.... I say, don’t be huffy.... Well, you will\r\n",
            "have supper to-night anyway?... No, I haven’t. I’ve been kept to it\r\n",
            "with my nose at the grindstone. You’ve no idea what Codders is like....\r\n",
            "I say, Dolly, you know jolly well what I think about you.... You know\r\n",
            "I’ve never cared for anyone but you.... Yes, I’ll come to the show\r\n",
            "first. How does the old wheeze go? ‘And the little girl tries, Hooks\r\n",
            "and Eyes’....”\r\n",
            "\r\n",
            "Unearthly sounds. Mr. Eversleigh trying to hum the refrain in question.\r\n",
            "\r\n",
            "And now George’s peroration draws to a close.\r\n",
            "\r\n",
            "... “the lasting peace and prosperity of the British Empire!”\r\n",
            "\r\n",
            "“I guess,” said Mr. Hiram Fish _sotto voce_ to himself and the world at\r\n",
            "large, “that this has been a great little old week.”\r\n",
            "\r\n",
            "\n"
          ]
        }
      ]
    },
    {
      "cell_type": "code",
      "metadata": {
        "id": "S_Lj5Stcn0DN",
        "colab": {
          "base_uri": "https://localhost:8080/"
        },
        "outputId": "34de758a-0afe-4e21-924d-1bd4d8ead93b"
      },
      "source": [
        "# Author: @verolero86\n",
        "\n",
        "# W.I.P. - first stab takes care of white space characters\n",
        "import numpy as np # to grab unique elements \n",
        "\n",
        "def find_white_space(book,nchars,debug):\n",
        "  result_book = re.findall(r'\\s',book[0:nchars]);\n",
        "\n",
        "#  if debug == True:\n",
        "#    print(repr(book1_chapter1[0:nchars]))\n",
        "\n",
        "  print(f\"Number of white space characters = {len(result_book)}\")\n",
        "  print(f\"Unique types of white space characters found = {np.unique(result_book)}\")\n",
        "\n",
        "  return len(result_book)\n",
        "\n",
        "def remove_specific_white_space(book,regex):\n",
        "  result_book = re.sub(regex,' ',book)\n",
        "\n",
        "  return result_book\n",
        "\n",
        "def clean_data(book):\n",
        "  ws_regex=r'[\\r\\n\\u200a]'\n",
        "  result_book = remove_specific_white_space(book,ws_regex).lower()\n",
        "  return result_book\n",
        "\n",
        "# Set a subset of characters for easier parsing (-1 for all in chapter)\n",
        "num_ws_b1c1 = find_white_space(corpus[1][\"contents\"][1],-1,True);\n",
        "print(num_ws_b1c1)\n",
        "\n",
        "num_ws_b1c2 = find_white_space(corpus[1][\"contents\"][2],-1,False);\n",
        "print(num_ws_b1c2)\n",
        "\n",
        "num_ws_b2c1 = find_white_space(corpus[2][\"contents\"][1],-1,False);\n",
        "print(num_ws_b2c1)\n",
        "\n",
        "# Cleaning up unwanted white space and breaking up int o sentences.\n",
        "b1c1 = corpus[1][\"contents\"][1]\n",
        "regex=r'[\\r\\n\\u200a]'\n",
        "b1c1_no_ws = remove_specific_white_space(b1c1,regex)\n",
        "#print(f\"No \\\\r and \\\\n anymore: {repr(b1c1_no_ws[0:400])}\")\n",
        "#result_sentences = re.findall(r'[^\\.\\!\\?]*[\\.\\!\\?]',b1c1_no_ws);\n",
        "#print(repr(result_sentences[0]))\n",
        "#print(repr(result_sentences))\n",
        "sentence_regex=r'[\\.\\?!](?![\\'\\\"\\u2019\\u201a\\u201c\\u275c\\u275f\\u201e\\u201d\\u0022\\u275e]\\s[a-z])(?![\\'\\\"\\u2019\\u201a\\u201c\\u275c\\u275f\\u201e\\u201d\\u0022\\u275e]\\sI said)[\\'\\\"\\u2018\\u2019\\u201c\\u201d\\)\\]]*\\s*(?<!\\w\\.\\w.)(?<![A-Z][a-z][a-z]\\.)(?<![A-Z][a-z]\\.)(?<![A-Z]\\.)\\s+'\n",
        "#result2=re.split(r'[\\.\\?!](?![\\'\\\"\\u2019\\u201a\\u201c\\u275c\\u275f\\u201e\\u201d\\u0022\\u275e]\\s[a-z])(?![\\'\\\"\\u2019\\u201a\\u201c\\u275c\\u275f\\u201e\\u201d\\u0022\\u275e]\\sI said)[\\'\\\"\\u2018\\u2019\\u201c\\u201d\\)\\]]*\\s*(?<!\\w\\.\\w.)(?<![A-Z][a-z][a-z]\\.)(?<![A-Z][a-z]\\.)(?<![A-Z]\\.)\\s+',b1c1_no_ws,flags=re.UNICODE)\n",
        "result2=re.split(sentence_regex,b1c1_no_ws,flags=re.UNICODE)\n",
        "#print(b1c1_no_ws)\n",
        "b1c1_clean = clean_data(b1c1)\n",
        "result3=re.split(sentence_regex,b1c1_clean,flags=re.UNICODE)\n",
        "print(result2)\n",
        "print(result3)"
      ],
      "execution_count": 5,
      "outputs": [
        {
          "output_type": "stream",
          "name": "stdout",
          "text": [
            "Number of white space characters = 1997\n",
            "Unique types of white space characters found = ['\\n' '\\r' ' ' '\\u200a']\n",
            "1997\n",
            "Number of white space characters = 3883\n",
            "Unique types of white space characters found = ['\\n' '\\r' ' ']\n",
            "3883\n",
            "Number of white space characters = 4723\n",
            "Unique types of white space characters found = ['\\n' '\\r' ' ']\n",
            "4723\n",
            "['  I believe that a well-known anecdote exists to the effect that a young  writer, determined to make the commencement of his story forcible and  original enough to catch and rivet the attention of the most blasé of  editors, penned the following sentence:    “ ‘Hell!’ said the Duchess', 'Strangely enough, this tale of mine opens in much the same fashion', 'Only the lady who gave utterance to the exclamation was not a Duchess', 'It was a day in early June', 'I had been transacting some business in  Paris and was returning by the morning service to London where I was  still sharing rooms with my old friend, the Belgian ex-detective,  Hercule Poirot', 'The Calais express was singularly empty—in fact, my own compartment  held only one other traveller', 'I had made a somewhat hurried departure  from the hotel and was busy assuring myself that I had duly collected  all my traps when the train started', 'Up till then I had hardly noticed  my companion, but I was now violently recalled to the fact of her  existence', 'Jumping up from her seat, she let down the window and stuck  her head out, withdrawing it a moment later with the brief and forcible  ejaculation “Hell', 'Now I am old-fashioned', 'A woman, I consider, should be womanly', 'I have  no patience with the modern neurotic girl who jazzes from morning to  night, smokes like a chimney, and uses language which would make a  Billingsgate fishwoman blush', 'I looked up now, frowning slightly, into a pretty, impudent face,  surmounted by a rakish little red hat', 'A thick cluster of black curls  hid each ear', 'I judged that she was little more than seventeen, but her  face was covered with powder, and her lips were quite impossibly  scarlet', 'Nothing abashed, she returned my glance, and executed an expressive  grimace', '“Dear me, we’ve shocked the kind gentleman!” she observed to an  imaginary audience', '“I apologize for my language', 'Most unladylike, and  all that, but Oh, Lord, there’s reason enough for it', 'Do you know I’ve  lost my only sister', '“Really?” I said politely', '“How unfortunate', '“He disapproves!” remarked the lady', '“He disapproves utterly—of me, and  my sister—which last is unfair, because he hasn’t seen her', 'I opened my mouth, but she forestalled me', '“Say no more', 'Nobody loves me', 'I shall go into the garden and eat  worms', 'Boohoo', 'I am crushed', 'She buried herself behind a large comic French paper', 'In a minute or  two I saw her eyes stealthily peeping at me over the top', 'In spite of  myself I could not help smiling, and in a minute she had tossed the  paper aside, and had burst into a merry peal of laughter', '“I knew you weren’t such a mutt as you looked,” she cried', 'Her laughter was so infectious that I could not help joining in, though  I hardly cared for the word “mutt', 'The girl was certainly all that I  most disliked, but that was no reason why I should make myself  ridiculous by my attitude', 'I prepared to unbend', 'After all, she was  decidedly pretty', '…    “There', 'Now we’re friends!” declared the minx', '“Say you’re sorry about  my sister—”    “I am desolated', '“That’s a good boy', '“Let me finish', 'I was going to add that, although I am desolated, I can  manage to put up with her absence very well', 'I made a little bow', 'But this most unaccountable of damsels frowned and shook her head', '“Cut it out', 'I prefer the ‘dignified disapproval’ stunt', 'Oh, your face', '‘Not one of us,’ it said', 'And you were right there—though, mind you,  it’s pretty hard to tell nowadays', 'It’s not every one who can  distinguish between a demi and a duchess', 'There now, I believe I’ve  shocked you again', 'You’ve been dug out of the backwoods, you have', 'Not  that I mind that', 'We could do with a few more of your sort', 'I just hate  a fellow who gets fresh', 'It makes me mad', 'She shook her head vigorously', '“What are you like when you’re mad', 'I inquired with a smile', '“A regular little devil', 'Don’t care what I say, or what I do, either', 'I  nearly did a chap in once', 'Yes, really', 'He’d have deserved it too', 'Italian blood I’ve got', 'I shall get into trouble one of these days', '“Well,” I begged, “don’t get mad with me', '“I shan’t', 'I like you—did the first moment I set eyes on you', 'But you  looked so disapproving that I never thought we should make friends', '“Well, we have', 'Tell me something about yourself', '“I’m an actress', 'No—not the kind you’re thinking of, lunching at the  Savoy covered with jewellery, and with their photograph in every paper  saying how much they love Madame So and So’s face cream', 'I’ve been on  the boards since I was a kid of six—tumbling', '“I beg your pardon,” I said puzzled', '“Haven’t you seen child acrobats', '“Oh, I understand', '“I’m American born, but I’ve spent most of my life in England', 'We got a  new show now—”    “We', '“My sister and I. Sort of song and dance, and a bit of patter, and a  dash of the old business thrown in', 'It’s quite a new idea, and it hits  them every time', 'There’s to be money in it—”    My new acquaintance leaned forward, and discoursed volubly, a great  many of her terms being quite unintelligible to me', 'Yet I found myself  evincing an increasing interest in her', 'She seemed such a curious  mixture of child and woman', 'Though perfectly worldly-wise, and able, as  she expressed it, to take care of herself, there was yet something  curiously ingenuous in her single-minded attitude towards life, and her  whole-hearted determination to “make good', 'This glimpse of a world  unknown to me was not without its charm, and I enjoyed seeing her vivid  little face light up as she talked', 'We passed through Amiens', 'The name awakened many memories', 'My companion  seemed to have an intuitive knowledge of what was in my mind', '“Thinking of the War', 'I nodded', '“You were through it, I suppose', '“Pretty well', 'I was wounded once, and after the Somme they invalided me  out altogether', 'I had a half fledged Army job for a bit', 'I’m a sort of  private secretary now to an M. P', '“My', 'That’s brainy', '“No, it isn’t', 'There’s really awfully little to do', 'Usually a couple of  hours every day sees me through', 'It’s dull work too', 'In fact, I don’t  know what I should do if I hadn’t got something to fall back upon', '“Don’t say you collect bugs', '“No. I share rooms with a very interesting man', 'He’s a Belgian—an  ex-detective', 'He’s set up as a private detective in London, and he’s  doing extraordinarily well', 'He’s really a very marvellous little man', 'Time and again he has proved to be right where the official police have  failed', 'My companion listened with widening eyes', '“Isn’t that interesting, now', 'I just adore crime', 'I go to all the  mysteries on the movies', 'And when there’s a murder on I just devour the  papers', '“Do you remember the Styles Case', 'I asked', '“Let me see, was that the old lady who was poisoned', 'Somewhere down in  Essex', 'I nodded', '“That was Poirot’s first big case', 'Undoubtedly, but for him, the  murderer would have escaped scot-free', 'It was a most wonderful bit of  detective work', 'Warming to my subject, I ran over the heads of the affair, working up  to the triumphant and unexpected dénouement', 'The girl listened  spellbound', 'In fact, we were so absorbed that the train drew into  Calais station before we realized it', '“My goodness gracious me!” cried my companion', '“Where’s my  powder-puff', 'She proceeded to bedaub her face liberally, and then applied a stick of  lip salve to her lips, observing the effect in a small pocket glass,  and betraying not the faintest sign of self-consciousness', '“I say,” I hesitated', '“I dare say it’s cheek on my part, but why do all  that sort of thing', 'The girl paused in her operations, and stared at me with undisguised  surprise', '“It isn’t as though you weren’t so pretty that you can afford to do  without it,” I said stammeringly', '“My dear boy', 'I’ve got to do it', 'All the girls do', 'Think I want to look  like a little frump up from the country', 'She took one last look in the  mirror, smiled approval, and put it and her vanity-box away in her bag', '“That’s better', 'Keeping up appearances is a bit of a fag, I grant, but  if a girl respects herself it’s up to her not to let herself get  slack', 'To this essentially moral sentiment, I had no reply', 'A point of view  makes a great difference', 'I secured a couple of porters, and we alighted on the platform', 'My  companion held out her hand', '“Good-bye, and I’ll mind my language better in future', '“Oh, but surely you’ll let me look after you on the boat', '“Mayn’t be on the boat', 'I’ve got to see whether that sister of mine got  aboard after all anywhere', 'But thanks all the same', '“Oh, but we’re going to meet again, surely', 'I—” I hesitated', '“I want to  meet your sister', 'We both laughed', '“That’s real nice of you', 'I’ll tell her what you say', 'But I don’t fancy  we’ll meet again', 'You’ve been very good to me on the journey,  especially after I cheeked you as I did', 'But what your face expressed  first thing is quite true', 'I’m not your kind', 'And that brings  trouble—_I___ know that well enough', '…”    Her face changed', 'For the moment all the light-hearted gaiety died out  of it', 'It looked angry—revengeful', '…    “So good-bye,” she finished, in a lighter tone', '“Aren’t you even going to tell me your name', 'I cried, as she turned  away', 'She looked over her shoulder', 'A dimple appeared in each cheek', 'She was  like a lovely picture by Greuze', '“Cinderella,” she said, and laughed', 'But little did I think when and how I should see Cinderella again', '']\n",
            "['  i believe that a well-known anecdote exists to the effect that a young  writer, determined to make the commencement of his story forcible and  original enough to catch and rivet the attention of the most blasé of  editors, penned the following sentence:    “ ‘hell!’ said the duchess', 'strangely enough, this tale of mine opens in much the same fashion', 'only the lady who gave utterance to the exclamation was not a duchess', 'it was a day in early june', 'i had been transacting some business in  paris and was returning by the morning service to london where i was  still sharing rooms with my old friend, the belgian ex-detective,  hercule poirot', 'the calais express was singularly empty—in fact, my own compartment  held only one other traveller', 'i had made a somewhat hurried departure  from the hotel and was busy assuring myself that i had duly collected  all my traps when the train started', 'up till then i had hardly noticed  my companion, but i was now violently recalled to the fact of her  existence', 'jumping up from her seat, she let down the window and stuck  her head out, withdrawing it a moment later with the brief and forcible  ejaculation “hell', 'now i am old-fashioned', 'a woman, i consider, should be womanly', 'i have  no patience with the modern neurotic girl who jazzes from morning to  night, smokes like a chimney, and uses language which would make a  billingsgate fishwoman blush', 'i looked up now, frowning slightly, into a pretty, impudent face,  surmounted by a rakish little red hat', 'a thick cluster of black curls  hid each ear', 'i judged that she was little more than seventeen, but her  face was covered with powder, and her lips were quite impossibly  scarlet', 'nothing abashed, she returned my glance, and executed an expressive  grimace', '“dear me, we’ve shocked the kind gentleman!” she observed to an  imaginary audience', '“i apologize for my language', 'most unladylike, and  all that, but oh, lord, there’s reason enough for it', 'do you know i’ve  lost my only sister', '“really?” i said politely', '“how unfortunate', '“he disapproves!” remarked the lady', '“he disapproves utterly—of me, and  my sister—which last is unfair, because he hasn’t seen her', 'i opened my mouth, but she forestalled me', '“say no more', 'nobody loves me', 'i shall go into the garden and eat  worms', 'boohoo', 'i am crushed', 'she buried herself behind a large comic french paper', 'in a minute or  two i saw her eyes stealthily peeping at me over the top', 'in spite of  myself i could not help smiling, and in a minute she had tossed the  paper aside, and had burst into a merry peal of laughter', '“i knew you weren’t such a mutt as you looked,” she cried', 'her laughter was so infectious that i could not help joining in, though  i hardly cared for the word “mutt.” the girl was certainly all that i  most disliked, but that was no reason why i should make myself  ridiculous by my attitude', 'i prepared to unbend', 'after all, she was  decidedly pretty', '…    “there', 'now we’re friends!” declared the minx', '“say you’re sorry about  my sister—”    “i am desolated', '“that’s a good boy', '“let me finish', 'i was going to add that, although i am desolated, i can  manage to put up with her absence very well.” i made a little bow', 'but this most unaccountable of damsels frowned and shook her head', '“cut it out', 'i prefer the ‘dignified disapproval’ stunt', 'oh, your face', '‘not one of us,’ it said', 'and you were right there—though, mind you,  it’s pretty hard to tell nowadays', 'it’s not every one who can  distinguish between a demi and a duchess', 'there now, i believe i’ve  shocked you again', 'you’ve been dug out of the backwoods, you have', 'not  that i mind that', 'we could do with a few more of your sort', 'i just hate  a fellow who gets fresh', 'it makes me mad', 'she shook her head vigorously', '“what are you like when you’re mad?” i inquired with a smile', '“a regular little devil', 'don’t care what i say, or what i do, either', 'i  nearly did a chap in once', 'yes, really', 'he’d have deserved it too', 'italian blood i’ve got', 'i shall get into trouble one of these days', '“well,” i begged, “don’t get mad with me', '“i shan’t', 'i like you—did the first moment i set eyes on you', 'but you  looked so disapproving that i never thought we should make friends', '“well, we have', 'tell me something about yourself', '“i’m an actress', 'no—not the kind you’re thinking of, lunching at the  savoy covered with jewellery, and with their photograph in every paper  saying how much they love madame so and so’s face cream', 'i’ve been on  the boards since i was a kid of six—tumbling', '“i beg your pardon,” i said puzzled', '“haven’t you seen child acrobats', '“oh, i understand', '“i’m american born, but i’ve spent most of my life in england', 'we got a  new show now—”    “we', '“my sister and i', 'sort of song and dance, and a bit of patter, and a  dash of the old business thrown in', 'it’s quite a new idea, and it hits  them every time', 'there’s to be money in it—”    my new acquaintance leaned forward, and discoursed volubly, a great  many of her terms being quite unintelligible to me', 'yet i found myself  evincing an increasing interest in her', 'she seemed such a curious  mixture of child and woman', 'though perfectly worldly-wise, and able, as  she expressed it, to take care of herself, there was yet something  curiously ingenuous in her single-minded attitude towards life, and her  whole-hearted determination to “make good.” this glimpse of a world  unknown to me was not without its charm, and i enjoyed seeing her vivid  little face light up as she talked', 'we passed through amiens', 'the name awakened many memories', 'my companion  seemed to have an intuitive knowledge of what was in my mind', '“thinking of the war', 'i nodded', '“you were through it, i suppose', '“pretty well', 'i was wounded once, and after the somme they invalided me  out altogether', 'i had a half fledged army job for a bit', 'i’m a sort of  private secretary now to an m', 'p', '“my', 'that’s brainy', '“no, it isn’t', 'there’s really awfully little to do', 'usually a couple of  hours every day sees me through', 'it’s dull work too', 'in fact, i don’t  know what i should do if i hadn’t got something to fall back upon', '“don’t say you collect bugs', '“no', 'i share rooms with a very interesting man', 'he’s a belgian—an  ex-detective', 'he’s set up as a private detective in london, and he’s  doing extraordinarily well', 'he’s really a very marvellous little man', 'time and again he has proved to be right where the official police have  failed', 'my companion listened with widening eyes', '“isn’t that interesting, now', 'i just adore crime', 'i go to all the  mysteries on the movies', 'and when there’s a murder on i just devour the  papers', '“do you remember the styles case?” i asked', '“let me see, was that the old lady who was poisoned', 'somewhere down in  essex', 'i nodded', '“that was poirot’s first big case', 'undoubtedly, but for him, the  murderer would have escaped scot-free', 'it was a most wonderful bit of  detective work', 'warming to my subject, i ran over the heads of the affair, working up  to the triumphant and unexpected dénouement', 'the girl listened  spellbound', 'in fact, we were so absorbed that the train drew into  calais station before we realized it', '“my goodness gracious me!” cried my companion', '“where’s my  powder-puff', 'she proceeded to bedaub her face liberally, and then applied a stick of  lip salve to her lips, observing the effect in a small pocket glass,  and betraying not the faintest sign of self-consciousness', '“i say,” i hesitated', '“i dare say it’s cheek on my part, but why do all  that sort of thing', 'the girl paused in her operations, and stared at me with undisguised  surprise', '“it isn’t as though you weren’t so pretty that you can afford to do  without it,” i said stammeringly', '“my dear boy', 'i’ve got to do it', 'all the girls do', 'think i want to look  like a little frump up from the country?” she took one last look in the  mirror, smiled approval, and put it and her vanity-box away in her bag', '“that’s better', 'keeping up appearances is a bit of a fag, i grant, but  if a girl respects herself it’s up to her not to let herself get  slack', 'to this essentially moral sentiment, i had no reply', 'a point of view  makes a great difference', 'i secured a couple of porters, and we alighted on the platform', 'my  companion held out her hand', '“good-bye, and i’ll mind my language better in future', '“oh, but surely you’ll let me look after you on the boat', '“mayn’t be on the boat', 'i’ve got to see whether that sister of mine got  aboard after all anywhere', 'but thanks all the same', '“oh, but we’re going to meet again, surely', 'i—” i hesitated', '“i want to  meet your sister', 'we both laughed', '“that’s real nice of you', 'i’ll tell her what you say', 'but i don’t fancy  we’ll meet again', 'you’ve been very good to me on the journey,  especially after i cheeked you as i did', 'but what your face expressed  first thing is quite true', 'i’m not your kind', 'and that brings  trouble—_i___ know that well enough', '…”    her face changed', 'for the moment all the light-hearted gaiety died out  of it', 'it looked angry—revengeful', '…    “so good-bye,” she finished, in a lighter tone', '“aren’t you even going to tell me your name?” i cried, as she turned  away', 'she looked over her shoulder', 'a dimple appeared in each cheek', 'she was  like a lovely picture by greuze', '“cinderella,” she said, and laughed', 'but little did i think when and how i should see cinderella again', '']\n"
          ]
        }
      ]
    },
    {
      "cell_type": "code",
      "metadata": {
        "id": "br9fgnQ-ZczA"
      },
      "source": [
        "#Dev Notes: will refactor fetch() to generate dict of titles and indices rather than take in index\n",
        "# I.e., fetch() is backwards. should assign index based on title while fetching url\n",
        "\n",
        "\n",
        "#artifacts I've spotted in data:\n",
        "# I noticed and \"[Illustration]\" artifact in the mysterious affair at style.\n",
        "\n",
        "#possible start for sentence splitting regex\n",
        "#sentence_regex = r'([\\.\\?!][\\'\\\"\\u2018\\u2019\\u201c\\u201d\\)\\]]*\\s*(?<!\\w\\.\\w.)(?<![A-Z][a-z][a-z]\\.)(?<![A-Z][a-z]\\.)(?<![A-Z]\\.)\\s+)\n",
        "\n",
        "# V: do we need to clean up contractions to be spelled out? e.g., \"I'm\" to \"I am\", \"don't\" to \"do not\".\n",
        "#  "
      ],
      "execution_count": 6,
      "outputs": []
    },
    {
      "cell_type": "markdown",
      "metadata": {
        "id": "3ovkF0EC1VdA"
      },
      "source": [
        "#Data Cleaning\n",
        "\n",
        "## Background Research\n",
        "\n",
        "\n",
        "- There are inconsistencies between the novel formats. Some of them start with a prologue and others dont. \n",
        "- There is START OF THE PROJECT present in the beginning of most but not all books, others have 'START OF THIS PROJECT', but   table of contents appear after that.\n",
        "- Some of them have the word table of contents, others say contents\n",
        "- some follow roman numeral in naming chapters, others dont\n",
        "- Some use the word 'chapter' , others just kist chapter titles followed by a number\n",
        "- Novel text files have license and other info at the end\n",
        "\n",
        "These factors above will need to be considered in data cleaning. \n",
        "\n",
        "Listing a few key particulars below: \n",
        "\n",
        "- The Mysterious Affair at Styles \n",
        "    - This Phrase is present at the beginning - \\*** START OF THE PROJECT \n",
        "    - The Novel plot starts at second instance of 'chapter I.' # period is important here. \n",
        "    - Novel ends at 'THE END' and has \\*** END OF THE PROJECT GUTENBERG EBOOK...'. \n",
        "    - Each chapter starts with 'Chapter' followed by chapter number in roman numeral, followed by new line, followed by title of chapter\n",
        "  \n",
        "\n",
        "- The Murder on the Links \n",
        "  - This Phrase is present at the beginning - \\*** START OF THIS PROJECT \n",
        "  - The Novel plot starts at second instance of '1 A Fellow Traveller'. Novel ends at 'End of Project Gutenberg's The Murder on the Links, by Agatha Christie\n",
        "  - and has \\*** END OF THIS PROJECT GUTENBERG ...' at the end. .\n",
        " - Each chapter  starts with number followed by title of chapter\n",
        "\n",
        "\n",
        "- The Secret Adversary \n",
        "  - This Phrase is present at the beginning - \\*** START OF THIS PROJECT \n",
        "  - The Novel plot starts at second instance of 'PROLOGUE'. Novel ends at 'End of the Project Gutenberg EBook of The Secret Adversary, by Agatha Christie' \n",
        "  -  has \\*** END OF THIS PROJECT GUTENBERG ...' at the end. \n",
        "  - Each chapter starts with 'Chapter' followed by chapter number in roman numeral, followed by title of chapter\n",
        "\n",
        "\n",
        "- The Man in the Brown Suit \n",
        "  - This Phrase is present at the beginning - \\*** START OF THIS PROJECT \n",
        "  - The Novel starts at second instance of 'PROLOGUE'. Novel ends at 'End of Project Gutenberg's The Man in the Brown Suit, by Agatha Christie' \n",
        "  - has \\*** END OF THIS PROJECT GUTENBERG ...' at the end. \n",
        "  - Each chapter starts with 'Chapter' followed by chapter number in roman numeral\n",
        "\n",
        "\n",
        "- The Secret of Chimneys \n",
        "    - This Phrase is present at the beginning - \\*** START OF THE PROJECT \n",
        "  - The Novel plot starts at second instance of '1 (new line)\n",
        "Anthony Cade Signs on' # new line is first here. \n",
        "- Novel ends at 'Transcriber's Notes:' and has \\*** END OF THE PROJECT GUTENBERG...' at the end.\n",
        "Each chapter starts with number followed by new line followed by title of chapter\n"
      ]
    },
    {
      "cell_type": "code",
      "metadata": {
        "id": "EkyIet661XXl"
      },
      "source": [
        ""
      ],
      "execution_count": 6,
      "outputs": []
    },
    {
      "cell_type": "markdown",
      "metadata": {
        "id": "W3QdymCF1Xzm"
      },
      "source": [
        "#Data Tokenization / Prep for analysis\n",
        "\n",
        "Note: since we are not allowed to use NLTK for tokenization, we will have to use python for this as well. \n",
        "\n",
        "We can use split() but that would be very basic as it doesnt achieve tokens in a linguistic sense; we should be able to use the re package that adds support for regex; after all the point for us is to learn regex better. Recommend using re.split with our custom regex \n",
        "https://docs.python.org/3/library/re.html\n",
        "\n",
        "\n",
        "###Helpful Links: \n",
        "- https://python.plainenglish.io/how-to-tokenize-sentences-without-using-any-nlp-library-in-python-a381b75f7d22 \n",
        "- https://stackoverflow.com/questions/21361073/tokenize-words-in-a-list-of-sentences-python\n",
        "\n",
        "\n"
      ]
    },
    {
      "cell_type": "code",
      "metadata": {
        "id": "PGOjoKEn1fn_"
      },
      "source": [
        ""
      ],
      "execution_count": 6,
      "outputs": []
    },
    {
      "cell_type": "markdown",
      "metadata": {
        "id": "BCj4aRmu1gBl"
      },
      "source": [
        "#Data Analysis"
      ]
    },
    {
      "cell_type": "markdown",
      "metadata": {
        "id": "R46wL0Jj1lz8"
      },
      "source": [
        "Goal of this project is to analyze the frequencies of occurrence of the protagonists and the perpetrator(s) across the novel - per chapter, and per sentence in a chapter, the mention of the crime, and other circumstances surrounding the antagonists. The ultimate objective is to use basic NLP tools to observe any patterns in plot structures across the works of one or all of the authors.  Specifically, analysis questions below need to be answered. \n",
        "\n",
        "Note: To effectively conduct this analysis, you should find resources, and read the plot summaries of each novel, so you can make your search more effective. If plot summaries are not available, use regex to search for clues, and report how well/how fast that approach worked. \n",
        "\n",
        "The plot summary answers derived from reading the book/ summary are located below each question"
      ]
    },
    {
      "cell_type": "markdown",
      "metadata": {
        "id": "PAEn08Le1jxG"
      },
      "source": [
        "##Pre-Steps"
      ]
    },
    {
      "cell_type": "markdown",
      "metadata": {
        "id": "V7NpNWwiL1Yu"
      },
      "source": [
        "Details of each book: \n",
        "\n",
        "- The Mysterious Affair at Styles \n",
        "  - Lead detective: Hercule Poirot, Arthur Hastings\n",
        "  - Other detectives/assistants: \n",
        "  - Victim: Emily Inglethorp\n",
        "  - Suspects: Alfred Inglethorp , Cavendish\n",
        "  - Perpetrator(s): Alfred Inglethorp, Evelyn Howard\n",
        "  - Other important characters: John Cavendish, \n",
        "  - Crime: Murder, Poisoning\n",
        "  - motif: murder mystery\n",
        "https://agathachristie.fandom.com/wiki/The_Mysterious_Affair_at_Styles\n",
        "\n",
        "\n",
        "- The Murder on the Links \n",
        "  - Lead detective(s): Hercule Poirot, Arthur Hastings\n",
        "  - Other detectives/assistants:  Monsieur Giraud, Monsieur Hautet\n",
        "  - Victim: Paul Renauld\n",
        "  - Suspects: Jack Renauld\n",
        "  - Perpetrator: Marthe Daubreuil.\n",
        "  - Other important characters:  Paul Renauld, Eloise Renauld, Jack Renauld, Madame Daubreuil, Gabriel Stonor, Georges Conneau, Madame Beroldy, Marthe Daubreuil, Bella Duveen, Dulcie Duveen (Cindrella), Cindrella\n",
        "  - Crime: Murder, Stabbing\n",
        "  - motif: murder mystery\n",
        "https://en.wikipedia.org/wiki/The_Murder_on_the_Links\n",
        "https://agathachristie.fandom.com/wiki/The_Murder_on_the_Links\n",
        "\n",
        "\n",
        "\n",
        "- The Secret Adversary  (complicated, Needs to be looked at more)\n",
        "  - Lead detective: Tommy and Tuppence, Tommy Beresford, Tuppence Cowley, Prudence Cowley, Prudence \"Tuppence\" Cowley, \n",
        "  - Other detectives/assistants: \n",
        "  - Victim: Jane Finn, Mrs. Vandemeyer\n",
        "  - Suspects: Mr. Brown,  Julius Hersheimmer\n",
        "  - Perpetrator: Sir James Peel Edgerton\n",
        "  - Other important characters: Jane Finn\n",
        "  - Crime: Espionage, Kidnapping\n",
        "  - motif: thriller focus rather than detection\n",
        "\n",
        "\n",
        "- The Man in the Brown Suit (complicated, Needs to be looked at more)\n",
        "  - Lead detective: Anne Beddingfeld\n",
        "  - Other detectives/assistants: \n",
        "  - Victim: Nadina aka Anita Grünberg, L. B. Carton\n",
        "  - Suspects: Harry\n",
        "  - Perpetrator: Sir Eustace Pedler\n",
        "  - Other important characters: Nadina, Count Sergius Paulovitch, the Colonel,  , Suzanne Blair, Colonel Race, Guy Pagett, Harry Rayburn, Harry Rayburn, Rev. Chichester, Miss Pettigrew,Harry Parker, Chichester\n",
        "  - Crime: diamond theft, murders, kidnapping\n",
        "  - motif: thriller focus rather than detection\n",
        "\n",
        "\n",
        "- The Secret of Chimneys (complicated, Needs to be looked at more)\n",
        "  - Lead detective: Anthony Cade aka Prince Nicholas\n",
        "  - Other detectives/assistants: Superintendent Battle, Monsieur Lemoine of the Sûreté, Mr. Fish aka american agent\n",
        "  - Victim: Perceived: Count Stanislaus aka Prince Michael Obolovitch\n",
        "  - Suspects: Anthony Cade, Prince Nicholas, King Victor, \n",
        "  - Perpetrator: Mlle Brun aka Queen Varaga aka Angèle Mory, M Lemoine aka King Victor\n",
        "  - Other important characters: King Nicholas IV, Queen Varaga aka Angèle Mory, Herman Isaacstein, Prince Michael Obolovitch,  George Lomax, Count Stylptitch, Jimmy McGrath, Virginia Revel, Captain O'Neill, Captain O'Neill, Mr Holmes, Isaacstein, Hiram P. Fish, Prince Nicholas, Mademoiselle Mlle Brun, Bill Eversleigh, Monsieur Lemoine of the Sûreté, Professor Wynwood, Boris Anchoukoff,\n",
        "   - Crime: sensitive document theft, murders, treasure hunt, espionage\n",
        "  - motif: thriller focus rather than detection\n",
        "\n"
      ]
    },
    {
      "cell_type": "code",
      "metadata": {
        "id": "ATzzpDAt1lnN"
      },
      "source": [
        ""
      ],
      "execution_count": 6,
      "outputs": []
    },
    {
      "cell_type": "code",
      "metadata": {
        "id": "VfT-3mXl1o6G"
      },
      "source": [
        ""
      ],
      "execution_count": 6,
      "outputs": []
    },
    {
      "cell_type": "markdown",
      "metadata": {
        "id": "CbkLHRPQ1pLl"
      },
      "source": [
        "##1. When does the detective (or a pair) occur for the first time -  chapter #, the sentence(s) # in a chapter,\n",
        "\n",
        "####Background research\n",
        "Poirot appears in Chapter# 1, sentence # 2 for the first time"
      ]
    },
    {
      "cell_type": "code",
      "metadata": {
        "id": "ePM70xfk1wWY"
      },
      "source": [
        ""
      ],
      "execution_count": 6,
      "outputs": []
    },
    {
      "cell_type": "markdown",
      "metadata": {
        "id": "GLq-sNsm1wu_"
      },
      "source": [
        "##2. When is the crime first mentioned - the type of the crime and the details -  chapter #, the sentence(s) # in a chapter,\n"
      ]
    },
    {
      "cell_type": "code",
      "metadata": {
        "id": "1R9c9sHm1076"
      },
      "source": [
        ""
      ],
      "execution_count": 6,
      "outputs": []
    },
    {
      "cell_type": "markdown",
      "metadata": {
        "id": "DcRq576e11V_"
      },
      "source": [
        "##3. When is the perpetrator first mentioned - chapter #, the sentence(s) # in a chapter,"
      ]
    },
    {
      "cell_type": "code",
      "metadata": {
        "id": "4OWqQFtC155B"
      },
      "source": [
        ""
      ],
      "execution_count": 6,
      "outputs": []
    },
    {
      "cell_type": "markdown",
      "metadata": {
        "id": "-F_GYvFv16SX"
      },
      "source": [
        "## 4. What are the 3 words that occur around the perpetrator on each mention (i.e., the three words preceding, and the three words following the mention of a perpetrator),"
      ]
    },
    {
      "cell_type": "code",
      "metadata": {
        "id": "u-sZeYwg19lB"
      },
      "source": [
        ""
      ],
      "execution_count": 6,
      "outputs": []
    },
    {
      "cell_type": "markdown",
      "metadata": {
        "id": "rGOQisCW190Y"
      },
      "source": [
        "## 5. When and how the detective/detectives and the perpetrators co-occur - chapter #, the sentence(s) # in a chapter,"
      ]
    },
    {
      "cell_type": "code",
      "metadata": {
        "id": "Uf_QyW7629H4"
      },
      "source": [
        ""
      ],
      "execution_count": 6,
      "outputs": []
    },
    {
      "cell_type": "markdown",
      "metadata": {
        "id": "bDDmhW4P29Z-"
      },
      "source": [
        "## 6. When are other suspects first introduced - chapter #, the sentence(s) # in a chapter"
      ]
    },
    {
      "cell_type": "code",
      "metadata": {
        "id": "1qttHUqV3C5g"
      },
      "source": [
        ""
      ],
      "execution_count": 6,
      "outputs": []
    },
    {
      "cell_type": "markdown",
      "metadata": {
        "id": "rsajewrP3VEd"
      },
      "source": [
        "# Additional/Extra Analysis"
      ]
    },
    {
      "cell_type": "code",
      "metadata": {
        "id": "rAyzwcaG3Z5j"
      },
      "source": [
        ""
      ],
      "execution_count": 6,
      "outputs": []
    },
    {
      "cell_type": "markdown",
      "metadata": {
        "id": "Q0FN0SH_3azr"
      },
      "source": [
        "# Practice Section"
      ]
    },
    {
      "cell_type": "code",
      "metadata": {
        "id": "KthIUBm43eD_"
      },
      "source": [
        ""
      ],
      "execution_count": 6,
      "outputs": []
    }
  ]
}