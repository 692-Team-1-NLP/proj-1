{
  "nbformat": 4,
  "nbformat_minor": 0,
  "metadata": {
    "colab": {
      "name": "Proj-1-collab.ipynb",
      "provenance": [],
      "collapsed_sections": [],
      "include_colab_link": true
    },
    "kernelspec": {
      "name": "python3",
      "display_name": "Python 3"
    },
    "language_info": {
      "name": "python"
    }
  },
  "cells": [
    {
      "cell_type": "markdown",
      "metadata": {
        "id": "view-in-github",
        "colab_type": "text"
      },
      "source": [
        "<a href=\"https://colab.research.google.com/github/692-Team-1-NLP/proj-1/blob/main/Proj_1_collab.ipynb\" target=\"_parent\"><img src=\"https://colab.research.google.com/assets/colab-badge.svg\" alt=\"Open In Colab\"/></a>"
      ]
    },
    {
      "cell_type": "markdown",
      "metadata": {
        "id": "8FHlrdot1Lsi"
      },
      "source": [
        "# `692-Proj-1 : Crime Novel Plot Analysis with Regex - Agatha Christie`\n",
        "The goal of this project is to conduct a plot and protagonist/antagonist analysis of the famous crime novels. For this project, we will analyze five publicly available crime novels/stories by Agatha Christie at the project Gutenberg http://www.gutenberg.org/. The novels chosen are: \n",
        "- The Mysterious Affair at Styles \n",
        "- The Murder on the Links \n",
        "- The Secret Adversary \n",
        "- The Man in the Brown Suit \n",
        "- The Secret of Chimneys \n",
        "\n",
        "\n",
        "Note: Feel free to use any background resource for the understanding of the plot, protagonist and antagonist names, and other details. Look for spoilers, details, etc. Our goal is not to predict the crime, but to computationally analyze the structure of the plot."
      ]
    },
    {
      "cell_type": "markdown",
      "metadata": {
        "id": "rUWekg6N1Rb0"
      },
      "source": [
        "#Data collection\n",
        "\n",
        "##Background research: \n",
        "\n",
        "Location for Plain text UTF-8 files for novels: \n",
        "- The Mysterious Affair at Styles https://www.gutenberg.org/files/863/863-0.txt\n",
        "- The Murder on the Links https://www.gutenberg.org/files/58866/58866-0.txt\n",
        "- The Secret Adversary https://www.gutenberg.org/files/1155/1155-0.txt\n",
        "- The Man in the Brown Suit https://www.gutenberg.org/files/61168/61168-0.txt\n",
        "- The Secret of Chimneys https://www.gutenberg.org/files/65238/65238-0.txt\n",
        "\n",
        "Note: One benefit to getting the text version is that the html version also has page number to clean, not present in text files\n",
        "\n",
        "###Helpful Links\n",
        "\n",
        "https://stackoverflow.com/questions/7243750/download-file-from-web-in-python-3\n",
        "\n",
        "https://docs.python.org/3/howto/urllib2.html\n",
        "\n"
      ]
    },
    {
      "cell_type": "code",
      "metadata": {
        "id": "y3zV4HGP1Us-"
      },
      "source": [
        "# example test run for one file \n",
        "# we will need a data structure that holds the name and links and loop through or sequentially get the data of all the novels.\n",
        "\n",
        "import urllib.request, re\n",
        "url = \"https://www.gutenberg.org/files/863/863-0.txt\" # utf-8 text file link for The Mysterious Affair at Styles \n",
        "\n",
        "response = urllib.request.urlopen(url)\n",
        "data = response.read()      # a `bytes` object\n",
        "text = data.decode('utf-8') # Default encoding is ascii; gutenberg has utf-8 encoded files\n",
        "#text  # uncomment for output if needed\n",
        "# text needs to be cleaned before it can be analyzed \n",
        "\n",
        "# trying out word; we will need both word and sentences\n",
        "#words = re.split('\\s+', text)\n",
        "\n",
        "# trying out tokenization sentences via re\n",
        "# tried, this WIP, as you can see in the output, doesnt get all the sentences\n",
        "sentences = re.split('(?<!\\w\\.\\w.)(?<![A-Z][a-z]\\.)(?<=\\.|\\?)\\s', text)"
      ],
      "execution_count": 1,
      "outputs": []
    },
    {
      "cell_type": "code",
      "metadata": {
        "id": "JDv-TcBQ1MU9"
      },
      "source": [
        ""
      ],
      "execution_count": 1,
      "outputs": []
    },
    {
      "cell_type": "code",
      "metadata": {
        "id": "srz1rKdu-x0P"
      },
      "source": [
        ""
      ],
      "execution_count": 1,
      "outputs": []
    },
    {
      "cell_type": "code",
      "metadata": {
        "id": "FHwNdj3-S5gW"
      },
      "source": [
        "#Author: Luke\n",
        "#Description: exploratory code for carving book file into chapters\n",
        "#Note: looks like it works for Murder on the Links, not tested on other books yet\n",
        "#Note: the upturned quote character \\u201c in chapter title was a nice bug till I remembered left/right handed quotes exist in unicode\n",
        "#copied fetch code from Addi\n",
        "def get_index(title):\n",
        "  last_reg=re.compile(r\"\\w+$\")\n",
        "  last_word=re.findall(last_reg,title)[0]\n",
        "  if last_word ==\"Links\":\n",
        "    #\"The Murder on the Links\"\n",
        "    index=1\n",
        "  elif last_word==\"Styles\":\n",
        "    #\"The Mysterious Affair at Styles\"\n",
        "    index=2\n",
        "  elif last_word==\"Adversary\":\n",
        "    #\"The Secret Adversary\"\n",
        "    index=3\n",
        "  elif last_word==\"Suit\":\n",
        "    #\"The Man in the Brown Suit\"\n",
        "    index=4\n",
        "  elif last_word==\"Chimneys\":\n",
        "    #\"The Secret of Chimneys\"\n",
        "    index=5\n",
        "  return index\n",
        "\n",
        "def get_text(index):\n",
        "  if index==1:\n",
        "    #\"The Murder on the Links\"\n",
        "    url = \"https://www.gutenberg.org/files/58866/58866-0.txt\"\n",
        "  elif index==2:\n",
        "    #\"The Mysterious Affair at Styles\"\n",
        "    url=\"https://www.gutenberg.org/files/863/863-0.txt\"\n",
        "  elif index==3:\n",
        "    #\"The Secret Adversary\"\n",
        "    url=\"https://www.gutenberg.org/files/1155/1155-0.txt\"\n",
        "  elif index==4:\n",
        "    #\"The Man in the Brown Suit\"\n",
        "    url=\"https://www.gutenberg.org/files/61168/61168-0.txt\"\n",
        "  elif index==5:\n",
        "    #\"The Secret of Chimneys\"\n",
        "    url=\"https://www.gutenberg.org/files/65238/65238-0.txt\"\n",
        "  response = urllib.request.urlopen(url)\n",
        "  data = response.read()      # a `bytes` object\n",
        "  text = data.decode('utf-8')\n",
        "  return text\n",
        "\n",
        "def get_ch_regex(index):\n",
        "  if index==1:\n",
        "    ch_carve=re.compile(r'\\n\\d\\d?\\s[\\'\\\"\\u201c]?[A-Z].*\\n')\n",
        "  elif index==2:\n",
        "    ch_carve=re.compile(r'CHAPTER\\s[IVX]+\\.\\r\\n.*\\r\\n')\n",
        "  elif index==3:\n",
        "    ch_carve=re.compile(r'\\r\\n\\r\\n\\r\\nCHAPTER.*\\r\\n')\n",
        "  elif index==4:\n",
        "    ch_carve=re.compile(r'CHAPTER\\s\\w+\\r\\n')  \n",
        "  elif index==5:\n",
        "    ch_carve=re.compile(r'\\d\\d?\\r\\n\\r\\n[A-OQ-Z].*\\r\\n')\n",
        "  return ch_carve\n",
        "\n",
        "def trim_contents(ch_contents_dict,index):\n",
        "  last=len(ch_contents_dict)\n",
        "  if index==1:\n",
        "    ch_contents_dict[last]=ch_contents_dict[last].split('\\nEnd of Project Gutenberg')[0]\n",
        "  elif index==2:\n",
        "    ch_contents_dict[last]=ch_contents_dict[last].split('\\nTHE END')[0]\n",
        "  elif index==3:\n",
        "    ch_contents_dict[last-1]=ch_contents_dict[last-1].split('\\nEnd of the Project Gutenberg')[0]\n",
        "  elif index==4:\n",
        "    ch_contents_dict[last-1]=ch_contents_dict[last-1].split('THE END')[0]\n",
        "  elif index==5:\n",
        "    ch_contents_dict[last]=re.split(r\"TRANSCRIBER\",ch_contents_dict[last])[0]\n",
        "  return ch_contents_dict\n",
        "\n",
        "def ch_carve(title):\n",
        "\n",
        "  index=get_index(title)\n",
        "  text=get_text(index)\n",
        "  ch_regex=get_ch_regex(index)\n",
        "  if index ==3:\n",
        "    text=re.split(\"CHAPTER XXVIII.     AND AFTER\\r\\n\\r\\n\\r\\n\\r\\nPROLOGUE\",text)[1]\n",
        "  if index ==4:\n",
        "    text=re.split(\"PROLOGUE\",text)[1]\n",
        "  ch_titles=re.findall(ch_regex,text)\n",
        "  ch_titles_dict={num+1:title.strip() for (num,title) in enumerate(ch_titles)}\n",
        "  if index==3 or index ==4:\n",
        "    ch_titles_dict.update( {0 :\"PROLOGUE\"} )\n",
        "  chapters=re.split(ch_regex,text)\n",
        "  if index==3 or index==4:\n",
        "    ch_contents_dict = {num:contents for (num,contents) in enumerate(chapters)}  \n",
        "  elif index ==1 or index ==2 or index==5:\n",
        "    chapters=chapters[1:]\n",
        "    ch_contents_dict = {num+1:contents for (num,contents) in enumerate(chapters)}\n",
        "  ch_contents_dict=trim_contents(ch_contents_dict,index)\n",
        "  return {\"title\":title,\"contents\":ch_contents_dict,\"chapters\":ch_titles_dict}\n",
        "\n",
        "def get_corpus():\n",
        "  #tentatively planning to index books from 1 to match chapters\n",
        "  titles=[\"The Mysterious Affair at Styles\",\"The Murder on the Links\",\"The Secret Adversary\",\"The Man in the Brown Suit\",\"The Secret of Chimneys\"]\n",
        "  corpus={ get_index(title):ch_carve(title) for title in titles}\n",
        "  return corpus"
      ],
      "execution_count": 2,
      "outputs": []
    },
    {
      "cell_type": "code",
      "metadata": {
        "colab": {
          "base_uri": "https://localhost:8080/"
        },
        "id": "lUaxNizp9CDJ",
        "outputId": "c3af075b-f2db-4d3c-d546-7b3ff51e958c"
      },
      "source": [
        "corpus=get_corpus()\n",
        "\n",
        "print(corpus[1][\"title\"],len(corpus[1][\"chapters\"]),len(corpus[1][\"contents\"]))\n",
        "print(corpus[2][\"title\"],len(corpus[2][\"chapters\"]),len(corpus[2][\"contents\"]))\n",
        "#print(corpus[1][\"contents\"][28])\n",
        "#print(corpus[2][\"contents\"][13])\n"
      ],
      "execution_count": 3,
      "outputs": [
        {
          "output_type": "stream",
          "name": "stdout",
          "text": [
            "The Murder on the Links 28 28\n",
            "The Mysterious Affair at Styles 13 13\n"
          ]
        }
      ]
    },
    {
      "cell_type": "code",
      "metadata": {
        "colab": {
          "base_uri": "https://localhost:8080/"
        },
        "id": "smz9geGxDtCv",
        "outputId": "6fb3001f-cc01-4f4f-e5a0-f4c1878ccdec"
      },
      "source": [
        "print(corpus[3][\"title\"],len(corpus[3][\"chapters\"]),len(corpus[3][\"contents\"]))\n",
        "print(corpus[3][\"chapters\"])\n",
        "#print(corpus[3][\"contents\"][0])\n",
        "print(corpus[4][\"title\"],len(corpus[4][\"chapters\"]),len(corpus[4][\"contents\"]))\n",
        "print(corpus[4][\"chapters\"])\n",
        "#print(corpus[4][\"contents\"][36])\n",
        "print(corpus[5][\"title\"],len(corpus[5][\"chapters\"]),len(corpus[5][\"contents\"]))\n",
        "print(corpus[5][\"chapters\"])\n",
        "print(corpus[5][\"contents\"][31])\n",
        "\n"
      ],
      "execution_count": 4,
      "outputs": [
        {
          "output_type": "stream",
          "name": "stdout",
          "text": [
            "The Secret Adversary 29 29\n",
            "{1: 'CHAPTER I. THE YOUNG ADVENTURERS, LTD.', 2: 'CHAPTER II. MR. WHITTINGTON’S OFFER', 3: 'CHAPTER III. A SET BACK', 4: 'CHAPTER IV. WHO IS JANE FINN?', 5: 'CHAPTER V. MR. JULIUS P. HERSHEIMMER', 6: 'CHAPTER VI. A PLAN OF CAMPAIGN', 7: 'CHAPTER VII. THE HOUSE IN SOHO', 8: 'CHAPTER VIII. THE ADVENTURES OF TOMMY', 9: 'CHAPTER IX. TUPPENCE ENTERS DOMESTIC SERVICE', 10: 'CHAPTER X. ENTER SIR JAMES PEEL EDGERTON', 11: 'CHAPTER XI. JULIUS TELLS A STORY', 12: 'CHAPTER XII. A FRIEND IN NEED', 13: 'CHAPTER XIII. THE VIGIL', 14: 'CHAPTER XIV. A CONSULTATION', 15: 'CHAPTER XV. TUPPENCE RECEIVES A PROPOSAL', 16: 'CHAPTER XVI. FURTHER ADVENTURES OF TOMMY', 17: 'CHAPTER XVII. ANNETTE', 18: 'CHAPTER XVIII. THE TELEGRAM', 19: 'CHAPTER XIX. JANE FINN', 20: 'CHAPTER XX. TOO LATE', 21: 'CHAPTER XXI. TOMMY MAKES A DISCOVERY', 22: 'CHAPTER XXII. IN DOWNING STREET', 23: 'CHAPTER XXIII. A RACE AGAINST TIME', 24: 'CHAPTER XXIV. JULIUS TAKES A HAND', 25: 'CHAPTER XXV. JANE’S STORY', 26: 'CHAPTER XXVI. MR. BROWN', 27: 'CHAPTER XXVII. A SUPPER PARTY AT THE _SAVOY_', 28: 'CHAPTER XXVIII. AND AFTER', 0: 'PROLOGUE'}\n",
            "The Man in the Brown Suit 37 37\n",
            "{1: 'CHAPTER I', 2: 'CHAPTER II', 3: 'CHAPTER III', 4: 'CHAPTER IV', 5: 'CHAPTER V', 6: 'CHAPTER VI', 7: 'CHAPTER VII', 8: 'CHAPTER VIII', 9: 'CHAPTER IX', 10: 'CHAPTER X', 11: 'CHAPTER XI', 12: 'CHAPTER XII', 13: 'CHAPTER XIII', 14: 'CHAPTER XIV', 15: 'CHAPTER XV', 16: 'CHAPTER XVI', 17: 'CHAPTER XVII', 18: 'CHAPTER XVIII', 19: 'CHAPTER XIX', 20: 'CHAPTER XX', 21: 'CHAPTER XXI', 22: 'CHAPTER XXII', 23: 'CHAPTER XXIII', 24: 'CHAPTER XXIV', 25: 'CHAPTER XXV', 26: 'CHAPTER XXVI', 27: 'CHAPTER XXVII', 28: 'CHAPTER XXVIII', 29: 'CHAPTER XXIX', 30: 'CHAPTER XXX', 31: 'CHAPTER XXXI', 32: 'CHAPTER XXXII', 33: 'CHAPTER XXXIII', 34: 'CHAPTER XXXIV', 35: 'CHAPTER XXXV', 36: 'CHAPTER XXXVI', 0: 'PROLOGUE'}\n",
            "The Secret of Chimneys 31 31\n",
            "{1: '1\\r\\n\\r\\nAnthony Cade Signs on', 2: '2\\r\\n\\r\\nA Lady in Distress', 3: '3\\r\\n\\r\\nAnxiety in High Places', 4: '4\\r\\n\\r\\nIntroducing a Very Charming Lady', 5: '5\\r\\n\\r\\nFirst Night in London', 6: '6\\r\\n\\r\\nThe Gentle Art of Blackmail', 7: '7\\r\\n\\r\\nMr. McGrath Refuses an Invitation', 8: '8\\r\\n\\r\\nA Dead Man', 9: '9\\r\\n\\r\\nAnthony Disposes of a Body', 10: '10\\r\\n\\r\\nChimneys', 11: '11\\r\\n\\r\\nSuperintendent Battle Arrives', 12: '12\\r\\n\\r\\nAnthony Tells His Story', 13: '13\\r\\n\\r\\nThe American Visitor', 14: '14\\r\\n\\r\\nMainly Political and Financial', 15: '15\\r\\n\\r\\nThe French Stranger', 16: '16\\r\\n\\r\\nTea in the Schoolroom', 17: '17\\r\\n\\r\\nA Midnight Adventure', 18: '18\\r\\n\\r\\nSecond Midnight Adventure', 19: '19\\r\\n\\r\\nSecret History', 20: '20\\r\\n\\r\\nBattle and Anthony Confer', 21: '21\\r\\n\\r\\nMr. Isaacstein’s Suit-case', 22: '22\\r\\n\\r\\nThe Red Signal', 23: '23\\r\\n\\r\\nEncounter in the Rose Garden', 24: '24\\r\\n\\r\\nThe House at Dover', 25: '25\\r\\n\\r\\nTuesday Night at Chimneys', 26: '26\\r\\n\\r\\nThe 13th of October', 27: '27\\r\\n\\r\\nThe 13th of October (contd.)', 28: '28\\r\\n\\r\\nKing Victor', 29: '29\\r\\n\\r\\nFurther Explanations', 30: '30\\r\\n\\r\\nAnthony Signs on for a New Job', 31: '31\\r\\n\\r\\nSundry Details'}\n",
            "\r\n",
            "\r\n",
            "Scene—Chimneys, 11 A.M. Thursday morning.\r\n",
            "\r\n",
            "Johnson, the police constable, with his coat off, digging.\r\n",
            "\r\n",
            "Something in the nature of a funeral feeling seems to be in the air.\r\n",
            "The friends and relations stand round the grave that Johnson is digging.\r\n",
            "\r\n",
            "George Lomax has the air of the principal beneficiary under the will\r\n",
            "of the deceased. Superintendent Battle, with his immovable face, seems\r\n",
            "pleased that the funeral arrangements have gone so nicely. As the\r\n",
            "undertaker, it reflects credit upon him. Lord Caterham has that solemn\r\n",
            "and shocked look which Englishmen assume when a religious ceremony is\r\n",
            "in progress.\r\n",
            "\r\n",
            "Mr. Fish does not fit into the picture so well. He is not sufficiently\r\n",
            "grave.\r\n",
            "\r\n",
            "Johnson bends to his task. Suddenly he straightens up. A little stir of\r\n",
            "excitement passes round.\r\n",
            "\r\n",
            "“That’ll do, sonny,” says Mr. Fish. “We shall do nicely now.”\r\n",
            "\r\n",
            "One perceives at once that he is really the family physician.\r\n",
            "\r\n",
            "Johnson retires. Mr. Fish, with due solemnity, stoops over the\r\n",
            "excavation. The surgeon is about to operate.\r\n",
            "\r\n",
            "He brings out a small canvas package. With much ceremony he hands it\r\n",
            "to Superintendent Battle. The latter, in his turn, hands it to George\r\n",
            "Lomax. The etiquette of the situation has now been fully complied with.\r\n",
            "\r\n",
            "George Lomax unwraps the package, slits up the oil-silk inside it,\r\n",
            "burrows into further wrapping. For a moment he holds something on the\r\n",
            "palm of his hand—then quickly shrouds it once more in cotton wool.\r\n",
            "\r\n",
            "He clears his throat.\r\n",
            "\r\n",
            "“At this auspicious minute,” he begins, with the clear delivery of the\r\n",
            "practised speaker.\r\n",
            "\r\n",
            "Lord Caterham beats a precipitate retreat. On the terrace he finds his\r\n",
            "daughter.\r\n",
            "\r\n",
            "“Bundle, is that car of yours in order?”\r\n",
            "\r\n",
            "“Yes. Why?”\r\n",
            "\r\n",
            "“Then take me up to town in it immediately. I’m going abroad at\r\n",
            "once—to-day.”\r\n",
            "\r\n",
            "“But, father——”\r\n",
            "\r\n",
            "“Don’t argue with me, Bundle. George Lomax told me when he arrived this\r\n",
            "morning that he was anxious to have a few words with me privately on a\r\n",
            "matter of the utmost delicacy. He added that the King of Timbuctoo was\r\n",
            "arriving in London shortly. I won’t go through it again, Bundle, do you\r\n",
            "hear? Not for fifty George Lomaxes! If Chimneys is so valuable to the\r\n",
            "nation, let the nation buy it. Otherwise I shall sell it to a syndicate\r\n",
            "and they can turn it into an hotel.”\r\n",
            "\r\n",
            "“Where is Codders now?”\r\n",
            "\r\n",
            "Bundle is rising to the situation.\r\n",
            "\r\n",
            "“At the present minute,” replied Lord Caterham, looking at his watch,\r\n",
            "“he is good for at least fifteen minutes about the Empire.”\r\n",
            "\r\n",
            "Another picture.\r\n",
            "\r\n",
            "Mr. Bill Eversleigh, not invited to be present at the graveside\r\n",
            "ceremony, at the telephone.\r\n",
            "\r\n",
            "“No, really, I mean it.... I say, don’t be huffy.... Well, you will\r\n",
            "have supper to-night anyway?... No, I haven’t. I’ve been kept to it\r\n",
            "with my nose at the grindstone. You’ve no idea what Codders is like....\r\n",
            "I say, Dolly, you know jolly well what I think about you.... You know\r\n",
            "I’ve never cared for anyone but you.... Yes, I’ll come to the show\r\n",
            "first. How does the old wheeze go? ‘And the little girl tries, Hooks\r\n",
            "and Eyes’....”\r\n",
            "\r\n",
            "Unearthly sounds. Mr. Eversleigh trying to hum the refrain in question.\r\n",
            "\r\n",
            "And now George’s peroration draws to a close.\r\n",
            "\r\n",
            "... “the lasting peace and prosperity of the British Empire!”\r\n",
            "\r\n",
            "“I guess,” said Mr. Hiram Fish _sotto voce_ to himself and the world at\r\n",
            "large, “that this has been a great little old week.”\r\n",
            "\r\n",
            "\n"
          ]
        }
      ]
    },
    {
      "cell_type": "code",
      "metadata": {
        "id": "S_Lj5Stcn0DN",
        "colab": {
          "base_uri": "https://localhost:8080/"
        },
        "outputId": "fdd9b015-6e06-43cc-dd15-3c1052144b9f"
      },
      "source": [
        "# Author: @verolero86\n",
        "\n",
        "# W.I.P. - first stab takes care of white space characters\n",
        "import numpy as np # to grab unique elements \n",
        "\n",
        "def find_white_space(book,nchars,debug):\n",
        "  result_book = re.findall(r'\\s',book[0:nchars]);\n",
        "\n",
        "#  if debug == True:\n",
        "#    print(repr(book1_chapter1[0:nchars]))\n",
        "\n",
        "  print(f\"Number of white space characters = {len(result_book)}\")\n",
        "  print(f\"Unique types of white space characters found = {np.unique(result_book)}\")\n",
        "\n",
        "  return len(result_book)\n",
        "\n",
        "def remove_specific_white_space(book,regex):\n",
        "  result_book = re.sub(regex,' ',book)\n",
        "\n",
        "  return result_book\n",
        "\n",
        "def clean_data(book):\n",
        "  ws_regex=r'[\\r\\n\\u200a]'\n",
        "  result_book = remove_specific_white_space(book,ws_regex).lower()\n",
        "  return result_book\n",
        "\n",
        "# Set a subset of characters for easier parsing (-1 for all in chapter)\n",
        "num_ws_b1c1 = find_white_space(corpus[1][\"contents\"][1],-1,True);\n",
        "print(num_ws_b1c1)\n",
        "\n",
        "num_ws_b1c2 = find_white_space(corpus[1][\"contents\"][2],-1,False);\n",
        "print(num_ws_b1c2)\n",
        "\n",
        "num_ws_b2c1 = find_white_space(corpus[2][\"contents\"][1],-1,False);\n",
        "print(num_ws_b2c1)\n",
        "\n",
        "# Cleaning up unwanted white space and breaking up int o sentences.\n",
        "b1c1 = corpus[1][\"contents\"][1]\n",
        "regex=r'[\\r\\n\\u200a]'\n",
        "b1c1_no_ws = remove_specific_white_space(b1c1,regex)\n",
        "#print(f\"No \\\\r and \\\\n anymore: {repr(b1c1_no_ws[0:400])}\")\n",
        "#result_sentences = re.findall(r'[^\\.\\!\\?]*[\\.\\!\\?]',b1c1_no_ws);\n",
        "#print(repr(result_sentences[0]))\n",
        "#print(repr(result_sentences))\n",
        "sentence_regex=r'[\\.\\?!](?![\\'\\\"\\u2019\\u201a\\u201c\\u275c\\u275f\\u201e\\u201d\\u0022\\u275e]\\s[a-z])(?![\\'\\\"\\u2019\\u201a\\u201c\\u275c\\u275f\\u201e\\u201d\\u0022\\u275e]\\sI said)[\\'\\\"\\u2018\\u2019\\u201c\\u201d\\)\\]]*\\s*(?<!\\w\\.\\w.)(?<![A-Z][a-z][a-z]\\.)(?<![A-Z][a-z]\\.)(?<![A-Z]\\.)\\s+'\n",
        "#result2=re.split(r'[\\.\\?!](?![\\'\\\"\\u2019\\u201a\\u201c\\u275c\\u275f\\u201e\\u201d\\u0022\\u275e]\\s[a-z])(?![\\'\\\"\\u2019\\u201a\\u201c\\u275c\\u275f\\u201e\\u201d\\u0022\\u275e]\\sI said)[\\'\\\"\\u2018\\u2019\\u201c\\u201d\\)\\]]*\\s*(?<!\\w\\.\\w.)(?<![A-Z][a-z][a-z]\\.)(?<![A-Z][a-z]\\.)(?<![A-Z]\\.)\\s+',b1c1_no_ws,flags=re.UNICODE)\n",
        "result2=re.split(sentence_regex,b1c1_no_ws,flags=re.UNICODE)\n",
        "#print(b1c1_no_ws)\n",
        "b1c1_clean = clean_data(b1c1)\n",
        "result3=re.split(sentence_regex,b1c1_clean,flags=re.UNICODE)\n",
        "print(result2)\n",
        "print(result3)"
      ],
      "execution_count": 7,
      "outputs": [
        {
          "output_type": "stream",
          "name": "stdout",
          "text": [
            "Number of white space characters = 1997\n",
            "Unique types of white space characters found = ['\\n' '\\r' ' ' '\\u200a']\n",
            "1997\n",
            "Number of white space characters = 3883\n",
            "Unique types of white space characters found = ['\\n' '\\r' ' ']\n",
            "3883\n",
            "Number of white space characters = 4723\n",
            "Unique types of white space characters found = ['\\n' '\\r' ' ']\n",
            "4723\n",
            "['  I believe that a well-known anecdote exists to the effect that a young  writer, determined to make the commencement of his story forcible and  original enough to catch and rivet the attention of the most blasé of  editors, penned the following sentence:    “ ‘Hell!’ said the Duchess', 'Strangely enough, this tale of mine opens in much the same fashion', 'Only the lady who gave utterance to the exclamation was not a Duchess', 'It was a day in early June', 'I had been transacting some business in  Paris and was returning by the morning service to London where I was  still sharing rooms with my old friend, the Belgian ex-detective,  Hercule Poirot', 'The Calais express was singularly empty—in fact, my own compartment  held only one other traveller', 'I had made a somewhat hurried departure  from the hotel and was busy assuring myself that I had duly collected  all my traps when the train started', 'Up till then I had hardly noticed  my companion, but I was now violently recalled to the fact of her  existence', 'Jumping up from her seat, she let down the window and stuck  her head out, withdrawing it a moment later with the brief and forcible  ejaculation “Hell', 'Now I am old-fashioned', 'A woman, I consider, should be womanly', 'I have  no patience with the modern neurotic girl who jazzes from morning to  night, smokes like a chimney, and uses language which would make a  Billingsgate fishwoman blush', 'I looked up now, frowning slightly, into a pretty, impudent face,  surmounted by a rakish little red hat', 'A thick cluster of black curls  hid each ear', 'I judged that she was little more than seventeen, but her  face was covered with powder, and her lips were quite impossibly  scarlet', 'Nothing abashed, she returned my glance, and executed an expressive  grimace', '“Dear me, we’ve shocked the kind gentleman!” she observed to an  imaginary audience', '“I apologize for my language', 'Most unladylike, and  all that, but Oh, Lord, there’s reason enough for it', 'Do you know I’ve  lost my only sister', '“Really?” I said politely', '“How unfortunate', '“He disapproves!” remarked the lady', '“He disapproves utterly—of me, and  my sister—which last is unfair, because he hasn’t seen her', 'I opened my mouth, but she forestalled me', '“Say no more', 'Nobody loves me', 'I shall go into the garden and eat  worms', 'Boohoo', 'I am crushed', 'She buried herself behind a large comic French paper', 'In a minute or  two I saw her eyes stealthily peeping at me over the top', 'In spite of  myself I could not help smiling, and in a minute she had tossed the  paper aside, and had burst into a merry peal of laughter', '“I knew you weren’t such a mutt as you looked,” she cried', 'Her laughter was so infectious that I could not help joining in, though  I hardly cared for the word “mutt', 'The girl was certainly all that I  most disliked, but that was no reason why I should make myself  ridiculous by my attitude', 'I prepared to unbend', 'After all, she was  decidedly pretty', '…    “There', 'Now we’re friends!” declared the minx', '“Say you’re sorry about  my sister—”    “I am desolated', '“That’s a good boy', '“Let me finish', 'I was going to add that, although I am desolated, I can  manage to put up with her absence very well', 'I made a little bow', 'But this most unaccountable of damsels frowned and shook her head', '“Cut it out', 'I prefer the ‘dignified disapproval’ stunt', 'Oh, your face', '‘Not one of us,’ it said', 'And you were right there—though, mind you,  it’s pretty hard to tell nowadays', 'It’s not every one who can  distinguish between a demi and a duchess', 'There now, I believe I’ve  shocked you again', 'You’ve been dug out of the backwoods, you have', 'Not  that I mind that', 'We could do with a few more of your sort', 'I just hate  a fellow who gets fresh', 'It makes me mad', 'She shook her head vigorously', '“What are you like when you’re mad', 'I inquired with a smile', '“A regular little devil', 'Don’t care what I say, or what I do, either', 'I  nearly did a chap in once', 'Yes, really', 'He’d have deserved it too', 'Italian blood I’ve got', 'I shall get into trouble one of these days', '“Well,” I begged, “don’t get mad with me', '“I shan’t', 'I like you—did the first moment I set eyes on you', 'But you  looked so disapproving that I never thought we should make friends', '“Well, we have', 'Tell me something about yourself', '“I’m an actress', 'No—not the kind you’re thinking of, lunching at the  Savoy covered with jewellery, and with their photograph in every paper  saying how much they love Madame So and So’s face cream', 'I’ve been on  the boards since I was a kid of six—tumbling', '“I beg your pardon,” I said puzzled', '“Haven’t you seen child acrobats', '“Oh, I understand', '“I’m American born, but I’ve spent most of my life in England', 'We got a  new show now—”    “We', '“My sister and I. Sort of song and dance, and a bit of patter, and a  dash of the old business thrown in', 'It’s quite a new idea, and it hits  them every time', 'There’s to be money in it—”    My new acquaintance leaned forward, and discoursed volubly, a great  many of her terms being quite unintelligible to me', 'Yet I found myself  evincing an increasing interest in her', 'She seemed such a curious  mixture of child and woman', 'Though perfectly worldly-wise, and able, as  she expressed it, to take care of herself, there was yet something  curiously ingenuous in her single-minded attitude towards life, and her  whole-hearted determination to “make good', 'This glimpse of a world  unknown to me was not without its charm, and I enjoyed seeing her vivid  little face light up as she talked', 'We passed through Amiens', 'The name awakened many memories', 'My companion  seemed to have an intuitive knowledge of what was in my mind', '“Thinking of the War', 'I nodded', '“You were through it, I suppose', '“Pretty well', 'I was wounded once, and after the Somme they invalided me  out altogether', 'I had a half fledged Army job for a bit', 'I’m a sort of  private secretary now to an M. P', '“My', 'That’s brainy', '“No, it isn’t', 'There’s really awfully little to do', 'Usually a couple of  hours every day sees me through', 'It’s dull work too', 'In fact, I don’t  know what I should do if I hadn’t got something to fall back upon', '“Don’t say you collect bugs', '“No. I share rooms with a very interesting man', 'He’s a Belgian—an  ex-detective', 'He’s set up as a private detective in London, and he’s  doing extraordinarily well', 'He’s really a very marvellous little man', 'Time and again he has proved to be right where the official police have  failed', 'My companion listened with widening eyes', '“Isn’t that interesting, now', 'I just adore crime', 'I go to all the  mysteries on the movies', 'And when there’s a murder on I just devour the  papers', '“Do you remember the Styles Case', 'I asked', '“Let me see, was that the old lady who was poisoned', 'Somewhere down in  Essex', 'I nodded', '“That was Poirot’s first big case', 'Undoubtedly, but for him, the  murderer would have escaped scot-free', 'It was a most wonderful bit of  detective work', 'Warming to my subject, I ran over the heads of the affair, working up  to the triumphant and unexpected dénouement', 'The girl listened  spellbound', 'In fact, we were so absorbed that the train drew into  Calais station before we realized it', '“My goodness gracious me!” cried my companion', '“Where’s my  powder-puff', 'She proceeded to bedaub her face liberally, and then applied a stick of  lip salve to her lips, observing the effect in a small pocket glass,  and betraying not the faintest sign of self-consciousness', '“I say,” I hesitated', '“I dare say it’s cheek on my part, but why do all  that sort of thing', 'The girl paused in her operations, and stared at me with undisguised  surprise', '“It isn’t as though you weren’t so pretty that you can afford to do  without it,” I said stammeringly', '“My dear boy', 'I’ve got to do it', 'All the girls do', 'Think I want to look  like a little frump up from the country', 'She took one last look in the  mirror, smiled approval, and put it and her vanity-box away in her bag', '“That’s better', 'Keeping up appearances is a bit of a fag, I grant, but  if a girl respects herself it’s up to her not to let herself get  slack', 'To this essentially moral sentiment, I had no reply', 'A point of view  makes a great difference', 'I secured a couple of porters, and we alighted on the platform', 'My  companion held out her hand', '“Good-bye, and I’ll mind my language better in future', '“Oh, but surely you’ll let me look after you on the boat', '“Mayn’t be on the boat', 'I’ve got to see whether that sister of mine got  aboard after all anywhere', 'But thanks all the same', '“Oh, but we’re going to meet again, surely', 'I—” I hesitated', '“I want to  meet your sister', 'We both laughed', '“That’s real nice of you', 'I’ll tell her what you say', 'But I don’t fancy  we’ll meet again', 'You’ve been very good to me on the journey,  especially after I cheeked you as I did', 'But what your face expressed  first thing is quite true', 'I’m not your kind', 'And that brings  trouble—_I___ know that well enough', '…”    Her face changed', 'For the moment all the light-hearted gaiety died out  of it', 'It looked angry—revengeful', '…    “So good-bye,” she finished, in a lighter tone', '“Aren’t you even going to tell me your name', 'I cried, as she turned  away', 'She looked over her shoulder', 'A dimple appeared in each cheek', 'She was  like a lovely picture by Greuze', '“Cinderella,” she said, and laughed', 'But little did I think when and how I should see Cinderella again', '']\n",
            "['  i believe that a well-known anecdote exists to the effect that a young  writer, determined to make the commencement of his story forcible and  original enough to catch and rivet the attention of the most blasé of  editors, penned the following sentence:    “ ‘hell!’ said the duchess', 'strangely enough, this tale of mine opens in much the same fashion', 'only the lady who gave utterance to the exclamation was not a duchess', 'it was a day in early june', 'i had been transacting some business in  paris and was returning by the morning service to london where i was  still sharing rooms with my old friend, the belgian ex-detective,  hercule poirot', 'the calais express was singularly empty—in fact, my own compartment  held only one other traveller', 'i had made a somewhat hurried departure  from the hotel and was busy assuring myself that i had duly collected  all my traps when the train started', 'up till then i had hardly noticed  my companion, but i was now violently recalled to the fact of her  existence', 'jumping up from her seat, she let down the window and stuck  her head out, withdrawing it a moment later with the brief and forcible  ejaculation “hell', 'now i am old-fashioned', 'a woman, i consider, should be womanly', 'i have  no patience with the modern neurotic girl who jazzes from morning to  night, smokes like a chimney, and uses language which would make a  billingsgate fishwoman blush', 'i looked up now, frowning slightly, into a pretty, impudent face,  surmounted by a rakish little red hat', 'a thick cluster of black curls  hid each ear', 'i judged that she was little more than seventeen, but her  face was covered with powder, and her lips were quite impossibly  scarlet', 'nothing abashed, she returned my glance, and executed an expressive  grimace', '“dear me, we’ve shocked the kind gentleman!” she observed to an  imaginary audience', '“i apologize for my language', 'most unladylike, and  all that, but oh, lord, there’s reason enough for it', 'do you know i’ve  lost my only sister', '“really?” i said politely', '“how unfortunate', '“he disapproves!” remarked the lady', '“he disapproves utterly—of me, and  my sister—which last is unfair, because he hasn’t seen her', 'i opened my mouth, but she forestalled me', '“say no more', 'nobody loves me', 'i shall go into the garden and eat  worms', 'boohoo', 'i am crushed', 'she buried herself behind a large comic french paper', 'in a minute or  two i saw her eyes stealthily peeping at me over the top', 'in spite of  myself i could not help smiling, and in a minute she had tossed the  paper aside, and had burst into a merry peal of laughter', '“i knew you weren’t such a mutt as you looked,” she cried', 'her laughter was so infectious that i could not help joining in, though  i hardly cared for the word “mutt.” the girl was certainly all that i  most disliked, but that was no reason why i should make myself  ridiculous by my attitude', 'i prepared to unbend', 'after all, she was  decidedly pretty', '…    “there', 'now we’re friends!” declared the minx', '“say you’re sorry about  my sister—”    “i am desolated', '“that’s a good boy', '“let me finish', 'i was going to add that, although i am desolated, i can  manage to put up with her absence very well.” i made a little bow', 'but this most unaccountable of damsels frowned and shook her head', '“cut it out', 'i prefer the ‘dignified disapproval’ stunt', 'oh, your face', '‘not one of us,’ it said', 'and you were right there—though, mind you,  it’s pretty hard to tell nowadays', 'it’s not every one who can  distinguish between a demi and a duchess', 'there now, i believe i’ve  shocked you again', 'you’ve been dug out of the backwoods, you have', 'not  that i mind that', 'we could do with a few more of your sort', 'i just hate  a fellow who gets fresh', 'it makes me mad', 'she shook her head vigorously', '“what are you like when you’re mad?” i inquired with a smile', '“a regular little devil', 'don’t care what i say, or what i do, either', 'i  nearly did a chap in once', 'yes, really', 'he’d have deserved it too', 'italian blood i’ve got', 'i shall get into trouble one of these days', '“well,” i begged, “don’t get mad with me', '“i shan’t', 'i like you—did the first moment i set eyes on you', 'but you  looked so disapproving that i never thought we should make friends', '“well, we have', 'tell me something about yourself', '“i’m an actress', 'no—not the kind you’re thinking of, lunching at the  savoy covered with jewellery, and with their photograph in every paper  saying how much they love madame so and so’s face cream', 'i’ve been on  the boards since i was a kid of six—tumbling', '“i beg your pardon,” i said puzzled', '“haven’t you seen child acrobats', '“oh, i understand', '“i’m american born, but i’ve spent most of my life in england', 'we got a  new show now—”    “we', '“my sister and i', 'sort of song and dance, and a bit of patter, and a  dash of the old business thrown in', 'it’s quite a new idea, and it hits  them every time', 'there’s to be money in it—”    my new acquaintance leaned forward, and discoursed volubly, a great  many of her terms being quite unintelligible to me', 'yet i found myself  evincing an increasing interest in her', 'she seemed such a curious  mixture of child and woman', 'though perfectly worldly-wise, and able, as  she expressed it, to take care of herself, there was yet something  curiously ingenuous in her single-minded attitude towards life, and her  whole-hearted determination to “make good.” this glimpse of a world  unknown to me was not without its charm, and i enjoyed seeing her vivid  little face light up as she talked', 'we passed through amiens', 'the name awakened many memories', 'my companion  seemed to have an intuitive knowledge of what was in my mind', '“thinking of the war', 'i nodded', '“you were through it, i suppose', '“pretty well', 'i was wounded once, and after the somme they invalided me  out altogether', 'i had a half fledged army job for a bit', 'i’m a sort of  private secretary now to an m', 'p', '“my', 'that’s brainy', '“no, it isn’t', 'there’s really awfully little to do', 'usually a couple of  hours every day sees me through', 'it’s dull work too', 'in fact, i don’t  know what i should do if i hadn’t got something to fall back upon', '“don’t say you collect bugs', '“no', 'i share rooms with a very interesting man', 'he’s a belgian—an  ex-detective', 'he’s set up as a private detective in london, and he’s  doing extraordinarily well', 'he’s really a very marvellous little man', 'time and again he has proved to be right where the official police have  failed', 'my companion listened with widening eyes', '“isn’t that interesting, now', 'i just adore crime', 'i go to all the  mysteries on the movies', 'and when there’s a murder on i just devour the  papers', '“do you remember the styles case?” i asked', '“let me see, was that the old lady who was poisoned', 'somewhere down in  essex', 'i nodded', '“that was poirot’s first big case', 'undoubtedly, but for him, the  murderer would have escaped scot-free', 'it was a most wonderful bit of  detective work', 'warming to my subject, i ran over the heads of the affair, working up  to the triumphant and unexpected dénouement', 'the girl listened  spellbound', 'in fact, we were so absorbed that the train drew into  calais station before we realized it', '“my goodness gracious me!” cried my companion', '“where’s my  powder-puff', 'she proceeded to bedaub her face liberally, and then applied a stick of  lip salve to her lips, observing the effect in a small pocket glass,  and betraying not the faintest sign of self-consciousness', '“i say,” i hesitated', '“i dare say it’s cheek on my part, but why do all  that sort of thing', 'the girl paused in her operations, and stared at me with undisguised  surprise', '“it isn’t as though you weren’t so pretty that you can afford to do  without it,” i said stammeringly', '“my dear boy', 'i’ve got to do it', 'all the girls do', 'think i want to look  like a little frump up from the country?” she took one last look in the  mirror, smiled approval, and put it and her vanity-box away in her bag', '“that’s better', 'keeping up appearances is a bit of a fag, i grant, but  if a girl respects herself it’s up to her not to let herself get  slack', 'to this essentially moral sentiment, i had no reply', 'a point of view  makes a great difference', 'i secured a couple of porters, and we alighted on the platform', 'my  companion held out her hand', '“good-bye, and i’ll mind my language better in future', '“oh, but surely you’ll let me look after you on the boat', '“mayn’t be on the boat', 'i’ve got to see whether that sister of mine got  aboard after all anywhere', 'but thanks all the same', '“oh, but we’re going to meet again, surely', 'i—” i hesitated', '“i want to  meet your sister', 'we both laughed', '“that’s real nice of you', 'i’ll tell her what you say', 'but i don’t fancy  we’ll meet again', 'you’ve been very good to me on the journey,  especially after i cheeked you as i did', 'but what your face expressed  first thing is quite true', 'i’m not your kind', 'and that brings  trouble—_i___ know that well enough', '…”    her face changed', 'for the moment all the light-hearted gaiety died out  of it', 'it looked angry—revengeful', '…    “so good-bye,” she finished, in a lighter tone', '“aren’t you even going to tell me your name?” i cried, as she turned  away', 'she looked over her shoulder', 'a dimple appeared in each cheek', 'she was  like a lovely picture by greuze', '“cinderella,” she said, and laughed', 'but little did i think when and how i should see cinderella again', '']\n"
          ]
        }
      ]
    },
    {
      "cell_type": "code",
      "metadata": {
        "id": "br9fgnQ-ZczA"
      },
      "source": [
        "#Dev Notes: will refactor fetch() to generate dict of titles and indices rather than take in index\n",
        "# I.e., fetch() is backwards. should assign index based on title while fetching url\n",
        "\n",
        "\n",
        "#artifacts I've spotted in data:\n",
        "# I noticed and \"[Illustration]\" artifact in the mysterious affair at style.\n",
        "\n",
        "#possible start for sentence splitting regex\n",
        "#sentence_regex = r'([\\.\\?!][\\'\\\"\\u2018\\u2019\\u201c\\u201d\\)\\]]*\\s*(?<!\\w\\.\\w.)(?<![A-Z][a-z][a-z]\\.)(?<![A-Z][a-z]\\.)(?<![A-Z]\\.)\\s+)\n",
        "\n",
        "# V: do we need to clean up contractions to be spelled out? e.g., \"I'm\" to \"I am\", \"don't\" to \"do not\".\n",
        "#  "
      ],
      "execution_count": 6,
      "outputs": []
    },
    {
      "cell_type": "markdown",
      "metadata": {
        "id": "3ovkF0EC1VdA"
      },
      "source": [
        "#Data Cleaning\n",
        "\n",
        "## Background Research\n",
        "\n",
        "\n",
        "- There are inconsistencies between the novel formats. Some of them start with a prologue and others dont. \n",
        "- There is START OF THE PROJECT present in the beginning of most but not all books, others have 'START OF THIS PROJECT', but   table of contents appear after that.\n",
        "- Some of them have the word table of contents, others say contents\n",
        "- some follow roman numeral in naming chapters, others dont\n",
        "- Some use the word 'chapter' , others just kist chapter titles followed by a number\n",
        "- Novel text files have license and other info at the end\n",
        "\n",
        "These factors above will need to be considered in data cleaning. \n",
        "\n",
        "Listing a few key particulars below: \n",
        "\n",
        "- The Mysterious Affair at Styles \n",
        "    - This Phrase is present at the beginning - \\*** START OF THE PROJECT \n",
        "    - The Novel plot starts at second instance of 'chapter I.' # period is important here. \n",
        "    - Novel ends at 'THE END' and has \\*** END OF THE PROJECT GUTENBERG EBOOK...'. \n",
        "    - Each chapter starts with 'Chapter' followed by chapter number in roman numeral, followed by new line, followed by title of chapter\n",
        "  \n",
        "\n",
        "- The Murder on the Links \n",
        "  - This Phrase is present at the beginning - \\*** START OF THIS PROJECT \n",
        "  - The Novel plot starts at second instance of '1 A Fellow Traveller'. Novel ends at 'End of Project Gutenberg's The Murder on the Links, by Agatha Christie\n",
        "  - and has \\*** END OF THIS PROJECT GUTENBERG ...' at the end. .\n",
        " - Each chapter  starts with number followed by title of chapter\n",
        "\n",
        "\n",
        "- The Secret Adversary \n",
        "  - This Phrase is present at the beginning - \\*** START OF THIS PROJECT \n",
        "  - The Novel plot starts at second instance of 'PROLOGUE'. Novel ends at 'End of the Project Gutenberg EBook of The Secret Adversary, by Agatha Christie' \n",
        "  -  has \\*** END OF THIS PROJECT GUTENBERG ...' at the end. \n",
        "  - Each chapter starts with 'Chapter' followed by chapter number in roman numeral, followed by title of chapter\n",
        "\n",
        "\n",
        "- The Man in the Brown Suit \n",
        "  - This Phrase is present at the beginning - \\*** START OF THIS PROJECT \n",
        "  - The Novel starts at second instance of 'PROLOGUE'. Novel ends at 'End of Project Gutenberg's The Man in the Brown Suit, by Agatha Christie' \n",
        "  - has \\*** END OF THIS PROJECT GUTENBERG ...' at the end. \n",
        "  - Each chapter starts with 'Chapter' followed by chapter number in roman numeral\n",
        "\n",
        "\n",
        "- The Secret of Chimneys \n",
        "    - This Phrase is present at the beginning - \\*** START OF THE PROJECT \n",
        "  - The Novel plot starts at second instance of '1 (new line)\n",
        "Anthony Cade Signs on' # new line is first here. \n",
        "- Novel ends at 'Transcriber's Notes:' and has \\*** END OF THE PROJECT GUTENBERG...' at the end.\n",
        "Each chapter starts with number followed by new line followed by title of chapter\n"
      ]
    },
    {
      "cell_type": "code",
      "metadata": {
        "id": "EkyIet661XXl"
      },
      "source": [
        ""
      ],
      "execution_count": 6,
      "outputs": []
    },
    {
      "cell_type": "markdown",
      "metadata": {
        "id": "W3QdymCF1Xzm"
      },
      "source": [
        "#Data Tokenization / Prep for analysis\n",
        "\n",
        "Note: since we are not allowed to use NLTK for tokenization, we will have to use python for this as well. \n",
        "\n",
        "We can use split() but that would be very basic as it doesnt achieve tokens in a linguistic sense; we should be able to use the re package that adds support for regex; after all the point for us is to learn regex better. Recommend using re.split with our custom regex \n",
        "https://docs.python.org/3/library/re.html\n",
        "\n",
        "\n",
        "###Helpful Links: \n",
        "- https://python.plainenglish.io/how-to-tokenize-sentences-without-using-any-nlp-library-in-python-a381b75f7d22 \n",
        "- https://stackoverflow.com/questions/21361073/tokenize-words-in-a-list-of-sentences-python\n",
        "\n",
        "\n"
      ]
    },
    {
      "cell_type": "code",
      "metadata": {
        "id": "PGOjoKEn1fn_"
      },
      "source": [
        ""
      ],
      "execution_count": 6,
      "outputs": []
    },
    {
      "cell_type": "markdown",
      "metadata": {
        "id": "BCj4aRmu1gBl"
      },
      "source": [
        "#Data Analysis"
      ]
    },
    {
      "cell_type": "markdown",
      "metadata": {
        "id": "R46wL0Jj1lz8"
      },
      "source": [
        "Goal of this project is to analyze the frequencies of occurrence of the protagonists and the perpetrator(s) across the novel - per chapter, and per sentence in a chapter, the mention of the crime, and other circumstances surrounding the antagonists. The ultimate objective is to use basic NLP tools to observe any patterns in plot structures across the works of one or all of the authors.  Specifically, analysis questions below need to be answered. \n",
        "\n",
        "Note: To effectively conduct this analysis, you should find resources, and read the plot summaries of each novel, so you can make your search more effective. If plot summaries are not available, use regex to search for clues, and report how well/how fast that approach worked. \n",
        "\n",
        "The plot summary answers derived from reading the book/ summary are located below each question"
      ]
    },
    {
      "cell_type": "markdown",
      "metadata": {
        "id": "PAEn08Le1jxG"
      },
      "source": [
        "##Pre-Steps"
      ]
    },
    {
      "cell_type": "markdown",
      "metadata": {
        "id": "V7NpNWwiL1Yu"
      },
      "source": [
        "Details of each book: \n",
        "\n",
        "- The Mysterious Affair at Styles \n",
        "  - Lead detective: Hercule Poirot, Arthur Hastings\n",
        "  - Other detectives/assistants: \n",
        "  - Victim: Emily Inglethorp\n",
        "  - Suspects: Alfred Inglethorp , Cavendish\n",
        "  - Perpetrator(s): Alfred Inglethorp, Evelyn Howard\n",
        "  - Other important characters: John Cavendish, \n",
        "  - Crime: Murder, Poisoning\n",
        "  - motif: murder mystery\n",
        "https://agathachristie.fandom.com/wiki/The_Mysterious_Affair_at_Styles\n",
        "\n",
        "\n",
        "- The Murder on the Links \n",
        "  - Lead detective(s): Hercule Poirot, Arthur Hastings\n",
        "  - Other detectives/assistants:  Monsieur Giraud, Monsieur Hautet\n",
        "  - Victim: Paul Renauld\n",
        "  - Suspects: Jack Renauld\n",
        "  - Perpetrator: Marthe Daubreuil.\n",
        "  - Other important characters:  Paul Renauld, Eloise Renauld, Jack Renauld, Madame Daubreuil, Gabriel Stonor, Georges Conneau, Madame Beroldy, Marthe Daubreuil, Bella Duveen, Dulcie Duveen (Cindrella), Cindrella\n",
        "  - Crime: Murder, Stabbing\n",
        "  - motif: murder mystery\n",
        "https://en.wikipedia.org/wiki/The_Murder_on_the_Links\n",
        "https://agathachristie.fandom.com/wiki/The_Murder_on_the_Links\n",
        "\n",
        "\n",
        "\n",
        "- The Secret Adversary  (complicated, Needs to be looked at more)\n",
        "  - Lead detective: Tommy and Tuppence, Tommy Beresford, Tuppence Cowley, Prudence Cowley, Prudence \"Tuppence\" Cowley, \n",
        "  - Other detectives/assistants: \n",
        "  - Victim: Jane Finn, Mrs. Vandemeyer\n",
        "  - Suspects: Mr. Brown,  Julius Hersheimmer\n",
        "  - Perpetrator: Sir James Peel Edgerton\n",
        "  - Other important characters: Jane Finn\n",
        "  - Crime: Espionage, Kidnapping\n",
        "  - motif: thriller focus rather than detection\n",
        "\n",
        "\n",
        "- The Man in the Brown Suit (complicated, Needs to be looked at more)\n",
        "  - Lead detective: Anne Beddingfeld\n",
        "  - Other detectives/assistants: \n",
        "  - Victim: Nadina aka Anita Grünberg, L. B. Carton\n",
        "  - Suspects: Harry\n",
        "  - Perpetrator: Sir Eustace Pedler\n",
        "  - Other important characters: Nadina, Count Sergius Paulovitch, the Colonel,  , Suzanne Blair, Colonel Race, Guy Pagett, Harry Rayburn, Harry Rayburn, Rev. Chichester, Miss Pettigrew,Harry Parker, Chichester\n",
        "  - Crime: diamond theft, murders, kidnapping\n",
        "  - motif: thriller focus rather than detection\n",
        "\n",
        "\n",
        "- The Secret of Chimneys (complicated, Needs to be looked at more)\n",
        "  - Lead detective: Anthony Cade aka Prince Nicholas\n",
        "  - Other detectives/assistants: Superintendent Battle, Monsieur Lemoine of the Sûreté, Mr. Fish aka american agent\n",
        "  - Victim: Perceived: Count Stanislaus aka Prince Michael Obolovitch\n",
        "  - Suspects: Anthony Cade, Prince Nicholas, King Victor, \n",
        "  - Perpetrator: Mlle Brun aka Queen Varaga aka Angèle Mory, M Lemoine aka King Victor\n",
        "  - Other important characters: King Nicholas IV, Queen Varaga aka Angèle Mory, Herman Isaacstein, Prince Michael Obolovitch,  George Lomax, Count Stylptitch, Jimmy McGrath, Virginia Revel, Captain O'Neill, Captain O'Neill, Mr Holmes, Isaacstein, Hiram P. Fish, Prince Nicholas, Mademoiselle Mlle Brun, Bill Eversleigh, Monsieur Lemoine of the Sûreté, Professor Wynwood, Boris Anchoukoff,\n",
        "   - Crime: sensitive document theft, murders, treasure hunt, espionage\n",
        "  - motif: thriller focus rather than detection\n",
        "\n"
      ]
    },
    {
      "cell_type": "code",
      "metadata": {
        "id": "ATzzpDAt1lnN"
      },
      "source": [
        ""
      ],
      "execution_count": 6,
      "outputs": []
    },
    {
      "cell_type": "code",
      "metadata": {
        "id": "VfT-3mXl1o6G"
      },
      "source": [
        ""
      ],
      "execution_count": 6,
      "outputs": []
    },
    {
      "cell_type": "markdown",
      "metadata": {
        "id": "CbkLHRPQ1pLl"
      },
      "source": [
        "##1. When does the detective (or a pair) occur for the first time -  chapter #, the sentence(s) # in a chapter,\n",
        "\n",
        "####Background research\n",
        "Poirot appears in Chapter# 1, sentence # 2 for the first time"
      ]
    },
    {
      "cell_type": "code",
      "metadata": {
        "id": "ePM70xfk1wWY"
      },
      "source": [
        ""
      ],
      "execution_count": 6,
      "outputs": []
    },
    {
      "cell_type": "markdown",
      "metadata": {
        "id": "GLq-sNsm1wu_"
      },
      "source": [
        "##2. When is the crime first mentioned - the type of the crime and the details -  chapter #, the sentence(s) # in a chapter,\n"
      ]
    },
    {
      "cell_type": "code",
      "metadata": {
        "id": "1R9c9sHm1076"
      },
      "source": [
        ""
      ],
      "execution_count": 6,
      "outputs": []
    },
    {
      "cell_type": "markdown",
      "metadata": {
        "id": "DcRq576e11V_"
      },
      "source": [
        "##3. When is the perpetrator first mentioned - chapter #, the sentence(s) # in a chapter,"
      ]
    },
    {
      "cell_type": "code",
      "metadata": {
        "id": "4OWqQFtC155B"
      },
      "source": [
        ""
      ],
      "execution_count": 6,
      "outputs": []
    },
    {
      "cell_type": "markdown",
      "metadata": {
        "id": "-F_GYvFv16SX"
      },
      "source": [
        "## 4. What are the 3 words that occur around the perpetrator on each mention (i.e., the three words preceding, and the three words following the mention of a perpetrator),"
      ]
    },
    {
      "cell_type": "code",
      "metadata": {
        "id": "u-sZeYwg19lB"
      },
      "source": [
        ""
      ],
      "execution_count": 6,
      "outputs": []
    },
    {
      "cell_type": "markdown",
      "metadata": {
        "id": "rGOQisCW190Y"
      },
      "source": [
        "## 5. When and how the detective/detectives and the perpetrators co-occur - chapter #, the sentence(s) # in a chapter,"
      ]
    },
    {
      "cell_type": "code",
      "metadata": {
        "id": "Uf_QyW7629H4"
      },
      "source": [
        ""
      ],
      "execution_count": 6,
      "outputs": []
    },
    {
      "cell_type": "markdown",
      "metadata": {
        "id": "bDDmhW4P29Z-"
      },
      "source": [
        "## 6. When are other suspects first introduced - chapter #, the sentence(s) # in a chapter"
      ]
    },
    {
      "cell_type": "code",
      "metadata": {
        "id": "1qttHUqV3C5g"
      },
      "source": [
        ""
      ],
      "execution_count": 6,
      "outputs": []
    },
    {
      "cell_type": "markdown",
      "metadata": {
        "id": "rsajewrP3VEd"
      },
      "source": [
        "# Additional/Extra Analysis"
      ]
    },
    {
      "cell_type": "code",
      "metadata": {
        "id": "rAyzwcaG3Z5j"
      },
      "source": [
        ""
      ],
      "execution_count": 6,
      "outputs": []
    },
    {
      "cell_type": "markdown",
      "metadata": {
        "id": "Q0FN0SH_3azr"
      },
      "source": [
        "# Practice Section"
      ]
    },
    {
      "cell_type": "code",
      "metadata": {
        "id": "KthIUBm43eD_"
      },
      "source": [
        ""
      ],
      "execution_count": 6,
      "outputs": []
    }
  ]
}