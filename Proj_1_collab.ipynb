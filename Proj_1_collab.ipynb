{
  "nbformat": 4,
  "nbformat_minor": 0,
  "metadata": {
    "colab": {
      "name": "Proj_1_collab.ipynb",
      "provenance": [],
      "collapsed_sections": []
    },
    "kernelspec": {
      "display_name": "Python 3 (ipykernel)",
      "language": "python",
      "name": "python3"
    },
    "language_info": {
      "codemirror_mode": {
        "name": "ipython",
        "version": 3
      },
      "file_extension": ".py",
      "mimetype": "text/x-python",
      "name": "python",
      "nbconvert_exporter": "python",
      "pygments_lexer": "ipython3",
      "version": "3.8.10"
    }
  },
  "cells": [
    {
      "cell_type": "markdown",
      "metadata": {
        "id": "8FHlrdot1Lsi"
      },
      "source": [
        "# `692 Team 1 Proj-1 : Crime Novel Plot Analysis with Regex - Agatha Christie`\n",
        "\n",
        "## Objective\n",
        "The goal of this project is to conduct a plot and protagonist/antagonist analysis of the famous crime novels. For this project, we will analyze five publicly available crime novels/stories by Agatha Christie at the project Gutenberg http://www.gutenberg.org/. The novels chosen are: \n",
        "\n",
        "- The Murder on the Links \n",
        "- The Mysterious Affair at Styles \n",
        "- The Secret Adversary \n",
        "- The Man in the Brown Suit \n",
        "- The Secret of Chimneys \n",
        "\n",
        "Note: Feel free to use any background resource for the understanding of the plot, protagonist and antagonist names, and other details. Look for spoilers, details, etc. Our goal is not to predict the crime, but to computationally analyze the structure of the plot."
      ]
    },
    {
      "cell_type": "markdown",
      "metadata": {
        "id": "3ovkF0EC1VdA"
      },
      "source": [
        "\n",
        "## Data Collection and Preparation \n",
        "\n",
        "### Background Research for Data Collection and Preparation \n",
        "\n",
        "##### Data Collection\n",
        "Location for Plain text UTF-8 files for novels: \n",
        "- The Mysterious Affair at Styles https://www.gutenberg.org/files/863/863-0.txt\n",
        "- The Murder on the Links https://www.gutenberg.org/files/58866/58866-0.txt\n",
        "- The Secret Adversary https://www.gutenberg.org/files/1155/1155-0.txt\n",
        "- The Man in the Brown Suit https://www.gutenberg.org/files/61168/61168-0.txt\n",
        "- The Secret of Chimneys https://www.gutenberg.org/files/65238/65238-0.txt\n",
        "\n",
        "Note: One benefit to getting the text version is that the html version also has page number to clean, not present in text files\n",
        "\n",
        "##### Data Preparation\n",
        "- There are inconsistencies between the novel formats. Some of them start with a prologue and others dont. \n",
        "- There is START OF THE PROJECT present in the beginning of most but not all books, others have 'START OF THIS PROJECT', but   table of contents appear after that.\n",
        "- Some of them have the word table of contents, others say contents\n",
        "- some follow roman numeral in naming chapters, others dont\n",
        "- Some use the word 'chapter' , others just kist chapter titles followed by a number\n",
        "- Novel text files have license and other info at the end\n",
        "\n",
        "These factors above will need to be considered in data cleaning. \n",
        "Listing a few key particulars below: \n",
        "\n",
        "- The Murder on the Links \n",
        "  - This Phrase is present at the beginning - \\*** START OF THIS PROJECT \n",
        "  - The Novel plot starts at second instance of '1 A Fellow Traveller'. Novel ends at 'End of Project Gutenberg's The Murder on the Links, by Agatha Christie\n",
        "  - and has \\*** END OF THIS PROJECT GUTENBERG ...' at the end. .\n",
        "  - Each chapter  starts with number followed by title of chapter\n",
        "  \n",
        "  \n",
        "- The Mysterious Affair at Styles \n",
        "    - This Phrase is present at the beginning - \\*** START OF THE PROJECT \n",
        "    - The Novel plot starts at second instance of 'chapter I.' # period is important here. \n",
        "    - Novel ends at 'THE END' and has \\*** END OF THE PROJECT GUTENBERG EBOOK...'. \n",
        "    - Each chapter starts with 'Chapter' followed by chapter number in roman numeral, followed by new line, followed by title of chapter\n",
        "  \n",
        "\n",
        "- The Secret Adversary \n",
        "  - This Phrase is present at the beginning - \\*** START OF THIS PROJECT \n",
        "  - The Novel plot starts at second instance of 'PROLOGUE'. Novel ends at 'End of the Project Gutenberg EBook of The Secret Adversary, by Agatha Christie' \n",
        "  -  has \\*** END OF THIS PROJECT GUTENBERG ...' at the end. \n",
        "  - Each chapter starts with 'Chapter' followed by chapter number in roman numeral, followed by title of chapter\n",
        "\n",
        "\n",
        "- The Man in the Brown Suit \n",
        "  - This Phrase is present at the beginning - \\*** START OF THIS PROJECT \n",
        "  - The Novel starts at second instance of 'PROLOGUE'. Novel ends at 'End of Project Gutenberg's The Man in the Brown Suit, by Agatha Christie' \n",
        "  - has \\*** END OF THIS PROJECT GUTENBERG ...' at the end. \n",
        "  - Each chapter starts with 'Chapter' followed by chapter number in roman numeral\n",
        "\n",
        "\n",
        "- The Secret of Chimneys \n",
        "  - This Phrase is present at the beginning - \\*** START OF THE PROJECT \n",
        "  - The Novel plot starts at second instance of '1 (new line)\n",
        "  - Anthony Cade Signs on' # new line is first here. \n",
        "  - Novel ends at 'Transcriber's Notes:' and has \\*** END OF THE PROJECT GUTENBERG...' at the end.\n",
        "Each chapter starts with number followed by new line followed by title of chapter\n",
        "\n",
        "\n",
        "##### Data Tokenization\n",
        "Note: since we are not allowed to use NLTK or Spacy for tokenization, we will have to use python for this as well. \n",
        "We can use split() but that would be very basic as it doesnt achieve tokens in a linguistic sense; we should be able to use the re package that adds support for regex; after all the point for us is to learn regex better. Recommend using re.split with our custom regex \n",
        "https://docs.python.org/3/library/re.html\n",
        "\n",
        "##### Helpful Reference Links\n",
        "- https://stackoverflow.com/questions/7243750/download-file-from-web-in-python-3\n",
        "- https://docs.python.org/3/howto/urllib2.html\n",
        "- https://python.plainenglish.io/how-to-tokenize-sentences-without-using-any-nlp-library-in-python-a381b75f7d22 \n",
        "- https://stackoverflow.com/questions/21361073/tokenize-words-in-a-list-of-sentences-python\n"
      ]
    },
    {
      "cell_type": "markdown",
      "metadata": {
        "id": "g5f2YhUi7K3F"
      },
      "source": [
        "\n",
        "### Data Collection and Preparation Code\n"
      ]
    },
    {
      "cell_type": "markdown",
      "metadata": {
        "id": "BLBI512N7K3F"
      },
      "source": [
        "\n",
        "##### Helper Functions for retrieving and cleaning corpus\n"
      ]
    },
    {
      "cell_type": "code",
      "metadata": {
        "id": "FHwNdj3-S5gW"
      },
      "source": [
        "#Author: Luke+Veronica\n",
        "#Description: Functions for retrieving and cleaning corpus\n",
        "import urllib.request, re\n",
        "\n",
        "# this function accepts a book title as a parameter and fetches the index based on the title \n",
        "def get_index(title):\n",
        "  last_reg=re.compile(r\"\\w+$\")\n",
        "  last_word=re.findall(last_reg,title)[0]\n",
        "  if last_word ==\"Links\":\n",
        "    #\"The Murder on the Links\"\n",
        "    index=1\n",
        "  elif last_word==\"Styles\":\n",
        "    #\"The Mysterious Affair at Styles\"\n",
        "    index=2\n",
        "  elif last_word==\"Adversary\":\n",
        "    #\"The Secret Adversary\"\n",
        "    index=3\n",
        "  elif last_word==\"Suit\":\n",
        "    #\"The Man in the Brown Suit\"\n",
        "    index=4\n",
        "  elif last_word==\"Chimneys\":\n",
        "    #\"The Secret of Chimneys\"\n",
        "    index=5\n",
        "  return index\n",
        "\n",
        "# this function accepts a book index as a parameter and fetches the title based on the index \n",
        "def get_title(index):\n",
        "  if index==1:\n",
        "    title='The Murder on the Links'\n",
        "  elif index==2:\n",
        "    title='The Mysterious Affair at Styles'\n",
        "  elif index==3:\n",
        "    title='The Secret Adversary'\n",
        "  elif index==4:\n",
        "    title='The Man in the Brown Suit'  \n",
        "  elif index==5:\n",
        "    title='The Secret of Chimneys'\n",
        "  return title\n",
        "\n",
        "# this function accepts a book index as a parameter and get the text for the book from project gutenberg \n",
        "def get_text(index):\n",
        "  if index==1:\n",
        "    #\"The Murder on the Links\"\n",
        "    url = \"https://www.gutenberg.org/files/58866/58866-0.txt\"\n",
        "  elif index==2:\n",
        "    #\"The Mysterious Affair at Styles\"\n",
        "    url=\"https://www.gutenberg.org/files/863/863-0.txt\"\n",
        "  elif index==3:\n",
        "    #\"The Secret Adversary\"\n",
        "    url=\"https://www.gutenberg.org/files/1155/1155-0.txt\"\n",
        "  elif index==4:\n",
        "    #\"The Man in the Brown Suit\"\n",
        "    url=\"https://www.gutenberg.org/files/61168/61168-0.txt\"\n",
        "  elif index==5:\n",
        "    #\"The Secret of Chimneys\"\n",
        "    url=\"https://www.gutenberg.org/files/65238/65238-0.txt\"\n",
        "  response = urllib.request.urlopen(url)\n",
        "  data = response.read()      # a `bytes` object\n",
        "  text = data.decode('utf-8')\n",
        "  return text\n",
        "\n",
        "\n",
        "# this function accepts a book index  and returns an appropriate regex that can carve out chapters for that book\n",
        "def get_ch_regex(index):\n",
        "  if index==1:\n",
        "    ch_carve=re.compile(r'\\n\\d\\d?\\s[\\'\\\"\\u201c]?[A-Z].*\\n')\n",
        "  elif index==2:\n",
        "    ch_carve=re.compile(r'CHAPTER\\s[IVX]+\\.\\r\\n.*\\r\\n')\n",
        "  elif index==3:\n",
        "    ch_carve=re.compile(r'\\r\\n\\r\\n\\r\\nCHAPTER.*\\r\\n')\n",
        "  elif index==4:\n",
        "    ch_carve=re.compile(r'CHAPTER\\s\\w+\\r\\n')  \n",
        "  elif index==5:\n",
        "    ch_carve=re.compile(r'\\d\\d?\\r\\n\\r\\n[A-OQ-Z].*\\r\\n')\n",
        "  return ch_carve\n",
        "\n",
        "\n",
        "# this function accepts a book index and chapter contents as parameters and trims out any Project gutenberg related artifacts that are not part of the novel\n",
        "def trim_contents(ch_contents_dict,index):\n",
        "  last=len(ch_contents_dict)\n",
        "  if index==1:\n",
        "    ch_contents_dict[last]=ch_contents_dict[last].split('\\nEnd of Project Gutenberg')[0]\n",
        "  elif index==2:\n",
        "    ch_contents_dict[last]=ch_contents_dict[last].split('\\nTHE END')[0]\n",
        "  elif index==3:\n",
        "    ch_contents_dict[last-1]=ch_contents_dict[last-1].split('\\nEnd of the Project Gutenberg')[0]\n",
        "  elif index==4:\n",
        "    ch_contents_dict[last-1]=ch_contents_dict[last-1].split('THE END')[0]\n",
        "  elif index==5:\n",
        "    ch_contents_dict[last]=re.split(r\"TRANSCRIBER\",ch_contents_dict[last])[0]\n",
        "  return ch_contents_dict\n",
        "\n",
        "\n",
        "# this function accepts chapter as a parameter and removes white spaces\n",
        "def remove_white(chapter):\n",
        "  regex=r'[\\r\\n\\u200a_]+'\n",
        "  chapter = re.sub(regex,' ',chapter)\n",
        "  return chapter\n",
        "\n",
        "\n",
        "# this function accepts chapter as a parameter and carves out sentences\n",
        "def sent_carve(chapter):\n",
        "  #chapter=re.split(r'(?<![A-H|J-Z])[\\.\\?!](?![\\'\\\"\\u2019\\u201a\\u201c\\u275c\\u275f\\u201e\\u201d\\u0022\\u275e]\\s[a-z])(?![\\'\\\"\\u2019\\u201a\\u201c\\u275c\\u275f\\u201e\\u201d\\u0022\\u275e]\\sI said)[\\'\\\"\\u2018\\u2019\\u201c\\u201d\\)\\]]*\\s*(?<!\\w\\.\\w)(?<![A-Z][a-z][a-z])(?<![A-Z][a-z])\\s+',chapter,flags=re.UNICODE)\n",
        "  chapter=re.split(r'(?<![^A-Z][A-H|J-Z])(?<!Mr|Ms|Dr)(?<!Mrs)(?<!Mlle)(?<!Melle)(?<!\\w\\.\\w)[\\.\\?!](?![\\'\\\"\\u2019\\u201a\\u201c\\u275c\\u275f\\u201e\\u201d\\u0022\\u275e]\\s[a-z])[\\'\\\"\\u2018\\u2019\\u201c\\u201d\\)\\]]*\\s*|\\u2014\\u201d\\s*',chapter,flags=re.UNICODE)\n",
        "  chapter=chapter[:-1]\n",
        "  chapter={num+1:contents.lower() for (num,contents) in enumerate(chapter)}\n",
        "  return chapter\n",
        "\n",
        "\n",
        "# this function accepts a book title and carves out chapters and returns a dictionary of book title, chapter contents and chapter title\n",
        "def ch_carve(title):\n",
        "\n",
        "  index=get_index(title)\n",
        "  text=get_text(index)\n",
        "  ch_regex=get_ch_regex(index)\n",
        "  if index ==3:\n",
        "    text=re.split(\"CHAPTER XXVIII.     AND AFTER\\r\\n\\r\\n\\r\\n\\r\\nPROLOGUE\",text)[1]\n",
        "  if index ==4:\n",
        "    text=re.split(\"PROLOGUE\",text)[1]\n",
        "  ch_titles=re.findall(ch_regex,text)\n",
        "  ch_titles_dict={num+1:remove_white(title.strip()) for (num,title) in enumerate(ch_titles)}\n",
        "  if index==3 or index ==4:\n",
        "    ch_titles_dict.update( {0 :\"PROLOGUE\"} )\n",
        "  chapters=re.split(ch_regex,text)\n",
        "  if index==3 or index==4:\n",
        "    ch_contents_dict = {num:contents for (num,contents) in enumerate(chapters)}  \n",
        "  elif index ==1 or index ==2 or index==5:\n",
        "    chapters=chapters[1:]\n",
        "    ch_contents_dict = {num+1:contents for (num,contents) in enumerate(chapters)}\n",
        "  ch_contents_dict=trim_contents(ch_contents_dict,index)\n",
        "  return {\"title\":title,\"contents\":ch_contents_dict,\"chapters\":ch_titles_dict}\n",
        "\n",
        "\n",
        "# this function calls other helper functions and gets the corpus we will be working with\n",
        "def get_corpus():\n",
        "  #tentatively planning to index books from 1 to match chapters\n",
        "  titles=[\"The Mysterious Affair at Styles\",\"The Murder on the Links\",\"The Secret Adversary\",\"The Man in the Brown Suit\",\"The Secret of Chimneys\"]\n",
        "  corpus={ get_index(title):ch_carve(title) for title in titles}\n",
        "  return corpus\n",
        "\n",
        "\n",
        "# this function calls other helper functions and cleans the corpus\n",
        "def clean_corpus(corpus):\n",
        "  for keyb,value in corpus.items():\n",
        "    for  keyc,value in value[\"contents\"].items():\n",
        "      corpus[keyb][\"contents\"][keyc]=sent_carve(remove_white(value))\n",
        "    \n",
        "  return corpus\n",
        "\n",
        "\n",
        "# this function returns each chapter as a single blob of text\n",
        "def sent_blob(chapter):\n",
        "  temp=''  \n",
        "  #chapter=re.split(r'(?<![A-H|J-Z])[\\.\\?!](?![\\'\\\"\\u2019\\u201a\\u201c\\u275c\\u275f\\u201e\\u201d\\u0022\\u275e]\\s[a-z])(?![\\'\\\"\\u2019\\u201a\\u201c\\u275c\\u275f\\u201e\\u201d\\u0022\\u275e]\\sI said)[\\'\\\"\\u2018\\u2019\\u201c\\u201d\\)\\]]*\\s*(?<!\\w\\.\\w)(?<![A-Z][a-z][a-z])(?<![A-Z][a-z])\\s+',chapter,flags=re.UNICODE)\n",
        "  chapter=re.split(r'(?<![^A-Z][A-H|J-Z])(?<!Mr|Ms|Dr)(?<!Mrs)(?<!Mlle)(?<!Melle)(?<!\\w\\.\\w)[\\.\\?!](?![\\'\\\"\\u2019\\u201a\\u201c\\u275c\\u275f\\u201e\\u201d\\u0022\\u275e]\\s[a-z])[\\'\\\"\\u2018\\u2019\\u201c\\u201d\\)\\]]*\\s*|\\u2014\\u201d\\s*',chapter,flags=re.UNICODE)\n",
        "  chapter=chapter[:-1]\n",
        "  for ch in chapter:\n",
        "    temp=temp+\" \"+ch.lower()    \n",
        "  return temp\n",
        "\n",
        "\n",
        "# this function removes punctuation \n",
        "def remove_punc(blob):\n",
        "  blob=re.sub(r\"[\\u201c\\u201d\\?,;:\\.!\\u2018\\u2019\\u201a\\u275b\\u275c\\u275f\\s-]+\" ,' ',blob)\n",
        "  return blob\n",
        "def tighten(blob):\n",
        "  return re.sub(r\"\\s+\",\" \",blob)\n",
        "\n",
        "\n",
        "# this function adds a dictionary to the corpus that contains each book as a single blob of test accessed via corpus[\"blob\"]\n",
        "def blob_corpus(dirty_corpus):\n",
        "  for keyb,value in dirty_corpus.items():\n",
        "    blob=''\n",
        "    for  keyc,value in value[\"contents\"].items():\n",
        "      blob=blob+\" \"+tighten(remove_punc(remove_white(sent_blob(dirty_corpus[keyb][\"contents\"][keyc]))))\n",
        "    dirty_corpus[keyb][\"blob\"]=blob  \n",
        "  return dirty_corpus"
      ],
      "execution_count": null,
      "outputs": []
    },
    {
      "cell_type": "markdown",
      "metadata": {
        "id": "Ecs-Pswn7K3H"
      },
      "source": [
        "\n",
        "##### Functions for retrieving and cleaning corpus\n"
      ]
    },
    {
      "cell_type": "code",
      "metadata": {
        "id": "bFHpUYOXeF4z"
      },
      "source": [
        "#Author: Luke \n",
        "#Description: collect and clean corpus\n",
        "\n",
        "dirty_corpus=get_corpus()\n",
        "dirty_corpus=blob_corpus(dirty_corpus)\n",
        "corpus=clean_corpus(dirty_corpus)\n",
        "\n",
        "#print(corpus[1][\"title\"],len(corpus[1][\"chapters\"]),len(corpus[1][\"contents\"]))\n",
        "#print(corpus[1][\"contents\"][28])\n",
        "#print(corpus[2][\"contents\"][13])\n",
        "#print(corpus[1][\"blob\"])"
      ],
      "execution_count": null,
      "outputs": []
    },
    {
      "cell_type": "markdown",
      "metadata": {
        "id": "Q-DsacFz7K3I"
      },
      "source": [
        "\n",
        "\n",
        "\n",
        "\n",
        "## Data Analysis\n",
        "Goal of this project is to analyze the frequencies of occurrence of the protagonists and the perpetrator(s) across the novel - per chapter, and per sentence in a chapter, the mention of the crime, and other circumstances surrounding the antagonists. The ultimate objective is to use basic NLP tools to observe any patterns in plot structures across the works of one or all of the authors.  Specifically, analysis questions below need to be answered. \n",
        "\n",
        "Note: To effectively conduct this analysis, you should find resources, and read the plot summaries of each novel, so you can make your search more effective. If plot summaries are not available, use regex to search for clues, and report how well/how fast that approach worked. \n",
        "\n",
        "\n",
        "###  Background Research for Data Analysis\n",
        "Details of each book compiled by reading plot summaries, books themselves, articles and fanpages:\n",
        "\n",
        "- The Murder on the Links \n",
        "  - Lead detective(s): Hercule Poirot, Arthur Hastings\n",
        "  - Other detectives/assistants:  Monsieur Giraud, Monsieur Hautet\n",
        "  - Victim: Paul Renauld\n",
        "  - Suspects: Jack Renauld\n",
        "  - Perpetrator: Marthe Daubreuil.\n",
        "  - Other important characters:  Paul Renauld, Eloise Renauld, Jack Renauld, Madame Daubreuil, Gabriel Stonor, Georges Conneau, Madame Beroldy, Marthe Daubreuil, Bella Duveen, Dulcie Duveen (Cindrella), Cindrella\n",
        "  - Crime: Murder, Stabbing\n",
        "  - motif: murder mystery\n",
        "https://en.wikipedia.org/wiki/The_Murder_on_the_Links\n",
        "https://agathachristie.fandom.com/wiki/The_Murder_on_the_Links\n",
        "\n",
        "\n",
        "- The Mysterious Affair at Styles \n",
        "  - Lead detective: Hercule Poirot, Arthur Hastings\n",
        "  - Other detectives/assistants: \n",
        "  - Victim: Emily Inglethorp\n",
        "  - Suspects: Alfred Inglethorp , Cavendish\n",
        "  - Perpetrator(s): Alfred Inglethorp, Evelyn Howard\n",
        "  - Other important characters: John Cavendish, \n",
        "  - Crime: Murder, Poisoning\n",
        "  - motif: murder mystery\n",
        "https://agathachristie.fandom.com/wiki/The_Mysterious_Affair_at_Styles\n",
        "\n",
        "\n",
        "- The Secret Adversary\n",
        "  - Lead detective: Tommy and Tuppence, Tommy Beresford, Tuppence Cowley, Prudence Cowley, Prudence \"Tuppence\" Cowley, \n",
        "  - Other detectives/assistants: \n",
        "  - Victim: Jane Finn, Mrs. Vandemeyer\n",
        "  - Suspects: Mr. Brown,  Julius Hersheimmer\n",
        "  - Perpetrator: Sir James Peel Edgerton\n",
        "  - Other important characters: Jane Finn\n",
        "  - Crime: Espionage, Kidnapping, Theft\n",
        "  - motif: thriller focus rather than detection https://agathachristie.fandom.com/wiki/The_Secret_Adversary#Plot_details\n",
        "\n",
        "\n",
        "- The Man in the Brown Suit\n",
        "  - Lead detective: Anne Beddingfeld\n",
        "  - Other detectives/assistants: \n",
        "  - Victim: Nadina aka Anita Grünberg, L. B. Carton\n",
        "  - Suspects: Harry\n",
        "  - Perpetrator: Sir Eustace Pedler\n",
        "  - Other important characters: Nadina, Count Sergius Paulovitch, the Colonel,  , Suzanne Blair, Colonel Race, Guy Pagett, Harry Rayburn, Harry Rayburn, Rev. Chichester, Miss Pettigrew,Harry Parker, Chichester\n",
        "  - Crime: diamond theft, murders, kidnapping\n",
        "  - motif: thriller focus rather than detection\n",
        "\n",
        "\n",
        "- The Secret of Chimneys\n",
        "  - Lead detective: Anthony Cade aka Prince Nicholas\n",
        "  - Other detectives/assistants: Superintendent Battle, Monsieur Lemoine of the Sûreté, Mr. Fish aka american agent\n",
        "  - Victim: Perceived: Count Stanislaus aka Prince Michael Obolovitch\n",
        "  - Suspects: Anthony Cade, Prince Nicholas, King Victor, \n",
        "  - Perpetrator: Mlle Brun aka Queen Varaga aka Angèle Mory, M Lemoine aka King Victor\n",
        "  - Other important characters: King Nicholas IV, Queen Varaga aka Angèle Mory, Herman Isaacstein, Prince Michael Obolovitch,  George Lomax, Count Stylptitch, Jimmy McGrath, Virginia Revel, Captain O'Neill, Captain O'Neill, Mr Holmes, Isaacstein, Hiram P. Fish, Prince Nicholas, Mademoiselle Mlle Brun, Bill Eversleigh, Monsieur Lemoine of the Sûreté, Professor Wynwood, Boris Anchoukoff,\n",
        "  - Crime: sensitive document theft, murders, treasure hunt, espionage\n",
        "  - motif: thriller focus rather than detection\n",
        "\n"
      ]
    },
    {
      "cell_type": "markdown",
      "metadata": {
        "id": "kMnqtu-47K3J"
      },
      "source": [
        "\n",
        "\n",
        "### Data Analysis Code\n"
      ]
    },
    {
      "cell_type": "markdown",
      "metadata": {
        "id": "ZXsXcrO37K3J"
      },
      "source": [
        "\n",
        "#### Helper functions for answering analysis questions in the objective\n"
      ]
    },
    {
      "cell_type": "code",
      "metadata": {
        "id": "lUaxNizp9CDJ"
      },
      "source": [
        "#Author: Luke \n",
        "#Description Helper functions for answering questions\n",
        "\n",
        "#returns the regex for the detective in each book using book index\n",
        "def get_det(index):\n",
        "  if index==1:\n",
        "    det=re.compile(r\"hercules?(?!a)|poirot|arthur|hastings\")\n",
        "  elif index==2:\n",
        "    det=re.compile(r\"hercules?(?!a)|poirot|arthur|hastings\")\n",
        "  elif index==3:\n",
        "    # det=re.compile(r\"tuppence|beresford|prudence|cowley\")\n",
        "    det=re.compile(r\"tuppence|prudence|cowley|tommy|beresford\")\n",
        "  elif index==4:\n",
        "    det=re.compile(r\" anne|beddingfeld\")\n",
        "  elif index==5:\n",
        "    det=re.compile(r\"anthony|cades\")\n",
        "  else:\n",
        "    det=re.compile(r\"nobody\")\n",
        "  return det\n",
        "\n",
        "\n",
        "#returns regex for perpetrator for book via index\n",
        "def get_perp(index):\n",
        "  if index==1:\n",
        "    #checked book for abbreviations Mlle,mlle,Melle,melle - none occured in text\n",
        "    perp=re.compile(r\"mademoiselle marthe daubreuil|mademoiselle marthe|mademoiselle daubreuil|marthe daubreuil|marthe\")\n",
        "    #perp=re.compile(r\"mademoiselle( marthe)? daubreuil|marthe daubreuil|marthe\")\n",
        "  elif index==2:\n",
        "    perp=re.compile(r\"alfred inglethorp|mr\\. inglethorp|alfred|second cousin|evelyn howard|evelyn|miss howard|evie\")\n",
        "  elif index==3:\n",
        "    #perp=re.compile(r\"sir james peel edgerton|james peel edgertion|sir james edgerton|sir edgerton|james peel|peel edgertion|sir james|james\")\n",
        "    perp=re.compile(r\"sir james peel edgerton|james peel edgerton|sir james edgerton|sir edgerton|james peel|peel edgerton|sir james|(?<!st) james\")\n",
        "  elif index==4:\n",
        "    perp=re.compile(r\"sir eustace pedler|eustace pedler|sir eustace|sir pedler|eustace|pedler\")\n",
        "  elif index==5:\n",
        "    perp=re.compile(r\"mademoiselle genevieve brun|mademoiselle brun|mlle brun|brun\")\n",
        "    #perp=re.compile(r\"mlle|brun|queen|varaga|angèmle|mory|m lemoine|king|victor\")\n",
        "    #ignoring the aliases for now \n",
        "   #perp= re.compile(r\"mlle|brun|queen|varaga|angèle|mory|m lemoine|king|victor\")\n",
        "  else:\n",
        "    # V: shouldn't get here\n",
        "    perp=re.compile(r\"someone else\")\n",
        "  return perp\n",
        "\n",
        "\n",
        "#returns crime regex for book via index\n",
        "def get_crime(index):\n",
        "  if index==1:\n",
        "    crime=re.compile(r\"murdered|body (was|had been) discovered|discovered.*body|death.*occured|occured.*death|examination.*body|body.*examination|only.*committed the crime\")\n",
        "  elif index==2:\n",
        "    crime=re.compile(r\"convulsion|night of the murder|(mrs\\. inglethorp|emily|old lady|wife|mother).*poison|poison.*(mrs\\. inglethorp|emily|old lady|wife|mother)|motionless|strychnine.*killed|lost her life|introduce.*murderer|poirot.*read|master mind\")\n",
        "  elif index==3:\n",
        "    # crime=re.compile(r\"kidnapping|espionage\")\n",
        "    crime=re.compile(r\"kidnap|espionage|spy|theft|disappear|stole\")\n",
        "  elif index==4:\n",
        "    crime=re.compile(r\"murder|theft\")\n",
        "  elif index==5:\n",
        "    crime=re.compile(r\"discovered the body|assasination|assasinated| killed\")\n",
        "  else:\n",
        "    # V: shouldn't get here\n",
        "    crime=re.compile(r\"nothing happened\")\n",
        "  return crime\n",
        "\n",
        "\n",
        "# returns other suspect(s) for book via index\n",
        "def get_sus(index):\n",
        "  if index==1:\n",
        "    sus=re.compile(r\"jack\")\n",
        "  elif index==2:\n",
        "    sus=re.compile(r\"john cavendish|(?<!purchased by )mr\\. cavendish|john\")\n",
        "  elif index==3:\n",
        "    # removing Mr. Brown since it was an alias\n",
        "    #sus=re.compile(r\"julius hersheimmer|mr.? hersheimmer|hersheimmer|julius\")\n",
        "    sus=re.compile(r\"julius hersheimmer|mr\\.? hersheimmer|julius p\\. hersheimmer|hersheimmer|julius\")\n",
        "  elif index==4:\n",
        "    sus=re.compile(r\"harry\")\n",
        "  elif index==5:\n",
        "    sus=re.compile(r\"king victor|victor\")\n",
        "  else:\n",
        "    # V: shouldn't get here\n",
        "    sus=re.compile(r\"no suspect\")\n",
        "  return sus\n",
        "\n",
        "\n",
        "#returns all occurences of a regex in a book\n",
        "def get_occur(index,regex):\n",
        "  occur=[]\n",
        "  for ch_index,ch_contents in corpus[index][\"contents\"].items():\n",
        "    for sent_index,sent_contents in ch_contents.items():\n",
        "      matches=re.search(regex,sent_contents)\n",
        "      if matches is not None:\n",
        "        #occur.append([ch_index,sent_index,sent_contents])\n",
        "        occur.append([\"Chapter: {0}\".format(ch_index), \"Sentence: {0}\".format(sent_index), \"Contents: {0}\".format(sent_contents)])\n",
        "        #print(\"Chapter: \",ch_index, \"Sentence: \", sent_index, \"Contents: \",sent_contents)\n",
        "  return occur\n",
        "\n",
        "\n",
        "# returns all co-occurences of two regexes in a book\n",
        "def get_co_occur(index, det,perp):\n",
        "  co_occur=[]\n",
        "  for ch_index,ch_contents in corpus[index][\"contents\"].items():\n",
        "    for sent_index,sent_contents in ch_contents.items():\n",
        "      dmatches=re.search(det,sent_contents)\n",
        "      pmatches=re.search(perp,sent_contents)\n",
        "      if dmatches is not None and pmatches is not None:\n",
        "        #co_occur.append([ch_index,sent_index,sent_contents])\n",
        "        co_occur.append([\"Chapter: {0}\".format(ch_index), \"Sentence: {0}\".format(sent_index), \"Contents: {0}\".format(sent_contents)])\n",
        "        #print(\"Chapter: \",ch_index, \"Sentence: \", sent_index, \"Contents: \",sent_contents)\n",
        "  return co_occur\n",
        "\n",
        "\n",
        "# returns a list of the 3 words the precede and the 3 words that follow each occurence of a regex in a book\n",
        "def get_3words(book,perp):\n",
        "  blob=corpus[book][\"blob\"]\n",
        "  answer=[]\n",
        "  splits=re.finditer(perp,blob)\n",
        "  for iter in splits:\n",
        "    before=re.split(r\"\\s+\",blob[0:iter.start()-1])\n",
        "    if len(before)>2:\n",
        "      before=[before[-3],before[-2],before[-1]]\n",
        "    elif len(before)==2:\n",
        "      before=[\" \", before[-2],before[-1]]\n",
        "    elif len(before)==1:\n",
        "      before=[\" \",\" \",before[0]]\n",
        "    elif len(before)==0:\n",
        "      before=[\" \"]\n",
        " #   print(before)\n",
        "    after=re.split(r\"\\s+\",blob[iter.end()+1:])\n",
        "    if len(after)>2:\n",
        "      after=[after[0],after[1],after[2]]\n",
        "    elif len(after)==2:\n",
        "      after=[after[0],after[1],\" \"]\n",
        "    elif len(after)==1:\n",
        "      after=[after[0],\" \",\" \"]\n",
        "    elif len(after)==0:\n",
        "      after=[\" \"]\n",
        "    answer.append(before+after)\n",
        "  return answer\n",
        "\n",
        "  #splits=[re.finditer(r\"\\s+\",sp) for sp in splits]\n",
        "\n",
        "    \n",
        "#returns the sentence before, sentence containing, and sentence afte for each math to a regex in a book - for invetigation not answering questions\n",
        "def get_3sentences(book,ch,sent):\n",
        "  near3=[]\n",
        "  if sent==max(corpus[book][\"contents\"][ch].keys()):\n",
        "    near3=[[sent-2,corpus[book][\"contents\"][ch][sent-2]],[sent-1,corpus[book][\"contents\"][ch][sent-1]],[sent,corpus[book][\"contents\"][ch][sent]]]\n",
        "  elif sent==min(corpus[book][\"contents\"][ch].keys()):\n",
        "    near3=[[sent,corpus[book][\"contents\"][ch][sent]],[sent+1,corpus[book][\"contents\"][ch][sent+1]],[sent+2,corpus[book][\"contents\"][ch][sent+2]]]\n",
        "  else:\n",
        "    near3=[[sent-1,corpus[book][\"contents\"][ch][sent-1]],[sent,corpus[book][\"contents\"][ch][sent]],[sent+1,corpus[book][\"contents\"][ch][sent+1]]]\n",
        "  return near3\n"
      ],
      "execution_count": null,
      "outputs": []
    },
    {
      "cell_type": "markdown",
      "metadata": {
        "id": "2mAYtfrn7K3N"
      },
      "source": [
        "\n",
        "### Functions for answering analysis questions in the objective \n"
      ]
    },
    {
      "cell_type": "code",
      "metadata": {
        "id": "FsoopdYc_FEu",
        "outputId": "6f65e38a-0216-4bf8-dbab-52c61fa2cf46"
      },
      "source": [
        "# loop through the books and run analysis to find the answers to objective questions\n",
        "\n",
        "det=[]\n",
        "det.clear()\n",
        "det.append(\"Zerofiller\")\n",
        "perp=[]\n",
        "perp.clear()\n",
        "perp.append(\"Zerofiller\")\n",
        "crime=[]\n",
        "crime.clear()\n",
        "crime.append(\"Zerofiller\")\n",
        "sus=[]\n",
        "sus.clear()\n",
        "sus.append(\"Zerofiller\")\n",
        "det_occur=[]\n",
        "det_occur.clear()\n",
        "det_occur.append(\"Zerofiller\")\n",
        "perp_occur=[]\n",
        "perp_occur.clear()\n",
        "perp_occur.append(\"Zerofiller\")\n",
        "co=[]\n",
        "co.clear()\n",
        "co.append(\"Zerofiller\");\n",
        "crime_occur=[]\n",
        "crime_occur.clear()\n",
        "crime_occur.append(\"Zerofiller\")\n",
        "sus_occur=[]\n",
        "sus_occur.clear()\n",
        "sus_occur.append(\"Zerofiller\")\n",
        "perp_neighbors=[]\n",
        "perp_neighbors.clear()\n",
        "perp_neighbors.append(\"Zerofiller\")\n",
        "\n",
        "for bookindex in range(1,6):\n",
        "    title = get_title(bookindex)\n",
        "    print(\"\\n\\n\\n### Results for \", title)  \n",
        "    det.append(get_det(bookindex))\n",
        "    perp.append(get_perp(bookindex))\n",
        "    crime.append(get_crime(bookindex))\n",
        "    sus.append(get_sus(bookindex))\n",
        "    det_occur.append(get_occur(bookindex,det[bookindex]))\n",
        "    perp_occur.append(get_occur(bookindex,perp[bookindex]))\n",
        "    co.append(get_co_occur(bookindex,det[bookindex],perp[bookindex]))\n",
        "    crime_occur.append(get_occur(bookindex,crime[bookindex]))\n",
        "    sus_occur.append(get_occur(bookindex,sus[bookindex]))\n",
        "    print(det_occur[bookindex])\n",
        "    print(perp_occur[bookindex])\n",
        "    print(co[bookindex])\n",
        "    print(crime_occur[bookindex])\n",
        "    print(sus_occur[bookindex])\n",
        "    print(perp_occur[bookindex])\n",
        "    perp_neighbors.append(get_3words(bookindex,perp[bookindex]))\n",
        "    for n in perp_neighbors[bookindex]:\n",
        "      print(n)\n",
        "    print(len(perp_neighbors[bookindex]))"
      ],
      "execution_count": null,
      "outputs": [
        {
          "name": "stdout",
          "output_type": "stream",
          "text": [
            "\n",
            "\n",
            "\n",
            "### Results for  The Murder on the Links\n",
            "Zerofiller\n",
            "re.compile('hercules?(?!a)|poirot|arthur|hastings')\n",
            "[['Chapter: 1', 'Sentence: 5', 'Contents: i had been transacting some business in paris and was returning by the morning service to london where i was still sharing rooms with my old friend, the belgian ex-detective, hercule poirot'], ['Chapter: 1', 'Sentence: 128', 'Contents: “that was poirot’s first big case'], ['Chapter: 2', 'Sentence: 2', 'Contents: my friend poirot, exact to the minute as usual, was just tapping the shell of his second egg'], ['Chapter: 2', 'Sentence: 9', 'Contents: elsewhere, i have described hercule poirot'], ['Chapter: 2', 'Sentence: 19', 'Contents: ” i slipped into my seat, and remarked idly, in answer to poirot’s greeting, that an hour’s sea passage from calais to dover could hardly be dignified by the epithet “terrible'], ['Chapter: 2', 'Sentence: 20', 'Contents: poirot waved his egg-spoon in vigorous refutation of my remark'], ['Chapter: 2', 'Sentence: 42', 'Contents: poirot shook his head seriously'], ['Chapter: 2', 'Sentence: 60', 'Contents: poirot threw me a withering glance'], ['Chapter: 2', 'Sentence: 61', 'Contents: “what an intelligence has my friend hastings!” he exclaimed sarcastically'], ['Chapter: 2', 'Sentence: 65', 'Contents: poirot shook his head with a dissatisfied air'], ['Chapter: 2', 'Sentence: 72', 'Contents: “cheer up, poirot, the luck will change'], ['Chapter: 2', 'Sentence: 75', 'Contents: poirot smiled, and taking up the neat little letter opener with which he opened his correspondence he slit the tops of the several envelopes that lay by his plate'], ['Chapter: 2', 'Sentence: 89', 'Contents: poirot continued to read his correspondence placidly'], ['Chapter: 2', 'Sentence: 96', 'Contents: poirot was reading attentively'], ['Chapter: 2', 'Sentence: 115', 'Contents: “yes, indeed,” said poirot meditatively'], ['Chapter: 2', 'Sentence: 117', 'Contents: poirot nodded'], ['Chapter: 2', 'Sentence: 141', 'Contents: “dear me, poirot,” i said, my excitement rising, “i smell some goodly shekels in this'], ['Chapter: 2', 'Sentence: 147', 'Contents: “in any case,” continued poirot, “it is not the money which attracts me here'], ['Chapter: 2', 'Sentence: 173', 'Contents: poirot nodded'], ['Chapter: 2', 'Sentence: 193', 'Contents: a woman cannot wait—always remember that, hastings'], ['Chapter: 2', 'Sentence: 195', 'Contents: before starting poirot had despatched a telegram to mr. renauld giving the time of our arrival at calais'], ['Chapter: 2', 'Sentence: 196', 'Contents: “i’m surprised you haven’t invested in a few bottles of some sea sick remedy, poirot,” i observed maliciously, as i recalled our conversation at breakfast'], ['Chapter: 2', 'Sentence: 206', 'Contents: “he did not know the methods of hercule poirot'], ['Chapter: 2', 'Sentence: 211', 'Contents: “it’s all very well, poirot, but i think you are falling into the habit of despising certain things too much'], ['Chapter: 2', 'Sentence: 213', 'Contents: “and has, without doubt, hanged more than one innocent man,” remarked poirot dryly'], ['Chapter: 2', 'Sentence: 218', 'Contents: but the others, the hercules poirots, they are above the experts'], ['Chapter: 2', 'Sentence: 226', 'Contents: “but yet,” poirot wagged his finger at me'], ['Chapter: 2', 'Sentence: 229', 'Contents: poirot nodded in a satisfied manner'], ['Chapter: 2', 'Sentence: 232', 'Contents: yet you demand that i, hercule poirot, should make myself ridiculous by lying down (possibly on damp grass) to study hypothetical footprints, and should scoop up cigarette ash when i do not know one kind from the other'], ['Chapter: 2', 'Sentence: 250', 'Contents: and poirot, having effectually silenced, if not convinced me, leaned back with a satisfied air'], ['Chapter: 2', 'Sentence: 252', 'Contents: the weather was gorgeous, and the sea as smooth as the proverbial mill-pond, so i was hardly surprised to hear that laverguier’s method had once more justified itself when a smiling poirot joined me on disembarking at calais'], ['Chapter: 2', 'Sentence: 253', 'Contents: a disappointment was in store for us, as no car had been sent to meet us, but poirot put this down to his telegram having been delayed in transit'], ['Chapter: 2', 'Sentence: 267', 'Contents: are you not the one and only hercule poirot'], ['Chapter: 2', 'Sentence: 270', 'Contents: “you are what the scotch people call ‘fey,’ hastings'], ['Chapter: 2', 'Sentence: 299', 'Contents: “by jove, poirot,” i exclaimed, “did you see that young goddess'], ['Chapter: 2', 'Sentence: 300', 'Contents: poirot raised his eyebrows'], ['Chapter: 2', 'Sentence: 313', 'Contents: “i saw only a girl with anxious eyes,” said poirot gravely'], ['Chapter: 2', 'Sentence: 322', 'Contents: poirot leaned forward'], ['Chapter: 3', 'Sentence: 1', 'Contents:  in a moment poirot had leapt from the car, his eyes blazing with excitement'], ['Chapter: 3', 'Sentence: 11', 'Contents: poirot reflected for a minute'], ['Chapter: 3', 'Sentence: 14', 'Contents: poirot took out a card, and scribbled a few words on it'], ['Chapter: 3', 'Sentence: 18', 'Contents: in a few seconds a comrade joined him and was handed poirot’s message'], ['Chapter: 3', 'Sentence: 21', 'Contents: “my dear m. poirot,” cried the new-comer, “i am delighted to see you'], ['Chapter: 3', 'Sentence: 23', 'Contents: poirot’s face had lighted up'], ['Chapter: 3', 'Sentence: 27', 'Contents: “this is an english friend of mine, captain hastings—m. lucien bex'], ['Chapter: 3', 'Sentence: 28', 'Contents: the commissary and i bowed to each other ceremoniously, then m. bex turned once more to poirot'], ['Chapter: 3', 'Sentence: 53', 'Contents: “when was the crime committed?” asked poirot'], ['Chapter: 3', 'Sentence: 70', 'Contents: poirot handed it to him, and the magistrate read it'], ['Chapter: 3', 'Sentence: 74', 'Contents: we are much indebted to you, m. poirot'], ['Chapter: 3', 'Sentence: 94', 'Contents: m. poirot, the body was lying, face downwards,  in an open grave '], ['Chapter: 3', 'Sentence: 106', 'Contents: poirot nodded, and the commissary resumed: “madame renauld was hastily freed from the cords that bound her by the horrified servants'], ['Chapter: 3', 'Sentence: 121', 'Contents: poirot bowed his head'], ['Chapter: 3', 'Sentence: 288', 'Contents: a perplexed frown was beginning to gather between poirot’s eyes'], ['Chapter: 3', 'Sentence: 293', 'Contents: poirot’s frown deepened'], ['Chapter: 4', 'Sentence: 11', 'Contents: “we have forgotten to inform m. poirot of that'], ['Chapter: 4', 'Sentence: 13', 'Contents: “this letter, m. poirot, we found in the pocket of the dead man’s overcoat'], ['Chapter: 4', 'Sentence: 14', 'Contents: poirot took it and unfolded it'], ['Chapter: 4', 'Sentence: 31', 'Contents: poirot handed it back with a grave face'], ['Chapter: 4', 'Sentence: 38', 'Contents: m. poirot, at first sight the case seemed simplicity itself'], ['Chapter: 4', 'Sentence: 41', 'Contents: poirot nodded'], ['Chapter: 4', 'Sentence: 50', 'Contents: poirot shook his head'], ['Chapter: 4', 'Sentence: 60', 'Contents: “excellent,” said poirot appreciatively'], ['Chapter: 4', 'Sentence: 62', 'Contents: “you have found no other letters from this bella amongst m. renauld’s effects?” asked poirot'], ['Chapter: 4', 'Sentence: 69', 'Contents: poirot ran through the document'], ['Chapter: 4', 'Sentence: 80', 'Contents: “the date?” twinkled poirot'], ['Chapter: 4', 'Sentence: 90', 'Contents: poirot shrugged his shoulders'], ['Chapter: 4', 'Sentence: 96', 'Contents: now, m. poirot, you would without doubt like to visit the scene of the crime'], ['Chapter: 4', 'Sentence: 101', 'Contents: he opened the door, and bowed ceremoniously to poirot to precede him'], ['Chapter: 4', 'Sentence: 102', 'Contents: poirot, with equal politeness, drew back and bowed to the commissary'], ['Chapter: 4', 'Sentence: 107', 'Contents: ” asked poirot suddenly, nodding towards the door opposite'], ['Chapter: 4', 'Sentence: 116', 'Contents: poirot stood a moment talking in the room, then he stepped forward, passed his hand lightly over the backs of the leather chairs, picked up a magazine from the table, and drew a finger gingerly over the surface of the oak sideboard'], ['Chapter: 4', 'Sentence: 130', 'Contents: “you recognize it—eh, hastings'], ['Chapter: 4', 'Sentence: 138', 'Contents: “the former, i fancy,” said poirot, “for, if i am not mistaken, the handwriting is that of m. renauld'], ['Chapter: 4', 'Sentence: 141', 'Contents: poirot laughed'], ['Chapter: 4', 'Sentence: 143', 'Contents: my friend hastings here will tell you that anything in the least crooked is a torment to me'], ['Chapter: 4', 'Sentence: 166', 'Contents: “courage!” cried poirot, clapping him on the back'], ['Chapter: 4', 'Sentence: 171', 'Contents: as we turned to leave the room, poirot remarked casually: “it was here that m. renauld received his guest last night, eh'], ['Chapter: 4', 'Sentence: 187', 'Contents: “one can see by his face that he was stabbed in the back,” remarked poirot'], ['Chapter: 4', 'Sentence: 191', 'Contents: poirot examined it narrowly'], ['Chapter: 4', 'Sentence: 198', 'Contents: poirot tested the discoloured point gingerly with his finger tip'], ['Chapter: 4', 'Sentence: 204', 'Contents: “of course he did,” said poirot contemptuously'], ['Chapter: 4', 'Sentence: 225', 'Contents: poirot lingered a moment, looking back towards the body'], ['Chapter: 5', 'Sentence: 2', 'Contents: poirot went up in a zigzag fashion which puzzled me, until he whispered with a grimace: “no wonder the servants heard m. renauld mounting the stairs; not a board of them but creaks fit to wake the dead'], ['Chapter: 5', 'Sentence: 59', 'Contents: “ pardon ,” interrupted poirot, “but is there then no other egress from the dressing-room'], ['Chapter: 5', 'Sentence: 91', 'Contents: “yes, this gentleman—m. hercule poirot'], ['Chapter: 5', 'Sentence: 92', 'Contents: poirot bowed'], ['Chapter: 5', 'Sentence: 108', 'Contents: poirot rose from his seat, scrutinized the clock carefully, and nodded, satisfied'], ['Chapter: 5', 'Sentence: 118', 'Contents: but poirot, deft as ever, took the broken trinket from the startled commissary, and held it to his ear'], ['Chapter: 5', 'Sentence: 124', 'Contents: “no,” said poirot gently, “it is a few minutes after five'], ['Chapter: 5', 'Sentence: 141', 'Contents: “what times does the last train leave the station of merlinville?” asked poirot'], ['Chapter: 5', 'Sentence: 143', 'Contents: “of course,” agreed poirot, looking somewhat crestfallen'], ['Chapter: 5', 'Sentence: 198', 'Contents: it was at this moment, when we were all stunned by the mention of that word, that poirot approached mrs. renauld'], ['Chapter: 5', 'Sentence: 233', 'Contents: instantly poirot was beside her, he raised the lid of her eye, felt her pulse'], ['Chapter: 6', 'Sentence: 6', 'Contents: now, m. poirot, shall we visit the place where the crime was committed'], ['Chapter: 6', 'Sentence: 9', 'Contents: poirot had looked up at the staircase in passing, and shook his head in a dissatisfied manner'], ['Chapter: 6', 'Sentence: 14', 'Contents: but poirot continued to shake his head as though not fully accepting the explanation'], ['Chapter: 6', 'Sentence: 20', 'Contents: poirot pointed to a window on the first floor'], ['Chapter: 6', 'Sentence: 29', 'Contents: poirot went close to the bed and studied it attentively'], ['Chapter: 6', 'Sentence: 32', 'Contents: poirot nodded, as though convinced, and we turned away, but he suddenly darted off and began examining the other flower-bed'], ['Chapter: 6', 'Sentence: 37', 'Contents: “my dear m. poirot, those are without doubt the footprints of the gardener’s large hobnailed boots'], ['Chapter: 6', 'Sentence: 39', 'Contents: “true,” said poirot, evidently crestfallen'], ['Chapter: 6', 'Sentence: 42', 'Contents: then, to my utter astonishment, poirot pronounced these words: “i do not agree with you'], ['Chapter: 6', 'Sentence: 48', 'Contents: i can investigate this matter of the footprints later,” said poirot cheerfully'], ['Chapter: 6', 'Sentence: 75', 'Contents: bex introduced us, presenting poirot as a colleague'], ['Chapter: 6', 'Sentence: 77', 'Contents: “i know you by name, m. poirot,” he said'], ['Chapter: 6', 'Sentence: 80', 'Contents: “crimes, though, are very much the same,” remarked poirot gently'], ['Chapter: 6', 'Sentence: 97', 'Contents: “the external sign,” said poirot'], ['Chapter: 6', 'Sentence: 101', 'Contents: a very faint smile came to poirot’s lips'], ['Chapter: 6', 'Sentence: 116', 'Contents: but poirot was now apparently interested in something else, a short discoloured piece of lead-piping which lay beside the spade'], ['Chapter: 6', 'Sentence: 122', 'Contents: “i, on the contrary, find it very interesting,” said poirot sweetly'], ['Chapter: 6', 'Sentence: 125', 'Contents: meanwhile poirot, as though struck by a sudden idea, stepped back over the boundary, and tried the door of the little shed'], ['Chapter: 6', 'Sentence: 135', 'Contents: i could not help feeling that, so far, poirot had not greatly distinguished himself, and it vexed me'], ['Chapter: 6', 'Sentence: 139', 'Contents: “no, m. poirot, it is an affair of the golf course'], ['Chapter: 6', 'Sentence: 142', 'Contents: poirot turned to me'], ['Chapter: 6', 'Sentence: 145', 'Contents: “you do not play the golf, m. poirot?” inquired bex'], ['Chapter: 6', 'Sentence: 156', 'Contents: i could not refrain from a laugh at the way the game appeared to poirot, and my little friend smiled at me affectionately, bearing no malice'], ['Chapter: 6', 'Sentence: 161', 'Contents: poirot nodded thoughtfully'], ['Chapter: 6', 'Sentence: 167', 'Contents: “yes,” said poirot doubtfully'], ['Chapter: 6', 'Sentence: 171', 'Contents: “yes,” said poirot, in a somewhat dissatisfied voice'], ['Chapter: 7', 'Sentence: 2', 'Contents: giraud himself had been obviously delighted when poirot declared that he had seen all he wanted'], ['Chapter: 7', 'Sentence: 4', 'Contents: poirot guessed my thoughts, for as soon as we were alone he remarked ironically: “at last you have seen the detective you admire—the human foxhound'], ['Chapter: 7', 'Sentence: 12', 'Contents: “nonsense, poirot'], ['Chapter: 7', 'Sentence: 26', 'Contents: poirot brushed a speck of dust from his sleeve with a dissatisfied air'], ['Chapter: 7', 'Sentence: 47', 'Contents: poirot called to him, and he set down the barrow and came hobbling towards us'], ['Chapter: 7', 'Sentence: 50', 'Contents: my faith in poirot revived a little'], ['Chapter: 7', 'Sentence: 52', 'Contents: “exactly,” said poirot'], ['Chapter: 7', 'Sentence: 73', 'Contents: auguste was charmed with poirot’s interest, and was quite inclined to be garrulous'], ['Chapter: 7', 'Sentence: 74', 'Contents: “that is a splendid specimen there,” said poirot, pointing'], ['Chapter: 7', 'Sentence: 77', 'Contents: the old fellow stepped into the bed, and carefully took a slip from the plant poirot had admired'], ['Chapter: 7', 'Sentence: 78', 'Contents: poirot was profuse in his thanks, and auguste departed to his barrow'], ['Chapter: 7', 'Sentence: 79', 'Contents: “you see?” said poirot with a smile, as he bent over the bed to examine the indentation of the gardener’s hobnailed boot'], ['Chapter: 7', 'Sentence: 88', 'Contents: eh bien , i agree with you,” said poirot'], ['Chapter: 7', 'Sentence: 95', 'Contents: but to my surprise poirot shook his head'], ['Chapter: 7', 'Sentence: 101', 'Contents: “ah, m. poirot, we were coming to look for you,” said the magistrate'], ['Chapter: 7', 'Sentence: 108', 'Contents: “is m. giraud not going to accompany us?” asked poirot'], ['Chapter: 7', 'Sentence: 112', 'Contents: poirot walked with the examining magistrate, and the commissary and i followed a few paces behind'], ['Chapter: 7', 'Sentence: 227', 'Contents: poirot seemed lost in thought'], ['Chapter: 7', 'Sentence: 234', 'Contents: with mutual civilities, we parted company, poirot and i going towards merlinville, and the others returning to the villa geneviève'], ['Chapter: 7', 'Sentence: 235', 'Contents: “the french police system is very marvellous,” said poirot, looking after them'], ['Chapter: 7', 'Sentence: 247', 'Contents: “yes, mademoiselle,” said poirot gently'], ['Chapter: 7', 'Sentence: 251', 'Contents: poirot made a grimace'], ['Chapter: 7', 'Sentence: 258', 'Contents: poirot eyed her keenly'], ['Chapter: 7', 'Sentence: 263', 'Contents: all at once poirot’s words about her earlier in the day recurred to me'], ['Chapter: 7', 'Sentence: 267', 'Contents: “i see,” said poirot'], ['Chapter: 7', 'Sentence: 279', 'Contents: “ mon ami ,” said poirot, in his gentle ironical voice, “is it that we are to remain planted here all night—just because you have seen a beautiful young woman, and your head is in a whirl'], ['Chapter: 7', 'Sentence: 281', 'Contents: “but she  is  beautiful, poirot'], ['Chapter: 7', 'Sentence: 283', 'Contents: poirot groaned'], ['Chapter: 7', 'Sentence: 286', 'Contents: “poirot,” i said, “do you remember after the styles case when'], ['Chapter: 7', 'Sentence: 293', 'Contents: but to my surprise poirot shook his head very earnestly'], ['Chapter: 7', 'Sentence: 296', 'Contents: take it from papa poirot'], ['Chapter: 7', 'Sentence: 299', 'Contents: “some of the greatest criminals i have known had the faces of angels,” remarked poirot cheerfully'], ['Chapter: 7', 'Sentence: 301', 'Contents: “poirot,” i cried, horrified, “you cannot mean that you suspect an innocent child like this'], ['Chapter: 7', 'Sentence: 308', 'Contents: “my friend,” said poirot, “as usual, you see nothing at all'], ['Chapter: 7', 'Sentence: 313', 'Contents: i, hercule poirot, know it'], ['Chapter: 8', 'Sentence: 5', 'Contents: poirot inquired after the health of mrs. renauld'], ['Chapter: 8', 'Sentence: 12', 'Contents: poirot nodded sympathetically'], ['Chapter: 8', 'Sentence: 25', 'Contents: “indeed,” said poirot'], ['Chapter: 8', 'Sentence: 47', 'Contents: “ quelle idée ,” murmured poirot, as the girl disappeared'], ['Chapter: 8', 'Sentence: 57', 'Contents: “the human foxhound,” murmured poirot, as he leaned back in a comfortable chair, and closed his eyes'], ['Chapter: 8', 'Sentence: 199', 'Contents: i felt a thrill of satisfaction as i realized that in marchaud’s eyes, at least, i ranked equally in importance with poirot'], ['Chapter: 9', 'Sentence: 2', 'Contents: poirot and the commissary, who were both present, greeted me respectively with a smile and a polite bow'], ['Chapter: 9', 'Sentence: 20', 'Contents: remembering poirot’s unaccountable insistence on the footprints in the flower beds, i scrutinized him narrowly as he gave his evidence'], ['Chapter: 9', 'Sentence: 72', 'Contents: the detective wheeled round on poirot'], ['Chapter: 9', 'Sentence: 76', 'Contents: but poirot remained unmoved'], ['Chapter: 9', 'Sentence: 80', 'Contents: poirot spread out his hands'], ['Chapter: 9', 'Sentence: 89', 'Contents: “and the other match?” asked poirot'], ['Chapter: 9', 'Sentence: 97', 'Contents: “i see you love a joke, m. poirot'], ['Chapter: 9', 'Sentence: 100', 'Contents: poirot bowed'], ['Chapter: 9', 'Sentence: 106', 'Contents: “you do not think it odd,” asked poirot, “that these strangers should come unprovided with a weapon, with gloves, with a spade, and that they should so conveniently find all these things'], ['Chapter: 9', 'Sentence: 141', 'Contents: “tell me one thing, m. giraud,” said poirot suddenly'], ['Chapter: 9', 'Sentence: 149', 'Contents: then, to my surprise, poirot uttered almost the same words as he had uttered to bex the previous evening: “ i do not agree with you'], ['Chapter: 9', 'Sentence: 164', 'Contents: “you are wrong,” said poirot quietly'], ['Chapter: 9', 'Sentence: 175', 'Contents: poirot suddenly assumed his lecturing manner, and addressed us collectively'], ['Chapter: 9', 'Sentence: 178', 'Contents: (japp would tell you the same, hastings'], ['Chapter: 9', 'Sentence: 189', 'Contents: you may know all about cigarettes and match ends, m. giraud, but i, hercule poirot, know the mind of man'], ['Chapter: 9', 'Sentence: 192', 'Contents: “for your guidance,” continued poirot, “i will also advise you of one fact which might fail to be brought to your notice'], ['Chapter: 9', 'Sentence: 199', 'Contents: “all the same, two hours is a good deal,” said poirot softly'], ['Chapter: 9', 'Sentence: 206', 'Contents: “no,” said poirot, straightening a little pile of books on a table'], ['Chapter: 10', 'Sentence: 17', 'Contents: this gentleman is m. hercule poirot'], ['Chapter: 10', 'Sentence: 19', 'Contents: a friend of m. poirot’s, captain hastings'], ['Chapter: 10', 'Sentence: 20', 'Contents: stonor looked at poirot with some interest'], ['Chapter: 10', 'Sentence: 155', 'Contents: poirot interjected a remark: “m. stonor, the english chauffeur, masters, had he been long with m. renauld'], ['Chapter: 10', 'Sentence: 162', 'Contents: poirot seemed somewhat crest-fallen'], ['Chapter: 11', 'Sentence: 100', 'Contents: but another voice spoke, imperturbable and calm, the voice of hercule poirot'], ['Chapter: 11', 'Sentence: 137', 'Contents: poirot interrupted with a quick question'], ['Chapter: 11', 'Sentence: 213', 'Contents: poirot had risen and was adjusting a pair of candlesticks that struck his trained eye as being a shade askew'], ['Chapter: 11', 'Sentence: 249', 'Contents: “but it is a grave fault you have committed there, captain hastings'], ['Chapter: 11', 'Sentence: 292', 'Contents: poirot turned to bex'], ['Chapter: 11', 'Sentence: 296', 'Contents: poirot looked at him'], ['Chapter: 11', 'Sentence: 303', 'Contents: ” muttered poirot, but he said no more'], ['Chapter: 11', 'Sentence: 315', 'Contents: poirot tugged out that large turnip of a watch of his, and observed the time'], ['Chapter: 11', 'Sentence: 322', 'Contents: i was going down the steps when poirot’s voice arrested me: “one little moment, my friend'], ['Chapter: 11', 'Sentence: 325', 'Contents: then, with a little satisfied grunt, poirot returned the measure to his pocket, and followed me out into the open air'], ['Chapter: 12', 'Sentence: 6', 'Contents: poirot’s incurable habit of making a mystery out of nothing never failed to irritate me'], ['Chapter: 12', 'Sentence: 21', 'Contents: “you think profoundly, my friend,” remarked poirot, breaking in upon my reflections'], ['Chapter: 12', 'Sentence: 25', 'Contents: “you are quite right, hastings'], ['Chapter: 12', 'Sentence: 40', 'Contents: the wrist watch, hastings, the wrist watch'], ['Chapter: 12', 'Sentence: 42', 'Contents: poirot was eyeing me curiously'], ['Chapter: 12', 'Sentence: 49', 'Contents: “do not enrage yourself, my friend,” said poirot with a smile'], ['Chapter: 12', 'Sentence: 56', 'Contents: i assured poirot that he could rely upon my discretion'], ['Chapter: 12', 'Sentence: 63', 'Contents: but i, hercule poirot, say that madame renauld lied'], ['Chapter: 12', 'Sentence: 82', 'Contents: “perfect, hastings'], ['Chapter: 12', 'Sentence: 88', 'Contents: “you think so, hastings'], ['Chapter: 12', 'Sentence: 91', 'Contents: poirot restrained my ardour with a light touch upon the arm'], ['Chapter: 12', 'Sentence: 106', 'Contents: oh, be assured, hastings, the danger that threatened him was not in santiago, it was near at hand, in france'], ['Chapter: 12', 'Sentence: 110', 'Contents: a light of pure enjoyment lit up poirot’s face'], ['Chapter: 12', 'Sentence: 126', 'Contents: poirot shrugged his shoulders'], ['Chapter: 12', 'Sentence: 130', 'Contents: a remarkable woman that, hastings'], ['Chapter: 12', 'Sentence: 151', 'Contents: tell me, hastings, what is your explanation of the open door'], ['Chapter: 12', 'Sentence: 154', 'Contents: poirot shook his head, and sighed'], ['Chapter: 12', 'Sentence: 165', 'Contents: “an admirable theory, hastings, but for two facts which you have characteristically overlooked'], ['Chapter: 12', 'Sentence: 171', 'Contents: “no,” continued poirot, “we must look elsewhere for a solution of the open door mystery'], ['Chapter: 12', 'Sentence: 178', 'Contents: listen, hastings'], ['Chapter: 12', 'Sentence: 184', 'Contents: “where they got the spade and the gardening gloves,” said poirot impatiently'], ['Chapter: 12', 'Sentence: 192', 'Contents: i mused, thinking over the new field of conjecture that poirot’s deductions had opened up to me'], ['Chapter: 12', 'Sentence: 204', 'Contents: “no,” said poirot cheerfully'], ['Chapter: 12', 'Sentence: 222', 'Contents: even i, hercule poirot, might fail to catch such a one'], ['Chapter: 12', 'Sentence: 225', 'Contents: “poirot'], ['Chapter: 12', 'Sentence: 229', 'Contents: from the quietness with which poirot received my remark, i could see that the idea had already occurred to him'], ['Chapter: 12', 'Sentence: 234', 'Contents: poirot maintained a strictly non-committal attitude, repeating: “it may be—yes, it may be'], ['Chapter: 13', 'Sentence: 2', 'Contents: i understood well enough that poirot did not wish to discuss the tragedy where we could so easily be overheard'], ['Chapter: 13', 'Sentence: 4', 'Contents: for a while we ate in silence, and then poirot observed maliciously: “ eh bien'], ['Chapter: 13', 'Sentence: 10', 'Contents: but i was no match for poirot'], ['Chapter: 13', 'Sentence: 19', 'Contents: “don’t be an ass, poirot'], ['Chapter: 13', 'Sentence: 21', 'Contents: decidedly you have the heart of a turk, hastings'], ['Chapter: 13', 'Sentence: 29', 'Contents: poirot nodded thoughtfully'], ['Chapter: 13', 'Sentence: 45', 'Contents: i answered poirot lightly enough'], ['Chapter: 13', 'Sentence: 56', 'Contents: “ah, my friend, have faith in papa poirot'], ['Chapter: 13', 'Sentence: 59', 'Contents: poirot sighed and shook his head'], ['Chapter: 13', 'Sentence: 70', 'Contents: surely i had never mentioned any hotel to poirot'], ['Chapter: 13', 'Sentence: 75', 'Contents: poirot smoked one of his tiny cigarettes, and then drew his watch from his pocket'], ['Chapter: 13', 'Sentence: 107', 'Contents: poirot smiled'], ['Chapter: 13', 'Sentence: 111', 'Contents: “what do you mean by that, poirot'], ['Chapter: 13', 'Sentence: 128', 'Contents: i felt rather at a loose end after poirot had left me'], ['Chapter: 13', 'Sentence: 172', 'Contents: poirot'], ['Chapter: 13', 'Sentence: 211', 'Contents: and then i saw the look in her eyes, the look poirot had spoken of, as she murmured, so that i almost guessed at the words'], ['Chapter: 13', 'Sentence: 229', 'Contents: “m. poirot has gone to paris,” i replied coldly'], ['Chapter: 13', 'Sentence: 263', 'Contents: another murder—and poirot away'], ['Chapter: 14', 'Sentence: 55', 'Contents: it was a woman’s long black hair—similar to the one poirot had taken from the arm-chair in the library'], ['Chapter: 15', 'Sentence: 7', 'Contents: it was from poirot, and announced his return by the train arriving at merlinville at 12:28'], ['Chapter: 15', 'Sentence: 10', 'Contents: evidently, i reflected, poirot had had no difficulty in finding what he wanted in paris'], ['Chapter: 15', 'Sentence: 36', 'Contents: hence her anxiety, and her eager questioning of poirot to know whether any one were suspected'], ['Chapter: 15', 'Sentence: 37', 'Contents: my cogitations were interrupted by the arrival of the train, and in another moment i was greeting poirot'], ['Chapter: 15', 'Sentence: 55', 'Contents: “my dear poirot—never mind all that'], ['Chapter: 15', 'Sentence: 89', 'Contents: in all my knowledge of poirot he had never done anything so amazing as this'], ['Chapter: 15', 'Sentence: 91', 'Contents: “poirot,” i cried, “you’re pulling my leg'], ['Chapter: 15', 'Sentence: 106', 'Contents: poirot listened attentively'], ['Chapter: 15', 'Sentence: 117', 'Contents: “you speak as usual, without reflection, hastings'], ['Chapter: 15', 'Sentence: 124', 'Contents: a hint of the lecturer crept into poirot’s tone'], ['Chapter: 15', 'Sentence: 131', 'Contents: we found all our friends there and, after an interchange of polite amenities, poirot began his task'], ['Chapter: 15', 'Sentence: 133', 'Contents: poirot bestowed but a cursory glance on the surroundings'], ['Chapter: 15', 'Sentence: 135', 'Contents: a disdainful smile rose to giraud’s lips, and, as though noting it, poirot flung the bundle down again'], ['Chapter: 15', 'Sentence: 138', 'Contents: poirot knelt down by the body'], ['Chapter: 15', 'Sentence: 146', 'Contents: suddenly poirot stiffened'], ['Chapter: 15', 'Sentence: 155', 'Contents: poirot again shot a question at giraud'], ['Chapter: 15', 'Sentence: 158', 'Contents: poirot proceeded'], ['Chapter: 15', 'Sentence: 161', 'Contents: poirot examined it, then he studied the wound closely'], ['Chapter: 15', 'Sentence: 172', 'Contents: and, stilling the clamour of voices that arose with a wave of his hand, poirot turned to giraud and added, “m. giraud agrees with me, do you not, monsieur'], ['Chapter: 15', 'Sentence: 181', 'Contents: “no, m. le juge,” said poirot'], ['Chapter: 15', 'Sentence: 184', 'Contents: “the impression it nearly did create,” returned poirot oracularly'], ['Chapter: 15', 'Sentence: 190', 'Contents: this statement of poirot’s again aroused considerable excitement'], ['Chapter: 15', 'Sentence: 194', 'Contents: “m. poirot, i am inclined to believe that you are correct in your assertion'], ['Chapter: 15', 'Sentence: 197', 'Contents: poirot was the hero of the hour'], ['Chapter: 15', 'Sentence: 199', 'Contents: poirot responded gracefully, and then excused himself on the pretext that neither he nor i had yet lunched, and that he wished to repair the ravages of the journey'], ['Chapter: 15', 'Sentence: 201', 'Contents: “one more thing, m. poirot,” he said, in his suave mocking voice'], ['Chapter: 15', 'Sentence: 204', 'Contents: “ah!” said poirot'], ['Chapter: 15', 'Sentence: 209', 'Contents: “he was insistent, the good giraud,” said poirot thoughtfully, as we walked towards the hotel'], ['Chapter: 15', 'Sentence: 212', 'Contents: we lunched heartily, but i found poirot somewhat distrait and inattentive'], ['Chapter: 15', 'Sentence: 225', 'Contents: poirot shook his head with a smile'], ['Chapter: 17', 'Sentence: 6', 'Contents: i admit that i am impulsive, and poirot deplores my custom of jumping to conclusions, but i think i had some excuse in this instance'], ['Chapter: 17', 'Sentence: 7', 'Contents: the remarkable way in which this discovery justified poirot’s point of view struck me at once'], ['Chapter: 17', 'Sentence: 8', 'Contents: “poirot,” i said, “i congratulate you'], ['Chapter: 17', 'Sentence: 15', 'Contents: poirot lit one of his little cigarettes with his usual precision'], ['Chapter: 17', 'Sentence: 25', 'Contents: poirot walked to the end of the room, absentmindedly straightened a chair, and then said thoughtfully'], ['Chapter: 17', 'Sentence: 31', 'Contents: poirot sat down again, and regarded me, his thoughtful air more marked than ever'], ['Chapter: 17', 'Sentence: 32', 'Contents: “so it is definitely your opinion, hastings, that madame daubreuil murdered m. renauld'], ['Chapter: 17', 'Sentence: 41', 'Contents: poirot nodded his head at me'], ['Chapter: 17', 'Sentence: 49', 'Contents: “true,” agreed poirot placidly'], ['Chapter: 17', 'Sentence: 57', 'Contents: poirot shook his head'], ['Chapter: 17', 'Sentence: 75', 'Contents: “why, poirot, it was you who remarked on that'], ['Chapter: 17', 'Sentence: 77', 'Contents: poirot smiled a little'], ['Chapter: 17', 'Sentence: 86', 'Contents: “ta-ta-ta,” said poirot impatiently'], ['Chapter: 17', 'Sentence: 93', 'Contents: “poirot,” i cried, “what more do you know'], ['Chapter: 17', 'Sentence: 97', 'Contents: reason—not like giraud—but like hercule poirot'], ['Chapter: 17', 'Sentence: 109', 'Contents: “but, poirot, i thought you said the man in the shed had died a natural death'], ['Chapter: 17', 'Sentence: 111', 'Contents: poirot made his favourite ejaculation of impatience'], ['Chapter: 17', 'Sentence: 121', 'Contents: that changed the course of my ideas, and i asked poirot if he knew that jack renauld had been in merlinville on the night of the crime'], ['Chapter: 17', 'Sentence: 124', 'Contents: “and without doubt we are not original in the idea, hastings'], ['Chapter: 17', 'Sentence: 129', 'Contents: poirot looked inquiringly at me, but i said no more'], ['Chapter: 17', 'Sentence: 133', 'Contents: poirot greeted him in a business-like manner'], ['Chapter: 17', 'Sentence: 138', 'Contents: “exactly, m. poirot,” said the lad'], ['Chapter: 17', 'Sentence: 147', 'Contents: “i and my friend, you comprehend, have business elsewhere,” explained poirot'], ['Chapter: 17', 'Sentence: 151', 'Contents: poirot’s voice stopped him'], ['Chapter: 17', 'Sentence: 158', 'Contents: poirot looked at him, his eyes narrowed, cat-like, until they only showed a gleam of green'], ['Chapter: 17', 'Sentence: 171', 'Contents: poirot’s eyes never left the other’s face'], ['Chapter: 17', 'Sentence: 183', 'Contents: poirot bowed his head as a sign that he accepted the explanation'], ['Chapter: 17', 'Sentence: 185', 'Contents: in a trice poirot jumped to his feet'], ['Chapter: 17', 'Sentence: 186', 'Contents: “quick, hastings'], ['Chapter: 17', 'Sentence: 189', 'Contents: but when poirot saw that he took the turning to the station, he checked himself'], ['Chapter: 17', 'Sentence: 196', 'Contents: “your penetration is amazing, hastings'], ['Chapter: 18', 'Sentence: 1', 'Contents:  “by the way, poirot,” i said, as we walked along the hot white road, “i’ve got a bone to pick with you'], ['Chapter: 18', 'Sentence: 3', 'Contents: poirot shot a quick sidelong glance at me'], ['Chapter: 18', 'Sentence: 7', 'Contents: i rather feared poirot’s banter, but to my relief, and somewhat to my surprise, he only shook his head with a rather unusual gravity'], ['Chapter: 18', 'Sentence: 14', 'Contents: poirot seemed to be about to say something further, but checked himself'], ['Chapter: 18', 'Sentence: 15', 'Contents: arrived at the villa, poirot led the way up to the shed where the second body had been discovered'], ['Chapter: 18', 'Sentence: 28', 'Contents: “certainly, monsieur poirot'], ['Chapter: 18', 'Sentence: 56', 'Contents: poirot, too, watched her intently'], ['Chapter: 18', 'Sentence: 60', 'Contents: “it was unwise to have tried to conceal the fact,” ventured poirot'], ['Chapter: 18', 'Sentence: 66', 'Contents: “the facts will tell against him,” said poirot'], ['Chapter: 18', 'Sentence: 73', 'Contents: “mademoiselle,” said poirot observing her keenly, “is there not something that you are keeping back that you could tell us'], ['Chapter: 18', 'Sentence: 92', 'Contents: poirot uttered an exclamation'], ['Chapter: 18', 'Sentence: 96', 'Contents: but tell me, monsieur poirot, is it not possible that this tramp might have attacked and killed m. renauld, and taken his clothes and money'], ['Chapter: 18', 'Sentence: 97', 'Contents: “it is an idea, mademoiselle,” said poirot slowly'], ['Chapter: 18', 'Sentence: 103', 'Contents: “come,” said poirot, and taking my arm, turned in the direction of the villa'], ['Chapter: 18', 'Sentence: 107', 'Contents: “it is a curious tale,” said poirot, “but i believe it to be the absolute truth'], ['Chapter: 18', 'Sentence: 115', 'Contents: now, hastings, what was jack renauld doing here on that eventful evening, and if he did not see mademoiselle marthe whom did he see'], ['Chapter: 18', 'Sentence: 116', 'Contents: “surely, poirot,” i cried, aghast, “you cannot believe that a boy like that would murder his own father'], ['Chapter: 18', 'Sentence: 117', 'Contents: “ mon ami ,” said poirot, “you continue to be of a sentimentality unbelievable'], ['Chapter: 18', 'Sentence: 125', 'Contents: poirot shrugged his shoulders'], ['Chapter: 18', 'Sentence: 129', 'Contents: “ah,” said poirot, smiling broadly'], ['Chapter: 18', 'Sentence: 135', 'Contents: “no,” said poirot with a curious smile'], ['Chapter: 18', 'Sentence: 138', 'Contents: “perhaps,” said poirot, regarding me quizzically'], ['Chapter: 18', 'Sentence: 150', 'Contents: neatly and methodically, poirot opened each drawer in turn, examined the contents, and returned them exactly to their places'], ['Chapter: 18', 'Sentence: 152', 'Contents: poirot waded on through collars, pajamas and socks'], ['Chapter: 18', 'Sentence: 155', 'Contents: “poirot'], ['Chapter: 18', 'Sentence: 160', 'Contents: ” growled poirot'], ['Chapter: 18', 'Sentence: 165', 'Contents: suddenly with a cry of triumph poirot pounced on something, a small square cardboard, evidently a photograph'], ['Chapter: 18', 'Sentence: 168', 'Contents: “good afternoon, m. giraud,” said poirot'], ['Chapter: 18', 'Sentence: 173', 'Contents: poirot wheeled to confront the boy who leaned limply against the door, his face ashy pale'], ['Chapter: 19', 'Sentence: 3', 'Contents: i had expected a ringing proclamation of his innocence when poirot challenged him'], ['Chapter: 19', 'Sentence: 5', 'Contents: but poirot had turned to giraud'], ['Chapter: 19', 'Sentence: 12', 'Contents: “it would not surprise me,” replied poirot, with a soupçon of malice'], ['Chapter: 19', 'Sentence: 17', 'Contents: “now, m. poirot,” said giraud laying his hat on the table, and speaking with the utmost sarcasm, “i will treat you to a little lecture on detective work'], ['Chapter: 19', 'Sentence: 20', 'Contents: ” said poirot, composing himself to listen'], ['Chapter: 19', 'Sentence: 27', 'Contents: “very creditable so far, my dear giraud,” murmured poirot'], ['Chapter: 19', 'Sentence: 38', 'Contents: captain hastings here can fix the time'], ['Chapter: 19', 'Sentence: 41', 'Contents: poirot interrupted: “you are wrong'], ['Chapter: 19', 'Sentence: 48', 'Contents: without doubt, he saw captain hastings and his companion leave the shed, slipped in himself and took the dagger, stabbed his accomplice in the shed'], ['Chapter: 19', 'Sentence: 56', 'Contents: “but it could not deceive m. giraud,” murmured poirot'], ['Chapter: 19', 'Sentence: 66', 'Contents: poirot regarded him steadily'], ['Chapter: 19', 'Sentence: 77', 'Contents: i saw a quick flash of green in poirot’s eyes as he rose to his feet'], ['Chapter: 19', 'Sentence: 84', 'Contents: poirot moved towards the door'], ['Chapter: 19', 'Sentence: 88', 'Contents: “the piece of lead piping,” said poirot, and left the room'], ['Chapter: 19', 'Sentence: 100', 'Contents: in a minute poirot stood up again'], ['Chapter: 19', 'Sentence: 105', 'Contents: denise and françoise had run to their mistress, and leaving her in their charge poirot left the house'], ['Chapter: 19', 'Sentence: 109', 'Contents: poirot did not answer at once, but after a long wait he said gravely: “i do not know, hastings'], ['Chapter: 19', 'Sentence: 117', 'Contents: this was what i called one of poirot’s irritating answers'], ['Chapter: 19', 'Sentence: 122', 'Contents: we established ourselves on the grassy knoll as poirot had suggested, looking out to sea'], ['Chapter: 19', 'Sentence: 124', 'Contents: the sea was of the palest blue, and the halcyon calm reminded me of the day we had arrived at merlinville, my own good spirits, and poirot’s suggestion that i was “fey'], ['Chapter: 19', 'Sentence: 127', 'Contents: “think, my friend,” said poirot’s voice encouragingly'], ['Chapter: 19', 'Sentence: 133', 'Contents: and reluctantly it seemed to me that the only clear and possible solution was that of giraud—which poirot despised'], ['Chapter: 19', 'Sentence: 137', 'Contents: poirot had declared the beroldy case to be all important'], ['Chapter: 19', 'Sentence: 146', 'Contents: “poirot,” i said, “it seems to me we have been strangely remiss'], ['Chapter: 19', 'Sentence: 151', 'Contents: “and who is that?” inquired poirot, with twinkling eyes'], ['Chapter: 20', 'Sentence: 1', 'Contents:  the next moment poirot embraced me warmly'], ['Chapter: 20', 'Sentence: 12', 'Contents: “ aucunement ,” agreed poirot'], ['Chapter: 20', 'Sentence: 23', 'Contents: the sentimentality,” warned poirot'], ['Chapter: 20', 'Sentence: 38', 'Contents: there, poirot, what do you think of that'], ['Chapter: 20', 'Sentence: 40', 'Contents: poirot looked at me thoughtfully'], ['Chapter: 20', 'Sentence: 54', 'Contents: “you are wrong, hastings'], ['Chapter: 20', 'Sentence: 60', 'Contents: “my theory is the truth,” said poirot quietly'], ['Chapter: 20', 'Sentence: 67', 'Contents: poirot sat very upright and began, wagging his forefinger emphatically to emphasize his points'], ['Chapter: 20', 'Sentence: 87', 'Contents: poirot paused, cleared his throat, and signed to me to write'], ['Chapter: 20', 'Sentence: 95', 'Contents: “letter written to m. hercule poirot, imploring assistance'], ['Chapter: 20', 'Sentence: 100', 'Contents: …’ ” poirot paused'], ['Chapter: 20', 'Sentence: 101', 'Contents: “there, hastings, take each of those facts one by one, consider them carefully by themselves and in relation to the whole, and see if you do not get new light on the matter'], ['Chapter: 20', 'Sentence: 110', 'Contents: “none whatever, i grant you, hastings'], ['Chapter: 20', 'Sentence: 112', 'Contents: “the letter, poirot'], ['Chapter: 20', 'Sentence: 117', 'Contents: “and that is all!” cut in poirot'], ['Chapter: 20', 'Sentence: 128', 'Contents: “i see,” i said slowly, as the meaning of poirot’s remarks bore in upon me'], ['Chapter: 20', 'Sentence: 131', 'Contents: poirot nodded'], ['Chapter: 20', 'Sentence: 155', 'Contents: and if you do not see that, you see nothing, hastings'], ['Chapter: 20', 'Sentence: 161', 'Contents: a faint smile crossed poirot’s lips'], ['Chapter: 20', 'Sentence: 167', 'Contents: poirot shook his head'], ['Chapter: 20', 'Sentence: 199', 'Contents: “my dear poirot, i can’t see anything glaring about it'], ['Chapter: 20', 'Sentence: 201', 'Contents: poirot looked at me sadly, and shook his head'], ['Chapter: 20', 'Sentence: 208', 'Contents: you really are the most irritating of fellows, poirot'], ['Chapter: 20', 'Sentence: 228', 'Contents: “georges conneau,” i said doubtfully, eyeing poirot warily'], ['Chapter: 20', 'Sentence: 252', 'Contents: poirot nodded'], ['Chapter: 20', 'Sentence: 267', 'Contents: “ eh bien, mon ami ,” said poirot placidly, “that is just what he did do'], ['Chapter: 21', 'Sentence: 1', 'Contents:  in a measured voice, poirot began his exposition'], ['Chapter: 21', 'Sentence: 6', 'Contents: “but no, it is all most simple really,” said poirot kindly'], ['Chapter: 21', 'Sentence: 64', 'Contents: “and then,” said poirot gravely, “the justice that he has so long eluded overtakes him'], ['Chapter: 21', 'Sentence: 66', 'Contents: … now, hastings, you understand what i mean when i talk of  two  crimes'], ['Chapter: 21', 'Sentence: 68', 'Contents: he misjudged hercule poirot'], ['Chapter: 21', 'Sentence: 74', 'Contents: “you’re marvellous, poirot,” i said, with admiration'], ['Chapter: 21', 'Sentence: 79', 'Contents: “ah, then you no longer despise poor old papa poirot'], ['Chapter: 21', 'Sentence: 84', 'Contents: “that poor giraud,” said poirot, trying unsuccessfully to look modest'], ['Chapter: 21', 'Sentence: 89', 'Contents: “to tell you the truth, poirot,” i said slowly, “even now i don’t quite see—whose hair was it'], ['Chapter: 21', 'Sentence: 102', 'Contents: but i, hercule poirot, whom he despises, will be the little pin that pricks the big balloon— comme ça'], ['Chapter: 21', 'Sentence: 108', 'Contents: voilà une femme , hastings'], ['Chapter: 21', 'Sentence: 126', 'Contents: poirot lost himself in contemplation'], ['Chapter: 21', 'Sentence: 127', 'Contents: “one thing more, poirot, what about the piece of lead piping'], ['Chapter: 21', 'Sentence: 138', 'Contents: “you see, hastings, we must now start again'], ['Chapter: 21', 'Sentence: 155', 'Contents: for answer, poirot consulted his turnip-faced watch, and then asked: “what time is the afternoon boat from calais'], ['Chapter: 21', 'Sentence: 164', 'Contents: with a rather peculiar smile upon his face, poirot replied: “miss bella duveen'], ['Chapter: 22', 'Sentence: 3', 'Contents: at the same time, i stole a quick glance at poirot'], ['Chapter: 22', 'Sentence: 11', 'Contents: in the bustle of departure, i had no time for thinking, but once on board the boat, secure from poirot’s observation (he, as usual, was “practising the method most excellent of laverguier”) i pulled myself together, and attacked the facts dispassionately'], ['Chapter: 22', 'Sentence: 12', 'Contents: how much did poirot know'], ['Chapter: 22', 'Sentence: 37', 'Contents: was that what poirot was after'], ['Chapter: 22', 'Sentence: 47', 'Contents: i disliked intensely being associated with poirot in hunting this girl down, but i could not see any way of avoiding it, without revealing everything to him, and this, for some reason, i was loath to do'], ['Chapter: 22', 'Sentence: 48', 'Contents: poirot reappeared brisk and smiling at dover, and our journey to london was uneventful'], ['Chapter: 22', 'Sentence: 50', 'Contents: but poirot had other plans'], ['Chapter: 22', 'Sentence: 60', 'Contents: he greeted poirot with every evidence of warmth, and professed himself ready to be of service to us in any way'], ['Chapter: 22', 'Sentence: 87', 'Contents: poirot made no inquiries at the theatre, but contented himself with booking stalls for the variety performance that evening'], ['Chapter: 22', 'Sentence: 103', 'Contents: i suggested leaving to poirot'], ['Chapter: 22', 'Sentence: 109', 'Contents: i heard the door open, and turned my head, thinking it was poirot'], ['Chapter: 22', 'Sentence: 121', 'Contents: and in that moment i understood everything—understood why poirot was seeking her, and what she feared, and understood at last my own heart'], ['Chapter: 22', 'Sentence: 202', 'Contents: poirot was standing there looking at us'], ['Chapter: 22', 'Sentence: 210', 'Contents: i held poirot in a grip of iron'], ['Chapter: 22', 'Sentence: 220', 'Contents: keeping a suspicious eye upon him, for i paid poirot the compliment of knowing that i was no match for him in astuteness, i relaxed my grip, and he sank into an arm-chair, feeling his arms tenderly'], ['Chapter: 22', 'Sentence: 221', 'Contents: “it is that you have the strength of a bull when you are roused, hastings'], ['Chapter: 22', 'Sentence: 225', 'Contents: so poirot had known all along'], ['Chapter: 22', 'Sentence: 231', 'Contents: it comes to this—are you going to work with me or against me, hastings'], ['Chapter: 22', 'Sentence: 237', 'Contents: “poirot,” i said, “i’m sorry'], ['Chapter: 22', 'Sentence: 241', 'Contents: poirot nodded his head several times'], ['Chapter: 22', 'Sentence: 252', 'Contents: “nothing that you could tell me would be any surprise to me, poirot'], ['Chapter: 22', 'Sentence: 258', 'Contents: poirot looked at me thoughtfully'], ['Chapter: 22', 'Sentence: 261', 'Contents: poirot rose and bowed'], ['Chapter: 22', 'Sentence: 266', 'Contents: it defeats even hercule poirot'], ['Chapter: 23', 'Sentence: 7', 'Contents: no, i was still satisfied with my idea—had not even poirot admitted that it defeated him'], ['Chapter: 23', 'Sentence: 12', 'Contents: poirot would not take defeat lying down'], ['Chapter: 23', 'Sentence: 15', 'Contents: poirot’s good temper was imperturbable, yet i thought i detected a film of reserve in his manner which was new'], ['Chapter: 23', 'Sentence: 17', 'Contents: a malicious gleam shot through poirot’s eyes'], ['Chapter: 23', 'Sentence: 21', 'Contents: “is that really so, poirot'], ['Chapter: 23', 'Sentence: 22', 'Contents: “you can take it from me, hastings'], ['Chapter: 23', 'Sentence: 31', 'Contents: she would know the risk she ran of a message being intercepted by poirot, thus setting him on her track once more'], ['Chapter: 23', 'Sentence: 33', 'Contents: but, in the meantime, what was poirot doing'], ['Chapter: 23', 'Sentence: 37', 'Contents: i had learned, with poirot, that the less dangerous he looked, the more dangerous he was'], ['Chapter: 23', 'Sentence: 40', 'Contents: “you are puzzled, hastings'], ['Chapter: 23', 'Sentence: 54', 'Contents: poirot’s perfect calm awakened a thousand apprehensions'], ['Chapter: 23', 'Sentence: 55', 'Contents: “i suppose, poirot,” i said rather diffidently, “i mustn’t ask what your plans are'], ['Chapter: 23', 'Sentence: 62', 'Contents: ’ you know very well that you cannot afford to let papa poirot out of your sight'], ['Chapter: 23', 'Sentence: 71', 'Contents: at all costs i must keep near poirot'], ['Chapter: 23', 'Sentence: 72', 'Contents: poirot observed me attentively as these reflections passed through my mind, and gave a nod of satisfaction'], ['Chapter: 23', 'Sentence: 131', 'Contents: but i pinned my faith to poirot'], ['Chapter: 24', 'Sentence: 2', 'Contents: poirot lost no time in visiting m. hautet'], ['Chapter: 24', 'Sentence: 6', 'Contents: “i was told that you had returned to england, m. poirot'], ['Chapter: 24', 'Sentence: 11', 'Contents: poirot shrugged his shoulders'], ['Chapter: 24', 'Sentence: 21', 'Contents: but poirot was not to be drawn'], ['Chapter: 24', 'Sentence: 44', 'Contents: i have here a letter for you, m. poirot'], ['Chapter: 24', 'Sentence: 47', 'Contents: at last he found the missive, and handed it to poirot'], ['Chapter: 24', 'Sentence: 50', 'Contents: poirot studied the letter curiously'], ['Chapter: 24', 'Sentence: 52', 'Contents: poirot did not open it'], ['Chapter: 24', 'Sentence: 65', 'Contents: i am sorry to have to record that poirot’s first remark to me as we traversed the corridor was: “a famous old imbecile, that one'], ['Chapter: 24', 'Sentence: 69', 'Contents: m. poirot,” he cried airily'], ['Chapter: 24', 'Sentence: 71', 'Contents: “as you see,” said poirot'], ['Chapter: 24', 'Sentence: 74', 'Contents: poirot spoke in a subdued tone'], ['Chapter: 24', 'Sentence: 79', 'Contents: “so extraordinary that it gives one to think, does it not?” suggested poirot mildly'], ['Chapter: 24', 'Sentence: 82', 'Contents: “well, good day, m. poirot'], ['Chapter: 24', 'Sentence: 88', 'Contents: ” poirot drew himself up'], ['Chapter: 24', 'Sentence: 95', 'Contents: ” “come now,” urged poirot, “is it agreed'], ['Chapter: 24', 'Sentence: 101', 'Contents: “i am enchanted to hear it,” said poirot'], ['Chapter: 24', 'Sentence: 103', 'Contents: come, hastings'], ['Chapter: 24', 'Sentence: 106', 'Contents: poirot had displayed his intentions only too plainly'], ['Chapter: 24', 'Sentence: 108', 'Contents: this unlucky encounter with giraud had roused poirot and put him on his mettle'], ['Chapter: 24', 'Sentence: 111', 'Contents: “and what are you doing here, m. stonor?” inquired poirot'], ['Chapter: 24', 'Sentence: 126', 'Contents: he turned to poirot'], ['Chapter: 24', 'Sentence: 128', 'Contents: “i think that things look very black against him,” said poirot quietly'], ['Chapter: 24', 'Sentence: 141', 'Contents: i paused, uncertain as to how much poirot would wish me to reveal'], ['Chapter: 24', 'Sentence: 148', 'Contents: poirot’s hand arrested his departure'], ['Chapter: 24', 'Sentence: 152', 'Contents: “that point about the dagger is good, poirot,” i urged as we went upstairs'], ['Chapter: 24', 'Sentence: 161', 'Contents: eh bien , hastings, they made to his order not  two  paper-knives, but three '], ['Chapter: 24', 'Sentence: 164', 'Contents: no, hastings, i fear the dagger question will not help us to save him from the guillotine'], ['Chapter: 24', 'Sentence: 166', 'Contents: poirot shook his head uncertainly'], ['Chapter: 24', 'Sentence: 168', 'Contents: poirot glanced at me dryly'], ['Chapter: 24', 'Sentence: 178', 'Contents: “there are other women in the world who suffer, hastings'], ['Chapter: 24', 'Sentence: 179', 'Contents: the writing was blurred and the note had evidently been written in great agitation: “ dear m. poirot: “if you get this, i beg of you to come to my aid'], ['Chapter: 24', 'Sentence: 188', 'Contents: marthe was at the door to meet us, and led poirot in, clinging with both hands to one of his'], ['Chapter: 24', 'Sentence: 197', 'Contents: “neither do i believe it, mademoiselle,” said poirot gently'], ['Chapter: 24', 'Sentence: 200', 'Contents: “perhaps because he is screening some one,” suggested poirot, watching her'], ['Chapter: 24', 'Sentence: 216', 'Contents: “mademoiselle,” said poirot quietly, “if we are to work together, you and i, we must have things clear'], ['Chapter: 24', 'Sentence: 221', 'Contents: “there, there,” said poirot, patting her on the shoulder'], ['Chapter: 25', 'Sentence: 53', 'Contents: i began to realize the magnitude of the task i had so lightly set poirot'], ['Chapter: 26', 'Sentence: 77', 'Contents: poirot was with me when i read it'], ['Chapter: 26', 'Sentence: 89', 'Contents: “you were rather high-handed in your methods,  mon ami ,” said poirot dryly'], ['Chapter: 26', 'Sentence: 104', 'Contents: “what is it that worries you, hastings'], ['Chapter: 26', 'Sentence: 105', 'Contents: this was quite a new mood in poirot'], ['Chapter: 26', 'Sentence: 109', 'Contents: poirot turned back the pages'], ['Chapter: 26', 'Sentence: 110', 'Contents: “i think you are mistaken, hastings'], ['Chapter: 26', 'Sentence: 113', 'Contents: poirot smiled'], ['Chapter: 26', 'Sentence: 119', 'Contents: leave it to papa poirot'], ['Chapter: 27', 'Sentence: 1', 'Contents:  “congratulations, m. jack,” said poirot, wringing the lad warmly by the hand'], ['Chapter: 27', 'Sentence: 7', 'Contents: he smiled mournfully at poirot, and said in a low voice: “i went through it to protect her, and now it’s all no use'], ['Chapter: 27', 'Sentence: 11', 'Contents: and you were heading for it too!” added poirot, with a slight twinkle'], ['Chapter: 27', 'Sentence: 18', 'Contents: “if i were you,” said poirot frankly, “i should not distress myself unduly'], ['Chapter: 27', 'Sentence: 23', 'Contents: you see, m. poirot, in a way i  do  feel guilty of my father’s murder'], ['Chapter: 27', 'Sentence: 40', 'Contents: ” poirot reassured him quickly'], ['Chapter: 27', 'Sentence: 63', 'Contents: “and afterwards?” asked poirot gently'], ['Chapter: 27', 'Sentence: 75', 'Contents: poirot sprang to his feet'], ['Chapter: 27', 'Sentence: 79', 'Contents: poirot, jack renauld and i set off in the renauld car'], ['Chapter: 27', 'Sentence: 81', 'Contents: as we approached the doorway of the villa marguerite, jack renauld shot a questioning glance at poirot'], ['Chapter: 27', 'Sentence: 83', 'Contents: “while you break it in person to mademoiselle marthe, eh?” finished poirot, with a twinkle'], ['Chapter: 27', 'Sentence: 88', 'Contents: “poirot,” i said, “do you remember how we arrived here that first day'], ['Chapter: 27', 'Sentence: 94', 'Contents: ” “poirot, what have you done about finding bel—i mean dulcie'], ['Chapter: 27', 'Sentence: 95', 'Contents: “calm yourself, hastings'], ['Chapter: 27', 'Sentence: 98', 'Contents: poirot changed the subject'], ['Chapter: 27', 'Sentence: 102', 'Contents: “you are regarding it from the sentimental standpoint, hastings'], ['Chapter: 27', 'Sentence: 109', 'Contents: and in the midst of a fit of laughter on my part at poirot’s peculiarities, the door was opened by françoise'], ['Chapter: 27', 'Sentence: 110', 'Contents: poirot explained that he must see mrs. renauld at once, and the old woman conducted him upstairs'], ['Chapter: 27', 'Sentence: 112', 'Contents: it was some time before poirot reappeared'], ['Chapter: 27', 'Sentence: 114', 'Contents: “ vous voilà , hastings'], ['Chapter: 27', 'Sentence: 118', 'Contents: “i would hardly have credited it,” said poirot thoughtfully, “but women are very unexpected'], ['Chapter: 27', 'Sentence: 120', 'Contents: poirot bounded out of the room, and met the young couple on the steps outside'], ['Chapter: 27', 'Sentence: 132', 'Contents: “i thank you for your good offices, m. poirot, but i will make my own wishes clear'], ['Chapter: 27', 'Sentence: 146', 'Contents: poirot made a mediating gesture, but instantly she regained command of herself'], ['Chapter: 27', 'Sentence: 156', 'Contents: poirot and i went quickly to his assistance'], ['Chapter: 27', 'Sentence: 157', 'Contents: “he is overdone,” murmured poirot to marthe'], ['Chapter: 27', 'Sentence: 164', 'Contents: poirot felt his head and hands'], ['Chapter: 27', 'Sentence: 168', 'Contents: get him to bed, and hastings and i will summon a doctor'], ['Chapter: 27', 'Sentence: 176', 'Contents: “and now for quarters for the night,” said poirot, when at length  café noir  had completed the meal'], ['Chapter: 27', 'Sentence: 180', 'Contents: then poirot asked a question which surprised me'], ['Chapter: 27', 'Sentence: 185', 'Contents: “poirot,” i cried, keeping pace with him as he walked along the corridor, “who on earth is miss robinson'], ['Chapter: 27', 'Sentence: 186', 'Contents: poirot beamed kindly on me'], ['Chapter: 27', 'Sentence: 187', 'Contents: “it is that i have arranged you a marriage, hastings'], ['Chapter: 27', 'Sentence: 189', 'Contents: “bah!” said poirot, giving me a friendly push over the threshold of the door'], ['Chapter: 27', 'Sentence: 194', 'Contents: poirot cleared his throat'], ['Chapter: 27', 'Sentence: 198', 'Contents: in response, cinderella took from her bag an object wrapped up in paper, and handed it silently to poirot'], ['Chapter: 27', 'Sentence: 202', 'Contents: “ très bien, mon enfant ,” said poirot'], ['Chapter: 27', 'Sentence: 205', 'Contents: hastings here and i have work to do'], ['Chapter: 27', 'Sentence: 212', 'Contents: poirot realized that it was futile to argue further'], ['Chapter: 27', 'Sentence: 220', 'Contents: poirot led the way out of the town in the direction of the villa geneviève'], ['Chapter: 27', 'Sentence: 223', 'Contents: come with me, hastings'], ['Chapter: 27', 'Sentence: 227', 'Contents: as we went round to the side of the house, i drew poirot’s attention to a window on the first floor'], ['Chapter: 27', 'Sentence: 229', 'Contents: “ah!” said poirot'], ['Chapter: 27', 'Sentence: 237', 'Contents: “is the doctor coming again?” asked poirot in a whisper'], ['Chapter: 27', 'Sentence: 246', 'Contents: “i hope we have not deranged you, madame,” said poirot politely as she opened the door for us to pass out'], ['Chapter: 27', 'Sentence: 248', 'Contents: “by the way,” said poirot, as though struck by an afterthought, “m. stonor has not been in merlinville today, has he'], ['Chapter: 27', 'Sentence: 249', 'Contents: i could not at all fathom the point of this question which i well knew to be meaningless as far as poirot was concerned'], ['Chapter: 27', 'Sentence: 253', 'Contents: “true,” said poirot'], ['Chapter: 27', 'Sentence: 258', 'Contents: “no ‘ whys ,’ hastings'], ['Chapter: 27', 'Sentence: 261', 'Contents: poirot looked over his shoulder once at the lighted window and the profile of marthe as she bent over her work'], ['Chapter: 27', 'Sentence: 263', 'Contents: arrived at the villa geneviève, poirot took up his stand behind some bushes to the left of the drive, where, whilst enjoying a good view ourselves, we were completely hidden from sight'], ['Chapter: 27', 'Sentence: 266', 'Contents: it seemed to me that it was upon this spot that poirot’s eyes were fixed'], ['Chapter: 27', 'Sentence: 277', 'Contents: ” cried poirot'], ['Chapter: 27', 'Sentence: 286', 'Contents: poirot had rushed through the empty room and was pounding on the door leading into the corridor'], ['Chapter: 27', 'Sentence: 290', 'Contents: i saw despair in poirot’s eyes'], ['Chapter: 27', 'Sentence: 299', 'Contents: she’s a professional acrobat, hastings'], ['Chapter: 27', 'Sentence: 306', 'Contents: poirot brushed her aside unceremoniously and rushed down the passage to where the other maids were grouped round the further door'], ['Chapter: 27', 'Sentence: 311', 'Contents: “she is safe?” demanded poirot'], ['Chapter: 27', 'Sentence: 317', 'Contents: the girl picked up something from the floor and handed it to poirot'], ['Chapter: 27', 'Sentence: 319', 'Contents: “a getaway,” said poirot'], ['Chapter: 27', 'Sentence: 330', 'Contents: “the murderer of m. renauld, hastings'], ['Chapter: 28', 'Sentence: 2', 'Contents: poirot seemed deaf to my repeated questions'], ['Chapter: 28', 'Sentence: 7', 'Contents: poirot deigned to attend to me for a brief moment'], ['Chapter: 28', 'Sentence: 11', 'Contents: “then why was i not told,” vociferated poirot, striking the table, and working himself into a first-class passion'], ['Chapter: 28', 'Sentence: 19', 'Contents: i was aroused from my condition of mental fog by a sharp command from poirot to fetch the doctor immediately on mrs. renauld’s behalf'], ['Chapter: 28', 'Sentence: 30', 'Contents: i awoke to find the sun pouring in through the open windows and poirot, neat and smiling, sitting beside the bed'], ['Chapter: 28', 'Sentence: 32', 'Contents: but it is that you are a famous sleeper, hastings'], ['Chapter: 28', 'Sentence: 40', 'Contents: “oh, no, hastings, she did not'], ['Chapter: 28', 'Sentence: 47', 'Contents: poirot leaned back in his chair, and brought the tips of his fingers together in familiar style'], ['Chapter: 28', 'Sentence: 87', 'Contents: poirot paused and cleared his throat'], ['Chapter: 28', 'Sentence: 89', 'Contents: the solution did not commend itself to me, because, as i pointed out to you, hastings, an expert, such as i am, likes to meet a foeman worthy of his steel'], ['Chapter: 28', 'Sentence: 101', 'Contents: i said no word to you, hastings (it was no time for romance) but i sought out mademoiselle dulcie, told her as much as i deemed needful, and set her to search amongst the effects of her sister'], ['Chapter: 28', 'Sentence: 114', 'Contents: that is where, as the americans say, she ‘put it over’ on hercule poirot'], ['Chapter: 28', 'Sentence: 138', 'Contents: “however, hastings, things did not go quite as mademoiselle marthe had planned'], ['Chapter: 28', 'Sentence: 144', 'Contents: but she was checkmated—not by hercule poirot—but by  la petite acrobate  with her wrists of steel'], ['Chapter: 28', 'Sentence: 146', 'Contents: “when did you first begin to suspect marthe daubreuil, poirot'], ['Chapter: 28', 'Sentence: 148', 'Contents: poirot smiled'], ['Chapter: 28', 'Sentence: 169', 'Contents: and yet, do you know, hastings, i doubt if his heart was ever seriously engaged'], ['Chapter: 28', 'Sentence: 180', 'Contents: poirot proved a fairly true prophet'], ['Chapter: 28', 'Sentence: 181', 'Contents: when at length the doctor pronounced jack renauld strong enough to hear the truth, it was poirot who broke it to him'], ['Chapter: 28', 'Sentence: 187', 'Contents: poirot had acquainted mrs. renauld with the fact that he knew her secret, and had represented to her that jack should not be left in ignorance of his father’s past'], ['Chapter: 28', 'Sentence: 191', 'Contents: a halting question was promptly answered by poirot'], ['Chapter: 28', 'Sentence: 197', 'Contents: there were, of course, various points in the case that remained puzzling to the police, but poirot explained things in so plausible a fashion that all query about them was gradually stilled'], ['Chapter: 28', 'Sentence: 198', 'Contents: shortly after we got back to london, i noticed a magnificent model of a foxhound adorning poirot’s mantelpiece'], ['Chapter: 28', 'Sentence: 199', 'Contents: in answer to my inquiring glance, poirot nodded'], ['Chapter: 28', 'Sentence: 205', 'Contents: “m. poirot, i’ve come to say good-bye'], ['Chapter: 28', 'Sentence: 219', 'Contents: “so have all of us, at one time and another,” observed poirot philosophically'], ['Chapter: 28', 'Sentence: 225', 'Contents: hastings here will tell you that i believe in heredity'], ['Chapter: 28', 'Sentence: 242', 'Contents: and what of captain arthur hastings, humble chronicler of these pages']]\n",
            "[['Chapter: 7', 'Sentence: 146', 'Contents: “mademoiselle daubreuil,” said m. hautet, sweeping off his hat, “we regret infinitely to disturb you, but the exigencies of the law—you comprehend'], ['Chapter: 7', 'Sentence: 177', 'Contents: “marthe, dear'], ['Chapter: 7', 'Sentence: 185', 'Contents: “i should prefer not to speak before mademoiselle daubreuil'], ['Chapter: 7', 'Sentence: 242', 'Contents: it was marthe daubreuil'], ['Chapter: 7', 'Sentence: 250', 'Contents: “françoise told our amélie,” explained marthe, with a blush'], ['Chapter: 7', 'Sentence: 294', 'Contents: “ah,  mon ami , do not set your heart on marthe daubreuil'], ['Chapter: 11', 'Sentence: 104', 'Contents: the subject of the quarrel was mademoiselle marthe daubreuil'], ['Chapter: 11', 'Sentence: 110', 'Contents: “i love mademoiselle daubreuil, and i wish to marry her'], ['Chapter: 11', 'Sentence: 118', 'Contents: marthe is as good as she is beautiful'], ['Chapter: 11', 'Sentence: 120', 'Contents: “i have nothing against mademoiselle daubreuil in any way'], ['Chapter: 11', 'Sentence: 126', 'Contents: “when you informed your father of your intentions towards mademoiselle daubreuil,” he resumed, “he was surprised'], ['Chapter: 11', 'Sentence: 130', 'Contents: nettled, i demanded what he had against mademoiselle daubreuil'], ['Chapter: 11', 'Sentence: 132', 'Contents: i answered that i was marrying marthe, and not her antecedents, but he shouted me down with a peremptory refusal to discuss the matter in any way'], ['Chapter: 11', 'Sentence: 144', 'Contents: i wrote to marthe, telling her what had happened, and her reply soothed me still further'], ['Chapter: 13', 'Sentence: 20', 'Contents: “yesterday it was mademoiselle daubreuil, today it is mademoiselle—cinderella'], ['Chapter: 13', 'Sentence: 24', 'Contents: mademoiselle daubreuil is a very beautiful girl, and i do admire her immensely—i don’t mind admitting it'], ['Chapter: 13', 'Sentence: 95', 'Contents: and thirdly, if you wish, endeavour to cut him out with mademoiselle marthe'], ['Chapter: 13', 'Sentence: 101', 'Contents: throw together a boy young renauld and a beautiful girl like mademoiselle marthe, and the result is almost inevitable'], ['Chapter: 13', 'Sentence: 109', 'Contents: that is how always think of mademoiselle daubreuil  as the girl with the anxious eyes'], ['Chapter: 13', 'Sentence: 195', 'Contents: a girl’s voice was speaking, a voice that i recognized as that of the beautiful marthe'], ['Chapter: 13', 'Sentence: 198', 'Contents: “you know it, marthe,” jack renauld replied'], ['Chapter: 15', 'Sentence: 20', 'Contents: i do not know what put the idea into my head—possibly it was the deep anxiety underlying marthe daubreuil’s tones—but i asked suddenly: “young m. renauld—he did not leave by that train, did he'], ['Chapter: 15', 'Sentence: 29', 'Contents: that, then, was the reason of marthe’s poignant anxiety'], ['Chapter: 15', 'Sentence: 35', 'Contents: one thing was certain, marthe had known all along'], ['Chapter: 17', 'Sentence: 167', 'Contents: i came to see my fiancée, mademoiselle daubreuil'], ['Chapter: 18', 'Sentence: 20', 'Contents: “with good fortune,” he remarked to me over his shoulder, “mademoiselle marthe may find herself in the garden'], ['Chapter: 18', 'Sentence: 26', 'Contents: ” i joined him at the moment that marthe daubreuil, looking slightly startled, came running up to the hedge at his call'], ['Chapter: 18', 'Sentence: 101', 'Contents: “ maman ,” whispered marthe, “i must go'], ['Chapter: 18', 'Sentence: 108', 'Contents: unwittingly, mademoiselle marthe told us the truth on another point—and incidentally gave jack renauld the lie'], ['Chapter: 18', 'Sentence: 109', 'Contents: did you notice his hesitation when i asked him if he saw marthe daubreuil on the night of the crime'], ['Chapter: 18', 'Sentence: 112', 'Contents: it was necessary for me to see mademoiselle marthe before he could put her on her guard'], ['Chapter: 18', 'Sentence: 115', 'Contents: now, hastings, what was jack renauld doing here on that eventful evening, and if he did not see mademoiselle marthe whom did he see'], ['Chapter: 20', 'Sentence: 89', 'Contents: m. renauld quarrels with his son over latter’s wish to marry marthe daubreuil'], ['Chapter: 20', 'Sentence: 94', 'Contents: quarrel with tramp in garden, witnessed by marthe daubreuil'], ['Chapter: 20', 'Sentence: 135', 'Contents: “may 23rd,” i read, “m. renauld quarrels with his son over latter’s wish to marry marthe daubreuil'], ['Chapter: 22', 'Sentence: 38', 'Contents: had jack renauld, returning to see marthe daubreuil, come face to face instead with bella duveen, the girl he had heartlessly thrown over'], ['Chapter: 22', 'Sentence: 43', 'Contents: did he fear for this former entanglement of his to come to the ears of marthe daubreuil'], ['Chapter: 24', 'Sentence: 182', 'Contents: “marthe daubreuil'], ['Chapter: 24', 'Sentence: 188', 'Contents: marthe was at the door to meet us, and led poirot in, clinging with both hands to one of his'], ['Chapter: 24', 'Sentence: 201', 'Contents: marthe frowned'], ['Chapter: 24', 'Sentence: 220', 'Contents: marthe looked at him for a minute, then, letting her head fall forward on her arms, she burst into tears'], ['Chapter: 24', 'Sentence: 228', 'Contents: marthe listened spellbound'], ['Chapter: 27', 'Sentence: 2', 'Contents: young renauld had come to us as soon as he was liberated—before starting for merlinville to rejoin marthe and his mother'], ['Chapter: 27', 'Sentence: 30', 'Contents: after i met marthe, and realized i’d made a mistake, i ought to have written and told her so honestly'], ['Chapter: 27', 'Sentence: 31', 'Contents: but i was so terrified of a row, and of its coming to marthe’s ears, and her thinking there was more in it than there ever had been, that—well, i was a coward, and went on hoping the thing would die down of itself'], ['Chapter: 27', 'Sentence: 47', 'Contents: i came from cherbourg, as i told you, in order to see marthe before going to the other end of the world'], ['Chapter: 27', 'Sentence: 83', 'Contents: “while you break it in person to mademoiselle marthe, eh?” finished poirot, with a twinkle'], ['Chapter: 27', 'Sentence: 119', 'Contents: “here are jack and marthe daubreuil,” i exclaimed, looking out of the window'], ['Chapter: 27', 'Sentence: 128', 'Contents: “but marthe and i'], ['Chapter: 27', 'Sentence: 157', 'Contents: “he is overdone,” murmured poirot to marthe'], ['Chapter: 27', 'Sentence: 173', 'Contents: finally, having done all we could, we left him in the charge of marthe and her mother, and set out for the town'], ['Chapter: 27', 'Sentence: 228', 'Contents: thrown sharply on the blind was the profile of marthe daubreuil'], ['Chapter: 27', 'Sentence: 234', 'Contents: marthe daubreuil was embroidering by a table with a lamp on it'], ['Chapter: 27', 'Sentence: 261', 'Contents: poirot looked over his shoulder once at the lighted window and the profile of marthe as she bent over her work'], ['Chapter: 27', 'Sentence: 332', 'Contents: puzzled and uncomprehending, i knelt down, and lifting the fold of cloth, looked into the dead beautiful face of marthe daubreuil'], ['Chapter: 28', 'Sentence: 36', 'Contents: “do you know, i actually dreamt that we found marthe daubreuil’s body in mrs. renauld’s room, and that you declared her to have murdered mr. renauld'], ['Chapter: 28', 'Sentence: 57', 'Contents: from marthe daubreuil’s own lips we have the admission that she overheard m. renauld’s quarrel with the tramp'], ['Chapter: 28', 'Sentence: 59', 'Contents: remember how easily you overheard marthe’s conversation with jack renauld from that spot'], ['Chapter: 28', 'Sentence: 60', 'Contents: “but what possible motive could marthe have for murdering mr. renauld'], ['Chapter: 28', 'Sentence: 65', 'Contents: let us reconstruct the scene from the standpoint of marthe daubreuil'], ['Chapter: 28', 'Sentence: 66', 'Contents: “marthe daubreuil overhears what passes between renauld and his wife'], ['Chapter: 28', 'Sentence: 71', 'Contents: if the latter defies his father, he will be a pauper—which is not at all to the mind of mademoiselle marthe'], ['Chapter: 28', 'Sentence: 80', 'Contents: and here comes in the second point which led me infallibly to marthe daubreuil—the dagger'], ['Chapter: 28', 'Sentence: 82', 'Contents: one he gave to his mother, one to bella duveen; was it not highly probable that he had given the third one to marthe daubreuil'], ['Chapter: 28', 'Sentence: 83', 'Contents: “so then, to sum up, there were four points of note against marthe daubreuil: “(1) marthe daubreuil could have overheard m. renauld’s plans'], ['Chapter: 28', 'Sentence: 84', 'Contents: “(2) marthe daubreuil had a direct interest in causing m. renauld’s death'], ['Chapter: 28', 'Sentence: 85', 'Contents: “(3) marthe daubreuil was the daughter of the notorious madame beroldy who in my opinion was morally and virtually the murderess of her husband, although it may have been georges conneau’s hand which struck the actual blow'], ['Chapter: 28', 'Sentence: 86', 'Contents: “(4) marthe daubreuil was the only person, besides jack renauld, likely to have the third dagger in her possession'], ['Chapter: 28', 'Sentence: 96', 'Contents: if it was  not  bella duveen, the only other person who could have committed the crime was marthe daubreuil'], ['Chapter: 28', 'Sentence: 100', 'Contents: but if, by any chance, it was  not  her sister’s, but the one given by jack to marthe daubreuil—why then, bella duveen’s dagger would be still intact'], ['Chapter: 28', 'Sentence: 103', 'Contents: “in the meantime i had taken steps to force mademoiselle marthe into the open'], ['Chapter: 28', 'Sentence: 108', 'Contents: marthe daubreuil made a last bold bid for the renauld millions—and failed'], ['Chapter: 28', 'Sentence: 123', 'Contents: she had brains, that beautiful mademoiselle marthe'], ['Chapter: 28', 'Sentence: 128', 'Contents: on the floor by marthe daubreuil’s body, i found a pad and a little bottle of chloroform and a hypodermic syringe containing a fatal dose of morphine'], ['Chapter: 28', 'Sentence: 138', 'Contents: “however, hastings, things did not go quite as mademoiselle marthe had planned'], ['Chapter: 28', 'Sentence: 142', 'Contents: there is a last chance for marthe daubreuil'], ['Chapter: 28', 'Sentence: 146', 'Contents: “when did you first begin to suspect marthe daubreuil, poirot'], ['Chapter: 28', 'Sentence: 152', 'Contents: that is how i have thought of marthe daubreuil from the beginning'], ['Chapter: 28', 'Sentence: 170', 'Contents: so far we have looked upon bella duveen as a siren, and marthe daubreuil as the girl he really loved'], ['Chapter: 28', 'Sentence: 172', 'Contents: marthe daubreuil was very beautiful']]\n",
            "[['Chapter: 18', 'Sentence: 115', 'Contents: now, hastings, what was jack renauld doing here on that eventful evening, and if he did not see mademoiselle marthe whom did he see'], ['Chapter: 24', 'Sentence: 188', 'Contents: marthe was at the door to meet us, and led poirot in, clinging with both hands to one of his'], ['Chapter: 27', 'Sentence: 83', 'Contents: “while you break it in person to mademoiselle marthe, eh?” finished poirot, with a twinkle'], ['Chapter: 27', 'Sentence: 157', 'Contents: “he is overdone,” murmured poirot to marthe'], ['Chapter: 27', 'Sentence: 261', 'Contents: poirot looked over his shoulder once at the lighted window and the profile of marthe as she bent over her work'], ['Chapter: 28', 'Sentence: 138', 'Contents: “however, hastings, things did not go quite as mademoiselle marthe had planned'], ['Chapter: 28', 'Sentence: 146', 'Contents: “when did you first begin to suspect marthe daubreuil, poirot']]\n",
            "[['Chapter: 2', 'Sentence: 324', 'Contents: “m. renauld was murdered this morning'], ['Chapter: 3', 'Sentence: 4', 'Contents: murdered'], ['Chapter: 3', 'Sentence: 54', 'Contents: “the body was discovered this morning about nine o’clock'], ['Chapter: 3', 'Sentence: 91', 'Contents: going to call her mistress as usual, a younger maid, léonie, was horrified to discover her gagged and bound, and almost at the same moment news was brought that m. renauld’s body had been discovered, stone dead, stabbed in the back'], ['Chapter: 4', 'Sentence: 57', 'Contents: “i shall cable without delay to the police in that city, requesting full details of the murdered man’s life out there, his love affairs, his business transactions, his friendships, and any enmities he may have incurred'], ['Chapter: 4', 'Sentence: 181', 'Contents: the murdered man lay on the ground, with a sheet over him'], ['Chapter: 6', 'Sentence: 60', 'Contents: it was some of the men working on them who discovered the body early this morning'], ['Chapter: 6', 'Sentence: 92', 'Contents: the marks you complain of were made by the workmen who discovered the body'], ['Chapter: 6', 'Sentence: 118', 'Contents: “and does this, too, belong to the murdered man?” he asked, and i thought i detected a subtle flavour of irony in the question'], ['Chapter: 7', 'Sentence: 29', 'Contents: yet he is found murdered close at hand, almost within ear-shot of the house'], ['Chapter: 8', 'Sentence: 176', 'Contents: we repaired first to the spot where the body had been discovered'], ['Chapter: 10', 'Sentence: 55', 'Contents: “so, as far as you know, he had no enemies, and you can give us no clue as to any secret to obtain possession of which he might have been murdered'], ['Chapter: 12', 'Sentence: 66', 'Contents: “they declared, after examination of the body, that death had taken place between ten and seven hours previously'], ['Chapter: 13', 'Sentence: 265', 'Contents: but who had been murdered'], ['Chapter: 17', 'Sentence: 18', 'Contents: “why, that it was madame daubreuil—beroldy, who murdered mr. renauld'], ['Chapter: 17', 'Sentence: 32', 'Contents: “so it is definitely your opinion, hastings, that madame daubreuil murdered m. renauld'], ['Chapter: 18', 'Sentence: 15', 'Contents: arrived at the villa, poirot led the way up to the shed where the second body had been discovered'], ['Chapter: 18', 'Sentence: 86', 'Contents: on the morning of the day m. renauld was murdered, i was walking in the garden here, when i heard a sound of men’s voices quarrelling'], ['Chapter: 18', 'Sentence: 118', 'Contents: i have seen mothers who murdered their little children for the sake of the insurance money'], ['Chapter: 28', 'Sentence: 36', 'Contents: “do you know, i actually dreamt that we found marthe daubreuil’s body in mrs. renauld’s room, and that you declared her to have murdered mr. renauld'], ['Chapter: 28', 'Sentence: 96', 'Contents: if it was  not  bella duveen, the only other person who could have committed the crime was marthe daubreuil']]\n",
            "[['Chapter: 3', 'Sentence: 119', 'Contents: finally there are madame renauld and her son, m. jack renauld'], ['Chapter: 3', 'Sentence: 285', 'Contents: “you see, m. jack, the son of monsieur, was usually here, and he spoke the french very badly'], ['Chapter: 5', 'Sentence: 186', 'Contents: “jack'], ['Chapter: 8', 'Sentence: 23', 'Contents: the day that he quarrelled with m. jack— ma foi'], ['Chapter: 8', 'Sentence: 28', 'Contents: it was just before m. jack went to paris'], ['Chapter: 9', 'Sentence: 122', 'Contents: m. jack renauld, the son, for instance'], ['Chapter: 11', 'Sentence: 6', 'Contents: “jack'], ['Chapter: 11', 'Sentence: 45', 'Contents: jack renauld shook his head'], ['Chapter: 11', 'Sentence: 56', 'Contents: in response, jack renauld declared definitely that he knew nothing of any enmity his father might have incurred in the city of santiago, or elsewhere in the south american continent, that he had noticed no change in his father’s manner of late, and that he had never heard him refer to a secret'], ['Chapter: 11', 'Sentence: 67', 'Contents: jack shrugged his shoulders'], ['Chapter: 11', 'Sentence: 73', 'Contents: jack renauld was clearly disconcerted by the question'], ['Chapter: 11', 'Sentence: 108', 'Contents: jack renauld bowed his head'], ['Chapter: 11', 'Sentence: 155', 'Contents: “duveen?” said jack'], ['Chapter: 11', 'Sentence: 163', 'Contents: jack renauld took the letter, and read it through, the colour mounting in his face as he did so'], ['Chapter: 11', 'Sentence: 188', 'Contents: jack renauld leaned forward'], ['Chapter: 11', 'Sentence: 212', 'Contents: stonor crossed to jack, and wrung him by the hand'], ['Chapter: 11', 'Sentence: 324', 'Contents: i had not seen it hanging there before, and guessed that it belonged to either mr. stonor, or jack renauld'], ['Chapter: 13', 'Sentence: 198', 'Contents: “you know it, marthe,” jack renauld replied'], ['Chapter: 13', 'Sentence: 203', 'Contents: “oh, jack, jack—i am afraid'], ['Chapter: 13', 'Sentence: 209', 'Contents: but the girl’s face was troubled, and jack renauld seemed to recognize it, as he held her closer to him and asked: “but what are you afraid of, darling'], ['Chapter: 13', 'Sentence: 249', 'Contents: giraud evidently did not desire my company and, from what i had seen, it seemed fairly certain that jack renauld did not either'], ['Chapter: 14', 'Sentence: 119', 'Contents: jack renauld succeeded her'], ['Chapter: 15', 'Sentence: 25', 'Contents: … “you mean,” i said, my heart beating a little, “that m. jack renauld arrived at merlinville that evening'], ['Chapter: 15', 'Sentence: 30', 'Contents: jack renauld had been in merlinville on the night of the crime'], ['Chapter: 15', 'Sentence: 120', 'Contents: this particular weapon was a war souvenir which was made to jack renauld’s orders'], ['Chapter: 17', 'Sentence: 119', 'Contents: “m. jack renauld'], ['Chapter: 17', 'Sentence: 121', 'Contents: that changed the course of my ideas, and i asked poirot if he knew that jack renauld had been in merlinville on the night of the crime'], ['Chapter: 17', 'Sentence: 130', 'Contents: it had just occurred to me that though there were seven women directly or indirectly connected with the case mrs. renauld, madame daubreuil and her daughter, the mysterious visitor, and the three servants—there was, with the exception of old auguste who could hardly count, only one man—jack renauld'], ['Chapter: 17', 'Sentence: 132', 'Contents: … i had no time to develop further the appalling idea that had occurred to me, for jack renauld was ushered into the room'], ['Chapter: 17', 'Sentence: 154', 'Contents: jack renauld’s face went crimson'], ['Chapter: 17', 'Sentence: 161', 'Contents: for a moment jack renauld hesitated, then he made up his mind'], ['Chapter: 17', 'Sentence: 184', 'Contents: jack renauld took up his hat and cane and departed'], ['Chapter: 18', 'Sentence: 41', 'Contents: “m. jack renauld'], ['Chapter: 18', 'Sentence: 44', 'Contents: “jack'], ['Chapter: 18', 'Sentence: 65', 'Contents: he must arrest some one, and that some one will be jack'], ['Chapter: 18', 'Sentence: 108', 'Contents: unwittingly, mademoiselle marthe told us the truth on another point—and incidentally gave jack renauld the lie'], ['Chapter: 18', 'Sentence: 114', 'Contents: when i asked her if she knew that jack renauld was here that night, she answered ‘he  told  me'], ['Chapter: 18', 'Sentence: 115', 'Contents: now, hastings, what was jack renauld doing here on that eventful evening, and if he did not see mademoiselle marthe whom did he see'], ['Chapter: 18', 'Sentence: 122', 'Contents: remember that jack renauld thought that he would come in to half his father’s fortune at the latter’s death'], ['Chapter: 18', 'Sentence: 142', 'Contents: “i wish to make a search amongst the effects of m. jack renauld'], ['Chapter: 18', 'Sentence: 158', 'Contents: giraud is in it, and jack renauld, and two gendarmes'], ['Chapter: 18', 'Sentence: 170', 'Contents: giraud nodded his head towards jack'], ['Chapter: 18', 'Sentence: 175', 'Contents: ” jack renauld stared at him stonily'], ['Chapter: 19', 'Sentence: 2', 'Contents: up to the last, i had not been able bring myself to believe jack renauld guilty'], ['Chapter: 19', 'Sentence: 16', 'Contents: he flung open the door of the  salon , and we passed in, leaving jack renauld in the care of the two other men'], ['Chapter: 19', 'Sentence: 31', 'Contents: i heard of jack renauld’s quarrel with his father, and of the threats that he had used'], ['Chapter: 19', 'Sentence: 34', 'Contents: jack renauld was in merlinville that night'], ['Chapter: 19', 'Sentence: 39', 'Contents: jack renauld, arriving from cherbourg, was the only person who could have taken it'], ['Chapter: 19', 'Sentence: 46', 'Contents: m. jack renauld arrived by train'], ['Chapter: 19', 'Sentence: 71', 'Contents: “jack renauld was presumably acquainted with the planning out of the golf course'], ['Chapter: 19', 'Sentence: 80', 'Contents: since it was to jack renauld’s advantage that the body should be found without delay, why dig a grave at all'], ['Chapter: 19', 'Sentence: 89', 'Contents: jack renauld still stood in the hall, with a white dumb face, but as we came out of the  salon , he looked up sharply'], ['Chapter: 19', 'Sentence: 93', 'Contents: “jack,” she faltered'], ['Chapter: 19', 'Sentence: 94', 'Contents: “jack, what is this'], ['Chapter: 19', 'Sentence: 108', 'Contents: “do you believe then, in spite of all appearances to the contrary, that jack renauld may not be guilty'], ['Chapter: 19', 'Sentence: 112', 'Contents: if jack renauld is guilty, it is in spite of giraud’s arguments, not  because  of them'], ['Chapter: 20', 'Sentence: 33', 'Contents: now supposing jack renauld to appear'], ['Chapter: 20', 'Sentence: 36', 'Contents: jack renauld consents—goes to the house and has an interview with his mother, winning her over to his point of view'], ['Chapter: 20', 'Sentence: 96', 'Contents: “telegram sent to jack renauld, bidding him proceed by the  anzora to buenos ayres'], ['Chapter: 20', 'Sentence: 125', 'Contents: later you observed me measuring the overcoat of m. jack renauld'], ['Chapter: 20', 'Sentence: 126', 'Contents: eh bien , m. jack renauld wears his overcoat very short'], ['Chapter: 20', 'Sentence: 127', 'Contents: put those two facts together with a third, namely that m. jack renauld flung out of the house in a hurry on his departure for paris, and tell me what you make of it'], ['Chapter: 20', 'Sentence: 129', 'Contents: “that letter was written to jack renauld—not to his father'], ['Chapter: 20', 'Sentence: 144', 'Contents: “so jack renauld says, but he cannot produce them'], ['Chapter: 20', 'Sentence: 169', 'Contents: remember the fragment of cheque, and the fact that the name bella duveen was faintly familiar to stonor, and i think we may take it for granted that bella duveen is the full name of jack’s unknown correspondent, and that it was she who came to the villa geneviève that night'], ['Chapter: 20', 'Sentence: 170', 'Contents: whether she intended to see jack, or whether she meant all along to appeal to his father we cannot be certain, but i think we may assume that this is what occurred'], ['Chapter: 20', 'Sentence: 171', 'Contents: she produced her claim upon jack, probably showed letters that he had written her, and the older man tried to buy her off by writing a cheque'], ['Chapter: 20', 'Sentence: 231', 'Contents: since we are satisfied that was georges conneau who dictated the lie to her, and as georges conneau is not jack renauld, follows that the third case is put out of court'], ['Chapter: 21', 'Sentence: 21', 'Contents: jack renauld falls in love with the beautiful girl he sees almost daily, and wishes to marry her'], ['Chapter: 21', 'Sentence: 24', 'Contents: jack renauld knows nothing of his father’s past, but madame renauld knows everything'], ['Chapter: 21', 'Sentence: 41', 'Contents: jack renauld and the chauffeur (who had been with his master two years) must be got out of the way'], ['Chapter: 21', 'Sentence: 43', 'Contents: masters was sent off, a telegram despatched to jack, buenos ayres being selected to give credence to the story that renauld had decided upon'], ['Chapter: 21', 'Sentence: 93', 'Contents: it might just as easily have been a grey hair—and then, by no conceivable effort could giraud have persuaded himself it came from the head of jack renauld'], ['Chapter: 21', 'Sentence: 140', 'Contents: some one who was near the villa just before twelve o’clock that night, some one who would benefit by his death—the description fits jack renauld only too well'], ['Chapter: 21', 'Sentence: 147', 'Contents: “certainly, and, since they were duplicates, it stands to reason that jack renauld was the owner'], ['Chapter: 21', 'Sentence: 151', 'Contents: like father, like son—jack renauld, when all is said or done, is the son of georges conneau'], ['Chapter: 21', 'Sentence: 168', 'Contents: jack renauld was a young man with plenty of money, and twenty years of age'], ['Chapter: 21', 'Sentence: 172', 'Contents: and he brought out the photograph i had seen him take from jack renauld’s drawer'], ['Chapter: 22', 'Sentence: 18', 'Contents: did he suspect her of having seen jack renauld commit the crime'], ['Chapter: 22', 'Sentence: 33', 'Contents: what kept her there—the hope of seeing jack renauld'], ['Chapter: 22', 'Sentence: 36', 'Contents: but to know that she must have seen jack'], ['Chapter: 22', 'Sentence: 38', 'Contents: had jack renauld, returning to see marthe daubreuil, come face to face instead with bella duveen, the girl he had heartlessly thrown over'], ['Chapter: 22', 'Sentence: 40', 'Contents: if that were indeed the case, it might furnish jack with the alibi he needed'], ['Chapter: 22', 'Sentence: 159', 'Contents: “i don’t know whether you knew that jack renauld would be coming that night, or whether you just waited about on the chance of seeing him, but you did wait about'], ['Chapter: 22', 'Sentence: 169', 'Contents: you used a threat in one of your letters to jack renauld'], ['Chapter: 22', 'Sentence: 195', 'Contents: “you think that i love jack renauld'], ['Chapter: 23', 'Sentence: 93', 'Contents: me, i preoccupy myself with jack renauld'], ['Chapter: 23', 'Sentence: 94', 'Contents: jack renauld'], ['Chapter: 23', 'Sentence: 97', 'Contents: jack renauld, in prison, with the shadow of the guillotine looming over him'], ['Chapter: 23', 'Sentence: 110', 'Contents: bella or jack renauld'], ['Chapter: 23', 'Sentence: 114', 'Contents: i remembered that no word of jack renauld’s arrest had passed my lips'], ['Chapter: 23', 'Sentence: 119', 'Contents: jack renauld might, and probably would, be acquitted without any intervention on her part'], ['Chapter: 23', 'Sentence: 129', 'Contents: and, at the same time, jack renauld must be saved'], ['Chapter: 23', 'Sentence: 136', 'Contents: and with bella unsuspected, and jack renauld acquitted, all would end satisfactorily'], ['Chapter: 24', 'Sentence: 1', 'Contents:  we crossed from england by the evening boat, and the following morning saw us in saint-omer, whither jack renauld had been taken'], ['Chapter: 24', 'Sentence: 86', 'Contents: jack renauld is innocent'], ['Chapter: 24', 'Sentence: 114', 'Contents: “then you do not believe that jack renauld committed the crime'], ['Chapter: 24', 'Sentence: 118', 'Contents: i admit that there have been one or two things in this business that have staggered me completely, but none the less, in spite of his fool way of taking it, i’ll never believe that jack renauld is a murderer'], ['Chapter: 24', 'Sentence: 137', 'Contents: it’s her show, and i’ve too much respect for her judgment to shove my oar in, but i can’t get behind this attitude of jack’s'], ['Chapter: 24', 'Sentence: 142', 'Contents: i continued, choosing my words carefully, “we know that the dagger could not have been in jack renauld’s possession that evening'], ['Chapter: 24', 'Sentence: 156', 'Contents: as to the dagger, your point hardly helps jack renauld'], ['Chapter: 24', 'Sentence: 159', 'Contents: “well, i was employed in trying to find the firm jack renauld employed to convert his souvenirs'], ['Chapter: 24', 'Sentence: 180', 'Contents: i have no one to turn to, and at all costs jack must be saved'], ['Chapter: 25', 'Sentence: 1', 'Contents:  we were present the following morning at the examination of jack renauld'], ['Chapter: 25', 'Sentence: 10', 'Contents: jack did not reply at once, then he said with a hesitancy of manner which was piteous: “i—i—told you that i was in cherbourg'], ['Chapter: 25', 'Sentence: 12', 'Contents: i realized at once that jack renauld was obstinately bent on conducting his own case as he wished, to the despair of his legal representative'], ['Chapter: 25', 'Sentence: 25', 'Contents: i knew m. jack renauld well'], ['Chapter: 25', 'Sentence: 30', 'Contents: the magistrate looked at jack renauld'], ['Chapter: 25', 'Sentence: 33', 'Contents: jack shrugged his shoulders'], ['Chapter: 25', 'Sentence: 41', 'Contents: but jack renauld had no consideration for the feelings of the wretched grosíer'], ['Chapter: 25', 'Sentence: 45', 'Contents: again maître grosíer burst out, and again jack overrode him'], ['Chapter: 25', 'Sentence: 49', 'Contents: it did, in very truth, seem as though jack was rushing on his fate'], ['Chapter: 25', 'Sentence: 54', 'Contents: it would not be easy to secure the acquittal of jack renauld, by anything short of the truth'], ['Chapter: 25', 'Sentence: 67', 'Contents: jack renauld had almost overdone his part'], ['Chapter: 25', 'Sentence: 70', 'Contents: jack’s pale face flushed'], ['Chapter: 25', 'Sentence: 101', 'Contents: on the other hand, now that i saw her without the fair wig she had worn on the stage, i recognized her as the girl of the photograph in jack renauld’s room'], ['Chapter: 26', 'Sentence: 11', 'Contents: she was just desperate about jack     renauld, she’d have lain down on the ground for him to walk on, and     when he began to change, and to stop writing so often, she began     getting in a state'], ['Chapter: 26', 'Sentence: 13', 'Contents: she’d made up her mind to go to their villa at     merlinville, and try and see jack'], ['Chapter: 26', 'Sentence: 33', 'Contents: i figured it out that bella had met papa renauld and told     him about her and jack, and that he’d insulted her or something     like that'], ['Chapter: 26', 'Sentence: 39', 'Contents: you know all     that … when i saw the dead man, looking so like jack, and wearing     jack’s fancy overcoat, i knew'], ['Chapter: 26', 'Sentence: 41', 'Contents: —that jack had given bella'], ['Chapter: 26', 'Sentence: 71', 'Contents: … if i had—     “as soon as the news was in the paper that jack renauld had been     arrested, it was all up'], ['Chapter: 27', 'Sentence: 1', 'Contents:  “congratulations, m. jack,” said poirot, wringing the lad warmly by the hand'], ['Chapter: 27', 'Sentence: 13', 'Contents: “he was a well meaning ass, i suppose,” said jack'], ['Chapter: 27', 'Sentence: 29', 'Contents: “of course it’s horrible to me to think that bella killed my father,” resumed jack, “but i’d treated her shamefully'], ['Chapter: 27', 'Sentence: 41', 'Contents: “no, no, m. jack'], ['Chapter: 27', 'Sentence: 78', 'Contents: stonor, at jack’s instance, agreed to stay behind and do all that could be done for bella duveen'], ['Chapter: 27', 'Sentence: 79', 'Contents: poirot, jack renauld and i set off in the renauld car'], ['Chapter: 27', 'Sentence: 81', 'Contents: as we approached the doorway of the villa marguerite, jack renauld shot a questioning glance at poirot'], ['Chapter: 27', 'Sentence: 85', 'Contents: jack renauld did not wait for more'], ['Chapter: 27', 'Sentence: 104', 'Contents: we will hope that mademoiselle bella will be dealt with leniently, and after all jack renauld cannot marry both the girls'], ['Chapter: 27', 'Sentence: 119', 'Contents: “here are jack and marthe daubreuil,” i exclaimed, looking out of the window'], ['Chapter: 27', 'Sentence: 124', 'Contents: “i know, i know,” said jack renauld'], ['Chapter: 27', 'Sentence: 139', 'Contents: “mother,” cried jack, starting forward'], ['Chapter: 27', 'Sentence: 155', 'Contents: jack renauld, worn out with all he had already gone through, swayed and nearly fell'], ['Chapter: 27', 'Sentence: 162', 'Contents: my poor jack'], ['Chapter: 27', 'Sentence: 222', 'Contents: “i should like to assure myself that all goes well with jack renauld'], ['Chapter: 27', 'Sentence: 230', 'Contents: “i figure to myself that that is the room where we shall find jack renauld'], ['Chapter: 27', 'Sentence: 232', 'Contents: she explained that jack was much the same, but perhaps we would like to see for ourselves'], ['Chapter: 27', 'Sentence: 236', 'Contents: jack renauld was sleeping an uneasy fitful sleep, his head turning from side to side, and his face still unduly flushed'], ['Chapter: 28', 'Sentence: 43', 'Contents: “remember jack renauld’s story'], ['Chapter: 28', 'Sentence: 59', 'Contents: remember how easily you overheard marthe’s conversation with jack renauld from that spot'], ['Chapter: 28', 'Sentence: 64', 'Contents: m. renauld was a millionaire several times over, and at his death (or so she and jack believed) half that vast fortune would pass to his son'], ['Chapter: 28', 'Sentence: 70', 'Contents: at present m. renauld stands inexorably in the way of her marriage with jack'], ['Chapter: 28', 'Sentence: 72', 'Contents: in fact, i doubt if she has ever cared a straw for jack renauld'], ['Chapter: 28', 'Sentence: 76', 'Contents: but with m. renauld dead, and jack the heir to half his millions, the marriage can take place at once, and at a stroke she will attain wealth—not the beggarly thousands that have been extracted from him so far'], ['Chapter: 28', 'Sentence: 81', 'Contents: jack renauld had  three  souvenirs made'], ['Chapter: 28', 'Sentence: 86', 'Contents: “(4) marthe daubreuil was the only person, besides jack renauld, likely to have the third dagger in her possession'], ['Chapter: 28', 'Sentence: 91', 'Contents: it did not seem very likely that bella duveen would be wandering about carrying a souvenir paper-knife in her hand, but of course she might have had some idea all the time of revenging herself on jack renauld'], ['Chapter: 28', 'Sentence: 100', 'Contents: but if, by any chance, it was  not  her sister’s, but the one given by jack to marthe daubreuil—why then, bella duveen’s dagger would be still intact'], ['Chapter: 28', 'Sentence: 155', 'Contents: not on jack renauld’s behalf, for she did not know then that he had been in merlinville the previous evening'], ['Chapter: 28', 'Sentence: 156', 'Contents: “by the way,” i exclaimed, “how is jack renauld'], ['Chapter: 28', 'Sentence: 165', 'Contents: “has jack renauld been—told'], ['Chapter: 28', 'Sentence: 173', 'Contents: she set herself to fascinate jack, and she succeeded, but remember his curious reluctance to break with the other girl'], ['Chapter: 28', 'Sentence: 181', 'Contents: when at length the doctor pronounced jack renauld strong enough to hear the truth, it was poirot who broke it to him'], ['Chapter: 28', 'Sentence: 183', 'Contents: yet jack rallied better than i could have supposed possible'], ['Chapter: 28', 'Sentence: 187', 'Contents: poirot had acquainted mrs. renauld with the fact that he knew her secret, and had represented to her that jack should not be left in ignorance of his father’s past'], ['Chapter: 28', 'Sentence: 192', 'Contents: “reassure yourself, m. jack'], ['Chapter: 28', 'Sentence: 204', 'Contents: a few days later jack renauld came to see us with a resolute expression on his face'], ['Chapter: 28', 'Sentence: 208', 'Contents: “you go alone, m. jack'], ['Chapter: 28', 'Sentence: 212', 'Contents: jack flushed'], ['Chapter: 28', 'Sentence: 220', 'Contents: but jack’s face had hardened'], ['Chapter: 28', 'Sentence: 237', 'Contents: jack looked irresolute']]\n",
            "[['Chapter: 7', 'Sentence: 146', 'Contents: “mademoiselle daubreuil,” said m. hautet, sweeping off his hat, “we regret infinitely to disturb you, but the exigencies of the law—you comprehend'], ['Chapter: 7', 'Sentence: 177', 'Contents: “marthe, dear'], ['Chapter: 7', 'Sentence: 185', 'Contents: “i should prefer not to speak before mademoiselle daubreuil'], ['Chapter: 7', 'Sentence: 242', 'Contents: it was marthe daubreuil'], ['Chapter: 7', 'Sentence: 250', 'Contents: “françoise told our amélie,” explained marthe, with a blush'], ['Chapter: 7', 'Sentence: 294', 'Contents: “ah,  mon ami , do not set your heart on marthe daubreuil'], ['Chapter: 11', 'Sentence: 104', 'Contents: the subject of the quarrel was mademoiselle marthe daubreuil'], ['Chapter: 11', 'Sentence: 110', 'Contents: “i love mademoiselle daubreuil, and i wish to marry her'], ['Chapter: 11', 'Sentence: 118', 'Contents: marthe is as good as she is beautiful'], ['Chapter: 11', 'Sentence: 120', 'Contents: “i have nothing against mademoiselle daubreuil in any way'], ['Chapter: 11', 'Sentence: 126', 'Contents: “when you informed your father of your intentions towards mademoiselle daubreuil,” he resumed, “he was surprised'], ['Chapter: 11', 'Sentence: 130', 'Contents: nettled, i demanded what he had against mademoiselle daubreuil'], ['Chapter: 11', 'Sentence: 132', 'Contents: i answered that i was marrying marthe, and not her antecedents, but he shouted me down with a peremptory refusal to discuss the matter in any way'], ['Chapter: 11', 'Sentence: 144', 'Contents: i wrote to marthe, telling her what had happened, and her reply soothed me still further'], ['Chapter: 13', 'Sentence: 20', 'Contents: “yesterday it was mademoiselle daubreuil, today it is mademoiselle—cinderella'], ['Chapter: 13', 'Sentence: 24', 'Contents: mademoiselle daubreuil is a very beautiful girl, and i do admire her immensely—i don’t mind admitting it'], ['Chapter: 13', 'Sentence: 95', 'Contents: and thirdly, if you wish, endeavour to cut him out with mademoiselle marthe'], ['Chapter: 13', 'Sentence: 101', 'Contents: throw together a boy young renauld and a beautiful girl like mademoiselle marthe, and the result is almost inevitable'], ['Chapter: 13', 'Sentence: 109', 'Contents: that is how always think of mademoiselle daubreuil  as the girl with the anxious eyes'], ['Chapter: 13', 'Sentence: 195', 'Contents: a girl’s voice was speaking, a voice that i recognized as that of the beautiful marthe'], ['Chapter: 13', 'Sentence: 198', 'Contents: “you know it, marthe,” jack renauld replied'], ['Chapter: 15', 'Sentence: 20', 'Contents: i do not know what put the idea into my head—possibly it was the deep anxiety underlying marthe daubreuil’s tones—but i asked suddenly: “young m. renauld—he did not leave by that train, did he'], ['Chapter: 15', 'Sentence: 29', 'Contents: that, then, was the reason of marthe’s poignant anxiety'], ['Chapter: 15', 'Sentence: 35', 'Contents: one thing was certain, marthe had known all along'], ['Chapter: 17', 'Sentence: 167', 'Contents: i came to see my fiancée, mademoiselle daubreuil'], ['Chapter: 18', 'Sentence: 20', 'Contents: “with good fortune,” he remarked to me over his shoulder, “mademoiselle marthe may find herself in the garden'], ['Chapter: 18', 'Sentence: 26', 'Contents: ” i joined him at the moment that marthe daubreuil, looking slightly startled, came running up to the hedge at his call'], ['Chapter: 18', 'Sentence: 101', 'Contents: “ maman ,” whispered marthe, “i must go'], ['Chapter: 18', 'Sentence: 108', 'Contents: unwittingly, mademoiselle marthe told us the truth on another point—and incidentally gave jack renauld the lie'], ['Chapter: 18', 'Sentence: 109', 'Contents: did you notice his hesitation when i asked him if he saw marthe daubreuil on the night of the crime'], ['Chapter: 18', 'Sentence: 112', 'Contents: it was necessary for me to see mademoiselle marthe before he could put her on her guard'], ['Chapter: 18', 'Sentence: 115', 'Contents: now, hastings, what was jack renauld doing here on that eventful evening, and if he did not see mademoiselle marthe whom did he see'], ['Chapter: 20', 'Sentence: 89', 'Contents: m. renauld quarrels with his son over latter’s wish to marry marthe daubreuil'], ['Chapter: 20', 'Sentence: 94', 'Contents: quarrel with tramp in garden, witnessed by marthe daubreuil'], ['Chapter: 20', 'Sentence: 135', 'Contents: “may 23rd,” i read, “m. renauld quarrels with his son over latter’s wish to marry marthe daubreuil'], ['Chapter: 22', 'Sentence: 38', 'Contents: had jack renauld, returning to see marthe daubreuil, come face to face instead with bella duveen, the girl he had heartlessly thrown over'], ['Chapter: 22', 'Sentence: 43', 'Contents: did he fear for this former entanglement of his to come to the ears of marthe daubreuil'], ['Chapter: 24', 'Sentence: 182', 'Contents: “marthe daubreuil'], ['Chapter: 24', 'Sentence: 188', 'Contents: marthe was at the door to meet us, and led poirot in, clinging with both hands to one of his'], ['Chapter: 24', 'Sentence: 201', 'Contents: marthe frowned'], ['Chapter: 24', 'Sentence: 220', 'Contents: marthe looked at him for a minute, then, letting her head fall forward on her arms, she burst into tears'], ['Chapter: 24', 'Sentence: 228', 'Contents: marthe listened spellbound'], ['Chapter: 27', 'Sentence: 2', 'Contents: young renauld had come to us as soon as he was liberated—before starting for merlinville to rejoin marthe and his mother'], ['Chapter: 27', 'Sentence: 30', 'Contents: after i met marthe, and realized i’d made a mistake, i ought to have written and told her so honestly'], ['Chapter: 27', 'Sentence: 31', 'Contents: but i was so terrified of a row, and of its coming to marthe’s ears, and her thinking there was more in it than there ever had been, that—well, i was a coward, and went on hoping the thing would die down of itself'], ['Chapter: 27', 'Sentence: 47', 'Contents: i came from cherbourg, as i told you, in order to see marthe before going to the other end of the world'], ['Chapter: 27', 'Sentence: 83', 'Contents: “while you break it in person to mademoiselle marthe, eh?” finished poirot, with a twinkle'], ['Chapter: 27', 'Sentence: 119', 'Contents: “here are jack and marthe daubreuil,” i exclaimed, looking out of the window'], ['Chapter: 27', 'Sentence: 128', 'Contents: “but marthe and i'], ['Chapter: 27', 'Sentence: 157', 'Contents: “he is overdone,” murmured poirot to marthe'], ['Chapter: 27', 'Sentence: 173', 'Contents: finally, having done all we could, we left him in the charge of marthe and her mother, and set out for the town'], ['Chapter: 27', 'Sentence: 228', 'Contents: thrown sharply on the blind was the profile of marthe daubreuil'], ['Chapter: 27', 'Sentence: 234', 'Contents: marthe daubreuil was embroidering by a table with a lamp on it'], ['Chapter: 27', 'Sentence: 261', 'Contents: poirot looked over his shoulder once at the lighted window and the profile of marthe as she bent over her work'], ['Chapter: 27', 'Sentence: 332', 'Contents: puzzled and uncomprehending, i knelt down, and lifting the fold of cloth, looked into the dead beautiful face of marthe daubreuil'], ['Chapter: 28', 'Sentence: 36', 'Contents: “do you know, i actually dreamt that we found marthe daubreuil’s body in mrs. renauld’s room, and that you declared her to have murdered mr. renauld'], ['Chapter: 28', 'Sentence: 57', 'Contents: from marthe daubreuil’s own lips we have the admission that she overheard m. renauld’s quarrel with the tramp'], ['Chapter: 28', 'Sentence: 59', 'Contents: remember how easily you overheard marthe’s conversation with jack renauld from that spot'], ['Chapter: 28', 'Sentence: 60', 'Contents: “but what possible motive could marthe have for murdering mr. renauld'], ['Chapter: 28', 'Sentence: 65', 'Contents: let us reconstruct the scene from the standpoint of marthe daubreuil'], ['Chapter: 28', 'Sentence: 66', 'Contents: “marthe daubreuil overhears what passes between renauld and his wife'], ['Chapter: 28', 'Sentence: 71', 'Contents: if the latter defies his father, he will be a pauper—which is not at all to the mind of mademoiselle marthe'], ['Chapter: 28', 'Sentence: 80', 'Contents: and here comes in the second point which led me infallibly to marthe daubreuil—the dagger'], ['Chapter: 28', 'Sentence: 82', 'Contents: one he gave to his mother, one to bella duveen; was it not highly probable that he had given the third one to marthe daubreuil'], ['Chapter: 28', 'Sentence: 83', 'Contents: “so then, to sum up, there were four points of note against marthe daubreuil: “(1) marthe daubreuil could have overheard m. renauld’s plans'], ['Chapter: 28', 'Sentence: 84', 'Contents: “(2) marthe daubreuil had a direct interest in causing m. renauld’s death'], ['Chapter: 28', 'Sentence: 85', 'Contents: “(3) marthe daubreuil was the daughter of the notorious madame beroldy who in my opinion was morally and virtually the murderess of her husband, although it may have been georges conneau’s hand which struck the actual blow'], ['Chapter: 28', 'Sentence: 86', 'Contents: “(4) marthe daubreuil was the only person, besides jack renauld, likely to have the third dagger in her possession'], ['Chapter: 28', 'Sentence: 96', 'Contents: if it was  not  bella duveen, the only other person who could have committed the crime was marthe daubreuil'], ['Chapter: 28', 'Sentence: 100', 'Contents: but if, by any chance, it was  not  her sister’s, but the one given by jack to marthe daubreuil—why then, bella duveen’s dagger would be still intact'], ['Chapter: 28', 'Sentence: 103', 'Contents: “in the meantime i had taken steps to force mademoiselle marthe into the open'], ['Chapter: 28', 'Sentence: 108', 'Contents: marthe daubreuil made a last bold bid for the renauld millions—and failed'], ['Chapter: 28', 'Sentence: 123', 'Contents: she had brains, that beautiful mademoiselle marthe'], ['Chapter: 28', 'Sentence: 128', 'Contents: on the floor by marthe daubreuil’s body, i found a pad and a little bottle of chloroform and a hypodermic syringe containing a fatal dose of morphine'], ['Chapter: 28', 'Sentence: 138', 'Contents: “however, hastings, things did not go quite as mademoiselle marthe had planned'], ['Chapter: 28', 'Sentence: 142', 'Contents: there is a last chance for marthe daubreuil'], ['Chapter: 28', 'Sentence: 146', 'Contents: “when did you first begin to suspect marthe daubreuil, poirot'], ['Chapter: 28', 'Sentence: 152', 'Contents: that is how i have thought of marthe daubreuil from the beginning'], ['Chapter: 28', 'Sentence: 170', 'Contents: so far we have looked upon bella duveen as a siren, and marthe daubreuil as the girl he really loved'], ['Chapter: 28', 'Sentence: 172', 'Contents: marthe daubreuil was very beautiful']]\n"
          ]
        },
        {
          "name": "stdout",
          "output_type": "stream",
          "text": [
            "['she', 'was', 'afraid', 'said', 'm', 'hautet']\n",
            "['turned', 'to', 'her', 'dear', 'but', 'the']\n",
            "['to', 'speak', 'before', 'as', 'my', 'daughter']\n",
            "['us', 'it', 'was', 'i', 'beg', 'your']\n",
            "['our', 'amélie', 'explained', 'with', 'a', 'blush']\n",
            "['your', 'heart', 'on', 'she', 'is', 'not']\n",
            "['the', 'quarrel', 'was', 'renauld', 'sprang', 'round']\n",
            "['admitted', 'i', 'love', 'and', 'i', 'wish']\n",
            "['boy', 'you', 'too', 'is', 'as', 'good']\n",
            "['have', 'nothing', 'against', 'in', 'any', 'way']\n",
            "['your', 'intentions', 'towards', 'he', 'resumed', 'he']\n",
            "['he', 'had', 'against', 'to', 'that', 'he']\n",
            "['i', 'was', 'marrying', 'and', 'not', 'her']\n",
            "['i', 'wrote', 'to', 'telling', 'her', 'what']\n",
            "['yesterday', 'it', 'was', 'today', 'it', 'is']\n",
            "['to', 'rag', 'me', 'is', 'a', 'very']\n",
            "['him', 'out', 'with', 'but', 'i', 'fear']\n",
            "['beautiful', 'girl', 'like', 'and', 'the', 'result']\n",
            "['always', 'think', 'of', 'as', 'the', 'girl']\n",
            "['of', 'the', 'beautiful', 'chéri', 'she', 'was']\n",
            "['you', 'know', 'it', 'jack', 'renauld', 'replied']\n",
            "['deep', 'anxiety', 'underlying', 's', 'tones—but', 'i']\n",
            "['the', 'reason', 'of', 's', 'poignant', 'anxiety']\n",
            "['thing', 'was', 'certain', 'had', 'known', 'all']\n",
            "['see', 'my', 'fiancée', 'i', 'was', 'on']\n",
            "['over', 'his', 'shoulder', 'may', 'find', 'herself']\n",
            "['the', 'moment', 'that', 'looking', 'slightly', 'startled']\n",
            "['house', 'maman', 'whispered', 'i', 'must', 'go']\n",
            "['absolute', 'truth', 'unwittingly', 'told', 'us', 'the']\n",
            "['if', 'he', 'saw', 'on', 'the', 'night']\n",
            "['me', 'to', 'see', 'before', 'he', 'could']\n",
            "['did', 'not', 'see', 'whom', 'did', 'he']\n",
            "['wish', 'to', 'marry', 'son', 'leaves', 'for']\n",
            "['garden', 'witnessed', 'by', 'letter', 'written', 'to']\n",
            "['wish', 'to', 'marry', 'son', 'leaves', 'for']\n",
            "['returning', 'to', 'see', 'come', 'face', 'to']\n",
            "['the', 'ears', 'of', 'i', 'shook', 'my']\n",
            "['to', 'help', 'us', 'i', 'handed', 'it']\n",
            "['the', 'villa', 'marguerite', 'was', 'at', 'the']\n",
            "['poirot', 'watching', 'her', 'frowned', 'screening', 'some']\n",
            "['s', 'real', 'name', 'looked', 'at', 'him']\n",
            "['departure', 'for', 'england', 'listened', 'spellbound', 'when']\n",
            "['merlinville', 'to', 'rejoin', 'and', 'his', 'mother']\n",
            "['after', 'i', 'met', 'and', 'realized', 'i']\n",
            "['its', 'coming', 'to', 's', 'ears', 'and']\n",
            "['order', 'to', 'see', 'before', 'going', 'to']\n",
            "['in', 'person', 'to', 'eh', 'finished', 'poirot']\n",
            "['are', 'jack', 'and', 'i', 'exclaimed', 'looking']\n",
            "['better', 'not', 'but', 'and', 'i', 'in']\n",
            "['murmured', 'poirot', 'to', 'where', 'can', 'we']\n",
            "['the', 'charge', 'of', 'and', 'her', 'mother']\n",
            "['the', 'profile', 'of', 'ah', 'said', 'poirot']\n",
            "['into', 'the', 'bedroom', 'was', 'embroidering', 'by']\n",
            "['the', 'profile', 'of', 'as', 'she', 'bent']\n",
            "['beautiful', 'face', 'of', '', 'i', 'have']\n",
            "['that', 'we', 'found', 's', 'body', 'in']\n",
            "['them', 'yes', 'from', 's', 'own', 'lips']\n",
            "['easily', 'you', 'overheard', 's', 'conversation', 'with']\n",
            "['possible', 'motive', 'could', 'have', 'for', 'murdering']\n",
            "['the', 'standpoint', 'of', 'marthe', 'daubreuil', 'overhears']\n",
            "['of', 'marthe', 'daubreuil', 'overhears', 'what', 'passes']\n",
            "['the', 'mind', 'of', 'in', 'fact', 'i']\n",
            "['me', 'infallibly', 'to', 'the', 'dagger', 'jack']\n",
            "['third', 'one', 'to', 'so', 'then', 'to']\n",
            "['of', 'note', 'against', '(1)', 'marthe', 'daubreuil']\n",
            "['marthe', 'daubreuil', '(1)', 'could', 'have', 'overheard']\n",
            "['s', 'plans', '(2)', 'had', 'a', 'direct']\n",
            "['s', 'death', '(3)', 'was', 'the', 'daughter']\n",
            "['actual', 'blow', '(4)', 'was', 'the', 'only']\n",
            "['the', 'crime', 'was', 'but', 'i', 'had']\n",
            "['by', 'jack', 'to', 'why', 'then', 'bella']\n",
            "['steps', 'to', 'force', 'into', 'the', 'open']\n",
            "['as', 'i', 'thought', 'made', 'a', 'last']\n",
            "['brains', 'that', 'beautiful', 'and', 'her', 'object']\n",
            "['the', 'floor', 'by', 's', 'body', 'i']\n",
            "['go', 'quite', 'as', 'had', 'planned', 'to']\n",
            "['last', 'chance', 'for', 'the', 'idea', 'of']\n",
            "['begin', 'to', 'suspect', 'poirot', 'when', 'she']\n",
            "['have', 'thought', 'of', 'from', 'the', 'beginning']\n",
            "['a', 'siren', 'and', 'as', 'the', 'girl']\n",
            "['to', 'the', 'truth', 'was', 'very', 'beautiful']\n",
            "81\n",
            "\n",
            "\n",
            "\n",
            "### Results for  The Mysterious Affair at Styles\n",
            "Zerofiller\n",
            "re.compile('hercules?(?!a)|poirot|arthur|hastings')\n",
            "[['Chapter: 1', 'Sentence: 2', 'Contents: nevertheless, in view of the world-wide notoriety which attended it, i have been asked, both by my friend poirot and the family themselves, to write an account of the whole story'], ['Chapter: 1', 'Sentence: 32', 'Contents: “i can tell you, hastings, it’s making life jolly difficult for us'], ['Chapter: 1', 'Sentence: 64', 'Contents: as we turned in at the lodge gates, john said: “i’m afraid you’ll find it very quiet down here, hastings'], ['Chapter: 1', 'Sentence: 83', 'Contents: mr. hastings—miss howard'], ['Chapter: 1', 'Sentence: 106', 'Contents: “my wife, hastings,” said john'], ['Chapter: 1', 'Sentence: 125', 'Contents: “why, if it isn’t too delightful to see you again, mr. hastings, after all these years'], ['Chapter: 1', 'Sentence: 126', 'Contents: alfred, darling, mr. hastings—my husband'], ['Chapter: 1', 'Sentence: 134', 'Contents: he placed a wooden hand in mine and said: “this is a pleasure, mr. hastings'], ['Chapter: 1', 'Sentence: 145', 'Contents: presently mrs. inglethorp turned to give some instructions about letters to evelyn howard, and her husband addressed me in his painstaking voice: “is soldiering your regular profession, mr. hastings'], ['Chapter: 1', 'Sentence: 196', 'Contents: this is mr. hastings—miss murdoch'], ['Chapter: 1', 'Sentence: 213', 'Contents: sisters  are , you know, mr. hastings'], ['Chapter: 1', 'Sentence: 289', 'Contents: “mr. hastings, you’re honest'], ['Chapter: 1', 'Sentence: 293', 'Contents: “look after her, mr. hastings'], ['Chapter: 1', 'Sentence: 309', 'Contents: “above all, mr. hastings, watch that devil—her husband'], ['Chapter: 1', 'Sentence: 323', 'Contents: “come for a stroll, hastings'], ['Chapter: 1', 'Sentence: 341', 'Contents: “my dear hastings, i don’t mind telling you that i’m at my wits’ end for money'], ['Chapter: 2', 'Sentence: 81', 'Contents: “ mon ami  hastings!” he cried'], ['Chapter: 2', 'Sentence: 82', 'Contents: “it is indeed  mon ami  hastings'], ['Chapter: 2', 'Sentence: 83', 'Contents: “poirot'], ['Chapter: 2', 'Sentence: 87', 'Contents: this is my old friend, monsieur poirot, whom i have not seen for years'], ['Chapter: 2', 'Sentence: 88', 'Contents: “oh, we know monsieur poirot,” said cynthia gaily'], ['Chapter: 2', 'Sentence: 90', 'Contents: “yes, indeed,” said poirot seriously'], ['Chapter: 2', 'Sentence: 95', 'Contents: poirot was an extraordinary looking little man'], ['Chapter: 2', 'Sentence: 108', 'Contents: and, for the rest of the way home, i recited to them the various exploits and triumphs of hercule poirot'], ['Chapter: 3', 'Sentence: 176', 'Contents: “you remember my speaking of my friend poirot'], ['Chapter: 3', 'Sentence: 193', 'Contents: “i’m inclined to give hastings a free hand, though i should prefer to wait a bit'], ['Chapter: 3', 'Sentence: 196', 'Contents: poirot is discretion itself'], ['Chapter: 4', 'Sentence: 30', 'Contents: a window above me was cautiously opened, and poirot himself looked out'], ['Chapter: 4', 'Sentence: 39', 'Contents: poirot smiled kindly on me'], ['Chapter: 4', 'Sentence: 50', 'Contents: poirot shook his head energetically'], ['Chapter: 4', 'Sentence: 70', 'Contents: poirot shook his forefinger so fiercely at me that i quailed before it'], ['Chapter: 4', 'Sentence: 99', 'Contents: “yes,” said poirot thoughtfully, “it was only natural'], ['Chapter: 4', 'Sentence: 109', 'Contents: poirot stopped for a moment, and gazed sorrowfully over the beautiful expanse of park, still glittering with morning dew'], ['Chapter: 4', 'Sentence: 117', 'Contents: poirot seemed to follow my thoughts'], ['Chapter: 4', 'Sentence: 122', 'Contents: “poirot,” i said, “i wish you would tell me why you wanted to know if mrs. inglethorp ate well last night'], ['Chapter: 4', 'Sentence: 141', 'Contents: “this is a very dreadful business, monsieur poirot,” he said'], ['Chapter: 4', 'Sentence: 142', 'Contents: “hastings has explained to you that we are anxious for no publicity'], ['Chapter: 4', 'Sentence: 152', 'Contents: john flung the match into an adjacent flower bed, a proceeding which was too much for poirot’s feelings'], ['Chapter: 4', 'Sentence: 155', 'Contents: “that difficulty will not exist long,” pronounced poirot quietly'], ['Chapter: 4', 'Sentence: 158', 'Contents: “show monsieur poirot everything he wants to see'], ['Chapter: 4', 'Sentence: 159', 'Contents: “the rooms are locked?” asked poirot'], ['Chapter: 4', 'Sentence: 161', 'Contents: poirot nodded thoughtfully'], ['Chapter: 4', 'Sentence: 166', 'Contents: [illustration] poirot locked the door on the inside, and proceeded to a minute inspection of the room'], ['Chapter: 4', 'Sentence: 169', 'Contents: poirot, however, did not seem grateful to me for my forbearance'], ['Chapter: 4', 'Sentence: 181', 'Contents: ” cried poirot'], ['Chapter: 4', 'Sentence: 198', 'Contents: poirot delicately dipped his finger into liquid, and tasted it gingerly'], ['Chapter: 4', 'Sentence: 203', 'Contents: “ah, this is curious,” said poirot'], ['Chapter: 4', 'Sentence: 209', 'Contents: “exactly,” said poirot, in an odd voice'], ['Chapter: 4', 'Sentence: 251', 'Contents: “that is interesting,” said poirot quickly'], ['Chapter: 4', 'Sentence: 259', 'Contents: “no,” said poirot thoughtfully'], ['Chapter: 4', 'Sentence: 268', 'Contents: “the forceps, hastings'], ['Chapter: 4', 'Sentence: 277', 'Contents: “poirot'], ['Chapter: 4', 'Sentence: 292', 'Contents: “now, my friend,” said poirot briskly, “we will go'], ['Chapter: 4', 'Sentence: 294', 'Contents: we passed through alfred inglethorp’s room, and poirot delayed long enough to make a brief but fairly comprehensive examination of it'], ['Chapter: 4', 'Sentence: 298', 'Contents: “poirot,” i cried, “where are you'], ['Chapter: 4', 'Sentence: 320', 'Contents: in her attitude towards poirot, she was inclined to be suspicious, but he soon broke down her defences'], ['Chapter: 4', 'Sentence: 337', 'Contents: poirot looked at her keenly'], ['Chapter: 4', 'Sentence: 345', 'Contents: poirot waited for her indignation to subside, and then, resuming his business-like tone, he asked: “now, as to this quarrel'], ['Chapter: 4', 'Sentence: 399', 'Contents: poirot smiled'], ['Chapter: 4', 'Sentence: 421', 'Contents: poirot’s face did not betray a trace of whether he was disappointed or otherwise'], ['Chapter: 4', 'Sentence: 434', 'Contents: “when mr. hastings and mr. lawrence came in yesterday evening, they found your mistress busy writing letters'], ['Chapter: 4', 'Sentence: 441', 'Contents: poirot lifted his hand'], ['Chapter: 4', 'Sentence: 485', 'Contents: i was becoming quite excited, but poirot damped my ardour by remarking: “yet the explanation is quite simple'], ['Chapter: 4', 'Sentence: 489', 'Contents: poirot came to the point at once, with a business-like briskness'], ['Chapter: 4', 'Sentence: 497', 'Contents: “think,” urged poirot'], ['Chapter: 4', 'Sentence: 501', 'Contents: “it does not matter,” said poirot, not betraying any sign of disappointment'], ['Chapter: 4', 'Sentence: 532', 'Contents: “what makes you think there was salt in it?” asked poirot'], ['Chapter: 4', 'Sentence: 543', 'Contents: i marvelled at poirot’s calm'], ['Chapter: 4', 'Sentence: 564', 'Contents: then poirot repeated the question he had put to dorcas: “did your mistress ever have a green dress'], ['Chapter: 4', 'Sentence: 579', 'Contents: “poirot,” i cried, “i congratulate you'], ['Chapter: 4', 'Sentence: 585', 'Contents: “so you think that the cocoa—mark well what i say, hastings, the cocoa —contained strychnine'], ['Chapter: 4', 'Sentence: 588', 'Contents: “it might have been salt,” replied poirot placidly'], ['Chapter: 4', 'Sentence: 591', 'Contents: the idea crossed my mind, not for the first time, that poor old poirot was growing old'], ['Chapter: 4', 'Sentence: 593', 'Contents: poirot was surveying me with quietly twinkling eyes'], ['Chapter: 4', 'Sentence: 595', 'Contents: ” “my dear poirot,” i said coldly, “it is not for me to dictate to you'], ['Chapter: 4', 'Sentence: 597', 'Contents: “a most admirable sentiment,” remarked poirot, rising briskly to his feet'], ['Chapter: 4', 'Sentence: 610', 'Contents: a “man of method” was, in poirot’s estimation, the highest praise that could be bestowed on any individual'], ['Chapter: 5', 'Sentence: 2', 'Contents: i asked poirot, in lively curiosity'], ['Chapter: 5', 'Sentence: 7', 'Contents: poirot shrugged his shoulders'], ['Chapter: 5', 'Sentence: 13', 'Contents: i was about to expound these theories to poirot, when his own words distracted me'], ['Chapter: 5', 'Sentence: 15', 'Contents: “my dear poirot'], ['Chapter: 5', 'Sentence: 18', 'Contents: that miserable cocoa!” cried poirot flippantly'], ['Chapter: 5', 'Sentence: 21', 'Contents: poirot was sobered at once'], ['Chapter: 5', 'Sentence: 28', 'Contents: poirot made me recapitulate the scene of the night before, listening very carefully, and verifying the position of the various cups'], ['Chapter: 5', 'Sentence: 55', 'Contents: after all, though he was old, poirot had been a great man in his day'], ['Chapter: 5', 'Sentence: 57', 'Contents: “you will breakfast with us, monsieur poirot'], ['Chapter: 5', 'Sentence: 58', 'Contents: poirot acquiesced'], ['Chapter: 5', 'Sentence: 66', 'Contents: “i think, mr. cavendish,” said poirot gravely, “that you would do well not to buoy yourself up with any false hopes'], ['Chapter: 5', 'Sentence: 71', 'Contents: that is very interesting—very interesting,” murmured poirot softly'], ['Chapter: 5', 'Sentence: 77', 'Contents: poirot bent his head'], ['Chapter: 5', 'Sentence: 80', 'Contents: poirot nodded sympathetically'], ['Chapter: 5', 'Sentence: 92', 'Contents: poirot held up his hand with a faint smile'], ['Chapter: 5', 'Sentence: 101', 'Contents: “do not worry,” said poirot smoothly'], ['Chapter: 5', 'Sentence: 126', 'Contents: “have another cup of coffee, mademoiselle?” said poirot solicitously'], ['Chapter: 5', 'Sentence: 135', 'Contents: ” murmured poirot to himself, as he brought back the replenished cup'], ['Chapter: 5', 'Sentence: 149', 'Contents: john strode on ahead and i took the opportunity of whispering to poirot: “there will be an inquest then'], ['Chapter: 5', 'Sentence: 150', 'Contents: poirot nodded absently'], ['Chapter: 5', 'Sentence: 191', 'Contents: “can you give us no help in solving it, monsieur?” interposed poirot, speaking for the first time since we had entered the room'], ['Chapter: 5', 'Sentence: 200', 'Contents: “a great pity,” agreed poirot gravely'], ['Chapter: 5', 'Sentence: 202', 'Contents: poirot remained lost in thought for a few minutes'], ['Chapter: 5', 'Sentence: 216', 'Contents: poirot nodded thoughtfully'], ['Chapter: 5', 'Sentence: 220', 'Contents: “as i was about to proceed, monsieur poirot, that document is now null and void'], ['Chapter: 5', 'Sentence: 222', 'Contents: ” said poirot'], ['Chapter: 5', 'Sentence: 234', 'Contents: “suppose,” suggested poirot, “that, unknown to you, she had made a new will in favour of someone who was not, in any sense of the word, a member of the family—we will say miss howard, for instance—would you be surprised'], ['Chapter: 5', 'Sentence: 237', 'Contents: poirot seemed to have exhausted his questions'], ['Chapter: 5', 'Sentence: 241', 'Contents: poirot smiled'], ['Chapter: 5', 'Sentence: 245', 'Contents: john cavendish had turned to poirot'], ['Chapter: 5', 'Sentence: 246', 'Contents: “will you come with us, monsieur poirot'], ['Chapter: 5', 'Sentence: 256', 'Contents: it was poirot who spoke'], ['Chapter: 5', 'Sentence: 272', 'Contents: poirot turned to john'], ['Chapter: 5', 'Sentence: 275', 'Contents: poirot raised his hand'], ['Chapter: 5', 'Sentence: 285', 'Contents: poirot alone seemed perfectly at his ease, and dusted a forgotten corner of the bookcase'], ['Chapter: 5', 'Sentence: 287', 'Contents: john looked questioningly at poirot'], ['Chapter: 5', 'Sentence: 295', 'Contents: poirot stepped forward briskly'], ['Chapter: 5', 'Sentence: 312', 'Contents: “did you see anything of what was written above her signature?” asked poirot sharply'], ['Chapter: 5', 'Sentence: 324', 'Contents: “thank you, manning, that will do,” said poirot pleasantly'], ['Chapter: 5', 'Sentence: 342', 'Contents: monsieur poirot, i am sure you agree with me that the facts are very suggestive'], ['Chapter: 5', 'Sentence: 343', 'Contents: “suggestive, or not,” interrupted john, “we are most grateful to monsieur poirot for elucidating the matter'], ['Chapter: 5', 'Sentence: 346', 'Contents: poirot smiled and answered: “a scribbled over old envelope, and a freshly planted bed of begonias'], ['Chapter: 5', 'Sentence: 351', 'Contents: poirot looked inquiringly at me'], ['Chapter: 5', 'Sentence: 354', 'Contents: there is a woman with a head and a heart too, hastings'], ['Chapter: 5', 'Sentence: 374', 'Contents: “look after her, hastings, will you'], ['Chapter: 5', 'Sentence: 376', 'Contents: oh, here’s monsieur poirot'], ['Chapter: 5', 'Sentence: 378', 'Contents: miss howard shook hands with poirot, but glanced suspiciously over her shoulder at john'], ['Chapter: 5', 'Sentence: 423', 'Contents: as she left the room, poirot came over from the window where he had been standing, and sat down facing miss howard'], ['Chapter: 5', 'Sentence: 430', 'Contents: “we are at one then,” said poirot, “for i, too, want to hang the criminal'], ['Chapter: 5', 'Sentence: 439', 'Contents: “believe me, miss howard,” said poirot very earnestly, “if mr. inglethorp is the man, he shall not escape me'], ['Chapter: 5', 'Sentence: 466', 'Contents: poirot nodded sympathetically'], ['Chapter: 5', 'Sentence: 477', 'Contents: “you’ve got the keys still, haven’t you, poirot'], ['Chapter: 5', 'Sentence: 479', 'Contents: taking the keys from poirot, john unlocked it, and we all passed in'], ['Chapter: 5', 'Sentence: 482', 'Contents: poirot drew out the small bunch of keys'], ['Chapter: 5', 'Sentence: 490', 'Contents: ” cried poirot, dumbfounded'], ['Chapter: 5', 'Sentence: 497', 'Contents: poirot laid down the case again'], ['Chapter: 5', 'Sentence: 503', 'Contents: poirot answered them categorically—almost mechanically'], ['Chapter: 5', 'Sentence: 513', 'Contents: poirot had walked over to the mantelpiece'], ['Chapter: 5', 'Sentence: 522', 'Contents: “ah!” cried poirot, with a gesture of anger'], ['Chapter: 5', 'Sentence: 538', 'Contents: “what has happened to your extraordinary little friend, mr. hastings'], ['Chapter: 5', 'Sentence: 541', 'Contents: i really did not know how much poirot would wish me to disclose'], ['Chapter: 5', 'Sentence: 571', 'Contents: i could hear poirot shouting and expounding'], ['Chapter: 5', 'Sentence: 576', 'Contents: the sight of me calmed poirot almost immediately'], ['Chapter: 5', 'Sentence: 581', 'Contents: “you think so, hastings'], ['Chapter: 5', 'Sentence: 594', 'Contents: cynthia murdoch was just coming in, and poirot stood aside to let her pass'], ['Chapter: 5', 'Sentence: 602', 'Contents: poirot produced the empty box which had contained powders'], ['Chapter: 5', 'Sentence: 616', 'Contents: i privately thought that poirot was rather too much given to these fantastic ideas'], ['Chapter: 5', 'Sentence: 621', 'Contents: poirot did not appear to be listening to me'], ['Chapter: 5', 'Sentence: 634', 'Contents: poirot smiled'], ['Chapter: 5', 'Sentence: 666', 'Contents: poirot looked at me curiously'], ['Chapter: 5', 'Sentence: 670', 'Contents: “on the contrary,” said poirot quietly, “there are several points in his favour'], ['Chapter: 5', 'Sentence: 684', 'Contents: poirot shrugged his shoulders'], ['Chapter: 5', 'Sentence: 689', 'Contents: “we do not agree, eh?” said poirot'], ['Chapter: 5', 'Sentence: 707', 'Contents: poirot shook his head'], ['Chapter: 5', 'Sentence: 714', 'Contents: “poirot, is that seriously your opinion'], ['Chapter: 5', 'Sentence: 724', 'Contents: a groan burst from poirot'], ['Chapter: 5', 'Sentence: 730', 'Contents: we had reached leastways cottage, and poirot ushered me upstairs to his own room'], ['Chapter: 5', 'Sentence: 734', 'Contents: poirot had placed our two chairs in front of the open window which commanded a view of the village street'], ['Chapter: 5', 'Sentence: 739', 'Contents: “look, poirot'], ['Chapter: 5', 'Sentence: 747', 'Contents: “a little minute,” cried poirot from the window'], ['Chapter: 5', 'Sentence: 751', 'Contents: “oh, mr. poirot, i’m sorry for the inconvenience, but i heard that you’d just come back from the hall'], ['Chapter: 5', 'Sentence: 758', 'Contents: poirot’s face remained quite impassive'], ['Chapter: 5', 'Sentence: 762', 'Contents: he clutched poirot by the arm, and sank his voice to a whisper: “just tell me this, mr. poirot, it isn’t—it isn’t strychnine, is it'], ['Chapter: 5', 'Sentence: 763', 'Contents: i hardly heard what poirot replied'], ['Chapter: 5', 'Sentence: 765', 'Contents: the young man departed, and as he closed the door poirot’s eyes met mine'], ['Chapter: 5', 'Sentence: 769', 'Contents: i was opening my lips, when poirot stopped me with a gesture of his hand'], ['Chapter: 5', 'Sentence: 782', 'Contents: me , hercule poirot'], ['Chapter: 5', 'Sentence: 789', 'Contents: “poirot, you’re pulling my leg'], ['Chapter: 5', 'Sentence: 797', 'Contents: “poirot, i cannot believe you are serious'], ['Chapter: 5', 'Sentence: 819', 'Contents: i endeavoured to interrupt, but poirot swept on'], ['Chapter: 5', 'Sentence: 820', 'Contents: “let me tell you this, hastings'], ['Chapter: 6', 'Sentence: 1', 'Contents:  in the interval before the inquest, poirot was unfailing in his activity'], ['Chapter: 6', 'Sentence: 32', 'Contents: on one point, poirot seemed to have a curious obsession'], ['Chapter: 6', 'Sentence: 38', 'Contents: poirot and i sat together, not being required to give evidence'], ['Chapter: 6', 'Sentence: 67', 'Contents: i heard poirot chuckle softly beside me'], ['Chapter: 6', 'Sentence: 121', 'Contents: dorcas’s evidence on this point was substantially what poirot and i had already heard, so i will not repeat it here'], ['Chapter: 6', 'Sentence: 140', 'Contents: this was news to me and glancing sideways at poirot, i fancied that it was news to him as well'], ['Chapter: 6', 'Sentence: 186', 'Contents: poirot and i had, of course already seen it'], ['Chapter: 6', 'Sentence: 278', 'Contents: poirot was fidgeting nervously'], ['Chapter: 6', 'Sentence: 284', 'Contents: the coroner, however, passed briskly to the next point, and poirot drew a deep breath of relief'], ['Chapter: 6', 'Sentence: 297', 'Contents: i looked at poirot'], ['Chapter: 6', 'Sentence: 308', 'Contents: “ah!” murmured poirot to himself'], ['Chapter: 6', 'Sentence: 322', 'Contents: at that point, poirot nudged me gently, indicating two men who were sitting together near the door'], ['Chapter: 6', 'Sentence: 324', 'Contents: i questioned poirot mutely'], ['Chapter: 7', 'Sentence: 1', 'Contents:  as we came out of the stylites arms, poirot drew me aside by a gentle pressure of the arm'], ['Chapter: 7', 'Sentence: 4', 'Contents: in a few moments, they emerged, and poirot at once stepped forward, and accosted the shorter of the two'], ['Chapter: 7', 'Sentence: 6', 'Contents: “why, if it isn’t mr. poirot!” cried the inspector'], ['Chapter: 7', 'Sentence: 8', 'Contents: “you’ve heard me speak of mr. poirot'], ['Chapter: 7', 'Sentence: 14', 'Contents: but we nailed him in antwerp—thanks to mr. poirot here'], ['Chapter: 7', 'Sentence: 16', 'Contents: “i need hardly ask what you are doing here, gentlemen,” remarked poirot'], ['Chapter: 7', 'Sentence: 20', 'Contents: but poirot answered gravely: “there i differ from you'], ['Chapter: 7', 'Sentence: 25', 'Contents: but japp was looking attentively at poirot'], ['Chapter: 7', 'Sentence: 30', 'Contents: poirot smiled'], ['Chapter: 7', 'Sentence: 32', 'Contents: summerhaye was still looking rather sceptical, but japp continued his scrutiny of poirot'], ['Chapter: 7', 'Sentence: 35', 'Contents: a lot depends on being on the spot first thing, and that’s where mr. poirot’s had the start of us'], ['Chapter: 7', 'Sentence: 41', 'Contents: “perhaps, though, you have a warrant for his arrest in your pocket now,” suggested poirot'], ['Chapter: 7', 'Sentence: 44', 'Contents: poirot looked at him thoughtfully'], ['Chapter: 7', 'Sentence: 47', 'Contents: japp was regarding poirot with comical perplexity'], ['Chapter: 7', 'Sentence: 48', 'Contents: “can’t you go a little further, mr. poirot'], ['Chapter: 7', 'Sentence: 51', 'Contents: poirot nodded gravely'], ['Chapter: 7', 'Sentence: 60', 'Contents: i could only conclude that poirot was mad'], ['Chapter: 7', 'Sentence: 62', 'Contents: “i daren’t do it, mr. poirot'], ['Chapter: 7', 'Sentence: 65', 'Contents: poirot reflected a moment'], ['Chapter: 7', 'Sentence: 71', 'Contents: that i have sworn, as my friend hastings here knows'], ['Chapter: 7', 'Sentence: 84', 'Contents: “well, my friend,” cried poirot, before i could get in a word, “what do you think'], ['Chapter: 7', 'Sentence: 91', 'Contents: “why, in a thousand ingenious ways,” cried poirot'], ['Chapter: 7', 'Sentence: 95', 'Contents: “my dear poirot, i am sure you are capable of thinking of seventy'], ['Chapter: 7', 'Sentence: 102', 'Contents: “yes, yes, too conclusive,” continued poirot, almost to himself'], ['Chapter: 7', 'Sentence: 111', 'Contents: and in a minute or two, poirot continued: “let us look at the matter like this'], ['Chapter: 7', 'Sentence: 128', 'Contents: me —hercule poirot'], ['Chapter: 7', 'Sentence: 144', 'Contents: but poirot cut me short ruthlessly'], ['Chapter: 7', 'Sentence: 159', 'Contents: “it may be so,” i said, fascinated by poirot’s eloquence'], ['Chapter: 7', 'Sentence: 161', 'Contents: “ah, why indeed?” said poirot, calming down'], ['Chapter: 7', 'Sentence: 167', 'Contents: i mused, won over to poirot’s views for the moment, although still retaining a faint conviction that the obvious deduction was the correct one'], ['Chapter: 7', 'Sentence: 168', 'Contents: “can you not guess?” asked poirot, smiling'], ['Chapter: 7', 'Sentence: 172', 'Contents: poirot spread out his hands apologetically'], ['Chapter: 7', 'Sentence: 177', 'Contents: poirot, who was watching me intently, gave a sigh'], ['Chapter: 7', 'Sentence: 197', 'Contents: poirot nodded'], ['Chapter: 7', 'Sentence: 206', 'Contents: “then there is mrs. cavendish,” continued poirot'], ['Chapter: 7', 'Sentence: 212', 'Contents: poirot nodded reflectively'], ['Chapter: 7', 'Sentence: 223', 'Contents: “yes, a good deal that was peculiar came out to-day,” continued poirot'], ['Chapter: 7', 'Sentence: 227', 'Contents: “which is a very good, or a very bad explanation,” remarked poirot'], ['Chapter: 7', 'Sentence: 232', 'Contents: “ mon ami ,” replied poirot gravely, “when you find that people are not telling you the truth—look out'], ['Chapter: 7', 'Sentence: 234', 'Contents: “oh, come now, poirot'], ['Chapter: 7', 'Sentence: 241', 'Contents: still, i had a great respect for poirot’s sagacity—except on the occasions when he was what i described to myself as “foolishly pig-headed'], ['Chapter: 7', 'Sentence: 245', 'Contents: poirot gave me a curious look, which i could not quite fathom'], ['Chapter: 7', 'Sentence: 255', 'Contents: poirot seized his hat, gave a ferocious twist to his moustache, and, carefully brushing an imaginary speck of dust from his sleeve, motioned me to precede him down the stairs; there we joined the detectives and set out for styles'], ['Chapter: 7', 'Sentence: 258', 'Contents: poirot had conferred with japp in a low tone on the way up, and it was the latter functionary who requested that the household, with the exception of the servants, should be assembled together in the drawing-room'], ['Chapter: 7', 'Sentence: 260', 'Contents: it was up to poirot to make his boast good'], ['Chapter: 7', 'Sentence: 262', 'Contents: poirot might have excellent reasons for his belief in inglethorp’s innocence, but a man of the type of summerhaye would require tangible proofs, and these i doubted if poirot could supply'], ['Chapter: 7', 'Sentence: 264', 'Contents: poirot politely set chairs for everyone'], ['Chapter: 7', 'Sentence: 272', 'Contents: the well-known glib phraseology passed rapidly through my mind in the interval before poirot opened the proceedings'], ['Chapter: 7', 'Sentence: 274', 'Contents: “ mesdames  and  messieurs ,” said poirot, bowing as though he were a celebrity about to deliver a lecture, “i have asked you to come here all together, for a certain object'], ['Chapter: 7', 'Sentence: 276', 'Contents: inglethorp was sitting a little by himself—i think, unconsciously, everyone had drawn his chair slightly away from him—and he gave a faint start as poirot pronounced his name'], ['Chapter: 7', 'Sentence: 277', 'Contents: “mr. inglethorp,” said poirot, addressing him directly, “a very dark shadow is resting on this house—the shadow of murder'], ['Chapter: 7', 'Sentence: 282', 'Contents: “i do not think, monsieur,” said poirot pointedly, “that you quite realize how terrible it may be—for you'], ['Chapter: 7', 'Sentence: 286', 'Contents: poirot went on'], ['Chapter: 7', 'Sentence: 290', 'Contents: “i mean,” said poirot deliberately, “that you are suspected of poisoning your wife'], ['Chapter: 7', 'Sentence: 295', 'Contents: “i do not think”—poirot watched him narrowly—“that you quite realize the unfavourable nature of your evidence at the inquest'], ['Chapter: 7', 'Sentence: 298', 'Contents: poirot approached and stood over him'], ['Chapter: 7', 'Sentence: 305', 'Contents: poirot nodded thoughtfully, like a man whose mind is made up'], ['Chapter: 7', 'Sentence: 314', 'Contents: poirot turned to face us'], ['Chapter: 7', 'Sentence: 318', 'Contents: i, hercule poirot, affirm that the man who entered the chemist’s shop, and purchased strychnine at six o’clock on monday last was not mr. inglethorp, for at six o’clock on that day mr. inglethorp was escorting mrs. raikes back to her home from a neighbouring farm'], ['Chapter: 8', 'Sentence: 4', 'Contents: and no mistake, mr. poirot'], ['Chapter: 8', 'Sentence: 16', 'Contents: “i will tell you why,” interrupted poirot'], ['Chapter: 8', 'Sentence: 26', 'Contents: and, if it hadn’t been for mr. poirot here, arrested you would have been, as sure as eggs is eggs'], ['Chapter: 8', 'Sentence: 32', 'Contents: mr. poirot, here, will show me the way'], ['Chapter: 8', 'Sentence: 33', 'Contents: as they all went out of the room, poirot turned and made me a sign to follow him upstairs'], ['Chapter: 8', 'Sentence: 50', 'Contents: it must have been quite twenty minutes before poirot rejoined me'], ['Chapter: 8', 'Sentence: 64', 'Contents: i made but a slight gesture”—i know poirot’s gestures—“with the left hand, and over went the table by the bed'], ['Chapter: 8', 'Sentence: 80', 'Contents: i believe you’re right about that man, poirot'], ['Chapter: 8', 'Sentence: 82', 'Contents: “he is clever,” observed poirot meditatively'], ['Chapter: 8', 'Sentence: 93', 'Contents: poirot caught me violently by the shoulders'], ['Chapter: 8', 'Sentence: 101', 'Contents: “my dear poirot,” i expostulated, “i never thought it would interest you'], ['Chapter: 8', 'Sentence: 106', 'Contents: hastings, do you not see'], ['Chapter: 8', 'Sentence: 116', 'Contents: poirot went straight to him'], ['Chapter: 8', 'Sentence: 125', 'Contents: “now, poirot,” i remarked resignedly, “perhaps you will tell me what all this is about'], ['Chapter: 8', 'Sentence: 140', 'Contents: “in clearing alfred inglethorp,” continued poirot, “i have been obliged to show my hand sooner than i intended'], ['Chapter: 8', 'Sentence: 145', 'Contents: “tell me, hastings, you yourself—have you no suspicions of anybody'], ['Chapter: 8', 'Sentence: 151', 'Contents: “come now,” urged poirot encouragingly'], ['Chapter: 8', 'Sentence: 164', 'Contents: “yes, my friend,” said poirot unexpectedly, “we can'], ['Chapter: 8', 'Sentence: 180', 'Contents: poirot shook his head energetically'], ['Chapter: 8', 'Sentence: 195', 'Contents: tcha!” cried poirot irritably'], ['Chapter: 8', 'Sentence: 208', 'Contents: poirot shook his head'], ['Chapter: 8', 'Sentence: 210', 'Contents: poirot smiled'], ['Chapter: 8', 'Sentence: 216', 'Contents: but poirot’s shake of the head was so energetic that i stopped'], ['Chapter: 8', 'Sentence: 224', 'Contents: poirot looked puzzled'], ['Chapter: 8', 'Sentence: 230', 'Contents: “by the way, hastings, there is something i want you to do for me'], ['Chapter: 8', 'Sentence: 234', 'Contents: ‘i have a message for you, from poirot'], ['Chapter: 8', 'Sentence: 247', 'Contents: we were running into tadminster now, and poirot directed the car to the “analytical chemist'], ['Chapter: 8', 'Sentence: 248', 'Contents: poirot hopped down briskly, and went inside'], ['Chapter: 8', 'Sentence: 260', 'Contents: “i know dr. bauerstein had it tested,” replied poirot quietly'], ['Chapter: 8', 'Sentence: 264', 'Contents: this proceeding of poirot’s, in respect of the cocoa, puzzled me intensely'], ['Chapter: 8', 'Sentence: 268', 'Contents: “and really it’s a great relief to think he’s going, hastings,” continued my honest friend'], ['Chapter: 8', 'Sentence: 321', 'Contents: i thought i might as well go down to the village at once, and look up poirot; but i met him half-way, coming up to the house, and at once gave him dorcas’s message'], ['Chapter: 8', 'Sentence: 327', 'Contents: poirot bundled everything out on the floor with scant ceremony'], ['Chapter: 8', 'Sentence: 328', 'Contents: there were one or two green fabrics of varying shades; but poirot shook his head over them all'], ['Chapter: 8', 'Sentence: 335', 'Contents: ” said poirot'], ['Chapter: 8', 'Sentence: 342', 'Contents: poirot wished her good morning with gallic politeness, and went on: “we have been looking through that chest, dorcas'], ['Chapter: 8', 'Sentence: 357', 'Contents: “these evenings must have been great fun,” said poirot genially'], ['Chapter: 8', 'Sentence: 367', 'Contents: “so dorcas knows nothing about that black beard,” said poirot thoughtfully, as we walked out into the hall again'], ['Chapter: 8', 'Sentence: 370', 'Contents: poirot nodded'], ['Chapter: 8', 'Sentence: 376', 'Contents: hastings, this affair is very deep'], ['Chapter: 8', 'Sentence: 378', 'Contents: “someone with a good deal of intelligence,” remarked poirot dryly'], ['Chapter: 8', 'Sentence: 386', 'Contents: there had been times when i hardly thought that poirot appreciated me at my true worth'], ['Chapter: 8', 'Sentence: 388', 'Contents: this was naturally gratifying, but poirot’s next words were not so welcome'], ['Chapter: 8', 'Sentence: 393', 'Contents: poirot hurried to explain himself'], ['Chapter: 8', 'Sentence: 401', 'Contents: “here comes miss howard,” said poirot suddenly'], ['Chapter: 8', 'Sentence: 405', 'Contents: with a nod that was barely civil, miss howard assented to poirot’s request for a few minutes’ conversation'], ['Chapter: 8', 'Sentence: 406', 'Contents: we went into the little morning-room, and poirot closed the door'], ['Chapter: 8', 'Sentence: 407', 'Contents: “well, monsieur poirot,” said miss howard impatiently, “what is it'], ['Chapter: 8', 'Sentence: 415', 'Contents: poirot studied her seriously'], ['Chapter: 8', 'Sentence: 426', 'Contents: “that is arsenic—not strychnine,” said poirot mildly'], ['Chapter: 8', 'Sentence: 431', 'Contents: if  you are convinced he did it,” said poirot quietly'], ['Chapter: 8', 'Sentence: 438', 'Contents: “exactly,” said poirot'], ['Chapter: 8', 'Sentence: 449', 'Contents: “no,” said poirot curtly'], ['Chapter: 8', 'Sentence: 467', 'Contents: “i am right, am i not?” asked poirot'], ['Chapter: 8', 'Sentence: 471', 'Contents: poirot shook his head gravely'], ['Chapter: 8', 'Sentence: 475', 'Contents: poirot nodded, as if satisfied'], ['Chapter: 8', 'Sentence: 492', 'Contents: “if we are wrong, well and good,” said poirot'], ['Chapter: 8', 'Sentence: 502', 'Contents: “miss howard,” said poirot gravely, “this is unworthy of you'], ['Chapter: 8', 'Sentence: 510', 'Contents: “there,” said poirot, looking after her, “goes a very valuable ally'], ['Chapter: 8', 'Sentence: 511', 'Contents: that woman, hastings, has got brains as well as a heart'], ['Chapter: 8', 'Sentence: 513', 'Contents: “instinct is a marvellous thing,” mused poirot'], ['Chapter: 8', 'Sentence: 521', 'Contents: poirot studied me attentively for a moment or two'], ['Chapter: 8', 'Sentence: 532', 'Contents: poirot looked at me very earnestly, and again shook his head'], ['Chapter: 8', 'Sentence: 535', 'Contents: “the two often go together,” said poirot enigmatically'], ['Chapter: 8', 'Sentence: 537', 'Contents: but i decided that if i made any interesting and important discoveries—as no doubt i should—i would keep them to myself, and surprise poirot with the ultimate result'], ['Chapter: 9', 'Sentence: 1', 'Contents:  i had had no opportunity as yet of passing on poirot’s message to lawrence'], ['Chapter: 9', 'Sentence: 4', 'Contents: otherwise, poirot himself might relieve me of it'], ['Chapter: 9', 'Sentence: 10', 'Contents: the truth is, i’ve got a message for you—from poirot'], ['Chapter: 9', 'Sentence: 32', 'Contents: you’re not a connoisseur, are you, hastings'], ['Chapter: 9', 'Sentence: 36', 'Contents: “well, what am i to tell poirot'], ['Chapter: 9', 'Sentence: 50', 'Contents: poirot had been asked by john to remain to lunch, and was already seated at the table'], ['Chapter: 9', 'Sentence: 53', 'Contents: but after the cheese and biscuits had been handed round, and dorcas had left the room, poirot suddenly leant forward to mrs. cavendish'], ['Chapter: 9', 'Sentence: 54', 'Contents: “pardon me, madame, for recalling unpleasant memories, but i have a little idea”—poirot’s “little ideas” were becoming a perfect byword—“and would like to ask one or two questions'], ['Chapter: 9', 'Sentence: 64', 'Contents: “i mean,” explained poirot, “you are sure it was bolted, and not merely locked'], ['Chapter: 9', 'Sentence: 78', 'Contents: and poirot looked crestfallen'], ['Chapter: 9', 'Sentence: 80', 'Contents: after lunch poirot begged me to accompany him home'], ['Chapter: 9', 'Sentence: 95', 'Contents: i had expected poirot to be disappointed; but, to my surprise, he replied that that was as he had thought, and that he was very glad'], ['Chapter: 9', 'Sentence: 97', 'Contents: poirot switched off on another tack'], ['Chapter: 9', 'Sentence: 127', 'Contents: poirot shrugged his shoulders'], ['Chapter: 9', 'Sentence: 140', 'Contents: i even forgave poirot for his absurd secrecy'], ['Chapter: 9', 'Sentence: 196', 'Contents: “hullo, hastings'], ['Chapter: 9', 'Sentence: 222', 'Contents: john lowered his voice: “have you ever thought, hastings—it’s a nightmare to me—who did it'], ['Chapter: 9', 'Sentence: 231', 'Contents: poirot’s mysterious doings, his hints—they all fitted in'], ['Chapter: 9', 'Sentence: 244', 'Contents: “that i don’t see,” i confessed, “but i’ll tell you this: poirot thinks so'], ['Chapter: 9', 'Sentence: 245', 'Contents: “poirot'], ['Chapter: 9', 'Sentence: 248', 'Contents: i told him of poirot’s intense excitement on hearing that dr. bauerstein had been at styles on the fatal night, and added: “he said twice: ‘that alters everything'], ['Chapter: 9', 'Sentence: 262', 'Contents: and i then told him of the cocoa sample which poirot had taken to be analysed'], ['Chapter: 9', 'Sentence: 271', 'Contents: but no one would dream of suspecting bauerstein, or think of taking another sample—except poirot,” i added, with belated recognition'], ['Chapter: 9', 'Sentence: 296', 'Contents: then i remembered that enigmatical conversation between poirot and evelyn howard'], ['Chapter: 9', 'Sentence: 325', 'Contents: cynthia was back from the hospital, and i placed my chair beside her, and told her of poirot’s wish to visit the dispensary'], ['Chapter: 9', 'Sentence: 336', 'Contents: we were silent for a minute or two, and then, glancing in the direction of mary cavendish, and dropping her voice, cynthia said: “mr. hastings'], ['Chapter: 9', 'Sentence: 360', 'Contents: “mr. hastings—you are always so kind, and you know such a lot'], ['Chapter: 9', 'Sentence: 422', 'Contents: i remembered how poirot had relied on my diplomacy'], ['Chapter: 9', 'Sentence: 440', 'Contents: i waited to hear no more, but tore up the village to find poirot'], ['Chapter: 10', 'Sentence: 1', 'Contents:  to my extreme annoyance, poirot was not in, and the old belgian who answered my knock informed me that he believed he had gone to london'], ['Chapter: 10', 'Sentence: 3', 'Contents: what on earth could poirot be doing in london'], ['Chapter: 10', 'Sentence: 6', 'Contents: with poirot away, i was uncertain how to act'], ['Chapter: 10', 'Sentence: 19', 'Contents: if only poirot had been accessible, i could have asked his advice'], ['Chapter: 10', 'Sentence: 22', 'Contents: i would never have dreamt of suspecting the doctor, had not poirot put it into my head'], ['Chapter: 10', 'Sentence: 40', 'Contents: after breakfast, i decided to go down to the village, and see if poirot had returned yet; but, before i could start, a well-known face blocked one of the windows, and the well-known voice said: “ bonjour, mon ami'], ['Chapter: 10', 'Sentence: 41', 'Contents: ” “poirot,” i exclaimed, with relief, and seizing him by both hands, i dragged him into the room'], ['Chapter: 10', 'Sentence: 45', 'Contents: “my friend,” replied poirot, “i do not know what you are talking about'], ['Chapter: 10', 'Sentence: 55', 'Contents: poirot shrugged his shoulders'], ['Chapter: 10', 'Sentence: 59', 'Contents: “nothing at all, of course,” replied poirot, smiling'], ['Chapter: 10', 'Sentence: 62', 'Contents: “what?” cried poirot, in apparently lively astonishment'], ['Chapter: 10', 'Sentence: 76', 'Contents: “not unless our friend japp has taken leave of his senses,” replied poirot placidly'], ['Chapter: 10', 'Sentence: 78', 'Contents: poirot gave me one look, which conveyed a wondering pity, and his full sense of the utter absurdity of such an idea'], ['Chapter: 10', 'Sentence: 80', 'Contents: poirot nodded'], ['Chapter: 10', 'Sentence: 85', 'Contents: “he is, of course, a german by birth,” said poirot thoughtfully, “though he has practised so long in this country that nobody thinks of him as anything but an englishman'], ['Chapter: 10', 'Sentence: 94', 'Contents: but i could not look at it in poirot’s philosophical way'], ['Chapter: 10', 'Sentence: 98', 'Contents: i should fancy he had found her very useful,” remarked poirot'], ['Chapter: 10', 'Sentence: 102', 'Contents: “that, of course, i cannot say, but—shall i tell you my own private opinion, hastings'], ['Chapter: 10', 'Sentence: 116', 'Contents: this she handed to poirot, murmuring as she did so the cryptic words: “on top of the wardrobe'], ['Chapter: 10', 'Sentence: 118', 'Contents: poirot unfolded the sheet of paper eagerly, and uttered an exclamation of satisfaction'], ['Chapter: 10', 'Sentence: 120', 'Contents: “come here, hastings'], ['Chapter: 10', 'Sentence: 123', 'Contents: but it was the label that was attracting poirot’s attention'], ['Chapter: 10', 'Sentence: 129', 'Contents: “it certainly isn’t a j.” “good,” replied poirot, folding up the paper again'], ['Chapter: 10', 'Sentence: 139', 'Contents: “she meant,” replied poirot promptly, “that she found it on top of a wardrobe'], ['Chapter: 10', 'Sentence: 145', 'Contents: “poirot,” i asked earnestly, “have you made up your mind about this crime'], ['Chapter: 10', 'Sentence: 157', 'Contents: with a long drawn exclamation of ecstasy, poirot led the way back to the morning-room'], ['Chapter: 10', 'Sentence: 175', 'Contents: “is he quite mad, mr. hastings'], ['Chapter: 10', 'Sentence: 183', 'Contents: “you are an excellent advocate, i have no doubt, mr. hastings, but in this case your talents are quite thrown away'], ['Chapter: 10', 'Sentence: 186', 'Contents: “mr. hastings,” she said, “do you think i and my husband are happy together'], ['Chapter: 10', 'Sentence: 266', 'Contents: would you mind moving—thank you, mr. hastings'], ['Chapter: 10', 'Sentence: 270', 'Contents: poirot did not make his appearance the following morning, and there was no sign of the scotland yard men'], ['Chapter: 10', 'Sentence: 276', 'Contents: just before tea, i strolled down to tell poirot of the new disappointment, but found, to my annoyance, that he was once more out'], ['Chapter: 10', 'Sentence: 285', 'Contents: but, on the following day, no sign of poirot'], ['Chapter: 10', 'Sentence: 299', 'Contents: i had almost forgotten that enigmatical message of poirot’s, but now my curiosity was aroused afresh'], ['Chapter: 10', 'Sentence: 300', 'Contents: lawrence would say no more, so i decided that i would descend from my high horse, and once more seek out poirot at leastways cottage'], ['Chapter: 10', 'Sentence: 302', 'Contents: monsieur poirot was within'], ['Chapter: 10', 'Sentence: 305', 'Contents: poirot was sitting by the table, his head buried in his hands'], ['Chapter: 10', 'Sentence: 314', 'Contents: but, to my great surprise, poirot nodded gravely'], ['Chapter: 10', 'Sentence: 317', 'Contents: “you are not serious, poirot'], ['Chapter: 10', 'Sentence: 323', 'Contents: “the moment has come,” said poirot thoughtfully, “and i do not know what to do'], ['Chapter: 10', 'Sentence: 325', 'Contents: no one but i, hercule poirot, would attempt it'], ['Chapter: 10', 'Sentence: 332', 'Contents: i did not myself think very highly of lawrence’s intelligence; but i forebore to contradict poirot, and gently took him to task for forgetting my instructions as to which were cynthia’s days off'], ['Chapter: 10', 'Sentence: 365', 'Contents: poirot nodded, and gently taking the photographs from me locked them up again'], ['Chapter: 10', 'Sentence: 394', 'Contents: poirot shook his head'], ['Chapter: 10', 'Sentence: 401', 'Contents: poirot’s smile became rather enigmatical'], ['Chapter: 10', 'Sentence: 404', 'Contents: poirot’s were pleasantly vague'], ['Chapter: 10', 'Sentence: 407', 'Contents: “poirot,” i said, “what was in this particular little bottle'], ['Chapter: 10', 'Sentence: 408', 'Contents: poirot looked out of the window'], ['Chapter: 10', 'Sentence: 420', 'Contents: “i dropped my hat from the balcony,” explained poirot simply'], ['Chapter: 10', 'Sentence: 426', 'Contents: “poirot,” i said, “your gaiety does not deceive me'], ['Chapter: 10', 'Sentence: 428', 'Contents: “i do not know,” said poirot'], ['Chapter: 10', 'Sentence: 440', 'Contents: “there is a lady below, asking for mr hastings'], ['Chapter: 10', 'Sentence: 443', 'Contents: poirot followed me down the narrow stairs'], ['Chapter: 10', 'Sentence: 445', 'Contents: “i have been visiting an old woman in the village,” she explained, “and as lawrence told me you were with monsieur poirot i thought i would call for you'], ['Chapter: 10', 'Sentence: 446', 'Contents: “alas, madame,” said poirot, “i thought you had come to honour me with a visit'], ['Chapter: 10', 'Sentence: 449', 'Contents: if you should need a father confessor, madame”—she started ever so slightly—“remember, papa poirot is always at your service'], ['Chapter: 10', 'Sentence: 452', 'Contents: “come, will you not walk back with us too, monsieur poirot'], ['Chapter: 10', 'Sentence: 455', 'Contents: it struck me that in some way she was nervous of poirot’s eyes'], ['Chapter: 10', 'Sentence: 476', 'Contents: behind me, with a wild cry, mary cavendish fell heavily against me, and as i turned to catch her i met the quiet triumph in poirot’s eyes'], ['Chapter: 11', 'Sentence: 4', 'Contents: i expressed my admiration to poirot, and he nodded thoughtfully'], ['Chapter: 11', 'Sentence: 18', 'Contents: poirot grinned'], ['Chapter: 11', 'Sentence: 22', 'Contents: “every murderer is probably somebody’s old friend,” observed poirot philosophically'], ['Chapter: 11', 'Sentence: 26', 'Contents: i was rather disconcerted by this, remembering how i had busily passed on to john what i believed to be poirot’s views concerning bauerstein'], ['Chapter: 11', 'Sentence: 29', 'Contents: i asked poirot whether he thought john would be condemned'], ['Chapter: 11', 'Sentence: 31', 'Contents: “but, poirot—'], ['Chapter: 11', 'Sentence: 37', 'Contents: i, hercule poirot, know, but i lack the last link in my chain'], ['Chapter: 11', 'Sentence: 55', 'Contents: poirot shrugged his shoulders'], ['Chapter: 11', 'Sentence: 73', 'Contents: “it is quite  en règle ,” continued poirot'], ['Chapter: 11', 'Sentence: 78', 'Contents: poirot was a true prophet'], ['Chapter: 11', 'Sentence: 82', 'Contents: mary took a house in kensington, poirot being included in the family party'], ['Chapter: 11', 'Sentence: 84', 'Contents: as the weeks went by, the state of poirot’s nerves grew worse and worse'], ['Chapter: 11', 'Sentence: 150', 'Contents: he held up the same dusty piece which poirot and i had examined in the morning-room at styles'], ['Chapter: 11', 'Sentence: 199', 'Contents: “mr. hastings, you do not think—surely it could not have been lawrence—oh, no, that could not be'], ['Chapter: 11', 'Sentence: 200', 'Contents: but i myself was puzzled, and as soon as i was alone with poirot i asked him what he thought sir ernest was driving at'], ['Chapter: 11', 'Sentence: 201', 'Contents: “ah!” said poirot appreciatively'], ['Chapter: 11', 'Sentence: 375', 'Contents: poirot, i noticed, was looking profoundly discouraged'], ['Chapter: 11', 'Sentence: 377', 'Contents: “what is it, poirot'], ['Chapter: 11', 'Sentence: 395', 'Contents: with a great thump on the table, poirot demolished his carefully built up edifice'], ['Chapter: 11', 'Sentence: 406', 'Contents: “on an occasion when i was enraged, without doubt,” observed poirot, with great placidity'], ['Chapter: 11', 'Sentence: 414', 'Contents: for poirot, uttering a hoarse and inarticulate cry, again annihilated his masterpiece of cards, and putting his hands over his eyes swayed backwards and forwards, apparently suffering the keenest agony'], ['Chapter: 11', 'Sentence: 415', 'Contents: “good heavens, poirot'], ['Chapter: 11', 'Sentence: 424', 'Contents: “ah,  ma foi , no!” replied poirot frankly'], ['Chapter: 11', 'Sentence: 430', 'Contents: “what  is  the matter with monsieur poirot'], ['Chapter: 11', 'Sentence: 445', 'Contents: but night fell, and poirot had not returned'], ['Chapter: 12', 'Sentence: 1', 'Contents:  poirot’s abrupt departure had intrigued us all greatly'], ['Chapter: 12', 'Sentence: 3', 'Contents: but about three o’clock a ferocious and prolonged hooting outside drove us to the window, to see poirot alighting from a car, accompanied by japp and summerhaye'], ['Chapter: 12', 'Sentence: 10', 'Contents: “you know, monsieur poirot, that you have  carte blanche  in every way'], ['Chapter: 12', 'Sentence: 12', 'Contents: still beaming, poirot marshalled us all into the drawing-room, bringing forward chairs as he did so'], ['Chapter: 12', 'Sentence: 24', 'Contents: poirot went up to her and pleaded in a low voice'], ['Chapter: 12', 'Sentence: 27', 'Contents: the company once assembled, poirot rose from his seat with the air of a popular lecturer, and bowed politely to his audience'], ['Chapter: 12', 'Sentence: 45', 'Contents: i took an early opportunity of testing that statement by stationing my friend monsieur hastings in the left wing of the building, just outside mrs. cavendish’s door'], ['Chapter: 12', 'Sentence: 46', 'Contents: i myself, in company with the police, went to the deceased’s room, and whilst there i, apparently accidentally, knocked over the table in question, but found that, as i had expected, monsieur hastings had heard no sound at all'], ['Chapter: 12', 'Sentence: 76', 'Contents: she shook her head, and poirot shook his also'], ['Chapter: 12', 'Sentence: 86', 'Contents: poirot was continuing: “the temperature on that day, messieurs, was 80 degrees in the shade'], ['Chapter: 12', 'Sentence: 172', 'Contents: poirot paused'], ['Chapter: 12', 'Sentence: 174', 'Contents: “all you have said is quite true, monsieur poirot'], ['Chapter: 12', 'Sentence: 179', 'Contents: “what i meant when i told you that you could safely confess to papa poirot, eh'], ['Chapter: 12', 'Sentence: 201', 'Contents: poirot looked round the room, and then answered himself impressively'], ['Chapter: 12', 'Sentence: 247', 'Contents: in the deathly silence, poirot pieced together the slips of paper and, clearing his throat, read: dearest evelyn:     ‘you will be anxious at hearing nothing'], ['Chapter: 12', 'Sentence: 261', 'Contents: poirot skipped nimbly aside'], ['Chapter: 12', 'Sentence: 263', 'Contents: “ messieurs, mesdames ,” said poirot, with a flourish, “let me introduce you to the murderer, mr. alfred inglethorp'], ['Chapter: 13', 'Sentence: 1', 'Contents:  “poirot, you old villain,” i said, “i’ve half a mind to strangle you'], ['Chapter: 13', 'Sentence: 6', 'Contents: now at last, i had poirot to myself, and could relieve my still burning curiosity'], ['Chapter: 13', 'Sentence: 7', 'Contents: poirot did not answer me for a moment, but at last he said: “i did not deceive you,  mon ami '], ['Chapter: 13', 'Sentence: 15', 'Contents: “my friend,” besought poirot, “i implore you, do not enrage yourself'], ['Chapter: 13', 'Sentence: 29', 'Contents: “then again,” continued poirot, “at the beginning, did i not repeat to you several times that i didn’t want mr. inglethorp arrested  now '], ['Chapter: 13', 'Sentence: 62', 'Contents: poirot stared at me in surprise'], ['Chapter: 13', 'Sentence: 92', 'Contents: poirot puffed at his tiny cigarette, his eyes fixed on the ceiling'], ['Chapter: 13', 'Sentence: 143', 'Contents: “no one would think of looking there,” poirot continued'], ['Chapter: 13', 'Sentence: 147', 'Contents: poirot nodded'], ['Chapter: 13', 'Sentence: 199', 'Contents: “and very good reasons too,” replied poirot'], ['Chapter: 13', 'Sentence: 232', 'Contents: “you are joking, poirot'], ['Chapter: 13', 'Sentence: 238', 'Contents: “exactly,” said poirot dryly'], ['Chapter: 13', 'Sentence: 244', 'Contents: “there, poirot, you are quite wrong'], ['Chapter: 13', 'Sentence: 251', 'Contents: “then she certainly did mind very much,” remarked poirot'], ['Chapter: 13', 'Sentence: 269', 'Contents: “dear me, poirot,” i said with a sigh, “i think you have explained everything'], ['Chapter: 13', 'Sentence: 295', 'Contents: i looked at poirot in silent amazement'], ['Chapter: 13', 'Sentence: 297', 'Contents: who on earth but poirot would have thought of a trial for murder as a restorer of conjugal happiness'], ['Chapter: 13', 'Sentence: 298', 'Contents: “i perceive your thoughts,  mon ami ,” said poirot, smiling at me'], ['Chapter: 13', 'Sentence: 299', 'Contents: “no one but hercule poirot would have attempted such a thing'], ['Chapter: 13', 'Sentence: 306', 'Contents: poirot had opened the door, and meeting her agonized eyes had nodded gently'], ['Chapter: 13', 'Sentence: 310', 'Contents: “perhaps you are right, poirot,” i said gently'], ['Chapter: 13', 'Sentence: 318', 'Contents: cynthia fidgeted with a little tassel for some moments, then, suddenly exclaiming: “you dears!” kissed first me and then poirot, and rushed out of the room again'], ['Chapter: 13', 'Sentence: 322', 'Contents: “it means that she has discovered monsieur lawrence does not dislike her as much as she thought,” replied poirot philosophically'], ['Chapter: 13', 'Sentence: 327', 'Contents: monsieur lawrence,” called poirot'], ['Chapter: 13', 'Sentence: 336', 'Contents: “and neither of them is for you?” finished poirot']]\n",
            "[['Chapter: 1', 'Sentence: 33', 'Contents: as for evie—you remember evie'], ['Chapter: 1', 'Sentence: 37', 'Contents: a great sport—old evie'], ['Chapter: 1', 'Sentence: 41', 'Contents: he turned up from nowhere, on the pretext of being a second cousin or something of evie’s, though she didn’t seem particularly keen to acknowledge the relationship'], ['Chapter: 1', 'Sentence: 48', 'Contents: but you could have knocked us all down with a feather when, three months ago, she suddenly announced that she and alfred were engaged'], ['Chapter: 1', 'Sentence: 70', 'Contents: it’s a jolly good life taking it all round—if it weren’t for that fellow alfred inglethorp'], ['Chapter: 1', 'Sentence: 82', 'Contents: “hullo, evie, here’s our wounded hero'], ['Chapter: 1', 'Sentence: 83', 'Contents: mr. hastings—miss howard'], ['Chapter: 1', 'Sentence: 84', 'Contents: miss howard shook hands with a hearty, almost painful, grip'], ['Chapter: 1', 'Sentence: 96', 'Contents: “you’re a cynic, evie,” said john, laughing'], ['Chapter: 1', 'Sentence: 103', 'Contents: “well,” said miss howard, drawing off her gardening gloves, “i’m inclined to agree with you'], ['Chapter: 1', 'Sentence: 114', 'Contents: at that moment a well remembered voice floated through the open french window near at hand: “then you’ll write to the princess after tea, alfred'], ['Chapter: 1', 'Sentence: 121', 'Contents: you are so thoughtful, alfred dear'], ['Chapter: 1', 'Sentence: 126', 'Contents: alfred, darling, mr. hastings—my husband'], ['Chapter: 1', 'Sentence: 127', 'Contents: i looked with some curiosity at “alfred darling”'], ['Chapter: 1', 'Sentence: 138', 'Contents: with the presence of mr. inglethorp, a sense of constraint and veiled hostility seemed to settle down upon the company'], ['Chapter: 1', 'Sentence: 139', 'Contents: miss howard, in particular, took no pains to conceal her feelings'], ['Chapter: 1', 'Sentence: 145', 'Contents: presently mrs. inglethorp turned to give some instructions about letters to evelyn howard, and her husband addressed me in his painstaking voice: “is soldiering your regular profession, mr. hastings'], ['Chapter: 1', 'Sentence: 169', 'Contents: “like a good detective story myself,” remarked miss howard'], ['Chapter: 1', 'Sentence: 249', 'Contents: evie’s had a row with alfred inglethorp, and she’s off'], ['Chapter: 1', 'Sentence: 250', 'Contents: “evie'], ['Chapter: 1', 'Sentence: 253', 'Contents: “yes; you see she went to the mater, and—oh,—here’s evie herself'], ['Chapter: 1', 'Sentence: 254', 'Contents: miss howard entered'], ['Chapter: 1', 'Sentence: 258', 'Contents: “my dear evelyn,” cried mrs. cavendish, “this can’t be true'], ['Chapter: 1', 'Sentence: 259', 'Contents: miss howard nodded grimly'], ['Chapter: 1', 'Sentence: 269', 'Contents: just ask your alfred how much time he spends over there'], ['Chapter: 1', 'Sentence: 278', 'Contents: miss howard made an extremely expressive grimace'], ['Chapter: 1', 'Sentence: 279', 'Contents: “‘darling alfred’—‘dearest alfred’—‘wicked calumnies’ —‘wicked lies’—‘wicked woman’—to accuse her ‘dear husband'], ['Chapter: 1', 'Sentence: 287', 'Contents: as she left the room, miss howard’s face changed'], ['Chapter: 1', 'Sentence: 300', 'Contents: “of course, miss howard,” i said, “i’ll do everything i can, but i’m sure you’re excited and overwrought'], ['Chapter: 1', 'Sentence: 306', 'Contents: the throb of the motor came through the open window, and miss howard rose and moved to the door'], ['Chapter: 1', 'Sentence: 311', 'Contents: miss howard was swallowed up in an eager chorus of protests and good-byes'], ['Chapter: 1', 'Sentence: 325', 'Contents: she always had a rough tongue, but there is no stauncher friend in england than evelyn howard'], ['Chapter: 1', 'Sentence: 331', 'Contents: “the one that miss howard—'], ['Chapter: 1', 'Sentence: 350', 'Contents: for the first time i felt that, with evelyn howard, something indefinable had gone from the atmosphere'], ['Chapter: 2', 'Sentence: 5', 'Contents: i received a letter from evelyn howard a couple of days after her departure, telling me she was working as a nurse at the big hospital in middlingham, a manufacturing town some fifteen miles away, and begging me to let her know if mrs. inglethorp should show any wish to be reconciled'], ['Chapter: 2', 'Sentence: 156', 'Contents: i thought of mrs. raikes’s gipsy face, and evelyn howard’s warnings, but wisely decided to hold my peace, whilst cynthia exhausted every possible hypothesis, and cheerfully hoped, “aunt emily will send him away, and will never speak to him again'], ['Chapter: 2', 'Sentence: 161', 'Contents: mr. inglethorp was in the drawing-room when i came down to supper'], ['Chapter: 2', 'Sentence: 190', 'Contents: in a few moments, alfred inglethorp had ushered the doctor in, the latter laughing, and protesting that he was in no fit state for a drawing-room'], ['Chapter: 2', 'Sentence: 194', 'Contents: “i did not really mean to come in, but mr. inglethorp insisted'], ['Chapter: 2', 'Sentence: 209', 'Contents: “i’ll walk down to the village with you,” said mr. inglethorp'], ['Chapter: 3', 'Sentence: 21', 'Contents: “try going through mr. inglethorp’s room, sir,” cried dorcas'], ['Chapter: 3', 'Sentence: 23', 'Contents: suddenly i realized that alfred inglethorp was not with us—that he alone had given no sign of his presence'], ['Chapter: 3', 'Sentence: 79', 'Contents: for one instant he stopped dead, staring at the figure on the bed, and, at the same instant, mrs. inglethorp cried out in a strangled voice, her eyes fixed on the doctor: “alfred—alfred—'], ['Chapter: 3', 'Sentence: 139', 'Contents: we were all silent, but i suppose i voiced the thoughts of us all when i at last broke it by saying: “where is mr. inglethorp'], ['Chapter: 3', 'Sentence: 143', 'Contents: where  was  alfred inglethorp'], ['Chapter: 4', 'Sentence: 5', 'Contents: it was mr. inglethorp'], ['Chapter: 4', 'Sentence: 36', 'Contents: i told him of my awakening, of mrs. inglethorp’s dying words, of her husband’s absence, of the quarrel the day before, of the scrap of conversation between mary and her mother-in-law that i had overheard, of the former quarrel between mrs. inglethorp and evelyn howard, and of the latter’s innuendoes'], ['Chapter: 4', 'Sentence: 294', 'Contents: we passed through alfred inglethorp’s room, and poirot delayed long enough to make a brief but fairly comprehensive examination of it'], ['Chapter: 4', 'Sentence: 356', 'Contents: i didn’t hear what mr. inglethorp replied'], ['Chapter: 4', 'Sentence: 367', 'Contents: “you are sure it was mr. inglethorp’s voice you heard'], ['Chapter: 4', 'Sentence: 495', 'Contents: one was to miss howard, and one was to mr. wells, the lawyer, and the other two i don’t think i remember, sir—oh, yes, one was to ross’s, the caterers in tadminster'], ['Chapter: 4', 'Sentence: 550', 'Contents: “and the door into mr. inglethorp’s room'], ['Chapter: 4', 'Sentence: 600', 'Contents: “mr. inglethorp’s'], ['Chapter: 4', 'Sentence: 609', 'Contents: to my surprise, he did not examine them, merely remarking approvingly as he relocked the desk: “decidedly, he is a man of method, this mr. inglethorp'], ['Chapter: 5', 'Sentence: 39', 'Contents: one, two, three, four, five—but where, then, is the cup of mr. inglethorp'], ['Chapter: 5', 'Sentence: 63', 'Contents: ever since the early hours of the morning, john had been hard at work, sending telegrams—one of the first had gone to evelyn howard—writing notices for the papers, and generally occupying himself with the melancholy duties that a death entails'], ['Chapter: 5', 'Sentence: 76', 'Contents: john broke the rather awkward silence by saying with a slight effort: “i told you, didn’t i, that mr. inglethorp has returned'], ['Chapter: 5', 'Sentence: 84', 'Contents: mr. inglethorp’s reason for not returning last night was, i believe, that he had forgotten the latch-key'], ['Chapter: 5', 'Sentence: 95', 'Contents: if mr. inglethorp did take it, he has had ample time to replace it by now'], ['Chapter: 5', 'Sentence: 110', 'Contents: i pass over alfred inglethorp, who acted the bereaved widower in a manner that i felt to be disgusting in its hypocrisy'], ['Chapter: 5', 'Sentence: 234', 'Contents: “suppose,” suggested poirot, “that, unknown to you, she had made a new will in favour of someone who was not, in any sense of the word, a member of the family—we will say miss howard, for instance—would you be surprised'], ['Chapter: 5', 'Sentence: 239', 'Contents: “do you think mrs. inglethorp made a will leaving all her money to miss howard'], ['Chapter: 5', 'Sentence: 248', 'Contents: mr. inglethorp is quite willing to leave it entirely to mr. wells and myself'], ['Chapter: 5', 'Sentence: 348', 'Contents: “evie!” cried john'], ['Chapter: 5', 'Sentence: 352', 'Contents: “miss howard,” i explained'], ['Chapter: 5', 'Sentence: 356', 'Contents: i followed john’s example, and went out into the hall, where miss howard was endeavouring to extricate herself from the voluminous mass of veils that enveloped her head'], ['Chapter: 5', 'Sentence: 361', 'Contents: she had known alfred inglethorp only too well'], ['Chapter: 5', 'Sentence: 369', 'Contents: “have you had anything to eat this morning, evie?” asked john'], ['Chapter: 5', 'Sentence: 377', 'Contents: he’s helping us, you know, evie'], ['Chapter: 5', 'Sentence: 378', 'Contents: miss howard shook hands with poirot, but glanced suspiciously over her shoulder at john'], ['Chapter: 5', 'Sentence: 385', 'Contents: alfred inglethorp, of course'], ['Chapter: 5', 'Sentence: 386', 'Contents: “my dear evie, do be careful'], ['Chapter: 5', 'Sentence: 388', 'Contents: “more fool, lawrence!” retorted miss howard'], ['Chapter: 5', 'Sentence: 389', 'Contents: “of course alfred inglethorp murdered poor emily—as i always told you he would'], ['Chapter: 5', 'Sentence: 390', 'Contents: “my dear evie, don’t shout so'], ['Chapter: 5', 'Sentence: 394', 'Contents: the snort miss howard gave was truly magnificent'], ['Chapter: 5', 'Sentence: 413', 'Contents: “dash it all, evie, i can’t haul him down to the local police station by the scruff of his neck'], ['Chapter: 5', 'Sentence: 419', 'Contents: it occurred to me very forcibly at that moment that to harbour miss howard and alfred inglethorp under the same roof, and keep the peace between them, was likely to prove a herculean task, and i did not envy john'], ['Chapter: 5', 'Sentence: 423', 'Contents: as she left the room, poirot came over from the window where he had been standing, and sat down facing miss howard'], ['Chapter: 5', 'Sentence: 427', 'Contents: “i’ll help you to hang alfred with pleasure,” she replied gruffly'], ['Chapter: 5', 'Sentence: 431', 'Contents: “alfred inglethorp'], ['Chapter: 5', 'Sentence: 438', 'Contents: but along comes mr. alfred inglethorp—and within two months—hey presto'], ['Chapter: 5', 'Sentence: 439', 'Contents: “believe me, miss howard,” said poirot very earnestly, “if mr. inglethorp is the man, he shall not escape me'], ['Chapter: 5', 'Sentence: 441', 'Contents: “that’s better,” said miss howard more enthusiastically'], ['Chapter: 5', 'Sentence: 446', 'Contents: miss howard blinked, and a new note crept into the gruffness of her voice'], ['Chapter: 5', 'Sentence: 544', 'Contents: “mr. inglethorp and miss howard'], ['Chapter: 5', 'Sentence: 625', 'Contents: “locked up in the desk in the boudoir, they found a will of mrs. inglethorp’s, dated before her marriage, leaving her fortune to alfred inglethorp'], ['Chapter: 5', 'Sentence: 629', 'Contents: “did mr. inglethorp know of it'], ['Chapter: 5', 'Sentence: 665', 'Contents: “yes,” i said, “alfred inglethorp, without doubt'], ['Chapter: 5', 'Sentence: 679', 'Contents: “because if mr. inglethorp knew that his wife would be poisoned last night, he would certainly have arranged to be away from the house'], ['Chapter: 5', 'Sentence: 687', 'Contents: this mr. inglethorp, i should say, is somewhat of a scoundrel—but that does not of necessity make him a murderer'], ['Chapter: 5', 'Sentence: 801', 'Contents: “and supposing the coroner’s jury returns a verdict of wilful murder against alfred inglethorp'], ['Chapter: 5', 'Sentence: 805', 'Contents: for one thing, a country jury is not anxious to take responsibility upon itself, and mr. inglethorp stands practically in the position of local squire'], ['Chapter: 5', 'Sentence: 821', 'Contents: she would never forgive me if i let alfred inglethorp, her husband, be arrested  now —when a word from me could save him'], ['Chapter: 6', 'Sentence: 29', 'Contents: evelyn howard had been right then, and i experienced a sharp twinge of disgust, as i thought of alfred inglethorp’s liberality with another woman’s money'], ['Chapter: 6', 'Sentence: 58', 'Contents: she turned towards me, and gasped out: ‘alfred—alfred——’” “could the strychnine have been administered in mrs. inglethorp’s after-dinner coffee which was taken to her by her husband'], ['Chapter: 6', 'Sentence: 184', 'Contents: “miss howard'], ['Chapter: 6', 'Sentence: 185', 'Contents: miss howard produced the letter written to her by mrs. inglethorp on the evening of the 17th'], ['Chapter: 6', 'Sentence: 188', 'Contents: the following is a facsimile: styles court essex hand written note:      july 17th      my dear evelyn      can we not bury      the hachet'], ['Chapter: 6', 'Sentence: 192', 'Contents: “plain as a pikestaff to me,” said miss howard shortly'], ['Chapter: 6', 'Sentence: 204', 'Contents: miss howard was obviously quite a public character'], ['Chapter: 6', 'Sentence: 208', 'Contents: the coroner interrupted her in an agony of apprehension: “thank you, miss howard, that is all'], ['Chapter: 6', 'Sentence: 225', 'Contents: it was to mr. inglethorp'], ['Chapter: 6', 'Sentence: 226', 'Contents: every eye turned simultaneously to where alfred inglethorp was sitting, impassive and wooden'], ['Chapter: 6', 'Sentence: 234', 'Contents: but, seeing it was mr. inglethorp of the hall, i thought there was no harm in it'], ['Chapter: 6', 'Sentence: 239', 'Contents: “yes, sir, mr. inglethorp did so'], ['Chapter: 6', 'Sentence: 243', 'Contents: then, amidst a breathless silence, alfred inglethorp was called'], ['Chapter: 6', 'Sentence: 259', 'Contents: alfred inglethorp replied imperturbably: “mr. mace must have been mistaken'], ['Chapter: 6', 'Sentence: 260', 'Contents: the coroner hesitated for a moment, and then said: “mr. inglethorp, as a mere matter of form, would you mind telling us where you were on the evening of monday, july 16th'], ['Chapter: 6', 'Sentence: 262', 'Contents: “that is absurd, mr. inglethorp,” said the coroner sharply'], ['Chapter: 6', 'Sentence: 277', 'Contents: “be careful, mr. inglethorp'], ['Chapter: 6', 'Sentence: 286', 'Contents: “pardon me,” interrupted alfred inglethorp, “you have been misinformed'], ['Chapter: 6', 'Sentence: 299', 'Contents: was he at last convinced of alfred inglethorp’s guilt'], ['Chapter: 6', 'Sentence: 300', 'Contents: “mr. inglethorp,” said the coroner, “you have heard your wife’s dying words repeated here'], ['Chapter: 6', 'Sentence: 315', 'Contents: the coroner reflected a moment, then he said: “i believe, mr. inglethorp, that you yourself poured out the coffee, and took it to your wife that evening'], ['Chapter: 7', 'Sentence: 38', 'Contents: from the evidence at the inquest, mr. inglethorp murdered his wife as sure as i stand here, and if anyone but you hinted the contrary i’d laugh in his face'], ['Chapter: 7', 'Sentence: 54', 'Contents: use your warrant: arrest mr. inglethorp'], ['Chapter: 7', 'Sentence: 70', 'Contents: and alfred inglethorp must not be arrested'], ['Chapter: 7', 'Sentence: 78', 'Contents: at styles, mr. inglethorp will give you, or if he refuses—as is probable—i will give you such proofs that shall satisfy you that the case against him could not possibly be sustained'], ['Chapter: 7', 'Sentence: 93', 'Contents: far more convincing than mr. inglethorp’s stony denials'], ['Chapter: 7', 'Sentence: 96', 'Contents: but, seriously, in spite of what i heard you say to the detectives, you surely cannot still believe in the possibility of alfred inglethorp’s innocence'], ['Chapter: 7', 'Sentence: 133', 'Contents: “i beg your pardon, he saw a man with a black beard like mr. inglethorp’s, and wearing glasses like mr. inglethorp, and dressed in mr. inglethorp’s rather noticeable clothes'], ['Chapter: 7', 'Sentence: 138', 'Contents: “the important fact that alfred inglethorp wears peculiar clothes, has a black beard, and uses glasses,” i quoted'], ['Chapter: 7', 'Sentence: 148', 'Contents: but in the case of alfred inglethorp, all that is changed'], ['Chapter: 7', 'Sentence: 155', 'Contents: everybody was predisposed to believe in mr. inglethorp’s guilt'], ['Chapter: 7', 'Sentence: 156', 'Contents: it was a foregone conclusion that he would be suspected; but, to make it a sure thing there must be tangible proof—such as the actual buying of the poison, and that, with a man of the peculiar appearance of mr. inglethorp, was not difficult'], ['Chapter: 7', 'Sentence: 157', 'Contents: remember, this young mace had never actually spoken to mr. inglethorp'], ['Chapter: 7', 'Sentence: 158', 'Contents: how should he doubt that the man in his clothes, with his beard and his glasses, was not alfred inglethorp'], ['Chapter: 7', 'Sentence: 176', 'Contents: “perhaps,” i said doubtfully, for i was really quite indifferent to the fate of alfred inglethorp, and thought that a good fright would do him no harm'], ['Chapter: 7', 'Sentence: 178', 'Contents: “come, my friend,” he said, changing the subject, “apart from mr. inglethorp, how did the evidence at the inquest strike you'], ['Chapter: 7', 'Sentence: 210', 'Contents: it seems inconceivable that she should be shielding alfred inglethorp'], ['Chapter: 7', 'Sentence: 236', 'Contents: but there’s john—and miss howard, surely they were speaking the truth'], ['Chapter: 7', 'Sentence: 240', 'Contents: miss howard’s evidence, unimportant as it was, had been given in such a downright straightforward manner that it had never occurred to me to doubt her sincerity'], ['Chapter: 7', 'Sentence: 244', 'Contents: “miss howard had always seemed to me so essentially honest—almost uncomfortably so'], ['Chapter: 7', 'Sentence: 275', 'Contents: that object, it concerns mr. alfred inglethorp'], ['Chapter: 7', 'Sentence: 277', 'Contents: “mr. inglethorp,” said poirot, addressing him directly, “a very dark shadow is resting on this house—the shadow of murder'], ['Chapter: 7', 'Sentence: 283', 'Contents: and as inglethorp did not appear to understand, he added: “mr. inglethorp, you are standing in very grave danger'], ['Chapter: 7', 'Sentence: 296', 'Contents: mr. inglethorp, knowing what i have now told you, do you still refuse to say where you were at six o’clock on monday afternoon'], ['Chapter: 7', 'Sentence: 297', 'Contents: with a groan, alfred inglethorp sank down again and buried his face in his hands'], ['Chapter: 7', 'Sentence: 309', 'Contents: alfred inglethorp sprang up again'], ['Chapter: 7', 'Sentence: 318', 'Contents: i, hercule poirot, affirm that the man who entered the chemist’s shop, and purchased strychnine at six o’clock on monday last was not mr. inglethorp, for at six o’clock on that day mr. inglethorp was escorting mrs. raikes back to her home from a neighbouring farm'], ['Chapter: 8', 'Sentence: 18', 'Contents: “a most malicious and utterly untrue one,” interrupted alfred inglethorp in an agitated voice'], ['Chapter: 8', 'Sentence: 19', 'Contents: “and mr. inglethorp was anxious to have no scandal revived just at present'], ['Chapter: 8', 'Sentence: 29', 'Contents: and he shot a baleful glance at evelyn howard'], ['Chapter: 8', 'Sentence: 91', 'Contents: of course, he didn’t want to come in—it was just after dinner—but mr. inglethorp insisted'], ['Chapter: 8', 'Sentence: 127', 'Contents: of course you realize that, now mr. inglethorp is out of it, the whole position is greatly changed'], ['Chapter: 8', 'Sentence: 132', 'Contents: i have ascertained that anyone in the household, with the exception of mrs. cavendish, who was playing tennis with you, could have personated mr. inglethorp on monday evening'], ['Chapter: 8', 'Sentence: 140', 'Contents: “in clearing alfred inglethorp,” continued poirot, “i have been obliged to show my hand sooner than i intended'], ['Chapter: 8', 'Sentence: 155', 'Contents: “well then,” i blurted out, “it’s absurd—but i suspect miss howard of not telling all she knows'], ['Chapter: 8', 'Sentence: 156', 'Contents: “miss howard'], ['Chapter: 8', 'Sentence: 167', 'Contents: “well, i learnt that miss howard had been on afternoon duty on tuesday, and that—a convoy coming in unexpectedly—she had kindly offered to remain on night duty, which offer was gratefully accepted'], ['Chapter: 8', 'Sentence: 182', 'Contents: there is nothing weak-minded or degenerate about miss howard'], ['Chapter: 8', 'Sentence: 191', 'Contents: now, what reasons are there against miss howard’s having deliberately poisoned mrs. inglethorp'], ['Chapter: 8', 'Sentence: 197', 'Contents: if miss howard were capable of poisoning the old lady, she would be quite equally capable of simulating devotion'], ['Chapter: 8', 'Sentence: 199', 'Contents: you are perfectly correct in your assumption that her vehemence against alfred inglethorp is too violent to be natural; but you are quite wrong in the deduction you draw from it'], ['Chapter: 8', 'Sentence: 202', 'Contents: “now, to my way of thinking, there is one insuperable objection to miss howard’s being the murderess'], ['Chapter: 8', 'Sentence: 204', 'Contents: “that in no possible way could mrs. inglethorp’s death benefit miss howard'], ['Chapter: 8', 'Sentence: 213', 'Contents: miss howard occupied very much the same position, so i used her name instead'], ['Chapter: 8', 'Sentence: 219', 'Contents: but i can tell you this much—it was not in miss howard’s favour'], ['Chapter: 8', 'Sentence: 221', 'Contents: “well,” i said, with a sigh, “we will acquit miss howard, then'], ['Chapter: 8', 'Sentence: 266', 'Contents: however, my confidence in him, which at one time had rather waned, was fully restored since his belief in alfred inglethorp’s innocence had been so triumphantly vindicated'], ['Chapter: 8', 'Sentence: 267', 'Contents: the funeral of mrs. inglethorp took place the following day, and on monday, as i came down to a late breakfast, john drew me aside, and informed me that mr. inglethorp was leaving that morning, to take up his quarters at the stylites arms until he should have completed his plans'], ['Chapter: 8', 'Sentence: 375', 'Contents: it was cut exactly the shape of mr. inglethorp’s, and i found one or two snipped hairs'], ['Chapter: 8', 'Sentence: 401', 'Contents: “here comes miss howard,” said poirot suddenly'], ['Chapter: 8', 'Sentence: 403', 'Contents: but i am in her black books, since i cleared mr. inglethorp'], ['Chapter: 8', 'Sentence: 405', 'Contents: with a nod that was barely civil, miss howard assented to poirot’s request for a few minutes’ conversation'], ['Chapter: 8', 'Sentence: 407', 'Contents: “well, monsieur poirot,” said miss howard impatiently, “what is it'], ['Chapter: 8', 'Sentence: 413', 'Contents: “and i told you i’d help you with pleasure—to hang alfred inglethorp'], ['Chapter: 8', 'Sentence: 416', 'Contents: “miss howard, i will ask you one question'], ['Chapter: 8', 'Sentence: 418', 'Contents: “never tell lies,” replied miss howard'], ['Chapter: 8', 'Sentence: 434', 'Contents: “good heavens!” cried miss howard'], ['Chapter: 8', 'Sentence: 441', 'Contents: “miss howard, do you remember a conversation that took place on the day of my friend’s arrival here'], ['Chapter: 8', 'Sentence: 448', 'Contents: “and yet you will pay no attention to my instinct against alfred inglethorp'], ['Chapter: 8', 'Sentence: 450', 'Contents: “because your instinct is not against mr. inglethorp'], ['Chapter: 8', 'Sentence: 458', 'Contents: “shall i tell you why you have been so vehement against mr. inglethorp'], ['Chapter: 8', 'Sentence: 461', 'Contents: “no, no, no!” cried miss howard wildly, flinging up her hands'], ['Chapter: 8', 'Sentence: 470', 'Contents: it  must  be alfred inglethorp'], ['Chapter: 8', 'Sentence: 472', 'Contents: “don’t ask me about it,” continued miss howard, “because i shan’t tell you'], ['Chapter: 8', 'Sentence: 489', 'Contents: evelyn howard bowed her head'], ['Chapter: 8', 'Sentence: 495', 'Contents: if we are right, miss howard, on whose side are you then'], ['Chapter: 8', 'Sentence: 502', 'Contents: “miss howard,” said poirot gravely, “this is unworthy of you'], ['Chapter: 8', 'Sentence: 504', 'Contents: “yes,” she said quietly, “that was not evelyn howard who spoke'], ['Chapter: 8', 'Sentence: 506', 'Contents: “ this  is evelyn howard'], ['Chapter: 8', 'Sentence: 515', 'Contents: “you and miss howard seem to know what you are talking about,” i observed coldly'], ['Chapter: 9', 'Sentence: 147', 'Contents: the truth of the matter was that it was lawrence who had murdered alfred inglethorp with a croquet mallet'], ['Chapter: 9', 'Sentence: 296', 'Contents: then i remembered that enigmatical conversation between poirot and evelyn howard'], ['Chapter: 9', 'Sentence: 298', 'Contents: was this the monstrous possibility that evelyn had tried not to believe'], ['Chapter: 9', 'Sentence: 300', 'Contents: no wonder miss howard had suggested “hushing it up'], ['Chapter: 9', 'Sentence: 352', 'Contents: “lot of paul prys,” grunted miss howard'], ['Chapter: 9', 'Sentence: 391', 'Contents: look, there is john—and miss howard—'], ['Chapter: 9', 'Sentence: 393', 'Contents: “yes, john likes me, i think, and of course evie, for all her gruff ways, wouldn’t be unkind to a fly'], ['Chapter: 9', 'Sentence: 395', 'Contents: she wants evie to stay on, is begging her to, but she doesn’t want me, and—and—i don’t know what to do'], ['Chapter: 10', 'Sentence: 114', 'Contents: i am not a vain man where women are concerned, but i remembered certain evidences, too lightly thought of at the time, perhaps, but which certainly seemed to indicate—— my pleasing thoughts were interrupted by the sudden entrance of miss howard'], ['Chapter: 10', 'Sentence: 137', 'Contents: having deduced its existence, i set miss howard to search for it, and, as you see, she has been successful'], ['Chapter: 11', 'Sentence: 46', 'Contents: “did you not put two and two together, and reflect that if it was not alfred inglethorp who was quarrelling with his wife—and you remember, he strenuously denied it at the inquest—it must be either lawrence or john'], ['Chapter: 11', 'Sentence: 98', 'Contents: luckily for mr. inglethorp, he had been able to produce an unimpeachable alibi'], ['Chapter: 11', 'Sentence: 108', 'Contents: the prisoner had been arrested in consequence of the discovery, in his room, by detective inspector japp—a most brilliant officer—of the identical phial of strychnine which had been sold at the village chemist’s to the supposed mr. inglethorp on the day before the murder'], ['Chapter: 11', 'Sentence: 118', 'Contents: mr. mace identified the phial handed him by counsel as that sold by him to “mr. inglethorp'], ['Chapter: 11', 'Sentence: 119', 'Contents: pressed, he admitted that he only knew mr. inglethorp by sight'], ['Chapter: 11', 'Sentence: 122', 'Contents: alfred inglethorp was called, and denied having purchased the poison'], ['Chapter: 11', 'Sentence: 126', 'Contents: dorcas, faithful to her “young gentlemen,” denied strenuously that it could have been john’s voice she heard, and resolutely declared, in the teeth of everything, that it was mr. inglethorp who had been in the boudoir with her mistress'], ['Chapter: 11', 'Sentence: 138', 'Contents: it would be miss howard who would attend to anything like that'], ['Chapter: 11', 'Sentence: 139', 'Contents: evelyn howard was called and, after being examined on other points, was questioned as to the parcel'], ['Chapter: 11', 'Sentence: 149', 'Contents: “i believe, miss howard, that it was you who found this sheet of brown paper'], ['Chapter: 11', 'Sentence: 188', 'Contents: elizabeth wells, second housemaid at styles, stated that after she had gone to bed she remembered that she had bolted the front door, instead of leaving it on the latch as mr. inglethorp had requested'], ['Chapter: 11', 'Sentence: 209', 'Contents: in his chest of drawers, hidden beneath some underclothing, we found: first, a pair of gold-rimmed pince-nez similar to those worn by mr. inglethorp”—these were exhibited—“secondly, this phial'], ['Chapter: 11', 'Sentence: 216', 'Contents: erything of which i die possessed i leave to my beloved husband alfred ing'], ['Chapter: 11', 'Sentence: 254', 'Contents: evelyn howard had been right in her facts, though her animosity against alfred inglethorp had caused her to jump to the conclusion that he was the person concerned'], ['Chapter: 11', 'Sentence: 312', 'Contents: the hand-writing experts were called upon for their opinion of the signature of “alfred inglethorp” in the chemist’s poison register'], ['Chapter: 11', 'Sentence: 324', 'Contents: his learned friend—sir ernest nodded carelessly at mr. philips—had stated that if the prisoner were an innocent man, he would have come forward at the inquest to explain that it was he, and not mr. inglethorp, who had been the participator in the quarrel'], ['Chapter: 11', 'Sentence: 328', 'Contents: no suspicion had entered the prisoner’s head that anyone could possibly have mistaken his voice for that of mr. inglethorp'], ['Chapter: 11', 'Sentence: 330', 'Contents: the prosecution averred that on monday, july 16th, the prisoner had entered the chemist’s shop in the village, disguised as mr. inglethorp'], ['Chapter: 11', 'Sentence: 348', 'Contents: “i understand you to say that it never entered your head that the witnesses at the inquest could possibly have mistaken your voice for that of mr. inglethorp'], ['Chapter: 11', 'Sentence: 351', 'Contents: i was told there had been a quarrel between my mother and mr. inglethorp, and it never occurred to me that such was not really the case'], ['Chapter: 11', 'Sentence: 369', 'Contents: mary, where you purchased strychnine in the name of alfred inglethorp'], ['Chapter: 11', 'Sentence: 371', 'Contents: “i put it to you that, wearing a suit of mr. inglethorp’s clothes, with a black beard trimmed to resemble his, you were there—and signed the register in his name'], ['Chapter: 12', 'Sentence: 13', 'Contents: “miss howard—here'], ['Chapter: 12', 'Sentence: 19', 'Contents: we must delay our proceedings a few minutes until mr. inglethorp arrives'], ['Chapter: 12', 'Sentence: 21', 'Contents: miss howard rose immediately from her seat'], ['Chapter: 12', 'Sentence: 25', 'Contents: finally miss howard consented to return to her chair'], ['Chapter: 12', 'Sentence: 26', 'Contents: a few minutes later alfred inglethorp entered the room'], ['Chapter: 12', 'Sentence: 150', 'Contents: the servants noticed nothing, since annie, the housemaid, who took in the coffee, brought in seven cups, not knowing that mr. inglethorp never drank it, whereas dorcas, who cleared them away the following morning, found six as usual—or strictly speaking she found five, the sixth being the one found broken in mrs. inglethorp’s room'], ['Chapter: 12', 'Sentence: 247', 'Contents: in the deathly silence, poirot pieced together the slips of paper and, clearing his throat, read: dearest evelyn:     ‘you will be anxious at hearing nothing'], ['Chapter: 12', 'Sentence: 263', 'Contents: “ messieurs, mesdames ,” said poirot, with a flourish, “let me introduce you to the murderer, mr. alfred inglethorp'], ['Chapter: 13', 'Sentence: 5', 'Contents: in the room below, john and mary were together once more, while alfred inglethorp and miss howard were in custody'], ['Chapter: 13', 'Sentence: 12', 'Contents: if i had told you my ideas, the very first time you saw mr. alfred inglethorp that astute gentleman would have—in your so expressive idiom—‘smelt a rat’'], ['Chapter: 13', 'Sentence: 29', 'Contents: “then again,” continued poirot, “at the beginning, did i not repeat to you several times that i didn’t want mr. inglethorp arrested  now '], ['Chapter: 13', 'Sentence: 35', 'Contents: when i went up to styles with you that first day, i had no idea as to how the crime had been committed, but from what i knew of mr. inglethorp i fancied that it would be very hard to find anything to connect him with it'], ['Chapter: 13', 'Sentence: 39', 'Contents: “well, my friend, as i say, my views as to mr. inglethorp’s guilt were very much shaken'], ['Chapter: 13', 'Sentence: 49', 'Contents: this attitude of his gave me furiously to think, and i was slowly forced to the conclusion that alfred inglethorp wanted to be arrested'], ['Chapter: 13', 'Sentence: 65', 'Contents: you have not yet realized that it was miss howard who went to the chemist’s shop'], ['Chapter: 13', 'Sentence: 66', 'Contents: “miss howard'], ['Chapter: 13', 'Sentence: 76', 'Contents: i am inclined to think that miss howard was the master mind in that affair'], ['Chapter: 13', 'Sentence: 86', 'Contents: miss howard will have engineered her quarrel, and departed from the house'], ['Chapter: 13', 'Sentence: 95', 'Contents: on monday, therefore, at six o’clock, alfred inglethorp arranges to be seen by a number of people at a spot far removed from the village'], ['Chapter: 13', 'Sentence: 96', 'Contents: miss howard has previously made up a cock and bull story about him and mrs. raikes to account for his holding his tongue afterwards'], ['Chapter: 13', 'Sentence: 97', 'Contents: at six o’clock, miss howard, disguised as alfred inglethorp, enters the chemist’s shop, with her story about a dog, obtains the strychnine, and writes the name of alfred inglethorp in john’s handwriting, which she had previously studied carefully'], ['Chapter: 13', 'Sentence: 100', 'Contents: miss howard goes back to middlingham'], ['Chapter: 13', 'Sentence: 101', 'Contents: alfred inglethorp returns to styles'], ['Chapter: 13', 'Sentence: 102', 'Contents: there is nothing that can compromise him in any way, since it is miss howard who has the strychnine, which, after all, is only wanted as a blind to throw suspicion on john cavendish'], ['Chapter: 13', 'Sentence: 113', 'Contents: mrs. inglethorp reads it, and becomes aware of the perfidy of her husband and evelyn howard, though, unfortunately, the sentence about the bromides conveys no warning to her mind'], ['Chapter: 13', 'Sentence: 171', 'Contents: “but surely miss howard had ample opportunities of aiding him'], ['Chapter: 13', 'Sentence: 172', 'Contents: “yes, but miss howard did not know of the paper’s existence'], ['Chapter: 13', 'Sentence: 173', 'Contents: in accordance with their prearranged plan, she never spoke to alfred inglethorp'], ['Chapter: 13', 'Sentence: 175', 'Contents: of course i had a watch kept on mr. inglethorp, hoping that sooner or later he would lead me to the hiding-place'], ['Chapter: 13', 'Sentence: 179', 'Contents: “i understand that now; but when did you first begin to suspect miss howard'], ['Chapter: 13', 'Sentence: 189', 'Contents: “you do not see that that letter was not written on the 17th, but on the 7th—the day after miss howard’s departure'], ['Chapter: 13', 'Sentence: 193', 'Contents: why does miss howard suppress the letter written on the 17th, and produce this faked one instead'], ['Chapter: 13', 'Sentence: 198', 'Contents: “and yet,” i cried indignantly, “after that, you gave me two reasons why miss howard could not have committed the crime'], ['Chapter: 13', 'Sentence: 200', 'Contents: “for a long time they were a stumbling-block to me until i remembered a very significant fact: that she and alfred inglethorp were cousins']]\n",
            "[['Chapter: 1', 'Sentence: 83', 'Contents: mr. hastings—miss howard'], ['Chapter: 1', 'Sentence: 126', 'Contents: alfred, darling, mr. hastings—my husband'], ['Chapter: 1', 'Sentence: 145', 'Contents: presently mrs. inglethorp turned to give some instructions about letters to evelyn howard, and her husband addressed me in his painstaking voice: “is soldiering your regular profession, mr. hastings'], ['Chapter: 4', 'Sentence: 294', 'Contents: we passed through alfred inglethorp’s room, and poirot delayed long enough to make a brief but fairly comprehensive examination of it'], ['Chapter: 5', 'Sentence: 234', 'Contents: “suppose,” suggested poirot, “that, unknown to you, she had made a new will in favour of someone who was not, in any sense of the word, a member of the family—we will say miss howard, for instance—would you be surprised'], ['Chapter: 5', 'Sentence: 378', 'Contents: miss howard shook hands with poirot, but glanced suspiciously over her shoulder at john'], ['Chapter: 5', 'Sentence: 423', 'Contents: as she left the room, poirot came over from the window where he had been standing, and sat down facing miss howard'], ['Chapter: 5', 'Sentence: 439', 'Contents: “believe me, miss howard,” said poirot very earnestly, “if mr. inglethorp is the man, he shall not escape me'], ['Chapter: 7', 'Sentence: 277', 'Contents: “mr. inglethorp,” said poirot, addressing him directly, “a very dark shadow is resting on this house—the shadow of murder'], ['Chapter: 7', 'Sentence: 318', 'Contents: i, hercule poirot, affirm that the man who entered the chemist’s shop, and purchased strychnine at six o’clock on monday last was not mr. inglethorp, for at six o’clock on that day mr. inglethorp was escorting mrs. raikes back to her home from a neighbouring farm'], ['Chapter: 8', 'Sentence: 140', 'Contents: “in clearing alfred inglethorp,” continued poirot, “i have been obliged to show my hand sooner than i intended'], ['Chapter: 8', 'Sentence: 401', 'Contents: “here comes miss howard,” said poirot suddenly'], ['Chapter: 8', 'Sentence: 405', 'Contents: with a nod that was barely civil, miss howard assented to poirot’s request for a few minutes’ conversation'], ['Chapter: 8', 'Sentence: 407', 'Contents: “well, monsieur poirot,” said miss howard impatiently, “what is it'], ['Chapter: 8', 'Sentence: 502', 'Contents: “miss howard,” said poirot gravely, “this is unworthy of you'], ['Chapter: 9', 'Sentence: 296', 'Contents: then i remembered that enigmatical conversation between poirot and evelyn howard'], ['Chapter: 12', 'Sentence: 247', 'Contents: in the deathly silence, poirot pieced together the slips of paper and, clearing his throat, read: dearest evelyn:     ‘you will be anxious at hearing nothing'], ['Chapter: 12', 'Sentence: 263', 'Contents: “ messieurs, mesdames ,” said poirot, with a flourish, “let me introduce you to the murderer, mr. alfred inglethorp'], ['Chapter: 13', 'Sentence: 29', 'Contents: “then again,” continued poirot, “at the beginning, did i not repeat to you several times that i didn’t want mr. inglethorp arrested  now ']]\n",
            "[['Chapter: 3', 'Sentence: 48', 'Contents: mrs. inglethorp was lying on the bed, her whole form agitated by violent convulsions, in one of which she must have overturned the table beside her'], ['Chapter: 3', 'Sentence: 71', 'Contents: the convulsions were of a violence terrible to behold'], ['Chapter: 3', 'Sentence: 74', 'Contents: a final convulsion lifted her from the bed, until she appeared to rest upon her head and her heels, with her body arched in an extraordinary manner'], ['Chapter: 3', 'Sentence: 80', 'Contents: then she fell back motionless on the pillows'], ['Chapter: 3', 'Sentence: 102', 'Contents: “the convulsions were of a peculiar violence, dr. wilkins'], ['Chapter: 4', 'Sentence: 125', 'Contents: the present contention is that mrs. inglethorp died of strychnine poisoning, presumably administered in her coffee'], ['Chapter: 5', 'Sentence: 679', 'Contents: “because if mr. inglethorp knew that his wife would be poisoned last night, he would certainly have arranged to be away from the house'], ['Chapter: 6', 'Sentence: 45', 'Contents: shorn of its medical phraseology and technicalities, it amounted to the fact that mrs. inglethorp had met her death as the result of strychnine poisoning'], ['Chapter: 6', 'Sentence: 57', 'Contents: she was at that moment in a typical tetanic convulsion'], ['Chapter: 6', 'Sentence: 121', 'Contents: dorcas’s evidence on this point was substantially what poirot and i had already heard, so i will not repeat it here'], ['Chapter: 6', 'Sentence: 186', 'Contents: poirot and i had, of course already seen it'], ['Chapter: 7', 'Sentence: 112', 'Contents: here is a man, let us say, who sets out to poison his wife'], ['Chapter: 7', 'Sentence: 172', 'Contents: poirot spread out his hands apologetically'], ['Chapter: 7', 'Sentence: 187', 'Contents: “his suggestion that his mother might have been poisoned accidentally by means of the tonic she was taking, that did not strike you as strange—  hein'], ['Chapter: 7', 'Sentence: 290', 'Contents: “i mean,” said poirot deliberately, “that you are suspected of poisoning your wife'], ['Chapter: 7', 'Sentence: 294', 'Contents: i —poison my dearest emily'], ['Chapter: 8', 'Sentence: 105', 'Contents: so dr. bauerstein was here on tuesday night—the night of the murder'], ['Chapter: 8', 'Sentence: 163', 'Contents: can we say positively that she was away from styles on the night of the murder'], ['Chapter: 8', 'Sentence: 186', 'Contents: my idea was—a very ridiculous one, no doubt—that she had intended to poison him—and that, in some way, mrs. inglethorp got hold of it by mistake'], ['Chapter: 8', 'Sentence: 191', 'Contents: now, what reasons are there against miss howard’s having deliberately poisoned mrs. inglethorp'], ['Chapter: 8', 'Sentence: 197', 'Contents: if miss howard were capable of poisoning the old lady, she would be quite equally capable of simulating devotion'], ['Chapter: 8', 'Sentence: 420', 'Contents: do you still believe that mrs. inglethorp was poisoned by her husband'], ['Chapter: 8', 'Sentence: 433', 'Contents: did you ever in your heart of hearts believe that mrs. inglethorp was poisoned by her husband'], ['Chapter: 9', 'Sentence: 50', 'Contents: poirot had been asked by john to remain to lunch, and was already seated at the table'], ['Chapter: 10', 'Sentence: 75', 'Contents: “not for poisoning mrs. inglethorp'], ['Chapter: 11', 'Sentence: 91', 'Contents: it was neither more nor less than the deliberate poisoning of a fond and trusting woman by the stepson to whom she had been more than a mother'], ['Chapter: 12', 'Sentence: 164', 'Contents: imagine her feelings when her mother-in-law is suddenly taken ill and dies, and immediately after she hears the word ‘poison’'], ['Chapter: 12', 'Sentence: 207', 'Contents: the strychnine that killed mrs. inglethorp was the identical strychnine prescribed by dr. wilkins'], ['Chapter: 12', 'Sentence: 236', 'Contents: a lady in england lost her life by taking a similar mixture: the precipitated strychnine collected at the bottom, and in taking the last dose she swallowed nearly all of it'], ['Chapter: 12', 'Sentence: 247', 'Contents: in the deathly silence, poirot pieced together the slips of paper and, clearing his throat, read: dearest evelyn:     ‘you will be anxious at hearing nothing'], ['Chapter: 12', 'Sentence: 263', 'Contents: “ messieurs, mesdames ,” said poirot, with a flourish, “let me introduce you to the murderer, mr. alfred inglethorp'], ['Chapter: 13', 'Sentence: 76', 'Contents: i am inclined to think that miss howard was the master mind in that affair'], ['Chapter: 13', 'Sentence: 235', 'Contents: it was because, whilst his mother lay there, obviously poisoned, he saw, over your shoulder, that the door into mademoiselle cynthia’s room was unbolted'], ['Chapter: 13', 'Sentence: 258', 'Contents: when he entered his mother’s room, and saw her obviously poisoned, he jumped to the conclusion that mademoiselle cynthia knew something about the matter']]\n",
            "[['Chapter: 1', 'Sentence: 6', 'Contents: having no near relations or friends, i was trying to make up my mind what to do, when i ran across john cavendish'], ['Chapter: 1', 'Sentence: 18', 'Contents: mrs. cavendish, who had married john’s father when he was a widower with two sons, had been a handsome woman of middle-age as i remembered her'], ['Chapter: 1', 'Sentence: 27', 'Contents: john practised for some time as a barrister, but had finally settled down to the more congenial life of a country squire'], ['Chapter: 1', 'Sentence: 30', 'Contents: john noticed my surprise at the news of his mother’s remarriage and smiled rather ruefully'], ['Chapter: 1', 'Sentence: 56', 'Contents: john cavendish was waiting on the platform, and piloted me out to the car'], ['Chapter: 1', 'Sentence: 64', 'Contents: as we turned in at the lodge gates, john said: “i’m afraid you’ll find it very quiet down here, hastings'], ['Chapter: 1', 'Sentence: 96', 'Contents: “you’re a cynic, evie,” said john, laughing'], ['Chapter: 1', 'Sentence: 106', 'Contents: “my wife, hastings,” said john'], ['Chapter: 1', 'Sentence: 110', 'Contents: she greeted me with a few words of pleasant welcome in a low clear voice, and i sank into a basket chair feeling distinctly glad that i had accepted john’s invitation'], ['Chapter: 1', 'Sentence: 113', 'Contents: john, of course, good fellow though he is, could hardly be called a brilliant conversationalist'], ['Chapter: 1', 'Sentence: 129', 'Contents: i did not wonder at john objecting to his beard'], ['Chapter: 1', 'Sentence: 200', 'Contents: she flung herself down on the ground beside john, and as i handed her a plate of sandwiches she smiled up at me'], ['Chapter: 1', 'Sentence: 225', 'Contents: “john will show you your room'], ['Chapter: 1', 'Sentence: 231', 'Contents: i expressed my appreciation, and john took me into the house and up the broad staircase, which forked right and left half-way to different wings of the building'], ['Chapter: 1', 'Sentence: 233', 'Contents: john left me, and a few minutes later i saw him from my window walking slowly across the grass arm in arm with cynthia murdoch'], ['Chapter: 1', 'Sentence: 239', 'Contents: it was john’s younger brother, lawrence cavendish'], ['Chapter: 1', 'Sentence: 245', 'Contents: as we entered the large hall, john beckoned us both into the smoking-room'], ['Chapter: 1', 'Sentence: 252', 'Contents: john nodded gloomily'], ['Chapter: 1', 'Sentence: 285', 'Contents: finally john cavendish, finding his persuasions of no avail, went off to look up the trains'], ['Chapter: 1', 'Sentence: 307', 'Contents: john’s voice sounded outside'], ['Chapter: 1', 'Sentence: 317', 'Contents: “that’s dr. bauerstein,” said john shortly'], ['Chapter: 1', 'Sentence: 322', 'Contents: john cavendish frowned and changed the subject'], ['Chapter: 1', 'Sentence: 329', 'Contents: john’s face hardened'], ['Chapter: 1', 'Sentence: 332', 'Contents: “exactly,” said john, with rather unnecessary abruptness'], ['Chapter: 1', 'Sentence: 335', 'Contents: “styles is really a glorious old place,” i said to john'], ['Chapter: 2', 'Sentence: 14', 'Contents: i noticed that john’s manner was somewhat unusual'], ['Chapter: 2', 'Sentence: 73', 'Contents: compared to john, he was an astoundingly difficult person to get to know'], ['Chapter: 2', 'Sentence: 157', 'Contents: i was anxious to get hold of john, but he was nowhere to be seen'], ['Chapter: 2', 'Sentence: 195', 'Contents: “well, bauerstein, you are in a plight,” said john, strolling in from the hall'], ['Chapter: 2', 'Sentence: 204', 'Contents: i had risen when cynthia did, john was close by me'], ['Chapter: 2', 'Sentence: 211', 'Contents: he turned to john'], ['Chapter: 3', 'Sentence: 12', 'Contents: john cavendish joined us, and one or two of the servants were standing round in a state of awe-stricken excitement'], ['Chapter: 3', 'Sentence: 16', 'Contents: john rattled the handle of mrs. inglethorp’s door violently, but with no effect'], ['Chapter: 3', 'Sentence: 24', 'Contents: john opened the door of his room'], ['Chapter: 3', 'Sentence: 50', 'Contents: john strode across the room, and lit the gas'], ['Chapter: 3', 'Sentence: 75', 'Contents: in vain mary and john tried to administer more brandy'], ['Chapter: 3', 'Sentence: 107', 'Contents: he turned to john'], ['Chapter: 3', 'Sentence: 137', 'Contents: john and lawrence were in the dining-room'], ['Chapter: 3', 'Sentence: 140', 'Contents: john shook his head'], ['Chapter: 3', 'Sentence: 152', 'Contents: he addressed himself to john: “mr. cavendish, i should like your consent to a post-mortem'], ['Chapter: 3', 'Sentence: 153', 'Contents: “is that necessary?” asked john gravely'], ['Chapter: 3', 'Sentence: 158', 'Contents: john bent his head'], ['Chapter: 3', 'Sentence: 164', 'Contents: there was a pause, and then dr. bauerstein drew two keys from his pocket, and handed them to john'], ['Chapter: 3', 'Sentence: 170', 'Contents: john, i knew, had a horror of any kind of publicity, and was an easygoing optimist, who preferred never to meet trouble half-way'], ['Chapter: 3', 'Sentence: 174', 'Contents: “john,” i said, “i am going to ask you something'], ['Chapter: 3', 'Sentence: 191', 'Contents: john hesitated'], ['Chapter: 4', 'Sentence: 139', 'Contents: as we neared the house, john came out and met us'], ['Chapter: 4', 'Sentence: 148', 'Contents: john turned to me, taking out his cigarette-case, and lighting a cigarette as he did so'], ['Chapter: 4', 'Sentence: 152', 'Contents: john flung the match into an adjacent flower bed, a proceeding which was too much for poirot’s feelings'], ['Chapter: 4', 'Sentence: 156', 'Contents: john looked puzzled, not quite understanding the portent of this cryptic saying'], ['Chapter: 4', 'Sentence: 330', 'Contents: i put them to you with mr. cavendish’s full approval'], ['Chapter: 5', 'Sentence: 36', 'Contents: “john cavendish’s'], ['Chapter: 5', 'Sentence: 56', 'Contents: “breakfast is ready,” said john cavendish, coming in from the hall'], ['Chapter: 5', 'Sentence: 59', 'Contents: i observed john'], ['Chapter: 5', 'Sentence: 63', 'Contents: ever since the early hours of the morning, john had been hard at work, sending telegrams—one of the first had gone to evelyn howard—writing notices for the papers, and generally occupying himself with the melancholy duties that a death entails'], ['Chapter: 5', 'Sentence: 66', 'Contents: “i think, mr. cavendish,” said poirot gravely, “that you would do well not to buoy yourself up with any false hopes'], ['Chapter: 5', 'Sentence: 73', 'Contents: a faint cloud passed over john’s face'], ['Chapter: 5', 'Sentence: 76', 'Contents: john broke the rather awkward silence by saying with a slight effort: “i told you, didn’t i, that mr. inglethorp has returned'], ['Chapter: 5', 'Sentence: 82', 'Contents: it is a very difficult situation for you, mr. cavendish'], ['Chapter: 5', 'Sentence: 93', 'Contents: “no, no, mr. cavendish, it is too late now'], ['Chapter: 5', 'Sentence: 100', 'Contents: john looked perplexed'], ['Chapter: 5', 'Sentence: 140', 'Contents: “mr. wells to see you, sir,” she said to john'], ['Chapter: 5', 'Sentence: 142', 'Contents: john rose immediately'], ['Chapter: 5', 'Sentence: 149', 'Contents: john strode on ahead and i took the opportunity of whispering to poirot: “there will be an inquest then'], ['Chapter: 5', 'Sentence: 167', 'Contents: we followed john into his study, and he closed the door behind us'], ['Chapter: 5', 'Sentence: 169', 'Contents: john introduced us both, and explained the reason of our presence'], ['Chapter: 5', 'Sentence: 177', 'Contents: “indeed,” said john with a certain stiffness in his manner'], ['Chapter: 5', 'Sentence: 182', 'Contents: a faint expression of relief swept over john’s face'], ['Chapter: 5', 'Sentence: 199', 'Contents: “that is a pity,” said john'], ['Chapter: 5', 'Sentence: 206', 'Contents: the lawyer hesitated a moment, and then replied: “the knowledge will be public property very soon, so if mr. cavendish does not object—'], ['Chapter: 5', 'Sentence: 207', 'Contents: “not at all,” interpolated john'], ['Chapter: 5', 'Sentence: 210', 'Contents: , she gave her entire fortune to her stepson, mr. john cavendish'], ['Chapter: 5', 'Sentence: 211', 'Contents: “was not that—pardon the question, mr. cavendish—rather unfair to her other stepson, mr. lawrence cavendish'], ['Chapter: 5', 'Sentence: 213', 'Contents: you see, under the terms of their father’s will, while john inherited the property, lawrence, at his stepmother’s death, would come into a considerable sum of money'], ['Chapter: 5', 'Sentence: 226', 'Contents: “she was,” said john unexpectedly'], ['Chapter: 5', 'Sentence: 238', 'Contents: i drew close to him, while john and the lawyer were debating the question of going through mrs. inglethorp’s papers'], ['Chapter: 5', 'Sentence: 245', 'Contents: john cavendish had turned to poirot'], ['Chapter: 5', 'Sentence: 252', 'Contents: “we will look through the desk in the boudoir first,” explained john, “and go up to her bedroom afterwards'], ['Chapter: 5', 'Sentence: 258', 'Contents: john and the lawyer looked at him startled'], ['Chapter: 5', 'Sentence: 272', 'Contents: poirot turned to john'], ['Chapter: 5', 'Sentence: 287', 'Contents: john looked questioningly at poirot'], ['Chapter: 5', 'Sentence: 289', 'Contents: “come inside, manning,” said john, “i want to speak to you'], ['Chapter: 5', 'Sentence: 293', 'Contents: “manning,” said john, “this gentleman will put some questions to you which i want you to answer'], ['Chapter: 5', 'Sentence: 327', 'Contents: “good heavens!” murmured john'], ['Chapter: 5', 'Sentence: 334', 'Contents: “what do you mean?” cried john again'], ['Chapter: 5', 'Sentence: 343', 'Contents: “suggestive, or not,” interrupted john, “we are most grateful to monsieur poirot for elucidating the matter'], ['Chapter: 5', 'Sentence: 347', 'Contents: john, i think, would have pressed his questions further, but at that moment the loud purr of a motor was audible, and we all turned to the window as it swept past'], ['Chapter: 5', 'Sentence: 348', 'Contents: “evie!” cried john'], ['Chapter: 5', 'Sentence: 356', 'Contents: i followed john’s example, and went out into the hall, where miss howard was endeavouring to extricate herself from the voluminous mass of veils that enveloped her head'], ['Chapter: 5', 'Sentence: 369', 'Contents: “have you had anything to eat this morning, evie?” asked john'], ['Chapter: 5', 'Sentence: 378', 'Contents: miss howard shook hands with poirot, but glanced suspiciously over her shoulder at john'], ['Chapter: 5', 'Sentence: 398', 'Contents: john cavendish looked at her helplessly'], ['Chapter: 5', 'Sentence: 411', 'Contents: you ought to be ashamed of yourself, john cavendish'], ['Chapter: 5', 'Sentence: 412', 'Contents: “what do you want me to do?” asked john, unable to help a faint smile'], ['Chapter: 5', 'Sentence: 419', 'Contents: it occurred to me very forcibly at that moment that to harbour miss howard and alfred inglethorp under the same roof, and keep the peace between them, was likely to prove a herculean task, and i did not envy john'], ['Chapter: 5', 'Sentence: 470', 'Contents: john stuck his head in at this juncture, and invited us both to come up to mrs. inglethorp’s room, as he and mr. wells had finished looking through the desk in the boudoir'], ['Chapter: 5', 'Sentence: 471', 'Contents: as we went up the stairs, john looked back to the dining-room door, and lowered his voice confidentially: “look here, what’s going to happen when these two meet'], ['Chapter: 5', 'Sentence: 479', 'Contents: taking the keys from poirot, john unlocked it, and we all passed in'], ['Chapter: 5', 'Sentence: 480', 'Contents: the lawyer went straight to the desk, and john followed him'], ['Chapter: 5', 'Sentence: 488', 'Contents: and john lifted the lid as he spoke'], ['Chapter: 5', 'Sentence: 554', 'Contents: “john doesn’t think so,” i remarked'], ['Chapter: 5', 'Sentence: 556', 'Contents: “oh, john'], ['Chapter: 5', 'Sentence: 557', 'Contents: something in her tone fired me, and i blurted out: “old john’s an awfully good sort'], ['Chapter: 5', 'Sentence: 627', 'Contents: it came quite as a surprise to wells—and to john cavendish also'], ['Chapter: 6', 'Sentence: 40', 'Contents: the jury viewed the body, and john cavendish gave evidence of identification'], ['Chapter: 6', 'Sentence: 89', 'Contents: he glanced deprecatingly at the coroner, who replied briskly: “certainly, mr. cavendish, we are here to arrive at the truth of this matter, and welcome anything that may lead to further elucidation'], ['Chapter: 6', 'Sentence: 92', 'Contents: “how do you make that out, mr. cavendish'], ['Chapter: 6', 'Sentence: 99', 'Contents: we are much obliged to you, mr. cavendish'], ['Chapter: 6', 'Sentence: 101', 'Contents: “what mr. cavendish suggests is quite impossible'], ['Chapter: 7', 'Sentence: 140', 'Contents: now suppose anyone wished to pass himself off as john or lawrence cavendish'], ['Chapter: 7', 'Sentence: 200', 'Contents: if it had been monsieur john, i could have understood it'], ['Chapter: 7', 'Sentence: 236', 'Contents: but there’s john—and miss howard, surely they were speaking the truth'], ['Chapter: 7', 'Sentence: 256', 'Contents: i think the appearance of the two scotland yard men was rather a shock—especially to john, though of course after the verdict, he had realized that it was only a matter of time'], ['Chapter: 8', 'Sentence: 30', 'Contents: “now, sir,” said japp, turning briskly to john, “i should like to see the lady’s bedroom, please, and after that i’ll have a little chat with the servants'], ['Chapter: 8', 'Sentence: 114', 'Contents: where is mr. cavendish'], ['Chapter: 8', 'Sentence: 115', 'Contents: john was in the smoking-room'], ['Chapter: 8', 'Sentence: 117', 'Contents: “mr. cavendish, i have some important business in tadminster'], ['Chapter: 8', 'Sentence: 123', 'Contents: john rang the bell, and ordered round the car'], ['Chapter: 8', 'Sentence: 227', 'Contents: when i cited her and john cavendish as being above suspicion'], ['Chapter: 8', 'Sentence: 267', 'Contents: the funeral of mrs. inglethorp took place the following day, and on monday, as i came down to a late breakfast, john drew me aside, and informed me that mr. inglethorp was leaving that morning, to take up his quarters at the stylites arms until he should have completed his plans'], ['Chapter: 8', 'Sentence: 284', 'Contents: still, the johnnies will wait now'], ['Chapter: 8', 'Sentence: 309', 'Contents: but since then i’ve remembered what the young gentlemen”—john and lawrence were still the “young gentlemen” to dorcas—“call the ‘dressing-up box'], ['Chapter: 8', 'Sentence: 398', 'Contents: how about john'], ['Chapter: 9', 'Sentence: 50', 'Contents: poirot had been asked by john to remain to lunch, and was already seated at the table'], ['Chapter: 9', 'Sentence: 148', 'Contents: but it was absurd of john to make such a fuss about it, and to go shouting out: “i tell you i won’t have it'], ['Chapter: 9', 'Sentence: 151', 'Contents: for, about twelve feet away from me, john and mary cavendish were standing facing each other, and they were evidently quarrelling'], ['Chapter: 9', 'Sentence: 152', 'Contents: and, quite as evidently, they were unaware of my vicinity, for before i could move or speak john repeated the words which had aroused me from my dream'], ['Chapter: 9', 'Sentence: 164', 'Contents: i did not wonder that the blood rose to john’s face in a crimson tide'], ['Chapter: 9', 'Sentence: 174', 'Contents: john fell back a pace'], ['Chapter: 9', 'Sentence: 179', 'Contents: john glanced at her pleadingly, a stricken look on his face'], ['Chapter: 9', 'Sentence: 187', 'Contents: she was walking away when john sprang after her, and caught her by the arm'], ['Chapter: 9', 'Sentence: 192', 'Contents: “perhaps,” she said; and then swiftly passed out of the little glade, leaving john standing there as though he had been turned to stone'], ['Chapter: 9', 'Sentence: 194', 'Contents: john turned'], ['Chapter: 9', 'Sentence: 213', 'Contents: “cheer up, john'], ['Chapter: 9', 'Sentence: 222', 'Contents: john lowered his voice: “have you ever thought, hastings—it’s a nightmare to me—who did it'], ['Chapter: 9', 'Sentence: 233', 'Contents: “no, john,” i said, “it isn’t one of us'], ['Chapter: 9', 'Sentence: 253', 'Contents: “h’m,” said john'], ['Chapter: 9', 'Sentence: 263', 'Contents: john interrupted just as i had done'], ['Chapter: 9', 'Sentence: 281', 'Contents: “h’m, yes, that might be,” said john'], ['Chapter: 9', 'Sentence: 286', 'Contents: i hoped and prayed it would not occur to john also'], ['Chapter: 9', 'Sentence: 304', 'Contents: “there’s another thing,” said john suddenly, and the unexpected sound of his voice made me start guiltily'], ['Chapter: 9', 'Sentence: 317', 'Contents: “yes, that’s possible,” admitted john'], ['Chapter: 9', 'Sentence: 342', 'Contents: mrs. inglethorp had made no provisions of any kind for her, but i imagined that john and mary would probably insist on her making her home with them—at any rate until the end of the war'], ['Chapter: 9', 'Sentence: 343', 'Contents: john, i knew, was very fond of her, and would be sorry to let her go'], ['Chapter: 9', 'Sentence: 344', 'Contents: john, who had gone into the house, now reappeared'], ['Chapter: 9', 'Sentence: 384', 'Contents: “on the contrary, john is very fond of you'], ['Chapter: 9', 'Sentence: 385', 'Contents: “oh, yes— john '], ['Chapter: 9', 'Sentence: 391', 'Contents: look, there is john—and miss howard—'], ['Chapter: 9', 'Sentence: 393', 'Contents: “yes, john likes me, i think, and of course evie, for all her gruff ways, wouldn’t be unkind to a fly'], ['Chapter: 10', 'Sentence: 24', 'Contents: after some reflecting, i decided to take john into my confidence, and leave him to make the matter public or not, as he thought fit'], ['Chapter: 10', 'Sentence: 32', 'Contents: john reflected'], ['Chapter: 10', 'Sentence: 43', 'Contents: listen, i have said nothing to anybody but john'], ['Chapter: 10', 'Sentence: 193', 'Contents: “where i come from, who i was before i married john—anything, in fact'], ['Chapter: 10', 'Sentence: 221', 'Contents: she paused a minute, and added in a different tone: “and then i met john cavendish'], ['Chapter: 10', 'Sentence: 240', 'Contents: “you and john are not going to live here'], ['Chapter: 10', 'Sentence: 241', 'Contents: “john may live here, but i shall not'], ['Chapter: 10', 'Sentence: 254', 'Contents: “john was so kind as to break that to me this morning'], ['Chapter: 10', 'Sentence: 260', 'Contents: apparently he is a german spy; so the gardener had told john'], ['Chapter: 10', 'Sentence: 470', 'Contents: they’ve arrested him—they’ve arrested mr. cavendish'], ['Chapter: 10', 'Sentence: 475', 'Contents: not mr. lawrence—mr. john'], ['Chapter: 11', 'Sentence: 1', 'Contents:  the trial of john cavendish for the murder of his stepmother took place two months later'], ['Chapter: 11', 'Sentence: 20', 'Contents: “but john'], ['Chapter: 11', 'Sentence: 21', 'Contents: my old friend john'], ['Chapter: 11', 'Sentence: 26', 'Contents: i was rather disconcerted by this, remembering how i had busily passed on to john what i believed to be poirot’s views concerning bauerstein'], ['Chapter: 11', 'Sentence: 29', 'Contents: i asked poirot whether he thought john would be condemned'], ['Chapter: 11', 'Sentence: 40', 'Contents: “when did you first suspect john cavendish'], ['Chapter: 11', 'Sentence: 46', 'Contents: “did you not put two and two together, and reflect that if it was not alfred inglethorp who was quarrelling with his wife—and you remember, he strenuously denied it at the inquest—it must be either lawrence or john'], ['Chapter: 11', 'Sentence: 48', 'Contents: but if, on the other hand, it was john, the whole thing was explained quite naturally'], ['Chapter: 11', 'Sentence: 49', 'Contents: “so,” i cried, a light breaking in upon me, “it was john who quarrelled with his mother that afternoon'], ['Chapter: 11', 'Sentence: 77', 'Contents: john cavendish did not destroy that will'], ['Chapter: 11', 'Sentence: 80', 'Contents: i will merely state baldly that john cavendish reserved his defence, and was duly committed for trial'], ['Chapter: 11', 'Sentence: 86', 'Contents: privately, i hoped it might remain so, for what happiness could there be for mary, if john were not acquitted'], ['Chapter: 11', 'Sentence: 87', 'Contents: on september 15th john cavendish appeared in the dock at the old bailey, charged with “the wilful murder of emily agnes inglethorp,” and pleaded “not guilty'], ['Chapter: 11', 'Sentence: 126', 'Contents: dorcas, faithful to her “young gentlemen,” denied strenuously that it could have been john’s voice she heard, and resolutely declared, in the teeth of everything, that it was mr. inglethorp who had been in the boudoir with her mistress'], ['Chapter: 11', 'Sentence: 190', 'Contents: hearing a slight noise in the west wing, she had peeped along the passage, and had seen mr. john cavendish knocking at mrs. inglethorp’s door'], ['Chapter: 11', 'Sentence: 195', 'Contents: what a net he has drawn around my poor john'], ['Chapter: 11', 'Sentence: 206', 'Contents: he is endeavouring to make out that there is quite as much evidence against lawrence as against john—and i am not at all sure that he will not succeed'], ['Chapter: 11', 'Sentence: 285', 'Contents: “be careful, mr. cavendish'], ['Chapter: 11', 'Sentence: 308', 'Contents: with a satisfied and expressive countenance, sir ernest observed: “i have nothing more to ask you, mr. cavendish'], ['Chapter: 11', 'Sentence: 336', 'Contents: finally, he would point out to the jury that there was evidence against other people besides john cavendish'], ['Chapter: 11', 'Sentence: 339', 'Contents: john acquitted himself well in the witness-box'], ['Chapter: 11', 'Sentence: 346', 'Contents: sir ernest merely smiled, and noted with a sharp eye that john’s protest had produced a very favourable impression on the jury'], ['Chapter: 11', 'Sentence: 381', 'Contents: evidently there was a likelihood of john cavendish being acquitted'], ['Chapter: 12', 'Sentence: 28', 'Contents: “ messieurs, mesdames , as you all know, i was called in by monsieur john cavendish to investigate this case'], ['Chapter: 12', 'Sentence: 99', 'Contents: i conjectured, and conjectured rightly, that these words were addressed, not to her husband, but to mr. john cavendish'], ['Chapter: 13', 'Sentence: 5', 'Contents: in the room below, john and mary were together once more, while alfred inglethorp and miss howard were in custody'], ['Chapter: 13', 'Sentence: 23', 'Contents: think now, did i ever say to you that i believed john cavendish guilty'], ['Chapter: 13', 'Sentence: 43', 'Contents: then, when i discovered that inglethorp had nothing to do with mrs. raikes and that in fact it was john cavendish who was interested in that quarter, i was quite sure'], ['Chapter: 13', 'Sentence: 47', 'Contents: but, when i discovered that it was known all over the village that it was john who was attracted by the farmer’s pretty wife, his silence bore quite a different interpretation'], ['Chapter: 13', 'Sentence: 93', 'Contents: “they arranged a plan to throw suspicion on john cavendish, by buying strychnine at the village chemist’s, and signing the register in his hand-writing'], ['Chapter: 13', 'Sentence: 97', 'Contents: at six o’clock, miss howard, disguised as alfred inglethorp, enters the chemist’s shop, with her story about a dog, obtains the strychnine, and writes the name of alfred inglethorp in john’s handwriting, which she had previously studied carefully'], ['Chapter: 13', 'Sentence: 98', 'Contents: “but, as it will never do if john, too, can prove an alibi, she writes him an anonymous note—still copying his hand-writing—which takes him to a remote spot where it is exceedingly unlikely that anyone will see him'], ['Chapter: 13', 'Sentence: 102', 'Contents: there is nothing that can compromise him in any way, since it is miss howard who has the strychnine, which, after all, is only wanted as a blind to throw suspicion on john cavendish'], ['Chapter: 13', 'Sentence: 134', 'Contents: probably, at this minute, too, he hears the sounds below of mr. wells and john leaving the boudoir'], ['Chapter: 13', 'Sentence: 174', 'Contents: they were supposed to be deadly enemies, and until john cavendish was safely convicted they neither of them dared risk a meeting'], ['Chapter: 13', 'Sentence: 212', 'Contents: she hides the strychnine and glasses in john’s room'], ['Chapter: 13', 'Sentence: 215', 'Contents: “i don’t quite see why they tried to fix the blame on john,” i remarked'], ['Chapter: 13', 'Sentence: 257', 'Contents: he had taken it into his long head that mademoiselle cynthia was in love with monsieur john'], ['Chapter: 13', 'Sentence: 271', 'Contents: even john and his wife are reconciled'], ['Chapter: 13', 'Sentence: 275', 'Contents: that john cavendish still loved his wife, i was convinced'], ['Chapter: 13', 'Sentence: 285', 'Contents: do you remember the day of john cavendish’s arrest, when you found me deliberating over a big decision'], ['Chapter: 13', 'Sentence: 288', 'Contents: i was trying to decide whether or not i would clear john cavendish at once'], ['Chapter: 13', 'Sentence: 291', 'Contents: “do you mean that you could have saved john cavendish from being brought to trial'], ['Chapter: 13', 'Sentence: 309', 'Contents: he had stood aside, and as i went out i had seen the look in mary’s eyes, as john cavendish had caught his wife in his arms']]\n",
            "[['Chapter: 1', 'Sentence: 33', 'Contents: as for evie—you remember evie'], ['Chapter: 1', 'Sentence: 37', 'Contents: a great sport—old evie'], ['Chapter: 1', 'Sentence: 41', 'Contents: he turned up from nowhere, on the pretext of being a second cousin or something of evie’s, though she didn’t seem particularly keen to acknowledge the relationship'], ['Chapter: 1', 'Sentence: 48', 'Contents: but you could have knocked us all down with a feather when, three months ago, she suddenly announced that she and alfred were engaged'], ['Chapter: 1', 'Sentence: 70', 'Contents: it’s a jolly good life taking it all round—if it weren’t for that fellow alfred inglethorp'], ['Chapter: 1', 'Sentence: 82', 'Contents: “hullo, evie, here’s our wounded hero'], ['Chapter: 1', 'Sentence: 83', 'Contents: mr. hastings—miss howard'], ['Chapter: 1', 'Sentence: 84', 'Contents: miss howard shook hands with a hearty, almost painful, grip'], ['Chapter: 1', 'Sentence: 96', 'Contents: “you’re a cynic, evie,” said john, laughing'], ['Chapter: 1', 'Sentence: 103', 'Contents: “well,” said miss howard, drawing off her gardening gloves, “i’m inclined to agree with you'], ['Chapter: 1', 'Sentence: 114', 'Contents: at that moment a well remembered voice floated through the open french window near at hand: “then you’ll write to the princess after tea, alfred'], ['Chapter: 1', 'Sentence: 121', 'Contents: you are so thoughtful, alfred dear'], ['Chapter: 1', 'Sentence: 126', 'Contents: alfred, darling, mr. hastings—my husband'], ['Chapter: 1', 'Sentence: 127', 'Contents: i looked with some curiosity at “alfred darling”'], ['Chapter: 1', 'Sentence: 138', 'Contents: with the presence of mr. inglethorp, a sense of constraint and veiled hostility seemed to settle down upon the company'], ['Chapter: 1', 'Sentence: 139', 'Contents: miss howard, in particular, took no pains to conceal her feelings'], ['Chapter: 1', 'Sentence: 145', 'Contents: presently mrs. inglethorp turned to give some instructions about letters to evelyn howard, and her husband addressed me in his painstaking voice: “is soldiering your regular profession, mr. hastings'], ['Chapter: 1', 'Sentence: 169', 'Contents: “like a good detective story myself,” remarked miss howard'], ['Chapter: 1', 'Sentence: 249', 'Contents: evie’s had a row with alfred inglethorp, and she’s off'], ['Chapter: 1', 'Sentence: 250', 'Contents: “evie'], ['Chapter: 1', 'Sentence: 253', 'Contents: “yes; you see she went to the mater, and—oh,—here’s evie herself'], ['Chapter: 1', 'Sentence: 254', 'Contents: miss howard entered'], ['Chapter: 1', 'Sentence: 258', 'Contents: “my dear evelyn,” cried mrs. cavendish, “this can’t be true'], ['Chapter: 1', 'Sentence: 259', 'Contents: miss howard nodded grimly'], ['Chapter: 1', 'Sentence: 269', 'Contents: just ask your alfred how much time he spends over there'], ['Chapter: 1', 'Sentence: 278', 'Contents: miss howard made an extremely expressive grimace'], ['Chapter: 1', 'Sentence: 279', 'Contents: “‘darling alfred’—‘dearest alfred’—‘wicked calumnies’ —‘wicked lies’—‘wicked woman’—to accuse her ‘dear husband'], ['Chapter: 1', 'Sentence: 287', 'Contents: as she left the room, miss howard’s face changed'], ['Chapter: 1', 'Sentence: 300', 'Contents: “of course, miss howard,” i said, “i’ll do everything i can, but i’m sure you’re excited and overwrought'], ['Chapter: 1', 'Sentence: 306', 'Contents: the throb of the motor came through the open window, and miss howard rose and moved to the door'], ['Chapter: 1', 'Sentence: 311', 'Contents: miss howard was swallowed up in an eager chorus of protests and good-byes'], ['Chapter: 1', 'Sentence: 325', 'Contents: she always had a rough tongue, but there is no stauncher friend in england than evelyn howard'], ['Chapter: 1', 'Sentence: 331', 'Contents: “the one that miss howard—'], ['Chapter: 1', 'Sentence: 350', 'Contents: for the first time i felt that, with evelyn howard, something indefinable had gone from the atmosphere'], ['Chapter: 2', 'Sentence: 5', 'Contents: i received a letter from evelyn howard a couple of days after her departure, telling me she was working as a nurse at the big hospital in middlingham, a manufacturing town some fifteen miles away, and begging me to let her know if mrs. inglethorp should show any wish to be reconciled'], ['Chapter: 2', 'Sentence: 156', 'Contents: i thought of mrs. raikes’s gipsy face, and evelyn howard’s warnings, but wisely decided to hold my peace, whilst cynthia exhausted every possible hypothesis, and cheerfully hoped, “aunt emily will send him away, and will never speak to him again'], ['Chapter: 2', 'Sentence: 161', 'Contents: mr. inglethorp was in the drawing-room when i came down to supper'], ['Chapter: 2', 'Sentence: 190', 'Contents: in a few moments, alfred inglethorp had ushered the doctor in, the latter laughing, and protesting that he was in no fit state for a drawing-room'], ['Chapter: 2', 'Sentence: 194', 'Contents: “i did not really mean to come in, but mr. inglethorp insisted'], ['Chapter: 2', 'Sentence: 209', 'Contents: “i’ll walk down to the village with you,” said mr. inglethorp'], ['Chapter: 3', 'Sentence: 21', 'Contents: “try going through mr. inglethorp’s room, sir,” cried dorcas'], ['Chapter: 3', 'Sentence: 23', 'Contents: suddenly i realized that alfred inglethorp was not with us—that he alone had given no sign of his presence'], ['Chapter: 3', 'Sentence: 79', 'Contents: for one instant he stopped dead, staring at the figure on the bed, and, at the same instant, mrs. inglethorp cried out in a strangled voice, her eyes fixed on the doctor: “alfred—alfred—'], ['Chapter: 3', 'Sentence: 139', 'Contents: we were all silent, but i suppose i voiced the thoughts of us all when i at last broke it by saying: “where is mr. inglethorp'], ['Chapter: 3', 'Sentence: 143', 'Contents: where  was  alfred inglethorp'], ['Chapter: 4', 'Sentence: 5', 'Contents: it was mr. inglethorp'], ['Chapter: 4', 'Sentence: 36', 'Contents: i told him of my awakening, of mrs. inglethorp’s dying words, of her husband’s absence, of the quarrel the day before, of the scrap of conversation between mary and her mother-in-law that i had overheard, of the former quarrel between mrs. inglethorp and evelyn howard, and of the latter’s innuendoes'], ['Chapter: 4', 'Sentence: 294', 'Contents: we passed through alfred inglethorp’s room, and poirot delayed long enough to make a brief but fairly comprehensive examination of it'], ['Chapter: 4', 'Sentence: 356', 'Contents: i didn’t hear what mr. inglethorp replied'], ['Chapter: 4', 'Sentence: 367', 'Contents: “you are sure it was mr. inglethorp’s voice you heard'], ['Chapter: 4', 'Sentence: 495', 'Contents: one was to miss howard, and one was to mr. wells, the lawyer, and the other two i don’t think i remember, sir—oh, yes, one was to ross’s, the caterers in tadminster'], ['Chapter: 4', 'Sentence: 550', 'Contents: “and the door into mr. inglethorp’s room'], ['Chapter: 4', 'Sentence: 600', 'Contents: “mr. inglethorp’s'], ['Chapter: 4', 'Sentence: 609', 'Contents: to my surprise, he did not examine them, merely remarking approvingly as he relocked the desk: “decidedly, he is a man of method, this mr. inglethorp'], ['Chapter: 5', 'Sentence: 39', 'Contents: one, two, three, four, five—but where, then, is the cup of mr. inglethorp'], ['Chapter: 5', 'Sentence: 63', 'Contents: ever since the early hours of the morning, john had been hard at work, sending telegrams—one of the first had gone to evelyn howard—writing notices for the papers, and generally occupying himself with the melancholy duties that a death entails'], ['Chapter: 5', 'Sentence: 76', 'Contents: john broke the rather awkward silence by saying with a slight effort: “i told you, didn’t i, that mr. inglethorp has returned'], ['Chapter: 5', 'Sentence: 84', 'Contents: mr. inglethorp’s reason for not returning last night was, i believe, that he had forgotten the latch-key'], ['Chapter: 5', 'Sentence: 95', 'Contents: if mr. inglethorp did take it, he has had ample time to replace it by now'], ['Chapter: 5', 'Sentence: 110', 'Contents: i pass over alfred inglethorp, who acted the bereaved widower in a manner that i felt to be disgusting in its hypocrisy'], ['Chapter: 5', 'Sentence: 234', 'Contents: “suppose,” suggested poirot, “that, unknown to you, she had made a new will in favour of someone who was not, in any sense of the word, a member of the family—we will say miss howard, for instance—would you be surprised'], ['Chapter: 5', 'Sentence: 239', 'Contents: “do you think mrs. inglethorp made a will leaving all her money to miss howard'], ['Chapter: 5', 'Sentence: 248', 'Contents: mr. inglethorp is quite willing to leave it entirely to mr. wells and myself'], ['Chapter: 5', 'Sentence: 348', 'Contents: “evie!” cried john'], ['Chapter: 5', 'Sentence: 352', 'Contents: “miss howard,” i explained'], ['Chapter: 5', 'Sentence: 356', 'Contents: i followed john’s example, and went out into the hall, where miss howard was endeavouring to extricate herself from the voluminous mass of veils that enveloped her head'], ['Chapter: 5', 'Sentence: 361', 'Contents: she had known alfred inglethorp only too well'], ['Chapter: 5', 'Sentence: 369', 'Contents: “have you had anything to eat this morning, evie?” asked john'], ['Chapter: 5', 'Sentence: 377', 'Contents: he’s helping us, you know, evie'], ['Chapter: 5', 'Sentence: 378', 'Contents: miss howard shook hands with poirot, but glanced suspiciously over her shoulder at john'], ['Chapter: 5', 'Sentence: 385', 'Contents: alfred inglethorp, of course'], ['Chapter: 5', 'Sentence: 386', 'Contents: “my dear evie, do be careful'], ['Chapter: 5', 'Sentence: 388', 'Contents: “more fool, lawrence!” retorted miss howard'], ['Chapter: 5', 'Sentence: 389', 'Contents: “of course alfred inglethorp murdered poor emily—as i always told you he would'], ['Chapter: 5', 'Sentence: 390', 'Contents: “my dear evie, don’t shout so'], ['Chapter: 5', 'Sentence: 394', 'Contents: the snort miss howard gave was truly magnificent'], ['Chapter: 5', 'Sentence: 413', 'Contents: “dash it all, evie, i can’t haul him down to the local police station by the scruff of his neck'], ['Chapter: 5', 'Sentence: 419', 'Contents: it occurred to me very forcibly at that moment that to harbour miss howard and alfred inglethorp under the same roof, and keep the peace between them, was likely to prove a herculean task, and i did not envy john'], ['Chapter: 5', 'Sentence: 423', 'Contents: as she left the room, poirot came over from the window where he had been standing, and sat down facing miss howard'], ['Chapter: 5', 'Sentence: 427', 'Contents: “i’ll help you to hang alfred with pleasure,” she replied gruffly'], ['Chapter: 5', 'Sentence: 431', 'Contents: “alfred inglethorp'], ['Chapter: 5', 'Sentence: 438', 'Contents: but along comes mr. alfred inglethorp—and within two months—hey presto'], ['Chapter: 5', 'Sentence: 439', 'Contents: “believe me, miss howard,” said poirot very earnestly, “if mr. inglethorp is the man, he shall not escape me'], ['Chapter: 5', 'Sentence: 441', 'Contents: “that’s better,” said miss howard more enthusiastically'], ['Chapter: 5', 'Sentence: 446', 'Contents: miss howard blinked, and a new note crept into the gruffness of her voice'], ['Chapter: 5', 'Sentence: 544', 'Contents: “mr. inglethorp and miss howard'], ['Chapter: 5', 'Sentence: 625', 'Contents: “locked up in the desk in the boudoir, they found a will of mrs. inglethorp’s, dated before her marriage, leaving her fortune to alfred inglethorp'], ['Chapter: 5', 'Sentence: 629', 'Contents: “did mr. inglethorp know of it'], ['Chapter: 5', 'Sentence: 665', 'Contents: “yes,” i said, “alfred inglethorp, without doubt'], ['Chapter: 5', 'Sentence: 679', 'Contents: “because if mr. inglethorp knew that his wife would be poisoned last night, he would certainly have arranged to be away from the house'], ['Chapter: 5', 'Sentence: 687', 'Contents: this mr. inglethorp, i should say, is somewhat of a scoundrel—but that does not of necessity make him a murderer'], ['Chapter: 5', 'Sentence: 801', 'Contents: “and supposing the coroner’s jury returns a verdict of wilful murder against alfred inglethorp'], ['Chapter: 5', 'Sentence: 805', 'Contents: for one thing, a country jury is not anxious to take responsibility upon itself, and mr. inglethorp stands practically in the position of local squire'], ['Chapter: 5', 'Sentence: 821', 'Contents: she would never forgive me if i let alfred inglethorp, her husband, be arrested  now —when a word from me could save him'], ['Chapter: 6', 'Sentence: 29', 'Contents: evelyn howard had been right then, and i experienced a sharp twinge of disgust, as i thought of alfred inglethorp’s liberality with another woman’s money'], ['Chapter: 6', 'Sentence: 58', 'Contents: she turned towards me, and gasped out: ‘alfred—alfred——’” “could the strychnine have been administered in mrs. inglethorp’s after-dinner coffee which was taken to her by her husband'], ['Chapter: 6', 'Sentence: 184', 'Contents: “miss howard'], ['Chapter: 6', 'Sentence: 185', 'Contents: miss howard produced the letter written to her by mrs. inglethorp on the evening of the 17th'], ['Chapter: 6', 'Sentence: 188', 'Contents: the following is a facsimile: styles court essex hand written note:      july 17th      my dear evelyn      can we not bury      the hachet'], ['Chapter: 6', 'Sentence: 192', 'Contents: “plain as a pikestaff to me,” said miss howard shortly'], ['Chapter: 6', 'Sentence: 204', 'Contents: miss howard was obviously quite a public character'], ['Chapter: 6', 'Sentence: 208', 'Contents: the coroner interrupted her in an agony of apprehension: “thank you, miss howard, that is all'], ['Chapter: 6', 'Sentence: 225', 'Contents: it was to mr. inglethorp'], ['Chapter: 6', 'Sentence: 226', 'Contents: every eye turned simultaneously to where alfred inglethorp was sitting, impassive and wooden'], ['Chapter: 6', 'Sentence: 234', 'Contents: but, seeing it was mr. inglethorp of the hall, i thought there was no harm in it'], ['Chapter: 6', 'Sentence: 239', 'Contents: “yes, sir, mr. inglethorp did so'], ['Chapter: 6', 'Sentence: 243', 'Contents: then, amidst a breathless silence, alfred inglethorp was called'], ['Chapter: 6', 'Sentence: 259', 'Contents: alfred inglethorp replied imperturbably: “mr. mace must have been mistaken'], ['Chapter: 6', 'Sentence: 260', 'Contents: the coroner hesitated for a moment, and then said: “mr. inglethorp, as a mere matter of form, would you mind telling us where you were on the evening of monday, july 16th'], ['Chapter: 6', 'Sentence: 262', 'Contents: “that is absurd, mr. inglethorp,” said the coroner sharply'], ['Chapter: 6', 'Sentence: 277', 'Contents: “be careful, mr. inglethorp'], ['Chapter: 6', 'Sentence: 286', 'Contents: “pardon me,” interrupted alfred inglethorp, “you have been misinformed'], ['Chapter: 6', 'Sentence: 299', 'Contents: was he at last convinced of alfred inglethorp’s guilt'], ['Chapter: 6', 'Sentence: 300', 'Contents: “mr. inglethorp,” said the coroner, “you have heard your wife’s dying words repeated here'], ['Chapter: 6', 'Sentence: 315', 'Contents: the coroner reflected a moment, then he said: “i believe, mr. inglethorp, that you yourself poured out the coffee, and took it to your wife that evening'], ['Chapter: 7', 'Sentence: 38', 'Contents: from the evidence at the inquest, mr. inglethorp murdered his wife as sure as i stand here, and if anyone but you hinted the contrary i’d laugh in his face'], ['Chapter: 7', 'Sentence: 54', 'Contents: use your warrant: arrest mr. inglethorp'], ['Chapter: 7', 'Sentence: 70', 'Contents: and alfred inglethorp must not be arrested'], ['Chapter: 7', 'Sentence: 78', 'Contents: at styles, mr. inglethorp will give you, or if he refuses—as is probable—i will give you such proofs that shall satisfy you that the case against him could not possibly be sustained'], ['Chapter: 7', 'Sentence: 93', 'Contents: far more convincing than mr. inglethorp’s stony denials'], ['Chapter: 7', 'Sentence: 96', 'Contents: but, seriously, in spite of what i heard you say to the detectives, you surely cannot still believe in the possibility of alfred inglethorp’s innocence'], ['Chapter: 7', 'Sentence: 133', 'Contents: “i beg your pardon, he saw a man with a black beard like mr. inglethorp’s, and wearing glasses like mr. inglethorp, and dressed in mr. inglethorp’s rather noticeable clothes'], ['Chapter: 7', 'Sentence: 138', 'Contents: “the important fact that alfred inglethorp wears peculiar clothes, has a black beard, and uses glasses,” i quoted'], ['Chapter: 7', 'Sentence: 148', 'Contents: but in the case of alfred inglethorp, all that is changed'], ['Chapter: 7', 'Sentence: 155', 'Contents: everybody was predisposed to believe in mr. inglethorp’s guilt'], ['Chapter: 7', 'Sentence: 156', 'Contents: it was a foregone conclusion that he would be suspected; but, to make it a sure thing there must be tangible proof—such as the actual buying of the poison, and that, with a man of the peculiar appearance of mr. inglethorp, was not difficult'], ['Chapter: 7', 'Sentence: 157', 'Contents: remember, this young mace had never actually spoken to mr. inglethorp'], ['Chapter: 7', 'Sentence: 158', 'Contents: how should he doubt that the man in his clothes, with his beard and his glasses, was not alfred inglethorp'], ['Chapter: 7', 'Sentence: 176', 'Contents: “perhaps,” i said doubtfully, for i was really quite indifferent to the fate of alfred inglethorp, and thought that a good fright would do him no harm'], ['Chapter: 7', 'Sentence: 178', 'Contents: “come, my friend,” he said, changing the subject, “apart from mr. inglethorp, how did the evidence at the inquest strike you'], ['Chapter: 7', 'Sentence: 210', 'Contents: it seems inconceivable that she should be shielding alfred inglethorp'], ['Chapter: 7', 'Sentence: 236', 'Contents: but there’s john—and miss howard, surely they were speaking the truth'], ['Chapter: 7', 'Sentence: 240', 'Contents: miss howard’s evidence, unimportant as it was, had been given in such a downright straightforward manner that it had never occurred to me to doubt her sincerity'], ['Chapter: 7', 'Sentence: 244', 'Contents: “miss howard had always seemed to me so essentially honest—almost uncomfortably so'], ['Chapter: 7', 'Sentence: 275', 'Contents: that object, it concerns mr. alfred inglethorp'], ['Chapter: 7', 'Sentence: 277', 'Contents: “mr. inglethorp,” said poirot, addressing him directly, “a very dark shadow is resting on this house—the shadow of murder'], ['Chapter: 7', 'Sentence: 283', 'Contents: and as inglethorp did not appear to understand, he added: “mr. inglethorp, you are standing in very grave danger'], ['Chapter: 7', 'Sentence: 296', 'Contents: mr. inglethorp, knowing what i have now told you, do you still refuse to say where you were at six o’clock on monday afternoon'], ['Chapter: 7', 'Sentence: 297', 'Contents: with a groan, alfred inglethorp sank down again and buried his face in his hands'], ['Chapter: 7', 'Sentence: 309', 'Contents: alfred inglethorp sprang up again'], ['Chapter: 7', 'Sentence: 318', 'Contents: i, hercule poirot, affirm that the man who entered the chemist’s shop, and purchased strychnine at six o’clock on monday last was not mr. inglethorp, for at six o’clock on that day mr. inglethorp was escorting mrs. raikes back to her home from a neighbouring farm'], ['Chapter: 8', 'Sentence: 18', 'Contents: “a most malicious and utterly untrue one,” interrupted alfred inglethorp in an agitated voice'], ['Chapter: 8', 'Sentence: 19', 'Contents: “and mr. inglethorp was anxious to have no scandal revived just at present'], ['Chapter: 8', 'Sentence: 29', 'Contents: and he shot a baleful glance at evelyn howard'], ['Chapter: 8', 'Sentence: 91', 'Contents: of course, he didn’t want to come in—it was just after dinner—but mr. inglethorp insisted'], ['Chapter: 8', 'Sentence: 127', 'Contents: of course you realize that, now mr. inglethorp is out of it, the whole position is greatly changed'], ['Chapter: 8', 'Sentence: 132', 'Contents: i have ascertained that anyone in the household, with the exception of mrs. cavendish, who was playing tennis with you, could have personated mr. inglethorp on monday evening'], ['Chapter: 8', 'Sentence: 140', 'Contents: “in clearing alfred inglethorp,” continued poirot, “i have been obliged to show my hand sooner than i intended'], ['Chapter: 8', 'Sentence: 155', 'Contents: “well then,” i blurted out, “it’s absurd—but i suspect miss howard of not telling all she knows'], ['Chapter: 8', 'Sentence: 156', 'Contents: “miss howard'], ['Chapter: 8', 'Sentence: 167', 'Contents: “well, i learnt that miss howard had been on afternoon duty on tuesday, and that—a convoy coming in unexpectedly—she had kindly offered to remain on night duty, which offer was gratefully accepted'], ['Chapter: 8', 'Sentence: 182', 'Contents: there is nothing weak-minded or degenerate about miss howard'], ['Chapter: 8', 'Sentence: 191', 'Contents: now, what reasons are there against miss howard’s having deliberately poisoned mrs. inglethorp'], ['Chapter: 8', 'Sentence: 197', 'Contents: if miss howard were capable of poisoning the old lady, she would be quite equally capable of simulating devotion'], ['Chapter: 8', 'Sentence: 199', 'Contents: you are perfectly correct in your assumption that her vehemence against alfred inglethorp is too violent to be natural; but you are quite wrong in the deduction you draw from it'], ['Chapter: 8', 'Sentence: 202', 'Contents: “now, to my way of thinking, there is one insuperable objection to miss howard’s being the murderess'], ['Chapter: 8', 'Sentence: 204', 'Contents: “that in no possible way could mrs. inglethorp’s death benefit miss howard'], ['Chapter: 8', 'Sentence: 213', 'Contents: miss howard occupied very much the same position, so i used her name instead'], ['Chapter: 8', 'Sentence: 219', 'Contents: but i can tell you this much—it was not in miss howard’s favour'], ['Chapter: 8', 'Sentence: 221', 'Contents: “well,” i said, with a sigh, “we will acquit miss howard, then'], ['Chapter: 8', 'Sentence: 266', 'Contents: however, my confidence in him, which at one time had rather waned, was fully restored since his belief in alfred inglethorp’s innocence had been so triumphantly vindicated'], ['Chapter: 8', 'Sentence: 267', 'Contents: the funeral of mrs. inglethorp took place the following day, and on monday, as i came down to a late breakfast, john drew me aside, and informed me that mr. inglethorp was leaving that morning, to take up his quarters at the stylites arms until he should have completed his plans'], ['Chapter: 8', 'Sentence: 375', 'Contents: it was cut exactly the shape of mr. inglethorp’s, and i found one or two snipped hairs'], ['Chapter: 8', 'Sentence: 401', 'Contents: “here comes miss howard,” said poirot suddenly'], ['Chapter: 8', 'Sentence: 403', 'Contents: but i am in her black books, since i cleared mr. inglethorp'], ['Chapter: 8', 'Sentence: 405', 'Contents: with a nod that was barely civil, miss howard assented to poirot’s request for a few minutes’ conversation'], ['Chapter: 8', 'Sentence: 407', 'Contents: “well, monsieur poirot,” said miss howard impatiently, “what is it'], ['Chapter: 8', 'Sentence: 413', 'Contents: “and i told you i’d help you with pleasure—to hang alfred inglethorp'], ['Chapter: 8', 'Sentence: 416', 'Contents: “miss howard, i will ask you one question'], ['Chapter: 8', 'Sentence: 418', 'Contents: “never tell lies,” replied miss howard'], ['Chapter: 8', 'Sentence: 434', 'Contents: “good heavens!” cried miss howard'], ['Chapter: 8', 'Sentence: 441', 'Contents: “miss howard, do you remember a conversation that took place on the day of my friend’s arrival here'], ['Chapter: 8', 'Sentence: 448', 'Contents: “and yet you will pay no attention to my instinct against alfred inglethorp'], ['Chapter: 8', 'Sentence: 450', 'Contents: “because your instinct is not against mr. inglethorp'], ['Chapter: 8', 'Sentence: 458', 'Contents: “shall i tell you why you have been so vehement against mr. inglethorp'], ['Chapter: 8', 'Sentence: 461', 'Contents: “no, no, no!” cried miss howard wildly, flinging up her hands'], ['Chapter: 8', 'Sentence: 470', 'Contents: it  must  be alfred inglethorp'], ['Chapter: 8', 'Sentence: 472', 'Contents: “don’t ask me about it,” continued miss howard, “because i shan’t tell you'], ['Chapter: 8', 'Sentence: 489', 'Contents: evelyn howard bowed her head'], ['Chapter: 8', 'Sentence: 495', 'Contents: if we are right, miss howard, on whose side are you then'], ['Chapter: 8', 'Sentence: 502', 'Contents: “miss howard,” said poirot gravely, “this is unworthy of you'], ['Chapter: 8', 'Sentence: 504', 'Contents: “yes,” she said quietly, “that was not evelyn howard who spoke'], ['Chapter: 8', 'Sentence: 506', 'Contents: “ this  is evelyn howard'], ['Chapter: 8', 'Sentence: 515', 'Contents: “you and miss howard seem to know what you are talking about,” i observed coldly'], ['Chapter: 9', 'Sentence: 147', 'Contents: the truth of the matter was that it was lawrence who had murdered alfred inglethorp with a croquet mallet'], ['Chapter: 9', 'Sentence: 296', 'Contents: then i remembered that enigmatical conversation between poirot and evelyn howard'], ['Chapter: 9', 'Sentence: 298', 'Contents: was this the monstrous possibility that evelyn had tried not to believe'], ['Chapter: 9', 'Sentence: 300', 'Contents: no wonder miss howard had suggested “hushing it up'], ['Chapter: 9', 'Sentence: 352', 'Contents: “lot of paul prys,” grunted miss howard'], ['Chapter: 9', 'Sentence: 391', 'Contents: look, there is john—and miss howard—'], ['Chapter: 9', 'Sentence: 393', 'Contents: “yes, john likes me, i think, and of course evie, for all her gruff ways, wouldn’t be unkind to a fly'], ['Chapter: 9', 'Sentence: 395', 'Contents: she wants evie to stay on, is begging her to, but she doesn’t want me, and—and—i don’t know what to do'], ['Chapter: 10', 'Sentence: 114', 'Contents: i am not a vain man where women are concerned, but i remembered certain evidences, too lightly thought of at the time, perhaps, but which certainly seemed to indicate—— my pleasing thoughts were interrupted by the sudden entrance of miss howard'], ['Chapter: 10', 'Sentence: 137', 'Contents: having deduced its existence, i set miss howard to search for it, and, as you see, she has been successful'], ['Chapter: 11', 'Sentence: 46', 'Contents: “did you not put two and two together, and reflect that if it was not alfred inglethorp who was quarrelling with his wife—and you remember, he strenuously denied it at the inquest—it must be either lawrence or john'], ['Chapter: 11', 'Sentence: 98', 'Contents: luckily for mr. inglethorp, he had been able to produce an unimpeachable alibi'], ['Chapter: 11', 'Sentence: 108', 'Contents: the prisoner had been arrested in consequence of the discovery, in his room, by detective inspector japp—a most brilliant officer—of the identical phial of strychnine which had been sold at the village chemist’s to the supposed mr. inglethorp on the day before the murder'], ['Chapter: 11', 'Sentence: 118', 'Contents: mr. mace identified the phial handed him by counsel as that sold by him to “mr. inglethorp'], ['Chapter: 11', 'Sentence: 119', 'Contents: pressed, he admitted that he only knew mr. inglethorp by sight'], ['Chapter: 11', 'Sentence: 122', 'Contents: alfred inglethorp was called, and denied having purchased the poison'], ['Chapter: 11', 'Sentence: 126', 'Contents: dorcas, faithful to her “young gentlemen,” denied strenuously that it could have been john’s voice she heard, and resolutely declared, in the teeth of everything, that it was mr. inglethorp who had been in the boudoir with her mistress'], ['Chapter: 11', 'Sentence: 138', 'Contents: it would be miss howard who would attend to anything like that'], ['Chapter: 11', 'Sentence: 139', 'Contents: evelyn howard was called and, after being examined on other points, was questioned as to the parcel'], ['Chapter: 11', 'Sentence: 149', 'Contents: “i believe, miss howard, that it was you who found this sheet of brown paper'], ['Chapter: 11', 'Sentence: 188', 'Contents: elizabeth wells, second housemaid at styles, stated that after she had gone to bed she remembered that she had bolted the front door, instead of leaving it on the latch as mr. inglethorp had requested'], ['Chapter: 11', 'Sentence: 209', 'Contents: in his chest of drawers, hidden beneath some underclothing, we found: first, a pair of gold-rimmed pince-nez similar to those worn by mr. inglethorp”—these were exhibited—“secondly, this phial'], ['Chapter: 11', 'Sentence: 216', 'Contents: erything of which i die possessed i leave to my beloved husband alfred ing'], ['Chapter: 11', 'Sentence: 254', 'Contents: evelyn howard had been right in her facts, though her animosity against alfred inglethorp had caused her to jump to the conclusion that he was the person concerned'], ['Chapter: 11', 'Sentence: 312', 'Contents: the hand-writing experts were called upon for their opinion of the signature of “alfred inglethorp” in the chemist’s poison register'], ['Chapter: 11', 'Sentence: 324', 'Contents: his learned friend—sir ernest nodded carelessly at mr. philips—had stated that if the prisoner were an innocent man, he would have come forward at the inquest to explain that it was he, and not mr. inglethorp, who had been the participator in the quarrel'], ['Chapter: 11', 'Sentence: 328', 'Contents: no suspicion had entered the prisoner’s head that anyone could possibly have mistaken his voice for that of mr. inglethorp'], ['Chapter: 11', 'Sentence: 330', 'Contents: the prosecution averred that on monday, july 16th, the prisoner had entered the chemist’s shop in the village, disguised as mr. inglethorp'], ['Chapter: 11', 'Sentence: 348', 'Contents: “i understand you to say that it never entered your head that the witnesses at the inquest could possibly have mistaken your voice for that of mr. inglethorp'], ['Chapter: 11', 'Sentence: 351', 'Contents: i was told there had been a quarrel between my mother and mr. inglethorp, and it never occurred to me that such was not really the case'], ['Chapter: 11', 'Sentence: 369', 'Contents: mary, where you purchased strychnine in the name of alfred inglethorp'], ['Chapter: 11', 'Sentence: 371', 'Contents: “i put it to you that, wearing a suit of mr. inglethorp’s clothes, with a black beard trimmed to resemble his, you were there—and signed the register in his name'], ['Chapter: 12', 'Sentence: 13', 'Contents: “miss howard—here'], ['Chapter: 12', 'Sentence: 19', 'Contents: we must delay our proceedings a few minutes until mr. inglethorp arrives'], ['Chapter: 12', 'Sentence: 21', 'Contents: miss howard rose immediately from her seat'], ['Chapter: 12', 'Sentence: 25', 'Contents: finally miss howard consented to return to her chair'], ['Chapter: 12', 'Sentence: 26', 'Contents: a few minutes later alfred inglethorp entered the room'], ['Chapter: 12', 'Sentence: 150', 'Contents: the servants noticed nothing, since annie, the housemaid, who took in the coffee, brought in seven cups, not knowing that mr. inglethorp never drank it, whereas dorcas, who cleared them away the following morning, found six as usual—or strictly speaking she found five, the sixth being the one found broken in mrs. inglethorp’s room'], ['Chapter: 12', 'Sentence: 247', 'Contents: in the deathly silence, poirot pieced together the slips of paper and, clearing his throat, read: dearest evelyn:     ‘you will be anxious at hearing nothing'], ['Chapter: 12', 'Sentence: 263', 'Contents: “ messieurs, mesdames ,” said poirot, with a flourish, “let me introduce you to the murderer, mr. alfred inglethorp'], ['Chapter: 13', 'Sentence: 5', 'Contents: in the room below, john and mary were together once more, while alfred inglethorp and miss howard were in custody'], ['Chapter: 13', 'Sentence: 12', 'Contents: if i had told you my ideas, the very first time you saw mr. alfred inglethorp that astute gentleman would have—in your so expressive idiom—‘smelt a rat’'], ['Chapter: 13', 'Sentence: 29', 'Contents: “then again,” continued poirot, “at the beginning, did i not repeat to you several times that i didn’t want mr. inglethorp arrested  now '], ['Chapter: 13', 'Sentence: 35', 'Contents: when i went up to styles with you that first day, i had no idea as to how the crime had been committed, but from what i knew of mr. inglethorp i fancied that it would be very hard to find anything to connect him with it'], ['Chapter: 13', 'Sentence: 39', 'Contents: “well, my friend, as i say, my views as to mr. inglethorp’s guilt were very much shaken'], ['Chapter: 13', 'Sentence: 49', 'Contents: this attitude of his gave me furiously to think, and i was slowly forced to the conclusion that alfred inglethorp wanted to be arrested'], ['Chapter: 13', 'Sentence: 65', 'Contents: you have not yet realized that it was miss howard who went to the chemist’s shop'], ['Chapter: 13', 'Sentence: 66', 'Contents: “miss howard'], ['Chapter: 13', 'Sentence: 76', 'Contents: i am inclined to think that miss howard was the master mind in that affair'], ['Chapter: 13', 'Sentence: 86', 'Contents: miss howard will have engineered her quarrel, and departed from the house'], ['Chapter: 13', 'Sentence: 95', 'Contents: on monday, therefore, at six o’clock, alfred inglethorp arranges to be seen by a number of people at a spot far removed from the village'], ['Chapter: 13', 'Sentence: 96', 'Contents: miss howard has previously made up a cock and bull story about him and mrs. raikes to account for his holding his tongue afterwards'], ['Chapter: 13', 'Sentence: 97', 'Contents: at six o’clock, miss howard, disguised as alfred inglethorp, enters the chemist’s shop, with her story about a dog, obtains the strychnine, and writes the name of alfred inglethorp in john’s handwriting, which she had previously studied carefully'], ['Chapter: 13', 'Sentence: 100', 'Contents: miss howard goes back to middlingham'], ['Chapter: 13', 'Sentence: 101', 'Contents: alfred inglethorp returns to styles'], ['Chapter: 13', 'Sentence: 102', 'Contents: there is nothing that can compromise him in any way, since it is miss howard who has the strychnine, which, after all, is only wanted as a blind to throw suspicion on john cavendish'], ['Chapter: 13', 'Sentence: 113', 'Contents: mrs. inglethorp reads it, and becomes aware of the perfidy of her husband and evelyn howard, though, unfortunately, the sentence about the bromides conveys no warning to her mind'], ['Chapter: 13', 'Sentence: 171', 'Contents: “but surely miss howard had ample opportunities of aiding him'], ['Chapter: 13', 'Sentence: 172', 'Contents: “yes, but miss howard did not know of the paper’s existence'], ['Chapter: 13', 'Sentence: 173', 'Contents: in accordance with their prearranged plan, she never spoke to alfred inglethorp'], ['Chapter: 13', 'Sentence: 175', 'Contents: of course i had a watch kept on mr. inglethorp, hoping that sooner or later he would lead me to the hiding-place'], ['Chapter: 13', 'Sentence: 179', 'Contents: “i understand that now; but when did you first begin to suspect miss howard'], ['Chapter: 13', 'Sentence: 189', 'Contents: “you do not see that that letter was not written on the 17th, but on the 7th—the day after miss howard’s departure'], ['Chapter: 13', 'Sentence: 193', 'Contents: why does miss howard suppress the letter written on the 17th, and produce this faked one instead'], ['Chapter: 13', 'Sentence: 198', 'Contents: “and yet,” i cried indignantly, “after that, you gave me two reasons why miss howard could not have committed the crime'], ['Chapter: 13', 'Sentence: 200', 'Contents: “for a long time they were a stumbling-block to me until i remembered a very significant fact: that she and alfred inglethorp were cousins']]\n"
          ]
        },
        {
          "name": "stdout",
          "output_type": "stream",
          "text": [
            "['us', 'as', 'for', 'you', 'remember', 'evie']\n",
            "['for', 'evie—you', 'remember', 'no', 'oh', 'i']\n",
            "['a', 'great', 'sport—old', 'not', 'precisely', 'young']\n",
            "['of', 'being', 'a', 'or', 'something', 'of']\n",
            "['or', 'something', 'of', 's', 'though', 'she']\n",
            "['that', 'she', 'and', 'were', 'engaged', 'the']\n",
            "['for', 'that', 'fellow', 'he', 'checked', 'the']\n",
            "['our', 'approach', 'hullo', 'here', 's', 'our']\n",
            "['hero', 'mr', 'hastings', 'miss', 'howard', 'shook']\n",
            "['mr', 'hastings—miss', 'howard', 'shook', 'hands', 'with']\n",
            "['re', 'a', 'cynic', 'said', 'john', 'laughing']\n",
            "['refreshed', 'well', 'said', 'drawing', 'off', 'her']\n",
            "['princess', 'after', 'tea', 'i', 'll', 'write']\n",
            "['are', 'so', 'thoughtful', 'dear', 'the', 'french']\n",
            "['all', 'these', 'years', 'darling', 'mr', 'hastings—my']\n",
            "['some', 'curiosity', 'at', 'darling', 'he', 'certainly']\n",
            "['upon', 'the', 'company', 'in', 'particular', 'took']\n",
            "['about', 'letters', 'to', 'and', 'her', 'husband']\n",
            "['story', 'myself', 'remarked', 'lots', 'of', 'nonsense']\n",
            "['of', 'a', 'mess', 's', 'had', 'a']\n",
            "['a', 'row', 'with', 'and', 'she', 's']\n",
            "['she', 's', 'off', 'off', 'john', 'nodded']\n",
            "['and—oh', '—here', 's', 'herself', 'miss', 'howard']\n",
            "['s', 'evie', 'herself', 'entered', 'her', 'lips']\n",
            "['mind', 'my', 'dear', 'cried', 'mrs', 'cavendish']\n",
            "['t', 'be', 'true', 'nodded', 'grimly', 'true']\n",
            "['just', 'ask', 'your', 'how', 'much', 'time']\n",
            "['did', 'she', 'say', 'made', 'an', 'extremely']\n",
            "['expressive', 'grimace', 'darling', '—', 'dearest', 'alfred']\n",
            "['alfred', '—', 'dearest', '—', 'wicked', 'calumnies']\n",
            "['left', 'the', 'room', 's', 'face', 'changed']\n",
            "['her', 'of', 'course', 'i', 'said', 'i']\n",
            "['open', 'window', 'and', 'rose', 'and', 'moved']\n",
            "['time', 'for', 'more', 'was', 'swallowed', 'up']\n",
            "['in', 'england', 'than', 'he', 'took', 'the']\n",
            "['the', 'one', 'that', '', 'exactly', 'said']\n",
            "['felt', 'that', 'with', 'something', 'indefinable', 'had']\n",
            "['a', 'letter', 'from', 'a', 'couple', 'of']\n",
            "['gipsy', 'face', 'and', 's', 'warnings', 'but']\n",
            "['a', 'few', 'moments', 'had', 'ushered', 'the']\n",
            "['i', 'realized', 'that', 'was', 'not', 'with']\n",
            "['on', 'the', 'doctor', 'alfred—', 'then', 'she']\n",
            "['the', 'doctor', 'alfred', '', 'then', 'she']\n",
            "['met', 'where', 'was', 'his', 'absence', 'was']\n",
            "['mrs', 'inglethorp', 'and', 'and', 'of', 'the']\n",
            "['we', 'passed', 'through', 's', 'room', 'and']\n",
            "['one', 'was', 'to', 'and', 'one', 'was']\n",
            "['had', 'gone', 'to', 'writing', 'notices', 'for']\n",
            "['i', 'pass', 'over', 'who', 'acted', 'the']\n",
            "['family—we', 'will', 'say', 'for', 'instance—would', 'you']\n",
            "['her', 'money', 'to', 'i', 'asked', 'in']\n",
            "['it', 'swept', 'past', 'cried', 'john', 'excuse']\n",
            "['inquiringly', 'at', 'me', 'i', 'explained', 'ah']\n",
            "['the', 'hall', 'where', 'was', 'endeavouring', 'to']\n",
            "['she', 'had', 'known', 'only', 'too', 'well']\n",
            "['eat', 'this', 'morning', 'asked', 'john', 'no']\n",
            "['us', 'you', 'know', 'miss', 'howard', 'shook']\n",
            "['you', 'know', 'evie', 'shook', 'hands', 'with']\n",
            "['to', 'prison', 'who', 'of', 'course', 'my']\n",
            "['course', 'my', 'dear', 'do', 'be', 'careful']\n",
            "['fool', 'lawrence', 'retorted', 'of', 'course', 'alfred']\n",
            "['howard', 'of', 'course', 'murdered', 'poor', 'emily—as']\n",
            "['would', 'my', 'dear', 'don', 't', 'shout']\n",
            "['fiddlesticks', 'the', 'snort', 'gave', 'was', 'truly']\n",
            "['dash', 'it', 'all', 'i', 'can', 't']\n",
            "['that', 'to', 'harbour', 'and', 'alfred', 'inglethorp']\n",
            "['miss', 'howard', 'and', 'under', 'the', 'same']\n",
            "['sat', 'down', 'facing', 'mademoiselle', 'he', 'said']\n",
            "['you', 'to', 'hang', 'with', 'pleasure', 'she']\n",
            "['hang', 'the', 'criminal', 'him', 'or', 'another']\n",
            "['along', 'comes', 'mr', 'and', 'within', 'two']\n",
            "['presto', 'believe', 'me', 'said', 'poirot', 'very']\n",
            "['s', 'better', 'said', 'more', 'enthusiastically', 'but']\n",
            "['that', 'have', 'wept', 'blinked', 'and', 'a']\n",
            "['mr', 'inglethorp', 'and', 'she', 'looked', 'at']\n",
            "['her', 'fortune', 'to', 'it', 'must', 'have']\n",
            "['yes', 'i', 'said', 'without', 'doubt', 'poirot']\n",
            "['wilful', 'murder', 'against', 'what', 'becomes', 'of']\n",
            "['if', 'i', 'let', 'her', 'husband', 'be']\n",
            "['walked', 'on', 'sharply', 'had', 'been', 'right']\n",
            "['i', 'thought', 'of', 's', 'liberality', 'with']\n",
            "['and', 'gasped', 'out', 'alfred——', 'could', 'the']\n",
            "['gasped', 'out', 'alfred', '—', 'could', 'the']\n",
            "['that', 'is', 'all', 'miss', 'howard', 'produced']\n",
            "['all', 'miss', 'howard', 'produced', 'the', 'letter']\n",
            "['17th', 'my', 'dear', 'can', 'we', 'not']\n",
            "['to', 'me', 'said', 'shortly', 'it', 'shows']\n",
            "['of', 'the', 'jury', 'was', 'obviously', 'quite']\n",
            "['apprehension', 'thank', 'you', 'that', 'is', 'all']\n",
            "['simultaneously', 'to', 'where', 'was', 'sitting', 'impassive']\n",
            "['a', 'breathless', 'silence', 'was', 'called', 'did']\n",
            "['mace', 's', 'statement', 'replied', 'imperturbably', 'mr']\n",
            "['pardon', 'me', 'interrupted', 'you', 'have', 'been']\n",
            "['last', 'convinced', 'of', 's', 'guilt', 'mr']\n",
            "['not', 'enough', 'and', 'must', 'not', 'be']\n",
            "['the', 'possibility', 'of', 's', 'innocence', 'why']\n",
            "['important', 'fact', 'that', 'wears', 'peculiar', 'clothes']\n",
            "['the', 'case', 'of', 'all', 'that', 'is']\n",
            "['glasses', 'was', 'not', 'it', 'may', 'be']\n",
            "['the', 'fate', 'of', 'and', 'thought', 'that']\n",
            "['should', 'be', 'shielding', 'yet', 'that', 'is']\n",
            "['there', 's', 'john—and', 'surely', 'they', 'were']\n",
            "['an', 'unpleasant', 'shock', 's', 'evidence', 'unimportant']\n",
            "['so', 'i', 'asked', 'had', 'always', 'seemed']\n",
            "['it', 'concerns', 'mr', 'inglethorp', 'was', 'sitting']\n",
            "['with', 'a', 'groan', 'sank', 'down', 'again']\n",
            "['speak', 'for', 'you', 'sprang', 'up', 'again']\n",
            "['untrue', 'one', 'interrupted', 'in', 'an', 'agitated']\n",
            "['baleful', 'glance', 'at', 'now', 'sir', 'said']\n",
            "['suspicion', 'in', 'clearing', 'continued', 'poirot', 'i']\n",
            "['absurd—but', 'i', 'suspect', 'of', 'not', 'telling']\n",
            "['all', 'she', 'knows', 'yes—you', 'll', 'laugh']\n",
            "['i', 'learnt', 'that', 'had', 'been', 'on']\n",
            "['or', 'degenerate', 'about', 'she', 'is', 'an']\n",
            "['are', 'there', 'against', 's', 'having', 'deliberately']\n",
            "['a', 'child', 'if', 'were', 'capable', 'of']\n",
            "['her', 'vehemence', 'against', 'is', 'too', 'violent']\n",
            "['insuperable', 'objection', 'to', 's', 'being', 'the']\n",
            "['s', 'death', 'benefit', 'now', 'there', 'is']\n",
            "['in', 'my', 'mind', 'occupied', 'very', 'much']\n",
            "['was', 'not', 'in', 's', 'favour', 'i']\n",
            "['we', 'will', 'acquit', 'then', 'it', 'is']\n",
            "['his', 'belief', 'in', 's', 'innocence', 'had']\n",
            "['thoughtfully', 'here', 'comes', 'said', 'poirot', 'suddenly']\n",
            "['was', 'barely', 'civil', 'assented', 'to', 'poirot']\n",
            "['monsieur', 'poirot', 'said', 'impatiently', 'what', 'is']\n",
            "['with', 'pleasure—to', 'hang', 'ah', 'poirot', 'studied']\n",
            "['studied', 'her', 'seriously', 'i', 'will', 'ask']\n",
            "['tell', 'lies', 'replied', 'it', 'is', 'this']\n",
            "['good', 'heavens', 'cried', 'haven', 't', 'i']\n",
            "['what', 'little', 'idea', 'do', 'you', 'remember']\n",
            "['my', 'instinct', 'against', 'no', 'said', 'poirot']\n",
            "['no', 'no', 'cried', 'wildly', 'flinging', 'up']\n",
            "['it', 'must', 'be', 'poirot', 'shook', 'his']\n",
            "['about', 'it', 'continued', 'because', 'i', 'shan']\n",
            "['you', 'will', 'watch', 'bowed', 'her', 'head']\n",
            "['we', 'are', 'right', 'on', 'whose', 'side']\n",
            "['she', 'broke', 'off', 'said', 'poirot', 'gravely']\n",
            "['that', 'was', 'not', 'who', 'spoke', 'she']\n",
            "['proudly', 'this', 'is', 'and', 'she', 'is']\n",
            "['ignored', 'you', 'and', 'seem', 'to', 'know']\n",
            "['who', 'had', 'murdered', 'with', 'a', 'croquet']\n",
            "['between', 'poirot', 'and', 'was', 'this', 'what']\n",
            "['monstrous', 'possibility', 'that', 'had', 'tried', 'not']\n",
            "['in', 'no', 'wonder', 'had', 'suggested', 'hushing']\n",
            "['paul', 'prys', 'grunted', 'lawrence', 'opined', 'that']\n",
            "['there', 'is', 'john—and', '', 'cynthia', 'nodded']\n",
            "['and', 'of', 'course', 'for', 'all', 'her']\n",
            "['me', 'she', 'wants', 'to', 'stay', 'on']\n",
            "['sudden', 'entrance', 'of', 'she', 'glanced', 'round']\n",
            "['existence', 'i', 'set', 'to', 'search', 'for']\n",
            "['it', 'was', 'not', 'who', 'was', 'quarrelling']\n",
            "['not', 'cross', 'examined', 'was', 'called', 'and']\n",
            "['it', 'would', 'be', 'who', 'would', 'attend']\n",
            "['anything', 'like', 'that', 'was', 'called', 'and']\n",
            "['it', 'i', 'believe', 'that', 'it', 'was']\n",
            "['my', 'beloved', 'husband', 'ing', 'this', 'placed']\n",
            "['of', 'her', 'pride', 'had', 'been', 'right']\n",
            "['her', 'animosity', 'against', 'had', 'caused', 'her']\n",
            "['the', 'signature', 'of', 'in', 'the', 'chemist']\n",
            "['the', 'name', 'of', 'no', 'that', 'is']\n",
            "['he', 'did', 'so', 'here', 'mademoiselle', 'cynthia']\n",
            "['him', 'a', 'note', 'rose', 'immediately', 'from']\n",
            "['low', 'voice', 'finally', 'consented', 'to', 'return']\n",
            "['few', 'minutes', 'later', 'entered', 'the', 'room']\n",
            "['throat', 'read', 'dearest', 'you', 'will', 'be']\n",
            "['the', 'murderer', 'mr', '', 'poirot', 'you']\n",
            "['once', 'more', 'while', 'and', 'miss', 'howard']\n",
            "['alfred', 'inglethorp', 'and', 'were', 'in', 'custody']\n",
            "['you', 'saw', 'mr', 'that', 'astute', 'gentleman']\n",
            "['the', 'conclusion', 'that', 'wanted', 'to', 'be']\n",
            "['that', 'it', 'was', 'who', 'went', 'to']\n",
            "['chemist', 's', 'shop', 'but', 'certainly', 'who']\n",
            "['to', 'think', 'that', 'was', 'the', 'master']\n",
            "['by', 'that', 'time', 'will', 'have', 'engineered']\n",
            "['six', 'o', 'clock', 'arranges', 'to', 'be']\n",
            "['from', 'the', 'village', 'has', 'previously', 'made']\n",
            "['six', 'o', 'clock', 'disguised', 'as', 'alfred']\n",
            "['howard', 'disguised', 'as', 'enters', 'the', 'chemist']\n",
            "['the', 'name', 'of', 'in', 'john', 's']\n",
            "['all', 'goes', 'well', 'goes', 'back', 'to']\n",
            "['back', 'to', 'middlingham', 'returns', 'to', 'styles']\n",
            "['since', 'it', 'is', 'who', 'has', 'the']\n",
            "['her', 'husband', 'and', 'though', 'unfortunately', 'the']\n",
            "['vase', 'but', 'surely', 'had', 'ample', 'opportunities']\n",
            "['him', 'yes', 'but', 'did', 'not', 'know']\n",
            "['never', 'spoke', 'to', 'they', 'were', 'supposed']\n",
            "['begin', 'to', 'suspect', 'when', 'i', 'discovered']\n",
            "['7th—the', 'day', 'after', 's', 'departure', 'the']\n",
            "['myself', 'why', 'does', 'suppress', 'the', 'letter']\n",
            "['two', 'reasons', 'why', 'could', 'not', 'have']\n",
            "['that', 'she', 'and', 'were', 'cousins', 'she']\n",
            "192\n",
            "\n",
            "\n",
            "\n",
            "### Results for  The Secret Adversary\n",
            "Zerofiller\n",
            "re.compile('tuppence|prudence|cowley|tommy|beresford')\n",
            "[['Chapter: 1', 'Sentence: 1', 'Contents:  “tommy, old thing'], ['Chapter: 1', 'Sentence: 2', 'Contents: “tuppence, old bean'], ['Chapter: 1', 'Sentence: 12', 'Contents: “now then,” said tommy, “where shall we go'], ['Chapter: 1', 'Sentence: 13', 'Contents: the very faint anxiety which underlay his tone did not escape the astute ears of miss prudence cowley, known to her intimate friends for some mysterious reason as “tuppence'], ['Chapter: 1', 'Sentence: 15', 'Contents: “tommy, you’re stony'], ['Chapter: 1', 'Sentence: 16', 'Contents: “not a bit of it,” declared tommy unconvincingly'], ['Chapter: 1', 'Sentence: 18', 'Contents: “you always were a shocking liar,” said tuppence severely, “though you did once persuade sister greenbank that the doctor had ordered you beer as a tonic, but forgotten to write it on the chart'], ['Chapter: 1', 'Sentence: 20', 'Contents: tommy chuckled'], ['Chapter: 1', 'Sentence: 25', 'Contents: tuppence sighed'], ['Chapter: 1', 'Sentence: 28', 'Contents: tommy nodded'], ['Chapter: 1', 'Sentence: 30', 'Contents: “gratuity?” hinted tuppence'], ['Chapter: 1', 'Sentence: 32', 'Contents: “oh, tommy'], ['Chapter: 1', 'Sentence: 35', 'Contents: the cost of living--ordinary plain, or garden living nowadays is, i assure you, if you do not know----” “my dear child,” interrupted tuppence, “there is nothing i do  not  know about the cost of living'], ['Chapter: 1', 'Sentence: 38', 'Contents: and tuppence led the way upstairs'], ['Chapter: 1', 'Sentence: 42', 'Contents: just like the one mabel lewis brought from paris----” “funny scraps one does overhear,” murmured tommy'], ['Chapter: 1', 'Sentence: 45', 'Contents: but at that moment two elderly ladies rose and collected parcels, and tuppence deftly ensconced herself in one of the vacant seats'], ['Chapter: 1', 'Sentence: 46', 'Contents: tommy ordered tea and buns'], ['Chapter: 1', 'Sentence: 47', 'Contents: tuppence ordered tea and buttered toast'], ['Chapter: 1', 'Sentence: 49', 'Contents: tommy sat down opposite her'], ['Chapter: 1', 'Sentence: 54', 'Contents: tuppence had no claim to beauty, but there was character and charm in the elfin lines of her little face, with its determined chin and large, wide-apart grey eyes that looked mistily out from under straight, black brows'], ['Chapter: 1', 'Sentence: 57', 'Contents: the tea came at last, and tuppence, rousing herself from a fit of meditation, poured it out'], ['Chapter: 1', 'Sentence: 58', 'Contents: “now then,” said tommy, taking a large bite of bun, “let’s get up-to-date'], ['Chapter: 1', 'Sentence: 61', 'Contents: tuppence helped herself liberally to buttered toast'], ['Chapter: 1', 'Sentence: 62', 'Contents: “abridged biography of miss prudence cowley, fifth daughter of archdeacon cowley of little missendell, suffolk'], ['Chapter: 1', 'Sentence: 63', 'Contents: miss cowley left the delights (and drudgeries) of her home life early in the war and came up to london, where she entered an officers’ hospital'], ['Chapter: 1', 'Sentence: 78', 'Contents: ninth month: promoted to sweeping out wards, where i found a friend of my childhood in lieutenant thomas beresford (bow, tommy'], ['Chapter: 1', 'Sentence: 81', 'Contents: tenth month: reproved by matron for visiting the pictures in company with one of the patients, namely: the aforementioned lieutenant thomas beresford'], ['Chapter: 1', 'Sentence: 84', 'Contents: after that, the talented miss cowley drove successively a trade delivery van, a motor-lorry and a general'], ['Chapter: 1', 'Sentence: 87', 'Contents: “what blighter was that?” inquired tommy'], ['Chapter: 1', 'Sentence: 89', 'Contents: “i’ve forgotten his name now,” confessed tuppence'], ['Chapter: 1', 'Sentence: 97', 'Contents: “there’s not so much promotion in mine,” said tommy regretfully, “and a great deal less variety'], ['Chapter: 1', 'Sentence: 107', 'Contents: tuppence nodded gloomily'], ['Chapter: 1', 'Sentence: 109', 'Contents: tommy shook his head'], ['Chapter: 1', 'Sentence: 112', 'Contents: again tommy shook his head'], ['Chapter: 1', 'Sentence: 113', 'Contents: “oh, tommy, not even a great-aunt'], ['Chapter: 1', 'Sentence: 118', 'Contents: “i think i remember hearing about it,” said tuppence slowly'], ['Chapter: 1', 'Sentence: 119', 'Contents: “you refused because of your mother----” tommy flushed'], ['Chapter: 1', 'Sentence: 124', 'Contents: “your mother’s dead, isn’t she?” said tuppence gently'], ['Chapter: 1', 'Sentence: 125', 'Contents: tommy nodded'], ['Chapter: 1', 'Sentence: 126', 'Contents: tuppence’s large grey eyes looked misty'], ['Chapter: 1', 'Sentence: 127', 'Contents: “you’re a good sort, tommy'], ['Chapter: 1', 'Sentence: 129', 'Contents: “rot!” said tommy hastily'], ['Chapter: 1', 'Sentence: 151', 'Contents: i don’t want to go back, but--oh, tommy, what else is there to do'], ['Chapter: 1', 'Sentence: 152', 'Contents: tommy shook his head sadly'], ['Chapter: 1', 'Sentence: 153', 'Contents: there was a silence, and then tuppence burst out: “money, money, money'], ['Chapter: 1', 'Sentence: 156', 'Contents: “same here,” agreed tommy with feeling'], ['Chapter: 1', 'Sentence: 157', 'Contents: “i’ve thought over every imaginable way of getting it too,” continued tuppence'], ['Chapter: 1', 'Sentence: 166', 'Contents: “of course,” resumed tuppence, “marriage is my best chance'], ['Chapter: 1', 'Sentence: 172', 'Contents: “certainly not,” agreed tommy hastily'], ['Chapter: 1', 'Sentence: 174', 'Contents: “that’s not very polite,” replied tuppence'], ['Chapter: 1', 'Sentence: 179', 'Contents: “what about the general?” inquired tommy'], ['Chapter: 1', 'Sentence: 180', 'Contents: “i fancy he keeps a bicycle shop in time of peace,” explained tuppence'], ['Chapter: 1', 'Sentence: 193', 'Contents: “you overrate my manly charms,” murmured tommy'], ['Chapter: 1', 'Sentence: 194', 'Contents: “on the other hand,” proceeded tuppence, “my millionaire would probably run for his life'], ['Chapter: 1', 'Sentence: 197', 'Contents: “we’ve tried that, and failed,” tommy reminded her'], ['Chapter: 1', 'Sentence: 200', 'Contents: tommy, let’s be adventurers'], ['Chapter: 1', 'Sentence: 201', 'Contents: “certainly,” replied tommy cheerfully'], ['Chapter: 1', 'Sentence: 205', 'Contents: “delightful,” commented tommy'], ['Chapter: 1', 'Sentence: 207', 'Contents: “the moral guilt,” tuppence pointed out, “would be theirs--not mine'], ['Chapter: 1', 'Sentence: 213', 'Contents: “modesty always was your besetting sin,” remarked tommy'], ['Chapter: 1', 'Sentence: 215', 'Contents: look here, tommy, shall we really'], ['Chapter: 1', 'Sentence: 229', 'Contents: is that your idea, tuppence'], ['Chapter: 1', 'Sentence: 232', 'Contents: “advertisement,” replied tuppence promptly'], ['Chapter: 1', 'Sentence: 236', 'Contents: tommy handed over a rather shabby green notebook, and tuppence began writing busily'], ['Chapter: 1', 'Sentence: 251', 'Contents: “tommy'], ['Chapter: 1', 'Sentence: 268', 'Contents: she tore out the leaf and handed it to tommy'], ['Chapter: 1', 'Sentence: 274', 'Contents: tommy was holding the paper thoughtfully'], ['Chapter: 1', 'Sentence: 277', 'Contents: “shall we, tuppence'], ['Chapter: 1', 'Sentence: 279', 'Contents: “tommy, you’re a sport'], ['Chapter: 1', 'Sentence: 285', 'Contents: !” responded tommy'], ['Chapter: 1', 'Sentence: 287', 'Contents: tuppence rose'], ['Chapter: 1', 'Sentence: 289', 'Contents: “perhaps it is time i strolled round to the  ritz ,” agreed tommy with a grin'], ['Chapter: 1', 'Sentence: 295', 'Contents: “my time is my own,” replied mr. beresford magnificently'], ['Chapter: 1', 'Sentence: 299', 'Contents: tuppence’s hostel was situated in what was charitably called southern belgravia'], ['Chapter: 2', 'Sentence: 1', 'Contents:  tuppence turned sharply, but the words hovering on the tip of her tongue remained unspoken, for the man’s appearance and manner did not bear out her first and most natural assumption'], ['Chapter: 2', 'Sentence: 4', 'Contents: tuppence believed him'], ['Chapter: 2', 'Sentence: 14', 'Contents: another inference forced itself into tuppence’s mind: “you followed me here'], ['Chapter: 2', 'Sentence: 18', 'Contents: tuppence took it and scrutinized it carefully'], ['Chapter: 2', 'Sentence: 23', 'Contents: “at eleven o’clock?” said tuppence doubtfully'], ['Chapter: 2', 'Sentence: 25', 'Contents: tuppence made up her mind'], ['Chapter: 2', 'Sentence: 31', 'Contents: tuppence remained for some minutes gazing after him'], ['Chapter: 2', 'Sentence: 37', 'Contents: and as i’ve said before, and shall doubtless say again, little tuppence can look after herself, thank you'], ['Chapter: 2', 'Sentence: 42', 'Contents: disdaining the spiky pen and thick, black treacle which a beneficent government had provided, tuppence drew out tommy’s pencil which she had retained and wrote rapidly: “don’t put in advertisement'], ['Chapter: 2', 'Sentence: 44', 'Contents: she addressed it to tommy at his club, from which in one short month he would have to resign, unless a kindly fortune permitted him to renew his subscription'], ['Chapter: 2', 'Sentence: 51', 'Contents: a pleasurable thrill of excitement made tuppence tingle'], ['Chapter: 2', 'Sentence: 54', 'Contents: it was a long time before tuppence went to sleep that night, and, when at length she did, she dreamed that mr. whittington had set her to washing up a pile of esthonia glassware, which bore an unaccountable resemblance to hospital plates'], ['Chapter: 2', 'Sentence: 55', 'Contents: it wanted some five minutes to eleven when tuppence reached the block of buildings in which the offices of the esthonia glassware co'], ['Chapter: 2', 'Sentence: 58', 'Contents: so tuppence decided to walk to the end of the street and back again'], ['Chapter: 2', 'Sentence: 63', 'Contents: there was a lift, but tuppence chose to walk up'], ['Chapter: 2', 'Sentence: 65', 'Contents: tuppence knocked'], ['Chapter: 2', 'Sentence: 68', 'Contents: “i have an appointment with mr. whittington,” said tuppence'], ['Chapter: 2', 'Sentence: 72', 'Contents: tuppence felt her previous judgment confirmed'], ['Chapter: 2', 'Sentence: 79', 'Contents: tuppence sat down on the chair facing him'], ['Chapter: 2', 'Sentence: 89', 'Contents: tuppence eyed him warily'], ['Chapter: 2', 'Sentence: 96', 'Contents: “oh!” said tuppence thoughtfully'], ['Chapter: 2', 'Sentence: 101', 'Contents: to put the clock back a few years--a very few, i am sure--and re-enter one of those charming  pensionnats de jeunes filles  with which paris abounds----” tuppence interrupted him'], ['Chapter: 2', 'Sentence: 105', 'Contents: tuppence knew the name well'], ['Chapter: 2', 'Sentence: 133', 'Contents: “exactly,” said tuppence'], ['Chapter: 2', 'Sentence: 141', 'Contents: tuppence smiled a little'], ['Chapter: 2', 'Sentence: 144', 'Contents: so far there has been no mention of mr. beresford'], ['Chapter: 2', 'Sentence: 146', 'Contents: “mr. beresford'], ['Chapter: 2', 'Sentence: 147', 'Contents: “my partner,” said tuppence with dignity'], ['Chapter: 2', 'Sentence: 152', 'Contents: tuppence rose'], ['Chapter: 2', 'Sentence: 159', 'Contents: tuppence’s conscience gave her a passing twinge as she remembered the archdeacon'], ['Chapter: 2', 'Sentence: 166', 'Contents: tuppence, though utterly taken aback, nevertheless kept her head'], ['Chapter: 2', 'Sentence: 176', 'Contents: tuppence shook her head'], ['Chapter: 2', 'Sentence: 182', 'Contents: “very little indeed,” answered tuppence, and was pleased to note that whittington’s uneasiness was augmented instead of allayed'], ['Chapter: 2', 'Sentence: 185', 'Contents: “it might be my own name,” tuppence pointed out'], ['Chapter: 2', 'Sentence: 187', 'Contents: “or i might just have hit upon it by chance,” continued tuppence, intoxicated with the success of truthfulness'], ['Chapter: 2', 'Sentence: 192', 'Contents: the last five words took tuppence’s fancy mightily, especially after a meagre breakfast and a supper of buns the night before'], ['Chapter: 2', 'Sentence: 201', 'Contents: “you insist on misjudging me,” said tuppence, and sighed gently'], ['Chapter: 2', 'Sentence: 205', 'Contents: tuppence paused a moment to admire her own ingenuity, and then said softly: “i shouldn’t like to contradict you, mr. whittington'], ['Chapter: 2', 'Sentence: 207', 'Contents: tuppence was in a dilemma'], ['Chapter: 2', 'Sentence: 213', 'Contents: tuppence smiled sweetly'], ['Chapter: 2', 'Sentence: 217', 'Contents: “you see,” explained tuppence still sweetly, “i’m so very fond of money'], ['Chapter: 2', 'Sentence: 221', 'Contents: “life,” moralized tuppence, “is full of surprises'], ['Chapter: 2', 'Sentence: 233', 'Contents: whittington turned to tuppence'], ['Chapter: 2', 'Sentence: 237', 'Contents: he rapidly sorted out some notes, and pushed them across the table to tuppence, then stood up, obviously impatient for her to go'], ['Chapter: 2', 'Sentence: 243', 'Contents: whittington looked almost genial again, a reversion that aroused in tuppence a faint misgiving'], ['Chapter: 2', 'Sentence: 245', 'Contents: tuppence sped lightly down the stairs'], ['Chapter: 2', 'Sentence: 248', 'Contents: “let’s give tommy a surprise!” murmured tuppence, and hailed a taxi'], ['Chapter: 2', 'Sentence: 250', 'Contents: tommy was just within the entrance'], ['Chapter: 2', 'Sentence: 251', 'Contents: his eyes opened to their fullest extent as he hurried forward to assist tuppence to alight'], ['Chapter: 3', 'Sentence: 2', 'Contents: to begin with, the resources of tommy’s pockets were somewhat limited'], ['Chapter: 3', 'Sentence: 4', 'Contents: “i think you’ve given him too much, tommy,” said tuppence innocently'], ['Chapter: 3', 'Sentence: 7', 'Contents: “well,” said mr. beresford, at length able to relieve his feelings, “what the--dickens, did you want to take a taxi for'], ['Chapter: 3', 'Sentence: 8', 'Contents: “i was afraid i might be late and keep you waiting,” said tuppence gently'], ['Chapter: 3', 'Sentence: 10', 'Contents: oh, lord, i give it up!” said mr. beresford'], ['Chapter: 3', 'Sentence: 11', 'Contents: “and really and truly,” continued tuppence, opening her eyes very wide, “i haven’t got anything smaller than a five-pound note'], ['Chapter: 3', 'Sentence: 13', 'Contents: “no,” said tuppence thoughtfully, “he didn’t believe it'], ['Chapter: 3', 'Sentence: 19', 'Contents: ” tommy grinned'], ['Chapter: 3', 'Sentence: 27', 'Contents: inquired tommy'], ['Chapter: 3', 'Sentence: 32', 'Contents: “tuppence, old girl, what has really come over you'], ['Chapter: 3', 'Sentence: 34', 'Contents: tuppence wrenched open her bag'], ['Chapter: 3', 'Sentence: 40', 'Contents: tommy groaned'], ['Chapter: 3', 'Sentence: 42', 'Contents: am i dreaming, tuppence, or do i really behold a large quantity of five-pound notes being waved about in a dangerous fashion'], ['Chapter: 3', 'Sentence: 52', 'Contents: “grill room?” inquired tommy, as they reached the opposite pavement in safety'], ['Chapter: 3', 'Sentence: 53', 'Contents: “the other’s more expensive,” demurred tuppence'], ['Chapter: 3', 'Sentence: 59', 'Contents: “and now tell me,” said tommy, unable to restrain his pent-up curiosity any longer, as they sat in state surrounded by the many  hors d’œuvre of tuppence’s dreams'], ['Chapter: 3', 'Sentence: 60', 'Contents: miss cowley told him'], ['Chapter: 3', 'Sentence: 63', 'Contents: “perhaps that’s so,” said tommy slowly'], ['Chapter: 3', 'Sentence: 72', 'Contents: how extraordinary----” tuppence tailed off into silence'], ['Chapter: 3', 'Sentence: 74', 'Contents: “tommy'], ['Chapter: 3', 'Sentence: 77', 'Contents: tommy frowned in an effort at remembrance'], ['Chapter: 3', 'Sentence: 80', 'Contents: “that’s him,” cried tuppence, in an ungrammatical squeal'], ['Chapter: 3', 'Sentence: 87', 'Contents: tuppence tackled her pêche melba happily'], ['Chapter: 3', 'Sentence: 88', 'Contents: but tommy had become serious'], ['Chapter: 3', 'Sentence: 89', 'Contents: “look here, tuppence, old girl, what is this going to lead to'], ['Chapter: 3', 'Sentence: 96', 'Contents: tuppence laid down her spoon'], ['Chapter: 3', 'Sentence: 97', 'Contents: “you’re right, tommy, it is a bit of a poser'], ['Chapter: 3', 'Sentence: 104', 'Contents: “hm,” said tommy doubtfully'], ['Chapter: 3', 'Sentence: 109', 'Contents: tuppence frowned severely'], ['Chapter: 3', 'Sentence: 111', 'Contents: order some turkish coffee, tommy'], ['Chapter: 3', 'Sentence: 119', 'Contents: tuppence sipped her coffee with a deeply reflective air, and snubbed tommy when he spoke to her'], ['Chapter: 3', 'Sentence: 122', 'Contents: “shades of pelmanism!” said tommy, and relapsed into silence'], ['Chapter: 3', 'Sentence: 123', 'Contents: “there!” said tuppence at last'], ['Chapter: 3', 'Sentence: 126', 'Contents: tommy applauded'], ['Chapter: 3', 'Sentence: 135', 'Contents: “my plan is this,” tuppence went on calmly, “i’ll go alone to-morrow'], ['Chapter: 3', 'Sentence: 156', 'Contents: “well,” said tuppence meditatively'], ['Chapter: 3', 'Sentence: 159', 'Contents: or perhaps----” “hold hard,” admonished tommy'], ['Chapter: 3', 'Sentence: 167', 'Contents: tommy remained on the opposite side of the road while tuppence plunged into the building'], ['Chapter: 3', 'Sentence: 168', 'Contents: tommy strolled slowly down to the end of the street, then back again'], ['Chapter: 3', 'Sentence: 169', 'Contents: just as he came abreast of the building, tuppence darted across the road'], ['Chapter: 3', 'Sentence: 170', 'Contents: “tommy'], ['Chapter: 3', 'Sentence: 178', 'Contents: tommy followed her'], ['Chapter: 3', 'Sentence: 180', 'Contents: he hesitated a moment, then addressed himself to tuppence'], ['Chapter: 3', 'Sentence: 188', 'Contents: “th--thank you,” faltered tuppence'], ['Chapter: 3', 'Sentence: 192', 'Contents: “thank you very much,” said tommy'], ['Chapter: 3', 'Sentence: 193', 'Contents: “come on, tuppence'], ['Chapter: 3', 'Sentence: 195', 'Contents: “that’s torn it,” said tommy at length'], ['Chapter: 3', 'Sentence: 196', 'Contents: “and i never suspected it,” wailed tuppence'], ['Chapter: 3', 'Sentence: 199', 'Contents: tuppence’s little chin shot out defiantly'], ['Chapter: 3', 'Sentence: 205', 'Contents: tommy, don’t you see, if they are scared enough to run away like this, it shows that there must be a lot in this jane finn business'], ['Chapter: 3', 'Sentence: 215', 'Contents: tuppence handed back the pencil, and surveyed the piece of paper on which she had written with a satisfied eye: “what’s that'], ['Chapter: 3', 'Sentence: 220', 'Contents: tommy read the words on it aloud: “wanted, any information respecting jane finn'], ['Chapter: 4', 'Sentence: 4', 'Contents: luckily the weather was fine, and “walking is cheap,” dictated tuppence'], ['Chapter: 4', 'Sentence: 8', 'Contents: on friday letters might be expected to arrive at tommy’s rooms'], ['Chapter: 4', 'Sentence: 10', 'Contents: tuppence was first at the rendezvous'], ['Chapter: 4', 'Sentence: 13', 'Contents: “well,” returned mr. beresford provokingly'], ['Chapter: 4', 'Sentence: 17', 'Contents: tommy shook his head with a deep and somewhat overacted melancholy'], ['Chapter: 4', 'Sentence: 24', 'Contents: “tommy, you devil!” almost screamed tuppence'], ['Chapter: 4', 'Sentence: 27', 'Contents: “your language, tuppence, your language'], ['Chapter: 4', 'Sentence: 30', 'Contents: and do remember, as i have pointed out to you before, that as a clergyman’s daughter----” “i ought to be on the stage!” finished tuppence with a snap'], ['Chapter: 4', 'Sentence: 33', 'Contents: tuppence snatched the two precious envelopes from him unceremoniously, and scrutinized them carefully'], ['Chapter: 4', 'Sentence: 39', 'Contents: tuppence’s little thumb ripped open the envelope, and she extracted the contents'], ['Chapter: 4', 'Sentence: 43', 'Contents: “27 carshalton gardens,” said tuppence, referring to the address'], ['Chapter: 4', 'Sentence: 46', 'Contents: “the following,” said tommy, “is the plan of campaign'], ['Chapter: 4', 'Sentence: 52', 'Contents: “don’t be absurd, tommy'], ['Chapter: 4', 'Sentence: 58', 'Contents: “ha!” said tommy'], ['Chapter: 4', 'Sentence: 63', 'Contents: tuppence nodded assent'], ['Chapter: 4', 'Sentence: 66', 'Contents: carshalton terrace proved to be an unimpeachable row of what tuppence called “ladylike looking houses'], ['Chapter: 4', 'Sentence: 69', 'Contents: she looked so respectable that tuppence’s heart sank'], ['Chapter: 4', 'Sentence: 70', 'Contents: upon tommy’s request for mr. carter, she showed them into a small study on the ground floor where she left them'], ['Chapter: 4', 'Sentence: 76', 'Contents: he himself took a chair opposite to tuppence and smiled at her encouragingly'], ['Chapter: 4', 'Sentence: 78', 'Contents: as he did not seem inclined to open the conversation, tuppence was forced to begin'], ['Chapter: 4', 'Sentence: 84', 'Contents: tuppence drew herself up'], ['Chapter: 4', 'Sentence: 91', 'Contents: “come now,” he continued, as tuppence remained silent'], ['Chapter: 4', 'Sentence: 99', 'Contents: tuppence seemed to shake herself free of it with an effort, as she said: “we couldn’t do that, could we, tommy'], ['Chapter: 4', 'Sentence: 104', 'Contents: “tommy!” cried out tuppence in surprise'], ['Chapter: 4', 'Sentence: 107', 'Contents: tommy nodded'], ['Chapter: 4', 'Sentence: 116', 'Contents: “fire ahead, tuppence,” directed tommy'], ['Chapter: 4', 'Sentence: 119', 'Contents: and obediently tuppence did out with it, telling the whole story from the forming of the young adventurers, ltd'], ['Chapter: 4', 'Sentence: 141', 'Contents: tuppence gazed at him, her lips parted, her eyes growing wider and wider'], ['Chapter: 4', 'Sentence: 187', 'Contents: mr. carter paused, and tuppence broke in impatiently: “but why has it all cropped up again'], ['Chapter: 4', 'Sentence: 191', 'Contents: tuppence stared'], ['Chapter: 4', 'Sentence: 203', 'Contents: tuppence nodded'], ['Chapter: 4', 'Sentence: 215', 'Contents: “a naturalized german?” asked tommy'], ['Chapter: 4', 'Sentence: 225', 'Contents: tuppence jumped'], ['Chapter: 4', 'Sentence: 240', 'Contents: tuppence thought'], ['Chapter: 4', 'Sentence: 246', 'Contents: tuppence nodded'], ['Chapter: 4', 'Sentence: 254', 'Contents: “it won’t,” tuppence assured him positively'], ['Chapter: 4', 'Sentence: 255', 'Contents: “i’ll look after her, sir,” said tommy'], ['Chapter: 4', 'Sentence: 256', 'Contents: “and  i ‘ll look after  you ,” retorted tuppence, resenting the manly assertion'], ['Chapter: 4', 'Sentence: 276', 'Contents: tuppence gasped, and mr. carter smiled'], ['Chapter: 4', 'Sentence: 280', 'Contents: “then you think”--tuppence paused to grasp the supposition fully--“that it  was  as jane finn that they wanted me to go to paris'], ['Chapter: 5', 'Sentence: 1', 'Contents:  “well,” said tuppence, recovering herself, “it really seems as though it were meant to be'], ['Chapter: 5', 'Sentence: 7', 'Contents: tommy indulged in a chuckle'], ['Chapter: 5', 'Sentence: 9', 'Contents: i don’t wonder whittington got the wind up when tuppence plumped out that name'], ['Chapter: 5', 'Sentence: 18', 'Contents: tuppence frowned uncomprehendingly'], ['Chapter: 5', 'Sentence: 28', 'Contents: tuppence rose'], ['Chapter: 5', 'Sentence: 34', 'Contents: tuppence nodded sagely'], ['Chapter: 5', 'Sentence: 37', 'Contents: now--about money----” “yes, miss tuppence'], ['Chapter: 5', 'Sentence: 44', 'Contents: “don’t worry, miss tuppence'], ['Chapter: 5', 'Sentence: 47', 'Contents: and an equal sum for mr. beresford, of course'], ['Chapter: 5', 'Sentence: 48', 'Contents: tuppence beamed upon him'], ['Chapter: 5', 'Sentence: 57', 'Contents: “tommy'], ['Chapter: 5', 'Sentence: 59', 'Contents: tommy murmured a name in her ear'], ['Chapter: 5', 'Sentence: 60', 'Contents: “oh!” said tuppence, impressed'], ['Chapter: 5', 'Sentence: 62', 'Contents: “oh!” said tuppence again'], ['Chapter: 5', 'Sentence: 67', 'Contents: “pinch me, tommy, do pinch me'], ['Chapter: 5', 'Sentence: 69', 'Contents: mr. beresford obliged'], ['Chapter: 5', 'Sentence: 76', 'Contents: “it’s more respectable than i thought it would be,” said tuppence thoughtfully'], ['Chapter: 5', 'Sentence: 81', 'Contents: tommy voiced it first'], ['Chapter: 5', 'Sentence: 89', 'Contents: “at any rate, we shall make a better effect arriving this way,” said tuppence, leaning back luxuriously'], ['Chapter: 5', 'Sentence: 91', 'Contents: “we’ve ceased being blackmailers,” tommy pointed out'], ['Chapter: 5', 'Sentence: 92', 'Contents: “i’m not sure i have,” said tuppence darkly'], ['Chapter: 5', 'Sentence: 95', 'Contents: mr. julius p. hersheimmer was a great deal younger than either tommy or tuppence had pictured him'], ['Chapter: 5', 'Sentence: 107', 'Contents: “oh!” cried tuppence'], ['Chapter: 5', 'Sentence: 113', 'Contents: “we advertised to receive information, not to give it,” said tuppence severely'], ['Chapter: 5', 'Sentence: 117', 'Contents: “well, we wouldn’t mind hearing her back history,” said tuppence guardedly'], ['Chapter: 5', 'Sentence: 123', 'Contents: tommy hastened to explain'], ['Chapter: 5', 'Sentence: 129', 'Contents: tommy fell in with this demand in so far as he gave him a guarded version of the disappearance of jane finn, and of the possibility of her having been mixed up unawares in “some political show'], ['Chapter: 5', 'Sentence: 130', 'Contents: he alluded to tuppence and himself as “private inquiry agents” commissioned to find her, and added that they would therefore be glad of any details mr. hersheimmer could give them'], ['Chapter: 5', 'Sentence: 137', 'Contents: for the moment this paralysed the young adventurers, but tuppence, recovering herself, plunged boldly into the breach with a reminiscence culled from detective fiction'], ['Chapter: 5', 'Sentence: 140', 'Contents: “what?” demanded tommy, astonished'], ['Chapter: 5', 'Sentence: 143', 'Contents: as i said before, my father and her mother were brother and sister, just as you might be”--tommy did not correct this view of their relationship--“but they didn’t always get on together'], ['Chapter: 5', 'Sentence: 170', 'Contents: tuppence reassured him'], ['Chapter: 5', 'Sentence: 175', 'Contents: tuppence expressed a preference for the latter, and julius bowed to her decision'], ['Chapter: 5', 'Sentence: 183', 'Contents: an unformulated dread swept over tuppence'], ['Chapter: 6', 'Sentence: 6', 'Contents: all barriers went down with a crash, and tommy and tuppence felt they had known the young american all their lives'], ['Chapter: 6', 'Sentence: 8', 'Contents: he turned to tuppence at the close of the narration'], ['Chapter: 6', 'Sentence: 12', 'Contents: the upshot of these confidential relations was that tommy and tuppence took up their abode forthwith at the  ritz , in order, as tuppence put it, to keep in touch with jane finn’s only living relation'], ['Chapter: 6', 'Sentence: 13', 'Contents: “and put like that,” she added confidentially to tommy, “nobody could boggle at the expense'], ['Chapter: 6', 'Sentence: 16', 'Contents: mr. beresford put down the  daily mail , which he was reading, and applauded with somewhat unnecessary vigour'], ['Chapter: 6', 'Sentence: 18', 'Contents: “dash it all, tommy, we’ve got to  do  something for our money'], ['Chapter: 6', 'Sentence: 19', 'Contents: tommy sighed'], ['Chapter: 6', 'Sentence: 22', 'Contents: “well,” said tommy, picking up the  daily mail  again, “ do  it'], ['Chapter: 6', 'Sentence: 24', 'Contents: “you see,” continued tuppence'], ['Chapter: 6', 'Sentence: 26', 'Contents: “it’s all very well for you to sit there being funny, tommy'], ['Chapter: 6', 'Sentence: 28', 'Contents: “my union, tuppence, my union'], ['Chapter: 6', 'Sentence: 30', 'Contents: m.” “tommy, do you want something thrown at you'], ['Chapter: 6', 'Sentence: 34', 'Contents: tommy laid his paper finally aside'], ['Chapter: 6', 'Sentence: 35', 'Contents: “there’s something of the simplicity of the truly great mind about you, tuppence'], ['Chapter: 6', 'Sentence: 38', 'Contents: “to begin with,” said tuppence, “what have we to go upon'], ['Chapter: 6', 'Sentence: 39', 'Contents: “absolutely nothing,” said tommy cheerily'], ['Chapter: 6', 'Sentence: 41', 'Contents: tuppence wagged an energetic finger'], ['Chapter: 6', 'Sentence: 48', 'Contents: “hum,” said tommy doubtfully, “i don’t call that much of a clue'], ['Chapter: 6', 'Sentence: 50', 'Contents: “i’m not so sure about that,” replied tuppence thoughtfully'], ['Chapter: 6', 'Sentence: 57', 'Contents: “what about meals?” inquired the practical tommy'], ['Chapter: 6', 'Sentence: 62', 'Contents: no one’s got a better appetite than you have, tuppence, and by tea-time you’d be eating the flags, pins and all'], ['Chapter: 6', 'Sentence: 77', 'Contents: “i am absolutely certain that it would be a woman, and a good-looking one,” replied tuppence calmly'], ['Chapter: 6', 'Sentence: 78', 'Contents: “on these technical points i bow to your decision,” murmured mr. beresford'], ['Chapter: 6', 'Sentence: 91', 'Contents: how’s that for clever little tuppence'], ['Chapter: 6', 'Sentence: 94', 'Contents: “that’s just what i don’t know,” confessed tuppence'], ['Chapter: 6', 'Sentence: 101', 'Contents: tommy nodded'], ['Chapter: 6', 'Sentence: 103', 'Contents: tuppence gave her characteristic “terrier” shake'], ['Chapter: 6', 'Sentence: 107', 'Contents: five minutes later the young couple emerged into piccadilly, and a few seconds later a taxi was bearing them to the laurels, glendower road, n.7, the residence of mrs. edgar keith, whose name figured first in a list of seven reposing in tommy’s pocket-book'], ['Chapter: 6', 'Sentence: 109', 'Contents: tommy paid off the taxi, and accompanied tuppence to the front door bell'], ['Chapter: 6', 'Sentence: 115', 'Contents: “i thought as much,” said tommy with satisfaction'], ['Chapter: 6', 'Sentence: 120', 'Contents: tuppence withdrew to a suitable spot'], ['Chapter: 6', 'Sentence: 122', 'Contents: tommy had produced a notebook and pencil'], ['Chapter: 6', 'Sentence: 128', 'Contents: “christian name?” asked tommy, his pencil poised'], ['Chapter: 6', 'Sentence: 131', 'Contents: “eleanor,” spelt tommy'], ['Chapter: 6', 'Sentence: 135', 'Contents: tommy closed the notebook with a brisk snap'], ['Chapter: 6', 'Sentence: 138', 'Contents: tommy rejoined his accomplice'], ['Chapter: 6', 'Sentence: 139', 'Contents: “you see, tuppence,” he observed'], ['Chapter: 6', 'Sentence: 147', 'Contents: “ah!” said tommy, imbibing a long draught of beer, “i feel better'], ['Chapter: 6', 'Sentence: 150', 'Contents: tuppence picked it up'], ['Chapter: 6', 'Sentence: 155', 'Contents: “tommy, i’m getting discouraged'], ['Chapter: 6', 'Sentence: 160', 'Contents: “true,” said tuppence, her flagging spirits reviving'], ['Chapter: 6', 'Sentence: 162', 'Contents: but, oh, tommy, i do like things to happen quickly'], ['Chapter: 6', 'Sentence: 164', 'Contents: “you must stifle this longing for vulgar sensation, tuppence'], ['Chapter: 6', 'Sentence: 173', 'Contents: tuppence received the remark with great disfavour'], ['Chapter: 6', 'Sentence: 174', 'Contents: “how horrid you are, tommy'], ['Chapter: 6', 'Sentence: 176', 'Contents: “sorry, tuppence'], ['Chapter: 6', 'Sentence: 179', 'Contents: “ha ha!” echoed tuppence approvingly, as she rose'], ['Chapter: 6', 'Sentence: 183', 'Contents: tommy had by this time the glibness born of practice'], ['Chapter: 6', 'Sentence: 187', 'Contents: tommy spelt it, but the other interrupted him'], ['Chapter: 6', 'Sentence: 196', 'Contents: hardly able to contain his excitement, tommy hurried down the stairs'], ['Chapter: 6', 'Sentence: 197', 'Contents: tuppence was waiting at the angle of the turn'], ['Chapter: 6', 'Sentence: 200', 'Contents: oh,  tommy'], ['Chapter: 6', 'Sentence: 201', 'Contents: ” tommy squeezed her arm sympathetically'], ['Chapter: 6', 'Sentence: 204', 'Contents: “it’s--it’s so lovely to think of things--and then for them really to happen!” cried tuppence enthusiastically'], ['Chapter: 6', 'Sentence: 205', 'Contents: her hand was still in tommy’s'], ['Chapter: 6', 'Sentence: 208', 'Contents: suddenly, to tommy’s complete surprise, tuppence dragged him into the little space by the side of the lift where the shadow was deepest'], ['Chapter: 6', 'Sentence: 211', 'Contents: tuppence’s hand closed tighter on tommy’s arm'], ['Chapter: 7', 'Sentence: 2', 'Contents: tommy started in pursuit at once, and was in time to see them turn the corner of the street'], ['Chapter: 7', 'Sentence: 9', 'Contents: in actual fact, tommy foresaw that it was extremely likely there would be no second taxi'], ['Chapter: 7', 'Sentence: 15', 'Contents: tommy held his breath'], ['Chapter: 7', 'Sentence: 19', 'Contents: when at length they turned into it, proceeding in an easterly direction, tommy slightly increased his pace'], ['Chapter: 7', 'Sentence: 23', 'Contents: just before the bond street tube station they crossed the road, tommy, unperceived, faithfully at their heels, and entered the big lyons’'], ['Chapter: 7', 'Sentence: 26', 'Contents: tommy took a seat at the table next to them, sitting directly behind whittington in case of recognition'], ['Chapter: 7', 'Sentence: 28', 'Contents: he was fair, with a weak, unpleasant face, and tommy put him down as being either a russian or a pole'], ['Chapter: 7', 'Sentence: 30', 'Contents: having already lunched heartily, tommy contented himself with ordering a welsh rarebit and a cup of coffee'], ['Chapter: 7', 'Sentence: 33', 'Contents: listen as he would, tommy could only catch a word here and there; but the gist of it seemed to be some directions or orders which the big man was impressing on his companion, and with which the latter seemed from time to time to disagree'], ['Chapter: 7', 'Sentence: 35', 'Contents: tommy caught the word “ireland” several times, also “propaganda,” but of jane finn there was no mention'], ['Chapter: 7', 'Sentence: 42', 'Contents: tommy did not hear boris’s reply, but in response to it whittington said something that sounded like: “of course--only in an emergency'], ['Chapter: 7', 'Sentence: 47', 'Contents: but presently the phrases became distinct again whether because the other two had insensibly raised their voices, or because tommy’s ears were getting more attuned, he could not tell'], ['Chapter: 7', 'Sentence: 82', 'Contents: tommy did likewise, and a few moments later was following the two men down the stairs'], ['Chapter: 7', 'Sentence: 84', 'Contents: taxis were plentiful here, and before whittington’s had driven off another was drawing up to the curb in obedience to tommy’s peremptory hand'], ['Chapter: 7', 'Sentence: 90', 'Contents: tommy’s taxi came to rest at the departure platform just after whittington’s'], ['Chapter: 7', 'Sentence: 91', 'Contents: tommy was behind him at the booking-office'], ['Chapter: 7', 'Sentence: 92', 'Contents: he took a first-class single ticket to bournemouth, tommy did the same'], ['Chapter: 7', 'Sentence: 95', 'Contents: boris’s words had aroused a new train of thought in tommy’s mind'], ['Chapter: 7', 'Sentence: 104', 'Contents: he dared not waste time in trying to get hold of tuppence'], ['Chapter: 7', 'Sentence: 112', 'Contents: beresford speaking'], ['Chapter: 7', 'Sentence: 123', 'Contents: tommy put back the receiver with a sigh of relief'], ['Chapter: 7', 'Sentence: 128', 'Contents: then tommy fingered his pocket thoughtfully'], ['Chapter: 7', 'Sentence: 144', 'Contents: tommy felt cold waves of despair pass over him'], ['Chapter: 7', 'Sentence: 153', 'Contents: tommy had thought out this question'], ['Chapter: 7', 'Sentence: 155', 'Contents: julius shook his head, and tommy’s face fell'], ['Chapter: 7', 'Sentence: 157', 'Contents: tommy gave a faint whoop of relief'], ['Chapter: 7', 'Sentence: 165', 'Contents: “so long, tommy'], ['Chapter: 7', 'Sentence: 167', 'Contents: tommy drew a deep breath'], ['Chapter: 7', 'Sentence: 169', 'Contents: tommy allowed him to pass and then took up the chase once more'], ['Chapter: 7', 'Sentence: 172', 'Contents: tommy followed him at a judicious distance'], ['Chapter: 7', 'Sentence: 175', 'Contents: boris looked round, and tommy drew back into the shelter of a friendly porch'], ['Chapter: 7', 'Sentence: 178', 'Contents: the stealthy way the other had looked round stimulated tommy’s imagination'], ['Chapter: 7', 'Sentence: 182', 'Contents: it was at this juncture that tommy lost his head'], ['Chapter: 7', 'Sentence: 190', 'Contents: it was at that moment that the full realization of his folly began to come home to tommy'], ['Chapter: 8', 'Sentence: 1', 'Contents:  taken aback though he was by the man’s words, tommy did not hesitate'], ['Chapter: 8', 'Sentence: 7', 'Contents: tommy proceeded leisurely'], ['Chapter: 8', 'Sentence: 11', 'Contents: at the top of the stairs tommy halted to consider his next move'], ['Chapter: 8', 'Sentence: 18', 'Contents: it attracted tommy mightily'], ['Chapter: 8', 'Sentence: 30', 'Contents: a repetition of the signal knock sounded on the door below, and tommy, his mind made up, slipped quickly into the recess, and cautiously drew the curtain farther across so that it shielded him completely from sight'], ['Chapter: 8', 'Sentence: 33', 'Contents: the man who came up the staircase with a furtive, soft-footed tread was quite unknown to tommy'], ['Chapter: 8', 'Sentence: 38', 'Contents: a voice inside called out something, and the man opened the door and passed in, affording tommy a momentary glimpse of the room inside'], ['Chapter: 8', 'Sentence: 40', 'Contents: as the new-comer entered he glanced up, and with a correct, but curiously precise enunciation, which attracted tommy’s notice, he asked: “your number, comrade'], ['Chapter: 8', 'Sentence: 44', 'Contents: “if that isn’t a hun, i’m a dutchman!” said tommy to himself'], ['Chapter: 8', 'Sentence: 51', 'Contents: tommy recognized in him an irish sinn feiner'], ['Chapter: 8', 'Sentence: 59', 'Contents: the first man was quite unknown to tommy, who put him down as a city clerk'], ['Chapter: 8', 'Sentence: 65', 'Contents: in fact tommy concluded that the gathering was now complete, and was just cautiously creeping out from his hiding-place, when another knock sent him scuttling back to cover'], ['Chapter: 8', 'Sentence: 66', 'Contents: this last-comer came up the stairs so quietly that he was almost abreast of tommy before the young man had realized his presence'], ['Chapter: 8', 'Sentence: 70', 'Contents: the strange light eyes seemed to burn through the curtain; tommy could hardly believe that the man did not know he was there and in spite of himself he shivered'], ['Chapter: 8', 'Sentence: 109', 'Contents: in another moment tommy was once more confronting bare wooden panels, and the voices within had sunk once more to a mere undistinguishable murmur'], ['Chapter: 8', 'Sentence: 110', 'Contents: tommy became restive'], ['Chapter: 8', 'Sentence: 116', 'Contents: tommy bent down and removed his shoes, then, leaving them behind the curtain, he walked gingerly out on his stockinged feet, and kneeling down by the closed door he laid his ear cautiously to the crack'], ['Chapter: 8', 'Sentence: 127', 'Contents: tommy was annoyed'], ['Chapter: 8', 'Sentence: 136', 'Contents: for a moment or two tommy’s indignation got the better of him'], ['Chapter: 8', 'Sentence: 143', 'Contents: there was a certain bulldog tenacity about tommy that made him slow to admit defeat'], ['Chapter: 8', 'Sentence: 154', 'Contents: but what interested tommy was the thing he had hoped to find, a communicating door between the two rooms, up on the left by the window'], ['Chapter: 8', 'Sentence: 158', 'Contents: by gently wriggling it to and fro, tommy managed to draw it back without making too much noise'], ['Chapter: 8', 'Sentence: 160', 'Contents: the door swung open--a crack, a mere fraction, but enough for tommy to hear what went on'], ['Chapter: 8', 'Sentence: 166', 'Contents: another voice which tommy rather thought was that of boris replied: “will you guarantee that there  are  results'], ['Chapter: 8', 'Sentence: 174', 'Contents: tommy felt that boris had shrugged his shoulders as he answered: “does that matter, since the money only nominally comes from the states'], ['Chapter: 8', 'Sentence: 177', 'Contents: another voice, which tommy fancied was that of the tall, commanding-looking man whose face had seemed familiar to him, said: “think of the feelings of belfast if they could hear you'], ['Chapter: 8', 'Sentence: 187', 'Contents: then tommy heard the light tap-tap of fingers, drumming on the table'], ['Chapter: 8', 'Sentence: 219', 'Contents: tommy heard a chair shifted'], ['Chapter: 8', 'Sentence: 253', 'Contents: tommy held his breath'], ['Chapter: 8', 'Sentence: 263', 'Contents: “she is----” but tommy heard no more'], ['Chapter: 9', 'Sentence: 1', 'Contents:  when tommy set forth on the trail of the two men, it took all tuppence’s self-command to refrain from accompanying him'], ['Chapter: 9', 'Sentence: 5', 'Contents: tuppence hated letting the grass grow under her feet'], ['Chapter: 9', 'Sentence: 6', 'Contents: tommy was amply employed, and debarred from joining him in the chase, the girl felt at a loose end'], ['Chapter: 9', 'Sentence: 9', 'Contents: he glanced round at tuppence’s entry'], ['Chapter: 9', 'Sentence: 16', 'Contents: “albert be it,” said tuppence'], ['Chapter: 9', 'Sentence: 24', 'Contents: it was extremely unlikely that albert would have any knowledge of it--indeed, it would have been fatal for tuppence’s plans, since the badge in question was the device of a local training corps originated by the archdeacon in the early days of the war'], ['Chapter: 9', 'Sentence: 25', 'Contents: its presence in tuppence’s coat was due to the fact that she had used it for pinning in some flowers a day or two before'], ['Chapter: 9', 'Sentence: 26', 'Contents: but tuppence had sharp eyes, and had noted the corner of a threepenny detective novel protruding from albert’s pocket, and the immediate enlargement of his eyes told her that her tactics were good, and that the fish would rise to the bait'], ['Chapter: 9', 'Sentence: 30', 'Contents: tuppence nodded at him with the air of one who has established a thorough understanding'], ['Chapter: 9', 'Sentence: 33', 'Contents: tuppence nodded and jerked a thumb up the stairs'], ['Chapter: 9', 'Sentence: 48', 'Contents: tuppence was a great frequenter of the cinema'], ['Chapter: 9', 'Sentence: 50', 'Contents: “who’s annie?” inquired tuppence idly'], ['Chapter: 9', 'Sentence: 56', 'Contents: “she’s some peach,” allowed tuppence carelessly'], ['Chapter: 9', 'Sentence: 61', 'Contents: tuppence nodded'], ['Chapter: 9', 'Sentence: 72', 'Contents: tuppence smiled, gratified at the success of her efforts'], ['Chapter: 9', 'Sentence: 77', 'Contents: “mind you, sonny, not a word of this,” said tuppence suddenly'], ['Chapter: 9', 'Sentence: 82', 'Contents: tuppence affected to consider, then shook her head'], ['Chapter: 9', 'Sentence: 88', 'Contents: “won’t she?” said tuppence thoughtfully'], ['Chapter: 9', 'Sentence: 96', 'Contents: “some lad!” commented tuppence, with a nod of approval'], ['Chapter: 9', 'Sentence: 100', 'Contents: “ ritz ,” replied tuppence laconically'], ['Chapter: 9', 'Sentence: 101', 'Contents: “name of cowley'], ['Chapter: 9', 'Sentence: 104', 'Contents: “it sure is,” drawled tuppence, “especially when old man rysdale backs the bill'], ['Chapter: 9', 'Sentence: 110', 'Contents: having dispatched this, and tommy not having yet returned--which did not surprise her--she started off on a shopping expedition which, with an interval for tea and assorted creamy cakes, occupied her until well after six o’clock, and she returned to the hotel jaded, but satisfied with her purchases'], ['Chapter: 9', 'Sentence: 117', 'Contents: “yes,” said tuppence aloud, nodding at the pert reflection in the glass, “you’ll do'], ['Chapter: 9', 'Sentence: 120', 'Contents: tuppence was rather surprised at tommy’s non-return'], ['Chapter: 9', 'Sentence: 126', 'Contents: “i dare say he’s dashed off there now,” thought tuppence'], ['Chapter: 9', 'Sentence: 129', 'Contents: tommy might have wired, or something'], ['Chapter: 9', 'Sentence: 132', 'Contents: that reminds me----” and miss cowley broke off in her meditations, and summoned a small boy'], ['Chapter: 9', 'Sentence: 135', 'Contents: the morning brought a note from mr. carter: “dear miss tuppence, “you have made a splendid start, and i congratulate you'], ['Chapter: 9', 'Sentence: 151', 'Contents: tuppence’s spirits rose mercurially'], ['Chapter: 9', 'Sentence: 156', 'Contents: there was still no word or message from tommy, but the morning post brought a somewhat dirty postcard with the words: “it’s o.k.” scrawled upon it'], ['Chapter: 9', 'Sentence: 157', 'Contents: at ten-thirty tuppence surveyed with pride a slightly battered tin trunk containing her new possessions'], ['Chapter: 9', 'Sentence: 162', 'Contents: ten minutes later a metamorphosed tuppence walked demurely out of the station and entered a bus'], ['Chapter: 9', 'Sentence: 163', 'Contents: it was a few minutes past eleven when tuppence again entered the hall of south audley mansions'], ['Chapter: 9', 'Sentence: 165', 'Contents: he did not immediately recognize tuppence'], ['Chapter: 9', 'Sentence: 169', 'Contents: “glad you like it, albert,” replied tuppence modestly'], ['Chapter: 9', 'Sentence: 176', 'Contents: “nice girl,” said tuppence'], ['Chapter: 9', 'Sentence: 184', 'Contents: tuppence quelled him with a stern glance, and stepped inside'], ['Chapter: 9', 'Sentence: 188', 'Contents: “i’ve come about the place,” said tuppence'], ['Chapter: 9', 'Sentence: 200', 'Contents: i can tell you----” but what more annie could tell, tuppence was never destined to learn, for at that moment a clear voice with a peculiarly steely ring to it called: “annie'], ['Chapter: 9', 'Sentence: 208', 'Contents: tuppence was ushered into a room on the right of the long passage'], ['Chapter: 9', 'Sentence: 215', 'Contents: for the first time tuppence felt afraid'], ['Chapter: 9', 'Sentence: 222', 'Contents: fighting down that instinct of panic which urged her to turn tail and run without further delay, tuppence returned the lady’s gaze firmly and respectfully'], ['Chapter: 9', 'Sentence: 230', 'Contents: glibly enough, tuppence ran through her imaginary career on the lines suggested by mr. carter'], ['Chapter: 9', 'Sentence: 247', 'Contents: “prudence cooper, ma’am'], ['Chapter: 9', 'Sentence: 248', 'Contents: “very well, prudence'], ['Chapter: 9', 'Sentence: 253', 'Contents: tuppence withdrew'], ['Chapter: 9', 'Sentence: 256', 'Contents: tuppence did not even glance at him as she passed meekly out'], ['Chapter: 10', 'Sentence: 1', 'Contents:  tuppence betrayed no awkwardness in her new duties'], ['Chapter: 10', 'Sentence: 4', 'Contents: tuppence had therefore very little fear of proving inefficient'], ['Chapter: 10', 'Sentence: 8', 'Contents: for the rest, she cooked like a  chef , as tuppence had an opportunity of judging that evening'], ['Chapter: 10', 'Sentence: 9', 'Contents: mrs. vandemeyer was expecting a guest to dinner, and tuppence accordingly laid the beautifully polished table for two'], ['Chapter: 10', 'Sentence: 14', 'Contents: at a few minutes past eight the front door bell rang, and tuppence went to answer it with some inward trepidation'], ['Chapter: 10', 'Sentence: 15', 'Contents: she was relieved to see that the visitor was the second of the two men whom tommy had taken upon himself to follow'], ['Chapter: 10', 'Sentence: 17', 'Contents: tuppence announced him, and mrs. vandemeyer rose from her seat on a low divan with a quick murmur of pleasure'], ['Chapter: 10', 'Sentence: 21', 'Contents: tuppence returned to the kitchen'], ['Chapter: 10', 'Sentence: 29', 'Contents: “you know something,” thought tuppence to herself, but aloud she only said: “going to dish up now'], ['Chapter: 10', 'Sentence: 31', 'Contents: whilst waiting at table, tuppence listened closely to all that was said'], ['Chapter: 10', 'Sentence: 32', 'Contents: she remembered that this was one of the men tommy was shadowing when she had last seen him'], ['Chapter: 10', 'Sentence: 37', 'Contents: true, it was only yesterday morning that she had parted from tommy, and she told herself that any anxiety on his behalf would be absurd'], ['Chapter: 10', 'Sentence: 42', 'Contents: tuppence brought in the coffee and liqueurs and unwillingly retired'], ['Chapter: 10', 'Sentence: 48', 'Contents: tuppence lingered a moment longer by the door which she had carefully neglected to close, and heard him say: “quite safe, i suppose'], ['Chapter: 10', 'Sentence: 55', 'Contents: tuppence removed herself speedily'], ['Chapter: 10', 'Sentence: 62', 'Contents: mrs. vandemeyer was sitting almost facing it, and tuppence respected her mistress’s lynx-eyed powers of observation'], ['Chapter: 10', 'Sentence: 64', 'Contents: possibly, if anything unforeseen had happened, she might get news of tommy'], ['Chapter: 10', 'Sentence: 67', 'Contents: slipping quickly through the window, tuppence crept noiselessly along till she reached the boudoir window'], ['Chapter: 10', 'Sentence: 69', 'Contents: tuppence listened attentively, but there was no mention of anything that could be twisted to apply to tommy'], ['Chapter: 10', 'Sentence: 131', 'Contents: tuppence beat a hasty retreat'], ['Chapter: 10', 'Sentence: 137', 'Contents: it seemed incredible that tommy, if all was well with him, should not send any word to her'], ['Chapter: 10', 'Sentence: 149', 'Contents: “what day do you usually go out, prudence'], ['Chapter: 10', 'Sentence: 164', 'Contents: tuppence felt a sensation of relief once she was out of the other’s presence'], ['Chapter: 10', 'Sentence: 166', 'Contents: in the midst of a final desultory polishing of her silver, tuppence was disturbed by the ringing of the front door bell, and went to answer it'], ['Chapter: 10', 'Sentence: 171', 'Contents: tuppence was undecided for the moment whether to put him down as an actor or a lawyer, but her doubts were soon solved as he gave her his name: sir james peel edgerton'], ['Chapter: 10', 'Sentence: 176', 'Contents: tuppence went back to her pantry thoughtfully'], ['Chapter: 10', 'Sentence: 180', 'Contents: in about a quarter of an hour the bell rang, and tuppence repaired to the hall to show the visitor out'], ['Chapter: 10', 'Sentence: 185', 'Contents: tuppence raised her eyes, astonished'], ['Chapter: 10', 'Sentence: 189', 'Contents: “did mrs. vandemeyer tell you that?” asked tuppence suspiciously'], ['Chapter: 10', 'Sentence: 196', 'Contents: “do you mean----?” began tuppence'], ['Chapter: 10', 'Sentence: 201', 'Contents: tuppence went back to the pantry more thoughtful than ever'], ['Chapter: 11', 'Sentence: 1', 'Contents:  dressed appropriately, tuppence duly sallied forth for her “afternoon out'], ['Chapter: 11', 'Sentence: 2', 'Contents: albert was in temporary abeyance, but tuppence went herself to the stationer’s to make quite sure that nothing had come for her'], ['Chapter: 11', 'Sentence: 4', 'Contents: on inquiry she learnt that tommy had not yet returned'], ['Chapter: 11', 'Sentence: 6', 'Contents: she resolved to appeal to mr. carter, telling him when and where tommy had started on his quest, and asking him to do something to trace him'], ['Chapter: 11', 'Sentence: 9', 'Contents: tuppence’s spirits revived still more'], ['Chapter: 11', 'Sentence: 11', 'Contents: perhaps he could devise some plan for finding out what had become of tommy'], ['Chapter: 11', 'Sentence: 14', 'Contents: “i beg your pardon, miss tuppence'], ['Chapter: 11', 'Sentence: 15', 'Contents: those fools down at the office would have it that beresford wasn’t here any longer--hadn’t been here since wednesday'], ['Chapter: 11', 'Sentence: 17', 'Contents: tuppence nodded'], ['Chapter: 11', 'Sentence: 30', 'Contents: “waterloo?” frowned tuppence'], ['Chapter: 11', 'Sentence: 33', 'Contents: “i haven’t seen him either,” replied tuppence impatiently'], ['Chapter: 11', 'Sentence: 40', 'Contents: “oh!” said tuppence, her eyes opening'], ['Chapter: 11', 'Sentence: 44', 'Contents: beresford was there'], ['Chapter: 11', 'Sentence: 47', 'Contents: tommy shoved a ticket into my hand and told me to get aboard the cars'], ['Chapter: 11', 'Sentence: 51', 'Contents: “julius,” said tuppence firmly, “stop walking up and down'], ['Chapter: 11', 'Sentence: 130', 'Contents: “oh, julius,” breathed tuppence, “how exciting'], ['Chapter: 11', 'Sentence: 151', 'Contents: “i noticed you walked lame,” interpolated tuppence'], ['Chapter: 11', 'Sentence: 223', 'Contents: next thing i did was to write out a wire to beresford saying where i was, and that i was laid up with a sprained foot, and telling him to come down if he wasn’t busy'], ['Chapter: 11', 'Sentence: 227', 'Contents: say, miss tuppence, you’re looking mighty pale'], ['Chapter: 11', 'Sentence: 228', 'Contents: “it’s tommy,” said tuppence'], ['Chapter: 11', 'Sentence: 234', 'Contents: tuppence shook her head'], ['Chapter: 11', 'Sentence: 243', 'Contents: tuppence thereupon related the events of the last two days'], ['Chapter: 11', 'Sentence: 248', 'Contents: then he added seriously: “but say now, i don’t like it, miss tuppence, i sure don’t'], ['Chapter: 11', 'Sentence: 251', 'Contents: “do you think i’m afraid?” said tuppence indignantly, valiantly repressing memories of the steely glitter in mrs. vandemeyer’s eyes'], ['Chapter: 11', 'Sentence: 255', 'Contents: ” said tuppence impatiently'], ['Chapter: 11', 'Sentence: 256', 'Contents: “let’s think about what can have happened to tommy'], ['Chapter: 11', 'Sentence: 261', 'Contents: “what can we do?” asked tuppence, her spirits rising'], ['Chapter: 11', 'Sentence: 279', 'Contents: “oh,” said tuppence faintly, “i  like  rolls-royces, but----” “sure,” agreed julius'], ['Chapter: 11', 'Sentence: 282', 'Contents: “but you can’t at once,” cried tuppence'], ['Chapter: 11', 'Sentence: 287', 'Contents: tuppence got up'], ['Chapter: 11', 'Sentence: 300', 'Contents: “i don’t quite know,” said tuppence meditatively'], ['Chapter: 11', 'Sentence: 303', 'Contents: “i don’t know,” confessed tuppence'], ['Chapter: 11', 'Sentence: 309', 'Contents: “well, i believe he could,” reiterated tuppence obstinately'], ['Chapter: 11', 'Sentence: 314', 'Contents: he took tuppence by the arm, and walked her to the window'], ['Chapter: 11', 'Sentence: 316', 'Contents: “oh!” said tuppence with a note of reverence in her voice, as she gazed down at the enormous car'], ['Chapter: 11', 'Sentence: 318', 'Contents: “how did you get it?” gasped tuppence'], ['Chapter: 11', 'Sentence: 324', 'Contents: “well?” said tuppence, intoxicated'], ['Chapter: 12', 'Sentence: 2', 'Contents: tuppence had received a brief answer to her appeal from mr. carter'], ['Chapter: 12', 'Sentence: 4', 'Contents: if anything had happened to tommy he regretted it deeply, but he could do nothing'], ['Chapter: 12', 'Sentence: 6', 'Contents: somehow, without tommy, all the savour went out of the adventure, and, for the first time, tuppence felt doubtful of success'], ['Chapter: 12', 'Sentence: 8', 'Contents: although she was accustomed to take the lead, and to pride herself on her quick-wittedness, in reality she had relied upon tommy more than she realized at the time'], ['Chapter: 12', 'Sentence: 9', 'Contents: there was something so eminently sober and clear-headed about him, his common sense and soundness of vision were so unvarying, that without him tuppence felt much like a rudderless ship'], ['Chapter: 12', 'Sentence: 10', 'Contents: it was curious that julius, who was undoubtedly much cleverer than tommy, did not give her the same feeling of support'], ['Chapter: 12', 'Sentence: 11', 'Contents: she had accused tommy of being a pessimist, and it is certain that he always saw the disadvantages and difficulties which she herself was optimistically given to overlooking, but nevertheless she had really relied a good deal on his judgment'], ['Chapter: 12', 'Sentence: 16', 'Contents: tommy--that was all that mattered'], ['Chapter: 12', 'Sentence: 17', 'Contents: many times in the day tuppence blinked the tears out of her eyes resolutely'], ['Chapter: 12', 'Sentence: 24', 'Contents: tuppence gave herself over to new meditations'], ['Chapter: 12', 'Sentence: 31', 'Contents: perhaps he might tell them something concerning mrs. vandemeyer which might lead to a clue to tommy’s whereabouts'], ['Chapter: 12', 'Sentence: 32', 'Contents: anyway, tuppence decided, with her usual shake of the shoulders, it was worth trying, and try it she would'], ['Chapter: 12', 'Sentence: 35', 'Contents: when the day arrived julius needed a considerable amount of persuading, but tuppence held firm'], ['Chapter: 12', 'Sentence: 39', 'Contents: tuppence felt a little nervous'], ['Chapter: 12', 'Sentence: 48', 'Contents: the collection of books was a magnificent one, and tuppence noticed that all one wall was devoted to works on crime and criminology'], ['Chapter: 12', 'Sentence: 53', 'Contents: ah”--he recognized tuppence with a smile--“it’s you, is it'], ['Chapter: 12', 'Sentence: 55', 'Contents: “not exactly,” said tuppence'], ['Chapter: 12', 'Sentence: 61', 'Contents: “sir james,” said tuppence, plunging boldly, “i dare say you will think it is most awful cheek of me coming here like this'], ['Chapter: 12', 'Sentence: 62', 'Contents: because, of course, it’s nothing whatever to do with you, and then you’re a very important person, and of course tommy and i are very unimportant'], ['Chapter: 12', 'Sentence: 64', 'Contents: “tommy?” queried sir james, looking across at the american'], ['Chapter: 12', 'Sentence: 65', 'Contents: “no, that’s julius,” explained tuppence'], ['Chapter: 12', 'Sentence: 78', 'Contents: “of course,” said tuppence'], ['Chapter: 12', 'Sentence: 85', 'Contents: “i see,” said tuppence thoughtfully'], ['Chapter: 12', 'Sentence: 93', 'Contents: “i want to know who tommy is'], ['Chapter: 12', 'Sentence: 94', 'Contents: thus encouraged tuppence plunged into her tale, and the lawyer listened with close attention'], ['Chapter: 12', 'Sentence: 105', 'Contents: “oh, sir james,” broke out tuppence, “what do you think has become of tommy'], ['Chapter: 12', 'Sentence: 113', 'Contents: tuppence clasped her hands ecstatically'], ['Chapter: 12', 'Sentence: 115', 'Contents: now, don’t get offended, miss--er----” “cowley'], ['Chapter: 12', 'Sentence: 116', 'Contents: prudence cowley'], ['Chapter: 12', 'Sentence: 117', 'Contents: but my friends call me tuppence'], ['Chapter: 12', 'Sentence: 118', 'Contents: “well, miss tuppence, then, as i’m certainly going to be a friend'], ['Chapter: 12', 'Sentence: 121', 'Contents: now, about this young tommy of yours----” “yes'], ['Chapter: 12', 'Sentence: 122', 'Contents: tuppence clasped her hands'], ['Chapter: 12', 'Sentence: 135', 'Contents: “this petty little business, as you call it, bears directly on a very big business, bigger perhaps than either you or miss tuppence know'], ['Chapter: 12', 'Sentence: 138', 'Contents: “yes, but how?” cried tuppence'], ['Chapter: 12', 'Sentence: 142', 'Contents: “who is that?” asked tuppence, puzzled'], ['Chapter: 12', 'Sentence: 147', 'Contents: “how?” demanded tuppence, opening her eyes very wide'], ['Chapter: 12', 'Sentence: 150', 'Contents: he tapped with his finger on the table, and tuppence felt again the intense power that radiated from the man'], ['Chapter: 12', 'Sentence: 174', 'Contents: “but it’s all o.k. about julius,” put in tuppence'], ['Chapter: 12', 'Sentence: 183', 'Contents: he turned to tuppence'], ['Chapter: 12', 'Sentence: 196', 'Contents: “he’s got a new rolls-royce car,” said tuppence with vicarious pride'], ['Chapter: 12', 'Sentence: 201', 'Contents: tuppence rose to her feet with a skip of delight'], ['Chapter: 12', 'Sentence: 203', 'Contents: “don’t build on it too much, miss tuppence'], ['Chapter: 12', 'Sentence: 211', 'Contents: now, miss tuppence, my advice to you is to go and have a good dinner, a  really  good one, mind'], ['Chapter: 12', 'Sentence: 214', 'Contents: “isn’t he a duck?” inquired tuppence ecstatically, as she skipped down the steps'], ['Chapter: 12', 'Sentence: 233', 'Contents: tuppence walked briskly along towards the serpentine, first glancing at her watch'], ['Chapter: 12', 'Sentence: 242', 'Contents: what tuppence had expected she hardly knew, but the sight of its red brick stolidity slightly assuaged the growing and entirely unreasonable uneasiness that possessed her'], ['Chapter: 12', 'Sentence: 244', 'Contents: tuppence frowned'], ['Chapter: 12', 'Sentence: 247', 'Contents: “who’s going?” demanded tuppence sharply'], ['Chapter: 12', 'Sentence: 253', 'Contents: tuppence clutched his arm'], ['Chapter: 12', 'Sentence: 256', 'Contents: “albert,” cried tuppence, “you’re a brick'], ['Chapter: 12', 'Sentence: 259', 'Contents: “there’s no time to lose,” said tuppence, crossing the road'], ['Chapter: 12', 'Sentence: 277', 'Contents: drawing a long breath, tuppence entered the mansions and ran up to the door of no'], ['Chapter: 12', 'Sentence: 283', 'Contents: tuppence pressed the bell firmly'], ['Chapter: 12', 'Sentence: 285', 'Contents: nothing happened and, after waiting some minutes, tuppence pressed the bell again, keeping her finger on the button for some little while'], ['Chapter: 12', 'Sentence: 289', 'Contents: “i had a touch of toothache, ma’am,” said tuppence glibly'], ['Chapter: 12', 'Sentence: 291', 'Contents: mrs. vandemeyer said nothing, but she drew back and let tuppence pass into the hall'], ['Chapter: 12', 'Sentence: 298', 'Contents: suddenly tuppence felt afraid'], ['Chapter: 12', 'Sentence: 301', 'Contents: tuppence turned at bay'], ['Chapter: 12', 'Sentence: 311', 'Contents: there was a sort of hideous geniality in the last words which tuppence did not at all like'], ['Chapter: 12', 'Sentence: 315', 'Contents: tuppence pulled herself together with an effort'], ['Chapter: 12', 'Sentence: 329', 'Contents: tuppence obeyed passively'], ['Chapter: 12', 'Sentence: 333', 'Contents: mrs. vandemeyer laid down the revolver on the edge of the washstand within reach of her hand, and, still eyeing tuppence like a lynx in case the girl should attempt to move, she took a little stoppered bottle from its place on the marble and poured some of its contents into a glass which she filled up with water'], ['Chapter: 12', 'Sentence: 334', 'Contents: “what’s that?” asked tuppence sharply'], ['Chapter: 12', 'Sentence: 336', 'Contents: tuppence paled a little'], ['Chapter: 12', 'Sentence: 339', 'Contents: “then i shan’t drink it,” said tuppence firmly'], ['Chapter: 12', 'Sentence: 353', 'Contents: in her heart of hearts tuppence believed her'], ['Chapter: 12', 'Sentence: 357', 'Contents: she felt that once mrs. vandemeyer gave them the slip, the last hope of finding tommy would be gone'], ['Chapter: 12', 'Sentence: 358', 'Contents: tuppence was quick in her mental processes'], ['Chapter: 12', 'Sentence: 370', 'Contents: but tuppence continued to cling and sob, interjecting her sobs with incoherent appeals for mercy'], ['Chapter: 12', 'Sentence: 376', 'Contents: tuppence gave one last despairing moan'], ['Chapter: 12', 'Sentence: 383', 'Contents: tuppence raised a trembling left hand to the glass'], ['Chapter: 12', 'Sentence: 387', 'Contents: then, quick as a flash, tuppence jerked the glass upward as hard as she could'], ['Chapter: 12', 'Sentence: 388', 'Contents: the fluid in it splashed into mrs. vandemeyer’s face, and during her momentary gasp, tuppence’s right hand shot out and grasped the revolver where it lay on the edge of the washstand'], ['Chapter: 12', 'Sentence: 390', 'Contents: in the moment of victory, tuppence betrayed a somewhat unsportsmanlike triumph'], ['Chapter: 12', 'Sentence: 393', 'Contents: for a minute tuppence thought she was going to spring upon her, which would have placed the girl in an unpleasant dilemma, since she meant to draw the line at actually letting off the revolver'], ['Chapter: 12', 'Sentence: 399', 'Contents: “i’m surprised you should have been gulled so easily,” said tuppence scornfully'], ['Chapter: 12', 'Sentence: 402', 'Contents: the cold malignity of her manner sent an unpleasant chill down tuppence’s spine, but she was not going to give in to it'], ['Chapter: 12', 'Sentence: 411', 'Contents: tuppence eyed her thoughtfully for a minute'], ['Chapter: 12', 'Sentence: 418', 'Contents: keeping her eyes fixed steadily on the other’s face, tuppence replied quietly: “money----” mrs. vandemeyer started'], ['Chapter: 12', 'Sentence: 427', 'Contents: but money”--tuppence warmed to her pet creed--“well, there’s nothing unsatisfactory about money, is there'], ['Chapter: 12', 'Sentence: 429', 'Contents: “yes,” said tuppence promptly'], ['Chapter: 12', 'Sentence: 432', 'Contents: “no,” said tuppence'], ['Chapter: 12', 'Sentence: 437', 'Contents: in that moment tuppence knew that the fish was hooked, and for the first time she felt a horror of her own money-loving spirit'], ['Chapter: 12', 'Sentence: 439', 'Contents: “a hundred thousand pounds,” repeated tuppence'], ['Chapter: 12', 'Sentence: 444', 'Contents: “no,” admitted tuppence, “i haven’t--but i know some one who has'], ['Chapter: 12', 'Sentence: 456', 'Contents: tuppence went through a momentary struggle, but it was julius’s money, and his interests must come first'], ['Chapter: 12', 'Sentence: 463', 'Contents: “then”--tuppence’s voice shook a little--“there’s a boy, a friend of mine'], ['Chapter: 12', 'Sentence: 466', 'Contents: “tommy beresford'], ['Chapter: 12', 'Sentence: 471', 'Contents: tuppence felt a terrific rise in her spirits'], ['Chapter: 12', 'Sentence: 475', 'Contents: tuppence leaned forward and lowered her voice'], ['Chapter: 12', 'Sentence: 485', 'Contents: “you do,” said tuppence quietly'], ['Chapter: 12', 'Sentence: 492', 'Contents: i was beautiful, you see--very beautiful----” “you are still,” said tuppence with admiration'], ['Chapter: 12', 'Sentence: 509', 'Contents: she clutched tuppence’s arm'], ['Chapter: 12', 'Sentence: 530', 'Contents: “think of the hundred thousand pounds,” said tuppence soothingly'], ['Chapter: 12', 'Sentence: 535', 'Contents: her outstretched hand pointed over tuppence’s head'], ['Chapter: 12', 'Sentence: 537', 'Contents: tuppence looked round to see what had startled her'], ['Chapter: 13', 'Sentence: 6', 'Contents: “not there,” said tuppence over her shoulder'], ['Chapter: 13', 'Sentence: 9', 'Contents: between them sir james and tuppence lifted mrs. vandemeyer and carried her to the bed'], ['Chapter: 13', 'Sentence: 15', 'Contents: while tuppence lifted her head the lawyer tried to force a little of the spirit between her closed lips'], ['Chapter: 13', 'Sentence: 17', 'Contents: tuppence held the glass to her lips'], ['Chapter: 13', 'Sentence: 31', 'Contents: tuppence related how mrs. vandemeyer had declared herself willing to disclose the identity of mr. brown, and how she had consented to discover and reveal to them the whereabouts of jane finn'], ['Chapter: 13', 'Sentence: 33', 'Contents: “that’s all right, miss tuppence'], ['Chapter: 13', 'Sentence: 38', 'Contents: there was certainly a good deal of common sense in this, and tuppence felt a little comforted'], ['Chapter: 13', 'Sentence: 45', 'Contents: “well,” said tuppence, with an attempt at cheerfulness, “we must wait until the morning, that’s all'], ['Chapter: 13', 'Sentence: 59', 'Contents: “miss tuppence is right,” said sir james quietly'], ['Chapter: 13', 'Sentence: 70', 'Contents: i would suggest that miss tuppence should go to bed, and that you and i, mr. hersheimmer, should share the vigil'], ['Chapter: 13', 'Sentence: 71', 'Contents: tuppence was about to protest, but happening to glance at the bed she saw mrs. vandemeyer, her eyes half-open, with such an expression of mingled fear and malevolence on her face that it quite froze the words on her lips'], ['Chapter: 13', 'Sentence: 79', 'Contents: “perfectly satisfactory,” he said in a low voice to tuppence'], ['Chapter: 13', 'Sentence: 85', 'Contents: tuppence bent over her'], ['Chapter: 13', 'Sentence: 88', 'Contents: tuppence bent lower still'], ['Chapter: 13', 'Sentence: 96', 'Contents: but her words had awakened a new uneasiness in tuppence'], ['Chapter: 13', 'Sentence: 98', 'Contents: tuppence caught herself nervously looking over her shoulder'], ['Chapter: 13', 'Sentence: 104', 'Contents: half-ashamed of herself, tuppence pulled it open and looked inside'], ['Chapter: 13', 'Sentence: 108', 'Contents: tuppence gave her familiar shake of the shoulders'], ['Chapter: 13', 'Sentence: 113', 'Contents: “lock the door on the outside, please, miss tuppence, and take out the key'], ['Chapter: 13', 'Sentence: 115', 'Contents: the gravity of his manner impressed them, and tuppence felt less ashamed of her attack of “nerves'], ['Chapter: 13', 'Sentence: 116', 'Contents: “say,” remarked julius suddenly, “there’s tuppence’s bright boy'], ['Chapter: 13', 'Sentence: 118', 'Contents: that’s some lad, tuppence'], ['Chapter: 13', 'Sentence: 119', 'Contents: “how did you get in, by the way?” asked tuppence suddenly'], ['Chapter: 13', 'Sentence: 129', 'Contents: “now then, miss tuppence,” said sir james, “you know this place better than i do'], ['Chapter: 13', 'Sentence: 131', 'Contents: tuppence considered for a moment or two'], ['Chapter: 13', 'Sentence: 135', 'Contents: tuppence shook her head resolutely'], ['Chapter: 13', 'Sentence: 143', 'Contents: having in his turn failed to persuade tuppence to go to bed, he said decisively: “at any rate, you’ve got to have something to eat right away'], ['Chapter: 13', 'Sentence: 145', 'Contents: tuppence directed him, and he returned in a few minutes with a cold pie and three plates'], ['Chapter: 13', 'Sentence: 148', 'Contents: “and now, miss tuppence,” said sir james, “we want to hear your adventures'], ['Chapter: 13', 'Sentence: 150', 'Contents: tuppence narrated her adventures with some complacence'], ['Chapter: 13', 'Sentence: 152', 'Contents: sir james said nothing until she had finished, when his quiet “well done, miss tuppence,” made her flush with pleasure'], ['Chapter: 13', 'Sentence: 155', 'Contents: “i don’t know,” confessed tuppence'], ['Chapter: 13', 'Sentence: 186', 'Contents: “perhaps the doctor’s in it too,” suggested tuppence'], ['Chapter: 13', 'Sentence: 193', 'Contents: “why?” demanded tuppence'], ['Chapter: 13', 'Sentence: 204', 'Contents: “how could you think of anything after falling out of that tree?” cried tuppence'], ['Chapter: 13', 'Sentence: 208', 'Contents: “yes,” said tuppence, but there was a lack of assurance in her voice'], ['Chapter: 13', 'Sentence: 212', 'Contents: suddenly tuppence sprang up with a cry'], ['Chapter: 13', 'Sentence: 216', 'Contents: “sure, tuppence, how could he be'], ['Chapter: 13', 'Sentence: 221', 'Contents: she looked appealingly at sir james, who replied gravely: “with due deference to your feelings, miss tuppence (and mine as well for that matter), i do not see how it is humanly possible for anyone to be in the flat without our knowledge'], ['Chapter: 13', 'Sentence: 227', 'Contents: “do you believe in spiritualism?” asked tuppence, opening her eyes wide'], ['Chapter: 13', 'Sentence: 235', 'Contents: tuppence’s spirits revived to the normal'], ['Chapter: 13', 'Sentence: 238', 'Contents: and we shall find tommy'], ['Chapter: 13', 'Sentence: 242', 'Contents: at seven o’clock tuppence volunteered to go and make some tea'], ['Chapter: 13', 'Sentence: 248', 'Contents: “yes, it does,” admitted tuppence'], ['Chapter: 13', 'Sentence: 259', 'Contents: tuppence drew a long breath and entered'], ['Chapter: 13', 'Sentence: 264', 'Contents: tuppence put down the cup on the table by the bed and went across to draw up the blinds'], ['Chapter: 13', 'Sentence: 266', 'Contents: with a sudden fear clutching at her heart, tuppence ran to the bed'], ['Chapter: 13', 'Sentence: 290', 'Contents: “we must find out,” he said quietly, and tuppence felt that if she was mr. brown she would not like the tone of those simple words'], ['Chapter: 13', 'Sentence: 293', 'Contents: “do you think----” tuppence shook her head'], ['Chapter: 13', 'Sentence: 303', 'Contents: “there’s that,” said tuppence suddenly, pointing to a small, old-fashioned safe let into the wall'], ['Chapter: 13', 'Sentence: 307', 'Contents: “well,” said tuppence impatiently'], ['Chapter: 13', 'Sentence: 315', 'Contents: tuppence remembered the glass she had upset'], ['Chapter: 14', 'Sentence: 1', 'Contents:  nothing was more surprising and bewildering to tuppence than the ease and simplicity with which everything was arranged, owing to sir james’s skilful handling'], ['Chapter: 14', 'Sentence: 21', 'Contents: it was arranged that tuppence and julius should return to the  ritz , and call for sir james in the car'], ['Chapter: 14', 'Sentence: 26', 'Contents: “let me introduce you to miss cowley'], ['Chapter: 15', 'Sentence: 19', 'Contents: tuppence shook her head'], ['Chapter: 15', 'Sentence: 39', 'Contents: “how maddening,” cried tuppence'], ['Chapter: 15', 'Sentence: 42', 'Contents: “you couldn’t know,” tuppence consoled him'], ['Chapter: 15', 'Sentence: 47', 'Contents: “the great thing is what to do next,” added tuppence the practical'], ['Chapter: 15', 'Sentence: 52', 'Contents: “nothing?” said tuppence blankly'], ['Chapter: 15', 'Sentence: 53', 'Contents: “and--tommy'], ['Chapter: 15', 'Sentence: 60', 'Contents: sir james took tuppence’s hand'], ['Chapter: 15', 'Sentence: 63', 'Contents: tuppence stared at him blankly'], ['Chapter: 15', 'Sentence: 74', 'Contents: his words gave tuppence an extraordinarily desolate feeling'], ['Chapter: 15', 'Sentence: 80', 'Contents: “don’t be too disconsolate, miss tuppence,” he said in a low voice'], ['Chapter: 15', 'Sentence: 83', 'Contents: something in his tone made tuppence glance up sharply'], ['Chapter: 15', 'Sentence: 92', 'Contents: tuppence stared after him'], ['Chapter: 15', 'Sentence: 100', 'Contents: tuppence opened her mouth impulsively, and then shut it again'], ['Chapter: 15', 'Sentence: 113', 'Contents: the keen rush through the air brought a new exhilaration to tuppence'], ['Chapter: 15', 'Sentence: 114', 'Contents: “say, miss tuppence, do you think i’m ever going to find jane'], ['Chapter: 15', 'Sentence: 116', 'Contents: the mood was so alien to him that tuppence turned and stared at him in surprise'], ['Chapter: 15', 'Sentence: 122', 'Contents: tuppence felt rather uncomfortable, but clinging to her belief that julius also had withheld something from her, she remained firm'], ['Chapter: 15', 'Sentence: 127', 'Contents: “oh no!” cried tuppence'], ['Chapter: 15', 'Sentence: 128', 'Contents: “we’ve got to find tommy'], ['Chapter: 15', 'Sentence: 129', 'Contents: “i sure forgot beresford,” said julius contritely'], ['Chapter: 15', 'Sentence: 134', 'Contents: say, miss tuppence, there’s something i’d like to ask you'], ['Chapter: 15', 'Sentence: 136', 'Contents: “you and beresford'], ['Chapter: 15', 'Sentence: 138', 'Contents: “i don’t understand you,” replied tuppence with dignity, adding rather inconsequently: “and, anyway, you’re wrong'], ['Chapter: 15', 'Sentence: 140', 'Contents: “certainly not,” said tuppence with warmth'], ['Chapter: 15', 'Sentence: 141', 'Contents: “tommy and i are friends--nothing more'], ['Chapter: 15', 'Sentence: 143', 'Contents: “nonsense!” snapped tuppence'], ['Chapter: 15', 'Sentence: 147', 'Contents: “oh!” said tuppence, rather taken aback'], ['Chapter: 15', 'Sentence: 151', 'Contents: supposing we never find beresford and--and----” “all right--say it'], ['Chapter: 15', 'Sentence: 157', 'Contents: “i don’t know,” said tuppence forlornly'], ['Chapter: 15', 'Sentence: 159', 'Contents: “i shall be all right,” snapped tuppence with her usual resentment of any kind of pity'], ['Chapter: 15', 'Sentence: 162', 'Contents: “i intend to marry, of course,” replied tuppence'], ['Chapter: 15', 'Sentence: 168', 'Contents: “figure?” asked tuppence, puzzled'], ['Chapter: 15', 'Sentence: 183', 'Contents: i admire you immensely, miss tuppence, more than any girl i’ve ever met'], ['Chapter: 15', 'Sentence: 187', 'Contents: “i can’t,” gasped tuppence'], ['Chapter: 15', 'Sentence: 188', 'Contents: “because of beresford'], ['Chapter: 15', 'Sentence: 191', 'Contents: tuppence merely continued to shake her head violently'], ['Chapter: 15', 'Sentence: 193', 'Contents: “oh, it isn’t that,” gasped tuppence with an almost hysterical laugh'], ['Chapter: 15', 'Sentence: 198', 'Contents: “very well,” said tuppence meekly'], ['Chapter: 15', 'Sentence: 200', 'Contents: tuppence went upstairs to her room'], ['Chapter: 15', 'Sentence: 203', 'Contents: “fool,” murmured tuppence at length, making a grimace'], ['Chapter: 15', 'Sentence: 211', 'Contents: as if in answer to her own question, her eyes fell on a small snapshot of tommy that stood on her dressing-table in a shabby frame'], ['Chapter: 15', 'Sentence: 213', 'Contents: “oh, tommy, tommy,” she cried, “i do love you so--and i may never see you again'], ['Chapter: 15', 'Sentence: 217', 'Contents: at the end of five minutes tuppence sat up, blew her nose, and pushed back her hair'], ['Chapter: 15', 'Sentence: 229', 'Contents: tuppence shook her head sadly, as she reviewed her backsliding'], ['Chapter: 15', 'Sentence: 233', 'Contents: i wonder if he did find anything in that safe----” tuppence’s meditations went off on another tack'], ['Chapter: 15', 'Sentence: 258', 'Contents: tuppence took it from the salver, and tore it open carelessly'], ['Chapter: 15', 'Sentence: 260', 'Contents: the telegram was from tommy'], ['Chapter: 16', 'Sentence: 1', 'Contents:  from a darkness punctuated with throbbing stabs of fire, tommy dragged his senses slowly back to life'], ['Chapter: 16', 'Sentence: 9', 'Contents: “damn!” said tommy, and tried to sit up'], ['Chapter: 16', 'Sentence: 14', 'Contents: “he is coming to,” remarked a voice very near tommy’s ear'], ['Chapter: 16', 'Sentence: 22', 'Contents: “well, here goes,” murmured tommy to himself, and repeated his former remark'], ['Chapter: 16', 'Sentence: 25', 'Contents: tommy obeyed'], ['Chapter: 16', 'Sentence: 30', 'Contents: but tommy missed one face'], ['Chapter: 16', 'Sentence: 33', 'Contents: “yes, thanks,” returned tommy cheerfully'], ['Chapter: 16', 'Sentence: 38', 'Contents: tommy twisted his head round with an effort'], ['Chapter: 16', 'Sentence: 43', 'Contents: “just as you like,” replied tommy'], ['Chapter: 16', 'Sentence: 47', 'Contents: tommy beresford was one of those young englishmen not distinguished by any special intellectual ability, but who are emphatically at their best in what is known as a “tight place'], ['Chapter: 16', 'Sentence: 49', 'Contents: tommy realized perfectly that in his own wits lay the only chance of escape, and behind his casual manner he was racking his brains furiously'], ['Chapter: 16', 'Sentence: 51', 'Contents: “simply lots of things,” replied tommy with the same urbanity as before'], ['Chapter: 16', 'Sentence: 57', 'Contents: tommy smiled deprecatingly at him'], ['Chapter: 16', 'Sentence: 61', 'Contents: “yes,” tommy chimed in'], ['Chapter: 16', 'Sentence: 67', 'Contents: “ah,” said tommy, “but i’m not dead yet'], ['Chapter: 16', 'Sentence: 70', 'Contents: tommy’s heart beat faster, but his casual pleasantness did not waver'], ['Chapter: 16', 'Sentence: 75', 'Contents: “several,” replied tommy'], ['Chapter: 16', 'Sentence: 79', 'Contents: the german hesitated, and tommy seized his advantage'], ['Chapter: 16', 'Sentence: 89', 'Contents: “you hear?” said the german, his eyes on tommy'], ['Chapter: 16', 'Sentence: 92', 'Contents: tommy shrugged his shoulders'], ['Chapter: 16', 'Sentence: 99', 'Contents: tommy was pleased with the concluding words of this speech'], ['Chapter: 16', 'Sentence: 100', 'Contents: his only regret was that tuppence was not present to appreciate its full flavour'], ['Chapter: 16', 'Sentence: 104', 'Contents: tommy smiled at them encouragingly'], ['Chapter: 16', 'Sentence: 111', 'Contents: “bah!” said tommy scornfully, fighting down a singularly unpleasant feeling in the pit of his stomach'], ['Chapter: 16', 'Sentence: 114', 'Contents: “because you’d kill the goose that lays the golden eggs,” replied tommy quietly'], ['Chapter: 16', 'Sentence: 116', 'Contents: it seemed as though tommy’s persistent assurance was at last conquering'], ['Chapter: 16', 'Sentence: 118', 'Contents: the man in the shabby clothes stared at tommy searchingly'], ['Chapter: 16', 'Sentence: 120', 'Contents: tommy hated him'], ['Chapter: 16', 'Sentence: 122', 'Contents: the german, with an effort, turned roughly to tommy'], ['Chapter: 16', 'Sentence: 124', 'Contents: “what do you think i mean?” parried tommy, searching desperately in his own mind'], ['Chapter: 16', 'Sentence: 125', 'Contents: suddenly boris stepped forward, and shook his fist in tommy’s face'], ['Chapter: 16', 'Sentence: 127', 'Contents: “don’t get so excited, my good fellow,” said tommy calmly'], ['Chapter: 16', 'Sentence: 133', 'Contents: “thank god, he’s not a mind reader,” thought tommy'], ['Chapter: 16', 'Sentence: 143', 'Contents: slowly tommy spoke'], ['Chapter: 16', 'Sentence: 148', 'Contents: he leaned over tommy, his face purple with excitement'], ['Chapter: 16', 'Sentence: 151', 'Contents: with magnificent calm tommy shook his head'], ['Chapter: 16', 'Sentence: 153', 'Contents: again tommy shook his head'], ['Chapter: 16', 'Sentence: 156', 'Contents: tommy looked round'], ['Chapter: 16', 'Sentence: 160', 'Contents: tommy raised his hand, and silenced the clamours of disgust'], ['Chapter: 16', 'Sentence: 166', 'Contents: tommy lay back on the couch'], ['Chapter: 16', 'Sentence: 170', 'Contents: for five minutes, tommy sat on the bed in the dingy room next door'], ['Chapter: 16', 'Sentence: 176', 'Contents: “let’s hope the judge hasn’t put his black cap on,” remarked tommy frivolously'], ['Chapter: 16', 'Sentence: 180', 'Contents: he motioned to tommy to sit down opposite to him'], ['Chapter: 16', 'Sentence: 183', 'Contents: “idiot!” said tommy amiably'], ['Chapter: 16', 'Sentence: 189', 'Contents: “no,” said tommy thoughtfully'], ['Chapter: 16', 'Sentence: 197', 'Contents: “you’re tying my hands,” complained tommy'], ['Chapter: 16', 'Sentence: 203', 'Contents: tommy leaned back wearily'], ['Chapter: 16', 'Sentence: 211', 'Contents: tommy’s heart beat a little faster'], ['Chapter: 16', 'Sentence: 216', 'Contents: tommy paused'], ['Chapter: 16', 'Sentence: 218', 'Contents: again there was a look in the german’s eyes that tommy did not quite understand'], ['Chapter: 16', 'Sentence: 224', 'Contents: more than ever, tommy felt that there was a factor somewhere that he did not understand'], ['Chapter: 16', 'Sentence: 227', 'Contents: tommy felt his ascendancy less sure than a moment before'], ['Chapter: 16', 'Sentence: 242', 'Contents: “wait a minute,” said tommy'], ['Chapter: 16', 'Sentence: 248', 'Contents: “who?” asked tommy'], ['Chapter: 16', 'Sentence: 253', 'Contents: tommy rose obediently'], ['Chapter: 16', 'Sentence: 256', 'Contents: on the floor above conrad opened a door and tommy passed into a small room'], ['Chapter: 16', 'Sentence: 258', 'Contents: tommy heard the sound of the key being turned in the lock'], ['Chapter: 16', 'Sentence: 266', 'Contents: the latter brought tommy’s mind back to mr. brown again'], ['Chapter: 16', 'Sentence: 273', 'Contents: with an effort tommy pulled himself together'], ['Chapter: 16', 'Sentence: 277', 'Contents: “anyway,” said tommy, trying to cheer himself, “i shall see the chief--the mysterious mr. brown and with a bit of luck in bluffing i shall see the mysterious jane finn also'], ['Chapter: 16', 'Sentence: 278', 'Contents: after that----” after that tommy was forced to admit the prospect looked dreary'], ['Chapter: 17', 'Sentence: 3', 'Contents: tommy had a healthy and vigorous appetite'], ['Chapter: 17', 'Sentence: 9', 'Contents: “hang it all!” said tommy indignantly'], ['Chapter: 17', 'Sentence: 18', 'Contents: tommy stroked his own head tenderly, and gave himself up to the pleasures of imagination'], ['Chapter: 17', 'Sentence: 26', 'Contents: if he met anyone on the way down, well---- tommy brightened at the thought of an encounter with his fists'], ['Chapter: 17', 'Sentence: 28', 'Contents: intoxicated by his plan, tommy gently unhooked the picture of the devil and faust, and settled himself in position'], ['Chapter: 17', 'Sentence: 32', 'Contents: night and day were the same in this prison room, but tommy’s wrist-watch, which enjoyed a certain degree of accuracy, informed him that it was nine o’clock in the evening'], ['Chapter: 17', 'Sentence: 33', 'Contents: tommy reflected gloomily that if supper did not arrive soon it would be a question of waiting for breakfast'], ['Chapter: 17', 'Sentence: 37', 'Contents: not belonging to the type of hero who is famous for awaking in full possession of his faculties, tommy merely blinked at the ceiling and wondered vaguely where he was'], ['Chapter: 17', 'Sentence: 42', 'Contents: too late, tommy remembered his scheme of obliterating the unprepossessing conrad'], ['Chapter: 17', 'Sentence: 45', 'Contents: in the feeble light of the gas burner tommy blinked at her'], ['Chapter: 17', 'Sentence: 50', 'Contents: a delirious thought shot through tommy’s mind'], ['Chapter: 17', 'Sentence: 55', 'Contents: “oh!” said tommy, rather taken aback'], ['Chapter: 17', 'Sentence: 60', 'Contents: “not for any length of time,” said tommy'], ['Chapter: 17', 'Sentence: 64', 'Contents: tommy dropped off the bed and came and inspected the contents of the tray'], ['Chapter: 17', 'Sentence: 70', 'Contents: “wait a sec,” cried tommy'], ['Chapter: 17', 'Sentence: 76', 'Contents: “i see,” said tommy'], ['Chapter: 17', 'Sentence: 87', 'Contents: “i wonder who ‘they’ are,” mused tommy, as he continued to make inroads on the loaf'], ['Chapter: 17', 'Sentence: 91', 'Contents: “good morning,” said tommy amiably'], ['Chapter: 17', 'Sentence: 102', 'Contents: the remark was unpleasant in its suggestion, but tommy ignored it'], ['Chapter: 17', 'Sentence: 106', 'Contents: that evening tommy sat on the bed, and cogitated deeply'], ['Chapter: 17', 'Sentence: 121', 'Contents: tommy was secretly grateful for the information'], ['Chapter: 17', 'Sentence: 135', 'Contents: “wouldn’t you do anything to help another girl?” cried tommy'], ['Chapter: 17', 'Sentence: 147', 'Contents: tommy came forward eagerly'], ['Chapter: 17', 'Sentence: 153', 'Contents: tommy stared'], ['Chapter: 17', 'Sentence: 158', 'Contents: tommy could make nothing of it'], ['Chapter: 17', 'Sentence: 163', 'Contents: tommy felt the strain telling on his nerves'], ['Chapter: 17', 'Sentence: 167', 'Contents: tommy felt that if this solitary confinement went on much longer he would go mad'], ['Chapter: 17', 'Sentence: 169', 'Contents: perhaps, thought tommy, he was abroad or away, and they were obliged to wait for his return'], ['Chapter: 17', 'Sentence: 175', 'Contents: tommy’s heart sank at the sight of them'], ['Chapter: 17', 'Sentence: 180', 'Contents: “what the devil----?” began tommy'], ['Chapter: 17', 'Sentence: 183', 'Contents: in another minute tommy was a mere helpless bundle'], ['Chapter: 17', 'Sentence: 191', 'Contents: tommy lay silent'], ['Chapter: 17', 'Sentence: 203', 'Contents: “nothing,” said tommy, “could be plainer than your words--unless it was your face'], ['Chapter: 17', 'Sentence: 205', 'Contents: “with pleasure,” replied tommy'], ['Chapter: 17', 'Sentence: 209', 'Contents: tommy made no reply'], ['Chapter: 17', 'Sentence: 211', 'Contents: he decided that tuppence, in the throes of anxiety, had gone to the police, and that his disappearance having been made public the gang had not been slow to put two and two together'], ['Chapter: 17', 'Sentence: 213', 'Contents: tommy was left to his meditations'], ['Chapter: 17', 'Sentence: 219', 'Contents: tommy’s heart beat a little faster'], ['Chapter: 17', 'Sentence: 228', 'Contents: without looking at tommy the girl went over to the table, and picked up the tray'], ['Chapter: 17', 'Sentence: 242', 'Contents: tommy heard conrad say: “lock it and give me the key'], ['Chapter: 17', 'Sentence: 244', 'Contents: tommy lay petrified with amazement'], ['Chapter: 17', 'Sentence: 272', 'Contents: tommy smiled'], ['Chapter: 17', 'Sentence: 278', 'Contents: tommy lived through an eternity of hours, but at last he heard footsteps'], ['Chapter: 17', 'Sentence: 283', 'Contents: tommy deeply regretted that it was he who had entered first'], ['Chapter: 17', 'Sentence: 286', 'Contents: as he stepped across the threshold, tommy brought the picture down with terrific force on his head'], ['Chapter: 17', 'Sentence: 288', 'Contents: in a minute tommy had slipped out and pulled to the door'], ['Chapter: 17', 'Sentence: 291', 'Contents: for a moment tommy hesitated'], ['Chapter: 17', 'Sentence: 296', 'Contents: tommy felt a small hand thrust into his'], ['Chapter: 17', 'Sentence: 302', 'Contents: tommy looked round'], ['Chapter: 17', 'Sentence: 321', 'Contents: to his amazement, tommy saw that she was fastening the end of a long piece of string to the handle of a big cracked jug'], ['Chapter: 17', 'Sentence: 322', 'Contents: she arranged it carefully, then turned to tommy'], ['Chapter: 17', 'Sentence: 329', 'Contents: tommy nodded'], ['Chapter: 17', 'Sentence: 340', 'Contents: very cautiously tommy swung himself down the back of the ladder'], ['Chapter: 17', 'Sentence: 363', 'Contents: at that moment, with an ecstatic smile tommy pulled the string'], ['Chapter: 17', 'Sentence: 366', 'Contents: quick as a flash tommy leapt from his hiding-place and dashed down the stairs, pulling the girl with him'], ['Chapter: 17', 'Sentence: 372', 'Contents: tommy stood spell-bound'], ['Chapter: 17', 'Sentence: 380', 'Contents: tommy still stood rooted to the ground'], ['Chapter: 17', 'Sentence: 387', 'Contents: ” tommy had run back to the stairs'], ['Chapter: 17', 'Sentence: 394', 'Contents: tommy stopped conrad’s rush with a straight blow with his fist'], ['Chapter: 17', 'Sentence: 397', 'Contents: from higher up the staircase there was a flash, and a bullet grazed tommy’s ear'], ['Chapter: 17', 'Sentence: 406', 'Contents: the driver jumped to the pavement and tried to bar tommy’s way'], ['Chapter: 17', 'Sentence: 407', 'Contents: again tommy’s fist shot out, and the driver sprawled on the pavement'], ['Chapter: 17', 'Sentence: 408', 'Contents: tommy took to his heels and ran--none too soon'], ['Chapter: 17', 'Sentence: 421', 'Contents: tommy drew back into a doorway'], ['Chapter: 17', 'Sentence: 423', 'Contents: tommy sat down quietly on the doorstep and allowed a few moments to elapse while he recovered his breath'], ['Chapter: 17', 'Sentence: 430', 'Contents: tommy felt slightly offended'], ['Chapter: 17', 'Sentence: 444', 'Contents: “so that’s who number 1 is,” said tommy with his mouth full of eggs and bacon'], ['Chapter: 17', 'Sentence: 457', 'Contents: he nodded energetically when tommy had finished'], ['Chapter: 17', 'Sentence: 471', 'Contents: a minute later, tommy held one up'], ['Chapter: 17', 'Sentence: 477', 'Contents: he handed another photograph to tommy, and smiled at the other’s exclamation'], ['Chapter: 17', 'Sentence: 486', 'Contents: “but----” tommy hesitated'], ['Chapter: 17', 'Sentence: 494', 'Contents: come on, beresford, we’ll go and have a look at this house of yours'], ['Chapter: 17', 'Sentence: 497', 'Contents: the latter turned to tommy'], ['Chapter: 17', 'Sentence: 500', 'Contents: going over the deserted house seemed to tommy to partake of the character of a dream'], ['Chapter: 17', 'Sentence: 513', 'Contents: she--seemed so different----” “good-looking, i suppose?” said mr. carter with a smile that made tommy flush to the roots of his hair'], ['Chapter: 17', 'Sentence: 515', 'Contents: “by the way,” observed mr. carter, “have you shown yourself to miss tuppence yet'], ['Chapter: 17', 'Sentence: 517', 'Contents: “tuppence'], ['Chapter: 17', 'Sentence: 522', 'Contents: mr. carter looked inquiringly at him, and tommy explained'], ['Chapter: 17', 'Sentence: 531', 'Contents: but i think i’d better get back and rout out tuppence'], ['Chapter: 17', 'Sentence: 534', 'Contents: tommy grinned'], ['Chapter: 17', 'Sentence: 540', 'Contents: hailing a taxi briskly tommy stepped in, and was swiftly borne to the ritz , dwelling the while on the pleasurable anticipation of startling tuppence'], ['Chapter: 17', 'Sentence: 547', 'Contents: tommy burst into its sacred portals eagerly, but his enthusiasm received a check'], ['Chapter: 17', 'Sentence: 548', 'Contents: he was informed that miss cowley had gone out a quarter of an hour ago'], ['Chapter: 18', 'Sentence: 1', 'Contents:  baffled for the moment, tommy strolled into the restaurant, and ordered a meal of surpassing excellence'], ['Chapter: 18', 'Sentence: 4', 'Contents: tommy waved a menu cheerfully, and succeeded in attracting the other’s attention'], ['Chapter: 18', 'Sentence: 5', 'Contents: at the sight of tommy, julius’s eyes seemed as though they would pop out of his head'], ['Chapter: 18', 'Sentence: 6', 'Contents: he strode across, and pump-handled tommy’s hand with what seemed to the latter quite unnecessary vigour'], ['Chapter: 18', 'Sentence: 14', 'Contents: “who thought i was dead?” demanded tommy'], ['Chapter: 18', 'Sentence: 15', 'Contents: “tuppence'], ['Chapter: 18', 'Sentence: 18', 'Contents: where is tuppence, by the way'], ['Chapter: 18', 'Sentence: 25', 'Contents: “if you’re feeding here,” replied tommy, “order now'], ['Chapter: 18', 'Sentence: 28', 'Contents: then he turned to tommy'], ['Chapter: 18', 'Sentence: 31', 'Contents: “one or two,” replied tommy modestly, and plunged into his recital'], ['Chapter: 18', 'Sentence: 37', 'Contents: “and now for the home front,” said tommy, stretching out his hand for a peach'], ['Chapter: 18', 'Sentence: 40', 'Contents: beginning with his unsuccessful reconnoitring at bournemouth, he passed on to his return to london, the buying of the car, the growing anxieties of tuppence, the call upon sir james, and the sensational occurrences of the previous night'], ['Chapter: 18', 'Sentence: 41', 'Contents: “but who killed her?” asked tommy'], ['Chapter: 18', 'Sentence: 49', 'Contents: “lost her memory, eh?” said tommy with interest'], ['Chapter: 18', 'Sentence: 54', 'Contents: tommy shook his head regretfully'], ['Chapter: 18', 'Sentence: 61', 'Contents: “i was in such a funk i had to think of something,” said tommy simply'], ['Chapter: 18', 'Sentence: 62', 'Contents: there was a moment’s pause, and then tommy reverted to mrs. vandemeyer’s death'], ['Chapter: 18', 'Sentence: 68', 'Contents: but i guess tuppence and i and even the highbrow sir james have all got the same idea'], ['Chapter: 18', 'Sentence: 69', 'Contents: “mr. brown?” hazarded tommy'], ['Chapter: 18', 'Sentence: 71', 'Contents: tommy nodded'], ['Chapter: 18', 'Sentence: 76', 'Contents: tommy looked at him with respect'], ['Chapter: 18', 'Sentence: 84', 'Contents: i wish we could get hold of tuppence'], ['Chapter: 18', 'Sentence: 86', 'Contents: inquiry at the office revealed the fact that tuppence had not yet returned'], ['Chapter: 18', 'Sentence: 90', 'Contents: suddenly a diminutive boy spoke at tommy’s elbow: “the young lady--she’s gone away by train, i think, sir,” he murmured shyly'], ['Chapter: 18', 'Sentence: 92', 'Contents: tommy wheeled round upon him'], ['Chapter: 18', 'Sentence: 96', 'Contents: tommy stared at him, his eyes opening wide in surprise'], ['Chapter: 18', 'Sentence: 99', 'Contents: tommy interrupted him: “when did she ask for an a.b.c. and a bradshaw'], ['Chapter: 18', 'Sentence: 110', 'Contents: my name isn’t henry, but----” “never mind your name,” said tommy impatiently'], ['Chapter: 18', 'Sentence: 117', 'Contents: tommy continued to stare at him'], ['Chapter: 18', 'Sentence: 120', 'Contents: “i say, hersheimmer”--tommy turned to him--“tuppence has gone off sleuthing on her own'], ['Chapter: 18', 'Sentence: 133', 'Contents: tommy looked puzzled, and seemed waiting for more'], ['Chapter: 18', 'Sentence: 135', 'Contents: i asked miss tuppence to marry me this morning'], ['Chapter: 18', 'Sentence: 136', 'Contents: “oh!” said tommy mechanically'], ['Chapter: 18', 'Sentence: 140', 'Contents: “i’d like to tell you,” continued julius, “that before i suggested anything of the kind to miss tuppence, i made it clear that i didn’t want to butt in in any way between her and you----” tommy roused himself'], ['Chapter: 18', 'Sentence: 142', 'Contents: “tuppence and i have been pals for years'], ['Chapter: 18', 'Sentence: 146', 'Contents: tuppence always said that she was looking out for----” he stopped abruptly, his face crimsoning, but julius was in no way discomposed'], ['Chapter: 18', 'Sentence: 148', 'Contents: miss tuppence put me wise to that right away'], ['Chapter: 18', 'Sentence: 151', 'Contents: tommy looked at him curiously for a minute, as though he were about to speak, then changed his mind and said nothing'], ['Chapter: 18', 'Sentence: 152', 'Contents: tuppence and julius'], ['Chapter: 18', 'Sentence: 160', 'Contents: nevertheless, tommy did blame her'], ['Chapter: 18', 'Sentence: 163', 'Contents: tuppence was utterly cold-blooded and selfish, and he would be delighted if he never saw her again'], ['Chapter: 18', 'Sentence: 168', 'Contents: tommy caught his arm'], ['Chapter: 18', 'Sentence: 176', 'Contents: likely enough, i hustled her some----” but tommy interrupted regardless of decorum'], ['Chapter: 18', 'Sentence: 179', 'Contents: “there’s no earthly clue in it as to where she’s gone,” he assured tommy'], ['Chapter: 18', 'Sentence: 181', 'Contents: the note, in tuppence’s well-known schoolboy writing, ran as follows: “dear julius, “it’s always better to have things in black and white'], ['Chapter: 18', 'Sentence: 182', 'Contents: i don’t feel i can be bothered to think of marriage until tommy is found'], ['Chapter: 18', 'Sentence: 184', 'Contents: “yours affectionately, “tuppence'], ['Chapter: 18', 'Sentence: 185', 'Contents: tommy handed it back, his eyes shining'], ['Chapter: 18', 'Sentence: 187', 'Contents: he now felt that tuppence was all that was noble and disinterested'], ['Chapter: 18', 'Sentence: 190', 'Contents: it read almost like a bribe to julius to spur him on in his efforts to find tommy, but he supposed she had not really meant it that way'], ['Chapter: 18', 'Sentence: 191', 'Contents: darling tuppence, there was not a girl in the world to touch her'], ['Chapter: 18', 'Sentence: 196', 'Contents: tommy produced five shillings'], ['Chapter: 18', 'Sentence: 201', 'Contents: “very graphic, henry,” said tommy'], ['Chapter: 18', 'Sentence: 206', 'Contents: tuppence had left the key in her door'], ['Chapter: 18', 'Sentence: 209', 'Contents: tommy disentangled it and smoothed out the telegram'], ['Chapter: 18', 'Sentence: 210', 'Contents: “come at once, moat house, ebury, yorkshire, great developments--tommy'], ['Chapter: 18', 'Sentence: 230', 'Contents: left to himself, tommy would probably have sat down to think things out for a good half-hour before he decided on a plan of action'], ['Chapter: 18', 'Sentence: 232', 'Contents: after a few muttered imprecations he handed the bradshaw to tommy as being more conversant with its mysteries'], ['Chapter: 18', 'Sentence: 233', 'Contents: tommy abandoned it in favour of an a.b.c. “here we are'], ['Chapter: 18', 'Sentence: 247', 'Contents: tommy shook his head'], ['Chapter: 18', 'Sentence: 253', 'Contents: tommy nodded abstractedly'], ['Chapter: 18', 'Sentence: 258', 'Contents: “what i mean is that i don’t think it’s their game to do her any harm,”  explained tommy, puckering his brow with the strain of his mental processes'], ['Chapter: 18', 'Sentence: 265', 'Contents: “besides,” added tommy, as an afterthought, “i’ve great faith in tuppence'], ['Chapter: 18', 'Sentence: 268', 'Contents: ebury was a deserted station with a solitary porter, to whom tommy addressed himself: “can you tell me the way to the moat house'], ['Chapter: 18', 'Sentence: 272', 'Contents: tommy assented brazenly'], ['Chapter: 18', 'Sentence: 275', 'Contents: suddenly tommy halted'], ['Chapter: 18', 'Sentence: 281', 'Contents: he described tuppence as well as he could, but the porter shook his head'], ['Chapter: 18', 'Sentence: 285', 'Contents: tommy rejoined julius, and explained'], ['Chapter: 18', 'Sentence: 306', 'Contents: was it indeed to this desolate spot that tuppence had been decoyed'], ['Chapter: 18', 'Sentence: 322', 'Contents: on the outskirts of it, they met a workman swinging his bag of tools, and tommy stopped him with a question'], ['Chapter: 18', 'Sentence: 327', 'Contents: tommy thanked him'], ['Chapter: 18', 'Sentence: 335', 'Contents: “thanks,” said tommy cheerily'], ['Chapter: 18', 'Sentence: 366', 'Contents: “i don’t believe tuppence was ever in this house'], ['Chapter: 18', 'Sentence: 369', 'Contents: “we’ll go over it again to-morrow,” said tommy'], ['Chapter: 18', 'Sentence: 372', 'Contents: they might have left the village altogether but for a fortunate discovery of tommy’s'], ['Chapter: 18', 'Sentence: 375', 'Contents: “that’s tuppence’s'], ['Chapter: 18', 'Sentence: 385', 'Contents: tommy and julius worked separately and together, but the result was the same'], ['Chapter: 18', 'Sentence: 386', 'Contents: nobody answering to tuppence’s description had been seen in the vicinity'], ['Chapter: 18', 'Sentence: 389', 'Contents: tuppence had certainly not remained long in the neighbourhood of the moat house'], ['Chapter: 18', 'Sentence: 401', 'Contents: his apologies were as thorough as his methods, and seldom failed in disarming the indignation of his victims; but, as day succeeded day, they were no nearer to discovering tuppence’s whereabouts'], ['Chapter: 18', 'Sentence: 403', 'Contents: and another preoccupation was weighing on tommy’s mind'], ['Chapter: 18', 'Sentence: 406', 'Contents: we’re no nearer to finding tuppence,  and next sunday is the  29 th'], ['Chapter: 18', 'Sentence: 409', 'Contents: i’ve been thinking of nothing but tuppence'], ['Chapter: 18', 'Sentence: 411', 'Contents: at least, i hadn’t forgotten about the 29th, but it didn’t seem to matter a damn in comparison to finding tuppence'], ['Chapter: 18', 'Sentence: 430', 'Contents: “you’re right,” said tommy slowly'], ['Chapter: 18', 'Sentence: 437', 'Contents: tommy shook his head'], ['Chapter: 18', 'Sentence: 448', 'Contents: later in the day tommy received a wire: “join me manchester midland hotel'], ['Chapter: 18', 'Sentence: 451', 'Contents: 30 that night tommy alighted from a slow cross-country train'], ['Chapter: 18', 'Sentence: 454', 'Contents: tommy grasped him by the arm'], ['Chapter: 18', 'Sentence: 456', 'Contents: is tuppence found'], ['Chapter: 18', 'Sentence: 462', 'Contents: tommy’s eyes opened as he read: “jane finn found'], ['Chapter: 19', 'Sentence: 5', 'Contents: asked tommy curiously'], ['Chapter: 19', 'Sentence: 9', 'Contents: “i wonder,” said tommy thoughtfully'], ['Chapter: 19', 'Sentence: 15', 'Contents: tommy shook his head unconvinced'], ['Chapter: 19', 'Sentence: 16', 'Contents: sir james arrived punctually at eight o’clock, and julius introduced tommy'], ['Chapter: 19', 'Sentence: 18', 'Contents: “i am delighted to make your acquaintance, mr. beresford'], ['Chapter: 19', 'Sentence: 19', 'Contents: i have heard so much about you from miss tuppence”--he smiled involuntarily--“that it really seems as though i already know you quite well'], ['Chapter: 19', 'Sentence: 20', 'Contents: “thank you, sir,” said tommy with his cheerful grin'], ['Chapter: 19', 'Sentence: 22', 'Contents: like tuppence, he felt the magnetism of the other’s personality'], ['Chapter: 19', 'Sentence: 43', 'Contents: miss tuppence and i thought you’d quit for good and all'], ['Chapter: 19', 'Sentence: 68', 'Contents: “and you just happened to be on the spot,” said tommy'], ['Chapter: 19', 'Sentence: 72', 'Contents: nevertheless tommy was now certain of what he had before only suspected'], ['Chapter: 19', 'Sentence: 75', 'Contents: the only thing that puzzled tommy was the reason for all this secrecy'], ['Chapter: 19', 'Sentence: 87', 'Contents: the words came out like the crack of a pistol, and tommy looked up with a start'], ['Chapter: 19', 'Sentence: 94', 'Contents: with consummate ease of manner he turned to tommy'], ['Chapter: 19', 'Sentence: 95', 'Contents: “i must confess, mr. beresford, that it was something of a surprise to me to see you here this evening'], ['Chapter: 19', 'Sentence: 97', 'Contents: nothing had been heard of you for some days, and miss tuppence was inclined to think you had got into difficulties'], ['Chapter: 19', 'Sentence: 99', 'Contents: tommy grinned reminiscently'], ['Chapter: 19', 'Sentence: 106', 'Contents: tommy blushed, his face assuming a prawnlike hue at the praise'], ['Chapter: 19', 'Sentence: 111', 'Contents: tommy appeared about to protest, but sir james went on'], ['Chapter: 19', 'Sentence: 132', 'Contents: something in his voice made tommy look up'], ['Chapter: 19', 'Sentence: 140', 'Contents: for a moment, tommy stared at him'], ['Chapter: 19', 'Sentence: 142', 'Contents: “i forgot that you didn’t know about tuppence,” he said slowly'], ['Chapter: 19', 'Sentence: 145', 'Contents: “has anything happened to miss tuppence'], ['Chapter: 19', 'Sentence: 152', 'Contents: between them tommy and julius gave the history of the last week and their futile search'], ['Chapter: 19', 'Sentence: 157', 'Contents: their kidnapping of miss tuppence is the counter-move to your escape'], ['Chapter: 19', 'Sentence: 159', 'Contents: tommy nodded'], ['Chapter: 19', 'Sentence: 166', 'Contents: tommy shook his head'], ['Chapter: 19', 'Sentence: 181', 'Contents: he turned to tommy'], ['Chapter: 19', 'Sentence: 189', 'Contents: you’ve wasted a week”--tommy hung his head--“a day or so more is immaterial'], ['Chapter: 19', 'Sentence: 191', 'Contents: afterwards, we’ll set to work to rescue miss tuppence from bondage'], ['Chapter: 19', 'Sentence: 201', 'Contents: “mr. hersheimmer--mr. beresford--dr. roylance'], ['Chapter: 19', 'Sentence: 212', 'Contents: tommy’s heart beat sensibly faster as they followed the doctor upstairs'], ['Chapter: 19', 'Sentence: 217', 'Contents: a half groan broke from tommy’s lips'], ['Chapter: 19', 'Sentence: 218', 'Contents: if only tuppence could have been at his side to share in the triumphant conclusion of their joint venture'], ['Chapter: 19', 'Sentence: 219', 'Contents: then he put the thought of tuppence resolutely aside'], ['Chapter: 19', 'Sentence: 221', 'Contents: there was a man who would unerringly ferret out tuppence’s whereabouts'], ['Chapter: 19', 'Sentence: 242', 'Contents: but tommy caught the tremor in his voice'], ['Chapter: 19', 'Sentence: 245', 'Contents: it seemed vaguely familiar to tommy, but he thrust the impression aside as impossible'], ['Chapter: 19', 'Sentence: 270', 'Contents: “mr. beresford is commissioned by the british government to get those papers back'], ['Chapter: 20', 'Sentence: 6', 'Contents: tommy looked up, puzzled'], ['Chapter: 20', 'Sentence: 25', 'Contents: the gravity of his tone impressed tommy, but had little effect upon julius'], ['Chapter: 20', 'Sentence: 48', 'Contents: tommy, after a moment’s astonishment, searched his mind'], ['Chapter: 20', 'Sentence: 55', 'Contents: “oh!” said tommy, amazed'], ['Chapter: 20', 'Sentence: 58', 'Contents: feeling more tongue-tied than ever, tommy ejaculated “oh!” again'], ['Chapter: 20', 'Sentence: 61', 'Contents: “i thought her a very good-looking girl,” said tommy, finding his tongue'], ['Chapter: 20', 'Sentence: 67', 'Contents: “it must be,” said tommy coldly, “if you can come over here in love with one girl, and propose to another within a fortnight'], ['Chapter: 20', 'Sentence: 71', 'Contents: they keep romance and marriage apart----” tommy flushed'], ['Chapter: 20', 'Sentence: 78', 'Contents: “if you ask me,” said tommy, “we’re all too damned businesslike nowadays'], ['Chapter: 20', 'Sentence: 83', 'Contents: “i feel heated,” said tommy'], ['Chapter: 20', 'Sentence: 85', 'Contents: however, tommy had plenty of time to cool down before they reached holyhead, and the cheerful grin had returned to his countenance as they alighted at their destination'], ['Chapter: 20', 'Sentence: 88', 'Contents: they came to it not long after leaving the town, and tommy stopped the car promptly, asked in a casual tone whether the path led down to the sea, and hearing it did paid off the man in handsome style'], ['Chapter: 20', 'Sentence: 90', 'Contents: tommy and julius watched it out of sight, and then turned to the narrow path'], ['Chapter: 20', 'Sentence: 91', 'Contents: “it’s the right one, i suppose?” asked tommy doubtfully'], ['Chapter: 20', 'Sentence: 96', 'Contents: tommy looked at the swelling hedges of golden blossom which bordered the path on either side, and was convinced'], ['Chapter: 20', 'Sentence: 98', 'Contents: twice tommy turned his head uneasily'], ['Chapter: 20', 'Sentence: 106', 'Contents: tommy had to admit that this was true'], ['Chapter: 20', 'Sentence: 112', 'Contents: “do you always carry it--him--with you?” inquired tommy with burning curiosity'], ['Chapter: 20', 'Sentence: 115', 'Contents: tommy kept a respectful silence'], ['Chapter: 20', 'Sentence: 119', 'Contents: suddenly julius came to such an abrupt halt that tommy cannoned into him'], ['Chapter: 20', 'Sentence: 123', 'Contents: tommy looked'], ['Chapter: 20', 'Sentence: 125', 'Contents: “well,” said tommy, refusing to share julius’s emotion, “it’s what we expected to see, isn’t it'], ['Chapter: 20', 'Sentence: 129', 'Contents: tommy, whose calm was, perhaps, more assumed than natural, moved his feet impatiently'], ['Chapter: 20', 'Sentence: 133', 'Contents: tommy heard himself saying idiotically: “the gorse won’t be there after all these years'], ['Chapter: 20', 'Sentence: 135', 'Contents: tommy suddenly pointed with a shaking hand'], ['Chapter: 20', 'Sentence: 139', 'Contents: “when i was in france,” said tommy reminiscently, “whenever my batman failed to call me, he always said that he had come over queer'], ['Chapter: 20', 'Sentence: 169', 'Contents: tommy held the precious packet tenderly between his hands'], ['Chapter: 20', 'Sentence: 180', 'Contents: tommy shook his head'], ['Chapter: 20', 'Sentence: 191', 'Contents: tommy held the sheet of paper near the glow'], ['Chapter: 20', 'Sentence: 199', 'Contents: tommy held the paper in position some minutes longer until he judged the heat had done its work'], ['Chapter: 21', 'Sentence: 3', 'Contents: tommy accepted defeat quietly'], ['Chapter: 21', 'Sentence: 7', 'Contents: tommy shook his head, and said dully: “it accounts for the stitches being new'], ['Chapter: 21', 'Sentence: 19', 'Contents: but tommy’s common sense pointed out objections'], ['Chapter: 21', 'Sentence: 24', 'Contents: “i don’t see that it matters anyway,” said tommy wearily'], ['Chapter: 21', 'Sentence: 30', 'Contents: “i wish that chap peel edgerton had been with us,” said tommy thoughtfully'], ['Chapter: 21', 'Sentence: 34', 'Contents: “yes----” tommy hesitated'], ['Chapter: 21', 'Sentence: 46', 'Contents: the duty was an unpleasant one, but tommy had no intention of shirking it'], ['Chapter: 21', 'Sentence: 51', 'Contents: half an hour after arrival, haggard and pale, tommy stood before his chief'], ['Chapter: 21', 'Sentence: 57', 'Contents: the expression on his face did not change, but tommy caught the flicker of despair in his eyes'], ['Chapter: 21', 'Sentence: 62', 'Contents: through tommy’s mind flashed the assurance: “it’s hopeless, and he knows it’s hopeless'], ['Chapter: 21', 'Sentence: 73', 'Contents: something in his tone attracted tommy’s attention'], ['Chapter: 21', 'Sentence: 78', 'Contents: “tuppence----?” faltered tommy'], ['Chapter: 21', 'Sentence: 84', 'Contents: “my god!” gasped tommy'], ['Chapter: 21', 'Sentence: 85', 'Contents: “ tuppence'], ['Chapter: 21', 'Sentence: 95', 'Contents: “forget tuppence'], ['Chapter: 21', 'Sentence: 101', 'Contents: tommy came to himself with a start'], ['Chapter: 21', 'Sentence: 108', 'Contents: back at the  ritz , tommy packed up his few belongings mechanically, his thoughts far away'], ['Chapter: 21', 'Sentence: 110', 'Contents: what fun they had had together, he and tuppence'], ['Chapter: 21', 'Sentence: 112', 'Contents: tuppence--dead'], ['Chapter: 21', 'Sentence: 113', 'Contents: little tuppence, brimming over with life'], ['Chapter: 21', 'Sentence: 119', 'Contents: “kind old beggar,” muttered tommy, as he flung it aside'], ['Chapter: 21', 'Sentence: 123', 'Contents: they seem to have got some fool idea about tuppence'], ['Chapter: 21', 'Sentence: 124', 'Contents: “it’s true,” said tommy quietly'], ['Chapter: 21', 'Sentence: 126', 'Contents: tommy nodded'], ['Chapter: 21', 'Sentence: 129', 'Contents: “little tuppence'], ['Chapter: 21', 'Sentence: 130', 'Contents: she sure was the pluckiest little girl----” but suddenly something seemed to crack in tommy’s brain'], ['Chapter: 21', 'Sentence: 140', 'Contents: i can’t stand your coming here and talking about ‘little tuppence'], ['Chapter: 21', 'Sentence: 142', 'Contents: tuppence is my girl'], ['Chapter: 21', 'Sentence: 156', 'Contents: “i dare say,” said tommy angrily, “she’s probably been in with them from the start'], ['Chapter: 21', 'Sentence: 160', 'Contents: “i don’t care a damn what she is, but get out of here!” retorted tommy also at the top of his voice'], ['Chapter: 21', 'Sentence: 167', 'Contents: calm down”--tommy had made an impatient gesture--“i’m going right away now--going to the london and north western railway depot, if you want to know'], ['Chapter: 21', 'Sentence: 168', 'Contents: “i don’t care a damn where you’re going,” growled tommy'], ['Chapter: 21', 'Sentence: 174', 'Contents: “i’m going to the devil,” said tommy, regardless of the menial’s feelings'], ['Chapter: 21', 'Sentence: 177', 'Contents: tommy nodded'], ['Chapter: 21', 'Sentence: 182', 'Contents: tuppence must be avenged'], ['Chapter: 21', 'Sentence: 189', 'Contents: tommy fumed at the delay'], ['Chapter: 21', 'Sentence: 197', 'Contents: tommy walked across to the writing-table, and opened the middle drawer'], ['Chapter: 22', 'Sentence: 20', 'Contents: you see, i’ve figured it out that those things of tuppence’s are a plant too, and she’s no more drowned than i am'], ['Chapter: 22', 'Sentence: 24', 'Contents: i must try and get hold of tuppence before jane escapes'], ['Chapter: 22', 'Sentence: 25', 'Contents: “i want a repeat of that telegram that was sent to tuppence at the ritz '], ['Chapter: 22', 'Sentence: 30', 'Contents: , “thomas beresford'], ['Chapter: 22', 'Sentence: 87', 'Contents: but there’s no doubt he can throw light on one or two obscure points in young beresford’s letter'], ['Chapter: 22', 'Sentence: 92', 'Contents: “we’ve had a letter from young beresford,” said mr. carter, coming to the point at once'], ['Chapter: 22', 'Sentence: 102', 'Contents: then he reminded me of something i had said to him at manchester respecting that bogus telegram which lured miss cowley away'], ['Chapter: 22', 'Sentence: 120', 'Contents: young beresford saw that for himself without my having to tell it him'], ['Chapter: 22', 'Sentence: 121', 'Contents: but he felt he couldn’t trust his judgment on the subject of miss cowley'], ['Chapter: 22', 'Sentence: 127', 'Contents: it had occurred to me as probable that, after miss cowley flung it on the floor, certain words might have been erased and altered with the express intention of setting searchers on a false trail'], ['Chapter: 22', 'Sentence: 130', 'Contents: great developments--tommy'], ['Chapter: 22', 'Sentence: 135', 'Contents: “the page-boy’s statement that miss cowley drove to charing cross'], ['Chapter: 22', 'Sentence: 137', 'Contents: “then young beresford is now'], ['Chapter: 22', 'Sentence: 162', 'Contents: a note from tommy lay on his table: “dear hersheimmer, “sorry i lost my temper'], ['Chapter: 22', 'Sentence: 165', 'Contents: “yours, “tommy beresford'], ['Chapter: 23', 'Sentence: 1', 'Contents:  after ringing up sir james, tommy’s next procedure was to make a call at south audley mansions'], ['Chapter: 23', 'Sentence: 2', 'Contents: he found albert discharging his professional duties, and introduced himself without more ado as a friend of tuppence’s'], ['Chapter: 23', 'Sentence: 20', 'Contents: tommy nodded approval'], ['Chapter: 23', 'Sentence: 24', 'Contents: as tommy had judged, the faithful albert proved an invaluable ally'], ['Chapter: 23', 'Sentence: 37', 'Contents: in the face of all this volubility, tommy felt doubts'], ['Chapter: 23', 'Sentence: 42', 'Contents: tommy felt a cold chill at the thought'], ['Chapter: 23', 'Sentence: 44', 'Contents: he inquired carefully if there was a young lady amongst them, describing tuppence'], ['Chapter: 23', 'Sentence: 48', 'Contents: on the first evening tommy, accompanied by albert, explored the grounds'], ['Chapter: 23', 'Sentence: 52', 'Contents: tommy had imagined a possible fierce watchdog'], ['Chapter: 23', 'Sentence: 61', 'Contents: again tommy felt that cold chill of uncertainty'], ['Chapter: 23', 'Sentence: 65', 'Contents: tommy slept badly that night'], ['Chapter: 23', 'Sentence: 67', 'Contents: he returned with the information that she was undoubtedly “one of the crooks,” but tommy mistrusted the vividness of his imagination'], ['Chapter: 23', 'Sentence: 72', 'Contents: tommy put his doubts aside'], ['Chapter: 23', 'Sentence: 86', 'Contents: tommy felt that, thanks to mr. carter, he understood the position fairly accurately'], ['Chapter: 23', 'Sentence: 90', 'Contents: but tommy nourished another and a preposterous dream'], ['Chapter: 23', 'Sentence: 93', 'Contents: without him, tommy believed an instant panic would set in; and, the honest men left to themselves, an eleventh-hour reconciliation would be possible'], ['Chapter: 23', 'Sentence: 94', 'Contents: “this is a one-man show,” said tommy to himself'], ['Chapter: 23', 'Sentence: 97', 'Contents: the draft treaty was tommy’s bait'], ['Chapter: 23', 'Sentence: 102', 'Contents: tommy’s ambition was somehow or other to gain admission to the house itself'], ['Chapter: 23', 'Sentence: 103', 'Contents: as they approached cautiously, tommy gave a sudden gasp'], ['Chapter: 23', 'Sentence: 105', 'Contents: it was one tommy would have recognized anywhere'], ['Chapter: 23', 'Sentence: 106', 'Contents: tuppence was in that house'], ['Chapter: 23', 'Sentence: 114', 'Contents: it had been a favourite on the gramophone in tuppence’s hospital days'], ['Chapter: 23', 'Sentence: 116', 'Contents: tommy had not a note of music in his voice, but his lungs were excellent'], ['Chapter: 23', 'Sentence: 120', 'Contents: tommy continued to sing, addressing the butler affectionately as “dear old whiskers'], ['Chapter: 23', 'Sentence: 126', 'Contents: tommy retired to the inn and waited for albert’s return'], ['Chapter: 23', 'Sentence: 128', 'Contents: “well?” cried tommy eagerly'], ['Chapter: 23', 'Sentence: 131', 'Contents: he handed a scrap of paper to tommy'], ['Chapter: 23', 'Sentence: 134', 'Contents: “good egg!” cried tommy'], ['Chapter: 23', 'Sentence: 137', 'Contents: tommy groaned'], ['Chapter: 23', 'Sentence: 142', 'Contents: “she’ll know that’s you,” said tommy with a sigh of relief'], ['Chapter: 23', 'Sentence: 146', 'Contents: “cheer up,” said tommy'], ['Chapter: 23', 'Sentence: 155', 'Contents: hence the usefulness of that promising youth, mr. t. beresford, who’s blundered in just at the right moment for them'], ['Chapter: 23', 'Sentence: 156', 'Contents: but later, mr. t. beresford had better look out'], ['Chapter: 23', 'Sentence: 157', 'Contents: tommy retired for the night in a state of some elation'], ['Chapter: 23', 'Sentence: 160', 'Contents: it was after that that tommy proposed to give them a surprise'], ['Chapter: 23', 'Sentence: 164', 'Contents: “well, my good fellow, what is it?” asked tommy'], ['Chapter: 23', 'Sentence: 168', 'Contents: the handwriting was tuppence’s'], ['Chapter: 23', 'Sentence: 169', 'Contents: tommy appreciated her quick-wittedness in realizing that he might be staying at the inn under an assumed name'], ['Chapter: 23', 'Sentence: 174', 'Contents: tommy hastily produced a ten-shilling note, and the man relinquished his find'], ['Chapter: 23', 'Sentence: 175', 'Contents: tommy unfastened it'], ['Chapter: 23', 'Sentence: 176', 'Contents: “dear tommy, “i knew it was you last night'], ['Chapter: 23', 'Sentence: 185', 'Contents: tommy raised a shout for albert before he had even finished perusing this characteristic epistle'], ['Chapter: 23', 'Sentence: 191', 'Contents: did that mean that, after all---- tommy was puzzled'], ['Chapter: 23', 'Sentence: 199', 'Contents: tommy smoothed out the note thoughtfully'], ['Chapter: 24', 'Sentence: 255', 'Contents: “have you hit him?” cried tuppence eagerly'], ['Chapter: 24', 'Sentence: 259', 'Contents: are you all right, tuppence'], ['Chapter: 24', 'Sentence: 261', 'Contents: where’s tommy'], ['Chapter: 24', 'Sentence: 264', 'Contents: “tommy’s making tracks for the argentine'], ['Chapter: 24', 'Sentence: 270', 'Contents: who’s this, did you say, tuppence'], ['Chapter: 24', 'Sentence: 274', 'Contents: “but what made them let us go?” demanded tuppence suspiciously'], ['Chapter: 24', 'Sentence: 303', 'Contents: “annette and i didn’t know what was going to happen to us,” said tuppence'], ['Chapter: 24', 'Sentence: 309', 'Contents: “it’s her name,” said tuppence, opening her eyes very wide'], ['Chapter: 24', 'Sentence: 313', 'Contents: “what?” cried tuppence'], ['Chapter: 24', 'Sentence: 358', 'Contents: “sorry,” said tommy, extricating himself'], ['Chapter: 24', 'Sentence: 374', 'Contents: “you’re crazed, beresford'], ['Chapter: 24', 'Sentence: 378', 'Contents: tommy turned to tuppence'], ['Chapter: 24', 'Sentence: 379', 'Contents: “get out at once, tuppence'], ['Chapter: 24', 'Sentence: 389', 'Contents: with a sudden swift movement, tommy snatched the revolver from julius’s hand, and levelled it at him'], ['Chapter: 24', 'Sentence: 392', 'Contents: tuppence sprang out, dragging the unwilling jane after her'], ['Chapter: 24', 'Sentence: 394', 'Contents: if tommy’s sure--he’s sure'], ['Chapter: 24', 'Sentence: 399', 'Contents: “what the hell----” tommy interrupted him'], ['Chapter: 25', 'Sentence: 1', 'Contents:  her arm through jane’s, dragging her along, tuppence reached the station'], ['Chapter: 25', 'Sentence: 5', 'Contents: tuppence opened the door of an empty first-class compartment, and the two girls sank down breathless on the padded seats'], ['Chapter: 25', 'Sentence: 9', 'Contents: she looked questioningly at tuppence'], ['Chapter: 25', 'Sentence: 11', 'Contents: tuppence shook her head'], ['Chapter: 25', 'Sentence: 15', 'Contents: “tommy wouldn’t have told us to do this unless he was sure we’d be all right'], ['Chapter: 25', 'Sentence: 31', 'Contents: tuppence went to the window, and lifting the strap let the pane down'], ['Chapter: 25', 'Sentence: 37', 'Contents: ” implored tuppence'], ['Chapter: 25', 'Sentence: 39', 'Contents: you can be quite sure that tommy wouldn’t have said it was safe if it wasn’t'], ['Chapter: 25', 'Sentence: 42', 'Contents: “no,” said tuppence, rather embarrassed'], ['Chapter: 25', 'Sentence: 46', 'Contents: “i  was  thinking of something,” confessed tuppence'], ['Chapter: 25', 'Sentence: 50', 'Contents: tommy’s got it too--i’m almost sure he has'], ['Chapter: 25', 'Sentence: 56', 'Contents: tuppence, for her part, sat bolt upright--much in the attitude of a watchful terrier on guard'], ['Chapter: 25', 'Sentence: 62', 'Contents: not that she disbelieved in tommy, but occasionally she was shaken with doubts as to whether anyone so simple and honest as he was could ever be a match for the fiendish subtlety of the arch-criminal'], ['Chapter: 25', 'Sentence: 66', 'Contents: even that last picture of tommy, revolver in hand, failed to comfort her'], ['Chapter: 25', 'Sentence: 71', 'Contents: tuppence mapped out her plan of campaign'], ['Chapter: 25', 'Sentence: 80', 'Contents: “king’s cross,” directed tuppence'], ['Chapter: 25', 'Sentence: 89', 'Contents: this was what tuppence had been waiting for'], ['Chapter: 25', 'Sentence: 94', 'Contents: “there,” said tuppence, with great satisfaction, “this ought to do them'], ['Chapter: 25', 'Sentence: 101', 'Contents: in a flash tuppence was out on the pavement'], ['Chapter: 25', 'Sentence: 103', 'Contents: before he arrived tuppence had handed the driver five shillings, and she and jane had merged themselves in the crowd'], ['Chapter: 25', 'Sentence: 104', 'Contents: “it’s only a step or two now,” said tuppence breathlessly'], ['Chapter: 25', 'Sentence: 110', 'Contents: “it may be my fancy,” said tuppence suddenly, “but i feel as though there was some one behind us'], ['Chapter: 25', 'Sentence: 117', 'Contents: “let us pass, please,” said tuppence imperiously'], ['Chapter: 25', 'Sentence: 120', 'Contents: tuppence heard other footsteps behind'], ['Chapter: 25', 'Sentence: 125', 'Contents: tuppence and jane took to their heels'], ['Chapter: 25', 'Sentence: 129', 'Contents: tuppence seized the bell and jane the knocker'], ['Chapter: 25', 'Sentence: 144', 'Contents: sir james looked at tuppence quizzically'], ['Chapter: 25', 'Sentence: 145', 'Contents: “so you’re not dead, miss tuppence, any more than that tommy boy of yours was'], ['Chapter: 25', 'Sentence: 146', 'Contents: “the young adventurers take a lot of killing,” boasted tuppence'], ['Chapter: 25', 'Sentence: 273', 'Contents: “yes--it was the place in soho where mr. beresford was imprisoned'], ['Chapter: 25', 'Sentence: 365', 'Contents: “they sent me in to wait on mr. beresford'], ['Chapter: 25', 'Sentence: 379', 'Contents: i knew the others would think i meant mrs. vandemeyer, but i hoped it might make mr. beresford think of the picture'], ['Chapter: 25', 'Sentence: 388', 'Contents: “to-night?” queried tuppence, surprised'], ['Chapter: 25', 'Sentence: 397', 'Contents: tuppence flushed, then opened her mouth impulsively'], ['Chapter: 25', 'Sentence: 401', 'Contents: “no hesitations, miss tuppence'], ['Chapter: 25', 'Sentence: 403', 'Contents: but tuppence, for once, seemed tongue-tied'], ['Chapter: 25', 'Sentence: 412', 'Contents: “at last?” queried tuppence doubtfully'], ['Chapter: 25', 'Sentence: 414', 'Contents: “you thought correctly, miss tuppence'], ['Chapter: 25', 'Sentence: 416', 'Contents: “ah!” breathed tuppence'], ['Chapter: 25', 'Sentence: 421', 'Contents: only three people touched that brandy--you, miss tuppence, i myself, and one other--mr. julius hersheimmer'], ['Chapter: 25', 'Sentence: 433', 'Contents: mr. beresford rang me up and told me, what i had already suspected, that the photograph of miss jane finn had never really been out of mr. hersheimmer’s possession----” but the girl interrupted'], ['Chapter: 26', 'Sentence: 4', 'Contents: tuppence read it over her shoulder'], ['Chapter: 26', 'Sentence: 7', 'Contents: “as i was saying to miss tuppence,” resumed the lawyer, “i set to work to prove the impossible possible'], ['Chapter: 26', 'Sentence: 22', 'Contents: but for miss tuppence’s fortunate change of plan, she would have been far away from the flat when we arrived there'], ['Chapter: 26', 'Sentence: 30', 'Contents: but ask miss tuppence if she also has not had her suspicions'], ['Chapter: 26', 'Sentence: 31', 'Contents: jane turned mutely to tuppence'], ['Chapter: 26', 'Sentence: 37', 'Contents: tuppence recounted to sir james the exciting events of the evening, ending up: “but i can’t see  why'], ['Chapter: 26', 'Sentence: 40', 'Contents: so can young beresford, by his actions'], ['Chapter: 26', 'Sentence: 42', 'Contents: they’re not averse to young beresford’s being in the neighbourhood, and, if necessary, communicating with you'], ['Chapter: 26', 'Sentence: 54', 'Contents: “tommy,” said tuppence softly'], ['Chapter: 26', 'Sentence: 64', 'Contents: tuppence paled a little'], ['Chapter: 26', 'Sentence: 67', 'Contents: if beresford has still got the upper hand, there’s nothing to fear'], ['Chapter: 26', 'Sentence: 71', 'Contents: i know better than even to suggest going without you, miss tuppence----” “i should think so indeed'], ['Chapter: 26', 'Sentence: 74', 'Contents: but to tuppence’s surprise jane shook her head'], ['Chapter: 26', 'Sentence: 81', 'Contents: during the short drive tuppence’s heart beat tumultuously'], ['Chapter: 26', 'Sentence: 82', 'Contents: in spite of momentary qualms of uneasiness respecting tommy, she could not but feel exultation'], ['Chapter: 26', 'Sentence: 93', 'Contents: they had also had orders respecting tuppence'], ['Chapter: 26', 'Sentence: 97', 'Contents: at the top was the ragged curtain hiding the recess where tommy had hidden that day'], ['Chapter: 26', 'Sentence: 98', 'Contents: tuppence had heard the story from jane in her character of “annette'], ['Chapter: 26', 'Sentence: 115', 'Contents: no place for anyone to hide here, thought tuppence, with a sigh of relief, then chided herself indignantly'], ['Chapter: 26', 'Sentence: 138', 'Contents: “we’ve got it,” said tuppence'], ['Chapter: 26', 'Sentence: 148', 'Contents: “we’ve succeeded,” said tuppence'], ['Chapter: 26', 'Sentence: 155', 'Contents: tuppence shivered'], ['Chapter: 26', 'Sentence: 163', 'Contents: “quite right, miss tuppence'], ['Chapter: 26', 'Sentence: 171', 'Contents: yes”--as tuppence made a movement--“not a doubt of it--  mr. brown is here '], ['Chapter: 26', 'Sentence: 193', 'Contents: his smile grew wider as he looked at tuppence'], ['Chapter: 26', 'Sentence: 209', 'Contents: he looked longest at tommy'], ['Chapter: 26', 'Sentence: 219', 'Contents: te morituri salutant ,’” he said, still looking at tommy'], ['Chapter: 27', 'Sentence: 8', 'Contents: the american ambassador, mr. carter, who had taken the liberty, he said, of bringing an old friend, sir william beresford, with him, archdeacon cowley, dr. hall, those two youthful adventurers, miss prudence cowley and mr. thomas beresford, and last, but not least, as guest of honour, miss jane finn'], ['Chapter: 27', 'Sentence: 10', 'Contents: a mysterious knock had brought tuppence to the door of the apartment she was sharing with the american girl'], ['Chapter: 27', 'Sentence: 13', 'Contents: “say, tuppence,” he began, “will you do me a good turn'], ['Chapter: 27', 'Sentence: 19', 'Contents: “sure thing,” mimicked tuppence'], ['Chapter: 27', 'Sentence: 24', 'Contents: his fervour brought a momentary twinkle to tuppence’s eye'], ['Chapter: 27', 'Sentence: 28', 'Contents: “you know--when you asked me to--marry you,” faltered tuppence, her eyes downcast in the true manner of the early victorian heroine, “and wouldn’t take no for an answer'], ['Chapter: 27', 'Sentence: 31', 'Contents: tuppence relented suddenly'], ['Chapter: 27', 'Sentence: 36', 'Contents: i had--and still have--the highest sentiments of esteem and respect--and admiration for you----” “h’m!” said tuppence'], ['Chapter: 27', 'Sentence: 40', 'Contents: “shucks!” retorted tuppence'], ['Chapter: 27', 'Sentence: 42', 'Contents: “what was it?” asked jane as tuppence rejoined her'], ['Chapter: 27', 'Sentence: 57', 'Contents: tommy had been right in his forecast of the situation'], ['Chapter: 27', 'Sentence: 76', 'Contents: with him was a choleric-looking old gentleman, at sight of whom tommy flushed up to the roots of his hair'], ['Chapter: 27', 'Sentence: 86', 'Contents: tommy introduced tuppence'], ['Chapter: 27', 'Sentence: 89', 'Contents: “yes, they are,” said tuppence'], ['Chapter: 27', 'Sentence: 93', 'Contents: “that’s it,” said tuppence'], ['Chapter: 27', 'Sentence: 97', 'Contents: tuppence’s pertness delighted the old misogynist'], ['Chapter: 27', 'Sentence: 99', 'Contents: but tuppence behaved admirably'], ['Chapter: 27', 'Sentence: 103', 'Contents: “tuppence, will you----” he indicated the place of honour with a wave of his hand'], ['Chapter: 27', 'Sentence: 104', 'Contents: but tuppence shook her head'], ['Chapter: 27', 'Sentence: 109', 'Contents: tuppence had performed her part faithfully'], ['Chapter: 27', 'Sentence: 113', 'Contents: soon the supper party was in full swing, and with one accord tommy was called upon for a full and complete explanation'], ['Chapter: 27', 'Sentence: 116', 'Contents: the idea of both you and tuppence casting me for the part of mr. brown just tickles me to death'], ['Chapter: 27', 'Sentence: 122', 'Contents: but it wasn’t till i heard that the order for tommy’s execution came right on the heels of our interview with him that sunday that i began to tumble to the fact that he was the big bug himself'], ['Chapter: 27', 'Sentence: 123', 'Contents: “i never suspected it at all,” lamented tuppence'], ['Chapter: 27', 'Sentence: 124', 'Contents: “i’ve always thought i was so much cleverer than tommy--but he’s undoubtedly scored over me handsomely'], ['Chapter: 27', 'Sentence: 126', 'Contents: “tommy’s been the goods this trip'], ['Chapter: 27', 'Sentence: 130', 'Contents: “there’s nothing to tell,” said tommy, acutely uncomfortable'], ['Chapter: 27', 'Sentence: 134', 'Contents: “go on,” said mr. carter, as tommy showed signs of taking refuge in silence once more'], ['Chapter: 27', 'Sentence: 144', 'Contents: the way he helped me to get on the track of tuppence and annette almost disarmed me, but not quite'], ['Chapter: 27', 'Sentence: 146', 'Contents: and then i got a bogus note from tuppence--and i knew'], ['Chapter: 27', 'Sentence: 148', 'Contents: tommy took the note in question from his pocket and passed it round the table'], ['Chapter: 27', 'Sentence: 159', 'Contents: i threatened julius with the revolver, because i wanted tuppence to repeat that to sir james, so that he wouldn’t worry about us'], ['Chapter: 27', 'Sentence: 165', 'Contents: and tommy came to an abrupt halt'], ['Chapter: 27', 'Sentence: 169', 'Contents: “where?” cried tuppence'], ['Chapter: 27', 'Sentence: 171', 'Contents: “i knew you found something,” said tuppence reproachfully'], ['Chapter: 27', 'Sentence: 176', 'Contents: “we all kept back something or other,” said tuppence thoughtfully'], ['Chapter: 27', 'Sentence: 179', 'Contents: “beresford has just said that i would not have believed sir james peel edgerton to be guilty unless, so to speak, he was caught in the act'], ['Chapter: 27', 'Sentence: 445', 'Contents: we’ll ask miss jane finn to tell us the story that only miss tuppence has heard so far--but before we do so we’ll drink her health'], ['Chapter: 28', 'Sentence: 40', 'Contents: you and tuppence have been sticking together like siamese twins'], ['Chapter: 28', 'Sentence: 41', 'Contents: i guess another day of it would have driven me and beresford stark staring mad'], ['Chapter: 28', 'Sentence: 48', 'Contents: “from all the things tuppence didn’t say'], ['Chapter: 28', 'Sentence: 56', 'Contents: tuppence could think of nothing to say'], ['Chapter: 28', 'Sentence: 57', 'Contents: tommy was equally afflicted'], ['Chapter: 28', 'Sentence: 59', 'Contents: at last tuppence made a desperate effort'], ['Chapter: 28', 'Sentence: 63', 'Contents: “i like julius,” essayed tuppence again'], ['Chapter: 28', 'Sentence: 64', 'Contents: tommy was suddenly galvanized into life'], ['Chapter: 28', 'Sentence: 67', 'Contents: “oh!” said tuppence meekly'], ['Chapter: 28', 'Sentence: 70', 'Contents: “that’s not very likely,” scoffed tommy'], ['Chapter: 28', 'Sentence: 74', 'Contents: “she’ll do for him very nicely,” said tommy condescendingly'], ['Chapter: 28', 'Sentence: 77', 'Contents: “but i suppose you prefer sterling worth,” said tuppence demurely'], ['Chapter: 28', 'Sentence: 78', 'Contents: “i--oh, dash it all, tuppence, you know'], ['Chapter: 28', 'Sentence: 79', 'Contents: “i like your uncle, tommy,” said tuppence, hastily creating a diversion'], ['Chapter: 28', 'Sentence: 84', 'Contents: “i do,” said tommy positively'], ['Chapter: 28', 'Sentence: 85', 'Contents: tuppence stole a glance at him sideways'], ['Chapter: 28', 'Sentence: 90', 'Contents: “did you ask how much?” inquired tommy sarcastically'], ['Chapter: 28', 'Sentence: 91', 'Contents: “yes,” said tuppence triumphantly'], ['Chapter: 28', 'Sentence: 93', 'Contents: “tuppence, you are the limit'], ['Chapter: 28', 'Sentence: 94', 'Contents: “it has been fun, hasn’t it, tommy'], ['Chapter: 28', 'Sentence: 96', 'Contents: “you’re insatiable, tuppence'], ['Chapter: 28', 'Sentence: 98', 'Contents: “well, shopping is almost as good,” said tuppence dreamily'], ['Chapter: 28', 'Sentence: 100', 'Contents: “hold hard,” said tommy'], ['Chapter: 28', 'Sentence: 106', 'Contents: “you darling!” cried tommy, his arms tightly round her'], ['Chapter: 28', 'Sentence: 109', 'Contents: tuppence raised her face to his'], ['Chapter: 28', 'Sentence: 111', 'Contents: “you haven’t really proposed now,” pointed out tuppence'], ['Chapter: 28', 'Sentence: 115', 'Contents: “what fun it will be,” responded tuppence'], ['Chapter: 28', 'Sentence: 120', 'Contents: “and a damned good sport too,” said tommy']]\n",
            "[['Chapter: 10', 'Sentence: 74', 'Contents: “in the meantime, you are going about everywhere with peel edgerton'], ['Chapter: 10', 'Sentence: 84', 'Contents: be guided by me, and give up peel edgerton'], ['Chapter: 10', 'Sentence: 98', 'Contents: they say peel edgerton can  smell  a criminal'], ['Chapter: 10', 'Sentence: 105', 'Contents: i assure you that is all that interests peel edgerton'], ['Chapter: 10', 'Sentence: 171', 'Contents: tuppence was undecided for the moment whether to put him down as an actor or a lawyer, but her doubts were soon solved as he gave her his name: sir james peel edgerton'], ['Chapter: 10', 'Sentence: 179', 'Contents: peel edgerton would not be an easy man to deceive'], ['Chapter: 10', 'Sentence: 197', 'Contents: but sir james was already on the topmost stair'], ['Chapter: 11', 'Sentence: 297', 'Contents: and she narrated her encounter with sir james peel edgerton'], ['Chapter: 12', 'Sentence: 25', 'Contents: whilst admitting the truth of julius’s objections, she had nevertheless not entirely relinquished the idea of appealing to sir james peel edgerton'], ['Chapter: 12', 'Sentence: 41', 'Contents: she had decided not to ask if sir james was “at home,” but to adopt a more personal attitude'], ['Chapter: 12', 'Sentence: 42', 'Contents: “will you ask sir james if i can see him for a few minutes'], ['Chapter: 12', 'Sentence: 45', 'Contents: “sir james will see you'], ['Chapter: 12', 'Sentence: 57', 'Contents: oh, by the way, this is mr. hersheimmer, sir james peel edgerton'], ['Chapter: 12', 'Sentence: 59', 'Contents: “won’t you both sit down?” asked sir james'], ['Chapter: 12', 'Sentence: 61', 'Contents: “sir james,” said tuppence, plunging boldly, “i dare say you will think it is most awful cheek of me coming here like this'], ['Chapter: 12', 'Sentence: 64', 'Contents: “tommy?” queried sir james, looking across at the american'], ['Chapter: 12', 'Sentence: 73', 'Contents: “well, perhaps it was,” admitted sir james gravely'], ['Chapter: 12', 'Sentence: 76', 'Contents: sir james smiled at her earnestness'], ['Chapter: 12', 'Sentence: 81', 'Contents: “well,” said sir james, still smiling, “without prejudice, then, if i had a young sister forced to earn her living, i should not like to see her in mrs. vandemeyer’s service'], ['Chapter: 12', 'Sentence: 88', 'Contents: i knew perfectly that she was a bad lot when i went there--as a matter of fact that’s  why  i went----” she broke off, seeing some bewilderment on the lawyer’s face, and went on: “i think perhaps i’d better tell you the whole story, sir james'], ['Chapter: 12', 'Sentence: 92', 'Contents: “yes, tell me all about it,” said sir james'], ['Chapter: 12', 'Sentence: 105', 'Contents: “oh, sir james,” broke out tuppence, “what do you think has become of tommy'], ['Chapter: 12', 'Sentence: 140', 'Contents: sir james smiled'], ['Chapter: 12', 'Sentence: 148', 'Contents: “oh, just by asking her questions,” replied sir james easily'], ['Chapter: 12', 'Sentence: 159', 'Contents: sir james sat down and subjected julius to a long scrutiny'], ['Chapter: 12', 'Sentence: 166', 'Contents: sir james flushed slightly'], ['Chapter: 12', 'Sentence: 173', 'Contents: “they were probably right,” said sir james dryly'], ['Chapter: 12', 'Sentence: 180', 'Contents: sir james considered for a moment or two'], ['Chapter: 12', 'Sentence: 237', 'Contents: it was not so easy to follow sir james’s advice, and put the possible events of the evening out of her head'], ['Chapter: 12', 'Sentence: 267', 'Contents: ask for mr. hersheimmer, and when you get him tell him to get sir james and come on at once, as mrs. vandemeyer is trying to hook it'], ['Chapter: 12', 'Sentence: 268', 'Contents: if you can’t get him, ring up sir james peel edgerton, you’ll find his number in the book, and tell him what’s happening'], ['Chapter: 12', 'Sentence: 538', 'Contents: in the doorway were sir james peel edgerton and julius hersheimmer'], ['Chapter: 13', 'Sentence: 1', 'Contents:  sir james brushed past julius and hurriedly bent over the fallen woman'], ['Chapter: 13', 'Sentence: 9', 'Contents: between them sir james and tuppence lifted mrs. vandemeyer and carried her to the bed'], ['Chapter: 13', 'Sentence: 14', 'Contents: at that moment julius re-entered the room, carrying a glass half full of the spirit which he handed to sir james'], ['Chapter: 13', 'Sentence: 25', 'Contents: sir james kept his finger on her wrist a minute longer, then withdrew it with a nod'], ['Chapter: 13', 'Sentence: 39', 'Contents: “what you say is true,” said sir james meditatively'], ['Chapter: 13', 'Sentence: 59', 'Contents: “miss tuppence is right,” said sir james quietly'], ['Chapter: 13', 'Sentence: 65', 'Contents: “you forget your own suggestion of a dictaphone,” said sir james dryly'], ['Chapter: 13', 'Sentence: 78', 'Contents: sir james again felt mrs. vandemeyer’s pulse'], ['Chapter: 13', 'Sentence: 111', 'Contents: julius and sir james were talking in a low voice'], ['Chapter: 13', 'Sentence: 112', 'Contents: sir james turned to her'], ['Chapter: 13', 'Sentence: 122', 'Contents: i ran round for sir james here, and we came right on'], ['Chapter: 13', 'Sentence: 129', 'Contents: “now then, miss tuppence,” said sir james, “you know this place better than i do'], ['Chapter: 13', 'Sentence: 133', 'Contents: sir james looked round approvingly'], ['Chapter: 13', 'Sentence: 136', 'Contents: “i couldn’t, thank you, sir james'], ['Chapter: 13', 'Sentence: 148', 'Contents: “and now, miss tuppence,” said sir james, “we want to hear your adventures'], ['Chapter: 13', 'Sentence: 152', 'Contents: sir james said nothing until she had finished, when his quiet “well done, miss tuppence,” made her flush with pleasure'], ['Chapter: 13', 'Sentence: 156', 'Contents: sir james stroked his chin thoughtfully'], ['Chapter: 13', 'Sentence: 170', 'Contents: where do you think she can be, sir james'], ['Chapter: 13', 'Sentence: 176', 'Contents: sir james smiled'], ['Chapter: 13', 'Sentence: 191', 'Contents: “hall, did you say?” asked sir james'], ['Chapter: 13', 'Sentence: 200', 'Contents: “curious,” mused sir james'], ['Chapter: 13', 'Sentence: 221', 'Contents: she looked appealingly at sir james, who replied gravely: “with due deference to your feelings, miss tuppence (and mine as well for that matter), i do not see how it is humanly possible for anyone to be in the flat without our knowledge'], ['Chapter: 13', 'Sentence: 224', 'Contents: “yes,” said sir james'], ['Chapter: 13', 'Sentence: 232', 'Contents: with the first faint glimmerings of dawn, sir james drew aside the curtains'], ['Chapter: 13', 'Sentence: 252', 'Contents: sir james and julius accompanied her to the door'], ['Chapter: 13', 'Sentence: 258', 'Contents: but sir james said nothing'], ['Chapter: 13', 'Sentence: 297', 'Contents: but sir james interrupted him'], ['Chapter: 13', 'Sentence: 311', 'Contents: he was deferential to sir james, whom he recognized'], ['Chapter: 14', 'Sentence: 1', 'Contents:  nothing was more surprising and bewildering to tuppence than the ease and simplicity with which everything was arranged, owing to sir james’s skilful handling'], ['Chapter: 14', 'Sentence: 4', 'Contents: if so, he would let sir james know'], ['Chapter: 14', 'Sentence: 6', 'Contents: sir james and his young friends had been paying a call upon her, when she was suddenly stricken down and they had spent the night in the flat, not liking to leave her alone'], ['Chapter: 14', 'Sentence: 8', 'Contents: they did not, but sir james referred him to mrs. vandemeyer’s solicitor'], ['Chapter: 14', 'Sentence: 12', 'Contents: sir james stroked his chin thoughtfully'], ['Chapter: 14', 'Sentence: 21', 'Contents: it was arranged that tuppence and julius should return to the  ritz , and call for sir james in the car'], ['Chapter: 14', 'Sentence: 25', 'Contents: “can you spare us a few minutes, dr. hall?” said sir james pleasantly'], ['Chapter: 14', 'Sentence: 35', 'Contents: “to come to the point, can we have a word with you in private?” asked sir james'], ['Chapter: 14', 'Sentence: 39', 'Contents: they sat down, and the doctor looked inquiringly at sir james'], ['Chapter: 14', 'Sentence: 44', 'Contents: sir james hesitated a moment, then he replied: “yes'], ['Chapter: 14', 'Sentence: 48', 'Contents: “the name,” said sir james bluntly, “is really immaterial'], ['Chapter: 14', 'Sentence: 68', 'Contents: “yes,” said sir james, and stroked his chin reflectively'], ['Chapter: 14', 'Sentence: 82', 'Contents: sir james looked round'], ['Chapter: 14', 'Sentence: 94', 'Contents: “a great pity, especially as i gather, sir james, that the matter is important'], ['Chapter: 14', 'Sentence: 107', 'Contents: “and she remembers nothing,” said sir james slowly'], ['Chapter: 14', 'Sentence: 122', 'Contents: “i can imagine she would,” said sir james grimly'], ['Chapter: 14', 'Sentence: 183', 'Contents: dr. hall turned an appealing face to sir james, who smiled slightly'], ['Chapter: 15', 'Sentence: 20', 'Contents: she was about to speak when a warning glance from sir james made her hold her tongue'], ['Chapter: 15', 'Sentence: 31', 'Contents: “that remains to be seen,” said sir james gravely'], ['Chapter: 15', 'Sentence: 36', 'Contents: the doctor was not completely satisfied, but he saw that sir james was determined to say no more, and realized that to try and extract more information from the famous k.c. would be mere waste of labour'], ['Chapter: 15', 'Sentence: 44', 'Contents: she appealed to sir james'], ['Chapter: 15', 'Sentence: 48', 'Contents: sir james shrugged his shoulders'], ['Chapter: 15', 'Sentence: 54', 'Contents: “we must hope for the best,” said sir james'], ['Chapter: 15', 'Sentence: 60', 'Contents: sir james took tuppence’s hand'], ['Chapter: 15', 'Sentence: 69', 'Contents: sir james shrugged his shoulders'], ['Chapter: 15', 'Sentence: 79', 'Contents: a momentary pity came into sir james’s keen eyes, as he gazed into the girl’s downcast face'], ['Chapter: 15', 'Sentence: 93', 'Contents: she was beginning to understand sir james’s methods'], ['Chapter: 15', 'Sentence: 101', 'Contents: sir james’s words sounded in her ears: “never tell all you know--not even to the person you know best'], ['Chapter: 15', 'Sentence: 120', 'Contents: sir james to-day hadn’t got any hope at all, i could see that'], ['Chapter: 15', 'Sentence: 235', 'Contents: somehow, they seemed bound up with sir james’s enigmatical words'], ['Chapter: 18', 'Sentence: 40', 'Contents: beginning with his unsuccessful reconnoitring at bournemouth, he passed on to his return to london, the buying of the car, the growing anxieties of tuppence, the call upon sir james, and the sensational occurrences of the previous night'], ['Chapter: 18', 'Sentence: 44', 'Contents: “and sir james'], ['Chapter: 18', 'Sentence: 68', 'Contents: but i guess tuppence and i and even the highbrow sir james have all got the same idea'], ['Chapter: 18', 'Sentence: 463', 'Contents: come manchester midland hotel immediately--peel edgerton'], ['Chapter: 19', 'Sentence: 2', 'Contents: “i reckoned you’d come by this before i left london, and wired accordingly to sir james'], ['Chapter: 19', 'Sentence: 16', 'Contents: sir james arrived punctually at eight o’clock, and julius introduced tommy'], ['Chapter: 19', 'Sentence: 17', 'Contents: sir james shook hands with him warmly'], ['Chapter: 19', 'Sentence: 26', 'Contents: in the meantime he was conscious of sir james’s close scrutiny'], ['Chapter: 19', 'Sentence: 29', 'Contents: sir james took in everything, but gave out only what he chose'], ['Chapter: 19', 'Sentence: 32', 'Contents: how had sir james managed to track the girl'], ['Chapter: 19', 'Sentence: 35', 'Contents: sir james stroked his chin and smiled'], ['Chapter: 19', 'Sentence: 54', 'Contents: “that would hardly be possible,” said sir james gravely'], ['Chapter: 19', 'Sentence: 65', 'Contents: sir james tapped the table rather impatiently'], ['Chapter: 19', 'Sentence: 70', 'Contents: but sir james was far too wary to be drawn'], ['Chapter: 19', 'Sentence: 73', 'Contents: sir james’s presence in manchester was not accidental'], ['Chapter: 19', 'Sentence: 79', 'Contents: “that will be impossible, i fear,” said sir james'], ['Chapter: 19', 'Sentence: 83', 'Contents: there was something in sir james which always stirred him to antagonism'], ['Chapter: 19', 'Sentence: 89', 'Contents: the hand with which he raised his glass to his lips shook slightly, but his eyes held sir james’s defiantly'], ['Chapter: 19', 'Sentence: 101', 'Contents: helped out by questions from sir james, he gave an abbreviated account of his adventures'], ['Chapter: 19', 'Sentence: 109', 'Contents: sir james smiled a little'], ['Chapter: 19', 'Sentence: 111', 'Contents: tommy appeared about to protest, but sir james went on'], ['Chapter: 19', 'Sentence: 116', 'Contents: sir james nodded thoughtfully'], ['Chapter: 19', 'Sentence: 129', 'Contents: “naturally,” said sir james dryly'], ['Chapter: 19', 'Sentence: 135', 'Contents: “i wish i had,” said sir james quietly'], ['Chapter: 19', 'Sentence: 151', 'Contents: sir james’s questions fairly shot out'], ['Chapter: 19', 'Sentence: 153', 'Contents: sir james went at once to the root of the matter'], ['Chapter: 19', 'Sentence: 161', 'Contents: sir james looked at him keenly'], ['Chapter: 19', 'Sentence: 171', 'Contents: there was a faint note of derision in the american’s voice which made sir james look up sharply'], ['Chapter: 19', 'Sentence: 179', 'Contents: “i disagree with you,” said sir james shortly'], ['Chapter: 19', 'Sentence: 198', 'Contents: sir james had joined them on the doorstep'], ['Chapter: 19', 'Sentence: 220', 'Contents: his confidence in sir james was growing'], ['Chapter: 19', 'Sentence: 238', 'Contents: sir james spoke first'], ['Chapter: 19', 'Sentence: 262', 'Contents: julius looked across at sir james, who nodded'], ['Chapter: 19', 'Sentence: 271', 'Contents: sir james peel edgerton is an english member of parliament, and might be a big gun in the cabinet if he liked'], ['Chapter: 19', 'Sentence: 277', 'Contents: “just as we thought,” said sir james'], ['Chapter: 19', 'Sentence: 299', 'Contents: “go on,” said sir james, in his quiet penetrating tones'], ['Chapter: 19', 'Sentence: 339', 'Contents: it was sir james who spoke'], ['Chapter: 20', 'Sentence: 2', 'Contents: sir james had drawn a watch from his pocket'], ['Chapter: 20', 'Sentence: 11', 'Contents: a little frown had settled on sir james’s brow'], ['Chapter: 20', 'Sentence: 19', 'Contents: “i hope so,” said sir james'], ['Chapter: 20', 'Sentence: 37', 'Contents: julius was silenced for once, and sir james added on a lighter note: “i only want to put you on your guard'], ['Chapter: 21', 'Sentence: 30', 'Contents: “i wish that chap peel edgerton had been with us,” said tommy thoughtfully'], ['Chapter: 21', 'Sentence: 116', 'Contents: they brought him a note, a few kind words of sympathy from peel edgerton, who had read the news in the paper'], ['Chapter: 21', 'Sentence: 118', 'Contents: the letter ended with the offer of a post on a ranch in the argentine, where sir james had considerable interests'], ['Chapter: 21', 'Sentence: 181', 'Contents: he re-read sir james’s letter, and shook his head'], ['Chapter: 22', 'Sentence: 26', 'Contents: sir james peel edgerton said you would be able to manage that for me'], ['Chapter: 22', 'Sentence: 63', 'Contents: “peel edgerton'], ['Chapter: 22', 'Sentence: 64', 'Contents: “peel edgerton?” said the prime minister in astonishment'], ['Chapter: 22', 'Sentence: 69', 'Contents: i’ve always felt that if anyone was to run mr. brown to earth, peel edgerton would be the man'], ['Chapter: 22', 'Sentence: 97', 'Contents: sir james smiled, and stroked his chin'], ['Chapter: 22', 'Sentence: 131', 'Contents: “very simple,” said sir james, “and very ingenious'], ['Chapter: 22', 'Sentence: 140', 'Contents: “i rather wonder you’re not there too, peel edgerton'], ['Chapter: 22', 'Sentence: 148', 'Contents: “oh, i know who he was,” said sir james easily'], ['Chapter: 22', 'Sentence: 156', 'Contents: “ah!” said sir james thoughtfully'], ['Chapter: 23', 'Sentence: 1', 'Contents:  after ringing up sir james, tommy’s next procedure was to make a call at south audley mansions'], ['Chapter: 24', 'Sentence: 384', 'Contents: go straight to sir james peel edgerton'], ['Chapter: 25', 'Sentence: 63', 'Contents: if they once reached sir james peel edgerton in safety, all would be well'], ['Chapter: 25', 'Sentence: 85', 'Contents: “you see,” she explained to jane, “if they think we’re going to sir james, this will put them off the scent'], ['Chapter: 25', 'Sentence: 128', 'Contents: their breath was coming in choking gasps as they reached sir james’s door'], ['Chapter: 25', 'Sentence: 133', 'Contents: sir james came forward from the library door'], ['Chapter: 25', 'Sentence: 144', 'Contents: sir james looked at tuppence quizzically'], ['Chapter: 25', 'Sentence: 147', 'Contents: “so it seems,” said sir james dryly'], ['Chapter: 25', 'Sentence: 210', 'Contents: sir james murmured something sympathetically'], ['Chapter: 25', 'Sentence: 325', 'Contents: sir james nodded comprehendingly'], ['Chapter: 25', 'Sentence: 382', 'Contents: “then the papers,” said sir james slowly, “are still at the back of the picture in that room'], ['Chapter: 25', 'Sentence: 385', 'Contents: sir james rose to his feet'], ['Chapter: 25', 'Sentence: 389', 'Contents: “to-morrow may be too late,” said sir james gravely'], ['Chapter: 25', 'Sentence: 391', 'Contents: there was dead silence, and sir james continued: “you have been followed here--not a doubt of it'], ['Chapter: 25', 'Sentence: 410', 'Contents: “yes,” said sir james gravely'], ['Chapter: 25', 'Sentence: 438', 'Contents: “no, miss finn,” said sir james unexpectedly'], ['Chapter: 26', 'Sentence: 1', 'Contents:  sir james’s words came like a bomb-shell'], ['Chapter: 26', 'Sentence: 37', 'Contents: tuppence recounted to sir james the exciting events of the evening, ending up: “but i can’t see  why'], ['Chapter: 26', 'Sentence: 59', 'Contents: “because julius hersheimmer is mr. brown,” said sir james dryly'], ['Chapter: 26', 'Sentence: 80', 'Contents: sir james’s car was ordered round'], ['Chapter: 26', 'Sentence: 85', 'Contents: sir james went up to a plain-clothes man who was on duty with several others, and spoke to him'], ['Chapter: 26', 'Sentence: 92', 'Contents: they all knew sir james well'], ['Chapter: 26', 'Sentence: 129', 'Contents: sir james handed her a pocket-knife, and she ripped away the brown paper from the back'], ['Chapter: 26', 'Sentence: 146', 'Contents: sir james took it, and scrutinized it attentively'], ['Chapter: 26', 'Sentence: 150', 'Contents: sir james echoed her words as he folded the paper carefully and put it away in his pocket-book, then he looked curiously round the dingy room'], ['Chapter: 26', 'Sentence: 161', 'Contents: she smiled at her own foolishness--then looked up with a start to find sir james watching her'], ['Chapter: 26', 'Sentence: 169', 'Contents: sir james nodded again'], ['Chapter: 26', 'Sentence: 198', 'Contents: so no one will think of searching the pockets of sir james peel edgerton'], ['Chapter: 27', 'Sentence: 54', 'Contents: in the sunday papers a brief notice of the sudden death of sir james peel edgerton, the famous k.c., had appeared'], ['Chapter: 27', 'Sentence: 136', 'Contents: on the face of it, it seemed that he or sir james must have done the trick'], ['Chapter: 27', 'Sentence: 139', 'Contents: then i remembered that it was sir james who had discovered the false jane finn'], ['Chapter: 27', 'Sentence: 141', 'Contents: i left a note for julius, in case he was mr. brown, saying i was off to the argentine, and i dropped sir james’s letter with the offer of the job by the desk so that he would see it was a genuine stunt'], ['Chapter: 27', 'Sentence: 142', 'Contents: then i wrote my letter to mr. carter and rang up sir james'], ['Chapter: 27', 'Sentence: 151', 'Contents: julius  had  seen it--he showed me a note of hers to him once--but  sir james hadn’t'], ['Chapter: 27', 'Sentence: 156', 'Contents: unless sir james was actually caught in the act, so to speak, i knew mr. carter would never believe it of him on my bare word----” “i didn’t,” interposed mr. carter ruefully'], ['Chapter: 27', 'Sentence: 157', 'Contents: “that’s why i sent the girls off to sir james'], ['Chapter: 27', 'Sentence: 159', 'Contents: i threatened julius with the revolver, because i wanted tuppence to repeat that to sir james, so that he wouldn’t worry about us'], ['Chapter: 27', 'Sentence: 179', 'Contents: “beresford has just said that i would not have believed sir james peel edgerton to be guilty unless, so to speak, he was caught in the act'], ['Chapter: 27', 'Sentence: 183', 'Contents: sir james’s long association with the law would make it undesirable']]\n",
            "[['Chapter: 10', 'Sentence: 171', 'Contents: tuppence was undecided for the moment whether to put him down as an actor or a lawyer, but her doubts were soon solved as he gave her his name: sir james peel edgerton'], ['Chapter: 12', 'Sentence: 61', 'Contents: “sir james,” said tuppence, plunging boldly, “i dare say you will think it is most awful cheek of me coming here like this'], ['Chapter: 12', 'Sentence: 64', 'Contents: “tommy?” queried sir james, looking across at the american'], ['Chapter: 12', 'Sentence: 105', 'Contents: “oh, sir james,” broke out tuppence, “what do you think has become of tommy'], ['Chapter: 13', 'Sentence: 9', 'Contents: between them sir james and tuppence lifted mrs. vandemeyer and carried her to the bed'], ['Chapter: 13', 'Sentence: 59', 'Contents: “miss tuppence is right,” said sir james quietly'], ['Chapter: 13', 'Sentence: 129', 'Contents: “now then, miss tuppence,” said sir james, “you know this place better than i do'], ['Chapter: 13', 'Sentence: 148', 'Contents: “and now, miss tuppence,” said sir james, “we want to hear your adventures'], ['Chapter: 13', 'Sentence: 152', 'Contents: sir james said nothing until she had finished, when his quiet “well done, miss tuppence,” made her flush with pleasure'], ['Chapter: 13', 'Sentence: 221', 'Contents: she looked appealingly at sir james, who replied gravely: “with due deference to your feelings, miss tuppence (and mine as well for that matter), i do not see how it is humanly possible for anyone to be in the flat without our knowledge'], ['Chapter: 14', 'Sentence: 1', 'Contents:  nothing was more surprising and bewildering to tuppence than the ease and simplicity with which everything was arranged, owing to sir james’s skilful handling'], ['Chapter: 14', 'Sentence: 21', 'Contents: it was arranged that tuppence and julius should return to the  ritz , and call for sir james in the car'], ['Chapter: 15', 'Sentence: 60', 'Contents: sir james took tuppence’s hand'], ['Chapter: 18', 'Sentence: 40', 'Contents: beginning with his unsuccessful reconnoitring at bournemouth, he passed on to his return to london, the buying of the car, the growing anxieties of tuppence, the call upon sir james, and the sensational occurrences of the previous night'], ['Chapter: 18', 'Sentence: 68', 'Contents: but i guess tuppence and i and even the highbrow sir james have all got the same idea'], ['Chapter: 19', 'Sentence: 16', 'Contents: sir james arrived punctually at eight o’clock, and julius introduced tommy'], ['Chapter: 19', 'Sentence: 111', 'Contents: tommy appeared about to protest, but sir james went on'], ['Chapter: 21', 'Sentence: 30', 'Contents: “i wish that chap peel edgerton had been with us,” said tommy thoughtfully'], ['Chapter: 23', 'Sentence: 1', 'Contents:  after ringing up sir james, tommy’s next procedure was to make a call at south audley mansions'], ['Chapter: 25', 'Sentence: 144', 'Contents: sir james looked at tuppence quizzically'], ['Chapter: 26', 'Sentence: 37', 'Contents: tuppence recounted to sir james the exciting events of the evening, ending up: “but i can’t see  why'], ['Chapter: 27', 'Sentence: 159', 'Contents: i threatened julius with the revolver, because i wanted tuppence to repeat that to sir james, so that he wouldn’t worry about us'], ['Chapter: 27', 'Sentence: 179', 'Contents: “beresford has just said that i would not have believed sir james peel edgerton to be guilty unless, so to speak, he was caught in the act']]\n",
            "[['Chapter: 4', 'Sentence: 186', 'Contents: the disappearance of jane finn was forgotten and the whole affair was lost in oblivion'], ['Chapter: 5', 'Sentence: 124', 'Contents: “we haven’t kidnapped your cousin'], ['Chapter: 5', 'Sentence: 129', 'Contents: tommy fell in with this demand in so far as he gave him a guarded version of the disappearance of jane finn, and of the possibility of her having been mixed up unawares in “some political show'], ['Chapter: 8', 'Sentence: 8', 'Contents: by the time he reached the bend of the staircase, he had heard the man below disappear into a back room'], ['Chapter: 9', 'Sentence: 40', 'Contents: albert’s hand stole to his pocket'], ['Chapter: 9', 'Sentence: 122', 'Contents: his “hustling” activities were not confined to london, and his abrupt appearances and disappearances were fully accepted by the young adventurers as part of the day’s work'], ['Chapter: 9', 'Sentence: 123', 'Contents: it was quite on the cards that julius p. hersheimmer had left for constantinople at a moment’s notice if he fancied that a clue to his cousin’s disappearance was to be found there'], ['Chapter: 12', 'Sentence: 310', 'Contents: and you’ll sleep--oh yes, my little spy, you’ll sleep all right'], ['Chapter: 13', 'Sentence: 73', 'Contents: as she looked the expression disappeared as by magic, and mrs. vandemeyer lay inert and motionless as before'], ['Chapter: 15', 'Sentence: 30', 'Contents: surely the girl has not been kidnapped'], ['Chapter: 16', 'Sentence: 19', 'Contents: they knew him now for a spy, and would in all probability give him short shrift'], ['Chapter: 16', 'Sentence: 50', 'Contents: the cold accents of the german took up the conversation: “have you anything to say before you are put to death as a spy'], ['Chapter: 16', 'Sentence: 84', 'Contents: “you hell-hound of a spy,” he screamed'], ['Chapter: 17', 'Sentence: 211', 'Contents: he decided that tuppence, in the throes of anxiety, had gone to the police, and that his disappearance having been made public the gang had not been slow to put two and two together'], ['Chapter: 17', 'Sentence: 365', 'Contents: in a trice the men were pushing each other up the rickety ladder and had disappeared into the darkness above'], ['Chapter: 17', 'Sentence: 371', 'Contents: annette had disappeared'], ['Chapter: 18', 'Sentence: 89', 'Contents: he disappeared'], ['Chapter: 19', 'Sentence: 147', 'Contents: “she’s disappeared,” said julius'], ['Chapter: 19', 'Sentence: 157', 'Contents: their kidnapping of miss tuppence is the counter-move to your escape'], ['Chapter: 21', 'Sentence: 157', 'Contents: i shouldn’t wonder if she stole those papers from danvers to begin with'], ['Chapter: 23', 'Sentence: 7', 'Contents: she’s disappeared'], ['Chapter: 24', 'Sentence: 293', 'Contents: if i ever come to russia, monsieur kramenin, i shall expect a rousing welcome, and----” but before julius had finished his speech, and before the car had finally halted, the russian had swung himself out and disappeared into the night'], ['Chapter: 27', 'Sentence: 347', 'Contents: their spy system, too, was excellent'], ['Chapter: 28', 'Sentence: 85', 'Contents: tuppence stole a glance at him sideways']]\n",
            "[['Chapter: 4', 'Sentence: 57', 'Contents: “yours truly, “julius p. hersheimmer'], ['Chapter: 5', 'Sentence: 82', 'Contents: “julius p. hersheimmer'], ['Chapter: 5', 'Sentence: 93', 'Contents: on inquiring for mr. hersheimmer, they were at once taken up to his suite'], ['Chapter: 5', 'Sentence: 95', 'Contents: mr. julius p. hersheimmer was a great deal younger than either tommy or tuppence had pictured him'], ['Chapter: 5', 'Sentence: 106', 'Contents: “my father and her mother were brother and sister,” explained mr. hersheimmer meticulously'], ['Chapter: 5', 'Sentence: 110', 'Contents: mr. hersheimmer brought down his fist with a bang on the table'], ['Chapter: 5', 'Sentence: 118', 'Contents: but mr. hersheimmer seemed to grow suddenly suspicious'], ['Chapter: 5', 'Sentence: 127', 'Contents: mr. hersheimmer leant back in his chair'], ['Chapter: 5', 'Sentence: 130', 'Contents: he alluded to tuppence and himself as “private inquiry agents” commissioned to find her, and added that they would therefore be glad of any details mr. hersheimmer could give them'], ['Chapter: 5', 'Sentence: 139', 'Contents: “never seen her,” responded mr. hersheimmer'], ['Chapter: 5', 'Sentence: 141', 'Contents: hersheimmer turned to him'], ['Chapter: 5', 'Sentence: 164', 'Contents: the energy of mr. hersheimmer was tremendous'], ['Chapter: 5', 'Sentence: 175', 'Contents: tuppence expressed a preference for the latter, and julius bowed to her decision'], ['Chapter: 5', 'Sentence: 176', 'Contents: oysters had just given place to sole colbert when a card was brought to hersheimmer'], ['Chapter: 6', 'Sentence: 5', 'Contents: the immediate result of this set-back was to effect a  rapprochement between julius hersheimmer and the young adventurers'], ['Chapter: 7', 'Sentence: 107', 'Contents: he rang up the  ritz and asked for julius hersheimmer'], ['Chapter: 7', 'Sentence: 111', 'Contents: “that you, hersheimmer'], ['Chapter: 7', 'Sentence: 124', 'Contents: his opinion of julius’s power of hustling was high'], ['Chapter: 7', 'Sentence: 131', 'Contents: it was to be hoped that julius would arrive better provided'], ['Chapter: 7', 'Sentence: 137', 'Contents: supposing julius did not get there in time'], ['Chapter: 7', 'Sentence: 155', 'Contents: julius shook his head, and tommy’s face fell'], ['Chapter: 7', 'Sentence: 163', 'Contents: “me for whittington!” said julius darkly'], ['Chapter: 9', 'Sentence: 121', 'Contents: julius, too, was absent--but that to the girl’s mind was more easily explained'], ['Chapter: 9', 'Sentence: 123', 'Contents: it was quite on the cards that julius p. hersheimmer had left for constantinople at a moment’s notice if he fancied that a clue to his cousin’s disappearance was to be found there'], ['Chapter: 11', 'Sentence: 7', 'Contents: the prospect of his aid revived her mercurial spirits, and she next inquired for julius hersheimmer'], ['Chapter: 11', 'Sentence: 10', 'Contents: it would be something to see julius'], ['Chapter: 11', 'Sentence: 12', 'Contents: she wrote her note to mr. carter in julius’s sitting-room, and was just addressing the envelope when the door burst open'], ['Chapter: 11', 'Sentence: 13', 'Contents: “what the hell----” began julius, but checked himself abruptly'], ['Chapter: 11', 'Sentence: 49', 'Contents: julius paused'], ['Chapter: 11', 'Sentence: 51', 'Contents: “julius,” said tuppence firmly, “stop walking up and down'], ['Chapter: 11', 'Sentence: 54', 'Contents: mr. hersheimmer obeyed'], ['Chapter: 11', 'Sentence: 59', 'Contents: “well,” began julius, “i got into one of your dear old-fashioned first-class british compartments'], ['Chapter: 11', 'Sentence: 129', 'Contents: with an almighty crash, down it came, and julius p. hersheimmer with it'], ['Chapter: 11', 'Sentence: 130', 'Contents: “oh, julius,” breathed tuppence, “how exciting'], ['Chapter: 11', 'Sentence: 152', 'Contents: julius nodded, and continued: “‘how did it happen'], ['Chapter: 11', 'Sentence: 187', 'Contents: ‘quite sure, mr. hersheimmer'], ['Chapter: 11', 'Sentence: 241', 'Contents: “i’m listening,” said julius, and gave vent to his favourite expression'], ['Chapter: 11', 'Sentence: 244', 'Contents: julius’s astonishment and admiration were unbounded'], ['Chapter: 11', 'Sentence: 258', 'Contents: julius nodded gravely'], ['Chapter: 11', 'Sentence: 276', 'Contents: “to buy the car, of course,” replied julius, surprised'], ['Chapter: 11', 'Sentence: 279', 'Contents: “oh,” said tuppence faintly, “i  like  rolls-royces, but----” “sure,” agreed julius'], ['Chapter: 11', 'Sentence: 284', 'Contents: “little julius doesn’t,” affirmed mr. hersheimmer'], ['Chapter: 11', 'Sentence: 288', 'Contents: “you’re awfully good, julius'], ['Chapter: 11', 'Sentence: 298', 'Contents: julius was interested'], ['Chapter: 11', 'Sentence: 306', 'Contents: somewhat to her surprise, julius negatived the idea sharply'], ['Chapter: 11', 'Sentence: 313', 'Contents: thirty-five minutes had elapsed when julius returned'], ['Chapter: 11', 'Sentence: 317', 'Contents: “she’s some pace-maker, i can tell you,” said julius complacently'], ['Chapter: 11', 'Sentence: 321', 'Contents: “i went round to his house,” said julius'], ['Chapter: 11', 'Sentence: 325', 'Contents: “well,” returned julius, “he got out, that’s all'], ['Chapter: 12', 'Sentence: 10', 'Contents: it was curious that julius, who was undoubtedly much cleverer than tommy, did not give her the same feeling of support'], ['Chapter: 12', 'Sentence: 23', 'Contents: he did not come to the flat, and julius and the car waited in vain'], ['Chapter: 12', 'Sentence: 25', 'Contents: whilst admitting the truth of julius’s objections, she had nevertheless not entirely relinquished the idea of appealing to sir james peel edgerton'], ['Chapter: 12', 'Sentence: 34', 'Contents: she would meet julius, persuade him to her point of view, and they would beard the lion in his den'], ['Chapter: 12', 'Sentence: 35', 'Contents: when the day arrived julius needed a considerable amount of persuading, but tuppence held firm'], ['Chapter: 12', 'Sentence: 37', 'Contents: in the end julius gave in, and they proceeded in the car to carlton house terrace'], ['Chapter: 12', 'Sentence: 57', 'Contents: oh, by the way, this is mr. hersheimmer, sir james peel edgerton'], ['Chapter: 12', 'Sentence: 65', 'Contents: “no, that’s julius,” explained tuppence'], ['Chapter: 12', 'Sentence: 90', 'Contents: what do you think, julius'], ['Chapter: 12', 'Sentence: 100', 'Contents: by the way, where did mr. hersheimmer come in originally'], ['Chapter: 12', 'Sentence: 102', 'Contents: julius answered for himself'], ['Chapter: 12', 'Sentence: 128', 'Contents: there, julius'], ['Chapter: 12', 'Sentence: 130', 'Contents: “h’m,” said the lawyer, favouring julius with another keen glance'], ['Chapter: 12', 'Sentence: 151', 'Contents: “and if she won’t tell?” asked julius suddenly'], ['Chapter: 12', 'Sentence: 156', 'Contents: and that’s where i come in!” cried julius, bringing his fist down on the table with a bang'], ['Chapter: 12', 'Sentence: 159', 'Contents: sir james sat down and subjected julius to a long scrutiny'], ['Chapter: 12', 'Sentence: 160', 'Contents: “mr. hersheimmer,” he said at last, “that is a very large sum'], ['Chapter: 12', 'Sentence: 167', 'Contents: “there is no question of a fee, mr. hersheimmer'], ['Chapter: 12', 'Sentence: 174', 'Contents: “but it’s all o.k. about julius,” put in tuppence'], ['Chapter: 12', 'Sentence: 177', 'Contents: “the old man piled it up in style,” explained julius'], ['Chapter: 12', 'Sentence: 195', 'Contents: mr. hersheimmer will wait below in a taxi perhaps'], ['Chapter: 12', 'Sentence: 205', 'Contents: julius turned to the lawyer'], ['Chapter: 12', 'Sentence: 215', 'Contents: “oh, julius, isn’t he just a duck'], ['Chapter: 12', 'Sentence: 267', 'Contents: ask for mr. hersheimmer, and when you get him tell him to get sir james and come on at once, as mrs. vandemeyer is trying to hook it'], ['Chapter: 12', 'Sentence: 434', 'Contents: her economical spirit did not permit her to mention the whole million dollars suggested by julius'], ['Chapter: 12', 'Sentence: 456', 'Contents: tuppence went through a momentary struggle, but it was julius’s money, and his interests must come first'], ['Chapter: 12', 'Sentence: 538', 'Contents: in the doorway were sir james peel edgerton and julius hersheimmer'], ['Chapter: 13', 'Sentence: 1', 'Contents:  sir james brushed past julius and hurriedly bent over the fallen woman'], ['Chapter: 13', 'Sentence: 5', 'Contents: julius hurried to the washstand'], ['Chapter: 13', 'Sentence: 14', 'Contents: at that moment julius re-entered the room, carrying a glass half full of the spirit which he handed to sir james'], ['Chapter: 13', 'Sentence: 32', 'Contents: julius was congratulatory'], ['Chapter: 13', 'Sentence: 58', 'Contents: “maybe she meant a dictaphone,” said julius with interest'], ['Chapter: 13', 'Sentence: 61', 'Contents: julius stared at him'], ['Chapter: 13', 'Sentence: 70', 'Contents: i would suggest that miss tuppence should go to bed, and that you and i, mr. hersheimmer, should share the vigil'], ['Chapter: 13', 'Sentence: 76', 'Contents: “well,” said julius, “i guess we’d better make a move out of here any way'], ['Chapter: 13', 'Sentence: 111', 'Contents: julius and sir james were talking in a low voice'], ['Chapter: 13', 'Sentence: 116', 'Contents: “say,” remarked julius suddenly, “there’s tuppence’s bright boy'], ['Chapter: 13', 'Sentence: 128', 'Contents: with which julius departed abruptly'], ['Chapter: 13', 'Sentence: 142', 'Contents: julius reappeared some minutes later, having reassured albert and rewarded him lavishly for his services'], ['Chapter: 13', 'Sentence: 149', 'Contents: “that’s so,” agreed julius'], ['Chapter: 13', 'Sentence: 151', 'Contents: julius occasionally interjected an admiring “bully'], ['Chapter: 13', 'Sentence: 153', 'Contents: “there’s one thing i don’t get clearly,” said julius'], ['Chapter: 13', 'Sentence: 160', 'Contents: “mr. brown, i suppose,” said julius scoffingly'], ['Chapter: 13', 'Sentence: 164', 'Contents: julius flushed with vexation'], ['Chapter: 13', 'Sentence: 168', 'Contents: “i guess you’re right,” said julius frankly'], ['Chapter: 13', 'Sentence: 183', 'Contents: “bully for you,” cried julius'], ['Chapter: 13', 'Sentence: 187', 'Contents: julius shook his head'], ['Chapter: 13', 'Sentence: 197', 'Contents: he turned to julius'], ['Chapter: 13', 'Sentence: 199', 'Contents: julius shook his head'], ['Chapter: 13', 'Sentence: 202', 'Contents: “i guess i’m a mutt,” said julius with unusual humility'], ['Chapter: 13', 'Sentence: 206', 'Contents: “well, i guess it doesn’t matter now, anyway,” said julius'], ['Chapter: 13', 'Sentence: 244', 'Contents: “who’s the other cup for?” inquired julius'], ['Chapter: 13', 'Sentence: 247', 'Contents: “taking her tea seems a kind of anticlimax to last night,” said julius thoughtfully'], ['Chapter: 13', 'Sentence: 252', 'Contents: sir james and julius accompanied her to the door'], ['Chapter: 13', 'Sentence: 257', 'Contents: “plumb impossible,” replied julius reassuringly'], ['Chapter: 13', 'Sentence: 279', 'Contents: “if that isn’t the cruellest luck,” cried julius in despair'], ['Chapter: 13', 'Sentence: 291', 'Contents: julius’s glance went to the window'], ['Chapter: 13', 'Sentence: 296', 'Contents: “he might have slipped out----” suggested julius'], ['Chapter: 13', 'Sentence: 305', 'Contents: the key was in the lock, and julius swung open the door, and searched inside'], ['Chapter: 13', 'Sentence: 308', 'Contents: there was a pause before julius answered, then he withdrew his head and shut to the door'], ['Chapter: 14', 'Sentence: 10', 'Contents: “and what now?” asked julius, with a gesture of despair'], ['Chapter: 14', 'Sentence: 21', 'Contents: it was arranged that tuppence and julius should return to the  ritz , and call for sir james in the car'], ['Chapter: 14', 'Sentence: 27', 'Contents: mr. hersheimmer, i think, you already know'], ['Chapter: 14', 'Sentence: 28', 'Contents: a quizzical gleam came into the doctor’s eye as he shook hands with julius'], ['Chapter: 14', 'Sentence: 34', 'Contents: “still searching,” said julius briefly'], ['Chapter: 14', 'Sentence: 47', 'Contents: mr. hersheimmer asked me, i remember----” he half turned to julius'], ['Chapter: 14', 'Sentence: 71', 'Contents: julius leaned forward eagerly'], ['Chapter: 14', 'Sentence: 83', 'Contents: “as i said before, i’m a mutt!” returned julius'], ['Chapter: 14', 'Sentence: 115', 'Contents: “but surely all this is most unusual?” put in julius'], ['Chapter: 14', 'Sentence: 138', 'Contents: “another shock, eh?” said julius thoughtfully'], ['Chapter: 14', 'Sentence: 141', 'Contents: julius did not seem to be listening'], ['Chapter: 14', 'Sentence: 150', 'Contents: “a very interesting speculation, mr. hersheimmer'], ['Chapter: 14', 'Sentence: 169', 'Contents: dr. hall looked at julius'], ['Chapter: 14', 'Sentence: 171', 'Contents: “no,” said julius, in answer to it, “i’m not crazy'], ['Chapter: 14', 'Sentence: 182', 'Contents: ” “money doesn’t worry me any,” explained julius simply'], ['Chapter: 14', 'Sentence: 184', 'Contents: “mr. hersheimmer is very well off--very well off indeed'], ['Chapter: 14', 'Sentence: 185', 'Contents: the doctor’s glance came back to julius with a new and subtle quality in it'], ['Chapter: 14', 'Sentence: 200', 'Contents: “sure, that’s all right,” said julius'], ['Chapter: 14', 'Sentence: 206', 'Contents: “i beg your pardon, mr. hersheimmer'], ['Chapter: 15', 'Sentence: 1', 'Contents:  julius sprang up'], ['Chapter: 15', 'Sentence: 13', 'Contents: julius sank back again into his chair'], ['Chapter: 15', 'Sentence: 40', 'Contents: “to think that julius must have been actually under the same roof with her for a few hours'], ['Chapter: 15', 'Sentence: 41', 'Contents: “i was a darned idiot,” muttered julius gloomily'], ['Chapter: 15', 'Sentence: 56', 'Contents: but over her downcast head his eyes met julius’s, and almost imperceptibly he shook his head'], ['Chapter: 15', 'Sentence: 57', 'Contents: julius understood'], ['Chapter: 15', 'Sentence: 78', 'Contents: julius was bending over the car'], ['Chapter: 15', 'Sentence: 97', 'Contents: did he mean that, after all, he had not abandoned the case; that, secretly, he would be working on it still while---- her meditations were interrupted by julius, who adjured her to “get right in'], ['Chapter: 15', 'Sentence: 103', 'Contents: julius before the safe in the flat, her own question and the pause before his reply, “nothing'], ['Chapter: 15', 'Sentence: 108', 'Contents: she felt rather than saw julius throw a sideways glance at her'], ['Chapter: 15', 'Sentence: 115', 'Contents: julius spoke in a discouraged voice'], ['Chapter: 15', 'Sentence: 122', 'Contents: tuppence felt rather uncomfortable, but clinging to her belief that julius also had withheld something from her, she remained firm'], ['Chapter: 15', 'Sentence: 129', 'Contents: “i sure forgot beresford,” said julius contritely'], ['Chapter: 15', 'Sentence: 142', 'Contents: “i guess every pair of lovers has said that sometime or another,”  observed julius'], ['Chapter: 15', 'Sentence: 160', 'Contents: “what about marriage?” inquired julius'], ['Chapter: 15', 'Sentence: 166', 'Contents: “i never despise business instinct,” said julius'], ['Chapter: 15', 'Sentence: 201', 'Contents: she felt morally battered to the ground after her conflict with julius’s vigorous personality'], ['Chapter: 15', 'Sentence: 230', 'Contents: “i don’t know what to say to julius, i’m sure'], ['Chapter: 15', 'Sentence: 252', 'Contents: finally she nodded her head as though satisfied, and slipped it into an envelope which she addressed to julius'], ['Chapter: 18', 'Sentence: 3', 'Contents: he was in the middle of conveying a particularly choice morsel of sole à la jeanette to his mouth, when he caught sight of julius entering the room'], ['Chapter: 18', 'Sentence: 5', 'Contents: at the sight of tommy, julius’s eyes seemed as though they would pop out of his head'], ['Chapter: 18', 'Sentence: 27', 'Contents: julius drew up a chair to the opposite side of the table, summoned a hovering waiter, and dictated his wishes'], ['Chapter: 18', 'Sentence: 32', 'Contents: julius listened spellbound'], ['Chapter: 18', 'Sentence: 38', 'Contents: “we-el,” drawled julius, “i don’t mind admitting we’ve had some adventures too'], ['Chapter: 18', 'Sentence: 43', 'Contents: “the doctor kidded himself she took it herself,” replied julius dryly'], ['Chapter: 18', 'Sentence: 46', 'Contents: “being a legal luminary, he is likewise a human oyster,” replied julius'], ['Chapter: 18', 'Sentence: 77', 'Contents: “good, julius'], ['Chapter: 18', 'Sentence: 87', 'Contents: “all the same, i guess i’ll have a look round upstairs,” said julius'], ['Chapter: 18', 'Sentence: 118', 'Contents: at that moment julius rejoined him'], ['Chapter: 18', 'Sentence: 120', 'Contents: “i say, hersheimmer”--tommy turned to him--“tuppence has gone off sleuthing on her own'], ['Chapter: 18', 'Sentence: 124', 'Contents: his eye fell on the letter in julius’s hand'], ['Chapter: 18', 'Sentence: 128', 'Contents: almost unconsciously, he held out his hand for the letter, but julius folded it up and placed it in his pocket'], ['Chapter: 18', 'Sentence: 134', 'Contents: “see here,” said julius suddenly, “i’d better put you wise'], ['Chapter: 18', 'Sentence: 138', 'Contents: julius’s words were totally unexpected'], ['Chapter: 18', 'Sentence: 140', 'Contents: “i’d like to tell you,” continued julius, “that before i suggested anything of the kind to miss tuppence, i made it clear that i didn’t want to butt in in any way between her and you----” tommy roused himself'], ['Chapter: 18', 'Sentence: 146', 'Contents: tuppence always said that she was looking out for----” he stopped abruptly, his face crimsoning, but julius was in no way discomposed'], ['Chapter: 18', 'Sentence: 152', 'Contents: tuppence and julius'], ['Chapter: 18', 'Sentence: 165', 'Contents: julius’s voice broke in on these meditations'], ['Chapter: 18', 'Sentence: 178', 'Contents: the obliging julius handed it to him'], ['Chapter: 18', 'Sentence: 181', 'Contents: the note, in tuppence’s well-known schoolboy writing, ran as follows: “dear julius, “it’s always better to have things in black and white'], ['Chapter: 18', 'Sentence: 188', 'Contents: had she not refused julius without hesitation'], ['Chapter: 18', 'Sentence: 190', 'Contents: it read almost like a bribe to julius to spur him on in his efforts to find tommy, but he supposed she had not really meant it that way'], ['Chapter: 18', 'Sentence: 203', 'Contents: come on, julius'], ['Chapter: 18', 'Sentence: 212', 'Contents: julius spoke first: “you didn’t send it'], ['Chapter: 18', 'Sentence: 215', 'Contents: “i guess it means the worst,” said julius quietly'], ['Chapter: 18', 'Sentence: 229', 'Contents: the energy of julius was infectious'], ['Chapter: 18', 'Sentence: 231', 'Contents: but with julius hersheimmer about, hustling was inevitable'], ['Chapter: 18', 'Sentence: 250', 'Contents: julius groaned'], ['Chapter: 18', 'Sentence: 255', 'Contents: in a moment or two, he said: “i say, julius, what do they want her for, anyway'], ['Chapter: 18', 'Sentence: 263', 'Contents: “sure thing,” said julius thoughtfully'], ['Chapter: 18', 'Sentence: 285', 'Contents: tommy rejoined julius, and explained'], ['Chapter: 18', 'Sentence: 308', 'Contents: julius jerked the rusty bell handle'], ['Chapter: 18', 'Sentence: 315', 'Contents: “nothing doing,” said julius'], ['Chapter: 18', 'Sentence: 356', 'Contents: as the front door swung back on its hinges, protesting loudly, julius struck a match and examined the floor carefully'], ['Chapter: 18', 'Sentence: 365', 'Contents: “this gets me,” said julius'], ['Chapter: 18', 'Sentence: 368', 'Contents: julius shook his head without replying'], ['Chapter: 18', 'Sentence: 373', 'Contents: as they were retracing their steps to the gate, he gave a sudden cry, and stooping, picked something up from among the leaves, and held it out to julius'], ['Chapter: 18', 'Sentence: 379', 'Contents: julius drew a deep breath'], ['Chapter: 18', 'Sentence: 385', 'Contents: tommy and julius worked separately and together, but the result was the same'], ['Chapter: 18', 'Sentence: 394', 'Contents: julius wired to town for his own car, and they scoured the neighbourhood daily with unflagging zeal'], ['Chapter: 18', 'Sentence: 397', 'Contents: julius was like a hound on the leash'], ['Chapter: 18', 'Sentence: 407', 'Contents: ” “shucks!” said julius thoughtfully'], ['Chapter: 18', 'Sentence: 447', 'Contents: but the course of events was not to follow the plan julius had laid down'], ['Chapter: 18', 'Sentence: 449', 'Contents: important news--julius'], ['Chapter: 18', 'Sentence: 452', 'Contents: julius was on the platform'], ['Chapter: 18', 'Sentence: 457', 'Contents: julius shook his head'], ['Chapter: 18', 'Sentence: 464', 'Contents: julius took the form back and folded it up'], ['Chapter: 19', 'Sentence: 1', 'Contents:  “my train got in half an hour ago,” explained julius, as he led the way out of the station'], ['Chapter: 19', 'Sentence: 6', 'Contents: “what he said,” replied julius dryly'], ['Chapter: 19', 'Sentence: 10', 'Contents: julius turned on him'], ['Chapter: 19', 'Sentence: 16', 'Contents: sir james arrived punctually at eight o’clock, and julius introduced tommy'], ['Chapter: 19', 'Sentence: 31', 'Contents: immediately the first greetings were over julius broke out into a flood of eager questions'], ['Chapter: 19', 'Sentence: 49', 'Contents: “but i guess i can take it we were wrong,” pursued julius'], ['Chapter: 19', 'Sentence: 52', 'Contents: “but where is she?” demanded julius, his thoughts flying off on another tack'], ['Chapter: 19', 'Sentence: 64', 'Contents: “it’s come back?” cried julius excitedly'], ['Chapter: 19', 'Sentence: 66', 'Contents: “undoubtedly, mr. hersheimmer, since she was able to give her real name'], ['Chapter: 19', 'Sentence: 74', 'Contents: far from abandoning the case, as julius supposed, he had by some means of his own successfully run the missing girl to earth'], ['Chapter: 19', 'Sentence: 77', 'Contents: julius was speaking'], ['Chapter: 19', 'Sentence: 82', 'Contents: julius flushed'], ['Chapter: 19', 'Sentence: 86', 'Contents: “it will be quite useless, mr. hersheimmer'], ['Chapter: 19', 'Sentence: 88', 'Contents: julius was nervous and excited'], ['Chapter: 19', 'Sentence: 90', 'Contents: for a moment the hostility between the two seemed likely to burst into flame, but in the end julius lowered his eyes, defeated'], ['Chapter: 19', 'Sentence: 147', 'Contents: “she’s disappeared,” said julius'], ['Chapter: 19', 'Sentence: 152', 'Contents: between them tommy and julius gave the history of the last week and their futile search'], ['Chapter: 19', 'Sentence: 167', 'Contents: “that’s so,” said julius with a nod'], ['Chapter: 19', 'Sentence: 172', 'Contents: “you don’t believe in mr. brown, mr. hersheimmer'], ['Chapter: 19', 'Sentence: 201', 'Contents: “mr. hersheimmer--mr. beresford--dr. roylance'], ['Chapter: 19', 'Sentence: 239', 'Contents: “miss finn,” he said, “this is your cousin, mr. julius p. hersheimmer'], ['Chapter: 19', 'Sentence: 240', 'Contents: a faint flush flitted over the girl’s face, as julius stepped forward and took her hand'], ['Chapter: 19', 'Sentence: 250', 'Contents: “the old man was like that,” admitted julius'], ['Chapter: 19', 'Sentence: 262', 'Contents: julius looked across at sir james, who nodded'], ['Chapter: 19', 'Sentence: 269', 'Contents: julius understood'], ['Chapter: 19', 'Sentence: 287', 'Contents: julius punctuated the words with little pauses'], ['Chapter: 19', 'Sentence: 343', 'Contents: julius stepped forward and took her hand again'], ['Chapter: 20', 'Sentence: 9', 'Contents: “i guess it’s always well to get up early in the morning,” said julius, before the lawyer had time to reply'], ['Chapter: 20', 'Sentence: 16', 'Contents: it was clear, on the other hand, that julius was easily disposed to put up with the loss of the other’s company'], ['Chapter: 20', 'Sentence: 22', 'Contents: “you are still young, mr. hersheimmer'], ['Chapter: 20', 'Sentence: 25', 'Contents: the gravity of his tone impressed tommy, but had little effect upon julius'], ['Chapter: 20', 'Sentence: 37', 'Contents: julius was silenced for once, and sir james added on a lighter note: “i only want to put you on your guard'], ['Chapter: 20', 'Sentence: 46', 'Contents: when at length julius broke the silence, it was with a totally unexpected remark'], ['Chapter: 20', 'Sentence: 54', 'Contents: i guess i’m ashamed to admit it, but i came over here determined to find her and fix it all up, and take her back as mrs. julius p. hersheimmer'], ['Chapter: 20', 'Sentence: 56', 'Contents: julius uncrossed his legs brusquely and continued: “just shows what an almighty fool a man can make of himself'], ['Chapter: 20', 'Sentence: 66', 'Contents: but there was something about that photo”--julius shook his head, and heaved a sigh--“i guess romance is a mighty queer thing'], ['Chapter: 20', 'Sentence: 68', 'Contents: julius had the grace to look discomposed'], ['Chapter: 20', 'Sentence: 73', 'Contents: if that’s----” julius hastened to interrupt'], ['Chapter: 20', 'Sentence: 84', 'Contents: julius looked at him and judged it wise to say no more'], ['Chapter: 20', 'Sentence: 90', 'Contents: tommy and julius watched it out of sight, and then turned to the narrow path'], ['Chapter: 20', 'Sentence: 97', 'Contents: they went down in single file, julius leading'], ['Chapter: 20', 'Sentence: 99', 'Contents: julius looked back'], ['Chapter: 20', 'Sentence: 104', 'Contents: “can’t be,” said julius positively'], ['Chapter: 20', 'Sentence: 109', 'Contents: “i rather wish that fellow would come along,” said julius'], ['Chapter: 20', 'Sentence: 119', 'Contents: suddenly julius came to such an abrupt halt that tommy cannoned into him'], ['Chapter: 20', 'Sentence: 125', 'Contents: “well,” said tommy, refusing to share julius’s emotion, “it’s what we expected to see, isn’t it'], ['Chapter: 20', 'Sentence: 126', 'Contents: julius looked at him sadly and shook his head'], ['Chapter: 20', 'Sentence: 134', 'Contents: and julius replied solemnly: “i guess you’re right'], ['Chapter: 20', 'Sentence: 137', 'Contents: julius replied in an awestricken voice: “that’s it--for sure'], ['Chapter: 20', 'Sentence: 156', 'Contents: julius looked at him with a widening smile'], ['Chapter: 20', 'Sentence: 178', 'Contents: “a dummy?” hazarded julius'], ['Chapter: 20', 'Sentence: 194', 'Contents: suddenly julius grasped his arm, and pointed to where characters were appearing in a faint brown colour'], ['Chapter: 21', 'Sentence: 4', 'Contents: not so julius'], ['Chapter: 21', 'Sentence: 21', 'Contents: “that’s so,” admitted julius'], ['Chapter: 21', 'Sentence: 32', 'Contents: julius stared'], ['Chapter: 21', 'Sentence: 50', 'Contents: julius elected to stay the night at holyhead'], ['Chapter: 21', 'Sentence: 120', 'Contents: the door opened, and julius burst in with his usual violence'], ['Chapter: 21', 'Sentence: 128', 'Contents: “well, i’m darned!” said julius'], ['Chapter: 21', 'Sentence: 138', 'Contents: “see here,” began julius temperately'], ['Chapter: 21', 'Sentence: 146', 'Contents: it was like a miracle to see the girl i loved turn up in a nurse’s kit----” but julius interrupted him'], ['Chapter: 21', 'Sentence: 158', 'Contents: “i’m darned if she did!” shouted julius'], ['Chapter: 21', 'Sentence: 162', 'Contents: but suddenly, with an almost magical abruptness, julius’s anger abated'], ['Chapter: 21', 'Sentence: 169', 'Contents: as the door closed behind julius, he returned to his suit-case'], ['Chapter: 21', 'Sentence: 190', 'Contents: then he remembered that there was a good supply in julius’s sitting-room'], ['Chapter: 21', 'Sentence: 194', 'Contents: old julius had taken them jolly well'], ['Chapter: 21', 'Sentence: 201', 'Contents: what on earth was a photograph of the french girl annette doing in julius hersheimmer’s writing-table'], ['Chapter: 22', 'Sentence: 104', 'Contents: he said it had--that in a drawer in mr. hersheimmer’s room he had discovered a photograph'], ['Chapter: 22', 'Sentence: 152', 'Contents: “but what i don’t understand,” said the prime-minister suddenly, “is how that photograph came to be in mr. hersheimmer’s drawer'], ['Chapter: 22', 'Sentence: 161', 'Contents: two days later julius hersheimmer returned from manchester'], ['Chapter: 22', 'Sentence: 162', 'Contents: a note from tommy lay on his table: “dear hersheimmer, “sorry i lost my temper'], ['Chapter: 22', 'Sentence: 166', 'Contents: a peculiar smile lingered for a moment on julius’s face'], ['Chapter: 24', 'Sentence: 5', 'Contents: “he gives the name of mr. julius p. hersheimmer'], ['Chapter: 24', 'Sentence: 6', 'Contents: “hersheimmer,” repeated kramenin thoughtfully'], ['Chapter: 24', 'Sentence: 18', 'Contents: the secretary left the room once more, and returned escorting julius'], ['Chapter: 24', 'Sentence: 25', 'Contents: “that may be so--but i have,” said julius dryly'], ['Chapter: 24', 'Sentence: 27', 'Contents: “ivan,” said the russian softly, “perhaps you would not mind retiring into the next room----” “the next room won’t do,” interrupted julius'], ['Chapter: 24', 'Sentence: 38', 'Contents: julius stood at the door watching his retreat'], ['Chapter: 24', 'Sentence: 40', 'Contents: “now, mr. hersheimmer, perhaps you will be so kind as to come to the point'], ['Chapter: 24', 'Sentence: 41', 'Contents: “i guess that won’t take a minute,” drawled julius'], ['Chapter: 24', 'Sentence: 44', 'Contents: in that instant julius had taken his measure'], ['Chapter: 24', 'Sentence: 55', 'Contents: i may have been maligned----” “i reckon,” said julius, “that the man who let daylight into you would be doing humanity a good turn'], ['Chapter: 24', 'Sentence: 69', 'Contents: “and i tell you,” retorted julius, “that little willie here is just hopping mad to go off'], ['Chapter: 24', 'Sentence: 95', 'Contents: “he’ll never know,” said julius'], ['Chapter: 24', 'Sentence: 101', 'Contents: “sure that’s a pity for you,” said julius cheerfully'], ['Chapter: 24', 'Sentence: 110', 'Contents: “well,” said julius pleasantly, “it’s up to you'], ['Chapter: 24', 'Sentence: 117', 'Contents: i shall spend a few months in a quiet sanatorium, my mental health will improve, the doctors will declare me sane again, and all will end happily for little julius'], ['Chapter: 24', 'Sentence: 121', 'Contents: he had read of american murder trials running much on the lines indicated by julius'], ['Chapter: 24', 'Sentence: 124', 'Contents: “i’m going to count five,” continued julius, “and i guess, if you let me get past four, you needn’t worry any about mr. brown'], ['Chapter: 24', 'Sentence: 130', 'Contents: julius lowered the revolver'], ['Chapter: 24', 'Sentence: 141', 'Contents: “that’s good,” said julius'], ['Chapter: 24', 'Sentence: 172', 'Contents: when they reached the car, julius breathed a sigh of relief'], ['Chapter: 24', 'Sentence: 194', 'Contents: julius ensconced himself comfortably by the side of his victim'], ['Chapter: 24', 'Sentence: 199', 'Contents: julius’s narrative style, if not strictly accurate, was picturesque'], ['Chapter: 24', 'Sentence: 201', 'Contents: julius bade the russian direct them'], ['Chapter: 24', 'Sentence: 204', 'Contents: julius explained to him that little willie would not be tolerant of failure'], ['Chapter: 24', 'Sentence: 216', 'Contents: “now,” hissed julius'], ['Chapter: 24', 'Sentence: 243', 'Contents: julius leaned forward, and in doing so the light from the open door lit up his face'], ['Chapter: 24', 'Sentence: 246', 'Contents: “get a move on, george,” shouted julius'], ['Chapter: 24', 'Sentence: 252', 'Contents: “get down, jane,” cried julius'], ['Chapter: 24', 'Sentence: 256', 'Contents: “sure,” replied julius'], ['Chapter: 24', 'Sentence: 280', 'Contents: “that’s so,” assented julius'], ['Chapter: 24', 'Sentence: 293', 'Contents: if i ever come to russia, monsieur kramenin, i shall expect a rousing welcome, and----” but before julius had finished his speech, and before the car had finally halted, the russian had swung himself out and disappeared into the night'], ['Chapter: 24', 'Sentence: 294', 'Contents: “just a mite impatient to leave us,” commented julius, as the car gathered way again'], ['Chapter: 24', 'Sentence: 299', 'Contents: julius tapped his revolver'], ['Chapter: 24', 'Sentence: 302', 'Contents: the colour surged into her face, her eyes looked admiringly at julius'], ['Chapter: 24', 'Sentence: 306', 'Contents: “annette,” said julius'], ['Chapter: 24', 'Sentence: 310', 'Contents: “shucks!” retorted julius'], ['Chapter: 24', 'Sentence: 316', 'Contents: “down with you,” cried julius'], ['Chapter: 24', 'Sentence: 322', 'Contents: julius, upright, leant over the back of the car'], ['Chapter: 24', 'Sentence: 338', 'Contents: julius took her by both arms, and looked at her'], ['Chapter: 24', 'Sentence: 344', 'Contents: julius patted her on the shoulder'], ['Chapter: 24', 'Sentence: 351', 'Contents: i’m your cousin--julius hersheimmer'], ['Chapter: 24', 'Sentence: 370', 'Contents: “what the devil are you driving at?” demanded julius'], ['Chapter: 24', 'Sentence: 386', 'Contents: “darn you!” cried julius'], ['Chapter: 24', 'Sentence: 389', 'Contents: with a sudden swift movement, tommy snatched the revolver from julius’s hand, and levelled it at him'], ['Chapter: 24', 'Sentence: 398', 'Contents: julius’s pent-up rage burst forth'], ['Chapter: 24', 'Sentence: 401', 'Contents: i want a few words with you, mr. julius hersheimmer'], ['Chapter: 25', 'Sentence: 421', 'Contents: only three people touched that brandy--you, miss tuppence, i myself, and one other--mr. julius hersheimmer'], ['Chapter: 25', 'Sentence: 424', 'Contents: mr. hersheimmer, as the son of a prominent millionaire, was a well-known figure in america'], ['Chapter: 25', 'Sentence: 431', 'Contents: from some words of mr. hersheimmer’s at manchester, i gathered that you had understood and acted on that hint'], ['Chapter: 25', 'Sentence: 433', 'Contents: mr. beresford rang me up and told me, what i had already suspected, that the photograph of miss jane finn had never really been out of mr. hersheimmer’s possession----” but the girl interrupted'], ['Chapter: 25', 'Sentence: 436', 'Contents: that mr. brown is julius'], ['Chapter: 25', 'Sentence: 437', 'Contents: julius--my own cousin'], ['Chapter: 25', 'Sentence: 440', 'Contents: the man who calls himself julius hersheimmer is no relation to you whatsoever'], ['Chapter: 26', 'Sentence: 8', 'Contents: the great stumbling-block was the undeniable fact that julius hersheimmer was not an assumed name'], ['Chapter: 26', 'Sentence: 10', 'Contents: julius hersheimmer set out to discover what had become of his cousin'], ['Chapter: 26', 'Sentence: 16', 'Contents: none of the real hersheimmer’s friends or intimates saw him before he sailed--though indeed it would hardly have mattered if they had, the impersonation was so perfect'], ['Chapter: 26', 'Sentence: 28', 'Contents: “the real julius hersheimmer  was  a splendid fellow'], ['Chapter: 26', 'Sentence: 36', 'Contents: “was it julius hersheimmer who helped you to escape'], ['Chapter: 26', 'Sentence: 44', 'Contents: then julius hersheimmer dashes up and rescues you in true melodramatic style'], ['Chapter: 26', 'Sentence: 59', 'Contents: “because julius hersheimmer is mr. brown,” said sir james dryly'], ['Chapter: 26', 'Sentence: 105', 'Contents: supposing mr. brown--julius--was there waiting'], ['Chapter: 26', 'Sentence: 207', 'Contents: the revolver was wrenched from his hand, and the voice of julius hersheimmer said drawlingly: “i guess you’re caught redhanded with the goods upon you'], ['Chapter: 27', 'Sentence: 1', 'Contents:  the supper party given by mr. julius hersheimmer to a few friends on the evening of the 30th will long be remembered in catering circles'], ['Chapter: 27', 'Sentence: 2', 'Contents: it took place in a private room, and mr. hersheimmer’s orders were brief and forcible'], ['Chapter: 27', 'Sentence: 9', 'Contents: julius had spared no pains to make jane’s appearance a success'], ['Chapter: 27', 'Sentence: 11', 'Contents: it was julius'], ['Chapter: 27', 'Sentence: 23', 'Contents: “that’s so,” agreed mr. hersheimmer fervently'], ['Chapter: 27', 'Sentence: 25', 'Contents: “by the way, julius,” she remarked demurely, “i--haven’t given you my answer yet'], ['Chapter: 27', 'Sentence: 26', 'Contents: “answer?” said julius'], ['Chapter: 27', 'Sentence: 29', 'Contents: i’ve thought it well over----” “yes?” said julius'], ['Chapter: 27', 'Sentence: 39', 'Contents: “i don’t know what you mean,” said julius stiffly, but a large and burning blush overspread his countenance'], ['Chapter: 27', 'Sentence: 43', 'Contents: “julius'], ['Chapter: 27', 'Sentence: 74', 'Contents: and now, on the evening of the 30th, in a private room at the  savoy , mr. julius p. hersheimmer was receiving his guests'], ['Chapter: 27', 'Sentence: 102', 'Contents: “we might as well sit down,” said julius, when he had introduced all his guests to each other'], ['Chapter: 27', 'Sentence: 107', 'Contents: julius flung her a grateful glance, and jane came forward shyly to the allotted seat'], ['Chapter: 27', 'Sentence: 114', 'Contents: “you’ve been too darned close about the whole business,” julius accused him'], ['Chapter: 27', 'Sentence: 120', 'Contents: “i never liked him,” said julius'], ['Chapter: 27', 'Sentence: 125', 'Contents: julius agreed'], ['Chapter: 27', 'Sentence: 135', 'Contents: “that business about mrs. vandemeyer had worried me when julius told me about it'], ['Chapter: 27', 'Sentence: 138', 'Contents: finding that photograph in the drawer, after that story of how it had been got from him by inspector brown, made me suspect julius'], ['Chapter: 27', 'Sentence: 141', 'Contents: i left a note for julius, in case he was mr. brown, saying i was off to the argentine, and i dropped sir james’s letter with the offer of the job by the desk so that he would see it was a genuine stunt'], ['Chapter: 27', 'Sentence: 151', 'Contents: julius  had  seen it--he showed me a note of hers to him once--but  sir james hadn’t'], ['Chapter: 27', 'Sentence: 155', 'Contents: when julius came bursting up in his car, i felt it wasn’t part of mr. brown’s plan--and that there would probably be trouble'], ['Chapter: 27', 'Sentence: 159', 'Contents: i threatened julius with the revolver, because i wanted tuppence to repeat that to sir james, so that he wouldn’t worry about us'], ['Chapter: 27', 'Sentence: 160', 'Contents: the moment the girls were out of sight i told julius to drive like hell for london, and as we went along i told him the whole story'], ['Chapter: 27', 'Sentence: 167', 'Contents: “by the way,” said julius suddenly, “you’re all wrong about that photograph of jane'], ['Chapter: 28', 'Sentence: 1', 'Contents:  “that was a mighty good toast, jane,” said mr. hersheimmer, as he and his cousin were being driven back in the rolls-royce to the  ritz '], ['Chapter: 28', 'Sentence: 24', 'Contents: “oh, julius'], ['Chapter: 28', 'Sentence: 28', 'Contents: “i love you now, julius,” said jane finn'], ['Chapter: 28', 'Sentence: 33', 'Contents: five minutes later jane murmured softly: “i don’t know london very well, julius, but is it such a very long way from the  savoy  to the  ritz'], ['Chapter: 28', 'Sentence: 34', 'Contents: ” “it depends how you go,” explained julius unblushingly'], ['Chapter: 28', 'Sentence: 36', 'Contents: “oh, julius--what will the chauffeur think'], ['Chapter: 28', 'Sentence: 49', 'Contents: “there you have me beat,” said mr. hersheimmer'], ['Chapter: 28', 'Sentence: 63', 'Contents: “i like julius,” essayed tuppence again'], ['Chapter: 28', 'Sentence: 80', 'Contents: “by the way, what are you going to do, accept mr. carter’s offer of a government job, or accept julius’s invitation and take a richly remunerated post in america on his ranch'], ['Chapter: 28', 'Sentence: 81', 'Contents: “i shall stick to the old ship, i think, though it’s awfully good of hersheimmer'], ['Chapter: 28', 'Sentence: 113', 'Contents: but after listening to a rotten one like julius’s, i’m inclined to let you off']]\n",
            "[['Chapter: 10', 'Sentence: 74', 'Contents: “in the meantime, you are going about everywhere with peel edgerton'], ['Chapter: 10', 'Sentence: 84', 'Contents: be guided by me, and give up peel edgerton'], ['Chapter: 10', 'Sentence: 98', 'Contents: they say peel edgerton can  smell  a criminal'], ['Chapter: 10', 'Sentence: 105', 'Contents: i assure you that is all that interests peel edgerton'], ['Chapter: 10', 'Sentence: 171', 'Contents: tuppence was undecided for the moment whether to put him down as an actor or a lawyer, but her doubts were soon solved as he gave her his name: sir james peel edgerton'], ['Chapter: 10', 'Sentence: 179', 'Contents: peel edgerton would not be an easy man to deceive'], ['Chapter: 10', 'Sentence: 197', 'Contents: but sir james was already on the topmost stair'], ['Chapter: 11', 'Sentence: 297', 'Contents: and she narrated her encounter with sir james peel edgerton'], ['Chapter: 12', 'Sentence: 25', 'Contents: whilst admitting the truth of julius’s objections, she had nevertheless not entirely relinquished the idea of appealing to sir james peel edgerton'], ['Chapter: 12', 'Sentence: 41', 'Contents: she had decided not to ask if sir james was “at home,” but to adopt a more personal attitude'], ['Chapter: 12', 'Sentence: 42', 'Contents: “will you ask sir james if i can see him for a few minutes'], ['Chapter: 12', 'Sentence: 45', 'Contents: “sir james will see you'], ['Chapter: 12', 'Sentence: 57', 'Contents: oh, by the way, this is mr. hersheimmer, sir james peel edgerton'], ['Chapter: 12', 'Sentence: 59', 'Contents: “won’t you both sit down?” asked sir james'], ['Chapter: 12', 'Sentence: 61', 'Contents: “sir james,” said tuppence, plunging boldly, “i dare say you will think it is most awful cheek of me coming here like this'], ['Chapter: 12', 'Sentence: 64', 'Contents: “tommy?” queried sir james, looking across at the american'], ['Chapter: 12', 'Sentence: 73', 'Contents: “well, perhaps it was,” admitted sir james gravely'], ['Chapter: 12', 'Sentence: 76', 'Contents: sir james smiled at her earnestness'], ['Chapter: 12', 'Sentence: 81', 'Contents: “well,” said sir james, still smiling, “without prejudice, then, if i had a young sister forced to earn her living, i should not like to see her in mrs. vandemeyer’s service'], ['Chapter: 12', 'Sentence: 88', 'Contents: i knew perfectly that she was a bad lot when i went there--as a matter of fact that’s  why  i went----” she broke off, seeing some bewilderment on the lawyer’s face, and went on: “i think perhaps i’d better tell you the whole story, sir james'], ['Chapter: 12', 'Sentence: 92', 'Contents: “yes, tell me all about it,” said sir james'], ['Chapter: 12', 'Sentence: 105', 'Contents: “oh, sir james,” broke out tuppence, “what do you think has become of tommy'], ['Chapter: 12', 'Sentence: 140', 'Contents: sir james smiled'], ['Chapter: 12', 'Sentence: 148', 'Contents: “oh, just by asking her questions,” replied sir james easily'], ['Chapter: 12', 'Sentence: 159', 'Contents: sir james sat down and subjected julius to a long scrutiny'], ['Chapter: 12', 'Sentence: 166', 'Contents: sir james flushed slightly'], ['Chapter: 12', 'Sentence: 173', 'Contents: “they were probably right,” said sir james dryly'], ['Chapter: 12', 'Sentence: 180', 'Contents: sir james considered for a moment or two'], ['Chapter: 12', 'Sentence: 237', 'Contents: it was not so easy to follow sir james’s advice, and put the possible events of the evening out of her head'], ['Chapter: 12', 'Sentence: 267', 'Contents: ask for mr. hersheimmer, and when you get him tell him to get sir james and come on at once, as mrs. vandemeyer is trying to hook it'], ['Chapter: 12', 'Sentence: 268', 'Contents: if you can’t get him, ring up sir james peel edgerton, you’ll find his number in the book, and tell him what’s happening'], ['Chapter: 12', 'Sentence: 538', 'Contents: in the doorway were sir james peel edgerton and julius hersheimmer'], ['Chapter: 13', 'Sentence: 1', 'Contents:  sir james brushed past julius and hurriedly bent over the fallen woman'], ['Chapter: 13', 'Sentence: 9', 'Contents: between them sir james and tuppence lifted mrs. vandemeyer and carried her to the bed'], ['Chapter: 13', 'Sentence: 14', 'Contents: at that moment julius re-entered the room, carrying a glass half full of the spirit which he handed to sir james'], ['Chapter: 13', 'Sentence: 25', 'Contents: sir james kept his finger on her wrist a minute longer, then withdrew it with a nod'], ['Chapter: 13', 'Sentence: 39', 'Contents: “what you say is true,” said sir james meditatively'], ['Chapter: 13', 'Sentence: 59', 'Contents: “miss tuppence is right,” said sir james quietly'], ['Chapter: 13', 'Sentence: 65', 'Contents: “you forget your own suggestion of a dictaphone,” said sir james dryly'], ['Chapter: 13', 'Sentence: 78', 'Contents: sir james again felt mrs. vandemeyer’s pulse'], ['Chapter: 13', 'Sentence: 111', 'Contents: julius and sir james were talking in a low voice'], ['Chapter: 13', 'Sentence: 112', 'Contents: sir james turned to her'], ['Chapter: 13', 'Sentence: 122', 'Contents: i ran round for sir james here, and we came right on'], ['Chapter: 13', 'Sentence: 129', 'Contents: “now then, miss tuppence,” said sir james, “you know this place better than i do'], ['Chapter: 13', 'Sentence: 133', 'Contents: sir james looked round approvingly'], ['Chapter: 13', 'Sentence: 136', 'Contents: “i couldn’t, thank you, sir james'], ['Chapter: 13', 'Sentence: 148', 'Contents: “and now, miss tuppence,” said sir james, “we want to hear your adventures'], ['Chapter: 13', 'Sentence: 152', 'Contents: sir james said nothing until she had finished, when his quiet “well done, miss tuppence,” made her flush with pleasure'], ['Chapter: 13', 'Sentence: 156', 'Contents: sir james stroked his chin thoughtfully'], ['Chapter: 13', 'Sentence: 170', 'Contents: where do you think she can be, sir james'], ['Chapter: 13', 'Sentence: 176', 'Contents: sir james smiled'], ['Chapter: 13', 'Sentence: 191', 'Contents: “hall, did you say?” asked sir james'], ['Chapter: 13', 'Sentence: 200', 'Contents: “curious,” mused sir james'], ['Chapter: 13', 'Sentence: 221', 'Contents: she looked appealingly at sir james, who replied gravely: “with due deference to your feelings, miss tuppence (and mine as well for that matter), i do not see how it is humanly possible for anyone to be in the flat without our knowledge'], ['Chapter: 13', 'Sentence: 224', 'Contents: “yes,” said sir james'], ['Chapter: 13', 'Sentence: 232', 'Contents: with the first faint glimmerings of dawn, sir james drew aside the curtains'], ['Chapter: 13', 'Sentence: 252', 'Contents: sir james and julius accompanied her to the door'], ['Chapter: 13', 'Sentence: 258', 'Contents: but sir james said nothing'], ['Chapter: 13', 'Sentence: 297', 'Contents: but sir james interrupted him'], ['Chapter: 13', 'Sentence: 311', 'Contents: he was deferential to sir james, whom he recognized'], ['Chapter: 14', 'Sentence: 1', 'Contents:  nothing was more surprising and bewildering to tuppence than the ease and simplicity with which everything was arranged, owing to sir james’s skilful handling'], ['Chapter: 14', 'Sentence: 4', 'Contents: if so, he would let sir james know'], ['Chapter: 14', 'Sentence: 6', 'Contents: sir james and his young friends had been paying a call upon her, when she was suddenly stricken down and they had spent the night in the flat, not liking to leave her alone'], ['Chapter: 14', 'Sentence: 8', 'Contents: they did not, but sir james referred him to mrs. vandemeyer’s solicitor'], ['Chapter: 14', 'Sentence: 12', 'Contents: sir james stroked his chin thoughtfully'], ['Chapter: 14', 'Sentence: 21', 'Contents: it was arranged that tuppence and julius should return to the  ritz , and call for sir james in the car'], ['Chapter: 14', 'Sentence: 25', 'Contents: “can you spare us a few minutes, dr. hall?” said sir james pleasantly'], ['Chapter: 14', 'Sentence: 35', 'Contents: “to come to the point, can we have a word with you in private?” asked sir james'], ['Chapter: 14', 'Sentence: 39', 'Contents: they sat down, and the doctor looked inquiringly at sir james'], ['Chapter: 14', 'Sentence: 44', 'Contents: sir james hesitated a moment, then he replied: “yes'], ['Chapter: 14', 'Sentence: 48', 'Contents: “the name,” said sir james bluntly, “is really immaterial'], ['Chapter: 14', 'Sentence: 68', 'Contents: “yes,” said sir james, and stroked his chin reflectively'], ['Chapter: 14', 'Sentence: 82', 'Contents: sir james looked round'], ['Chapter: 14', 'Sentence: 94', 'Contents: “a great pity, especially as i gather, sir james, that the matter is important'], ['Chapter: 14', 'Sentence: 107', 'Contents: “and she remembers nothing,” said sir james slowly'], ['Chapter: 14', 'Sentence: 122', 'Contents: “i can imagine she would,” said sir james grimly'], ['Chapter: 14', 'Sentence: 183', 'Contents: dr. hall turned an appealing face to sir james, who smiled slightly'], ['Chapter: 15', 'Sentence: 20', 'Contents: she was about to speak when a warning glance from sir james made her hold her tongue'], ['Chapter: 15', 'Sentence: 31', 'Contents: “that remains to be seen,” said sir james gravely'], ['Chapter: 15', 'Sentence: 36', 'Contents: the doctor was not completely satisfied, but he saw that sir james was determined to say no more, and realized that to try and extract more information from the famous k.c. would be mere waste of labour'], ['Chapter: 15', 'Sentence: 44', 'Contents: she appealed to sir james'], ['Chapter: 15', 'Sentence: 48', 'Contents: sir james shrugged his shoulders'], ['Chapter: 15', 'Sentence: 54', 'Contents: “we must hope for the best,” said sir james'], ['Chapter: 15', 'Sentence: 60', 'Contents: sir james took tuppence’s hand'], ['Chapter: 15', 'Sentence: 69', 'Contents: sir james shrugged his shoulders'], ['Chapter: 15', 'Sentence: 79', 'Contents: a momentary pity came into sir james’s keen eyes, as he gazed into the girl’s downcast face'], ['Chapter: 15', 'Sentence: 93', 'Contents: she was beginning to understand sir james’s methods'], ['Chapter: 15', 'Sentence: 101', 'Contents: sir james’s words sounded in her ears: “never tell all you know--not even to the person you know best'], ['Chapter: 15', 'Sentence: 120', 'Contents: sir james to-day hadn’t got any hope at all, i could see that'], ['Chapter: 15', 'Sentence: 235', 'Contents: somehow, they seemed bound up with sir james’s enigmatical words'], ['Chapter: 18', 'Sentence: 40', 'Contents: beginning with his unsuccessful reconnoitring at bournemouth, he passed on to his return to london, the buying of the car, the growing anxieties of tuppence, the call upon sir james, and the sensational occurrences of the previous night'], ['Chapter: 18', 'Sentence: 44', 'Contents: “and sir james'], ['Chapter: 18', 'Sentence: 68', 'Contents: but i guess tuppence and i and even the highbrow sir james have all got the same idea'], ['Chapter: 18', 'Sentence: 463', 'Contents: come manchester midland hotel immediately--peel edgerton'], ['Chapter: 19', 'Sentence: 2', 'Contents: “i reckoned you’d come by this before i left london, and wired accordingly to sir james'], ['Chapter: 19', 'Sentence: 16', 'Contents: sir james arrived punctually at eight o’clock, and julius introduced tommy'], ['Chapter: 19', 'Sentence: 17', 'Contents: sir james shook hands with him warmly'], ['Chapter: 19', 'Sentence: 26', 'Contents: in the meantime he was conscious of sir james’s close scrutiny'], ['Chapter: 19', 'Sentence: 29', 'Contents: sir james took in everything, but gave out only what he chose'], ['Chapter: 19', 'Sentence: 32', 'Contents: how had sir james managed to track the girl'], ['Chapter: 19', 'Sentence: 35', 'Contents: sir james stroked his chin and smiled'], ['Chapter: 19', 'Sentence: 54', 'Contents: “that would hardly be possible,” said sir james gravely'], ['Chapter: 19', 'Sentence: 65', 'Contents: sir james tapped the table rather impatiently'], ['Chapter: 19', 'Sentence: 70', 'Contents: but sir james was far too wary to be drawn'], ['Chapter: 19', 'Sentence: 73', 'Contents: sir james’s presence in manchester was not accidental'], ['Chapter: 19', 'Sentence: 79', 'Contents: “that will be impossible, i fear,” said sir james'], ['Chapter: 19', 'Sentence: 83', 'Contents: there was something in sir james which always stirred him to antagonism'], ['Chapter: 19', 'Sentence: 89', 'Contents: the hand with which he raised his glass to his lips shook slightly, but his eyes held sir james’s defiantly'], ['Chapter: 19', 'Sentence: 101', 'Contents: helped out by questions from sir james, he gave an abbreviated account of his adventures'], ['Chapter: 19', 'Sentence: 109', 'Contents: sir james smiled a little'], ['Chapter: 19', 'Sentence: 111', 'Contents: tommy appeared about to protest, but sir james went on'], ['Chapter: 19', 'Sentence: 116', 'Contents: sir james nodded thoughtfully'], ['Chapter: 19', 'Sentence: 129', 'Contents: “naturally,” said sir james dryly'], ['Chapter: 19', 'Sentence: 135', 'Contents: “i wish i had,” said sir james quietly'], ['Chapter: 19', 'Sentence: 151', 'Contents: sir james’s questions fairly shot out'], ['Chapter: 19', 'Sentence: 153', 'Contents: sir james went at once to the root of the matter'], ['Chapter: 19', 'Sentence: 161', 'Contents: sir james looked at him keenly'], ['Chapter: 19', 'Sentence: 171', 'Contents: there was a faint note of derision in the american’s voice which made sir james look up sharply'], ['Chapter: 19', 'Sentence: 179', 'Contents: “i disagree with you,” said sir james shortly'], ['Chapter: 19', 'Sentence: 198', 'Contents: sir james had joined them on the doorstep'], ['Chapter: 19', 'Sentence: 220', 'Contents: his confidence in sir james was growing'], ['Chapter: 19', 'Sentence: 238', 'Contents: sir james spoke first'], ['Chapter: 19', 'Sentence: 262', 'Contents: julius looked across at sir james, who nodded'], ['Chapter: 19', 'Sentence: 271', 'Contents: sir james peel edgerton is an english member of parliament, and might be a big gun in the cabinet if he liked'], ['Chapter: 19', 'Sentence: 277', 'Contents: “just as we thought,” said sir james'], ['Chapter: 19', 'Sentence: 299', 'Contents: “go on,” said sir james, in his quiet penetrating tones'], ['Chapter: 19', 'Sentence: 339', 'Contents: it was sir james who spoke'], ['Chapter: 20', 'Sentence: 2', 'Contents: sir james had drawn a watch from his pocket'], ['Chapter: 20', 'Sentence: 11', 'Contents: a little frown had settled on sir james’s brow'], ['Chapter: 20', 'Sentence: 19', 'Contents: “i hope so,” said sir james'], ['Chapter: 20', 'Sentence: 37', 'Contents: julius was silenced for once, and sir james added on a lighter note: “i only want to put you on your guard'], ['Chapter: 21', 'Sentence: 30', 'Contents: “i wish that chap peel edgerton had been with us,” said tommy thoughtfully'], ['Chapter: 21', 'Sentence: 116', 'Contents: they brought him a note, a few kind words of sympathy from peel edgerton, who had read the news in the paper'], ['Chapter: 21', 'Sentence: 118', 'Contents: the letter ended with the offer of a post on a ranch in the argentine, where sir james had considerable interests'], ['Chapter: 21', 'Sentence: 181', 'Contents: he re-read sir james’s letter, and shook his head'], ['Chapter: 22', 'Sentence: 26', 'Contents: sir james peel edgerton said you would be able to manage that for me'], ['Chapter: 22', 'Sentence: 63', 'Contents: “peel edgerton'], ['Chapter: 22', 'Sentence: 64', 'Contents: “peel edgerton?” said the prime minister in astonishment'], ['Chapter: 22', 'Sentence: 69', 'Contents: i’ve always felt that if anyone was to run mr. brown to earth, peel edgerton would be the man'], ['Chapter: 22', 'Sentence: 97', 'Contents: sir james smiled, and stroked his chin'], ['Chapter: 22', 'Sentence: 131', 'Contents: “very simple,” said sir james, “and very ingenious'], ['Chapter: 22', 'Sentence: 140', 'Contents: “i rather wonder you’re not there too, peel edgerton'], ['Chapter: 22', 'Sentence: 148', 'Contents: “oh, i know who he was,” said sir james easily'], ['Chapter: 22', 'Sentence: 156', 'Contents: “ah!” said sir james thoughtfully'], ['Chapter: 23', 'Sentence: 1', 'Contents:  after ringing up sir james, tommy’s next procedure was to make a call at south audley mansions'], ['Chapter: 24', 'Sentence: 384', 'Contents: go straight to sir james peel edgerton'], ['Chapter: 25', 'Sentence: 63', 'Contents: if they once reached sir james peel edgerton in safety, all would be well'], ['Chapter: 25', 'Sentence: 85', 'Contents: “you see,” she explained to jane, “if they think we’re going to sir james, this will put them off the scent'], ['Chapter: 25', 'Sentence: 128', 'Contents: their breath was coming in choking gasps as they reached sir james’s door'], ['Chapter: 25', 'Sentence: 133', 'Contents: sir james came forward from the library door'], ['Chapter: 25', 'Sentence: 144', 'Contents: sir james looked at tuppence quizzically'], ['Chapter: 25', 'Sentence: 147', 'Contents: “so it seems,” said sir james dryly'], ['Chapter: 25', 'Sentence: 210', 'Contents: sir james murmured something sympathetically'], ['Chapter: 25', 'Sentence: 325', 'Contents: sir james nodded comprehendingly'], ['Chapter: 25', 'Sentence: 382', 'Contents: “then the papers,” said sir james slowly, “are still at the back of the picture in that room'], ['Chapter: 25', 'Sentence: 385', 'Contents: sir james rose to his feet'], ['Chapter: 25', 'Sentence: 389', 'Contents: “to-morrow may be too late,” said sir james gravely'], ['Chapter: 25', 'Sentence: 391', 'Contents: there was dead silence, and sir james continued: “you have been followed here--not a doubt of it'], ['Chapter: 25', 'Sentence: 410', 'Contents: “yes,” said sir james gravely'], ['Chapter: 25', 'Sentence: 438', 'Contents: “no, miss finn,” said sir james unexpectedly'], ['Chapter: 26', 'Sentence: 1', 'Contents:  sir james’s words came like a bomb-shell'], ['Chapter: 26', 'Sentence: 37', 'Contents: tuppence recounted to sir james the exciting events of the evening, ending up: “but i can’t see  why'], ['Chapter: 26', 'Sentence: 59', 'Contents: “because julius hersheimmer is mr. brown,” said sir james dryly'], ['Chapter: 26', 'Sentence: 80', 'Contents: sir james’s car was ordered round'], ['Chapter: 26', 'Sentence: 85', 'Contents: sir james went up to a plain-clothes man who was on duty with several others, and spoke to him'], ['Chapter: 26', 'Sentence: 92', 'Contents: they all knew sir james well'], ['Chapter: 26', 'Sentence: 129', 'Contents: sir james handed her a pocket-knife, and she ripped away the brown paper from the back'], ['Chapter: 26', 'Sentence: 146', 'Contents: sir james took it, and scrutinized it attentively'], ['Chapter: 26', 'Sentence: 150', 'Contents: sir james echoed her words as he folded the paper carefully and put it away in his pocket-book, then he looked curiously round the dingy room'], ['Chapter: 26', 'Sentence: 161', 'Contents: she smiled at her own foolishness--then looked up with a start to find sir james watching her'], ['Chapter: 26', 'Sentence: 169', 'Contents: sir james nodded again'], ['Chapter: 26', 'Sentence: 198', 'Contents: so no one will think of searching the pockets of sir james peel edgerton'], ['Chapter: 27', 'Sentence: 54', 'Contents: in the sunday papers a brief notice of the sudden death of sir james peel edgerton, the famous k.c., had appeared'], ['Chapter: 27', 'Sentence: 136', 'Contents: on the face of it, it seemed that he or sir james must have done the trick'], ['Chapter: 27', 'Sentence: 139', 'Contents: then i remembered that it was sir james who had discovered the false jane finn'], ['Chapter: 27', 'Sentence: 141', 'Contents: i left a note for julius, in case he was mr. brown, saying i was off to the argentine, and i dropped sir james’s letter with the offer of the job by the desk so that he would see it was a genuine stunt'], ['Chapter: 27', 'Sentence: 142', 'Contents: then i wrote my letter to mr. carter and rang up sir james'], ['Chapter: 27', 'Sentence: 151', 'Contents: julius  had  seen it--he showed me a note of hers to him once--but  sir james hadn’t'], ['Chapter: 27', 'Sentence: 156', 'Contents: unless sir james was actually caught in the act, so to speak, i knew mr. carter would never believe it of him on my bare word----” “i didn’t,” interposed mr. carter ruefully'], ['Chapter: 27', 'Sentence: 157', 'Contents: “that’s why i sent the girls off to sir james'], ['Chapter: 27', 'Sentence: 159', 'Contents: i threatened julius with the revolver, because i wanted tuppence to repeat that to sir james, so that he wouldn’t worry about us'], ['Chapter: 27', 'Sentence: 179', 'Contents: “beresford has just said that i would not have believed sir james peel edgerton to be guilty unless, so to speak, he was caught in the act'], ['Chapter: 27', 'Sentence: 183', 'Contents: sir james’s long association with the law would make it undesirable']]\n"
          ]
        },
        {
          "name": "stdout",
          "output_type": "stream",
          "text": [
            "['about', 'everywhere', 'with', 'not', 'only', 'is']\n",
            "['and', 'give', 'up', 'mrs', 'vandemeyer', 'shook']\n",
            "['late', 'they', 'say', 'can', 'smell', 'a']\n",
            "['all', 'that', 'interests', 'boris', 'shook', 'his']\n",
            "['her', 'his', 'name', 'she', 'looked', 'at']\n",
            "['boris', 's', 'agitation', 'would', 'not', 'be']\n",
            "['began', 'tuppence', 'but', 'was', 'already', 'on']\n",
            "['her', 'encounter', 'with', 'julius', 'was', 'interested']\n",
            "['of', 'appealing', 'to', 'indeed', 'she', 'had']\n",
            "['to', 'ask', 'if', 'was', 'at', 'home']\n",
            "['will', 'you', 'ask', 'if', 'i', 'can']\n",
            "['or', 'two', 'later', 'will', 'see', 'you']\n",
            "['is', 'mr', 'hersheimmer', 'pleased', 'to', 'meet']\n",
            "['sit', 'down', 'asked', 'he', 'drew', 'forward']\n",
            "['forward', 'two', 'chairs', 'said', 'tuppence', 'plunging']\n",
            "['breath', 'tommy', 'queried', 'looking', 'across', 'at']\n",
            "['it', 'was', 'admitted', 'gravely', 'well', 'i']\n",
            "['me', 'a', 'hint', 'smiled', 'at', 'her']\n",
            "['to', 'well', 'said', 'still', 'smiling', 'without']\n",
            "['the', 'whole', 'story', 'i', 've', 'a']\n",
            "['about', 'it', 'said', 'i', 'want', 'to']\n",
            "['gaze', 'ah', 'oh', 'broke', 'out', 'tuppence']\n",
            "['think', 'of', 'everything', 'smiled', 'and', 'yet']\n",
            "['her', 'questions', 'replied', 'easily', 'that', 's']\n",
            "['one', 'million', 'dollars', 'sat', 'down', 'and']\n",
            "['for', 'your', 'fee', 'flushed', 'slightly', 'there']\n",
            "['probably', 'right', 'said', 'dryly', 'but', 'it']\n",
            "['s', 'your', 'idea', 'considered', 'for', 'a']\n",
            "['easy', 'to', 'follow', 's', 'advice', 'and']\n",
            "['him', 'to', 'get', 'and', 'come', 'on']\n",
            "['him', 'ring', 'up', 'you', 'll', 'find']\n",
            "['the', 'doorway', 'were', 'and', 'julius', 'hersheimmer']\n",
            "['julius', 'hersheimmer', '', 'brushed', 'past', 'julius']\n",
            "['passage', 'between', 'them', 'and', 'tuppence', 'lifted']\n",
            "['he', 'handed', 'to', 'while', 'tuppence', 'lifted']\n",
            "['with', 'closed', 'eyes', 'kept', 'his', 'finger']\n",
            "['is', 'true', 'said', 'meditatively', 'i', 'must']\n",
            "['is', 'right', 'said', 'quietly', 'we', 'must']\n",
            "['a', 'dictaphone', 'said', 'dryly', 'we', 'have']\n",
            "['with', 'his', 'suggestion', 'again', 'felt', 'mrs']\n",
            "['room', 'julius', 'and', 'were', 'talking', 'in']\n",
            "['a', 'low', 'voice', 'turned', 'to', 'her']\n",
            "['ran', 'round', 'for', 'here', 'and', 'we']\n",
            "['miss', 'tuppence', 'said', 'you', 'know', 'this']\n",
            "['the', 'way', 'there', 'looked', 'round', 'approvingly']\n",
            "['t', 'thank', 'you', 'i', 'should', 'dream']\n",
            "['miss', 'tuppence', 'said', 'we', 'want', 'to']\n",
            "['an', 'admiring', 'bully', 'said', 'nothing', 'until']\n",
            "['know', 'confessed', 'tuppence', 'stroked', 'his', 'chin']\n",
            "['she', 'can', 'be', 'the', 'lawyer', 'shook']\n",
            "['you', 'have', 'where', 'smiled', 'at', 'the']\n",
            "['you', 'say', 'asked', 'that', 'is', 'curious']\n",
            "['head', 'curious', 'mused', 'you', 'did', 'not']\n",
            "['looked', 'appealingly', 'at', 'who', 'replied', 'gravely']\n",
            "['confessed', 'yes', 'said', 'we', 'are', 'in']\n",
            "['glimmerings', 'of', 'dawn', 'drew', 'aside', 'the']\n",
            "['wake', 'up', 'in', 'and', 'julius', 'accompanied']\n",
            "['julius', 'reassuringly', 'but', 'said', 'nothing', 'tuppence']\n",
            "['suggested', 'julius', 'but', 'interrupted', 'him', 'mr']\n",
            "['was', 'deferential', 'to', 'whom', 'he', 'recognized']\n",
            "['arranged', 'owing', 'to', 's', 'skilful', 'handling']\n",
            "['he', 'would', 'let', 'know', 'he', 'understood']\n",
            "['had', 'already', 'left', 'and', 'his', 'young']\n",
            "['did', 'not', 'but', 'referred', 'him', 'to']\n",
            "['out', 'for', 'good', 'stroked', 'his', 'chin']\n",
            "['and', 'call', 'for', 'in', 'the', 'car']\n",
            "['dr', 'hall', 'said', 'pleasantly', 'let', 'me']\n",
            "['in', 'private', 'asked', 'certainly', 'i', 'think']\n",
            "['looked', 'inquiringly', 'at', 'dr', 'hall', 'i']\n",
            "['matter', 'of', 'testimony', 'hesitated', 'a', 'moment']\n",
            "['the', 'name', 'said', 'bluntly', 'is', 'really']\n",
            "['starting', 'yes', 'said', 'and', 'stroked', 'his']\n",
            "['track', 'i', 'think', 'looked', 'round', 'as']\n",
            "['as', 'i', 'gather', 'that', 'the', 'matter']\n",
            "['remembers', 'nothing', 'said', 'slowly', 'nothing', 'prior']\n",
            "['she', 'would', 'said', 'grimly', 'i', 'fell']\n",
            "['appealing', 'face', 'to', 'who', 'smiled', 'slightly']\n",
            "['warning', 'glance', 'from', 'made', 'her', 'hold']\n",
            "['be', 'seen', 'said', 'gravely', 'the', 'other']\n",
            "['he', 'saw', 'that', 'was', 'determined', 'to']\n",
            "['she', 'appealed', 'to', 'i', 'should', 'advise']\n",
            "['tuppence', 'the', 'practical', 'shrugged', 'his', 'shoulders']\n",
            "['the', 'best', 'said', 'oh', 'yes', 'we']\n",
            "['face', 'grew', 'grave', 'took', 'tuppence', 's']\n",
            "['the', 'girl', 'hesitated', 'shrugged', 'his', 'shoulders']\n",
            "['pity', 'came', 'into', 's', 'keen', 'eyes']\n",
            "['beginning', 'to', 'understand', 's', 'methods', 'once']\n",
            "['shut', 'it', 'again', 's', 'words', 'sounded']\n",
            "['over', 'the', 'business', 'to', 'day', 'hadn']\n",
            "['bound', 'up', 'with', 's', 'enigmatical', 'words']\n",
            "['the', 'call', 'upon', 'and', 'the', 'sensational']\n",
            "['julius', 'dryly', 'and', 'what', 'did', 'he']\n",
            "['even', 'the', 'highbrow', 'have', 'all', 'got']\n",
            "['midland', 'hotel', 'immediately', 'julius', 'took', 'the']\n",
            "['wired', 'accordingly', 'to', 'he', 's', 'booked']\n",
            "['his', 'head', 'unconvinced', 'arrived', 'punctually', 'at']\n",
            "['julius', 'introduced', 'tommy', 'shook', 'hands', 'with']\n",
            "['was', 'conscious', 'of', 's', 'close', 'scrutiny']\n",
            "['of', 'learning', 'that', 'took', 'in', 'everything']\n",
            "['questions', 'how', 'had', 'managed', 'to', 'track']\n",
            "['and', 'so', 'on', 'stroked', 'his', 'chin']\n",
            "['be', 'possible', 'said', 'gravely', 'why', 'because']\n",
            "['cried', 'julius', 'excitedly', 'tapped', 'the', 'table']\n",
            "['fairy', 'tale', 'but', 'was', 'far', 'too']\n",
            "['before', 'only', 'suspected', 's', 'presence', 'in']\n",
            "['i', 'fear', 'said', 'it', 'is', 'very']\n",
            "['was', 'something', 'in', 'which', 'always', 'stirred']\n",
            "['his', 'eyes', 'held', 's', 'defiantly', 'for']\n",
            "['by', 'questions', 'from', 'he', 'gave', 'an']\n",
            "['girl', 'sir', 'no', 'smiled', 'a', 'little']\n",
            "['to', 'protest', 'but', 'went', 'on', 'there']\n",
            "['have', 'got', 'away', 'nodded', 'thoughtfully', 'what']\n",
            "['out', 'naturally', 'said', 'dryly', 'and', 'not']\n",
            "['i', 'had', 'said', 'quietly', 'he', 'sat']\n",
            "['week', 'ago', 'how', 's', 'questions', 'fairly']\n",
            "['their', 'futile', 'search', 'went', 'at', 'once']\n",
            "['i', 'thought', 'sir', 'looked', 'at', 'him']\n",
            "['voice', 'which', 'made', 'look', 'up', 'sharply']\n",
            "['with', 'you', 'said', 'shortly', 'mr', 'brown']\n",
            "['the', 'appointed', 'spot', 'had', 'joined', 'them']\n",
            "['his', 'confidence', 'in', 'was', 'growing', 'there']\n",
            "['large', 'wondering', 'eyes', 'spoke', 'first', 'miss']\n",
            "['looked', 'across', 'at', 'who', 'nodded', 'don']\n",
            "['those', 'papers', 'back', 'is', 'an', 'english']\n",
            "['we', 'thought', 'said', 'he', 'said', 'they']\n",
            "['go', 'on', 'said', 'in', 'his', 'quiet']\n",
            "['finn', 'it', 'was', 'who', 'spoke', 'i']\n",
            "['council', 'of', 'war', 'had', 'drawn', 'a']\n",
            "['had', 'settled', 'on', 's', 'brow', 'i']\n",
            "['hope', 'so', 'said', 'sure', 'thing', 'what']\n",
            "['for', 'once', 'and', 'added', 'on', 'a']\n",
            "['wish', 'that', 'chap', 'had', 'been', 'with']\n",
            "['of', 'sympathy', 'from', 'who', 'had', 'read']\n",
            "['the', 'argentine', 'where', 'had', 'considerable', 'interests']\n",
            "['he', 're', 'read', 's', 'letter', 'and']\n",
            "['at', 'the', 'ritz', 'said', 'you', 'would']\n",
            "['behind', 'you', 'mean', 'peel', 'edgerton', 'said']\n",
            "['mean', 'peel', 'edgerton', 'said', 'the', 'prime']\n",
            "['brown', 'to', 'earth', 'would', 'be', 'the']\n",
            "['a', 'little', 'nonplussed', 'smiled', 'and', 'stroked']\n",
            "['very', 'simple', 'said', 'and', 'very', 'ingenious']\n",
            "['not', 'there', 'too', 'ah', 'i', 'm']\n",
            "['he', 'was', 'said', 'easily', 'i', 'can']\n",
            "['brown', 'ah', 'said', 'thoughtfully', 'he', 'rose']\n",
            "['after', 'ringing', 'up', 'tommy', 's', 'next']\n",
            "['go', 'straight', 'to', 'mr', 'carter', 'lives']\n",
            "['they', 'once', 'reached', 'in', 'safety', 'all']\n",
            "['re', 'going', 'to', 'this', 'will', 'put']\n",
            "['as', 'they', 'reached', 's', 'door', 'tuppence']\n",
            "['the', 'hall', 'together', 'came', 'forward', 'from']\n",
            "['to', 'her', 'cheeks', 'looked', 'at', 'tuppence']\n",
            "['it', 'seems', 'said', 'dryly', 'am', 'i']\n",
            "['head', 'she', 'shuddered', 'murmured', 'something', 'sympathetically']\n",
            "['been', 'only', 'shamming', 'nodded', 'comprehendingly', 'mrs']\n",
            "['the', 'papers', 'said', 'slowly', 'are', 'still']\n",
            "['the', 'long', 'story', 'rose', 'to', 'his']\n",
            "['too', 'late', 'said', 'gravely', 'besides', 'by']\n",
            "['dead', 'silence', 'and', 'continued', 'you', 'have']\n",
            "['you', 'yes', 'said', 'gravely', 'at', 'last']\n",
            "['miss', 'finn', 'said', 'unexpectedly', 'not', 'your']\n",
            "['you', 'whatsoever', '', 's', 'words', 'came']\n",
            "['tuppence', 'recounted', 'to', 'the', 'exciting', 'events']\n",
            "['mr', 'brown', 'said', 'dryly', 'and', 'it']\n",
            "['better', 'now', 'anyway', 's', 'car', 'was']\n",
            "['they', 'got', 'out', 'went', 'up', 'to']\n",
            "['they', 'all', 'knew', 'well', 'they', 'had']\n",
            "['and', 'the', 'wall', 'handed', 'her', 'a']\n",
            "['in', 'her', 'hand', 'took', 'it', 'and']\n",
            "['in', 'her', 'voice', 'echoed', 'her', 'words']\n",
            "['start', 'to', 'find', 'watching', 'her', 'he']\n",
            "['t', 'help', 'it', 'nodded', 'again', 'you']\n",
            "['the', 'pockets', 'of', 'he', 'turned', 'to']\n",
            "['sudden', 'death', 'of', 'the', 'famous', 'k']\n",
            "['that', 'he', 'or', 'must', 'have', 'done']\n",
            "['that', 'it', 'was', 'who', 'had', 'discovered']\n",
            "['and', 'i', 'dropped', 's', 'letter', 'with']\n",
            "['and', 'rang', 'up', 'taking', 'him', 'into']\n",
            "['him', 'once', 'but', 'hadn', 't', 'after']\n",
            "['be', 'trouble', 'unless', 'was', 'actually', 'caught']\n",
            "['girls', 'off', 'to', 'i', 'was', 'sure']\n",
            "['repeat', 'that', 'to', 'so', 'that', 'he']\n",
            "['not', 'have', 'believed', 'to', 'be', 'guilty']\n",
            "['be', 'publicly', 'exhibited', 's', 'long', 'association']\n",
            "183\n",
            "\n",
            "\n",
            "\n",
            "### Results for  The Man in the Brown Suit\n",
            "Zerofiller\n",
            "re.compile(' anne|beddingfeld')\n",
            "[['Chapter: 1', 'Sentence: 8', 'Contents: anne beddingfeld starts to narrate her adventures'], ['Chapter: 1', 'Sentence: 11', 'Contents: my father, professor beddingfeld, was one of england’s greatest living authorities on primitive man'], ['Chapter: 1', 'Sentence: 61', 'Contents: “you understand, anne'], ['Chapter: 1', 'Sentence: 78', 'Contents: you will write to cook’s to-day, anne'], ['Chapter: 1', 'Sentence: 87', 'Contents: “my dear anne, you will pay them in ready money'], ['Chapter: 1', 'Sentence: 105', 'Contents: “dear me, anne, you are quite right'], ['Chapter: 2', 'Sentence: 35', 'Contents: “miss anne, you are very much of a child still'], ['Chapter: 4', 'Sentence: 54', 'Contents: “you are the miss beddingfeld who gave evidence at the inquest'], ['Chapter: 4', 'Sentence: 70', 'Contents: “well, i’m inclined to think you’re a little too fond of the word, miss beddingfeld'], ['Chapter: 4', 'Sentence: 77', 'Contents: “yes, come now, miss beddingfeld, don’t be offended'], ['Chapter: 4', 'Sentence: 96', 'Contents: “how do you know that, miss beddingfeld'], ['Chapter: 5', 'Sentence: 15', 'Contents: i had removed the card, cleaned it carefully with bread-crumbs, and pencilled upon it the words: “please give miss beddingfeld a few moments of your time'], ['Chapter: 9', 'Sentence: 10', 'Contents: i was a totally different anne to the one who had rushed back to the south kensington square so jubilantly from the shipping office'], ['Chapter: 9', 'Sentence: 14', 'Contents: “is that you, anne, my dear'], ['Chapter: 9', 'Sentence: 34', 'Contents: my dear anne'], ['Chapter: 9', 'Sentence: 154', 'Contents: lunch, miss beddingfeld'], ['Chapter: 11', 'Sentence: 19', 'Contents: “so you’re charles beddingfeld’s daughter'], ['Chapter: 11', 'Sentence: 96', 'Contents: “you should not treat sacred subjects with levity, miss beddingfeld'], ['Chapter: 11', 'Sentence: 165', 'Contents: “you’re very elusive, miss beddingfeld'], ['Chapter: 11', 'Sentence: 190', 'Contents: “do you know, miss beddingfeld, i think that i once met your father'], ['Chapter: 11', 'Sentence: 207', 'Contents: in other words, he suspected me of not being genuinely anne beddingfeld'], ['Chapter: 12', 'Sentence: 68', 'Contents: apparently he, and a mr. chichester, and a girl called beddingfeld, had almost come to blows over the cabin'], ['Chapter: 12', 'Sentence: 81', 'Contents: “miss beddingfeld got the cabin, but this morning i saw chichester coming out of it in a furtive sort of way'], ['Chapter: 12', 'Sentence: 83', 'Contents: “if you’re trying to get up a nasty scandal about chichester, who is a missionary—though a perfectly poisonous person—and that attractive child, anne beddingfeld, i don’t believe a word of it,” i said coldly'], ['Chapter: 12', 'Sentence: 84', 'Contents: “anne beddingfeld is an extremely nice girl—with particularly good legs'], ['Chapter: 12', 'Sentence: 86', 'Contents: pagett did not like my reference to anne beddingfeld’s legs'], ['Chapter: 12', 'Sentence: 153', 'Contents: the beddingfeld girl was deep in conversation with the missionary parson, chichester'], ['Chapter: 12', 'Sentence: 168', 'Contents: after lunch the beddingfeld girl came and sat with us for coffee'], ['Chapter: 13', 'Sentence: 9', 'Contents: anne beddingfeld had concocted a gipsy costume for herself, and looked extraordinarily well'], ['Chapter: 13', 'Sentence: 16', 'Contents: i danced twice with anne beddingfeld and she had to pretend she liked it'], ['Chapter: 13', 'Sentence: 31', 'Contents: “you must have had a very interesting life, colonel race?” said miss beddingfeld, gazing at him with wide, starry eyes'], ['Chapter: 13', 'Sentence: 78', 'Contents: “diamonds!” breathed miss beddingfeld'], ['Chapter: 13', 'Sentence: 97', 'Contents: “tell us,” cried miss beddingfeld'], ['Chapter: 13', 'Sentence: 131', 'Contents: something seemed to attract miss beddingfeld’s attention, and she turned in her chair'], ['Chapter: 13', 'Sentence: 137', 'Contents: “do you know who that is?” asked anne beddingfeld abruptly'], ['Chapter: 13', 'Sentence: 145', 'Contents: anne beddingfeld made no bones about it'], ['Chapter: 14', 'Sentence: 48', 'Contents: “it’s me—anne beddingfeld'], ['Chapter: 14', 'Sentence: 67', 'Contents: instead she looked at me, laughed a little and said: “do you know, anne, you’re a very unusual girl'], ['Chapter: 14', 'Sentence: 82', 'Contents: “i  couldn’t do it, anne, and i’ve plenty of pluck in my own way'], ['Chapter: 14', 'Sentence: 87', 'Contents: “lucky anne'], ['Chapter: 14', 'Sentence: 171', 'Contents: my  cabin, anne'], ['Chapter: 14', 'Sentence: 202', 'Contents: yes, anne, we’re on the right tack'], ['Chapter: 14', 'Sentence: 240', 'Contents: no, anne, not pebbles'], ['Chapter: 15', 'Sentence: 7', 'Contents: they’re beauties too, anne—and some of them are unique, i should say'], ['Chapter: 15', 'Sentence: 34', 'Contents: “my dear anne, he must be  rolling'], ['Chapter: 15', 'Sentence: 52', 'Contents: i’m sure colonel race is very attracted to you, anne'], ['Chapter: 15', 'Sentence: 94', 'Contents: that all seems pretty clear, don’t you think so, anne'], ['Chapter: 15', 'Sentence: 108', 'Contents: “you don’t seem to like pagett, anne'], ['Chapter: 15', 'Sentence: 120', 'Contents: cable to lord nasby that you have found ‘the man in the brown suit,’ and your fortune’s made, anne'], ['Chapter: 15', 'Sentence: 184', 'Contents: but, anne dear, you can face facts, face them now'], ['Chapter: 16', 'Sentence: 65', 'Contents: “indeed i did, miss beddingfeld'], ['Chapter: 16', 'Sentence: 74', 'Contents: “not at all, miss beddingfeld, not at all,” he said earnestly'], ['Chapter: 16', 'Sentence: 129', 'Contents: no, anne, don’t get cross'], ['Chapter: 16', 'Sentence: 280', 'Contents: “anne beddingfeld'], ['Chapter: 16', 'Sentence: 281', 'Contents: “does nothing frighten you, anne beddingfeld'], ['Chapter: 16', 'Sentence: 289', 'Contents: “i admire your whole-hearted, blood-thirsty instincts, miss beddingfeld'], ['Chapter: 16', 'Sentence: 310', 'Contents: “good night and good-bye, miss beddingfeld'], ['Chapter: 17', 'Sentence: 147', 'Contents: “there’s miss beddingfeld,” i said thoughtfully'], ['Chapter: 17', 'Sentence: 152', 'Contents: he does not like anne beddingfeld'], ['Chapter: 18', 'Sentence: 17', 'Contents: think of it, anne beddingfeld, you pudding-head'], ['Chapter: 18', 'Sentence: 27', 'Contents: but to my intense surprise i heard a light footfall on the deck behind me, and then his voice, pleasant and normal: “miss beddingfeld'], ['Chapter: 18', 'Sentence: 39', 'Contents: “miss beddingfeld, you may not know it, but you are mixed up in a rather dangerous business'], ['Chapter: 18', 'Sentence: 65', 'Contents: “i don’t doubt you, miss beddingfeld'], ['Chapter: 18', 'Sentence: 130', 'Contents: but, anne, did you see mr. pagett'], ['Chapter: 18', 'Sentence: 158', 'Contents: he had read of my arrival on the kilmorden,  in which i was described as the daughter of the late professor beddingfeld'], ['Chapter: 18', 'Sentence: 193', 'Contents: “so glad we have persuaded you to visit us, miss beddingfeld,” he said'], ['Chapter: 20', 'Sentence: 90', 'Contents: what about you, miss anne'], ['Chapter: 20', 'Sentence: 141', 'Contents: “oh, anne, you surely can’t suspect colonel race or sir eustace'], ['Chapter: 20', 'Sentence: 148', 'Contents: i’ll watch him for you, anne, and if he gets any fatter and any more cheerful, i’ll send you a telegram at once'], ['Chapter: 20', 'Sentence: 155', 'Contents: it’s your fault, anne'], ['Chapter: 20', 'Sentence: 172', 'Contents: do you know, anne, i believe the best thing we could do would be to confide in him and tell him the whole story'], ['Chapter: 20', 'Sentence: 224', 'Contents: then a voice behind me made me start: “excuse me, miss beddingfeld, but i’m just going down in a car'], ['Chapter: 20', 'Sentence: 266', 'Contents: “it will be a terribly hot journey, anne,” she said suddenly'], ['Chapter: 20', 'Sentence: 283', 'Contents: “quick, anne, get out the other side—in case he hasn’t really gone, but is watching us from the end of the platform'], ['Chapter: 20', 'Sentence: 306', 'Contents: dear me, i wish anne beddingfeld was coming with us to-morrow'], ['Chapter: 21', 'Sentence: 169', 'Contents: “hullo, miss anne,” cried colonel race, “where have you turned up from'], ['Chapter: 22', 'Sentence: 8', 'Contents: also anne beddingfeld is accompanying me to rhodesia on the pretext of being my temporary secretary'], ['Chapter: 22', 'Sentence: 15', 'Contents: there is something very mysterious about anne beddingfeld'], ['Chapter: 22', 'Sentence: 48', 'Contents: “i’m glad we’ve come up here in daylight,” cried anne beddingfeld'], ['Chapter: 22', 'Sentence: 52', 'Contents: “i’m glad i changed my mind,” said anne, sighing contentedly, and looking round'], ['Chapter: 22', 'Sentence: 55', 'Contents: “is this the best train in the day to rhodesia?” asked anne beddingfeld'], ['Chapter: 22', 'Sentence: 57', 'Contents: “why, my dear miss anne, there are only three trains a week'], ['Chapter: 22', 'Sentence: 81', 'Contents: he’s got his eye on anne, i believe'], ['Chapter: 22', 'Sentence: 82', 'Contents: “what are your plans, miss anne'], ['Chapter: 22', 'Sentence: 92', 'Contents: at last anne beddingfeld has shed her veil of mystery'], ['Chapter: 22', 'Sentence: 104', 'Contents: i asked anne beddingfeld if she was sure of this'], ['Chapter: 22', 'Sentence: 107', 'Contents: women have these intuitions—i’ve no doubt that anne beddingfeld is perfectly right in her guess—but to call it a deduction is absurd'], ['Chapter: 22', 'Sentence: 120', 'Contents: anyway, anne beddingfeld is on his track'], ['Chapter: 22', 'Sentence: 129', 'Contents: i said so to mrs. blair—but she seemed quite to welcome the idea, and remarked that if i were murdered it would be really a terrific scoop for anne'], ['Chapter: 22', 'Sentence: 130', 'Contents: a scoop for anne indeed'], ['Chapter: 22', 'Sentence: 139', 'Contents: mrs. blair and anne have bought forty-nine wooden animals'], ['Chapter: 24', 'Sentence: 58', 'Contents: “opinions differ as to what are and are not ‘weak things,’ miss anne'], ['Chapter: 24', 'Sentence: 87', 'Contents: “but i don’t think you’ve ever fallen out of love, miss anne'], ['Chapter: 24', 'Sentence: 108', 'Contents: “what are you really doing here, anne beddingfeld?” he said abruptly'], ['Chapter: 24', 'Sentence: 126', 'Contents: you will remember, miss beddingfeld, that ‘by that sin fell the angels,’ etc'], ['Chapter: 24', 'Sentence: 130', 'Contents: “i can assure you, miss beddingfeld, that i am out here strictly as a private individual travelling for my own pleasure'], ['Chapter: 24', 'Sentence: 207', 'Contents: why, anne dear, what’s the matter'], ['Chapter: 24', 'Sentence: 212', 'Contents: “you haven’t caught a chill, have you, anne'], ['Chapter: 25', 'Sentence: 39', 'Contents: “don’t cry, anne'], ['Chapter: 25', 'Sentence: 149', 'Contents: “do you always do what you like, miss beddingfeld'], ['Chapter: 25', 'Sentence: 225', 'Contents: “you look like a witch, anne,” he said at last, and there was something in his voice that had never been there before'], ['Chapter: 25', 'Sentence: 232', 'Contents: you must go, anne'], ['Chapter: 25', 'Sentence: 250', 'Contents: don’t tempt me, anne'], ['Chapter: 25', 'Sentence: 255', 'Contents: you’re so young, anne, and so beautiful—with the kind of beauty that sends men mad'], ['Chapter: 25', 'Sentence: 261', 'Contents: and you’re tempting me, anne'], ['Chapter: 25', 'Sentence: 272', 'Contents: you must go back to england, anne—and—and marry and be happy'], ['Chapter: 25', 'Sentence: 290', 'Contents: he paused a minute and then said in a totally different tone: “we’ve never spoken of these things, anne, have we'], ['Chapter: 26', 'Sentence: 76', 'Contents: “i swear to you, anne, that it was mainly on his account that i was so bitter against that woman'], ['Chapter: 26', 'Sentence: 182', 'Contents: “you will believe me, anne, won’t you'], ['Chapter: 27', 'Sentence: 40', 'Contents: “think back, anne'], ['Chapter: 27', 'Sentence: 74', 'Contents: turn in, anne, and get some sleep'], ['Chapter: 27', 'Sentence: 81', 'Contents: “yes, anne, it’s beira for you'], ['Chapter: 27', 'Sentence: 88', 'Contents: at last he called me: “come, anne, it’s time to go'], ['Chapter: 27', 'Sentence: 121', 'Contents: “stand well back, anne, for god’s sake'], ['Chapter: 27', 'Sentence: 169', 'Contents: come, anne, we’ve got to try desperate means'], ['Chapter: 27', 'Sentence: 173', 'Contents: can you swim at all, anne'], ['Chapter: 27', 'Sentence: 183', 'Contents: but you’re sharp, anne'], ['Chapter: 28', 'Sentence: 19', 'Contents: “where’s anne?” she cried'], ['Chapter: 28', 'Sentence: 23', 'Contents: that i was in the habit of producing anne beddingfeld from my pocket at midnight or thereabouts'], ['Chapter: 28', 'Sentence: 37', 'Contents: an able-bodied young woman like anne beddingfeld is perfectly well able to take care of herself,” i frowned judicially'], ['Chapter: 28', 'Sentence: 50', 'Contents: “after all,” i continued persuasively, “why shouldn’t anne beddingfeld and race go out for a little stroll without having the whole hotel aroused about it'], ['Chapter: 28', 'Sentence: 58', 'Contents: at any rate, i had been partly right— he  had been out for a stroll, but he hadn’t taken anne with him'], ['Chapter: 28', 'Sentence: 74', 'Contents: everything that can be done is being done—but no sign of anne beddingfeld'], ['Chapter: 28', 'Sentence: 95', 'Contents: how long the girl has been there is not definitely known, but it seems pretty clear that she can’t be anne, and there is a certain delicacy in interfering in other people’s affairs'], ['Chapter: 29', 'Sentence: 66', 'Contents: i don’t think i ever really believed in the annihilation of anne'], ['Chapter: 29', 'Sentence: 98', 'Contents: “by the way,” i said, when we were back in the hotel, “have you heard that miss beddingfeld is alive and kicking'], ['Chapter: 29', 'Sentence: 108', 'Contents: he always did disapprove of anne beddingfeld'], ['Chapter: 29', 'Sentence: 121', 'Contents: i always did think race was in love with anne'], ['Chapter: 29', 'Sentence: 132', 'Contents: without stopping to reflect that anne might have excellent reasons for her misleading statements, i gave myself up to the pleasure of scoring off race'], ['Chapter: 29', 'Sentence: 145', 'Contents: i should have thought miss anne would have been in the thick of it here, gathering copy for the  daily budget'], ['Chapter: 30', 'Sentence: 7', 'Contents: oh, anne, dear, don’t be cross, but how do you know that this young man of yours is telling the truth'], ['Chapter: 30', 'Sentence: 14', 'Contents: “oh, i’m not getting fat, anne'], ['Chapter: 30', 'Sentence: 25', 'Contents: “i must explain, anne'], ['Chapter: 30', 'Sentence: 44', 'Contents: “you don’t like doing nothing, do you, anne'], ['Chapter: 30', 'Sentence: 63', 'Contents: “i do wish he was here, anne,” she gulped'], ['Chapter: 30', 'Sentence: 84', 'Contents: “dear me, miss beddingfeld, i understood that you had disappeared'], ['Chapter: 30', 'Sentence: 92', 'Contents: “really, miss beddingfeld—i—indeed—'], ['Chapter: 30', 'Sentence: 102', 'Contents: he is a peculiar man, miss beddingfeld, with an abnormal sense of humour'], ['Chapter: 30', 'Sentence: 118', 'Contents: “i beg your pardon, miss beddingfeld,” he said stiffly, “but i fail to see your concern in the matter'], ['Chapter: 31', 'Sentence: 169', 'Contents: “only miss beddingfeld'], ['Chapter: 32', 'Sentence: 24', 'Contents: “dear me,” he said, “if it isn’t miss beddingfeld'], ['Chapter: 32', 'Sentence: 34', 'Contents: really, miss beddingfeld, to fall into the trap a second time'], ['Chapter: 32', 'Sentence: 48', 'Contents: perhaps, miss beddingfeld, you can guess why we required your presence here'], ['Chapter: 32', 'Sentence: 78', 'Contents: “will you come this way, miss beddingfeld'], ['Chapter: 32', 'Sentence: 82', 'Contents: “well, well, miss anne'], ['Chapter: 32', 'Sentence: 207', 'Contents: a maxim for you, my dear anne'], ['Chapter: 32', 'Sentence: 254', 'Contents: “‘yours for ever and ever, anne,’ will be sufficient,” i remarked'], ['Chapter: 32', 'Sentence: 284', 'Contents: what excellent nerves you have, anne'], ['Chapter: 32', 'Sentence: 317', 'Contents: “my dear anne, you don’t suppose i was going to have a lot of my plans given away, without making an effort to save them'], ['Chapter: 32', 'Sentence: 329', 'Contents: “miss anne, let me show you your room'], ['Chapter: 33', 'Sentence: 16', 'Contents: but, my dear anne, the diamonds have been in my possession ever since i left the falls—though i only discovered the fact yesterday'], ['Chapter: 33', 'Sentence: 41', 'Contents: “you said i could come safely, anne'], ['Chapter: 33', 'Sentence: 53', 'Contents: this is my round—cover him, anne'], ['Chapter: 33', 'Sentence: 58', 'Contents: if they come any nearer, anne, pull the trigger—don’t hesitate'], ['Chapter: 33', 'Sentence: 72', 'Contents: i didn’t trust miss anne with it'], ['Chapter: 33', 'Sentence: 110', 'Contents: you didn’t know, did you, sir eustace, that anne had an arrangement with me by which we should know whether communications from one to the other were genuine'], ['Chapter: 33', 'Sentence: 120', 'Contents: i must get you out of here, anne'], ['Chapter: 33', 'Sentence: 158', 'Contents: “no, anne, a thousand times, no'], ['Chapter: 33', 'Sentence: 164', 'Contents: it’s no good, anne'], ['Chapter: 33', 'Sentence: 169', 'Contents: “you seem to have met your master, anne'], ['Chapter: 33', 'Sentence: 175', 'Contents: “you’re safe, anne'], ['Chapter: 34', 'Sentence: 21', 'Contents: it was not until he said “good morning, anne,” that i became aware of his presence'], ['Chapter: 34', 'Sentence: 36', 'Contents: “i know what you mean, anne'], ['Chapter: 34', 'Sentence: 63', 'Contents: “you understand, don’t you, anne, that apart from formalities, he is completely cleared'], ['Chapter: 34', 'Sentence: 85', 'Contents: then i met you, anne—and all that seemed worth nothing'], ['Chapter: 35', 'Sentence: 55', 'Contents: he paused, then said suddenly: “you know, anne, i’m jealous of race'], ['Chapter: 35', 'Sentence: 79', 'Contents: “put some clothes on, anne, and come out'], ['Chapter: 35', 'Sentence: 104', 'Contents: “i can’t do without you any longer, anne'], ['Chapter: 36', 'Sentence: 10', 'Contents: because, after all, honeymoons don’t last forever—you’re not here, anne, so i can safely say that without having you fly out at me like a little wild-cat—love in the wilderness will last a good while, but one day you will suddenly begin to dream of houses in park lane, sumptuous furs, paris frocks, the largest thing in motors and the latest thing in perambulators, french maids and norland nurses'], ['Chapter: 36', 'Sentence: 19', 'Contents: my dear anne beddingfeld, i can’t resist writing to you, not so much for the pleasure it gives me to write, as for the enormous pleasure i know it will give you to hear from me'], ['Chapter: 36', 'Sentence: 27', 'Contents: by this time i have no doubt that you are no longer anne beddingfeld, but lady eardsley, queening it in park lane']]\n",
            "[['Chapter: 1', 'Sentence: 6', 'Contents: very fortunately, too, the gaps that i cannot supply from my own knowledge are amply covered by sir eustace pedler’s diary, of which he has kindly begged me to make use'], ['Chapter: 3', 'Sentence: 127', 'Contents: the mill house, which is the property of sir eustace pedler, m.p., is to be let unfurnished, and an order to view this property was found in the pocket of the man who was at first thought to have committed suicide by throwing himself on the live rail at hyde park corner tube station'], ['Chapter: 3', 'Sentence: 131', 'Contents: sir eustace pedler, the owner of the mill house, is wintering on the riviera'], ['Chapter: 4', 'Sentence: 8', 'Contents: mrs. james, the wife of sir eustace pedler’s gardener, who acted as caretaker to the mill house and inhabited the small lodge opening on the main road, gave evidence'], ['Chapter: 6', 'Sentence: 76', 'Contents: “well, of course there’s sir eustace pedler’s place,” said the man doubtfully'], ['Chapter: 6', 'Sentence: 97', 'Contents: sir eustace’s orders are—'], ['Chapter: 6', 'Sentence: 133', 'Contents: why, i wouldn’t even stay here at the lodge, if sir eustace hadn’t been down on his bended knees to me'], ['Chapter: 6', 'Sentence: 134', 'Contents: “i thought sir eustace pedler was at cannes'], ['Chapter: 7', 'Sentence: 26', 'Contents: i realized, of course, that these films might very well be an old roll belonging to sir eustace pedler which had rolled in here and had not been found when the cupboard was emptied'], ['Chapter: 8', 'Sentence: 1', 'Contents:     (extracts from the diary of sir eustace pedler, m.p.) it is an extraordinary thing that i never seem to get any peace'], ['Chapter: 8', 'Sentence: 39', 'Contents: “so you know, sir eustace'], ['Chapter: 8', 'Sentence: 58', 'Contents: i suppose we shall go back to england at once, sir eustace'], ['Chapter: 8', 'Sentence: 109', 'Contents: “my dear pedler'], ['Chapter: 8', 'Sentence: 115', 'Contents: “there are reasons, my dear pedler—i assure you there are reasons'], ['Chapter: 8', 'Sentence: 117', 'Contents: “one minute, my dear pedler, one minute, i beg of you'], ['Chapter: 8', 'Sentence: 137', 'Contents: “i am really much obliged to you, pedler'], ['Chapter: 8', 'Sentence: 149', 'Contents: “the gentleman asked me to tell you, sir eustace, that he comes to you from mr. milray'], ['Chapter: 8', 'Sentence: 155', 'Contents: “mr. milray sent me to you, sir eustace'], ['Chapter: 8', 'Sentence: 159', 'Contents: “i think you do, sir eustace'], ['Chapter: 8', 'Sentence: 168', 'Contents: but i can tell you this, sir eustace, mr. milray would not be surprised if an attempt were made to get your secretary out of the way'], ['Chapter: 9', 'Sentence: 172', 'Contents: oh, that’s sir eustace pedler’s secretary'], ['Chapter: 9', 'Sentence: 174', 'Contents: sir eustace has got two secretaries with him, and the sea’s been too much for both of them'], ['Chapter: 9', 'Sentence: 177', 'Contents: so sir eustace pedler, the owner of the mill house, was on board'], ['Chapter: 9', 'Sentence: 178', 'Contents: probably only a coincidence, and yet—— “that’s sir eustace,” my informant continued, “sitting next to the captain'], ['Chapter: 9', 'Sentence: 183', 'Contents: he was speaking to sir eustace, and i overheard a fragment or two'], ['Chapter: 9', 'Sentence: 186', 'Contents: “my dear fellow,” sir eustace replied'], ['Chapter: 9', 'Sentence: 189', 'Contents: “that’s just what i say, sir eustace, we must have somewhere to work—'], ['Chapter: 9', 'Sentence: 217', 'Contents: “excuse me,” he said, “but this cabin is reserved for the use of sir eustace pedler'], ['Chapter: 9', 'Sentence: 242', 'Contents: “it is allotted to sir eustace pedler,” said mr. pagett'], ['Chapter: 11', 'Sentence: 68', 'Contents: (1) sir eustace pedler'], ['Chapter: 11', 'Sentence: 71', 'Contents: n.b. find out whether he had accompanied sir eustace to cannes'], ['Chapter: 11', 'Sentence: 108', 'Contents: i was debating all this when sir eustace pedler passed down the deck'], ['Chapter: 11', 'Sentence: 122', 'Contents: i wished, oh, how i wished, that i had been the one to pick up that paper and not sir eustace pedler'], ['Chapter: 11', 'Sentence: 125', 'Contents: after lunch, when i came up to the lounge for coffee, i noticed sir eustace and pagett sitting with mrs. blair and colonel race'], ['Chapter: 11', 'Sentence: 130', 'Contents: “you’re not a latin scholar,” said sir eustace, smiling'], ['Chapter: 11', 'Sentence: 139', 'Contents: “is that your experience in florence, pagett?” asked sir eustace, turning with a smile to his secretary'], ['Chapter: 11', 'Sentence: 144', 'Contents: “i am beginning to suspect guy pagett of having committed some dark deed in florence,” remarked sir eustace, gazing after his secretary’s retreating figure'], ['Chapter: 11', 'Sentence: 147', 'Contents: “he looks—i hope i’m not hurting your feelings, sir eustace—but he does look as though he might murder some one'], ['Chapter: 11', 'Sentence: 150', 'Contents: “he’s been with you some time, hasn’t he, sir eustace?” asked colonel race'], ['Chapter: 11', 'Sentence: 151', 'Contents: “six years,” said sir eustace, with a deep sigh'], ['Chapter: 12', 'Sentence: 1', 'Contents:     (extract from the diary of sir eustace pedler) there is something to be said for life on board ship'], ['Chapter: 12', 'Sentence: 38', 'Contents: “there’s no room to work in your cabin, sir eustace'], ['Chapter: 12', 'Sentence: 62', 'Contents: “but i tell you, sir eustace, there’s something very queer about that cabin'], ['Chapter: 12', 'Sentence: 114', 'Contents: “they say he’s a secret service chap, sir eustace'], ['Chapter: 12', 'Sentence: 122', 'Contents: “if you ask me, the whole thing is very queer, sir eustace'], ['Chapter: 12', 'Sentence: 130', 'Contents: “very well, sir eustace'], ['Chapter: 12', 'Sentence: 136', 'Contents: “at any rate, sir eustace,  he  thinks so—and he should be in a position to know'], ['Chapter: 12', 'Sentence: 140', 'Contents: “he gives out that he’s ill, and stays in his cabin, sir eustace'], ['Chapter: 12', 'Sentence: 145', 'Contents: “over your safety, sir eustace'], ['Chapter: 13', 'Sentence: 24', 'Contents: “it will reveal all your indiscretions one of these days, pedler'], ['Chapter: 13', 'Sentence: 66', 'Contents: “oh, sir eustace, how sweet of you, do you really mean it'], ['Chapter: 13', 'Sentence: 94', 'Contents: you must remember the case, pedler'], ['Chapter: 14', 'Sentence: 97', 'Contents: you say that in sir eustace’s secretary—not that long-faced pagett, the other one—you recognized the man who was stabbed and came into your cabin for shelter'], ['Chapter: 14', 'Sentence: 99', 'Contents: “that gives us two links connecting sir eustace with the tangle'], ['Chapter: 14', 'Sentence: 101', 'Contents: i don’t suspect sir eustace himself, but it can’t be all coincidence'], ['Chapter: 14', 'Sentence: 113', 'Contents: hardly sir eustace, i should think, nor mr. pagett——wait'], ['Chapter: 15', 'Sentence: 16', 'Contents: “its effect on sir eustace'], ['Chapter: 15', 'Sentence: 19', 'Contents: was  it sir eustace who had been subjected to a test, or had the story been told for my  benefit'], ['Chapter: 15', 'Sentence: 103', 'Contents: “is it possible that he induced sir eustace pedler to bring him on board as his secretary'], ['Chapter: 15', 'Sentence: 105', 'Contents: but how did he square sir eustace'], ['Chapter: 15', 'Sentence: 109', 'Contents: sir eustace says he’s a most capable and hard-working young man'], ['Chapter: 16', 'Sentence: 53', 'Contents: mr. chichester, sir eustace and his secretary, and—yes, colonel race'], ['Chapter: 16', 'Sentence: 56', 'Contents: indeed, i was on the point of reluctantly dismissing sir eustace and mr. pagett from their position of suspicious characters, when a chance conversation awakened fresh doubts in my mind'], ['Chapter: 16', 'Sentence: 58', 'Contents: on the last evening on board we were all sitting on deck and sir eustace addressed a perfectly innocent question to his secretary'], ['Chapter: 16', 'Sentence: 60', 'Contents: when sir eustace claimed mrs. blair for a dance, i quickly moved into the chair next to the secretary'], ['Chapter: 16', 'Sentence: 66', 'Contents: if you will excuse me, there is some correspondence of sir eustace’s that—'], ['Chapter: 16', 'Sentence: 70', 'Contents: “i’m sure sir eustace wouldn’t like you to leave me alone with no one to talk to'], ['Chapter: 16', 'Sentence: 77', 'Contents: i shall tell sir eustace—'], ['Chapter: 16', 'Sentence: 121', 'Contents: why, of course, how stupid of me, sir eustace has a house there'], ['Chapter: 16', 'Sentence: 153', 'Contents: sir eustace is going to the mount nelson hotel in cape town and then up to rhodesia'], ['Chapter: 16', 'Sentence: 157', 'Contents: “you keep an eye on sir eustace and pagett, and i take on chichester'], ['Chapter: 16', 'Sentence: 165', 'Contents: “if we could arrange for sir eustace to invite him also—'], ['Chapter: 17', 'Sentence: 1', 'Contents:     (extract from the diary of sir eustace pedler)   mount nelson hotel,   cape town'], ['Chapter: 17', 'Sentence: 15', 'Contents: “he was slinking along in a very furtive manner, and it was the middle of the night, sir eustace'], ['Chapter: 17', 'Sentence: 19', 'Contents: “i had been coding those cables of yours, sir eustace, and typing the diary up to date'], ['Chapter: 17', 'Sentence: 22', 'Contents: “i just thought i would have a look around before turning in, sir eustace'], ['Chapter: 17', 'Sentence: 33', 'Contents: “if you would hear me out, sir eustace'], ['Chapter: 17', 'Sentence: 39', 'Contents: “you see, sir eustace, i fancied—and now indeed i am sure—it was rayburn'], ['Chapter: 17', 'Sentence: 41', 'Contents: “yes, sir eustace'], ['Chapter: 17', 'Sentence: 44', 'Contents: “quite so, sir eustace'], ['Chapter: 17', 'Sentence: 52', 'Contents: “something  was going on last night, sir eustace,” he urged, “or why should rayburn assault me so brutally'], ['Chapter: 17', 'Sentence: 83', 'Contents: “supposing, sir eustace, that rayburn had overheard a word or two of your conversation with mr. milray in the street'], ['Chapter: 17', 'Sentence: 119', 'Contents: “but what will you do about your correspondence and the notes for your speeches, sir eustace'], ['Chapter: 17', 'Sentence: 142', 'Contents: “as you know, i am a teetotaller, sir eustace'], ['Chapter: 17', 'Sentence: 145', 'Contents: “not that i know of, sir eustace'], ['Chapter: 18', 'Sentence: 124', 'Contents: “did you see sir eustace'], ['Chapter: 18', 'Sentence: 129', 'Contents: “sir eustace doesn’t like getting up early any more than i do'], ['Chapter: 18', 'Sentence: 139', 'Contents: “i thought i was going to have the soft job sticking to sir eustace, and that you would have all the fun with the rev'], ['Chapter: 19', 'Sentence: 37', 'Contents: should i mention sir eustace'], ['Chapter: 19', 'Sentence: 40', 'Contents: better not risk sir eustace'], ['Chapter: 20', 'Sentence: 47', 'Contents: “what is sir eustace doing?” asked suzanne'], ['Chapter: 20', 'Sentence: 59', 'Contents: every port watched for him and he bamboozled pedler into bringing him out as his secretary'], ['Chapter: 20', 'Sentence: 67', 'Contents: “how does sir eustace take it'], ['Chapter: 20', 'Sentence: 69', 'Contents: an opportunity of hearing sir eustace’s views on the matter presented itself later in the day'], ['Chapter: 20', 'Sentence: 79', 'Contents: suzanne made one of her sympathetic noises again and sir eustace proceeded in a still more aggrieved tone'], ['Chapter: 20', 'Sentence: 94', 'Contents: “all day long,” replied sir eustace gallantly'], ['Chapter: 20', 'Sentence: 107', 'Contents: “thank you very much, sir eustace,” i said cautiously, “but i think i’m leaving for durban to-night'], ['Chapter: 20', 'Sentence: 115', 'Contents: sir eustace looked at me, sighed deeply, then opened the door of the adjoining room and called to pagett'], ['Chapter: 20', 'Sentence: 118', 'Contents: he bowed to us both, starting slightly at the sight of me, and replied in a melancholy voice: “i have been typing that memorandum all this afternoon, sir eustace'], ['Chapter: 20', 'Sentence: 122', 'Contents: “yes, sir eustace'], ['Chapter: 20', 'Sentence: 124', 'Contents: “pagett’s a malicious fellow,” said sir eustace, after the secretary had departed'], ['Chapter: 20', 'Sentence: 136', 'Contents: and, besides, pagett might suddenly be summoned by sir eustace, and it would be far harder for you to attach yourself to him for the journey up'], ['Chapter: 20', 'Sentence: 141', 'Contents: “oh, anne, you surely can’t suspect colonel race or sir eustace'], ['Chapter: 20', 'Sentence: 143', 'Contents: lots of criminals have been cheerful fat men like sir eustace'], ['Chapter: 20', 'Sentence: 146', 'Contents: “i don’t say i seriously suspect either of them, but, after all, the woman was murdered in sir eustace’s house—'], ['Chapter: 20', 'Sentence: 168', 'Contents: “well,” i said, summing up the situation, “you will keep an eye on sir eustace and colonel race—'], ['Chapter: 20', 'Sentence: 169', 'Contents: “i know why i’ve got to watch sir eustace,” interrupted suzanne, “because of his figure and his humorous conversation'], ['Chapter: 20', 'Sentence: 185', 'Contents: colonel race did not appear, but sir eustace and pagett were at their table in the window'], ['Chapter: 20', 'Sentence: 187', 'Contents: however, doubtless sir eustace would do as well'], ['Chapter: 20', 'Sentence: 189', 'Contents: “good-bye, sir eustace,” i said'], ['Chapter: 20', 'Sentence: 191', 'Contents: sir eustace sighed heavily'], ['Chapter: 20', 'Sentence: 198', 'Contents: “he must be a very handsome fellow,” said sir eustace plaintively'], ['Chapter: 20', 'Sentence: 205', 'Contents: sir eustace looked at me attentively'], ['Chapter: 20', 'Sentence: 216', 'Contents: “i devoutly hope not!” exclaimed sir eustace'], ['Chapter: 20', 'Sentence: 237', 'Contents: “i have secured a very capable secretary for sir eustace,” he observed'], ['Chapter: 20', 'Sentence: 305', 'Contents: have you much to do for sir eustace'], ['Chapter: 21', 'Sentence: 165', 'Contents: “i am sir eustace pedler’s secretary,” i said haughtily'], ['Chapter: 21', 'Sentence: 180', 'Contents: then, followed by the other two, i sought out sir eustace'], ['Chapter: 21', 'Sentence: 183', 'Contents: i judged that she was finding it difficult to keep pace with sir eustace, for her pencil was flying along, and she was frowning horribly'], ['Chapter: 21', 'Sentence: 186', 'Contents: sir eustace paused dead in the middle of a complicated sentence on the labour situation and stared at me'], ['Chapter: 21', 'Sentence: 188', 'Contents: “god bless my soul!” ejaculated sir eustace'], ['Chapter: 21', 'Sentence: 191', 'Contents: “darling,” said sir eustace'], ['Chapter: 21', 'Sentence: 193', 'Contents: miss pettigrew coughed, and sir eustace hastily withdrew his hand'], ['Chapter: 21', 'Sentence: 201', 'Contents: sir eustace stared, and so did i'], ['Chapter: 22', 'Sentence: 1', 'Contents:  (extract from the diary of sir eustace pedler) i am inclined to abandon my reminiscences'], ['Chapter: 22', 'Sentence: 37', 'Contents: i shall label this car—not “sir eustace pedler and party,” but “colonel race and harem'], ['Chapter: 22', 'Sentence: 61', 'Contents: “how long are you going to stay at the falls, sir eustace'], ['Chapter: 22', 'Sentence: 70', 'Contents: “i think your fears are exaggerated, sir eustace'], ['Chapter: 23', 'Sentence: 10', 'Contents: sir eustace tried to restrain us—but in vain'], ['Chapter: 23', 'Sentence: 18', 'Contents: travelling with sir eustace pedler and his party, i was fairly safe'], ['Chapter: 23', 'Sentence: 20', 'Contents: also, as long as i was near sir eustace, i was more or less in touch with guy pagett—and guy pagett was the heart of the mystery'], ['Chapter: 23', 'Sentence: 22', 'Contents: his subordinate position was, of course, against the assumption, but it had struck me once or twice that, for all his autocratic ways, sir eustace was really very much influenced by his secretary'], ['Chapter: 23', 'Sentence: 34', 'Contents: i was silent for a minute or two, and then went on musingly: “i wish i knew how sir eustace made his money'], ['Chapter: 23', 'Sentence: 51', 'Contents: “but we only heard the story at second-hand from sir eustace'], ['Chapter: 24', 'Sentence: 4', 'Contents: also sir eustace was what i can only describe as thoroughly sulky'], ['Chapter: 24', 'Sentence: 15', 'Contents: warned by this, suzanne and i carried all we could, colonel race helped, and i pressed the big giraffe into sir eustace’s arms'], ['Chapter: 24', 'Sentence: 22', 'Contents: that is to say, we were to have done so, but at the last moment sir eustace backed out'], ['Chapter: 24', 'Sentence: 25', 'Contents: he cursed the porters, he cursed the waiters at breakfast, he cursed the whole hotel management, he would doubtless have liked to curse miss pettigrew who hovered around with her pencil and pad, but i don’t think even sir eustace would have dared to curse miss pettigrew'], ['Chapter: 24', 'Sentence: 28', 'Contents: i feel sir eustace would have liked to dash him to the ground'], ['Chapter: 24', 'Sentence: 29', 'Contents: to return to our expedition, after sir eustace had backed out, miss pettigrew said she would remain at home in case he might want her'], ['Chapter: 24', 'Sentence: 228', 'Contents: sir eustace’s temper was still far from good, and miss pettigrew looked subdued'], ['Chapter: 24', 'Sentence: 274', 'Contents: “we’ll leave it until to-morrow,” said sir eustace with decision'], ['Chapter: 24', 'Sentence: 287', 'Contents: sir eustace went back to the hotel'], ['Chapter: 24', 'Sentence: 292', 'Contents: sir eustace seems to have taken a positive antipathy to colonel race'], ['Chapter: 24', 'Sentence: 328', 'Contents: sir eustace'], ['Chapter: 25', 'Sentence: 84', 'Contents: i was with her and sir eustace and colonel race at the hotel—but you knew that surely'], ['Chapter: 26', 'Sentence: 150', 'Contents: the property of sir eustace pedler'], ['Chapter: 26', 'Sentence: 156', 'Contents: not knowing that sir eustace was at cannes, i thought that this house-hunting business was a mere pretext for meeting him in the mill house'], ['Chapter: 26', 'Sentence: 198', 'Contents: i overheard a conversation between two middle-aged gentlemen in the street, one of whom proved to be sir eustace pedler'], ['Chapter: 26', 'Sentence: 201', 'Contents: i was now no longer so sure that sir eustace pedler was the ‘colonel'], ['Chapter: 26', 'Sentence: 205', 'Contents: i thought he was at cannes with sir eustace'], ['Chapter: 26', 'Sentence: 213', 'Contents: of course he made no objection to my accompanying sir eustace across in the boat'], ['Chapter: 27', 'Sentence: 18', 'Contents: we sat silent for a moment, then harry went on slowly: “you say that mrs. blair was asleep when you left the hotel and that you heard sir eustace dictating to miss pettigrew'], ['Chapter: 27', 'Sentence: 42', 'Contents: “yes—through sir eustace'], ['Chapter: 27', 'Sentence: 45', 'Contents: “he saw a man coming from the direction of sir eustace’s cabin and followed him up on deck'], ['Chapter: 27', 'Sentence: 47', 'Contents: now, who had the cabin opposite to sir eustace'], ['Chapter: 27', 'Sentence: 206', 'Contents: in the tiny back room of the hut we were safe from observation whilst he departed to make judicious inquiries as to what had become of sir eustace’s party, and whether any of them were still at the hotel'], ['Chapter: 28', 'Sentence: 1', 'Contents:  (extract from the diary of sir eustace pedler) as i remarked once before, i am essentially a man of peace'], ['Chapter: 28', 'Sentence: 35', 'Contents: “what shall i do, sir eustace'], ['Chapter: 28', 'Sentence: 47', 'Contents: “oh, sir eustace'], ['Chapter: 29', 'Sentence: 31', 'Contents: “there is such a thing as giving a man enough rope, and letting him hang himself, sir eustace'], ['Chapter: 29', 'Sentence: 39', 'Contents: “more than that, sir eustace, we have every reason to believe that the man who runs the whole show, the directing genius of the affair, is at this minute in johannesburg'], ['Chapter: 29', 'Sentence: 60', 'Contents: “i warn you, sir eustace, that the food question is already serious'], ['Chapter: 29', 'Sentence: 153', 'Contents: “i hope you will forgive me for troubling you again, sir eustace,” he apologized'], ['Chapter: 29', 'Sentence: 183', 'Contents: i may as well tell you—in confidence, sir eustace—that the place is suspected of being a well-known rendezvous used by the secret organization behind this revolution'], ['Chapter: 30', 'Sentence: 33', 'Contents: what did sir eustace do with the cases'], ['Chapter: 30', 'Sentence: 36', 'Contents: he’s leaving cape town to-day, by the by, to join sir eustace in johannesburg'], ['Chapter: 30', 'Sentence: 39', 'Contents: “i suppose sir eustace has got them with him'], ['Chapter: 30', 'Sentence: 54', 'Contents: eric here, also eustace, but not guy'], ['Chapter: 30', 'Sentence: 87', 'Contents: “very well, thank you—looking forward to taking up my work again with sir eustace'], ['Chapter: 30', 'Sentence: 96', 'Contents: “sir eustace has not already told you'], ['Chapter: 30', 'Sentence: 97', 'Contents: “sir eustace'], ['Chapter: 30', 'Sentence: 107', 'Contents: he went on fluently: “it is difficult for a man of sir eustace’s standing to put himself in my position'], ['Chapter: 30', 'Sentence: 111', 'Contents: “yes, mr. pagett,” i broke in, “i’m sure i quite agree with all you’re saying about sir eustace'], ['Chapter: 30', 'Sentence: 117', 'Contents: his mind detached itself from the peculiarities of sir eustace and his own justification and came to rest on me'], ['Chapter: 31', 'Sentence: 1', 'Contents:     (from the diary of sir eustace pedler)   johannesburg,    march 7th'], ['Chapter: 31', 'Sentence: 10', 'Contents: “i’ve already unpacked all the cases, sir eustace'], ['Chapter: 31', 'Sentence: 23', 'Contents: “there is something i want to say to you when you have the leisure, sir eustace'], ['Chapter: 31', 'Sentence: 37', 'Contents: “i think that’s all, sir eustace, except some miscellaneous odds and ends, a motor-veil and some odd gloves—that sort of thing'], ['Chapter: 31', 'Sentence: 64', 'Contents: “yes, sir eustace'], ['Chapter: 31', 'Sentence: 76', 'Contents: sir eustace, there was no one in the shop'], ['Chapter: 31', 'Sentence: 81', 'Contents: “sir eustace, a man was seen coming out of her room last night'], ['Chapter: 31', 'Sentence: 97', 'Contents: “you’re not convinced, sir eustace'], ['Chapter: 31', 'Sentence: 108', 'Contents: and now, sir eustace, i want to speak to you about my private affairs'], ['Chapter: 31', 'Sentence: 113', 'Contents: “thank you, sir eustace'], ['Chapter: 31', 'Sentence: 117', 'Contents: “i fail to follow you, sir eustace'], ['Chapter: 31', 'Sentence: 124', 'Contents: “i am quite at a loss to understand you, sir eustace'], ['Chapter: 31', 'Sentence: 127', 'Contents: “i hoped that as i was a good way off you had not recognized me, sir eustace'], ['Chapter: 31', 'Sentence: 129', 'Contents: “at marlow, sir eustace'], ['Chapter: 31', 'Sentence: 150', 'Contents: “no, sir eustace, that is just what i am telling you'], ['Chapter: 31', 'Sentence: 162', 'Contents: “four children, sir eustace'], ['Chapter: 31', 'Sentence: 173', 'Contents: “i hope, sir eustace, that you are not seriously annoyed'], ['Chapter: 32', 'Sentence: 67', 'Contents: you will save a lot of time and annoyance by taking me straight to sir eustace pedler'], ['Chapter: 32', 'Sentence: 71', 'Contents: “sir eustace pedler'], ['Chapter: 32', 'Sentence: 81', 'Contents: sir eustace pedler sprang up to greet me, genial and smiling'], ['Chapter: 32', 'Sentence: 96', 'Contents: “and now,” said sir eustace cheerfully, “let’s get down to facts'], ['Chapter: 32', 'Sentence: 99', 'Contents: sir eustace nodded ruefully'], ['Chapter: 32', 'Sentence: 147', 'Contents: “that’s just it,” said sir eustace softly'], ['Chapter: 32', 'Sentence: 156', 'Contents: sir eustace sighed'], ['Chapter: 32', 'Sentence: 174', 'Contents: “it’s a pity that the idea of being lady pedler doesn’t appeal to you'], ['Chapter: 32', 'Sentence: 179', 'Contents: “the fact of the matter is,” sir eustace was continuing, “i’ve a weakness for you'], ['Chapter: 32', 'Sentence: 184', 'Contents: i had a great deal of respect for sir eustace’s shrewdness'], ['Chapter: 32', 'Sentence: 241', 'Contents: i wrote at sir eustace’s dictation: dear harry, i think i see a chance of establishing your innocence beyond any possible doubt'], ['Chapter: 32', 'Sentence: 251', 'Contents: sir eustace stopped'], ['Chapter: 32', 'Sentence: 256', 'Contents: sir eustace stretched out his hand for the letter and read it through'], ['Chapter: 32', 'Sentence: 266', 'Contents: sir eustace was watching him keenly'], ['Chapter: 32', 'Sentence: 273', 'Contents: “excellent, my dear fellow, excellent,” said sir eustace genially'], ['Chapter: 32', 'Sentence: 277', 'Contents: no sooner was he outside than sir eustace picked up a speaking-tube that rested by his elbow and spoke down it'], ['Chapter: 32', 'Sentence: 282', 'Contents: “may i ask you a few questions, sir eustace,” i said, after a minute or two of silence'], ['Chapter: 32', 'Sentence: 319', 'Contents: nobody would think of suspecting poor old pedler'], ['Chapter: 32', 'Sentence: 327', 'Contents: sir eustace picked up the tube, listened for a minute or two, then answered: “very well, i’ll see him now'], ['Chapter: 32', 'Sentence: 330', 'Contents: he ushered me into a small shabby apartment, a kafir boy brought up my small suit-case, and sir eustace, urging me to ask for anything i wanted, withdrew, the picture of a courteous host'], ['Chapter: 33', 'Sentence: 1', 'Contents:  i was not summoned to sir eustace’s presence until late in the afternoon'], ['Chapter: 33', 'Sentence: 3', 'Contents: sir eustace was alone'], ['Chapter: 33', 'Sentence: 31', 'Contents: it’s a pity that you didn’t take kindly to the idea of becoming lady pedler'], ['Chapter: 33', 'Sentence: 35', 'Contents: sir eustace flung me a look of triumph'], ['Chapter: 33', 'Sentence: 39', 'Contents: “it means that you have walked into my parlour—said the spider to the fly,” remarked sir eustace facetiously'], ['Chapter: 33', 'Sentence: 47', 'Contents: i understood his glance and edged nearer to sir eustace'], ['Chapter: 33', 'Sentence: 61', 'Contents: i think sir eustace shared my fears'], ['Chapter: 33', 'Sentence: 65', 'Contents: sir eustace gave the order'], ['Chapter: 33', 'Sentence: 68', 'Contents: sir eustace uttered a sigh of relief and wiped his forehead with a handkerchief'], ['Chapter: 33', 'Sentence: 82', 'Contents: i ought to have studied them more,” said sir eustace sadly'], ['Chapter: 33', 'Sentence: 89', 'Contents: he advanced a step or two, and sir eustace skipped nimbly behind the table'], ['Chapter: 33', 'Sentence: 99', 'Contents: something in harry’s voice, a grim raillery, seemed to attract sir eustace’s attention'], ['Chapter: 33', 'Sentence: 102', 'Contents: “sit down, sir eustace, and listen to what i have to say'], ['Chapter: 33', 'Sentence: 107', 'Contents: sir eustace paled'], ['Chapter: 33', 'Sentence: 110', 'Contents: you didn’t know, did you, sir eustace, that anne had an arrangement with me by which we should know whether communications from one to the other were genuine'], ['Chapter: 33', 'Sentence: 123', 'Contents: sir eustace had risen and was passing up and down'], ['Chapter: 33', 'Sentence: 125', 'Contents: “so you see, sir eustace, the game is up'], ['Chapter: 33', 'Sentence: 129', 'Contents: sir eustace turned suddenly'], ['Chapter: 33', 'Sentence: 166', 'Contents: sir eustace chuckled'], ['Chapter: 33', 'Sentence: 177', 'Contents: he turned to sir eustace'], ['Chapter: 33', 'Sentence: 178', 'Contents: “i’ve been after you for a long time, pedler—and at last i’ve got you'], ['Chapter: 33', 'Sentence: 179', 'Contents: “everybody seems to have gone completely mad,” declared sir eustace airily'], ['Chapter: 33', 'Sentence: 192', 'Contents: sir eustace looked surprised'], ['Chapter: 33', 'Sentence: 205', 'Contents: sir eustace looked at him'], ['Chapter: 33', 'Sentence: 207', 'Contents: “rats always leaving a sinking ship,” observed sir eustace'], ['Chapter: 33', 'Sentence: 210', 'Contents: “there’s just one thing i’d like to tell you, sir eustace,” i remarked'], ['Chapter: 33', 'Sentence: 216', 'Contents: sir eustace looked at me for some time'], ['Chapter: 34', 'Sentence: 9', 'Contents: sir eustace had been driven off in an opposite direction accompanied by a strong guard'], ['Chapter: 34', 'Sentence: 41', 'Contents: pedler has managed to escape'], ['Chapter: 34', 'Sentence: 47', 'Contents: never, to this day, have i been able to rid myself of a sneaking fondness for sir eustace'], ['Chapter: 34', 'Sentence: 54', 'Contents: he wanted sir eustace brought to justice'], ['Chapter: 34', 'Sentence: 64', 'Contents: there are technicalities, of course, but sir eustace’s guilt is well assured'], ['Chapter: 35', 'Sentence: 33', 'Contents: “did sir eustace know who you really were'], ['Chapter: 36', 'Sentence: 41', 'Contents: yours ever, eustace pedler'], ['Chapter: 36', 'Sentence: 44', 'Contents: to him, sir eustace was the man who tried to murder me and whom he regards as responsible for the death of his friend'], ['Chapter: 36', 'Sentence: 45', 'Contents: sir eustace’s attempts on my life have always puzzled me'], ['Chapter: 36', 'Sentence: 53', 'Contents: she pointed out to me that sir eustace’s whole life was actuated by a desire to be safe and comfortable'], ['Chapter: 36', 'Sentence: 60', 'Contents: i can forgive sir eustace easily enough, but i shall never forgive nadina']]\n",
            "[['Chapter: 20', 'Sentence: 141', 'Contents: “oh, anne, you surely can’t suspect colonel race or sir eustace'], ['Chapter: 33', 'Sentence: 110', 'Contents: you didn’t know, did you, sir eustace, that anne had an arrangement with me by which we should know whether communications from one to the other were genuine']]\n",
            "[['Chapter: 4', 'Sentence: 26', 'Contents: the daily budget  had jumped to the conclusion that the man in the tube had murdered the woman and afterwards committed suicide'], ['Chapter: 4', 'Sentence: 28', 'Contents: a verdict of “wilful murder against some person or persons unknown” was returned, and the police (and the  daily budget ) were left to look for “the man in the brown suit'], ['Chapter: 4', 'Sentence: 29', 'Contents: since mrs. james was positive that there was no one in the house when the lady entered it, and that nobody except the young man in question entered it until the following afternoon, it seemed only logical to conclude that he was the murderer of the unfortunate mrs. de castina'], ['Chapter: 6', 'Sentence: 82', 'Contents: where the murder took place'], ['Chapter: 6', 'Sentence: 131', 'Contents: that’s why you could have knocked me down with a feather when, the next afternoon, those people came running out calling for the police and saying there’d been murder done'], ['Chapter: 6', 'Sentence: 156', 'Contents: “it’s a curious thing, but murderers often have shiny chins,” i explained wildly'], ['Chapter: 7', 'Sentence: 4', 'Contents: i wondered if the murderer had left any footmarks the previous day'], ['Chapter: 7', 'Sentence: 29', 'Contents: it was just as dusty as it would have been had it laid there for two or three days—that is to say, since the murder'], ['Chapter: 8', 'Sentence: 52', 'Contents: a woman has been murdered in your house'], ['Chapter: 8', 'Sentence: 56', 'Contents: who murdered her'], ['Chapter: 8', 'Sentence: 68', 'Contents: on the face of it, a member of parliament will be none the less efficient because a stray young woman comes and gets herself murdered in an empty house that belongs to him—but there is no accounting for the view the respectable british public takes of a matter'], ['Chapter: 8', 'Sentence: 71', 'Contents: if it is disreputable to have a woman murdered in your house, it becomes more disreputable if the woman is a foreigner'], ['Chapter: 11', 'Sentence: 146', 'Contents: “perhaps he murdered some one there,” said mrs. blair hopefully'], ['Chapter: 11', 'Sentence: 147', 'Contents: “he looks—i hope i’m not hurting your feelings, sir eustace—but he does look as though he might murder some one'], ['Chapter: 11', 'Sentence: 157', 'Contents: no self-respecting murderer would ever consent to look like one'], ['Chapter: 13', 'Sentence: 90', 'Contents: thefts do occur—like the case i told you of where the kafir hid the stone in his wound'], ['Chapter: 14', 'Sentence: 100', 'Contents: the woman was murdered in  his  house, and it’s  his  secretary who gets stabbed at the mystic hour of one o’clock'], ['Chapter: 14', 'Sentence: 211', 'Contents: suzanne, nadina was the woman murdered at marlow'], ['Chapter: 15', 'Sentence: 84', 'Contents: “then the murderer was in the house already, or else he got in some other way'], ['Chapter: 15', 'Sentence: 185', 'Contents: in spite of all you say, he may have murdered this woman'], ['Chapter: 16', 'Sentence: 124', 'Contents: “you see, suzanne,” i urged, as i finished my tale, “he was in england, in marlow, at the time of the murder'], ['Chapter: 16', 'Sentence: 292', 'Contents: “you shrink from a second murder, i see,” i said sweetly'], ['Chapter: 16', 'Sentence: 293', 'Contents: “a second murder'], ['Chapter: 20', 'Sentence: 75', 'Contents: “first a perfectly strange woman has the impertinence to get herself murdered in my house—on purpose to annoy me, i do believe'], ['Chapter: 20', 'Sentence: 78', 'Contents: what harm had i ever done the woman that she must needs get herself murdered there'], ['Chapter: 20', 'Sentence: 80', 'Contents: “and, if that’s not enough, the fellow who murdered her has the impudence, the colossal impudence, to attach himself to me as my secretary'], ['Chapter: 20', 'Sentence: 83', 'Contents: either they’re concealed murderers or else they’re drunken brawlers'], ['Chapter: 20', 'Sentence: 146', 'Contents: “i don’t say i seriously suspect either of them, but, after all, the woman was murdered in sir eustace’s house—'], ['Chapter: 20', 'Sentence: 258', 'Contents: first he tried to murder me, and now he paid me compliments'], ['Chapter: 21', 'Sentence: 36', 'Contents: the murder in the house at marlow was not an isolated incident committed by a solitary individual'], ['Chapter: 22', 'Sentence: 22', 'Contents: 1, a murderer fleeing from justice'], ['Chapter: 22', 'Sentence: 97', 'Contents: apparently she didn’t spot him on the  kilmorden —in fact, she hardly had the chance, but she’s now very busy cabling home: “how i journeyed out with the murderer,” and inventing highly fictitious stories of “what he said to me,” etc'], ['Chapter: 22', 'Sentence: 128', 'Contents: if so, we may all be murdered in our beds'], ['Chapter: 22', 'Sentence: 129', 'Contents: i said so to mrs. blair—but she seemed quite to welcome the idea, and remarked that if i were murdered it would be really a terrific scoop for anne'], ['Chapter: 23', 'Sentence: 79', 'Contents: the “colonel” and his gang must have no suspicion that there existed any friendly feeling between me and the man they had elected to be the scapegoat of the murder at marlow'], ['Chapter: 23', 'Sentence: 87', 'Contents: the day after the murder a letter had been received by her manager purporting to be from the dancer, in which she said that she was returning to russia on urgent private affairs and that he must deal with her broken contract as best he could'], ['Chapter: 23', 'Sentence: 93', 'Contents: “victim of the mill house murder identified by our special reporter'], ['Chapter: 23', 'Sentence: 95', 'Contents: “our reporter makes voyage with the murderer'], ['Chapter: 23', 'Sentence: 101', 'Contents: i was definitely accredited to hunt down the murderer, and i, and only i, knew that the murderer was not harry rayburn'], ['Chapter: 25', 'Sentence: 280', 'Contents: but i’ll tell you this—i’ll clear my name, or die in the attempt, and i’ll choke the life out of the damned scoundrel who did his best to murder you the other night'], ['Chapter: 26', 'Sentence: 184', 'Contents: i went into the house after her with something very like murder in my heart—and she was dead'], ['Chapter: 26', 'Sentence: 203', 'Contents: “do you know,” i interrupted, “that guy pagett was in marlow at the date of the murder'], ['Chapter: 27', 'Sentence: 7', 'Contents: harry’s vindication from the old charge of theft seemed assured'], ['Chapter: 27', 'Sentence: 13', 'Contents: “it seems pretty much of a certainty that it was pagett who murdered anita grünberg at marlow—and that certainly lends colour to the supposition that he is actually the ‘colonel,’ since anita’s business was not of the nature to be discussed with a subordinate'], ['Chapter: 27', 'Sentence: 66', 'Contents: why was the mill house chosen for the murder'], ['Chapter: 27', 'Sentence: 118', 'Contents: it spat murderously, and again and again'], ['Chapter: 27', 'Sentence: 211', 'Contents: they could easily follow me there and murder me quietly'], ['Chapter: 29', 'Sentence: 4', 'Contents: bands of strikers, or so-called strikers, patrol the streets and scowl at one in a murderous fashion'], ['Chapter: 32', 'Sentence: 106', 'Contents: then, by the time the murder was discovered, i was back again in cannes, with nobody dreaming that i’d ever left the riviera'], ['Chapter: 32', 'Sentence: 170', 'Contents: i could not even feel frightened of him—and yet i knew he was capable of having me murdered in cold blood if it struck him as necessary'], ['Chapter: 32', 'Sentence: 318', 'Contents: with an escaped murderer as a secretary, i had no hesitation whatever in substituting blanks'], ['Chapter: 33', 'Sentence: 134', 'Contents: you’ll never be able to bring the murder of nadina home to me'], ['Chapter: 36', 'Sentence: 44', 'Contents: to him, sir eustace was the man who tried to murder me and whom he regards as responsible for the death of his friend'], ['Chapter: 36', 'Sentence: 55', 'Contents: and the murder of nadina removed certain inhibitions']]\n",
            "[['Chapter: 8', 'Sentence: 183', 'Contents: “harry rayburn seems quite a suitable name,” he observed'], ['Chapter: 21', 'Sentence: 58', 'Contents: the man in the brown suit—harry rayburn'], ['Chapter: 21', 'Sentence: 66', 'Contents: it was no good thinking sentimentally of harry rayburn'], ['Chapter: 21', 'Sentence: 74', 'Contents: once harry rayburn had saved me, once i had saved myself—but i felt suddenly that the odds were heavily against me'], ['Chapter: 21', 'Sentence: 115', 'Contents: long ago they had brought a charge of robbing de beers against harry rayburn, and he had not been able to disprove it, though i had little doubt but that he had been absolutely blameless'], ['Chapter: 23', 'Sentence: 76', 'Contents: my silence or my speech could no longer affect harry rayburn'], ['Chapter: 23', 'Sentence: 101', 'Contents: i was definitely accredited to hunt down the murderer, and i, and only i, knew that the murderer was not harry rayburn'], ['Chapter: 24', 'Sentence: 55', 'Contents: “yes,” i said, thinking of harry rayburn'], ['Chapter: 24', 'Sentence: 315', 'Contents: the man you knew as harry rayburn'], ['Chapter: 25', 'Sentence: 5', 'Contents: once harry rayburn’s face seemed to come to me out of the mist'], ['Chapter: 25', 'Sentence: 10', 'Contents: then dreams again—long troubled dreams in which i vainly sought harry rayburn to warn him—warn him—what of'], ['Chapter: 25', 'Sentence: 16', 'Contents: i remembered perfectly everything that had happened, my hurried flight from the hotel to meet harry, the man in the shadows and that last terrible moment of falling'], ['Chapter: 25', 'Sentence: 31', 'Contents: it was harry rayburn'], ['Chapter: 25', 'Sentence: 32', 'Contents: harry rayburn in the flesh'], ['Chapter: 25', 'Sentence: 62', 'Contents: suddenly she stood up and drew back respectfully as harry rayburn entered'], ['Chapter: 25', 'Sentence: 168', 'Contents: harry laughed outright'], ['Chapter: 25', 'Sentence: 211', 'Contents: harry was out a good part of the time, but we spent long hours together lying out in the shade of the palms, talking and quarrelling—discussing everything under high heaven, quarrelling and making it up again'], ['Chapter: 25', 'Sentence: 222', 'Contents: hairpins were necessities of life with which harry had not been able to provide me, and my hair, straight and black, hung to my knees'], ['Chapter: 25', 'Sentence: 224', 'Contents: i felt rather than saw harry looking at me'], ['Chapter: 25', 'Sentence: 254', 'Contents: they know me here as harry parker—they think i’ve been away on a trek up country, but any day they may put two and two together—and then the blow will fall'], ['Chapter: 25', 'Sentence: 301', 'Contents: “i know that your real name is harry lucas'], ['Chapter: 26', 'Sentence: 2', 'Contents: my real name is harry lucas'], ['Chapter: 26', 'Sentence: 36', 'Contents: i almost forget that one of them was—harry rayburn'], ['Chapter: 26', 'Sentence: 81', 'Contents: harry paused'], ['Chapter: 27', 'Sentence: 1', 'Contents:  harry listened attentively whilst i recounted all the events that i have narrated in these pages'], ['Chapter: 27', 'Sentence: 7', 'Contents: harry’s vindication from the old charge of theft seemed assured'], ['Chapter: 27', 'Sentence: 12', 'Contents: “i should say he was but for one thing,” said harry'], ['Chapter: 27', 'Sentence: 18', 'Contents: we sat silent for a moment, then harry went on slowly: “you say that mrs. blair was asleep when you left the hotel and that you heard sir eustace dictating to miss pettigrew'], ['Chapter: 27', 'Sentence: 33', 'Contents: “he was in south africa, you know, at the time of the kimberley robbery,” said harry slowly'], ['Chapter: 27', 'Sentence: 38', 'Contents: “perhaps,” said harry slowly, “he doesn’t come in at all'], ['Chapter: 27', 'Sentence: 44', 'Contents: harry listened closely'], ['Chapter: 27', 'Sentence: 87', 'Contents: i lay down on the skin-covered couch, but i didn’t sleep, and outside i could hear harry rayburn pacing up and down, up and down through the long dark hours'], ['Chapter: 27', 'Sentence: 92', 'Contents: harry began, when suddenly he stopped dead and held up his hand'], ['Chapter: 27', 'Sentence: 105', 'Contents: harry swept me back with him'], ['Chapter: 27', 'Sentence: 111', 'Contents: we closed the door and harry stood by the window which overlooked the landing-stage'], ['Chapter: 27', 'Sentence: 113', 'Contents: “who’s that?” called out harry in a ringing voice'], ['Chapter: 27', 'Sentence: 117', 'Contents: harry raised the rifle'], ['Chapter: 27', 'Sentence: 124', 'Contents: one just grazed harry’s cheek'], ['Chapter: 27', 'Sentence: 157', 'Contents: harry whistled softly'], ['Chapter: 27', 'Sentence: 178', 'Contents: what’s the danger, harry'], ['Chapter: 27', 'Sentence: 195', 'Contents: harry came back to me'], ['Chapter: 27', 'Sentence: 201', 'Contents: harry’s friend was a young man of twenty odd who kept a store of native curios'], ['Chapter: 27', 'Sentence: 203', 'Contents: he didn’t seem in the least surprised to see harry walk in, dripping wet, holding an equally dripping female by the hand'], ['Chapter: 27', 'Sentence: 207', 'Contents: it was then that i informed harry that nothing would induce me to go to beira'], ['Chapter: 27', 'Sentence: 215', 'Contents: i was to remain quietly with her and await instructions from harry'], ['Chapter: 27', 'Sentence: 224', 'Contents: “train will be in before long, harry,” said ned, putting his head in and withdrawing it immediately'], ['Chapter: 27', 'Sentence: 228', 'Contents: harry came close to me'], ['Chapter: 29', 'Sentence: 116', 'Contents: “harry rayburn,  alias  harry lucas—that’s his real name, you know'], ['Chapter: 30', 'Sentence: 62', 'Contents: in her way—which of course is quite different from me and harry—she is really fond of clarence'], ['Chapter: 30', 'Sentence: 137', 'Contents: it was signed, not andy, but harry'], ['Chapter: 32', 'Sentence: 19', 'Contents: “the young lady to see mr. harry rayburn,” he said, and laughed'], ['Chapter: 32', 'Sentence: 186', 'Contents: i told him the whole story, omitting nothing, up to the moment of my rescue by harry'], ['Chapter: 32', 'Sentence: 215', 'Contents: “harry rayburn has them,” i said, watching him'], ['Chapter: 32', 'Sentence: 225', 'Contents: what i propose is this: you will sit down and write to harry rayburn, telling him to join you here and bring the diamonds with him—'], ['Chapter: 32', 'Sentence: 231', 'Contents: “and harry'], ['Chapter: 32', 'Sentence: 241', 'Contents: i wrote at sir eustace’s dictation: dear harry, i think i see a chance of establishing your innocence beyond any possible doubt'], ['Chapter: 32', 'Sentence: 286', 'Contents: “why did you take harry as your secretary instead of giving him up to the police'], ['Chapter: 32', 'Sentence: 288', 'Contents: nadina, the little devil, was playing off your harry against me'], ['Chapter: 33', 'Sentence: 14', 'Contents: you attempted to make me believe that the diamonds were in harry rayburn’s possession'], ['Chapter: 33', 'Sentence: 15', 'Contents: at the time, i accepted your statement because it facilitated my task—the task of inducing you to decoy harry rayburn here'], ['Chapter: 33', 'Sentence: 34', 'Contents: there was the sound of feet on the stairs, the door was flung open, and harry rayburn was hustled into the room between two men'], ['Chapter: 33', 'Sentence: 38', 'Contents: “what’s the meaning of this?” cried harry hoarsely'], ['Chapter: 33', 'Sentence: 46', 'Contents: harry looked at me'], ['Chapter: 33', 'Sentence: 50', 'Contents: “you are right,” said harry'], ['Chapter: 33', 'Sentence: 56', 'Contents: the two men guarding harry sprang forward, but his voice stopped them'], ['Chapter: 33', 'Sentence: 64', 'Contents: “tell them to leave the room,” said harry'], ['Chapter: 33', 'Sentence: 66', 'Contents: the men filed out, and harry shot the bolt across the door behind them'], ['Chapter: 33', 'Sentence: 84', 'Contents: harry rapped sharply on the table'], ['Chapter: 33', 'Sentence: 99', 'Contents: something in harry’s voice, a grim raillery, seemed to attract sir eustace’s attention'], ['Chapter: 33', 'Sentence: 101', 'Contents: “has it?” said harry again'], ['Chapter: 33', 'Sentence: 124', 'Contents: harry kept him covered with the revolver'], ['Chapter: 33', 'Sentence: 155', 'Contents: “yes,  harry,” i cried'], ['Chapter: 33', 'Sentence: 172', 'Contents: harry drew back the bolt'], ['Chapter: 34', 'Sentence: 7', 'Contents: harry and i were together and we should never be separated again'], ['Chapter: 34', 'Sentence: 16', 'Contents: harry had gone out at dawn and had not yet returned, so she informed me'], ['Chapter: 34', 'Sentence: 61', 'Contents: then colonel race asked suddenly for harry'], ['Chapter: 34', 'Sentence: 73', 'Contents: harry lucas'], ['Chapter: 34', 'Sentence: 104', 'Contents: then harry came striding round the corner of the house'], ['Chapter: 34', 'Sentence: 107', 'Contents: for some reason harry flushed up to the roots of his hair'], ['Chapter: 34', 'Sentence: 109', 'Contents: but harry was still staring at colonel race'], ['Chapter: 34', 'Sentence: 117', 'Contents: harry turned slightly away'], ['Chapter: 34', 'Sentence: 120', 'Contents: “anne, this isn’t harry lucas'], ['Chapter: 34', 'Sentence: 121', 'Contents: harry lucas was killed in the war'], ['Chapter: 35', 'Sentence: 3', 'Contents: harry’s voice recalled me to myself'], ['Chapter: 35', 'Sentence: 43', 'Contents: “harry, if colonel race hadn’t told me, what did you mean to do'], ['Chapter: 35', 'Sentence: 58', 'Contents: “harry, you idiot'], ['Chapter: 35', 'Sentence: 78', 'Contents: harry was on the  stoep  outside'], ['Chapter: 35', 'Sentence: 82', 'Contents: harry beckoned me out of earshot of the house'], ['Chapter: 35', 'Sentence: 94', 'Contents: to this day harry never knows when i’m in earnest and when i’m only teasing him'], ['Chapter: 35', 'Sentence: 118', 'Contents: “harry,” i said at last, in a meek voice, “are we going to walk all the way to rhodesia'], ['Chapter: 35', 'Sentence: 123', 'Contents: and, oh, harry, you never asked me, but i’m not making a sacrifice at all'], ['Chapter: 36', 'Sentence: 9', 'Contents: he can administer the estate for harry—and none better'], ['Chapter: 36', 'Sentence: 42', 'Contents: harry was furious'], ['Chapter: 36', 'Sentence: 49', 'Contents: harry says “because he’s a damned scoundrel,” and seems to think that settles the matter']]\n",
            "[['Chapter: 1', 'Sentence: 6', 'Contents: very fortunately, too, the gaps that i cannot supply from my own knowledge are amply covered by sir eustace pedler’s diary, of which he has kindly begged me to make use'], ['Chapter: 3', 'Sentence: 127', 'Contents: the mill house, which is the property of sir eustace pedler, m.p., is to be let unfurnished, and an order to view this property was found in the pocket of the man who was at first thought to have committed suicide by throwing himself on the live rail at hyde park corner tube station'], ['Chapter: 3', 'Sentence: 131', 'Contents: sir eustace pedler, the owner of the mill house, is wintering on the riviera'], ['Chapter: 4', 'Sentence: 8', 'Contents: mrs. james, the wife of sir eustace pedler’s gardener, who acted as caretaker to the mill house and inhabited the small lodge opening on the main road, gave evidence'], ['Chapter: 6', 'Sentence: 76', 'Contents: “well, of course there’s sir eustace pedler’s place,” said the man doubtfully'], ['Chapter: 6', 'Sentence: 97', 'Contents: sir eustace’s orders are—'], ['Chapter: 6', 'Sentence: 133', 'Contents: why, i wouldn’t even stay here at the lodge, if sir eustace hadn’t been down on his bended knees to me'], ['Chapter: 6', 'Sentence: 134', 'Contents: “i thought sir eustace pedler was at cannes'], ['Chapter: 7', 'Sentence: 26', 'Contents: i realized, of course, that these films might very well be an old roll belonging to sir eustace pedler which had rolled in here and had not been found when the cupboard was emptied'], ['Chapter: 8', 'Sentence: 1', 'Contents:     (extracts from the diary of sir eustace pedler, m.p.) it is an extraordinary thing that i never seem to get any peace'], ['Chapter: 8', 'Sentence: 39', 'Contents: “so you know, sir eustace'], ['Chapter: 8', 'Sentence: 58', 'Contents: i suppose we shall go back to england at once, sir eustace'], ['Chapter: 8', 'Sentence: 109', 'Contents: “my dear pedler'], ['Chapter: 8', 'Sentence: 115', 'Contents: “there are reasons, my dear pedler—i assure you there are reasons'], ['Chapter: 8', 'Sentence: 117', 'Contents: “one minute, my dear pedler, one minute, i beg of you'], ['Chapter: 8', 'Sentence: 137', 'Contents: “i am really much obliged to you, pedler'], ['Chapter: 8', 'Sentence: 149', 'Contents: “the gentleman asked me to tell you, sir eustace, that he comes to you from mr. milray'], ['Chapter: 8', 'Sentence: 155', 'Contents: “mr. milray sent me to you, sir eustace'], ['Chapter: 8', 'Sentence: 159', 'Contents: “i think you do, sir eustace'], ['Chapter: 8', 'Sentence: 168', 'Contents: but i can tell you this, sir eustace, mr. milray would not be surprised if an attempt were made to get your secretary out of the way'], ['Chapter: 9', 'Sentence: 172', 'Contents: oh, that’s sir eustace pedler’s secretary'], ['Chapter: 9', 'Sentence: 174', 'Contents: sir eustace has got two secretaries with him, and the sea’s been too much for both of them'], ['Chapter: 9', 'Sentence: 177', 'Contents: so sir eustace pedler, the owner of the mill house, was on board'], ['Chapter: 9', 'Sentence: 178', 'Contents: probably only a coincidence, and yet—— “that’s sir eustace,” my informant continued, “sitting next to the captain'], ['Chapter: 9', 'Sentence: 183', 'Contents: he was speaking to sir eustace, and i overheard a fragment or two'], ['Chapter: 9', 'Sentence: 186', 'Contents: “my dear fellow,” sir eustace replied'], ['Chapter: 9', 'Sentence: 189', 'Contents: “that’s just what i say, sir eustace, we must have somewhere to work—'], ['Chapter: 9', 'Sentence: 217', 'Contents: “excuse me,” he said, “but this cabin is reserved for the use of sir eustace pedler'], ['Chapter: 9', 'Sentence: 242', 'Contents: “it is allotted to sir eustace pedler,” said mr. pagett'], ['Chapter: 11', 'Sentence: 68', 'Contents: (1) sir eustace pedler'], ['Chapter: 11', 'Sentence: 71', 'Contents: n.b. find out whether he had accompanied sir eustace to cannes'], ['Chapter: 11', 'Sentence: 108', 'Contents: i was debating all this when sir eustace pedler passed down the deck'], ['Chapter: 11', 'Sentence: 122', 'Contents: i wished, oh, how i wished, that i had been the one to pick up that paper and not sir eustace pedler'], ['Chapter: 11', 'Sentence: 125', 'Contents: after lunch, when i came up to the lounge for coffee, i noticed sir eustace and pagett sitting with mrs. blair and colonel race'], ['Chapter: 11', 'Sentence: 130', 'Contents: “you’re not a latin scholar,” said sir eustace, smiling'], ['Chapter: 11', 'Sentence: 139', 'Contents: “is that your experience in florence, pagett?” asked sir eustace, turning with a smile to his secretary'], ['Chapter: 11', 'Sentence: 144', 'Contents: “i am beginning to suspect guy pagett of having committed some dark deed in florence,” remarked sir eustace, gazing after his secretary’s retreating figure'], ['Chapter: 11', 'Sentence: 147', 'Contents: “he looks—i hope i’m not hurting your feelings, sir eustace—but he does look as though he might murder some one'], ['Chapter: 11', 'Sentence: 150', 'Contents: “he’s been with you some time, hasn’t he, sir eustace?” asked colonel race'], ['Chapter: 11', 'Sentence: 151', 'Contents: “six years,” said sir eustace, with a deep sigh'], ['Chapter: 12', 'Sentence: 1', 'Contents:     (extract from the diary of sir eustace pedler) there is something to be said for life on board ship'], ['Chapter: 12', 'Sentence: 38', 'Contents: “there’s no room to work in your cabin, sir eustace'], ['Chapter: 12', 'Sentence: 62', 'Contents: “but i tell you, sir eustace, there’s something very queer about that cabin'], ['Chapter: 12', 'Sentence: 114', 'Contents: “they say he’s a secret service chap, sir eustace'], ['Chapter: 12', 'Sentence: 122', 'Contents: “if you ask me, the whole thing is very queer, sir eustace'], ['Chapter: 12', 'Sentence: 130', 'Contents: “very well, sir eustace'], ['Chapter: 12', 'Sentence: 136', 'Contents: “at any rate, sir eustace,  he  thinks so—and he should be in a position to know'], ['Chapter: 12', 'Sentence: 140', 'Contents: “he gives out that he’s ill, and stays in his cabin, sir eustace'], ['Chapter: 12', 'Sentence: 145', 'Contents: “over your safety, sir eustace'], ['Chapter: 13', 'Sentence: 24', 'Contents: “it will reveal all your indiscretions one of these days, pedler'], ['Chapter: 13', 'Sentence: 66', 'Contents: “oh, sir eustace, how sweet of you, do you really mean it'], ['Chapter: 13', 'Sentence: 94', 'Contents: you must remember the case, pedler'], ['Chapter: 14', 'Sentence: 97', 'Contents: you say that in sir eustace’s secretary—not that long-faced pagett, the other one—you recognized the man who was stabbed and came into your cabin for shelter'], ['Chapter: 14', 'Sentence: 99', 'Contents: “that gives us two links connecting sir eustace with the tangle'], ['Chapter: 14', 'Sentence: 101', 'Contents: i don’t suspect sir eustace himself, but it can’t be all coincidence'], ['Chapter: 14', 'Sentence: 113', 'Contents: hardly sir eustace, i should think, nor mr. pagett——wait'], ['Chapter: 15', 'Sentence: 16', 'Contents: “its effect on sir eustace'], ['Chapter: 15', 'Sentence: 19', 'Contents: was  it sir eustace who had been subjected to a test, or had the story been told for my  benefit'], ['Chapter: 15', 'Sentence: 103', 'Contents: “is it possible that he induced sir eustace pedler to bring him on board as his secretary'], ['Chapter: 15', 'Sentence: 105', 'Contents: but how did he square sir eustace'], ['Chapter: 15', 'Sentence: 109', 'Contents: sir eustace says he’s a most capable and hard-working young man'], ['Chapter: 16', 'Sentence: 53', 'Contents: mr. chichester, sir eustace and his secretary, and—yes, colonel race'], ['Chapter: 16', 'Sentence: 56', 'Contents: indeed, i was on the point of reluctantly dismissing sir eustace and mr. pagett from their position of suspicious characters, when a chance conversation awakened fresh doubts in my mind'], ['Chapter: 16', 'Sentence: 58', 'Contents: on the last evening on board we were all sitting on deck and sir eustace addressed a perfectly innocent question to his secretary'], ['Chapter: 16', 'Sentence: 60', 'Contents: when sir eustace claimed mrs. blair for a dance, i quickly moved into the chair next to the secretary'], ['Chapter: 16', 'Sentence: 66', 'Contents: if you will excuse me, there is some correspondence of sir eustace’s that—'], ['Chapter: 16', 'Sentence: 70', 'Contents: “i’m sure sir eustace wouldn’t like you to leave me alone with no one to talk to'], ['Chapter: 16', 'Sentence: 77', 'Contents: i shall tell sir eustace—'], ['Chapter: 16', 'Sentence: 121', 'Contents: why, of course, how stupid of me, sir eustace has a house there'], ['Chapter: 16', 'Sentence: 153', 'Contents: sir eustace is going to the mount nelson hotel in cape town and then up to rhodesia'], ['Chapter: 16', 'Sentence: 157', 'Contents: “you keep an eye on sir eustace and pagett, and i take on chichester'], ['Chapter: 16', 'Sentence: 165', 'Contents: “if we could arrange for sir eustace to invite him also—'], ['Chapter: 17', 'Sentence: 1', 'Contents:     (extract from the diary of sir eustace pedler)   mount nelson hotel,   cape town'], ['Chapter: 17', 'Sentence: 15', 'Contents: “he was slinking along in a very furtive manner, and it was the middle of the night, sir eustace'], ['Chapter: 17', 'Sentence: 19', 'Contents: “i had been coding those cables of yours, sir eustace, and typing the diary up to date'], ['Chapter: 17', 'Sentence: 22', 'Contents: “i just thought i would have a look around before turning in, sir eustace'], ['Chapter: 17', 'Sentence: 33', 'Contents: “if you would hear me out, sir eustace'], ['Chapter: 17', 'Sentence: 39', 'Contents: “you see, sir eustace, i fancied—and now indeed i am sure—it was rayburn'], ['Chapter: 17', 'Sentence: 41', 'Contents: “yes, sir eustace'], ['Chapter: 17', 'Sentence: 44', 'Contents: “quite so, sir eustace'], ['Chapter: 17', 'Sentence: 52', 'Contents: “something  was going on last night, sir eustace,” he urged, “or why should rayburn assault me so brutally'], ['Chapter: 17', 'Sentence: 83', 'Contents: “supposing, sir eustace, that rayburn had overheard a word or two of your conversation with mr. milray in the street'], ['Chapter: 17', 'Sentence: 119', 'Contents: “but what will you do about your correspondence and the notes for your speeches, sir eustace'], ['Chapter: 17', 'Sentence: 142', 'Contents: “as you know, i am a teetotaller, sir eustace'], ['Chapter: 17', 'Sentence: 145', 'Contents: “not that i know of, sir eustace'], ['Chapter: 18', 'Sentence: 124', 'Contents: “did you see sir eustace'], ['Chapter: 18', 'Sentence: 129', 'Contents: “sir eustace doesn’t like getting up early any more than i do'], ['Chapter: 18', 'Sentence: 139', 'Contents: “i thought i was going to have the soft job sticking to sir eustace, and that you would have all the fun with the rev'], ['Chapter: 19', 'Sentence: 37', 'Contents: should i mention sir eustace'], ['Chapter: 19', 'Sentence: 40', 'Contents: better not risk sir eustace'], ['Chapter: 20', 'Sentence: 47', 'Contents: “what is sir eustace doing?” asked suzanne'], ['Chapter: 20', 'Sentence: 59', 'Contents: every port watched for him and he bamboozled pedler into bringing him out as his secretary'], ['Chapter: 20', 'Sentence: 67', 'Contents: “how does sir eustace take it'], ['Chapter: 20', 'Sentence: 69', 'Contents: an opportunity of hearing sir eustace’s views on the matter presented itself later in the day'], ['Chapter: 20', 'Sentence: 79', 'Contents: suzanne made one of her sympathetic noises again and sir eustace proceeded in a still more aggrieved tone'], ['Chapter: 20', 'Sentence: 94', 'Contents: “all day long,” replied sir eustace gallantly'], ['Chapter: 20', 'Sentence: 107', 'Contents: “thank you very much, sir eustace,” i said cautiously, “but i think i’m leaving for durban to-night'], ['Chapter: 20', 'Sentence: 115', 'Contents: sir eustace looked at me, sighed deeply, then opened the door of the adjoining room and called to pagett'], ['Chapter: 20', 'Sentence: 118', 'Contents: he bowed to us both, starting slightly at the sight of me, and replied in a melancholy voice: “i have been typing that memorandum all this afternoon, sir eustace'], ['Chapter: 20', 'Sentence: 122', 'Contents: “yes, sir eustace'], ['Chapter: 20', 'Sentence: 124', 'Contents: “pagett’s a malicious fellow,” said sir eustace, after the secretary had departed'], ['Chapter: 20', 'Sentence: 136', 'Contents: and, besides, pagett might suddenly be summoned by sir eustace, and it would be far harder for you to attach yourself to him for the journey up'], ['Chapter: 20', 'Sentence: 141', 'Contents: “oh, anne, you surely can’t suspect colonel race or sir eustace'], ['Chapter: 20', 'Sentence: 143', 'Contents: lots of criminals have been cheerful fat men like sir eustace'], ['Chapter: 20', 'Sentence: 146', 'Contents: “i don’t say i seriously suspect either of them, but, after all, the woman was murdered in sir eustace’s house—'], ['Chapter: 20', 'Sentence: 168', 'Contents: “well,” i said, summing up the situation, “you will keep an eye on sir eustace and colonel race—'], ['Chapter: 20', 'Sentence: 169', 'Contents: “i know why i’ve got to watch sir eustace,” interrupted suzanne, “because of his figure and his humorous conversation'], ['Chapter: 20', 'Sentence: 185', 'Contents: colonel race did not appear, but sir eustace and pagett were at their table in the window'], ['Chapter: 20', 'Sentence: 187', 'Contents: however, doubtless sir eustace would do as well'], ['Chapter: 20', 'Sentence: 189', 'Contents: “good-bye, sir eustace,” i said'], ['Chapter: 20', 'Sentence: 191', 'Contents: sir eustace sighed heavily'], ['Chapter: 20', 'Sentence: 198', 'Contents: “he must be a very handsome fellow,” said sir eustace plaintively'], ['Chapter: 20', 'Sentence: 205', 'Contents: sir eustace looked at me attentively'], ['Chapter: 20', 'Sentence: 216', 'Contents: “i devoutly hope not!” exclaimed sir eustace'], ['Chapter: 20', 'Sentence: 237', 'Contents: “i have secured a very capable secretary for sir eustace,” he observed'], ['Chapter: 20', 'Sentence: 305', 'Contents: have you much to do for sir eustace'], ['Chapter: 21', 'Sentence: 165', 'Contents: “i am sir eustace pedler’s secretary,” i said haughtily'], ['Chapter: 21', 'Sentence: 180', 'Contents: then, followed by the other two, i sought out sir eustace'], ['Chapter: 21', 'Sentence: 183', 'Contents: i judged that she was finding it difficult to keep pace with sir eustace, for her pencil was flying along, and she was frowning horribly'], ['Chapter: 21', 'Sentence: 186', 'Contents: sir eustace paused dead in the middle of a complicated sentence on the labour situation and stared at me'], ['Chapter: 21', 'Sentence: 188', 'Contents: “god bless my soul!” ejaculated sir eustace'], ['Chapter: 21', 'Sentence: 191', 'Contents: “darling,” said sir eustace'], ['Chapter: 21', 'Sentence: 193', 'Contents: miss pettigrew coughed, and sir eustace hastily withdrew his hand'], ['Chapter: 21', 'Sentence: 201', 'Contents: sir eustace stared, and so did i'], ['Chapter: 22', 'Sentence: 1', 'Contents:  (extract from the diary of sir eustace pedler) i am inclined to abandon my reminiscences'], ['Chapter: 22', 'Sentence: 37', 'Contents: i shall label this car—not “sir eustace pedler and party,” but “colonel race and harem'], ['Chapter: 22', 'Sentence: 61', 'Contents: “how long are you going to stay at the falls, sir eustace'], ['Chapter: 22', 'Sentence: 70', 'Contents: “i think your fears are exaggerated, sir eustace'], ['Chapter: 23', 'Sentence: 10', 'Contents: sir eustace tried to restrain us—but in vain'], ['Chapter: 23', 'Sentence: 18', 'Contents: travelling with sir eustace pedler and his party, i was fairly safe'], ['Chapter: 23', 'Sentence: 20', 'Contents: also, as long as i was near sir eustace, i was more or less in touch with guy pagett—and guy pagett was the heart of the mystery'], ['Chapter: 23', 'Sentence: 22', 'Contents: his subordinate position was, of course, against the assumption, but it had struck me once or twice that, for all his autocratic ways, sir eustace was really very much influenced by his secretary'], ['Chapter: 23', 'Sentence: 34', 'Contents: i was silent for a minute or two, and then went on musingly: “i wish i knew how sir eustace made his money'], ['Chapter: 23', 'Sentence: 51', 'Contents: “but we only heard the story at second-hand from sir eustace'], ['Chapter: 24', 'Sentence: 4', 'Contents: also sir eustace was what i can only describe as thoroughly sulky'], ['Chapter: 24', 'Sentence: 15', 'Contents: warned by this, suzanne and i carried all we could, colonel race helped, and i pressed the big giraffe into sir eustace’s arms'], ['Chapter: 24', 'Sentence: 22', 'Contents: that is to say, we were to have done so, but at the last moment sir eustace backed out'], ['Chapter: 24', 'Sentence: 25', 'Contents: he cursed the porters, he cursed the waiters at breakfast, he cursed the whole hotel management, he would doubtless have liked to curse miss pettigrew who hovered around with her pencil and pad, but i don’t think even sir eustace would have dared to curse miss pettigrew'], ['Chapter: 24', 'Sentence: 28', 'Contents: i feel sir eustace would have liked to dash him to the ground'], ['Chapter: 24', 'Sentence: 29', 'Contents: to return to our expedition, after sir eustace had backed out, miss pettigrew said she would remain at home in case he might want her'], ['Chapter: 24', 'Sentence: 228', 'Contents: sir eustace’s temper was still far from good, and miss pettigrew looked subdued'], ['Chapter: 24', 'Sentence: 274', 'Contents: “we’ll leave it until to-morrow,” said sir eustace with decision'], ['Chapter: 24', 'Sentence: 287', 'Contents: sir eustace went back to the hotel'], ['Chapter: 24', 'Sentence: 292', 'Contents: sir eustace seems to have taken a positive antipathy to colonel race'], ['Chapter: 24', 'Sentence: 328', 'Contents: sir eustace'], ['Chapter: 25', 'Sentence: 84', 'Contents: i was with her and sir eustace and colonel race at the hotel—but you knew that surely'], ['Chapter: 26', 'Sentence: 150', 'Contents: the property of sir eustace pedler'], ['Chapter: 26', 'Sentence: 156', 'Contents: not knowing that sir eustace was at cannes, i thought that this house-hunting business was a mere pretext for meeting him in the mill house'], ['Chapter: 26', 'Sentence: 198', 'Contents: i overheard a conversation between two middle-aged gentlemen in the street, one of whom proved to be sir eustace pedler'], ['Chapter: 26', 'Sentence: 201', 'Contents: i was now no longer so sure that sir eustace pedler was the ‘colonel'], ['Chapter: 26', 'Sentence: 205', 'Contents: i thought he was at cannes with sir eustace'], ['Chapter: 26', 'Sentence: 213', 'Contents: of course he made no objection to my accompanying sir eustace across in the boat'], ['Chapter: 27', 'Sentence: 18', 'Contents: we sat silent for a moment, then harry went on slowly: “you say that mrs. blair was asleep when you left the hotel and that you heard sir eustace dictating to miss pettigrew'], ['Chapter: 27', 'Sentence: 42', 'Contents: “yes—through sir eustace'], ['Chapter: 27', 'Sentence: 45', 'Contents: “he saw a man coming from the direction of sir eustace’s cabin and followed him up on deck'], ['Chapter: 27', 'Sentence: 47', 'Contents: now, who had the cabin opposite to sir eustace'], ['Chapter: 27', 'Sentence: 206', 'Contents: in the tiny back room of the hut we were safe from observation whilst he departed to make judicious inquiries as to what had become of sir eustace’s party, and whether any of them were still at the hotel'], ['Chapter: 28', 'Sentence: 1', 'Contents:  (extract from the diary of sir eustace pedler) as i remarked once before, i am essentially a man of peace'], ['Chapter: 28', 'Sentence: 35', 'Contents: “what shall i do, sir eustace'], ['Chapter: 28', 'Sentence: 47', 'Contents: “oh, sir eustace'], ['Chapter: 29', 'Sentence: 31', 'Contents: “there is such a thing as giving a man enough rope, and letting him hang himself, sir eustace'], ['Chapter: 29', 'Sentence: 39', 'Contents: “more than that, sir eustace, we have every reason to believe that the man who runs the whole show, the directing genius of the affair, is at this minute in johannesburg'], ['Chapter: 29', 'Sentence: 60', 'Contents: “i warn you, sir eustace, that the food question is already serious'], ['Chapter: 29', 'Sentence: 153', 'Contents: “i hope you will forgive me for troubling you again, sir eustace,” he apologized'], ['Chapter: 29', 'Sentence: 183', 'Contents: i may as well tell you—in confidence, sir eustace—that the place is suspected of being a well-known rendezvous used by the secret organization behind this revolution'], ['Chapter: 30', 'Sentence: 33', 'Contents: what did sir eustace do with the cases'], ['Chapter: 30', 'Sentence: 36', 'Contents: he’s leaving cape town to-day, by the by, to join sir eustace in johannesburg'], ['Chapter: 30', 'Sentence: 39', 'Contents: “i suppose sir eustace has got them with him'], ['Chapter: 30', 'Sentence: 54', 'Contents: eric here, also eustace, but not guy'], ['Chapter: 30', 'Sentence: 87', 'Contents: “very well, thank you—looking forward to taking up my work again with sir eustace'], ['Chapter: 30', 'Sentence: 96', 'Contents: “sir eustace has not already told you'], ['Chapter: 30', 'Sentence: 97', 'Contents: “sir eustace'], ['Chapter: 30', 'Sentence: 107', 'Contents: he went on fluently: “it is difficult for a man of sir eustace’s standing to put himself in my position'], ['Chapter: 30', 'Sentence: 111', 'Contents: “yes, mr. pagett,” i broke in, “i’m sure i quite agree with all you’re saying about sir eustace'], ['Chapter: 30', 'Sentence: 117', 'Contents: his mind detached itself from the peculiarities of sir eustace and his own justification and came to rest on me'], ['Chapter: 31', 'Sentence: 1', 'Contents:     (from the diary of sir eustace pedler)   johannesburg,    march 7th'], ['Chapter: 31', 'Sentence: 10', 'Contents: “i’ve already unpacked all the cases, sir eustace'], ['Chapter: 31', 'Sentence: 23', 'Contents: “there is something i want to say to you when you have the leisure, sir eustace'], ['Chapter: 31', 'Sentence: 37', 'Contents: “i think that’s all, sir eustace, except some miscellaneous odds and ends, a motor-veil and some odd gloves—that sort of thing'], ['Chapter: 31', 'Sentence: 64', 'Contents: “yes, sir eustace'], ['Chapter: 31', 'Sentence: 76', 'Contents: sir eustace, there was no one in the shop'], ['Chapter: 31', 'Sentence: 81', 'Contents: “sir eustace, a man was seen coming out of her room last night'], ['Chapter: 31', 'Sentence: 97', 'Contents: “you’re not convinced, sir eustace'], ['Chapter: 31', 'Sentence: 108', 'Contents: and now, sir eustace, i want to speak to you about my private affairs'], ['Chapter: 31', 'Sentence: 113', 'Contents: “thank you, sir eustace'], ['Chapter: 31', 'Sentence: 117', 'Contents: “i fail to follow you, sir eustace'], ['Chapter: 31', 'Sentence: 124', 'Contents: “i am quite at a loss to understand you, sir eustace'], ['Chapter: 31', 'Sentence: 127', 'Contents: “i hoped that as i was a good way off you had not recognized me, sir eustace'], ['Chapter: 31', 'Sentence: 129', 'Contents: “at marlow, sir eustace'], ['Chapter: 31', 'Sentence: 150', 'Contents: “no, sir eustace, that is just what i am telling you'], ['Chapter: 31', 'Sentence: 162', 'Contents: “four children, sir eustace'], ['Chapter: 31', 'Sentence: 173', 'Contents: “i hope, sir eustace, that you are not seriously annoyed'], ['Chapter: 32', 'Sentence: 67', 'Contents: you will save a lot of time and annoyance by taking me straight to sir eustace pedler'], ['Chapter: 32', 'Sentence: 71', 'Contents: “sir eustace pedler'], ['Chapter: 32', 'Sentence: 81', 'Contents: sir eustace pedler sprang up to greet me, genial and smiling'], ['Chapter: 32', 'Sentence: 96', 'Contents: “and now,” said sir eustace cheerfully, “let’s get down to facts'], ['Chapter: 32', 'Sentence: 99', 'Contents: sir eustace nodded ruefully'], ['Chapter: 32', 'Sentence: 147', 'Contents: “that’s just it,” said sir eustace softly'], ['Chapter: 32', 'Sentence: 156', 'Contents: sir eustace sighed'], ['Chapter: 32', 'Sentence: 174', 'Contents: “it’s a pity that the idea of being lady pedler doesn’t appeal to you'], ['Chapter: 32', 'Sentence: 179', 'Contents: “the fact of the matter is,” sir eustace was continuing, “i’ve a weakness for you'], ['Chapter: 32', 'Sentence: 184', 'Contents: i had a great deal of respect for sir eustace’s shrewdness'], ['Chapter: 32', 'Sentence: 241', 'Contents: i wrote at sir eustace’s dictation: dear harry, i think i see a chance of establishing your innocence beyond any possible doubt'], ['Chapter: 32', 'Sentence: 251', 'Contents: sir eustace stopped'], ['Chapter: 32', 'Sentence: 256', 'Contents: sir eustace stretched out his hand for the letter and read it through'], ['Chapter: 32', 'Sentence: 266', 'Contents: sir eustace was watching him keenly'], ['Chapter: 32', 'Sentence: 273', 'Contents: “excellent, my dear fellow, excellent,” said sir eustace genially'], ['Chapter: 32', 'Sentence: 277', 'Contents: no sooner was he outside than sir eustace picked up a speaking-tube that rested by his elbow and spoke down it'], ['Chapter: 32', 'Sentence: 282', 'Contents: “may i ask you a few questions, sir eustace,” i said, after a minute or two of silence'], ['Chapter: 32', 'Sentence: 319', 'Contents: nobody would think of suspecting poor old pedler'], ['Chapter: 32', 'Sentence: 327', 'Contents: sir eustace picked up the tube, listened for a minute or two, then answered: “very well, i’ll see him now'], ['Chapter: 32', 'Sentence: 330', 'Contents: he ushered me into a small shabby apartment, a kafir boy brought up my small suit-case, and sir eustace, urging me to ask for anything i wanted, withdrew, the picture of a courteous host'], ['Chapter: 33', 'Sentence: 1', 'Contents:  i was not summoned to sir eustace’s presence until late in the afternoon'], ['Chapter: 33', 'Sentence: 3', 'Contents: sir eustace was alone'], ['Chapter: 33', 'Sentence: 31', 'Contents: it’s a pity that you didn’t take kindly to the idea of becoming lady pedler'], ['Chapter: 33', 'Sentence: 35', 'Contents: sir eustace flung me a look of triumph'], ['Chapter: 33', 'Sentence: 39', 'Contents: “it means that you have walked into my parlour—said the spider to the fly,” remarked sir eustace facetiously'], ['Chapter: 33', 'Sentence: 47', 'Contents: i understood his glance and edged nearer to sir eustace'], ['Chapter: 33', 'Sentence: 61', 'Contents: i think sir eustace shared my fears'], ['Chapter: 33', 'Sentence: 65', 'Contents: sir eustace gave the order'], ['Chapter: 33', 'Sentence: 68', 'Contents: sir eustace uttered a sigh of relief and wiped his forehead with a handkerchief'], ['Chapter: 33', 'Sentence: 82', 'Contents: i ought to have studied them more,” said sir eustace sadly'], ['Chapter: 33', 'Sentence: 89', 'Contents: he advanced a step or two, and sir eustace skipped nimbly behind the table'], ['Chapter: 33', 'Sentence: 99', 'Contents: something in harry’s voice, a grim raillery, seemed to attract sir eustace’s attention'], ['Chapter: 33', 'Sentence: 102', 'Contents: “sit down, sir eustace, and listen to what i have to say'], ['Chapter: 33', 'Sentence: 107', 'Contents: sir eustace paled'], ['Chapter: 33', 'Sentence: 110', 'Contents: you didn’t know, did you, sir eustace, that anne had an arrangement with me by which we should know whether communications from one to the other were genuine'], ['Chapter: 33', 'Sentence: 123', 'Contents: sir eustace had risen and was passing up and down'], ['Chapter: 33', 'Sentence: 125', 'Contents: “so you see, sir eustace, the game is up'], ['Chapter: 33', 'Sentence: 129', 'Contents: sir eustace turned suddenly'], ['Chapter: 33', 'Sentence: 166', 'Contents: sir eustace chuckled'], ['Chapter: 33', 'Sentence: 177', 'Contents: he turned to sir eustace'], ['Chapter: 33', 'Sentence: 178', 'Contents: “i’ve been after you for a long time, pedler—and at last i’ve got you'], ['Chapter: 33', 'Sentence: 179', 'Contents: “everybody seems to have gone completely mad,” declared sir eustace airily'], ['Chapter: 33', 'Sentence: 192', 'Contents: sir eustace looked surprised'], ['Chapter: 33', 'Sentence: 205', 'Contents: sir eustace looked at him'], ['Chapter: 33', 'Sentence: 207', 'Contents: “rats always leaving a sinking ship,” observed sir eustace'], ['Chapter: 33', 'Sentence: 210', 'Contents: “there’s just one thing i’d like to tell you, sir eustace,” i remarked'], ['Chapter: 33', 'Sentence: 216', 'Contents: sir eustace looked at me for some time'], ['Chapter: 34', 'Sentence: 9', 'Contents: sir eustace had been driven off in an opposite direction accompanied by a strong guard'], ['Chapter: 34', 'Sentence: 41', 'Contents: pedler has managed to escape'], ['Chapter: 34', 'Sentence: 47', 'Contents: never, to this day, have i been able to rid myself of a sneaking fondness for sir eustace'], ['Chapter: 34', 'Sentence: 54', 'Contents: he wanted sir eustace brought to justice'], ['Chapter: 34', 'Sentence: 64', 'Contents: there are technicalities, of course, but sir eustace’s guilt is well assured'], ['Chapter: 35', 'Sentence: 33', 'Contents: “did sir eustace know who you really were'], ['Chapter: 36', 'Sentence: 41', 'Contents: yours ever, eustace pedler'], ['Chapter: 36', 'Sentence: 44', 'Contents: to him, sir eustace was the man who tried to murder me and whom he regards as responsible for the death of his friend'], ['Chapter: 36', 'Sentence: 45', 'Contents: sir eustace’s attempts on my life have always puzzled me'], ['Chapter: 36', 'Sentence: 53', 'Contents: she pointed out to me that sir eustace’s whole life was actuated by a desire to be safe and comfortable'], ['Chapter: 36', 'Sentence: 60', 'Contents: i can forgive sir eustace easily enough, but i shall never forgive nadina']]\n"
          ]
        },
        {
          "name": "stdout",
          "output_type": "stream",
          "text": [
            "['amply', 'covered', 'by', 's', 'diary', 'of']\n",
            "['the', 'property', 'of', 'm', 'p', 'is']\n",
            "['have', 'a', 'clue', 'the', 'owner', 'of']\n",
            "['the', 'wife', 'of', 's', 'gardener', 'who']\n",
            "['course', 'there', 's', 's', 'place', 'said']\n",
            "['reporters', 'i', 'am', 's', 'orders', 'are—']\n",
            "['the', 'lodge', 'if', 'hadn', 't', 'been']\n",
            "['me', 'i', 'thought', 'was', 'at', 'cannes']\n",
            "['roll', 'belonging', 'to', 'which', 'had', 'rolled']\n",
            "['the', 'diary', 'of', 'm', 'p', ')']\n",
            "['so', 'you', 'know', 'know', 'what', 'i']\n",
            "['england', 'at', 'once', 'you', 'need', 'suppose']\n",
            "['suggestion', 'my', 'dear', 'the', 'common', 'post']\n",
            "['reasons', 'my', 'dear', 'i', 'assure', 'you']\n",
            "['minute', 'my', 'dear', 'one', 'minute', 'i']\n",
            "['obliged', 'to', 'you', 'i', 'will', 'send']\n",
            "['to', 'tell', 'you', 'that', 'he', 'comes']\n",
            "['me', 'to', 'you', 'i', 'am', 'to']\n",
            "['think', 'you', 'do', 'where', 'is', 'your']\n",
            "['tell', 'you', 'this', 'mr', 'milray', 'would']\n",
            "['oh', 'that', 's', 's', 'secretary', 'been']\n",
            "['not', 'appeared', 'before', 'has', 'got', 'two']\n",
            "['is', 'pagett', 'so', 'the', 'owner', 'of']\n",
            "['yet——', 'that', 's', 'my', 'informant', 'continued']\n",
            "['was', 'speaking', 'to', 'and', 'i', 'overheard']\n",
            "['my', 'dear', 'fellow', 'replied', 'my', 'cabin']\n",
            "['what', 'i', 'say', 'we', 'must', 'have']\n",
            "['the', 'use', 'of', 'that', 's', 'all']\n",
            "['is', 'allotted', 'to', 'said', 'mr', 'pagett']\n",
            "['my', 'notice', '(1)', 'he', 'was', 'the']\n",
            "['he', 'had', 'accompanied', 'to', 'cannes', '(3)']\n",
            "['all', 'this', 'when', 'passed', 'down', 'the']\n",
            "['paper', 'and', 'not', 'one', 'thing', 'was']\n",
            "['coffee', 'i', 'noticed', 'and', 'pagett', 'sitting']\n",
            "['latin', 'scholar', 'said', 'smiling', 'men', 'are']\n",
            "['florence', 'pagett', 'asked', 'turning', 'with', 'a']\n",
            "['in', 'florence', 'remarked', 'gazing', 'after', 'his']\n",
            "['hurting', 'your', 'feelings', 'but', 'he', 'does']\n",
            "['hasn', 't', 'he', 'asked', 'colonel', 'race']\n",
            "['six', 'years', 'said', 'with', 'a', 'deep']\n",
            "['the', 'diary', 'of', '', 'there', 'is']\n",
            "['in', 'your', 'cabin', 'it', 's', 'full']\n",
            "['i', 'tell', 'you', 'there', 's', 'something']\n",
            "['secret', 'service', 'chap', 'rather', 'a', 'great']\n",
            "['is', 'very', 'queer', 'look', 'at', 'that']\n",
            "['them', 'very', 'well', 'but', 'my', 'belief']\n",
            "['at', 'any', 'rate', 'he', 'thinks', 'so—and']\n",
            "['in', 'his', 'cabin', 'pagett', 's', 'voice']\n",
            "['over', 'your', 'safety', 'in', 'case', 'an']\n",
            "['of', 'these', 'days', 'my', 'dear', 'race']\n",
            "['said', 'gallantly', 'oh', 'how', 'sweet', 'of']\n",
            "['remember', 'the', 'case', 'you', 'were', 'in']\n",
            "['say', 'that', 'in', 's', 'secretary—not', 'that']\n",
            "['two', 'links', 'connecting', 'with', 'the', 'tangle']\n",
            "['don', 't', 'suspect', 'himself', 'but', 'it']\n",
            "['admitted', 'hum', 'hardly', 'i', 'should', 'think']\n",
            "['its', 'effect', 'on', 'yes', 'but', 'even']\n",
            "['me', 'was', 'it', 'who', 'had', 'been']\n",
            "['that', 'he', 'induced', 'to', 'bring', 'him']\n",
            "['did', 'he', 'square', 'it', 'looks', 'as']\n",
            "['like', 'pagett', 'anne', 'says', 'he', 's']\n",
            "['on', 'mr', 'chichester', 'and', 'his', 'secretary']\n",
            "['of', 'reluctantly', 'dismissing', 'and', 'mr', 'pagett']\n",
            "['on', 'deck', 'and', 'addressed', 'a', 'perfectly']\n",
            "['attention', 'before', 'when', 'claimed', 'mrs', 'blair']\n",
            "['some', 'correspondence', 'of', 's', 'that—', 'i']\n",
            "['i', 'm', 'sure', 'wouldn', 't', 'like']\n",
            "['i', 'shall', 'tell', '', 'i', 'got']\n",
            "['stupid', 'of', 'me', 'has', 'a', 'house']\n",
            "['on', 'to', 'durban', 'is', 'going', 'to']\n",
            "['an', 'eye', 'on', 'and', 'pagett', 'and']\n",
            "['could', 'arrange', 'for', 'to', 'invite', 'him']\n",
            "['the', 'diary', 'of', '', 'mount', 'nelson']\n",
            "['of', 'the', 'night', 'well', 'what', 'were']\n",
            "['cables', 'of', 'yours', 'and', 'typing', 'the']\n",
            "['before', 'turning', 'in', 'the', 'man', 'was']\n",
            "['hear', 'me', 'out', 'i', 'was', 'convinced']\n",
            "['secret', 'you', 'see', 'i', 'fancied—and', 'now']\n",
            "['rayburn', 'rayburn', 'yes', 'i', 'shook', 'my']\n",
            "['night', 'quite', 'so', 'i', 'think', 'it']\n",
            "['on', 'last', 'night', 'he', 'urged', 'or']\n",
            "['to', 'him', 'supposing', 'that', 'rayburn', 'had']\n",
            "['for', 'your', 'speeches', 'i', 'shall', 'manage']\n",
            "['am', 'a', 'teetotaller', 'much', 'wiser', 'to']\n",
            "['i', 'know', 'of', 'i', 'heaved', 'a']\n",
            "['did', 'you', 'see', 'i', 'asked', 'he']\n",
            "['squashed', 'suzanne', 'smiled', 'doesn', 't', 'like']\n",
            "['job', 'sticking', 'to', 'and', 'that', 'you']\n",
            "['should', 'i', 'mention', 'he', 'was', 'a']\n",
            "['better', 'not', 'risk', 'mrs', 'blair', 'for']\n",
            "['us', 'what', 'is', 'doing', 'asked', 'suzanne']\n",
            "['and', 'he', 'bamboozled', 'into', 'bringing', 'him']\n",
            "['air', 'how', 'does', 'take', 'it', 'regards']\n",
            "['opportunity', 'of', 'hearing', 's', 'views', 'on']\n",
            "['noises', 'again', 'and', 'proceeded', 'in', 'a']\n",
            "['day', 'long', 'replied', 'gallantly', 'i', 'shan']\n",
            "['you', 'very', 'much', 'i', 'said', 'cautiously']\n",
            "['go', 'to', 'durban', 'looked', 'at', 'me']\n",
            "['all', 'this', 'afternoon', 'well', 'stop', 'typing']\n",
            "['her', 'hand', 'yes', 'i', 'will', 'ask']\n",
            "['malicious', 'fellow', 'said', 'after', 'the', 'secretary']\n",
            "['be', 'summoned', 'by', 'and', 'it', 'would']\n",
            "['colonel', 'race', 'or', 'i', 'suspect', 'everybody']\n",
            "['fat', 'men', 'like', 'colonel', 'race', 'isn']\n",
            "['was', 'murdered', 'in', 's', 'house—', 'yes']\n",
            "['an', 'eye', 'on', 'and', 'colonel', 'race—']\n",
            "['got', 'to', 'watch', 'interrupted', 'suzanne', 'because']\n",
            "['not', 'appear', 'but', 'and', 'pagett', 'were']\n",
            "['him', 'however', 'doubtless', 'would', 'do', 'as']\n",
            "['finished', 'good', 'bye', 'i', 'said', 'i']\n",
            "['night', 'to', 'durban', 'sighed', 'heavily', 'so']\n",
            "['handsome', 'fellow', 'said', 'plaintively', 'some', 'young']\n",
            "['thing', 'i', 'wanted', 'looked', 'at', 'me']\n",
            "['hope', 'not', 'exclaimed', 'that', 'would', 'be']\n",
            "['capable', 'secretary', 'for', 'he', 'observed', 'miss']\n",
            "['to', 'do', 'for', 'dear', 'me', 'i']\n",
            "['tone', 'i', 'am', 's', 'secretary', 'i']\n",
            "['i', 'sought', 'out', 'he', 'was', 'striding']\n",
            "['keep', 'pace', 'with', 'for', 'her', 'pencil']\n",
            "['i', 'said', 'saucily', 'paused', 'dead', 'in']\n",
            "['my', 'soul', 'ejaculated', 'what', 'about', 'the']\n",
            "['softly', 'darling', 'said', 'you', 'can', 'start']\n",
            "['pettigrew', 'coughed', 'and', 'hastily', 'withdrew', 'his']\n",
            "['and', 'sharpened', 'it', 'stared', 'and', 'so']\n",
            "['the', 'diary', 'of', '', 'i', 'am']\n",
            "['label', 'this', 'car—not', 'and', 'party', 'but']\n",
            "['at', 'the', 'falls', 'that', 'depends', 'i']\n",
            "['fears', 'are', 'exaggerated', 'there', 'will', 'be']\n",
            "['enjoyed', 'ourselves', 'enormously', 'tried', 'to', 'restrain']\n",
            "['ones', 'travelling', 'with', 'and', 'his', 'party']\n",
            "['i', 'was', 'near', 'i', 'was', 'more']\n",
            "['his', 'autocratic', 'ways', 'was', 'really', 'very']\n",
            "['i', 'knew', 'how', 'made', 'his', 'money']\n",
            "['second', 'hand', 'from', 'if', 'we', 'd']\n",
            "['the', 'hotel', 'also', 'was', 'what', 'i']\n",
            "['big', 'giraffe', 'into', 's', 'arms', 'even']\n",
            "['the', 'last', 'moment', 'backed', 'out', 'he']\n",
            "['t', 'think', 'even', 'would', 'have', 'dared']\n",
            "['time', 'i', 'feel', 'would', 'have', 'liked']\n",
            "['our', 'expedition', 'after', 'had', 'backed', 'out']\n",
            "['nine', 'o', 'clock', 's', 'temper', 'was']\n",
            "['to', 'morrow', 'said', 'with', 'decision', 'he']\n",
            "['i', 'accompanied', 'him', 'went', 'back', 'to']\n",
            "['change', 'for', 'dinner', 'seems', 'to', 'have']\n",
            "['her', 'breathing', 'evenly', 'i', 'paused', 'outside']\n",
            "['with', 'her', 'and', 'and', 'colonel', 'race']\n",
            "['the', 'property', 'of', 'that', 'sounds', 'as']\n",
            "['not', 'knowing', 'that', 'was', 'at', 'cannes']\n",
            "['proved', 'to', 'be', 'i', 'at', 'once']\n",
            "['so', 'sure', 'that', 'was', 'the', 'colonel']\n",
            "['at', 'cannes', 'with', 'he', 'was', 'supposed']\n",
            "['to', 'my', 'accompanying', 'across', 'in', 'the']\n",
            "['that', 'you', 'heard', 'dictating', 'to', 'miss']\n",
            "['the', 'kilmorden', 'yes—through', 'i', 'repeated', 'it']\n",
            "['the', 'direction', 'of', 's', 'cabin', 'and']\n",
            "['cabin', 'opposite', 'to', 'colonel', 'race', 'supposing']\n",
            "['had', 'become', 'of', 's', 'party', 'and']\n",
            "['the', 'diary', 'of', '', 'as', 'i']\n",
            "['shall', 'i', 'do', 'repressing', 'the', 'desire']\n",
            "['for', 'dinner', 'oh', 'the', 'woman', 'was']\n",
            "['him', 'hang', 'himself', 'oh', 'quite', 'so']\n",
            "['more', 'than', 'that', 'we', 'have', 'every']\n",
            "['i', 'warn', 'you', 'that', 'the', 'food']\n",
            "['troubling', 'you', 'again', 'he', 'apologized', 'but']\n",
            "['tell', 'you—in', 'confidence', 'that', 'the', 'place']\n",
            "['now', 'what', 'did', 'do', 'with', 'the']\n",
            "['by', 'to', 'join', 'in', 'johannesburg', 'i']\n",
            "['they', 'i', 'suppose', 'has', 'got', 'them']\n",
            "['eric', 'here', 'also', 'but', 'not', 'guy']\n",
            "['work', 'again', 'with', 'mr', 'pagett', 'i']\n",
            "['those', 'reasons', 'were', 'has', 'not', 'already']\n",
            "['already', 'told', 'you', 'does', 'he', 'know']\n",
            "['a', 'man', 'of', 's', 'standing', 'to']\n",
            "['re', 'saying', 'about', 'but', 'why', 'did']\n",
            "['the', 'peculiarities', 'of', 'and', 'his', 'own']\n",
            "['the', 'diary', 'of', '', 'johannesburg', 'march']\n",
            "['all', 'the', 'cases', 'the', 'typewriter', 'is']\n",
            "['have', 'the', 'leisure', 'i', 'haven', 't']\n",
            "['that', 's', 'all', 'except', 'some', 'miscellaneous']\n",
            "['pettigrew', 'what', 'yes', 'and', 'that', 's']\n",
            "['i', 'went', 'in', 'there', 'was', 'no']\n",
            "['to', 'be', 'confidential', 'a', 'man', 'was']\n",
            "['re', 'not', 'convinced', 'what', 'do', 'you']\n",
            "['that', 'and', 'now', 'i', 'want', 'to']\n",
            "['way', 'thank', 'you', 'is', 'it', 'her']\n",
            "['to', 'follow', 'you', 'whose', 'husband', 'the']\n",
            "['to', 'understand', 'you', 'i', 'suppose', 'you']\n",
            "['not', 'recognized', 'me', 'recognized', 'you', 'where']\n",
            "['where', 'at', 'marlow', 'at', 'marlow', 'what']\n",
            "['were', 'married', 'no', 'that', 'is', 'just']\n",
            "['children', 'four', 'children', 'i', 'gazed', 'at']\n",
            "['glance', 'i', 'hope', 'that', 'you', 'are']\n",
            "['me', 'straight', 'to', 'to—', 'he', 'looked']\n",
            "['yes', 'i', 'said', 'i—i—excuse', 'me—', 'he']\n",
            "['to', 'pass', 'inside', 'sprang', 'up', 'to']\n",
            "['and', 'now', 'said', 'cheerfully', 'let', 's']\n",
            "['be', 'in', 'cannes', 'nodded', 'ruefully', 'yes']\n",
            "['just', 'it', 'said', 'softly', 'what', 'about']\n",
            "['it', 'does', 'not', 'sighed', 'a', 'pity']\n",
            "['of', 'being', 'lady', 'doesn', 't', 'appeal']\n",
            "['the', 'matter', 'is', 'was', 'continuing', 'i']\n",
            "['of', 'respect', 'for', 's', 'shrewdness', 'it']\n",
            "['i', 'wrote', 'at', 's', 'dictation', 'dear']\n",
            "['to', 'any', 'one', 'stopped', 'i', 'leave']\n",
            "['in', 'the', 'words', 'stretched', 'out', 'his']\n",
            "['on', 'the', 'envelope', 'was', 'watching', 'him']\n",
            "['fellow', 'excellent', 'said', 'genially', 'my', 'mistake']\n",
            "['he', 'outside', 'than', 'picked', 'up', 'a']\n",
            "['a', 'few', 'questions', 'i', 'said', 'after']\n",
            "['suspecting', 'poor', 'old', 'what', 'about', 'colonel']\n",
            "['a', 'whistle', 'sounded', 'picked', 'up', 'the']\n",
            "['suit', 'case', 'and', 'urging', 'me', 'to']\n",
            "['not', 'summoned', 'to', 's', 'presence', 'until']\n",
            "['for', 'further', 'conflict', 'was', 'alone', 'he']\n",
            "['of', 'becoming', 'lady', 'i', 'did', 'not']\n",
            "['between', 'two', 'men', 'flung', 'me', 'a']\n",
            "['the', 'fly', 'remarked', 'facetiously', 'my', 'dear']\n",
            "['edged', 'nearer', 'to', 'yes', 'murmured', 'the']\n",
            "['anyway', 'i', 'think', 'shared', 'my', 'fears']\n",
            "['room', 'said', 'harry', 'gave', 'the', 'order']\n",
            "['of', 'my', 'hand', 'uttered', 'a', 'sigh']\n",
            "['them', 'more', 'said', 'sadly', 'i', 'wonder']\n",
            "['or', 'two', 'and', 'skipped', 'nimbly', 'behind']\n",
            "['seemed', 'to', 'attract', 's', 'attention', 'he']\n",
            "['again', 'sit', 'down', 'and', 'listen', 'to']\n",
            "['sound', 'of', 'firing', 'paled', 'what', 's']\n",
            "['know', 'did', 'you', 'that', 'anne', 'had']\n",
            "['was', 'on', 'fire', 'had', 'risen', 'and']\n",
            "['so', 'you', 'see', 'the', 'game', 'is']\n",
            "['following', 'me', 'here', 'turned', 'suddenly', 'very']\n",
            "['t', 'do', 'it', 'chuckled', 'he', 'accepted']\n",
            "['he', 'turned', 'to', 'i', 've', 'been']\n",
            "['a', 'long', 'time', 'and', 'at', 'last']\n",
            "['completely', 'mad', 'declared', 'airily', 'these', 'young']\n",
            "['the', 'mill', 'house', 'looked', 'surprised', 'colonel']\n",
            "['to', 'his', 'side', 'looked', 'at', 'him']\n",
            "['sinking', 'ship', 'observed', 'i', 'don', 't']\n",
            "['to', 'tell', 'you', 'i', 'remarked', 'that']\n",
            "['it', 'up', 'again', 'looked', 'at', 'me']\n",
            "['could', 'not', 'fathom', 'had', 'been', 'driven']\n",
            "['on', 'my', 'part', 'has', 'managed', 'to']\n",
            "['sneaking', 'fondness', 'for', 'i', 'dare', 'say']\n",
            "['it', 'he', 'wanted', 'brought', 'to', 'justice']\n",
            "['of', 'course', 'but', 's', 'guilt', 'is']\n",
            "['through', 'once', 'did', 'know', 'who', 'you']\n",
            "['me', 'yours', 'ever', 'harry', 'was', 'furious']\n",
            "['eye', 'to', 'him', 'was', 'the', 'man']\n",
            "['of', 'his', 'friend', 's', 'attempts', 'on']\n",
            "['to', 'me', 'that', 's', 'whole', 'life']\n",
            "['i', 'can', 'forgive', 'easily', 'enough', 'but']\n",
            "250\n",
            "\n",
            "\n",
            "\n",
            "### Results for  The Secret of Chimneys\n",
            "Zerofiller\n",
            "re.compile('anthony|cades')\n",
            "[['Chapter: 1', 'Sentence: 15', 'Contents: anthony cade and his friend had stepped a little apart'], ['Chapter: 1', 'Sentence: 18', 'Contents: “not with this little lot,” grinned anthony'], ['Chapter: 1', 'Sentence: 30', 'Contents: anthony ignored this aspersion'], ['Chapter: 1', 'Sentence: 34', 'Contents: “if there’s any trouble brewing, anthony cade is sure to be in it sooner or later, i know that,” he said'], ['Chapter: 1', 'Sentence: 37', 'Contents: anthony sighed'], ['Chapter: 1', 'Sentence: 44', 'Contents: anthony rejoined his flock of sheep'], ['Chapter: 1', 'Sentence: 58', 'Contents: “i thought you knew it was anthony, miss taylor'], ['Chapter: 1', 'Sentence: 60', 'Contents: anthony had by now well mastered his duties'], ['Chapter: 1', 'Sentence: 74', 'Contents: “kind hearts are more than coronets,” said anthony vaguely, without a notion of what he meant by the remark, and wishing fervently it was lunch time'], ['Chapter: 1', 'Sentence: 84', 'Contents: “time for morning tea,” said anthony briskly'], ['Chapter: 1', 'Sentence: 88', 'Contents: “morning tea, mrs. caldicott,” said anthony, assuming his professional manner, “is an extra'], ['Chapter: 1', 'Sentence: 90', 'Contents: “life is full of trials, isn’t it?” said anthony cheerfully'], ['Chapter: 1', 'Sentence: 95', 'Contents: “oh, lord,” muttered anthony, “what a lot of funny people it does take to make a world'], ['Chapter: 1', 'Sentence: 111', 'Contents: *       *       *       *       * it was about ten o’clock that night when anthony cade walked into the small room where jimmy mcgrath was busy manipulating various bottles'], ['Chapter: 1', 'Sentence: 125', 'Contents: anthony became suspicious'], ['Chapter: 1', 'Sentence: 149', 'Contents: i’m after gold, anthony—far up in the interior'], ['Chapter: 1', 'Sentence: 150', 'Contents: anthony whistled and looked at him'], ['Chapter: 1', 'Sentence: 160', 'Contents: anthony looked up sharply'], ['Chapter: 1', 'Sentence: 164', 'Contents: there was quite an appreciable pause before anthony answered'], ['Chapter: 1', 'Sentence: 178', 'Contents: anthony gazed at him more in sorrow than in anger'], ['Chapter: 1', 'Sentence: 184', 'Contents: “now you’re talking,” said anthony'], ['Chapter: 1', 'Sentence: 202', 'Contents: “the question is,” said anthony, “what  are  you telling me about'], ['Chapter: 1', 'Sentence: 210', 'Contents: “good for you, james,” said anthony softly'], ['Chapter: 1', 'Sentence: 218', 'Contents: anthony nodded'], ['Chapter: 1', 'Sentence: 224', 'Contents: “yes,” said anthony'], ['Chapter: 1', 'Sentence: 259', 'Contents: anthony got up and lit a cigarette'], ['Chapter: 2', 'Sentence: 1', 'Contents:  “so that’s that,” said anthony, finishing off his glass and replacing it on the table'], ['Chapter: 2', 'Sentence: 14', 'Contents: anthony rose and paced up and down the room'], ['Chapter: 2', 'Sentence: 23', 'Contents: “of course,” continued anthony, “i know that kings and queens and government officials are prevented by etiquette from doing anything in a simple, straightforward fashion'], ['Chapter: 2', 'Sentence: 39', 'Contents: anthony frowned and continued his pacing'], ['Chapter: 2', 'Sentence: 45', 'Contents: anthony smiled'], ['Chapter: 2', 'Sentence: 60', 'Contents: “oh, well,” said anthony, “we all know that'], ['Chapter: 2', 'Sentence: 67', 'Contents: “h’m!” said anthony'], ['Chapter: 2', 'Sentence: 86', 'Contents: anthony wheeled round suddenly'], ['Chapter: 2', 'Sentence: 94', 'Contents: “no,” said anthony slowly'], ['Chapter: 2', 'Sentence: 97', 'Contents: there was a pause, and then anthony spoke'], ['Chapter: 2', 'Sentence: 109', 'Contents: “i don’t know,” said anthony'], ['Chapter: 2', 'Sentence: 121', 'Contents: “no,” said anthony regretfully'], ['Chapter: 2', 'Sentence: 142', 'Contents: anthony sank into a chair and eyed him severely'], ['Chapter: 2', 'Sentence: 163', 'Contents: anthony nodded indifferently'], ['Chapter: 2', 'Sentence: 176', 'Contents: “and at the mere thought of gold, your heart beat pitter-pat as always,” interrupted anthony'], ['Chapter: 2', 'Sentence: 189', 'Contents: “you’ve more imagination than i gave you credit for, jimmy,” observed anthony, lighting a cigarette'], ['Chapter: 2', 'Sentence: 195', 'Contents: anthony paused in the act of blowing out his match, and he dropped it with a quick jerk of the wrist as it burned his finger'], ['Chapter: 2', 'Sentence: 205', 'Contents: “only one of them,” said anthony modestly'], ['Chapter: 2', 'Sentence: 214', 'Contents: anthony threw away his cigarette, and coming across to his friend clapped him affectionately on the back'], ['Chapter: 2', 'Sentence: 229', 'Contents: anthony gathered them up again thoughtfully'], ['Chapter: 5', 'Sentence: 23', 'Contents: at two o’clock that afternoon anthony cade, travelling under the name of jimmy mcgrath, stepped out of the boat train at waterloo, hailed a taxi, and after a moment’s hesitation ordered the driver to proceed to the blitz hotel'], ['Chapter: 5', 'Sentence: 24', 'Contents: “one might as well be comfortable,” said anthony to himself, as he looked with some interest out of the taxi windows'], ['Chapter: 5', 'Sentence: 34', 'Contents: they both recovered themselves, and the man muttered an apology, his eyes scanning anthony’s face narrowly'], ['Chapter: 5', 'Sentence: 36', 'Contents: anthony went on into the hotel, wondering, as he did so, what had inspired that searching glance'], ['Chapter: 5', 'Sentence: 44', 'Contents: the telephone beside the bed rang, and anthony crossed to the receiver'], ['Chapter: 5', 'Sentence: 50', 'Contents: anthony was rather astonished'], ['Chapter: 5', 'Sentence: 55', 'Contents: anthony replaced the receiver and waited'], ['Chapter: 5', 'Sentence: 57', 'Contents: anthony took it'], ['Chapter: 5', 'Sentence: 66', 'Contents: anthony imitated his movements as nearly as possible'], ['Chapter: 5', 'Sentence: 73', 'Contents: “and mine also,” responded anthony, on the same note'], ['Chapter: 5', 'Sentence: 76', 'Contents: “and represent it admirably, i am sure,” murmured anthony'], ['Chapter: 5', 'Sentence: 81', 'Contents: “amen,” murmured anthony'], ['Chapter: 5', 'Sentence: 84', 'Contents: “splendid,” said anthony'], ['Chapter: 5', 'Sentence: 88', 'Contents: “my dear baron,” protested anthony'], ['Chapter: 5', 'Sentence: 91', 'Contents: he fixed anthony with an accusing eye'], ['Chapter: 5', 'Sentence: 95', 'Contents: “most memoirs do that,” said anthony soothingly'], ['Chapter: 5', 'Sentence: 98', 'Contents: “come, come,” said anthony'], ['Chapter: 5', 'Sentence: 102', 'Contents: “i can quite believe,” said anthony, “that the obolovitch may have been a trifle high-handed now and again'], ['Chapter: 5', 'Sentence: 110', 'Contents: “what exactly are you afraid of?” asked anthony'], ['Chapter: 5', 'Sentence: 115', 'Contents: “look here,” said anthony kindly'], ['Chapter: 5', 'Sentence: 122', 'Contents: anthony was somewhat taken aback'], ['Chapter: 5', 'Sentence: 131', 'Contents: anthony stared at him in amazement, then shook his head ruefully'], ['Chapter: 5', 'Sentence: 145', 'Contents: at the end of anthony’s speech he nodded his head several times'], ['Chapter: 5', 'Sentence: 148', 'Contents: “well, we don’t put it that way ourselves,” said anthony'], ['Chapter: 5', 'Sentence: 155', 'Contents: “now i wonder what he meant by that,” mused anthony'], ['Chapter: 5', 'Sentence: 163', 'Contents: anthony had no intention of handing it over before the last moment'], ['Chapter: 5', 'Sentence: 176', 'Contents: the luck of the anthony cades of this world is perhaps in some measure due to their own belief in it'], ['Chapter: 5', 'Sentence: 177', 'Contents: anthony found what he was after not half an hour later, when he was turning over the pages of an illustrated paper'], ['Chapter: 5', 'Sentence: 183', 'Contents: anthony looked at the picture some time, slowly pursing up his lips, as though to whistle'], ['Chapter: 5', 'Sentence: 188', 'Contents: a man was standing in the doorway, the kind of man whom anthony had fondly imagined existed only in the chorus of a comic opera'], ['Chapter: 5', 'Sentence: 190', 'Contents: “what the devil are you doing here?” asked anthony'], ['Chapter: 5', 'Sentence: 194', 'Contents: “another dago,” thought anthony'], ['Chapter: 5', 'Sentence: 196', 'Contents: the man’s eyes were fixed on the packet of letters which anthony had caught up'], ['Chapter: 5', 'Sentence: 201', 'Contents: “it’s impossible to take you seriously,” said anthony'], ['Chapter: 5', 'Sentence: 218', 'Contents: anthony looked with some interest, not troubling to fulfil the latter part of the command'], ['Chapter: 5', 'Sentence: 224', 'Contents: “you don’t say so,” said anthony, looking at him with much interest'], ['Chapter: 5', 'Sentence: 233', 'Contents: “it’s very kind of them, i’m sure,” said anthony, “but i’m afraid that both they and you are labouring under a misapprehension'], ['Chapter: 5', 'Sentence: 240', 'Contents: but there he misjudged his anthony cade'], ['Chapter: 5', 'Sentence: 242', 'Contents: anthony did not wait to be covered by the revolver'], ['Chapter: 5', 'Sentence: 243', 'Contents: almost as soon as the other got it out of his pocket, anthony had sprung forward and knocked it out of his hand'], ['Chapter: 5', 'Sentence: 246', 'Contents: with one mighty, well-directed kick, anthony sent the man flying through the doorway into the corridor, where he collapsed in a heap'], ['Chapter: 5', 'Sentence: 247', 'Contents: anthony stepped out after him, but the doughty comrade of the red hand had had enough'], ['Chapter: 5', 'Sentence: 249', 'Contents: anthony did not pursue him, but went back into his own room'], ['Chapter: 5', 'Sentence: 258', 'Contents: looking at his watch, anthony discovered that it was nearly nine o’clock, and he decided to dine where he was'], ['Chapter: 5', 'Sentence: 265', 'Contents: anthony had strolled over to the mantelpiece'], ['Chapter: 5', 'Sentence: 268', 'Contents: shooting little glances sideways at anthony’s immovable back, he moved softly round the table'], ['Chapter: 5', 'Sentence: 270', 'Contents: anthony observed him more closely'], ['Chapter: 5', 'Sentence: 272', 'Contents: an italian, anthony thought, not a frenchman'], ['Chapter: 5', 'Sentence: 273', 'Contents: at the critical moment anthony wheeled round abruptly'], ['Chapter: 5', 'Sentence: 275', 'Contents: “what’s your name?” asked anthony abruptly'], ['Chapter: 5', 'Sentence: 279', 'Contents: anthony spoke to him in that language, and the man answered fluently enough'], ['Chapter: 5', 'Sentence: 280', 'Contents: finally anthony dismissed him with a nod, but all the while he was eating the excellent meal which giuseppe served to him, he was thinking rapidly'], ['Chapter: 5', 'Sentence: 283', 'Contents: it might be so, but remembering the feverish intensity of the man’s excitement, anthony decided against that theory'], ['Chapter: 5', 'Sentence: 285', 'Contents: “dash it all,” said anthony to himself, “every one can’t be after the blasted manuscript'], ['Chapter: 5', 'Sentence: 289', 'Contents: anthony’s yawns succeeded one another with suspicious rapidity'], ['Chapter: 5', 'Sentence: 301', 'Contents: with a sudden spring, anthony jumped out of bed, switching the light on as he did so'], ['Chapter: 5', 'Sentence: 305', 'Contents: he hurled himself straight upon anthony, who was by now fully conscious of his own danger'], ['Chapter: 5', 'Sentence: 307', 'Contents: anthony sprang to one side, and giuseppe missed him with the knife'], ['Chapter: 5', 'Sentence: 309', 'Contents: the whole of anthony’s faculties were centred on keeping a close grip of giuseppe’s right arm so that he would be unable to use the knife'], ['Chapter: 5', 'Sentence: 314', 'Contents: at the same time, the italian extricated himself with a swift twist from anthony’s grasp'], ['Chapter: 5', 'Sentence: 315', 'Contents: anthony sprang up too, but made the mistake of moving towards the door to cut off the other’s retreat'], ['Chapter: 5', 'Sentence: 318', 'Contents: in the instant’s respite given him by anthony’s move toward the door, he had sprung out on the balcony, leaped over to the adjoining balcony and had disappeared through the adjoining window'], ['Chapter: 5', 'Sentence: 319', 'Contents: anthony knew well enough that it was of no use to pursue him'], ['Chapter: 5', 'Sentence: 321', 'Contents: anthony would merely get himself into trouble'], ['Chapter: 6', 'Sentence: 82', 'Contents: anthony cade would have recognized it'], ['Chapter: 7', 'Sentence: 3', 'Contents: anthony realized very well that he could not pursue giuseppe through the corridors of the blitz hotel'], ['Chapter: 7', 'Sentence: 7', 'Contents: for this attempt anthony intended to be fully prepared'], ['Chapter: 7', 'Sentence: 9', 'Contents: supposing giuseppe to be an emissary of the comrades of the red hand, or, which seemed to anthony more probable, to be employed by the loyalist party, the letters could have no possible interest for either employer and he would probably jump at the chance of obtaining a small sum of money for their return'], ['Chapter: 7', 'Sentence: 10', 'Contents: having thought out all this, anthony returned to bed and slept peacefully until morning'], ['Chapter: 7', 'Sentence: 12', 'Contents: anthony got up with his plan of campaign fully thought out'], ['Chapter: 7', 'Sentence: 13', 'Contents: he had a good breakfast, glanced at the papers which were full of the new discoveries of oil in herzoslovakia, and then demanded an interview with the manager, and, being anthony cade, with a gift for getting his own way by means of quiet determination, he obtained what he asked for'], ['Chapter: 7', 'Sentence: 31', 'Contents: “nothing of—importance,” said anthony slowly'], ['Chapter: 7', 'Sentence: 37', 'Contents: anthony shrugged his shoulders'], ['Chapter: 7', 'Sentence: 46', 'Contents: “quite so,” agreed anthony'], ['Chapter: 7', 'Sentence: 63', 'Contents: in half an hour’s time, anthony returned to the office again to find that the manager had been as good as his word'], ['Chapter: 7', 'Sentence: 70', 'Contents: one fact struck anthony as being possibly of significance'], ['Chapter: 7', 'Sentence: 74', 'Contents: had his search of anthony’s suit-case been merely part of his habitual professional tactics'], ['Chapter: 7', 'Sentence: 75', 'Contents: he might just possibly have had the packet of letters in his hand at the moment when anthony switched on the light, and have shoved it into his pocket mechanically so as to have his hands free'], ['Chapter: 7', 'Sentence: 79', 'Contents: no, anthony felt convinced that giuseppe had been acting as a tool for some outside agency'], ['Chapter: 7', 'Sentence: 93', 'Contents: one of anthony’s first proceedings was to question some of the other waiters who had been friendly with giuseppe, but he obtained very little to go upon'], ['Chapter: 7', 'Sentence: 96', 'Contents: anthony took up the receiver'], ['Chapter: 7', 'Sentence: 106', 'Contents: “our worthy publishers,” thought anthony'], ['Chapter: 7', 'Sentence: 116', 'Contents: “well,” said anthony, “what about it'], ['Chapter: 7', 'Sentence: 126', 'Contents: “dear me,” said anthony'], ['Chapter: 7', 'Sentence: 131', 'Contents: “i doubt that,” said anthony'], ['Chapter: 7', 'Sentence: 138', 'Contents: “and supposing the gang does him in?” asked anthony'], ['Chapter: 7', 'Sentence: 142', 'Contents: anthony reflected for a minute or two'], ['Chapter: 7', 'Sentence: 157', 'Contents: anthony hung up the receiver with a thoughtful face'], ['Chapter: 7', 'Sentence: 161', 'Contents: “but i’ll get you, my lad,” murmured anthony, between his teeth'], ['Chapter: 7', 'Sentence: 168', 'Contents: anthony handed over the manuscript, and received in exchange a cheque for a thousand pounds'], ['Chapter: 7', 'Sentence: 169', 'Contents: mr. holmes packed up the manuscript in the small brown bag he carried, wished anthony good morning, and departed'], ['Chapter: 7', 'Sentence: 171', 'Contents: “but perhaps he’ll be murdered on the way there,” anthony murmured aloud, as he stared idly out of the window'], ['Chapter: 7', 'Sentence: 174', 'Contents: jimmy, who had been more or less in funds at the time of his encounter with anthony at bulawayo, had advanced him a substantial sum of money which was, as yet, practically untouched'], ['Chapter: 7', 'Sentence: 175', 'Contents: “if one’s job’s done with, the other isn’t,” said anthony to himself'], ['Chapter: 7', 'Sentence: 182', 'Contents: with a sigh, anthony produced yet another shilling'], ['Chapter: 7', 'Sentence: 183', 'Contents: the taxi groaned heavily and jumped forward with a hideous crashing of gears, and anthony opened the letter'], ['Chapter: 7', 'Sentence: 189', 'Contents: anthony enjoyed it very much'], ['Chapter: 7', 'Sentence: 195', 'Contents: mr. anthony cade might stay at the inn without anyone being the wiser'], ['Chapter: 7', 'Sentence: 199', 'Contents: having booked a room in the name of anthony cade, anthony passed into a dingy writing-room, took out a sheet of notepaper stamped with the legend hotel blitz, and wrote rapidly'], ['Chapter: 7', 'Sentence: 203', 'Contents: “and now,” said anthony, as he affixed the stamp to the envelope'], ['Chapter: 7', 'Sentence: 205', 'Contents: exit james mcgrath, and enter anthony cade'], ['Chapter: 8', 'Sentence: 213', 'Contents: my name’s anthony cade'], ['Chapter: 9', 'Sentence: 1', 'Contents:  anthony followed virginia out of the room, smiling a little to himself'], ['Chapter: 9', 'Sentence: 19', 'Contents: anthony nodded, but did not speak'], ['Chapter: 9', 'Sentence: 29', 'Contents: anthony pointed to the open window, as a loud backfire came from a passing car'], ['Chapter: 9', 'Sentence: 34', 'Contents: “he is an italian,” said anthony'], ['Chapter: 9', 'Sentence: 40', 'Contents: “no,” said anthony regretfully'], ['Chapter: 9', 'Sentence: 48', 'Contents: “that’s bad,” said anthony, but without manifesting any undue surprise'], ['Chapter: 9', 'Sentence: 60', 'Contents: anthony took out his handkerchief and wound it round his hand, then he picked up the pistol'], ['Chapter: 9', 'Sentence: 84', 'Contents: her astonishment was so genuine that anthony could but believe in it'], ['Chapter: 9', 'Sentence: 98', 'Contents: “the question is,” said anthony, “what are we going to do now'], ['Chapter: 9', 'Sentence: 106', 'Contents: anthony ran rapidly through the dead man’s pockets'], ['Chapter: 9', 'Sentence: 123', 'Contents: anthony wheeled round on her'], ['Chapter: 9', 'Sentence: 127', 'Contents: anthony stared at her'], ['Chapter: 9', 'Sentence: 133', 'Contents: anthony did not smile'], ['Chapter: 9', 'Sentence: 147', 'Contents: anthony heard a rapid colloquy, and then the front door opened and shut'], ['Chapter: 9', 'Sentence: 153', 'Contents: “good,” said anthony approvingly'], ['Chapter: 9', 'Sentence: 159', 'Contents: anthony selected a solid affair of suitable size'], ['Chapter: 9', 'Sentence: 163', 'Contents: she slipped out of her tennis kit, put on a soft brown travelling dress and a delightful little orange hat, and came down to find anthony waiting in the hall with a neatly strapped trunk beside him'], ['Chapter: 9', 'Sentence: 175', 'Contents: “i like it,” returned anthony nonchalantly'], ['Chapter: 9', 'Sentence: 180', 'Contents: anthony returned her glance keenly'], ['Chapter: 9', 'Sentence: 192', 'Contents: anthony, having picked up a second taxi, was on the platform and duly retrieved the fallen ticket'], ['Chapter: 9', 'Sentence: 195', 'Contents: anthony drove off'], ['Chapter: 9', 'Sentence: 200', 'Contents: anthony stopped the car at a certain spot'], ['Chapter: 9', 'Sentence: 207', 'Contents: it was something of a feat, even for anthony'], ['Chapter: 9', 'Sentence: 209', 'Contents: “a very clever way of disposing of the pistol,” said anthony to himself with some approval'], ['Chapter: 9', 'Sentence: 225', 'Contents: anthony was on the terrace now, looking up at the house'], ['Chapter: 9', 'Sentence: 229', 'Contents: anthony spun round quickly'], ['Chapter: 11', 'Sentence: 127', 'Contents: “at the inn he gave the name of anthony cade'], ['Chapter: 11', 'Sentence: 128', 'Contents: “this anthony cade must be pursued at once, and arrested'], ['Chapter: 11', 'Sentence: 149', 'Contents: “his name, sir, is mr. anthony cade, but he said it wouldn’t convey anything to anybody'], ['Chapter: 12', 'Sentence: 1', 'Contents:  “mr. anthony cade,” announced tredwell'], ['Chapter: 12', 'Sentence: 2', 'Contents: “enter suspicious stranger from village inn,” said anthony'], ['Chapter: 12', 'Sentence: 7', 'Contents: “i must apologize,” continued anthony, still addressing lord caterham'], ['Chapter: 12', 'Sentence: 15', 'Contents: “thank you,” said anthony'], ['Chapter: 12', 'Sentence: 18', 'Contents: “i mean,” said anthony, “that i was trespassing upon lord caterham’s property (for which i hope he will forgive me) last night at about 11'], ['Chapter: 12', 'Sentence: 30', 'Contents: anthony’s eyes twinkled a little'], ['Chapter: 12', 'Sentence: 34', 'Contents: he was beginning to take a fancy to anthony'], ['Chapter: 12', 'Sentence: 37', 'Contents: anthony looked sharply at george'], ['Chapter: 12', 'Sentence: 40', 'Contents: “i think, mr. lomax,” said anthony, “that i had the pleasure of receiving a letter from you yesterday'], ['Chapter: 12', 'Sentence: 50', 'Contents: “well,” said anthony regretfully'], ['Chapter: 12', 'Sentence: 54', 'Contents: lord caterham nodded, and anthony lit a cigarette, and braced himself for the ordeal'], ['Chapter: 12', 'Sentence: 60', 'Contents: “south america,” thought anthony to himself, “simply isn’t in it with this'], ['Chapter: 12', 'Sentence: 63', 'Contents: “the story begins,” said anthony, “about three weeks ago—in bulawayo'], ['Chapter: 12', 'Sentence: 87', 'Contents: anthony paused'], ['Chapter: 12', 'Sentence: 95', 'Contents: “in this letter,” continued anthony, unmoved, “mr. lomax made various suggestions concerning the manuscript in my charge'], ['Chapter: 12', 'Sentence: 100', 'Contents: superintendent battle bent an unmoved eye upon anthony'], ['Chapter: 12', 'Sentence: 102', 'Contents: “certainly not,” said anthony warmly'], ['Chapter: 12', 'Sentence: 118', 'Contents: “of course,” continued anthony, “the word chimneys might have nothing whatever to do with this house'], ['Chapter: 12', 'Sentence: 146', 'Contents: he turned to anthony'], ['Chapter: 12', 'Sentence: 151', 'Contents: anthony whistled'], ['Chapter: 12', 'Sentence: 153', 'Contents: superintendent battle, who had been watching anthony closely, gave a short grunt as though satisfied of something, and rose abruptly to his feet'], ['Chapter: 12', 'Sentence: 158', 'Contents: anthony and the detective went out together'], ['Chapter: 12', 'Sentence: 162', 'Contents: anthony looked around him with approval'], ['Chapter: 12', 'Sentence: 165', 'Contents: “did it seem to you at first it was in this room the shot was fired?” asked the superintendent, not replying to anthony’s eulogium'], ['Chapter: 12', 'Sentence: 167', 'Contents: anthony opened the window and went out on the terrace, looking up at the house'], ['Chapter: 12', 'Sentence: 189', 'Contents: “whew!” said anthony, sinking down on the window seat, and taking out his cigarette case'], ['Chapter: 12', 'Sentence: 196', 'Contents: anthony looked at him keenly'], ['Chapter: 12', 'Sentence: 202', 'Contents: “i congratulate scotland yard,” said anthony lightly'], ['Chapter: 12', 'Sentence: 203', 'Contents: but at that moment, the moment when battle apparently admitted anthony’s complete absence of complicity in the crime, anthony felt more than ever the need of being upon his guard'], ['Chapter: 12', 'Sentence: 206', 'Contents: “that’s where it happened, i suppose?” said anthony, nodding towards the dark patch upon the floor'], ['Chapter: 12', 'Sentence: 215', 'Contents: and, as he did so, he again watched anthony closely without seeming to do so'], ['Chapter: 12', 'Sentence: 216', 'Contents: but anthony recognized the design upon it without any sign of consternation'], ['Chapter: 12', 'Sentence: 224', 'Contents: anthony recounted to him in detail his short encounter with that public-spirited association'], ['Chapter: 12', 'Sentence: 235', 'Contents: anthony looked suddenly amused'], ['Chapter: 12', 'Sentence: 242', 'Contents: “none whatever,” rejoined anthony'], ['Chapter: 12', 'Sentence: 243', 'Contents: battle took a key from his pocket, and preceding anthony down the corridor, paused at a door and unlocked it'], ['Chapter: 12', 'Sentence: 246', 'Contents: superintendent battle waited until anthony was beside him, and then whisked away the sheet suddenly'], ['Chapter: 12', 'Sentence: 249', 'Contents: “i’ve seen him before, yes,” said anthony, recovering himself'], ['Chapter: 13', 'Sentence: 2', 'Contents: anthony stood with his hands in his pockets lost in thought'], ['Chapter: 13', 'Sentence: 9', 'Contents: “it isn’t the thousand pounds so much,” said anthony, “though i agree with you that it’s a nice sum of money'], ['Chapter: 13', 'Sentence: 14', 'Contents: “well, well,” said anthony'], ['Chapter: 13', 'Sentence: 25', 'Contents: anthony eyed him keenly'], ['Chapter: 13', 'Sentence: 36', 'Contents: enjoining silence on anthony with a gesture, he tiptoed noiselessly to the door, and flung it suddenly open'], ['Chapter: 13', 'Sentence: 41', 'Contents: “i have not that honour,” said anthony'], ['Chapter: 13', 'Sentence: 79', 'Contents: “mine,” explained anthony cheerfully'], ['Chapter: 13', 'Sentence: 86', 'Contents: this was such a ludicrous description of lord caterham that anthony had to turn his head away to conceal a smile'], ['Chapter: 13', 'Sentence: 90', 'Contents: anthony had been anticipating this meeting all along'], ['Chapter: 13', 'Sentence: 99', 'Contents: “he’s a very old friend,” said virginia, smiling at anthony with a mischievous glint in her eye'], ['Chapter: 13', 'Sentence: 101', 'Contents: anthony was quick to give her her pointer'], ['Chapter: 13', 'Sentence: 110', 'Contents: anthony realized the altered tone of his surroundings'], ['Chapter: 13', 'Sentence: 115', 'Contents: “i’ll send for your traps,” said lord caterham to anthony'], ['Chapter: 13', 'Sentence: 137', 'Contents: “i appreciate your kindness very much, lord caterham,” said anthony'], ['Chapter: 13', 'Sentence: 141', 'Contents: “it won’t be so difficult to keep an eye on me,” explained anthony gently'], ['Chapter: 14', 'Sentence: 2', 'Contents: if he had been surprised at virginia’s recognition of anthony, he did not show it'], ['Chapter: 14', 'Sentence: 35', 'Contents: “now what do you really think of this young fellow—this anthony cade?” continued george'], ['Chapter: 15', 'Sentence: 1', 'Contents:  virginia and anthony walked side by side down the path which led to the lake'], ['Chapter: 15', 'Sentence: 9', 'Contents: “i suppose it’s quite a novel sensation for you,” agreed anthony'], ['Chapter: 15', 'Sentence: 13', 'Contents: briefly and succinctly, anthony ran over the steps he had taken on the previous night'], ['Chapter: 15', 'Sentence: 27', 'Contents: anthony did not reply at once'], ['Chapter: 15', 'Sentence: 29', 'Contents: “i don’t know about that,” said anthony slowly'], ['Chapter: 15', 'Sentence: 35', 'Contents: anthony darted a sharp glance at her'], ['Chapter: 15', 'Sentence: 63', 'Contents: “good lord, no,” said anthony, horrified'], ['Chapter: 15', 'Sentence: 71', 'Contents: “something of the kind,” admitted anthony'], ['Chapter: 15', 'Sentence: 95', 'Contents: “and now for the whole story,” said anthony'], ['Chapter: 15', 'Sentence: 99', 'Contents: to begin with, which are you really, anthony cade or jimmy mcgrath'], ['Chapter: 15', 'Sentence: 100', 'Contents: for the second time that morning, anthony unfolded the history of the last six weeks of his life—with this difference that the account given to virginia needed no editing'], ['Chapter: 15', 'Sentence: 109', 'Contents: “i think you’re right,” agreed anthony'], ['Chapter: 15', 'Sentence: 121', 'Contents: “well, his plan seems to have succeeded, anyhow,” observed anthony'], ['Chapter: 15', 'Sentence: 126', 'Contents: “oh, yes, i could,” said anthony, smiling'], ['Chapter: 15', 'Sentence: 129', 'Contents: but anthony was shaking his head vigorously'], ['Chapter: 15', 'Sentence: 138', 'Contents: anthony lit a cigarette'], ['Chapter: 15', 'Sentence: 159', 'Contents: “i suppose they might have done so,” said anthony in a dissatisfied voice'], ['Chapter: 15', 'Sentence: 164', 'Contents: anthony paddled to shore and a few moments later they had joined lord caterham and his daughter'], ['Chapter: 15', 'Sentence: 169', 'Contents: bundle looked earnestly at anthony for some minutes, and then addressed a remark to virginia as though he had not been there'], ['Chapter: 15', 'Sentence: 177', 'Contents: “talk?” said anthony'], ['Chapter: 15', 'Sentence: 194', 'Contents: “mademoiselle brun,” said anthony thoughtfully'], ['Chapter: 15', 'Sentence: 198', 'Contents: “ha!” said anthony'], ['Chapter: 15', 'Sentence: 211', 'Contents: anthony recognized the former, and guessed that it was he—rather than the vehicle which contained him—that had wrung the exclamation of astonishment from his companion’s lips'], ['Chapter: 15', 'Sentence: 222', 'Contents: anthony stood looking after her for a minute or two and thoughtfully lighted a cigarette'], ['Chapter: 15', 'Sentence: 226', 'Contents: “now i wonder—i very much wonder who’s behind the boat-house,” said anthony to himself'], ['Chapter: 15', 'Sentence: 232', 'Contents: “what are you doing here?” asked anthony'], ['Chapter: 15', 'Sentence: 237', 'Contents: “certainly,” said anthony'], ['Chapter: 15', 'Sentence: 240', 'Contents: “i said,” repeated anthony, with a meaning glance at the boat-house, “that you won’t get there by water'], ['Chapter: 15', 'Sentence: 246', 'Contents: anthony refrained from pointing out that kneeling behind a boat-house was a somewhat peculiar manner of prosecuting inquiries'], ['Chapter: 15', 'Sentence: 255', 'Contents: “don’t mention it,” said anthony'], ['Chapter: 15', 'Sentence: 258', 'Contents: “from kneeling on the damp ground, i mean,” explained anthony'], ['Chapter: 15', 'Sentence: 261', 'Contents: “quite so,” said anthony'], ['Chapter: 15', 'Sentence: 268', 'Contents: “second suspicious stranger from village inn,” murmured anthony to himself, as he watched the other’s retreating form'], ['Chapter: 15', 'Sentence: 276', 'Contents: musing thus, anthony retraced his steps to the house'], ['Chapter: 15', 'Sentence: 278', 'Contents: he brightened a little at the sight of anthony'], ['Chapter: 15', 'Sentence: 281', 'Contents: mr. anthony cade'], ['Chapter: 15', 'Sentence: 282', 'Contents: the baron stared at anthony with growing suspicion'], ['Chapter: 15', 'Sentence: 285', 'Contents: “a word alone with you, baron,” said anthony'], ['Chapter: 15', 'Sentence: 288', 'Contents: “baron,” said anthony'], ['Chapter: 15', 'Sentence: 302', 'Contents: “he did it jolly well,” said anthony, with approval'], ['Chapter: 15', 'Sentence: 306', 'Contents: “no professional could have pinched those papers better,” said anthony'], ['Chapter: 15', 'Sentence: 309', 'Contents: “you are too kind, baron,” murmured anthony'], ['Chapter: 15', 'Sentence: 316', 'Contents: “i see,” said anthony'], ['Chapter: 15', 'Sentence: 320', 'Contents: “h’m!” said anthony'], ['Chapter: 15', 'Sentence: 327', 'Contents: “exactly,” said anthony'], ['Chapter: 15', 'Sentence: 336', 'Contents: “i think i am answered,” said anthony, smiling'], ['Chapter: 15', 'Sentence: 349', 'Contents: anthony, who had not yet seen the great mr. herman isaacstein, looked at him with considerable interest'], ['Chapter: 15', 'Sentence: 353', 'Contents: anthony tactfully left the two gentlemen to their lamentations, and retraced his steps along the terrace'], ['Chapter: 15', 'Sentence: 356', 'Contents: “it must be hollow in the middle,” reflected anthony'], ['Chapter: 15', 'Sentence: 361', 'Contents: anthony bent down and wriggled his way through the massive yew'], ['Chapter: 15', 'Sentence: 366', 'Contents: anthony looked down the narrow vista'], ['Chapter: 15', 'Sentence: 369', 'Contents: “h’m!” said anthony to himself'], ['Chapter: 16', 'Sentence: 1', 'Contents:  anthony regained the terrace with the feeling uppermost in his mind that the only safe place for private conversations was the middle of the lake'], ['Chapter: 16', 'Sentence: 13', 'Contents: now he laid a restraining hand on anthony’s arm'], ['Chapter: 16', 'Sentence: 31', 'Contents: virginia put her hand on anthony’s arm, and drew him back a little'], ['Chapter: 16', 'Sentence: 34', 'Contents: “well?” demanded anthony eagerly'], ['Chapter: 16', 'Sentence: 40', 'Contents: anthony was deeply chagrined'], ['Chapter: 16', 'Sentence: 56', 'Contents: “thank god that’s over,” murmured bundle to anthony, as they left the table'], ['Chapter: 16', 'Sentence: 58', 'Contents: “that will possibly relieve the atmosphere,” agreed anthony'], ['Chapter: 16', 'Sentence: 64', 'Contents: “mr. fish,” said anthony, “had quite a peaceful morning'], ['Chapter: 16', 'Sentence: 68', 'Contents: bundle had drifted on, and the american and anthony were left together'], ['Chapter: 16', 'Sentence: 71', 'Contents: “any amount of it,” said anthony'], ['Chapter: 16', 'Sentence: 77', 'Contents: “he was staying here as count stanislaus,” replied anthony evasively'], ['Chapter: 16', 'Sentence: 82', 'Contents: “scotland yard thinks so,” replied anthony dryly'], ['Chapter: 16', 'Sentence: 86', 'Contents: he darted a very sharp look at anthony as he spoke'], ['Chapter: 16', 'Sentence: 95', 'Contents: “it was,” said anthony, looking straight in front of him'], ['Chapter: 16', 'Sentence: 114', 'Contents: “no force required,” anthony assured her'], ['Chapter: 16', 'Sentence: 118', 'Contents: “there’s just one question i’d like to ask you,” said anthony as he paddled gently out from the shore, “before we turn to really interesting topics'], ['Chapter: 16', 'Sentence: 126', 'Contents: “we’ll assume the agency,” said anthony'], ['Chapter: 16', 'Sentence: 135', 'Contents: “h’m!” said anthony'], ['Chapter: 16', 'Sentence: 148', 'Contents: anthony laughed'], ['Chapter: 16', 'Sentence: 165', 'Contents: but anthony had raised himself on his elbow, and was staring at the shore'], ['Chapter: 16', 'Sentence: 181', 'Contents: anthony pulled obediently towards the shore'], ['Chapter: 16', 'Sentence: 187', 'Contents: “i’m rather fond of children,” said anthony'], ['Chapter: 16', 'Sentence: 190', 'Contents: having relinquished bundle to the care of her gallant captain, anthony strolled off to where various shrill cries disturbed the peace of the afternoon'], ['Chapter: 16', 'Sentence: 193', 'Contents: “rather,” said anthony'], ['Chapter: 16', 'Sentence: 199', 'Contents: anthony obliged with a blood-curdling noise'], ['Chapter: 16', 'Sentence: 201', 'Contents: about an hour later, anthony wiped his forehead, and ventured to inquire after mademoiselle’s  migraine '], ['Chapter: 16', 'Sentence: 206', 'Contents: “it’s in my suit-case,” said anthony solemnly'], ['Chapter: 16', 'Sentence: 212', 'Contents: anthony swore solemnly that nothing should prevent his keeping the engagement'], ['Chapter: 16', 'Sentence: 214', 'Contents: anthony stood for a minute looking after them, and, as he did so, he became aware of a man leaving the other side of a little copse of trees and hurrying away across the park'], ['Chapter: 16', 'Sentence: 217', 'Contents: he stared slightly when he saw anthony'], ['Chapter: 16', 'Sentence: 225', 'Contents: anthony stood in a brown study and awoke with a start to the fact that superintendent battle was standing beside him'], ['Chapter: 16', 'Sentence: 227', 'Contents: “where did you spring from?” asked anthony irritably'], ['Chapter: 16', 'Sentence: 229', 'Contents: “it seems a popular spot this afternoon,” remarked anthony'], ['Chapter: 16', 'Sentence: 256', 'Contents: “well, well,” said anthony, “i expect you’ll take your precautions'], ['Chapter: 16', 'Sentence: 270', 'Contents: “well,” said anthony slowly, “i don’t mind admitting that i’ve always wanted to try my hand at unravelling a murder mystery'], ['Chapter: 16', 'Sentence: 272', 'Contents: “plenty of them,” said anthony'], ['Chapter: 16', 'Sentence: 280', 'Contents: “and where is he at the present moment?” asked anthony, turning away to light a cigarette'], ['Chapter: 16', 'Sentence: 285', 'Contents: anthony gave vent to a surprised whistle'], ['Chapter: 16', 'Sentence: 286', 'Contents: “i get you,” said anthony'], ['Chapter: 16', 'Sentence: 295', 'Contents: “h’m!” said anthony'], ['Chapter: 16', 'Sentence: 298', 'Contents: “international politics are very fascinating,” said anthony, “but i fear i must leave you'], ['Chapter: 16', 'Sentence: 304', 'Contents: for the first time, anthony felt a qualm'], ['Chapter: 16', 'Sentence: 307', 'Contents: “i believe,” said anthony to himself, “i’m making the most utter fool of myself'], ['Chapter: 16', 'Sentence: 311', 'Contents: but that evening, alone in the charming bedchamber that had been allotted to him, anthony shook his head several times'], ['Chapter: 16', 'Sentence: 317', 'Contents: began anthony'], ['Chapter: 16', 'Sentence: 321', 'Contents: “who the devil are you?” asked anthony, staring at him'], ['Chapter: 16', 'Sentence: 329', 'Contents: “it’s very kind of you,” said anthony'], ['Chapter: 16', 'Sentence: 339', 'Contents: stepping quickly forward, he dropped on one knee, caught anthony’s hand and placed it on his forehead'], ['Chapter: 16', 'Sentence: 341', 'Contents: anthony stared after him, his face a picture of astonishment'], ['Chapter: 17', 'Sentence: 5', 'Contents: immediately after the inquest, anthony took an unostentatious departure'], ['Chapter: 18', 'Sentence: 1', 'Contents:  the first person that anthony saw as he alighted from his train on the following afternoon was superintendent battle'], ['Chapter: 18', 'Sentence: 17', 'Contents: “you’re so chatty,” remarked anthony'], ['Chapter: 18', 'Sentence: 48', 'Contents: “i must admit,” said anthony, “that as soon as i spoke to her i had an uneasy conviction that i was barking up the wrong tree'], ['Chapter: 18', 'Sentence: 57', 'Contents: “don’t look so hard at mine, battle,” complained anthony'], ['Chapter: 18', 'Sentence: 65', 'Contents: there was something so sharp and sudden about the way the detective put the question that anthony half checked the words that were rising to his lips'], ['Chapter: 18', 'Sentence: 75', 'Contents: “the plot thickens,” said anthony lightly'], ['Chapter: 18', 'Sentence: 85', 'Contents: “staines?” said anthony'], ['Chapter: 18', 'Sentence: 92', 'Contents: “i did see something about it,” said anthony carelessly'], ['Chapter: 18', 'Sentence: 97', 'Contents: “you seem very interested,” said anthony, smiling'], ['Chapter: 18', 'Sentence: 105', 'Contents: anthony drew a faint sigh of relief'], ['Chapter: 18', 'Sentence: 114', 'Contents: anthony found the question very hard to determine'], ['Chapter: 18', 'Sentence: 120', 'Contents: anthony was determined to find that out as soon as possible'], ['Chapter: 18', 'Sentence: 124', 'Contents: “hullo, tredwell,” said anthony'], ['Chapter: 18', 'Sentence: 137', 'Contents: “not a word,” said anthony'], ['Chapter: 18', 'Sentence: 145', 'Contents: “that’s very extraordinary,” said anthony'], ['Chapter: 18', 'Sentence: 158', 'Contents: “yes,” said anthony'], ['Chapter: 18', 'Sentence: 162', 'Contents: “is there anyone about here who collects armour?” asked anthony'], ['Chapter: 18', 'Sentence: 167', 'Contents: “i don’t quite understand,” said anthony'], ['Chapter: 18', 'Sentence: 174', 'Contents: “superintendent battle has something up his sleeve,” said anthony thoughtfully'], ['Chapter: 18', 'Sentence: 194', 'Contents: she smiled a welcome at anthony'], ['Chapter: 18', 'Sentence: 200', 'Contents: “and in the meantime,” said anthony, “the thug——'], ['Chapter: 18', 'Sentence: 205', 'Contents: then she came and sat down near anthony'], ['Chapter: 18', 'Sentence: 212', 'Contents: having paddled out a sufficient distance, the full story of last night’s adventure was related to anthony'], ['Chapter: 18', 'Sentence: 215', 'Contents: “it’s very odd,” said anthony, when the story was finished'], ['Chapter: 18', 'Sentence: 226', 'Contents: “it can’t be the memoirs,” said anthony'], ['Chapter: 18', 'Sentence: 232', 'Contents: “you say there was only one man,” pursued anthony, “but that there might possibly be another, as you thought you heard some one going towards the door as you sprang to the window'], ['Chapter: 18', 'Sentence: 251', 'Contents: “it’s a mix up,” confessed anthony'], ['Chapter: 18', 'Sentence: 274', 'Contents: they were all armed with powerful electric torches, and in the pocket of anthony’s coat lay a revolver'], ['Chapter: 18', 'Sentence: 275', 'Contents: anthony had said that he believed another attempt to resume the search would be made'], ['Chapter: 18', 'Sentence: 281', 'Contents: anthony felt stiff and cramped'], ['Chapter: 18', 'Sentence: 305', 'Contents: the stranger sprang round, and in the same minute anthony acted'], ['Chapter: 18', 'Sentence: 308', 'Contents: “lights,” shouted anthony'], ['Chapter: 18', 'Sentence: 311', 'Contents: anthony was on top of his man, bill leant down to give him a hand'], ['Chapter: 18', 'Sentence: 312', 'Contents: “and now,” said anthony, “let’s see who you are, my fine fellow'], ['Chapter: 18', 'Sentence: 318', 'Contents: “i thought you were in london, superintendent battle,” said anthony'], ['Chapter: 18', 'Sentence: 322', 'Contents: “and it has been,” agreed anthony, looking down at his prostrate foe'], ['Chapter: 18', 'Sentence: 326', 'Contents: anthony kindly hauled him on to his legs'], ['Chapter: 19', 'Sentence: 36', 'Contents: “what about refreshments?” said anthony'], ['Chapter: 19', 'Sentence: 41', 'Contents: “then i’ll go and forage,” said anthony'], ['Chapter: 19', 'Sentence: 112', 'Contents: anthony leapt to his feet'], ['Chapter: 19', 'Sentence: 121', 'Contents: “he probably went abroad,” said anthony thoughtfully'], ['Chapter: 19', 'Sentence: 140', 'Contents: anthony lit a cigarette'], ['Chapter: 19', 'Sentence: 145', 'Contents: “i wasn’t suggesting such a thing for a minute,” said anthony'], ['Chapter: 19', 'Sentence: 162', 'Contents: “i beg your pardon,” said anthony quietly'], ['Chapter: 19', 'Sentence: 178', 'Contents: “is he in england, then?” asked anthony sharply'], ['Chapter: 19', 'Sentence: 188', 'Contents: “where?” said anthony'], ['Chapter: 19', 'Sentence: 193', 'Contents: there was sheer amazement in anthony’s tone'], ['Chapter: 19', 'Sentence: 197', 'Contents: the match-box fell from anthony’s hand, but his amazement was fully equalled by that of battle'], ['Chapter: 19', 'Sentence: 261', 'Contents: but anthony was smiling'], ['Chapter: 19', 'Sentence: 269', 'Contents: “i don’t know,” said anthony lightly'], ['Chapter: 19', 'Sentence: 283', 'Contents: anthony stayed at the window looking after the retreating form of m. lemoine'], ['Chapter: 19', 'Sentence: 285', 'Contents: “i don’t know that i wouldn’t,” said anthony thoughtfully'], ['Chapter: 20', 'Sentence: 1', 'Contents:  anthony said nothing'], ['Chapter: 20', 'Sentence: 5', 'Contents: anthony stirred'], ['Chapter: 20', 'Sentence: 8', 'Contents: anthony left the window'], ['Chapter: 20', 'Sentence: 15', 'Contents: “i think so too,” said anthony'], ['Chapter: 20', 'Sentence: 19', 'Contents: “yes,” said anthony'], ['Chapter: 20', 'Sentence: 25', 'Contents: “you live up to it, certainly,” said anthony'], ['Chapter: 20', 'Sentence: 29', 'Contents: anthony pulled up two of the chairs, both men sat down, and anthony recounted the events of the preceding thursday night'], ['Chapter: 20', 'Sentence: 31', 'Contents: there was a far-off twinkle in his eyes as anthony finished'], ['Chapter: 20', 'Sentence: 35', 'Contents: “very delicately put,” said anthony'], ['Chapter: 20', 'Sentence: 38', 'Contents: “it’s rather difficult to explain,” said anthony'], ['Chapter: 20', 'Sentence: 50', 'Contents: “but you accept it quite easily?” said anthony, looking curiously at him'], ['Chapter: 20', 'Sentence: 61', 'Contents: “i’d rather like to ask you one question,” continued anthony'], ['Chapter: 20', 'Sentence: 69', 'Contents: “i’m glad of that,” said anthony'], ['Chapter: 20', 'Sentence: 79', 'Contents: “in the meantime,” said anthony, “i am still the amateur assistant'], ['Chapter: 20', 'Sentence: 85', 'Contents: “in what way?” asked anthony curiously'], ['Chapter: 20', 'Sentence: 88', 'Contents: anthony looked at him for some minutes in silence'], ['Chapter: 20', 'Sentence: 96', 'Contents: “have you ever found the revolver?” asked anthony suddenly'], ['Chapter: 20', 'Sentence: 106', 'Contents: “what’s your theory of the killing of giuseppe?” asked anthony'], ['Chapter: 20', 'Sentence: 111', 'Contents: “i know,” said anthony'], ['Chapter: 20', 'Sentence: 126', 'Contents: “i had a theory,” said anthony'], ['Chapter: 20', 'Sentence: 133', 'Contents: “that’s very kind of him,” said anthony'], ['Chapter: 20', 'Sentence: 145', 'Contents: “in here?” said anthony, jerking his head back'], ['Chapter: 20', 'Sentence: 148', 'Contents: “i suppose,” said anthony, “that you’ve got a plan in that subtle head of yours'], ['Chapter: 20', 'Sentence: 152', 'Contents: “want my help?” asked anthony'], ['Chapter: 20', 'Sentence: 158', 'Contents: “i’ve noticed it all right,” said anthony'], ['Chapter: 20', 'Sentence: 171', 'Contents: anthony dropped into a chair, the letters in his hand'], ['Chapter: 21', 'Sentence: 190', 'Contents: she understood what anthony had meant when he said there were no flies on superintendent battle'], ['Chapter: 21', 'Sentence: 212', 'Contents: she hoped that anthony might appear and join her'], ['Chapter: 22', 'Sentence: 5', 'Contents: on the desk, in front of george, was the packet of letters anthony had found on his dressing-table'], ['Chapter: 22', 'Sentence: 10', 'Contents: battle repeated, word for word, anthony cade’s account of how he had come to regain possession of the letters'], ['Chapter: 22', 'Sentence: 84', 'Contents: on the way back, he passed anthony on the road and stopped'], ['Chapter: 22', 'Sentence: 85', 'Contents: “going to give me a lift back to the house?” asked anthony'], ['Chapter: 22', 'Sentence: 91', 'Contents: “not just at present,” laughed anthony'], ['Chapter: 22', 'Sentence: 98', 'Contents: “so do i,” agreed anthony'], ['Chapter: 22', 'Sentence: 103', 'Contents: he jumped out of the car, much to anthony’s surprise'], ['Chapter: 22', 'Sentence: 109', 'Contents: anthony gazed at him in great surprise'], ['Chapter: 22', 'Sentence: 131', 'Contents: “all right,” said anthony'], ['Chapter: 22', 'Sentence: 136', 'Contents: “wonderful eyes you have, haven’t you, battle?” said anthony as he departed on his errand'], ['Chapter: 22', 'Sentence: 149', 'Contents: “nothing fits in anywhere,” said anthony discontentedly'], ['Chapter: 22', 'Sentence: 161', 'Contents: “only if they’re exceptionally beautiful,” admitted anthony'], ['Chapter: 22', 'Sentence: 165', 'Contents: anthony was staring at a figure which detached itself from the clump of trees and stood there rigidly at attention'], ['Chapter: 22', 'Sentence: 167', 'Contents: “excuse me,” said anthony to virginia, “i must just speak to my dog a minute'], ['Chapter: 22', 'Sentence: 174', 'Contents: without a word, boris produced a soiled scrap of paper, evidently torn from a letter, and handed it to anthony'], ['Chapter: 22', 'Sentence: 175', 'Contents: “what’s this?” said anthony'], ['Chapter: 22', 'Sentence: 183', 'Contents: “well, anyway, go away now,” said anthony'], ['Chapter: 22', 'Sentence: 186', 'Contents: anthony rejoined virginia, thrusting the piece of paper into his pocket'], ['Chapter: 22', 'Sentence: 189', 'Contents: “because he acts like one,” said anthony, answering the last question first'], ['Chapter: 22', 'Sentence: 194', 'Contents: “he’s always following me round,” continued anthony'], ['Chapter: 22', 'Sentence: 201', 'Contents: “isaacstein,” muttered anthony impatiently'], ['Chapter: 22', 'Sentence: 212', 'Contents: “there are some people,” said anthony, breaking the silence, “who don’t conform to the signals'], ['Chapter: 22', 'Sentence: 244', 'Contents: “there’s always a way out,” said anthony gloomily'], ['Chapter: 22', 'Sentence: 252', 'Contents: “i was brought up to a trade, you know,” continued anthony'], ['Chapter: 22', 'Sentence: 258', 'Contents: “you’re a very unusual woman,” said anthony suddenly, turning and looking at her'], ['Chapter: 22', 'Sentence: 265', 'Contents: “you understand well enough, i dare say,” said anthony, breaking the silence'], ['Chapter: 22', 'Sentence: 279', 'Contents: anthony looked at her'], ['Chapter: 22', 'Sentence: 322', 'Contents: battle went round to the front of the house, and a few minutes later anthony and virginia heard the sound of a car driving away'], ['Chapter: 22', 'Sentence: 329', 'Contents: virginia stretched out a hand, and anthony read it over her shoulder'], ['Chapter: 22', 'Sentence: 337', 'Contents: “s.?” said anthony'], ['Chapter: 22', 'Sentence: 343', 'Contents: “it’s a favourite spot for royalties,” agreed anthony'], ['Chapter: 22', 'Sentence: 367', 'Contents: “no, thanks,” said anthony'], ['Chapter: 22', 'Sentence: 372', 'Contents: “the latter,” said anthony'], ['Chapter: 23', 'Sentence: 2', 'Contents: 30 a little party met together in the council chamber: bundle, virginia, superintendent battle, m. lemoine and anthony cade'], ['Chapter: 23', 'Sentence: 51', 'Contents: “say it in bricks,” suggested anthony'], ['Chapter: 23', 'Sentence: 77', 'Contents: “mean?” said anthony'], ['Chapter: 23', 'Sentence: 94', 'Contents: 2,” said anthony'], ['Chapter: 23', 'Sentence: 136', 'Contents: anthony put a hand on lemoine’s arm'], ['Chapter: 23', 'Sentence: 140', 'Contents: when they had gone a sufficient distance from the house, anthony drew from his pocket the scrap of paper that boris had given him that morning'], ['Chapter: 23', 'Sentence: 157', 'Contents: he handed the paper back to anthony'], ['Chapter: 23', 'Sentence: 159', 'Contents: anthony shrugged his shoulders'], ['Chapter: 23', 'Sentence: 173', 'Contents: “good lord,” said anthony, “you have got it badly'], ['Chapter: 23', 'Sentence: 179', 'Contents: “think you’ll do it?” asked anthony, lighting a cigarette'], ['Chapter: 23', 'Sentence: 181', 'Contents: “h’m!” said anthony'], ['Chapter: 23', 'Sentence: 184', 'Contents: “look at poor old battle,” said anthony'], ['Chapter: 23', 'Sentence: 188', 'Contents: “well,” said anthony, “in your place, i should have been inclined to note down that address that i showed you'], ['Chapter: 23', 'Sentence: 194', 'Contents: “i apologize,” said anthony'], ['Chapter: 23', 'Sentence: 202', 'Contents: “very trying,” sympathized anthony'], ['Chapter: 23', 'Sentence: 207', 'Contents: “i’ve an idea that the third footman doesn’t like me,” replied anthony lightly'], ['Chapter: 23', 'Sentence: 213', 'Contents: without answering battle took a folded sheet of cheap notepaper from his pocket, and handed it to anthony'], ['Chapter: 23', 'Sentence: 216', 'Contents: anthony handed it back with a light laugh'], ['Chapter: 23', 'Sentence: 224', 'Contents: “things are getting serious,” said anthony to himself'], ['Chapter: 23', 'Sentence: 240', 'Contents: just as anthony reached it, he stopped dead and stared at another occupant of the rose garden who seemed equally surprised to see him'], ['Chapter: 23', 'Sentence: 241', 'Contents: “i didn’t know that you were interested in roses, mr. fish,” said anthony gently'], ['Chapter: 23', 'Sentence: 244', 'Contents: “so am i,” said anthony'], ['Chapter: 23', 'Sentence: 246', 'Contents: “in fact, i dote upon roses,” said anthony airily'], ['Chapter: 23', 'Sentence: 247', 'Contents: a very slight smile hovered upon mr. fish’s lips and at the same time anthony also smiled'], ['Chapter: 23', 'Sentence: 264', 'Contents: anthony laughed and shook his head'], ['Chapter: 23', 'Sentence: 266', 'Contents: “sleep is more in my line,” said anthony, with a wide yawn'], ['Chapter: 23', 'Sentence: 271', 'Contents: anthony helped himself, and handed back the box with a word of thanks'], ['Chapter: 23', 'Sentence: 272', 'Contents: “roses,” said anthony, “are all very well'], ['Chapter: 23', 'Sentence: 276', 'Contents: “pretty powerful engine she’s got in that car of hers,” remarked anthony'], ['Chapter: 23', 'Sentence: 279', 'Contents: anthony yawned again, and strolled towards the house'], ['Chapter: 23', 'Sentence: 288', 'Contents: “hi!” cried anthony'], ['Chapter: 23', 'Sentence: 291', 'Contents: anthony ran after the car, opened the door, and jumped in beside bundle'], ['Chapter: 23', 'Sentence: 296', 'Contents: “only a match,” said anthony'], ['Chapter: 24', 'Sentence: 3', 'Contents: it had seemed to anthony that they were proceeding at a terrific speed already, but he soon saw that that was nothing compared to what bundle could get out of the panhard if she tried'], ['Chapter: 24', 'Sentence: 7', 'Contents: privately, anthony thought lord caterham was entirely justified'], ['Chapter: 24', 'Sentence: 10', 'Contents: “i’m in pretty good training, you see,” explained anthony gravely'], ['Chapter: 24', 'Sentence: 13', 'Contents: “good lord, no,” said anthony hastily'], ['Chapter: 24', 'Sentence: 18', 'Contents: “i’m not quite sure,” said anthony'], ['Chapter: 24', 'Sentence: 21', 'Contents: “battle’s a good man,” agreed anthony'], ['Chapter: 24', 'Sentence: 28', 'Contents: “not guilty!” said anthony with fervour'], ['Chapter: 24', 'Sentence: 31', 'Contents: “that’s a difficult question to answer,” said anthony, with perfect truth'], ['Chapter: 24', 'Sentence: 41', 'Contents: anthony sat looking very straight ahead of him'], ['Chapter: 24', 'Sentence: 48', 'Contents: “you seem very positive,” said anthony, turning to look at her'], ['Chapter: 24', 'Sentence: 62', 'Contents: “i wonder why you tell me all this?” said anthony slowly'], ['Chapter: 24', 'Sentence: 71', 'Contents: “oh, certainly,” anthony agreed'], ['Chapter: 24', 'Sentence: 77', 'Contents: “it might be as well,” agreed anthony'], ['Chapter: 24', 'Sentence: 81', 'Contents: anthony assented fervently'], ['Chapter: 24', 'Sentence: 95', 'Contents: “i’m sorry if you’ve been holding yourself in on my account,” retorted anthony'], ['Chapter: 24', 'Sentence: 97', 'Contents: “that’s a nasty one,” said anthony'], ['Chapter: 24', 'Sentence: 100', 'Contents: anthony hailed a passing taxi'], ['Chapter: 24', 'Sentence: 104', 'Contents: resigning himself to a wait of something over an hour, anthony paced up and down, his brows knit'], ['Chapter: 24', 'Sentence: 107', 'Contents: arrived there, anthony passed quickly out of the station, and then, as though suddenly remembering, he turned back again'], ['Chapter: 24', 'Sentence: 111', 'Contents: anthony trudged along steadily'], ['Chapter: 24', 'Sentence: 116', 'Contents: the place, anthony judged, must have been empty for many years'], ['Chapter: 24', 'Sentence: 118', 'Contents: “a lonely spot,” muttered anthony to himself, “and a good one to choose'], ['Chapter: 24', 'Sentence: 124', 'Contents: anthony started; then smiled'], ['Chapter: 24', 'Sentence: 130', 'Contents: some distance away a dog was barking, but it was a sound nearer at hand that had attracted anthony’s attention'], ['Chapter: 24', 'Sentence: 134', 'Contents: anthony nodded to himself'], ['Chapter: 24', 'Sentence: 137', 'Contents: as soon as he had passed, anthony went on, diverging to the left, and so following in the footsteps of the sentry'], ['Chapter: 24', 'Sentence: 142', 'Contents: what double-dyed idiots,” murmured anthony to himself'], ['Chapter: 24', 'Sentence: 166', 'Contents: in the darkness, anthony heard the footsteps of the sentry coming his round again, and he drew back behind a bush'], ['Chapter: 24', 'Sentence: 173', 'Contents: anthony moved gently away'], ['Chapter: 24', 'Sentence: 182', 'Contents: anthony looked up'], ['Chapter: 24', 'Sentence: 184', 'Contents: anthony glanced quickly from left to right'], ['Chapter: 24', 'Sentence: 190', 'Contents: anthony went over to the bed, and flashed his pocket torch on the man’s face'], ['Chapter: 24', 'Sentence: 193', 'Contents: he stared up at anthony like one dazed'], ['Chapter: 24', 'Sentence: 194', 'Contents: anthony bent over him, and as he did so he heard a sound behind him and swung round, his hand travelling to his coat pocket'], ['Chapter: 25', 'Sentence: 3', 'Contents: some thirty hours had elapsed since anthony’s rather dramatic departure'], ['Chapter: 25', 'Sentence: 4', 'Contents: for at least the seventh time bundle repeated anthony’s parting words, as spoken at hyde park corner'], ['Chapter: 25', 'Sentence: 86', 'Contents: if boris recognized his chief in mr. anthony cade, would he not do just what he has done—transferred his allegiance'], ['Chapter: 25', 'Sentence: 89', 'Contents: “but almost i am disarmed, for anthony cade brings this same paper to me at once and asks me if i have dropped it'], ['Chapter: 25', 'Sentence: 102', 'Contents: what is quite certain is that mr. anthony cade will not return here'], ['Chapter: 25', 'Sentence: 164', 'Contents: anthony cade never killed prince michael'], ['Chapter: 25', 'Sentence: 180', 'Contents: “i hope anthony does  snoo him'], ['Chapter: 25', 'Sentence: 204', 'Contents: every word that anthony had said came back to her fraught with a new significance'], ['Chapter: 25', 'Sentence: 228', 'Contents: she unfolded it and read: “ my dear  (anthony had written),— i’m in a tight place, but i mean to win through'], ['Chapter: 26', 'Sentence: 1', 'Contents:  at ten o’clock on the morning of wednesday, the 13th of october, anthony cade walked into harridge’s hotel and asked for baron lolopretjzyl who was occupying a suite there'], ['Chapter: 26', 'Sentence: 2', 'Contents: after suitable and imposing delay, anthony was taken to the suite in question'], ['Chapter: 26', 'Sentence: 6', 'Contents: anthony was, by now, thoroughly conversant with the routine'], ['Chapter: 26', 'Sentence: 11', 'Contents: captain andrassy, who had never overcome his initial distrust of anthony, looked suspicious'], ['Chapter: 26', 'Sentence: 12', 'Contents: “business,” said anthony, “is based on the well-known principle of supply and demand'], ['Chapter: 26', 'Sentence: 16', 'Contents: “between a herzoslovakian nobleman and an english gentleman the terms should be easily arranged,” said anthony rapidly'], ['Chapter: 26', 'Sentence: 23', 'Contents: “very good,” said anthony'], ['Chapter: 26', 'Sentence: 38', 'Contents: “not at all,” said anthony'], ['Chapter: 26', 'Sentence: 46', 'Contents: “it doesn’t really matter,” said anthony kindly'], ['Chapter: 26', 'Sentence: 53', 'Contents: anthony took up his hat and stick again and prepared to depart'], ['Chapter: 26', 'Sentence: 61', 'Contents: the baron took a step forward and looked searchingly in anthony’s face'], ['Chapter: 26', 'Sentence: 63', 'Contents: anthony returned his gaze steadily'], ['Chapter: 26', 'Sentence: 67', 'Contents: after some delay, anthony was received by a pale and exquisitely dressed underling with an engaging manner, and a military title'], ['Chapter: 26', 'Sentence: 71', 'Contents: “i must see him personally,” said anthony, and added carelessly'], ['Chapter: 26', 'Sentence: 76', 'Contents: “tell him it’s important,” said anthony'], ['Chapter: 26', 'Sentence: 78', 'Contents: “something of the kind,” said anthony, “but it’s imperative that i should see mr. isaacstein at once'], ['Chapter: 26', 'Sentence: 79', 'Contents: two minutes later, anthony was conducted into a sumptuous inner sanctum where he was principally impressed by the immense size and roomy depths of the leather-covered arm-chairs'], ['Chapter: 26', 'Sentence: 81', 'Contents: “you must forgive my looking you up like this,” said anthony'], ['Chapter: 26', 'Sentence: 86', 'Contents: “thank you,” said anthony'], ['Chapter: 26', 'Sentence: 89', 'Contents: “it’s about this herzoslovakian business,” continued anthony, as he accepted a match'], ['Chapter: 26', 'Sentence: 93', 'Contents: “oil,” said anthony, thoughtfully surveying the polished surface of the desk'], ['Chapter: 26', 'Sentence: 110', 'Contents: “you don’t seem to take much convincing?” said anthony, looking curiously at him'], ['Chapter: 26', 'Sentence: 123', 'Contents: anthony looked at him for a full minute before he said slowly: “do you know that they’ve found the revolver, the one michael was shot with'], ['Chapter: 26', 'Sentence: 132', 'Contents: very obligingly, anthony narrated the occurrences in connection with the finding of the revolver'], ['Chapter: 26', 'Sentence: 134', 'Contents: “but it’s false,” he screamed out, as anthony finished'], ['Chapter: 26', 'Sentence: 138', 'Contents: “don’t excite yourself,” said anthony soothingly'], ['Chapter: 26', 'Sentence: 142', 'Contents: “if i were you,” said anthony gently, “i’d come to chimneys to-night'], ['Chapter: 26', 'Sentence: 145', 'Contents: anthony leant forward and whispered to him'], ['Chapter: 26', 'Sentence: 148', 'Contents: “come and see,” said anthony'], ['Chapter: 27', 'Sentence: 65', 'Contents: we’re only waiting now for anthony cade to arrive'], ['Chapter: 27', 'Sentence: 81', 'Contents: anthony came straight across to his host'], ['Chapter: 27', 'Sentence: 85', 'Contents: he had always had a secret liking for anthony'], ['Chapter: 27', 'Sentence: 87', 'Contents: “it’s very kind of you,” said anthony'], ['Chapter: 27', 'Sentence: 101', 'Contents: anthony ignored the palpable condescension of the other’s tone'], ['Chapter: 27', 'Sentence: 115', 'Contents: anthony looked round modestly, obviously waiting for applause'], ['Chapter: 27', 'Sentence: 119', 'Contents: anthony laughed'], ['Chapter: 27', 'Sentence: 135', 'Contents: anthony, who had been standing, irresolute, sat down again'], ['Chapter: 27', 'Sentence: 139', 'Contents: “go on,” said anthony'], ['Chapter: 27', 'Sentence: 144', 'Contents: anthony raised his eyebrows, and lighted a cigarette'], ['Chapter: 27', 'Sentence: 149', 'Contents: anthony leaned back in his chair, idly blowing smoke rings'], ['Chapter: 27', 'Sentence: 154', 'Contents: automatically, superintendent battle moved a step nearer the door, as if to cut off a retreat that way, but anthony showed no signs of doing anything dramatic'], ['Chapter: 27', 'Sentence: 161', 'Contents: anthony brushed a fleck of ash from his coat sleeve'], ['Chapter: 27', 'Sentence: 167', 'Contents: his face was twitching painfully, and yet he seemed perplexed and baffled—as though something in anthony’s manner puzzled him'], ['Chapter: 27', 'Sentence: 169', 'Contents: “very laudable,” was anthony’s comment'], ['Chapter: 27', 'Sentence: 174', 'Contents: the conversation had developed into a duel between the detective and anthony'], ['Chapter: 27', 'Sentence: 177', 'Contents: “if i were you, lemoine,” continued anthony, “i should be very, very careful'], ['Chapter: 27', 'Sentence: 180', 'Contents: “you seem very sure about it all,” said anthony'], ['Chapter: 27', 'Sentence: 182', 'Contents: lemoine smiled, and something in his smile seemed to attract anthony’s attention'], ['Chapter: 27', 'Sentence: 189', 'Contents: anthony stared steadily at him'], ['Chapter: 27', 'Sentence: 196', 'Contents: anthony leaned forward in his chair'], ['Chapter: 27', 'Sentence: 202', 'Contents: “that will doubtless be a great satisfaction to you,” said anthony'], ['Chapter: 27', 'Sentence: 218', 'Contents: “perhaps you wouldn’t,” admitted anthony'], ['Chapter: 27', 'Sentence: 230', 'Contents: “no good, lemoine,” said anthony, “i was nowhere near america at the time'], ['Chapter: 27', 'Sentence: 237', 'Contents: “i wouldn’t contradict you, battle,” said anthony'], ['Chapter: 27', 'Sentence: 258', 'Contents: “if you like,” said anthony, “but—'], ['Chapter: 27', 'Sentence: 269', 'Contents: anthony’s voice rang out sharply'], ['Chapter: 27', 'Sentence: 274', 'Contents: anthony sprang up, all his assumed nonchalance laid aside'], ['Chapter: 28', 'Sentence: 1', 'Contents:  “i suspected her from the first,” explained anthony'], ['Chapter: 28', 'Sentence: 23', 'Contents: “i think the baron might be able to tell us,” said anthony'], ['Chapter: 28', 'Sentence: 26', 'Contents: “look well,” said anthony'], ['Chapter: 28', 'Sentence: 41', 'Contents: “mutilated and unrecognizable,” anthony reminded him'], ['Chapter: 28', 'Sentence: 58', 'Contents: anthony sighed'], ['Chapter: 28', 'Sentence: 73', 'Contents: anthony watched, with a good deal of enjoyment, george’s face turning slowly purple, his eyes bulging, and all the incipient symptoms of apoplexy'], ['Chapter: 28', 'Sentence: 96', 'Contents: anthony shook his head gently'], ['Chapter: 28', 'Sentence: 109', 'Contents: “entry of the trump card, the mysterious monsieur x,” remarked anthony'], ['Chapter: 28', 'Sentence: 124', 'Contents: anthony’s quick ears had caught the sound of footsteps outside in the hall'], ['Chapter: 29', 'Sentence: 2', 'Contents: “there’s nothing much to explain,” said anthony modestly'], ['Chapter: 29', 'Sentence: 11', 'Contents: “it was a clever idea,” said anthony'], ['Chapter: 29', 'Sentence: 27', 'Contents: “you see,” explained anthony, “that little device of count stylptitch’s stood for what it had originally stood for—a rose'], ['Chapter: 29', 'Sentence: 42', 'Contents: the great financier looked steadily at anthony'], ['Chapter: 29', 'Sentence: 45', 'Contents: anthony shook his head'], ['Chapter: 29', 'Sentence: 66', 'Contents: rather long for the kind of life i proposed to live, so i emerged from the congo as plain anthony cade'], ['Chapter: 29', 'Sentence: 70', 'Contents: “i can give you plenty of proofs,” said anthony quietly'], ['Chapter: 29', 'Sentence: 78', 'Contents: “you have always trusted my word, baron,” said anthony'], ['Chapter: 29', 'Sentence: 81', 'Contents: “you can understand,” said anthony with a smile, “that my position has been extremely precarious'], ['Chapter: 29', 'Sentence: 97', 'Contents: “my dear mr. lomax,” said anthony, with a slight hardness in his tone, “i have no intention of asking the british foreign office to support my claim without bringing forward the most convincing documentary evidence'], ['Chapter: 29', 'Sentence: 101', 'Contents: “oh, by the way, baron,” said anthony carelessly, slipping his hand through the other’s arm, “i forgot to tell you'], ['Chapter: 29', 'Sentence: 109', 'Contents: “come, come, it’s not so bad as all that,” said anthony, laughing'], ['Chapter: 29', 'Sentence: 121', 'Contents: “yes,” said anthony'], ['Chapter: 29', 'Sentence: 125', 'Contents: “thank you, lord caterham,” said anthony'], ['Chapter: 29', 'Sentence: 129', 'Contents: anthony smiled back at him'], ['Chapter: 30', 'Sentence: 1', 'Contents:  “if you will go on, gentlemen, i will follow you in a minute,” said anthony'], ['Chapter: 30', 'Sentence: 39', 'Contents: “thank you, battle,” said anthony with a sigh'], ['Chapter: 30', 'Sentence: 75', 'Contents: anthony followed him, wondering what was forward'], ['Chapter: 30', 'Sentence: 78', 'Contents: “he  is  a dog,” said anthony to himself'], ['Chapter: 30', 'Sentence: 85', 'Contents: “jimmy mcgrath, by all that’s wonderful,” cried anthony'], ['Chapter: 30', 'Sentence: 97', 'Contents: “you two seem to be getting along all right,” said anthony'], ['Chapter: 30', 'Sentence: 107', 'Contents: “by jove,” said anthony, “there is'], ['Chapter: 30', 'Sentence: 118', 'Contents: “what do you take me for?” demanded anthony'], ['Chapter: 30', 'Sentence: 125', 'Contents: “oh, anthony,” cried virginia'], ['Chapter: 30', 'Sentence: 139', 'Contents: “half a second,” said anthony'], ['Chapter: 30', 'Sentence: 143', 'Contents: “women!” said anthony, with a virtuous air'], ['Chapter: 30', 'Sentence: 149', 'Contents: “thank you, jimmy,” said anthony, “you’re a true friend'], ['Chapter: 30', 'Sentence: 159', 'Contents: “sure to be,” said anthony'], ['Chapter: 30', 'Sentence: 162', 'Contents: “yes,” said anthony'], ['Chapter: 30', 'Sentence: 166', 'Contents: “oh, anthony,” cried virginia'], ['Chapter: 30', 'Sentence: 178', 'Contents: “nothing like letting a man do his own dirty work,” said anthony, with satisfaction'], ['Chapter: 30', 'Sentence: 183', 'Contents: “i like to hear these pure ideals,” said anthony'], ['Chapter: 30', 'Sentence: 188', 'Contents: “i never think they have,” said anthony'], ['Chapter: 30', 'Sentence: 197', 'Contents: “well, he isn’t now,” said anthony'], ['Chapter: 30', 'Sentence: 207', 'Contents: “you little devil,” cried anthony, kissing her again']]\n",
            "[['Chapter: 15', 'Sentence: 187', 'Contents: let me see—yes—that’s mademoiselle brun’s room'], ['Chapter: 15', 'Sentence: 194', 'Contents: “mademoiselle brun,” said anthony thoughtfully'], ['Chapter: 16', 'Sentence: 305', 'Contents: mademoiselle brun was a small, middle-aged woman with a sallow face, pepper and salt hair, and a budding moustache'], ['Chapter: 18', 'Sentence: 44', 'Contents: i decided that they were in league together, and i hurried off to interview the lady with whom mademoiselle brun had lived for the last ten years'], ['Chapter: 18', 'Sentence: 45', 'Contents: i was fully prepared to find that she had never heard of any such person as mademoiselle brun, but i was wrong, battle'], ['Chapter: 22', 'Sentence: 152', 'Contents: “yes, i went to dinard and had an interview with the comtesse de breteuil, awfully pleased with my own cleverness, and fully expecting to be told that no such person as mademoiselle brun had ever been heard of'], ['Chapter: 24', 'Sentence: 27', 'Contents: you’re not eloping with mademoiselle brun, by any chance'], ['Chapter: 27', 'Sentence: 298', 'Contents: on the floor, the pistol still clasped in her hand, and an expression of deadly malignity on her face, lay—mademoiselle brun'], ['Chapter: 28', 'Sentence: 6', 'Contents: because the comtesse de breteuil had employed a mademoiselle brun and spoke highly of her, it never occurred to me that the real mademoiselle brun might have been kidnapped on her way to her new post, and that it might be a substitute taking her place'], ['Chapter: 28', 'Sentence: 19', 'Contents: when i realized the possibility of mademoiselle brun’s being an impostor, and added to that the fact that her face was familiar to mrs. revel, i began to see daylight'], ['Chapter: 29', 'Sentence: 15', 'Contents: the note was really to mademoiselle brun']]\n",
            "[['Chapter: 15', 'Sentence: 194', 'Contents: “mademoiselle brun,” said anthony thoughtfully']]\n",
            "[['Chapter: 9', 'Sentence: 5', 'Contents: “he was killed less than half an hour ago'], ['Chapter: 9', 'Sentence: 22', 'Contents: if you and the maid had discovered the body together, immediately on your return, it would have simplified matters very much'], ['Chapter: 10', 'Sentence: 105', 'Contents: “and who discovered the body'], ['Chapter: 11', 'Sentence: 71', 'Contents: “this morning a housemaid discovered the body at approximately 7'], ['Chapter: 12', 'Sentence: 193', 'Contents: either he was killed by some one in the house, and that some one unlatched the window after i had gone to make it look like an outside job—incidentally with me as little willie—or else, not to mince matters, i’m lying'], ['Chapter: 14', 'Sentence: 122', 'Contents: find out who killed prince michael, superintendent battle, if you want to do your country a service'], ['Chapter: 15', 'Sentence: 157', 'Contents: “who do you really think killed michael?” asked virginia suddenly'], ['Chapter: 19', 'Sentence: 227', 'Contents: i came up here to watch, convinced that the secret had to do with this room since the prince had been killed here'], ['Chapter: 20', 'Sentence: 13', 'Contents: “do you think the man was shot where he was found, or do you think he was killed elsewhere and the body brought to that particular spot afterwards'], ['Chapter: 21', 'Sentence: 177', 'Contents: last night, after you and mr. eversleigh had gone to bed, mr. cade told me all about the letters and the man who was killed in your house'], ['Chapter: 25', 'Sentence: 164', 'Contents: anthony cade never killed prince michael'], ['Chapter: 27', 'Sentence: 26', 'Contents: i know that when they call out ‘who killed prince michael'], ['Chapter: 27', 'Sentence: 290', 'Contents: “she killed my master,” he growled'], ['Chapter: 28', 'Sentence: 37', 'Contents: “she was killed'], ['Chapter: 28', 'Sentence: 38', 'Contents: they were both killed'], ['Chapter: 29', 'Sentence: 56', 'Contents: i thought he was killed in the congo'], ['Chapter: 29', 'Sentence: 57', 'Contents: “he was killed all right'], ['Chapter: 29', 'Sentence: 58', 'Contents: i killed him'], ['Chapter: 29', 'Sentence: 60', 'Contents: when i say i killed him, i mean that i spread the report of his death'], ['Chapter: 30', 'Sentence: 19', 'Contents: i killed myself from the purest motives, battle'], ['Chapter: 30', 'Sentence: 61', 'Contents: it’s a mercy that pistol went off in the struggle and killed the lady']]\n",
            "[['Chapter: 2', 'Sentence: 84', 'Contents: they were king victor’s people, he said'], ['Chapter: 2', 'Sentence: 92', 'Contents: “who is this king victor, anyway?” demanded jimmy'], ['Chapter: 2', 'Sentence: 101', 'Contents: king victor was the nickname he was known by in paris'], ['Chapter: 2', 'Sentence: 111', 'Contents: king victor never stole the crown jewels of herzoslovakia as far as i’ve heard'], ['Chapter: 14', 'Sentence: 133', 'Contents: “king victor’s supposed to be in england'], ['Chapter: 14', 'Sentence: 134', 'Contents: “king victor'], ['Chapter: 14', 'Sentence: 157', 'Contents: “king victor'], ['Chapter: 14', 'Sentence: 177', 'Contents: “you don’t connect king victor with this crime, do you, battle'], ['Chapter: 14', 'Sentence: 181', 'Contents: king victor was arrested in paris three days after the—disappearance, if i may call it that, of the k. it was always hoped that he would some day lead us to the jewel'], ['Chapter: 14', 'Sentence: 185', 'Contents: only suppose now, that this king victor came here to look for the thing, was surprised by prince michael, and shot him'], ['Chapter: 14', 'Sentence: 191', 'Contents: “because king victor has never been known to take a life,” said battle seriously'], ['Chapter: 18', 'Sentence: 63', 'Contents: king victor'], ['Chapter: 18', 'Sentence: 64', 'Contents: ever heard of king victor, mr. cade'], ['Chapter: 18', 'Sentence: 66', 'Contents: “king victor?” he said reflectively instead'], ['Chapter: 19', 'Sentence: 55', 'Contents: “it is possible that you in england may not even have heard of our famous and fantastic king victor'], ['Chapter: 19', 'Sentence: 63', 'Contents: now we of the sûreté had our suspicions that this captain o’neill was none other than ‘king victor,’ but we could not obtain the necessary proof'], ['Chapter: 19', 'Sentence: 65', 'Contents: for some time we had suspected that she was associated with the operations of king victor'], ['Chapter: 19', 'Sentence: 84', 'Contents: “now, in all this, it seems certain that queen varaga still kept in with her confederate, king victor'], ['Chapter: 19', 'Sentence: 103', 'Contents: there is also no doubt that the—er—substitute which was so wonderful as to deceive anyone but an expert could only have been fashioned by king victor, and indeed the whole plan, in its daring and audacity, pointed to him as the author'], ['Chapter: 19', 'Sentence: 172', 'Contents: he also said that the gang in question were king victor’s men'], ['Chapter: 19', 'Sentence: 176', 'Contents: “king victor has never taken a life,” the frenchman reminded him'], ['Chapter: 19', 'Sentence: 203', 'Contents: our friend, king victor, seizes on that—difficult to prove a death of that kind'], ['Chapter: 20', 'Sentence: 107', 'Contents: “i should say he was a regular thief, and that he was got hold of, either by king victor or by the comrades of the red hand, and employed by them'], ['Chapter: 20', 'Sentence: 108', 'Contents: i shouldn’t wonder at all if the comrades and king victor aren’t working together'], ['Chapter: 20', 'Sentence: 123', 'Contents: no, it looks to me as though king victor had stepped in there'], ['Chapter: 20', 'Sentence: 138', 'Contents: i suppose king victor and co'], ['Chapter: 21', 'Sentence: 254', 'Contents: presently he was telling them anecdotes of the famous king victor'], ['Chapter: 22', 'Sentence: 74', 'Contents: “this crook, this king victor, he’s well aware by now that the council chamber is watched'], ['Chapter: 23', 'Sentence: 166', 'Contents: king victor is quite capable of making himself into a trusted servant at a moment’s notice'], ['Chapter: 23', 'Sentence: 170', 'Contents: with me, king victor is an obsession'], ['Chapter: 23', 'Sentence: 172', 'Contents: at this moment even i ask myself—this man who is talking to me, this m. cade, is he, perhaps, king victor'], ['Chapter: 23', 'Sentence: 177', 'Contents: me, i am in england for one purpose, and one purpose only, to capture king victor and to capture him red-handed'], ['Chapter: 24', 'Sentence: 101', 'Contents: “victoria station,” he said to the driver as he got in'], ['Chapter: 24', 'Sentence: 102', 'Contents: when he got to victoria he paid off the taxi and inquired for the next train to dover'], ['Chapter: 24', 'Sentence: 165', 'Contents: from all i heard this king victor doesn’t stand for being disobeyed'], ['Chapter: 24', 'Sentence: 178', 'Contents: king victor’s headquarters seem to be in a parlous condition'], ['Chapter: 24', 'Sentence: 197', 'Contents: you didn’t expect to see me here, but i happened to catch the same train as you at victoria'], ['Chapter: 25', 'Sentence: 85', 'Contents: we know that the comrades are working in with king victor over this affair'], ['Chapter: 25', 'Sentence: 96', 'Contents: not a doubt but that it was king victor’s headquarters'], ['Chapter: 25', 'Sentence: 103', 'Contents: but knowing king victor, as i do, i am certain that he will not abandon the game without having one more try for the jewel'], ['Chapter: 25', 'Sentence: 114', 'Contents: did you not tell us that first night that king victor had lately come to england from america'], ['Chapter: 25', 'Sentence: 116', 'Contents: it is true that he brought a letter of introduction from a very well-known man, but surely that would be a simple thing for a man like king victor to manage'], ['Chapter: 25', 'Sentence: 137', 'Contents: he came over here to trail king victor'], ['Chapter: 25', 'Sentence: 142', 'Contents: “you see,” lemoine was continuing, “we have all known that eventually king victor would come to chimneys'], ['Chapter: 27', 'Sentence: 49', 'Contents: “well, this king victor was a french fellow, and cade’s english enough'], ['Chapter: 27', 'Sentence: 50', 'Contents: “you don’t happen to have heard that king victor was an accomplished linguist, and, moreover, was half irish'], ['Chapter: 27', 'Sentence: 75', 'Contents: “you don’t know much about king victor, if you think that would deter him'], ['Chapter: 27', 'Sentence: 158', 'Contents: you do indeed see king victor everywhere'], ['Chapter: 27', 'Sentence: 168', 'Contents: “what if i tell you, monsieur, that this time—this time—i am out to get king victor, and nothing shall stop me'], ['Chapter: 27', 'Sentence: 186', 'Contents: yesterday i received from france the fingerprints and the bertillon measurements of king victor—the so-called captain o’neill'], ['Chapter: 27', 'Sentence: 200', 'Contents: “but—i shall have proved then that you are king victor'], ['Chapter: 27', 'Sentence: 204', 'Contents: i’m not admitting anything, but supposing, just for the sake of argument, that i was king victor—i might be trying to repent, you know'], ['Chapter: 27', 'Sentence: 207', 'Contents: put yourself in king victor’s place, lemoine'], ['Chapter: 27', 'Sentence: 215', 'Contents: put yourself in king victor’s place'], ['Chapter: 27', 'Sentence: 219', 'Contents: “but then you’re not king victor, are you'], ['Chapter: 27', 'Sentence: 223', 'Contents: come now, lemoine, if i’m king victor, what have you against me after all'], ['Chapter: 27', 'Sentence: 232', 'Contents: if king victor impersonated prince nicholas in america, then i’m not king victor'], ['Chapter: 27', 'Sentence: 268', 'Contents: “lemoine, have you ever known king victor to do murder'], ['Chapter: 28', 'Sentence: 9', 'Contents: once i knew that he was a pinkerton’s man, trailing king victor, my suspicions swung back again to their original object'], ['Chapter: 28', 'Sentence: 45', 'Contents: then king victor was released, and they planned to recover the diamond together'], ['Chapter: 28', 'Sentence: 55', 'Contents: “might she not have been going to meet her accomplice, king victor, who was coming from outside'], ['Chapter: 28', 'Sentence: 95', 'Contents: i want king victor'], ['Chapter: 29', 'Sentence: 3', 'Contents: “i went to dover and fish followed me under the impression that i was king victor'], ['Chapter: 29', 'Sentence: 6', 'Contents: the real man kidnapped, and the false one—in this case king victor himself—takes his place'], ['Chapter: 29', 'Sentence: 17', 'Contents: lemoine accused me of being king victor, by that means creating a diversion and preventing anyone from leaving the room'], ['Chapter: 30', 'Sentence: 156', 'Contents: “i admit that i did once think you were king victor, but only for about a minute and a half']]\n",
            "[['Chapter: 15', 'Sentence: 187', 'Contents: let me see—yes—that’s mademoiselle brun’s room'], ['Chapter: 15', 'Sentence: 194', 'Contents: “mademoiselle brun,” said anthony thoughtfully'], ['Chapter: 16', 'Sentence: 305', 'Contents: mademoiselle brun was a small, middle-aged woman with a sallow face, pepper and salt hair, and a budding moustache'], ['Chapter: 18', 'Sentence: 44', 'Contents: i decided that they were in league together, and i hurried off to interview the lady with whom mademoiselle brun had lived for the last ten years'], ['Chapter: 18', 'Sentence: 45', 'Contents: i was fully prepared to find that she had never heard of any such person as mademoiselle brun, but i was wrong, battle'], ['Chapter: 22', 'Sentence: 152', 'Contents: “yes, i went to dinard and had an interview with the comtesse de breteuil, awfully pleased with my own cleverness, and fully expecting to be told that no such person as mademoiselle brun had ever been heard of'], ['Chapter: 24', 'Sentence: 27', 'Contents: you’re not eloping with mademoiselle brun, by any chance'], ['Chapter: 27', 'Sentence: 298', 'Contents: on the floor, the pistol still clasped in her hand, and an expression of deadly malignity on her face, lay—mademoiselle brun'], ['Chapter: 28', 'Sentence: 6', 'Contents: because the comtesse de breteuil had employed a mademoiselle brun and spoke highly of her, it never occurred to me that the real mademoiselle brun might have been kidnapped on her way to her new post, and that it might be a substitute taking her place'], ['Chapter: 28', 'Sentence: 19', 'Contents: when i realized the possibility of mademoiselle brun’s being an impostor, and added to that the fact that her face was familiar to mrs. revel, i began to see daylight'], ['Chapter: 29', 'Sentence: 15', 'Contents: the note was really to mademoiselle brun']]\n"
          ]
        },
        {
          "name": "stdout",
          "output_type": "stream",
          "text": [
            "['me', 'see—yes—that', 's', 's', 'room', 'the']\n",
            "['providing', 'an', 'heir', 'said', 'anthony', 'thoughtfully']\n",
            "['felt', 'a', 'qualm', 'was', 'a', 'small']\n",
            "['lady', 'with', 'whom', 'had', 'lived', 'for']\n",
            "['such', 'person', 'as', 'but', 'i', 'was']\n",
            "['such', 'person', 'as', 'had', 'ever', 'been']\n",
            "['not', 'eloping', 'with', 'by', 'any', 'chance']\n",
            "['her', 'face', 'lay', '', 'i', 'suspected']\n",
            "['had', 'employed', 'a', 'and', 'spoke', 'highly']\n",
            "['that', 'the', 'real', 'might', 'have', 'been']\n",
            "['the', 'possibility', 'of', 's', 'being', 'an']\n",
            "['was', 'really', 'to', 'he', 'told', 'tredwell']\n",
            "12\n"
          ]
        }
      ]
    },
    {
      "cell_type": "code",
      "metadata": {
        "id": "PAy9JA9E_FEv"
      },
      "source": [
        ""
      ],
      "execution_count": null,
      "outputs": []
    },
    {
      "cell_type": "markdown",
      "metadata": {
        "id": "tTVwi0Ee_FEv"
      },
      "source": [
        "\n",
        "### Frequency analysis of the words that occur when Perpetrator is mentioned \n"
      ]
    },
    {
      "cell_type": "code",
      "metadata": {
        "id": "TekyeR-__FEv",
        "outputId": "cad9bd43-0e2f-4944-b810-745fe82a16c3"
      },
      "source": [
        "!pip install nltk"
      ],
      "execution_count": null,
      "outputs": [
        {
          "name": "stdout",
          "output_type": "stream",
          "text": [
            "Defaulting to user installation because normal site-packages is not writeable\n",
            "Requirement already satisfied: nltk in /usr/local/lib/python3.8/dist-packages (3.6.2)\n",
            "Requirement already satisfied: joblib in /usr/local/lib/python3.8/dist-packages (from nltk) (1.0.1)\n",
            "Requirement already satisfied: regex in /usr/local/lib/python3.8/dist-packages (from nltk) (2021.8.21)\n",
            "Requirement already satisfied: tqdm in /usr/local/lib/python3.8/dist-packages (from nltk) (4.62.2)\n",
            "Requirement already satisfied: click in /usr/local/lib/python3.8/dist-packages (from nltk) (8.0.1)\n"
          ]
        }
      ]
    },
    {
      "cell_type": "code",
      "metadata": {
        "id": "51Yn49iN_FEv"
      },
      "source": [
        ""
      ],
      "execution_count": null,
      "outputs": []
    },
    {
      "cell_type": "code",
      "metadata": {
        "id": "_FF5CUtY_FEw",
        "outputId": "7a3df962-b081-4795-9a85-e3694b5dc730"
      },
      "source": [
        "# Author: Verónica\n",
        "# Identify top 15 most frequent words in the neighborhood for when the perpetrator is mentioned \n",
        "# Loop through to do the analysis of all the books\n",
        "\n",
        "sorted_freq_list=[]\n",
        "sorted_freq_list.clear()\n",
        "sorted_freq_list.append(\"Zerofiller\")\n",
        "sorted_freq_no_stopwords_list=[]\n",
        "sorted_freq_no_stopwords_list.clear()\n",
        "sorted_freq_no_stopwords_list.append(\"Zerofiller\")\n",
        "\n",
        "\n",
        "from nltk.corpus import stopwords\n",
        "from nltk import download\n",
        "download('stopwords')\n",
        "stop_words = stopwords.words('english') + [\n",
        " 'ut', '\\'re','.', ',', '--', '\\'s', '?', ')', '(', ':', '\\'',\n",
        " '\\\"', '-', '}', '{', '&', '|', u'\\u2014', '', 'said', 'mr', 'miss' ]\n",
        "\n",
        "    \n",
        "for bookindex in range(1,6):\n",
        "    title = get_title(bookindex)\n",
        "    print(\"\\n\\n\\nResults for \", title)  \n",
        "    freq = {}\n",
        "    freq_no_stopwords = {}\n",
        "    flatten_perp_n = [item for sublist in perp_neighbors[bookindex] for item in sublist]  \n",
        "    flatten_no_stopwords = [word for word in flatten_perp_n if not word in stop_words]\n",
        "    unique = set(flatten_perp_n)\n",
        "    #print(flatten_perp_n)\n",
        "    unique3_no_stopwords = set(flatten_no_stopwords)\n",
        "    #print(flatten_no_stopwords)\n",
        "\n",
        "    for word in unique:\n",
        "        freq[word] = flatten_perp_n.count(word)\n",
        "    \n",
        "    for word in unique3_no_stopwords:\n",
        "        freq_no_stopwords[word] = flatten_no_stopwords.count(word)\n",
        "        \n",
        "    #print(\"freq3 = \",freq3)\n",
        "    sorted_freq = sorted(freq.items(), key=lambda x:x[1],reverse=True)\n",
        "\n",
        "    #print(\"freq3 no stopwords = \",freq3_no_stopwords)\n",
        "    sorted_freq_no_stopwords = sorted(freq_no_stopwords.items(), key=lambda x:x[1],reverse=True)\n",
        "    \n",
        "    sorted_freq_list.append(sorted_freq[:50])\n",
        "    print(\"top 50 words around perp for \", title,\"are: \",sorted_freq_list[bookindex])\n",
        "    #print(\"top 50 words around perp for \", title,\"are: \",sorted_freq[:50])\n",
        "    \n",
        "    sorted_freq_no_stopwords_list.append(sorted_freq_no_stopwords[:30])\n",
        "    print(\"top 30 words around perp (no stop words) for \", title, \"are\",sorted_freq_no_stopwords_list[bookindex])\n",
        "    #print(\"top 30 words around perp (no stop words) for \", title, \"are\",sorted_freq_no_stopwords[:30])\n",
        "    #print(stop_words)"
      ],
      "execution_count": null,
      "outputs": [
        {
          "name": "stdout",
          "output_type": "stream",
          "text": [
            "\n",
            "\n",
            "\n",
            "Results for  The Murder on the Links\n",
            "top 50 words around perp for  The Murder on the Links are:  [('the', 28), ('to', 26), ('i', 20), ('was', 14), ('of', 14), ('and', 11), ('s', 10), ('he', 7), ('as', 7), ('her', 6), ('have', 5), ('see', 5), ('a', 5), ('had', 5), ('beautiful', 5), ('poirot', 5), ('for', 5), ('it', 5), ('she', 5), ('in', 5), ('jack', 4), ('but', 4), ('that', 4), ('by', 4), ('marthe', 4), ('is', 4), ('not', 4), ('daubreuil', 4), ('with', 3), ('girl', 3), ('us', 3), ('my', 3), ('you', 3), ('before', 3), ('your', 3), ('against', 3), ('on', 3), ('wish', 3), ('me', 3), ('could', 3), ('looking', 2), ('renauld', 2), ('into', 2), ('then', 2), ('from', 2), ('body', 2), ('face', 2), ('anxiety', 2), ('his', 2), ('marry', 2)]\n",
            "top 30 words around perp (no stop words) for  The Murder on the Links are [('see', 5), ('beautiful', 5), ('poirot', 5), ('jack', 4), ('marthe', 4), ('daubreuil', 4), ('girl', 3), ('us', 3), ('wish', 3), ('could', 3), ('looking', 2), ('renauld', 2), ('body', 2), ('face', 2), ('anxiety', 2), ('marry', 2), ('go', 2), ('truth', 2), ('leaves', 2), ('last', 2), ('overhears', 2), ('(1)', 2), ('profile', 2), ('overheard', 2), ('thought', 2), ('daughter', 2), ('son', 2), ('ears', 2), ('mother', 2), ('bent', 1)]\n",
            "\n",
            "\n",
            "\n",
            "Results for  The Mysterious Affair at Styles\n",
            "top 50 words around perp for  The Mysterious Affair at Styles are:  [('the', 38), ('and', 28), ('to', 26), ('that', 26), ('of', 26), ('s', 25), ('was', 24), ('i', 23), ('she', 19), ('it', 16), ('a', 15), ('had', 15), ('is', 15), ('her', 15), ('not', 14), ('you', 14), ('said', 14), ('poirot', 12), ('in', 12), ('be', 11), ('with', 10), ('mr', 10), ('howard', 10), ('who', 9), ('for', 9), ('all', 9), ('my', 8), ('alfred', 8), ('miss', 7), ('no', 7), ('course', 6), ('will', 6), ('were', 6), ('he', 5), ('dear', 5), ('me', 5), ('shook', 5), ('on', 5), ('this', 5), ('against', 5), ('have', 5), ('but', 5), ('john', 5), ('inglethorp', 5), ('', 4), ('there', 4), ('—', 4), ('cried', 4), ('off', 4), ('we', 4)]\n",
            "top 30 words around perp (no stop words) for  The Mysterious Affair at Styles are [('poirot', 12), ('howard', 10), ('alfred', 8), ('course', 6), ('dear', 5), ('shook', 5), ('john', 5), ('inglethorp', 5), ('cried', 4), ('husband', 4), ('one', 4), ('know', 4), ('letter', 3), ('room', 3), ('called', 3), ('well', 3), ('would', 3), ('must', 3), ('something', 3), ('could', 3), ('remember', 3), ('dearest', 3), ('asked', 3), ('time', 3), ('evie', 3), ('right', 3), ('hang', 3), ('darling', 3), ('chemist', 3), ('nodded', 3)]\n",
            "\n",
            "\n",
            "\n",
            "Results for  The Secret Adversary\n",
            "top 50 words around perp for  The Secret Adversary are:  [('said', 40), ('to', 33), ('the', 31), ('and', 27), ('s', 23), ('i', 22), ('he', 18), ('his', 16), ('was', 16), ('you', 15), ('tuppence', 14), ('at', 14), ('in', 13), ('a', 12), ('julius', 12), ('had', 12), ('her', 12), ('that', 11), ('it', 11), ('of', 10), ('with', 9), ('not', 8), ('looked', 8), ('be', 8), ('is', 8), ('up', 8), ('but', 8), ('for', 7), ('on', 7), ('we', 7), ('they', 7), ('have', 7), ('him', 7), ('smiled', 6), ('dryly', 6), ('who', 6), ('gravely', 6), ('she', 6), ('stroked', 5), ('would', 5), ('there', 5), ('mr', 5), ('once', 5), ('can', 4), ('from', 4), ('words', 4), ('miss', 4), ('brown', 4), ('out', 4), ('questions', 4)]\n",
            "top 30 words around perp (no stop words) for  The Secret Adversary are [('tuppence', 14), ('julius', 12), ('looked', 8), ('smiled', 6), ('dryly', 6), ('gravely', 6), ('stroked', 5), ('would', 5), ('words', 4), ('brown', 4), ('questions', 4), ('shook', 4), ('nothing', 4), ('yes', 4), ('eyes', 4), ('took', 4), ('nodded', 4), ('round', 3), ('well', 3), ('mrs', 3), ('ah', 3), ('must', 3), ('tommy', 3), ('got', 3), ('head', 3), ('hall', 3), ('voice', 3), ('asked', 3), ('hersheimmer', 3), ('forward', 3)]\n",
            "\n",
            "\n",
            "\n",
            "Results for  The Man in the Brown Suit\n",
            "top 50 words around perp for  The Man in the Brown Suit are:  [('i', 73), ('the', 50), ('to', 49), ('s', 34), ('and', 33), ('of', 33), ('you', 30), ('he', 28), ('was', 27), ('that', 27), ('a', 19), ('said', 19), ('my', 17), ('at', 17), ('me', 16), ('it', 16), ('in', 15), ('not', 14), ('is', 14), ('what', 13), ('on', 12), ('his', 11), ('for', 11), ('but', 11), ('with', 10), ('pagett', 10), ('t', 10), ('him', 10), ('had', 9), ('colonel', 9), ('dear', 8), ('yes', 8), ('so', 8), ('diary', 7), ('have', 7), ('did', 7), ('do', 7), ('', 6), ('would', 6), ('looked', 6), ('be', 6), ('race', 6), ('know', 6), ('tell', 6), ('secretary', 5), ('out', 5), ('there', 5), ('mr', 5), ('all', 5), ('been', 5)]\n",
            "top 30 words around perp (no stop words) for  The Man in the Brown Suit are [('pagett', 10), ('colonel', 9), ('dear', 8), ('yes', 8), ('diary', 7), ('would', 6), ('looked', 6), ('race', 6), ('know', 6), ('tell', 6), ('secretary', 5), ('cabin', 5), ('cannes', 5), ('think', 5), ('like', 4), ('got', 4), ('oh', 4), ('two', 4), ('fellow', 4), ('asked', 4), ('night', 4), ('man', 4), ('even', 3), ('last', 3), ('well', 3), ('suppose', 3), ('see', 3), ('shall', 3), ('eye', 3), ('say', 3)]\n",
            "\n",
            "\n",
            "\n",
            "Results for  The Secret of Chimneys\n",
            "top 50 words around perp for  The Secret of Chimneys are:  [('had', 3), ('s', 3), ('the', 3), ('was', 3), ('a', 3), ('an', 2), ('i', 2), ('with', 2), ('such', 2), ('person', 2), ('as', 2), ('been', 2), ('', 1), ('real', 1), ('qualm', 1), ('any', 1), ('and', 1), ('really', 1), ('that', 1), ('heir', 1), ('see—yes—that', 1), ('for', 1), ('lady', 1), ('her', 1), ('tredwell', 1), ('not', 1), ('small', 1), ('being', 1), ('told', 1), ('possibility', 1), ('chance', 1), ('ever', 1), ('spoke', 1), ('might', 1), ('he', 1), ('anthony', 1), ('whom', 1), ('eloping', 1), ('face', 1), ('by', 1), ('felt', 1), ('lived', 1), ('me', 1), ('have', 1), ('to', 1), ('thoughtfully', 1), ('suspected', 1), ('said', 1), ('employed', 1), ('of', 1)]\n",
            "top 30 words around perp (no stop words) for  The Secret of Chimneys are [('person', 2), ('real', 1), ('qualm', 1), ('really', 1), ('heir', 1), ('see—yes—that', 1), ('lady', 1), ('tredwell', 1), ('small', 1), ('told', 1), ('possibility', 1), ('chance', 1), ('ever', 1), ('spoke', 1), ('might', 1), ('anthony', 1), ('eloping', 1), ('face', 1), ('felt', 1), ('lived', 1), ('thoughtfully', 1), ('suspected', 1), ('employed', 1), ('highly', 1), ('room', 1), ('lay', 1), ('providing', 1)]\n"
          ]
        },
        {
          "name": "stderr",
          "output_type": "stream",
          "text": [
            "[nltk_data] Downloading package stopwords to\n",
            "[nltk_data]     /home/amalviya/nltk_data...\n",
            "[nltk_data]   Package stopwords is already up-to-date!\n"
          ]
        }
      ]
    },
    {
      "cell_type": "markdown",
      "metadata": {
        "id": "rx5QU41A7K3R"
      },
      "source": [
        "\n",
        "\n",
        "\n",
        "## Results\n"
      ]
    },
    {
      "cell_type": "markdown",
      "metadata": {
        "id": "XxH5EDiM7K3R"
      },
      "source": [
        "\n",
        "### Q1. When does the detective (or a pair) occur for the first time -  chapter #, the sentence(s) # in a chapter\n"
      ]
    },
    {
      "cell_type": "markdown",
      "metadata": {
        "id": "unFg1Flx_FEw"
      },
      "source": [
        "\n",
        "##### Occurence of Detective for the first time visualization\n"
      ]
    },
    {
      "cell_type": "code",
      "metadata": {
        "id": "2zwLTvB-_FEx",
        "outputId": "ea199b79-8acb-408e-a4de-04a2c4c146a5"
      },
      "source": [
        "# libraries\n",
        "import numpy as np\n",
        "import matplotlib.pyplot as plt\n",
        " \n",
        "# set width of bars\n",
        "barWidth = 0.25\n",
        " \n",
        "# set heights of bars\n",
        "bars1 = [1, 1, 1, 1, 1]\n",
        "bars2 = [1, 4, 1, 7, 14]\n",
        " \n",
        "# Set position of bar on X axis\n",
        "r1 = np.arange(len(bars1))\n",
        "r2 = [x + barWidth for x in r1]\n",
        " \n",
        "# Make the plot\n",
        "plt.bar(r1, bars1, color='#7f6d5f', width=barWidth, edgecolor='white', label='Chapter')\n",
        "plt.bar(r2, bars2, color='#557f2d', width=barWidth, edgecolor='white', label='Sentence')\n",
        " \n",
        "# Add xticks on the middle of the group bars\n",
        "plt.xlabel('group', fontweight='bold')\n",
        "plt.xticks([r + barWidth for r in range(len(bars1))], ['MAS', 'MOL', 'TSA', 'MBS', 'TSC'])\n",
        " \n",
        "# Create legend & Show graphic\n",
        "plt.legend()\n",
        "plt.show()"
      ],
      "execution_count": null,
      "outputs": [
        {
          "data": {
            "image/png": "[encoded data removed]",
            "text/plain": [
              "<Figure size 432x288 with 1 Axes>"
            ]
          },
          "metadata": {
            "needs_background": "light"
          },
          "output_type": "display_data"
        }
      ]
    },
    {
      "cell_type": "markdown",
      "metadata": {
        "id": "YVMDgZqv7K3S"
      },
      "source": [
        "### The Murder on the Links "
      ]
    },
    {
      "cell_type": "code",
      "metadata": {
        "id": "uDO06L7Z7K3T",
        "outputId": "4f4ae6cd-1b87-4acc-87b5-5ec88646f5c5"
      },
      "source": [
        "bookindex=1\n",
        "print(det_occur[bookindex][0])"
      ],
      "execution_count": null,
      "outputs": [
        {
          "name": "stdout",
          "output_type": "stream",
          "text": [
            "#### ['Chapter: 1', 'Sentence: 5', 'Contents: i had been transacting some business in paris and was returning by the morning service to london where i was still sharing rooms with my old friend, the belgian ex-detective, hercule poirot']\n"
          ]
        }
      ]
    },
    {
      "cell_type": "markdown",
      "metadata": {
        "id": "32P8xypm7K3S"
      },
      "source": [
        "###  The Mysterious Affair at Styles "
      ]
    },
    {
      "cell_type": "code",
      "metadata": {
        "id": "t7Tjw7yE_FEy",
        "outputId": "4da779d0-7b13-497c-b8ea-646d154b691f"
      },
      "source": [
        "bookindex=2\n",
        "print(det_occur[bookindex][0])"
      ],
      "execution_count": null,
      "outputs": [
        {
          "name": "stdout",
          "output_type": "stream",
          "text": [
            "#### ['Chapter: 1', 'Sentence: 2', 'Contents: nevertheless, in view of the world-wide notoriety which attended it, i have been asked, both by my friend poirot and the family themselves, to write an account of the whole story']\n"
          ]
        }
      ]
    },
    {
      "cell_type": "markdown",
      "metadata": {
        "id": "oSOXUdVL7K3S"
      },
      "source": [
        "### The Secret Adversary "
      ]
    },
    {
      "cell_type": "code",
      "metadata": {
        "id": "r5H-GPBS_FEy",
        "outputId": "77796050-3518-4c9f-c12c-cd72d8c644cd"
      },
      "source": [
        "bookindex=3\n",
        "print(det_occur[bookindex][0])"
      ],
      "execution_count": null,
      "outputs": [
        {
          "name": "stdout",
          "output_type": "stream",
          "text": [
            "#### ['Chapter: 1', 'Sentence: 1', 'Contents:  “tommy, old thing']\n"
          ]
        }
      ]
    },
    {
      "cell_type": "markdown",
      "metadata": {
        "id": "S-iX1pnI7K3T"
      },
      "source": [
        "### The Man in the Brown Suit "
      ]
    },
    {
      "cell_type": "code",
      "metadata": {
        "id": "2K-QrQvs_FEz",
        "outputId": "f4c25cdc-73c8-4efe-c9df-75fb5988192f"
      },
      "source": [
        "bookindex=4\n",
        "print(det_occur[bookindex][0])"
      ],
      "execution_count": null,
      "outputs": [
        {
          "name": "stdout",
          "output_type": "stream",
          "text": [
            "#### ['Chapter: 1', 'Sentence: 8', 'Contents: anne beddingfeld starts to narrate her adventures']\n"
          ]
        }
      ]
    },
    {
      "cell_type": "markdown",
      "metadata": {
        "id": "GqrnUi0W7K3T"
      },
      "source": [
        "### The Secret of Chimneys "
      ]
    },
    {
      "cell_type": "code",
      "metadata": {
        "id": "ZvPkQ2RZ_FEz",
        "outputId": "e63e6cc9-dd16-4def-9113-f6376768ce03"
      },
      "source": [
        "bookindex=5\n",
        "print(det_occur[bookindex][0])"
      ],
      "execution_count": null,
      "outputs": [
        {
          "name": "stdout",
          "output_type": "stream",
          "text": [
            "#### ['Chapter: 1', 'Sentence: 15', 'Contents: anthony cade and his friend had stepped a little apart']\n"
          ]
        }
      ]
    },
    {
      "cell_type": "code",
      "metadata": {
        "id": "YiF_y8U77K3T"
      },
      "source": [
        ""
      ],
      "execution_count": null,
      "outputs": []
    },
    {
      "cell_type": "code",
      "metadata": {
        "id": "ePM70xfk1wWY"
      },
      "source": [
        ""
      ],
      "execution_count": null,
      "outputs": []
    },
    {
      "cell_type": "markdown",
      "metadata": {
        "id": "-F_GYvFv16SX"
      },
      "source": [
        "### Q2. When is the crime first mentioned - the type of the crime and the details - chapter #, the sentence(s) # in a chapter,"
      ]
    },
    {
      "cell_type": "markdown",
      "metadata": {
        "id": "M7ueDUDH7K3U"
      },
      "source": [
        "### The Murder on the Links "
      ]
    },
    {
      "cell_type": "code",
      "metadata": {
        "id": "cqfLa4xM_FE0",
        "outputId": "3e80db43-9597-451a-e2c8-b6027a9a54f1"
      },
      "source": [
        "bookindex=1\n",
        "print(crime_occur[bookindex][0])"
      ],
      "execution_count": null,
      "outputs": [
        {
          "name": "stdout",
          "output_type": "stream",
          "text": [
            "['Chapter: 2', 'Sentence: 324', 'Contents: “m. renauld was murdered this morning']\n"
          ]
        }
      ]
    },
    {
      "cell_type": "markdown",
      "metadata": {
        "id": "Y44PFy0V7K3U"
      },
      "source": [
        "###  The Mysterious Affair at Styles "
      ]
    },
    {
      "cell_type": "code",
      "metadata": {
        "id": "EmYgVsbV_FE0",
        "outputId": "8f0ace8e-4fec-4449-d471-3d7a63db6409"
      },
      "source": [
        "bookindex=2\n",
        "print(crime_occur[bookindex][0])"
      ],
      "execution_count": null,
      "outputs": [
        {
          "name": "stdout",
          "output_type": "stream",
          "text": [
            "['Chapter: 3', 'Sentence: 48', 'Contents: mrs. inglethorp was lying on the bed, her whole form agitated by violent convulsions, in one of which she must have overturned the table beside her']\n"
          ]
        }
      ]
    },
    {
      "cell_type": "markdown",
      "metadata": {
        "id": "NStcTh9y7K3V"
      },
      "source": [
        "### The Secret Adversary "
      ]
    },
    {
      "cell_type": "code",
      "metadata": {
        "id": "m55wgf0p_FE1",
        "outputId": "61616243-2ac5-4791-99e0-f5c0f9f4f2c2"
      },
      "source": [
        "bookindex=3\n",
        "print(crime_occur[bookindex][0])"
      ],
      "execution_count": null,
      "outputs": [
        {
          "name": "stdout",
          "output_type": "stream",
          "text": [
            "['Chapter: 4', 'Sentence: 186', 'Contents: the disappearance of jane finn was forgotten and the whole affair was lost in oblivion']\n"
          ]
        }
      ]
    },
    {
      "cell_type": "markdown",
      "metadata": {
        "id": "aiZRlWfa7K3V"
      },
      "source": [
        "### The Man in the Brown Suit "
      ]
    },
    {
      "cell_type": "code",
      "metadata": {
        "id": "fqi0baXa_FE1",
        "outputId": "7c59207c-26b9-4a81-9c71-f153fdc7f782"
      },
      "source": [
        "bookindex=4\n",
        "print(crime_occur[bookindex][0])"
      ],
      "execution_count": null,
      "outputs": [
        {
          "name": "stdout",
          "output_type": "stream",
          "text": [
            "['Chapter: 4', 'Sentence: 26', 'Contents: the daily budget  had jumped to the conclusion that the man in the tube had murdered the woman and afterwards committed suicide']\n"
          ]
        }
      ]
    },
    {
      "cell_type": "markdown",
      "metadata": {
        "id": "DP6-CBQ97K3V"
      },
      "source": [
        "### The Secret of Chimneys "
      ]
    },
    {
      "cell_type": "code",
      "metadata": {
        "id": "NzNXQ4mP_FE2",
        "outputId": "48234fbc-2f29-4216-9c98-f19d852a427e"
      },
      "source": [
        "bookindex=5\n",
        "print(crime_occur[bookindex][0])"
      ],
      "execution_count": null,
      "outputs": [
        {
          "name": "stdout",
          "output_type": "stream",
          "text": [
            "['Chapter: 9', 'Sentence: 5', 'Contents: “he was killed less than half an hour ago']\n"
          ]
        }
      ]
    },
    {
      "cell_type": "code",
      "metadata": {
        "id": "1R9c9sHm1076"
      },
      "source": [
        "#####See killed; but this is not the central crime of the story"
      ],
      "execution_count": null,
      "outputs": []
    },
    {
      "cell_type": "markdown",
      "metadata": {
        "id": "Za8Ft8pn7K3W"
      },
      "source": [
        "### Q3. When is the perpetrator first mentioned - chapter #, the sentence(s) # in a chapter"
      ]
    },
    {
      "cell_type": "markdown",
      "metadata": {
        "id": "NsSmK5M07K3W"
      },
      "source": [
        "### The Murder on the Links "
      ]
    },
    {
      "cell_type": "code",
      "metadata": {
        "id": "fiMJLzyK_FE3",
        "outputId": "78bef8bb-ceb2-4490-e2e8-cc2ed3db1e0e"
      },
      "source": [
        "bookindex=1\n",
        "print(perp_occur[bookindex][0])"
      ],
      "execution_count": null,
      "outputs": [
        {
          "name": "stdout",
          "output_type": "stream",
          "text": [
            "['Chapter: 7', 'Sentence: 146', 'Contents: “mademoiselle daubreuil,” said m. hautet, sweeping off his hat, “we regret infinitely to disturb you, but the exigencies of the law—you comprehend']\n"
          ]
        }
      ]
    },
    {
      "cell_type": "markdown",
      "metadata": {
        "id": "Q3134GpU7K3W"
      },
      "source": [
        "###  The Mysterious Affair at Styles "
      ]
    },
    {
      "cell_type": "markdown",
      "metadata": {
        "id": "wIFv6Unu7K3W"
      },
      "source": [
        "Alfred Inglethorp and Evelyn Howard are first mentioned in chapter 1 in sentences 32 and 40 respectively"
      ]
    },
    {
      "cell_type": "code",
      "metadata": {
        "id": "eH0XtMXy_FE3",
        "outputId": "46037302-c295-463f-d7e5-3e03a6dbd08a"
      },
      "source": [
        "bookindex=2\n",
        "print(perp_occur[bookindex][0])"
      ],
      "execution_count": null,
      "outputs": [
        {
          "name": "stdout",
          "output_type": "stream",
          "text": [
            "['Chapter: 1', 'Sentence: 33', 'Contents: as for evie—you remember evie']\n"
          ]
        }
      ]
    },
    {
      "cell_type": "markdown",
      "metadata": {
        "id": "8XXfXfOM7K3X"
      },
      "source": [
        "### The Secret Adversary "
      ]
    },
    {
      "cell_type": "code",
      "metadata": {
        "id": "eeDAwisY_FE4",
        "outputId": "cef89f86-1ad9-4788-8901-00f10d8a0d84"
      },
      "source": [
        "bookindex=3\n",
        "print(perp_occur[bookindex][0])"
      ],
      "execution_count": null,
      "outputs": [
        {
          "name": "stdout",
          "output_type": "stream",
          "text": [
            "['Chapter: 10', 'Sentence: 74', 'Contents: “in the meantime, you are going about everywhere with peel edgerton']\n"
          ]
        }
      ]
    },
    {
      "cell_type": "markdown",
      "metadata": {
        "id": "9H4kp1Iv7K3X"
      },
      "source": [
        "### The Man in the Brown Suit "
      ]
    },
    {
      "cell_type": "code",
      "metadata": {
        "id": "BA1ovOxQ_FE4",
        "outputId": "86c4839a-e5cd-4f38-9bec-b760d7c8c8cf"
      },
      "source": [
        "bookindex=4\n",
        "print(perp_occur[bookindex][0])"
      ],
      "execution_count": null,
      "outputs": [
        {
          "name": "stdout",
          "output_type": "stream",
          "text": [
            "['Chapter: 1', 'Sentence: 6', 'Contents: very fortunately, too, the gaps that i cannot supply from my own knowledge are amply covered by sir eustace pedler’s diary, of which he has kindly begged me to make use']\n"
          ]
        }
      ]
    },
    {
      "cell_type": "markdown",
      "metadata": {
        "id": "XuwnS9Oa7K3X"
      },
      "source": [
        "### The Secret of Chimneys "
      ]
    },
    {
      "cell_type": "code",
      "metadata": {
        "id": "EWzmSFfF_FE4",
        "outputId": "07992492-75c5-4c89-e59b-7abfb075abc6"
      },
      "source": [
        "bookindex=5\n",
        "print(perp_occur[bookindex][0])"
      ],
      "execution_count": null,
      "outputs": [
        {
          "name": "stdout",
          "output_type": "stream",
          "text": [
            "['Chapter: 15', 'Sentence: 187', 'Contents: let me see—yes—that’s mademoiselle brun’s room']\n"
          ]
        }
      ]
    },
    {
      "cell_type": "code",
      "metadata": {
        "id": "4OWqQFtC155B"
      },
      "source": [
        ""
      ],
      "execution_count": null,
      "outputs": []
    },
    {
      "cell_type": "markdown",
      "metadata": {
        "id": "x9fR1d6_7K3Y"
      },
      "source": [
        "### Q4. What are the 3 words that occur around the perpetrator on each mention (i.e., the three words preceding, and the three words following the mention of a perpetrator),"
      ]
    },
    {
      "cell_type": "markdown",
      "metadata": {
        "id": "L4rnIkeE7K3Y"
      },
      "source": [
        "### The Murder on the Links "
      ]
    },
    {
      "cell_type": "code",
      "metadata": {
        "id": "qEbeYNyM_FE5",
        "outputId": "d32dfd08-3f74-4096-fc47-76dff888d2df"
      },
      "source": [
        "bookindex=1\n",
        "for n in perp_neighbors[bookindex]:\n",
        "  print(n)"
      ],
      "execution_count": null,
      "outputs": [
        {
          "name": "stdout",
          "output_type": "stream",
          "text": [
            "['she', 'was', 'afraid', 'said', 'm', 'hautet']\n",
            "['turned', 'to', 'her', 'dear', 'but', 'the']\n",
            "['to', 'speak', 'before', 'as', 'my', 'daughter']\n",
            "['us', 'it', 'was', 'i', 'beg', 'your']\n",
            "['our', 'amélie', 'explained', 'with', 'a', 'blush']\n",
            "['your', 'heart', 'on', 'she', 'is', 'not']\n",
            "['the', 'quarrel', 'was', 'renauld', 'sprang', 'round']\n",
            "['admitted', 'i', 'love', 'and', 'i', 'wish']\n",
            "['boy', 'you', 'too', 'is', 'as', 'good']\n",
            "['have', 'nothing', 'against', 'in', 'any', 'way']\n",
            "['your', 'intentions', 'towards', 'he', 'resumed', 'he']\n",
            "['he', 'had', 'against', 'to', 'that', 'he']\n",
            "['i', 'was', 'marrying', 'and', 'not', 'her']\n",
            "['i', 'wrote', 'to', 'telling', 'her', 'what']\n",
            "['yesterday', 'it', 'was', 'today', 'it', 'is']\n",
            "['to', 'rag', 'me', 'is', 'a', 'very']\n",
            "['him', 'out', 'with', 'but', 'i', 'fear']\n",
            "['beautiful', 'girl', 'like', 'and', 'the', 'result']\n",
            "['always', 'think', 'of', 'as', 'the', 'girl']\n",
            "['of', 'the', 'beautiful', 'chéri', 'she', 'was']\n",
            "['you', 'know', 'it', 'jack', 'renauld', 'replied']\n",
            "['deep', 'anxiety', 'underlying', 's', 'tones—but', 'i']\n",
            "['the', 'reason', 'of', 's', 'poignant', 'anxiety']\n",
            "['thing', 'was', 'certain', 'had', 'known', 'all']\n",
            "['see', 'my', 'fiancée', 'i', 'was', 'on']\n",
            "['over', 'his', 'shoulder', 'may', 'find', 'herself']\n",
            "['the', 'moment', 'that', 'looking', 'slightly', 'startled']\n",
            "['house', 'maman', 'whispered', 'i', 'must', 'go']\n",
            "['absolute', 'truth', 'unwittingly', 'told', 'us', 'the']\n",
            "['if', 'he', 'saw', 'on', 'the', 'night']\n",
            "['me', 'to', 'see', 'before', 'he', 'could']\n",
            "['did', 'not', 'see', 'whom', 'did', 'he']\n",
            "['wish', 'to', 'marry', 'son', 'leaves', 'for']\n",
            "['garden', 'witnessed', 'by', 'letter', 'written', 'to']\n",
            "['wish', 'to', 'marry', 'son', 'leaves', 'for']\n",
            "['returning', 'to', 'see', 'come', 'face', 'to']\n",
            "['the', 'ears', 'of', 'i', 'shook', 'my']\n",
            "['to', 'help', 'us', 'i', 'handed', 'it']\n",
            "['the', 'villa', 'marguerite', 'was', 'at', 'the']\n",
            "['poirot', 'watching', 'her', 'frowned', 'screening', 'some']\n",
            "['s', 'real', 'name', 'looked', 'at', 'him']\n",
            "['departure', 'for', 'england', 'listened', 'spellbound', 'when']\n",
            "['merlinville', 'to', 'rejoin', 'and', 'his', 'mother']\n",
            "['after', 'i', 'met', 'and', 'realized', 'i']\n",
            "['its', 'coming', 'to', 's', 'ears', 'and']\n",
            "['order', 'to', 'see', 'before', 'going', 'to']\n",
            "['in', 'person', 'to', 'eh', 'finished', 'poirot']\n",
            "['are', 'jack', 'and', 'i', 'exclaimed', 'looking']\n",
            "['better', 'not', 'but', 'and', 'i', 'in']\n",
            "['murmured', 'poirot', 'to', 'where', 'can', 'we']\n",
            "['the', 'charge', 'of', 'and', 'her', 'mother']\n",
            "['the', 'profile', 'of', 'ah', 'said', 'poirot']\n",
            "['into', 'the', 'bedroom', 'was', 'embroidering', 'by']\n",
            "['the', 'profile', 'of', 'as', 'she', 'bent']\n",
            "['beautiful', 'face', 'of', '', 'i', 'have']\n",
            "['that', 'we', 'found', 's', 'body', 'in']\n",
            "['them', 'yes', 'from', 's', 'own', 'lips']\n",
            "['easily', 'you', 'overheard', 's', 'conversation', 'with']\n",
            "['possible', 'motive', 'could', 'have', 'for', 'murdering']\n",
            "['the', 'standpoint', 'of', 'marthe', 'daubreuil', 'overhears']\n",
            "['of', 'marthe', 'daubreuil', 'overhears', 'what', 'passes']\n",
            "['the', 'mind', 'of', 'in', 'fact', 'i']\n",
            "['me', 'infallibly', 'to', 'the', 'dagger', 'jack']\n",
            "['third', 'one', 'to', 'so', 'then', 'to']\n",
            "['of', 'note', 'against', '(1)', 'marthe', 'daubreuil']\n",
            "['marthe', 'daubreuil', '(1)', 'could', 'have', 'overheard']\n",
            "['s', 'plans', '(2)', 'had', 'a', 'direct']\n",
            "['s', 'death', '(3)', 'was', 'the', 'daughter']\n",
            "['actual', 'blow', '(4)', 'was', 'the', 'only']\n",
            "['the', 'crime', 'was', 'but', 'i', 'had']\n",
            "['by', 'jack', 'to', 'why', 'then', 'bella']\n",
            "['steps', 'to', 'force', 'into', 'the', 'open']\n",
            "['as', 'i', 'thought', 'made', 'a', 'last']\n",
            "['brains', 'that', 'beautiful', 'and', 'her', 'object']\n",
            "['the', 'floor', 'by', 's', 'body', 'i']\n",
            "['go', 'quite', 'as', 'had', 'planned', 'to']\n",
            "['last', 'chance', 'for', 'the', 'idea', 'of']\n",
            "['begin', 'to', 'suspect', 'poirot', 'when', 'she']\n",
            "['have', 'thought', 'of', 'from', 'the', 'beginning']\n",
            "['a', 'siren', 'and', 'as', 'the', 'girl']\n",
            "['to', 'the', 'truth', 'was', 'very', 'beautiful']\n"
          ]
        }
      ]
    },
    {
      "cell_type": "markdown",
      "metadata": {
        "id": "doIeja5v7K3Y"
      },
      "source": [
        "###  The Mysterious Affair at Styles "
      ]
    },
    {
      "cell_type": "code",
      "metadata": {
        "id": "dJDX7SY9_FE6",
        "outputId": "bd0a581f-8779-4aec-f04a-c9abec29bae0"
      },
      "source": [
        "bookindex=2\n",
        "for n in perp_neighbors[bookindex]:\n",
        "  print(n)"
      ],
      "execution_count": null,
      "outputs": [
        {
          "name": "stdout",
          "output_type": "stream",
          "text": [
            "['us', 'as', 'for', 'you', 'remember', 'evie']\n",
            "['for', 'evie—you', 'remember', 'no', 'oh', 'i']\n",
            "['a', 'great', 'sport—old', 'not', 'precisely', 'young']\n",
            "['of', 'being', 'a', 'or', 'something', 'of']\n",
            "['or', 'something', 'of', 's', 'though', 'she']\n",
            "['that', 'she', 'and', 'were', 'engaged', 'the']\n",
            "['for', 'that', 'fellow', 'he', 'checked', 'the']\n",
            "['our', 'approach', 'hullo', 'here', 's', 'our']\n",
            "['hero', 'mr', 'hastings', 'miss', 'howard', 'shook']\n",
            "['mr', 'hastings—miss', 'howard', 'shook', 'hands', 'with']\n",
            "['re', 'a', 'cynic', 'said', 'john', 'laughing']\n",
            "['refreshed', 'well', 'said', 'drawing', 'off', 'her']\n",
            "['princess', 'after', 'tea', 'i', 'll', 'write']\n",
            "['are', 'so', 'thoughtful', 'dear', 'the', 'french']\n",
            "['all', 'these', 'years', 'darling', 'mr', 'hastings—my']\n",
            "['some', 'curiosity', 'at', 'darling', 'he', 'certainly']\n",
            "['upon', 'the', 'company', 'in', 'particular', 'took']\n",
            "['about', 'letters', 'to', 'and', 'her', 'husband']\n",
            "['story', 'myself', 'remarked', 'lots', 'of', 'nonsense']\n",
            "['of', 'a', 'mess', 's', 'had', 'a']\n",
            "['a', 'row', 'with', 'and', 'she', 's']\n",
            "['she', 's', 'off', 'off', 'john', 'nodded']\n",
            "['and—oh', '—here', 's', 'herself', 'miss', 'howard']\n",
            "['s', 'evie', 'herself', 'entered', 'her', 'lips']\n",
            "['mind', 'my', 'dear', 'cried', 'mrs', 'cavendish']\n",
            "['t', 'be', 'true', 'nodded', 'grimly', 'true']\n",
            "['just', 'ask', 'your', 'how', 'much', 'time']\n",
            "['did', 'she', 'say', 'made', 'an', 'extremely']\n",
            "['expressive', 'grimace', 'darling', '—', 'dearest', 'alfred']\n",
            "['alfred', '—', 'dearest', '—', 'wicked', 'calumnies']\n",
            "['left', 'the', 'room', 's', 'face', 'changed']\n",
            "['her', 'of', 'course', 'i', 'said', 'i']\n",
            "['open', 'window', 'and', 'rose', 'and', 'moved']\n",
            "['time', 'for', 'more', 'was', 'swallowed', 'up']\n",
            "['in', 'england', 'than', 'he', 'took', 'the']\n",
            "['the', 'one', 'that', '', 'exactly', 'said']\n",
            "['felt', 'that', 'with', 'something', 'indefinable', 'had']\n",
            "['a', 'letter', 'from', 'a', 'couple', 'of']\n",
            "['gipsy', 'face', 'and', 's', 'warnings', 'but']\n",
            "['a', 'few', 'moments', 'had', 'ushered', 'the']\n",
            "['i', 'realized', 'that', 'was', 'not', 'with']\n",
            "['on', 'the', 'doctor', 'alfred—', 'then', 'she']\n",
            "['the', 'doctor', 'alfred', '', 'then', 'she']\n",
            "['met', 'where', 'was', 'his', 'absence', 'was']\n",
            "['mrs', 'inglethorp', 'and', 'and', 'of', 'the']\n",
            "['we', 'passed', 'through', 's', 'room', 'and']\n",
            "['one', 'was', 'to', 'and', 'one', 'was']\n",
            "['had', 'gone', 'to', 'writing', 'notices', 'for']\n",
            "['i', 'pass', 'over', 'who', 'acted', 'the']\n",
            "['family—we', 'will', 'say', 'for', 'instance—would', 'you']\n",
            "['her', 'money', 'to', 'i', 'asked', 'in']\n",
            "['it', 'swept', 'past', 'cried', 'john', 'excuse']\n",
            "['inquiringly', 'at', 'me', 'i', 'explained', 'ah']\n",
            "['the', 'hall', 'where', 'was', 'endeavouring', 'to']\n",
            "['she', 'had', 'known', 'only', 'too', 'well']\n",
            "['eat', 'this', 'morning', 'asked', 'john', 'no']\n",
            "['us', 'you', 'know', 'miss', 'howard', 'shook']\n",
            "['you', 'know', 'evie', 'shook', 'hands', 'with']\n",
            "['to', 'prison', 'who', 'of', 'course', 'my']\n",
            "['course', 'my', 'dear', 'do', 'be', 'careful']\n",
            "['fool', 'lawrence', 'retorted', 'of', 'course', 'alfred']\n",
            "['howard', 'of', 'course', 'murdered', 'poor', 'emily—as']\n",
            "['would', 'my', 'dear', 'don', 't', 'shout']\n",
            "['fiddlesticks', 'the', 'snort', 'gave', 'was', 'truly']\n",
            "['dash', 'it', 'all', 'i', 'can', 't']\n",
            "['that', 'to', 'harbour', 'and', 'alfred', 'inglethorp']\n",
            "['miss', 'howard', 'and', 'under', 'the', 'same']\n",
            "['sat', 'down', 'facing', 'mademoiselle', 'he', 'said']\n",
            "['you', 'to', 'hang', 'with', 'pleasure', 'she']\n",
            "['hang', 'the', 'criminal', 'him', 'or', 'another']\n",
            "['along', 'comes', 'mr', 'and', 'within', 'two']\n",
            "['presto', 'believe', 'me', 'said', 'poirot', 'very']\n",
            "['s', 'better', 'said', 'more', 'enthusiastically', 'but']\n",
            "['that', 'have', 'wept', 'blinked', 'and', 'a']\n",
            "['mr', 'inglethorp', 'and', 'she', 'looked', 'at']\n",
            "['her', 'fortune', 'to', 'it', 'must', 'have']\n",
            "['yes', 'i', 'said', 'without', 'doubt', 'poirot']\n",
            "['wilful', 'murder', 'against', 'what', 'becomes', 'of']\n",
            "['if', 'i', 'let', 'her', 'husband', 'be']\n",
            "['walked', 'on', 'sharply', 'had', 'been', 'right']\n",
            "['i', 'thought', 'of', 's', 'liberality', 'with']\n",
            "['and', 'gasped', 'out', 'alfred——', 'could', 'the']\n",
            "['gasped', 'out', 'alfred', '—', 'could', 'the']\n",
            "['that', 'is', 'all', 'miss', 'howard', 'produced']\n",
            "['all', 'miss', 'howard', 'produced', 'the', 'letter']\n",
            "['17th', 'my', 'dear', 'can', 'we', 'not']\n",
            "['to', 'me', 'said', 'shortly', 'it', 'shows']\n",
            "['of', 'the', 'jury', 'was', 'obviously', 'quite']\n",
            "['apprehension', 'thank', 'you', 'that', 'is', 'all']\n",
            "['simultaneously', 'to', 'where', 'was', 'sitting', 'impassive']\n",
            "['a', 'breathless', 'silence', 'was', 'called', 'did']\n",
            "['mace', 's', 'statement', 'replied', 'imperturbably', 'mr']\n",
            "['pardon', 'me', 'interrupted', 'you', 'have', 'been']\n",
            "['last', 'convinced', 'of', 's', 'guilt', 'mr']\n",
            "['not', 'enough', 'and', 'must', 'not', 'be']\n",
            "['the', 'possibility', 'of', 's', 'innocence', 'why']\n",
            "['important', 'fact', 'that', 'wears', 'peculiar', 'clothes']\n",
            "['the', 'case', 'of', 'all', 'that', 'is']\n",
            "['glasses', 'was', 'not', 'it', 'may', 'be']\n",
            "['the', 'fate', 'of', 'and', 'thought', 'that']\n",
            "['should', 'be', 'shielding', 'yet', 'that', 'is']\n",
            "['there', 's', 'john—and', 'surely', 'they', 'were']\n",
            "['an', 'unpleasant', 'shock', 's', 'evidence', 'unimportant']\n",
            "['so', 'i', 'asked', 'had', 'always', 'seemed']\n",
            "['it', 'concerns', 'mr', 'inglethorp', 'was', 'sitting']\n",
            "['with', 'a', 'groan', 'sank', 'down', 'again']\n",
            "['speak', 'for', 'you', 'sprang', 'up', 'again']\n",
            "['untrue', 'one', 'interrupted', 'in', 'an', 'agitated']\n",
            "['baleful', 'glance', 'at', 'now', 'sir', 'said']\n",
            "['suspicion', 'in', 'clearing', 'continued', 'poirot', 'i']\n",
            "['absurd—but', 'i', 'suspect', 'of', 'not', 'telling']\n",
            "['all', 'she', 'knows', 'yes—you', 'll', 'laugh']\n",
            "['i', 'learnt', 'that', 'had', 'been', 'on']\n",
            "['or', 'degenerate', 'about', 'she', 'is', 'an']\n",
            "['are', 'there', 'against', 's', 'having', 'deliberately']\n",
            "['a', 'child', 'if', 'were', 'capable', 'of']\n",
            "['her', 'vehemence', 'against', 'is', 'too', 'violent']\n",
            "['insuperable', 'objection', 'to', 's', 'being', 'the']\n",
            "['s', 'death', 'benefit', 'now', 'there', 'is']\n",
            "['in', 'my', 'mind', 'occupied', 'very', 'much']\n",
            "['was', 'not', 'in', 's', 'favour', 'i']\n",
            "['we', 'will', 'acquit', 'then', 'it', 'is']\n",
            "['his', 'belief', 'in', 's', 'innocence', 'had']\n",
            "['thoughtfully', 'here', 'comes', 'said', 'poirot', 'suddenly']\n",
            "['was', 'barely', 'civil', 'assented', 'to', 'poirot']\n",
            "['monsieur', 'poirot', 'said', 'impatiently', 'what', 'is']\n",
            "['with', 'pleasure—to', 'hang', 'ah', 'poirot', 'studied']\n",
            "['studied', 'her', 'seriously', 'i', 'will', 'ask']\n",
            "['tell', 'lies', 'replied', 'it', 'is', 'this']\n",
            "['good', 'heavens', 'cried', 'haven', 't', 'i']\n",
            "['what', 'little', 'idea', 'do', 'you', 'remember']\n",
            "['my', 'instinct', 'against', 'no', 'said', 'poirot']\n",
            "['no', 'no', 'cried', 'wildly', 'flinging', 'up']\n",
            "['it', 'must', 'be', 'poirot', 'shook', 'his']\n",
            "['about', 'it', 'continued', 'because', 'i', 'shan']\n",
            "['you', 'will', 'watch', 'bowed', 'her', 'head']\n",
            "['we', 'are', 'right', 'on', 'whose', 'side']\n",
            "['she', 'broke', 'off', 'said', 'poirot', 'gravely']\n",
            "['that', 'was', 'not', 'who', 'spoke', 'she']\n",
            "['proudly', 'this', 'is', 'and', 'she', 'is']\n",
            "['ignored', 'you', 'and', 'seem', 'to', 'know']\n",
            "['who', 'had', 'murdered', 'with', 'a', 'croquet']\n",
            "['between', 'poirot', 'and', 'was', 'this', 'what']\n",
            "['monstrous', 'possibility', 'that', 'had', 'tried', 'not']\n",
            "['in', 'no', 'wonder', 'had', 'suggested', 'hushing']\n",
            "['paul', 'prys', 'grunted', 'lawrence', 'opined', 'that']\n",
            "['there', 'is', 'john—and', '', 'cynthia', 'nodded']\n",
            "['and', 'of', 'course', 'for', 'all', 'her']\n",
            "['me', 'she', 'wants', 'to', 'stay', 'on']\n",
            "['sudden', 'entrance', 'of', 'she', 'glanced', 'round']\n",
            "['existence', 'i', 'set', 'to', 'search', 'for']\n",
            "['it', 'was', 'not', 'who', 'was', 'quarrelling']\n",
            "['not', 'cross', 'examined', 'was', 'called', 'and']\n",
            "['it', 'would', 'be', 'who', 'would', 'attend']\n",
            "['anything', 'like', 'that', 'was', 'called', 'and']\n",
            "['it', 'i', 'believe', 'that', 'it', 'was']\n",
            "['my', 'beloved', 'husband', 'ing', 'this', 'placed']\n",
            "['of', 'her', 'pride', 'had', 'been', 'right']\n",
            "['her', 'animosity', 'against', 'had', 'caused', 'her']\n",
            "['the', 'signature', 'of', 'in', 'the', 'chemist']\n",
            "['the', 'name', 'of', 'no', 'that', 'is']\n",
            "['he', 'did', 'so', 'here', 'mademoiselle', 'cynthia']\n",
            "['him', 'a', 'note', 'rose', 'immediately', 'from']\n",
            "['low', 'voice', 'finally', 'consented', 'to', 'return']\n",
            "['few', 'minutes', 'later', 'entered', 'the', 'room']\n",
            "['throat', 'read', 'dearest', 'you', 'will', 'be']\n",
            "['the', 'murderer', 'mr', '', 'poirot', 'you']\n",
            "['once', 'more', 'while', 'and', 'miss', 'howard']\n",
            "['alfred', 'inglethorp', 'and', 'were', 'in', 'custody']\n",
            "['you', 'saw', 'mr', 'that', 'astute', 'gentleman']\n",
            "['the', 'conclusion', 'that', 'wanted', 'to', 'be']\n",
            "['that', 'it', 'was', 'who', 'went', 'to']\n",
            "['chemist', 's', 'shop', 'but', 'certainly', 'who']\n",
            "['to', 'think', 'that', 'was', 'the', 'master']\n",
            "['by', 'that', 'time', 'will', 'have', 'engineered']\n",
            "['six', 'o', 'clock', 'arranges', 'to', 'be']\n",
            "['from', 'the', 'village', 'has', 'previously', 'made']\n",
            "['six', 'o', 'clock', 'disguised', 'as', 'alfred']\n",
            "['howard', 'disguised', 'as', 'enters', 'the', 'chemist']\n",
            "['the', 'name', 'of', 'in', 'john', 's']\n",
            "['all', 'goes', 'well', 'goes', 'back', 'to']\n",
            "['back', 'to', 'middlingham', 'returns', 'to', 'styles']\n",
            "['since', 'it', 'is', 'who', 'has', 'the']\n",
            "['her', 'husband', 'and', 'though', 'unfortunately', 'the']\n",
            "['vase', 'but', 'surely', 'had', 'ample', 'opportunities']\n",
            "['him', 'yes', 'but', 'did', 'not', 'know']\n",
            "['never', 'spoke', 'to', 'they', 'were', 'supposed']\n",
            "['begin', 'to', 'suspect', 'when', 'i', 'discovered']\n",
            "['7th—the', 'day', 'after', 's', 'departure', 'the']\n",
            "['myself', 'why', 'does', 'suppress', 'the', 'letter']\n",
            "['two', 'reasons', 'why', 'could', 'not', 'have']\n",
            "['that', 'she', 'and', 'were', 'cousins', 'she']\n"
          ]
        }
      ]
    },
    {
      "cell_type": "code",
      "metadata": {
        "id": "u-sZeYwg19lB"
      },
      "source": [
        ""
      ],
      "execution_count": null,
      "outputs": []
    },
    {
      "cell_type": "markdown",
      "metadata": {
        "id": "YK3vWYso7K3a"
      },
      "source": [
        "### The Secret Adversary "
      ]
    },
    {
      "cell_type": "code",
      "metadata": {
        "id": "iadwTZDJ_FE6",
        "outputId": "944beef8-cfb4-4ec9-f1fd-6be4faeb7373"
      },
      "source": [
        "bookindex=3\n",
        "for n in perp_neighbors[bookindex]:\n",
        "  print(n)"
      ],
      "execution_count": null,
      "outputs": [
        {
          "name": "stdout",
          "output_type": "stream",
          "text": [
            "['about', 'everywhere', 'with', 'not', 'only', 'is']\n",
            "['and', 'give', 'up', 'mrs', 'vandemeyer', 'shook']\n",
            "['late', 'they', 'say', 'can', 'smell', 'a']\n",
            "['all', 'that', 'interests', 'boris', 'shook', 'his']\n",
            "['her', 'his', 'name', 'she', 'looked', 'at']\n",
            "['boris', 's', 'agitation', 'would', 'not', 'be']\n",
            "['began', 'tuppence', 'but', 'was', 'already', 'on']\n",
            "['her', 'encounter', 'with', 'julius', 'was', 'interested']\n",
            "['of', 'appealing', 'to', 'indeed', 'she', 'had']\n",
            "['to', 'ask', 'if', 'was', 'at', 'home']\n",
            "['will', 'you', 'ask', 'if', 'i', 'can']\n",
            "['or', 'two', 'later', 'will', 'see', 'you']\n",
            "['is', 'mr', 'hersheimmer', 'pleased', 'to', 'meet']\n",
            "['sit', 'down', 'asked', 'he', 'drew', 'forward']\n",
            "['forward', 'two', 'chairs', 'said', 'tuppence', 'plunging']\n",
            "['breath', 'tommy', 'queried', 'looking', 'across', 'at']\n",
            "['it', 'was', 'admitted', 'gravely', 'well', 'i']\n",
            "['me', 'a', 'hint', 'smiled', 'at', 'her']\n",
            "['to', 'well', 'said', 'still', 'smiling', 'without']\n",
            "['the', 'whole', 'story', 'i', 've', 'a']\n",
            "['about', 'it', 'said', 'i', 'want', 'to']\n",
            "['gaze', 'ah', 'oh', 'broke', 'out', 'tuppence']\n",
            "['think', 'of', 'everything', 'smiled', 'and', 'yet']\n",
            "['her', 'questions', 'replied', 'easily', 'that', 's']\n",
            "['one', 'million', 'dollars', 'sat', 'down', 'and']\n",
            "['for', 'your', 'fee', 'flushed', 'slightly', 'there']\n",
            "['probably', 'right', 'said', 'dryly', 'but', 'it']\n",
            "['s', 'your', 'idea', 'considered', 'for', 'a']\n",
            "['easy', 'to', 'follow', 's', 'advice', 'and']\n",
            "['him', 'to', 'get', 'and', 'come', 'on']\n",
            "['him', 'ring', 'up', 'you', 'll', 'find']\n",
            "['the', 'doorway', 'were', 'and', 'julius', 'hersheimmer']\n",
            "['julius', 'hersheimmer', '', 'brushed', 'past', 'julius']\n",
            "['passage', 'between', 'them', 'and', 'tuppence', 'lifted']\n",
            "['he', 'handed', 'to', 'while', 'tuppence', 'lifted']\n",
            "['with', 'closed', 'eyes', 'kept', 'his', 'finger']\n",
            "['is', 'true', 'said', 'meditatively', 'i', 'must']\n",
            "['is', 'right', 'said', 'quietly', 'we', 'must']\n",
            "['a', 'dictaphone', 'said', 'dryly', 'we', 'have']\n",
            "['with', 'his', 'suggestion', 'again', 'felt', 'mrs']\n",
            "['room', 'julius', 'and', 'were', 'talking', 'in']\n",
            "['a', 'low', 'voice', 'turned', 'to', 'her']\n",
            "['ran', 'round', 'for', 'here', 'and', 'we']\n",
            "['miss', 'tuppence', 'said', 'you', 'know', 'this']\n",
            "['the', 'way', 'there', 'looked', 'round', 'approvingly']\n",
            "['t', 'thank', 'you', 'i', 'should', 'dream']\n",
            "['miss', 'tuppence', 'said', 'we', 'want', 'to']\n",
            "['an', 'admiring', 'bully', 'said', 'nothing', 'until']\n",
            "['know', 'confessed', 'tuppence', 'stroked', 'his', 'chin']\n",
            "['she', 'can', 'be', 'the', 'lawyer', 'shook']\n",
            "['you', 'have', 'where', 'smiled', 'at', 'the']\n",
            "['you', 'say', 'asked', 'that', 'is', 'curious']\n",
            "['head', 'curious', 'mused', 'you', 'did', 'not']\n",
            "['looked', 'appealingly', 'at', 'who', 'replied', 'gravely']\n",
            "['confessed', 'yes', 'said', 'we', 'are', 'in']\n",
            "['glimmerings', 'of', 'dawn', 'drew', 'aside', 'the']\n",
            "['wake', 'up', 'in', 'and', 'julius', 'accompanied']\n",
            "['julius', 'reassuringly', 'but', 'said', 'nothing', 'tuppence']\n",
            "['suggested', 'julius', 'but', 'interrupted', 'him', 'mr']\n",
            "['was', 'deferential', 'to', 'whom', 'he', 'recognized']\n",
            "['arranged', 'owing', 'to', 's', 'skilful', 'handling']\n",
            "['he', 'would', 'let', 'know', 'he', 'understood']\n",
            "['had', 'already', 'left', 'and', 'his', 'young']\n",
            "['did', 'not', 'but', 'referred', 'him', 'to']\n",
            "['out', 'for', 'good', 'stroked', 'his', 'chin']\n",
            "['and', 'call', 'for', 'in', 'the', 'car']\n",
            "['dr', 'hall', 'said', 'pleasantly', 'let', 'me']\n",
            "['in', 'private', 'asked', 'certainly', 'i', 'think']\n",
            "['looked', 'inquiringly', 'at', 'dr', 'hall', 'i']\n",
            "['matter', 'of', 'testimony', 'hesitated', 'a', 'moment']\n",
            "['the', 'name', 'said', 'bluntly', 'is', 'really']\n",
            "['starting', 'yes', 'said', 'and', 'stroked', 'his']\n",
            "['track', 'i', 'think', 'looked', 'round', 'as']\n",
            "['as', 'i', 'gather', 'that', 'the', 'matter']\n",
            "['remembers', 'nothing', 'said', 'slowly', 'nothing', 'prior']\n",
            "['she', 'would', 'said', 'grimly', 'i', 'fell']\n",
            "['appealing', 'face', 'to', 'who', 'smiled', 'slightly']\n",
            "['warning', 'glance', 'from', 'made', 'her', 'hold']\n",
            "['be', 'seen', 'said', 'gravely', 'the', 'other']\n",
            "['he', 'saw', 'that', 'was', 'determined', 'to']\n",
            "['she', 'appealed', 'to', 'i', 'should', 'advise']\n",
            "['tuppence', 'the', 'practical', 'shrugged', 'his', 'shoulders']\n",
            "['the', 'best', 'said', 'oh', 'yes', 'we']\n",
            "['face', 'grew', 'grave', 'took', 'tuppence', 's']\n",
            "['the', 'girl', 'hesitated', 'shrugged', 'his', 'shoulders']\n",
            "['pity', 'came', 'into', 's', 'keen', 'eyes']\n",
            "['beginning', 'to', 'understand', 's', 'methods', 'once']\n",
            "['shut', 'it', 'again', 's', 'words', 'sounded']\n",
            "['over', 'the', 'business', 'to', 'day', 'hadn']\n",
            "['bound', 'up', 'with', 's', 'enigmatical', 'words']\n",
            "['the', 'call', 'upon', 'and', 'the', 'sensational']\n",
            "['julius', 'dryly', 'and', 'what', 'did', 'he']\n",
            "['even', 'the', 'highbrow', 'have', 'all', 'got']\n",
            "['midland', 'hotel', 'immediately', 'julius', 'took', 'the']\n",
            "['wired', 'accordingly', 'to', 'he', 's', 'booked']\n",
            "['his', 'head', 'unconvinced', 'arrived', 'punctually', 'at']\n",
            "['julius', 'introduced', 'tommy', 'shook', 'hands', 'with']\n",
            "['was', 'conscious', 'of', 's', 'close', 'scrutiny']\n",
            "['of', 'learning', 'that', 'took', 'in', 'everything']\n",
            "['questions', 'how', 'had', 'managed', 'to', 'track']\n",
            "['and', 'so', 'on', 'stroked', 'his', 'chin']\n",
            "['be', 'possible', 'said', 'gravely', 'why', 'because']\n",
            "['cried', 'julius', 'excitedly', 'tapped', 'the', 'table']\n",
            "['fairy', 'tale', 'but', 'was', 'far', 'too']\n",
            "['before', 'only', 'suspected', 's', 'presence', 'in']\n",
            "['i', 'fear', 'said', 'it', 'is', 'very']\n",
            "['was', 'something', 'in', 'which', 'always', 'stirred']\n",
            "['his', 'eyes', 'held', 's', 'defiantly', 'for']\n",
            "['by', 'questions', 'from', 'he', 'gave', 'an']\n",
            "['girl', 'sir', 'no', 'smiled', 'a', 'little']\n",
            "['to', 'protest', 'but', 'went', 'on', 'there']\n",
            "['have', 'got', 'away', 'nodded', 'thoughtfully', 'what']\n",
            "['out', 'naturally', 'said', 'dryly', 'and', 'not']\n",
            "['i', 'had', 'said', 'quietly', 'he', 'sat']\n",
            "['week', 'ago', 'how', 's', 'questions', 'fairly']\n",
            "['their', 'futile', 'search', 'went', 'at', 'once']\n",
            "['i', 'thought', 'sir', 'looked', 'at', 'him']\n",
            "['voice', 'which', 'made', 'look', 'up', 'sharply']\n",
            "['with', 'you', 'said', 'shortly', 'mr', 'brown']\n",
            "['the', 'appointed', 'spot', 'had', 'joined', 'them']\n",
            "['his', 'confidence', 'in', 'was', 'growing', 'there']\n",
            "['large', 'wondering', 'eyes', 'spoke', 'first', 'miss']\n",
            "['looked', 'across', 'at', 'who', 'nodded', 'don']\n",
            "['those', 'papers', 'back', 'is', 'an', 'english']\n",
            "['we', 'thought', 'said', 'he', 'said', 'they']\n",
            "['go', 'on', 'said', 'in', 'his', 'quiet']\n",
            "['finn', 'it', 'was', 'who', 'spoke', 'i']\n",
            "['council', 'of', 'war', 'had', 'drawn', 'a']\n",
            "['had', 'settled', 'on', 's', 'brow', 'i']\n",
            "['hope', 'so', 'said', 'sure', 'thing', 'what']\n",
            "['for', 'once', 'and', 'added', 'on', 'a']\n",
            "['wish', 'that', 'chap', 'had', 'been', 'with']\n",
            "['of', 'sympathy', 'from', 'who', 'had', 'read']\n",
            "['the', 'argentine', 'where', 'had', 'considerable', 'interests']\n",
            "['he', 're', 'read', 's', 'letter', 'and']\n",
            "['at', 'the', 'ritz', 'said', 'you', 'would']\n",
            "['behind', 'you', 'mean', 'peel', 'edgerton', 'said']\n",
            "['mean', 'peel', 'edgerton', 'said', 'the', 'prime']\n",
            "['brown', 'to', 'earth', 'would', 'be', 'the']\n",
            "['a', 'little', 'nonplussed', 'smiled', 'and', 'stroked']\n",
            "['very', 'simple', 'said', 'and', 'very', 'ingenious']\n",
            "['not', 'there', 'too', 'ah', 'i', 'm']\n",
            "['he', 'was', 'said', 'easily', 'i', 'can']\n",
            "['brown', 'ah', 'said', 'thoughtfully', 'he', 'rose']\n",
            "['after', 'ringing', 'up', 'tommy', 's', 'next']\n",
            "['go', 'straight', 'to', 'mr', 'carter', 'lives']\n",
            "['they', 'once', 'reached', 'in', 'safety', 'all']\n",
            "['re', 'going', 'to', 'this', 'will', 'put']\n",
            "['as', 'they', 'reached', 's', 'door', 'tuppence']\n",
            "['the', 'hall', 'together', 'came', 'forward', 'from']\n",
            "['to', 'her', 'cheeks', 'looked', 'at', 'tuppence']\n",
            "['it', 'seems', 'said', 'dryly', 'am', 'i']\n",
            "['head', 'she', 'shuddered', 'murmured', 'something', 'sympathetically']\n",
            "['been', 'only', 'shamming', 'nodded', 'comprehendingly', 'mrs']\n",
            "['the', 'papers', 'said', 'slowly', 'are', 'still']\n",
            "['the', 'long', 'story', 'rose', 'to', 'his']\n",
            "['too', 'late', 'said', 'gravely', 'besides', 'by']\n",
            "['dead', 'silence', 'and', 'continued', 'you', 'have']\n",
            "['you', 'yes', 'said', 'gravely', 'at', 'last']\n",
            "['miss', 'finn', 'said', 'unexpectedly', 'not', 'your']\n",
            "['you', 'whatsoever', '', 's', 'words', 'came']\n",
            "['tuppence', 'recounted', 'to', 'the', 'exciting', 'events']\n",
            "['mr', 'brown', 'said', 'dryly', 'and', 'it']\n",
            "['better', 'now', 'anyway', 's', 'car', 'was']\n",
            "['they', 'got', 'out', 'went', 'up', 'to']\n",
            "['they', 'all', 'knew', 'well', 'they', 'had']\n",
            "['and', 'the', 'wall', 'handed', 'her', 'a']\n",
            "['in', 'her', 'hand', 'took', 'it', 'and']\n",
            "['in', 'her', 'voice', 'echoed', 'her', 'words']\n",
            "['start', 'to', 'find', 'watching', 'her', 'he']\n",
            "['t', 'help', 'it', 'nodded', 'again', 'you']\n",
            "['the', 'pockets', 'of', 'he', 'turned', 'to']\n",
            "['sudden', 'death', 'of', 'the', 'famous', 'k']\n",
            "['that', 'he', 'or', 'must', 'have', 'done']\n",
            "['that', 'it', 'was', 'who', 'had', 'discovered']\n",
            "['and', 'i', 'dropped', 's', 'letter', 'with']\n",
            "['and', 'rang', 'up', 'taking', 'him', 'into']\n",
            "['him', 'once', 'but', 'hadn', 't', 'after']\n",
            "['be', 'trouble', 'unless', 'was', 'actually', 'caught']\n",
            "['girls', 'off', 'to', 'i', 'was', 'sure']\n",
            "['repeat', 'that', 'to', 'so', 'that', 'he']\n",
            "['not', 'have', 'believed', 'to', 'be', 'guilty']\n",
            "['be', 'publicly', 'exhibited', 's', 'long', 'association']\n"
          ]
        }
      ]
    },
    {
      "cell_type": "markdown",
      "metadata": {
        "id": "B77c1Z0_7K3a"
      },
      "source": [
        "### The Man in the Brown Suit "
      ]
    },
    {
      "cell_type": "code",
      "metadata": {
        "id": "V2v_3oLV_FE7",
        "outputId": "b7f24e44-a42d-47c2-c868-3261c4d2bc68"
      },
      "source": [
        "bookindex=4\n",
        "for n in perp_neighbors[bookindex]:\n",
        "  print(n)"
      ],
      "execution_count": null,
      "outputs": [
        {
          "name": "stdout",
          "output_type": "stream",
          "text": [
            "['amply', 'covered', 'by', 's', 'diary', 'of']\n",
            "['the', 'property', 'of', 'm', 'p', 'is']\n",
            "['have', 'a', 'clue', 'the', 'owner', 'of']\n",
            "['the', 'wife', 'of', 's', 'gardener', 'who']\n",
            "['course', 'there', 's', 's', 'place', 'said']\n",
            "['reporters', 'i', 'am', 's', 'orders', 'are—']\n",
            "['the', 'lodge', 'if', 'hadn', 't', 'been']\n",
            "['me', 'i', 'thought', 'was', 'at', 'cannes']\n",
            "['roll', 'belonging', 'to', 'which', 'had', 'rolled']\n",
            "['the', 'diary', 'of', 'm', 'p', ')']\n",
            "['so', 'you', 'know', 'know', 'what', 'i']\n",
            "['england', 'at', 'once', 'you', 'need', 'suppose']\n",
            "['suggestion', 'my', 'dear', 'the', 'common', 'post']\n",
            "['reasons', 'my', 'dear', 'i', 'assure', 'you']\n",
            "['minute', 'my', 'dear', 'one', 'minute', 'i']\n",
            "['obliged', 'to', 'you', 'i', 'will', 'send']\n",
            "['to', 'tell', 'you', 'that', 'he', 'comes']\n",
            "['me', 'to', 'you', 'i', 'am', 'to']\n",
            "['think', 'you', 'do', 'where', 'is', 'your']\n",
            "['tell', 'you', 'this', 'mr', 'milray', 'would']\n",
            "['oh', 'that', 's', 's', 'secretary', 'been']\n",
            "['not', 'appeared', 'before', 'has', 'got', 'two']\n",
            "['is', 'pagett', 'so', 'the', 'owner', 'of']\n",
            "['yet——', 'that', 's', 'my', 'informant', 'continued']\n",
            "['was', 'speaking', 'to', 'and', 'i', 'overheard']\n",
            "['my', 'dear', 'fellow', 'replied', 'my', 'cabin']\n",
            "['what', 'i', 'say', 'we', 'must', 'have']\n",
            "['the', 'use', 'of', 'that', 's', 'all']\n",
            "['is', 'allotted', 'to', 'said', 'mr', 'pagett']\n",
            "['my', 'notice', '(1)', 'he', 'was', 'the']\n",
            "['he', 'had', 'accompanied', 'to', 'cannes', '(3)']\n",
            "['all', 'this', 'when', 'passed', 'down', 'the']\n",
            "['paper', 'and', 'not', 'one', 'thing', 'was']\n",
            "['coffee', 'i', 'noticed', 'and', 'pagett', 'sitting']\n",
            "['latin', 'scholar', 'said', 'smiling', 'men', 'are']\n",
            "['florence', 'pagett', 'asked', 'turning', 'with', 'a']\n",
            "['in', 'florence', 'remarked', 'gazing', 'after', 'his']\n",
            "['hurting', 'your', 'feelings', 'but', 'he', 'does']\n",
            "['hasn', 't', 'he', 'asked', 'colonel', 'race']\n",
            "['six', 'years', 'said', 'with', 'a', 'deep']\n",
            "['the', 'diary', 'of', '', 'there', 'is']\n",
            "['in', 'your', 'cabin', 'it', 's', 'full']\n",
            "['i', 'tell', 'you', 'there', 's', 'something']\n",
            "['secret', 'service', 'chap', 'rather', 'a', 'great']\n",
            "['is', 'very', 'queer', 'look', 'at', 'that']\n",
            "['them', 'very', 'well', 'but', 'my', 'belief']\n",
            "['at', 'any', 'rate', 'he', 'thinks', 'so—and']\n",
            "['in', 'his', 'cabin', 'pagett', 's', 'voice']\n",
            "['over', 'your', 'safety', 'in', 'case', 'an']\n",
            "['of', 'these', 'days', 'my', 'dear', 'race']\n",
            "['said', 'gallantly', 'oh', 'how', 'sweet', 'of']\n",
            "['remember', 'the', 'case', 'you', 'were', 'in']\n",
            "['say', 'that', 'in', 's', 'secretary—not', 'that']\n",
            "['two', 'links', 'connecting', 'with', 'the', 'tangle']\n",
            "['don', 't', 'suspect', 'himself', 'but', 'it']\n",
            "['admitted', 'hum', 'hardly', 'i', 'should', 'think']\n",
            "['its', 'effect', 'on', 'yes', 'but', 'even']\n",
            "['me', 'was', 'it', 'who', 'had', 'been']\n",
            "['that', 'he', 'induced', 'to', 'bring', 'him']\n",
            "['did', 'he', 'square', 'it', 'looks', 'as']\n",
            "['like', 'pagett', 'anne', 'says', 'he', 's']\n",
            "['on', 'mr', 'chichester', 'and', 'his', 'secretary']\n",
            "['of', 'reluctantly', 'dismissing', 'and', 'mr', 'pagett']\n",
            "['on', 'deck', 'and', 'addressed', 'a', 'perfectly']\n",
            "['attention', 'before', 'when', 'claimed', 'mrs', 'blair']\n",
            "['some', 'correspondence', 'of', 's', 'that—', 'i']\n",
            "['i', 'm', 'sure', 'wouldn', 't', 'like']\n",
            "['i', 'shall', 'tell', '', 'i', 'got']\n",
            "['stupid', 'of', 'me', 'has', 'a', 'house']\n",
            "['on', 'to', 'durban', 'is', 'going', 'to']\n",
            "['an', 'eye', 'on', 'and', 'pagett', 'and']\n",
            "['could', 'arrange', 'for', 'to', 'invite', 'him']\n",
            "['the', 'diary', 'of', '', 'mount', 'nelson']\n",
            "['of', 'the', 'night', 'well', 'what', 'were']\n",
            "['cables', 'of', 'yours', 'and', 'typing', 'the']\n",
            "['before', 'turning', 'in', 'the', 'man', 'was']\n",
            "['hear', 'me', 'out', 'i', 'was', 'convinced']\n",
            "['secret', 'you', 'see', 'i', 'fancied—and', 'now']\n",
            "['rayburn', 'rayburn', 'yes', 'i', 'shook', 'my']\n",
            "['night', 'quite', 'so', 'i', 'think', 'it']\n",
            "['on', 'last', 'night', 'he', 'urged', 'or']\n",
            "['to', 'him', 'supposing', 'that', 'rayburn', 'had']\n",
            "['for', 'your', 'speeches', 'i', 'shall', 'manage']\n",
            "['am', 'a', 'teetotaller', 'much', 'wiser', 'to']\n",
            "['i', 'know', 'of', 'i', 'heaved', 'a']\n",
            "['did', 'you', 'see', 'i', 'asked', 'he']\n",
            "['squashed', 'suzanne', 'smiled', 'doesn', 't', 'like']\n",
            "['job', 'sticking', 'to', 'and', 'that', 'you']\n",
            "['should', 'i', 'mention', 'he', 'was', 'a']\n",
            "['better', 'not', 'risk', 'mrs', 'blair', 'for']\n",
            "['us', 'what', 'is', 'doing', 'asked', 'suzanne']\n",
            "['and', 'he', 'bamboozled', 'into', 'bringing', 'him']\n",
            "['air', 'how', 'does', 'take', 'it', 'regards']\n",
            "['opportunity', 'of', 'hearing', 's', 'views', 'on']\n",
            "['noises', 'again', 'and', 'proceeded', 'in', 'a']\n",
            "['day', 'long', 'replied', 'gallantly', 'i', 'shan']\n",
            "['you', 'very', 'much', 'i', 'said', 'cautiously']\n",
            "['go', 'to', 'durban', 'looked', 'at', 'me']\n",
            "['all', 'this', 'afternoon', 'well', 'stop', 'typing']\n",
            "['her', 'hand', 'yes', 'i', 'will', 'ask']\n",
            "['malicious', 'fellow', 'said', 'after', 'the', 'secretary']\n",
            "['be', 'summoned', 'by', 'and', 'it', 'would']\n",
            "['colonel', 'race', 'or', 'i', 'suspect', 'everybody']\n",
            "['fat', 'men', 'like', 'colonel', 'race', 'isn']\n",
            "['was', 'murdered', 'in', 's', 'house—', 'yes']\n",
            "['an', 'eye', 'on', 'and', 'colonel', 'race—']\n",
            "['got', 'to', 'watch', 'interrupted', 'suzanne', 'because']\n",
            "['not', 'appear', 'but', 'and', 'pagett', 'were']\n",
            "['him', 'however', 'doubtless', 'would', 'do', 'as']\n",
            "['finished', 'good', 'bye', 'i', 'said', 'i']\n",
            "['night', 'to', 'durban', 'sighed', 'heavily', 'so']\n",
            "['handsome', 'fellow', 'said', 'plaintively', 'some', 'young']\n",
            "['thing', 'i', 'wanted', 'looked', 'at', 'me']\n",
            "['hope', 'not', 'exclaimed', 'that', 'would', 'be']\n",
            "['capable', 'secretary', 'for', 'he', 'observed', 'miss']\n",
            "['to', 'do', 'for', 'dear', 'me', 'i']\n",
            "['tone', 'i', 'am', 's', 'secretary', 'i']\n",
            "['i', 'sought', 'out', 'he', 'was', 'striding']\n",
            "['keep', 'pace', 'with', 'for', 'her', 'pencil']\n",
            "['i', 'said', 'saucily', 'paused', 'dead', 'in']\n",
            "['my', 'soul', 'ejaculated', 'what', 'about', 'the']\n",
            "['softly', 'darling', 'said', 'you', 'can', 'start']\n",
            "['pettigrew', 'coughed', 'and', 'hastily', 'withdrew', 'his']\n",
            "['and', 'sharpened', 'it', 'stared', 'and', 'so']\n",
            "['the', 'diary', 'of', '', 'i', 'am']\n",
            "['label', 'this', 'car—not', 'and', 'party', 'but']\n",
            "['at', 'the', 'falls', 'that', 'depends', 'i']\n",
            "['fears', 'are', 'exaggerated', 'there', 'will', 'be']\n",
            "['enjoyed', 'ourselves', 'enormously', 'tried', 'to', 'restrain']\n",
            "['ones', 'travelling', 'with', 'and', 'his', 'party']\n",
            "['i', 'was', 'near', 'i', 'was', 'more']\n",
            "['his', 'autocratic', 'ways', 'was', 'really', 'very']\n",
            "['i', 'knew', 'how', 'made', 'his', 'money']\n",
            "['second', 'hand', 'from', 'if', 'we', 'd']\n",
            "['the', 'hotel', 'also', 'was', 'what', 'i']\n",
            "['big', 'giraffe', 'into', 's', 'arms', 'even']\n",
            "['the', 'last', 'moment', 'backed', 'out', 'he']\n",
            "['t', 'think', 'even', 'would', 'have', 'dared']\n",
            "['time', 'i', 'feel', 'would', 'have', 'liked']\n",
            "['our', 'expedition', 'after', 'had', 'backed', 'out']\n",
            "['nine', 'o', 'clock', 's', 'temper', 'was']\n",
            "['to', 'morrow', 'said', 'with', 'decision', 'he']\n",
            "['i', 'accompanied', 'him', 'went', 'back', 'to']\n",
            "['change', 'for', 'dinner', 'seems', 'to', 'have']\n",
            "['her', 'breathing', 'evenly', 'i', 'paused', 'outside']\n",
            "['with', 'her', 'and', 'and', 'colonel', 'race']\n",
            "['the', 'property', 'of', 'that', 'sounds', 'as']\n",
            "['not', 'knowing', 'that', 'was', 'at', 'cannes']\n",
            "['proved', 'to', 'be', 'i', 'at', 'once']\n",
            "['so', 'sure', 'that', 'was', 'the', 'colonel']\n",
            "['at', 'cannes', 'with', 'he', 'was', 'supposed']\n",
            "['to', 'my', 'accompanying', 'across', 'in', 'the']\n",
            "['that', 'you', 'heard', 'dictating', 'to', 'miss']\n",
            "['the', 'kilmorden', 'yes—through', 'i', 'repeated', 'it']\n",
            "['the', 'direction', 'of', 's', 'cabin', 'and']\n",
            "['cabin', 'opposite', 'to', 'colonel', 'race', 'supposing']\n",
            "['had', 'become', 'of', 's', 'party', 'and']\n",
            "['the', 'diary', 'of', '', 'as', 'i']\n",
            "['shall', 'i', 'do', 'repressing', 'the', 'desire']\n",
            "['for', 'dinner', 'oh', 'the', 'woman', 'was']\n",
            "['him', 'hang', 'himself', 'oh', 'quite', 'so']\n",
            "['more', 'than', 'that', 'we', 'have', 'every']\n",
            "['i', 'warn', 'you', 'that', 'the', 'food']\n",
            "['troubling', 'you', 'again', 'he', 'apologized', 'but']\n",
            "['tell', 'you—in', 'confidence', 'that', 'the', 'place']\n",
            "['now', 'what', 'did', 'do', 'with', 'the']\n",
            "['by', 'to', 'join', 'in', 'johannesburg', 'i']\n",
            "['they', 'i', 'suppose', 'has', 'got', 'them']\n",
            "['eric', 'here', 'also', 'but', 'not', 'guy']\n",
            "['work', 'again', 'with', 'mr', 'pagett', 'i']\n",
            "['those', 'reasons', 'were', 'has', 'not', 'already']\n",
            "['already', 'told', 'you', 'does', 'he', 'know']\n",
            "['a', 'man', 'of', 's', 'standing', 'to']\n",
            "['re', 'saying', 'about', 'but', 'why', 'did']\n",
            "['the', 'peculiarities', 'of', 'and', 'his', 'own']\n",
            "['the', 'diary', 'of', '', 'johannesburg', 'march']\n",
            "['all', 'the', 'cases', 'the', 'typewriter', 'is']\n",
            "['have', 'the', 'leisure', 'i', 'haven', 't']\n",
            "['that', 's', 'all', 'except', 'some', 'miscellaneous']\n",
            "['pettigrew', 'what', 'yes', 'and', 'that', 's']\n",
            "['i', 'went', 'in', 'there', 'was', 'no']\n",
            "['to', 'be', 'confidential', 'a', 'man', 'was']\n",
            "['re', 'not', 'convinced', 'what', 'do', 'you']\n",
            "['that', 'and', 'now', 'i', 'want', 'to']\n",
            "['way', 'thank', 'you', 'is', 'it', 'her']\n",
            "['to', 'follow', 'you', 'whose', 'husband', 'the']\n",
            "['to', 'understand', 'you', 'i', 'suppose', 'you']\n",
            "['not', 'recognized', 'me', 'recognized', 'you', 'where']\n",
            "['where', 'at', 'marlow', 'at', 'marlow', 'what']\n",
            "['were', 'married', 'no', 'that', 'is', 'just']\n",
            "['children', 'four', 'children', 'i', 'gazed', 'at']\n",
            "['glance', 'i', 'hope', 'that', 'you', 'are']\n",
            "['me', 'straight', 'to', 'to—', 'he', 'looked']\n",
            "['yes', 'i', 'said', 'i—i—excuse', 'me—', 'he']\n",
            "['to', 'pass', 'inside', 'sprang', 'up', 'to']\n",
            "['and', 'now', 'said', 'cheerfully', 'let', 's']\n",
            "['be', 'in', 'cannes', 'nodded', 'ruefully', 'yes']\n",
            "['just', 'it', 'said', 'softly', 'what', 'about']\n",
            "['it', 'does', 'not', 'sighed', 'a', 'pity']\n",
            "['of', 'being', 'lady', 'doesn', 't', 'appeal']\n",
            "['the', 'matter', 'is', 'was', 'continuing', 'i']\n",
            "['of', 'respect', 'for', 's', 'shrewdness', 'it']\n",
            "['i', 'wrote', 'at', 's', 'dictation', 'dear']\n",
            "['to', 'any', 'one', 'stopped', 'i', 'leave']\n",
            "['in', 'the', 'words', 'stretched', 'out', 'his']\n",
            "['on', 'the', 'envelope', 'was', 'watching', 'him']\n",
            "['fellow', 'excellent', 'said', 'genially', 'my', 'mistake']\n",
            "['he', 'outside', 'than', 'picked', 'up', 'a']\n",
            "['a', 'few', 'questions', 'i', 'said', 'after']\n",
            "['suspecting', 'poor', 'old', 'what', 'about', 'colonel']\n",
            "['a', 'whistle', 'sounded', 'picked', 'up', 'the']\n",
            "['suit', 'case', 'and', 'urging', 'me', 'to']\n",
            "['not', 'summoned', 'to', 's', 'presence', 'until']\n",
            "['for', 'further', 'conflict', 'was', 'alone', 'he']\n",
            "['of', 'becoming', 'lady', 'i', 'did', 'not']\n",
            "['between', 'two', 'men', 'flung', 'me', 'a']\n",
            "['the', 'fly', 'remarked', 'facetiously', 'my', 'dear']\n",
            "['edged', 'nearer', 'to', 'yes', 'murmured', 'the']\n",
            "['anyway', 'i', 'think', 'shared', 'my', 'fears']\n",
            "['room', 'said', 'harry', 'gave', 'the', 'order']\n",
            "['of', 'my', 'hand', 'uttered', 'a', 'sigh']\n",
            "['them', 'more', 'said', 'sadly', 'i', 'wonder']\n",
            "['or', 'two', 'and', 'skipped', 'nimbly', 'behind']\n",
            "['seemed', 'to', 'attract', 's', 'attention', 'he']\n",
            "['again', 'sit', 'down', 'and', 'listen', 'to']\n",
            "['sound', 'of', 'firing', 'paled', 'what', 's']\n",
            "['know', 'did', 'you', 'that', 'anne', 'had']\n",
            "['was', 'on', 'fire', 'had', 'risen', 'and']\n",
            "['so', 'you', 'see', 'the', 'game', 'is']\n",
            "['following', 'me', 'here', 'turned', 'suddenly', 'very']\n",
            "['t', 'do', 'it', 'chuckled', 'he', 'accepted']\n",
            "['he', 'turned', 'to', 'i', 've', 'been']\n",
            "['a', 'long', 'time', 'and', 'at', 'last']\n",
            "['completely', 'mad', 'declared', 'airily', 'these', 'young']\n",
            "['the', 'mill', 'house', 'looked', 'surprised', 'colonel']\n",
            "['to', 'his', 'side', 'looked', 'at', 'him']\n",
            "['sinking', 'ship', 'observed', 'i', 'don', 't']\n",
            "['to', 'tell', 'you', 'i', 'remarked', 'that']\n",
            "['it', 'up', 'again', 'looked', 'at', 'me']\n",
            "['could', 'not', 'fathom', 'had', 'been', 'driven']\n",
            "['on', 'my', 'part', 'has', 'managed', 'to']\n",
            "['sneaking', 'fondness', 'for', 'i', 'dare', 'say']\n",
            "['it', 'he', 'wanted', 'brought', 'to', 'justice']\n",
            "['of', 'course', 'but', 's', 'guilt', 'is']\n",
            "['through', 'once', 'did', 'know', 'who', 'you']\n",
            "['me', 'yours', 'ever', 'harry', 'was', 'furious']\n",
            "['eye', 'to', 'him', 'was', 'the', 'man']\n",
            "['of', 'his', 'friend', 's', 'attempts', 'on']\n",
            "['to', 'me', 'that', 's', 'whole', 'life']\n",
            "['i', 'can', 'forgive', 'easily', 'enough', 'but']\n"
          ]
        }
      ]
    },
    {
      "cell_type": "markdown",
      "metadata": {
        "id": "LGD8NULL7K3a"
      },
      "source": [
        "### The Secret of Chimneys "
      ]
    },
    {
      "cell_type": "code",
      "metadata": {
        "id": "KLh5jiee_FE7",
        "outputId": "397c784b-6b6e-4e1f-8536-231dcdff3117"
      },
      "source": [
        "bookindex=5\n",
        "for n in perp_neighbors[bookindex]:\n",
        "  print(n)"
      ],
      "execution_count": null,
      "outputs": [
        {
          "name": "stdout",
          "output_type": "stream",
          "text": [
            "['me', 'see—yes—that', 's', 's', 'room', 'the']\n",
            "['providing', 'an', 'heir', 'said', 'anthony', 'thoughtfully']\n",
            "['felt', 'a', 'qualm', 'was', 'a', 'small']\n",
            "['lady', 'with', 'whom', 'had', 'lived', 'for']\n",
            "['such', 'person', 'as', 'but', 'i', 'was']\n",
            "['such', 'person', 'as', 'had', 'ever', 'been']\n",
            "['not', 'eloping', 'with', 'by', 'any', 'chance']\n",
            "['her', 'face', 'lay', '', 'i', 'suspected']\n",
            "['had', 'employed', 'a', 'and', 'spoke', 'highly']\n",
            "['that', 'the', 'real', 'might', 'have', 'been']\n",
            "['the', 'possibility', 'of', 's', 'being', 'an']\n",
            "['was', 'really', 'to', 'he', 'told', 'tredwell']\n"
          ]
        }
      ]
    },
    {
      "cell_type": "code",
      "metadata": {
        "id": "zqVGaYvu7K3a"
      },
      "source": [
        ""
      ],
      "execution_count": null,
      "outputs": []
    },
    {
      "cell_type": "markdown",
      "metadata": {
        "id": "rGOQisCW190Y"
      },
      "source": [
        "## 5. When and how the detective/detectives and the perpetrators co-occur - chapter #, the sentence(s) # in a chapter,"
      ]
    },
    {
      "cell_type": "markdown",
      "metadata": {
        "id": "JY_iVCwZ7K3b"
      },
      "source": [
        "### The Murder on the Links "
      ]
    },
    {
      "cell_type": "code",
      "metadata": {
        "id": "yXc7-8SD7K3c",
        "scrolled": true,
        "outputId": "4e733ae0-7125-45ce-d0b8-e1679783af8e"
      },
      "source": [
        "print(\"Detective(s): Hercule Poirot, Arthur Hastings\")\n",
        "print(\"Perpetrator: Mademoiselle Marthe\")\n",
        "\n",
        "bookindex=1\n",
        "for n in co[bookindex]:\n",
        "  print(n)"
      ],
      "execution_count": null,
      "outputs": [
        {
          "name": "stdout",
          "output_type": "stream",
          "text": [
            "Detective(s): Hercule Poirot, Arthur Hastings\n",
            "Perpetrator: Mademoiselle Marthe\n",
            "['Chapter: 18', 'Sentence: 115', 'Contents: now, hastings, what was jack renauld doing here on that eventful evening, and if he did not see mademoiselle marthe whom did he see']\n",
            "['Chapter: 24', 'Sentence: 188', 'Contents: marthe was at the door to meet us, and led poirot in, clinging with both hands to one of his']\n",
            "['Chapter: 27', 'Sentence: 83', 'Contents: “while you break it in person to mademoiselle marthe, eh?” finished poirot, with a twinkle']\n",
            "['Chapter: 27', 'Sentence: 157', 'Contents: “he is overdone,” murmured poirot to marthe']\n",
            "['Chapter: 27', 'Sentence: 261', 'Contents: poirot looked over his shoulder once at the lighted window and the profile of marthe as she bent over her work']\n",
            "['Chapter: 28', 'Sentence: 138', 'Contents: “however, hastings, things did not go quite as mademoiselle marthe had planned']\n",
            "['Chapter: 28', 'Sentence: 146', 'Contents: “when did you first begin to suspect marthe daubreuil, poirot']\n"
          ]
        }
      ]
    },
    {
      "cell_type": "markdown",
      "metadata": {
        "id": "iGN8ucLi7K3b"
      },
      "source": [
        "###  The Mysterious Affair at Styles "
      ]
    },
    {
      "cell_type": "code",
      "metadata": {
        "scrolled": true,
        "id": "R8Alqpjn_FE8",
        "outputId": "8b08e3b9-9309-489b-c57e-dfa44635d7f2"
      },
      "source": [
        "print(\"Lead detective: Anne Beddingfeld\")\n",
        "print(\"Perpetrator: Sir Eustace Pedler\")\n",
        "\n",
        "bookindex=2\n",
        "for n in co[bookindex]:\n",
        "  print(n)"
      ],
      "execution_count": null,
      "outputs": [
        {
          "name": "stdout",
          "output_type": "stream",
          "text": [
            "Lead detective: Anne Beddingfeld\n",
            "Perpetrator: Sir Eustace Pedler\n"
          ]
        }
      ]
    },
    {
      "cell_type": "code",
      "metadata": {
        "scrolled": true,
        "id": "M7-Yk-AB_FE8",
        "outputId": "a40fb14e-2895-4f60-a295-ee24715e98ed"
      },
      "source": [
        "print(\"Detective(s): Hercule Poirot, Arthur Hastings\")\n",
        "print(\"Perpetrator: Evelyn Howard, Alfred Inglethorp \")\n",
        "\n",
        "bookindex=2\n",
        "for n in co[bookindex]:\n",
        "  print(n)"
      ],
      "execution_count": null,
      "outputs": [
        {
          "name": "stdout",
          "output_type": "stream",
          "text": [
            "Detective(s): Hercule Poirot, Arthur Hastings\n",
            "Perpetrator: Evelyn Howard, Alfred Inglethorp \n",
            "['Chapter: 1', 'Sentence: 83', 'Contents: mr. hastings—miss howard']\n",
            "['Chapter: 1', 'Sentence: 126', 'Contents: alfred, darling, mr. hastings—my husband']\n",
            "['Chapter: 1', 'Sentence: 145', 'Contents: presently mrs. inglethorp turned to give some instructions about letters to evelyn howard, and her husband addressed me in his painstaking voice: “is soldiering your regular profession, mr. hastings']\n",
            "['Chapter: 4', 'Sentence: 294', 'Contents: we passed through alfred inglethorp’s room, and poirot delayed long enough to make a brief but fairly comprehensive examination of it']\n",
            "['Chapter: 5', 'Sentence: 234', 'Contents: “suppose,” suggested poirot, “that, unknown to you, she had made a new will in favour of someone who was not, in any sense of the word, a member of the family—we will say miss howard, for instance—would you be surprised']\n",
            "['Chapter: 5', 'Sentence: 378', 'Contents: miss howard shook hands with poirot, but glanced suspiciously over her shoulder at john']\n",
            "['Chapter: 5', 'Sentence: 423', 'Contents: as she left the room, poirot came over from the window where he had been standing, and sat down facing miss howard']\n",
            "['Chapter: 5', 'Sentence: 439', 'Contents: “believe me, miss howard,” said poirot very earnestly, “if mr. inglethorp is the man, he shall not escape me']\n",
            "['Chapter: 7', 'Sentence: 277', 'Contents: “mr. inglethorp,” said poirot, addressing him directly, “a very dark shadow is resting on this house—the shadow of murder']\n",
            "['Chapter: 7', 'Sentence: 318', 'Contents: i, hercule poirot, affirm that the man who entered the chemist’s shop, and purchased strychnine at six o’clock on monday last was not mr. inglethorp, for at six o’clock on that day mr. inglethorp was escorting mrs. raikes back to her home from a neighbouring farm']\n",
            "['Chapter: 8', 'Sentence: 140', 'Contents: “in clearing alfred inglethorp,” continued poirot, “i have been obliged to show my hand sooner than i intended']\n",
            "['Chapter: 8', 'Sentence: 401', 'Contents: “here comes miss howard,” said poirot suddenly']\n",
            "['Chapter: 8', 'Sentence: 405', 'Contents: with a nod that was barely civil, miss howard assented to poirot’s request for a few minutes’ conversation']\n",
            "['Chapter: 8', 'Sentence: 407', 'Contents: “well, monsieur poirot,” said miss howard impatiently, “what is it']\n",
            "['Chapter: 8', 'Sentence: 502', 'Contents: “miss howard,” said poirot gravely, “this is unworthy of you']\n",
            "['Chapter: 9', 'Sentence: 296', 'Contents: then i remembered that enigmatical conversation between poirot and evelyn howard']\n",
            "['Chapter: 12', 'Sentence: 247', 'Contents: in the deathly silence, poirot pieced together the slips of paper and, clearing his throat, read: dearest evelyn:     ‘you will be anxious at hearing nothing']\n",
            "['Chapter: 12', 'Sentence: 263', 'Contents: “ messieurs, mesdames ,” said poirot, with a flourish, “let me introduce you to the murderer, mr. alfred inglethorp']\n",
            "['Chapter: 13', 'Sentence: 29', 'Contents: “then again,” continued poirot, “at the beginning, did i not repeat to you several times that i didn’t want mr. inglethorp arrested  now ']\n"
          ]
        }
      ]
    },
    {
      "cell_type": "markdown",
      "metadata": {
        "id": "uwGIQApl7K3b"
      },
      "source": [
        "### The Secret Adversary "
      ]
    },
    {
      "cell_type": "code",
      "metadata": {
        "id": "7BUGbi4l_FE9",
        "outputId": "0bc4a3d2-da92-4139-d9af-4b6287a36f8c"
      },
      "source": [
        "print(\"Lead detectives: Tommy and Tuppence\")\n",
        "print(\"Perpetrator: Sir James Peel Edgerton\\n\")\n",
        "\n",
        "bookindex=3\n",
        "for n in co[bookindex]:\n",
        "  print(n)\n",
        "\n"
      ],
      "execution_count": null,
      "outputs": [
        {
          "name": "stdout",
          "output_type": "stream",
          "text": [
            "Lead detectives: Tommy and Tuppence\n",
            "Perpetrator: Sir James Peel Edgerton\n",
            "\n",
            "['Chapter: 10', 'Sentence: 171', 'Contents: tuppence was undecided for the moment whether to put him down as an actor or a lawyer, but her doubts were soon solved as he gave her his name: sir james peel edgerton']\n",
            "['Chapter: 12', 'Sentence: 61', 'Contents: “sir james,” said tuppence, plunging boldly, “i dare say you will think it is most awful cheek of me coming here like this']\n",
            "['Chapter: 12', 'Sentence: 64', 'Contents: “tommy?” queried sir james, looking across at the american']\n",
            "['Chapter: 12', 'Sentence: 105', 'Contents: “oh, sir james,” broke out tuppence, “what do you think has become of tommy']\n",
            "['Chapter: 13', 'Sentence: 9', 'Contents: between them sir james and tuppence lifted mrs. vandemeyer and carried her to the bed']\n",
            "['Chapter: 13', 'Sentence: 59', 'Contents: “miss tuppence is right,” said sir james quietly']\n",
            "['Chapter: 13', 'Sentence: 129', 'Contents: “now then, miss tuppence,” said sir james, “you know this place better than i do']\n",
            "['Chapter: 13', 'Sentence: 148', 'Contents: “and now, miss tuppence,” said sir james, “we want to hear your adventures']\n",
            "['Chapter: 13', 'Sentence: 152', 'Contents: sir james said nothing until she had finished, when his quiet “well done, miss tuppence,” made her flush with pleasure']\n",
            "['Chapter: 13', 'Sentence: 221', 'Contents: she looked appealingly at sir james, who replied gravely: “with due deference to your feelings, miss tuppence (and mine as well for that matter), i do not see how it is humanly possible for anyone to be in the flat without our knowledge']\n",
            "['Chapter: 14', 'Sentence: 1', 'Contents:  nothing was more surprising and bewildering to tuppence than the ease and simplicity with which everything was arranged, owing to sir james’s skilful handling']\n",
            "['Chapter: 14', 'Sentence: 21', 'Contents: it was arranged that tuppence and julius should return to the  ritz , and call for sir james in the car']\n",
            "['Chapter: 15', 'Sentence: 60', 'Contents: sir james took tuppence’s hand']\n",
            "['Chapter: 18', 'Sentence: 40', 'Contents: beginning with his unsuccessful reconnoitring at bournemouth, he passed on to his return to london, the buying of the car, the growing anxieties of tuppence, the call upon sir james, and the sensational occurrences of the previous night']\n",
            "['Chapter: 18', 'Sentence: 68', 'Contents: but i guess tuppence and i and even the highbrow sir james have all got the same idea']\n",
            "['Chapter: 19', 'Sentence: 16', 'Contents: sir james arrived punctually at eight o’clock, and julius introduced tommy']\n",
            "['Chapter: 19', 'Sentence: 111', 'Contents: tommy appeared about to protest, but sir james went on']\n",
            "['Chapter: 21', 'Sentence: 30', 'Contents: “i wish that chap peel edgerton had been with us,” said tommy thoughtfully']\n",
            "['Chapter: 23', 'Sentence: 1', 'Contents:  after ringing up sir james, tommy’s next procedure was to make a call at south audley mansions']\n",
            "['Chapter: 25', 'Sentence: 144', 'Contents: sir james looked at tuppence quizzically']\n",
            "['Chapter: 26', 'Sentence: 37', 'Contents: tuppence recounted to sir james the exciting events of the evening, ending up: “but i can’t see  why']\n",
            "['Chapter: 27', 'Sentence: 159', 'Contents: i threatened julius with the revolver, because i wanted tuppence to repeat that to sir james, so that he wouldn’t worry about us']\n",
            "['Chapter: 27', 'Sentence: 179', 'Contents: “beresford has just said that i would not have believed sir james peel edgerton to be guilty unless, so to speak, he was caught in the act']\n"
          ]
        }
      ]
    },
    {
      "cell_type": "markdown",
      "metadata": {
        "id": "Wrz1aGbl7K3c"
      },
      "source": [
        "### The Man in the Brown Suit "
      ]
    },
    {
      "cell_type": "code",
      "metadata": {
        "scrolled": true,
        "id": "RBoWy_Bk_FE9",
        "outputId": "e17147db-33bb-4374-c07f-96cad7cb42be"
      },
      "source": [
        "print(\"Lead detective: Anne Beddingfeld\")\n",
        "print(\"Perpetrator: Sir Eustace Pedler\")\n",
        "\n",
        "bookindex=4\n",
        "for n in co[bookindex]:\n",
        "  print(n)"
      ],
      "execution_count": null,
      "outputs": [
        {
          "name": "stdout",
          "output_type": "stream",
          "text": [
            "Lead detective: Anne Beddingfeld\n",
            "Perpetrator: Sir Eustace Pedler\n",
            "['Chapter: 20', 'Sentence: 141', 'Contents: “oh, anne, you surely can’t suspect colonel race or sir eustace']\n",
            "['Chapter: 33', 'Sentence: 110', 'Contents: you didn’t know, did you, sir eustace, that anne had an arrangement with me by which we should know whether communications from one to the other were genuine']\n"
          ]
        }
      ]
    },
    {
      "cell_type": "markdown",
      "metadata": {
        "id": "fE_wxpLk7K3c"
      },
      "source": [
        "### The Secret of Chimneys "
      ]
    },
    {
      "cell_type": "code",
      "metadata": {
        "id": "Uf_QyW7629H4",
        "outputId": "af7010ba-7ca3-4f69-960f-0d177021570e"
      },
      "source": [
        "print(\"Lead detective: Anthony Cade\")\n",
        "print(\"Perpetrator(s): Mademoiselle Brun\")\n",
        "\n",
        "bookindex=5\n",
        "for n in co[bookindex]:\n",
        "  print(n)"
      ],
      "execution_count": null,
      "outputs": [
        {
          "name": "stdout",
          "output_type": "stream",
          "text": [
            "Lead detective: Anthony Cade\n",
            "Perpetrator(s): Mademoiselle Brun\n",
            "['Chapter: 15', 'Sentence: 194', 'Contents: “mademoiselle brun,” said anthony thoughtfully']\n"
          ]
        }
      ]
    },
    {
      "cell_type": "markdown",
      "metadata": {
        "id": "bDDmhW4P29Z-"
      },
      "source": [
        "### Q6. When are other suspects first introduced - chapter #, the sentence(s) # in a chapter"
      ]
    },
    {
      "cell_type": "markdown",
      "metadata": {
        "id": "6RqJ3OJv7K3d"
      },
      "source": [
        "### The Murder on the Links "
      ]
    },
    {
      "cell_type": "code",
      "metadata": {
        "id": "mLZoP0XV_FE-",
        "outputId": "312cd63d-fa58-40aa-ace2-926182161247"
      },
      "source": [
        "bookindex=1\n",
        "print(sus_occur[bookindex][0])"
      ],
      "execution_count": null,
      "outputs": [
        {
          "name": "stdout",
          "output_type": "stream",
          "text": [
            "['Chapter: 3', 'Sentence: 119', 'Contents: finally there are madame renauld and her son, m. jack renauld']\n"
          ]
        }
      ]
    },
    {
      "cell_type": "markdown",
      "metadata": {
        "id": "6NWri1qO7K3d"
      },
      "source": [
        "###  The Mysterious Affair at Styles "
      ]
    },
    {
      "cell_type": "code",
      "metadata": {
        "id": "wLgxcJ54_FE_",
        "outputId": "114322c6-ecef-46fd-c611-f895261503f8"
      },
      "source": [
        "bookindex=2\n",
        "print(sus_occur[bookindex][0])"
      ],
      "execution_count": null,
      "outputs": [
        {
          "name": "stdout",
          "output_type": "stream",
          "text": [
            "['Chapter: 1', 'Sentence: 6', 'Contents: having no near relations or friends, i was trying to make up my mind what to do, when i ran across john cavendish']\n"
          ]
        }
      ]
    },
    {
      "cell_type": "markdown",
      "metadata": {
        "id": "3ASOh02x7K3d"
      },
      "source": [
        "### The Secret Adversary "
      ]
    },
    {
      "cell_type": "code",
      "metadata": {
        "id": "9UXWusiV_FE_",
        "outputId": "7aa7a520-9aaa-42d2-956a-e2d7ade21084"
      },
      "source": [
        "bookindex=3\n",
        "print(sus_occur[bookindex][0])"
      ],
      "execution_count": null,
      "outputs": [
        {
          "name": "stdout",
          "output_type": "stream",
          "text": [
            "['Chapter: 4', 'Sentence: 57', 'Contents: “yours truly, “julius p. hersheimmer']\n"
          ]
        }
      ]
    },
    {
      "cell_type": "markdown",
      "metadata": {
        "id": "RxRvYZd77K3e"
      },
      "source": [
        "### The Man in the Brown Suit "
      ]
    },
    {
      "cell_type": "code",
      "metadata": {
        "id": "dtiz5Q3Y_FFC",
        "outputId": "4e48472c-c2d7-40a8-c003-fddd6df71026"
      },
      "source": [
        "bookindex=4\n",
        "print(sus_occur[bookindex][0])"
      ],
      "execution_count": null,
      "outputs": [
        {
          "name": "stdout",
          "output_type": "stream",
          "text": [
            "['Chapter: 8', 'Sentence: 183', 'Contents: “harry rayburn seems quite a suitable name,” he observed']\n"
          ]
        }
      ]
    },
    {
      "cell_type": "markdown",
      "metadata": {
        "id": "AELlVfwe7K3e"
      },
      "source": [
        "### The Secret of Chimneys "
      ]
    },
    {
      "cell_type": "code",
      "metadata": {
        "id": "Hpfzfd8G_FFC",
        "outputId": "0c349c52-26a8-4053-ac33-eb802dbff8d9"
      },
      "source": [
        "bookindex=5\n",
        "print(sus_occur[bookindex][0])"
      ],
      "execution_count": null,
      "outputs": [
        {
          "name": "stdout",
          "output_type": "stream",
          "text": [
            "['Chapter: 2', 'Sentence: 84', 'Contents: they were king victor’s people, he said']\n"
          ]
        }
      ]
    },
    {
      "cell_type": "markdown",
      "metadata": {
        "id": "rsajewrP3VEd"
      },
      "source": [
        "\n",
        "\n",
        "## Discussion"
      ]
    },
    {
      "cell_type": "markdown",
      "metadata": {
        "id": "rAyzwcaG3Z5j"
      },
      "source": [
        "#### Data Loading\n",
        "In order to track the exact location of match occurences, we opted to store the corpus as a nested dictionary. The corpus dictionary containts the titles, tokenized contents, and blobbed contents of each book. Internally, the dictionaries are accessied via a numerical index that corresponds to each book, chapter, and sentence. Each book consists of a dictionary of chapter titles and a dictionary of chapter contents. Each chapter consists of a dictionary of sentences. Books, chapters, and sentences are 1-indexed as this allowed for the inclusion of prologue chapters (index=0) that appeared in some of the books. The chapters and sentences were tokenized using regular expressions. Each book followed a unique pattern for the chapter titles as well as the Project Gutenberg prologue and epilogue, so we use the book index to select the appropriate regex for each book. The sentence splitting regex we used accounts for sentences that include punctuation that does not end the sentence. For example, the sentence '\"What?\" he exclaimed' is not split on the question mark. Accounting for the wide variety of unicode quotation marks proved a minor challenge. Special care was also taken not to split on unusual abbreviations like \"Mlle.\" We found it useful to be as explicit as possible when choosing not to split a sentence at an abbreviation as using wildcards introduced to many edge cases. The exception was the pattern \"\\w\\.\\w\\.\" since that general case catches abbreviated names as well as common patterns like \"e.g.\" and \"i.e.\" In general, negative lookahead and lookbehind expressions were critical for maximizing sentence splitting performance. The blobbed contents of each book consits of a single string with all of the words in the book minus chapter titles and punctuation to allow us to extract neighboring words without regard for sentence barriers. \n",
        "#### Data Cleaning\n",
        "During data cleaning, we first identified which types of unique white spaces were included in the text, and opted to remove \"\\r\\n\", hair-spaces and replace them with a single space to make all spaces uniform. One reason to replace rather than remove '\\r\\n' was due to the fact that multi-line sentences in some cases did not use spaces to separate words and just relied on the carriage-return/new-line."
      ]
    },
    {
      "cell_type": "markdown",
      "metadata": {
        "id": "-anmDuUx_FFC"
      },
      "source": [
        "### The Secret Adversary\n",
        "\n",
        "\"The Secret Adversary\" is centered around the disappearance of Jane Finn and the theft of important documents that have the potential to overthrow the government. As a result, we included kidnapping, espionage, theft, and conspiracy as potential target crimes. We also attempted finding keywords that could help us extract the conspiracy but, unfortunately, there were not many occurrences of \"spy\", \"espionage\", or \"conspiracy\" to provide enough context for the crime. For this reason, for our analysis we focused in the kidnapping as the main crime.\n",
        "\n",
        "One additional challenge for this book is that Mr. Brown, one of the characters, is used to refer to both Julius Hersheimmer and Sir James Peel Edgerton. Later in the book, the author reveals that the real Mr. Brown is Sir James Peel Edgerton and that he is the perpetrator of the crime. For this reason, we excluded Mr. Brown from our search to avoid introducing references to a suspect instead of the perpetrator. The bag of words analysis actually was able to identify this issue. \n",
        "Another character, Jane Finn, is the main victim but the name is also used by characters pretending to be Jane Finn. Because there are multiple aliases for the same character, human intervention is required to identify which character is the focus of the matching sentence. \n",
        "\n",
        "In addition to common stop words obtained from NLTK, we also excluded \"said\", \"mr\", \"miss\", since the book is very conversational in nature.  "
      ]
    },
    {
      "cell_type": "markdown",
      "metadata": {
        "id": "0TSFD4in_R_4"
      },
      "source": [
        "### The Murder on the Links\n",
        "This case is a straightforward murder with a single red herring. Mr. Renauld is stabbed to death early in the book and suspicion falls upon his son. However, the real culprit is Mademoiselle Daubreuil. Years before the current murder takes place, Mr. Renauld and Madame Daubreuil, mother of Mademoiselle Daubreuil, had conspired together and killed Madame Daubreuil's husband. When the murder was uncovered, Mr.Renauld disappeared, prompting a long mission of revenge for the mother and daughter. One interesting aspect of this case is the use of the word \"murder.\" Characters throw around many accusaions of murder with brief explanation of how they think the murder occured. This makes the search term more confounding than useful. In order to extract quality details of the murder as opposed to wild accusations, we found it necessary to search for paired terms like \"death..occured,\" examination...body\", and \"body...discovered\" with regex wild cards for any intervening words. \n",
        "\n",
        "### The Mysterious Affair at Styles\n",
        "\n",
        "This case is another murder. It is complicated by the fact that, in order to prevent a double-jeopardy situation, Poirot argues that one of the two guilty suspects is innocent. Once the trial has moved on, Poirot reveals that the man he had previously argued was innocent is in fact guilty. The reason for this is that the guilty man worked with a partner so that it was physically impossible for him to have committed the whole murder alone. In other words, he is \"innocent\" of half the murder tasks. The guilty pair are Alfred Inglethorp (huspand of the victim) and Evelyn Howard (secretary/assistant of the victim). We found it difficult to catch the moment Poirot reveals the identity of the murderers. Poirot reads a murder-planning letter written to Evelyn Howard, thereby revealing her guilt without actually making any accusation. Likewise, Alfred is exposed when he lunges from hiding. As far as detecting the murderers based on regexes, we had to wait until then next chapter when Poirot launches into an exposition on why he suspected the pair. At this point, the murderers' names occur in sentences that mention their crime."
      ]
    },
    {
      "cell_type": "markdown",
      "metadata": {
        "id": "n778bvzI7K3f"
      },
      "source": [
        "\n",
        "\n",
        "## Additional/Extra Analysis"
      ]
    },
    {
      "cell_type": "code",
      "metadata": {
        "id": "KthIUBm43eD_"
      },
      "source": [
        ""
      ],
      "execution_count": null,
      "outputs": []
    },
    {
      "cell_type": "markdown",
      "metadata": {
        "id": "ZrGbecFT_FFD"
      },
      "source": [
        "### Tokenization Comparison with Spacy"
      ]
    },
    {
      "cell_type": "code",
      "metadata": {
        "id": "cbnEcpBq_FFD"
      },
      "source": [
        "!pip install spacy"
      ],
      "execution_count": null,
      "outputs": []
    },
    {
      "cell_type": "code",
      "metadata": {
        "id": "Vt_XE5oP_FFD",
        "outputId": "de944276-381f-4f61-c9f6-ae2363e6cca4"
      },
      "source": [
        "from spacy.lang.en import English \n",
        "\n",
        "# W.I.P.\n",
        "\n",
        "dirty_corpus=get_corpus()\n",
        "\n",
        "\n",
        "bookid=3\n",
        "nch=len(corpus[bookid][\"chapters\"])\n",
        "print(f\"Book {bookid} has {nch} chapters.\")\n",
        "\n",
        "for bookid in range(1,6):\n",
        "    nch=len(corpus[bookid][\"chapters\"])\n",
        "    print(f\"Book {bookid} has {nch} chapters.\")\n",
        "    for chid in range(1,nch):\n",
        "        dirty_chapter=dirty_corpus[bookid][\"contents\"][chid]\n",
        "        ch_doc = nlp(dirty_chapter)\n",
        "        sentences = [sent.text.strip() for sent in ch_doc.sents]\n",
        "        #print(sentences)\n",
        "        print(f\"Book {bookid}, Chapter {chid}: {len(sentences)}(spacy), {len(corpus[bookid]['contents'][chid])}(regex) sentences.\")\n",
        "\n",
        "#print(dirty_corpus[bookid][\"contents\"][0])\n",
        "\n",
        "#dirty_chapter=dirty_corpus[bookid][\"contents\"][1]\n",
        "#b3c1_spacy = dirty_chapter\n",
        "#print(b3c1_spacy)\n",
        "#b3c1_doc = nlp(b3c1_spacy)\n",
        "#sentences_b3c1_spacy = [sent.text.strip() for sent in b3c1_doc.sents]\n",
        "#print(sentences_b3c1_spacy)\n",
        "#print(len(sentences_b3c1_spacy))\n",
        "\n",
        "print(len(corpus[3][\"contents\"][1]))\n"
      ],
      "execution_count": null,
      "outputs": [
        {
          "name": "stdout",
          "output_type": "stream",
          "text": [
            "Book 3 has 29 chapters.\n",
            "Book 1 has 28 chapters.\n",
            "Book 1, Chapter 1: 180(spacy), 179(regex) sentences.\n",
            "Book 1, Chapter 2: 322(spacy), 324(regex) sentences.\n",
            "Book 1, Chapter 3: 302(spacy), 301(regex) sentences.\n",
            "Book 1, Chapter 4: 231(spacy), 228(regex) sentences.\n",
            "Book 1, Chapter 5: 245(spacy), 240(regex) sentences.\n",
            "Book 1, Chapter 6: 175(spacy), 172(regex) sentences.\n",
            "Book 1, Chapter 7: 323(spacy), 327(regex) sentences.\n",
            "Book 1, Chapter 8: 291(spacy), 288(regex) sentences.\n",
            "Book 1, Chapter 9: 217(spacy), 211(regex) sentences.\n",
            "Book 1, Chapter 10: 202(spacy), 197(regex) sentences.\n",
            "Book 1, Chapter 11: 328(spacy), 325(regex) sentences.\n",
            "Book 1, Chapter 12: 238(spacy), 239(regex) sentences.\n",
            "Book 1, Chapter 13: 288(spacy), 285(regex) sentences.\n",
            "Book 1, Chapter 14: 213(spacy), 213(regex) sentences.\n",
            "Book 1, Chapter 15: 234(spacy), 232(regex) sentences.\n",
            "Book 1, Chapter 16: 96(spacy), 95(regex) sentences.\n",
            "Book 1, Chapter 17: 194(spacy), 197(regex) sentences.\n",
            "Book 1, Chapter 18: 177(spacy), 176(regex) sentences.\n",
            "Book 1, Chapter 19: 155(spacy), 152(regex) sentences.\n",
            "Book 1, Chapter 20: 260(spacy), 267(regex) sentences.\n",
            "Book 1, Chapter 21: 174(spacy), 176(regex) sentences.\n",
            "Book 1, Chapter 22: 267(spacy), 266(regex) sentences.\n",
            "Book 1, Chapter 23: 135(spacy), 137(regex) sentences.\n",
            "Book 1, Chapter 24: 238(spacy), 235(regex) sentences.\n",
            "Book 1, Chapter 25: 103(spacy), 105(regex) sentences.\n",
            "Book 1, Chapter 26: 120(spacy), 120(regex) sentences.\n",
            "Book 1, Chapter 27: 331(spacy), 332(regex) sentences.\n",
            "Book 2 has 13 chapters.\n",
            "Book 2, Chapter 1: 357(spacy), 355(regex) sentences.\n",
            "Book 2, Chapter 2: 219(spacy), 213(regex) sentences.\n",
            "Book 2, Chapter 3: 208(spacy), 205(regex) sentences.\n",
            "Book 2, Chapter 4: 615(spacy), 619(regex) sentences.\n",
            "Book 2, Chapter 5: 828(spacy), 821(regex) sentences.\n",
            "Book 2, Chapter 6: 340(spacy), 334(regex) sentences.\n",
            "Book 2, Chapter 7: 323(spacy), 320(regex) sentences.\n",
            "Book 2, Chapter 8: 536(spacy), 538(regex) sentences.\n",
            "Book 2, Chapter 9: 439(spacy), 440(regex) sentences.\n",
            "Book 2, Chapter 10: 472(spacy), 476(regex) sentences.\n",
            "Book 2, Chapter 11: 435(spacy), 445(regex) sentences.\n",
            "Book 2, Chapter 12: 240(spacy), 263(regex) sentences.\n",
            "Book 3 has 29 chapters.\n",
            "Book 3, Chapter 1: 310(spacy), 304(regex) sentences.\n",
            "Book 3, Chapter 2: 256(spacy), 253(regex) sentences.\n",
            "Book 3, Chapter 3: 225(spacy), 220(regex) sentences.\n",
            "Book 3, Chapter 4: 275(spacy), 282(regex) sentences.\n",
            "Book 3, Chapter 5: 196(spacy), 191(regex) sentences.\n",
            "Book 3, Chapter 6: 219(spacy), 215(regex) sentences.\n",
            "Book 3, Chapter 7: 178(spacy), 195(regex) sentences.\n",
            "Book 3, Chapter 8: 265(spacy), 264(regex) sentences.\n",
            "Book 3, Chapter 9: 267(spacy), 258(regex) sentences.\n",
            "Book 3, Chapter 10: 197(spacy), 201(regex) sentences.\n",
            "Book 3, Chapter 11: 337(spacy), 325(regex) sentences.\n",
            "Book 3, Chapter 12: 548(spacy), 538(regex) sentences.\n",
            "Book 3, Chapter 13: 317(spacy), 319(regex) sentences.\n",
            "Book 3, Chapter 14: 217(spacy), 209(regex) sentences.\n",
            "Book 3, Chapter 15: 251(spacy), 260(regex) sentences.\n",
            "Book 3, Chapter 16: 288(spacy), 278(regex) sentences.\n",
            "Book 3, Chapter 17: 548(spacy), 548(regex) sentences.\n",
            "Book 3, Chapter 18: 470(spacy), 466(regex) sentences.\n",
            "Book 3, Chapter 19: 335(spacy), 346(regex) sentences.\n",
            "Book 3, Chapter 20: 210(spacy), 203(regex) sentences.\n",
            "Book 3, Chapter 21: 205(spacy), 201(regex) sentences.\n",
            "Book 3, Chapter 22: 172(spacy), 168(regex) sentences.\n",
            "Book 3, Chapter 23: 202(spacy), 202(regex) sentences.\n",
            "Book 3, Chapter 24: 412(spacy), 401(regex) sentences.\n",
            "Book 3, Chapter 25: 427(spacy), 440(regex) sentences.\n",
            "Book 3, Chapter 26: 177(spacy), 220(regex) sentences.\n",
            "Book 3, Chapter 27: 274(spacy), 446(regex) sentences.\n",
            "Book 3, Chapter 28: 121(spacy), 120(regex) sentences.\n",
            "Book 4 has 37 chapters.\n",
            "Book 4, Chapter 1: 112(spacy), 114(regex) sentences.\n",
            "Book 4, Chapter 2: 153(spacy), 155(regex) sentences.\n",
            "Book 4, Chapter 3: 131(spacy), 131(regex) sentences.\n",
            "Book 4, Chapter 4: 122(spacy), 121(regex) sentences.\n",
            "Book 4, Chapter 5: 106(spacy), 105(regex) sentences.\n",
            "Book 4, Chapter 6: 187(spacy), 190(regex) sentences.\n",
            "Book 4, Chapter 7: 102(spacy), 102(regex) sentences.\n",
            "Book 4, Chapter 8: 181(spacy), 185(regex) sentences.\n",
            "Book 4, Chapter 9: 332(spacy), 331(regex) sentences.\n",
            "Book 4, Chapter 10: 148(spacy), 149(regex) sentences.\n",
            "Book 4, Chapter 11: 209(spacy), 208(regex) sentences.\n",
            "Book 4, Chapter 12: 177(spacy), 180(regex) sentences.\n",
            "Book 4, Chapter 13: 161(spacy), 154(regex) sentences.\n",
            "Book 4, Chapter 14: 242(spacy), 241(regex) sentences.\n",
            "Book 4, Chapter 15: 197(spacy), 197(regex) sentences.\n",
            "Book 4, Chapter 16: 312(spacy), 326(regex) sentences.\n",
            "Book 4, Chapter 17: 155(spacy), 156(regex) sentences.\n",
            "Book 4, Chapter 18: 196(spacy), 197(regex) sentences.\n",
            "Book 4, Chapter 19: 228(spacy), 228(regex) sentences.\n",
            "Book 4, Chapter 20: 313(spacy), 313(regex) sentences.\n",
            "Book 4, Chapter 21: 201(spacy), 202(regex) sentences.\n",
            "Book 4, Chapter 22: 142(spacy), 139(regex) sentences.\n",
            "Book 4, Chapter 23: 102(spacy), 102(regex) sentences.\n",
            "Book 4, Chapter 24: 356(spacy), 364(regex) sentences.\n",
            "Book 4, Chapter 25: 302(spacy), 303(regex) sentences.\n",
            "Book 4, Chapter 26: 217(spacy), 222(regex) sentences.\n",
            "Book 4, Chapter 27: 235(spacy), 235(regex) sentences.\n",
            "Book 4, Chapter 28: 118(spacy), 119(regex) sentences.\n",
            "Book 4, Chapter 29: 189(spacy), 187(regex) sentences.\n",
            "Book 4, Chapter 30: 135(spacy), 138(regex) sentences.\n",
            "Book 4, Chapter 31: 181(spacy), 187(regex) sentences.\n",
            "Book 4, Chapter 32: 336(spacy), 342(regex) sentences.\n",
            "Book 4, Chapter 33: 213(spacy), 218(regex) sentences.\n",
            "Book 4, Chapter 34: 120(spacy), 122(regex) sentences.\n",
            "Book 4, Chapter 35: 124(spacy), 124(regex) sentences.\n",
            "Book 4, Chapter 36: 76(spacy), 75(regex) sentences.\n",
            "Book 5 has 31 chapters.\n",
            "Book 5, Chapter 1: 278(spacy), 272(regex) sentences.\n",
            "Book 5, Chapter 2: 242(spacy), 238(regex) sentences.\n",
            "Book 5, Chapter 3: 183(spacy), 185(regex) sentences.\n",
            "Book 5, Chapter 4: 156(spacy), 156(regex) sentences.\n",
            "Book 5, Chapter 5: 331(spacy), 326(regex) sentences.\n",
            "Book 5, Chapter 6: 311(spacy), 311(regex) sentences.\n",
            "Book 5, Chapter 7: 202(spacy), 205(regex) sentences.\n",
            "Book 5, Chapter 8: 213(spacy), 213(regex) sentences.\n",
            "Book 5, Chapter 9: 242(spacy), 240(regex) sentences.\n",
            "Book 5, Chapter 10: 318(spacy), 321(regex) sentences.\n",
            "Book 5, Chapter 11: 152(spacy), 155(regex) sentences.\n",
            "Book 5, Chapter 12: 257(spacy), 252(regex) sentences.\n",
            "Book 5, Chapter 13: 147(spacy), 142(regex) sentences.\n",
            "Book 5, Chapter 14: 244(spacy), 240(regex) sentences.\n",
            "Book 5, Chapter 15: 387(spacy), 370(regex) sentences.\n",
            "Book 5, Chapter 16: 362(spacy), 346(regex) sentences.\n",
            "Book 5, Chapter 17: 270(spacy), 262(regex) sentences.\n",
            "Book 5, Chapter 18: 348(spacy), 340(regex) sentences.\n",
            "Book 5, Chapter 19: 303(spacy), 295(regex) sentences.\n",
            "Book 5, Chapter 20: 183(spacy), 177(regex) sentences.\n",
            "Book 5, Chapter 21: 329(spacy), 322(regex) sentences.\n",
            "Book 5, Chapter 22: 400(spacy), 392(regex) sentences.\n",
            "Book 5, Chapter 23: 308(spacy), 299(regex) sentences.\n",
            "Book 5, Chapter 24: 207(spacy), 199(regex) sentences.\n",
            "Book 5, Chapter 25: 248(spacy), 242(regex) sentences.\n",
            "Book 5, Chapter 26: 155(spacy), 148(regex) sentences.\n",
            "Book 5, Chapter 27: 298(spacy), 298(regex) sentences.\n",
            "Book 5, Chapter 28: 120(spacy), 133(regex) sentences.\n",
            "Book 5, Chapter 29: 131(spacy), 130(regex) sentences.\n",
            "Book 5, Chapter 30: 212(spacy), 211(regex) sentences.\n",
            "304\n"
          ]
        }
      ]
    },
    {
      "cell_type": "markdown",
      "metadata": {
        "id": "FZ7Vu-r67K3N"
      },
      "source": [
        "\n",
        "#### Bag of Words Analysis \n"
      ]
    },
    {
      "cell_type": "code",
      "metadata": {
        "colab": {
          "base_uri": "https://localhost:8080/",
          "height": 380
        },
        "id": "qFppsJL3d-Sx",
        "outputId": "964ede80-ad11-4d27-fa8f-459e55d07249"
      },
      "source": [
        "perp1=get_perp(1)\n",
        "perp2=get_perp(2)\n",
        "perp3=get_perp(3)\n",
        "perp4=get_perp(4)\n",
        "perp5=get_perp(5)\n",
        "red1=get_sus(1)\n",
        "red2=get_sus(2)\n",
        "red3=get_sus(3)\n",
        "red4=get_sus(4)\n",
        "red5=get_sus(5)\n",
        "perp_neighbors1=get_3words(1,perp1)\n",
        "perp_neighbors2=get_3words(2,perp2)\n",
        "perp_neighbors3=get_3words(3,perp3)\n",
        "perp_neighbors4=get_3words(4,perp4)\n",
        "perp_neighbors5=get_3words(5,perp5)\n",
        "\n",
        "sus_neighbors1=get_3words(1,red1)\n",
        "sus_neighbors2=get_3words(2,red2)\n",
        "sus_neighbors3=get_3words(3,red3)\n",
        "sus_neighbors4=get_3words(4,red4)\n",
        "sus_neighbors5=get_3words(5,red5)\n",
        "\n",
        "perp5bag=[word for words in perp_neighbors5 for word in words]\n",
        "perp4bag=[word for words in perp_neighbors4 for word in words]\n",
        "perp3bag=[word for words in perp_neighbors3 for word in words]\n",
        "perp2bag=[word for words in perp_neighbors2 for word in words]\n",
        "perp1bag=[word for words in perp_neighbors1 for word in words]\n",
        "\n",
        "sus1bag=[word for words in sus_neighbors1 for word in words]\n",
        "sus2bag=[word for words in sus_neighbors2 for word in words]\n",
        "sus3bag=[word for words in sus_neighbors3 for word in words]\n",
        "sus4bag=[word for words in sus_neighbors4 for word in words]\n",
        "sus5bag=[word for words in sus_neighbors5 for word in words]\n",
        "perp5bag=' '.join(perp5bag)\n",
        "perp4bag=' '.join(perp4bag)\n",
        "perp3bag=' '.join(perp3bag)\n",
        "perp2bag=' '.join(perp2bag)\n",
        "perp1bag=' '.join(perp1bag)\n",
        "sus1bag=' '.join(sus1bag)\n",
        "sus2bag=' '.join(sus2bag)\n",
        "sus3bag=' '.join(sus3bag)\n",
        "sus4bag=' '.join(sus4bag)\n",
        "sus5bag=' '.join(sus5bag)\n",
        "\n",
        "from sklearn.feature_extraction.text import TfidfVectorizer\n",
        "import pandas as pd\n",
        "\n",
        "vectorizer = TfidfVectorizer()\n",
        "#vectorizer = TfidfVectorizer(stop_words='english',max_df=.80)\n",
        "trsfm=vectorizer.fit_transform([perp1bag,perp2bag,perp3bag,perp4bag,perp5bag])\n",
        "tfid_data=pd.DataFrame(trsfm.toarray(),columns=vectorizer.get_feature_names(),index=['Perp 1','Perp 2','Perp 3','Perp 4','Perp 5'])\n",
        "print(tfid_data)\n",
        "tfid_data=tfid_data.replace(0,.00001)\n",
        "print(tfid_data)\n",
        "import numpy as np\n",
        "importance = np.argsort(np.asarray(trsfm.sum(axis=0)).ravel())[::-1]\n",
        "tfidf_feature_names = np.array(vectorizer.get_feature_names())\n",
        "print(tfidf_feature_names[importance[:20]])\n",
        "from sklearn.metrics.pairwise import cosine_similarity\n",
        "print(cosine_similarity(trsfm[0:10], trsfm))\n"
      ],
      "execution_count": null,
      "outputs": [
        {
          "name": "stdout",
          "output_type": "stream",
          "text": [
            "            17th       7th     about   absence  absolute    absurd  accepted  \\\n",
            "Perp 1  0.000000  0.000000  0.000000  0.000000  0.033753  0.000000  0.000000   \n",
            "Perp 2  0.017485  0.017485  0.035130  0.017485  0.000000  0.017485  0.000000   \n",
            "Perp 3  0.000000  0.000000  0.024470  0.000000  0.000000  0.000000  0.000000   \n",
            "Perp 4  0.000000  0.000000  0.038156  0.000000  0.000000  0.000000  0.014244   \n",
            "Perp 5  0.000000  0.000000  0.000000  0.000000  0.000000  0.000000  0.000000   \n",
            "\n",
            "        accompanied  accompanying  accordingly  ...   written     wrote  \\\n",
            "Perp 1     0.000000      0.000000     0.000000  ...  0.033753  0.027232   \n",
            "Perp 2     0.000000      0.000000     0.000000  ...  0.000000  0.000000   \n",
            "Perp 3     0.014739      0.000000     0.018269  ...  0.000000  0.000000   \n",
            "Perp 4     0.022983      0.014244     0.000000  ...  0.000000  0.011492   \n",
            "Perp 5     0.000000      0.000000     0.000000  ...  0.000000  0.000000   \n",
            "\n",
            "           years       yes  yesterday       yet       you     young      your  \\\n",
            "Perp 1  0.000000  0.016084   0.033753  0.000000  0.057048  0.000000  0.057048   \n",
            "Perp 2  0.014107  0.024996   0.000000  0.011710  0.157615  0.011710  0.009851   \n",
            "Perp 3  0.000000  0.034821   0.000000  0.012235  0.154386  0.012235  0.030877   \n",
            "Perp 4  0.011492  0.061084   0.000000  0.009539  0.248762  0.019078  0.040123   \n",
            "Perp 5  0.000000  0.074061   0.000000  0.000000  0.000000  0.000000  0.000000   \n",
            "\n",
            "           yours  \n",
            "Perp 1  0.000000  \n",
            "Perp 2  0.000000  \n",
            "Perp 3  0.000000  \n",
            "Perp 4  0.028487  \n",
            "Perp 5  0.000000  \n",
            "\n",
            "[5 rows x 1154 columns]\n",
            "            17th       7th     about   absence  absolute    absurd  accepted  \\\n",
            "Perp 1  0.000010  0.000010  0.000010  0.000010  0.033753  0.000010  0.000010   \n",
            "Perp 2  0.017485  0.017485  0.035130  0.017485  0.000010  0.017485  0.000010   \n",
            "Perp 3  0.000010  0.000010  0.024470  0.000010  0.000010  0.000010  0.000010   \n",
            "Perp 4  0.000010  0.000010  0.038156  0.000010  0.000010  0.000010  0.014244   \n",
            "Perp 5  0.000010  0.000010  0.000010  0.000010  0.000010  0.000010  0.000010   \n",
            "\n",
            "        accompanied  accompanying  accordingly  ...   written     wrote  \\\n",
            "Perp 1     0.000010      0.000010     0.000010  ...  0.033753  0.027232   \n",
            "Perp 2     0.000010      0.000010     0.000010  ...  0.000010  0.000010   \n",
            "Perp 3     0.014739      0.000010     0.018269  ...  0.000010  0.000010   \n",
            "Perp 4     0.022983      0.014244     0.000010  ...  0.000010  0.011492   \n",
            "Perp 5     0.000010      0.000010     0.000010  ...  0.000010  0.000010   \n",
            "\n",
            "           years       yes  yesterday       yet       you     young      your  \\\n",
            "Perp 1  0.000010  0.016084   0.033753  0.000010  0.057048  0.000010  0.057048   \n",
            "Perp 2  0.014107  0.024996   0.000010  0.011710  0.157615  0.011710  0.009851   \n",
            "Perp 3  0.000010  0.034821   0.000010  0.012235  0.154386  0.012235  0.030877   \n",
            "Perp 4  0.011492  0.061084   0.000010  0.009539  0.248762  0.019078  0.040123   \n",
            "Perp 5  0.000010  0.074061   0.000010  0.000010  0.000010  0.000010  0.000010   \n",
            "\n",
            "           yours  \n",
            "Perp 1  0.000010  \n",
            "Perp 2  0.000010  \n",
            "Perp 3  0.000010  \n",
            "Perp 4  0.028487  \n",
            "Perp 5  0.000010  \n",
            "\n",
            "[5 rows x 1154 columns]\n",
            "['the' 'to' 'and' 'was' 'of' 'that' 'said' 'you' 'had' 'he' 'it' 'in'\n",
            " 'her' 'not' 'with' 'is' 'she' 'for' 'at' 'but']\n",
            "[[1.         0.61045141 0.52804523 0.63038038 0.34446148]\n",
            " [0.61045141 1.         0.59942368 0.67517775 0.32207248]\n",
            " [0.52804523 0.59942368 1.         0.64073092 0.28191364]\n",
            " [0.63038038 0.67517775 0.64073092 1.         0.31790131]\n",
            " [0.34446148 0.32207248 0.28191364 0.31790131 1.        ]]\n"
          ]
        }
      ]
    },
    {
      "cell_type": "code",
      "metadata": {
        "id": "ElO54wsfqQnR",
        "outputId": "8162b914-9ac6-407b-c829-9fb323c3de37"
      },
      "source": [
        "!pip install textdistance\n",
        "import textdistance"
      ],
      "execution_count": null,
      "outputs": [
        {
          "name": "stdout",
          "output_type": "stream",
          "text": [
            "Requirement already satisfied: textdistance in /Applications/anaconda3/lib/python3.8/site-packages (4.2.1)\r\n"
          ]
        }
      ]
    },
    {
      "cell_type": "code",
      "metadata": {
        "colab": {
          "base_uri": "https://localhost:8080/"
        },
        "id": "3nM8g6WGhQI6",
        "outputId": "675dc9a8-08a1-4108-dacd-0c2d7a0bdb6a"
      },
      "source": [
        "from sklearn.feature_extraction.text import CountVectorizer\n",
        "vectorizer = CountVectorizer()\n",
        "\n",
        "cfm=vectorizer.fit_transform([perp1bag,perp2bag,perp3bag,perp4bag,perp5bag])\n",
        "c_data=pd.DataFrame(cfm.toarray(),columns=vectorizer.get_feature_names(),index=['Perp 1','Perp 2','Perp 3','Perp 4','Perp 5'])\n",
        "print(c_data)\n",
        "count_list = pd.DataFrame(c_data.sum(axis=0).sort_values(ascending=False))\n",
        "print(len(count_list)*.01)\n",
        "print(count_list[14:])\n",
        "trimmed=count_list.index.values\n",
        "trimmed_bag=' '.join(trimmed)\n",
        "print(trimmed_bag)\n",
        "\n",
        "from sklearn.metrics.pairwise import cosine_similarity\n",
        "print(\"hamming\")\n",
        "print(\"book 1\")\n",
        "print(len(perp1bag),len(sus1bag))\n",
        "print(textdistance.cosine.distance(trimmed_bag,perp1bag))\n",
        "print(textdistance.cosine.distance(trimmed_bag,sus1bag))\n",
        "print(\"book 2\")\n",
        "print(textdistance.cosine.distance(trimmed_bag,perp2bag))\n",
        "print(textdistance.cosine.distance(trimmed_bag,sus2bag))\n",
        "print(\"book 3\")\n",
        "print(textdistance.cosine.distance(trimmed_bag,perp3bag))\n",
        "print(textdistance.cosine.distance(trimmed_bag,sus3bag))\n",
        "print(\"book 4\")\n",
        "print(textdistance.cosine.distance(trimmed_bag,perp4bag))\n",
        "print(textdistance.cosine.distance(trimmed_bag,sus4bag))\n",
        "print(\"book 5\")\n",
        "print(textdistance.cosine.distance(trimmed_bag,perp5bag))\n",
        "print(textdistance.cosine.distance(trimmed_bag,sus5bag))\n",
        "\n",
        "\n",
        "\n",
        "print(\"cosine\")\n",
        "print(textdistance.cosine.normalized_distance(trimmed_bag,perp1bag))\n",
        "print(textdistance.cosine.normalized_distance(trimmed_bag,sus1bag))\n",
        "print(\"jaccard\")\n",
        "print(textdistance.jaccard.normalized_distance(trimmed_bag,perp1bag))\n",
        "print(textdistance.jaccard.normalized_distance(trimmed_bag,sus1bag))\n"
      ],
      "execution_count": null,
      "outputs": [
        {
          "name": "stdout",
          "output_type": "stream",
          "text": [
            "        17th  7th  about  absence  absolute  absurd  accepted  accompanied  \\\n",
            "Perp 1     0    0      0        0         1       0         0            0   \n",
            "Perp 2     1    1      3        1         0       1         0            0   \n",
            "Perp 3     0    0      2        0         0       0         0            1   \n",
            "Perp 4     0    0      4        0         0       0         1            2   \n",
            "Perp 5     0    0      0        0         0       0         0            0   \n",
            "\n",
            "        accompanying  accordingly  ...  written  wrote  years  yes  yesterday  \\\n",
            "Perp 1             0            0  ...        1      1      0    1          1   \n",
            "Perp 2             0            0  ...        0      0      1    3          0   \n",
            "Perp 3             0            1  ...        0      0      0    4          0   \n",
            "Perp 4             1            0  ...        0      1      1    9          0   \n",
            "Perp 5             0            0  ...        0      0      0    1          0   \n",
            "\n",
            "        yet  you  young  your  yours  \n",
            "Perp 1    0    3      0     3      0  \n",
            "Perp 2    1   16      1     1      0  \n",
            "Perp 3    1   15      1     3      0  \n",
            "Perp 4    1   31      2     5      2  \n",
            "Perp 5    0    0      0     0      0  \n",
            "\n",
            "[5 rows x 1154 columns]\n",
            "11.540000000000001\n",
            "           0\n",
            "her       39\n",
            "at        37\n",
            "with      34\n",
            "for       33\n",
            "his       32\n",
            "...       ..\n",
            "grunted    1\n",
            "guilty     1\n",
            "guy        1\n",
            "handling   1\n",
            "leisure    1\n",
            "\n",
            "[1140 rows x 1 columns]\n",
            "the to and was of said that you he it in had not is her at with for his but she my me on have be what him mr as all who yes we poirot did so looked up would know miss tuppence there dear been were your will an out very julius shook this by pagett see no from howard again asked are they alfred think where once or do about after well one can colonel two course must oh against nodded could tell say diary gravely got here has before race last mrs face now if smiled john thought replied took am made them us secretary ah more like dryly into letter down something too went room why how cried re then questions suspect time right cabin cannes turned husband does only inglethorp night girl beautiful ask when go name some should voice spoke round fellow off stroked nothing words our even rose young much quite remember continued evie thing eyes any darling remarked jack house over already interrupted daubreuil wish thoughtfully hang good better head hall marthe hand easily man being brown don case let long sure back slightly few felt hastings six recognized sitting handed reasons really hands gave find durban hersheimmer hope sprang death england glance saw dearest forward going eye sat herself day story idea hadn suppose suzanne shall chin men because car came called little ll looking possibility matter between person mind want wanted moment true watching way party murdered which murmured whom overheard always admitted across accompanied yet certainly sir clock than told tommy comes rayburn these convinced just chemist thank through read lady order pass shan interests its gallantly innocence seems gasped seemed sighed mother silence passed past fears money secret sharply papers note immediately outside side shrugged observed finished reached finn shoulders florence old overhears own search owner realized follow myself shortly later johannesburg paused mademoiselle possible low harry look presence hotel haven knew lips lifted known produced help late left leaves profile property lawrence hesitated poor managed marlow pity himself minute goes peel fear pettigrew picked great grimly safety pleasure met guilt place inquiringly mean may renauld quietly marry real yours confessed still surely suspected departure deep dead daughter cynthia curious telling confidence those though come children track dinner supposing supposed sudden straight ears drew studied dr such suddenly discovered suggested suggestion summoned doesn doctor disguised tried chap chance anyway watch attention while whole appealing whose anxiety begin anne also without wonder wrote years backed beginning truth until turning typing capable call understand broke upon behind boris body blair ve believe belief edgerton fact smiling explained enough speak ever softly exclaimed entered son sit slowly excuse sounded start open everything views plunging sneaking shrewdness shows snort shout violent poignant village use pockets ushered plans uttered placed vandemeyer pleased shoulder pleasantly plaintively villa vehemence planned vase saucily urging pride ship unconvinced shock proceeded probably private prison under underlying prior princess sought prime understood perfectly previously presto unexpectedly unfortunately unimportant unless unpleasant precisely practical post shop untrue unwittingly urged peculiarities pencil sigh wife wildly skilful wilful window wired signature wiser ourselves withdrew within witnessed other orders woman siren wondering opposite work opportunity opportunities wouldn write writing written sinking simple yesterday opined owing wicked wake pace walked typewriter peculiar wall wants war paul warn warning passes warnings passage smell shuddered ways particular wears week wept part whatsoever pardon shut whispered paper whistle small paled skipped shielding proudly soul spellbound square ringing ring returns returning return retorted resumed result seem spot restrain sport suppress respect sound repressing surprised speeches reporters seen suspecting repeated suspicion swallowed send sweet swept repeat sympathetically second risen squashed suit steps sticking statement stirred sank same startled stop stopped sadly starting ruefully row stretched striding stared saying stupid styles standpoint says scholar rolled standing screening roll ritz scrutiny risk remembers speaking sympathy thoughtful rag shamming today together tone tones sounds towards quiet shared queried queer quarrelling travelling tredwell quarrel qualm put sharpened punctually trouble troubling publicly prys providing truly proved stay protest throat ran table rang sensational take reluctantly taking rejoin regards refreshed referred tale recounted talking reassuringly seriously reason tangle tapped service tea teetotaller set temper testimony their thinks rather third settled simultaneously rate since 17th ones curiosity conversation correspondence coughed council couple cousins covered crime criminal croquet cross custody considered cynic dagger dare dared dash dawn days decision deck declared deferential continuing considerable degenerate clue cheerfully chichester child chuckled chéri civil claimed clearing close closed clothes coffee consented coming common company completely comprehendingly concerns conclusion confidential conflict connecting conscious defiantly deliberately checked enormously eloping embroidering emily employed encounter endeavouring engaged engineered english enigmatical enjoyed enters eh enthusiastically entrance envelope eric evenly events every everybody everywhere evidence exactly ejaculated effect depends door desire determined dictaphone dictating dictation direct direction dismissing doing dollars done doorway edged doubt doubtless drawing drawn dream driven dropped earth easy eat echoed cheeks charge occupied apprehension animosity another anthony anything apologized appeal appealed appealingly appear appeared appointed approach amply approvingly argentine arms arrange arranged arranges arrived aside assented association assure amélie ample attempts addressed absence absolute absurd accepted accompanying accordingly acquit acted actual actually added admiring along advice advise afraid afternoon agitated agitation ago air airily allotted alone astute attend changed bye brains breath breathing breathless bring bringing brought brow brushed bully business cables bowed calumnies careful carter cases caught caused cautiously cavendish certain chairs change boy bound attract believed autocratic away baleful bamboozled barely become becomes becoming bedroom beg began bella booked belonging beloved benefit bent besides best big blinked blow bluntly blush exaggerated examined excellent liberality large latin laugh laughing lawyer lay learning learnt leave 7th letters lies knows life liked links listen listened lived lives lodge looks lots love label knowing mad intentions indeed indefinable induced infallibly informant ing ingenious inside instance instinct insuperable interested kilmorden introduced invite isn job join joined jury justice keen keep kept mace malicious except next moved murder murderer murdering mused naturally near nearer need nelson never nimbly motive nine noises nonplussed nonsense notice noticed notices object objection obliged obviously mount morrow maman methods manage march marguerite married marrying master meditatively meet mention merlinville mess middlingham morning midland might mill million milray minutes miscellaneous mistake moments monsieur monstrous important imperturbably impatiently fool fire firing first flinging floor flung flushed fly following fondness food force finally forgive fortune found four french friend frowned full furious further futile finger fiddlesticks impassive falls excitedly exciting exhibited existence expedition expressive extremely facetiously facing fairly fairy family fiancée famous fancied far fat fate fathom favour fee feel feelings fell game garden gardener held hastily hautet having hear heard hearing heart heaved heavens heavily heir hero gather highbrow highly hint hold home however hullo hum hurting hushing ignored hasn hardly harbour handsome gaze gazed gazing genially gentleman get gipsy giraffe girls give glanced glasses glimmerings gone grave grew grimace groan growing grunted guilty guy handling leisure\n",
            "hamming\n",
            "book 1\n",
            "2461 5521\n",
            "0.4585015868447041\n",
            "0.18766644512132702\n",
            "book 2\n",
            "0.15490858544497788\n",
            "0.16451144258602457\n",
            "book 3\n",
            "0.16675188068038926\n",
            "0.1789905968745179\n",
            "book 4\n",
            "0.12351096512620685\n",
            "0.4039076654348569\n",
            "book 5\n",
            "0.7927815987425407\n",
            "0.506402780393445\n",
            "cosine\n",
            "0.4585015868447041\n",
            "0.18766644512132702\n",
            "jaccard\n",
            "0.705514086202745\n",
            "0.33910533910533913\n"
          ]
        }
      ]
    },
    {
      "cell_type": "code",
      "metadata": {
        "colab": {
          "base_uri": "https://localhost:8080/"
        },
        "id": "BR5-ArLSvPG5",
        "outputId": "e5897405-ddba-46b4-b0b7-5ea11bb6a359"
      },
      "source": [
        "from sklearn.feature_extraction.text import TfidfVectorizer\n",
        "import pandas as pd\n",
        "\n",
        "vectorizer = TfidfVectorizer()\n",
        "#vectorizer = TfidfVectorizer(stop_words='english',max_df=.80)\n",
        "trsfm=vectorizer.fit_transform([perp1bag,perp2bag,perp3bag,perp4bag,perp5bag])\n",
        "tfid_data=pd.DataFrame(trsfm.toarray(),columns=vectorizer.get_feature_names(),index=['Perp 1','Perp 2','Perp 3','Perp 4','Perp 5'])\n",
        "tfid_data=tfid_data.replace(0,.00001)\n",
        "print(tfid_data)\n",
        "from scipy import stats\n",
        "vectorizer2 = TfidfVectorizer()\n",
        "count_list = pd.DataFrame(tfid_data.sum(axis=0).sort_values(ascending=False))\n",
        "print(len(count_list)*.01)\n",
        "print(count_list[15:])\n",
        "trimmed=count_list[15:].index.values\n",
        "print(trimmed)\n",
        "#print(stats.entropy(df.))"
      ],
      "execution_count": null,
      "outputs": [
        {
          "name": "stdout",
          "output_type": "stream",
          "text": [
            "            17th       7th     about   absence  absolute    absurd  accepted  \\\n",
            "Perp 1  0.000010  0.000010  0.000010  0.000010  0.033753  0.000010  0.000010   \n",
            "Perp 2  0.017485  0.017485  0.035130  0.017485  0.000010  0.017485  0.000010   \n",
            "Perp 3  0.000010  0.000010  0.024470  0.000010  0.000010  0.000010  0.000010   \n",
            "Perp 4  0.000010  0.000010  0.038156  0.000010  0.000010  0.000010  0.014244   \n",
            "Perp 5  0.000010  0.000010  0.000010  0.000010  0.000010  0.000010  0.000010   \n",
            "\n",
            "        accompanied  accompanying  accordingly  ...   written     wrote  \\\n",
            "Perp 1     0.000010      0.000010     0.000010  ...  0.033753  0.027232   \n",
            "Perp 2     0.000010      0.000010     0.000010  ...  0.000010  0.000010   \n",
            "Perp 3     0.014739      0.000010     0.018269  ...  0.000010  0.000010   \n",
            "Perp 4     0.022983      0.014244     0.000010  ...  0.000010  0.011492   \n",
            "Perp 5     0.000010      0.000010     0.000010  ...  0.000010  0.000010   \n",
            "\n",
            "           years       yes  yesterday       yet       you     young      your  \\\n",
            "Perp 1  0.000010  0.016084   0.033753  0.000010  0.057048  0.000010  0.057048   \n",
            "Perp 2  0.014107  0.024996   0.000010  0.011710  0.157615  0.011710  0.009851   \n",
            "Perp 3  0.000010  0.034821   0.000010  0.012235  0.154386  0.012235  0.030877   \n",
            "Perp 4  0.011492  0.061084   0.000010  0.009539  0.248762  0.019078  0.040123   \n",
            "Perp 5  0.000010  0.074061   0.000010  0.000010  0.000010  0.000010  0.000010   \n",
            "\n",
            "           yours  \n",
            "Perp 1  0.000010  \n",
            "Perp 2  0.000010  \n",
            "Perp 3  0.000010  \n",
            "Perp 4  0.028487  \n",
            "Perp 5  0.000010  \n",
            "\n",
            "[5 rows x 1154 columns]\n",
            "11.540000000000001\n",
            "                 0\n",
            "is        0.418521\n",
            "she       0.408947\n",
            "for       0.365061\n",
            "at        0.357957\n",
            "but       0.348771\n",
            "...            ...\n",
            "sneaking  0.014284\n",
            "guy       0.014284\n",
            "handsome  0.014284\n",
            "skipped   0.014284\n",
            "leisure   0.014284\n",
            "\n",
            "[1139 rows x 1 columns]\n",
            "['is' 'she' 'for' ... 'handsome' 'skipped' 'leisure']\n"
          ]
        }
      ]
    },
    {
      "cell_type": "code",
      "metadata": {
        "colab": {
          "base_uri": "https://localhost:8080/"
        },
        "id": "xbQRYlltkxrq",
        "outputId": "558803b0-775c-45c4-f533-e08d22245cfd"
      },
      "source": [
        "!pip install textdistance\n",
        "import textdistance"
      ],
      "execution_count": null,
      "outputs": [
        {
          "name": "stdout",
          "output_type": "stream",
          "text": [
            "Requirement already satisfied: textdistance in /Applications/anaconda3/lib/python3.8/site-packages (4.2.1)\r\n"
          ]
        }
      ]
    },
    {
      "cell_type": "code",
      "metadata": {
        "colab": {
          "base_uri": "https://localhost:8080/"
        },
        "id": "_lVyfpJak9kR",
        "outputId": "34871a02-9475-417c-88fa-7d2d2d757278"
      },
      "source": [
        "print(\"Hamming\")\n",
        "print(textdistance.hamming.normalized_distance(perp1bag,perp2bag))\n",
        "print(textdistance.hamming.normalized_distance(perp1bag,perp3bag))\n",
        "print(textdistance.hamming.normalized_distance(perp1bag,perp4bag))\n",
        "print(textdistance.hamming.normalized_distance(perp1bag,perp5bag))\n",
        "print(textdistance.hamming.normalized_distance(perp1bag,sus1bag))\n",
        "print(textdistance.hamming.normalized_distance(perp1bag,sus2bag))\n",
        "print(textdistance.hamming.normalized_distance(perp1bag,sus3bag))\n",
        "print(textdistance.hamming.normalized_distance(perp1bag,sus4bag))\n",
        "print(textdistance.hamming.normalized_distance(perp1bag,sus5bag))\n",
        "print(\"Jaccard\")\n",
        "print(textdistance.jaccard.distance(perp1bag,perp2bag))\n",
        "print(textdistance.jaccard.distance(perp1bag,perp3bag))\n",
        "print(textdistance.jaccard.distance(perp1bag,perp4bag))\n",
        "print(textdistance.jaccard.distance(perp1bag,perp5bag))\n",
        "print(textdistance.jaccard.distance(perp1bag,sus1bag))\n",
        "print(textdistance.jaccard.distance(perp1bag,sus2bag))\n",
        "print(textdistance.jaccard.distance(perp1bag,sus3bag))\n",
        "print(textdistance.jaccard.distance(perp1bag,sus4bag))\n",
        "print(textdistance.jaccard.distance(perp1bag,sus5bag))\n",
        "print(\"Bag\")\n",
        "print(textdistance.bag.normalized_distance(perp1bag,perp2bag))\n",
        "print(textdistance.bag.normalized_distance(perp1bag,perp3bag))\n",
        "print(textdistance.bag.normalized_distance(perp1bag,perp4bag))\n",
        "print(textdistance.bag.normalized_distance(perp1bag,perp5bag))\n",
        "print(textdistance.bag.normalized_distance(perp1bag,sus1bag))\n",
        "print(textdistance.bag.normalized_distance(perp1bag,sus2bag))\n",
        "print(textdistance.bag.normalized_distance(perp1bag,sus3bag))\n",
        "print(textdistance.bag.normalized_distance(perp1bag,sus4bag))\n",
        "print(textdistance.bag.normalized_distance(perp1bag,sus5bag))\n",
        "print(\"Overlap\")\n",
        "print(textdistance.overlap.normalized_distance(perp1bag,perp2bag))\n",
        "print(textdistance.overlap.normalized_distance(perp1bag,perp3bag))\n",
        "print(textdistance.overlap.normalized_distance(perp1bag,perp4bag))\n",
        "print(textdistance.overlap.normalized_distance(perp1bag,perp5bag))\n",
        "print(textdistance.overlap.normalized_distance(perp1bag,sus1bag))\n",
        "print(textdistance.overlap.normalized_distance(perp1bag,sus2bag))\n",
        "print(textdistance.overlap.normalized_distance(perp1bag,sus3bag))\n",
        "print(textdistance.overlap.normalized_distance(perp1bag,sus4bag))\n",
        "print(textdistance.overlap.normalized_distance(perp1bag,sus5bag))"
      ],
      "execution_count": null,
      "outputs": [
        {
          "name": "stdout",
          "output_type": "stream",
          "text": [
            "Hamming\n",
            "0.9673436230706742\n",
            "0.9694539249146757\n",
            "0.9752527940393827\n",
            "0.9869971556277936\n",
            "0.9652236913602609\n",
            "0.9675776608385673\n",
            "0.9836010143702452\n",
            "0.925575101488498\n",
            "0.926046322633076\n",
            "Jaccard\n",
            "0.6040181464679196\n",
            "0.5846232352440892\n",
            "0.6745051149196226\n",
            "0.8541835905767668\n",
            "0.5589456580610219\n",
            "0.5870411097952969\n",
            "0.7937030471849413\n",
            "0.19973413094051184\n",
            "0.19581825492561322\n",
            "Bag\n",
            "0.6029244516653127\n",
            "0.5832764505119454\n",
            "0.6740287386907929\n",
            "0.8541243396993092\n",
            "0.5575076978808187\n",
            "0.5856391105075539\n",
            "0.7934065934065934\n",
            "0.18538565629228687\n",
            "0.18732222673709875\n",
            "Overlap\n",
            "0.006907761072734608\n",
            "0.0077204388459976014\n",
            "0.004469727752945962\n",
            "0.002777777777777768\n",
            "0.00731409995936616\n",
            "0.008126777732629042\n",
            "0.006907761072734608\n",
            "0.02153596099146693\n",
            "0.012833168805528095\n"
          ]
        }
      ]
    },
    {
      "cell_type": "code",
      "metadata": {
        "colab": {
          "base_uri": "https://localhost:8080/"
        },
        "id": "KcdeVOVK_zGW",
        "scrolled": true,
        "outputId": "3e42e359-d082-452c-c3bc-a0a8fecd4c35"
      },
      "source": [
        "print(\"using books 1,3,4,5\")\n",
        "bag1345=' '.join([perp1bag,perp3bag,perp4bag,perp5bag])\n",
        "print(\"book 1\")\n",
        "print(textdistance.jaccard.distance(bag1345,perp1bag))\n",
        "print(textdistance.jaccard.distance(bag1345,sus1bag))\n",
        "\n",
        "print(\"book 2\")\n",
        "print(textdistance.jaccard.distance(bag1345,perp2bag))\n",
        "print(textdistance.jaccard.distance(bag1345,sus2bag))\n",
        "print(\"book 3\")\n",
        "print(textdistance.jaccard.distance(bag1345,perp3bag))\n",
        "print(textdistance.jaccard.distance(bag1345,sus3bag))\n",
        "print(\"book 4\")\n",
        "print(textdistance.jaccard.distance(bag1345,perp4bag))\n",
        "print(textdistance.jaccard.distance(bag1345,sus4bag))\n",
        "print(\"book 5\")\n",
        "print(textdistance.jaccard.distance(bag1345,perp5bag))\n",
        "print(textdistance.jaccard.distance(bag1345,sus5bag))\n",
        "print(\"using 1345 fails on 1\")\n",
        "print(\"using books 1,2,4,5\")\n",
        "bag1245=' '.join([perp1bag,perp2bag,perp4bag,perp5bag])\n",
        "print(\"book 1\")\n",
        "print(textdistance.jaccard.distance(bag1245,perp1bag))\n",
        "print(textdistance.jaccard.distance(bag1245,sus1bag))\n",
        "print(\"book 2\")\n",
        "print(textdistance.jaccard.distance(bag1245,perp2bag))\n",
        "print(textdistance.jaccard.distance(bag1245,sus2bag))\n",
        "print(\"book 3\")\n",
        "print(textdistance.jaccard.distance(bag1245,perp3bag))\n",
        "print(textdistance.jaccard.distance(bag1245,sus3bag))\n",
        "print(\"book 4\")\n",
        "print(textdistance.jaccard.distance(bag1245,perp4bag))\n",
        "print(textdistance.jaccard.distance(bag1245,sus4bag))\n",
        "print(\"book 5\")\n",
        "print(textdistance.jaccard.distance(bag1245,perp5bag))\n",
        "print(textdistance.jaccard.distance(bag1245,sus5bag))\n",
        "print('using books 1245 fails on 1')\n",
        "print(\"using books 1,2,3,5\")\n",
        "bag1235=' '.join([perp1bag,perp2bag,perp3bag,perp5bag])\n",
        "print(\"book 1\")\n",
        "print(textdistance.jaccard.distance(bag1235,perp1bag))\n",
        "print(textdistance.jaccard.distance(bag1235,sus1bag))\n",
        "\n",
        "print(\"book 2\")\n",
        "print(textdistance.jaccard.distance(bag1235,perp2bag))\n",
        "print(textdistance.jaccard.distance(bag1235,sus2bag))\n",
        "print(\"book 3\")\n",
        "print(textdistance.jaccard.distance(bag1235,perp3bag))\n",
        "print(textdistance.jaccard.distance(bag1235,sus3bag))\n",
        "print(\"book 4\")\n",
        "print(textdistance.jaccard.distance(bag1235,perp4bag))\n",
        "print(textdistance.jaccard.distance(bag1235,sus4bag))\n",
        "print(\"book 5\")\n",
        "print(textdistance.jaccard.distance(bag1235,perp5bag))\n",
        "print(textdistance.jaccard.distance(bag1235,sus5bag))\n",
        "print(\"using books 1235 fails on 1\")\n",
        "print(\"using books 1,2,3,4\")\n",
        "bag1234=' '.join([perp1bag,perp2bag,perp3bag,perp4bag])\n",
        "print(\"book 1\")\n",
        "print(textdistance.jaccard.distance(bag1234,perp1bag))\n",
        "print(textdistance.jaccard.distance(bag1234,sus1bag))\n",
        "print(\"book 2\")\n",
        "print(textdistance.jaccard.distance(bag1234,perp2bag))\n",
        "print(textdistance.jaccard.distance(bag1234,sus2bag))\n",
        "print(\"book 3\")\n",
        "print(textdistance.jaccard.distance(bag1234,perp3bag))\n",
        "print(textdistance.jaccard.distance(bag1234,sus3bag))\n",
        "print(\"book 4\")\n",
        "print(textdistance.jaccard.distance(bag1234,perp4bag))\n",
        "print(textdistance.jaccard.distance(bag1234,sus4bag))\n",
        "print(\"book 5\")\n",
        "print(textdistance.jaccard.distance(bag1234,perp5bag))\n",
        "print(textdistance.jaccard.distance(bag1234,sus5bag))\n",
        "print(\"using books 1234 fails on 1\")\n",
        "print(\"using books 2,3,4,5\")\n",
        "bag2345=' '.join([perp2bag,perp3bag,perp4bag,perp5bag])\n",
        "print(\"book 1\")\n",
        "print(textdistance.jaccard.distance(bag2345,perp1bag))\n",
        "print(textdistance.jaccard.distance(bag2345,sus1bag))\n",
        "\n",
        "print(\"book 2\")\n",
        "print(textdistance.jaccard.distance(bag2345,perp2bag))\n",
        "print(textdistance.jaccard.distance(bag2345,sus2bag))\n",
        "print(\"book 3\")\n",
        "print(textdistance.jaccard.distance(bag2345,perp3bag))\n",
        "print(textdistance.jaccard.distance(bag2345,sus3bag))\n",
        "print(\"book 4\")\n",
        "print(textdistance.jaccard.distance(bag2345,perp4bag))\n",
        "print(textdistance.jaccard.distance(bag2345,sus4bag))\n",
        "print(\"book 5\")\n",
        "print(textdistance.jaccard.distance(bag2345,perp5bag))\n",
        "print(textdistance.jaccard.distance(bag2345,sus5bag))\n"
      ],
      "execution_count": null,
      "outputs": [
        {
          "name": "stdout",
          "output_type": "stream",
          "text": [
            "using books 1,3,4,5\n",
            "book 1\n",
            "0.8480864197530864\n",
            "0.6591975308641975\n",
            "book 2\n",
            "0.6204875038568343\n",
            "0.6364421949262391\n",
            "book 3\n",
            "0.6382716049382716\n",
            "0.2713536848596978\n",
            "book 4\n",
            "0.5360493827160494\n",
            "0.8175308641975308\n",
            "book 5\n",
            "0.9777777777777777\n",
            "0.8749382716049383\n",
            "using 1345 fails on 1\n",
            "using books 1,2,4,5\n",
            "book 1\n",
            "0.8508032737193089\n",
            "0.6652925128826916\n",
            "book 2\n",
            "0.6268566232191572\n",
            "0.6429437439379244\n",
            "book 3\n",
            "0.6447408305547135\n",
            "0.284477015323118\n",
            "book 4\n",
            "0.5443467717490149\n",
            "0.820794180054562\n",
            "book 5\n",
            "0.9781752046074568\n",
            "0.8771749014852985\n",
            "using books 1245 fails on 1\n",
            "using books 1,2,3,5\n",
            "book 1\n",
            "0.8341532448278186\n",
            "0.6279398881326235\n",
            "book 2\n",
            "0.5852146371049263\n",
            "0.6030997304582211\n",
            "book 3\n",
            "0.6050946829301166\n",
            "0.204349582547805\n",
            "book 4\n",
            "0.4939028498282019\n",
            "0.8007952018330076\n",
            "book 5\n",
            "0.9757396050946829\n",
            "0.8634678886717434\n",
            "using books 1235 fails on 1\n",
            "using books 1,2,3,4\n",
            "book 1\n",
            "0.8881109343032507\n",
            "0.7489884064560127\n",
            "book 2\n",
            "0.7201636735621733\n",
            "0.7322240407346791\n",
            "book 3\n",
            "0.7335758126847011\n",
            "0.46236021456496046\n",
            "book 4\n",
            "0.6582859740850193\n",
            "0.8656058195044328\n",
            "book 5\n",
            "0.9836326437826779\n",
            "0.9078881563991816\n",
            "using books 1234 fails on 1\n",
            "using books 2,3,4,5\n",
            "book 1\n",
            "0.876858922829582\n",
            "0.7224791394390269\n",
            "book 2\n",
            "0.6906102342414798\n",
            "0.7039457150037698\n",
            "book 3\n",
            "0.705438825776616\n",
            "0.40622959055513685\n",
            "book 4\n",
            "0.6221976475319192\n",
            "0.8514124861767367\n",
            "book 5\n",
            "0.9819040916859355\n",
            "0.8981602493214035\n"
          ]
        }
      ]
    },
    {
      "cell_type": "markdown",
      "metadata": {
        "id": "NGyQWJ8U7K3f"
      },
      "source": [
        "\n",
        "\n",
        "## Dev notes"
      ]
    },
    {
      "cell_type": "code",
      "metadata": {
        "id": "br9fgnQ-ZczA"
      },
      "source": [
        "#Dev Notes: will refactor fetch() to generate dict of titles and indices rather than take in index\n",
        "# I.e., fetch() is backwards. should assign index based on title while fetching url\n",
        "\n",
        "\n",
        "#artifacts I've spotted in data:\n",
        "# I noticed and \"[Illustration]\" artifact in the mysterious affair at style.\n",
        "\n",
        "#possible start for sentence splitting regex\n",
        "#sentence_regex = r'([\\.\\?!][\\'\\\"\\u2018\\u2019\\u201c\\u201d\\)\\]]*\\s*(?<!\\w\\.\\w.)(?<![A-Z][a-z][a-z]\\.)(?<![A-Z][a-z]\\.)(?<![A-Z]\\.)\\s+)\n",
        "\n",
        "# V: do we need to clean up contractions to be spelled out? e.g., \"I'm\" to \"I am\", \"don't\" to \"do not\".\n",
        "#  "
      ],
      "execution_count": null,
      "outputs": []
    }
  ]
}