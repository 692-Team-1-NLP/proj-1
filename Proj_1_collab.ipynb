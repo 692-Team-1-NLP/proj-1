{
  "nbformat": 4,
  "nbformat_minor": 0,
  "metadata": {
    "colab": {
      "name": "Proj_1_collab (4).ipynb",
      "provenance": [],
      "collapsed_sections": []
    },
    "kernelspec": {
      "name": "python3",
      "display_name": "Python 3"
    },
    "language_info": {
      "name": "python"
    }
  },
  "cells": [
    {
      "cell_type": "markdown",
      "metadata": {
        "id": "8FHlrdot1Lsi"
      },
      "source": [
        "# `692-Proj-1 : Crime Novel Plot Analysis with Regex - Agatha Christie`\n",
        "The goal of this project is to conduct a plot and protagonist/antagonist analysis of the famous crime novels. For this project, we will analyze five publicly available crime novels/stories by Agatha Christie at the project Gutenberg http://www.gutenberg.org/. The novels chosen are: \n",
        "- The Mysterious Affair at Styles \n",
        "- The Murder on the Links \n",
        "- The Secret Adversary \n",
        "- The Man in the Brown Suit \n",
        "- The Secret of Chimneys \n",
        "\n",
        "\n",
        "Note: Feel free to use any background resource for the understanding of the plot, protagonist and antagonist names, and other details. Look for spoilers, details, etc. Our goal is not to predict the crime, but to computationally analyze the structure of the plot."
      ]
    },
    {
      "cell_type": "markdown",
      "metadata": {
        "id": "rUWekg6N1Rb0"
      },
      "source": [
        "#Data collection\n",
        "\n",
        "##Background research: \n",
        "\n",
        "Location for Plain text UTF-8 files for novels: \n",
        "- The Mysterious Affair at Styles https://www.gutenberg.org/files/863/863-0.txt\n",
        "- The Murder on the Links https://www.gutenberg.org/files/58866/58866-0.txt\n",
        "- The Secret Adversary https://www.gutenberg.org/files/1155/1155-0.txt\n",
        "- The Man in the Brown Suit https://www.gutenberg.org/files/61168/61168-0.txt\n",
        "- The Secret of Chimneys https://www.gutenberg.org/files/65238/65238-0.txt\n",
        "\n",
        "Note: One benefit to getting the text version is that the html version also has page number to clean, not present in text files\n",
        "\n",
        "###Helpful Links\n",
        "\n",
        "https://stackoverflow.com/questions/7243750/download-file-from-web-in-python-3\n",
        "\n",
        "https://docs.python.org/3/howto/urllib2.html\n",
        "\n"
      ]
    },
    {
      "cell_type": "code",
      "metadata": {
        "id": "y3zV4HGP1Us-"
      },
      "source": [
        "# example test run for one file \n",
        "# we will need a data structure that holds the name and links and loop through or sequentially get the data of all the novels.\n",
        "\n",
        "import urllib.request, re\n",
        "url = \"https://www.gutenberg.org/files/863/863-0.txt\" # utf-8 text file link for The Mysterious Affair at Styles \n",
        "\n",
        "response = urllib.request.urlopen(url)\n",
        "data = response.read()      # a `bytes` object\n",
        "text = data.decode('utf-8') # Default encoding is ascii; gutenberg has utf-8 encoded files\n",
        "#text  # uncomment for output if needed\n",
        "# text needs to be cleaned before it can be analyzed \n",
        "\n",
        "# trying out word; we will need both word and sentences\n",
        "#words = re.split('\\s+', text)\n",
        "\n",
        "# trying out tokenization sentences via re\n",
        "# tried, this WIP, as you can see in the output, doesnt get all the sentences\n",
        "sentences = re.split('(?<!\\w\\.\\w.)(?<![A-Z][a-z]\\.)(?<=\\.|\\?)\\s', text)"
      ],
      "execution_count": 2,
      "outputs": []
    },
    {
      "cell_type": "code",
      "metadata": {
        "id": "JDv-TcBQ1MU9"
      },
      "source": [
        ""
      ],
      "execution_count": 2,
      "outputs": []
    },
    {
      "cell_type": "code",
      "metadata": {
        "id": "srz1rKdu-x0P"
      },
      "source": [
        ""
      ],
      "execution_count": 2,
      "outputs": []
    },
    {
      "cell_type": "code",
      "metadata": {
        "id": "FHwNdj3-S5gW"
      },
      "source": [
        "#Author: Luke+Veronica\n",
        "#Description: Functions for retrieving and cleaning corpus\n",
        "import urllib.request, re\n",
        "\n",
        "def get_index(title):\n",
        "  last_reg=re.compile(r\"\\w+$\")\n",
        "  last_word=re.findall(last_reg,title)[0]\n",
        "  if last_word ==\"Links\":\n",
        "    #\"The Murder on the Links\"\n",
        "    index=1\n",
        "  elif last_word==\"Styles\":\n",
        "    #\"The Mysterious Affair at Styles\"\n",
        "    index=2\n",
        "  elif last_word==\"Adversary\":\n",
        "    #\"The Secret Adversary\"\n",
        "    index=3\n",
        "  elif last_word==\"Suit\":\n",
        "    #\"The Man in the Brown Suit\"\n",
        "    index=4\n",
        "  elif last_word==\"Chimneys\":\n",
        "    #\"The Secret of Chimneys\"\n",
        "    index=5\n",
        "  return index\n",
        "\n",
        "def get_text(index):\n",
        "  if index==1:\n",
        "    #\"The Murder on the Links\"\n",
        "    url = \"https://www.gutenberg.org/files/58866/58866-0.txt\"\n",
        "  elif index==2:\n",
        "    #\"The Mysterious Affair at Styles\"\n",
        "    url=\"https://www.gutenberg.org/files/863/863-0.txt\"\n",
        "  elif index==3:\n",
        "    #\"The Secret Adversary\"\n",
        "    url=\"https://www.gutenberg.org/files/1155/1155-0.txt\"\n",
        "  elif index==4:\n",
        "    #\"The Man in the Brown Suit\"\n",
        "    url=\"https://www.gutenberg.org/files/61168/61168-0.txt\"\n",
        "  elif index==5:\n",
        "    #\"The Secret of Chimneys\"\n",
        "    url=\"https://www.gutenberg.org/files/65238/65238-0.txt\"\n",
        "  response = urllib.request.urlopen(url)\n",
        "  data = response.read()      # a `bytes` object\n",
        "  text = data.decode('utf-8')\n",
        "  return text\n",
        "\n",
        "def get_ch_regex(index):\n",
        "  if index==1:\n",
        "    ch_carve=re.compile(r'\\n\\d\\d?\\s[\\'\\\"\\u201c]?[A-Z].*\\n')\n",
        "  elif index==2:\n",
        "    ch_carve=re.compile(r'CHAPTER\\s[IVX]+\\.\\r\\n.*\\r\\n')\n",
        "  elif index==3:\n",
        "    ch_carve=re.compile(r'\\r\\n\\r\\n\\r\\nCHAPTER.*\\r\\n')\n",
        "  elif index==4:\n",
        "    ch_carve=re.compile(r'CHAPTER\\s\\w+\\r\\n')  \n",
        "  elif index==5:\n",
        "    ch_carve=re.compile(r'\\d\\d?\\r\\n\\r\\n[A-OQ-Z].*\\r\\n')\n",
        "  return ch_carve\n",
        "\n",
        "def trim_contents(ch_contents_dict,index):\n",
        "  last=len(ch_contents_dict)\n",
        "  if index==1:\n",
        "    ch_contents_dict[last]=ch_contents_dict[last].split('\\nEnd of Project Gutenberg')[0]\n",
        "  elif index==2:\n",
        "    ch_contents_dict[last]=ch_contents_dict[last].split('\\nTHE END')[0]\n",
        "  elif index==3:\n",
        "    ch_contents_dict[last-1]=ch_contents_dict[last-1].split('\\nEnd of the Project Gutenberg')[0]\n",
        "  elif index==4:\n",
        "    ch_contents_dict[last-1]=ch_contents_dict[last-1].split('THE END')[0]\n",
        "  elif index==5:\n",
        "    ch_contents_dict[last]=re.split(r\"TRANSCRIBER\",ch_contents_dict[last])[0]\n",
        "  return ch_contents_dict\n",
        "\n",
        "def remove_white(chapter):\n",
        "  regex=r'[\\r\\n\\u200a_]+'\n",
        "  chapter = re.sub(regex,' ',chapter)\n",
        "  return chapter\n",
        "\n",
        "def sent_carve(chapter):\n",
        "  #chapter=re.split(r'(?<![A-H|J-Z])[\\.\\?!](?![\\'\\\"\\u2019\\u201a\\u201c\\u275c\\u275f\\u201e\\u201d\\u0022\\u275e]\\s[a-z])(?![\\'\\\"\\u2019\\u201a\\u201c\\u275c\\u275f\\u201e\\u201d\\u0022\\u275e]\\sI said)[\\'\\\"\\u2018\\u2019\\u201c\\u201d\\)\\]]*\\s*(?<!\\w\\.\\w)(?<![A-Z][a-z][a-z])(?<![A-Z][a-z])\\s+',chapter,flags=re.UNICODE)\n",
        "  chapter=re.split(r'(?<![^A-Z][A-H|J-Z])(?<!Mr|Ms|Dr)(?<!Mrs)(?<!Mlle)(?<!Melle)(?<!\\w\\.\\w)[\\.\\?!](?![\\'\\\"\\u2019\\u201a\\u201c\\u275c\\u275f\\u201e\\u201d\\u0022\\u275e]\\s[a-z])[\\'\\\"\\u2018\\u2019\\u201c\\u201d\\)\\]]*\\s*|\\u2014\\u201d\\s*',chapter,flags=re.UNICODE)\n",
        "  chapter=chapter[:-1]\n",
        "  chapter={num:contents.lower() for (num,contents) in enumerate(chapter)}\n",
        "  return chapter\n",
        "\n",
        "def ch_carve(title):\n",
        "\n",
        "  index=get_index(title)\n",
        "  text=get_text(index)\n",
        "  ch_regex=get_ch_regex(index)\n",
        "  if index ==3:\n",
        "    text=re.split(\"CHAPTER XXVIII.     AND AFTER\\r\\n\\r\\n\\r\\n\\r\\nPROLOGUE\",text)[1]\n",
        "  if index ==4:\n",
        "    text=re.split(\"PROLOGUE\",text)[1]\n",
        "  ch_titles=re.findall(ch_regex,text)\n",
        "  ch_titles_dict={num+1:remove_white(title.strip()) for (num,title) in enumerate(ch_titles)}\n",
        "  if index==3 or index ==4:\n",
        "    ch_titles_dict.update( {0 :\"PROLOGUE\"} )\n",
        "  chapters=re.split(ch_regex,text)\n",
        "  if index==3 or index==4:\n",
        "    ch_contents_dict = {num:contents for (num,contents) in enumerate(chapters)}  \n",
        "  elif index ==1 or index ==2 or index==5:\n",
        "    chapters=chapters[1:]\n",
        "    ch_contents_dict = {num+1:contents for (num,contents) in enumerate(chapters)}\n",
        "  ch_contents_dict=trim_contents(ch_contents_dict,index)\n",
        "  return {\"title\":title,\"contents\":ch_contents_dict,\"chapters\":ch_titles_dict}\n",
        "\n",
        "def get_corpus():\n",
        "  #tentatively planning to index books from 1 to match chapters\n",
        "  titles=[\"The Mysterious Affair at Styles\",\"The Murder on the Links\",\"The Secret Adversary\",\"The Man in the Brown Suit\",\"The Secret of Chimneys\"]\n",
        "  corpus={ get_index(title):ch_carve(title) for title in titles}\n",
        "  return corpus\n",
        "def clean_corpus(corpus):\n",
        "  for keyb,value in corpus.items():\n",
        "    for  keyc,value in value[\"contents\"].items():\n",
        "      corpus[keyb][\"contents\"][keyc]=sent_carve(remove_white(value))\n",
        "    \n",
        "  return corpus\n",
        "\n",
        "\n",
        "def sent_blob(chapter):\n",
        "  temp=''  \n",
        "  #chapter=re.split(r'(?<![A-H|J-Z])[\\.\\?!](?![\\'\\\"\\u2019\\u201a\\u201c\\u275c\\u275f\\u201e\\u201d\\u0022\\u275e]\\s[a-z])(?![\\'\\\"\\u2019\\u201a\\u201c\\u275c\\u275f\\u201e\\u201d\\u0022\\u275e]\\sI said)[\\'\\\"\\u2018\\u2019\\u201c\\u201d\\)\\]]*\\s*(?<!\\w\\.\\w)(?<![A-Z][a-z][a-z])(?<![A-Z][a-z])\\s+',chapter,flags=re.UNICODE)\n",
        "  chapter=re.split(r'(?<![^A-Z][A-H|J-Z])(?<!Mr|Ms|Dr)(?<!Mrs)(?<!Mlle)(?<!Melle)(?<!\\w\\.\\w)[\\.\\?!](?![\\'\\\"\\u2019\\u201a\\u201c\\u275c\\u275f\\u201e\\u201d\\u0022\\u275e]\\s[a-z])[\\'\\\"\\u2018\\u2019\\u201c\\u201d\\)\\]]*\\s*|\\u2014\\u201d\\s*',chapter,flags=re.UNICODE)\n",
        "  chapter=chapter[:-1]\n",
        "  for ch in chapter:\n",
        "    temp=temp+\" \"+ch.lower()    \n",
        "  return temp\n",
        "def remove_punc(blob):\n",
        "  blob=re.sub(r\"[\\u201c\\u201d\\?,;:\\.!\\u2018\\u2019\\u201a\\u275b\\u275c\\u275f\\s-]+\" ,' ',blob)\n",
        "  return blob\n",
        "def tighten(blob):\n",
        "  return re.sub(r\"\\s+\",\" \",blob)\n",
        "\n",
        "def blob_corpus(dirty_corpus):\n",
        "  for keyb,value in dirty_corpus.items():\n",
        "    blob=''\n",
        "    for  keyc,value in value[\"contents\"].items():\n",
        "      blob=blob+\" \"+tighten(remove_punc(remove_white(sent_blob(dirty_corpus[keyb][\"contents\"][keyc]))))\n",
        "    dirty_corpus[keyb][\"blob\"]=blob  \n",
        "  return dirty_corpus"
      ],
      "execution_count": 3,
      "outputs": []
    },
    {
      "cell_type": "code",
      "metadata": {
        "id": "bFHpUYOXeF4z"
      },
      "source": [
        "#Author: Luke \n",
        "#Description: collect and clean corpus\n",
        "\n",
        "dirty_corpus=get_corpus()\n",
        "dirty_corpus=blob_corpus(dirty_corpus)\n",
        "corpus=clean_corpus(dirty_corpus)\n",
        "\n",
        "#print(corpus[1][\"title\"],len(corpus[1][\"chapters\"]),len(corpus[1][\"contents\"]))\n",
        "#print(corpus[1][\"contents\"][28])\n",
        "#print(corpus[2][\"contents\"][13])\n",
        "#print(corpus[1][\"blob\"])"
      ],
      "execution_count": 4,
      "outputs": []
    },
    {
      "cell_type": "code",
      "metadata": {
        "id": "lUaxNizp9CDJ"
      },
      "source": [
        "#Author: Luke \n",
        "#Description Helper functions for answering questions\n",
        "def get_det(index):\n",
        "  if index==1:\n",
        "    det=re.compile(r\"hercule|poirot|arthur|hastings\")\n",
        "  elif index==2:\n",
        "    det=re.compile(r\"someone\")\n",
        "  elif index==3:\n",
        "    # Probably need to tewak this to capture the different versions of PTC\n",
        "    det=re.compile(r\"tuppence|beresford|prudence|cowley\")\n",
        "  else:\n",
        "    det=re.compile(r\"nobody\")\n",
        "  return det\n",
        "\n",
        "#The Mysterious Affair at Styles\n",
        "#Lead detective: Hercule Poirot, Arthur Hastings\n",
        "#Other detectives/assistants:\n",
        "#Victim: Emily Inglethorp\n",
        "#Suspects: Alfred Inglethorp , Cavendish\n",
        "#Perpetrator(s): Alfred Inglethorp, Evelyn Howard\n",
        "#Other important characters: John Cavendish,\n",
        "#Crime: Murder, Poisoning\n",
        "#Mrs. Inglethorp\n",
        "\n",
        "# V: Book 3 info from Addi\n",
        "#The Secret Adversary (complicated, Needs to be looked at more)\n",
        "#Lead detective: Tommy and Tuppence, Tommy Beresford, Tuppence Cowley, Prudence Cowley, Prudence \"Tuppence\" Cowley,\n",
        "#Other detectives/assistants:\n",
        "#Victim: Jane Finn, Mrs. Vandemeyer\n",
        "#Suspects: Mr. Brown, Julius Hersheimmer\n",
        "#Perpetrator: Sir James Peel Edgerton\n",
        "#Other important characters: Jane Finn\n",
        "#Crime: Espionage, Kidnapping\n",
        "#motif: thriller focus rather than detection\n",
        "\n",
        "def get_perp(index):\n",
        "  if index==1:\n",
        "    #checked book for abbreviations Mlle,mlle,Melle,melle - none occured in text\n",
        "    perp=re.compile(r\"mademoiselle marthe daubreuil|mademoiselle marthe|mademoiselle daubreuil|marthe daubreuil|marthe\")\n",
        "    #perp=re.compile(r\"mademoiselle( marthe)? daubreuil|marthe daubreuil|marthe\")\n",
        "  elif index==2:\n",
        "    perp=re.compile(r\"Alfred|(?<!Mrs. |Emily )Inglethorp\")\n",
        "  elif index==3:\n",
        "    perp=re.compile(r\"[james peel ]edgerton\")\n",
        "  else:\n",
        "    # V: shouldn't get here\n",
        "    perp=re.compile(r\"someone else\")\n",        
        "  return perp\n",
        "\n",
        "def get_crime(index):\n",
        "  if index==1:\n",
        "    crime=re.compile(r\"murdered|body (was|had been) discovered\")\n",
        "  elif index==2:\n",
        "    # FIXME\n",
        "    crime=re.compile(r\"some crime\")\n",
        "  elif index==3:\n",
        "    # V: could look for spy also\n",
        "    crime=re.compile(r\"kidnapping|espionage\")\n",
        "  else:\n",
        "    # V: shouldn't get here\n",
        "    crime=re.compile(r\"nothing happened\")\n",
        "  return crime\n",
        "\n",
        "def get_sus(index):\n",
        "  if index==1:\n",
        "    sus=re.compile(r\"jack\")\n",
        "  elif index==2:\n",
        "    # FIXME\n",
        "    sus=re.compile(r\"some suspect\")\n",
        "  elif index==3:\n",
        "    sus=re.compile(r\"mr. brown|julius hersheimmer\")\n",
        "  else:\n",
        "    # V: shouldn't get here\n",
        "    sus=re.compile(r\"no suspect\")\n",
        "  return sus\n",
        "\n",
        "def get_occur(index,regex):\n",
        "  occur=[]\n",
        "  for ch_index,ch_contents in corpus[index][\"contents\"].items():\n",
        "    for sent_index,sent_contents in ch_contents.items():\n",
        "      matches=re.search(regex,sent_contents)\n",
        "      if matches is not None:\n",
        "        occur.append([ch_index,sent_index,sent_contents])\n",
        "        #print(\"Chapter: \",ch_index, \"Sentence: \", sent_index, \"Contents: \",sent_contents)\n",
        "  return occur\n",
        "\n",
        "def get_co_occur(index, det,perp):\n",
        "  co_occur=[]\n",
        "  for ch_index,ch_contents in corpus[index][\"contents\"].items():\n",
        "    for sent_index,sent_contents in ch_contents.items():\n",
        "      dmatches=re.search(det,sent_contents)\n",
        "      pmatches=re.search(perp,sent_contents)\n",
        "      if dmatches is not None and pmatches is not None:\n",
        "        co_occur.append([ch_index,sent_index,sent_contents])\n",
        "        #print(\"Chapter: \",ch_index, \"Sentence: \", sent_index, \"Contents: \",sent_contents)\n",
        "  return co_occur\n",
        "def get_3words(book,perp):\n",
        "  blob=corpus[book][\"blob\"]\n",
        "  answer=[]\n",
        "  splits=re.finditer(perp,blob)\n",
        "  for iter in splits:\n",
        "    before=re.split(r\"\\s+\",blob[0:iter.start()-1])\n",
        "    if len(before)>2:\n",
        "      before=[before[-3],before[-2],before[-1]]\n",
        "    elif len(before)==2:\n",
        "      before=[\" \", before[-2],before[-1]]\n",
        "    elif len(before)==1:\n",
        "      before=[\" \",\" \",before[0]]\n",
        "    elif len(before)==0:\n",
        "      before=[\" \"]\n",
        " #   print(before)\n",
        "    after=re.split(r\"\\s+\",blob[iter.end()+1:])\n",
        "    if len(after)>2:\n",
        "      after=[after[0],after[1],after[2]]\n",
        "    elif len(after)==2:\n",
        "      after=[after[0],after[1],\" \"]\n",
        "    elif len(after)==1:\n",
        "      after=[after[0],\" \",\" \"]\n",
        "    elif len(after)==0:\n",
        "      after=[\" \"]\n",
        "    answer.append(before+after)\n",
        "  return answer\n",
        "\n",
        "  #splits=[re.finditer(r\"\\s+\",sp) for sp in splits]\n",
        "\n",
        "def get_3sentences(book,ch,sent):\n",
        "  near3=[]\n",
        "  if sent==max(corpus[book][\"contents\"][ch].keys()):\n",
        "    near3=[[sent-2,corpus[book][\"contents\"][ch][sent-2]],[sent-1,corpus[book][\"contents\"][ch][sent-1]],[sent,corpus[book][\"contents\"][ch][sent]]]\n",
        "  elif sent==min(corpus[book][\"contents\"][ch].keys()):\n",
        "    near3=[[sent,corpus[book][\"contents\"][ch][sent]],[sent+1,corpus[book][\"contents\"][ch][sent+1]],[sent+2,corpus[book][\"contents\"][ch][sent+2]]]\n",
        "  else:\n",
        "    near3=[[sent-1,corpus[book][\"contents\"][ch][sent-1]],[sent,corpus[book][\"contents\"][ch][sent]],[sent+1,corpus[book][\"contents\"][ch][sent+1]]]\n",
        "  return near3\n"
      ],
      "execution_count": 5,
      "outputs": []
    },
    {
      "cell_type": "code",
      "metadata": {
        "colab": {
          "base_uri": "https://localhost:8080/"
        },
        "id": "eIrCG1l3ns7S",
        "outputId": "ff9d181b-c296-4373-fc0d-ece8b26ab607"
      },
      "source": [
        "#Author: Luke\n",
        "#Description: demo of code for answering questions\n",
        "  \n",
        "det=get_det(1)\n",
        "perp=get_perp(1)\n",
        "crime=get_crime(1)\n",
        "sus=get_sus(1)\n",
        "det_occur=get_occur(1,det)\n",
        "perp_occur=get_occur(1,perp)\n",
        "co=get_co_occur(1,det,perp)\n",
        "crime=get_occur(1,crime)\n",
        "sus_occur=get_occur(1,sus)\n",
        "print(det_occur)\n",
        "print(perp_occur)\n",
        "print(co)\n",
        "print(crime)\n",
        "print(sus_occur)\n",
        "print(perp_occur)\n",
        "perp_neighbors=get_3words(1,perp)\n",
        "for n in perp_neighbors:\n",
        "  print(n)\n",
        "print(len(perp_neighbors))"
      ],
      "execution_count": 6,
      "outputs": [
        {
          "output_type": "stream",
          "name": "stdout",
          "text": [
            "[[1, 4, 'i had been transacting some business in paris and was returning by the morning service to london where i was still sharing rooms with my old friend, the belgian ex-detective, hercule poirot'], [1, 127, '“that was poirot’s first big case'], [2, 1, 'my friend poirot, exact to the minute as usual, was just tapping the shell of his second egg'], [2, 8, 'elsewhere, i have described hercule poirot'], [2, 18, '” i slipped into my seat, and remarked idly, in answer to poirot’s greeting, that an hour’s sea passage from calais to dover could hardly be dignified by the epithet “terrible'], [2, 19, 'poirot waved his egg-spoon in vigorous refutation of my remark'], [2, 41, 'poirot shook his head seriously'], [2, 59, 'poirot threw me a withering glance'], [2, 60, '“what an intelligence has my friend hastings!” he exclaimed sarcastically'], [2, 64, 'poirot shook his head with a dissatisfied air'], [2, 71, '“cheer up, poirot, the luck will change'], [2, 74, 'poirot smiled, and taking up the neat little letter opener with which he opened his correspondence he slit the tops of the several envelopes that lay by his plate'], [2, 88, 'poirot continued to read his correspondence placidly'], [2, 95, 'poirot was reading attentively'], [2, 114, '“yes, indeed,” said poirot meditatively'], [2, 116, 'poirot nodded'], [2, 140, '“dear me, poirot,” i said, my excitement rising, “i smell some goodly shekels in this'], [2, 146, '“in any case,” continued poirot, “it is not the money which attracts me here'], [2, 172, 'poirot nodded'], [2, 192, 'a woman cannot wait—always remember that, hastings'], [2, 194, 'before starting poirot had despatched a telegram to mr. renauld giving the time of our arrival at calais'], [2, 195, '“i’m surprised you haven’t invested in a few bottles of some sea sick remedy, poirot,” i observed maliciously, as i recalled our conversation at breakfast'], [2, 205, '“he did not know the methods of hercule poirot'], [2, 210, '“it’s all very well, poirot, but i think you are falling into the habit of despising certain things too much'], [2, 212, '“and has, without doubt, hanged more than one innocent man,” remarked poirot dryly'], [2, 217, 'but the others, the hercules poirots, they are above the experts'], [2, 225, '“but yet,” poirot wagged his finger at me'], [2, 228, 'poirot nodded in a satisfied manner'], [2, 231, 'yet you demand that i, hercule poirot, should make myself ridiculous by lying down (possibly on damp grass) to study hypothetical footprints, and should scoop up cigarette ash when i do not know one kind from the other'], [2, 249, 'and poirot, having effectually silenced, if not convinced me, leaned back with a satisfied air'], [2, 251, 'the weather was gorgeous, and the sea as smooth as the proverbial mill-pond, so i was hardly surprised to hear that laverguier’s method had once more justified itself when a smiling poirot joined me on disembarking at calais'], [2, 252, 'a disappointment was in store for us, as no car had been sent to meet us, but poirot put this down to his telegram having been delayed in transit'], [2, 266, 'are you not the one and only hercule poirot'], [2, 269, '“you are what the scotch people call ‘fey,’ hastings'], [2, 298, '“by jove, poirot,” i exclaimed, “did you see that young goddess'], [2, 299, 'poirot raised his eyebrows'], [2, 312, '“i saw only a girl with anxious eyes,” said poirot gravely'], [2, 321, 'poirot leaned forward'], [3, 0, ' in a moment poirot had leapt from the car, his eyes blazing with excitement'], [3, 10, 'poirot reflected for a minute'], [3, 13, 'poirot took out a card, and scribbled a few words on it'], [3, 17, 'in a few seconds a comrade joined him and was handed poirot’s message'], [3, 20, '“my dear m. poirot,” cried the new-comer, “i am delighted to see you'], [3, 22, 'poirot’s face had lighted up'], [3, 26, '“this is an english friend of mine, captain hastings—m. lucien bex'], [3, 27, 'the commissary and i bowed to each other ceremoniously, then m. bex turned once more to poirot'], [3, 52, '“when was the crime committed?” asked poirot'], [3, 69, 'poirot handed it to him, and the magistrate read it'], [3, 73, 'we are much indebted to you, m. poirot'], [3, 93, 'm. poirot, the body was lying, face downwards,  in an open grave '], [3, 105, 'poirot nodded, and the commissary resumed: “madame renauld was hastily freed from the cords that bound her by the horrified servants'], [3, 120, 'poirot bowed his head'], [3, 287, 'a perplexed frown was beginning to gather between poirot’s eyes'], [3, 292, 'poirot’s frown deepened'], [4, 10, '“we have forgotten to inform m. poirot of that'], [4, 12, '“this letter, m. poirot, we found in the pocket of the dead man’s overcoat'], [4, 13, 'poirot took it and unfolded it'], [4, 30, 'poirot handed it back with a grave face'], [4, 37, 'm. poirot, at first sight the case seemed simplicity itself'], [4, 40, 'poirot nodded'], [4, 49, 'poirot shook his head'], [4, 59, '“excellent,” said poirot appreciatively'], [4, 61, '“you have found no other letters from this bella amongst m. renauld’s effects?” asked poirot'], [4, 68, 'poirot ran through the document'], [4, 79, '“the date?” twinkled poirot'], [4, 89, 'poirot shrugged his shoulders'], [4, 95, 'now, m. poirot, you would without doubt like to visit the scene of the crime'], [4, 100, 'he opened the door, and bowed ceremoniously to poirot to precede him'], [4, 101, 'poirot, with equal politeness, drew back and bowed to the commissary'], [4, 106, '” asked poirot suddenly, nodding towards the door opposite'], [4, 115, 'poirot stood a moment talking in the room, then he stepped forward, passed his hand lightly over the backs of the leather chairs, picked up a magazine from the table, and drew a finger gingerly over the surface of the oak sideboard'], [4, 129, '“you recognize it—eh, hastings'], [4, 137, '“the former, i fancy,” said poirot, “for, if i am not mistaken, the handwriting is that of m. renauld'], [4, 140, 'poirot laughed'], [4, 142, 'my friend hastings here will tell you that anything in the least crooked is a torment to me'], [4, 165, '“courage!” cried poirot, clapping him on the back'], [4, 170, 'as we turned to leave the room, poirot remarked casually: “it was here that m. renauld received his guest last night, eh'], [4, 186, '“one can see by his face that he was stabbed in the back,” remarked poirot'], [4, 190, 'poirot examined it narrowly'], [4, 197, 'poirot tested the discoloured point gingerly with his finger tip'], [4, 203, '“of course he did,” said poirot contemptuously'], [4, 224, 'poirot lingered a moment, looking back towards the body'], [5, 1, 'poirot went up in a zigzag fashion which puzzled me, until he whispered with a grimace: “no wonder the servants heard m. renauld mounting the stairs; not a board of them but creaks fit to wake the dead'], [5, 58, '“ pardon ,” interrupted poirot, “but is there then no other egress from the dressing-room'], [5, 90, '“yes, this gentleman—m. hercule poirot'], [5, 91, 'poirot bowed'], [5, 107, 'poirot rose from his seat, scrutinized the clock carefully, and nodded, satisfied'], [5, 117, 'but poirot, deft as ever, took the broken trinket from the startled commissary, and held it to his ear'], [5, 123, '“no,” said poirot gently, “it is a few minutes after five'], [5, 140, '“what times does the last train leave the station of merlinville?” asked poirot'], [5, 142, '“of course,” agreed poirot, looking somewhat crestfallen'], [5, 197, 'it was at this moment, when we were all stunned by the mention of that word, that poirot approached mrs. renauld'], [5, 232, 'instantly poirot was beside her, he raised the lid of her eye, felt her pulse'], [6, 5, 'now, m. poirot, shall we visit the place where the crime was committed'], [6, 8, 'poirot had looked up at the staircase in passing, and shook his head in a dissatisfied manner'], [6, 13, 'but poirot continued to shake his head as though not fully accepting the explanation'], [6, 19, 'poirot pointed to a window on the first floor'], [6, 28, 'poirot went close to the bed and studied it attentively'], [6, 31, 'poirot nodded, as though convinced, and we turned away, but he suddenly darted off and began examining the other flower-bed'], [6, 36, '“my dear m. poirot, those are without doubt the footprints of the gardener’s large hobnailed boots'], [6, 38, '“true,” said poirot, evidently crestfallen'], [6, 41, 'then, to my utter astonishment, poirot pronounced these words: “i do not agree with you'], [6, 47, 'i can investigate this matter of the footprints later,” said poirot cheerfully'], [6, 74, 'bex introduced us, presenting poirot as a colleague'], [6, 76, '“i know you by name, m. poirot,” he said'], [6, 79, '“crimes, though, are very much the same,” remarked poirot gently'], [6, 96, '“the external sign,” said poirot'], [6, 100, 'a very faint smile came to poirot’s lips'], [6, 115, 'but poirot was now apparently interested in something else, a short discoloured piece of lead-piping which lay beside the spade'], [6, 121, '“i, on the contrary, find it very interesting,” said poirot sweetly'], [6, 124, 'meanwhile poirot, as though struck by a sudden idea, stepped back over the boundary, and tried the door of the little shed'], [6, 134, 'i could not help feeling that, so far, poirot had not greatly distinguished himself, and it vexed me'], [6, 138, '“no, m. poirot, it is an affair of the golf course'], [6, 141, 'poirot turned to me'], [6, 144, '“you do not play the golf, m. poirot?” inquired bex'], [6, 155, 'i could not refrain from a laugh at the way the game appeared to poirot, and my little friend smiled at me affectionately, bearing no malice'], [6, 160, 'poirot nodded thoughtfully'], [6, 166, '“yes,” said poirot doubtfully'], [6, 170, '“yes,” said poirot, in a somewhat dissatisfied voice'], [7, 1, 'giraud himself had been obviously delighted when poirot declared that he had seen all he wanted'], [7, 3, 'poirot guessed my thoughts, for as soon as we were alone he remarked ironically: “at last you have seen the detective you admire—the human foxhound'], [7, 11, '“nonsense, poirot'], [7, 25, 'poirot brushed a speck of dust from his sleeve with a dissatisfied air'], [7, 46, 'poirot called to him, and he set down the barrow and came hobbling towards us'], [7, 49, 'my faith in poirot revived a little'], [7, 51, '“exactly,” said poirot'], [7, 72, 'auguste was charmed with poirot’s interest, and was quite inclined to be garrulous'], [7, 73, '“that is a splendid specimen there,” said poirot, pointing'], [7, 76, 'the old fellow stepped into the bed, and carefully took a slip from the plant poirot had admired'], [7, 77, 'poirot was profuse in his thanks, and auguste departed to his barrow'], [7, 78, '“you see?” said poirot with a smile, as he bent over the bed to examine the indentation of the gardener’s hobnailed boot'], [7, 87, 'eh bien , i agree with you,” said poirot'], [7, 94, 'but to my surprise poirot shook his head'], [7, 100, '“ah, m. poirot, we were coming to look for you,” said the magistrate'], [7, 107, '“is m. giraud not going to accompany us?” asked poirot'], [7, 111, 'poirot walked with the examining magistrate, and the commissary and i followed a few paces behind'], [7, 226, 'poirot seemed lost in thought'], [7, 233, 'with mutual civilities, we parted company, poirot and i going towards merlinville, and the others returning to the villa geneviève'], [7, 234, '“the french police system is very marvellous,” said poirot, looking after them'], [7, 246, '“yes, mademoiselle,” said poirot gently'], [7, 250, 'poirot made a grimace'], [7, 257, 'poirot eyed her keenly'], [7, 262, 'all at once poirot’s words about her earlier in the day recurred to me'], [7, 266, '“i see,” said poirot'], [7, 278, '“ mon ami ,” said poirot, in his gentle ironical voice, “is it that we are to remain planted here all night—just because you have seen a beautiful young woman, and your head is in a whirl'], [7, 280, '“but she  is  beautiful, poirot'], [7, 282, 'poirot groaned'], [7, 285, '“poirot,” i said, “do you remember after the styles case when'], [7, 292, 'but to my surprise poirot shook his head very earnestly'], [7, 295, 'take it from papa poirot'], [7, 298, '“some of the greatest criminals i have known had the faces of angels,” remarked poirot cheerfully'], [7, 300, '“poirot,” i cried, horrified, “you cannot mean that you suspect an innocent child like this'], [7, 307, '“my friend,” said poirot, “as usual, you see nothing at all'], [7, 312, 'i, hercule poirot, know it'], [8, 4, 'poirot inquired after the health of mrs. renauld'], [8, 11, 'poirot nodded sympathetically'], [8, 24, '“indeed,” said poirot'], [8, 46, '“ quelle idée ,” murmured poirot, as the girl disappeared'], [8, 56, '“the human foxhound,” murmured poirot, as he leaned back in a comfortable chair, and closed his eyes'], [8, 198, 'i felt a thrill of satisfaction as i realized that in marchaud’s eyes, at least, i ranked equally in importance with poirot'], [9, 1, 'poirot and the commissary, who were both present, greeted me respectively with a smile and a polite bow'], [9, 19, 'remembering poirot’s unaccountable insistence on the footprints in the flower beds, i scrutinized him narrowly as he gave his evidence'], [9, 71, 'the detective wheeled round on poirot'], [9, 75, 'but poirot remained unmoved'], [9, 79, 'poirot spread out his hands'], [9, 88, '“and the other match?” asked poirot'], [9, 96, '“i see you love a joke, m. poirot'], [9, 99, 'poirot bowed'], [9, 105, '“you do not think it odd,” asked poirot, “that these strangers should come unprovided with a weapon, with gloves, with a spade, and that they should so conveniently find all these things'], [9, 140, '“tell me one thing, m. giraud,” said poirot suddenly'], [9, 148, 'then, to my surprise, poirot uttered almost the same words as he had uttered to bex the previous evening: “ i do not agree with you'], [9, 163, '“you are wrong,” said poirot quietly'], [9, 174, 'poirot suddenly assumed his lecturing manner, and addressed us collectively'], [9, 177, '(japp would tell you the same, hastings'], [9, 188, 'you may know all about cigarettes and match ends, m. giraud, but i, hercule poirot, know the mind of man'], [9, 191, '“for your guidance,” continued poirot, “i will also advise you of one fact which might fail to be brought to your notice'], [9, 198, '“all the same, two hours is a good deal,” said poirot softly'], [9, 205, '“no,” said poirot, straightening a little pile of books on a table'], [10, 16, 'this gentleman is m. hercule poirot'], [10, 18, 'a friend of m. poirot’s, captain hastings'], [10, 19, 'stonor looked at poirot with some interest'], [10, 154, 'poirot interjected a remark: “m. stonor, the english chauffeur, masters, had he been long with m. renauld'], [10, 161, 'poirot seemed somewhat crest-fallen'], [11, 99, 'but another voice spoke, imperturbable and calm, the voice of hercule poirot'], [11, 136, 'poirot interrupted with a quick question'], [11, 212, 'poirot had risen and was adjusting a pair of candlesticks that struck his trained eye as being a shade askew'], [11, 248, '“but it is a grave fault you have committed there, captain hastings'], [11, 291, 'poirot turned to bex'], [11, 295, 'poirot looked at him'], [11, 302, '” muttered poirot, but he said no more'], [11, 314, 'poirot tugged out that large turnip of a watch of his, and observed the time'], [11, 321, 'i was going down the steps when poirot’s voice arrested me: “one little moment, my friend'], [11, 324, 'then, with a little satisfied grunt, poirot returned the measure to his pocket, and followed me out into the open air'], [12, 5, 'poirot’s incurable habit of making a mystery out of nothing never failed to irritate me'], [12, 20, '“you think profoundly, my friend,” remarked poirot, breaking in upon my reflections'], [12, 24, '“you are quite right, hastings'], [12, 39, 'the wrist watch, hastings, the wrist watch'], [12, 41, 'poirot was eyeing me curiously'], [12, 48, '“do not enrage yourself, my friend,” said poirot with a smile'], [12, 55, 'i assured poirot that he could rely upon my discretion'], [12, 62, 'but i, hercule poirot, say that madame renauld lied'], [12, 81, '“perfect, hastings'], [12, 87, '“you think so, hastings'], [12, 90, 'poirot restrained my ardour with a light touch upon the arm'], [12, 105, 'oh, be assured, hastings, the danger that threatened him was not in santiago, it was near at hand, in france'], [12, 109, 'a light of pure enjoyment lit up poirot’s face'], [12, 125, 'poirot shrugged his shoulders'], [12, 129, 'a remarkable woman that, hastings'], [12, 150, 'tell me, hastings, what is your explanation of the open door'], [12, 153, 'poirot shook his head, and sighed'], [12, 164, '“an admirable theory, hastings, but for two facts which you have characteristically overlooked'], [12, 170, '“no,” continued poirot, “we must look elsewhere for a solution of the open door mystery'], [12, 177, 'listen, hastings'], [12, 183, '“where they got the spade and the gardening gloves,” said poirot impatiently'], [12, 191, 'i mused, thinking over the new field of conjecture that poirot’s deductions had opened up to me'], [12, 203, '“no,” said poirot cheerfully'], [12, 221, 'even i, hercule poirot, might fail to catch such a one'], [12, 224, '“poirot'], [12, 228, 'from the quietness with which poirot received my remark, i could see that the idea had already occurred to him'], [12, 233, 'poirot maintained a strictly non-committal attitude, repeating: “it may be—yes, it may be'], [13, 1, 'i understood well enough that poirot did not wish to discuss the tragedy where we could so easily be overheard'], [13, 3, 'for a while we ate in silence, and then poirot observed maliciously: “ eh bien'], [13, 9, 'but i was no match for poirot'], [13, 18, '“don’t be an ass, poirot'], [13, 20, 'decidedly you have the heart of a turk, hastings'], [13, 28, 'poirot nodded thoughtfully'], [13, 44, 'i answered poirot lightly enough'], [13, 55, '“ah, my friend, have faith in papa poirot'], [13, 58, 'poirot sighed and shook his head'], [13, 69, 'surely i had never mentioned any hotel to poirot'], [13, 74, 'poirot smoked one of his tiny cigarettes, and then drew his watch from his pocket'], [13, 106, 'poirot smiled'], [13, 110, '“what do you mean by that, poirot'], [13, 127, 'i felt rather at a loose end after poirot had left me'], [13, 171, 'poirot'], [13, 210, 'and then i saw the look in her eyes, the look poirot had spoken of, as she murmured, so that i almost guessed at the words'], [13, 228, '“m. poirot has gone to paris,” i replied coldly'], [13, 262, 'another murder—and poirot away'], [14, 54, 'it was a woman’s long black hair—similar to the one poirot had taken from the arm-chair in the library'], [15, 6, 'it was from poirot, and announced his return by the train arriving at merlinville at 12:28'], [15, 9, 'evidently, i reflected, poirot had had no difficulty in finding what he wanted in paris'], [15, 35, 'hence her anxiety, and her eager questioning of poirot to know whether any one were suspected'], [15, 36, 'my cogitations were interrupted by the arrival of the train, and in another moment i was greeting poirot'], [15, 54, '“my dear poirot—never mind all that'], [15, 88, 'in all my knowledge of poirot he had never done anything so amazing as this'], [15, 90, '“poirot,” i cried, “you’re pulling my leg'], [15, 105, 'poirot listened attentively'], [15, 116, '“you speak as usual, without reflection, hastings'], [15, 123, 'a hint of the lecturer crept into poirot’s tone'], [15, 130, 'we found all our friends there and, after an interchange of polite amenities, poirot began his task'], [15, 132, 'poirot bestowed but a cursory glance on the surroundings'], [15, 134, 'a disdainful smile rose to giraud’s lips, and, as though noting it, poirot flung the bundle down again'], [15, 137, 'poirot knelt down by the body'], [15, 145, 'suddenly poirot stiffened'], [15, 154, 'poirot again shot a question at giraud'], [15, 157, 'poirot proceeded'], [15, 160, 'poirot examined it, then he studied the wound closely'], [15, 171, 'and, stilling the clamour of voices that arose with a wave of his hand, poirot turned to giraud and added, “m. giraud agrees with me, do you not, monsieur'], [15, 180, '“no, m. le juge,” said poirot'], [15, 183, '“the impression it nearly did create,” returned poirot oracularly'], [15, 189, 'this statement of poirot’s again aroused considerable excitement'], [15, 193, '“m. poirot, i am inclined to believe that you are correct in your assertion'], [15, 196, 'poirot was the hero of the hour'], [15, 198, 'poirot responded gracefully, and then excused himself on the pretext that neither he nor i had yet lunched, and that he wished to repair the ravages of the journey'], [15, 200, '“one more thing, m. poirot,” he said, in his suave mocking voice'], [15, 203, '“ah!” said poirot'], [15, 208, '“he was insistent, the good giraud,” said poirot thoughtfully, as we walked towards the hotel'], [15, 211, 'we lunched heartily, but i found poirot somewhat distrait and inattentive'], [15, 224, 'poirot shook his head with a smile'], [17, 5, 'i admit that i am impulsive, and poirot deplores my custom of jumping to conclusions, but i think i had some excuse in this instance'], [17, 6, 'the remarkable way in which this discovery justified poirot’s point of view struck me at once'], [17, 7, '“poirot,” i said, “i congratulate you'], [17, 14, 'poirot lit one of his little cigarettes with his usual precision'], [17, 24, 'poirot walked to the end of the room, absentmindedly straightened a chair, and then said thoughtfully'], [17, 30, 'poirot sat down again, and regarded me, his thoughtful air more marked than ever'], [17, 31, '“so it is definitely your opinion, hastings, that madame daubreuil murdered m. renauld'], [17, 40, 'poirot nodded his head at me'], [17, 48, '“true,” agreed poirot placidly'], [17, 56, 'poirot shook his head'], [17, 74, '“why, poirot, it was you who remarked on that'], [17, 76, 'poirot smiled a little'], [17, 85, '“ta-ta-ta,” said poirot impatiently'], [17, 92, '“poirot,” i cried, “what more do you know'], [17, 96, 'reason—not like giraud—but like hercule poirot'], [17, 108, '“but, poirot, i thought you said the man in the shed had died a natural death'], [17, 110, 'poirot made his favourite ejaculation of impatience'], [17, 120, 'that changed the course of my ideas, and i asked poirot if he knew that jack renauld had been in merlinville on the night of the crime'], [17, 123, '“and without doubt we are not original in the idea, hastings'], [17, 128, 'poirot looked inquiringly at me, but i said no more'], [17, 132, 'poirot greeted him in a business-like manner'], [17, 137, '“exactly, m. poirot,” said the lad'], [17, 146, '“i and my friend, you comprehend, have business elsewhere,” explained poirot'], [17, 150, 'poirot’s voice stopped him'], [17, 157, 'poirot looked at him, his eyes narrowed, cat-like, until they only showed a gleam of green'], [17, 170, 'poirot’s eyes never left the other’s face'], [17, 182, 'poirot bowed his head as a sign that he accepted the explanation'], [17, 184, 'in a trice poirot jumped to his feet'], [17, 185, '“quick, hastings'], [17, 188, 'but when poirot saw that he took the turning to the station, he checked himself'], [17, 195, '“your penetration is amazing, hastings'], [18, 0, ' “by the way, poirot,” i said, as we walked along the hot white road, “i’ve got a bone to pick with you'], [18, 2, 'poirot shot a quick sidelong glance at me'], [18, 6, 'i rather feared poirot’s banter, but to my relief, and somewhat to my surprise, he only shook his head with a rather unusual gravity'], [18, 13, 'poirot seemed to be about to say something further, but checked himself'], [18, 14, 'arrived at the villa, poirot led the way up to the shed where the second body had been discovered'], [18, 27, '“certainly, monsieur poirot'], [18, 55, 'poirot, too, watched her intently'], [18, 59, '“it was unwise to have tried to conceal the fact,” ventured poirot'], [18, 65, '“the facts will tell against him,” said poirot'], [18, 72, '“mademoiselle,” said poirot observing her keenly, “is there not something that you are keeping back that you could tell us'], [18, 91, 'poirot uttered an exclamation'], [18, 95, 'but tell me, monsieur poirot, is it not possible that this tramp might have attacked and killed m. renauld, and taken his clothes and money'], [18, 96, '“it is an idea, mademoiselle,” said poirot slowly'], [18, 102, '“come,” said poirot, and taking my arm, turned in the direction of the villa'], [18, 106, '“it is a curious tale,” said poirot, “but i believe it to be the absolute truth'], [18, 114, 'now, hastings, what was jack renauld doing here on that eventful evening, and if he did not see mademoiselle marthe whom did he see'], [18, 115, '“surely, poirot,” i cried, aghast, “you cannot believe that a boy like that would murder his own father'], [18, 116, '“ mon ami ,” said poirot, “you continue to be of a sentimentality unbelievable'], [18, 124, 'poirot shrugged his shoulders'], [18, 128, '“ah,” said poirot, smiling broadly'], [18, 134, '“no,” said poirot with a curious smile'], [18, 137, '“perhaps,” said poirot, regarding me quizzically'], [18, 149, 'neatly and methodically, poirot opened each drawer in turn, examined the contents, and returned them exactly to their places'], [18, 151, 'poirot waded on through collars, pajamas and socks'], [18, 154, '“poirot'], [18, 159, '” growled poirot'], [18, 164, 'suddenly with a cry of triumph poirot pounced on something, a small square cardboard, evidently a photograph'], [18, 167, '“good afternoon, m. giraud,” said poirot'], [18, 172, 'poirot wheeled to confront the boy who leaned limply against the door, his face ashy pale'], [19, 2, 'i had expected a ringing proclamation of his innocence when poirot challenged him'], [19, 4, 'but poirot had turned to giraud'], [19, 11, '“it would not surprise me,” replied poirot, with a soupçon of malice'], [19, 16, '“now, m. poirot,” said giraud laying his hat on the table, and speaking with the utmost sarcasm, “i will treat you to a little lecture on detective work'], [19, 19, '” said poirot, composing himself to listen'], [19, 26, '“very creditable so far, my dear giraud,” murmured poirot'], [19, 37, 'captain hastings here can fix the time'], [19, 40, 'poirot interrupted: “you are wrong'], [19, 47, 'without doubt, he saw captain hastings and his companion leave the shed, slipped in himself and took the dagger, stabbed his accomplice in the shed'], [19, 55, '“but it could not deceive m. giraud,” murmured poirot'], [19, 65, 'poirot regarded him steadily'], [19, 76, 'i saw a quick flash of green in poirot’s eyes as he rose to his feet'], [19, 83, 'poirot moved towards the door'], [19, 87, '“the piece of lead piping,” said poirot, and left the room'], [19, 99, 'in a minute poirot stood up again'], [19, 104, 'denise and françoise had run to their mistress, and leaving her in their charge poirot left the house'], [19, 108, 'poirot did not answer at once, but after a long wait he said gravely: “i do not know, hastings'], [19, 116, 'this was what i called one of poirot’s irritating answers'], [19, 121, 'we established ourselves on the grassy knoll as poirot had suggested, looking out to sea'], [19, 123, 'the sea was of the palest blue, and the halcyon calm reminded me of the day we had arrived at merlinville, my own good spirits, and poirot’s suggestion that i was “fey'], [19, 126, '“think, my friend,” said poirot’s voice encouragingly'], [19, 132, 'and reluctantly it seemed to me that the only clear and possible solution was that of giraud—which poirot despised'], [19, 136, 'poirot had declared the beroldy case to be all important'], [19, 145, '“poirot,” i said, “it seems to me we have been strangely remiss'], [19, 150, '“and who is that?” inquired poirot, with twinkling eyes'], [20, 0, ' the next moment poirot embraced me warmly'], [20, 11, '“ aucunement ,” agreed poirot'], [20, 22, 'the sentimentality,” warned poirot'], [20, 37, 'there, poirot, what do you think of that'], [20, 39, 'poirot looked at me thoughtfully'], [20, 53, '“you are wrong, hastings'], [20, 59, '“my theory is the truth,” said poirot quietly'], [20, 66, 'poirot sat very upright and began, wagging his forefinger emphatically to emphasize his points'], [20, 86, 'poirot paused, cleared his throat, and signed to me to write'], [20, 94, '“letter written to m. hercule poirot, imploring assistance'], [20, 99, '…’ ” poirot paused'], [20, 100, '“there, hastings, take each of those facts one by one, consider them carefully by themselves and in relation to the whole, and see if you do not get new light on the matter'], [20, 109, '“none whatever, i grant you, hastings'], [20, 111, '“the letter, poirot'], [20, 116, '“and that is all!” cut in poirot'], [20, 127, '“i see,” i said slowly, as the meaning of poirot’s remarks bore in upon me'], [20, 130, 'poirot nodded'], [20, 154, 'and if you do not see that, you see nothing, hastings'], [20, 160, 'a faint smile crossed poirot’s lips'], [20, 166, 'poirot shook his head'], [20, 198, '“my dear poirot, i can’t see anything glaring about it'], [20, 200, 'poirot looked at me sadly, and shook his head'], [20, 207, 'you really are the most irritating of fellows, poirot'], [20, 227, '“georges conneau,” i said doubtfully, eyeing poirot warily'], [20, 251, 'poirot nodded'], [20, 266, '“ eh bien, mon ami ,” said poirot placidly, “that is just what he did do'], [21, 0, ' in a measured voice, poirot began his exposition'], [21, 5, '“but no, it is all most simple really,” said poirot kindly'], [21, 63, '“and then,” said poirot gravely, “the justice that he has so long eluded overtakes him'], [21, 65, '… now, hastings, you understand what i mean when i talk of  two  crimes'], [21, 67, 'he misjudged hercule poirot'], [21, 73, '“you’re marvellous, poirot,” i said, with admiration'], [21, 78, '“ah, then you no longer despise poor old papa poirot'], [21, 83, '“that poor giraud,” said poirot, trying unsuccessfully to look modest'], [21, 88, '“to tell you the truth, poirot,” i said slowly, “even now i don’t quite see—whose hair was it'], [21, 101, 'but i, hercule poirot, whom he despises, will be the little pin that pricks the big balloon— comme ça'], [21, 107, 'voilà une femme , hastings'], [21, 125, 'poirot lost himself in contemplation'], [21, 126, '“one thing more, poirot, what about the piece of lead piping'], [21, 137, '“you see, hastings, we must now start again'], [21, 154, 'for answer, poirot consulted his turnip-faced watch, and then asked: “what time is the afternoon boat from calais'], [21, 163, 'with a rather peculiar smile upon his face, poirot replied: “miss bella duveen'], [22, 2, 'at the same time, i stole a quick glance at poirot'], [22, 10, 'in the bustle of departure, i had no time for thinking, but once on board the boat, secure from poirot’s observation (he, as usual, was “practising the method most excellent of laverguier”) i pulled myself together, and attacked the facts dispassionately'], [22, 11, 'how much did poirot know'], [22, 36, 'was that what poirot was after'], [22, 46, 'i disliked intensely being associated with poirot in hunting this girl down, but i could not see any way of avoiding it, without revealing everything to him, and this, for some reason, i was loath to do'], [22, 47, 'poirot reappeared brisk and smiling at dover, and our journey to london was uneventful'], [22, 49, 'but poirot had other plans'], [22, 59, 'he greeted poirot with every evidence of warmth, and professed himself ready to be of service to us in any way'], [22, 86, 'poirot made no inquiries at the theatre, but contented himself with booking stalls for the variety performance that evening'], [22, 102, 'i suggested leaving to poirot'], [22, 108, 'i heard the door open, and turned my head, thinking it was poirot'], [22, 120, 'and in that moment i understood everything—understood why poirot was seeking her, and what she feared, and understood at last my own heart'], [22, 201, 'poirot was standing there looking at us'], [22, 209, 'i held poirot in a grip of iron'], [22, 219, 'keeping a suspicious eye upon him, for i paid poirot the compliment of knowing that i was no match for him in astuteness, i relaxed my grip, and he sank into an arm-chair, feeling his arms tenderly'], [22, 220, '“it is that you have the strength of a bull when you are roused, hastings'], [22, 224, 'so poirot had known all along'], [22, 230, 'it comes to this—are you going to work with me or against me, hastings'], [22, 236, '“poirot,” i said, “i’m sorry'], [22, 240, 'poirot nodded his head several times'], [22, 251, '“nothing that you could tell me would be any surprise to me, poirot'], [22, 257, 'poirot looked at me thoughtfully'], [22, 260, 'poirot rose and bowed'], [22, 265, 'it defeats even hercule poirot'], [23, 6, 'no, i was still satisfied with my idea—had not even poirot admitted that it defeated him'], [23, 11, 'poirot would not take defeat lying down'], [23, 14, 'poirot’s good temper was imperturbable, yet i thought i detected a film of reserve in his manner which was new'], [23, 16, 'a malicious gleam shot through poirot’s eyes'], [23, 20, '“is that really so, poirot'], [23, 21, '“you can take it from me, hastings'], [23, 30, 'she would know the risk she ran of a message being intercepted by poirot, thus setting him on her track once more'], [23, 32, 'but, in the meantime, what was poirot doing'], [23, 36, 'i had learned, with poirot, that the less dangerous he looked, the more dangerous he was'], [23, 39, '“you are puzzled, hastings'], [23, 53, 'poirot’s perfect calm awakened a thousand apprehensions'], [23, 54, '“i suppose, poirot,” i said rather diffidently, “i mustn’t ask what your plans are'], [23, 61, '’ you know very well that you cannot afford to let papa poirot out of your sight'], [23, 70, 'at all costs i must keep near poirot'], [23, 71, 'poirot observed me attentively as these reflections passed through my mind, and gave a nod of satisfaction'], [23, 130, 'but i pinned my faith to poirot'], [24, 1, 'poirot lost no time in visiting m. hautet'], [24, 5, '“i was told that you had returned to england, m. poirot'], [24, 10, 'poirot shrugged his shoulders'], [24, 20, 'but poirot was not to be drawn'], [24, 43, 'i have here a letter for you, m. poirot'], [24, 46, 'at last he found the missive, and handed it to poirot'], [24, 49, 'poirot studied the letter curiously'], [24, 51, 'poirot did not open it'], [24, 64, 'i am sorry to have to record that poirot’s first remark to me as we traversed the corridor was: “a famous old imbecile, that one'], [24, 68, 'm. poirot,” he cried airily'], [24, 70, '“as you see,” said poirot'], [24, 73, 'poirot spoke in a subdued tone'], [24, 78, '“so extraordinary that it gives one to think, does it not?” suggested poirot mildly'], [24, 81, '“well, good day, m. poirot'], [24, 87, '” poirot drew himself up'], [24, 94, '” “come now,” urged poirot, “is it agreed'], [24, 100, '“i am enchanted to hear it,” said poirot'], [24, 102, 'come, hastings'], [24, 105, 'poirot had displayed his intentions only too plainly'], [24, 107, 'this unlucky encounter with giraud had roused poirot and put him on his mettle'], [24, 110, '“and what are you doing here, m. stonor?” inquired poirot'], [24, 125, 'he turned to poirot'], [24, 127, '“i think that things look very black against him,” said poirot quietly'], [24, 140, 'i paused, uncertain as to how much poirot would wish me to reveal'], [24, 147, 'poirot’s hand arrested his departure'], [24, 151, '“that point about the dagger is good, poirot,” i urged as we went upstairs'], [24, 160, 'eh bien , hastings, they made to his order not  two  paper-knives, but three '], [24, 163, 'no, hastings, i fear the dagger question will not help us to save him from the guillotine'], [24, 165, 'poirot shook his head uncertainly'], [24, 167, 'poirot glanced at me dryly'], [24, 177, '“there are other women in the world who suffer, hastings'], [24, 178, 'the writing was blurred and the note had evidently been written in great agitation: “ dear m. poirot: “if you get this, i beg of you to come to my aid'], [24, 187, 'marthe was at the door to meet us, and led poirot in, clinging with both hands to one of his'], [24, 196, '“neither do i believe it, mademoiselle,” said poirot gently'], [24, 199, '“perhaps because he is screening some one,” suggested poirot, watching her'], [24, 215, '“mademoiselle,” said poirot quietly, “if we are to work together, you and i, we must have things clear'], [24, 220, '“there, there,” said poirot, patting her on the shoulder'], [25, 52, 'i began to realize the magnitude of the task i had so lightly set poirot'], [26, 76, 'poirot was with me when i read it'], [26, 88, '“you were rather high-handed in your methods,  mon ami ,” said poirot dryly'], [26, 103, '“what is it that worries you, hastings'], [26, 104, 'this was quite a new mood in poirot'], [26, 108, 'poirot turned back the pages'], [26, 109, '“i think you are mistaken, hastings'], [26, 112, 'poirot smiled'], [26, 118, 'leave it to papa poirot'], [27, 0, ' “congratulations, m. jack,” said poirot, wringing the lad warmly by the hand'], [27, 6, 'he smiled mournfully at poirot, and said in a low voice: “i went through it to protect her, and now it’s all no use'], [27, 10, 'and you were heading for it too!” added poirot, with a slight twinkle'], [27, 17, '“if i were you,” said poirot frankly, “i should not distress myself unduly'], [27, 22, 'you see, m. poirot, in a way i  do  feel guilty of my father’s murder'], [27, 39, '” poirot reassured him quickly'], [27, 62, '“and afterwards?” asked poirot gently'], [27, 74, 'poirot sprang to his feet'], [27, 78, 'poirot, jack renauld and i set off in the renauld car'], [27, 80, 'as we approached the doorway of the villa marguerite, jack renauld shot a questioning glance at poirot'], [27, 82, '“while you break it in person to mademoiselle marthe, eh?” finished poirot, with a twinkle'], [27, 87, '“poirot,” i said, “do you remember how we arrived here that first day'], [27, 93, '” “poirot, what have you done about finding bel—i mean dulcie'], [27, 94, '“calm yourself, hastings'], [27, 97, 'poirot changed the subject'], [27, 101, '“you are regarding it from the sentimental standpoint, hastings'], [27, 108, 'and in the midst of a fit of laughter on my part at poirot’s peculiarities, the door was opened by françoise'], [27, 109, 'poirot explained that he must see mrs. renauld at once, and the old woman conducted him upstairs'], [27, 111, 'it was some time before poirot reappeared'], [27, 113, '“ vous voilà , hastings'], [27, 117, '“i would hardly have credited it,” said poirot thoughtfully, “but women are very unexpected'], [27, 119, 'poirot bounded out of the room, and met the young couple on the steps outside'], [27, 131, '“i thank you for your good offices, m. poirot, but i will make my own wishes clear'], [27, 145, 'poirot made a mediating gesture, but instantly she regained command of herself'], [27, 155, 'poirot and i went quickly to his assistance'], [27, 156, '“he is overdone,” murmured poirot to marthe'], [27, 163, 'poirot felt his head and hands'], [27, 167, 'get him to bed, and hastings and i will summon a doctor'], [27, 175, '“and now for quarters for the night,” said poirot, when at length  café noir  had completed the meal'], [27, 179, 'then poirot asked a question which surprised me'], [27, 184, '“poirot,” i cried, keeping pace with him as he walked along the corridor, “who on earth is miss robinson'], [27, 185, 'poirot beamed kindly on me'], [27, 186, '“it is that i have arranged you a marriage, hastings'], [27, 188, '“bah!” said poirot, giving me a friendly push over the threshold of the door'], [27, 193, 'poirot cleared his throat'], [27, 197, 'in response, cinderella took from her bag an object wrapped up in paper, and handed it silently to poirot'], [27, 201, '“ très bien, mon enfant ,” said poirot'], [27, 204, 'hastings here and i have work to do'], [27, 211, 'poirot realized that it was futile to argue further'], [27, 219, 'poirot led the way out of the town in the direction of the villa geneviève'], [27, 222, 'come with me, hastings'], [27, 226, 'as we went round to the side of the house, i drew poirot’s attention to a window on the first floor'], [27, 228, '“ah!” said poirot'], [27, 236, '“is the doctor coming again?” asked poirot in a whisper'], [27, 245, '“i hope we have not deranged you, madame,” said poirot politely as she opened the door for us to pass out'], [27, 247, '“by the way,” said poirot, as though struck by an afterthought, “m. stonor has not been in merlinville today, has he'], [27, 248, 'i could not at all fathom the point of this question which i well knew to be meaningless as far as poirot was concerned'], [27, 252, '“true,” said poirot'], [27, 257, '“no ‘ whys ,’ hastings'], [27, 260, 'poirot looked over his shoulder once at the lighted window and the profile of marthe as she bent over her work'], [27, 262, 'arrived at the villa geneviève, poirot took up his stand behind some bushes to the left of the drive, where, whilst enjoying a good view ourselves, we were completely hidden from sight'], [27, 265, 'it seemed to me that it was upon this spot that poirot’s eyes were fixed'], [27, 276, '” cried poirot'], [27, 285, 'poirot had rushed through the empty room and was pounding on the door leading into the corridor'], [27, 289, 'i saw despair in poirot’s eyes'], [27, 298, 'she’s a professional acrobat, hastings'], [27, 305, 'poirot brushed her aside unceremoniously and rushed down the passage to where the other maids were grouped round the further door'], [27, 310, '“she is safe?” demanded poirot'], [27, 316, 'the girl picked up something from the floor and handed it to poirot'], [27, 318, '“a getaway,” said poirot'], [27, 329, '“the murderer of m. renauld, hastings'], [28, 1, 'poirot seemed deaf to my repeated questions'], [28, 6, 'poirot deigned to attend to me for a brief moment'], [28, 10, '“then why was i not told,” vociferated poirot, striking the table, and working himself into a first-class passion'], [28, 18, 'i was aroused from my condition of mental fog by a sharp command from poirot to fetch the doctor immediately on mrs. renauld’s behalf'], [28, 29, 'i awoke to find the sun pouring in through the open windows and poirot, neat and smiling, sitting beside the bed'], [28, 31, 'but it is that you are a famous sleeper, hastings'], [28, 39, '“oh, no, hastings, she did not'], [28, 46, 'poirot leaned back in his chair, and brought the tips of his fingers together in familiar style'], [28, 86, 'poirot paused and cleared his throat'], [28, 88, 'the solution did not commend itself to me, because, as i pointed out to you, hastings, an expert, such as i am, likes to meet a foeman worthy of his steel'], [28, 100, 'i said no word to you, hastings (it was no time for romance) but i sought out mademoiselle dulcie, told her as much as i deemed needful, and set her to search amongst the effects of her sister'], [28, 113, 'that is where, as the americans say, she ‘put it over’ on hercule poirot'], [28, 137, '“however, hastings, things did not go quite as mademoiselle marthe had planned'], [28, 143, 'but she was checkmated—not by hercule poirot—but by  la petite acrobate  with her wrists of steel'], [28, 145, '“when did you first begin to suspect marthe daubreuil, poirot'], [28, 147, 'poirot smiled'], [28, 168, 'and yet, do you know, hastings, i doubt if his heart was ever seriously engaged'], [28, 179, 'poirot proved a fairly true prophet'], [28, 180, 'when at length the doctor pronounced jack renauld strong enough to hear the truth, it was poirot who broke it to him'], [28, 186, 'poirot had acquainted mrs. renauld with the fact that he knew her secret, and had represented to her that jack should not be left in ignorance of his father’s past'], [28, 190, 'a halting question was promptly answered by poirot'], [28, 196, 'there were, of course, various points in the case that remained puzzling to the police, but poirot explained things in so plausible a fashion that all query about them was gradually stilled'], [28, 197, 'shortly after we got back to london, i noticed a magnificent model of a foxhound adorning poirot’s mantelpiece'], [28, 198, 'in answer to my inquiring glance, poirot nodded'], [28, 204, '“m. poirot, i’ve come to say good-bye'], [28, 218, '“so have all of us, at one time and another,” observed poirot philosophically'], [28, 224, 'hastings here will tell you that i believe in heredity'], [28, 241, 'and what of captain arthur hastings, humble chronicler of these pages']]\n",
            "[[7, 145, '“mademoiselle daubreuil,” said m. hautet, sweeping off his hat, “we regret infinitely to disturb you, but the exigencies of the law—you comprehend'], [7, 176, '“marthe, dear'], [7, 184, '“i should prefer not to speak before mademoiselle daubreuil'], [7, 241, 'it was marthe daubreuil'], [7, 249, '“françoise told our amélie,” explained marthe, with a blush'], [7, 293, '“ah,  mon ami , do not set your heart on marthe daubreuil'], [11, 103, 'the subject of the quarrel was mademoiselle marthe daubreuil'], [11, 109, '“i love mademoiselle daubreuil, and i wish to marry her'], [11, 117, 'marthe is as good as she is beautiful'], [11, 119, '“i have nothing against mademoiselle daubreuil in any way'], [11, 125, '“when you informed your father of your intentions towards mademoiselle daubreuil,” he resumed, “he was surprised'], [11, 129, 'nettled, i demanded what he had against mademoiselle daubreuil'], [11, 131, 'i answered that i was marrying marthe, and not her antecedents, but he shouted me down with a peremptory refusal to discuss the matter in any way'], [11, 143, 'i wrote to marthe, telling her what had happened, and her reply soothed me still further'], [13, 19, '“yesterday it was mademoiselle daubreuil, today it is mademoiselle—cinderella'], [13, 23, 'mademoiselle daubreuil is a very beautiful girl, and i do admire her immensely—i don’t mind admitting it'], [13, 94, 'and thirdly, if you wish, endeavour to cut him out with mademoiselle marthe'], [13, 100, 'throw together a boy young renauld and a beautiful girl like mademoiselle marthe, and the result is almost inevitable'], [13, 108, 'that is how always think of mademoiselle daubreuil  as the girl with the anxious eyes'], [13, 194, 'a girl’s voice was speaking, a voice that i recognized as that of the beautiful marthe'], [13, 197, '“you know it, marthe,” jack renauld replied'], [15, 19, 'i do not know what put the idea into my head—possibly it was the deep anxiety underlying marthe daubreuil’s tones—but i asked suddenly: “young m. renauld—he did not leave by that train, did he'], [15, 28, 'that, then, was the reason of marthe’s poignant anxiety'], [15, 34, 'one thing was certain, marthe had known all along'], [17, 166, 'i came to see my fiancée, mademoiselle daubreuil'], [18, 19, '“with good fortune,” he remarked to me over his shoulder, “mademoiselle marthe may find herself in the garden'], [18, 25, '” i joined him at the moment that marthe daubreuil, looking slightly startled, came running up to the hedge at his call'], [18, 100, '“ maman ,” whispered marthe, “i must go'], [18, 107, 'unwittingly, mademoiselle marthe told us the truth on another point—and incidentally gave jack renauld the lie'], [18, 108, 'did you notice his hesitation when i asked him if he saw marthe daubreuil on the night of the crime'], [18, 111, 'it was necessary for me to see mademoiselle marthe before he could put her on her guard'], [18, 114, 'now, hastings, what was jack renauld doing here on that eventful evening, and if he did not see mademoiselle marthe whom did he see'], [20, 88, 'm. renauld quarrels with his son over latter’s wish to marry marthe daubreuil'], [20, 93, 'quarrel with tramp in garden, witnessed by marthe daubreuil'], [20, 134, '“may 23rd,” i read, “m. renauld quarrels with his son over latter’s wish to marry marthe daubreuil'], [22, 37, 'had jack renauld, returning to see marthe daubreuil, come face to face instead with bella duveen, the girl he had heartlessly thrown over'], [22, 42, 'did he fear for this former entanglement of his to come to the ears of marthe daubreuil'], [24, 181, '“marthe daubreuil'], [24, 187, 'marthe was at the door to meet us, and led poirot in, clinging with both hands to one of his'], [24, 200, 'marthe frowned'], [24, 219, 'marthe looked at him for a minute, then, letting her head fall forward on her arms, she burst into tears'], [24, 227, 'marthe listened spellbound'], [27, 1, 'young renauld had come to us as soon as he was liberated—before starting for merlinville to rejoin marthe and his mother'], [27, 29, 'after i met marthe, and realized i’d made a mistake, i ought to have written and told her so honestly'], [27, 30, 'but i was so terrified of a row, and of its coming to marthe’s ears, and her thinking there was more in it than there ever had been, that—well, i was a coward, and went on hoping the thing would die down of itself'], [27, 46, 'i came from cherbourg, as i told you, in order to see marthe before going to the other end of the world'], [27, 82, '“while you break it in person to mademoiselle marthe, eh?” finished poirot, with a twinkle'], [27, 118, '“here are jack and marthe daubreuil,” i exclaimed, looking out of the window'], [27, 127, '“but marthe and i'], [27, 156, '“he is overdone,” murmured poirot to marthe'], [27, 172, 'finally, having done all we could, we left him in the charge of marthe and her mother, and set out for the town'], [27, 227, 'thrown sharply on the blind was the profile of marthe daubreuil'], [27, 233, 'marthe daubreuil was embroidering by a table with a lamp on it'], [27, 260, 'poirot looked over his shoulder once at the lighted window and the profile of marthe as she bent over her work'], [27, 331, 'puzzled and uncomprehending, i knelt down, and lifting the fold of cloth, looked into the dead beautiful face of marthe daubreuil'], [28, 35, '“do you know, i actually dreamt that we found marthe daubreuil’s body in mrs. renauld’s room, and that you declared her to have murdered mr. renauld'], [28, 56, 'from marthe daubreuil’s own lips we have the admission that she overheard m. renauld’s quarrel with the tramp'], [28, 58, 'remember how easily you overheard marthe’s conversation with jack renauld from that spot'], [28, 59, '“but what possible motive could marthe have for murdering mr. renauld'], [28, 64, 'let us reconstruct the scene from the standpoint of marthe daubreuil'], [28, 65, '“marthe daubreuil overhears what passes between renauld and his wife'], [28, 70, 'if the latter defies his father, he will be a pauper—which is not at all to the mind of mademoiselle marthe'], [28, 79, 'and here comes in the second point which led me infallibly to marthe daubreuil—the dagger'], [28, 81, 'one he gave to his mother, one to bella duveen; was it not highly probable that he had given the third one to marthe daubreuil'], [28, 82, '“so then, to sum up, there were four points of note against marthe daubreuil: “(1) marthe daubreuil could have overheard m. renauld’s plans'], [28, 83, '“(2) marthe daubreuil had a direct interest in causing m. renauld’s death'], [28, 84, '“(3) marthe daubreuil was the daughter of the notorious madame beroldy who in my opinion was morally and virtually the murderess of her husband, although it may have been georges conneau’s hand which struck the actual blow'], [28, 85, '“(4) marthe daubreuil was the only person, besides jack renauld, likely to have the third dagger in her possession'], [28, 95, 'if it was  not  bella duveen, the only other person who could have committed the crime was marthe daubreuil'], [28, 99, 'but if, by any chance, it was  not  her sister’s, but the one given by jack to marthe daubreuil—why then, bella duveen’s dagger would be still intact'], [28, 102, '“in the meantime i had taken steps to force mademoiselle marthe into the open'], [28, 107, 'marthe daubreuil made a last bold bid for the renauld millions—and failed'], [28, 122, 'she had brains, that beautiful mademoiselle marthe'], [28, 127, 'on the floor by marthe daubreuil’s body, i found a pad and a little bottle of chloroform and a hypodermic syringe containing a fatal dose of morphine'], [28, 137, '“however, hastings, things did not go quite as mademoiselle marthe had planned'], [28, 141, 'there is a last chance for marthe daubreuil'], [28, 145, '“when did you first begin to suspect marthe daubreuil, poirot'], [28, 151, 'that is how i have thought of marthe daubreuil from the beginning'], [28, 169, 'so far we have looked upon bella duveen as a siren, and marthe daubreuil as the girl he really loved'], [28, 171, 'marthe daubreuil was very beautiful']]\n",
            "[[18, 114, 'now, hastings, what was jack renauld doing here on that eventful evening, and if he did not see mademoiselle marthe whom did he see'], [24, 187, 'marthe was at the door to meet us, and led poirot in, clinging with both hands to one of his'], [27, 82, '“while you break it in person to mademoiselle marthe, eh?” finished poirot, with a twinkle'], [27, 156, '“he is overdone,” murmured poirot to marthe'], [27, 260, 'poirot looked over his shoulder once at the lighted window and the profile of marthe as she bent over her work'], [28, 137, '“however, hastings, things did not go quite as mademoiselle marthe had planned'], [28, 145, '“when did you first begin to suspect marthe daubreuil, poirot']]\n",
            "[[2, 323, '“m. renauld was murdered this morning'], [3, 3, 'murdered'], [3, 53, '“the body was discovered this morning about nine o’clock'], [3, 90, 'going to call her mistress as usual, a younger maid, léonie, was horrified to discover her gagged and bound, and almost at the same moment news was brought that m. renauld’s body had been discovered, stone dead, stabbed in the back'], [4, 56, '“i shall cable without delay to the police in that city, requesting full details of the murdered man’s life out there, his love affairs, his business transactions, his friendships, and any enmities he may have incurred'], [4, 180, 'the murdered man lay on the ground, with a sheet over him'], [6, 117, '“and does this, too, belong to the murdered man?” he asked, and i thought i detected a subtle flavour of irony in the question'], [7, 28, 'yet he is found murdered close at hand, almost within ear-shot of the house'], [8, 175, 'we repaired first to the spot where the body had been discovered'], [10, 54, '“so, as far as you know, he had no enemies, and you can give us no clue as to any secret to obtain possession of which he might have been murdered'], [13, 264, 'but who had been murdered'], [17, 17, '“why, that it was madame daubreuil—beroldy, who murdered mr. renauld'], [17, 31, '“so it is definitely your opinion, hastings, that madame daubreuil murdered m. renauld'], [18, 14, 'arrived at the villa, poirot led the way up to the shed where the second body had been discovered'], [18, 85, 'on the morning of the day m. renauld was murdered, i was walking in the garden here, when i heard a sound of men’s voices quarrelling'], [18, 117, 'i have seen mothers who murdered their little children for the sake of the insurance money'], [28, 35, '“do you know, i actually dreamt that we found marthe daubreuil’s body in mrs. renauld’s room, and that you declared her to have murdered mr. renauld']]\n",
            "[[3, 118, 'finally there are madame renauld and her son, m. jack renauld'], [3, 284, '“you see, m. jack, the son of monsieur, was usually here, and he spoke the french very badly'], [5, 185, '“jack'], [8, 22, 'the day that he quarrelled with m. jack— ma foi'], [8, 27, 'it was just before m. jack went to paris'], [9, 121, 'm. jack renauld, the son, for instance'], [11, 5, '“jack'], [11, 44, 'jack renauld shook his head'], [11, 55, 'in response, jack renauld declared definitely that he knew nothing of any enmity his father might have incurred in the city of santiago, or elsewhere in the south american continent, that he had noticed no change in his father’s manner of late, and that he had never heard him refer to a secret'], [11, 66, 'jack shrugged his shoulders'], [11, 72, 'jack renauld was clearly disconcerted by the question'], [11, 107, 'jack renauld bowed his head'], [11, 154, '“duveen?” said jack'], [11, 162, 'jack renauld took the letter, and read it through, the colour mounting in his face as he did so'], [11, 187, 'jack renauld leaned forward'], [11, 211, 'stonor crossed to jack, and wrung him by the hand'], [11, 323, 'i had not seen it hanging there before, and guessed that it belonged to either mr. stonor, or jack renauld'], [13, 197, '“you know it, marthe,” jack renauld replied'], [13, 202, '“oh, jack, jack—i am afraid'], [13, 208, 'but the girl’s face was troubled, and jack renauld seemed to recognize it, as he held her closer to him and asked: “but what are you afraid of, darling'], [13, 248, 'giraud evidently did not desire my company and, from what i had seen, it seemed fairly certain that jack renauld did not either'], [14, 118, 'jack renauld succeeded her'], [15, 24, '… “you mean,” i said, my heart beating a little, “that m. jack renauld arrived at merlinville that evening'], [15, 29, 'jack renauld had been in merlinville on the night of the crime'], [15, 119, 'this particular weapon was a war souvenir which was made to jack renauld’s orders'], [17, 118, '“m. jack renauld'], [17, 120, 'that changed the course of my ideas, and i asked poirot if he knew that jack renauld had been in merlinville on the night of the crime'], [17, 129, 'it had just occurred to me that though there were seven women directly or indirectly connected with the case mrs. renauld, madame daubreuil and her daughter, the mysterious visitor, and the three servants—there was, with the exception of old auguste who could hardly count, only one man—jack renauld'], [17, 131, '… i had no time to develop further the appalling idea that had occurred to me, for jack renauld was ushered into the room'], [17, 153, 'jack renauld’s face went crimson'], [17, 160, 'for a moment jack renauld hesitated, then he made up his mind'], [17, 183, 'jack renauld took up his hat and cane and departed'], [18, 40, '“m. jack renauld'], [18, 43, '“jack'], [18, 64, 'he must arrest some one, and that some one will be jack'], [18, 107, 'unwittingly, mademoiselle marthe told us the truth on another point—and incidentally gave jack renauld the lie'], [18, 113, 'when i asked her if she knew that jack renauld was here that night, she answered ‘he  told  me'], [18, 114, 'now, hastings, what was jack renauld doing here on that eventful evening, and if he did not see mademoiselle marthe whom did he see'], [18, 121, 'remember that jack renauld thought that he would come in to half his father’s fortune at the latter’s death'], [18, 141, '“i wish to make a search amongst the effects of m. jack renauld'], [18, 157, 'giraud is in it, and jack renauld, and two gendarmes'], [18, 169, 'giraud nodded his head towards jack'], [18, 174, '” jack renauld stared at him stonily'], [19, 1, 'up to the last, i had not been able bring myself to believe jack renauld guilty'], [19, 15, 'he flung open the door of the  salon , and we passed in, leaving jack renauld in the care of the two other men'], [19, 30, 'i heard of jack renauld’s quarrel with his father, and of the threats that he had used'], [19, 33, 'jack renauld was in merlinville that night'], [19, 38, 'jack renauld, arriving from cherbourg, was the only person who could have taken it'], [19, 45, 'm. jack renauld arrived by train'], [19, 70, '“jack renauld was presumably acquainted with the planning out of the golf course'], [19, 79, 'since it was to jack renauld’s advantage that the body should be found without delay, why dig a grave at all'], [19, 88, 'jack renauld still stood in the hall, with a white dumb face, but as we came out of the  salon , he looked up sharply'], [19, 92, '“jack,” she faltered'], [19, 93, '“jack, what is this'], [19, 107, '“do you believe then, in spite of all appearances to the contrary, that jack renauld may not be guilty'], [19, 111, 'if jack renauld is guilty, it is in spite of giraud’s arguments, not  because  of them'], [20, 32, 'now supposing jack renauld to appear'], [20, 35, 'jack renauld consents—goes to the house and has an interview with his mother, winning her over to his point of view'], [20, 95, '“telegram sent to jack renauld, bidding him proceed by the  anzora to buenos ayres'], [20, 124, 'later you observed me measuring the overcoat of m. jack renauld'], [20, 125, 'eh bien , m. jack renauld wears his overcoat very short'], [20, 126, 'put those two facts together with a third, namely that m. jack renauld flung out of the house in a hurry on his departure for paris, and tell me what you make of it'], [20, 128, '“that letter was written to jack renauld—not to his father'], [20, 143, '“so jack renauld says, but he cannot produce them'], [20, 168, 'remember the fragment of cheque, and the fact that the name bella duveen was faintly familiar to stonor, and i think we may take it for granted that bella duveen is the full name of jack’s unknown correspondent, and that it was she who came to the villa geneviève that night'], [20, 169, 'whether she intended to see jack, or whether she meant all along to appeal to his father we cannot be certain, but i think we may assume that this is what occurred'], [20, 170, 'she produced her claim upon jack, probably showed letters that he had written her, and the older man tried to buy her off by writing a cheque'], [20, 230, 'since we are satisfied that was georges conneau who dictated the lie to her, and as georges conneau is not jack renauld, follows that the third case is put out of court'], [21, 20, 'jack renauld falls in love with the beautiful girl he sees almost daily, and wishes to marry her'], [21, 23, 'jack renauld knows nothing of his father’s past, but madame renauld knows everything'], [21, 40, 'jack renauld and the chauffeur (who had been with his master two years) must be got out of the way'], [21, 42, 'masters was sent off, a telegram despatched to jack, buenos ayres being selected to give credence to the story that renauld had decided upon'], [21, 92, 'it might just as easily have been a grey hair—and then, by no conceivable effort could giraud have persuaded himself it came from the head of jack renauld'], [21, 139, 'some one who was near the villa just before twelve o’clock that night, some one who would benefit by his death—the description fits jack renauld only too well'], [21, 146, '“certainly, and, since they were duplicates, it stands to reason that jack renauld was the owner'], [21, 150, 'like father, like son—jack renauld, when all is said or done, is the son of georges conneau'], [21, 167, 'jack renauld was a young man with plenty of money, and twenty years of age'], [21, 171, 'and he brought out the photograph i had seen him take from jack renauld’s drawer'], [22, 17, 'did he suspect her of having seen jack renauld commit the crime'], [22, 32, 'what kept her there—the hope of seeing jack renauld'], [22, 35, 'but to know that she must have seen jack'], [22, 37, 'had jack renauld, returning to see marthe daubreuil, come face to face instead with bella duveen, the girl he had heartlessly thrown over'], [22, 39, 'if that were indeed the case, it might furnish jack with the alibi he needed'], [22, 158, '“i don’t know whether you knew that jack renauld would be coming that night, or whether you just waited about on the chance of seeing him, but you did wait about'], [22, 168, 'you used a threat in one of your letters to jack renauld'], [22, 194, '“you think that i love jack renauld'], [23, 92, 'me, i preoccupy myself with jack renauld'], [23, 93, 'jack renauld'], [23, 96, 'jack renauld, in prison, with the shadow of the guillotine looming over him'], [23, 109, 'bella or jack renauld'], [23, 113, 'i remembered that no word of jack renauld’s arrest had passed my lips'], [23, 118, 'jack renauld might, and probably would, be acquitted without any intervention on her part'], [23, 128, 'and, at the same time, jack renauld must be saved'], [23, 135, 'and with bella unsuspected, and jack renauld acquitted, all would end satisfactorily'], [24, 0, ' we crossed from england by the evening boat, and the following morning saw us in saint-omer, whither jack renauld had been taken'], [24, 85, 'jack renauld is innocent'], [24, 113, '“then you do not believe that jack renauld committed the crime'], [24, 117, 'i admit that there have been one or two things in this business that have staggered me completely, but none the less, in spite of his fool way of taking it, i’ll never believe that jack renauld is a murderer'], [24, 136, 'it’s her show, and i’ve too much respect for her judgment to shove my oar in, but i can’t get behind this attitude of jack’s'], [24, 141, 'i continued, choosing my words carefully, “we know that the dagger could not have been in jack renauld’s possession that evening'], [24, 155, 'as to the dagger, your point hardly helps jack renauld'], [24, 158, '“well, i was employed in trying to find the firm jack renauld employed to convert his souvenirs'], [24, 179, 'i have no one to turn to, and at all costs jack must be saved'], [25, 0, ' we were present the following morning at the examination of jack renauld'], [25, 9, 'jack did not reply at once, then he said with a hesitancy of manner which was piteous: “i—i—told you that i was in cherbourg'], [25, 11, 'i realized at once that jack renauld was obstinately bent on conducting his own case as he wished, to the despair of his legal representative'], [25, 24, 'i knew m. jack renauld well'], [25, 29, 'the magistrate looked at jack renauld'], [25, 32, 'jack shrugged his shoulders'], [25, 40, 'but jack renauld had no consideration for the feelings of the wretched grosíer'], [25, 44, 'again maître grosíer burst out, and again jack overrode him'], [25, 48, 'it did, in very truth, seem as though jack was rushing on his fate'], [25, 53, 'it would not be easy to secure the acquittal of jack renauld, by anything short of the truth'], [25, 66, 'jack renauld had almost overdone his part'], [25, 69, 'jack’s pale face flushed'], [25, 100, 'on the other hand, now that i saw her without the fair wig she had worn on the stage, i recognized her as the girl of the photograph in jack renauld’s room'], [26, 10, 'she was just desperate about jack     renauld, she’d have lain down on the ground for him to walk on, and     when he began to change, and to stop writing so often, she began     getting in a state'], [26, 12, 'she’d made up her mind to go to their villa at     merlinville, and try and see jack'], [26, 32, 'i figured it out that bella had met papa renauld and told     him about her and jack, and that he’d insulted her or something     like that'], [26, 38, 'you know all     that … when i saw the dead man, looking so like jack, and wearing     jack’s fancy overcoat, i knew'], [26, 40, '—that jack had given bella'], [26, 70, '… if i had—     “as soon as the news was in the paper that jack renauld had been     arrested, it was all up'], [27, 0, ' “congratulations, m. jack,” said poirot, wringing the lad warmly by the hand'], [27, 12, '“he was a well meaning ass, i suppose,” said jack'], [27, 28, '“of course it’s horrible to me to think that bella killed my father,” resumed jack, “but i’d treated her shamefully'], [27, 40, '“no, no, m. jack'], [27, 77, 'stonor, at jack’s instance, agreed to stay behind and do all that could be done for bella duveen'], [27, 78, 'poirot, jack renauld and i set off in the renauld car'], [27, 80, 'as we approached the doorway of the villa marguerite, jack renauld shot a questioning glance at poirot'], [27, 84, 'jack renauld did not wait for more'], [27, 103, 'we will hope that mademoiselle bella will be dealt with leniently, and after all jack renauld cannot marry both the girls'], [27, 118, '“here are jack and marthe daubreuil,” i exclaimed, looking out of the window'], [27, 123, '“i know, i know,” said jack renauld'], [27, 138, '“mother,” cried jack, starting forward'], [27, 154, 'jack renauld, worn out with all he had already gone through, swayed and nearly fell'], [27, 161, 'my poor jack'], [27, 221, '“i should like to assure myself that all goes well with jack renauld'], [27, 229, '“i figure to myself that that is the room where we shall find jack renauld'], [27, 231, 'she explained that jack was much the same, but perhaps we would like to see for ourselves'], [27, 235, 'jack renauld was sleeping an uneasy fitful sleep, his head turning from side to side, and his face still unduly flushed'], [28, 42, '“remember jack renauld’s story'], [28, 58, 'remember how easily you overheard marthe’s conversation with jack renauld from that spot'], [28, 63, 'm. renauld was a millionaire several times over, and at his death (or so she and jack believed) half that vast fortune would pass to his son'], [28, 69, 'at present m. renauld stands inexorably in the way of her marriage with jack'], [28, 71, 'in fact, i doubt if she has ever cared a straw for jack renauld'], [28, 75, 'but with m. renauld dead, and jack the heir to half his millions, the marriage can take place at once, and at a stroke she will attain wealth—not the beggarly thousands that have been extracted from him so far'], [28, 80, 'jack renauld had  three  souvenirs made'], [28, 85, '“(4) marthe daubreuil was the only person, besides jack renauld, likely to have the third dagger in her possession'], [28, 90, 'it did not seem very likely that bella duveen would be wandering about carrying a souvenir paper-knife in her hand, but of course she might have had some idea all the time of revenging herself on jack renauld'], [28, 99, 'but if, by any chance, it was  not  her sister’s, but the one given by jack to marthe daubreuil—why then, bella duveen’s dagger would be still intact'], [28, 154, 'not on jack renauld’s behalf, for she did not know then that he had been in merlinville the previous evening'], [28, 155, '“by the way,” i exclaimed, “how is jack renauld'], [28, 164, '“has jack renauld been—told'], [28, 172, 'she set herself to fascinate jack, and she succeeded, but remember his curious reluctance to break with the other girl'], [28, 180, 'when at length the doctor pronounced jack renauld strong enough to hear the truth, it was poirot who broke it to him'], [28, 182, 'yet jack rallied better than i could have supposed possible'], [28, 186, 'poirot had acquainted mrs. renauld with the fact that he knew her secret, and had represented to her that jack should not be left in ignorance of his father’s past'], [28, 191, '“reassure yourself, m. jack'], [28, 203, 'a few days later jack renauld came to see us with a resolute expression on his face'], [28, 207, '“you go alone, m. jack'], [28, 211, 'jack flushed'], [28, 219, 'but jack’s face had hardened'], [28, 236, 'jack looked irresolute']]\n",
            "[[7, 145, '“mademoiselle daubreuil,” said m. hautet, sweeping off his hat, “we regret infinitely to disturb you, but the exigencies of the law—you comprehend'], [7, 176, '“marthe, dear'], [7, 184, '“i should prefer not to speak before mademoiselle daubreuil'], [7, 241, 'it was marthe daubreuil'], [7, 249, '“françoise told our amélie,” explained marthe, with a blush'], [7, 293, '“ah,  mon ami , do not set your heart on marthe daubreuil'], [11, 103, 'the subject of the quarrel was mademoiselle marthe daubreuil'], [11, 109, '“i love mademoiselle daubreuil, and i wish to marry her'], [11, 117, 'marthe is as good as she is beautiful'], [11, 119, '“i have nothing against mademoiselle daubreuil in any way'], [11, 125, '“when you informed your father of your intentions towards mademoiselle daubreuil,” he resumed, “he was surprised'], [11, 129, 'nettled, i demanded what he had against mademoiselle daubreuil'], [11, 131, 'i answered that i was marrying marthe, and not her antecedents, but he shouted me down with a peremptory refusal to discuss the matter in any way'], [11, 143, 'i wrote to marthe, telling her what had happened, and her reply soothed me still further'], [13, 19, '“yesterday it was mademoiselle daubreuil, today it is mademoiselle—cinderella'], [13, 23, 'mademoiselle daubreuil is a very beautiful girl, and i do admire her immensely—i don’t mind admitting it'], [13, 94, 'and thirdly, if you wish, endeavour to cut him out with mademoiselle marthe'], [13, 100, 'throw together a boy young renauld and a beautiful girl like mademoiselle marthe, and the result is almost inevitable'], [13, 108, 'that is how always think of mademoiselle daubreuil  as the girl with the anxious eyes'], [13, 194, 'a girl’s voice was speaking, a voice that i recognized as that of the beautiful marthe'], [13, 197, '“you know it, marthe,” jack renauld replied'], [15, 19, 'i do not know what put the idea into my head—possibly it was the deep anxiety underlying marthe daubreuil’s tones—but i asked suddenly: “young m. renauld—he did not leave by that train, did he'], [15, 28, 'that, then, was the reason of marthe’s poignant anxiety'], [15, 34, 'one thing was certain, marthe had known all along'], [17, 166, 'i came to see my fiancée, mademoiselle daubreuil'], [18, 19, '“with good fortune,” he remarked to me over his shoulder, “mademoiselle marthe may find herself in the garden'], [18, 25, '” i joined him at the moment that marthe daubreuil, looking slightly startled, came running up to the hedge at his call'], [18, 100, '“ maman ,” whispered marthe, “i must go'], [18, 107, 'unwittingly, mademoiselle marthe told us the truth on another point—and incidentally gave jack renauld the lie'], [18, 108, 'did you notice his hesitation when i asked him if he saw marthe daubreuil on the night of the crime'], [18, 111, 'it was necessary for me to see mademoiselle marthe before he could put her on her guard'], [18, 114, 'now, hastings, what was jack renauld doing here on that eventful evening, and if he did not see mademoiselle marthe whom did he see'], [20, 88, 'm. renauld quarrels with his son over latter’s wish to marry marthe daubreuil'], [20, 93, 'quarrel with tramp in garden, witnessed by marthe daubreuil'], [20, 134, '“may 23rd,” i read, “m. renauld quarrels with his son over latter’s wish to marry marthe daubreuil'], [22, 37, 'had jack renauld, returning to see marthe daubreuil, come face to face instead with bella duveen, the girl he had heartlessly thrown over'], [22, 42, 'did he fear for this former entanglement of his to come to the ears of marthe daubreuil'], [24, 181, '“marthe daubreuil'], [24, 187, 'marthe was at the door to meet us, and led poirot in, clinging with both hands to one of his'], [24, 200, 'marthe frowned'], [24, 219, 'marthe looked at him for a minute, then, letting her head fall forward on her arms, she burst into tears'], [24, 227, 'marthe listened spellbound'], [27, 1, 'young renauld had come to us as soon as he was liberated—before starting for merlinville to rejoin marthe and his mother'], [27, 29, 'after i met marthe, and realized i’d made a mistake, i ought to have written and told her so honestly'], [27, 30, 'but i was so terrified of a row, and of its coming to marthe’s ears, and her thinking there was more in it than there ever had been, that—well, i was a coward, and went on hoping the thing would die down of itself'], [27, 46, 'i came from cherbourg, as i told you, in order to see marthe before going to the other end of the world'], [27, 82, '“while you break it in person to mademoiselle marthe, eh?” finished poirot, with a twinkle'], [27, 118, '“here are jack and marthe daubreuil,” i exclaimed, looking out of the window'], [27, 127, '“but marthe and i'], [27, 156, '“he is overdone,” murmured poirot to marthe'], [27, 172, 'finally, having done all we could, we left him in the charge of marthe and her mother, and set out for the town'], [27, 227, 'thrown sharply on the blind was the profile of marthe daubreuil'], [27, 233, 'marthe daubreuil was embroidering by a table with a lamp on it'], [27, 260, 'poirot looked over his shoulder once at the lighted window and the profile of marthe as she bent over her work'], [27, 331, 'puzzled and uncomprehending, i knelt down, and lifting the fold of cloth, looked into the dead beautiful face of marthe daubreuil'], [28, 35, '“do you know, i actually dreamt that we found marthe daubreuil’s body in mrs. renauld’s room, and that you declared her to have murdered mr. renauld'], [28, 56, 'from marthe daubreuil’s own lips we have the admission that she overheard m. renauld’s quarrel with the tramp'], [28, 58, 'remember how easily you overheard marthe’s conversation with jack renauld from that spot'], [28, 59, '“but what possible motive could marthe have for murdering mr. renauld'], [28, 64, 'let us reconstruct the scene from the standpoint of marthe daubreuil'], [28, 65, '“marthe daubreuil overhears what passes between renauld and his wife'], [28, 70, 'if the latter defies his father, he will be a pauper—which is not at all to the mind of mademoiselle marthe'], [28, 79, 'and here comes in the second point which led me infallibly to marthe daubreuil—the dagger'], [28, 81, 'one he gave to his mother, one to bella duveen; was it not highly probable that he had given the third one to marthe daubreuil'], [28, 82, '“so then, to sum up, there were four points of note against marthe daubreuil: “(1) marthe daubreuil could have overheard m. renauld’s plans'], [28, 83, '“(2) marthe daubreuil had a direct interest in causing m. renauld’s death'], [28, 84, '“(3) marthe daubreuil was the daughter of the notorious madame beroldy who in my opinion was morally and virtually the murderess of her husband, although it may have been georges conneau’s hand which struck the actual blow'], [28, 85, '“(4) marthe daubreuil was the only person, besides jack renauld, likely to have the third dagger in her possession'], [28, 95, 'if it was  not  bella duveen, the only other person who could have committed the crime was marthe daubreuil'], [28, 99, 'but if, by any chance, it was  not  her sister’s, but the one given by jack to marthe daubreuil—why then, bella duveen’s dagger would be still intact'], [28, 102, '“in the meantime i had taken steps to force mademoiselle marthe into the open'], [28, 107, 'marthe daubreuil made a last bold bid for the renauld millions—and failed'], [28, 122, 'she had brains, that beautiful mademoiselle marthe'], [28, 127, 'on the floor by marthe daubreuil’s body, i found a pad and a little bottle of chloroform and a hypodermic syringe containing a fatal dose of morphine'], [28, 137, '“however, hastings, things did not go quite as mademoiselle marthe had planned'], [28, 141, 'there is a last chance for marthe daubreuil'], [28, 145, '“when did you first begin to suspect marthe daubreuil, poirot'], [28, 151, 'that is how i have thought of marthe daubreuil from the beginning'], [28, 169, 'so far we have looked upon bella duveen as a siren, and marthe daubreuil as the girl he really loved'], [28, 171, 'marthe daubreuil was very beautiful']]\n",
            "['she', 'was', 'afraid', 'said', 'm', 'hautet']\n",
            "['turned', 'to', 'her', 'dear', 'but', 'the']\n",
            "['to', 'speak', 'before', 'as', 'my', 'daughter']\n",
            "['us', 'it', 'was', 'i', 'beg', 'your']\n",
            "['our', 'amélie', 'explained', 'with', 'a', 'blush']\n",
            "['your', 'heart', 'on', 'she', 'is', 'not']\n",
            "['the', 'quarrel', 'was', 'renauld', 'sprang', 'round']\n",
            "['admitted', 'i', 'love', 'and', 'i', 'wish']\n",
            "['boy', 'you', 'too', 'is', 'as', 'good']\n",
            "['have', 'nothing', 'against', 'in', 'any', 'way']\n",
            "['your', 'intentions', 'towards', 'he', 'resumed', 'he']\n",
            "['he', 'had', 'against', 'to', 'that', 'he']\n",
            "['i', 'was', 'marrying', 'and', 'not', 'her']\n",
            "['i', 'wrote', 'to', 'telling', 'her', 'what']\n",
            "['yesterday', 'it', 'was', 'today', 'it', 'is']\n",
            "['to', 'rag', 'me', 'is', 'a', 'very']\n",
            "['him', 'out', 'with', 'but', 'i', 'fear']\n",
            "['beautiful', 'girl', 'like', 'and', 'the', 'result']\n",
            "['always', 'think', 'of', 'as', 'the', 'girl']\n",
            "['of', 'the', 'beautiful', 'chéri', 'she', 'was']\n",
            "['you', 'know', 'it', 'jack', 'renauld', 'replied']\n",
            "['deep', 'anxiety', 'underlying', 's', 'tones—but', 'i']\n",
            "['the', 'reason', 'of', 's', 'poignant', 'anxiety']\n",
            "['thing', 'was', 'certain', 'had', 'known', 'all']\n",
            "['see', 'my', 'fiancée', 'i', 'was', 'on']\n",
            "['over', 'his', 'shoulder', 'may', 'find', 'herself']\n",
            "['the', 'moment', 'that', 'looking', 'slightly', 'startled']\n",
            "['house', 'maman', 'whispered', 'i', 'must', 'go']\n",
            "['absolute', 'truth', 'unwittingly', 'told', 'us', 'the']\n",
            "['if', 'he', 'saw', 'on', 'the', 'night']\n",
            "['me', 'to', 'see', 'before', 'he', 'could']\n",
            "['did', 'not', 'see', 'whom', 'did', 'he']\n",
            "['wish', 'to', 'marry', 'son', 'leaves', 'for']\n",
            "['garden', 'witnessed', 'by', 'letter', 'written', 'to']\n",
            "['wish', 'to', 'marry', 'son', 'leaves', 'for']\n",
            "['returning', 'to', 'see', 'come', 'face', 'to']\n",
            "['the', 'ears', 'of', 'i', 'shook', 'my']\n",
            "['to', 'help', 'us', 'i', 'handed', 'it']\n",
            "['the', 'villa', 'marguerite', 'was', 'at', 'the']\n",
            "['poirot', 'watching', 'her', 'frowned', 'screening', 'some']\n",
            "['s', 'real', 'name', 'looked', 'at', 'him']\n",
            "['departure', 'for', 'england', 'listened', 'spellbound', 'when']\n",
            "['merlinville', 'to', 'rejoin', 'and', 'his', 'mother']\n",
            "['after', 'i', 'met', 'and', 'realized', 'i']\n",
            "['its', 'coming', 'to', 's', 'ears', 'and']\n",
            "['order', 'to', 'see', 'before', 'going', 'to']\n",
            "['in', 'person', 'to', 'eh', 'finished', 'poirot']\n",
            "['are', 'jack', 'and', 'i', 'exclaimed', 'looking']\n",
            "['better', 'not', 'but', 'and', 'i', 'in']\n",
            "['murmured', 'poirot', 'to', 'where', 'can', 'we']\n",
            "['the', 'charge', 'of', 'and', 'her', 'mother']\n",
            "['the', 'profile', 'of', 'ah', 'said', 'poirot']\n",
            "['into', 'the', 'bedroom', 'was', 'embroidering', 'by']\n",
            "['the', 'profile', 'of', 'as', 'she', 'bent']\n",
            "['beautiful', 'face', 'of', '', 'i', 'have']\n",
            "['that', 'we', 'found', 's', 'body', 'in']\n",
            "['them', 'yes', 'from', 's', 'own', 'lips']\n",
            "['easily', 'you', 'overheard', 's', 'conversation', 'with']\n",
            "['possible', 'motive', 'could', 'have', 'for', 'murdering']\n",
            "['the', 'standpoint', 'of', 'marthe', 'daubreuil', 'overhears']\n",
            "['of', 'marthe', 'daubreuil', 'overhears', 'what', 'passes']\n",
            "['the', 'mind', 'of', 'in', 'fact', 'i']\n",
            "['me', 'infallibly', 'to', 'the', 'dagger', 'jack']\n",
            "['third', 'one', 'to', 'so', 'then', 'to']\n",
            "['of', 'note', 'against', '(1)', 'marthe', 'daubreuil']\n",
            "['marthe', 'daubreuil', '(1)', 'could', 'have', 'overheard']\n",
            "['s', 'plans', '(2)', 'had', 'a', 'direct']\n",
            "['s', 'death', '(3)', 'was', 'the', 'daughter']\n",
            "['actual', 'blow', '(4)', 'was', 'the', 'only']\n",
            "['the', 'crime', 'was', 'but', 'i', 'had']\n",
            "['by', 'jack', 'to', 'why', 'then', 'bella']\n",
            "['steps', 'to', 'force', 'into', 'the', 'open']\n",
            "['as', 'i', 'thought', 'made', 'a', 'last']\n",
            "['brains', 'that', 'beautiful', 'and', 'her', 'object']\n",
            "['the', 'floor', 'by', 's', 'body', 'i']\n",
            "['go', 'quite', 'as', 'had', 'planned', 'to']\n",
            "['last', 'chance', 'for', 'the', 'idea', 'of']\n",
            "['begin', 'to', 'suspect', 'poirot', 'when', 'she']\n",
            "['have', 'thought', 'of', 'from', 'the', 'beginning']\n",
            "['a', 'siren', 'and', 'as', 'the', 'girl']\n",
            "['to', 'the', 'truth', 'was', 'very', 'beautiful']\n",
            "81\n"
          ]
        }
      ]
    },
    {
      "cell_type": "code",
      "metadata": {
        "id": "z79SQ8IJtAXR"
      },
      "source": [
        "# Block for book 1\n",
        "#Author: Luke"
      ],
      "execution_count": 7,
      "outputs": []
    },
    {
      "cell_type": "code",
      "metadata": {
        "id": "In2U5yHBp_K9"
      },
      "source": [
        "# Block for book 2\n",
        "#Author: Luke"
      ],
      "execution_count": 8,
      "outputs": []
    },
    {
      "cell_type": "code",
      "metadata": {
        "id": "kWcsmUjIiwtd"
      },
      "source": [
        ""
      ],
      "execution_count": 8,
      "outputs": []
    },
    {
      "cell_type": "code",
      "metadata": {
        "id": "I8KDd-s3RDtG"
      },
      "source": [
        ""
      ],
      "execution_count": 8,
      "outputs": []
    },
    {
      "cell_type": "code",
      "metadata": {
        "id": "smz9geGxDtCv"
      },
      "source": [
        ""
      ],
      "execution_count": 8,
      "outputs": []
    },
    {
      "cell_type": "code",
      "metadata": {
        "id": "S_Lj5Stcn0DN",
        "colab": {
          "base_uri": "https://localhost:8080/",
          "height": 356
        },
        "outputId": "1a07fa4f-1d2c-4892-fde4-7149d3a3c404"
      },
      "source": [
        "# Author: @verolero86\n",
        "\n",
        "# W.I.P. - first stab takes care of white space characters\n",
        "import numpy as np # to grab unique elements \n",
        "\n",
        "def find_white_space(book,nchars,debug):\n",
        "  result_book = re.findall(r'\\s',book[0:nchars]);\n",
        "\n",
        "#  if debug == True:\n",
        "#    print(repr(book1_chapter1[0:nchars]))\n",
        "\n",
        "  print(f\"Number of white space characters = {len(result_book)}\")\n",
        "  print(f\"Unique types of white space characters found = {np.unique(result_book)}\")\n",
        "\n",
        "  return len(result_book)\n",
        "\n",
        "def remove_specific_white_space(book,regex):\n",
        "  result_book = re.sub(regex,' ',book)\n",
        "\n",
        "  return result_book\n",
        "\n",
        "def clean_data(book):\n",
        "  ws_regex=r'[\\r\\n\\u200a]'\n",
        "  result_book = remove_specific_white_space(book,ws_regex).lower()\n",
        "  return result_book\n",
        "\n",
        "# Set a subset of characters for easier parsing (-1 for all in chapter)\n",
        "num_ws_b1c1 = find_white_space(corpus[1][\"contents\"][1],-1,True);\n",
        "print(num_ws_b1c1)\n",
        "\n",
        "num_ws_b1c2 = find_white_space(corpus[1][\"contents\"][2],-1,False);\n",
        "print(num_ws_b1c2)\n",
        "\n",
        "num_ws_b2c1 = find_white_space(corpus[2][\"contents\"][1],-1,False);\n",
        "print(num_ws_b2c1)\n",
        "\n",
        "# Cleaning up unwanted white space and breaking up int o sentences.\n",
        "b1c1 = corpus[1][\"contents\"][1]\n",
        "regex=r'[\\r\\n\\u200a]'\n",
        "b1c1_no_ws = remove_specific_white_space(b1c1,regex)\n",
        "#print(f\"No \\\\r and \\\\n anymore: {repr(b1c1_no_ws[0:400])}\")\n",
        "#result_sentences = re.findall(r'[^\\.\\!\\?]*[\\.\\!\\?]',b1c1_no_ws);\n",
        "#print(repr(result_sentences[0]))\n",
        "#print(repr(result_sentences))\n",
        "sentence_regex=r'[\\.\\?!](?![\\'\\\"\\u2019\\u201a\\u201c\\u275c\\u275f\\u201e\\u201d\\u0022\\u275e]\\s[a-z])(?![\\'\\\"\\u2019\\u201a\\u201c\\u275c\\u275f\\u201e\\u201d\\u0022\\u275e]\\sI said)[\\'\\\"\\u2018\\u2019\\u201c\\u201d\\)\\]]*\\s*(?<!\\w\\.\\w.)(?<![A-Z][a-z][a-z]\\.)(?<![A-Z][a-z]\\.)(?<![A-Z]\\.)\\s+'\n",
        "#result2=re.split(r'[\\.\\?!](?![\\'\\\"\\u2019\\u201a\\u201c\\u275c\\u275f\\u201e\\u201d\\u0022\\u275e]\\s[a-z])(?![\\'\\\"\\u2019\\u201a\\u201c\\u275c\\u275f\\u201e\\u201d\\u0022\\u275e]\\sI said)[\\'\\\"\\u2018\\u2019\\u201c\\u201d\\)\\]]*\\s*(?<!\\w\\.\\w.)(?<![A-Z][a-z][a-z]\\.)(?<![A-Z][a-z]\\.)(?<![A-Z]\\.)\\s+',b1c1_no_ws,flags=re.UNICODE)\n",
        "result2=re.split(sentence_regex,b1c1_no_ws,flags=re.UNICODE)\n",
        "#print(b1c1_no_ws)\n",
        "b1c1_clean = clean_data(b1c1)\n",
        "result3=re.split(sentence_regex,b1c1_clean,flags=re.UNICODE)\n",
        "print(result2)\n",
        "print(result3)"
      ],
      "execution_count": 9,
      "outputs": [
        {
          "output_type": "error",
          "ename": "TypeError",
          "evalue": "ignored",
          "traceback": [
            "\u001b[0;31m---------------------------------------------------------------------------\u001b[0m",
            "\u001b[0;31mTypeError\u001b[0m                                 Traceback (most recent call last)",
            "\u001b[0;32m<ipython-input-9-b20b1a7a457d>\u001b[0m in \u001b[0;36m<module>\u001b[0;34m()\u001b[0m\n\u001b[1;32m     26\u001b[0m \u001b[0;34m\u001b[0m\u001b[0m\n\u001b[1;32m     27\u001b[0m \u001b[0;31m# Set a subset of characters for easier parsing (-1 for all in chapter)\u001b[0m\u001b[0;34m\u001b[0m\u001b[0;34m\u001b[0m\u001b[0;34m\u001b[0m\u001b[0m\n\u001b[0;32m---> 28\u001b[0;31m \u001b[0mnum_ws_b1c1\u001b[0m \u001b[0;34m=\u001b[0m \u001b[0mfind_white_space\u001b[0m\u001b[0;34m(\u001b[0m\u001b[0mcorpus\u001b[0m\u001b[0;34m[\u001b[0m\u001b[0;36m1\u001b[0m\u001b[0;34m]\u001b[0m\u001b[0;34m[\u001b[0m\u001b[0;34m\"contents\"\u001b[0m\u001b[0;34m]\u001b[0m\u001b[0;34m[\u001b[0m\u001b[0;36m1\u001b[0m\u001b[0;34m]\u001b[0m\u001b[0;34m,\u001b[0m\u001b[0;34m-\u001b[0m\u001b[0;36m1\u001b[0m\u001b[0;34m,\u001b[0m\u001b[0;32mTrue\u001b[0m\u001b[0;34m)\u001b[0m\u001b[0;34m;\u001b[0m\u001b[0;34m\u001b[0m\u001b[0;34m\u001b[0m\u001b[0m\n\u001b[0m\u001b[1;32m     29\u001b[0m \u001b[0mprint\u001b[0m\u001b[0;34m(\u001b[0m\u001b[0mnum_ws_b1c1\u001b[0m\u001b[0;34m)\u001b[0m\u001b[0;34m\u001b[0m\u001b[0;34m\u001b[0m\u001b[0m\n\u001b[1;32m     30\u001b[0m \u001b[0;34m\u001b[0m\u001b[0m\n",
            "\u001b[0;32m<ipython-input-9-b20b1a7a457d>\u001b[0m in \u001b[0;36mfind_white_space\u001b[0;34m(book, nchars, debug)\u001b[0m\n\u001b[1;32m      5\u001b[0m \u001b[0;34m\u001b[0m\u001b[0m\n\u001b[1;32m      6\u001b[0m \u001b[0;32mdef\u001b[0m \u001b[0mfind_white_space\u001b[0m\u001b[0;34m(\u001b[0m\u001b[0mbook\u001b[0m\u001b[0;34m,\u001b[0m\u001b[0mnchars\u001b[0m\u001b[0;34m,\u001b[0m\u001b[0mdebug\u001b[0m\u001b[0;34m)\u001b[0m\u001b[0;34m:\u001b[0m\u001b[0;34m\u001b[0m\u001b[0;34m\u001b[0m\u001b[0m\n\u001b[0;32m----> 7\u001b[0;31m   \u001b[0mresult_book\u001b[0m \u001b[0;34m=\u001b[0m \u001b[0mre\u001b[0m\u001b[0;34m.\u001b[0m\u001b[0mfindall\u001b[0m\u001b[0;34m(\u001b[0m\u001b[0;34mr'\\s'\u001b[0m\u001b[0;34m,\u001b[0m\u001b[0mbook\u001b[0m\u001b[0;34m[\u001b[0m\u001b[0;36m0\u001b[0m\u001b[0;34m:\u001b[0m\u001b[0mnchars\u001b[0m\u001b[0;34m]\u001b[0m\u001b[0;34m)\u001b[0m\u001b[0;34m;\u001b[0m\u001b[0;34m\u001b[0m\u001b[0;34m\u001b[0m\u001b[0m\n\u001b[0m\u001b[1;32m      8\u001b[0m \u001b[0;34m\u001b[0m\u001b[0m\n\u001b[1;32m      9\u001b[0m \u001b[0;31m#  if debug == True:\u001b[0m\u001b[0;34m\u001b[0m\u001b[0;34m\u001b[0m\u001b[0;34m\u001b[0m\u001b[0m\n",
            "\u001b[0;31mTypeError\u001b[0m: unhashable type: 'slice'"
          ]
        }
      ]
    },
    {
      "cell_type": "code",
      "metadata": {       "id": "7-EP8mLjqrO-",
        "colab": {
          "base_uri": "https://localhost:8080/"
        },
        "outputId": "c74c2a11-5e3e-4f72-a132-f0e394ea08df"
      },
      "source": [
        "bookid=3\n",
        "print(corpus[bookid][\"title\"],len(corpus[bookid][\"chapters\"]),len(corpus[bookid][\"contents\"]))\n",
        "det=get_det(bookid)\n",
        "perp=get_perp(bookid)\n",
        "crime=get_crime(bookid)\n",
        "sus=get_sus(bookid)\n",
        "det_occur=get_occur(bookid,det)\n",
        "perp_occur=get_occur(bookid,perp)\n",
        "co=get_co_occur(bookid,det,perp)\n",
        "crime=get_occur(bookid,crime)\n",
        "sus_occur=get_occur(bookid,sus)\n",
        "#print(det)\n",
        "print(\"det_occur = \", det_occur)\n",
        "#print(perp)\n",
        "print(\"perp_occur = \", perp_occur)\n",
        "print(\"co = \", co)\n",
        "print(\"crime = \", crime)\n",
        "print(\"sus_occur = \", sus_occur)\n",
        "#print(get_context(1,3,116))\n"
      ],
      "execution_count": 49,
      "outputs": [
        {
          "output_type": "stream",
          "name": "stdout",
          "text": [
            "The Secret Adversary 29 29\n",
            "det_occur =  [[1, 1, '“tuppence, old bean'], [1, 12, 'the very faint anxiety which underlay his tone did not escape the astute  ears of miss prudence cowley, known to her intimate friends for some  mysterious reason as “tuppence'], [1, 17, '“you always were a shocking liar,” said tuppence severely, “though you  did once persuade sister greenbank that the doctor had ordered you beer  as a tonic, but forgotten to write it on the chart'], [1, 24, 'tuppence sighed'], [1, 29, '“gratuity?” hinted tuppence'], [1, 34, 'the cost of  living--ordinary plain, or garden living nowadays is, i assure you, if  you do not know----”    “my dear child,” interrupted tuppence, “there is nothing i do _not_ know  about the cost of living'], [1, 37, 'and tuppence led the way upstairs'], [1, 44, 'but at that moment two elderly ladies rose and collected parcels, and  tuppence deftly ensconced herself in one of the vacant seats'], [1, 46, 'tuppence ordered tea and buttered toast'], [1, 53, 'tuppence had no claim to beauty, but there was character and charm in  the elfin lines of her little face, with its determined chin and large,  wide-apart grey eyes that looked mistily out from under straight, black  brows'], [1, 56, 'the tea came at last, and tuppence, rousing herself from a fit of  meditation, poured it out'], [1, 60, 'tuppence helped herself liberally to buttered toast'], [1, 61, '“abridged biography of miss prudence cowley, fifth daughter of  archdeacon cowley of little missendell, suffolk'], [1, 62, 'miss cowley left the  delights (and drudgeries) of her home life early in the war and came up  to london, where she entered an officers’ hospital'], [1, 77, 'ninth month: promoted to sweeping out wards, where i  found a friend of my childhood in lieutenant thomas beresford (bow,  tommy!), whom i had not seen for five long years'], [1, 79, 'tenth month: reproved by matron for visiting the pictures in  company with one of the patients, namely: the aforementioned lieutenant  thomas beresford'], [1, 82, 'after that, the talented miss cowley drove successively  a trade delivery van, a motor-lorry and a general'], [1, 87, '“i’ve forgotten his name now,” confessed tuppence'], [1, 105, 'tuppence nodded gloomily'], [1, 116, '“i think i remember hearing about it,” said tuppence slowly'], [1, 122, '“your mother’s dead, isn’t she?” said tuppence gently'], [1, 124, 'tuppence’s large grey eyes looked misty'], [1, 151, 'there was a silence, and then tuppence burst  out:    “money, money, money'], [1, 155, '“i’ve thought over every imaginable way of getting it too,” continued  tuppence'], [1, 164, '“of course,” resumed tuppence, “marriage is my best chance'], [1, 172, '“that’s not very polite,” replied tuppence'], [1, 178, '“i fancy he keeps a bicycle shop in time of peace,” explained tuppence'], [1, 192, '“on the other hand,” proceeded tuppence, “my millionaire would probably  run for his life'], [1, 205, '“the moral guilt,” tuppence pointed out, “would be theirs--not mine'], [1, 226, 'is that your  idea, tuppence'], [1, 229, '“advertisement,” replied tuppence promptly'], [1, 233, 'tommy handed over a rather shabby green notebook, and tuppence began  writing busily'], [1, 274, '“shall we, tuppence'], [1, 283, 'tuppence rose'], [1, 291, '“my time is my own,” replied mr. beresford magnificently'], [1, 295, 'tuppence’s hostel  was situated in what was charitably called southern belgravia'], [2, 0, '  tuppence turned sharply, but the words hovering on the tip of her tongue  remained unspoken, for the man’s appearance and manner did not bear out  her first and most natural assumption'], [2, 3, 'tuppence believed him'], [2, 13, 'another inference forced itself into tuppence’s mind:    “you followed me here'], [2, 17, 'tuppence took it and scrutinized it carefully'], [2, 21, '“at eleven o’clock?” said tuppence doubtfully'], [2, 23, 'tuppence made up her mind'], [2, 29, 'tuppence remained  for some minutes gazing after him'], [2, 35, 'and as i’ve said before, and shall doubtless say again, little  tuppence can look after herself, thank you'], [2, 40, 'disdaining the spiky pen and thick, black treacle which a beneficent  government had provided, tuppence drew out tommy’s pencil which she had  retained and wrote rapidly: “don’t put in advertisement'], [2, 48, 'a pleasurable thrill of  excitement made tuppence tingle'], [2, 51, 'it was a long time before tuppence went to sleep that night, and, when  at length she did, she dreamed that mr. whittington had set her to  washing up a pile of esthonia glassware, which bore an unaccountable  resemblance to hospital plates'], [2, 52, 'it wanted some five minutes to eleven when tuppence reached the block  of buildings in which the offices of the esthonia glassware co'], [2, 55, 'so tuppence  decided to walk to the end of the street and back again'], [2, 60, 'there was a lift, but  tuppence chose to walk up'], [2, 62, 'tuppence knocked'], [2, 65, '“i have an appointment with mr. whittington,” said tuppence'], [2, 69, 'tuppence felt her previous judgment confirmed'], [2, 76, 'tuppence sat down on the chair facing him'], [2, 86, 'tuppence eyed him warily'], [2, 93, '“oh!” said tuppence thoughtfully'], [2, 98, 'to put the  clock back a few years--a very few, i am sure--and re-enter one of those  charming _pensionnats de jeunes filles_ with which paris abounds----”    tuppence interrupted him'], [2, 101, 'tuppence knew the name well'], [2, 129, '“exactly,” said tuppence'], [2, 137, 'tuppence smiled a little'], [2, 140, 'so far there has been no mention of mr.  beresford'], [2, 142, '“mr. beresford'], [2, 143, '“my partner,” said tuppence with dignity'], [2, 148, 'tuppence rose'], [2, 155, 'tuppence’s conscience gave her a passing twinge as she remembered the  archdeacon'], [2, 162, 'tuppence, though utterly taken aback, nevertheless kept her head'], [2, 172, 'tuppence shook her head'], [2, 178, '“very little indeed,” answered tuppence, and was pleased to note that  whittington’s uneasiness was augmented instead of allayed'], [2, 181, '“it might be my own name,” tuppence pointed out'], [2, 183, '“or i might just have hit upon it by chance,” continued tuppence,  intoxicated with the success of truthfulness'], [2, 188, 'the last five words took tuppence’s fancy mightily, especially after a  meagre breakfast and a supper of buns the night before'], [2, 197, '“you insist on misjudging me,” said tuppence, and sighed gently'], [2, 201, 'tuppence paused a moment to admire her own ingenuity, and then said  softly:    “i shouldn’t like to contradict you, mr. whittington'], [2, 203, 'tuppence was in a dilemma'], [2, 209, 'tuppence smiled sweetly'], [2, 213, '“you see,” explained tuppence still sweetly, “i’m so very fond of  money'], [2, 217, '“life,” moralized tuppence, “is full of surprises'], [2, 229, 'whittington turned to  tuppence'], [2, 233, 'he rapidly sorted out some notes, and pushed them across the table to  tuppence, then stood up, obviously impatient for her to go'], [2, 239, 'whittington looked almost genial again, a  reversion that aroused in tuppence a faint misgiving'], [2, 241, 'tuppence sped lightly down the stairs'], [2, 244, '“let’s give tommy a surprise!” murmured tuppence, and hailed a taxi'], [2, 247, 'his eyes opened to their fullest extent as he hurried forward  to assist tuppence to alight'], [3, 3, '“i think you’ve given him too much, tommy,” said tuppence innocently'], [3, 6, '“well,” said mr. beresford, at length able to relieve his feelings,  “what the--dickens, did you want to take a taxi for'], [3, 7, '“i was afraid i might be late and keep you waiting,” said tuppence  gently'], [3, 9, 'oh, lord, i give it up!” said mr.  beresford'], [3, 10, '“and really and truly,” continued tuppence, opening her eyes very wide,  “i haven’t got anything smaller than a five-pound note'], [3, 12, '“no,” said tuppence thoughtfully, “he didn’t believe it'], [3, 29, '“tuppence, old girl, what has really come over you'], [3, 31, 'tuppence wrenched open her bag'], [3, 39, 'am i dreaming, tuppence, or do i  really behold a large quantity of five-pound notes being waved about in  a dangerous fashion'], [3, 50, '“the other’s more expensive,” demurred tuppence'], [3, 56, '“and now tell me,” said tommy, unable to restrain his pent-up curiosity  any longer, as they sat in state surrounded by the many _hors d’œuvre_  of tuppence’s dreams'], [3, 57, 'miss cowley told him'], [3, 69, 'how extraordinary----” tuppence tailed off  into silence'], [3, 77, '“that’s him,” cried tuppence, in an ungrammatical squeal'], [3, 84, 'tuppence tackled her  pêche melba happily'], [3, 86, '“look here, tuppence, old girl, what is this going to lead to'], [3, 93, 'tuppence laid down her spoon'], [3, 106, 'tuppence frowned severely'], [3, 116, 'tuppence sipped her coffee with a deeply reflective air, and snubbed  tommy when he spoke to her'], [3, 120, '“there!” said tuppence at last'], [3, 132, '“my plan is this,” tuppence went on calmly, “i’ll go alone to-morrow'], [3, 153, '“well,” said tuppence meditatively'], [3, 164, 'tommy remained on the opposite side of the road while tuppence plunged  into the building'], [3, 166, 'just as he came abreast of the building, tuppence darted across the  road'], [3, 177, 'he hesitated a moment, then addressed himself to  tuppence'], [3, 185, '“th--thank you,” faltered tuppence'], [3, 190, '“come on, tuppence'], [3, 193, '“and i never suspected it,” wailed tuppence'], [3, 196, 'tuppence’s little chin shot out defiantly'], [3, 212, 'tuppence handed  back the pencil, and surveyed the piece of paper on which she had  written with a satisfied eye:    “what’s that'], [4, 3, 'luckily the  weather was fine, and “walking is cheap,” dictated tuppence'], [4, 9, 'tuppence was first at the rendezvous'], [4, 12, '“well,” returned mr. beresford provokingly'], [4, 23, '“tommy, you devil!” almost screamed tuppence'], [4, 26, '“your language, tuppence, your language'], [4, 29, 'and do remember, as i have  pointed out to you before, that as a clergyman’s daughter----”    “i ought to be on the stage!” finished tuppence with a snap'], [4, 32, 'tuppence snatched the two precious envelopes from him unceremoniously,  and scrutinized them carefully'], [4, 38, 'tuppence’s little thumb ripped open the envelope, and she extracted the  contents'], [4, 42, '“27 carshalton gardens,” said tuppence, referring to the address'], [4, 61, 'tuppence nodded assent'], [4, 64, 'carshalton terrace proved to be an unimpeachable row of what tuppence  called “ladylike looking houses'], [4, 67, 'she looked so respectable that tuppence’s  heart sank'], [4, 74, 'he himself took a chair opposite to tuppence and smiled at  her encouragingly'], [4, 76, 'as he did not seem inclined to open the conversation, tuppence was  forced to begin'], [4, 82, 'tuppence drew herself up'], [4, 89, '“come now,” he continued, as tuppence remained silent'], [4, 94, 'tuppence seemed to shake herself free of it with an effort, as she said:    “we couldn’t do that, could we, tommy'], [4, 99, '“tommy!” cried out tuppence in surprise'], [4, 111, '“fire ahead, tuppence,” directed tommy'], [4, 114, 'and obediently tuppence did out with it, telling the whole story from  the forming of the young adventurers, ltd., downwards'], [4, 130, 'tuppence gazed at him, her lips parted, her eyes growing wider and  wider'], [4, 176, 'mr. carter paused, and tuppence broke in impatiently:    “but why has it all cropped up again'], [4, 180, 'tuppence stared'], [4, 189, 'tuppence nodded'], [4, 211, 'tuppence jumped'], [4, 226, 'tuppence thought'], [4, 232, 'tuppence nodded'], [4, 240, '“it won’t,” tuppence assured him positively'], [4, 242, '“and _i_‘ll look after _you_,” retorted tuppence, resenting the manly  assertion'], [4, 262, 'tuppence gasped, and mr. carter smiled'], [4, 266, '“then you think”--tuppence paused to grasp the supposition fully--“that  it _was_ as jane finn that they wanted me to go to paris'], [5, 0, '  “well,” said tuppence, recovering herself, “it really seems as though it  were meant to be'], [5, 8, 'i don’t wonder whittington got the wind up when tuppence  plumped out that name'], [5, 17, 'tuppence frowned uncomprehendingly'], [5, 27, 'tuppence rose'], [5, 33, 'tuppence nodded sagely'], [5, 36, 'now--about money----”    “yes, miss tuppence'], [5, 43, '“don’t worry, miss tuppence'], [5, 46, 'and an equal sum for  mr. beresford, of course'], [5, 47, 'tuppence beamed upon him'], [5, 59, '“oh!” said tuppence, impressed'], [5, 61, '“oh!” said tuppence again'], [5, 68, 'mr. beresford obliged'], [5, 75, '“it’s more respectable than i thought it would be,” said tuppence  thoughtfully'], [5, 88, '“at any rate, we shall make a better effect arriving this way,” said  tuppence, leaning back luxuriously'], [5, 91, '“i’m not sure i have,” said tuppence darkly'], [5, 94, 'mr. julius p. hersheimmer was a great deal younger than either tommy or  tuppence had pictured him'], [5, 106, '“oh!” cried tuppence'], [5, 112, '“we advertised to receive information, not to give it,” said tuppence  severely'], [5, 116, '“well, we wouldn’t mind hearing her back history,” said tuppence  guardedly'], [5, 129, 'he alluded to  tuppence and himself as “private inquiry agents” commissioned to find  her, and added that they would therefore be glad of any details mr.  hersheimmer could give them'], [5, 136, 'for the moment this paralysed the young adventurers, but tuppence,  recovering herself, plunged boldly into the breach with a reminiscence  culled from detective fiction'], [5, 169, 'tuppence reassured him'], [5, 174, 'tuppence expressed a preference for the latter, and julius bowed to her  decision'], [5, 182, 'an unformulated dread swept over tuppence'], [6, 5, 'all barriers went  down with a crash, and tommy and tuppence felt they had known the young  american all their lives'], [6, 7, 'he turned to tuppence at the close of the narration'], [6, 11, 'the upshot of these confidential relations was that tommy and tuppence  took up their abode forthwith at the _ritz_, in order, as tuppence put  it, to keep in touch with jane finn’s only living relation'], [6, 15, 'mr. beresford put down the _daily mail_, which he was reading, and  applauded with somewhat unnecessary vigour'], [6, 23, '“you see,” continued tuppence'], [6, 27, '“my union, tuppence, my union'], [6, 34, '“there’s something of the simplicity  of the truly great mind about you, tuppence'], [6, 37, '“to begin with,” said tuppence, “what have we to go upon'], [6, 40, 'tuppence wagged an energetic finger'], [6, 49, '“i’m not so sure about that,” replied tuppence thoughtfully'], [6, 61, 'no  one’s got a better appetite than you have, tuppence, and by tea-time  you’d be eating the flags, pins and all'], [6, 76, '“i am absolutely certain that it would be a woman, and a good-looking  one,” replied tuppence calmly'], [6, 77, '“on these technical points i bow to your decision,” murmured mr.  beresford'], [6, 90, 'how’s that for clever little tuppence'], [6, 93, '“that’s just what i don’t know,” confessed tuppence'], [6, 102, 'tuppence gave her characteristic “terrier” shake'], [6, 108, 'tommy paid  off the taxi, and accompanied tuppence to the front door bell'], [6, 119, 'tuppence withdrew to a  suitable spot'], [6, 138, '“you see, tuppence,” he observed'], [6, 149, 'tuppence picked it up'], [6, 159, '“true,” said tuppence, her flagging spirits reviving'], [6, 163, '“you must stifle this longing for vulgar sensation, tuppence'], [6, 172, 'tuppence received the remark with great disfavour'], [6, 175, '“sorry, tuppence'], [6, 178, '“ha ha!” echoed tuppence approvingly, as she rose'], [6, 196, 'tuppence was waiting at the angle of the turn'], [6, 202, '“it’s--it’s so lovely to think of things--and then for them really to  happen!” cried tuppence enthusiastically'], [6, 206, 'suddenly, to tommy’s complete surprise, tuppence dragged him into the  little space by the side of the lift where the shadow was deepest'], [6, 209, 'tuppence’s hand closed tighter on tommy’s arm'], [7, 94, 'he dared not waste time in trying to get hold of  tuppence'], [7, 102, 'beresford speaking'], [9, 0, '  when tommy set forth on the trail of the two men, it took all tuppence’s  self-command to refrain from accompanying him'], [9, 4, 'tuppence hated letting the grass grow  under her feet'], [9, 8, 'he glanced round at tuppence’s entry'], [9, 15, '“albert be it,” said tuppence'], [9, 23, 'it was  extremely unlikely that albert would have any knowledge of it--indeed,  it would have been fatal for tuppence’s plans, since the badge in  question was the device of a local training corps originated by the  archdeacon in the early days of the war'], [9, 24, 'its presence in tuppence’s coat  was due to the fact that she had used it for pinning in some flowers a  day or two before'], [9, 25, 'but tuppence had sharp eyes, and had noted the corner  of a threepenny detective novel protruding from albert’s pocket, and the  immediate enlargement of his eyes told her that her tactics were good,  and that the fish would rise to the bait'], [9, 29, 'tuppence nodded at him with the air of one who has established a  thorough understanding'], [9, 32, 'tuppence nodded and jerked a thumb up the stairs'], [9, 47, 'tuppence was a great frequenter of the cinema'], [9, 49, '“who’s annie?” inquired tuppence idly'], [9, 55, '“she’s some peach,” allowed tuppence carelessly'], [9, 60, 'tuppence nodded'], [9, 71, 'tuppence smiled, gratified at the success of her efforts'], [9, 76, '“mind you, sonny, not a word of this,” said tuppence suddenly'], [9, 81, 'tuppence affected to consider, then shook her head'], [9, 87, '“won’t she?” said tuppence thoughtfully'], [9, 95, '“some lad!” commented tuppence, with a nod of approval'], [9, 99, '“_ritz_,” replied tuppence laconically'], [9, 100, '“name of cowley'], [9, 103, '“it sure is,” drawled tuppence, “especially when old man rysdale backs  the bill'], [9, 116, '“yes,” said tuppence aloud, nodding at the pert reflection in the glass,  “you’ll do'], [9, 119, 'tuppence was rather surprised at tommy’s  non-return'], [9, 125, '“i dare say he’s dashed off there now,” thought tuppence'], [9, 130, 'that reminds me----” and miss cowley broke off in her meditations, and  summoned a small boy'], [9, 133, 'the morning brought a note from mr. carter:    “dear miss tuppence,    “you have made a splendid start, and i congratulate you'], [9, 149, 'tuppence’s spirits rose mercurially'], [9, 155, 'at ten-thirty tuppence surveyed with pride a slightly battered tin trunk  containing her new possessions'], [9, 160, 'ten minutes later a metamorphosed tuppence walked demurely  out of the station and entered a bus'], [9, 161, 'it was a few minutes past eleven when tuppence again entered the hall  of south audley mansions'], [9, 163, 'he did not immediately recognize  tuppence'], [9, 167, '“glad you like it, albert,” replied tuppence modestly'], [9, 174, '“nice girl,” said tuppence'], [9, 182, 'tuppence quelled him with a stern glance, and stepped inside'], [9, 186, '“i’ve come about the place,” said tuppence'], [9, 198, 'i can tell you----”    but what more annie could tell, tuppence was never destined to learn,  for at that moment a clear voice with a peculiarly steely ring to it  called:    “annie'], [9, 206, 'tuppence was ushered into a room on the right of the long passage'], [9, 213, 'for the first time tuppence felt afraid'], [9, 220, 'fighting down that instinct of panic which urged her to turn tail and  run without further delay, tuppence returned the lady’s gaze firmly and  respectfully'], [9, 228, 'glibly enough, tuppence ran through her imaginary career on the lines  suggested by mr. carter'], [9, 245, '“prudence cooper, ma’am'], [9, 246, '“very well, prudence'], [9, 251, 'tuppence withdrew'], [9, 254, 'tuppence did not even glance at him as she passed meekly out'], [10, 0, '  tuppence betrayed no awkwardness in her new duties'], [10, 3, 'tuppence had therefore very little fear of proving inefficient'], [10, 7, 'for the rest, she cooked like a _chef_, as tuppence had  an opportunity of judging that evening'], [10, 8, 'mrs. vandemeyer was expecting a  guest to dinner, and tuppence accordingly laid the beautifully polished  table for two'], [10, 13, 'at a few minutes past eight the front door bell rang, and tuppence went  to answer it with some inward trepidation'], [10, 16, 'tuppence announced him, and mrs.  vandemeyer rose from her seat on a low divan with a quick murmur of  pleasure'], [10, 20, 'tuppence returned to the kitchen'], [10, 28, '“you know something,” thought tuppence to herself, but aloud she only  said: “going to dish up now'], [10, 30, 'whilst waiting at table, tuppence listened closely to all that was said'], [10, 41, 'tuppence brought in the  coffee and liqueurs and unwillingly retired'], [10, 47, 'tuppence lingered a moment longer by the door which she had carefully  neglected to close, and heard him say:    “quite safe, i suppose'], [10, 54, 'tuppence removed herself speedily'], [10, 61, 'mrs. vandemeyer was sitting almost facing it, and  tuppence respected her mistress’s lynx-eyed powers of observation'], [10, 66, 'slipping quickly through the window, tuppence  crept noiselessly along till she reached the boudoir window'], [10, 68, 'tuppence listened attentively, but there was no mention of anything  that could be twisted to apply to tommy'], [10, 129, 'tuppence beat a hasty retreat'], [10, 141, '“what day do you usually go out, prudence'], [10, 156, 'tuppence felt a sensation of relief once she was out of the other’s  presence'], [10, 158, 'in the midst of a final desultory polishing of her silver, tuppence was  disturbed by the ringing of the front door bell, and went to answer it'], [10, 163, 'tuppence was undecided for the moment whether to put him down as an  actor or a lawyer, but her doubts were soon solved as he gave her his  name: sir james peel edgerton'], [10, 168, 'tuppence went back to her pantry thoughtfully'], [10, 172, 'in about a quarter of an hour the bell rang, and tuppence repaired to  the hall to show the visitor out'], [10, 177, 'tuppence raised her eyes, astonished'], [10, 181, '“did mrs. vandemeyer tell you that?” asked tuppence suspiciously'], [10, 188, '“do you mean----?” began tuppence'], [10, 193, 'tuppence went back to the pantry more thoughtful than ever'], [11, 0, '  dressed appropriately, tuppence duly sallied forth for her “afternoon  out'], [11, 1, 'albert was in temporary abeyance, but tuppence went herself to the  stationer’s to make quite sure that nothing had come for her'], [11, 8, 'tuppence’s spirits revived still more'], [11, 13, '“i beg  your pardon, miss tuppence'], [11, 14, 'those fools down at the office would have it  that beresford wasn’t here any longer--hadn’t been here since wednesday'], [11, 16, 'tuppence nodded'], [11, 29, '“waterloo?” frowned tuppence'], [11, 32, '“i haven’t seen him either,” replied tuppence impatiently'], [11, 39, '“oh!” said tuppence, her eyes opening'], [11, 43, 'beresford was there'], [11, 50, '“julius,” said tuppence firmly, “stop walking up and down'], [11, 129, '“oh, julius,” breathed tuppence, “how exciting'], [11, 150, '“i noticed you walked lame,” interpolated tuppence'], [11, 222, 'next thing i did was to write out a wire  to beresford saying where i was, and that i was laid up with a sprained  foot, and telling him to come down if he wasn’t busy'], [11, 226, 'say, miss  tuppence, you’re looking mighty pale'], [11, 227, '“it’s tommy,” said tuppence'], [11, 233, 'tuppence shook her head'], [11, 242, 'tuppence thereupon related the events of the last two days'], [11, 247, 'then  he added seriously: “but say now, i don’t like it, miss tuppence, i sure  don’t'], [11, 250, '“do you think i’m afraid?” said tuppence indignantly, valiantly  repressing memories of the steely glitter in mrs. vandemeyer’s eyes'], [11, 253, '“oh, bother _me!_” said tuppence impatiently'], [11, 259, '“what can we do?” asked tuppence, her spirits rising'], [11, 277, '“oh,” said tuppence faintly, “i _like_ rolls-royces, but----”    “sure,” agreed julius'], [11, 280, '“but you can’t at once,” cried tuppence'], [11, 285, 'tuppence got up'], [11, 298, '“i don’t quite know,” said tuppence meditatively'], [11, 301, '“i don’t know,” confessed tuppence'], [11, 307, '“well, i believe he could,” reiterated tuppence obstinately'], [11, 312, 'he took tuppence  by the arm, and walked her to the window'], [11, 314, '“oh!” said tuppence with a note of reverence in her voice, as she gazed  down at the enormous car'], [11, 316, '“how did you get it?” gasped tuppence'], [11, 322, '“well?” said tuppence, intoxicated'], [12, 1, 'tuppence had received a brief  answer to her appeal from mr. carter'], [12, 5, 'somehow, without tommy, all the savour went out  of the adventure, and, for the first time, tuppence felt doubtful of  success'], [12, 8, 'there was something so eminently  sober and clear-headed about him, his common sense and soundness of  vision were so unvarying, that without him tuppence felt much like a  rudderless ship'], [12, 16, 'many times in the day tuppence blinked the tears out of her eyes  resolutely'], [12, 23, 'tuppence gave herself over  to new meditations'], [12, 31, 'anyway, tuppence decided, with her usual shake of the shoulders, it was  worth trying, and try it she would'], [12, 34, 'when the day arrived julius needed a considerable amount of persuading,  but tuppence held firm'], [12, 38, 'tuppence felt a little  nervous'], [12, 47, 'the collection of books was a magnificent one, and tuppence  noticed that all one wall was devoted to works on crime and criminology'], [12, 52, 'ah”--he recognized tuppence with a  smile--“it’s you, is it'], [12, 54, '“not exactly,” said tuppence'], [12, 60, '“sir james,” said tuppence, plunging boldly, “i dare say you will think  it is most awful cheek of me coming here like this'], [12, 64, '“no, that’s julius,” explained tuppence'], [12, 77, '“of course,” said tuppence'], [12, 84, '“i see,” said tuppence thoughtfully'], [12, 93, 'thus encouraged tuppence plunged into her tale, and the lawyer listened  with close attention'], [12, 103, '“oh, sir james,” broke out tuppence, “what do you think has become of  tommy'], [12, 111, 'tuppence clasped her hands ecstatically'], [12, 113, 'now, don’t get offended, miss--er----”    “cowley'], [12, 114, 'prudence cowley'], [12, 115, 'but my friends call me tuppence'], [12, 116, '“well, miss tuppence, then, as i’m certainly going to be a friend'], [12, 120, 'tuppence clasped her hands'], [12, 133, '“this petty little business, as you call  it, bears directly on a very big business, bigger perhaps than either  you or miss tuppence know'], [12, 136, '“yes, but how?” cried tuppence'], [12, 140, '“who is that?” asked tuppence, puzzled'], [12, 145, '“how?” demanded tuppence, opening her eyes very wide'], [12, 148, 'he tapped with his finger on the table, and tuppence felt again the  intense power that radiated from the man'], [12, 172, '“but it’s all o.k. about julius,” put in tuppence'], [12, 181, 'he  turned to tuppence'], [12, 194, '“he’s got a new rolls-royce car,” said tuppence with vicarious pride'], [12, 199, 'tuppence rose to her feet with a skip of delight'], [12, 201, '“don’t build on it too much, miss tuppence'], [12, 209, 'now, miss tuppence, my advice to you is to go and  have a good dinner, a _really_ good one, mind'], [12, 212, '“isn’t he a duck?” inquired tuppence ecstatically, as she skipped down  the steps'], [12, 230, 'tuppence walked briskly along towards the serpentine, first glancing at  her watch'], [12, 239, 'what tuppence  had expected she hardly knew, but the sight of its red brick stolidity  slightly assuaged the growing and entirely unreasonable uneasiness  that possessed her'], [12, 241, 'tuppence frowned'], [12, 244, '“who’s going?” demanded tuppence sharply'], [12, 250, 'tuppence clutched his arm'], [12, 253, '“albert,” cried tuppence, “you’re a brick'], [12, 256, '“there’s no time to lose,” said tuppence, crossing the road'], [12, 274, 'drawing a long breath, tuppence entered the mansions and ran up to the  door of no'], [12, 280, 'tuppence pressed the bell firmly'], [12, 282, 'nothing happened and, after waiting some minutes, tuppence pressed the  bell again, keeping her finger on the button for some little while'], [12, 286, '“i had a touch of toothache, ma’am,” said tuppence glibly'], [12, 288, 'mrs. vandemeyer said nothing, but she drew back and let tuppence pass  into the hall'], [12, 295, 'suddenly tuppence felt afraid'], [12, 298, 'tuppence turned at bay'], [12, 308, 'there was a sort of hideous geniality in the last words which tuppence  did not at all like'], [12, 312, 'tuppence pulled herself together with an effort'], [12, 326, 'tuppence obeyed passively'], [12, 330, 'mrs. vandemeyer laid down the revolver on the edge of the washstand  within reach of her hand, and, still eyeing tuppence like a lynx in case  the girl should attempt to move, she took a little stoppered bottle from  its place on the marble and poured some of its contents into a glass  which she filled up with water'], [12, 331, '“what’s that?” asked tuppence sharply'], [12, 333, 'tuppence paled a little'], [12, 336, '“then i shan’t drink it,” said tuppence firmly'], [12, 350, 'in her heart of hearts tuppence believed her'], [12, 355, 'tuppence was quick in her mental processes'], [12, 367, 'but tuppence continued to cling and sob, interjecting her sobs with  incoherent appeals for mercy'], [12, 373, 'tuppence gave one last despairing moan'], [12, 380, 'tuppence raised a trembling left hand to the glass'], [12, 384, 'then, quick as a flash, tuppence jerked the glass upward as hard as she  could'], [12, 385, 'the fluid in it splashed into mrs. vandemeyer’s face, and during  her momentary gasp, tuppence’s right hand shot out and grasped the  revolver where it lay on the edge of the washstand'], [12, 387, 'in the moment of victory, tuppence betrayed a somewhat unsportsmanlike  triumph'], [12, 390, 'for a minute tuppence thought  she was going to spring upon her, which would have placed the girl in an  unpleasant dilemma, since she meant to draw the line at actually letting  off the revolver'], [12, 396, '“i’m surprised you should have been gulled so easily,” said tuppence  scornfully'], [12, 399, 'the cold malignity of her manner sent an unpleasant chill down  tuppence’s spine, but she was not going to give in to it'], [12, 408, 'tuppence eyed her thoughtfully for a minute'], [12, 414, 'keeping her eyes fixed steadily on the other’s face, tuppence replied  quietly:    “money----”    mrs. vandemeyer started'], [12, 422, 'but money”--tuppence warmed to her pet creed--“well,  there’s nothing unsatisfactory about money, is there'], [12, 424, '“yes,” said tuppence promptly'], [12, 427, '“no,” said tuppence'], [12, 432, 'in that moment tuppence knew that the fish was  hooked, and for the first time she felt a horror of her own money-loving  spirit'], [12, 434, '“a hundred thousand pounds,” repeated tuppence'], [12, 439, '“no,” admitted tuppence, “i haven’t--but i know some one who has'], [12, 451, 'tuppence went through a momentary struggle, but it was julius’s money,  and his interests must come first'], [12, 458, '“then”--tuppence’s voice shook a little--“there’s a boy, a friend of  mine'], [12, 461, '“tommy beresford'], [12, 466, 'tuppence felt a terrific rise in her spirits'], [12, 470, 'tuppence leaned forward and lowered her voice'], [12, 476, '“you do,” said tuppence quietly'], [12, 483, 'i was beautiful, you  see--very beautiful----”    “you are still,” said tuppence with admiration'], [12, 497, 'she clutched tuppence’s arm'], [12, 518, '“think of the hundred thousand pounds,” said tuppence soothingly'], [12, 523, 'her outstretched hand  pointed over tuppence’s head'], [12, 525, 'tuppence looked round to see what had startled her'], [13, 5, '“not there,” said tuppence over her shoulder'], [13, 8, 'between them sir james and tuppence lifted mrs. vandemeyer and carried  her to the bed'], [13, 14, 'while tuppence lifted her head  the lawyer tried to force a little of the spirit between her closed  lips'], [13, 16, 'tuppence held the glass  to her lips'], [13, 30, 'tuppence related how mrs. vandemeyer had declared herself willing  to disclose the identity of mr. brown, and how she had consented to  discover and reveal to them the whereabouts of jane finn'], [13, 32, '“that’s all right, miss tuppence'], [13, 37, 'there was certainly a good deal of common sense in this, and tuppence  felt a little comforted'], [13, 44, '“well,” said tuppence, with an attempt at cheerfulness, “we must wait  until the morning, that’s all'], [13, 58, '“miss tuppence is right,” said sir james quietly'], [13, 69, 'i would suggest that miss tuppence should  go to bed, and that you and i, mr. hersheimmer, should share the vigil'], [13, 70, 'tuppence was about to protest, but happening to glance at the bed she  saw mrs. vandemeyer, her eyes half-open, with such an expression of  mingled fear and malevolence on her face that it quite froze the words  on her lips'], [13, 78, '“perfectly satisfactory,” he said in a low voice to tuppence'], [13, 84, 'tuppence bent over her'], [13, 87, 'tuppence bent lower still'], [13, 95, 'but her words had awakened a new uneasiness in  tuppence'], [13, 97, 'tuppence  caught herself nervously looking over her shoulder'], [13, 100, 'half-ashamed of herself, tuppence pulled it open  and looked inside'], [13, 104, 'tuppence gave her familiar shake of the shoulders'], [13, 109, '“lock the door on the outside, please, miss tuppence, and take out the  key'], [13, 111, 'the gravity of his manner impressed them, and tuppence felt less ashamed  of her attack of “nerves'], [13, 112, '“say,” remarked julius suddenly, “there’s tuppence’s bright boy'], [13, 114, 'that’s some lad, tuppence'], [13, 115, '“how did you get in, by the way?” asked tuppence suddenly'], [13, 125, '“now then, miss tuppence,” said sir james, “you know this place better  than i do'], [13, 127, 'tuppence considered for a moment or two'], [13, 131, 'tuppence shook her head resolutely'], [13, 139, 'having in his turn failed to  persuade tuppence to go to bed, he said decisively:    “at any rate, you’ve got to have something to eat right away'], [13, 141, 'tuppence directed him, and he returned in a few minutes with a cold pie  and three plates'], [13, 144, '“and now, miss tuppence,” said sir james, “we want to hear your  adventures'], [13, 146, 'tuppence narrated her adventures with some complacence'], [13, 148, 'sir james said nothing  until she had finished, when his quiet “well done, miss tuppence,” made  her flush with pleasure'], [13, 151, '“i don’t know,” confessed tuppence'], [13, 182, '“perhaps the doctor’s in it too,” suggested tuppence'], [13, 189, '“why?” demanded tuppence'], [13, 200, '“how could you think of anything after falling out of that tree?” cried  tuppence'], [13, 204, '“yes,” said tuppence, but there was a lack of assurance in her voice'], [13, 208, 'suddenly tuppence  sprang up with a cry'], [13, 212, '“sure, tuppence, how could he be'], [13, 217, 'she looked appealingly at sir james, who replied gravely:    “with due deference to your feelings, miss tuppence (and mine as well  for that matter), i do not see how it is humanly possible for anyone to  be in the flat without our knowledge'], [13, 223, '“do you believe in spiritualism?” asked tuppence, opening her eyes wide'], [13, 231, 'tuppence’s spirits revived to the normal'], [13, 238, 'at seven o’clock tuppence volunteered to go and make some tea'], [13, 244, '“yes, it does,” admitted tuppence'], [13, 255, 'tuppence drew a long breath and entered'], [13, 260, 'tuppence put down the cup on the table  by the bed and went across to draw up the blinds'], [13, 262, 'with a sudden fear clutching  at her heart, tuppence ran to the bed'], [13, 279, '“we must find out,” he said quietly, and  tuppence felt that if she was mr. brown she would not like the tone of  those simple words'], [13, 282, '“do you think----”    tuppence shook her head'], [13, 292, '“there’s that,” said tuppence suddenly, pointing to a small,  old-fashioned safe let into the wall'], [13, 296, '“well,” said tuppence impatiently'], [13, 304, 'tuppence remembered the glass she had upset'], [14, 0, '  nothing was more surprising and bewildering to tuppence than the ease  and simplicity with which everything was arranged, owing to sir james’s  skilful handling'], [14, 20, 'it was arranged that tuppence and julius should return to the _ritz_,  and call for sir james in the car'], [14, 25, '“let me introduce you to miss cowley'], [15, 18, 'tuppence shook her head'], [15, 38, '“how maddening,” cried tuppence'], [15, 41, '“you couldn’t know,” tuppence consoled him'], [15, 46, '“the great thing is what to do next,” added tuppence the practical'], [15, 51, '“nothing?” said tuppence blankly'], [15, 59, 'sir  james took tuppence’s hand'], [15, 62, 'tuppence stared at him blankly'], [15, 73, 'his words gave tuppence an extraordinarily desolate feeling'], [15, 79, '“don’t be too disconsolate, miss tuppence,” he said in a low voice'], [15, 82, 'something in his tone made tuppence glance up sharply'], [15, 91, 'tuppence stared after him'], [15, 99, 'tuppence opened her mouth impulsively, and then shut it again'], [15, 112, 'the keen rush through the air brought a new exhilaration to  tuppence'], [15, 113, '“say, miss tuppence, do you think i’m ever going to find jane'], [15, 115, 'the mood was so alien to him that  tuppence turned and stared at him in surprise'], [15, 121, 'tuppence felt rather uncomfortable, but clinging to her belief that  julius also had withheld something from her, she remained firm'], [15, 126, '“oh no!” cried tuppence'], [15, 128, '“i sure forgot beresford,” said julius contritely'], [15, 133, 'say, miss tuppence, there’s something i’d like to ask you'], [15, 135, '“you and beresford'], [15, 137, '“i don’t understand you,” replied tuppence with dignity, adding rather  inconsequently: “and, anyway, you’re wrong'], [15, 139, '“certainly not,” said tuppence with warmth'], [15, 142, '“nonsense!” snapped tuppence'], [15, 146, '“oh!” said tuppence, rather taken aback'], [15, 150, 'supposing we never find beresford  and--and----”    “all right--say it'], [15, 156, '“i don’t know,” said tuppence forlornly'], [15, 158, '“i shall be all right,” snapped tuppence with her usual resentment of  any kind of pity'], [15, 161, '“i intend to marry, of course,” replied tuppence'], [15, 167, '“figure?” asked tuppence, puzzled'], [15, 181, 'i  admire you immensely, miss tuppence, more than any girl i’ve ever met'], [15, 185, '“i can’t,” gasped tuppence'], [15, 186, '“because of beresford'], [15, 188, 'tuppence merely continued to shake her head violently'], [15, 190, '“oh, it isn’t that,” gasped tuppence with an almost hysterical laugh'], [15, 195, '“very well,” said tuppence meekly'], [15, 197, 'tuppence went upstairs to her room'], [15, 200, '“fool,” murmured tuppence at length, making a grimace'], [15, 211, 'at the end of five minutes tuppence sat up, blew her nose, and pushed  back her hair'], [15, 223, 'tuppence shook her head sadly, as she reviewed her backsliding'], [15, 227, 'i wonder if he did find anything in that  safe----”    tuppence’s meditations went off on another tack'], [15, 243, 'tuppence took it from the salver, and tore it open carelessly'], [16, 46, 'tommy beresford was one  of those young englishmen not distinguished by any special intellectual  ability, but who are emphatically at their best in what is known as a  “tight place'], [16, 99, 'his only  regret was that tuppence was not present to appreciate its full flavour'], [17, 209, 'he decided that tuppence, in the throes of  anxiety, had gone to the police, and that his disappearance having been  made public the gang had not been slow to put two and two together'], [17, 485, 'come on, beresford, we’ll go and have a look at this house of  yours'], [17, 506, '“by the way,” observed mr. carter, “have you shown yourself to miss  tuppence yet'], [17, 508, '“tuppence'], [17, 522, 'but i think i’d better get back and rout out  tuppence'], [17, 531, 'hailing a taxi briskly tommy stepped in, and was swiftly borne to the  _ritz_, dwelling the while on the pleasurable anticipation of startling  tuppence'], [17, 539, 'he was informed that miss  cowley had gone out a quarter of an hour ago'], [18, 14, '“tuppence'], [18, 17, 'where  is tuppence, by the way'], [18, 39, 'beginning with his  unsuccessful reconnoitring at bournemouth, he passed on to his return  to london, the buying of the car, the growing anxieties of tuppence,  the call upon sir james, and the sensational occurrences of the previous  night'], [18, 67, 'but i guess tuppence and i and even the  highbrow sir james have all got the same idea'], [18, 83, 'i wish  we could get hold of tuppence'], [18, 85, 'inquiry at the office revealed the fact that tuppence had not yet  returned'], [18, 119, '“i say, hersheimmer”--tommy turned to him--“tuppence has gone off  sleuthing on her own'], [18, 134, 'i asked miss  tuppence to marry me this morning'], [18, 139, '“i’d like to tell you,” continued julius, “that before i suggested  anything of the kind to miss tuppence, i made it clear that i didn’t  want to butt in in any way between her and you----”    tommy roused himself'], [18, 141, '“tuppence and i have been pals for  years'], [18, 145, 'tuppence always said that she was  looking out for----”    he stopped abruptly, his face crimsoning, but julius was in no way  discomposed'], [18, 147, 'miss tuppence  put me wise to that right away'], [18, 151, 'tuppence and julius'], [18, 162, 'tuppence was  utterly cold-blooded and selfish, and he would be delighted if he never  saw her again'], [18, 179, 'the note, in tuppence’s well-known schoolboy writing, ran as follows:    “dear julius,    “it’s always better to have things in black and white'], [18, 182, '“yours affectionately,    “tuppence'], [18, 185, 'he now felt that tuppence was all that was noble and  disinterested'], [18, 189, 'darling  tuppence, there was not a girl in the world to touch her'], [18, 204, 'tuppence had left the key in her door'], [18, 259, '“besides,” added tommy, as an afterthought, “i’ve great faith in  tuppence'], [18, 274, 'he described tuppence as well as he could, but the porter shook his  head'], [18, 299, 'was it indeed to this desolate spot  that tuppence had been decoyed'], [18, 359, '“i don’t believe tuppence was ever in this  house'], [18, 368, '“that’s tuppence’s'], [18, 379, 'nobody answering to tuppence’s  description had been seen in the vicinity'], [18, 382, 'tuppence had certainly  not remained long in the neighbourhood of the moat house'], [18, 394, 'his apologies were as thorough as his  methods, and seldom failed in disarming the indignation of his victims;  but, as day succeeded day, they were no nearer to discovering tuppence’s  whereabouts'], [18, 399, 'we’re no nearer to finding  tuppence, _and next sunday is the_ 29_th!_”    “shucks!” said julius thoughtfully'], [18, 401, 'i’ve been thinking of nothing but tuppence'], [18, 403, 'at least, i hadn’t forgotten about the 29th, but it didn’t  seem to matter a damn in comparison to finding tuppence'], [18, 447, 'is tuppence found'], [19, 17, '“i am delighted to make your acquaintance, mr. beresford'], [19, 18, 'i have heard  so much about you from miss tuppence”--he smiled involuntarily--“that it  really seems as though i already know you quite well'], [19, 21, 'like tuppence, he felt the magnetism of the  other’s personality'], [19, 42, 'miss tuppence and i  thought you’d quit for good and all'], [19, 93, '“i must confess, mr.  beresford, that it was something of a surprise to me to see you here  this evening'], [19, 95, 'nothing had been heard of you for  some days, and miss tuppence was inclined to think you had got into  difficulties'], [19, 140, '“i forgot that you didn’t know about tuppence,” he said slowly'], [19, 143, '“has anything happened to miss tuppence'], [19, 155, 'their  kidnapping of miss tuppence is the counter-move to your escape'], [19, 189, 'afterwards, we’ll set to work to rescue miss  tuppence from bondage'], [19, 199, '“mr. hersheimmer--mr. beresford--dr. roylance'], [19, 216, 'if only tuppence could have been at his side to share in the triumphant  conclusion of their joint venture'], [19, 217, 'then he put the thought of tuppence  resolutely aside'], [19, 219, 'there was  a man who would unerringly ferret out tuppence’s whereabouts'], [19, 263, '“mr. beresford is commissioned by the british government to get those  papers back'], [21, 74, '“tuppence----?” faltered tommy'], [21, 81, '“_tuppence!_ those devils--i’ll never rest till  i’ve got even with them'], [21, 90, '“forget tuppence'], [21, 105, 'what fun they had  had together, he and tuppence'], [21, 107, '_tuppence--dead!_ little tuppence, brimming over with  life'], [21, 117, 'they seem to have got some fool idea about  tuppence'], [21, 123, '“little tuppence'], [21, 134, 'i can’t stand your coming here and talking about  ‘little tuppence'], [21, 136, 'tuppence is my girl'], [21, 176, 'tuppence must be avenged'], [22, 19, 'you see, i’ve figured it out that those things of  tuppence’s are a plant too, and she’s no more drowned than i am'], [22, 23, 'i must try and get hold of  tuppence before jane escapes'], [22, 24, '“i want a repeat of that telegram that was sent to tuppence at the  _ritz_'], [22, 28, '“yours, etc.,    “thomas beresford'], [22, 85, 'but there’s  no doubt he can throw light on one or two obscure points in young  beresford’s letter'], [22, 90, '“we’ve had a letter from young beresford,” said mr. carter, coming to  the point at once'], [22, 100, 'then he reminded  me of something i had said to him at manchester respecting that bogus  telegram which lured miss cowley away'], [22, 118, 'young beresford saw that for himself without my having to tell it  him'], [22, 119, 'but he felt he couldn’t trust his judgment on the subject of  miss cowley'], [22, 125, 'it  had occurred to me as probable that, after miss cowley flung it on the  floor, certain words might have been erased and altered with the express  intention of setting searchers on a false trail'], [22, 133, '“the page-boy’s statement that miss cowley drove to charing cross'], [22, 135, '“then young beresford is now'], [22, 163, '“yours,    “tommy beresford'], [23, 1, 'he found albert discharging his professional  duties, and introduced himself without more ado as a friend of  tuppence’s'], [23, 43, 'he inquired  carefully if there was a young lady amongst them, describing tuppence'], [23, 105, 'tuppence was in that house'], [23, 110, 'it had been a favourite on the gramophone in tuppence’s hospital days'], [23, 151, 'hence the usefulness of that  promising youth, mr. t. beresford, who’s blundered in just at the right  moment for them'], [23, 152, 'but later, mr. t. beresford had better look out'], [23, 164, 'the handwriting was tuppence’s'], [24, 252, '“have you hit him?” cried tuppence eagerly'], [24, 256, 'are you all right, tuppence'], [24, 267, 'who’s this, did you say, tuppence'], [24, 271, '“but what made them let us go?” demanded tuppence suspiciously'], [24, 300, '“annette and i didn’t know what was going to happen to us,” said  tuppence'], [24, 306, '“it’s her name,” said tuppence, opening her eyes very wide'], [24, 310, '“what?” cried tuppence'], [24, 371, '“you’re crazed, beresford'], [24, 375, 'tommy turned to tuppence'], [24, 376, '“get out at once, tuppence'], [24, 389, 'tuppence sprang out, dragging the unwilling jane after her'], [25, 0, '  her arm through jane’s, dragging her along, tuppence reached the  station'], [25, 4, 'tuppence opened the door of an empty first-class compartment, and the  two girls sank down breathless on the padded seats'], [25, 8, 'she looked questioningly at  tuppence'], [25, 10, 'tuppence shook her head'], [25, 30, 'tuppence went to the window, and lifting the  strap let the pane down'], [25, 35, '“_don’t!_” implored tuppence'], [25, 40, '“no,” said tuppence, rather embarrassed'], [25, 44, '“i _was_ thinking of something,” confessed tuppence'], [25, 54, 'tuppence, for her part, sat bolt upright--much in the attitude of a  watchful terrier on guard'], [25, 66, 'tuppence mapped out her plan of  campaign'], [25, 75, '“king’s cross,” directed tuppence'], [25, 84, 'this was  what tuppence had been waiting for'], [25, 89, '“there,” said tuppence, with great satisfaction, “this ought to do them'], [25, 96, 'in a flash tuppence was out on the pavement'], [25, 98, 'before he arrived tuppence had handed the driver five  shillings, and she and jane had merged themselves in the crowd'], [25, 99, '“it’s only a step or two now,” said tuppence breathlessly'], [25, 105, '“it may be my fancy,” said tuppence suddenly, “but i feel as though  there was some one behind us'], [25, 112, '“let us pass, please,” said tuppence imperiously'], [25, 115, 'tuppence heard other footsteps  behind'], [25, 120, 'tuppence and jane took to their heels'], [25, 124, 'tuppence seized the bell and jane the knocker'], [25, 139, 'sir james looked at tuppence quizzically'], [25, 140, '“so you’re not dead, miss tuppence, any more than that tommy boy of  yours was'], [25, 141, '“the young adventurers take a lot of killing,” boasted tuppence'], [25, 258, '“yes--it was the place in soho where mr. beresford was imprisoned'], [25, 344, '“they sent me in to wait on mr. beresford'], [25, 358, 'i knew the others would think i meant  mrs. vandemeyer, but i hoped it might make mr. beresford think of the  picture'], [25, 367, '“to-night?” queried tuppence, surprised'], [25, 376, 'tuppence flushed, then opened her mouth impulsively'], [25, 380, '“no hesitations, miss tuppence'], [25, 382, 'but tuppence, for once, seemed tongue-tied'], [25, 391, '“at last?” queried tuppence doubtfully'], [25, 393, '“you thought correctly, miss tuppence'], [25, 395, '“ah!” breathed tuppence'], [25, 400, 'only three  people touched that brandy--you, miss tuppence, i myself, and one  other--mr. julius hersheimmer'], [25, 412, 'mr. beresford rang me up and told me, what i had already suspected,  that the photograph of miss jane finn had never really been out of mr.  hersheimmer’s possession----”    but the girl interrupted'], [26, 3, 'tuppence read it over  her shoulder'], [26, 6, '“as i was saying to miss tuppence,” resumed the lawyer, “i set to work  to prove the impossible possible'], [26, 21, 'but for miss tuppence’s fortunate change of plan, she  would have been far away from the flat when we arrived there'], [26, 29, 'but ask miss tuppence if she also has not had her  suspicions'], [26, 30, 'jane turned mutely to tuppence'], [26, 36, 'tuppence recounted to sir james the exciting events of the evening,  ending up: “but i can’t see _why!_”    “can’t you'], [26, 38, 'so can young beresford, by his actions'], [26, 40, 'they’re not averse to young beresford’s being in the neighbourhood, and,  if necessary, communicating with you'], [26, 52, '“tommy,” said tuppence softly'], [26, 59, 'tuppence paled a little'], [26, 62, 'if beresford has still  got the upper hand, there’s nothing to fear'], [26, 66, 'i know better than even to suggest going without you,  miss tuppence----”    “i should think so indeed'], [26, 69, 'but to tuppence’s surprise jane shook her head'], [26, 76, 'during the short drive tuppence’s  heart beat tumultuously'], [26, 88, 'they had also  had orders respecting tuppence'], [26, 93, 'tuppence had  heard the story from jane in her character of “annette'], [26, 101, 'no place for anyone to hide  here, thought tuppence, with a sigh of relief, then chided herself  indignantly'], [26, 118, '“we’ve got it,” said tuppence'], [26, 125, '“we’ve succeeded,” said tuppence'], [26, 132, 'tuppence shivered'], [26, 140, '“quite right, miss tuppence'], [26, 148, 'yes”--as  tuppence made a movement--“not a doubt of it-- _mr. brown is here_...'], [26, 161, 'his smile grew  wider as he looked at tuppence'], [27, 7, 'the american ambassador, mr. carter, who had taken  the liberty, he said, of bringing an old friend, sir william beresford,  with him, archdeacon cowley, dr. hall, those two youthful adventurers,  miss prudence cowley and mr. thomas beresford, and last, but not least,  as guest of honour, miss jane finn'], [27, 9, 'a  mysterious knock had brought tuppence to the door of the apartment she  was sharing with the american girl'], [27, 12, '“say, tuppence,” he began, “will you do me a good turn'], [27, 18, '“sure thing,” mimicked tuppence'], [27, 23, 'his fervour brought a momentary twinkle to tuppence’s eye'], [27, 27, '“you know--when you asked me to--marry you,” faltered tuppence, her  eyes downcast in the true manner of the early victorian heroine, “and  wouldn’t take no for an answer'], [27, 30, 'tuppence relented suddenly'], [27, 35, 'i had--and still have--the highest sentiments of esteem and  respect--and admiration for you----”    “h’m!” said tuppence'], [27, 39, '“shucks!” retorted tuppence'], [27, 41, '“what was it?” asked jane as tuppence rejoined her'], [27, 81, 'tommy introduced tuppence'], [27, 84, '“yes, they are,” said tuppence'], [27, 88, '“that’s it,” said tuppence'], [27, 92, 'tuppence’s pertness delighted the old misogynist'], [27, 94, 'but tuppence behaved admirably'], [27, 98, '“tuppence, will you----”    he indicated the place of honour with a wave of his hand'], [27, 99, 'but tuppence shook her head'], [27, 104, 'tuppence had performed her  part faithfully'], [27, 111, 'the idea of both you and tuppence  casting me for the part of mr. brown just tickles me to death'], [27, 118, '“i never suspected it at all,” lamented tuppence'], [27, 139, 'the way he helped me to get on the  track of tuppence and annette almost disarmed me, but not quite'], [27, 141, 'and then i got a bogus note from  tuppence--and i knew'], [27, 153, 'i threatened julius with the  revolver, because i wanted tuppence to repeat that to sir james, so that  he wouldn’t worry about us'], [27, 163, '“where?” cried tuppence'], [27, 165, '“i knew you found something,” said tuppence reproachfully'], [27, 170, '“we all kept back something or other,” said tuppence thoughtfully'], [27, 173, '“beresford has just said that i would not have believed sir james peel  edgerton to be guilty unless, so to speak, he was caught in the act'], [27, 307, 'we’ll  ask miss jane finn to tell us the story that only miss tuppence has  heard so far--but before we do so we’ll drink her health'], [28, 35, 'you and tuppence have been sticking together  like siamese twins'], [28, 36, 'i guess another day of it would have driven me and  beresford stark staring mad'], [28, 43, '“from all the things tuppence didn’t say'], [28, 51, 'tuppence could think of nothing to say'], [28, 54, 'at last tuppence made a desperate effort'], [28, 58, '“i like julius,” essayed tuppence again'], [28, 62, '“oh!” said tuppence meekly'], [28, 72, '“but i suppose you prefer sterling worth,” said tuppence demurely'], [28, 73, '“i--oh, dash it all, tuppence, you know'], [28, 74, '“i like your uncle, tommy,” said tuppence, hastily creating a diversion'], [28, 80, 'tuppence stole a glance at him sideways'], [28, 86, '“yes,” said tuppence triumphantly'], [28, 88, '“tuppence, you are the limit'], [28, 91, '“you’re insatiable, tuppence'], [28, 93, '“well, shopping is almost as good,” said tuppence dreamily'], [28, 104, 'tuppence raised her face to his'], [28, 106, '“you haven’t really proposed now,” pointed out tuppence'], [28, 110, '“what fun it will be,” responded tuppence']]\n",
            "perp_occur =  [[10, 73, '“in the meantime, you are going about everywhere with peel edgerton'], [10, 83, 'be guided by me,  and give up peel edgerton'], [10, 97, 'they say peel edgerton can _smell_ a criminal'], [10, 104, 'i assure you that is all that interests peel edgerton'], [10, 163, 'tuppence was undecided for the moment whether to put him down as an  actor or a lawyer, but her doubts were soon solved as he gave her his  name: sir james peel edgerton'], [10, 171, 'peel edgerton would not  be an easy man to deceive'], [11, 295, 'and she narrated her encounter with sir james peel edgerton'], [12, 24, 'whilst admitting the truth of julius’s objections,  she had nevertheless not entirely relinquished the idea of appealing to  sir james peel edgerton'], [12, 56, 'oh, by the way, this is mr. hersheimmer,  sir james peel edgerton'], [12, 265, 'if you can’t get him,  ring up sir james peel edgerton, you’ll find his number in the book, and  tell him what’s happening'], [12, 526, 'in the doorway were sir james peel edgerton and julius hersheimmer'], [18, 454, 'come manchester midland hotel immediately--peel  edgerton'], [19, 264, 'sir james peel edgerton is an english member of parliament,  and might be a big gun in the cabinet if he liked'], [21, 26, '“i wish that chap peel edgerton had been with us,” said tommy  thoughtfully'], [21, 110, 'they brought him a note, a few kind words of sympathy from peel  edgerton, who had read the news in the paper'], [22, 25, 'sir james peel edgerton said you would be able to manage that  for me'], [22, 61, '“peel edgerton'], [22, 62, '“peel edgerton?” said the prime minister in astonishment'], [22, 67, 'i’ve always felt  that if anyone was to run mr. brown to earth, peel edgerton would be the  man'], [22, 138, '“i rather wonder you’re not there too, peel edgerton'], [24, 381, 'go  straight to sir james peel edgerton'], [25, 61, 'if they once reached sir james peel edgerton in safety, all would be  well'], [26, 166, 'so  no one will think of searching the pockets of sir james peel edgerton'], [27, 52, 'in the sunday papers a brief notice of the sudden death of sir  james peel edgerton, the famous k.c., had appeared'], [27, 173, '“beresford has just said that i would not have believed sir james peel  edgerton to be guilty unless, so to speak, he was caught in the act']]\n",
            "co =  [[10, 163, 'tuppence was undecided for the moment whether to put him down as an  actor or a lawyer, but her doubts were soon solved as he gave her his  name: sir james peel edgerton'], [27, 173, '“beresford has just said that i would not have believed sir james peel  edgerton to be guilty unless, so to speak, he was caught in the act']]\n",
            "crime =  [[19, 155, 'their  kidnapping of miss tuppence is the counter-move to your escape']]\n",
            "sus_occur =  [[4, 196, 'he is always  spoken of by the unassuming title of ‘mr. brown'], [4, 209, 'but afterwards we always find that there has been some  nonentity, a servant or a clerk, who has remained in the background  unnoticed, and that the elusive mr. brown has escaped us once more'], [4, 223, '“that is the invariable description of mr. brown'], [4, 229, 'that ‘message’ was mr. brown’s way of giving an order to his  subordinate'], [4, 233, '“yes, undoubtedly the hand of mr. brown'], [6, 3, 'once again “mr. brown” had triumphed'], [6, 4, 'the immediate result of this set-back was to effect a _rapprochement_  between julius hersheimmer and the young adventurers'], [6, 164, 'remember  that if mr. brown is all he is reported to be, it’s a wonder that he has  not ere now done us to death'], [6, 168, 'but it  certainly is queer that mr. brown has not yet wreaked vengeance upon us'], [7, 45, 'they were uttered by boris and they were: “mr. brown'], [7, 64, 'we look at each other--  _one of us is mr. brown_--which'], [7, 97, 'he rang up the _ritz_  and asked for julius hersheimmer'], [7, 174, '“mr. brown?” he said'], [8, 9, 'to come to the house and  ask for “mr. brown” appeared indeed to be a reasonable and natural  proceeding'], [8, 18, 'he thought things over in his usual  slow and steady way, deciding that the mention of “mr. brown” was not a  request for an individual, but in all probability a password used by  the gang'], [8, 51, 'certainly mr. brown’s  organization was a far-reaching concern'], [8, 179, 'there was a pause, and then the clear voice of the german broke the  silence:    “i am directed by--mr. brown, to place the summaries of the reports  from the different unions before you'], [10, 50, 'and nobody even dreams  that i have any connection with our--mutual friend, mr. brown'], [10, 92, 'i take my  orders only from--mr. brown'], [12, 413, 'would rita  vandemeyer prove to be the weak spot in the armour of mr. brown'], [12, 471, '_“who is mr. brown?”_    her quick eyes saw the sudden paling of the beautiful face'], [12, 475, '“you can’t have learnt much about us if you don’t know that _nobody  knows who mr. brown is_...'], [12, 526, 'in the doorway were sir james peel edgerton and julius hersheimmer'], [13, 30, 'tuppence related how mrs. vandemeyer had declared herself willing  to disclose the identity of mr. brown, and how she had consented to  discover and reveal to them the whereabouts of jane finn'], [13, 52, 'she seemed very frightened of ‘mr. brown'], [13, 96, 'what had she meant by that low murmur: “mr. brown'], [13, 133, 'i should dream of mr. brown all  night'], [13, 156, '“mr. brown, i suppose,” said julius scoffingly'], [13, 210, 'i know mr. brown’s somewhere in the flat'], [13, 275, 'and yet--she is  on the point of betraying mr. brown, and--she dies'], [13, 279, '“we must find out,” he said quietly, and  tuppence felt that if she was mr. brown she would not like the tone of  those simple words'], [13, 287, '“mr. brown’s methods are not so crude'], [16, 248, '“mr. brown----”    “shall i see him'], [16, 264, 'the latter brought tommy’s mind  back to mr. brown again'], [16, 272, '“anyway,” said tommy, trying to cheer himself, “i shall see the  chief--the mysterious mr. brown and with a bit of luck in bluffing i  shall see the mysterious jane finn also'], [17, 166, 'he gathered from conrad  that they were waiting for orders from “mr. brown'], [17, 192, 'somehow  or other the omnipotent mr. brown had seen through his pretensions'], [17, 208, 'he was engaged in wondering how mr. brown had  discovered his identity'], [18, 68, '“mr. brown?” hazarded tommy'], [18, 71, '“all the same,” he said thoughtfully, “mr. brown hasn’t got wings'], [18, 80, 'i yearn for a real mr. brown of flesh and blood'], [18, 228, 'but with julius hersheimmer about,  hustling was inevitable'], [18, 282, 'three hours was  more than enough for mr. brown'], [19, 168, '“that almighty omniscient mr. brown, of course'], [19, 170, '“you don’t believe in mr. brown, mr. hersheimmer'], [19, 178, '“mr. brown exists'], [19, 224, 'stricken down  by the hand of mr. brown'], [20, 24, '“you think mr. brown might come along and take a hand'], [20, 31, 'there’s nobody to put mr. brown  wise'], [20, 33, '“there was nobody to put mr. brown wise to the fact that mrs. vandemeyer  meant to betray him'], [20, 115, 'it  seemed to remove the menace of mr. brown farther away'], [21, 1, 'somehow, inexplicably, mr. brown had forestalled them'], [21, 51, '“you mean that the treaty----”    “is in the hands of mr. brown, sir'], [21, 174, 'beyond a fixed  determination to get even with mr. brown he had no plans'], [21, 195, 'what on earth was a photograph of the french girl annette doing in  julius hersheimmer’s writing-table'], [22, 67, 'i’ve always felt  that if anyone was to run mr. brown to earth, peel edgerton would be the  man'], [22, 159, 'two days later julius hersheimmer returned from manchester'], [23, 86, 'with the fatal document in the hands of mr. brown,  public opinion would swing to the side of the labour extremists and  revolutionists'], [23, 90, 'with mr. brown unmasked and captured he  believed, rightly or wrongly, that the whole organization would crumble  ignominiously and instantaneously'], [24, 81, 'mr. brown'], [24, 110, 'little willie here is a dead cert, and if i was you i’d take a sporting  chance with mr. brown'], [24, 122, '“i’m going to count five,” continued julius, “and i guess, if you let me  get past four, you needn’t worry any about mr. brown'], [24, 348, 'i’m your cousin--julius hersheimmer'], [24, 398, 'i want a few words with you, mr. julius hersheimmer'], [25, 63, 'would not the silent forces of mr. brown  already be assembling against them'], [25, 369, '“besides, by  going to-night we have the chance of capturing that great man and  super-criminal--mr. brown'], [25, 371, 'when we leave the house  we shall be followed again, but not molested, _for it is mr. brown’s  plan that we are to lead him_'], [25, 374, 'when we  enter that house, mr. brown will not draw back--he will risk all, on the  chance of obtaining the spark to fire his mine'], [25, 388, '_you_ know who mr. brown is, don’t you'], [25, 400, 'only three  people touched that brandy--you, miss tuppence, i myself, and one  other--mr. julius hersheimmer'], [25, 404, 'it  seemed utterly impossible that he and mr. brown could be one and the  same'], [25, 415, 'that mr. brown is  _julius?_ julius--my own cousin'], [25, 418, 'the man  who calls himself julius hersheimmer is no relation to you whatsoever'], [26, 7, 'the great stumbling-block was the  undeniable fact that julius hersheimmer was not an assumed name'], [26, 9, 'julius hersheimmer set  out to discover what had become of his cousin'], [26, 13, 'mr. brown took his place'], [26, 27, '“the real julius hersheimmer _was_ a splendid fellow'], [26, 28, 'and mr. brown is  a consummate actor'], [26, 35, '“was it julius hersheimmer who helped you to escape'], [26, 42, 'then julius hersheimmer dashes up and  rescues you in true melodramatic style'], [26, 57, '“because julius hersheimmer is mr. brown,” said sir james dryly'], [26, 58, '“and it  takes more than one man and a revolver to hold up mr. brown...'], [26, 97, 'supposing mr. brown--julius--was there waiting...'], [26, 102, 'she must not give way to this foolish fancying--this  curious insistent feeling that _mr. brown was in the house_...'], [26, 148, 'yes”--as  tuppence made a movement--“not a doubt of it-- _mr. brown is here_...'], [26, 152, '_i am mr. brown_...'], [26, 163, 'sooner  or later the police will break in, and they will find three victims of  mr. brown--three, not two, you understand, but fortunately the third  will not be dead, only wounded, and will be able to describe the attack  with a wealth of detail'], [26, 165, 'it is in the hands of mr. brown'], [27, 0, '  the supper party given by mr. julius hersheimmer to a few friends on the  evening of the 30th will long be remembered in catering circles'], [27, 111, 'the idea of both you and tuppence  casting me for the part of mr. brown just tickles me to death'], [27, 136, 'i left a note  for julius, in case he was mr. brown, saying i was off to the argentine,  and i dropped sir james’s letter with the offer of the job by the desk  so that he would see it was a genuine stunt'], [27, 149, 'when julius  came bursting up in his car, i felt it wasn’t part of mr. brown’s  plan--and that there would probably be trouble'], [27, 236, 'i called myself mr. brown']]\n"
          ]
        }
      ]
    },
    {
      "cell_type": "code",
      "metadata": {
        "id": "br9fgnQ-ZczA"
      },
      "source": [
        "#Dev Notes: will refactor fetch() to generate dict of titles and indices rather than take in index\n",
        "# I.e., fetch() is backwards. should assign index based on title while fetching url\n",
        "\n",
        "\n",
        "#artifacts I've spotted in data:\n",
        "# I noticed and \"[Illustration]\" artifact in the mysterious affair at style.\n",
        "\n",
        "#possible start for sentence splitting regex\n",
        "#sentence_regex = r'([\\.\\?!][\\'\\\"\\u2018\\u2019\\u201c\\u201d\\)\\]]*\\s*(?<!\\w\\.\\w.)(?<![A-Z][a-z][a-z]\\.)(?<![A-Z][a-z]\\.)(?<![A-Z]\\.)\\s+)\n",
        "\n",
        "# V: do we need to clean up contractions to be spelled out? e.g., \"I'm\" to \"I am\", \"don't\" to \"do not\".\n",
        "#  "
      ],
      "execution_count": null,
      "outputs": []
    },
    {
      "cell_type": "markdown",
      "metadata": {
        "id": "3ovkF0EC1VdA"
      },
      "source": [
        "#Data Cleaning\n",
        "\n",
        "## Background Research\n",
        "\n",
        "\n",
        "- There are inconsistencies between the novel formats. Some of them start with a prologue and others dont. \n",
        "- There is START OF THE PROJECT present in the beginning of most but not all books, others have 'START OF THIS PROJECT', but   table of contents appear after that.\n",
        "- Some of them have the word table of contents, others say contents\n",
        "- some follow roman numeral in naming chapters, others dont\n",
        "- Some use the word 'chapter' , others just kist chapter titles followed by a number\n",
        "- Novel text files have license and other info at the end\n",
        "\n",
        "These factors above will need to be considered in data cleaning. \n",
        "\n",
        "Listing a few key particulars below: \n",
        "\n",
        "- The Mysterious Affair at Styles \n",
        "    - This Phrase is present at the beginning - \\*** START OF THE PROJECT \n",
        "    - The Novel plot starts at second instance of 'chapter I.' # period is important here. \n",
        "    - Novel ends at 'THE END' and has \\*** END OF THE PROJECT GUTENBERG EBOOK...'. \n",
        "    - Each chapter starts with 'Chapter' followed by chapter number in roman numeral, followed by new line, followed by title of chapter\n",
        "  \n",
        "\n",
        "- The Murder on the Links \n",
        "  - This Phrase is present at the beginning - \\*** START OF THIS PROJECT \n",
        "  - The Novel plot starts at second instance of '1 A Fellow Traveller'. Novel ends at 'End of Project Gutenberg's The Murder on the Links, by Agatha Christie\n",
        "  - and has \\*** END OF THIS PROJECT GUTENBERG ...' at the end. .\n",
        " - Each chapter  starts with number followed by title of chapter\n",
        "\n",
        "\n",
        "- The Secret Adversary \n",
        "  - This Phrase is present at the beginning - \\*** START OF THIS PROJECT \n",
        "  - The Novel plot starts at second instance of 'PROLOGUE'. Novel ends at 'End of the Project Gutenberg EBook of The Secret Adversary, by Agatha Christie' \n",
        "  -  has \\*** END OF THIS PROJECT GUTENBERG ...' at the end. \n",
        "  - Each chapter starts with 'Chapter' followed by chapter number in roman numeral, followed by title of chapter\n",
        "\n",
        "\n",
        "- The Man in the Brown Suit \n",
        "  - This Phrase is present at the beginning - \\*** START OF THIS PROJECT \n",
        "  - The Novel starts at second instance of 'PROLOGUE'. Novel ends at 'End of Project Gutenberg's The Man in the Brown Suit, by Agatha Christie' \n",
        "  - has \\*** END OF THIS PROJECT GUTENBERG ...' at the end. \n",
        "  - Each chapter starts with 'Chapter' followed by chapter number in roman numeral\n",
        "\n",
        "\n",
        "- The Secret of Chimneys \n",
        "    - This Phrase is present at the beginning - \\*** START OF THE PROJECT \n",
        "  - The Novel plot starts at second instance of '1 (new line)\n",
        "Anthony Cade Signs on' # new line is first here. \n",
        "- Novel ends at 'Transcriber's Notes:' and has \\*** END OF THE PROJECT GUTENBERG...' at the end.\n",
        "Each chapter starts with number followed by new line followed by title of chapter\n"
      ]
    },
    {
      "cell_type": "code",
      "metadata": {
        "id": "EkyIet661XXl"
      },
      "source": [
        ""
      ],
      "execution_count": null,
      "outputs": []
    },
    {
      "cell_type": "markdown",
      "metadata": {
        "id": "W3QdymCF1Xzm"
      },
      "source": [
        "#Data Tokenization / Prep for analysis\n",
        "\n",
        "Note: since we are not allowed to use NLTK for tokenization, we will have to use python for this as well. \n",
        "\n",
        "We can use split() but that would be very basic as it doesnt achieve tokens in a linguistic sense; we should be able to use the re package that adds support for regex; after all the point for us is to learn regex better. Recommend using re.split with our custom regex \n",
        "https://docs.python.org/3/library/re.html\n",
        "\n",
        "\n",
        "###Helpful Links: \n",
        "- https://python.plainenglish.io/how-to-tokenize-sentences-without-using-any-nlp-library-in-python-a381b75f7d22 \n",
        "- https://stackoverflow.com/questions/21361073/tokenize-words-in-a-list-of-sentences-python\n",
        "\n",
        "\n"
      ]
    },
    {
      "cell_type": "code",
      "metadata": {
        "id": "PGOjoKEn1fn_"
      },
      "source": [
        ""
      ],
      "execution_count": null,
      "outputs": []
    },
    {
      "cell_type": "markdown",
      "metadata": {
        "id": "BCj4aRmu1gBl"
      },
      "source": [
        "#Data Analysis"
      ]
    },
    {
      "cell_type": "markdown",
      "metadata": {
        "id": "R46wL0Jj1lz8"
      },
      "source": [
        "Goal of this project is to analyze the frequencies of occurrence of the protagonists and the perpetrator(s) across the novel - per chapter, and per sentence in a chapter, the mention of the crime, and other circumstances surrounding the antagonists. The ultimate objective is to use basic NLP tools to observe any patterns in plot structures across the works of one or all of the authors.  Specifically, analysis questions below need to be answered. \n",
        "\n",
        "Note: To effectively conduct this analysis, you should find resources, and read the plot summaries of each novel, so you can make your search more effective. If plot summaries are not available, use regex to search for clues, and report how well/how fast that approach worked. \n",
        "\n",
        "The plot summary answers derived from reading the book/ summary are located below each question"
      ]
    },
    {
      "cell_type": "markdown",
      "metadata": {
        "id": "PAEn08Le1jxG"
      },
      "source": [
        "##Pre-Steps"
      ]
    },
    {
      "cell_type": "markdown",
      "metadata": {
        "id": "V7NpNWwiL1Yu"
      },
      "source": [
        "Details of each book: \n",
        "\n",
        "- The Mysterious Affair at Styles \n",
        "  - Lead detective: Hercule Poirot, Arthur Hastings\n",
        "  - Other detectives/assistants: \n",
        "  - Victim: Emily Inglethorp\n",
        "  - Suspects: Alfred Inglethorp , Cavendish\n",
        "  - Perpetrator(s): Alfred Inglethorp, Evelyn Howard\n",
        "  - Other important characters: John Cavendish, \n",
        "  - Crime: Murder, Poisoning\n",
        "  - motif: murder mystery\n",
        "https://agathachristie.fandom.com/wiki/The_Mysterious_Affair_at_Styles\n",
        "\n",
        "\n",
        "- The Murder on the Links \n",
        "  - Lead detective(s): Hercule Poirot, Arthur Hastings\n",
        "  - Other detectives/assistants:  Monsieur Giraud, Monsieur Hautet\n",
        "  - Victim: Paul Renauld\n",
        "  - Suspects: Jack Renauld\n",
        "  - Perpetrator: Marthe Daubreuil.\n",
        "  - Other important characters:  Paul Renauld, Eloise Renauld, Jack Renauld, Madame Daubreuil, Gabriel Stonor, Georges Conneau, Madame Beroldy, Marthe Daubreuil, Bella Duveen, Dulcie Duveen (Cindrella), Cindrella\n",
        "  - Crime: Murder, Stabbing\n",
        "  - motif: murder mystery\n",
        "https://en.wikipedia.org/wiki/The_Murder_on_the_Links\n",
        "https://agathachristie.fandom.com/wiki/The_Murder_on_the_Links\n",
        "\n",
        "\n",
        "\n",
        "- The Secret Adversary  (complicated, Needs to be looked at more)\n",
        "  - Lead detective: Tommy and Tuppence, Tommy Beresford, Tuppence Cowley, Prudence Cowley, Prudence \"Tuppence\" Cowley, \n",
        "  - Other detectives/assistants: \n",
        "  - Victim: Jane Finn, Mrs. Vandemeyer\n",
        "  - Suspects: Mr. Brown,  Julius Hersheimmer\n",
        "  - Perpetrator: Sir James Peel Edgerton\n",
        "  - Other important characters: Jane Finn\n",
        "  - Crime: Espionage, Kidnapping\n",
        "  - motif: thriller focus rather than detection\n",
        "\n",
        "\n",
        "- The Man in the Brown Suit (complicated, Needs to be looked at more)\n",
        "  - Lead detective: Anne Beddingfeld\n",
        "  - Other detectives/assistants: \n",
        "  - Victim: Nadina aka Anita Grünberg, L. B. Carton\n",
        "  - Suspects: Harry\n",
        "  - Perpetrator: Sir Eustace Pedler\n",
        "  - Other important characters: Nadina, Count Sergius Paulovitch, the Colonel,  , Suzanne Blair, Colonel Race, Guy Pagett, Harry Rayburn, Harry Rayburn, Rev. Chichester, Miss Pettigrew,Harry Parker, Chichester\n",
        "  - Crime: diamond theft, murders, kidnapping\n",
        "  - motif: thriller focus rather than detection\n",
        "\n",
        "\n",
        "- The Secret of Chimneys (complicated, Needs to be looked at more)\n",
        "  - Lead detective: Anthony Cade aka Prince Nicholas\n",
        "  - Other detectives/assistants: Superintendent Battle, Monsieur Lemoine of the Sûreté, Mr. Fish aka american agent\n",
        "  - Victim: Perceived: Count Stanislaus aka Prince Michael Obolovitch\n",
        "  - Suspects: Anthony Cade, Prince Nicholas, King Victor, \n",
        "  - Perpetrator: Mlle Brun aka Queen Varaga aka Angèle Mory, M Lemoine aka King Victor\n",
        "  - Other important characters: King Nicholas IV, Queen Varaga aka Angèle Mory, Herman Isaacstein, Prince Michael Obolovitch,  George Lomax, Count Stylptitch, Jimmy McGrath, Virginia Revel, Captain O'Neill, Captain O'Neill, Mr Holmes, Isaacstein, Hiram P. Fish, Prince Nicholas, Mademoiselle Mlle Brun, Bill Eversleigh, Monsieur Lemoine of the Sûreté, Professor Wynwood, Boris Anchoukoff,\n",
        "   - Crime: sensitive document theft, murders, treasure hunt, espionage\n",
        "  - motif: thriller focus rather than detection\n",
        "\n"
      ]
    },
    {
      "cell_type": "code",
      "metadata": {
        "id": "ATzzpDAt1lnN"
      },
      "source": [
        ""
      ],
      "execution_count": null,
      "outputs": []
    },
    {
      "cell_type": "code",
      "metadata": {
        "id": "VfT-3mXl1o6G"
      },
      "source": [
        ""
      ],
      "execution_count": null,
      "outputs": []
    },
    {
      "cell_type": "markdown",
      "metadata": {
        "id": "CbkLHRPQ1pLl"
      },
      "source": [
        "##1. When does the detective (or a pair) occur for the first time -  chapter #, the sentence(s) # in a chapter,\n",
        "\n",
        "####Background research\n",
        "Poirot appears in Chapter# 1, sentence # 2 for the first time\n",
        "\n",
        "###**Murder on the links**\n",
        "####Story told from viewpoint of Arthur Hastings, who is Hercule Poirot's sidekick.\n",
        "####Hercule first appears in the 4th sentence of the first chapter.\n",
        "####\"i had been transacting some business in paris and was returning by the morning service to london where i was still sharing rooms with my old friend, the belgian ex-detective, hercule poirot\"\n"
      ]
    },
    {
      "cell_type": "code",
      "metadata": {
        "id": "ePM70xfk1wWY"
      },
      "source": [
        ""
      ],
      "execution_count": null,
      "outputs": []
    },
    {
      "cell_type": "markdown",
      "metadata": {
        "id": "GLq-sNsm1wu_"
      },
      "source": [
        "##2. When is the crime first mentioned - the type of the crime and the details -  chapter #, the sentence(s) # in a chapter,\n",
        "###**Murder on the Links**\n",
        "####The murder of Paul Renauld is revealed at the end of chapter 2 in sentence 323.\n",
        "####\"m. renauld was murdered this morning\""
      ]
    },
    {
      "cell_type": "code",
      "metadata": {
        "id": "1R9c9sHm1076"
      },
      "source": [
        ""
      ],
      "execution_count": null,
      "outputs": []
    },
    {
      "cell_type": "markdown",
      "metadata": {
        "id": "DcRq576e11V_"
      },
      "source": [
        "##3. When is the perpetrator first mentioned - chapter #, the sentence(s) # in a chapter,\n",
        "###**Murder on the Links**\n",
        "####Mademoiselle Daubreuil (Marthe) is first mentioned in chapter 7 sentence 145.\n",
        "####\"'mademoiselle daubreuil,' said m. hautet, sweeping off his hat, 'we regret infinitely to disturb you, but the exigencies of the law—you comprehend\""
      ]
    },
    {
      "cell_type": "code",
      "metadata": {
        "id": "4OWqQFtC155B"
      },
      "source": [
        ""
      ],
      "execution_count": null,
      "outputs": []
    },
    {
      "cell_type": "markdown",
      "metadata": {
        "id": "-F_GYvFv16SX"
      },
      "source": [
        "## 4. What are the 3 words that occur around the perpetrator on each mention (i.e., the three words preceding, and the three words following the mention of a perpetrator),\n",
        "###**Murder on the Links**\n",
        "####**First mention:** ...she was afraid!\"Mademoiselle Daubreuil,” said M. Hautet, sweeping...\n",
        "####**Second mention:** ...turned to her. “Marthe, dear-\" But the...\n",
        "####**Third mention:** ...to speak before Mademoiselle Daubreuil.\" \"As my daughter...\n",
        "####**Fourth mention:** ...us.It was Marthe Daubreuil. “I beg your...\n",
        "####**Fifth mention:** ...our amelie,\" explained Marthe, with a blush...\n",
        "\n",
        "\n"
      ]
    },
    {
      "cell_type": "code",
      "metadata": {
        "id": "u-sZeYwg19lB"
      },
      "source": [
        "[[7, 145, '“mademoiselle daubreuil,” said m. hautet, sweeping off his hat, “we regret infinitely to disturb you, but the exigencies of the law—you comprehend'], [7, 176, '“marthe, dear'], [7, 184, '“i should prefer not to speak before mademoiselle daubreuil'], [7, 241, 'it was marthe daubreuil'], [7, 249, '“françoise told our amélie,” explained marthe, with a blush'], [7, 293, '“ah,  mon ami , do not set your heart on marthe daubreuil'], [11, 103, 'the subject of the quarrel was mademoiselle marthe daubreuil'], [11, 109, '“i love mademoiselle daubreuil, and i wish to marry her'], [11, 117, 'marthe is as good as she is beautiful'], [11, 119, '“i have nothing against mademoiselle daubreuil in any way'], [11, 125, '“when you informed your father of your intentions towards mademoiselle daubreuil,” he resumed, “he was surprised'], [11, 129, 'nettled, i demanded what he had against mademoiselle daubreuil'], [11, 131, 'i answered that i was marrying marthe, and not her antecedents, but he shouted me down with a peremptory refusal to discuss the matter in any way'], [11, 143, 'i wrote to marthe, telling her what had happened, and her reply soothed me still further'], [13, 19, '“yesterday it was mademoiselle daubreuil, today it is mademoiselle—cinderella'], [13, 23, 'mademoiselle daubreuil is a very beautiful girl, and i do admire her immensely—i don’t mind admitting it'], [13, 94, 'and thirdly, if you wish, endeavour to cut him out with mademoiselle marthe'], [13, 100, 'throw together a boy young renauld and a beautiful girl like mademoiselle marthe, and the result is almost inevitable'], [13, 108, 'that is how always think of mademoiselle daubreuil  as the girl with the anxious eyes'], [13, 194, 'a girl’s voice was speaking, a voice that i recognized as that of the beautiful marthe'], [13, 197, '“you know it, marthe,” jack renauld replied'], [15, 19, 'i do not know what put the idea into my head—possibly it was the deep anxiety underlying marthe daubreuil’s tones—but i asked suddenly: “young m. renauld—he did not leave by that train, did he'], [15, 28, 'that, then, was the reason of marthe’s poignant anxiety'], [15, 34, 'one thing was certain, marthe had known all along'], [17, 166, 'i came to see my fiancée, mademoiselle daubreuil'], [18, 19, '“with good fortune,” he remarked to me over his shoulder, “mademoiselle marthe may find herself in the garden'], [18, 25, '” i joined him at the moment that marthe daubreuil, looking slightly startled, came running up to the hedge at his call'], [18, 100, '“ maman ,” whispered marthe, “i must go'], [18, 107, 'unwittingly, mademoiselle marthe told us the truth on another point—and incidentally gave jack renauld the lie'], [18, 108, 'did you notice his hesitation when i asked him if he saw marthe daubreuil on the night of the crime'], [18, 111, 'it was necessary for me to see mademoiselle marthe before he could put her on her guard'], [18, 114, 'now, hastings, what was jack renauld doing here on that eventful evening, and if he did not see mademoiselle marthe whom did he see'], [20, 88, 'm. renauld quarrels with his son over latter’s wish to marry marthe daubreuil'], [20, 93, 'quarrel with tramp in garden, witnessed by marthe daubreuil'], [20, 134, '“may 23rd,” i read, “m. renauld quarrels with his son over latter’s wish to marry marthe daubreuil'], [22, 37, 'had jack renauld, returning to see marthe daubreuil, come face to face instead with bella duveen, the girl he had heartlessly thrown over'], [22, 42, 'did he fear for this former entanglement of his to come to the ears of marthe daubreuil'], [24, 181, '“marthe daubreuil'], [24, 187, 'marthe was at the door to meet us, and led poirot in, clinging with both hands to one of his'], [24, 200, 'marthe frowned'], [24, 219, 'marthe looked at him for a minute, then, letting her head fall forward on her arms, she burst into tears'], [24, 227, 'marthe listened spellbound'], [27, 1, 'young renauld had come to us as soon as he was liberated—before starting for merlinville to rejoin marthe and his mother'], [27, 29, 'after i met marthe, and realized i’d made a mistake, i ought to have written and told her so honestly'], [27, 30, 'but i was so terrified of a row, and of its coming to marthe’s ears, and her thinking there was more in it than there ever had been, that—well, i was a coward, and went on hoping the thing would die down of itself'], [27, 46, 'i came from cherbourg, as i told you, in order to see marthe before going to the other end of the world'], [27, 82, '“while you break it in person to mademoiselle marthe, eh?” finished poirot, with a twinkle'], [27, 118, '“here are jack and marthe daubreuil,” i exclaimed, looking out of the window'], [27, 127, '“but marthe and i'], [27, 156, '“he is overdone,” murmured poirot to marthe'], [27, 172, 'finally, having done all we could, we left him in the charge of marthe and her mother, and set out for the town'], [27, 227, 'thrown sharply on the blind was the profile of marthe daubreuil'], [27, 233, 'marthe daubreuil was embroidering by a table with a lamp on it'], [27, 260, 'poirot looked over his shoulder once at the lighted window and the profile of marthe as she bent over her work'], [27, 331, 'puzzled and uncomprehending, i knelt down, and lifting the fold of cloth, looked into the dead beautiful face of marthe daubreuil'], [28, 35, '“do you know, i actually dreamt that we found marthe daubreuil’s body in mrs. renauld’s room, and that you declared her to have murdered mr. renauld'], [28, 56, 'from marthe daubreuil’s own lips we have the admission that she overheard m. renauld’s quarrel with the tramp'], [28, 58, 'remember how easily you overheard marthe’s conversation with jack renauld from that spot'], [28, 59, '“but what possible motive could marthe have for murdering mr. renauld'], [28, 64, 'let us reconstruct the scene from the standpoint of marthe daubreuil'], [28, 65, '“marthe daubreuil overhears what passes between renauld and his wife'], [28, 70, 'if the latter defies his father, he will be a pauper—which is not at all to the mind of mademoiselle marthe'], [28, 79, 'and here comes in the second point which led me infallibly to marthe daubreuil—the dagger'], [28, 81, 'one he gave to his mother, one to bella duveen; was it not highly probable that he had given the third one to marthe daubreuil'], [28, 82, '“so then, to sum up, there were four points of note against marthe daubreuil: “(1) marthe daubreuil could have overheard m. renauld’s plans'], [28, 83, '“(2) marthe daubreuil had a direct interest in causing m. renauld’s death'], [28, 84, '“(3) marthe daubreuil was the daughter of the notorious madame beroldy who in my opinion was morally and virtually the murderess of her husband, although it may have been georges conneau’s hand which struck the actual blow'], [28, 85, '“(4) marthe daubreuil was the only person, besides jack renauld, likely to have the third dagger in her possession'], [28, 95, 'if it was  not  bella duveen, the only other person who could have committed the crime was marthe daubreuil'], [28, 99, 'but if, by any chance, it was  not  her sister’s, but the one given by jack to marthe daubreuil—why then, bella duveen’s dagger would be still intact'], [28, 102, '“in the meantime i had taken steps to force mademoiselle marthe into the open'], [28, 107, 'marthe daubreuil made a last bold bid for the renauld millions—and failed'], [28, 122, 'she had brains, that beautiful mademoiselle marthe'], [28, 127, 'on the floor by marthe daubreuil’s body, i found a pad and a little bottle of chloroform and a hypodermic syringe containing a fatal dose of morphine'], [28, 137, '“however, hastings, things did not go quite as mademoiselle marthe had planned'], [28, 141, 'there is a last chance for marthe daubreuil'], [28, 145, '“when did you first begin to suspect marthe daubreuil, poirot'], [28, 151, 'that is how i have thought of marthe daubreuil from the beginning'], [28, 169, 'so far we have looked upon bella duveen as a siren, and marthe daubreuil as the girl he really loved'], [28, 171, 'marthe daubreuil was very beautiful']]"
      ],
      "execution_count": null,
      "outputs": []
    },
    {
      "cell_type": "markdown",
      "metadata": {
        "id": "rGOQisCW190Y"
      },
      "source": [
        "## 5. When and how the detective/detectives and the perpetrators co-occur - chapter #, the sentence(s) # in a chapter,\n",
        "###**The Murder on the Links**\n",
        "####Arthur Hastings (sidekick) and Marthe (perpetrator) first co-occur in chapter 18 sentence 114.\n",
        "####'now, hastings, what was jack renauld doing here on that eventful evening, and if he did not see mademoiselle marthe whom did he see'\n",
        "####Hercule Poirot (detective) and Marthe (perpetrator) first co-occur in chapter 24 sentence 187\n",
        "####'marthe was at the door to meet us, and led poirot in, clinging with both hands to one of his'\n",
        "####Poirot and Marthe again co-occur in chapter 27 sentence 82\n",
        "####'“while you break it in person to mademoiselle marthe, eh?” finished poirot, with a twinkle'\n",
        "####They co-occur again in chapter 27 sentence 156\n",
        "####'“he is overdone,” murmured poirot to marthe'\n",
        "####As well as chapter 27 sentence 260\n",
        "####'poirot looked over his shoulder once at the lighted window and the profile of marthe as she bent over her work'\n",
        "#### Hastings and Marthe co-occur in chapter 28 sentence 137\n",
        "####'“however, hastings, things did not go quite as mademoiselle marthe had planned'\n",
        "####Finally, Poirot and Marthe co-occur in chapter 28 sentence 145\n",
        "####'“when did you first begin to suspect marthe daubreuil, poirot'\n",
        "\n",
        "\n",
        "\n"
      ]
    },
    {
      "cell_type": "code",
      "metadata": {
        "id": "BBix59Ssf2rH"
      },
      "source": [
        ""
      ],
      "execution_count": null,
      "outputs": []
    },
    {
      "cell_type": "code",
      "metadata": {
        "id": "Uf_QyW7629H4"
      },
      "source": [
        ""
      ],
      "execution_count": null,
      "outputs": []
    },
    {
      "cell_type": "markdown",
      "metadata": {
        "id": "bDDmhW4P29Z-"
      },
      "source": [
        "## 6. When are other suspects first introduced - chapter #, the sentence(s) # in a chapter\n",
        "###**Murder on the Links**\n",
        "####Jack Renauld is the red herring in this book.\n",
        "####He first appears in chapter 3 sentence 118.\n",
        "####'finally there are madame renauld and her son, m. jack renauld'\n"
      ]
    },
    {
      "cell_type": "code",
      "metadata": {
        "id": "w00qyFj8xxwD"
      },
      "source": [
        ""
      ],
      "execution_count": null,
      "outputs": []
    },
    {
      "cell_type": "code",
      "metadata": {
        "id": "1qttHUqV3C5g"
      },
      "source": [
        ""
      ],
      "execution_count": null,
      "outputs": []
    },
    {
      "cell_type": "markdown",
      "metadata": {
        "id": "rsajewrP3VEd"
      },
      "source": [
        "# Additional/Extra Analysis"
      ]
    },
    {
      "cell_type": "code",
      "metadata": {
        "id": "rAyzwcaG3Z5j"
      },
      "source": [
        ""
      ],
      "execution_count": null,
      "outputs": []
    },
    {
      "cell_type": "markdown",
      "metadata": {
        "id": "Q0FN0SH_3azr"
      },
      "source": [
        "# Practice Section"
      ]
    },
    {
      "cell_type": "code",
      "metadata": {
        "id": "KthIUBm43eD_"
      },
      "source": [
        ""
      ],
      "execution_count": null,
      "outputs": []
    }
  ]
}
