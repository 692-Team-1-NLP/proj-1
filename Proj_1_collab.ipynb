{
  "nbformat": 4,
  "nbformat_minor": 0,
  "metadata": {
    "colab": {
      "name": "Proj-1-collab.ipynb",
      "provenance": [],
      "collapsed_sections": [],
      "include_colab_link": true
    },
    "kernelspec": {
      "name": "python3",
      "display_name": "Python 3"
    },
    "language_info": {
      "name": "python"
    }
  },
  "cells": [
    {
      "cell_type": "markdown",
      "metadata": {
        "id": "view-in-github",
        "colab_type": "text"
      },
      "source": [
        "<a href=\"https://colab.research.google.com/github/692-Team-1-NLP/proj-1/blob/main/Proj_1_collab.ipynb\" target=\"_parent\"><img src=\"https://colab.research.google.com/assets/colab-badge.svg\" alt=\"Open In Colab\"/></a>"
      ]
    },
    {
      "cell_type": "markdown",
      "metadata": {
        "id": "8FHlrdot1Lsi"
      },
      "source": [
        "# `692-Proj-1 : Crime Novel Plot Analysis with Regex - Agatha Christie`\n",
        "The goal of this project is to conduct a plot and protagonist/antagonist analysis of the famous crime novels. For this project, we will analyze five publicly available crime novels/stories by Agatha Christie at the project Gutenberg http://www.gutenberg.org/. The novels chosen are: \n",
        "- The Mysterious Affair at Styles \n",
        "- The Murder on the Links \n",
        "- The Secret Adversary \n",
        "- The Man in the Brown Suit \n",
        "- The Secret of Chimneys \n",
        "\n",
        "\n",
        "Note: Feel free to use any background resource for the understanding of the plot, protagonist and antagonist names, and other details. Look for spoilers, details, etc. Our goal is not to predict the crime, but to computationally analyze the structure of the plot."
      ]
    },
    {
      "cell_type": "markdown",
      "metadata": {
        "id": "rUWekg6N1Rb0"
      },
      "source": [
        "#Data collection\n",
        "\n",
        "##Background research: \n",
        "\n",
        "Location for Plain text UTF-8 files for novels: \n",
        "- The Mysterious Affair at Styles https://www.gutenberg.org/files/863/863-0.txt\n",
        "- The Murder on the Links https://www.gutenberg.org/files/58866/58866-0.txt\n",
        "- The Secret Adversary https://www.gutenberg.org/files/1155/1155-0.txt\n",
        "- The Man in the Brown Suit https://www.gutenberg.org/files/61168/61168-0.txt\n",
        "- The Secret of Chimneys https://www.gutenberg.org/files/65238/65238-0.txt\n",
        "\n",
        "Note: One benefit to getting the text version is that the html version also has page number to clean, not present in text files\n",
        "\n",
        "###Helpful Links\n",
        "\n",
        "https://stackoverflow.com/questions/7243750/download-file-from-web-in-python-3\n",
        "\n",
        "https://docs.python.org/3/howto/urllib2.html\n",
        "\n"
      ]
    },
    {
      "cell_type": "code",
      "metadata": {
        "id": "y3zV4HGP1Us-"
      },
      "source": [
        "# example test run for one file \n",
        "# we will need a data structure that holds the name and links and loop through or sequentially get the data of all the novels.\n",
        "\n",
        "import urllib.request, re\n",
        "url = \"https://www.gutenberg.org/files/863/863-0.txt\" # utf-8 text file link for The Mysterious Affair at Styles \n",
        "\n",
        "response = urllib.request.urlopen(url)\n",
        "data = response.read()      # a `bytes` object\n",
        "text = data.decode('utf-8') # Default encoding is ascii; gutenberg has utf-8 encoded files\n",
        "#text  # uncomment for output if needed\n",
        "# text needs to be cleaned before it can be analyzed \n",
        "\n",
        "# trying out word; we will need both word and sentences\n",
        "#words = re.split('\\s+', text)\n",
        "\n",
        "# trying out tokenization sentences via re\n",
        "# tried, this WIP, as you can see in the output, doesnt get all the sentences\n",
        "sentences = re.split('(?<!\\w\\.\\w.)(?<![A-Z][a-z]\\.)(?<=\\.|\\?)\\s', text)"
      ],
      "execution_count": 1,
      "outputs": []
    },
    {
      "cell_type": "code",
      "metadata": {
        "id": "JDv-TcBQ1MU9",
        "colab": {
          "base_uri": "https://localhost:8080/"
        },
        "outputId": "51e8f293-8566-46c8-a755-bac702a72c8d"
      },
      "source": [
        "#Author: Luke\n",
        "#Description: exploratory code for carving book file into chapters\n",
        "#Note: looks like it works for Murder on the Links, not tested on other books yet\n",
        "#Note: the upturned quote character \\u201c in chapter title was a nice bug till I remembered left/right handed quotes exist in unicode\n",
        "#copied fetch code from Addi\n",
        "url = \"https://www.gutenberg.org/files/65238/65238-0.txt\" # utf-8 text file link for The Murder on the Links\n",
        "response = urllib.request.urlopen(url)\n",
        "data = response.read()\n",
        "text = data.decode('utf-8')\n",
        "#regex to find chapter titles in style of this book: \"1 Some words\"\n",
        "#don't forget to deal with \\u201c or other quote characters in title\n",
        "ch_carve=re.compile(r'CHAPTER\\s\\w+\\r\\n')\n",
        "ch_titles=re.findall(ch_carve,text)\n",
        "#dict mapping titles to integers: indexed from one since first chapter is chapter 1\n",
        "full_titles={num+1:title.strip() for (num,title) in zip(range(len(ch_titles)),ch_titles)}\n",
        "full_titles[0]=\"PROLOGUE\"\n",
        "#split on the titles\n",
        "chapters=re.split(ch_carve,text)\n",
        "book = {num+1:contents for (num,contents) in zip(range(len(chapters)),chapters)}\n",
        "last=len(chapters)\n",
        "book[last]=book[last].split('TRANSCRIBER')[0]\n",
        "#check work\n",
        "print(full_titles)\n",
        "print(book.keys())\n",
        "#uncomment to check first and last chapter - outputs whole chapters\n",
        "\n"
      ],
      "execution_count": 101,
      "outputs": [
        {
          "output_type": "stream",
          "name": "stdout",
          "text": [
            "{1: 'CHAPTER I', 2: 'CHAPTER II', 3: 'CHAPTER III', 4: 'CHAPTER IV', 5: 'CHAPTER V', 6: 'CHAPTER VI', 7: 'CHAPTER VII', 8: 'CHAPTER VIII', 9: 'CHAPTER IX', 10: 'CHAPTER X', 11: 'CHAPTER XI', 12: 'CHAPTER XII', 13: 'CHAPTER XIII', 14: 'CHAPTER XIV', 15: 'CHAPTER XV', 16: 'CHAPTER XVI', 17: 'CHAPTER XVII', 18: 'CHAPTER XVIII', 19: 'CHAPTER XIX', 20: 'CHAPTER XX', 21: 'CHAPTER XXI', 22: 'CHAPTER XXII', 23: 'CHAPTER XXIII', 24: 'CHAPTER XXIV', 25: 'CHAPTER XXV', 26: 'CHAPTER XXVI', 27: 'CHAPTER XXVII', 28: 'CHAPTER XXVIII', 29: 'CHAPTER XXIX', 30: 'CHAPTER XXX', 31: 'CHAPTER XXXI', 32: 'CHAPTER XXXII', 33: 'CHAPTER XXXIII', 34: 'CHAPTER XXXIV', 35: 'CHAPTER XXXV', 36: 'CHAPTER XXXVI', 0: 'PROLOGUE'}\n",
            "dict_keys([0, 1, 2, 3, 4, 5, 6, 7, 8, 9, 10, 11, 12, 13, 14, 15, 16, 17, 18, 19, 20, 21, 22, 23, 24, 25, 26, 27, 28, 29, 30, 31, 32, 33, 34, 35, 36])\n"
          ]
        }
      ]
    },
    {
      "cell_type": "code",
      "metadata": {
        "colab": {
          "base_uri": "https://localhost:8080/"
        },
        "id": "srz1rKdu-x0P",
        "outputId": "b916f07c-d205-4618-a646-9d46fcb7c04e"
      },
      "source": [
        "print(book[36])"
      ],
      "execution_count": 102,
      "outputs": [
        {
          "output_type": "stream",
          "name": "stdout",
          "text": [
            "\r\n",
            "\r\n",
            "That was two years ago. We still live on the island. Before me, on\r\n",
            "the rough wooden table, is the letter that Suzanne wrote me.\r\n",
            "\r\n",
            "Dear Babes in the Wood—Dear Lunatics in Love,\r\n",
            "\r\n",
            "I’m not surprised—not at all. All the time we’ve been talking Paris\r\n",
            "and frocks I felt that it wasn’t a bit real—that you’d vanish into\r\n",
            "the blue some day to be married over the tongs in the good old\r\n",
            "gipsy fashion. But you _are_ a couple of lunatics! This idea of\r\n",
            "renouncing a vast fortune is absurd. Colonel Race wanted to argue\r\n",
            "the matter, but I have persuaded him to leave the argument to time.\r\n",
            "He can administer the estate for Harry—and none better. Because,\r\n",
            "after all, honeymoons don’t last forever—you’re not here, Anne, so\r\n",
            "I can safely say that without having you fly out at me like a\r\n",
            "little wild-cat—Love in the wilderness will last a good while, but\r\n",
            "one day you will suddenly begin to dream of houses in Park Lane,\r\n",
            "sumptuous furs, Paris frocks, the largest thing in motors and the\r\n",
            "latest thing in perambulators, French maids and Norland nurses!\r\n",
            "Oh, yes, you will!\r\n",
            "\r\n",
            "But have your honeymoon, dear lunatics, and let it be a long one.\r\n",
            "And think of me sometimes, comfortably putting on weight amidst\r\n",
            "the fleshpots!\r\n",
            "\r\n",
            "Your loving friend, Suzanne Blair.\r\n",
            "\r\n",
            "P.S.—I am sending you an assortment of frying-pans as a wedding\r\n",
            "present, and an enormous _terrine_ of _pâté de foie gras_ to remind\r\n",
            "you of me.\r\n",
            "\r\n",
            "There is another letter that I sometimes read. It came a good while\r\n",
            "after the other and was accompanied by a bulky packet. It appeared\r\n",
            "to be written from somewhere in Bolivia.\r\n",
            "\r\n",
            "My dear Anne Beddingfeld,\r\n",
            "\r\n",
            "I can’t resist writing to you, not so much for the pleasure it\r\n",
            "gives me to write, as for the enormous pleasure I know it will give\r\n",
            "you to hear from me. Our friend Race wasn’t quite as clever as he\r\n",
            "thought himself, was he?\r\n",
            "\r\n",
            "I think I shall appoint you my literary executor. I’m sending you\r\n",
            "my diary. There’s nothing in it that would interest Race and his\r\n",
            "crowd, but I fancy that there are passages in it which may amuse\r\n",
            "you. Make use of it in any way you like. I suggest an article for\r\n",
            "the _Daily Budget,_ “Criminals I have met.” I only stipulate that\r\n",
            "I shall be the central figure.\r\n",
            "\r\n",
            "By this time I have no doubt that you are no longer Anne Beddingfeld,\r\n",
            "but Lady Eardsley, queening it in Park Lane. I should just like to\r\n",
            "say that I bear you no malice whatever. It is hard, of course, to\r\n",
            "have to begin all over again at my time of life, but, _entre nous,_\r\n",
            "I had a little reserve fund carefully put aside for such a\r\n",
            "contingency. It has come in very usefully and I am getting together\r\n",
            "a nice little connection. By the way, if you ever come across that\r\n",
            "funny friend of yours, Arthur Minks, just tell him that I haven’t\r\n",
            "forgotten him, will you? That will give him a nasty jar.\r\n",
            "\r\n",
            "On the whole I think I have displayed a most Christian and forgiving\r\n",
            "spirit. Even to Pagett. I happened to hear that he—or rather Mrs.\r\n",
            "Pagett—had brought a sixth child into the world the other day.\r\n",
            "England will be entirely populated by Pagetts soon. I sent the\r\n",
            "child a silver mug, and, on a post card, declared my willingness\r\n",
            "to act as god-father. I can see Pagett taking both mug and post\r\n",
            "card straight to Scotland Yard without a smile on his face!\r\n",
            "\r\n",
            "Bless you, liquid eyes. Some day you will see what a mistake you\r\n",
            "have made in not marrying me.\r\n",
            "\r\n",
            "Yours ever,\r\n",
            "\r\n",
            "Eustace Pedler.\r\n",
            "\r\n",
            "Harry was furious. It is the one point on which he and I do not\r\n",
            "see eye to eye. To him, Sir Eustace was the man who tried to murder\r\n",
            "me and whom he regards as responsible for the death of his friend.\r\n",
            "Sir Eustace’s attempts on my life have always puzzled me. They are\r\n",
            "not in the picture, so to speak. For I am sure that he always had\r\n",
            "a genuinely kindly feeling towards me.\r\n",
            "\r\n",
            "Then why did he twice attempt to take my life? Harry says “because\r\n",
            "he’s a damned scoundrel,” and seems to think that settles the\r\n",
            "matter. Suzanne was more discriminating. I talked it over with her,\r\n",
            "and she put it down to a “fear complex.” Suzanne goes in rather\r\n",
            "for psycho-analysis. She pointed out to me that Sir Eustace’s whole\r\n",
            "life was actuated by a desire to be safe and comfortable. He had\r\n",
            "an acute sense of self-preservation. And the murder of Nadina\r\n",
            "removed certain inhibitions. His actions did not represent the\r\n",
            "state of his feeling towards me, but were the result of his acute\r\n",
            "fears for his own safety. I think Suzanne is right. As for Nadina,\r\n",
            "she was the kind of woman who deserved to die. Men do all sorts of\r\n",
            "questionable things in order to get rich, but women shouldn’t\r\n",
            "pretend to be in love when they aren’t for ulterior motives.\r\n",
            "\r\n",
            "I can forgive Sir Eustace easily enough, but I shall never forgive\r\n",
            "Nadina. Never, never, never!\r\n",
            "\r\n",
            "The other day I was unpacking some tins that were wrapped in bits\r\n",
            "of an old _Daily Budget,_ and I suddenly came upon the words, “The\r\n",
            "Man in the Brown Suit.” How long ago it seemed! I had, of course,\r\n",
            "severed my connection with the _Daily Budget_ long ago—I had done\r\n",
            "with it sooner than it had done with me. _My Romantic Wedding_ was\r\n",
            "given a halo of publicity.\r\n",
            "\r\n",
            "My son is lying in the sun, kicking his legs. There’s a “man in a\r\n",
            "brown suit” if you like. He’s wearing as little as possible, which\r\n",
            "is the best costume for Africa, and is as brown as a berry. He’s\r\n",
            "always burrowing in the earth. I think he takes after Papa. He’ll\r\n",
            "have that same mania for Pleiocene clay.\r\n",
            "\r\n",
            "Suzanne sent me a cable when he was born:\r\n",
            "\r\n",
            "“Congratulations and love to the latest arrival on Lunatics’\r\n",
            "Island. Is his head dolichocephalic or brachycephalic?”\r\n",
            "\r\n",
            "I wasn’t going to stand that from Suzanne. I sent her a reply of\r\n",
            "one word, economical and to the point:\r\n",
            "\r\n",
            "“Platycephalic!”\r\n",
            "\r\n",
            "\r\n",
            "\r\n",
            "\r\n",
            "\r\n",
            "  \n"
          ]
        }
      ]
    },
    {
      "cell_type": "code",
      "metadata": {
        "id": "FHwNdj3-S5gW"
      },
      "source": [
        "#Author: Luke\n",
        "#Description: exploratory code for carving book file into chapters\n",
        "#Note: looks like it works for Murder on the Links, not tested on other books yet\n",
        "#Note: the upturned quote character \\u201c in chapter title was a nice bug till I remembered left/right handed quotes exist in unicode\n",
        "#copied fetch code from Addi\n",
        "def get_index(title):\n",
        "  last_reg=re.compile(r\"\\w+$\")\n",
        "  last_word=re.findall(last_reg,title)[0]\n",
        "  if last_word ==\"Links\":\n",
        "    #\"The Murder on the Links\"\n",
        "    index=1\n",
        "  elif last_word==\"Styles\":\n",
        "    #\"The Mysterious Affair at Styles\"\n",
        "    index=2\n",
        "  elif last_word==\"Adversary\":\n",
        "    #\"The Secret Adversary\"\n",
        "    index=3\n",
        "  elif last_word==\"Suit\":\n",
        "    #\"The Man in the Brown Suit\"\n",
        "    index=4\n",
        "  elif last_word==\"Chimneys\":\n",
        "    #\"The Secret of Chimneys\"\n",
        "    index=5\n",
        "  return index\n",
        "\n",
        "def get_text(index):\n",
        "  if index==1:\n",
        "    #\"The Murder on the Links\"\n",
        "    url = \"https://www.gutenberg.org/files/58866/58866-0.txt\"\n",
        "  elif index==2:\n",
        "    #\"The Mysterious Affair at Styles\"\n",
        "    url=\"https://www.gutenberg.org/files/863/863-0.txt\"\n",
        "  elif index==3:\n",
        "    #\"The Secret Adversary\"\n",
        "    url=\"https://www.gutenberg.org/files/1155/1155-0.txt\"\n",
        "  elif index==4:\n",
        "    #\"The Man in the Brown Suit\"\n",
        "    url=\"https://www.gutenberg.org/files/61168/61168-0.txt\"\n",
        "  elif index==5:\n",
        "    #\"The Secret of Chimneys\"\n",
        "    url=\"https://www.gutenberg.org/files/65238/65238-0.txt\"\n",
        "  response = urllib.request.urlopen(url)\n",
        "  data = response.read()      # a `bytes` object\n",
        "  text = data.decode('utf-8')\n",
        "  return text\n",
        "\n",
        "def get_ch_regex(index):\n",
        "  if index==1:\n",
        "    ch_carve=re.compile(r'\\n\\d\\d?\\s[\\'\\\"\\u201c]?[A-Z].*\\n')\n",
        "  elif index==2:\n",
        "    ch_carve=re.compile(r'CHAPTER\\s[IVX]+\\.\\r\\n.*\\r\\n')\n",
        "  elif index==3:\n",
        "    ch_carve=re.compile(r'\\r\\n\\r\\n\\r\\nCHAPTER.*\\r\\n')\n",
        "  elif index==4:\n",
        "    ch_carve=re.compile(r'CHAPTER\\s\\w+\\r\\n')  \n",
        "  return ch_carve\n",
        "\n",
        "def trim_contents(ch_contents_dict,index):\n",
        "  last=len(ch_contents_dict)\n",
        "  if index==1:\n",
        "    ch_contents_dict[last]=ch_contents_dict[last].split('\\nEnd of Project Gutenberg')[0]\n",
        "  elif index==2:\n",
        "    ch_contents_dict[last]=ch_contents_dict[last].split('\\nTHE END')[0]\n",
        "  elif index==3:\n",
        "    ch_contents_dict[last-1]=ch_contents_dict[last-1].split('\\nEnd of the Project Gutenberg')[0]\n",
        "  elif index==4:\n",
        "    ch_contents_dict[last-1]=ch_contents_dict[last-1].split('THE END')[0]\n",
        "  return ch_contents_dict\n",
        "\n",
        "def ch_carve(title):\n",
        "\n",
        "  index=get_index(title)\n",
        "  text=get_text(index)\n",
        "  ch_regex=get_ch_regex(index)\n",
        "  if index ==3:\n",
        "    text=re.split(\"CHAPTER XXVIII.     AND AFTER\\r\\n\\r\\n\\r\\n\\r\\nPROLOGUE\",text)[1]\n",
        "  if index ==4:\n",
        "    text=re.split(\"PROLOGUE\",text)[1]\n",
        "  ch_titles=re.findall(ch_regex,text)\n",
        "  ch_titles_dict={num+1:title.strip() for (num,title) in enumerate(ch_titles)}\n",
        "  if index==3 or index ==4:\n",
        "    ch_titles_dict.update( {0 :\"PROLOGUE\"} )\n",
        "  chapters=re.split(ch_regex,text)\n",
        "  if index==3 or index==4:\n",
        "    ch_contents_dict = {num:contents for (num,contents) in enumerate(chapters)}  \n",
        "  elif index ==1 or index ==2:\n",
        "    chapters=chapters[1:]\n",
        "    ch_contents_dict = {num+1:contents for (num,contents) in enumerate(chapters)}\n",
        "  ch_contents_dict=trim_contents(ch_contents_dict,index)\n",
        "  return {\"title\":title,\"contents\":ch_contents_dict,\"chapters\":ch_titles_dict}\n",
        "\n",
        "def get_corpus():\n",
        "  #tentatively planning to index books from 1 to match chapters\n",
        "  titles=[\"The Mysterious Affair at Styles\",\"The Murder on the Links\",\"The Secret Adversary\",\"The Man in the Brown Suit\",\"The Secret of Chimneys\"]\n",
        "  titles=[\"The Mysterious Affair at Styles\",\"The Murder on the Links\",\"The Secret Adversary\",\"The Man in the Brown Suit\"]\n",
        "  corpus={ get_index(title):ch_carve(title) for title in titles}\n",
        "  return corpus"
      ],
      "execution_count": 110,
      "outputs": []
    },
    {
      "cell_type": "code",
      "metadata": {
        "colab": {
          "base_uri": "https://localhost:8080/"
        },
        "id": "lUaxNizp9CDJ",
        "outputId": "ff18ac27-e9ef-42fb-c77e-ce9744c4816e"
      },
      "source": [
        "corpus=get_corpus()\n",
        "\n",
        "print(corpus[1][\"title\"],len(corpus[1][\"chapters\"]),len(corpus[1][\"contents\"]))\n",
        "print(corpus[2][\"title\"],len(corpus[2][\"chapters\"]),len(corpus[2][\"contents\"]))\n",
        "#print(corpus[1][\"contents\"][28])\n",
        "#print(corpus[2][\"contents\"][13])\n"
      ],
      "execution_count": 111,
      "outputs": [
        {
          "output_type": "stream",
          "name": "stdout",
          "text": [
            "The Murder on the Links 28 28\n",
            "The Mysterious Affair at Styles 13 13\n"
          ]
        }
      ]
    },
    {
      "cell_type": "code",
      "metadata": {
        "colab": {
          "base_uri": "https://localhost:8080/"
        },
        "id": "smz9geGxDtCv",
        "outputId": "bd55e27b-4ba3-4c28-86bd-914ee56f5fee"
      },
      "source": [
        "print(corpus[3][\"title\"],len(corpus[3][\"chapters\"]),len(corpus[3][\"contents\"]))\n",
        "print(corpus[3][\"chapters\"])\n",
        "#print(corpus[3][\"contents\"][0])\n",
        "print(corpus[4][\"title\"],len(corpus[4][\"chapters\"]),len(corpus[4][\"contents\"]))\n",
        "print(corpus[4][\"chapters\"])\n",
        "print(corpus[4][\"contents\"][36])\n"
      ],
      "execution_count": 115,
      "outputs": [
        {
          "output_type": "stream",
          "name": "stdout",
          "text": [
            "The Secret Adversary 29 29\n",
            "{1: 'CHAPTER I. THE YOUNG ADVENTURERS, LTD.', 2: 'CHAPTER II. MR. WHITTINGTON’S OFFER', 3: 'CHAPTER III. A SET BACK', 4: 'CHAPTER IV. WHO IS JANE FINN?', 5: 'CHAPTER V. MR. JULIUS P. HERSHEIMMER', 6: 'CHAPTER VI. A PLAN OF CAMPAIGN', 7: 'CHAPTER VII. THE HOUSE IN SOHO', 8: 'CHAPTER VIII. THE ADVENTURES OF TOMMY', 9: 'CHAPTER IX. TUPPENCE ENTERS DOMESTIC SERVICE', 10: 'CHAPTER X. ENTER SIR JAMES PEEL EDGERTON', 11: 'CHAPTER XI. JULIUS TELLS A STORY', 12: 'CHAPTER XII. A FRIEND IN NEED', 13: 'CHAPTER XIII. THE VIGIL', 14: 'CHAPTER XIV. A CONSULTATION', 15: 'CHAPTER XV. TUPPENCE RECEIVES A PROPOSAL', 16: 'CHAPTER XVI. FURTHER ADVENTURES OF TOMMY', 17: 'CHAPTER XVII. ANNETTE', 18: 'CHAPTER XVIII. THE TELEGRAM', 19: 'CHAPTER XIX. JANE FINN', 20: 'CHAPTER XX. TOO LATE', 21: 'CHAPTER XXI. TOMMY MAKES A DISCOVERY', 22: 'CHAPTER XXII. IN DOWNING STREET', 23: 'CHAPTER XXIII. A RACE AGAINST TIME', 24: 'CHAPTER XXIV. JULIUS TAKES A HAND', 25: 'CHAPTER XXV. JANE’S STORY', 26: 'CHAPTER XXVI. MR. BROWN', 27: 'CHAPTER XXVII. A SUPPER PARTY AT THE _SAVOY_', 28: 'CHAPTER XXVIII. AND AFTER', 0: 'PROLOGUE'}\n",
            "The Man in the Brown Suit 37 37\n",
            "{1: 'CHAPTER I', 2: 'CHAPTER II', 3: 'CHAPTER III', 4: 'CHAPTER IV', 5: 'CHAPTER V', 6: 'CHAPTER VI', 7: 'CHAPTER VII', 8: 'CHAPTER VIII', 9: 'CHAPTER IX', 10: 'CHAPTER X', 11: 'CHAPTER XI', 12: 'CHAPTER XII', 13: 'CHAPTER XIII', 14: 'CHAPTER XIV', 15: 'CHAPTER XV', 16: 'CHAPTER XVI', 17: 'CHAPTER XVII', 18: 'CHAPTER XVIII', 19: 'CHAPTER XIX', 20: 'CHAPTER XX', 21: 'CHAPTER XXI', 22: 'CHAPTER XXII', 23: 'CHAPTER XXIII', 24: 'CHAPTER XXIV', 25: 'CHAPTER XXV', 26: 'CHAPTER XXVI', 27: 'CHAPTER XXVII', 28: 'CHAPTER XXVIII', 29: 'CHAPTER XXIX', 30: 'CHAPTER XXX', 31: 'CHAPTER XXXI', 32: 'CHAPTER XXXII', 33: 'CHAPTER XXXIII', 34: 'CHAPTER XXXIV', 35: 'CHAPTER XXXV', 36: 'CHAPTER XXXVI', 0: 'PROLOGUE'}\n",
            "\r\n",
            "\r\n",
            "That was two years ago. We still live on the island. Before me, on\r\n",
            "the rough wooden table, is the letter that Suzanne wrote me.\r\n",
            "\r\n",
            "Dear Babes in the Wood—Dear Lunatics in Love,\r\n",
            "\r\n",
            "I’m not surprised—not at all. All the time we’ve been talking Paris\r\n",
            "and frocks I felt that it wasn’t a bit real—that you’d vanish into\r\n",
            "the blue some day to be married over the tongs in the good old\r\n",
            "gipsy fashion. But you _are_ a couple of lunatics! This idea of\r\n",
            "renouncing a vast fortune is absurd. Colonel Race wanted to argue\r\n",
            "the matter, but I have persuaded him to leave the argument to time.\r\n",
            "He can administer the estate for Harry—and none better. Because,\r\n",
            "after all, honeymoons don’t last forever—you’re not here, Anne, so\r\n",
            "I can safely say that without having you fly out at me like a\r\n",
            "little wild-cat—Love in the wilderness will last a good while, but\r\n",
            "one day you will suddenly begin to dream of houses in Park Lane,\r\n",
            "sumptuous furs, Paris frocks, the largest thing in motors and the\r\n",
            "latest thing in perambulators, French maids and Norland nurses!\r\n",
            "Oh, yes, you will!\r\n",
            "\r\n",
            "But have your honeymoon, dear lunatics, and let it be a long one.\r\n",
            "And think of me sometimes, comfortably putting on weight amidst\r\n",
            "the fleshpots!\r\n",
            "\r\n",
            "Your loving friend, Suzanne Blair.\r\n",
            "\r\n",
            "P.S.—I am sending you an assortment of frying-pans as a wedding\r\n",
            "present, and an enormous _terrine_ of _pâté de foie gras_ to remind\r\n",
            "you of me.\r\n",
            "\r\n",
            "There is another letter that I sometimes read. It came a good while\r\n",
            "after the other and was accompanied by a bulky packet. It appeared\r\n",
            "to be written from somewhere in Bolivia.\r\n",
            "\r\n",
            "My dear Anne Beddingfeld,\r\n",
            "\r\n",
            "I can’t resist writing to you, not so much for the pleasure it\r\n",
            "gives me to write, as for the enormous pleasure I know it will give\r\n",
            "you to hear from me. Our friend Race wasn’t quite as clever as he\r\n",
            "thought himself, was he?\r\n",
            "\r\n",
            "I think I shall appoint you my literary executor. I’m sending you\r\n",
            "my diary. There’s nothing in it that would interest Race and his\r\n",
            "crowd, but I fancy that there are passages in it which may amuse\r\n",
            "you. Make use of it in any way you like. I suggest an article for\r\n",
            "the _Daily Budget,_ “Criminals I have met.” I only stipulate that\r\n",
            "I shall be the central figure.\r\n",
            "\r\n",
            "By this time I have no doubt that you are no longer Anne Beddingfeld,\r\n",
            "but Lady Eardsley, queening it in Park Lane. I should just like to\r\n",
            "say that I bear you no malice whatever. It is hard, of course, to\r\n",
            "have to begin all over again at my time of life, but, _entre nous,_\r\n",
            "I had a little reserve fund carefully put aside for such a\r\n",
            "contingency. It has come in very usefully and I am getting together\r\n",
            "a nice little connection. By the way, if you ever come across that\r\n",
            "funny friend of yours, Arthur Minks, just tell him that I haven’t\r\n",
            "forgotten him, will you? That will give him a nasty jar.\r\n",
            "\r\n",
            "On the whole I think I have displayed a most Christian and forgiving\r\n",
            "spirit. Even to Pagett. I happened to hear that he—or rather Mrs.\r\n",
            "Pagett—had brought a sixth child into the world the other day.\r\n",
            "England will be entirely populated by Pagetts soon. I sent the\r\n",
            "child a silver mug, and, on a post card, declared my willingness\r\n",
            "to act as god-father. I can see Pagett taking both mug and post\r\n",
            "card straight to Scotland Yard without a smile on his face!\r\n",
            "\r\n",
            "Bless you, liquid eyes. Some day you will see what a mistake you\r\n",
            "have made in not marrying me.\r\n",
            "\r\n",
            "Yours ever,\r\n",
            "\r\n",
            "Eustace Pedler.\r\n",
            "\r\n",
            "Harry was furious. It is the one point on which he and I do not\r\n",
            "see eye to eye. To him, Sir Eustace was the man who tried to murder\r\n",
            "me and whom he regards as responsible for the death of his friend.\r\n",
            "Sir Eustace’s attempts on my life have always puzzled me. They are\r\n",
            "not in the picture, so to speak. For I am sure that he always had\r\n",
            "a genuinely kindly feeling towards me.\r\n",
            "\r\n",
            "Then why did he twice attempt to take my life? Harry says “because\r\n",
            "he’s a damned scoundrel,” and seems to think that settles the\r\n",
            "matter. Suzanne was more discriminating. I talked it over with her,\r\n",
            "and she put it down to a “fear complex.” Suzanne goes in rather\r\n",
            "for psycho-analysis. She pointed out to me that Sir Eustace’s whole\r\n",
            "life was actuated by a desire to be safe and comfortable. He had\r\n",
            "an acute sense of self-preservation. And the murder of Nadina\r\n",
            "removed certain inhibitions. His actions did not represent the\r\n",
            "state of his feeling towards me, but were the result of his acute\r\n",
            "fears for his own safety. I think Suzanne is right. As for Nadina,\r\n",
            "she was the kind of woman who deserved to die. Men do all sorts of\r\n",
            "questionable things in order to get rich, but women shouldn’t\r\n",
            "pretend to be in love when they aren’t for ulterior motives.\r\n",
            "\r\n",
            "I can forgive Sir Eustace easily enough, but I shall never forgive\r\n",
            "Nadina. Never, never, never!\r\n",
            "\r\n",
            "The other day I was unpacking some tins that were wrapped in bits\r\n",
            "of an old _Daily Budget,_ and I suddenly came upon the words, “The\r\n",
            "Man in the Brown Suit.” How long ago it seemed! I had, of course,\r\n",
            "severed my connection with the _Daily Budget_ long ago—I had done\r\n",
            "with it sooner than it had done with me. _My Romantic Wedding_ was\r\n",
            "given a halo of publicity.\r\n",
            "\r\n",
            "My son is lying in the sun, kicking his legs. There’s a “man in a\r\n",
            "brown suit” if you like. He’s wearing as little as possible, which\r\n",
            "is the best costume for Africa, and is as brown as a berry. He’s\r\n",
            "always burrowing in the earth. I think he takes after Papa. He’ll\r\n",
            "have that same mania for Pleiocene clay.\r\n",
            "\r\n",
            "Suzanne sent me a cable when he was born:\r\n",
            "\r\n",
            "“Congratulations and love to the latest arrival on Lunatics’\r\n",
            "Island. Is his head dolichocephalic or brachycephalic?”\r\n",
            "\r\n",
            "I wasn’t going to stand that from Suzanne. I sent her a reply of\r\n",
            "one word, economical and to the point:\r\n",
            "\r\n",
            "“Platycephalic!”\r\n",
            "\r\n",
            "\r\n",
            "\r\n",
            "\r\n",
            "\r\n",
            "  \n"
          ]
        }
      ]
    },
    {
      "cell_type": "code",
      "metadata": {
        "id": "S_Lj5Stcn0DN",
        "colab": {
          "base_uri": "https://localhost:8080/"
        },
        "outputId": "8f8b5dcd-dd5c-484a-ec96-7eef670136a1"
      },
      "source": [
        "# Author: @verolero86\n",
        "\n",
        "# W.I.P. - first stab takes care of white space characters\n",
        "import numpy as np # to grab unique elements \n",
        "\n",
        "def find_white_space(book,nchars,debug):\n",
        "  result_book = re.findall(r'\\s',book[0:nchars]);\n",
        "\n",
        "  if debug == True:\n",
        "    print(repr(book1_chapter1[0:nchars]))\n",
        "\n",
        "  print(f\"Number of white space characters = {len(result_book)}\")\n",
        "  print(f\"Unique types of white space characters found = {np.unique(result_book)}\")\n",
        "\n",
        "  return len(result_book)\n",
        "\n",
        "def remove_specific_white_space(book,regex):\n",
        "  result_book = re.sub(regex,' ',book)\n",
        "\n",
        "  return result_book\n",
        "\n",
        "# Set a subset of characters for easier parsing (-1 for all in chapter)\n",
        "num_ws_b1c1 = find_white_space(corpus[1][\"contents\"][1],-1,True);\n",
        "print(num_ws_b1c1)\n",
        "\n",
        "num_ws_b1c2 = find_white_space(corpus[1][\"contents\"][2],-1,False);\n",
        "print(num_ws_b1c2)\n",
        "\n",
        "num_ws_b2c1 = find_white_space(corpus[2][\"contents\"][1],-1,False);\n",
        "print(num_ws_b2c1)\n",
        "\n",
        "# Cleaning up unwanted white space and breaking up int o sentences.\n",
        "b1c1 = corpus[1][\"contents\"][1]\n",
        "regex=r'[\\r\\n\\u200a]'\n",
        "b1c1_no_ws = remove_specific_white_space(b1c1,regex)\n",
        "print(f\"No \\\\r and \\\\n anymore: {repr(b1c1_no_ws[0:400])}\")\n",
        "result_sentences = re.findall(r'[^\\.\\!\\?]*[\\.\\!\\?]',b1c1_no_ws);\n",
        "print(repr(result_sentences[0]))\n",
        "print(repr(result_sentences[1]))\n",
        "print(repr(result_sentences[2]))\n",
        "print(repr(result_sentences))"
      ],
      "execution_count": null,
      "outputs": [
        {
          "output_type": "stream",
          "name": "stdout",
          "text": [
            "'\\r\\nI believe that a well-known anecdote exists to the effect that a young\\r\\nwriter, determined to make the commencement of his story forcible and\\r\\noriginal enough to catch and rivet the attention of the most blasé of\\r\\neditors, penned the following sentence:\\r\\n\\r\\n“\\u200a‘Hell!’ said the Duchess.”\\r\\n\\r\\nStrangely enough, this tale of mine opens in much the same fashion.\\r\\nOnly the lady who gave utterance to the exclamation was not a Duchess!\\r\\n\\r\\nIt was a day in early June. I had been transacting some business in\\r\\nParis and was returning by the morning service to London where I was\\r\\nstill sharing rooms with my old friend, the Belgian ex-detective,\\r\\nHercule Poirot.\\r\\n\\r\\nThe Calais express was singularly empty—in fact, my own compartment\\r\\nheld only one other traveller. I had made a somewhat hurried departure\\r\\nfrom the hotel and was busy assuring myself that I had duly collected\\r\\nall my traps when the train started. Up till then I had hardly noticed\\r\\nmy companion, but I was now violently recalled to the fact of her\\r\\nexistence. Jumping up from her seat, she let down the window and stuck\\r\\nher head out, withdrawing it a moment later with the brief and forcible\\r\\nejaculation “Hell!”\\r\\n\\r\\nNow I am old-fashioned. A woman, I consider, should be womanly. I have\\r\\nno patience with the modern neurotic girl who jazzes from morning to\\r\\nnight, smokes like a chimney, and uses language which would make a\\r\\nBillingsgate fishwoman blush!\\r\\n\\r\\nI looked up now, frowning slightly, into a pretty, impudent face,\\r\\nsurmounted by a rakish little red hat. A thick cluster of black curls\\r\\nhid each ear. I judged that she was little more than seventeen, but her\\r\\nface was covered with powder, and her lips were quite impossibly\\r\\nscarlet.\\r\\n\\r\\nNothing abashed, she returned my glance, and executed an expressive\\r\\ngrimace.\\r\\n\\r\\n“Dear me, we’ve shocked the kind gentleman!” she observed to an\\r\\nimaginary audience. “I apologize for my language! Most unladylike, and\\r\\nall that, but Oh, Lord, there’s reason enough for it! Do you know I’ve\\r\\nlost my only sister?”\\r\\n\\r\\n“Really?” I said politely. “How unfortunate.”\\r\\n\\r\\n“He disapproves!” remarked the lady. “He disapproves utterly—of me, and\\r\\nmy sister—which last is unfair, because he hasn’t seen her!”\\r\\n\\r\\nI opened my mouth, but she forestalled me.\\r\\n\\r\\n“Say no more! Nobody loves me! I shall go into the garden and eat\\r\\nworms! Boohoo! I am crushed!”\\r\\n\\r\\nShe buried herself behind a large comic French paper. In a minute or\\r\\ntwo I saw her eyes stealthily peeping at me over the top. In spite of\\r\\nmyself I could not help smiling, and in a minute she had tossed the\\r\\npaper aside, and had burst into a merry peal of laughter.\\r\\n\\r\\n“I knew you weren’t such a mutt as you looked,” she cried.\\r\\n\\r\\nHer laughter was so infectious that I could not help joining in, though\\r\\nI hardly cared for the word “mutt.” The girl was certainly all that I\\r\\nmost disliked, but that was no reason why I should make myself\\r\\nridiculous by my attitude. I prepared to unbend. After all, she was\\r\\ndecidedly pretty.\\u200a…\\r\\n\\r\\n“There! Now we’re friends!” declared the minx. “Say you’re sorry about\\r\\nmy sister—”\\r\\n\\r\\n“I am desolated!”\\r\\n\\r\\n“That’s a good boy!”\\r\\n\\r\\n“Let me finish. I was going to add that, although I am desolated, I can\\r\\nmanage to put up with her absence very well.” I made a little bow.\\r\\n\\r\\nBut this most unaccountable of damsels frowned and shook her head.\\r\\n\\r\\n“Cut it out. I prefer the ‘dignified disapproval’ stunt. Oh, your face!\\r\\n‘Not one of us,’ it said. And you were right there—though, mind you,\\r\\nit’s pretty hard to tell nowadays. It’s not every one who can\\r\\ndistinguish between a demi and a duchess. There now, I believe I’ve\\r\\nshocked you again! You’ve been dug out of the backwoods, you have. Not\\r\\nthat I mind that. We could do with a few more of your sort. I just hate\\r\\na fellow who gets fresh. It makes me mad.”\\r\\n\\r\\nShe shook her head vigorously.\\r\\n\\r\\n“What are you like when you’re mad?” I inquired with a smile.\\r\\n\\r\\n“A regular little devil! Don’t care what I say, or what I do, either! I\\r\\nnearly did a chap in once. Yes, really. He’d have deserved it too.\\r\\nItalian blood I’ve got. I shall get into trouble one of these days.”\\r\\n\\r\\n“Well,” I begged, “don’t get mad with me.”\\r\\n\\r\\n“I shan’t. I like you—did the first moment I set eyes on you. But you\\r\\nlooked so disapproving that I never thought we should make friends.”\\r\\n\\r\\n“Well, we have. Tell me something about yourself.”\\r\\n\\r\\n“I’m an actress. No—not the kind you’re thinking of, lunching at the\\r\\nSavoy covered with jewellery, and with their photograph in every paper\\r\\nsaying how much they love Madame So and So’s face cream. I’ve been on\\r\\nthe boards since I was a kid of six—tumbling.”\\r\\n\\r\\n“I beg your pardon,” I said puzzled.\\r\\n\\r\\n“Haven’t you seen child acrobats?”\\r\\n\\r\\n“Oh, I understand.”\\r\\n\\r\\n“I’m American born, but I’ve spent most of my life in England. We got a\\r\\nnew show now—”\\r\\n\\r\\n“We?”\\r\\n\\r\\n“My sister and I. Sort of song and dance, and a bit of patter, and a\\r\\ndash of the old business thrown in. It’s quite a new idea, and it hits\\r\\nthem every time. There’s to be money in it—”\\r\\n\\r\\nMy new acquaintance leaned forward, and discoursed volubly, a great\\r\\nmany of her terms being quite unintelligible to me. Yet I found myself\\r\\nevincing an increasing interest in her. She seemed such a curious\\r\\nmixture of child and woman. Though perfectly worldly-wise, and able, as\\r\\nshe expressed it, to take care of herself, there was yet something\\r\\ncuriously ingenuous in her single-minded attitude towards life, and her\\r\\nwhole-hearted determination to “make good.” This glimpse of a world\\r\\nunknown to me was not without its charm, and I enjoyed seeing her vivid\\r\\nlittle face light up as she talked.\\r\\n\\r\\nWe passed through Amiens. The name awakened many memories. My companion\\r\\nseemed to have an intuitive knowledge of what was in my mind.\\r\\n\\r\\n“Thinking of the War?”\\r\\n\\r\\nI nodded.\\r\\n\\r\\n“You were through it, I suppose?”\\r\\n\\r\\n“Pretty well. I was wounded once, and after the Somme they invalided me\\r\\nout altogether. I had a half fledged Army job for a bit. I’m a sort of\\r\\nprivate secretary now to an M. P.”\\r\\n\\r\\n“My! That’s brainy!”\\r\\n\\r\\n“No, it isn’t. There’s really awfully little to do. Usually a couple of\\r\\nhours every day sees me through. It’s dull work too. In fact, I don’t\\r\\nknow what I should do if I hadn’t got something to fall back upon.”\\r\\n\\r\\n“Don’t say you collect bugs!”\\r\\n\\r\\n“No. I share rooms with a very interesting man. He’s a Belgian—an\\r\\nex-detective. He’s set up as a private detective in London, and he’s\\r\\ndoing extraordinarily well. He’s really a very marvellous little man.\\r\\nTime and again he has proved to be right where the official police have\\r\\nfailed.”\\r\\n\\r\\nMy companion listened with widening eyes.\\r\\n\\r\\n“Isn’t that interesting, now? I just adore crime. I go to all the\\r\\nmysteries on the movies. And when there’s a murder on I just devour the\\r\\npapers.”\\r\\n\\r\\n“Do you remember the Styles Case?” I asked.\\r\\n\\r\\n“Let me see, was that the old lady who was poisoned? Somewhere down in\\r\\nEssex?”\\r\\n\\r\\nI nodded.\\r\\n\\r\\n“That was Poirot’s first big case. Undoubtedly, but for him, the\\r\\nmurderer would have escaped scot-free. It was a most wonderful bit of\\r\\ndetective work.”\\r\\n\\r\\nWarming to my subject, I ran over the heads of the affair, working up\\r\\nto the triumphant and unexpected dénouement. The girl listened\\r\\nspellbound. In fact, we were so absorbed that the train drew into\\r\\nCalais station before we realized it.\\r\\n\\r\\n“My goodness gracious me!” cried my companion. “Where’s my\\r\\npowder-puff?”\\r\\n\\r\\nShe proceeded to bedaub her face liberally, and then applied a stick of\\r\\nlip salve to her lips, observing the effect in a small pocket glass,\\r\\nand betraying not the faintest sign of self-consciousness.\\r\\n\\r\\n“I say,” I hesitated. “I dare say it’s cheek on my part, but why do all\\r\\nthat sort of thing?”\\r\\n\\r\\nThe girl paused in her operations, and stared at me with undisguised\\r\\nsurprise.\\r\\n\\r\\n“It isn’t as though you weren’t so pretty that you can afford to do\\r\\nwithout it,” I said stammeringly.\\r\\n\\r\\n“My dear boy! I’ve got to do it. All the girls do. Think I want to look\\r\\nlike a little frump up from the country?” She took one last look in the\\r\\nmirror, smiled approval, and put it and her vanity-box away in her bag.\\r\\n“That’s better. Keeping up appearances is a bit of a fag, I grant, but\\r\\nif a girl respects herself it’s up to her not to let herself get\\r\\nslack.”\\r\\n\\r\\nTo this essentially moral sentiment, I had no reply. A point of view\\r\\nmakes a great difference.\\r\\n\\r\\nI secured a couple of porters, and we alighted on the platform. My\\r\\ncompanion held out her hand.\\r\\n\\r\\n“Good-bye, and I’ll mind my language better in future.”\\r\\n\\r\\n“Oh, but surely you’ll let me look after you on the boat?”\\r\\n\\r\\n“Mayn’t be on the boat. I’ve got to see whether that sister of mine got\\r\\naboard after all anywhere. But thanks all the same.”\\r\\n\\r\\n“Oh, but we’re going to meet again, surely? I—” I hesitated. “I want to\\r\\nmeet your sister.”\\r\\n\\r\\nWe both laughed.\\r\\n\\r\\n“That’s real nice of you. I’ll tell her what you say. But I don’t fancy\\r\\nwe’ll meet again. You’ve been very good to me on the journey,\\r\\nespecially after I cheeked you as I did. But what your face expressed\\r\\nfirst thing is quite true. I’m not your kind. And that brings\\r\\ntrouble—_I___ know that well enough.\\u200a…”\\r\\n\\r\\nHer face changed. For the moment all the light-hearted gaiety died out\\r\\nof it. It looked angry—revengeful.\\u200a…\\r\\n\\r\\n“So good-bye,” she finished, in a lighter tone.\\r\\n\\r\\n“Aren’t you even going to tell me your name?” I cried, as she turned\\r\\naway.\\r\\n\\r\\nShe looked over her shoulder. A dimple appeared in each cheek. She was\\r\\nlike a lovely picture by Greuze.\\r\\n\\r\\n“Cinderella,” she said, and laughed.\\r\\n\\r\\nBut little did I think when and how I should see Cinderella again.\\r\\n\\r\\n\\r\\n'\n",
            "Number of white space characters = 1997\n",
            "Unique types of white space characters found = ['\\n' '\\r' ' ' '\\u200a']\n",
            "1997\n",
            "Number of white space characters = 3883\n",
            "Unique types of white space characters found = ['\\n' '\\r' ' ']\n",
            "3883\n",
            "Number of white space characters = 4723\n",
            "Unique types of white space characters found = ['\\n' '\\r' ' ']\n",
            "4723\n",
            "No \\r and \\n anymore: '  I believe that a well-known anecdote exists to the effect that a young  writer, determined to make the commencement of his story forcible and  original enough to catch and rivet the attention of the most blasé of  editors, penned the following sentence:    “ ‘Hell!’ said the Duchess.”    Strangely enough, this tale of mine opens in much the same fashion.  Only the lady who gave utterance to the '\n",
            "'  I believe that a well-known anecdote exists to the effect that a young  writer, determined to make the commencement of his story forcible and  original enough to catch and rivet the attention of the most blasé of  editors, penned the following sentence:    “ ‘Hell!'\n",
            "'’ said the Duchess.'\n",
            "'”    Strangely enough, this tale of mine opens in much the same fashion.'\n",
            "['  I believe that a well-known anecdote exists to the effect that a young  writer, determined to make the commencement of his story forcible and  original enough to catch and rivet the attention of the most blasé of  editors, penned the following sentence:    “ ‘Hell!', '’ said the Duchess.', '”    Strangely enough, this tale of mine opens in much the same fashion.', '  Only the lady who gave utterance to the exclamation was not a Duchess!', '    It was a day in early June.', ' I had been transacting some business in  Paris and was returning by the morning service to London where I was  still sharing rooms with my old friend, the Belgian ex-detective,  Hercule Poirot.', '    The Calais express was singularly empty—in fact, my own compartment  held only one other traveller.', ' I had made a somewhat hurried departure  from the hotel and was busy assuring myself that I had duly collected  all my traps when the train started.', ' Up till then I had hardly noticed  my companion, but I was now violently recalled to the fact of her  existence.', ' Jumping up from her seat, she let down the window and stuck  her head out, withdrawing it a moment later with the brief and forcible  ejaculation “Hell!', '”    Now I am old-fashioned.', ' A woman, I consider, should be womanly.', ' I have  no patience with the modern neurotic girl who jazzes from morning to  night, smokes like a chimney, and uses language which would make a  Billingsgate fishwoman blush!', '    I looked up now, frowning slightly, into a pretty, impudent face,  surmounted by a rakish little red hat.', ' A thick cluster of black curls  hid each ear.', ' I judged that she was little more than seventeen, but her  face was covered with powder, and her lips were quite impossibly  scarlet.', '    Nothing abashed, she returned my glance, and executed an expressive  grimace.', '    “Dear me, we’ve shocked the kind gentleman!', '” she observed to an  imaginary audience.', ' “I apologize for my language!', ' Most unladylike, and  all that, but Oh, Lord, there’s reason enough for it!', ' Do you know I’ve  lost my only sister?', '”    “Really?', '” I said politely.', ' “How unfortunate.', '”    “He disapproves!', '” remarked the lady.', ' “He disapproves utterly—of me, and  my sister—which last is unfair, because he hasn’t seen her!', '”    I opened my mouth, but she forestalled me.', '    “Say no more!', ' Nobody loves me!', ' I shall go into the garden and eat  worms!', ' Boohoo!', ' I am crushed!', '”    She buried herself behind a large comic French paper.', ' In a minute or  two I saw her eyes stealthily peeping at me over the top.', ' In spite of  myself I could not help smiling, and in a minute she had tossed the  paper aside, and had burst into a merry peal of laughter.', '    “I knew you weren’t such a mutt as you looked,” she cried.', '    Her laughter was so infectious that I could not help joining in, though  I hardly cared for the word “mutt.', '” The girl was certainly all that I  most disliked, but that was no reason why I should make myself  ridiculous by my attitude.', ' I prepared to unbend.', ' After all, she was  decidedly pretty.', ' …    “There!', ' Now we’re friends!', '” declared the minx.', ' “Say you’re sorry about  my sister—”    “I am desolated!', '”    “That’s a good boy!', '”    “Let me finish.', ' I was going to add that, although I am desolated, I can  manage to put up with her absence very well.', '” I made a little bow.', '    But this most unaccountable of damsels frowned and shook her head.', '    “Cut it out.', ' I prefer the ‘dignified disapproval’ stunt.', ' Oh, your face!', '  ‘Not one of us,’ it said.', ' And you were right there—though, mind you,  it’s pretty hard to tell nowadays.', ' It’s not every one who can  distinguish between a demi and a duchess.', ' There now, I believe I’ve  shocked you again!', ' You’ve been dug out of the backwoods, you have.', ' Not  that I mind that.', ' We could do with a few more of your sort.', ' I just hate  a fellow who gets fresh.', ' It makes me mad.', '”    She shook her head vigorously.', '    “What are you like when you’re mad?', '” I inquired with a smile.', '    “A regular little devil!', ' Don’t care what I say, or what I do, either!', ' I  nearly did a chap in once.', ' Yes, really.', ' He’d have deserved it too.', '  Italian blood I’ve got.', ' I shall get into trouble one of these days.', '”    “Well,” I begged, “don’t get mad with me.', '”    “I shan’t.', ' I like you—did the first moment I set eyes on you.', ' But you  looked so disapproving that I never thought we should make friends.', '”    “Well, we have.', ' Tell me something about yourself.', '”    “I’m an actress.', ' No—not the kind you’re thinking of, lunching at the  Savoy covered with jewellery, and with their photograph in every paper  saying how much they love Madame So and So’s face cream.', ' I’ve been on  the boards since I was a kid of six—tumbling.', '”    “I beg your pardon,” I said puzzled.', '    “Haven’t you seen child acrobats?', '”    “Oh, I understand.', '”    “I’m American born, but I’ve spent most of my life in England.', ' We got a  new show now—”    “We?', '”    “My sister and I.', ' Sort of song and dance, and a bit of patter, and a  dash of the old business thrown in.', ' It’s quite a new idea, and it hits  them every time.', ' There’s to be money in it—”    My new acquaintance leaned forward, and discoursed volubly, a great  many of her terms being quite unintelligible to me.', ' Yet I found myself  evincing an increasing interest in her.', ' She seemed such a curious  mixture of child and woman.', ' Though perfectly worldly-wise, and able, as  she expressed it, to take care of herself, there was yet something  curiously ingenuous in her single-minded attitude towards life, and her  whole-hearted determination to “make good.', '” This glimpse of a world  unknown to me was not without its charm, and I enjoyed seeing her vivid  little face light up as she talked.', '    We passed through Amiens.', ' The name awakened many memories.', ' My companion  seemed to have an intuitive knowledge of what was in my mind.', '    “Thinking of the War?', '”    I nodded.', '    “You were through it, I suppose?', '”    “Pretty well.', ' I was wounded once, and after the Somme they invalided me  out altogether.', ' I had a half fledged Army job for a bit.', ' I’m a sort of  private secretary now to an M.', ' P.', '”    “My!', ' That’s brainy!', '”    “No, it isn’t.', ' There’s really awfully little to do.', ' Usually a couple of  hours every day sees me through.', ' It’s dull work too.', ' In fact, I don’t  know what I should do if I hadn’t got something to fall back upon.', '”    “Don’t say you collect bugs!', '”    “No.', ' I share rooms with a very interesting man.', ' He’s a Belgian—an  ex-detective.', ' He’s set up as a private detective in London, and he’s  doing extraordinarily well.', ' He’s really a very marvellous little man.', '  Time and again he has proved to be right where the official police have  failed.', '”    My companion listened with widening eyes.', '    “Isn’t that interesting, now?', ' I just adore crime.', ' I go to all the  mysteries on the movies.', ' And when there’s a murder on I just devour the  papers.', '”    “Do you remember the Styles Case?', '” I asked.', '    “Let me see, was that the old lady who was poisoned?', ' Somewhere down in  Essex?', '”    I nodded.', '    “That was Poirot’s first big case.', ' Undoubtedly, but for him, the  murderer would have escaped scot-free.', ' It was a most wonderful bit of  detective work.', '”    Warming to my subject, I ran over the heads of the affair, working up  to the triumphant and unexpected dénouement.', ' The girl listened  spellbound.', ' In fact, we were so absorbed that the train drew into  Calais station before we realized it.', '    “My goodness gracious me!', '” cried my companion.', ' “Where’s my  powder-puff?', '”    She proceeded to bedaub her face liberally, and then applied a stick of  lip salve to her lips, observing the effect in a small pocket glass,  and betraying not the faintest sign of self-consciousness.', '    “I say,” I hesitated.', ' “I dare say it’s cheek on my part, but why do all  that sort of thing?', '”    The girl paused in her operations, and stared at me with undisguised  surprise.', '    “It isn’t as though you weren’t so pretty that you can afford to do  without it,” I said stammeringly.', '    “My dear boy!', ' I’ve got to do it.', ' All the girls do.', ' Think I want to look  like a little frump up from the country?', '” She took one last look in the  mirror, smiled approval, and put it and her vanity-box away in her bag.', '  “That’s better.', ' Keeping up appearances is a bit of a fag, I grant, but  if a girl respects herself it’s up to her not to let herself get  slack.', '”    To this essentially moral sentiment, I had no reply.', ' A point of view  makes a great difference.', '    I secured a couple of porters, and we alighted on the platform.', ' My  companion held out her hand.', '    “Good-bye, and I’ll mind my language better in future.', '”    “Oh, but surely you’ll let me look after you on the boat?', '”    “Mayn’t be on the boat.', ' I’ve got to see whether that sister of mine got  aboard after all anywhere.', ' But thanks all the same.', '”    “Oh, but we’re going to meet again, surely?', ' I—” I hesitated.', ' “I want to  meet your sister.', '”    We both laughed.', '    “That’s real nice of you.', ' I’ll tell her what you say.', ' But I don’t fancy  we’ll meet again.', ' You’ve been very good to me on the journey,  especially after I cheeked you as I did.', ' But what your face expressed  first thing is quite true.', ' I’m not your kind.', ' And that brings  trouble—_I___ know that well enough.', ' …”    Her face changed.', ' For the moment all the light-hearted gaiety died out  of it.', ' It looked angry—revengeful.', ' …    “So good-bye,” she finished, in a lighter tone.', '    “Aren’t you even going to tell me your name?', '” I cried, as she turned  away.', '    She looked over her shoulder.', ' A dimple appeared in each cheek.', ' She was  like a lovely picture by Greuze.', '    “Cinderella,” she said, and laughed.', '    But little did I think when and how I should see Cinderella again.']\n"
          ]
        }
      ]
    },
    {
      "cell_type": "code",
      "metadata": {
        "id": "br9fgnQ-ZczA"
      },
      "source": [
        "#Dev Notes: will refactor fetch() to generate dict of titles and indices rather than take in index\n",
        "# I.e., fetch() is backwards. should assign index based on title while fetching url\n",
        "\n",
        "\n",
        "#artifacts I've spotted in data:\n",
        "# I noticed and \"[Illustration]\" artifact in the mysterious affair at style.\n",
        "\n",
        "#possible start for sentence splitting regex\n",
        "#sentence_regex = r'([\\.\\?!][\\'\\\"\\u2018\\u2019\\u201c\\u201d\\)\\]]*\\s*(?<!\\w\\.\\w.)(?<![A-Z][a-z][a-z]\\.)(?<![A-Z][a-z]\\.)(?<![A-Z]\\.)\\s+)\n",
        "\n",
        "# V: do we need to clean up contractions to be spelled out? e.g., \"I'm\" to \"I am\", \"don't\" to \"do not\".\n",
        "#  "
      ],
      "execution_count": null,
      "outputs": []
    },
    {
      "cell_type": "markdown",
      "metadata": {
        "id": "3ovkF0EC1VdA"
      },
      "source": [
        "#Data Cleaning\n",
        "\n",
        "## Background Research\n",
        "\n",
        "\n",
        "- There are inconsistencies between the novel formats. Some of them start with a prologue and others dont. \n",
        "- There is START OF THE PROJECT present in the beginning of most but not all books, others have 'START OF THIS PROJECT', but   table of contents appear after that.\n",
        "- Some of them have the word table of contents, others say contents\n",
        "- some follow roman numeral in naming chapters, others dont\n",
        "- Some use the word 'chapter' , others just kist chapter titles followed by a number\n",
        "- Novel text files have license and other info at the end\n",
        "\n",
        "These factors above will need to be considered in data cleaning. \n",
        "\n",
        "Listing a few key particulars below: \n",
        "\n",
        "- The Mysterious Affair at Styles \n",
        "    - This Phrase is present at the beginning - \\*** START OF THE PROJECT \n",
        "    - The Novel plot starts at second instance of 'chapter I.' # period is important here. \n",
        "    - Novel ends at 'THE END' and has \\*** END OF THE PROJECT GUTENBERG EBOOK...'. \n",
        "    - Each chapter starts with 'Chapter' followed by chapter number in roman numeral, followed by new line, followed by title of chapter\n",
        "  \n",
        "\n",
        "- The Murder on the Links \n",
        "  - This Phrase is present at the beginning - \\*** START OF THIS PROJECT \n",
        "  - The Novel plot starts at second instance of '1 A Fellow Traveller'. Novel ends at 'End of Project Gutenberg's The Murder on the Links, by Agatha Christie\n",
        "  - and has \\*** END OF THIS PROJECT GUTENBERG ...' at the end. .\n",
        " - Each chapter  starts with number followed by title of chapter\n",
        "\n",
        "\n",
        "- The Secret Adversary \n",
        "  - This Phrase is present at the beginning - \\*** START OF THIS PROJECT \n",
        "  - The Novel plot starts at second instance of 'PROLOGUE'. Novel ends at 'End of the Project Gutenberg EBook of The Secret Adversary, by Agatha Christie' \n",
        "  -  has \\*** END OF THIS PROJECT GUTENBERG ...' at the end. \n",
        "  - Each chapter starts with 'Chapter' followed by chapter number in roman numeral, followed by title of chapter\n",
        "\n",
        "\n",
        "- The Man in the Brown Suit \n",
        "  - This Phrase is present at the beginning - \\*** START OF THIS PROJECT \n",
        "  - The Novel starts at second instance of 'PROLOGUE'. Novel ends at 'End of Project Gutenberg's The Man in the Brown Suit, by Agatha Christie' \n",
        "  - has \\*** END OF THIS PROJECT GUTENBERG ...' at the end. \n",
        "  - Each chapter starts with 'Chapter' followed by chapter number in roman numeral\n",
        "\n",
        "\n",
        "- The Secret of Chimneys \n",
        "    - This Phrase is present at the beginning - \\*** START OF THE PROJECT \n",
        "  - The Novel plot starts at second instance of '1 (new line)\n",
        "Anthony Cade Signs on' # new line is first here. \n",
        "- Novel ends at 'Transcriber's Notes:' and has \\*** END OF THE PROJECT GUTENBERG...' at the end.\n",
        "Each chapter starts with number followed by new line followed by title of chapter\n"
      ]
    },
    {
      "cell_type": "code",
      "metadata": {
        "id": "EkyIet661XXl"
      },
      "source": [
        ""
      ],
      "execution_count": null,
      "outputs": []
    },
    {
      "cell_type": "markdown",
      "metadata": {
        "id": "W3QdymCF1Xzm"
      },
      "source": [
        "#Data Tokenization / Prep for analysis\n",
        "\n",
        "Note: since we are not allowed to use NLTK for tokenization, we will have to use python for this as well. \n",
        "\n",
        "We can use split() but that would be very basic as it doesnt achieve tokens in a linguistic sense; we should be able to use the re package that adds support for regex; after all the point for us is to learn regex better. Recommend using re.split with our custom regex \n",
        "https://docs.python.org/3/library/re.html\n",
        "\n",
        "\n",
        "###Helpful Links: \n",
        "- https://python.plainenglish.io/how-to-tokenize-sentences-without-using-any-nlp-library-in-python-a381b75f7d22 \n",
        "- https://stackoverflow.com/questions/21361073/tokenize-words-in-a-list-of-sentences-python\n",
        "\n",
        "\n"
      ]
    },
    {
      "cell_type": "code",
      "metadata": {
        "id": "PGOjoKEn1fn_"
      },
      "source": [
        ""
      ],
      "execution_count": null,
      "outputs": []
    },
    {
      "cell_type": "markdown",
      "metadata": {
        "id": "BCj4aRmu1gBl"
      },
      "source": [
        "#Data Analysis"
      ]
    },
    {
      "cell_type": "markdown",
      "metadata": {
        "id": "R46wL0Jj1lz8"
      },
      "source": [
        "Goal of this project is to analyze the frequencies of occurrence of the protagonists and the perpetrator(s) across the novel - per chapter, and per sentence in a chapter, the mention of the crime, and other circumstances surrounding the antagonists. The ultimate objective is to use basic NLP tools to observe any patterns in plot structures across the works of one or all of the authors.  Specifically, analysis questions below need to be answered. \n",
        "\n",
        "Note: To effectively conduct this analysis, you should find resources, and read the plot summaries of each novel, so you can make your search more effective. If plot summaries are not available, use regex to search for clues, and report how well/how fast that approach worked. \n",
        "\n",
        "The plot summary answers derived from reading the book/ summary are located below each question"
      ]
    },
    {
      "cell_type": "markdown",
      "metadata": {
        "id": "PAEn08Le1jxG"
      },
      "source": [
        "##Pre-Steps"
      ]
    },
    {
      "cell_type": "markdown",
      "metadata": {
        "id": "V7NpNWwiL1Yu"
      },
      "source": [
        "Details of each book: \n",
        "\n",
        "- The Mysterious Affair at Styles \n",
        "  - Lead detective: Hercule Poirot, Arthur Hastings\n",
        "  - Other detectives/assistants: \n",
        "  - Victim: Emily Inglethorp\n",
        "  - Suspects: Alfred Inglethorp , Cavendish\n",
        "  - Perpetrator(s): Alfred Inglethorp, Evelyn Howard\n",
        "  - Other important characters: John Cavendish, \n",
        "  - Crime: Murder, Poisoning\n",
        "  - motif: murder mystery\n",
        "https://agathachristie.fandom.com/wiki/The_Mysterious_Affair_at_Styles\n",
        "\n",
        "\n",
        "- The Murder on the Links \n",
        "  - Lead detective(s): Hercule Poirot, Arthur Hastings\n",
        "  - Other detectives/assistants:  Monsieur Giraud, Monsieur Hautet\n",
        "  - Victim: Paul Renauld\n",
        "  - Suspects: Jack Renauld\n",
        "  - Perpetrator: Marthe Daubreuil.\n",
        "  - Other important characters:  Paul Renauld, Eloise Renauld, Jack Renauld, Madame Daubreuil, Gabriel Stonor, Georges Conneau, Madame Beroldy, Marthe Daubreuil, Bella Duveen, Dulcie Duveen (Cindrella), Cindrella\n",
        "  - Crime: Murder, Stabbing\n",
        "  - motif: murder mystery\n",
        "https://en.wikipedia.org/wiki/The_Murder_on_the_Links\n",
        "https://agathachristie.fandom.com/wiki/The_Murder_on_the_Links\n",
        "\n",
        "\n",
        "\n",
        "- The Secret Adversary  (complicated, Needs to be looked at more)\n",
        "  - Lead detective: Tommy and Tuppence, Tommy Beresford, Tuppence Cowley, Prudence Cowley, Prudence \"Tuppence\" Cowley, \n",
        "  - Other detectives/assistants: \n",
        "  - Victim: Jane Finn, Mrs. Vandemeyer\n",
        "  - Suspects: Mr. Brown,  Julius Hersheimmer\n",
        "  - Perpetrator: Sir James Peel Edgerton\n",
        "  - Other important characters: Jane Finn\n",
        "  - Crime: Espionage, Kidnapping\n",
        "  - motif: thriller focus rather than detection\n",
        "\n",
        "\n",
        "- The Man in the Brown Suit (complicated, Needs to be looked at more)\n",
        "  - Lead detective: Anne Beddingfeld\n",
        "  - Other detectives/assistants: \n",
        "  - Victim: Nadina aka Anita Grünberg, L. B. Carton\n",
        "  - Suspects: Harry\n",
        "  - Perpetrator: Sir Eustace Pedler\n",
        "  - Other important characters: Nadina, Count Sergius Paulovitch, the Colonel,  , Suzanne Blair, Colonel Race, Guy Pagett, Harry Rayburn, Harry Rayburn, Rev. Chichester, Miss Pettigrew,Harry Parker, Chichester\n",
        "  - Crime: diamond theft, murders, kidnapping\n",
        "  - motif: thriller focus rather than detection\n",
        "\n",
        "\n",
        "- The Secret of Chimneys (complicated, Needs to be looked at more)\n",
        "  - Lead detective: Anthony Cade aka Prince Nicholas\n",
        "  - Other detectives/assistants: Superintendent Battle, Monsieur Lemoine of the Sûreté, Mr. Fish aka american agent\n",
        "  - Victim: Perceived: Count Stanislaus aka Prince Michael Obolovitch\n",
        "  - Suspects: Anthony Cade, Prince Nicholas, King Victor, \n",
        "  - Perpetrator: Mlle Brun aka Queen Varaga aka Angèle Mory, M Lemoine aka King Victor\n",
        "  - Other important characters: King Nicholas IV, Queen Varaga aka Angèle Mory, Herman Isaacstein, Prince Michael Obolovitch,  George Lomax, Count Stylptitch, Jimmy McGrath, Virginia Revel, Captain O'Neill, Captain O'Neill, Mr Holmes, Isaacstein, Hiram P. Fish, Prince Nicholas, Mademoiselle Mlle Brun, Bill Eversleigh, Monsieur Lemoine of the Sûreté, Professor Wynwood, Boris Anchoukoff,\n",
        "   - Crime: sensitive document theft, murders, treasure hunt, espionage\n",
        "  - motif: thriller focus rather than detection\n",
        "\n"
      ]
    },
    {
      "cell_type": "code",
      "metadata": {
        "id": "ATzzpDAt1lnN"
      },
      "source": [
        ""
      ],
      "execution_count": null,
      "outputs": []
    },
    {
      "cell_type": "code",
      "metadata": {
        "id": "VfT-3mXl1o6G"
      },
      "source": [
        ""
      ],
      "execution_count": null,
      "outputs": []
    },
    {
      "cell_type": "markdown",
      "metadata": {
        "id": "CbkLHRPQ1pLl"
      },
      "source": [
        "##1. When does the detective (or a pair) occur for the first time -  chapter #, the sentence(s) # in a chapter,\n",
        "\n",
        "####Background research\n",
        "Poirot appears in Chapter# 1, sentence # 2 for the first time"
      ]
    },
    {
      "cell_type": "code",
      "metadata": {
        "id": "ePM70xfk1wWY"
      },
      "source": [
        ""
      ],
      "execution_count": null,
      "outputs": []
    },
    {
      "cell_type": "markdown",
      "metadata": {
        "id": "GLq-sNsm1wu_"
      },
      "source": [
        "##2. When is the crime first mentioned - the type of the crime and the details -  chapter #, the sentence(s) # in a chapter,\n"
      ]
    },
    {
      "cell_type": "code",
      "metadata": {
        "id": "1R9c9sHm1076"
      },
      "source": [
        ""
      ],
      "execution_count": null,
      "outputs": []
    },
    {
      "cell_type": "markdown",
      "metadata": {
        "id": "DcRq576e11V_"
      },
      "source": [
        "##3. When is the perpetrator first mentioned - chapter #, the sentence(s) # in a chapter,"
      ]
    },
    {
      "cell_type": "code",
      "metadata": {
        "id": "4OWqQFtC155B"
      },
      "source": [
        ""
      ],
      "execution_count": null,
      "outputs": []
    },
    {
      "cell_type": "markdown",
      "metadata": {
        "id": "-F_GYvFv16SX"
      },
      "source": [
        "## 4. What are the 3 words that occur around the perpetrator on each mention (i.e., the three words preceding, and the three words following the mention of a perpetrator),"
      ]
    },
    {
      "cell_type": "code",
      "metadata": {
        "id": "u-sZeYwg19lB"
      },
      "source": [
        ""
      ],
      "execution_count": null,
      "outputs": []
    },
    {
      "cell_type": "markdown",
      "metadata": {
        "id": "rGOQisCW190Y"
      },
      "source": [
        "## 5. When and how the detective/detectives and the perpetrators co-occur - chapter #, the sentence(s) # in a chapter,"
      ]
    },
    {
      "cell_type": "code",
      "metadata": {
        "id": "Uf_QyW7629H4"
      },
      "source": [
        ""
      ],
      "execution_count": null,
      "outputs": []
    },
    {
      "cell_type": "markdown",
      "metadata": {
        "id": "bDDmhW4P29Z-"
      },
      "source": [
        "## 6. When are other suspects first introduced - chapter #, the sentence(s) # in a chapter"
      ]
    },
    {
      "cell_type": "code",
      "metadata": {
        "id": "1qttHUqV3C5g"
      },
      "source": [
        ""
      ],
      "execution_count": null,
      "outputs": []
    },
    {
      "cell_type": "markdown",
      "metadata": {
        "id": "rsajewrP3VEd"
      },
      "source": [
        "# Additional/Extra Analysis"
      ]
    },
    {
      "cell_type": "code",
      "metadata": {
        "id": "rAyzwcaG3Z5j"
      },
      "source": [
        ""
      ],
      "execution_count": null,
      "outputs": []
    },
    {
      "cell_type": "markdown",
      "metadata": {
        "id": "Q0FN0SH_3azr"
      },
      "source": [
        "# Practice Section"
      ]
    },
    {
      "cell_type": "code",
      "metadata": {
        "id": "KthIUBm43eD_"
      },
      "source": [
        ""
      ],
      "execution_count": null,
      "outputs": []
    }
  ]
}