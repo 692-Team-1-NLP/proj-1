{
 "cells": [
  {
   "cell_type": "markdown",
   "metadata": {
    "id": "8FHlrdot1Lsi"
   },
   "source": [
    "# `692 Team 1 Proj-1 : Crime Novel Plot Analysis with Regex - Agatha Christie`\n",
    "\n",
    "## Objective\n",
    "The goal of this project is to conduct a plot and protagonist/antagonist analysis of the famous crime novels. For this project, we will analyze five publicly available crime novels/stories by Agatha Christie at the project Gutenberg http://www.gutenberg.org/. The novels chosen are: \n",
    "\n",
    "- The Murder on the Links \n",
    "- The Mysterious Affair at Styles \n",
    "- The Secret Adversary \n",
    "- The Man in the Brown Suit \n",
    "- The Secret of Chimneys \n",
    "\n",
    "Note: Feel free to use any background resource for the understanding of the plot, protagonist and antagonist names, and other details. Look for spoilers, details, etc. Our goal is not to predict the crime, but to computationally analyze the structure of the plot."
   ]
  },
  {
   "cell_type": "markdown",
   "metadata": {
    "id": "3ovkF0EC1VdA"
   },
   "source": [
    "\n",
    "## Data Collection and Preparation \n",
    "\n",
    "### Background Research for Data Collection and Preparation \n",
    "\n",
    "##### Data Collection\n",
    "Location for Plain text UTF-8 files for novels: \n",
    "- The Mysterious Affair at Styles https://www.gutenberg.org/files/863/863-0.txt\n",
    "- The Murder on the Links https://www.gutenberg.org/files/58866/58866-0.txt\n",
    "- The Secret Adversary https://www.gutenberg.org/files/1155/1155-0.txt\n",
    "- The Man in the Brown Suit https://www.gutenberg.org/files/61168/61168-0.txt\n",
    "- The Secret of Chimneys https://www.gutenberg.org/files/65238/65238-0.txt\n",
    "\n",
    "Note: One benefit to getting the text version is that the html version also has page number to clean, not present in text files\n",
    "\n",
    "##### Data Preparation\n",
    "- There are inconsistencies between the novel formats. Some of them start with a prologue and others dont. \n",
    "- There is START OF THE PROJECT present in the beginning of most but not all books, others have 'START OF THIS PROJECT', but   table of contents appear after that.\n",
    "- Some of them have the word table of contents, others say contents\n",
    "- some follow roman numeral in naming chapters, others dont\n",
    "- Some use the word 'chapter' , others just kist chapter titles followed by a number\n",
    "- Novel text files have license and other info at the end\n",
    "\n",
    "These factors above will need to be considered in data cleaning. \n",
    "Listing a few key particulars below: \n",
    "\n",
    "- The Murder on the Links \n",
    "  - This Phrase is present at the beginning - \\*** START OF THIS PROJECT \n",
    "  - The Novel plot starts at second instance of '1 A Fellow Traveller'. Novel ends at 'End of Project Gutenberg's The Murder on the Links, by Agatha Christie\n",
    "  - and has \\*** END OF THIS PROJECT GUTENBERG ...' at the end. .\n",
    "  - Each chapter  starts with number followed by title of chapter\n",
    "  \n",
    "  \n",
    "- The Mysterious Affair at Styles \n",
    "    - This Phrase is present at the beginning - \\*** START OF THE PROJECT \n",
    "    - The Novel plot starts at second instance of 'chapter I.' # period is important here. \n",
    "    - Novel ends at 'THE END' and has \\*** END OF THE PROJECT GUTENBERG EBOOK...'. \n",
    "    - Each chapter starts with 'Chapter' followed by chapter number in roman numeral, followed by new line, followed by title of chapter\n",
    "  \n",
    "\n",
    "- The Secret Adversary \n",
    "  - This Phrase is present at the beginning - \\*** START OF THIS PROJECT \n",
    "  - The Novel plot starts at second instance of 'PROLOGUE'. Novel ends at 'End of the Project Gutenberg EBook of The Secret Adversary, by Agatha Christie' \n",
    "  -  has \\*** END OF THIS PROJECT GUTENBERG ...' at the end. \n",
    "  - Each chapter starts with 'Chapter' followed by chapter number in roman numeral, followed by title of chapter\n",
    "\n",
    "\n",
    "- The Man in the Brown Suit \n",
    "  - This Phrase is present at the beginning - \\*** START OF THIS PROJECT \n",
    "  - The Novel starts at second instance of 'PROLOGUE'. Novel ends at 'End of Project Gutenberg's The Man in the Brown Suit, by Agatha Christie' \n",
    "  - has \\*** END OF THIS PROJECT GUTENBERG ...' at the end. \n",
    "  - Each chapter starts with 'Chapter' followed by chapter number in roman numeral\n",
    "\n",
    "\n",
    "- The Secret of Chimneys \n",
    "  - This Phrase is present at the beginning - \\*** START OF THE PROJECT \n",
    "  - The Novel plot starts at second instance of '1 (new line)\n",
    "  - Anthony Cade Signs on' # new line is first here. \n",
    "  - Novel ends at 'Transcriber's Notes:' and has \\*** END OF THE PROJECT GUTENBERG...' at the end.\n",
    "Each chapter starts with number followed by new line followed by title of chapter\n",
    "\n",
    "\n",
    "##### Data Tokenization\n",
    "Note: since we are not allowed to use NLTK or Spacy for tokenization, we will have to use python for this as well. \n",
    "We can use split() but that would be very basic as it doesnt achieve tokens in a linguistic sense; we should be able to use the re package that adds support for regex; after all the point for us is to learn regex better. Recommend using re.split with our custom regex \n",
    "https://docs.python.org/3/library/re.html\n",
    "\n",
    "##### Helpful Reference Links\n",
    "- https://stackoverflow.com/questions/7243750/download-file-from-web-in-python-3\n",
    "- https://docs.python.org/3/howto/urllib2.html\n",
    "- https://python.plainenglish.io/how-to-tokenize-sentences-without-using-any-nlp-library-in-python-a381b75f7d22 \n",
    "- https://stackoverflow.com/questions/21361073/tokenize-words-in-a-list-of-sentences-python\n"
   ]
  },
  {
   "cell_type": "markdown",
   "metadata": {
    "id": "g5f2YhUi7K3F"
   },
   "source": [
    "\n",
    "### Data Collection and Preparation Code\n"
   ]
  },
  {
   "cell_type": "markdown",
   "metadata": {
    "id": "BLBI512N7K3F"
   },
   "source": [
    "\n",
    "##### Helper Functions for retrieving and cleaning corpus\n"
   ]
  },
  {
   "cell_type": "code",
   "execution_count": 401,
   "metadata": {
    "id": "FHwNdj3-S5gW"
   },
   "outputs": [],
   "source": [
    "#Author: Luke+Veronica\n",
    "#Description: Functions for retrieving and cleaning corpus\n",
    "import urllib.request, re\n",
    "\n",
    "# this function accepts a book title as a parameter and fetches the index based on the title \n",
    "def get_index(title):\n",
    "  last_reg=re.compile(r\"\\w+$\")\n",
    "  last_word=re.findall(last_reg,title)[0]\n",
    "  if last_word ==\"Links\":\n",
    "    #\"The Murder on the Links\"\n",
    "    index=1\n",
    "  elif last_word==\"Styles\":\n",
    "    #\"The Mysterious Affair at Styles\"\n",
    "    index=2\n",
    "  elif last_word==\"Adversary\":\n",
    "    #\"The Secret Adversary\"\n",
    "    index=3\n",
    "  elif last_word==\"Suit\":\n",
    "    #\"The Man in the Brown Suit\"\n",
    "    index=4\n",
    "  elif last_word==\"Chimneys\":\n",
    "    #\"The Secret of Chimneys\"\n",
    "    index=5\n",
    "  return index\n",
    "\n",
    "# this function accepts a book index as a parameter and fetches the title based on the index \n",
    "def get_title(index):\n",
    "  if index==1:\n",
    "    title='The Murder on the Links'\n",
    "  elif index==2:\n",
    "    title='The Mysterious Affair at Styles'\n",
    "  elif index==3:\n",
    "    title='The Secret Adversary'\n",
    "  elif index==4:\n",
    "    title='The Man in the Brown Suit'  \n",
    "  elif index==5:\n",
    "    title='The Secret of Chimneys'\n",
    "  return title\n",
    "\n",
    "# this function accepts a book index as a parameter and get the text for the book from project gutenberg \n",
    "def get_text(index):\n",
    "  if index==1:\n",
    "    #\"The Murder on the Links\"\n",
    "    url = \"https://www.gutenberg.org/files/58866/58866-0.txt\"\n",
    "  elif index==2:\n",
    "    #\"The Mysterious Affair at Styles\"\n",
    "    url=\"https://www.gutenberg.org/files/863/863-0.txt\"\n",
    "  elif index==3:\n",
    "    #\"The Secret Adversary\"\n",
    "    url=\"https://www.gutenberg.org/files/1155/1155-0.txt\"\n",
    "  elif index==4:\n",
    "    #\"The Man in the Brown Suit\"\n",
    "    url=\"https://www.gutenberg.org/files/61168/61168-0.txt\"\n",
    "  elif index==5:\n",
    "    #\"The Secret of Chimneys\"\n",
    "    url=\"https://www.gutenberg.org/files/65238/65238-0.txt\"\n",
    "  response = urllib.request.urlopen(url)\n",
    "  data = response.read()      # a `bytes` object\n",
    "  text = data.decode('utf-8')\n",
    "  return text\n",
    "\n",
    "\n",
    "# this function accepts a book index  and returns an appropriate regex that can carve out chapters for that book\n",
    "def get_ch_regex(index):\n",
    "  if index==1:\n",
    "    ch_carve=re.compile(r'\\n\\d\\d?\\s[\\'\\\"\\u201c]?[A-Z].*\\n')\n",
    "  elif index==2:\n",
    "    ch_carve=re.compile(r'CHAPTER\\s[IVX]+\\.\\r\\n.*\\r\\n')\n",
    "  elif index==3:\n",
    "    ch_carve=re.compile(r'\\r\\n\\r\\n\\r\\nCHAPTER.*\\r\\n')\n",
    "  elif index==4:\n",
    "    ch_carve=re.compile(r'CHAPTER\\s\\w+\\r\\n')  \n",
    "  elif index==5:\n",
    "    ch_carve=re.compile(r'\\d\\d?\\r\\n\\r\\n[A-OQ-Z].*\\r\\n')\n",
    "  return ch_carve\n",
    "\n",
    "\n",
    "# this function accepts a book index and chapter contents as parameters and trims out any Project gutenberg related artifacts that are not part of the novel\n",
    "def trim_contents(ch_contents_dict,index):\n",
    "  last=len(ch_contents_dict)\n",
    "  if index==1:\n",
    "    ch_contents_dict[last]=ch_contents_dict[last].split('\\nEnd of Project Gutenberg')[0]\n",
    "  elif index==2:\n",
    "    ch_contents_dict[last]=ch_contents_dict[last].split('\\nTHE END')[0]\n",
    "  elif index==3:\n",
    "    ch_contents_dict[last-1]=ch_contents_dict[last-1].split('\\nEnd of the Project Gutenberg')[0]\n",
    "  elif index==4:\n",
    "    ch_contents_dict[last-1]=ch_contents_dict[last-1].split('THE END')[0]\n",
    "  elif index==5:\n",
    "    ch_contents_dict[last]=re.split(r\"TRANSCRIBER\",ch_contents_dict[last])[0]\n",
    "  return ch_contents_dict\n",
    "\n",
    "\n",
    "# this function accepts chapter as a parameter and removes white spaces\n",
    "def remove_white(chapter):\n",
    "  regex=r'[\\r\\n\\u200a_]+'\n",
    "  chapter = re.sub(regex,' ',chapter)\n",
    "  return chapter\n",
    "\n",
    "\n",
    "# this function accepts chapter as a parameter and carves out sentences\n",
    "def sent_carve(chapter):\n",
    "  #chapter=re.split(r'(?<![A-H|J-Z])[\\.\\?!](?![\\'\\\"\\u2019\\u201a\\u201c\\u275c\\u275f\\u201e\\u201d\\u0022\\u275e]\\s[a-z])(?![\\'\\\"\\u2019\\u201a\\u201c\\u275c\\u275f\\u201e\\u201d\\u0022\\u275e]\\sI said)[\\'\\\"\\u2018\\u2019\\u201c\\u201d\\)\\]]*\\s*(?<!\\w\\.\\w)(?<![A-Z][a-z][a-z])(?<![A-Z][a-z])\\s+',chapter,flags=re.UNICODE)\n",
    "  chapter=re.split(r'(?<![^A-Z][A-H|J-Z])(?<!Mr|Ms|Dr)(?<!Mrs)(?<!Mlle)(?<!Melle)(?<!\\w\\.\\w)[\\.\\?!](?![\\'\\\"\\u2019\\u201a\\u201c\\u275c\\u275f\\u201e\\u201d\\u0022\\u275e]\\s[a-z])[\\'\\\"\\u2018\\u2019\\u201c\\u201d\\)\\]]*\\s*|\\u2014\\u201d\\s*',chapter,flags=re.UNICODE)\n",
    "  chapter=chapter[:-1]\n",
    "  chapter={num+1:contents.lower() for (num,contents) in enumerate(chapter)}\n",
    "  return chapter\n",
    "\n",
    "\n",
    "# this function accepts a book title and carves out chapters and returns a dictionary of book title, chapter contents and chapter title\n",
    "def ch_carve(title):\n",
    "\n",
    "  index=get_index(title)\n",
    "  text=get_text(index)\n",
    "  ch_regex=get_ch_regex(index)\n",
    "  if index ==3:\n",
    "    text=re.split(\"CHAPTER XXVIII.     AND AFTER\\r\\n\\r\\n\\r\\n\\r\\nPROLOGUE\",text)[1]\n",
    "  if index ==4:\n",
    "    text=re.split(\"PROLOGUE\",text)[1]\n",
    "  ch_titles=re.findall(ch_regex,text)\n",
    "  ch_titles_dict={num+1:remove_white(title.strip()) for (num,title) in enumerate(ch_titles)}\n",
    "  if index==3 or index ==4:\n",
    "    ch_titles_dict.update( {0 :\"PROLOGUE\"} )\n",
    "  chapters=re.split(ch_regex,text)\n",
    "  if index==3 or index==4:\n",
    "    ch_contents_dict = {num:contents for (num,contents) in enumerate(chapters)}  \n",
    "  elif index ==1 or index ==2 or index==5:\n",
    "    chapters=chapters[1:]\n",
    "    ch_contents_dict = {num+1:contents for (num,contents) in enumerate(chapters)}\n",
    "  ch_contents_dict=trim_contents(ch_contents_dict,index)\n",
    "  return {\"title\":title,\"contents\":ch_contents_dict,\"chapters\":ch_titles_dict}\n",
    "\n",
    "\n",
    "# this function calls other helper functions and gets the corpus we will be working with\n",
    "def get_corpus():\n",
    "  #tentatively planning to index books from 1 to match chapters\n",
    "  titles=[\"The Mysterious Affair at Styles\",\"The Murder on the Links\",\"The Secret Adversary\",\"The Man in the Brown Suit\",\"The Secret of Chimneys\"]\n",
    "  corpus={ get_index(title):ch_carve(title) for title in titles}\n",
    "  return corpus\n",
    "\n",
    "\n",
    "# this function calls other helper functions and cleans the corpus\n",
    "def clean_corpus(corpus):\n",
    "  for keyb,value in corpus.items():\n",
    "    for  keyc,value in value[\"contents\"].items():\n",
    "      corpus[keyb][\"contents\"][keyc]=sent_carve(remove_white(value))\n",
    "    \n",
    "  return corpus\n",
    "\n",
    "\n",
    "# this function returns each chapter as a single blob of text\n",
    "def sent_blob(chapter):\n",
    "  temp=''  \n",
    "  #chapter=re.split(r'(?<![A-H|J-Z])[\\.\\?!](?![\\'\\\"\\u2019\\u201a\\u201c\\u275c\\u275f\\u201e\\u201d\\u0022\\u275e]\\s[a-z])(?![\\'\\\"\\u2019\\u201a\\u201c\\u275c\\u275f\\u201e\\u201d\\u0022\\u275e]\\sI said)[\\'\\\"\\u2018\\u2019\\u201c\\u201d\\)\\]]*\\s*(?<!\\w\\.\\w)(?<![A-Z][a-z][a-z])(?<![A-Z][a-z])\\s+',chapter,flags=re.UNICODE)\n",
    "  chapter=re.split(r'(?<![^A-Z][A-H|J-Z])(?<!Mr|Ms|Dr)(?<!Mrs)(?<!Mlle)(?<!Melle)(?<!\\w\\.\\w)[\\.\\?!](?![\\'\\\"\\u2019\\u201a\\u201c\\u275c\\u275f\\u201e\\u201d\\u0022\\u275e]\\s[a-z])[\\'\\\"\\u2018\\u2019\\u201c\\u201d\\)\\]]*\\s*|\\u2014\\u201d\\s*',chapter,flags=re.UNICODE)\n",
    "  chapter=chapter[:-1]\n",
    "  for ch in chapter:\n",
    "    temp=temp+\" \"+ch.lower()    \n",
    "  return temp\n",
    "\n",
    "\n",
    "# this function removes punctuation \n",
    "def remove_punc(blob):\n",
    "  blob=re.sub(r\"[\\u201c\\u201d\\?,;:\\.!\\u2018\\u2019\\u201a\\u275b\\u275c\\u275f\\s-]+\" ,' ',blob)\n",
    "  return blob\n",
    "def tighten(blob):\n",
    "  return re.sub(r\"\\s+\",\" \",blob)\n",
    "\n",
    "\n",
    "# this function adds a dictionary to the corpus that contains each book as a single blob of test accessed via corpus[\"blob\"]\n",
    "def blob_corpus(dirty_corpus):\n",
    "  for keyb,value in dirty_corpus.items():\n",
    "    blob=''\n",
    "    for  keyc,value in value[\"contents\"].items():\n",
    "      blob=blob+\" \"+tighten(remove_punc(remove_white(sent_blob(dirty_corpus[keyb][\"contents\"][keyc]))))\n",
    "    dirty_corpus[keyb][\"blob\"]=blob  \n",
    "  return dirty_corpus"
   ]
  },
  {
   "cell_type": "markdown",
   "metadata": {
    "id": "Ecs-Pswn7K3H"
   },
   "source": [
    "\n",
    "##### Functions for retrieving and cleaning corpus\n"
   ]
  },
  {
   "cell_type": "code",
   "execution_count": 402,
   "metadata": {
    "id": "bFHpUYOXeF4z"
   },
   "outputs": [],
   "source": [
    "#Author: Luke \n",
    "#Description: collect and clean corpus\n",
    "\n",
    "dirty_corpus=get_corpus()\n",
    "dirty_corpus=blob_corpus(dirty_corpus)\n",
    "corpus=clean_corpus(dirty_corpus)\n",
    "\n",
    "#print(corpus[1][\"title\"],len(corpus[1][\"chapters\"]),len(corpus[1][\"contents\"]))\n",
    "#print(corpus[1][\"contents\"][28])\n",
    "#print(corpus[2][\"contents\"][13])\n",
    "#print(corpus[1][\"blob\"])"
   ]
  },
  {
   "cell_type": "markdown",
   "metadata": {
    "id": "Q-DsacFz7K3I"
   },
   "source": [
    "\n",
    "\n",
    "\n",
    "\n",
    "## Data Analysis\n",
    "Goal of this project is to analyze the frequencies of occurrence of the protagonists and the perpetrator(s) across the novel - per chapter, and per sentence in a chapter, the mention of the crime, and other circumstances surrounding the antagonists. The ultimate objective is to use basic NLP tools to observe any patterns in plot structures across the works of one or all of the authors.  Specifically, analysis questions below need to be answered. \n",
    "\n",
    "Note: To effectively conduct this analysis, you should find resources, and read the plot summaries of each novel, so you can make your search more effective. If plot summaries are not available, use regex to search for clues, and report how well/how fast that approach worked. \n",
    "\n",
    "\n",
    "###  Background Research for Data Analysis\n",
    "Details of each book compiled by reading plot summaries, books themselves, articles and fanpages:\n",
    "\n",
    "- The Murder on the Links \n",
    "  - Lead detective(s): Hercule Poirot, Arthur Hastings\n",
    "  - Other detectives/assistants:  Monsieur Giraud, Monsieur Hautet\n",
    "  - Victim: Paul Renauld\n",
    "  - Suspects: Jack Renauld\n",
    "  - Perpetrator: Marthe Daubreuil.\n",
    "  - Other important characters:  Paul Renauld, Eloise Renauld, Jack Renauld, Madame Daubreuil, Gabriel Stonor, Georges Conneau, Madame Beroldy, Marthe Daubreuil, Bella Duveen, Dulcie Duveen (Cindrella), Cindrella\n",
    "  - Crime: Murder, Stabbing\n",
    "  - motif: murder mystery\n",
    "https://en.wikipedia.org/wiki/The_Murder_on_the_Links\n",
    "https://agathachristie.fandom.com/wiki/The_Murder_on_the_Links\n",
    "\n",
    "\n",
    "- The Mysterious Affair at Styles \n",
    "  - Lead detective: Hercule Poirot, Arthur Hastings\n",
    "  - Other detectives/assistants: \n",
    "  - Victim: Emily Inglethorp\n",
    "  - Suspects: Alfred Inglethorp , Cavendish\n",
    "  - Perpetrator(s): Alfred Inglethorp, Evelyn Howard\n",
    "  - Other important characters: John Cavendish, \n",
    "  - Crime: Murder, Poisoning\n",
    "  - motif: murder mystery\n",
    "https://agathachristie.fandom.com/wiki/The_Mysterious_Affair_at_Styles\n",
    "\n",
    "\n",
    "- The Secret Adversary\n",
    "  - Lead detective: Tommy and Tuppence, Tommy Beresford, Tuppence Cowley, Prudence Cowley, Prudence \"Tuppence\" Cowley, \n",
    "  - Other detectives/assistants: \n",
    "  - Victim: Jane Finn, Mrs. Vandemeyer\n",
    "  - Suspects: Mr. Brown,  Julius Hersheimmer\n",
    "  - Perpetrator: Sir James Peel Edgerton\n",
    "  - Other important characters: Jane Finn\n",
    "  - Crime: Espionage, Kidnapping, Theft\n",
    "  - motif: thriller focus rather than detection https://agathachristie.fandom.com/wiki/The_Secret_Adversary#Plot_details\n",
    "\n",
    "\n",
    "- The Man in the Brown Suit\n",
    "  - Lead detective: Anne Beddingfeld\n",
    "  - Other detectives/assistants: \n",
    "  - Victim: Nadina aka Anita Grünberg, L. B. Carton\n",
    "  - Suspects: Harry\n",
    "  - Perpetrator: Sir Eustace Pedler\n",
    "  - Other important characters: Nadina, Count Sergius Paulovitch, the Colonel,  , Suzanne Blair, Colonel Race, Guy Pagett, Harry Rayburn, Harry Rayburn, Rev. Chichester, Miss Pettigrew,Harry Parker, Chichester\n",
    "  - Crime: diamond theft, murders, kidnapping\n",
    "  - motif: thriller focus rather than detection\n",
    "\n",
    "\n",
    "- The Secret of Chimneys\n",
    "  - Lead detective: Anthony Cade aka Prince Nicholas\n",
    "  - Other detectives/assistants: Superintendent Battle, Monsieur Lemoine of the Sûreté, Mr. Fish aka american agent\n",
    "  - Victim: Perceived: Count Stanislaus aka Prince Michael Obolovitch\n",
    "  - Suspects: Anthony Cade, Prince Nicholas, King Victor, \n",
    "  - Perpetrator: Mlle Brun aka Queen Varaga aka Angèle Mory, M Lemoine aka King Victor\n",
    "  - Other important characters: King Nicholas IV, Queen Varaga aka Angèle Mory, Herman Isaacstein, Prince Michael Obolovitch,  George Lomax, Count Stylptitch, Jimmy McGrath, Virginia Revel, Captain O'Neill, Captain O'Neill, Mr Holmes, Isaacstein, Hiram P. Fish, Prince Nicholas, Mademoiselle Mlle Brun, Bill Eversleigh, Monsieur Lemoine of the Sûreté, Professor Wynwood, Boris Anchoukoff,\n",
    "  - Crime: sensitive document theft, murders, treasure hunt, espionage\n",
    "  - motif: thriller focus rather than detection\n",
    "\n"
   ]
  },
  {
   "cell_type": "markdown",
   "metadata": {
    "id": "kMnqtu-47K3J"
   },
   "source": [
    "\n",
    "\n",
    "### Data Analysis Code\n"
   ]
  },
  {
   "cell_type": "markdown",
   "metadata": {
    "id": "ZXsXcrO37K3J"
   },
   "source": [
    "\n",
    "#### Helper functions for answering analysis questions in the objective\n"
   ]
  },
  {
   "cell_type": "code",
   "execution_count": 403,
   "metadata": {
    "id": "lUaxNizp9CDJ"
   },
   "outputs": [],
   "source": [
    "#Author: Luke \n",
    "#Description Helper functions for answering questions\n",
    "\n",
    "#returns the regex for the detective in each book using book index\n",
    "def get_det(index):\n",
    "  if index==1:\n",
    "    det=re.compile(r\"hercules?(?!a)|poirot|arthur|hastings\")\n",
    "  elif index==2:\n",
    "    det=re.compile(r\"hercules?(?!a)|poirot|arthur|hastings\")\n",
    "  elif index==3:\n",
    "    # det=re.compile(r\"tuppence|beresford|prudence|cowley\")\n",
    "    det=re.compile(r\"tuppence|prudence|cowley|tommy|beresford\")\n",
    "  elif index==4:\n",
    "    det=re.compile(r\" anne|beddingfeld\")\n",
    "  elif index==5:\n",
    "    det=re.compile(r\"anthony|cades\")\n",
    "  else:\n",
    "    det=re.compile(r\"nobody\")\n",
    "  return det\n",
    "\n",
    "\n",
    "#returns regex for perpetrator for book via index\n",
    "def get_perp(index):\n",
    "  if index==1:\n",
    "    #checked book for abbreviations Mlle,mlle,Melle,melle - none occured in text\n",
    "    perp=re.compile(r\"mademoiselle marthe daubreuil|mademoiselle marthe|mademoiselle daubreuil|marthe daubreuil|marthe\")\n",
    "    #perp=re.compile(r\"mademoiselle( marthe)? daubreuil|marthe daubreuil|marthe\")\n",
    "  elif index==2:\n",
    "    perp=re.compile(r\"alfred inglethorp|mr\\. inglethorp|alfred|second cousin|evelyn howard|evelyn|miss howard|evie\")\n",
    "  elif index==3:\n",
    "    #perp=re.compile(r\"sir james peel edgerton|james peel edgertion|sir james edgerton|sir edgerton|james peel|peel edgertion|sir james|james\")\n",
    "    perp=re.compile(r\"sir james peel edgerton|james peel edgerton|sir james edgerton|sir edgerton|james peel|peel edgerton|sir james|(?<!st) james\")\n",
    "  elif index==4:\n",
    "    perp=re.compile(r\"sir eustace pedler|eustace pedler|sir eustace|sir pedler|eustace|pedler\")\n",
    "  elif index==5:\n",
    "    perp=re.compile(r\"mademoiselle genevieve brun|mademoiselle brun|mlle brun|brun\")\n",
    "    #perp=re.compile(r\"mlle|brun|queen|varaga|angèmle|mory|m lemoine|king|victor\")\n",
    "    #ignoring the aliases for now \n",
    "   #perp= re.compile(r\"mlle|brun|queen|varaga|angèle|mory|m lemoine|king|victor\")\n",
    "  else:\n",
    "    # V: shouldn't get here\n",
    "    perp=re.compile(r\"someone else\")\n",
    "  return perp\n",
    "\n",
    "\n",
    "#returns crime regex for book via index\n",
    "def get_crime(index):\n",
    "  if index==1:\n",
    "    crime=re.compile(r\"murdered|body (was|had been) discovered|discovered.*body|death.*occured|occured.*death|examination.*body|body.*examination|only.*committed the crime\")\n",
    "  elif index==2:\n",
    "    crime=re.compile(r\"convulsion|night of the murder|(mrs\\. inglethorp|emily|old lady|wife|mother).*poison|poison.*(mrs\\. inglethorp|emily|old lady|wife|mother)|motionless|strychnine.*killed|lost her life|introduce.*murderer|poirot.*read|master mind\")\n",
    "  elif index==3:\n",
    "    # crime=re.compile(r\"kidnapping|espionage\")\n",
    "    crime=re.compile(r\"kidnap|espionage|spy|theft|disappear|stole\")\n",
    "  elif index==4:\n",
    "    crime=re.compile(r\"murder|theft\")\n",
    "  elif index==5:\n",
    "        #crime=re.compile(r\"chimneys-murder| murder|discovered the body|assasination|assasinated\")\n",
    "    crime=re.compile(r\"discovered shot|assasination|assasinated\")\n",
    "  else:\n",
    "    # V: shouldn't get here\n",
    "    crime=re.compile(r\"nothing happened\")\n",
    "  return crime\n",
    "\n",
    "\n",
    "# returns other suspect(s) for book via index\n",
    "def get_sus(index):\n",
    "  if index==1:\n",
    "    sus=re.compile(r\"jack\")\n",
    "  elif index==2:\n",
    "    sus=re.compile(r\"john cavendish|(?<!purchased by )mr\\. cavendish|john\")\n",
    "  elif index==3:\n",
    "    # removing Mr. Brown since it was an alias\n",
    "    #sus=re.compile(r\"julius hersheimmer|mr.? hersheimmer|hersheimmer|julius\")\n",
    "    sus=re.compile(r\"julius hersheimmer|mr\\.? hersheimmer|julius p\\. hersheimmer|hersheimmer|julius\")\n",
    "  elif index==4:\n",
    "    sus=re.compile(r\"harry\")\n",
    "  elif index==5:\n",
    "    sus=re.compile(r\"king victor|victor\")\n",
    "  else:\n",
    "    # V: shouldn't get here\n",
    "    sus=re.compile(r\"no suspect\")\n",
    "  return sus\n",
    "\n",
    "\n",
    "#returns all occurences of a regex in a book\n",
    "def get_occur(index,regex):\n",
    "  occur=[]\n",
    "  for ch_index,ch_contents in corpus[index][\"contents\"].items():\n",
    "    for sent_index,sent_contents in ch_contents.items():\n",
    "      matches=re.search(regex,sent_contents)\n",
    "      if matches is not None:\n",
    "        #occur.append([ch_index,sent_index,sent_contents])\n",
    "        occur.append([\"Chapter: {0}\".format(ch_index), \"Sentence: {0}\".format(sent_index), \"Contents: {0}\".format(sent_contents)])\n",
    "        #print(\"Chapter: \",ch_index, \"Sentence: \", sent_index, \"Contents: \",sent_contents)\n",
    "  return occur\n",
    "\n",
    "\n",
    "# returns all co-occurences of two regexes in a book\n",
    "def get_co_occur(index, det,perp):\n",
    "  co_occur=[]\n",
    "  for ch_index,ch_contents in corpus[index][\"contents\"].items():\n",
    "    for sent_index,sent_contents in ch_contents.items():\n",
    "      dmatches=re.search(det,sent_contents)\n",
    "      pmatches=re.search(perp,sent_contents)\n",
    "      if dmatches is not None and pmatches is not None:\n",
    "        #co_occur.append([ch_index,sent_index,sent_contents])\n",
    "        co_occur.append([\"Chapter: {0}\".format(ch_index), \"Sentence: {0}\".format(sent_index), \"Contents: {0}\".format(sent_contents)])\n",
    "        #print(\"Chapter: \",ch_index, \"Sentence: \", sent_index, \"Contents: \",sent_contents)\n",
    "  return co_occur\n",
    "\n",
    "\n",
    "# returns a list of the 3 words the precede and the 3 words that follow each occurence of a regex in a book\n",
    "def get_3words(book,perp):\n",
    "  blob=corpus[book][\"blob\"]\n",
    "  answer=[]\n",
    "  splits=re.finditer(perp,blob)\n",
    "  for iter in splits:\n",
    "    before=re.split(r\"\\s+\",blob[0:iter.start()-1])\n",
    "    if len(before)>2:\n",
    "      before=[before[-3],before[-2],before[-1]]\n",
    "    elif len(before)==2:\n",
    "      before=[\" \", before[-2],before[-1]]\n",
    "    elif len(before)==1:\n",
    "      before=[\" \",\" \",before[0]]\n",
    "    elif len(before)==0:\n",
    "      before=[\" \"]\n",
    " #   print(before)\n",
    "    after=re.split(r\"\\s+\",blob[iter.end()+1:])\n",
    "    if len(after)>2:\n",
    "      after=[after[0],after[1],after[2]]\n",
    "    elif len(after)==2:\n",
    "      after=[after[0],after[1],\" \"]\n",
    "    elif len(after)==1:\n",
    "      after=[after[0],\" \",\" \"]\n",
    "    elif len(after)==0:\n",
    "      after=[\" \"]\n",
    "    answer.append(before+after)\n",
    "  return answer\n",
    "\n",
    "  #splits=[re.finditer(r\"\\s+\",sp) for sp in splits]\n",
    "\n",
    "    \n",
    "#returns the sentence before, sentence containing, and sentence afte for each math to a regex in a book - for invetigation not answering questions\n",
    "def get_3sentences(book,ch,sent):\n",
    "  near3=[]\n",
    "  if sent==max(corpus[book][\"contents\"][ch].keys()):\n",
    "    near3=[[sent-2,corpus[book][\"contents\"][ch][sent-2]],[sent-1,corpus[book][\"contents\"][ch][sent-1]],[sent,corpus[book][\"contents\"][ch][sent]]]\n",
    "  elif sent==min(corpus[book][\"contents\"][ch].keys()):\n",
    "    near3=[[sent,corpus[book][\"contents\"][ch][sent]],[sent+1,corpus[book][\"contents\"][ch][sent+1]],[sent+2,corpus[book][\"contents\"][ch][sent+2]]]\n",
    "  else:\n",
    "    near3=[[sent-1,corpus[book][\"contents\"][ch][sent-1]],[sent,corpus[book][\"contents\"][ch][sent]],[sent+1,corpus[book][\"contents\"][ch][sent+1]]]\n",
    "  return near3\n"
   ]
  },
  {
   "cell_type": "markdown",
   "metadata": {
    "id": "2mAYtfrn7K3N"
   },
   "source": [
    "\n",
    "### Functions for answering analysis questions in the objective \n"
   ]
  },
  {
   "cell_type": "code",
   "execution_count": 404,
   "metadata": {
    "id": "FsoopdYc_FEu",
    "outputId": "6f65e38a-0216-4bf8-dbab-52c61fa2cf46"
   },
   "outputs": [],
   "source": [
    "# loop through the books and run analysis to find the answers to objective questions\n",
    "\n",
    "det=[]\n",
    "det.clear()\n",
    "det.append(\"Zerofiller\")\n",
    "perp=[]\n",
    "perp.clear()\n",
    "perp.append(\"Zerofiller\")\n",
    "crime=[]\n",
    "crime.clear()\n",
    "crime.append(\"Zerofiller\")\n",
    "sus=[]\n",
    "sus.clear()\n",
    "sus.append(\"Zerofiller\")\n",
    "det_occur=[]\n",
    "det_occur.clear()\n",
    "det_occur.append(\"Zerofiller\")\n",
    "perp_occur=[]\n",
    "perp_occur.clear()\n",
    "perp_occur.append(\"Zerofiller\")\n",
    "co=[]\n",
    "co.clear()\n",
    "co.append(\"Zerofiller\");\n",
    "crime_occur=[]\n",
    "crime_occur.clear()\n",
    "crime_occur.append(\"Zerofiller\")\n",
    "sus_occur=[]\n",
    "sus_occur.clear()\n",
    "sus_occur.append(\"Zerofiller\")\n",
    "perp_neighbors=[]\n",
    "perp_neighbors.clear()\n",
    "perp_neighbors.append(\"Zerofiller\")\n",
    "\n",
    "for bookindex in range(1,6):\n",
    "    title = get_title(bookindex)\n",
    "    #print(\"\\n\\n\\n### Results for \", title)  \n",
    "    det.append(get_det(bookindex))\n",
    "    perp.append(get_perp(bookindex))\n",
    "    crime.append(get_crime(bookindex))\n",
    "    sus.append(get_sus(bookindex))\n",
    "    det_occur.append(get_occur(bookindex,det[bookindex]))\n",
    "    perp_occur.append(get_occur(bookindex,perp[bookindex]))\n",
    "    co.append(get_co_occur(bookindex,det[bookindex],perp[bookindex]))\n",
    "    crime_occur.append(get_occur(bookindex,crime[bookindex]))\n",
    "    sus_occur.append(get_occur(bookindex,sus[bookindex]))\n",
    "    #print(det_occur[bookindex])\n",
    "    #print(perp_occur[bookindex])\n",
    "    #print(co[bookindex])\n",
    "    #print(crime_occur[bookindex])\n",
    "    #print(sus_occur[bookindex])\n",
    "    #print(perp_occur[bookindex])\n",
    "    perp_neighbors.append(get_3words(bookindex,perp[bookindex]))\n",
    "    #for n in perp_neighbors[bookindex]:\n",
    "     # print(n)\n",
    "    #print(len(perp_neighbors[bookindex]))"
   ]
  },
  {
   "cell_type": "code",
   "execution_count": null,
   "metadata": {
    "id": "PAy9JA9E_FEv"
   },
   "outputs": [],
   "source": []
  },
  {
   "cell_type": "markdown",
   "metadata": {
    "id": "tTVwi0Ee_FEv"
   },
   "source": [
    "\n",
    "### Frequency analysis of the words that occur when Perpetrator is mentioned \n"
   ]
  },
  {
   "cell_type": "code",
   "execution_count": 405,
   "metadata": {
    "id": "TekyeR-__FEv",
    "outputId": "cad9bd43-0e2f-4944-b810-745fe82a16c3"
   },
   "outputs": [
    {
     "name": "stdout",
     "output_type": "stream",
     "text": [
      "Defaulting to user installation because normal site-packages is not writeable\n",
      "Requirement already satisfied: nltk in /usr/local/lib/python3.8/dist-packages (3.6.2)\n",
      "Requirement already satisfied: joblib in /usr/local/lib/python3.8/dist-packages (from nltk) (1.0.1)\n",
      "Requirement already satisfied: tqdm in /usr/local/lib/python3.8/dist-packages (from nltk) (4.62.2)\n",
      "Requirement already satisfied: click in /usr/local/lib/python3.8/dist-packages (from nltk) (8.0.1)\n",
      "Requirement already satisfied: regex in /usr/local/lib/python3.8/dist-packages (from nltk) (2021.8.21)\n"
     ]
    }
   ],
   "source": [
    "!pip install nltk"
   ]
  },
  {
   "cell_type": "code",
   "execution_count": null,
   "metadata": {
    "id": "51Yn49iN_FEv"
   },
   "outputs": [],
   "source": []
  },
  {
   "cell_type": "code",
   "execution_count": 406,
   "metadata": {
    "id": "_FF5CUtY_FEw",
    "outputId": "7a3df962-b081-4795-9a85-e3694b5dc730"
   },
   "outputs": [
    {
     "name": "stdout",
     "output_type": "stream",
     "text": [
      "\n",
      "\n",
      "\n",
      "Results for  The Murder on the Links\n",
      "top 50 words around perp for  The Murder on the Links are:  [('the', 28), ('to', 26), ('i', 20), ('was', 14), ('of', 14), ('and', 11), ('s', 10), ('he', 7), ('as', 7), ('her', 6), ('have', 5), ('see', 5), ('a', 5), ('had', 5), ('beautiful', 5), ('poirot', 5), ('for', 5), ('it', 5), ('she', 5), ('in', 5), ('jack', 4), ('but', 4), ('that', 4), ('by', 4), ('marthe', 4), ('is', 4), ('not', 4), ('daubreuil', 4), ('with', 3), ('girl', 3), ('us', 3), ('my', 3), ('you', 3), ('before', 3), ('your', 3), ('against', 3), ('on', 3), ('wish', 3), ('me', 3), ('could', 3), ('looking', 2), ('renauld', 2), ('into', 2), ('then', 2), ('from', 2), ('body', 2), ('face', 2), ('anxiety', 2), ('his', 2), ('marry', 2)]\n",
      "top 30 words around perp (no stop words) for  The Murder on the Links are [('see', 5), ('beautiful', 5), ('poirot', 5), ('jack', 4), ('marthe', 4), ('daubreuil', 4), ('girl', 3), ('us', 3), ('wish', 3), ('could', 3), ('looking', 2), ('renauld', 2), ('body', 2), ('face', 2), ('anxiety', 2), ('marry', 2), ('go', 2), ('truth', 2), ('leaves', 2), ('last', 2), ('overhears', 2), ('(1)', 2), ('profile', 2), ('overheard', 2), ('thought', 2), ('daughter', 2), ('son', 2), ('ears', 2), ('mother', 2), ('bent', 1)]\n",
      "\n",
      "\n",
      "\n",
      "Results for  The Mysterious Affair at Styles\n",
      "top 50 words around perp for  The Mysterious Affair at Styles are:  [('the', 38), ('and', 28), ('to', 26), ('that', 26), ('of', 26), ('s', 25), ('was', 24), ('i', 23), ('she', 19), ('it', 16), ('a', 15), ('had', 15), ('is', 15), ('her', 15), ('not', 14), ('you', 14), ('said', 14), ('poirot', 12), ('in', 12), ('be', 11), ('with', 10), ('mr', 10), ('howard', 10), ('who', 9), ('for', 9), ('all', 9), ('my', 8), ('alfred', 8), ('miss', 7), ('no', 7), ('course', 6), ('will', 6), ('were', 6), ('he', 5), ('dear', 5), ('me', 5), ('shook', 5), ('on', 5), ('this', 5), ('against', 5), ('have', 5), ('but', 5), ('john', 5), ('inglethorp', 5), ('', 4), ('there', 4), ('—', 4), ('cried', 4), ('off', 4), ('we', 4)]\n",
      "top 30 words around perp (no stop words) for  The Mysterious Affair at Styles are [('poirot', 12), ('howard', 10), ('alfred', 8), ('course', 6), ('dear', 5), ('shook', 5), ('john', 5), ('inglethorp', 5), ('cried', 4), ('husband', 4), ('one', 4), ('know', 4), ('letter', 3), ('room', 3), ('called', 3), ('well', 3), ('would', 3), ('must', 3), ('something', 3), ('could', 3), ('remember', 3), ('dearest', 3), ('asked', 3), ('time', 3), ('evie', 3), ('right', 3), ('hang', 3), ('darling', 3), ('chemist', 3), ('nodded', 3)]\n",
      "\n",
      "\n",
      "\n",
      "Results for  The Secret Adversary\n",
      "top 50 words around perp for  The Secret Adversary are:  [('said', 40), ('to', 33), ('the', 31), ('and', 27), ('s', 23), ('i', 22), ('he', 18), ('his', 16), ('was', 16), ('you', 15), ('tuppence', 14), ('at', 14), ('in', 13), ('a', 12), ('julius', 12), ('had', 12), ('her', 12), ('that', 11), ('it', 11), ('of', 10), ('with', 9), ('not', 8), ('looked', 8), ('be', 8), ('is', 8), ('up', 8), ('but', 8), ('for', 7), ('on', 7), ('we', 7), ('they', 7), ('have', 7), ('him', 7), ('smiled', 6), ('dryly', 6), ('who', 6), ('gravely', 6), ('she', 6), ('stroked', 5), ('would', 5), ('there', 5), ('mr', 5), ('once', 5), ('can', 4), ('from', 4), ('words', 4), ('miss', 4), ('brown', 4), ('out', 4), ('questions', 4)]\n",
      "top 30 words around perp (no stop words) for  The Secret Adversary are [('tuppence', 14), ('julius', 12), ('looked', 8), ('smiled', 6), ('dryly', 6), ('gravely', 6), ('stroked', 5), ('would', 5), ('words', 4), ('brown', 4), ('questions', 4), ('shook', 4), ('nothing', 4), ('yes', 4), ('eyes', 4), ('took', 4), ('nodded', 4), ('round', 3), ('well', 3), ('mrs', 3), ('ah', 3), ('must', 3), ('tommy', 3), ('got', 3), ('head', 3), ('hall', 3), ('voice', 3), ('asked', 3), ('hersheimmer', 3), ('forward', 3)]\n",
      "\n",
      "\n",
      "\n",
      "Results for  The Man in the Brown Suit\n",
      "top 50 words around perp for  The Man in the Brown Suit are:  [('i', 73), ('the', 50), ('to', 49), ('s', 34), ('and', 33), ('of', 33), ('you', 30), ('he', 28), ('was', 27), ('that', 27), ('a', 19), ('said', 19), ('my', 17), ('at', 17), ('me', 16), ('it', 16), ('in', 15), ('not', 14), ('is', 14), ('what', 13), ('on', 12), ('his', 11), ('for', 11), ('but', 11), ('with', 10), ('pagett', 10), ('t', 10), ('him', 10), ('had', 9), ('colonel', 9), ('dear', 8), ('yes', 8), ('so', 8), ('diary', 7), ('have', 7), ('did', 7), ('do', 7), ('', 6), ('would', 6), ('looked', 6), ('be', 6), ('race', 6), ('know', 6), ('tell', 6), ('secretary', 5), ('out', 5), ('there', 5), ('mr', 5), ('all', 5), ('been', 5)]\n",
      "top 30 words around perp (no stop words) for  The Man in the Brown Suit are [('pagett', 10), ('colonel', 9), ('dear', 8), ('yes', 8), ('diary', 7), ('would', 6), ('looked', 6), ('race', 6), ('know', 6), ('tell', 6), ('secretary', 5), ('cabin', 5), ('cannes', 5), ('think', 5), ('like', 4), ('got', 4), ('oh', 4), ('two', 4), ('fellow', 4), ('asked', 4), ('night', 4), ('man', 4), ('even', 3), ('last', 3), ('well', 3), ('suppose', 3), ('see', 3), ('shall', 3), ('eye', 3), ('say', 3)]\n",
      "\n",
      "\n",
      "\n",
      "Results for  The Secret of Chimneys\n",
      "top 50 words around perp for  The Secret of Chimneys are:  [('had', 3), ('s', 3), ('the', 3), ('was', 3), ('a', 3), ('an', 2), ('i', 2), ('with', 2), ('such', 2), ('person', 2), ('as', 2), ('been', 2), ('', 1), ('real', 1), ('qualm', 1), ('any', 1), ('and', 1), ('really', 1), ('that', 1), ('heir', 1), ('see—yes—that', 1), ('for', 1), ('lady', 1), ('her', 1), ('tredwell', 1), ('not', 1), ('small', 1), ('being', 1), ('told', 1), ('possibility', 1), ('chance', 1), ('ever', 1), ('spoke', 1), ('might', 1), ('he', 1), ('anthony', 1), ('whom', 1), ('eloping', 1), ('face', 1), ('by', 1), ('felt', 1), ('lived', 1), ('me', 1), ('have', 1), ('to', 1), ('thoughtfully', 1), ('suspected', 1), ('said', 1), ('employed', 1), ('of', 1)]\n",
      "top 30 words around perp (no stop words) for  The Secret of Chimneys are [('person', 2), ('real', 1), ('qualm', 1), ('really', 1), ('heir', 1), ('see—yes—that', 1), ('lady', 1), ('tredwell', 1), ('small', 1), ('told', 1), ('possibility', 1), ('chance', 1), ('ever', 1), ('spoke', 1), ('might', 1), ('anthony', 1), ('eloping', 1), ('face', 1), ('felt', 1), ('lived', 1), ('thoughtfully', 1), ('suspected', 1), ('employed', 1), ('highly', 1), ('room', 1), ('lay', 1), ('providing', 1)]\n"
     ]
    },
    {
     "name": "stderr",
     "output_type": "stream",
     "text": [
      "[nltk_data] Downloading package stopwords to\n",
      "[nltk_data]     /home/amalviya/nltk_data...\n",
      "[nltk_data]   Package stopwords is already up-to-date!\n"
     ]
    }
   ],
   "source": [
    "# Author: Verónica\n",
    "# Identify top 15 most frequent words in the neighborhood for when the perpetrator is mentioned \n",
    "# Loop through to do the analysis of all the books\n",
    "\n",
    "sorted_freq_list=[]\n",
    "sorted_freq_list.clear()\n",
    "sorted_freq_list.append(\"Zerofiller\")\n",
    "sorted_freq_no_stopwords_list=[]\n",
    "sorted_freq_no_stopwords_list.clear()\n",
    "sorted_freq_no_stopwords_list.append(\"Zerofiller\")\n",
    "\n",
    "\n",
    "from nltk.corpus import stopwords\n",
    "from nltk import download\n",
    "download('stopwords')\n",
    "stop_words = stopwords.words('english') + [\n",
    " 'ut', '\\'re','.', ',', '--', '\\'s', '?', ')', '(', ':', '\\'',\n",
    " '\\\"', '-', '}', '{', '&', '|', u'\\u2014', '', 'said', 'mr', 'miss' ]\n",
    "\n",
    "    \n",
    "for bookindex in range(1,6):\n",
    "    title = get_title(bookindex)\n",
    "    print(\"\\n\\n\\nResults for \", title)  \n",
    "    freq = {}\n",
    "    freq_no_stopwords = {}\n",
    "    flatten_perp_n = [item for sublist in perp_neighbors[bookindex] for item in sublist]  \n",
    "    flatten_no_stopwords = [word for word in flatten_perp_n if not word in stop_words]\n",
    "    unique = set(flatten_perp_n)\n",
    "    #print(flatten_perp_n)\n",
    "    unique3_no_stopwords = set(flatten_no_stopwords)\n",
    "    #print(flatten_no_stopwords)\n",
    "\n",
    "    for word in unique:\n",
    "        freq[word] = flatten_perp_n.count(word)\n",
    "    \n",
    "    for word in unique3_no_stopwords:\n",
    "        freq_no_stopwords[word] = flatten_no_stopwords.count(word)\n",
    "        \n",
    "    #print(\"freq3 = \",freq3)\n",
    "    sorted_freq = sorted(freq.items(), key=lambda x:x[1],reverse=True)\n",
    "\n",
    "    #print(\"freq3 no stopwords = \",freq3_no_stopwords)\n",
    "    sorted_freq_no_stopwords = sorted(freq_no_stopwords.items(), key=lambda x:x[1],reverse=True)\n",
    "    \n",
    "    sorted_freq_list.append(sorted_freq[:50])\n",
    "    print(\"top 50 words around perp for \", title,\"are: \",sorted_freq_list[bookindex])\n",
    "    #print(\"top 50 words around perp for \", title,\"are: \",sorted_freq[:50])\n",
    "    \n",
    "    sorted_freq_no_stopwords_list.append(sorted_freq_no_stopwords[:30])\n",
    "    print(\"top 30 words around perp (no stop words) for \", title, \"are\",sorted_freq_no_stopwords_list[bookindex])\n",
    "    #print(\"top 30 words around perp (no stop words) for \", title, \"are\",sorted_freq_no_stopwords[:30])\n",
    "    #print(stop_words)"
   ]
  },
  {
   "cell_type": "markdown",
   "metadata": {
    "id": "rx5QU41A7K3R"
   },
   "source": [
    "\n",
    "\n",
    "\n",
    "## Results\n"
   ]
  },
  {
   "cell_type": "markdown",
   "metadata": {
    "id": "XxH5EDiM7K3R"
   },
   "source": [
    "\n",
    "## Q1. When does the detective (or a pair) occur for the first time -  chapter #, the sentence(s) # in a chapter\n"
   ]
  },
  {
   "cell_type": "markdown",
   "metadata": {
    "id": "unFg1Flx_FEw"
   },
   "source": [
    "\n",
    "##### Occurence of Detective for the first time visualization\n"
   ]
  },
  {
   "cell_type": "code",
   "execution_count": 407,
   "metadata": {
    "id": "2zwLTvB-_FEx",
    "outputId": "ea199b79-8acb-408e-a4de-04a2c4c146a5"
   },
   "outputs": [
    {
     "data": {
      "image/png": "[encoded data removed]",
      "text/plain": [
       "<Figure size 432x288 with 1 Axes>"
      ]
     },
     "metadata": {
      "needs_background": "light"
     },
     "output_type": "display_data"
    }
   ],
   "source": [
    "# libraries\n",
    "import numpy as np\n",
    "import matplotlib.pyplot as plt\n",
    " \n",
    "# set width of bars\n",
    "barWidth = 0.25\n",
    " \n",
    "# set heights of bars\n",
    "bars1 = [1, 1, 1, 1, 1]\n",
    "bars2 = [5, 2, 1, 8, 15]\n",
    " \n",
    "# Set position of bar on X axis\n",
    "r1 = np.arange(len(bars1))\n",
    "r2 = [x + barWidth for x in r1]\n",
    " \n",
    "# Make the plot\n",
    "plt.bar(r1, bars1, color='#7f6d5f', width=barWidth, edgecolor='white', label='Chapter')\n",
    "plt.bar(r2, bars2, color='#557f2d', width=barWidth, edgecolor='white', label='Sentence')\n",
    " \n",
    "# Add xticks on the middle of the group bars\n",
    "plt.xlabel('Book title', fontweight='bold')\n",
    "plt.ylabel('Occurence', fontweight='bold')\n",
    "plt.grid(color='lightgrey', linestyle='-', linewidth=.5)\n",
    "\n",
    "plt.xticks([r + barWidth for r in range(len(bars1))], ['The Murder \\non the Links', 'The Mysterious \\nAffair at Styles', 'The Secret \\nAdversary', 'The Man in \\nthe Brown Suit', 'The Secret \\nof Chimneys'], rotation = 45, rotation_mode='anchor')\n",
    "\n",
    "# Create legend & Show graphic\n",
    "plt.legend()\n",
    "plt.show()"
   ]
  },
  {
   "cell_type": "markdown",
   "metadata": {
    "id": "YVMDgZqv7K3S"
   },
   "source": [
    "### The Murder on the Links "
   ]
  },
  {
   "cell_type": "code",
   "execution_count": 408,
   "metadata": {
    "id": "uDO06L7Z7K3T",
    "outputId": "4f4ae6cd-1b87-4acc-87b5-5ec88646f5c5"
   },
   "outputs": [
    {
     "name": "stdout",
     "output_type": "stream",
     "text": [
      "['Chapter: 1', 'Sentence: 5', 'Contents: i had been transacting some business in paris and was returning by the morning service to london where i was still sharing rooms with my old friend, the belgian ex-detective, hercule poirot']\n"
     ]
    }
   ],
   "source": [
    "bookindex=1\n",
    "print(det_occur[bookindex][0])"
   ]
  },
  {
   "cell_type": "markdown",
   "metadata": {
    "id": "32P8xypm7K3S"
   },
   "source": [
    "###  The Mysterious Affair at Styles "
   ]
  },
  {
   "cell_type": "code",
   "execution_count": 409,
   "metadata": {
    "id": "t7Tjw7yE_FEy",
    "outputId": "4da779d0-7b13-497c-b8ea-646d154b691f"
   },
   "outputs": [
    {
     "name": "stdout",
     "output_type": "stream",
     "text": [
      "['Chapter: 1', 'Sentence: 2', 'Contents: nevertheless, in view of the world-wide notoriety which attended it, i have been asked, both by my friend poirot and the family themselves, to write an account of the whole story']\n"
     ]
    }
   ],
   "source": [
    "bookindex=2\n",
    "print(det_occur[bookindex][0])"
   ]
  },
  {
   "cell_type": "markdown",
   "metadata": {
    "id": "oSOXUdVL7K3S"
   },
   "source": [
    "### The Secret Adversary "
   ]
  },
  {
   "cell_type": "code",
   "execution_count": 410,
   "metadata": {
    "id": "r5H-GPBS_FEy",
    "outputId": "77796050-3518-4c9f-c12c-cd72d8c644cd"
   },
   "outputs": [
    {
     "name": "stdout",
     "output_type": "stream",
     "text": [
      "['Chapter: 1', 'Sentence: 1', 'Contents:  “tommy, old thing']\n"
     ]
    }
   ],
   "source": [
    "bookindex=3\n",
    "print(det_occur[bookindex][0])"
   ]
  },
  {
   "cell_type": "markdown",
   "metadata": {
    "id": "S-iX1pnI7K3T"
   },
   "source": [
    "### The Man in the Brown Suit "
   ]
  },
  {
   "cell_type": "code",
   "execution_count": 411,
   "metadata": {
    "id": "2K-QrQvs_FEz",
    "outputId": "f4c25cdc-73c8-4efe-c9df-75fb5988192f"
   },
   "outputs": [
    {
     "name": "stdout",
     "output_type": "stream",
     "text": [
      "['Chapter: 1', 'Sentence: 8', 'Contents: anne beddingfeld starts to narrate her adventures']\n"
     ]
    }
   ],
   "source": [
    "bookindex=4\n",
    "print(det_occur[bookindex][0])"
   ]
  },
  {
   "cell_type": "markdown",
   "metadata": {
    "id": "GqrnUi0W7K3T"
   },
   "source": [
    "### The Secret of Chimneys "
   ]
  },
  {
   "cell_type": "code",
   "execution_count": 412,
   "metadata": {
    "id": "ZvPkQ2RZ_FEz",
    "outputId": "e63e6cc9-dd16-4def-9113-f6376768ce03"
   },
   "outputs": [
    {
     "name": "stdout",
     "output_type": "stream",
     "text": [
      "['Chapter: 1', 'Sentence: 15', 'Contents: anthony cade and his friend had stepped a little apart']\n"
     ]
    }
   ],
   "source": [
    "bookindex=5\n",
    "print(det_occur[bookindex][0])"
   ]
  },
  {
   "cell_type": "code",
   "execution_count": null,
   "metadata": {
    "id": "YiF_y8U77K3T"
   },
   "outputs": [],
   "source": []
  },
  {
   "cell_type": "code",
   "execution_count": null,
   "metadata": {
    "id": "ePM70xfk1wWY"
   },
   "outputs": [],
   "source": []
  },
  {
   "cell_type": "markdown",
   "metadata": {
    "id": "-F_GYvFv16SX"
   },
   "source": [
    "## Q2. When is the crime first mentioned - the type of the crime and the details - chapter #, the sentence(s) # in a chapter,"
   ]
  },
  {
   "cell_type": "markdown",
   "metadata": {
    "id": "unFg1Flx_FEw"
   },
   "source": [
    "\n",
    "##### Occurence of Crime for the first time visualization\n"
   ]
  },
  {
   "cell_type": "code",
   "execution_count": 413,
   "metadata": {},
   "outputs": [
    {
     "data": {
      "image/png": "[encoded data removed]",
      "text/plain": [
       "<Figure size 432x288 with 1 Axes>"
      ]
     },
     "metadata": {
      "needs_background": "light"
     },
     "output_type": "display_data"
    }
   ],
   "source": [
    "# When is the crime first mentioned\n",
    "\n",
    "import matplotlib.pyplot as plt\n",
    "from matplotlib.colors import ListedColormap\n",
    "from matplotlib.ticker import MaxNLocator\n",
    "\n",
    "\n",
    "#ax = plt.figure().gca()\n",
    "#ax.xaxis.set_major_locator(MaxNLocator(integer=True))\n",
    "\n",
    "x = [2,3,4,4,10]\n",
    "y = [324, 48,  186, 26, 27]\n",
    "classes = ['The Murder on the Links', 'The Mysterious Affair at Styles',  'The Secret Adversary', 'The Man in the Brown Suit', 'The Secret of Chimneys']\n",
    "values = [0, 1, 2, 3, 4]\n",
    "\n",
    "colours = ListedColormap(['r','b','g',  'y'  ,'k'])\n",
    "scatter = plt.scatter(x, y,c=values, cmap=colours)\n",
    "\n",
    "\n",
    "plt.legend(handles=scatter.legend_elements()[0], labels=classes, loc=\"upper center\", bbox_to_anchor=(0.5, 1.3), ncol=2)\n",
    "plt.xlabel(\"Chapter\")\n",
    "plt.ylabel(\"Sentence\")\n",
    "plt.grid(color='lightgrey', linestyle='-', linewidth=.5)\n"
   ]
  },
  {
   "cell_type": "markdown",
   "metadata": {
    "id": "M7ueDUDH7K3U"
   },
   "source": [
    "### The Murder on the Links "
   ]
  },
  {
   "cell_type": "code",
   "execution_count": 414,
   "metadata": {
    "id": "cqfLa4xM_FE0",
    "outputId": "3e80db43-9597-451a-e2c8-b6027a9a54f1"
   },
   "outputs": [
    {
     "name": "stdout",
     "output_type": "stream",
     "text": [
      "['Chapter: 2', 'Sentence: 324', 'Contents: “m. renauld was murdered this morning']\n"
     ]
    }
   ],
   "source": [
    "bookindex=1\n",
    "print(crime_occur[bookindex][0])"
   ]
  },
  {
   "cell_type": "markdown",
   "metadata": {
    "id": "Y44PFy0V7K3U"
   },
   "source": [
    "###  The Mysterious Affair at Styles "
   ]
  },
  {
   "cell_type": "code",
   "execution_count": 415,
   "metadata": {
    "id": "EmYgVsbV_FE0",
    "outputId": "8f0ace8e-4fec-4449-d471-3d7a63db6409"
   },
   "outputs": [
    {
     "name": "stdout",
     "output_type": "stream",
     "text": [
      "['Chapter: 3', 'Sentence: 48', 'Contents: mrs. inglethorp was lying on the bed, her whole form agitated by violent convulsions, in one of which she must have overturned the table beside her']\n"
     ]
    }
   ],
   "source": [
    "bookindex=2\n",
    "print(crime_occur[bookindex][0])"
   ]
  },
  {
   "cell_type": "markdown",
   "metadata": {
    "id": "NStcTh9y7K3V"
   },
   "source": [
    "### The Secret Adversary "
   ]
  },
  {
   "cell_type": "code",
   "execution_count": 416,
   "metadata": {
    "id": "m55wgf0p_FE1",
    "outputId": "61616243-2ac5-4791-99e0-f5c0f9f4f2c2"
   },
   "outputs": [
    {
     "name": "stdout",
     "output_type": "stream",
     "text": [
      "['Chapter: 4', 'Sentence: 186', 'Contents: the disappearance of jane finn was forgotten and the whole affair was lost in oblivion']\n"
     ]
    }
   ],
   "source": [
    "bookindex=3\n",
    "print(crime_occur[bookindex][0])"
   ]
  },
  {
   "cell_type": "markdown",
   "metadata": {
    "id": "aiZRlWfa7K3V"
   },
   "source": [
    "### The Man in the Brown Suit "
   ]
  },
  {
   "cell_type": "code",
   "execution_count": 417,
   "metadata": {
    "id": "fqi0baXa_FE1",
    "outputId": "7c59207c-26b9-4a81-9c71-f153fdc7f782"
   },
   "outputs": [
    {
     "name": "stdout",
     "output_type": "stream",
     "text": [
      "['Chapter: 4', 'Sentence: 26', 'Contents: the daily budget  had jumped to the conclusion that the man in the tube had murdered the woman and afterwards committed suicide']\n"
     ]
    }
   ],
   "source": [
    "bookindex=4\n",
    "print(crime_occur[bookindex][0])"
   ]
  },
  {
   "cell_type": "markdown",
   "metadata": {
    "id": "DP6-CBQ97K3V"
   },
   "source": [
    "### The Secret of Chimneys "
   ]
  },
  {
   "cell_type": "code",
   "execution_count": 418,
   "metadata": {
    "id": "NzNXQ4mP_FE2",
    "outputId": "48234fbc-2f29-4216-9c98-f19d852a427e"
   },
   "outputs": [
    {
     "name": "stdout",
     "output_type": "stream",
     "text": [
      "['Chapter: 10', 'Sentence: 27', 'Contents: one of his lordship’s guests, a foreign gentleman, discovered shot']\n"
     ]
    }
   ],
   "source": [
    "bookindex=5\n",
    "print(crime_occur[bookindex][0])"
   ]
  },
  {
   "cell_type": "code",
   "execution_count": null,
   "metadata": {
    "id": "1R9c9sHm1076"
   },
   "outputs": [],
   "source": []
  },
  {
   "cell_type": "markdown",
   "metadata": {
    "id": "Za8Ft8pn7K3W"
   },
   "source": [
    "## Q3. When is the perpetrator first mentioned - chapter #, the sentence(s) # in a chapter"
   ]
  },
  {
   "cell_type": "markdown",
   "metadata": {
    "id": "unFg1Flx_FEw"
   },
   "source": [
    "\n",
    "##### Occurence of perpetrator for the first time visualization\n"
   ]
  },
  {
   "cell_type": "code",
   "execution_count": 419,
   "metadata": {},
   "outputs": [
    {
     "data": {
      "image/png": "[encoded data removed]",
      "text/plain": [
       "<Figure size 432x288 with 1 Axes>"
      ]
     },
     "metadata": {
      "needs_background": "light"
     },
     "output_type": "display_data"
    }
   ],
   "source": [
    "# When is the perpetrator first mentioned\n",
    "\n",
    "import matplotlib.pyplot as plt\n",
    "from matplotlib.colors import ListedColormap\n",
    "from matplotlib.ticker import MaxNLocator\n",
    "\n",
    "\n",
    "#ax = plt.figure().gca()\n",
    "#ax.xaxis.set_major_locator(MaxNLocator(integer=True))\n",
    "\n",
    "x = [7,1,10,1,5]\n",
    "y = [146, 33,  74, 6, 187]\n",
    "classes = ['The Murder on the Links', 'The Mysterious Affair at Styles',  'The Secret Adversary', 'The Man in the Brown Suit', 'The Secret of Chimneys']\n",
    "values = [0, 1, 2, 3, 4]\n",
    "\n",
    "colours = ListedColormap(['r','b','g',  'y'  ,'k'])\n",
    "scatter = plt.scatter(x, y,c=values, cmap=colours)\n",
    "\n",
    "\n",
    "plt.legend(handles=scatter.legend_elements()[0], labels=classes, loc=\"upper center\", bbox_to_anchor=(0.5, 1.3), ncol=2)\n",
    "plt.xlabel(\"Chapter\")\n",
    "plt.ylabel(\"Sentence\")\n",
    "plt.grid(color='lightgrey', linestyle='-', linewidth=.5)\n"
   ]
  },
  {
   "cell_type": "markdown",
   "metadata": {
    "id": "NsSmK5M07K3W"
   },
   "source": [
    "### The Murder on the Links "
   ]
  },
  {
   "cell_type": "code",
   "execution_count": 420,
   "metadata": {
    "id": "fiMJLzyK_FE3",
    "outputId": "78bef8bb-ceb2-4490-e2e8-cc2ed3db1e0e"
   },
   "outputs": [
    {
     "name": "stdout",
     "output_type": "stream",
     "text": [
      "['Chapter: 7', 'Sentence: 146', 'Contents: “mademoiselle daubreuil,” said m. hautet, sweeping off his hat, “we regret infinitely to disturb you, but the exigencies of the law—you comprehend']\n"
     ]
    }
   ],
   "source": [
    "bookindex=1\n",
    "print(perp_occur[bookindex][0])"
   ]
  },
  {
   "cell_type": "markdown",
   "metadata": {
    "id": "Q3134GpU7K3W"
   },
   "source": [
    "###  The Mysterious Affair at Styles "
   ]
  },
  {
   "cell_type": "markdown",
   "metadata": {
    "id": "wIFv6Unu7K3W"
   },
   "source": [
    "Alfred Inglethorp and Evelyn Howard are first mentioned in chapter 1 in sentences 32 and 40 respectively"
   ]
  },
  {
   "cell_type": "code",
   "execution_count": 421,
   "metadata": {
    "id": "eH0XtMXy_FE3",
    "outputId": "46037302-c295-463f-d7e5-3e03a6dbd08a"
   },
   "outputs": [
    {
     "name": "stdout",
     "output_type": "stream",
     "text": [
      "['Chapter: 1', 'Sentence: 33', 'Contents: as for evie—you remember evie']\n"
     ]
    }
   ],
   "source": [
    "bookindex=2\n",
    "print(perp_occur[bookindex][0])"
   ]
  },
  {
   "cell_type": "markdown",
   "metadata": {
    "id": "8XXfXfOM7K3X"
   },
   "source": [
    "### The Secret Adversary "
   ]
  },
  {
   "cell_type": "code",
   "execution_count": 422,
   "metadata": {
    "id": "eeDAwisY_FE4",
    "outputId": "cef89f86-1ad9-4788-8901-00f10d8a0d84"
   },
   "outputs": [
    {
     "name": "stdout",
     "output_type": "stream",
     "text": [
      "['Chapter: 10', 'Sentence: 74', 'Contents: “in the meantime, you are going about everywhere with peel edgerton']\n"
     ]
    }
   ],
   "source": [
    "bookindex=3\n",
    "print(perp_occur[bookindex][0])"
   ]
  },
  {
   "cell_type": "markdown",
   "metadata": {
    "id": "9H4kp1Iv7K3X"
   },
   "source": [
    "### The Man in the Brown Suit "
   ]
  },
  {
   "cell_type": "code",
   "execution_count": 423,
   "metadata": {
    "id": "BA1ovOxQ_FE4",
    "outputId": "86c4839a-e5cd-4f38-9bec-b760d7c8c8cf"
   },
   "outputs": [
    {
     "name": "stdout",
     "output_type": "stream",
     "text": [
      "['Chapter: 1', 'Sentence: 6', 'Contents: very fortunately, too, the gaps that i cannot supply from my own knowledge are amply covered by sir eustace pedler’s diary, of which he has kindly begged me to make use']\n"
     ]
    }
   ],
   "source": [
    "bookindex=4\n",
    "print(perp_occur[bookindex][0])"
   ]
  },
  {
   "cell_type": "markdown",
   "metadata": {
    "id": "XuwnS9Oa7K3X"
   },
   "source": [
    "### The Secret of Chimneys "
   ]
  },
  {
   "cell_type": "code",
   "execution_count": 424,
   "metadata": {
    "id": "EWzmSFfF_FE4",
    "outputId": "07992492-75c5-4c89-e59b-7abfb075abc6"
   },
   "outputs": [
    {
     "name": "stdout",
     "output_type": "stream",
     "text": [
      "['Chapter: 15', 'Sentence: 187', 'Contents: let me see—yes—that’s mademoiselle brun’s room']\n"
     ]
    }
   ],
   "source": [
    "bookindex=5\n",
    "print(perp_occur[bookindex][0])"
   ]
  },
  {
   "cell_type": "code",
   "execution_count": null,
   "metadata": {
    "id": "4OWqQFtC155B"
   },
   "outputs": [],
   "source": []
  },
  {
   "cell_type": "markdown",
   "metadata": {
    "id": "x9fR1d6_7K3Y"
   },
   "source": [
    "## Q4. What are the 3 words that occur around the perpetrator on each mention (i.e., the three words preceding, and the three words following the mention of a perpetrator),"
   ]
  },
  {
   "cell_type": "markdown",
   "metadata": {
    "id": "L4rnIkeE7K3Y"
   },
   "source": [
    "### The Murder on the Links "
   ]
  },
  {
   "cell_type": "code",
   "execution_count": 425,
   "metadata": {
    "id": "qEbeYNyM_FE5",
    "outputId": "d32dfd08-3f74-4096-fc47-76dff888d2df"
   },
   "outputs": [
    {
     "name": "stdout",
     "output_type": "stream",
     "text": [
      "['she', 'was', 'afraid', 'said', 'm', 'hautet']\n",
      "['turned', 'to', 'her', 'dear', 'but', 'the']\n",
      "['to', 'speak', 'before', 'as', 'my', 'daughter']\n",
      "['us', 'it', 'was', 'i', 'beg', 'your']\n",
      "['our', 'amélie', 'explained', 'with', 'a', 'blush']\n",
      "['your', 'heart', 'on', 'she', 'is', 'not']\n",
      "['the', 'quarrel', 'was', 'renauld', 'sprang', 'round']\n",
      "['admitted', 'i', 'love', 'and', 'i', 'wish']\n",
      "['boy', 'you', 'too', 'is', 'as', 'good']\n",
      "['have', 'nothing', 'against', 'in', 'any', 'way']\n",
      "['your', 'intentions', 'towards', 'he', 'resumed', 'he']\n",
      "['he', 'had', 'against', 'to', 'that', 'he']\n",
      "['i', 'was', 'marrying', 'and', 'not', 'her']\n",
      "['i', 'wrote', 'to', 'telling', 'her', 'what']\n",
      "['yesterday', 'it', 'was', 'today', 'it', 'is']\n",
      "['to', 'rag', 'me', 'is', 'a', 'very']\n",
      "['him', 'out', 'with', 'but', 'i', 'fear']\n",
      "['beautiful', 'girl', 'like', 'and', 'the', 'result']\n",
      "['always', 'think', 'of', 'as', 'the', 'girl']\n",
      "['of', 'the', 'beautiful', 'chéri', 'she', 'was']\n",
      "['you', 'know', 'it', 'jack', 'renauld', 'replied']\n",
      "['deep', 'anxiety', 'underlying', 's', 'tones—but', 'i']\n",
      "['the', 'reason', 'of', 's', 'poignant', 'anxiety']\n",
      "['thing', 'was', 'certain', 'had', 'known', 'all']\n",
      "['see', 'my', 'fiancée', 'i', 'was', 'on']\n",
      "['over', 'his', 'shoulder', 'may', 'find', 'herself']\n",
      "['the', 'moment', 'that', 'looking', 'slightly', 'startled']\n",
      "['house', 'maman', 'whispered', 'i', 'must', 'go']\n",
      "['absolute', 'truth', 'unwittingly', 'told', 'us', 'the']\n",
      "['if', 'he', 'saw', 'on', 'the', 'night']\n",
      "['me', 'to', 'see', 'before', 'he', 'could']\n",
      "['did', 'not', 'see', 'whom', 'did', 'he']\n",
      "['wish', 'to', 'marry', 'son', 'leaves', 'for']\n",
      "['garden', 'witnessed', 'by', 'letter', 'written', 'to']\n",
      "['wish', 'to', 'marry', 'son', 'leaves', 'for']\n",
      "['returning', 'to', 'see', 'come', 'face', 'to']\n",
      "['the', 'ears', 'of', 'i', 'shook', 'my']\n",
      "['to', 'help', 'us', 'i', 'handed', 'it']\n",
      "['the', 'villa', 'marguerite', 'was', 'at', 'the']\n",
      "['poirot', 'watching', 'her', 'frowned', 'screening', 'some']\n",
      "['s', 'real', 'name', 'looked', 'at', 'him']\n",
      "['departure', 'for', 'england', 'listened', 'spellbound', 'when']\n",
      "['merlinville', 'to', 'rejoin', 'and', 'his', 'mother']\n",
      "['after', 'i', 'met', 'and', 'realized', 'i']\n",
      "['its', 'coming', 'to', 's', 'ears', 'and']\n",
      "['order', 'to', 'see', 'before', 'going', 'to']\n",
      "['in', 'person', 'to', 'eh', 'finished', 'poirot']\n",
      "['are', 'jack', 'and', 'i', 'exclaimed', 'looking']\n",
      "['better', 'not', 'but', 'and', 'i', 'in']\n",
      "['murmured', 'poirot', 'to', 'where', 'can', 'we']\n",
      "['the', 'charge', 'of', 'and', 'her', 'mother']\n",
      "['the', 'profile', 'of', 'ah', 'said', 'poirot']\n",
      "['into', 'the', 'bedroom', 'was', 'embroidering', 'by']\n",
      "['the', 'profile', 'of', 'as', 'she', 'bent']\n",
      "['beautiful', 'face', 'of', '', 'i', 'have']\n",
      "['that', 'we', 'found', 's', 'body', 'in']\n",
      "['them', 'yes', 'from', 's', 'own', 'lips']\n",
      "['easily', 'you', 'overheard', 's', 'conversation', 'with']\n",
      "['possible', 'motive', 'could', 'have', 'for', 'murdering']\n",
      "['the', 'standpoint', 'of', 'marthe', 'daubreuil', 'overhears']\n",
      "['of', 'marthe', 'daubreuil', 'overhears', 'what', 'passes']\n",
      "['the', 'mind', 'of', 'in', 'fact', 'i']\n",
      "['me', 'infallibly', 'to', 'the', 'dagger', 'jack']\n",
      "['third', 'one', 'to', 'so', 'then', 'to']\n",
      "['of', 'note', 'against', '(1)', 'marthe', 'daubreuil']\n",
      "['marthe', 'daubreuil', '(1)', 'could', 'have', 'overheard']\n",
      "['s', 'plans', '(2)', 'had', 'a', 'direct']\n",
      "['s', 'death', '(3)', 'was', 'the', 'daughter']\n",
      "['actual', 'blow', '(4)', 'was', 'the', 'only']\n",
      "['the', 'crime', 'was', 'but', 'i', 'had']\n",
      "['by', 'jack', 'to', 'why', 'then', 'bella']\n",
      "['steps', 'to', 'force', 'into', 'the', 'open']\n",
      "['as', 'i', 'thought', 'made', 'a', 'last']\n",
      "['brains', 'that', 'beautiful', 'and', 'her', 'object']\n",
      "['the', 'floor', 'by', 's', 'body', 'i']\n",
      "['go', 'quite', 'as', 'had', 'planned', 'to']\n",
      "['last', 'chance', 'for', 'the', 'idea', 'of']\n",
      "['begin', 'to', 'suspect', 'poirot', 'when', 'she']\n",
      "['have', 'thought', 'of', 'from', 'the', 'beginning']\n",
      "['a', 'siren', 'and', 'as', 'the', 'girl']\n",
      "['to', 'the', 'truth', 'was', 'very', 'beautiful']\n"
     ]
    }
   ],
   "source": [
    "bookindex=1\n",
    "for n in perp_neighbors[bookindex]:\n",
    "  print(n)"
   ]
  },
  {
   "cell_type": "markdown",
   "metadata": {
    "id": "doIeja5v7K3Y"
   },
   "source": [
    "###  The Mysterious Affair at Styles "
   ]
  },
  {
   "cell_type": "code",
   "execution_count": 426,
   "metadata": {
    "id": "dJDX7SY9_FE6",
    "outputId": "bd0a581f-8779-4aec-f04a-c9abec29bae0"
   },
   "outputs": [
    {
     "name": "stdout",
     "output_type": "stream",
     "text": [
      "['us', 'as', 'for', 'you', 'remember', 'evie']\n",
      "['for', 'evie—you', 'remember', 'no', 'oh', 'i']\n",
      "['a', 'great', 'sport—old', 'not', 'precisely', 'young']\n",
      "['of', 'being', 'a', 'or', 'something', 'of']\n",
      "['or', 'something', 'of', 's', 'though', 'she']\n",
      "['that', 'she', 'and', 'were', 'engaged', 'the']\n",
      "['for', 'that', 'fellow', 'he', 'checked', 'the']\n",
      "['our', 'approach', 'hullo', 'here', 's', 'our']\n",
      "['hero', 'mr', 'hastings', 'miss', 'howard', 'shook']\n",
      "['mr', 'hastings—miss', 'howard', 'shook', 'hands', 'with']\n",
      "['re', 'a', 'cynic', 'said', 'john', 'laughing']\n",
      "['refreshed', 'well', 'said', 'drawing', 'off', 'her']\n",
      "['princess', 'after', 'tea', 'i', 'll', 'write']\n",
      "['are', 'so', 'thoughtful', 'dear', 'the', 'french']\n",
      "['all', 'these', 'years', 'darling', 'mr', 'hastings—my']\n",
      "['some', 'curiosity', 'at', 'darling', 'he', 'certainly']\n",
      "['upon', 'the', 'company', 'in', 'particular', 'took']\n",
      "['about', 'letters', 'to', 'and', 'her', 'husband']\n",
      "['story', 'myself', 'remarked', 'lots', 'of', 'nonsense']\n",
      "['of', 'a', 'mess', 's', 'had', 'a']\n",
      "['a', 'row', 'with', 'and', 'she', 's']\n",
      "['she', 's', 'off', 'off', 'john', 'nodded']\n",
      "['and—oh', '—here', 's', 'herself', 'miss', 'howard']\n",
      "['s', 'evie', 'herself', 'entered', 'her', 'lips']\n",
      "['mind', 'my', 'dear', 'cried', 'mrs', 'cavendish']\n",
      "['t', 'be', 'true', 'nodded', 'grimly', 'true']\n",
      "['just', 'ask', 'your', 'how', 'much', 'time']\n",
      "['did', 'she', 'say', 'made', 'an', 'extremely']\n",
      "['expressive', 'grimace', 'darling', '—', 'dearest', 'alfred']\n",
      "['alfred', '—', 'dearest', '—', 'wicked', 'calumnies']\n",
      "['left', 'the', 'room', 's', 'face', 'changed']\n",
      "['her', 'of', 'course', 'i', 'said', 'i']\n",
      "['open', 'window', 'and', 'rose', 'and', 'moved']\n",
      "['time', 'for', 'more', 'was', 'swallowed', 'up']\n",
      "['in', 'england', 'than', 'he', 'took', 'the']\n",
      "['the', 'one', 'that', '', 'exactly', 'said']\n",
      "['felt', 'that', 'with', 'something', 'indefinable', 'had']\n",
      "['a', 'letter', 'from', 'a', 'couple', 'of']\n",
      "['gipsy', 'face', 'and', 's', 'warnings', 'but']\n",
      "['a', 'few', 'moments', 'had', 'ushered', 'the']\n",
      "['i', 'realized', 'that', 'was', 'not', 'with']\n",
      "['on', 'the', 'doctor', 'alfred—', 'then', 'she']\n",
      "['the', 'doctor', 'alfred', '', 'then', 'she']\n",
      "['met', 'where', 'was', 'his', 'absence', 'was']\n",
      "['mrs', 'inglethorp', 'and', 'and', 'of', 'the']\n",
      "['we', 'passed', 'through', 's', 'room', 'and']\n",
      "['one', 'was', 'to', 'and', 'one', 'was']\n",
      "['had', 'gone', 'to', 'writing', 'notices', 'for']\n",
      "['i', 'pass', 'over', 'who', 'acted', 'the']\n",
      "['family—we', 'will', 'say', 'for', 'instance—would', 'you']\n",
      "['her', 'money', 'to', 'i', 'asked', 'in']\n",
      "['it', 'swept', 'past', 'cried', 'john', 'excuse']\n",
      "['inquiringly', 'at', 'me', 'i', 'explained', 'ah']\n",
      "['the', 'hall', 'where', 'was', 'endeavouring', 'to']\n",
      "['she', 'had', 'known', 'only', 'too', 'well']\n",
      "['eat', 'this', 'morning', 'asked', 'john', 'no']\n",
      "['us', 'you', 'know', 'miss', 'howard', 'shook']\n",
      "['you', 'know', 'evie', 'shook', 'hands', 'with']\n",
      "['to', 'prison', 'who', 'of', 'course', 'my']\n",
      "['course', 'my', 'dear', 'do', 'be', 'careful']\n",
      "['fool', 'lawrence', 'retorted', 'of', 'course', 'alfred']\n",
      "['howard', 'of', 'course', 'murdered', 'poor', 'emily—as']\n",
      "['would', 'my', 'dear', 'don', 't', 'shout']\n",
      "['fiddlesticks', 'the', 'snort', 'gave', 'was', 'truly']\n",
      "['dash', 'it', 'all', 'i', 'can', 't']\n",
      "['that', 'to', 'harbour', 'and', 'alfred', 'inglethorp']\n",
      "['miss', 'howard', 'and', 'under', 'the', 'same']\n",
      "['sat', 'down', 'facing', 'mademoiselle', 'he', 'said']\n",
      "['you', 'to', 'hang', 'with', 'pleasure', 'she']\n",
      "['hang', 'the', 'criminal', 'him', 'or', 'another']\n",
      "['along', 'comes', 'mr', 'and', 'within', 'two']\n",
      "['presto', 'believe', 'me', 'said', 'poirot', 'very']\n",
      "['s', 'better', 'said', 'more', 'enthusiastically', 'but']\n",
      "['that', 'have', 'wept', 'blinked', 'and', 'a']\n",
      "['mr', 'inglethorp', 'and', 'she', 'looked', 'at']\n",
      "['her', 'fortune', 'to', 'it', 'must', 'have']\n",
      "['yes', 'i', 'said', 'without', 'doubt', 'poirot']\n",
      "['wilful', 'murder', 'against', 'what', 'becomes', 'of']\n",
      "['if', 'i', 'let', 'her', 'husband', 'be']\n",
      "['walked', 'on', 'sharply', 'had', 'been', 'right']\n",
      "['i', 'thought', 'of', 's', 'liberality', 'with']\n",
      "['and', 'gasped', 'out', 'alfred——', 'could', 'the']\n",
      "['gasped', 'out', 'alfred', '—', 'could', 'the']\n",
      "['that', 'is', 'all', 'miss', 'howard', 'produced']\n",
      "['all', 'miss', 'howard', 'produced', 'the', 'letter']\n",
      "['17th', 'my', 'dear', 'can', 'we', 'not']\n",
      "['to', 'me', 'said', 'shortly', 'it', 'shows']\n",
      "['of', 'the', 'jury', 'was', 'obviously', 'quite']\n",
      "['apprehension', 'thank', 'you', 'that', 'is', 'all']\n",
      "['simultaneously', 'to', 'where', 'was', 'sitting', 'impassive']\n",
      "['a', 'breathless', 'silence', 'was', 'called', 'did']\n",
      "['mace', 's', 'statement', 'replied', 'imperturbably', 'mr']\n",
      "['pardon', 'me', 'interrupted', 'you', 'have', 'been']\n",
      "['last', 'convinced', 'of', 's', 'guilt', 'mr']\n",
      "['not', 'enough', 'and', 'must', 'not', 'be']\n",
      "['the', 'possibility', 'of', 's', 'innocence', 'why']\n",
      "['important', 'fact', 'that', 'wears', 'peculiar', 'clothes']\n",
      "['the', 'case', 'of', 'all', 'that', 'is']\n",
      "['glasses', 'was', 'not', 'it', 'may', 'be']\n",
      "['the', 'fate', 'of', 'and', 'thought', 'that']\n",
      "['should', 'be', 'shielding', 'yet', 'that', 'is']\n",
      "['there', 's', 'john—and', 'surely', 'they', 'were']\n",
      "['an', 'unpleasant', 'shock', 's', 'evidence', 'unimportant']\n",
      "['so', 'i', 'asked', 'had', 'always', 'seemed']\n",
      "['it', 'concerns', 'mr', 'inglethorp', 'was', 'sitting']\n",
      "['with', 'a', 'groan', 'sank', 'down', 'again']\n",
      "['speak', 'for', 'you', 'sprang', 'up', 'again']\n",
      "['untrue', 'one', 'interrupted', 'in', 'an', 'agitated']\n",
      "['baleful', 'glance', 'at', 'now', 'sir', 'said']\n",
      "['suspicion', 'in', 'clearing', 'continued', 'poirot', 'i']\n",
      "['absurd—but', 'i', 'suspect', 'of', 'not', 'telling']\n",
      "['all', 'she', 'knows', 'yes—you', 'll', 'laugh']\n",
      "['i', 'learnt', 'that', 'had', 'been', 'on']\n",
      "['or', 'degenerate', 'about', 'she', 'is', 'an']\n",
      "['are', 'there', 'against', 's', 'having', 'deliberately']\n",
      "['a', 'child', 'if', 'were', 'capable', 'of']\n",
      "['her', 'vehemence', 'against', 'is', 'too', 'violent']\n",
      "['insuperable', 'objection', 'to', 's', 'being', 'the']\n",
      "['s', 'death', 'benefit', 'now', 'there', 'is']\n",
      "['in', 'my', 'mind', 'occupied', 'very', 'much']\n",
      "['was', 'not', 'in', 's', 'favour', 'i']\n",
      "['we', 'will', 'acquit', 'then', 'it', 'is']\n",
      "['his', 'belief', 'in', 's', 'innocence', 'had']\n",
      "['thoughtfully', 'here', 'comes', 'said', 'poirot', 'suddenly']\n",
      "['was', 'barely', 'civil', 'assented', 'to', 'poirot']\n",
      "['monsieur', 'poirot', 'said', 'impatiently', 'what', 'is']\n",
      "['with', 'pleasure—to', 'hang', 'ah', 'poirot', 'studied']\n",
      "['studied', 'her', 'seriously', 'i', 'will', 'ask']\n",
      "['tell', 'lies', 'replied', 'it', 'is', 'this']\n",
      "['good', 'heavens', 'cried', 'haven', 't', 'i']\n",
      "['what', 'little', 'idea', 'do', 'you', 'remember']\n",
      "['my', 'instinct', 'against', 'no', 'said', 'poirot']\n",
      "['no', 'no', 'cried', 'wildly', 'flinging', 'up']\n",
      "['it', 'must', 'be', 'poirot', 'shook', 'his']\n",
      "['about', 'it', 'continued', 'because', 'i', 'shan']\n",
      "['you', 'will', 'watch', 'bowed', 'her', 'head']\n",
      "['we', 'are', 'right', 'on', 'whose', 'side']\n",
      "['she', 'broke', 'off', 'said', 'poirot', 'gravely']\n",
      "['that', 'was', 'not', 'who', 'spoke', 'she']\n",
      "['proudly', 'this', 'is', 'and', 'she', 'is']\n",
      "['ignored', 'you', 'and', 'seem', 'to', 'know']\n",
      "['who', 'had', 'murdered', 'with', 'a', 'croquet']\n",
      "['between', 'poirot', 'and', 'was', 'this', 'what']\n",
      "['monstrous', 'possibility', 'that', 'had', 'tried', 'not']\n",
      "['in', 'no', 'wonder', 'had', 'suggested', 'hushing']\n",
      "['paul', 'prys', 'grunted', 'lawrence', 'opined', 'that']\n",
      "['there', 'is', 'john—and', '', 'cynthia', 'nodded']\n",
      "['and', 'of', 'course', 'for', 'all', 'her']\n",
      "['me', 'she', 'wants', 'to', 'stay', 'on']\n",
      "['sudden', 'entrance', 'of', 'she', 'glanced', 'round']\n",
      "['existence', 'i', 'set', 'to', 'search', 'for']\n",
      "['it', 'was', 'not', 'who', 'was', 'quarrelling']\n",
      "['not', 'cross', 'examined', 'was', 'called', 'and']\n",
      "['it', 'would', 'be', 'who', 'would', 'attend']\n",
      "['anything', 'like', 'that', 'was', 'called', 'and']\n",
      "['it', 'i', 'believe', 'that', 'it', 'was']\n",
      "['my', 'beloved', 'husband', 'ing', 'this', 'placed']\n",
      "['of', 'her', 'pride', 'had', 'been', 'right']\n",
      "['her', 'animosity', 'against', 'had', 'caused', 'her']\n",
      "['the', 'signature', 'of', 'in', 'the', 'chemist']\n",
      "['the', 'name', 'of', 'no', 'that', 'is']\n",
      "['he', 'did', 'so', 'here', 'mademoiselle', 'cynthia']\n",
      "['him', 'a', 'note', 'rose', 'immediately', 'from']\n",
      "['low', 'voice', 'finally', 'consented', 'to', 'return']\n",
      "['few', 'minutes', 'later', 'entered', 'the', 'room']\n",
      "['throat', 'read', 'dearest', 'you', 'will', 'be']\n",
      "['the', 'murderer', 'mr', '', 'poirot', 'you']\n",
      "['once', 'more', 'while', 'and', 'miss', 'howard']\n",
      "['alfred', 'inglethorp', 'and', 'were', 'in', 'custody']\n",
      "['you', 'saw', 'mr', 'that', 'astute', 'gentleman']\n",
      "['the', 'conclusion', 'that', 'wanted', 'to', 'be']\n",
      "['that', 'it', 'was', 'who', 'went', 'to']\n",
      "['chemist', 's', 'shop', 'but', 'certainly', 'who']\n",
      "['to', 'think', 'that', 'was', 'the', 'master']\n",
      "['by', 'that', 'time', 'will', 'have', 'engineered']\n",
      "['six', 'o', 'clock', 'arranges', 'to', 'be']\n",
      "['from', 'the', 'village', 'has', 'previously', 'made']\n",
      "['six', 'o', 'clock', 'disguised', 'as', 'alfred']\n",
      "['howard', 'disguised', 'as', 'enters', 'the', 'chemist']\n",
      "['the', 'name', 'of', 'in', 'john', 's']\n",
      "['all', 'goes', 'well', 'goes', 'back', 'to']\n",
      "['back', 'to', 'middlingham', 'returns', 'to', 'styles']\n",
      "['since', 'it', 'is', 'who', 'has', 'the']\n",
      "['her', 'husband', 'and', 'though', 'unfortunately', 'the']\n",
      "['vase', 'but', 'surely', 'had', 'ample', 'opportunities']\n",
      "['him', 'yes', 'but', 'did', 'not', 'know']\n",
      "['never', 'spoke', 'to', 'they', 'were', 'supposed']\n",
      "['begin', 'to', 'suspect', 'when', 'i', 'discovered']\n",
      "['7th—the', 'day', 'after', 's', 'departure', 'the']\n",
      "['myself', 'why', 'does', 'suppress', 'the', 'letter']\n",
      "['two', 'reasons', 'why', 'could', 'not', 'have']\n",
      "['that', 'she', 'and', 'were', 'cousins', 'she']\n"
     ]
    }
   ],
   "source": [
    "bookindex=2\n",
    "for n in perp_neighbors[bookindex]:\n",
    "  print(n)"
   ]
  },
  {
   "cell_type": "code",
   "execution_count": null,
   "metadata": {
    "id": "u-sZeYwg19lB"
   },
   "outputs": [],
   "source": []
  },
  {
   "cell_type": "markdown",
   "metadata": {
    "id": "YK3vWYso7K3a"
   },
   "source": [
    "### The Secret Adversary "
   ]
  },
  {
   "cell_type": "code",
   "execution_count": 427,
   "metadata": {
    "id": "iadwTZDJ_FE6",
    "outputId": "944beef8-cfb4-4ec9-f1fd-6be4faeb7373"
   },
   "outputs": [
    {
     "name": "stdout",
     "output_type": "stream",
     "text": [
      "['about', 'everywhere', 'with', 'not', 'only', 'is']\n",
      "['and', 'give', 'up', 'mrs', 'vandemeyer', 'shook']\n",
      "['late', 'they', 'say', 'can', 'smell', 'a']\n",
      "['all', 'that', 'interests', 'boris', 'shook', 'his']\n",
      "['her', 'his', 'name', 'she', 'looked', 'at']\n",
      "['boris', 's', 'agitation', 'would', 'not', 'be']\n",
      "['began', 'tuppence', 'but', 'was', 'already', 'on']\n",
      "['her', 'encounter', 'with', 'julius', 'was', 'interested']\n",
      "['of', 'appealing', 'to', 'indeed', 'she', 'had']\n",
      "['to', 'ask', 'if', 'was', 'at', 'home']\n",
      "['will', 'you', 'ask', 'if', 'i', 'can']\n",
      "['or', 'two', 'later', 'will', 'see', 'you']\n",
      "['is', 'mr', 'hersheimmer', 'pleased', 'to', 'meet']\n",
      "['sit', 'down', 'asked', 'he', 'drew', 'forward']\n",
      "['forward', 'two', 'chairs', 'said', 'tuppence', 'plunging']\n",
      "['breath', 'tommy', 'queried', 'looking', 'across', 'at']\n",
      "['it', 'was', 'admitted', 'gravely', 'well', 'i']\n",
      "['me', 'a', 'hint', 'smiled', 'at', 'her']\n",
      "['to', 'well', 'said', 'still', 'smiling', 'without']\n",
      "['the', 'whole', 'story', 'i', 've', 'a']\n",
      "['about', 'it', 'said', 'i', 'want', 'to']\n",
      "['gaze', 'ah', 'oh', 'broke', 'out', 'tuppence']\n",
      "['think', 'of', 'everything', 'smiled', 'and', 'yet']\n",
      "['her', 'questions', 'replied', 'easily', 'that', 's']\n",
      "['one', 'million', 'dollars', 'sat', 'down', 'and']\n",
      "['for', 'your', 'fee', 'flushed', 'slightly', 'there']\n",
      "['probably', 'right', 'said', 'dryly', 'but', 'it']\n",
      "['s', 'your', 'idea', 'considered', 'for', 'a']\n",
      "['easy', 'to', 'follow', 's', 'advice', 'and']\n",
      "['him', 'to', 'get', 'and', 'come', 'on']\n",
      "['him', 'ring', 'up', 'you', 'll', 'find']\n",
      "['the', 'doorway', 'were', 'and', 'julius', 'hersheimmer']\n",
      "['julius', 'hersheimmer', '', 'brushed', 'past', 'julius']\n",
      "['passage', 'between', 'them', 'and', 'tuppence', 'lifted']\n",
      "['he', 'handed', 'to', 'while', 'tuppence', 'lifted']\n",
      "['with', 'closed', 'eyes', 'kept', 'his', 'finger']\n",
      "['is', 'true', 'said', 'meditatively', 'i', 'must']\n",
      "['is', 'right', 'said', 'quietly', 'we', 'must']\n",
      "['a', 'dictaphone', 'said', 'dryly', 'we', 'have']\n",
      "['with', 'his', 'suggestion', 'again', 'felt', 'mrs']\n",
      "['room', 'julius', 'and', 'were', 'talking', 'in']\n",
      "['a', 'low', 'voice', 'turned', 'to', 'her']\n",
      "['ran', 'round', 'for', 'here', 'and', 'we']\n",
      "['miss', 'tuppence', 'said', 'you', 'know', 'this']\n",
      "['the', 'way', 'there', 'looked', 'round', 'approvingly']\n",
      "['t', 'thank', 'you', 'i', 'should', 'dream']\n",
      "['miss', 'tuppence', 'said', 'we', 'want', 'to']\n",
      "['an', 'admiring', 'bully', 'said', 'nothing', 'until']\n",
      "['know', 'confessed', 'tuppence', 'stroked', 'his', 'chin']\n",
      "['she', 'can', 'be', 'the', 'lawyer', 'shook']\n",
      "['you', 'have', 'where', 'smiled', 'at', 'the']\n",
      "['you', 'say', 'asked', 'that', 'is', 'curious']\n",
      "['head', 'curious', 'mused', 'you', 'did', 'not']\n",
      "['looked', 'appealingly', 'at', 'who', 'replied', 'gravely']\n",
      "['confessed', 'yes', 'said', 'we', 'are', 'in']\n",
      "['glimmerings', 'of', 'dawn', 'drew', 'aside', 'the']\n",
      "['wake', 'up', 'in', 'and', 'julius', 'accompanied']\n",
      "['julius', 'reassuringly', 'but', 'said', 'nothing', 'tuppence']\n",
      "['suggested', 'julius', 'but', 'interrupted', 'him', 'mr']\n",
      "['was', 'deferential', 'to', 'whom', 'he', 'recognized']\n",
      "['arranged', 'owing', 'to', 's', 'skilful', 'handling']\n",
      "['he', 'would', 'let', 'know', 'he', 'understood']\n",
      "['had', 'already', 'left', 'and', 'his', 'young']\n",
      "['did', 'not', 'but', 'referred', 'him', 'to']\n",
      "['out', 'for', 'good', 'stroked', 'his', 'chin']\n",
      "['and', 'call', 'for', 'in', 'the', 'car']\n",
      "['dr', 'hall', 'said', 'pleasantly', 'let', 'me']\n",
      "['in', 'private', 'asked', 'certainly', 'i', 'think']\n",
      "['looked', 'inquiringly', 'at', 'dr', 'hall', 'i']\n",
      "['matter', 'of', 'testimony', 'hesitated', 'a', 'moment']\n",
      "['the', 'name', 'said', 'bluntly', 'is', 'really']\n",
      "['starting', 'yes', 'said', 'and', 'stroked', 'his']\n",
      "['track', 'i', 'think', 'looked', 'round', 'as']\n",
      "['as', 'i', 'gather', 'that', 'the', 'matter']\n",
      "['remembers', 'nothing', 'said', 'slowly', 'nothing', 'prior']\n",
      "['she', 'would', 'said', 'grimly', 'i', 'fell']\n",
      "['appealing', 'face', 'to', 'who', 'smiled', 'slightly']\n",
      "['warning', 'glance', 'from', 'made', 'her', 'hold']\n",
      "['be', 'seen', 'said', 'gravely', 'the', 'other']\n",
      "['he', 'saw', 'that', 'was', 'determined', 'to']\n",
      "['she', 'appealed', 'to', 'i', 'should', 'advise']\n",
      "['tuppence', 'the', 'practical', 'shrugged', 'his', 'shoulders']\n",
      "['the', 'best', 'said', 'oh', 'yes', 'we']\n",
      "['face', 'grew', 'grave', 'took', 'tuppence', 's']\n",
      "['the', 'girl', 'hesitated', 'shrugged', 'his', 'shoulders']\n",
      "['pity', 'came', 'into', 's', 'keen', 'eyes']\n",
      "['beginning', 'to', 'understand', 's', 'methods', 'once']\n",
      "['shut', 'it', 'again', 's', 'words', 'sounded']\n",
      "['over', 'the', 'business', 'to', 'day', 'hadn']\n",
      "['bound', 'up', 'with', 's', 'enigmatical', 'words']\n",
      "['the', 'call', 'upon', 'and', 'the', 'sensational']\n",
      "['julius', 'dryly', 'and', 'what', 'did', 'he']\n",
      "['even', 'the', 'highbrow', 'have', 'all', 'got']\n",
      "['midland', 'hotel', 'immediately', 'julius', 'took', 'the']\n",
      "['wired', 'accordingly', 'to', 'he', 's', 'booked']\n",
      "['his', 'head', 'unconvinced', 'arrived', 'punctually', 'at']\n",
      "['julius', 'introduced', 'tommy', 'shook', 'hands', 'with']\n",
      "['was', 'conscious', 'of', 's', 'close', 'scrutiny']\n",
      "['of', 'learning', 'that', 'took', 'in', 'everything']\n",
      "['questions', 'how', 'had', 'managed', 'to', 'track']\n",
      "['and', 'so', 'on', 'stroked', 'his', 'chin']\n",
      "['be', 'possible', 'said', 'gravely', 'why', 'because']\n",
      "['cried', 'julius', 'excitedly', 'tapped', 'the', 'table']\n",
      "['fairy', 'tale', 'but', 'was', 'far', 'too']\n",
      "['before', 'only', 'suspected', 's', 'presence', 'in']\n",
      "['i', 'fear', 'said', 'it', 'is', 'very']\n",
      "['was', 'something', 'in', 'which', 'always', 'stirred']\n",
      "['his', 'eyes', 'held', 's', 'defiantly', 'for']\n",
      "['by', 'questions', 'from', 'he', 'gave', 'an']\n",
      "['girl', 'sir', 'no', 'smiled', 'a', 'little']\n",
      "['to', 'protest', 'but', 'went', 'on', 'there']\n",
      "['have', 'got', 'away', 'nodded', 'thoughtfully', 'what']\n",
      "['out', 'naturally', 'said', 'dryly', 'and', 'not']\n",
      "['i', 'had', 'said', 'quietly', 'he', 'sat']\n",
      "['week', 'ago', 'how', 's', 'questions', 'fairly']\n",
      "['their', 'futile', 'search', 'went', 'at', 'once']\n",
      "['i', 'thought', 'sir', 'looked', 'at', 'him']\n",
      "['voice', 'which', 'made', 'look', 'up', 'sharply']\n",
      "['with', 'you', 'said', 'shortly', 'mr', 'brown']\n",
      "['the', 'appointed', 'spot', 'had', 'joined', 'them']\n",
      "['his', 'confidence', 'in', 'was', 'growing', 'there']\n",
      "['large', 'wondering', 'eyes', 'spoke', 'first', 'miss']\n",
      "['looked', 'across', 'at', 'who', 'nodded', 'don']\n",
      "['those', 'papers', 'back', 'is', 'an', 'english']\n",
      "['we', 'thought', 'said', 'he', 'said', 'they']\n",
      "['go', 'on', 'said', 'in', 'his', 'quiet']\n",
      "['finn', 'it', 'was', 'who', 'spoke', 'i']\n",
      "['council', 'of', 'war', 'had', 'drawn', 'a']\n",
      "['had', 'settled', 'on', 's', 'brow', 'i']\n",
      "['hope', 'so', 'said', 'sure', 'thing', 'what']\n",
      "['for', 'once', 'and', 'added', 'on', 'a']\n",
      "['wish', 'that', 'chap', 'had', 'been', 'with']\n",
      "['of', 'sympathy', 'from', 'who', 'had', 'read']\n",
      "['the', 'argentine', 'where', 'had', 'considerable', 'interests']\n",
      "['he', 're', 'read', 's', 'letter', 'and']\n",
      "['at', 'the', 'ritz', 'said', 'you', 'would']\n",
      "['behind', 'you', 'mean', 'peel', 'edgerton', 'said']\n",
      "['mean', 'peel', 'edgerton', 'said', 'the', 'prime']\n",
      "['brown', 'to', 'earth', 'would', 'be', 'the']\n",
      "['a', 'little', 'nonplussed', 'smiled', 'and', 'stroked']\n",
      "['very', 'simple', 'said', 'and', 'very', 'ingenious']\n",
      "['not', 'there', 'too', 'ah', 'i', 'm']\n",
      "['he', 'was', 'said', 'easily', 'i', 'can']\n",
      "['brown', 'ah', 'said', 'thoughtfully', 'he', 'rose']\n",
      "['after', 'ringing', 'up', 'tommy', 's', 'next']\n",
      "['go', 'straight', 'to', 'mr', 'carter', 'lives']\n",
      "['they', 'once', 'reached', 'in', 'safety', 'all']\n",
      "['re', 'going', 'to', 'this', 'will', 'put']\n",
      "['as', 'they', 'reached', 's', 'door', 'tuppence']\n",
      "['the', 'hall', 'together', 'came', 'forward', 'from']\n",
      "['to', 'her', 'cheeks', 'looked', 'at', 'tuppence']\n",
      "['it', 'seems', 'said', 'dryly', 'am', 'i']\n",
      "['head', 'she', 'shuddered', 'murmured', 'something', 'sympathetically']\n",
      "['been', 'only', 'shamming', 'nodded', 'comprehendingly', 'mrs']\n",
      "['the', 'papers', 'said', 'slowly', 'are', 'still']\n",
      "['the', 'long', 'story', 'rose', 'to', 'his']\n",
      "['too', 'late', 'said', 'gravely', 'besides', 'by']\n",
      "['dead', 'silence', 'and', 'continued', 'you', 'have']\n",
      "['you', 'yes', 'said', 'gravely', 'at', 'last']\n",
      "['miss', 'finn', 'said', 'unexpectedly', 'not', 'your']\n",
      "['you', 'whatsoever', '', 's', 'words', 'came']\n",
      "['tuppence', 'recounted', 'to', 'the', 'exciting', 'events']\n"
     ]
    },
    {
     "name": "stdout",
     "output_type": "stream",
     "text": [
      "['mr', 'brown', 'said', 'dryly', 'and', 'it']\n",
      "['better', 'now', 'anyway', 's', 'car', 'was']\n",
      "['they', 'got', 'out', 'went', 'up', 'to']\n",
      "['they', 'all', 'knew', 'well', 'they', 'had']\n",
      "['and', 'the', 'wall', 'handed', 'her', 'a']\n",
      "['in', 'her', 'hand', 'took', 'it', 'and']\n",
      "['in', 'her', 'voice', 'echoed', 'her', 'words']\n",
      "['start', 'to', 'find', 'watching', 'her', 'he']\n",
      "['t', 'help', 'it', 'nodded', 'again', 'you']\n",
      "['the', 'pockets', 'of', 'he', 'turned', 'to']\n",
      "['sudden', 'death', 'of', 'the', 'famous', 'k']\n",
      "['that', 'he', 'or', 'must', 'have', 'done']\n",
      "['that', 'it', 'was', 'who', 'had', 'discovered']\n",
      "['and', 'i', 'dropped', 's', 'letter', 'with']\n",
      "['and', 'rang', 'up', 'taking', 'him', 'into']\n",
      "['him', 'once', 'but', 'hadn', 't', 'after']\n",
      "['be', 'trouble', 'unless', 'was', 'actually', 'caught']\n",
      "['girls', 'off', 'to', 'i', 'was', 'sure']\n",
      "['repeat', 'that', 'to', 'so', 'that', 'he']\n",
      "['not', 'have', 'believed', 'to', 'be', 'guilty']\n",
      "['be', 'publicly', 'exhibited', 's', 'long', 'association']\n"
     ]
    }
   ],
   "source": [
    "bookindex=3\n",
    "for n in perp_neighbors[bookindex]:\n",
    "  print(n)"
   ]
  },
  {
   "cell_type": "markdown",
   "metadata": {
    "id": "B77c1Z0_7K3a"
   },
   "source": [
    "### The Man in the Brown Suit "
   ]
  },
  {
   "cell_type": "code",
   "execution_count": 428,
   "metadata": {
    "id": "V2v_3oLV_FE7",
    "outputId": "b7f24e44-a42d-47c2-c868-3261c4d2bc68"
   },
   "outputs": [
    {
     "name": "stdout",
     "output_type": "stream",
     "text": [
      "['amply', 'covered', 'by', 's', 'diary', 'of']\n",
      "['the', 'property', 'of', 'm', 'p', 'is']\n",
      "['have', 'a', 'clue', 'the', 'owner', 'of']\n",
      "['the', 'wife', 'of', 's', 'gardener', 'who']\n",
      "['course', 'there', 's', 's', 'place', 'said']\n",
      "['reporters', 'i', 'am', 's', 'orders', 'are—']\n",
      "['the', 'lodge', 'if', 'hadn', 't', 'been']\n",
      "['me', 'i', 'thought', 'was', 'at', 'cannes']\n",
      "['roll', 'belonging', 'to', 'which', 'had', 'rolled']\n",
      "['the', 'diary', 'of', 'm', 'p', ')']\n",
      "['so', 'you', 'know', 'know', 'what', 'i']\n",
      "['england', 'at', 'once', 'you', 'need', 'suppose']\n",
      "['suggestion', 'my', 'dear', 'the', 'common', 'post']\n",
      "['reasons', 'my', 'dear', 'i', 'assure', 'you']\n",
      "['minute', 'my', 'dear', 'one', 'minute', 'i']\n",
      "['obliged', 'to', 'you', 'i', 'will', 'send']\n",
      "['to', 'tell', 'you', 'that', 'he', 'comes']\n",
      "['me', 'to', 'you', 'i', 'am', 'to']\n",
      "['think', 'you', 'do', 'where', 'is', 'your']\n",
      "['tell', 'you', 'this', 'mr', 'milray', 'would']\n",
      "['oh', 'that', 's', 's', 'secretary', 'been']\n",
      "['not', 'appeared', 'before', 'has', 'got', 'two']\n",
      "['is', 'pagett', 'so', 'the', 'owner', 'of']\n",
      "['yet——', 'that', 's', 'my', 'informant', 'continued']\n",
      "['was', 'speaking', 'to', 'and', 'i', 'overheard']\n",
      "['my', 'dear', 'fellow', 'replied', 'my', 'cabin']\n",
      "['what', 'i', 'say', 'we', 'must', 'have']\n",
      "['the', 'use', 'of', 'that', 's', 'all']\n",
      "['is', 'allotted', 'to', 'said', 'mr', 'pagett']\n",
      "['my', 'notice', '(1)', 'he', 'was', 'the']\n",
      "['he', 'had', 'accompanied', 'to', 'cannes', '(3)']\n",
      "['all', 'this', 'when', 'passed', 'down', 'the']\n",
      "['paper', 'and', 'not', 'one', 'thing', 'was']\n",
      "['coffee', 'i', 'noticed', 'and', 'pagett', 'sitting']\n",
      "['latin', 'scholar', 'said', 'smiling', 'men', 'are']\n",
      "['florence', 'pagett', 'asked', 'turning', 'with', 'a']\n",
      "['in', 'florence', 'remarked', 'gazing', 'after', 'his']\n",
      "['hurting', 'your', 'feelings', 'but', 'he', 'does']\n",
      "['hasn', 't', 'he', 'asked', 'colonel', 'race']\n",
      "['six', 'years', 'said', 'with', 'a', 'deep']\n",
      "['the', 'diary', 'of', '', 'there', 'is']\n",
      "['in', 'your', 'cabin', 'it', 's', 'full']\n",
      "['i', 'tell', 'you', 'there', 's', 'something']\n",
      "['secret', 'service', 'chap', 'rather', 'a', 'great']\n",
      "['is', 'very', 'queer', 'look', 'at', 'that']\n",
      "['them', 'very', 'well', 'but', 'my', 'belief']\n",
      "['at', 'any', 'rate', 'he', 'thinks', 'so—and']\n",
      "['in', 'his', 'cabin', 'pagett', 's', 'voice']\n",
      "['over', 'your', 'safety', 'in', 'case', 'an']\n",
      "['of', 'these', 'days', 'my', 'dear', 'race']\n",
      "['said', 'gallantly', 'oh', 'how', 'sweet', 'of']\n",
      "['remember', 'the', 'case', 'you', 'were', 'in']\n",
      "['say', 'that', 'in', 's', 'secretary—not', 'that']\n",
      "['two', 'links', 'connecting', 'with', 'the', 'tangle']\n",
      "['don', 't', 'suspect', 'himself', 'but', 'it']\n",
      "['admitted', 'hum', 'hardly', 'i', 'should', 'think']\n",
      "['its', 'effect', 'on', 'yes', 'but', 'even']\n",
      "['me', 'was', 'it', 'who', 'had', 'been']\n",
      "['that', 'he', 'induced', 'to', 'bring', 'him']\n",
      "['did', 'he', 'square', 'it', 'looks', 'as']\n",
      "['like', 'pagett', 'anne', 'says', 'he', 's']\n",
      "['on', 'mr', 'chichester', 'and', 'his', 'secretary']\n",
      "['of', 'reluctantly', 'dismissing', 'and', 'mr', 'pagett']\n",
      "['on', 'deck', 'and', 'addressed', 'a', 'perfectly']\n",
      "['attention', 'before', 'when', 'claimed', 'mrs', 'blair']\n",
      "['some', 'correspondence', 'of', 's', 'that—', 'i']\n",
      "['i', 'm', 'sure', 'wouldn', 't', 'like']\n",
      "['i', 'shall', 'tell', '', 'i', 'got']\n",
      "['stupid', 'of', 'me', 'has', 'a', 'house']\n",
      "['on', 'to', 'durban', 'is', 'going', 'to']\n",
      "['an', 'eye', 'on', 'and', 'pagett', 'and']\n",
      "['could', 'arrange', 'for', 'to', 'invite', 'him']\n",
      "['the', 'diary', 'of', '', 'mount', 'nelson']\n",
      "['of', 'the', 'night', 'well', 'what', 'were']\n",
      "['cables', 'of', 'yours', 'and', 'typing', 'the']\n",
      "['before', 'turning', 'in', 'the', 'man', 'was']\n",
      "['hear', 'me', 'out', 'i', 'was', 'convinced']\n",
      "['secret', 'you', 'see', 'i', 'fancied—and', 'now']\n",
      "['rayburn', 'rayburn', 'yes', 'i', 'shook', 'my']\n",
      "['night', 'quite', 'so', 'i', 'think', 'it']\n",
      "['on', 'last', 'night', 'he', 'urged', 'or']\n",
      "['to', 'him', 'supposing', 'that', 'rayburn', 'had']\n",
      "['for', 'your', 'speeches', 'i', 'shall', 'manage']\n",
      "['am', 'a', 'teetotaller', 'much', 'wiser', 'to']\n",
      "['i', 'know', 'of', 'i', 'heaved', 'a']\n",
      "['did', 'you', 'see', 'i', 'asked', 'he']\n",
      "['squashed', 'suzanne', 'smiled', 'doesn', 't', 'like']\n",
      "['job', 'sticking', 'to', 'and', 'that', 'you']\n",
      "['should', 'i', 'mention', 'he', 'was', 'a']\n",
      "['better', 'not', 'risk', 'mrs', 'blair', 'for']\n",
      "['us', 'what', 'is', 'doing', 'asked', 'suzanne']\n",
      "['and', 'he', 'bamboozled', 'into', 'bringing', 'him']\n",
      "['air', 'how', 'does', 'take', 'it', 'regards']\n",
      "['opportunity', 'of', 'hearing', 's', 'views', 'on']\n",
      "['noises', 'again', 'and', 'proceeded', 'in', 'a']\n",
      "['day', 'long', 'replied', 'gallantly', 'i', 'shan']\n",
      "['you', 'very', 'much', 'i', 'said', 'cautiously']\n",
      "['go', 'to', 'durban', 'looked', 'at', 'me']\n",
      "['all', 'this', 'afternoon', 'well', 'stop', 'typing']\n",
      "['her', 'hand', 'yes', 'i', 'will', 'ask']\n",
      "['malicious', 'fellow', 'said', 'after', 'the', 'secretary']\n",
      "['be', 'summoned', 'by', 'and', 'it', 'would']\n",
      "['colonel', 'race', 'or', 'i', 'suspect', 'everybody']\n",
      "['fat', 'men', 'like', 'colonel', 'race', 'isn']\n",
      "['was', 'murdered', 'in', 's', 'house—', 'yes']\n",
      "['an', 'eye', 'on', 'and', 'colonel', 'race—']\n",
      "['got', 'to', 'watch', 'interrupted', 'suzanne', 'because']\n",
      "['not', 'appear', 'but', 'and', 'pagett', 'were']\n",
      "['him', 'however', 'doubtless', 'would', 'do', 'as']\n",
      "['finished', 'good', 'bye', 'i', 'said', 'i']\n",
      "['night', 'to', 'durban', 'sighed', 'heavily', 'so']\n",
      "['handsome', 'fellow', 'said', 'plaintively', 'some', 'young']\n",
      "['thing', 'i', 'wanted', 'looked', 'at', 'me']\n",
      "['hope', 'not', 'exclaimed', 'that', 'would', 'be']\n",
      "['capable', 'secretary', 'for', 'he', 'observed', 'miss']\n",
      "['to', 'do', 'for', 'dear', 'me', 'i']\n",
      "['tone', 'i', 'am', 's', 'secretary', 'i']\n",
      "['i', 'sought', 'out', 'he', 'was', 'striding']\n",
      "['keep', 'pace', 'with', 'for', 'her', 'pencil']\n",
      "['i', 'said', 'saucily', 'paused', 'dead', 'in']\n",
      "['my', 'soul', 'ejaculated', 'what', 'about', 'the']\n",
      "['softly', 'darling', 'said', 'you', 'can', 'start']\n",
      "['pettigrew', 'coughed', 'and', 'hastily', 'withdrew', 'his']\n",
      "['and', 'sharpened', 'it', 'stared', 'and', 'so']\n",
      "['the', 'diary', 'of', '', 'i', 'am']\n",
      "['label', 'this', 'car—not', 'and', 'party', 'but']\n",
      "['at', 'the', 'falls', 'that', 'depends', 'i']\n",
      "['fears', 'are', 'exaggerated', 'there', 'will', 'be']\n",
      "['enjoyed', 'ourselves', 'enormously', 'tried', 'to', 'restrain']\n",
      "['ones', 'travelling', 'with', 'and', 'his', 'party']\n",
      "['i', 'was', 'near', 'i', 'was', 'more']\n",
      "['his', 'autocratic', 'ways', 'was', 'really', 'very']\n",
      "['i', 'knew', 'how', 'made', 'his', 'money']\n",
      "['second', 'hand', 'from', 'if', 'we', 'd']\n",
      "['the', 'hotel', 'also', 'was', 'what', 'i']\n",
      "['big', 'giraffe', 'into', 's', 'arms', 'even']\n",
      "['the', 'last', 'moment', 'backed', 'out', 'he']\n",
      "['t', 'think', 'even', 'would', 'have', 'dared']\n",
      "['time', 'i', 'feel', 'would', 'have', 'liked']\n",
      "['our', 'expedition', 'after', 'had', 'backed', 'out']\n",
      "['nine', 'o', 'clock', 's', 'temper', 'was']\n",
      "['to', 'morrow', 'said', 'with', 'decision', 'he']\n",
      "['i', 'accompanied', 'him', 'went', 'back', 'to']\n",
      "['change', 'for', 'dinner', 'seems', 'to', 'have']\n",
      "['her', 'breathing', 'evenly', 'i', 'paused', 'outside']\n",
      "['with', 'her', 'and', 'and', 'colonel', 'race']\n",
      "['the', 'property', 'of', 'that', 'sounds', 'as']\n",
      "['not', 'knowing', 'that', 'was', 'at', 'cannes']\n",
      "['proved', 'to', 'be', 'i', 'at', 'once']\n",
      "['so', 'sure', 'that', 'was', 'the', 'colonel']\n",
      "['at', 'cannes', 'with', 'he', 'was', 'supposed']\n",
      "['to', 'my', 'accompanying', 'across', 'in', 'the']\n",
      "['that', 'you', 'heard', 'dictating', 'to', 'miss']\n",
      "['the', 'kilmorden', 'yes—through', 'i', 'repeated', 'it']\n",
      "['the', 'direction', 'of', 's', 'cabin', 'and']\n",
      "['cabin', 'opposite', 'to', 'colonel', 'race', 'supposing']\n",
      "['had', 'become', 'of', 's', 'party', 'and']\n",
      "['the', 'diary', 'of', '', 'as', 'i']\n",
      "['shall', 'i', 'do', 'repressing', 'the', 'desire']\n",
      "['for', 'dinner', 'oh', 'the', 'woman', 'was']\n",
      "['him', 'hang', 'himself', 'oh', 'quite', 'so']\n",
      "['more', 'than', 'that', 'we', 'have', 'every']\n",
      "['i', 'warn', 'you', 'that', 'the', 'food']\n",
      "['troubling', 'you', 'again', 'he', 'apologized', 'but']\n",
      "['tell', 'you—in', 'confidence', 'that', 'the', 'place']\n",
      "['now', 'what', 'did', 'do', 'with', 'the']\n"
     ]
    },
    {
     "name": "stdout",
     "output_type": "stream",
     "text": [
      "['by', 'to', 'join', 'in', 'johannesburg', 'i']\n",
      "['they', 'i', 'suppose', 'has', 'got', 'them']\n",
      "['eric', 'here', 'also', 'but', 'not', 'guy']\n",
      "['work', 'again', 'with', 'mr', 'pagett', 'i']\n",
      "['those', 'reasons', 'were', 'has', 'not', 'already']\n",
      "['already', 'told', 'you', 'does', 'he', 'know']\n",
      "['a', 'man', 'of', 's', 'standing', 'to']\n",
      "['re', 'saying', 'about', 'but', 'why', 'did']\n",
      "['the', 'peculiarities', 'of', 'and', 'his', 'own']\n",
      "['the', 'diary', 'of', '', 'johannesburg', 'march']\n",
      "['all', 'the', 'cases', 'the', 'typewriter', 'is']\n",
      "['have', 'the', 'leisure', 'i', 'haven', 't']\n",
      "['that', 's', 'all', 'except', 'some', 'miscellaneous']\n",
      "['pettigrew', 'what', 'yes', 'and', 'that', 's']\n",
      "['i', 'went', 'in', 'there', 'was', 'no']\n",
      "['to', 'be', 'confidential', 'a', 'man', 'was']\n",
      "['re', 'not', 'convinced', 'what', 'do', 'you']\n",
      "['that', 'and', 'now', 'i', 'want', 'to']\n",
      "['way', 'thank', 'you', 'is', 'it', 'her']\n",
      "['to', 'follow', 'you', 'whose', 'husband', 'the']\n",
      "['to', 'understand', 'you', 'i', 'suppose', 'you']\n",
      "['not', 'recognized', 'me', 'recognized', 'you', 'where']\n",
      "['where', 'at', 'marlow', 'at', 'marlow', 'what']\n",
      "['were', 'married', 'no', 'that', 'is', 'just']\n",
      "['children', 'four', 'children', 'i', 'gazed', 'at']\n",
      "['glance', 'i', 'hope', 'that', 'you', 'are']\n",
      "['me', 'straight', 'to', 'to—', 'he', 'looked']\n",
      "['yes', 'i', 'said', 'i—i—excuse', 'me—', 'he']\n",
      "['to', 'pass', 'inside', 'sprang', 'up', 'to']\n",
      "['and', 'now', 'said', 'cheerfully', 'let', 's']\n",
      "['be', 'in', 'cannes', 'nodded', 'ruefully', 'yes']\n",
      "['just', 'it', 'said', 'softly', 'what', 'about']\n",
      "['it', 'does', 'not', 'sighed', 'a', 'pity']\n",
      "['of', 'being', 'lady', 'doesn', 't', 'appeal']\n",
      "['the', 'matter', 'is', 'was', 'continuing', 'i']\n",
      "['of', 'respect', 'for', 's', 'shrewdness', 'it']\n",
      "['i', 'wrote', 'at', 's', 'dictation', 'dear']\n",
      "['to', 'any', 'one', 'stopped', 'i', 'leave']\n",
      "['in', 'the', 'words', 'stretched', 'out', 'his']\n",
      "['on', 'the', 'envelope', 'was', 'watching', 'him']\n",
      "['fellow', 'excellent', 'said', 'genially', 'my', 'mistake']\n",
      "['he', 'outside', 'than', 'picked', 'up', 'a']\n",
      "['a', 'few', 'questions', 'i', 'said', 'after']\n",
      "['suspecting', 'poor', 'old', 'what', 'about', 'colonel']\n",
      "['a', 'whistle', 'sounded', 'picked', 'up', 'the']\n",
      "['suit', 'case', 'and', 'urging', 'me', 'to']\n",
      "['not', 'summoned', 'to', 's', 'presence', 'until']\n",
      "['for', 'further', 'conflict', 'was', 'alone', 'he']\n",
      "['of', 'becoming', 'lady', 'i', 'did', 'not']\n",
      "['between', 'two', 'men', 'flung', 'me', 'a']\n",
      "['the', 'fly', 'remarked', 'facetiously', 'my', 'dear']\n",
      "['edged', 'nearer', 'to', 'yes', 'murmured', 'the']\n",
      "['anyway', 'i', 'think', 'shared', 'my', 'fears']\n",
      "['room', 'said', 'harry', 'gave', 'the', 'order']\n",
      "['of', 'my', 'hand', 'uttered', 'a', 'sigh']\n",
      "['them', 'more', 'said', 'sadly', 'i', 'wonder']\n",
      "['or', 'two', 'and', 'skipped', 'nimbly', 'behind']\n",
      "['seemed', 'to', 'attract', 's', 'attention', 'he']\n",
      "['again', 'sit', 'down', 'and', 'listen', 'to']\n",
      "['sound', 'of', 'firing', 'paled', 'what', 's']\n",
      "['know', 'did', 'you', 'that', 'anne', 'had']\n",
      "['was', 'on', 'fire', 'had', 'risen', 'and']\n",
      "['so', 'you', 'see', 'the', 'game', 'is']\n",
      "['following', 'me', 'here', 'turned', 'suddenly', 'very']\n",
      "['t', 'do', 'it', 'chuckled', 'he', 'accepted']\n",
      "['he', 'turned', 'to', 'i', 've', 'been']\n",
      "['a', 'long', 'time', 'and', 'at', 'last']\n",
      "['completely', 'mad', 'declared', 'airily', 'these', 'young']\n",
      "['the', 'mill', 'house', 'looked', 'surprised', 'colonel']\n",
      "['to', 'his', 'side', 'looked', 'at', 'him']\n",
      "['sinking', 'ship', 'observed', 'i', 'don', 't']\n",
      "['to', 'tell', 'you', 'i', 'remarked', 'that']\n",
      "['it', 'up', 'again', 'looked', 'at', 'me']\n",
      "['could', 'not', 'fathom', 'had', 'been', 'driven']\n",
      "['on', 'my', 'part', 'has', 'managed', 'to']\n",
      "['sneaking', 'fondness', 'for', 'i', 'dare', 'say']\n",
      "['it', 'he', 'wanted', 'brought', 'to', 'justice']\n",
      "['of', 'course', 'but', 's', 'guilt', 'is']\n",
      "['through', 'once', 'did', 'know', 'who', 'you']\n",
      "['me', 'yours', 'ever', 'harry', 'was', 'furious']\n",
      "['eye', 'to', 'him', 'was', 'the', 'man']\n",
      "['of', 'his', 'friend', 's', 'attempts', 'on']\n",
      "['to', 'me', 'that', 's', 'whole', 'life']\n",
      "['i', 'can', 'forgive', 'easily', 'enough', 'but']\n"
     ]
    }
   ],
   "source": [
    "bookindex=4\n",
    "for n in perp_neighbors[bookindex]:\n",
    "  print(n)"
   ]
  },
  {
   "cell_type": "markdown",
   "metadata": {
    "id": "LGD8NULL7K3a"
   },
   "source": [
    "### The Secret of Chimneys "
   ]
  },
  {
   "cell_type": "code",
   "execution_count": 429,
   "metadata": {
    "id": "KLh5jiee_FE7",
    "outputId": "397c784b-6b6e-4e1f-8536-231dcdff3117"
   },
   "outputs": [
    {
     "name": "stdout",
     "output_type": "stream",
     "text": [
      "['me', 'see—yes—that', 's', 's', 'room', 'the']\n",
      "['providing', 'an', 'heir', 'said', 'anthony', 'thoughtfully']\n",
      "['felt', 'a', 'qualm', 'was', 'a', 'small']\n",
      "['lady', 'with', 'whom', 'had', 'lived', 'for']\n",
      "['such', 'person', 'as', 'but', 'i', 'was']\n",
      "['such', 'person', 'as', 'had', 'ever', 'been']\n",
      "['not', 'eloping', 'with', 'by', 'any', 'chance']\n",
      "['her', 'face', 'lay', '', 'i', 'suspected']\n",
      "['had', 'employed', 'a', 'and', 'spoke', 'highly']\n",
      "['that', 'the', 'real', 'might', 'have', 'been']\n",
      "['the', 'possibility', 'of', 's', 'being', 'an']\n",
      "['was', 'really', 'to', 'he', 'told', 'tredwell']\n"
     ]
    }
   ],
   "source": [
    "bookindex=5\n",
    "for n in perp_neighbors[bookindex]:\n",
    "  print(n)"
   ]
  },
  {
   "cell_type": "code",
   "execution_count": null,
   "metadata": {
    "id": "zqVGaYvu7K3a"
   },
   "outputs": [],
   "source": []
  },
  {
   "cell_type": "markdown",
   "metadata": {
    "id": "rGOQisCW190Y"
   },
   "source": [
    "## 5. When and how the detective/detectives and the perpetrators co-occur - chapter #, the sentence(s) # in a chapter,"
   ]
  },
  {
   "cell_type": "markdown",
   "metadata": {
    "id": "JY_iVCwZ7K3b"
   },
   "source": [
    "### The Murder on the Links "
   ]
  },
  {
   "cell_type": "code",
   "execution_count": 430,
   "metadata": {
    "id": "yXc7-8SD7K3c",
    "outputId": "4e733ae0-7125-45ce-d0b8-e1679783af8e",
    "scrolled": true
   },
   "outputs": [
    {
     "name": "stdout",
     "output_type": "stream",
     "text": [
      "Detective(s): Hercule Poirot, Arthur Hastings\n",
      "Perpetrator: Mademoiselle Marthe\n",
      "['Chapter: 18', 'Sentence: 115', 'Contents: now, hastings, what was jack renauld doing here on that eventful evening, and if he did not see mademoiselle marthe whom did he see']\n",
      "['Chapter: 24', 'Sentence: 188', 'Contents: marthe was at the door to meet us, and led poirot in, clinging with both hands to one of his']\n",
      "['Chapter: 27', 'Sentence: 83', 'Contents: “while you break it in person to mademoiselle marthe, eh?” finished poirot, with a twinkle']\n",
      "['Chapter: 27', 'Sentence: 157', 'Contents: “he is overdone,” murmured poirot to marthe']\n",
      "['Chapter: 27', 'Sentence: 261', 'Contents: poirot looked over his shoulder once at the lighted window and the profile of marthe as she bent over her work']\n",
      "['Chapter: 28', 'Sentence: 138', 'Contents: “however, hastings, things did not go quite as mademoiselle marthe had planned']\n",
      "['Chapter: 28', 'Sentence: 146', 'Contents: “when did you first begin to suspect marthe daubreuil, poirot']\n"
     ]
    }
   ],
   "source": [
    "print(\"Detective(s): Hercule Poirot, Arthur Hastings\")\n",
    "print(\"Perpetrator: Mademoiselle Marthe\")\n",
    "\n",
    "bookindex=1\n",
    "for n in co[bookindex]:\n",
    "  print(n)"
   ]
  },
  {
   "cell_type": "markdown",
   "metadata": {
    "id": "iGN8ucLi7K3b"
   },
   "source": [
    "###  The Mysterious Affair at Styles "
   ]
  },
  {
   "cell_type": "code",
   "execution_count": 431,
   "metadata": {
    "id": "R8Alqpjn_FE8",
    "outputId": "8b08e3b9-9309-489b-c57e-dfa44635d7f2",
    "scrolled": true
   },
   "outputs": [
    {
     "name": "stdout",
     "output_type": "stream",
     "text": [
      "Lead detective: Anne Beddingfeld\n",
      "Perpetrator: Sir Eustace Pedler\n",
      "['Chapter: 1', 'Sentence: 83', 'Contents: mr. hastings—miss howard']\n",
      "['Chapter: 1', 'Sentence: 126', 'Contents: alfred, darling, mr. hastings—my husband']\n",
      "['Chapter: 1', 'Sentence: 145', 'Contents: presently mrs. inglethorp turned to give some instructions about letters to evelyn howard, and her husband addressed me in his painstaking voice: “is soldiering your regular profession, mr. hastings']\n",
      "['Chapter: 4', 'Sentence: 294', 'Contents: we passed through alfred inglethorp’s room, and poirot delayed long enough to make a brief but fairly comprehensive examination of it']\n",
      "['Chapter: 5', 'Sentence: 234', 'Contents: “suppose,” suggested poirot, “that, unknown to you, she had made a new will in favour of someone who was not, in any sense of the word, a member of the family—we will say miss howard, for instance—would you be surprised']\n",
      "['Chapter: 5', 'Sentence: 378', 'Contents: miss howard shook hands with poirot, but glanced suspiciously over her shoulder at john']\n",
      "['Chapter: 5', 'Sentence: 423', 'Contents: as she left the room, poirot came over from the window where he had been standing, and sat down facing miss howard']\n",
      "['Chapter: 5', 'Sentence: 439', 'Contents: “believe me, miss howard,” said poirot very earnestly, “if mr. inglethorp is the man, he shall not escape me']\n",
      "['Chapter: 7', 'Sentence: 277', 'Contents: “mr. inglethorp,” said poirot, addressing him directly, “a very dark shadow is resting on this house—the shadow of murder']\n",
      "['Chapter: 7', 'Sentence: 318', 'Contents: i, hercule poirot, affirm that the man who entered the chemist’s shop, and purchased strychnine at six o’clock on monday last was not mr. inglethorp, for at six o’clock on that day mr. inglethorp was escorting mrs. raikes back to her home from a neighbouring farm']\n",
      "['Chapter: 8', 'Sentence: 140', 'Contents: “in clearing alfred inglethorp,” continued poirot, “i have been obliged to show my hand sooner than i intended']\n",
      "['Chapter: 8', 'Sentence: 401', 'Contents: “here comes miss howard,” said poirot suddenly']\n",
      "['Chapter: 8', 'Sentence: 405', 'Contents: with a nod that was barely civil, miss howard assented to poirot’s request for a few minutes’ conversation']\n",
      "['Chapter: 8', 'Sentence: 407', 'Contents: “well, monsieur poirot,” said miss howard impatiently, “what is it']\n",
      "['Chapter: 8', 'Sentence: 502', 'Contents: “miss howard,” said poirot gravely, “this is unworthy of you']\n",
      "['Chapter: 9', 'Sentence: 296', 'Contents: then i remembered that enigmatical conversation between poirot and evelyn howard']\n",
      "['Chapter: 12', 'Sentence: 247', 'Contents: in the deathly silence, poirot pieced together the slips of paper and, clearing his throat, read: dearest evelyn:     ‘you will be anxious at hearing nothing']\n",
      "['Chapter: 12', 'Sentence: 263', 'Contents: “ messieurs, mesdames ,” said poirot, with a flourish, “let me introduce you to the murderer, mr. alfred inglethorp']\n",
      "['Chapter: 13', 'Sentence: 29', 'Contents: “then again,” continued poirot, “at the beginning, did i not repeat to you several times that i didn’t want mr. inglethorp arrested  now ']\n"
     ]
    }
   ],
   "source": [
    "print(\"Lead detective: Anne Beddingfeld\")\n",
    "print(\"Perpetrator: Sir Eustace Pedler\")\n",
    "\n",
    "bookindex=2\n",
    "for n in co[bookindex]:\n",
    "  print(n)"
   ]
  },
  {
   "cell_type": "code",
   "execution_count": 432,
   "metadata": {
    "id": "M7-Yk-AB_FE8",
    "outputId": "a40fb14e-2895-4f60-a295-ee24715e98ed",
    "scrolled": true
   },
   "outputs": [
    {
     "name": "stdout",
     "output_type": "stream",
     "text": [
      "Detective(s): Hercule Poirot, Arthur Hastings\n",
      "Perpetrator: Evelyn Howard, Alfred Inglethorp \n",
      "['Chapter: 1', 'Sentence: 83', 'Contents: mr. hastings—miss howard']\n",
      "['Chapter: 1', 'Sentence: 126', 'Contents: alfred, darling, mr. hastings—my husband']\n",
      "['Chapter: 1', 'Sentence: 145', 'Contents: presently mrs. inglethorp turned to give some instructions about letters to evelyn howard, and her husband addressed me in his painstaking voice: “is soldiering your regular profession, mr. hastings']\n",
      "['Chapter: 4', 'Sentence: 294', 'Contents: we passed through alfred inglethorp’s room, and poirot delayed long enough to make a brief but fairly comprehensive examination of it']\n",
      "['Chapter: 5', 'Sentence: 234', 'Contents: “suppose,” suggested poirot, “that, unknown to you, she had made a new will in favour of someone who was not, in any sense of the word, a member of the family—we will say miss howard, for instance—would you be surprised']\n",
      "['Chapter: 5', 'Sentence: 378', 'Contents: miss howard shook hands with poirot, but glanced suspiciously over her shoulder at john']\n",
      "['Chapter: 5', 'Sentence: 423', 'Contents: as she left the room, poirot came over from the window where he had been standing, and sat down facing miss howard']\n",
      "['Chapter: 5', 'Sentence: 439', 'Contents: “believe me, miss howard,” said poirot very earnestly, “if mr. inglethorp is the man, he shall not escape me']\n",
      "['Chapter: 7', 'Sentence: 277', 'Contents: “mr. inglethorp,” said poirot, addressing him directly, “a very dark shadow is resting on this house—the shadow of murder']\n",
      "['Chapter: 7', 'Sentence: 318', 'Contents: i, hercule poirot, affirm that the man who entered the chemist’s shop, and purchased strychnine at six o’clock on monday last was not mr. inglethorp, for at six o’clock on that day mr. inglethorp was escorting mrs. raikes back to her home from a neighbouring farm']\n",
      "['Chapter: 8', 'Sentence: 140', 'Contents: “in clearing alfred inglethorp,” continued poirot, “i have been obliged to show my hand sooner than i intended']\n",
      "['Chapter: 8', 'Sentence: 401', 'Contents: “here comes miss howard,” said poirot suddenly']\n",
      "['Chapter: 8', 'Sentence: 405', 'Contents: with a nod that was barely civil, miss howard assented to poirot’s request for a few minutes’ conversation']\n",
      "['Chapter: 8', 'Sentence: 407', 'Contents: “well, monsieur poirot,” said miss howard impatiently, “what is it']\n",
      "['Chapter: 8', 'Sentence: 502', 'Contents: “miss howard,” said poirot gravely, “this is unworthy of you']\n",
      "['Chapter: 9', 'Sentence: 296', 'Contents: then i remembered that enigmatical conversation between poirot and evelyn howard']\n",
      "['Chapter: 12', 'Sentence: 247', 'Contents: in the deathly silence, poirot pieced together the slips of paper and, clearing his throat, read: dearest evelyn:     ‘you will be anxious at hearing nothing']\n",
      "['Chapter: 12', 'Sentence: 263', 'Contents: “ messieurs, mesdames ,” said poirot, with a flourish, “let me introduce you to the murderer, mr. alfred inglethorp']\n",
      "['Chapter: 13', 'Sentence: 29', 'Contents: “then again,” continued poirot, “at the beginning, did i not repeat to you several times that i didn’t want mr. inglethorp arrested  now ']\n"
     ]
    }
   ],
   "source": [
    "print(\"Detective(s): Hercule Poirot, Arthur Hastings\")\n",
    "print(\"Perpetrator: Evelyn Howard, Alfred Inglethorp \")\n",
    "\n",
    "bookindex=2\n",
    "for n in co[bookindex]:\n",
    "  print(n)"
   ]
  },
  {
   "cell_type": "markdown",
   "metadata": {
    "id": "uwGIQApl7K3b"
   },
   "source": [
    "### The Secret Adversary "
   ]
  },
  {
   "cell_type": "code",
   "execution_count": 433,
   "metadata": {
    "id": "7BUGbi4l_FE9",
    "outputId": "0bc4a3d2-da92-4139-d9af-4b6287a36f8c"
   },
   "outputs": [
    {
     "name": "stdout",
     "output_type": "stream",
     "text": [
      "Lead detectives: Tommy and Tuppence\n",
      "Perpetrator: Sir James Peel Edgerton\n",
      "\n",
      "['Chapter: 10', 'Sentence: 171', 'Contents: tuppence was undecided for the moment whether to put him down as an actor or a lawyer, but her doubts were soon solved as he gave her his name: sir james peel edgerton']\n",
      "['Chapter: 12', 'Sentence: 61', 'Contents: “sir james,” said tuppence, plunging boldly, “i dare say you will think it is most awful cheek of me coming here like this']\n",
      "['Chapter: 12', 'Sentence: 64', 'Contents: “tommy?” queried sir james, looking across at the american']\n",
      "['Chapter: 12', 'Sentence: 105', 'Contents: “oh, sir james,” broke out tuppence, “what do you think has become of tommy']\n",
      "['Chapter: 13', 'Sentence: 9', 'Contents: between them sir james and tuppence lifted mrs. vandemeyer and carried her to the bed']\n",
      "['Chapter: 13', 'Sentence: 59', 'Contents: “miss tuppence is right,” said sir james quietly']\n",
      "['Chapter: 13', 'Sentence: 129', 'Contents: “now then, miss tuppence,” said sir james, “you know this place better than i do']\n",
      "['Chapter: 13', 'Sentence: 148', 'Contents: “and now, miss tuppence,” said sir james, “we want to hear your adventures']\n",
      "['Chapter: 13', 'Sentence: 152', 'Contents: sir james said nothing until she had finished, when his quiet “well done, miss tuppence,” made her flush with pleasure']\n",
      "['Chapter: 13', 'Sentence: 221', 'Contents: she looked appealingly at sir james, who replied gravely: “with due deference to your feelings, miss tuppence (and mine as well for that matter), i do not see how it is humanly possible for anyone to be in the flat without our knowledge']\n",
      "['Chapter: 14', 'Sentence: 1', 'Contents:  nothing was more surprising and bewildering to tuppence than the ease and simplicity with which everything was arranged, owing to sir james’s skilful handling']\n",
      "['Chapter: 14', 'Sentence: 21', 'Contents: it was arranged that tuppence and julius should return to the  ritz , and call for sir james in the car']\n",
      "['Chapter: 15', 'Sentence: 60', 'Contents: sir james took tuppence’s hand']\n",
      "['Chapter: 18', 'Sentence: 40', 'Contents: beginning with his unsuccessful reconnoitring at bournemouth, he passed on to his return to london, the buying of the car, the growing anxieties of tuppence, the call upon sir james, and the sensational occurrences of the previous night']\n",
      "['Chapter: 18', 'Sentence: 68', 'Contents: but i guess tuppence and i and even the highbrow sir james have all got the same idea']\n",
      "['Chapter: 19', 'Sentence: 16', 'Contents: sir james arrived punctually at eight o’clock, and julius introduced tommy']\n",
      "['Chapter: 19', 'Sentence: 111', 'Contents: tommy appeared about to protest, but sir james went on']\n",
      "['Chapter: 21', 'Sentence: 30', 'Contents: “i wish that chap peel edgerton had been with us,” said tommy thoughtfully']\n",
      "['Chapter: 23', 'Sentence: 1', 'Contents:  after ringing up sir james, tommy’s next procedure was to make a call at south audley mansions']\n",
      "['Chapter: 25', 'Sentence: 144', 'Contents: sir james looked at tuppence quizzically']\n",
      "['Chapter: 26', 'Sentence: 37', 'Contents: tuppence recounted to sir james the exciting events of the evening, ending up: “but i can’t see  why']\n",
      "['Chapter: 27', 'Sentence: 159', 'Contents: i threatened julius with the revolver, because i wanted tuppence to repeat that to sir james, so that he wouldn’t worry about us']\n",
      "['Chapter: 27', 'Sentence: 179', 'Contents: “beresford has just said that i would not have believed sir james peel edgerton to be guilty unless, so to speak, he was caught in the act']\n"
     ]
    }
   ],
   "source": [
    "print(\"Lead detectives: Tommy and Tuppence\")\n",
    "print(\"Perpetrator: Sir James Peel Edgerton\\n\")\n",
    "\n",
    "bookindex=3\n",
    "for n in co[bookindex]:\n",
    "  print(n)\n",
    "\n"
   ]
  },
  {
   "cell_type": "markdown",
   "metadata": {
    "id": "Wrz1aGbl7K3c"
   },
   "source": [
    "### The Man in the Brown Suit "
   ]
  },
  {
   "cell_type": "code",
   "execution_count": 434,
   "metadata": {
    "id": "RBoWy_Bk_FE9",
    "outputId": "e17147db-33bb-4374-c07f-96cad7cb42be",
    "scrolled": true
   },
   "outputs": [
    {
     "name": "stdout",
     "output_type": "stream",
     "text": [
      "Lead detective: Anne Beddingfeld\n",
      "Perpetrator: Sir Eustace Pedler\n",
      "['Chapter: 20', 'Sentence: 141', 'Contents: “oh, anne, you surely can’t suspect colonel race or sir eustace']\n",
      "['Chapter: 33', 'Sentence: 110', 'Contents: you didn’t know, did you, sir eustace, that anne had an arrangement with me by which we should know whether communications from one to the other were genuine']\n"
     ]
    }
   ],
   "source": [
    "print(\"Lead detective: Anne Beddingfeld\")\n",
    "print(\"Perpetrator: Sir Eustace Pedler\")\n",
    "\n",
    "bookindex=4\n",
    "for n in co[bookindex]:\n",
    "  print(n)"
   ]
  },
  {
   "cell_type": "markdown",
   "metadata": {
    "id": "fE_wxpLk7K3c"
   },
   "source": [
    "### The Secret of Chimneys "
   ]
  },
  {
   "cell_type": "code",
   "execution_count": 435,
   "metadata": {
    "id": "Uf_QyW7629H4",
    "outputId": "af7010ba-7ca3-4f69-960f-0d177021570e"
   },
   "outputs": [
    {
     "name": "stdout",
     "output_type": "stream",
     "text": [
      "Lead detective: Anthony Cade\n",
      "Perpetrator(s): Mademoiselle Brun\n",
      "['Chapter: 15', 'Sentence: 194', 'Contents: “mademoiselle brun,” said anthony thoughtfully']\n"
     ]
    }
   ],
   "source": [
    "print(\"Lead detective: Anthony Cade\")\n",
    "print(\"Perpetrator(s): Mademoiselle Brun\")\n",
    "\n",
    "bookindex=5\n",
    "for n in co[bookindex]:\n",
    "  print(n)"
   ]
  },
  {
   "cell_type": "markdown",
   "metadata": {
    "id": "bDDmhW4P29Z-"
   },
   "source": [
    "## Q6. When are other suspects first introduced - chapter #, the sentence(s) # in a chapter"
   ]
  },
  {
   "cell_type": "markdown",
   "metadata": {
    "id": "unFg1Flx_FEw"
   },
   "source": [
    "\n",
    "##### Occurence of other suspects for the first time visualization\n"
   ]
  },
  {
   "cell_type": "code",
   "execution_count": 436,
   "metadata": {},
   "outputs": [
    {
     "data": {
      "image/png": "[encoded data removed]",
      "text/plain": [
       "<Figure size 432x288 with 1 Axes>"
      ]
     },
     "metadata": {
      "needs_background": "light"
     },
     "output_type": "display_data"
    }
   ],
   "source": [
    "# When are other suspects first introduced\n",
    "\n",
    "import matplotlib.pyplot as plt\n",
    "from matplotlib.colors import ListedColormap\n",
    "from matplotlib.ticker import MaxNLocator\n",
    "\n",
    "\n",
    "#ax = plt.figure().gca()\n",
    "#ax.xaxis.set_major_locator(MaxNLocator(integer=True))\n",
    "\n",
    "x = [3,1, 4,8,2]\n",
    "y = [119, 6,  57, 183, 84]\n",
    "classes = ['The Murder on the Links', 'The Mysterious Affair at Styles',  'The Secret Adversary', 'The Man in the Brown Suit', 'The Secret of Chimneys']\n",
    "values = [0, 1, 2, 3, 4]\n",
    "\n",
    "colours = ListedColormap(['r','b','g',  'y'  ,'k'])\n",
    "scatter = plt.scatter(x, y,c=values, cmap=colours)\n",
    "\n",
    "\n",
    "plt.legend(handles=scatter.legend_elements()[0], labels=classes, loc=\"upper center\", bbox_to_anchor=(0.5, 1.3), ncol=2)\n",
    "plt.xlabel(\"Chapter\")\n",
    "plt.ylabel(\"Sentence\")\n",
    "plt.grid(color='lightgrey', linestyle='-', linewidth=.5)\n"
   ]
  },
  {
   "cell_type": "markdown",
   "metadata": {
    "id": "6RqJ3OJv7K3d"
   },
   "source": [
    "### The Murder on the Links "
   ]
  },
  {
   "cell_type": "code",
   "execution_count": 437,
   "metadata": {
    "id": "mLZoP0XV_FE-",
    "outputId": "312cd63d-fa58-40aa-ace2-926182161247"
   },
   "outputs": [
    {
     "name": "stdout",
     "output_type": "stream",
     "text": [
      "['Chapter: 3', 'Sentence: 119', 'Contents: finally there are madame renauld and her son, m. jack renauld']\n"
     ]
    }
   ],
   "source": [
    "bookindex=1\n",
    "print(sus_occur[bookindex][0])"
   ]
  },
  {
   "cell_type": "markdown",
   "metadata": {
    "id": "6NWri1qO7K3d"
   },
   "source": [
    "###  The Mysterious Affair at Styles "
   ]
  },
  {
   "cell_type": "code",
   "execution_count": 438,
   "metadata": {
    "id": "wLgxcJ54_FE_",
    "outputId": "114322c6-ecef-46fd-c611-f895261503f8"
   },
   "outputs": [
    {
     "name": "stdout",
     "output_type": "stream",
     "text": [
      "['Chapter: 1', 'Sentence: 6', 'Contents: having no near relations or friends, i was trying to make up my mind what to do, when i ran across john cavendish']\n"
     ]
    }
   ],
   "source": [
    "bookindex=2\n",
    "print(sus_occur[bookindex][0])"
   ]
  },
  {
   "cell_type": "markdown",
   "metadata": {
    "id": "3ASOh02x7K3d"
   },
   "source": [
    "### The Secret Adversary "
   ]
  },
  {
   "cell_type": "code",
   "execution_count": 439,
   "metadata": {
    "id": "9UXWusiV_FE_",
    "outputId": "7aa7a520-9aaa-42d2-956a-e2d7ade21084"
   },
   "outputs": [
    {
     "name": "stdout",
     "output_type": "stream",
     "text": [
      "['Chapter: 4', 'Sentence: 57', 'Contents: “yours truly, “julius p. hersheimmer']\n"
     ]
    }
   ],
   "source": [
    "bookindex=3\n",
    "print(sus_occur[bookindex][0])"
   ]
  },
  {
   "cell_type": "markdown",
   "metadata": {
    "id": "RxRvYZd77K3e"
   },
   "source": [
    "### The Man in the Brown Suit "
   ]
  },
  {
   "cell_type": "code",
   "execution_count": 440,
   "metadata": {
    "id": "dtiz5Q3Y_FFC",
    "outputId": "4e48472c-c2d7-40a8-c003-fddd6df71026"
   },
   "outputs": [
    {
     "name": "stdout",
     "output_type": "stream",
     "text": [
      "['Chapter: 8', 'Sentence: 183', 'Contents: “harry rayburn seems quite a suitable name,” he observed']\n"
     ]
    }
   ],
   "source": [
    "bookindex=4\n",
    "print(sus_occur[bookindex][0])"
   ]
  },
  {
   "cell_type": "markdown",
   "metadata": {
    "id": "AELlVfwe7K3e"
   },
   "source": [
    "### The Secret of Chimneys "
   ]
  },
  {
   "cell_type": "code",
   "execution_count": 441,
   "metadata": {
    "id": "Hpfzfd8G_FFC",
    "outputId": "0c349c52-26a8-4053-ac33-eb802dbff8d9"
   },
   "outputs": [
    {
     "name": "stdout",
     "output_type": "stream",
     "text": [
      "['Chapter: 2', 'Sentence: 84', 'Contents: they were king victor’s people, he said']\n"
     ]
    }
   ],
   "source": [
    "bookindex=5\n",
    "print(sus_occur[bookindex][0])"
   ]
  },
  {
   "cell_type": "markdown",
   "metadata": {
    "id": "rsajewrP3VEd"
   },
   "source": [
    "\n",
    "\n",
    "## Discussion"
   ]
  },
  {
   "cell_type": "markdown",
   "metadata": {
    "id": "rAyzwcaG3Z5j"
   },
   "source": [
    "#### Data Loading\n",
    "In order to track the exact location of match occurences, we opted to store the corpus as a nested dictionary. The corpus dictionary containts the titles, tokenized contents, and blobbed contents of each book. Internally, the dictionaries are accessied via a numerical index that corresponds to each book, chapter, and sentence. Each book consists of a dictionary of chapter titles and a dictionary of chapter contents. Each chapter consists of a dictionary of sentences. Books, chapters, and sentences are 1-indexed as this allowed for the inclusion of prologue chapters (index=0) that appeared in some of the books. The chapters and sentences were tokenized using regular expressions. Each book followed a unique pattern for the chapter titles as well as the Project Gutenberg prologue and epilogue, so we use the book index to select the appropriate regex for each book. The sentence splitting regex we used accounts for sentences that include punctuation that does not end the sentence. For example, the sentence '\"What?\" he exclaimed' is not split on the question mark. Accounting for the wide variety of unicode quotation marks proved a minor challenge. Special care was also taken not to split on unusual abbreviations like \"Mlle.\" We found it useful to be as explicit as possible when choosing not to split a sentence at an abbreviation as using wildcards introduced to many edge cases. The exception was the pattern \"\\w\\.\\w\\.\" since that general case catches abbreviated names as well as common patterns like \"e.g.\" and \"i.e.\" In general, negative lookahead and lookbehind expressions were critical for maximizing sentence splitting performance. The blobbed contents of each book consits of a single string with all of the words in the book minus chapter titles and punctuation to allow us to extract neighboring words without regard for sentence barriers. \n",
    "#### Data Cleaning\n",
    "During data cleaning, we first identified which types of unique white spaces were included in the text, and opted to remove \"\\r\\n\", hair-spaces and replace them with a single space to make all spaces uniform. One reason to replace rather than remove '\\r\\n' was due to the fact that multi-line sentences in some cases did not use spaces to separate words and just relied on the carriage-return/new-line."
   ]
  },
  {
   "cell_type": "markdown",
   "metadata": {
    "id": "-anmDuUx_FFC"
   },
   "source": [
    "### The Secret Adversary\n",
    "\n",
    "\"The Secret Adversary\" is centered around the disappearance of Jane Finn and the theft of important documents that have the potential to overthrow the government. As a result, we included kidnapping, espionage, theft, and conspiracy as potential target crimes. We also attempted finding keywords that could help us extract the conspiracy but, unfortunately, there were not many occurrences of \"spy\", \"espionage\", or \"conspiracy\" to provide enough context for the crime. For this reason, for our analysis we focused in the kidnapping as the main crime.\n",
    "\n",
    "One additional challenge for this book is that Mr. Brown, one of the characters, is used to refer to both Julius Hersheimmer and Sir James Peel Edgerton. Later in the book, the author reveals that the real Mr. Brown is Sir James Peel Edgerton and that he is the perpetrator of the crime. For this reason, we excluded Mr. Brown from our search to avoid introducing references to a suspect instead of the perpetrator. The bag of words analysis actually was able to identify this issue. \n",
    "Another character, Jane Finn, is the main victim but the name is also used by characters pretending to be Jane Finn. Because there are multiple aliases for the same character, human intervention is required to identify which character is the focus of the matching sentence. \n",
    "\n",
    "In addition to common stop words obtained from NLTK, we also excluded \"said\", \"mr\", \"miss\", since the book is very conversational in nature.  "
   ]
  },
  {
   "cell_type": "markdown",
   "metadata": {
    "id": "0TSFD4in_R_4"
   },
   "source": [
    "### The Murder on the Links\n",
    "This case is a straightforward murder with a single red herring. Mr. Renauld is stabbed to death early in the book and suspicion falls upon his son. However, the real culprit is Mademoiselle Daubreuil. Years before the current murder takes place, Mr. Renauld and Madame Daubreuil, mother of Mademoiselle Daubreuil, had conspired together and killed Madame Daubreuil's husband. When the murder was uncovered, Mr.Renauld disappeared, prompting a long mission of revenge for the mother and daughter. One interesting aspect of this case is the use of the word \"murder.\" Characters throw around many accusaions of murder with brief explanation of how they think the murder occured. This makes the search term more confounding than useful. In order to extract quality details of the murder as opposed to wild accusations, we found it necessary to search for paired terms like \"death..occured,\" examination...body\", and \"body...discovered\" with regex wild cards for any intervening words. \n",
    "\n",
    "### The Mysterious Affair at Styles\n",
    "\n",
    "This case is another murder. It is complicated by the fact that, in order to prevent a double-jeopardy situation, Poirot argues that one of the two guilty suspects is innocent. Once the trial has moved on, Poirot reveals that the man he had previously argued was innocent is in fact guilty. The reason for this is that the guilty man worked with a partner so that it was physically impossible for him to have committed the whole murder alone. In other words, he is \"innocent\" of half the murder tasks. The guilty pair are Alfred Inglethorp (huspand of the victim) and Evelyn Howard (secretary/assistant of the victim). We found it difficult to catch the moment Poirot reveals the identity of the murderers. Poirot reads a murder-planning letter written to Evelyn Howard, thereby revealing her guilt without actually making any accusation. Likewise, Alfred is exposed when he lunges from hiding. As far as detecting the murderers based on regexes, we had to wait until then next chapter when Poirot launches into an exposition on why he suspected the pair. At this point, the murderers' names occur in sentences that mention their crime."
   ]
  },
  {
   "cell_type": "markdown",
   "metadata": {
    "id": "n778bvzI7K3f"
   },
   "source": [
    "\n",
    "\n",
    "## Additional/Extra Analysis"
   ]
  },
  {
   "cell_type": "code",
   "execution_count": null,
   "metadata": {
    "id": "KthIUBm43eD_"
   },
   "outputs": [],
   "source": []
  },
  {
   "cell_type": "markdown",
   "metadata": {
    "id": "ZrGbecFT_FFD"
   },
   "source": [
    "### Tokenization Comparison with Spacy"
   ]
  },
  {
   "cell_type": "code",
   "execution_count": 442,
   "metadata": {
    "id": "cbnEcpBq_FFD"
   },
   "outputs": [
    {
     "name": "stdout",
     "output_type": "stream",
     "text": [
      "Defaulting to user installation because normal site-packages is not writeable\n",
      "Requirement already satisfied: spacy in /home/amalviya/.local/lib/python3.8/site-packages (3.1.3)\n",
      "Requirement already satisfied: tqdm<5.0.0,>=4.38.0 in /usr/local/lib/python3.8/dist-packages (from spacy) (4.62.2)\n",
      "Requirement already satisfied: setuptools in /usr/lib/python3/dist-packages (from spacy) (45.2.0)\n",
      "Requirement already satisfied: packaging>=20.0 in /usr/local/lib/python3.8/dist-packages (from spacy) (21.0)\n",
      "Requirement already satisfied: murmurhash<1.1.0,>=0.28.0 in /home/amalviya/.local/lib/python3.8/site-packages (from spacy) (1.0.5)\n",
      "Requirement already satisfied: pathy>=0.3.5 in /home/amalviya/.local/lib/python3.8/site-packages (from spacy) (0.6.0)\n",
      "Requirement already satisfied: cymem<2.1.0,>=2.0.2 in /home/amalviya/.local/lib/python3.8/site-packages (from spacy) (2.0.5)\n",
      "Requirement already satisfied: thinc<8.1.0,>=8.0.9 in /home/amalviya/.local/lib/python3.8/site-packages (from spacy) (8.0.10)\n",
      "Requirement already satisfied: catalogue<2.1.0,>=2.0.6 in /home/amalviya/.local/lib/python3.8/site-packages (from spacy) (2.0.6)\n",
      "Requirement already satisfied: preshed<3.1.0,>=3.0.2 in /home/amalviya/.local/lib/python3.8/site-packages (from spacy) (3.0.5)\n",
      "Requirement already satisfied: blis<0.8.0,>=0.4.0 in /home/amalviya/.local/lib/python3.8/site-packages (from spacy) (0.7.4)\n",
      "Requirement already satisfied: pydantic!=1.8,!=1.8.1,<1.9.0,>=1.7.4 in /home/amalviya/.local/lib/python3.8/site-packages (from spacy) (1.8.2)\n",
      "Requirement already satisfied: wasabi<1.1.0,>=0.8.1 in /home/amalviya/.local/lib/python3.8/site-packages (from spacy) (0.8.2)\n",
      "Requirement already satisfied: numpy>=1.15.0 in /usr/local/lib/python3.8/dist-packages (from spacy) (1.21.2)\n",
      "Requirement already satisfied: jinja2 in /usr/local/lib/python3.8/dist-packages (from spacy) (3.0.1)\n",
      "Requirement already satisfied: spacy-legacy<3.1.0,>=3.0.8 in /home/amalviya/.local/lib/python3.8/site-packages (from spacy) (3.0.8)\n",
      "Requirement already satisfied: srsly<3.0.0,>=2.4.1 in /home/amalviya/.local/lib/python3.8/site-packages (from spacy) (2.4.1)\n",
      "Requirement already satisfied: requests<3.0.0,>=2.13.0 in /usr/lib/python3/dist-packages (from spacy) (2.22.0)\n",
      "Requirement already satisfied: typer<0.5.0,>=0.3.0 in /home/amalviya/.local/lib/python3.8/site-packages (from spacy) (0.4.0)\n",
      "Requirement already satisfied: pyparsing>=2.0.2 in /usr/local/lib/python3.8/dist-packages (from packaging>=20.0->spacy) (2.4.7)\n",
      "Requirement already satisfied: smart-open<6.0.0,>=5.0.0 in /usr/local/lib/python3.8/dist-packages (from pathy>=0.3.5->spacy) (5.2.0)\n",
      "Requirement already satisfied: typing-extensions>=3.7.4.3 in /home/amalviya/.local/lib/python3.8/site-packages (from pydantic!=1.8,!=1.8.1,<1.9.0,>=1.7.4->spacy) (3.10.0.2)\n",
      "Requirement already satisfied: click<9.0.0,>=7.1.1 in /usr/local/lib/python3.8/dist-packages (from typer<0.5.0,>=0.3.0->spacy) (8.0.1)\n",
      "Requirement already satisfied: MarkupSafe>=2.0 in /usr/local/lib/python3.8/dist-packages (from jinja2->spacy) (2.0.1)\n"
     ]
    }
   ],
   "source": [
    "!pip install spacy"
   ]
  },
  {
   "cell_type": "code",
   "execution_count": 443,
   "metadata": {
    "id": "Vt_XE5oP_FFD",
    "outputId": "de944276-381f-4f61-c9f6-ae2363e6cca4"
   },
   "outputs": [
    {
     "name": "stdout",
     "output_type": "stream",
     "text": [
      "Book 3 has 29 chapters.\n",
      "Book 1 has 28 chapters.\n"
     ]
    },
    {
     "ename": "NameError",
     "evalue": "name 'nlp' is not defined",
     "output_type": "error",
     "traceback": [
      "\u001b[0;31m---------------------------------------------------------------------------\u001b[0m",
      "\u001b[0;31mNameError\u001b[0m                                 Traceback (most recent call last)",
      "\u001b[0;32m/tmp/ipykernel_6634/3387709433.py\u001b[0m in \u001b[0;36m<module>\u001b[0;34m\u001b[0m\n\u001b[1;32m     15\u001b[0m     \u001b[0;32mfor\u001b[0m \u001b[0mchid\u001b[0m \u001b[0;32min\u001b[0m \u001b[0mrange\u001b[0m\u001b[0;34m(\u001b[0m\u001b[0;36m1\u001b[0m\u001b[0;34m,\u001b[0m\u001b[0mnch\u001b[0m\u001b[0;34m)\u001b[0m\u001b[0;34m:\u001b[0m\u001b[0;34m\u001b[0m\u001b[0;34m\u001b[0m\u001b[0m\n\u001b[1;32m     16\u001b[0m         \u001b[0mdirty_chapter\u001b[0m\u001b[0;34m=\u001b[0m\u001b[0mdirty_corpus\u001b[0m\u001b[0;34m[\u001b[0m\u001b[0mbookid\u001b[0m\u001b[0;34m]\u001b[0m\u001b[0;34m[\u001b[0m\u001b[0;34m\"contents\"\u001b[0m\u001b[0;34m]\u001b[0m\u001b[0;34m[\u001b[0m\u001b[0mchid\u001b[0m\u001b[0;34m]\u001b[0m\u001b[0;34m\u001b[0m\u001b[0;34m\u001b[0m\u001b[0m\n\u001b[0;32m---> 17\u001b[0;31m         \u001b[0mch_doc\u001b[0m \u001b[0;34m=\u001b[0m \u001b[0mnlp\u001b[0m\u001b[0;34m(\u001b[0m\u001b[0mdirty_chapter\u001b[0m\u001b[0;34m)\u001b[0m\u001b[0;34m\u001b[0m\u001b[0;34m\u001b[0m\u001b[0m\n\u001b[0m\u001b[1;32m     18\u001b[0m         \u001b[0msentences\u001b[0m \u001b[0;34m=\u001b[0m \u001b[0;34m[\u001b[0m\u001b[0msent\u001b[0m\u001b[0;34m.\u001b[0m\u001b[0mtext\u001b[0m\u001b[0;34m.\u001b[0m\u001b[0mstrip\u001b[0m\u001b[0;34m(\u001b[0m\u001b[0;34m)\u001b[0m \u001b[0;32mfor\u001b[0m \u001b[0msent\u001b[0m \u001b[0;32min\u001b[0m \u001b[0mch_doc\u001b[0m\u001b[0;34m.\u001b[0m\u001b[0msents\u001b[0m\u001b[0;34m]\u001b[0m\u001b[0;34m\u001b[0m\u001b[0;34m\u001b[0m\u001b[0m\n\u001b[1;32m     19\u001b[0m         \u001b[0;31m#print(sentences)\u001b[0m\u001b[0;34m\u001b[0m\u001b[0;34m\u001b[0m\u001b[0;34m\u001b[0m\u001b[0m\n",
      "\u001b[0;31mNameError\u001b[0m: name 'nlp' is not defined"
     ]
    }
   ],
   "source": [
    "from spacy.lang.en import English \n",
    "\n",
    "# W.I.P.\n",
    "\n",
    "dirty_corpus=get_corpus()\n",
    "\n",
    "\n",
    "bookid=3\n",
    "nch=len(corpus[bookid][\"chapters\"])\n",
    "print(f\"Book {bookid} has {nch} chapters.\")\n",
    "\n",
    "for bookid in range(1,6):\n",
    "    nch=len(corpus[bookid][\"chapters\"])\n",
    "    print(f\"Book {bookid} has {nch} chapters.\")\n",
    "    for chid in range(1,nch):\n",
    "        dirty_chapter=dirty_corpus[bookid][\"contents\"][chid]\n",
    "        ch_doc = nlp(dirty_chapter)\n",
    "        sentences = [sent.text.strip() for sent in ch_doc.sents]\n",
    "        #print(sentences)\n",
    "        print(f\"Book {bookid}, Chapter {chid}: {len(sentences)}(spacy), {len(corpus[bookid]['contents'][chid])}(regex) sentences.\")\n",
    "\n",
    "#print(dirty_corpus[bookid][\"contents\"][0])\n",
    "\n",
    "#dirty_chapter=dirty_corpus[bookid][\"contents\"][1]\n",
    "#b3c1_spacy = dirty_chapter\n",
    "#print(b3c1_spacy)\n",
    "#b3c1_doc = nlp(b3c1_spacy)\n",
    "#sentences_b3c1_spacy = [sent.text.strip() for sent in b3c1_doc.sents]\n",
    "#print(sentences_b3c1_spacy)\n",
    "#print(len(sentences_b3c1_spacy))\n",
    "\n",
    "print(len(corpus[3][\"contents\"][1]))\n"
   ]
  },
  {
   "cell_type": "markdown",
   "metadata": {
    "id": "FZ7Vu-r67K3N"
   },
   "source": [
    "\n",
    "#### Bag of Words Analysis \n"
   ]
  },
  {
   "cell_type": "code",
   "execution_count": null,
   "metadata": {
    "colab": {
     "base_uri": "https://localhost:8080/",
     "height": 380
    },
    "id": "qFppsJL3d-Sx",
    "outputId": "964ede80-ad11-4d27-fa8f-459e55d07249"
   },
   "outputs": [],
   "source": [
    "perp1=get_perp(1)\n",
    "perp2=get_perp(2)\n",
    "perp3=get_perp(3)\n",
    "perp4=get_perp(4)\n",
    "perp5=get_perp(5)\n",
    "red1=get_sus(1)\n",
    "red2=get_sus(2)\n",
    "red3=get_sus(3)\n",
    "red4=get_sus(4)\n",
    "red5=get_sus(5)\n",
    "perp_neighbors1=get_3words(1,perp1)\n",
    "perp_neighbors2=get_3words(2,perp2)\n",
    "perp_neighbors3=get_3words(3,perp3)\n",
    "perp_neighbors4=get_3words(4,perp4)\n",
    "perp_neighbors5=get_3words(5,perp5)\n",
    "\n",
    "sus_neighbors1=get_3words(1,red1)\n",
    "sus_neighbors2=get_3words(2,red2)\n",
    "sus_neighbors3=get_3words(3,red3)\n",
    "sus_neighbors4=get_3words(4,red4)\n",
    "sus_neighbors5=get_3words(5,red5)\n",
    "\n",
    "perp5bag=[word for words in perp_neighbors5 for word in words]\n",
    "perp4bag=[word for words in perp_neighbors4 for word in words]\n",
    "perp3bag=[word for words in perp_neighbors3 for word in words]\n",
    "perp2bag=[word for words in perp_neighbors2 for word in words]\n",
    "perp1bag=[word for words in perp_neighbors1 for word in words]\n",
    "\n",
    "sus1bag=[word for words in sus_neighbors1 for word in words]\n",
    "sus2bag=[word for words in sus_neighbors2 for word in words]\n",
    "sus3bag=[word for words in sus_neighbors3 for word in words]\n",
    "sus4bag=[word for words in sus_neighbors4 for word in words]\n",
    "sus5bag=[word for words in sus_neighbors5 for word in words]\n",
    "perp5bag=' '.join(perp5bag)\n",
    "perp4bag=' '.join(perp4bag)\n",
    "perp3bag=' '.join(perp3bag)\n",
    "perp2bag=' '.join(perp2bag)\n",
    "perp1bag=' '.join(perp1bag)\n",
    "sus1bag=' '.join(sus1bag)\n",
    "sus2bag=' '.join(sus2bag)\n",
    "sus3bag=' '.join(sus3bag)\n",
    "sus4bag=' '.join(sus4bag)\n",
    "sus5bag=' '.join(sus5bag)\n",
    "\n",
    "from sklearn.feature_extraction.text import TfidfVectorizer\n",
    "import pandas as pd\n",
    "\n",
    "vectorizer = TfidfVectorizer()\n",
    "#vectorizer = TfidfVectorizer(stop_words='english',max_df=.80)\n",
    "trsfm=vectorizer.fit_transform([perp1bag,perp2bag,perp3bag,perp4bag,perp5bag])\n",
    "tfid_data=pd.DataFrame(trsfm.toarray(),columns=vectorizer.get_feature_names(),index=['Perp 1','Perp 2','Perp 3','Perp 4','Perp 5'])\n",
    "print(tfid_data)\n",
    "tfid_data=tfid_data.replace(0,.00001)\n",
    "print(tfid_data)\n",
    "import numpy as np\n",
    "importance = np.argsort(np.asarray(trsfm.sum(axis=0)).ravel())[::-1]\n",
    "tfidf_feature_names = np.array(vectorizer.get_feature_names())\n",
    "print(tfidf_feature_names[importance[:20]])\n",
    "from sklearn.metrics.pairwise import cosine_similarity\n",
    "print(cosine_similarity(trsfm[0:10], trsfm))\n"
   ]
  },
  {
   "cell_type": "code",
   "execution_count": null,
   "metadata": {
    "id": "ElO54wsfqQnR",
    "outputId": "8162b914-9ac6-407b-c829-9fb323c3de37"
   },
   "outputs": [],
   "source": [
    "!pip install textdistance\n",
    "import textdistance"
   ]
  },
  {
   "cell_type": "code",
   "execution_count": null,
   "metadata": {
    "colab": {
     "base_uri": "https://localhost:8080/"
    },
    "id": "3nM8g6WGhQI6",
    "outputId": "675dc9a8-08a1-4108-dacd-0c2d7a0bdb6a"
   },
   "outputs": [],
   "source": [
    "from sklearn.feature_extraction.text import CountVectorizer\n",
    "vectorizer = CountVectorizer()\n",
    "\n",
    "cfm=vectorizer.fit_transform([perp1bag,perp2bag,perp3bag,perp4bag,perp5bag])\n",
    "c_data=pd.DataFrame(cfm.toarray(),columns=vectorizer.get_feature_names(),index=['Perp 1','Perp 2','Perp 3','Perp 4','Perp 5'])\n",
    "print(c_data)\n",
    "count_list = pd.DataFrame(c_data.sum(axis=0).sort_values(ascending=False))\n",
    "print(len(count_list)*.01)\n",
    "print(count_list[14:])\n",
    "trimmed=count_list.index.values\n",
    "trimmed_bag=' '.join(trimmed)\n",
    "print(trimmed_bag)\n",
    "\n",
    "from sklearn.metrics.pairwise import cosine_similarity\n",
    "print(\"hamming\")\n",
    "print(\"book 1\")\n",
    "print(len(perp1bag),len(sus1bag))\n",
    "print(textdistance.cosine.distance(trimmed_bag,perp1bag))\n",
    "print(textdistance.cosine.distance(trimmed_bag,sus1bag))\n",
    "print(\"book 2\")\n",
    "print(textdistance.cosine.distance(trimmed_bag,perp2bag))\n",
    "print(textdistance.cosine.distance(trimmed_bag,sus2bag))\n",
    "print(\"book 3\")\n",
    "print(textdistance.cosine.distance(trimmed_bag,perp3bag))\n",
    "print(textdistance.cosine.distance(trimmed_bag,sus3bag))\n",
    "print(\"book 4\")\n",
    "print(textdistance.cosine.distance(trimmed_bag,perp4bag))\n",
    "print(textdistance.cosine.distance(trimmed_bag,sus4bag))\n",
    "print(\"book 5\")\n",
    "print(textdistance.cosine.distance(trimmed_bag,perp5bag))\n",
    "print(textdistance.cosine.distance(trimmed_bag,sus5bag))\n",
    "\n",
    "\n",
    "\n",
    "print(\"cosine\")\n",
    "print(textdistance.cosine.normalized_distance(trimmed_bag,perp1bag))\n",
    "print(textdistance.cosine.normalized_distance(trimmed_bag,sus1bag))\n",
    "print(\"jaccard\")\n",
    "print(textdistance.jaccard.normalized_distance(trimmed_bag,perp1bag))\n",
    "print(textdistance.jaccard.normalized_distance(trimmed_bag,sus1bag))\n"
   ]
  },
  {
   "cell_type": "code",
   "execution_count": null,
   "metadata": {
    "colab": {
     "base_uri": "https://localhost:8080/"
    },
    "id": "BR5-ArLSvPG5",
    "outputId": "e5897405-ddba-46b4-b0b7-5ea11bb6a359"
   },
   "outputs": [],
   "source": [
    "from sklearn.feature_extraction.text import TfidfVectorizer\n",
    "import pandas as pd\n",
    "\n",
    "vectorizer = TfidfVectorizer()\n",
    "#vectorizer = TfidfVectorizer(stop_words='english',max_df=.80)\n",
    "trsfm=vectorizer.fit_transform([perp1bag,perp2bag,perp3bag,perp4bag,perp5bag])\n",
    "tfid_data=pd.DataFrame(trsfm.toarray(),columns=vectorizer.get_feature_names(),index=['Perp 1','Perp 2','Perp 3','Perp 4','Perp 5'])\n",
    "tfid_data=tfid_data.replace(0,.00001)\n",
    "print(tfid_data)\n",
    "from scipy import stats\n",
    "vectorizer2 = TfidfVectorizer()\n",
    "count_list = pd.DataFrame(tfid_data.sum(axis=0).sort_values(ascending=False))\n",
    "print(len(count_list)*.01)\n",
    "print(count_list[15:])\n",
    "trimmed=count_list[15:].index.values\n",
    "print(trimmed)\n",
    "#print(stats.entropy(df.))"
   ]
  },
  {
   "cell_type": "code",
   "execution_count": null,
   "metadata": {
    "colab": {
     "base_uri": "https://localhost:8080/"
    },
    "id": "xbQRYlltkxrq",
    "outputId": "558803b0-775c-45c4-f533-e08d22245cfd"
   },
   "outputs": [],
   "source": [
    "!pip install textdistance\n",
    "import textdistance"
   ]
  },
  {
   "cell_type": "code",
   "execution_count": null,
   "metadata": {
    "colab": {
     "base_uri": "https://localhost:8080/"
    },
    "id": "_lVyfpJak9kR",
    "outputId": "34871a02-9475-417c-88fa-7d2d2d757278"
   },
   "outputs": [],
   "source": [
    "print(\"Hamming\")\n",
    "print(textdistance.hamming.normalized_distance(perp1bag,perp2bag))\n",
    "print(textdistance.hamming.normalized_distance(perp1bag,perp3bag))\n",
    "print(textdistance.hamming.normalized_distance(perp1bag,perp4bag))\n",
    "print(textdistance.hamming.normalized_distance(perp1bag,perp5bag))\n",
    "print(textdistance.hamming.normalized_distance(perp1bag,sus1bag))\n",
    "print(textdistance.hamming.normalized_distance(perp1bag,sus2bag))\n",
    "print(textdistance.hamming.normalized_distance(perp1bag,sus3bag))\n",
    "print(textdistance.hamming.normalized_distance(perp1bag,sus4bag))\n",
    "print(textdistance.hamming.normalized_distance(perp1bag,sus5bag))\n",
    "print(\"Jaccard\")\n",
    "print(textdistance.jaccard.distance(perp1bag,perp2bag))\n",
    "print(textdistance.jaccard.distance(perp1bag,perp3bag))\n",
    "print(textdistance.jaccard.distance(perp1bag,perp4bag))\n",
    "print(textdistance.jaccard.distance(perp1bag,perp5bag))\n",
    "print(textdistance.jaccard.distance(perp1bag,sus1bag))\n",
    "print(textdistance.jaccard.distance(perp1bag,sus2bag))\n",
    "print(textdistance.jaccard.distance(perp1bag,sus3bag))\n",
    "print(textdistance.jaccard.distance(perp1bag,sus4bag))\n",
    "print(textdistance.jaccard.distance(perp1bag,sus5bag))\n",
    "print(\"Bag\")\n",
    "print(textdistance.bag.normalized_distance(perp1bag,perp2bag))\n",
    "print(textdistance.bag.normalized_distance(perp1bag,perp3bag))\n",
    "print(textdistance.bag.normalized_distance(perp1bag,perp4bag))\n",
    "print(textdistance.bag.normalized_distance(perp1bag,perp5bag))\n",
    "print(textdistance.bag.normalized_distance(perp1bag,sus1bag))\n",
    "print(textdistance.bag.normalized_distance(perp1bag,sus2bag))\n",
    "print(textdistance.bag.normalized_distance(perp1bag,sus3bag))\n",
    "print(textdistance.bag.normalized_distance(perp1bag,sus4bag))\n",
    "print(textdistance.bag.normalized_distance(perp1bag,sus5bag))\n",
    "print(\"Overlap\")\n",
    "print(textdistance.overlap.normalized_distance(perp1bag,perp2bag))\n",
    "print(textdistance.overlap.normalized_distance(perp1bag,perp3bag))\n",
    "print(textdistance.overlap.normalized_distance(perp1bag,perp4bag))\n",
    "print(textdistance.overlap.normalized_distance(perp1bag,perp5bag))\n",
    "print(textdistance.overlap.normalized_distance(perp1bag,sus1bag))\n",
    "print(textdistance.overlap.normalized_distance(perp1bag,sus2bag))\n",
    "print(textdistance.overlap.normalized_distance(perp1bag,sus3bag))\n",
    "print(textdistance.overlap.normalized_distance(perp1bag,sus4bag))\n",
    "print(textdistance.overlap.normalized_distance(perp1bag,sus5bag))"
   ]
  },
  {
   "cell_type": "code",
   "execution_count": null,
   "metadata": {
    "colab": {
     "base_uri": "https://localhost:8080/"
    },
    "id": "KcdeVOVK_zGW",
    "outputId": "3e42e359-d082-452c-c3bc-a0a8fecd4c35",
    "scrolled": true
   },
   "outputs": [],
   "source": [
    "print(\"using books 1,3,4,5\")\n",
    "bag1345=' '.join([perp1bag,perp3bag,perp4bag,perp5bag])\n",
    "print(\"book 1\")\n",
    "print(textdistance.jaccard.distance(bag1345,perp1bag))\n",
    "print(textdistance.jaccard.distance(bag1345,sus1bag))\n",
    "\n",
    "print(\"book 2\")\n",
    "print(textdistance.jaccard.distance(bag1345,perp2bag))\n",
    "print(textdistance.jaccard.distance(bag1345,sus2bag))\n",
    "print(\"book 3\")\n",
    "print(textdistance.jaccard.distance(bag1345,perp3bag))\n",
    "print(textdistance.jaccard.distance(bag1345,sus3bag))\n",
    "print(\"book 4\")\n",
    "print(textdistance.jaccard.distance(bag1345,perp4bag))\n",
    "print(textdistance.jaccard.distance(bag1345,sus4bag))\n",
    "print(\"book 5\")\n",
    "print(textdistance.jaccard.distance(bag1345,perp5bag))\n",
    "print(textdistance.jaccard.distance(bag1345,sus5bag))\n",
    "print(\"using 1345 fails on 1\")\n",
    "print(\"using books 1,2,4,5\")\n",
    "bag1245=' '.join([perp1bag,perp2bag,perp4bag,perp5bag])\n",
    "print(\"book 1\")\n",
    "print(textdistance.jaccard.distance(bag1245,perp1bag))\n",
    "print(textdistance.jaccard.distance(bag1245,sus1bag))\n",
    "print(\"book 2\")\n",
    "print(textdistance.jaccard.distance(bag1245,perp2bag))\n",
    "print(textdistance.jaccard.distance(bag1245,sus2bag))\n",
    "print(\"book 3\")\n",
    "print(textdistance.jaccard.distance(bag1245,perp3bag))\n",
    "print(textdistance.jaccard.distance(bag1245,sus3bag))\n",
    "print(\"book 4\")\n",
    "print(textdistance.jaccard.distance(bag1245,perp4bag))\n",
    "print(textdistance.jaccard.distance(bag1245,sus4bag))\n",
    "print(\"book 5\")\n",
    "print(textdistance.jaccard.distance(bag1245,perp5bag))\n",
    "print(textdistance.jaccard.distance(bag1245,sus5bag))\n",
    "print('using books 1245 fails on 1')\n",
    "print(\"using books 1,2,3,5\")\n",
    "bag1235=' '.join([perp1bag,perp2bag,perp3bag,perp5bag])\n",
    "print(\"book 1\")\n",
    "print(textdistance.jaccard.distance(bag1235,perp1bag))\n",
    "print(textdistance.jaccard.distance(bag1235,sus1bag))\n",
    "\n",
    "print(\"book 2\")\n",
    "print(textdistance.jaccard.distance(bag1235,perp2bag))\n",
    "print(textdistance.jaccard.distance(bag1235,sus2bag))\n",
    "print(\"book 3\")\n",
    "print(textdistance.jaccard.distance(bag1235,perp3bag))\n",
    "print(textdistance.jaccard.distance(bag1235,sus3bag))\n",
    "print(\"book 4\")\n",
    "print(textdistance.jaccard.distance(bag1235,perp4bag))\n",
    "print(textdistance.jaccard.distance(bag1235,sus4bag))\n",
    "print(\"book 5\")\n",
    "print(textdistance.jaccard.distance(bag1235,perp5bag))\n",
    "print(textdistance.jaccard.distance(bag1235,sus5bag))\n",
    "print(\"using books 1235 fails on 1\")\n",
    "print(\"using books 1,2,3,4\")\n",
    "bag1234=' '.join([perp1bag,perp2bag,perp3bag,perp4bag])\n",
    "print(\"book 1\")\n",
    "print(textdistance.jaccard.distance(bag1234,perp1bag))\n",
    "print(textdistance.jaccard.distance(bag1234,sus1bag))\n",
    "print(\"book 2\")\n",
    "print(textdistance.jaccard.distance(bag1234,perp2bag))\n",
    "print(textdistance.jaccard.distance(bag1234,sus2bag))\n",
    "print(\"book 3\")\n",
    "print(textdistance.jaccard.distance(bag1234,perp3bag))\n",
    "print(textdistance.jaccard.distance(bag1234,sus3bag))\n",
    "print(\"book 4\")\n",
    "print(textdistance.jaccard.distance(bag1234,perp4bag))\n",
    "print(textdistance.jaccard.distance(bag1234,sus4bag))\n",
    "print(\"book 5\")\n",
    "print(textdistance.jaccard.distance(bag1234,perp5bag))\n",
    "print(textdistance.jaccard.distance(bag1234,sus5bag))\n",
    "print(\"using books 1234 fails on 1\")\n",
    "print(\"using books 2,3,4,5\")\n",
    "bag2345=' '.join([perp2bag,perp3bag,perp4bag,perp5bag])\n",
    "print(\"book 1\")\n",
    "print(textdistance.jaccard.distance(bag2345,perp1bag))\n",
    "print(textdistance.jaccard.distance(bag2345,sus1bag))\n",
    "\n",
    "print(\"book 2\")\n",
    "print(textdistance.jaccard.distance(bag2345,perp2bag))\n",
    "print(textdistance.jaccard.distance(bag2345,sus2bag))\n",
    "print(\"book 3\")\n",
    "print(textdistance.jaccard.distance(bag2345,perp3bag))\n",
    "print(textdistance.jaccard.distance(bag2345,sus3bag))\n",
    "print(\"book 4\")\n",
    "print(textdistance.jaccard.distance(bag2345,perp4bag))\n",
    "print(textdistance.jaccard.distance(bag2345,sus4bag))\n",
    "print(\"book 5\")\n",
    "print(textdistance.jaccard.distance(bag2345,perp5bag))\n",
    "print(textdistance.jaccard.distance(bag2345,sus5bag))\n"
   ]
  },
  {
   "cell_type": "markdown",
   "metadata": {
    "id": "NGyQWJ8U7K3f"
   },
   "source": [
    "\n",
    "\n",
    "## Dev notes"
   ]
  },
  {
   "cell_type": "code",
   "execution_count": null,
   "metadata": {
    "id": "br9fgnQ-ZczA"
   },
   "outputs": [],
   "source": [
    "#Dev Notes: will refactor fetch() to generate dict of titles and indices rather than take in index\n",
    "# I.e., fetch() is backwards. should assign index based on title while fetching url\n",
    "\n",
    "\n",
    "#artifacts I've spotted in data:\n",
    "# I noticed and \"[Illustration]\" artifact in the mysterious affair at style.\n",
    "\n",
    "#possible start for sentence splitting regex\n",
    "#sentence_regex = r'([\\.\\?!][\\'\\\"\\u2018\\u2019\\u201c\\u201d\\)\\]]*\\s*(?<!\\w\\.\\w.)(?<![A-Z][a-z][a-z]\\.)(?<![A-Z][a-z]\\.)(?<![A-Z]\\.)\\s+)\n",
    "\n",
    "# V: do we need to clean up contractions to be spelled out? e.g., \"I'm\" to \"I am\", \"don't\" to \"do not\".\n",
    "#  "
   ]
  }
 ],
 "metadata": {
  "colab": {
   "collapsed_sections": [],
   "name": "Proj_1_collab.ipynb",
   "provenance": []
  },
  "kernelspec": {
   "display_name": "Python 3 (ipykernel)",
   "language": "python",
   "name": "python3"
  },
  "language_info": {
   "codemirror_mode": {
    "name": "ipython",
    "version": 3
   },
   "file_extension": ".py",
   "mimetype": "text/x-python",
   "name": "python",
   "nbconvert_exporter": "python",
   "pygments_lexer": "ipython3",
   "version": "3.8.10"
  }
 },
 "nbformat": 4,
 "nbformat_minor": 1
}
