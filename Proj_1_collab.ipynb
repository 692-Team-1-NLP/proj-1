{
 "cells": [
  {
   "cell_type": "markdown",
   "metadata": {
    "id": "8FHlrdot1Lsi"
   },
   "source": [
    "# `692 Team 1 Proj-1 : Crime Novel Plot Analysis with Regex - Agatha Christie`\n",
    "\n",
    "## Objective\n",
    "The goal of this project is to conduct a plot and protagonist/antagonist analysis of the famous crime novels. For this project, we will analyze five publicly available crime novels/stories by Agatha Christie at the project Gutenberg http://www.gutenberg.org/. The novels chosen are: \n",
    "\n",
    "- The Murder on the Links \n",
    "- The Mysterious Affair at Styles \n",
    "- The Secret Adversary \n",
    "- The Man in the Brown Suit \n",
    "- The Secret of Chimneys \n",
    "\n",
    "Note: Feel free to use any background resource for the understanding of the plot, protagonist and antagonist names, and other details. Look for spoilers, details, etc. Our goal is not to predict the crime, but to computationally analyze the structure of the plot."
   ]
  },
  {
   "cell_type": "markdown",
   "metadata": {
    "id": "3ovkF0EC1VdA"
   },
   "source": [
    "\n",
    "## Data Collection and Preparation \n",
    "\n",
    "### Background Research for Data Collection and Preparation \n",
    "\n",
    "##### Data Collection\n",
    "Location for Plain text UTF-8 files for novels: \n",
    "- The Mysterious Affair at Styles https://www.gutenberg.org/files/863/863-0.txt\n",
    "- The Murder on the Links https://www.gutenberg.org/files/58866/58866-0.txt\n",
    "- The Secret Adversary https://www.gutenberg.org/files/1155/1155-0.txt\n",
    "- The Man in the Brown Suit https://www.gutenberg.org/files/61168/61168-0.txt\n",
    "- The Secret of Chimneys https://www.gutenberg.org/files/65238/65238-0.txt\n",
    "\n",
    "Note: One benefit to getting the text version is that the html version also has page number to clean, not present in text files\n",
    "\n",
    "##### Data Preparation\n",
    "- There are inconsistencies between the novel formats. Some of them start with a prologue and others dont. \n",
    "- There is START OF THE PROJECT present in the beginning of most but not all books, others have 'START OF THIS PROJECT', but   table of contents appear after that.\n",
    "- Some of them have the word table of contents, others say contents\n",
    "- some follow roman numeral in naming chapters, others dont\n",
    "- Some use the word 'chapter' , others just kist chapter titles followed by a number\n",
    "- Novel text files have license and other info at the end\n",
    "\n",
    "These factors above will need to be considered in data cleaning. \n",
    "Listing a few key particulars below: \n",
    "\n",
    "- The Murder on the Links \n",
    "  - This Phrase is present at the beginning - \\*** START OF THIS PROJECT \n",
    "  - The Novel plot starts at second instance of '1 A Fellow Traveller'. Novel ends at 'End of Project Gutenberg's The Murder on the Links, by Agatha Christie\n",
    "  - and has \\*** END OF THIS PROJECT GUTENBERG ...' at the end. .\n",
    "  - Each chapter  starts with number followed by title of chapter\n",
    "  \n",
    "  \n",
    "- The Mysterious Affair at Styles \n",
    "    - This Phrase is present at the beginning - \\*** START OF THE PROJECT \n",
    "    - The Novel plot starts at second instance of 'chapter I.' # period is important here. \n",
    "    - Novel ends at 'THE END' and has \\*** END OF THE PROJECT GUTENBERG EBOOK...'. \n",
    "    - Each chapter starts with 'Chapter' followed by chapter number in roman numeral, followed by new line, followed by title of chapter\n",
    "  \n",
    "\n",
    "- The Secret Adversary \n",
    "  - This Phrase is present at the beginning - \\*** START OF THIS PROJECT \n",
    "  - The Novel plot starts at second instance of 'PROLOGUE'. Novel ends at 'End of the Project Gutenberg EBook of The Secret Adversary, by Agatha Christie' \n",
    "  -  has \\*** END OF THIS PROJECT GUTENBERG ...' at the end. \n",
    "  - Each chapter starts with 'Chapter' followed by chapter number in roman numeral, followed by title of chapter\n",
    "\n",
    "\n",
    "- The Man in the Brown Suit \n",
    "  - This Phrase is present at the beginning - \\*** START OF THIS PROJECT \n",
    "  - The Novel starts at second instance of 'PROLOGUE'. Novel ends at 'End of Project Gutenberg's The Man in the Brown Suit, by Agatha Christie' \n",
    "  - has \\*** END OF THIS PROJECT GUTENBERG ...' at the end. \n",
    "  - Each chapter starts with 'Chapter' followed by chapter number in roman numeral\n",
    "\n",
    "\n",
    "- The Secret of Chimneys \n",
    "  - This Phrase is present at the beginning - \\*** START OF THE PROJECT \n",
    "  - The Novel plot starts at second instance of '1 (new line)\n",
    "  - Anthony Cade Signs on' # new line is first here. \n",
    "  - Novel ends at 'Transcriber's Notes:' and has \\*** END OF THE PROJECT GUTENBERG...' at the end.\n",
    "Each chapter starts with number followed by new line followed by title of chapter\n",
    "\n",
    "\n",
    "##### Data Tokenization\n",
    "Note: since we are not allowed to use NLTK or Spacy for tokenization, we will have to use python for this as well. \n",
    "We can use split() but that would be very basic as it doesnt achieve tokens in a linguistic sense; we should be able to use the re package that adds support for regex; after all the point for us is to learn regex better. Recommend using re.split with our custom regex \n",
    "https://docs.python.org/3/library/re.html\n",
    "\n",
    "##### Helpful Reference Links\n",
    "- https://stackoverflow.com/questions/7243750/download-file-from-web-in-python-3\n",
    "- https://docs.python.org/3/howto/urllib2.html\n",
    "- https://python.plainenglish.io/how-to-tokenize-sentences-without-using-any-nlp-library-in-python-a381b75f7d22 \n",
    "- https://stackoverflow.com/questions/21361073/tokenize-words-in-a-list-of-sentences-python\n"
   ]
  },
  {
   "cell_type": "markdown",
   "metadata": {
    "id": "3ovkF0EC1VdA"
   },
   "source": [
    "\n",
    "### Data Collection and Preparation Code\n"
   ]
  },
  {
   "cell_type": "markdown",
   "metadata": {
    "id": "3ovkF0EC1VdA"
   },
   "source": [
    "\n",
    "##### Helper Functions for retrieving and cleaning corpus\n"
   ]
  },
  {
   "cell_type": "code",
   "execution_count": 5,
   "metadata": {
    "id": "FHwNdj3-S5gW"
   },
   "outputs": [],
   "source": [
    "#Author: Luke+Veronica\n",
    "#Description: Functions for retrieving and cleaning corpus\n",
    "import urllib.request, re\n",
    "\n",
    "# this function accepts a book title as a parameter and fetches the index based on the title \n",
    "def get_index(title):\n",
    "  last_reg=re.compile(r\"\\w+$\")\n",
    "  last_word=re.findall(last_reg,title)[0]\n",
    "  if last_word ==\"Links\":\n",
    "    #\"The Murder on the Links\"\n",
    "    index=1\n",
    "  elif last_word==\"Styles\":\n",
    "    #\"The Mysterious Affair at Styles\"\n",
    "    index=2\n",
    "  elif last_word==\"Adversary\":\n",
    "    #\"The Secret Adversary\"\n",
    "    index=3\n",
    "  elif last_word==\"Suit\":\n",
    "    #\"The Man in the Brown Suit\"\n",
    "    index=4\n",
    "  elif last_word==\"Chimneys\":\n",
    "    #\"The Secret of Chimneys\"\n",
    "    index=5\n",
    "  return index\n",
    "\n",
    "\n",
    "# this function accepts a book index as a parameter and get the text for the book from project gutenberg \n",
    "def get_text(index):\n",
    "  if index==1:\n",
    "    #\"The Murder on the Links\"\n",
    "    url = \"https://www.gutenberg.org/files/58866/58866-0.txt\"\n",
    "  elif index==2:\n",
    "    #\"The Mysterious Affair at Styles\"\n",
    "    url=\"https://www.gutenberg.org/files/863/863-0.txt\"\n",
    "  elif index==3:\n",
    "    #\"The Secret Adversary\"\n",
    "    url=\"https://www.gutenberg.org/files/1155/1155-0.txt\"\n",
    "  elif index==4:\n",
    "    #\"The Man in the Brown Suit\"\n",
    "    url=\"https://www.gutenberg.org/files/61168/61168-0.txt\"\n",
    "  elif index==5:\n",
    "    #\"The Secret of Chimneys\"\n",
    "    url=\"https://www.gutenberg.org/files/65238/65238-0.txt\"\n",
    "  response = urllib.request.urlopen(url)\n",
    "  data = response.read()      # a `bytes` object\n",
    "  text = data.decode('utf-8')\n",
    "  return text\n",
    "\n",
    "\n",
    "# this function accepts a book index  and returns an appropriate regex that can carve out chapters for that book\n",
    "def get_ch_regex(index):\n",
    "  if index==1:\n",
    "    ch_carve=re.compile(r'\\n\\d\\d?\\s[\\'\\\"\\u201c]?[A-Z].*\\n')\n",
    "  elif index==2:\n",
    "    ch_carve=re.compile(r'CHAPTER\\s[IVX]+\\.\\r\\n.*\\r\\n')\n",
    "  elif index==3:\n",
    "    ch_carve=re.compile(r'\\r\\n\\r\\n\\r\\nCHAPTER.*\\r\\n')\n",
    "  elif index==4:\n",
    "    ch_carve=re.compile(r'CHAPTER\\s\\w+\\r\\n')  \n",
    "  elif index==5:\n",
    "    ch_carve=re.compile(r'\\d\\d?\\r\\n\\r\\n[A-OQ-Z].*\\r\\n')\n",
    "  return ch_carve\n",
    "\n",
    "\n",
    "# this function accepts a book index and chapter contents as parameters and trims out any Project gutenberg related artifacts that are not part of the novel\n",
    "def trim_contents(ch_contents_dict,index):\n",
    "  last=len(ch_contents_dict)\n",
    "  if index==1:\n",
    "    ch_contents_dict[last]=ch_contents_dict[last].split('\\nEnd of Project Gutenberg')[0]\n",
    "  elif index==2:\n",
    "    ch_contents_dict[last]=ch_contents_dict[last].split('\\nTHE END')[0]\n",
    "  elif index==3:\n",
    "    ch_contents_dict[last-1]=ch_contents_dict[last-1].split('\\nEnd of the Project Gutenberg')[0]\n",
    "  elif index==4:\n",
    "    ch_contents_dict[last-1]=ch_contents_dict[last-1].split('THE END')[0]\n",
    "  elif index==5:\n",
    "    ch_contents_dict[last]=re.split(r\"TRANSCRIBER\",ch_contents_dict[last])[0]\n",
    "  return ch_contents_dict\n",
    "\n",
    "\n",
    "# this function accepts chapter as a parameter and removes white spaces\n",
    "def remove_white(chapter):\n",
    "  regex=r'[\\r\\n\\u200a_]+'\n",
    "  chapter = re.sub(regex,' ',chapter)\n",
    "  return chapter\n",
    "\n",
    "\n",
    "# this function accepts chapter as a parameter and carves out sentences\n",
    "def sent_carve(chapter):\n",
    "  #chapter=re.split(r'(?<![A-H|J-Z])[\\.\\?!](?![\\'\\\"\\u2019\\u201a\\u201c\\u275c\\u275f\\u201e\\u201d\\u0022\\u275e]\\s[a-z])(?![\\'\\\"\\u2019\\u201a\\u201c\\u275c\\u275f\\u201e\\u201d\\u0022\\u275e]\\sI said)[\\'\\\"\\u2018\\u2019\\u201c\\u201d\\)\\]]*\\s*(?<!\\w\\.\\w)(?<![A-Z][a-z][a-z])(?<![A-Z][a-z])\\s+',chapter,flags=re.UNICODE)\n",
    "  chapter=re.split(r'(?<![^A-Z][A-H|J-Z])(?<!Mr|Ms|Dr)(?<!Mrs)(?<!Mlle)(?<!Melle)(?<!\\w\\.\\w)[\\.\\?!](?![\\'\\\"\\u2019\\u201a\\u201c\\u275c\\u275f\\u201e\\u201d\\u0022\\u275e]\\s[a-z])[\\'\\\"\\u2018\\u2019\\u201c\\u201d\\)\\]]*\\s*|\\u2014\\u201d\\s*',chapter,flags=re.UNICODE)\n",
    "  chapter=chapter[:-1]\n",
    "  chapter={num:contents.lower() for (num,contents) in enumerate(chapter)}\n",
    "  return chapter\n",
    "\n",
    "\n",
    "# this function accepts a book title and carves out chapters and returns a dictionary of book title, chapter contents and chapter title\n",
    "def ch_carve(title):\n",
    "\n",
    "  index=get_index(title)\n",
    "  text=get_text(index)\n",
    "  ch_regex=get_ch_regex(index)\n",
    "  if index ==3:\n",
    "    text=re.split(\"CHAPTER XXVIII.     AND AFTER\\r\\n\\r\\n\\r\\n\\r\\nPROLOGUE\",text)[1]\n",
    "  if index ==4:\n",
    "    text=re.split(\"PROLOGUE\",text)[1]\n",
    "  ch_titles=re.findall(ch_regex,text)\n",
    "  ch_titles_dict={num+1:remove_white(title.strip()) for (num,title) in enumerate(ch_titles)}\n",
    "  if index==3 or index ==4:\n",
    "    ch_titles_dict.update( {0 :\"PROLOGUE\"} )\n",
    "  chapters=re.split(ch_regex,text)\n",
    "  if index==3 or index==4:\n",
    "    ch_contents_dict = {num:contents for (num,contents) in enumerate(chapters)}  \n",
    "  elif index ==1 or index ==2 or index==5:\n",
    "    chapters=chapters[1:]\n",
    "    ch_contents_dict = {num+1:contents for (num,contents) in enumerate(chapters)}\n",
    "  ch_contents_dict=trim_contents(ch_contents_dict,index)\n",
    "  return {\"title\":title,\"contents\":ch_contents_dict,\"chapters\":ch_titles_dict}\n",
    "\n",
    "\n",
    "# this function calls other helper functions and gets the corpus we will be working with\n",
    "def get_corpus():\n",
    "  #tentatively planning to index books from 1 to match chapters\n",
    "  titles=[\"The Mysterious Affair at Styles\",\"The Murder on the Links\",\"The Secret Adversary\",\"The Man in the Brown Suit\",\"The Secret of Chimneys\"]\n",
    "  corpus={ get_index(title):ch_carve(title) for title in titles}\n",
    "  return corpus\n",
    "\n",
    "\n",
    "# this function calls other helper functions and cleans the corpus\n",
    "def clean_corpus(corpus):\n",
    "  for keyb,value in corpus.items():\n",
    "    for  keyc,value in value[\"contents\"].items():\n",
    "      corpus[keyb][\"contents\"][keyc]=sent_carve(remove_white(value))\n",
    "    \n",
    "  return corpus\n",
    "\n",
    "\n",
    "# Luke-please expand on this comment\n",
    "def sent_blob(chapter):\n",
    "  temp=''  \n",
    "  #chapter=re.split(r'(?<![A-H|J-Z])[\\.\\?!](?![\\'\\\"\\u2019\\u201a\\u201c\\u275c\\u275f\\u201e\\u201d\\u0022\\u275e]\\s[a-z])(?![\\'\\\"\\u2019\\u201a\\u201c\\u275c\\u275f\\u201e\\u201d\\u0022\\u275e]\\sI said)[\\'\\\"\\u2018\\u2019\\u201c\\u201d\\)\\]]*\\s*(?<!\\w\\.\\w)(?<![A-Z][a-z][a-z])(?<![A-Z][a-z])\\s+',chapter,flags=re.UNICODE)\n",
    "  chapter=re.split(r'(?<![^A-Z][A-H|J-Z])(?<!Mr|Ms|Dr)(?<!Mrs)(?<!Mlle)(?<!Melle)(?<!\\w\\.\\w)[\\.\\?!](?![\\'\\\"\\u2019\\u201a\\u201c\\u275c\\u275f\\u201e\\u201d\\u0022\\u275e]\\s[a-z])[\\'\\\"\\u2018\\u2019\\u201c\\u201d\\)\\]]*\\s*|\\u2014\\u201d\\s*',chapter,flags=re.UNICODE)\n",
    "  chapter=chapter[:-1]\n",
    "  for ch in chapter:\n",
    "    temp=temp+\" \"+ch.lower()    \n",
    "  return temp\n",
    "\n",
    "\n",
    "# this function removes punctuation \n",
    "def remove_punc(blob):\n",
    "  blob=re.sub(r\"[\\u201c\\u201d\\?,;:\\.!\\u2018\\u2019\\u201a\\u275b\\u275c\\u275f\\s-]+\" ,' ',blob)\n",
    "  return blob\n",
    "def tighten(blob):\n",
    "  return re.sub(r\"\\s+\",\" \",blob)\n",
    "\n",
    "\n",
    "# Luke-please expand on this comment\n",
    "def blob_corpus(dirty_corpus):\n",
    "  for keyb,value in dirty_corpus.items():\n",
    "    blob=''\n",
    "    for  keyc,value in value[\"contents\"].items():\n",
    "      blob=blob+\" \"+tighten(remove_punc(remove_white(sent_blob(dirty_corpus[keyb][\"contents\"][keyc]))))\n",
    "    dirty_corpus[keyb][\"blob\"]=blob  \n",
    "  return dirty_corpus"
   ]
  },
  {
   "cell_type": "markdown",
   "metadata": {
    "id": "3ovkF0EC1VdA"
   },
   "source": [
    "\n",
    "##### Functions for retrieving and cleaning corpus\n"
   ]
  },
  {
   "cell_type": "code",
   "execution_count": 6,
   "metadata": {
    "id": "bFHpUYOXeF4z"
   },
   "outputs": [],
   "source": [
    "#Author: Luke \n",
    "#Description: collect and clean corpus\n",
    "\n",
    "dirty_corpus=get_corpus()\n",
    "dirty_corpus=blob_corpus(dirty_corpus)\n",
    "corpus=clean_corpus(dirty_corpus)\n",
    "\n",
    "#print(corpus[1][\"title\"],len(corpus[1][\"chapters\"]),len(corpus[1][\"contents\"]))\n",
    "#print(corpus[1][\"contents\"][28])\n",
    "#print(corpus[2][\"contents\"][13])\n",
    "#print(corpus[1][\"blob\"])"
   ]
  },
  {
   "cell_type": "markdown",
   "metadata": {
    "id": "3ovkF0EC1VdA"
   },
   "source": [
    "\n",
    "\n",
    "\n",
    "\n",
    "## Data Analysis\n",
    "Goal of this project is to analyze the frequencies of occurrence of the protagonists and the perpetrator(s) across the novel - per chapter, and per sentence in a chapter, the mention of the crime, and other circumstances surrounding the antagonists. The ultimate objective is to use basic NLP tools to observe any patterns in plot structures across the works of one or all of the authors.  Specifically, analysis questions below need to be answered. \n",
    "\n",
    "Note: To effectively conduct this analysis, you should find resources, and read the plot summaries of each novel, so you can make your search more effective. If plot summaries are not available, use regex to search for clues, and report how well/how fast that approach worked. \n",
    "\n",
    "\n",
    "###  Background Research for Data Analysis\n",
    "Details of each book compiled by reading plot summaries, books themselves, articles and fanpages:\n",
    "\n",
    "- The Murder on the Links \n",
    "  - Lead detective(s): Hercule Poirot, Arthur Hastings\n",
    "  - Other detectives/assistants:  Monsieur Giraud, Monsieur Hautet\n",
    "  - Victim: Paul Renauld\n",
    "  - Suspects: Jack Renauld\n",
    "  - Perpetrator: Marthe Daubreuil.\n",
    "  - Other important characters:  Paul Renauld, Eloise Renauld, Jack Renauld, Madame Daubreuil, Gabriel Stonor, Georges Conneau, Madame Beroldy, Marthe Daubreuil, Bella Duveen, Dulcie Duveen (Cindrella), Cindrella\n",
    "  - Crime: Murder, Stabbing\n",
    "  - motif: murder mystery\n",
    "https://en.wikipedia.org/wiki/The_Murder_on_the_Links\n",
    "https://agathachristie.fandom.com/wiki/The_Murder_on_the_Links\n",
    "\n",
    "\n",
    "- The Mysterious Affair at Styles \n",
    "  - Lead detective: Hercule Poirot, Arthur Hastings\n",
    "  - Other detectives/assistants: \n",
    "  - Victim: Emily Inglethorp\n",
    "  - Suspects: Alfred Inglethorp , Cavendish\n",
    "  - Perpetrator(s): Alfred Inglethorp, Evelyn Howard\n",
    "  - Other important characters: John Cavendish, \n",
    "  - Crime: Murder, Poisoning\n",
    "  - motif: murder mystery\n",
    "https://agathachristie.fandom.com/wiki/The_Mysterious_Affair_at_Styles\n",
    "\n",
    "\n",
    "- The Secret Adversary  (complicated, Needs to be looked at more)\n",
    "  - Lead detective: Tommy and Tuppence, Tommy Beresford, Tuppence Cowley, Prudence Cowley, Prudence \"Tuppence\" Cowley, \n",
    "  - Other detectives/assistants: \n",
    "  - Victim: Jane Finn, Mrs. Vandemeyer\n",
    "  - Suspects: Mr. Brown,  Julius Hersheimmer\n",
    "  - Perpetrator: Sir James Peel Edgerton\n",
    "  - Other important characters: Jane Finn\n",
    "  - Crime: Espionage, Kidnapping\n",
    "  - motif: thriller focus rather than detection\n",
    "\n",
    "\n",
    "- The Man in the Brown Suit (complicated, Needs to be looked at more)\n",
    "  - Lead detective: Anne Beddingfeld\n",
    "  - Other detectives/assistants: \n",
    "  - Victim: Nadina aka Anita Grünberg, L. B. Carton\n",
    "  - Suspects: Harry\n",
    "  - Perpetrator: Sir Eustace Pedler\n",
    "  - Other important characters: Nadina, Count Sergius Paulovitch, the Colonel,  , Suzanne Blair, Colonel Race, Guy Pagett, Harry Rayburn, Harry Rayburn, Rev. Chichester, Miss Pettigrew,Harry Parker, Chichester\n",
    "  - Crime: diamond theft, murders, kidnapping\n",
    "  - motif: thriller focus rather than detection\n",
    "\n",
    "\n",
    "- The Secret of Chimneys (complicated, Needs to be looked at more)\n",
    "  - Lead detective: Anthony Cade aka Prince Nicholas\n",
    "  - Other detectives/assistants: Superintendent Battle, Monsieur Lemoine of the Sûreté, Mr. Fish aka american agent\n",
    "  - Victim: Perceived: Count Stanislaus aka Prince Michael Obolovitch\n",
    "  - Suspects: Anthony Cade, Prince Nicholas, King Victor, \n",
    "  - Perpetrator: Mlle Brun aka Queen Varaga aka Angèle Mory, M Lemoine aka King Victor\n",
    "  - Other important characters: King Nicholas IV, Queen Varaga aka Angèle Mory, Herman Isaacstein, Prince Michael Obolovitch,  George Lomax, Count Stylptitch, Jimmy McGrath, Virginia Revel, Captain O'Neill, Captain O'Neill, Mr Holmes, Isaacstein, Hiram P. Fish, Prince Nicholas, Mademoiselle Mlle Brun, Bill Eversleigh, Monsieur Lemoine of the Sûreté, Professor Wynwood, Boris Anchoukoff,\n",
    "  - Crime: sensitive document theft, murders, treasure hunt, espionage\n",
    "  - motif: thriller focus rather than detection\n",
    "\n",
    "\n"
   ]
  },
  {
   "cell_type": "markdown",
   "metadata": {
    "id": "3ovkF0EC1VdA"
   },
   "source": [
    "\n",
    "\n",
    "### Data Analysis Code\n"
   ]
  },
  {
   "cell_type": "markdown",
   "metadata": {
    "id": "3ovkF0EC1VdA"
   },
   "source": [
    "\n",
    "#### Helper functions for answering analysis questions in the objective\n"
   ]
  },
  {
   "cell_type": "code",
   "execution_count": 19,
   "metadata": {
    "id": "lUaxNizp9CDJ"
   },
   "outputs": [],
   "source": [
    "#Author: Luke \n",
    "#Description Helper functions for answering questions\n",
    "\n",
    "#\n",
    "def get_det(index):\n",
    "  if index==1:\n",
    "    det=re.compile(r\"hercules?(?!a)|poirot|arthur|hastings\")\n",
    "  elif index==2:\n",
    "    det=re.compile(r\"hercules?(?!a)|poirot|arthur|hastings\")\n",
    "  elif index==3:\n",
    "    # Probably need to tewak this to capture the different versions of PTC\n",
    "    det=re.compile(r\"tuppence|beresford|prudence|cowley\")\n",
    "  elif index==4:\n",
    "    det=re.compile(r\"anne|beddingfeld\")\n",
    "  elif index==5:\n",
    "    det=re.compile(r\"anthony|cades\")\n",
    "  else:\n",
    "    det=re.compile(r\"nobody\")\n",
    "  return det\n",
    "\n",
    "\n",
    "#\n",
    "def get_perp(index):\n",
    "  if index==1:\n",
    "    #checked book for abbreviations Mlle,mlle,Melle,melle - none occured in text\n",
    "    perp=re.compile(r\"mademoiselle marthe daubreuil|mademoiselle marthe|mademoiselle daubreuil|marthe daubreuil|marthe\")\n",
    "    #perp=re.compile(r\"mademoiselle( marthe)? daubreuil|marthe daubreuil|marthe\")\n",
    "  elif index==2:\n",
    "    perp=re.compile(r\"alfred inglethorp|mr\\. inglethorp|alfred|second cousin|evelyn howard|evelyn|miss howard|evie\")\n",
    "  elif index==3:\n",
    "    perp=re.compile(r\"[james peel ]edgerton\")\n",
    "  elif index==4:\n",
    "    perp=re.compile(r\"eustace|pedler\")\n",
    "  elif index==5:\n",
    "    perp=re.compile(r\"mlle|brun|queen|varaga|angèmle|mory|m lemoine|king|victor\")\n",
    "   #ignoring the aliases for now \n",
    "   #perp= re.compile(r\"mlle|brun|queen|varaga|angèle|mory|m lemoine|king|victor\")\n",
    "  else:\n",
    "    # V: shouldn't get here\n",
    "    perp=re.compile(r\"someone else\")\n",
    "  return perp\n",
    "\n",
    "\n",
    "#\n",
    "def get_crime(index):\n",
    "  if index==1:\n",
    "    crime=re.compile(r\"murdered|body (was|had been) discovered|discovered.*body|death.*occured|occured.*death|examination.*body|body.*examination|only.*committed the crime\")\n",
    "  elif index==2:\n",
    "    # FIXME\n",
    "    crime=re.compile(r\"convulsion|night of the murder|(mrs\\. inglethorp|emily|old lady|wife|mother).*poison|poison.*(mrs\\. inglethorp|emily|old lady|wife|mother)|motionless\")\n",
    "  elif index==3:\n",
    "    # V: could look for spy also\n",
    "    crime=re.compile(r\"kidnapping|espionage\")\n",
    "  elif index==4:\n",
    "    crime=re.compile(r\"murder|kidnpping|theft\")\n",
    "  elif index==5:\n",
    "    crime=re.compile(r\"murder|espionage|theft\")\n",
    "  else:\n",
    "    # V: shouldn't get here\n",
    "    crime=re.compile(r\"nothing happened\")\n",
    "  return crime\n",
    "\n",
    "\n",
    "#\n",
    "def get_sus(index):\n",
    "  if index==1:\n",
    "    sus=re.compile(r\"jack\")\n",
    "  elif index==2:\n",
    "    # FIXME\n",
    "    sus=re.compile(r\"john cavendish|(?<!purchased by )mr\\. cavendish|john\")\n",
    "  elif index==3:\n",
    "    sus=re.compile(r\"mr. brown|julius hersheimmer\")\n",
    "  elif index==4:\n",
    "    sus=re.compile(r\"harry\")\n",
    "  elif index==5:\n",
    "    sus=re.compile(r\"king|victor\")\n",
    "  else:\n",
    "    # V: shouldn't get here\n",
    "    sus=re.compile(r\"no suspect\")\n",
    "  return sus\n",
    "\n",
    "\n",
    "#\n",
    "def get_occur(index,regex):\n",
    "  occur=[]\n",
    "  for ch_index,ch_contents in corpus[index][\"contents\"].items():\n",
    "    for sent_index,sent_contents in ch_contents.items():\n",
    "      matches=re.search(regex,sent_contents)\n",
    "      if matches is not None:\n",
    "        occur.append([ch_index,sent_index,sent_contents])\n",
    "        #print(\"Chapter: \",ch_index, \"Sentence: \", sent_index, \"Contents: \",sent_contents)\n",
    "  return occur\n",
    "\n",
    "\n",
    "#\n",
    "def get_co_occur(index, det,perp):\n",
    "  co_occur=[]\n",
    "  for ch_index,ch_contents in corpus[index][\"contents\"].items():\n",
    "    for sent_index,sent_contents in ch_contents.items():\n",
    "      dmatches=re.search(det,sent_contents)\n",
    "      pmatches=re.search(perp,sent_contents)\n",
    "      if dmatches is not None and pmatches is not None:\n",
    "        co_occur.append([ch_index,sent_index,sent_contents])\n",
    "        #print(\"Chapter: \",ch_index, \"Sentence: \", sent_index, \"Contents: \",sent_contents)\n",
    "  return co_occur\n",
    "\n",
    "\n",
    "#\n",
    "def get_3words(book,perp):\n",
    "  blob=corpus[book][\"blob\"]\n",
    "  answer=[]\n",
    "  splits=re.finditer(perp,blob)\n",
    "  for iter in splits:\n",
    "    before=re.split(r\"\\s+\",blob[0:iter.start()-1])\n",
    "    if len(before)>2:\n",
    "      before=[before[-3],before[-2],before[-1]]\n",
    "    elif len(before)==2:\n",
    "      before=[\" \", before[-2],before[-1]]\n",
    "    elif len(before)==1:\n",
    "      before=[\" \",\" \",before[0]]\n",
    "    elif len(before)==0:\n",
    "      before=[\" \"]\n",
    " #   print(before)\n",
    "    after=re.split(r\"\\s+\",blob[iter.end()+1:])\n",
    "    if len(after)>2:\n",
    "      after=[after[0],after[1],after[2]]\n",
    "    elif len(after)==2:\n",
    "      after=[after[0],after[1],\" \"]\n",
    "    elif len(after)==1:\n",
    "      after=[after[0],\" \",\" \"]\n",
    "    elif len(after)==0:\n",
    "      after=[\" \"]\n",
    "    answer.append(before+after)\n",
    "  return answer\n",
    "\n",
    "  #splits=[re.finditer(r\"\\s+\",sp) for sp in splits]\n",
    "\n",
    "    \n",
    "#    \n",
    "def get_3sentences(book,ch,sent):\n",
    "  near3=[]\n",
    "  if sent==max(corpus[book][\"contents\"][ch].keys()):\n",
    "    near3=[[sent-2,corpus[book][\"contents\"][ch][sent-2]],[sent-1,corpus[book][\"contents\"][ch][sent-1]],[sent,corpus[book][\"contents\"][ch][sent]]]\n",
    "  elif sent==min(corpus[book][\"contents\"][ch].keys()):\n",
    "    near3=[[sent,corpus[book][\"contents\"][ch][sent]],[sent+1,corpus[book][\"contents\"][ch][sent+1]],[sent+2,corpus[book][\"contents\"][ch][sent+2]]]\n",
    "  else:\n",
    "    near3=[[sent-1,corpus[book][\"contents\"][ch][sent-1]],[sent,corpus[book][\"contents\"][ch][sent]],[sent+1,corpus[book][\"contents\"][ch][sent+1]]]\n",
    "  return near3\n"
   ]
  },
  {
   "cell_type": "markdown",
   "metadata": {
    "id": "3ovkF0EC1VdA"
   },
   "source": [
    "\n",
    "#### Functions for answering analysis questions in the objective \n",
    "\n",
    "The plot summary answers derived from Regex are located below each book heading\n"
   ]
  },
  {
   "cell_type": "markdown",
   "metadata": {
    "id": "3ovkF0EC1VdA"
   },
   "source": [
    "\n",
    "###### The Murder on the Links \n"
   ]
  },
  {
   "cell_type": "code",
   "execution_count": 20,
   "metadata": {
    "colab": {
     "base_uri": "https://localhost:8080/"
    },
    "id": "eIrCG1l3ns7S",
    "outputId": "73168c80-b5ba-4c16-d2fb-a2682cff495c"
   },
   "outputs": [
    {
     "name": "stdout",
     "output_type": "stream",
     "text": [
      "[[1, 4, 'i had been transacting some business in paris and was returning by the morning service to london where i was still sharing rooms with my old friend, the belgian ex-detective, hercule poirot'], [1, 127, '“that was poirot’s first big case'], [2, 1, 'my friend poirot, exact to the minute as usual, was just tapping the shell of his second egg'], [2, 8, 'elsewhere, i have described hercule poirot'], [2, 18, '” i slipped into my seat, and remarked idly, in answer to poirot’s greeting, that an hour’s sea passage from calais to dover could hardly be dignified by the epithet “terrible'], [2, 19, 'poirot waved his egg-spoon in vigorous refutation of my remark'], [2, 41, 'poirot shook his head seriously'], [2, 59, 'poirot threw me a withering glance'], [2, 60, '“what an intelligence has my friend hastings!” he exclaimed sarcastically'], [2, 64, 'poirot shook his head with a dissatisfied air'], [2, 71, '“cheer up, poirot, the luck will change'], [2, 74, 'poirot smiled, and taking up the neat little letter opener with which he opened his correspondence he slit the tops of the several envelopes that lay by his plate'], [2, 88, 'poirot continued to read his correspondence placidly'], [2, 95, 'poirot was reading attentively'], [2, 114, '“yes, indeed,” said poirot meditatively'], [2, 116, 'poirot nodded'], [2, 140, '“dear me, poirot,” i said, my excitement rising, “i smell some goodly shekels in this'], [2, 146, '“in any case,” continued poirot, “it is not the money which attracts me here'], [2, 172, 'poirot nodded'], [2, 192, 'a woman cannot wait—always remember that, hastings'], [2, 194, 'before starting poirot had despatched a telegram to mr. renauld giving the time of our arrival at calais'], [2, 195, '“i’m surprised you haven’t invested in a few bottles of some sea sick remedy, poirot,” i observed maliciously, as i recalled our conversation at breakfast'], [2, 205, '“he did not know the methods of hercule poirot'], [2, 210, '“it’s all very well, poirot, but i think you are falling into the habit of despising certain things too much'], [2, 212, '“and has, without doubt, hanged more than one innocent man,” remarked poirot dryly'], [2, 217, 'but the others, the hercules poirots, they are above the experts'], [2, 225, '“but yet,” poirot wagged his finger at me'], [2, 228, 'poirot nodded in a satisfied manner'], [2, 231, 'yet you demand that i, hercule poirot, should make myself ridiculous by lying down (possibly on damp grass) to study hypothetical footprints, and should scoop up cigarette ash when i do not know one kind from the other'], [2, 249, 'and poirot, having effectually silenced, if not convinced me, leaned back with a satisfied air'], [2, 251, 'the weather was gorgeous, and the sea as smooth as the proverbial mill-pond, so i was hardly surprised to hear that laverguier’s method had once more justified itself when a smiling poirot joined me on disembarking at calais'], [2, 252, 'a disappointment was in store for us, as no car had been sent to meet us, but poirot put this down to his telegram having been delayed in transit'], [2, 266, 'are you not the one and only hercule poirot'], [2, 269, '“you are what the scotch people call ‘fey,’ hastings'], [2, 298, '“by jove, poirot,” i exclaimed, “did you see that young goddess'], [2, 299, 'poirot raised his eyebrows'], [2, 312, '“i saw only a girl with anxious eyes,” said poirot gravely'], [2, 321, 'poirot leaned forward'], [3, 0, ' in a moment poirot had leapt from the car, his eyes blazing with excitement'], [3, 10, 'poirot reflected for a minute'], [3, 13, 'poirot took out a card, and scribbled a few words on it'], [3, 17, 'in a few seconds a comrade joined him and was handed poirot’s message'], [3, 20, '“my dear m. poirot,” cried the new-comer, “i am delighted to see you'], [3, 22, 'poirot’s face had lighted up'], [3, 26, '“this is an english friend of mine, captain hastings—m. lucien bex'], [3, 27, 'the commissary and i bowed to each other ceremoniously, then m. bex turned once more to poirot'], [3, 52, '“when was the crime committed?” asked poirot'], [3, 69, 'poirot handed it to him, and the magistrate read it'], [3, 73, 'we are much indebted to you, m. poirot'], [3, 93, 'm. poirot, the body was lying, face downwards,  in an open grave '], [3, 105, 'poirot nodded, and the commissary resumed: “madame renauld was hastily freed from the cords that bound her by the horrified servants'], [3, 120, 'poirot bowed his head'], [3, 287, 'a perplexed frown was beginning to gather between poirot’s eyes'], [3, 292, 'poirot’s frown deepened'], [4, 10, '“we have forgotten to inform m. poirot of that'], [4, 12, '“this letter, m. poirot, we found in the pocket of the dead man’s overcoat'], [4, 13, 'poirot took it and unfolded it'], [4, 30, 'poirot handed it back with a grave face'], [4, 37, 'm. poirot, at first sight the case seemed simplicity itself'], [4, 40, 'poirot nodded'], [4, 49, 'poirot shook his head'], [4, 59, '“excellent,” said poirot appreciatively'], [4, 61, '“you have found no other letters from this bella amongst m. renauld’s effects?” asked poirot'], [4, 68, 'poirot ran through the document'], [4, 79, '“the date?” twinkled poirot'], [4, 89, 'poirot shrugged his shoulders'], [4, 95, 'now, m. poirot, you would without doubt like to visit the scene of the crime'], [4, 100, 'he opened the door, and bowed ceremoniously to poirot to precede him'], [4, 101, 'poirot, with equal politeness, drew back and bowed to the commissary'], [4, 106, '” asked poirot suddenly, nodding towards the door opposite'], [4, 115, 'poirot stood a moment talking in the room, then he stepped forward, passed his hand lightly over the backs of the leather chairs, picked up a magazine from the table, and drew a finger gingerly over the surface of the oak sideboard'], [4, 129, '“you recognize it—eh, hastings'], [4, 137, '“the former, i fancy,” said poirot, “for, if i am not mistaken, the handwriting is that of m. renauld'], [4, 140, 'poirot laughed'], [4, 142, 'my friend hastings here will tell you that anything in the least crooked is a torment to me'], [4, 165, '“courage!” cried poirot, clapping him on the back'], [4, 170, 'as we turned to leave the room, poirot remarked casually: “it was here that m. renauld received his guest last night, eh'], [4, 186, '“one can see by his face that he was stabbed in the back,” remarked poirot'], [4, 190, 'poirot examined it narrowly'], [4, 197, 'poirot tested the discoloured point gingerly with his finger tip'], [4, 203, '“of course he did,” said poirot contemptuously'], [4, 224, 'poirot lingered a moment, looking back towards the body'], [5, 1, 'poirot went up in a zigzag fashion which puzzled me, until he whispered with a grimace: “no wonder the servants heard m. renauld mounting the stairs; not a board of them but creaks fit to wake the dead'], [5, 58, '“ pardon ,” interrupted poirot, “but is there then no other egress from the dressing-room'], [5, 90, '“yes, this gentleman—m. hercule poirot'], [5, 91, 'poirot bowed'], [5, 107, 'poirot rose from his seat, scrutinized the clock carefully, and nodded, satisfied'], [5, 117, 'but poirot, deft as ever, took the broken trinket from the startled commissary, and held it to his ear'], [5, 123, '“no,” said poirot gently, “it is a few minutes after five'], [5, 140, '“what times does the last train leave the station of merlinville?” asked poirot'], [5, 142, '“of course,” agreed poirot, looking somewhat crestfallen'], [5, 197, 'it was at this moment, when we were all stunned by the mention of that word, that poirot approached mrs. renauld'], [5, 232, 'instantly poirot was beside her, he raised the lid of her eye, felt her pulse'], [6, 5, 'now, m. poirot, shall we visit the place where the crime was committed'], [6, 8, 'poirot had looked up at the staircase in passing, and shook his head in a dissatisfied manner'], [6, 13, 'but poirot continued to shake his head as though not fully accepting the explanation'], [6, 19, 'poirot pointed to a window on the first floor'], [6, 28, 'poirot went close to the bed and studied it attentively'], [6, 31, 'poirot nodded, as though convinced, and we turned away, but he suddenly darted off and began examining the other flower-bed'], [6, 36, '“my dear m. poirot, those are without doubt the footprints of the gardener’s large hobnailed boots'], [6, 38, '“true,” said poirot, evidently crestfallen'], [6, 41, 'then, to my utter astonishment, poirot pronounced these words: “i do not agree with you'], [6, 47, 'i can investigate this matter of the footprints later,” said poirot cheerfully'], [6, 74, 'bex introduced us, presenting poirot as a colleague'], [6, 76, '“i know you by name, m. poirot,” he said'], [6, 79, '“crimes, though, are very much the same,” remarked poirot gently'], [6, 96, '“the external sign,” said poirot'], [6, 100, 'a very faint smile came to poirot’s lips'], [6, 115, 'but poirot was now apparently interested in something else, a short discoloured piece of lead-piping which lay beside the spade'], [6, 121, '“i, on the contrary, find it very interesting,” said poirot sweetly'], [6, 124, 'meanwhile poirot, as though struck by a sudden idea, stepped back over the boundary, and tried the door of the little shed'], [6, 134, 'i could not help feeling that, so far, poirot had not greatly distinguished himself, and it vexed me'], [6, 138, '“no, m. poirot, it is an affair of the golf course'], [6, 141, 'poirot turned to me'], [6, 144, '“you do not play the golf, m. poirot?” inquired bex'], [6, 155, 'i could not refrain from a laugh at the way the game appeared to poirot, and my little friend smiled at me affectionately, bearing no malice'], [6, 160, 'poirot nodded thoughtfully'], [6, 166, '“yes,” said poirot doubtfully'], [6, 170, '“yes,” said poirot, in a somewhat dissatisfied voice'], [7, 1, 'giraud himself had been obviously delighted when poirot declared that he had seen all he wanted'], [7, 3, 'poirot guessed my thoughts, for as soon as we were alone he remarked ironically: “at last you have seen the detective you admire—the human foxhound'], [7, 11, '“nonsense, poirot'], [7, 25, 'poirot brushed a speck of dust from his sleeve with a dissatisfied air'], [7, 46, 'poirot called to him, and he set down the barrow and came hobbling towards us'], [7, 49, 'my faith in poirot revived a little'], [7, 51, '“exactly,” said poirot'], [7, 72, 'auguste was charmed with poirot’s interest, and was quite inclined to be garrulous'], [7, 73, '“that is a splendid specimen there,” said poirot, pointing'], [7, 76, 'the old fellow stepped into the bed, and carefully took a slip from the plant poirot had admired'], [7, 77, 'poirot was profuse in his thanks, and auguste departed to his barrow'], [7, 78, '“you see?” said poirot with a smile, as he bent over the bed to examine the indentation of the gardener’s hobnailed boot'], [7, 87, 'eh bien , i agree with you,” said poirot'], [7, 94, 'but to my surprise poirot shook his head'], [7, 100, '“ah, m. poirot, we were coming to look for you,” said the magistrate'], [7, 107, '“is m. giraud not going to accompany us?” asked poirot'], [7, 111, 'poirot walked with the examining magistrate, and the commissary and i followed a few paces behind'], [7, 226, 'poirot seemed lost in thought'], [7, 233, 'with mutual civilities, we parted company, poirot and i going towards merlinville, and the others returning to the villa geneviève'], [7, 234, '“the french police system is very marvellous,” said poirot, looking after them'], [7, 246, '“yes, mademoiselle,” said poirot gently'], [7, 250, 'poirot made a grimace'], [7, 257, 'poirot eyed her keenly'], [7, 262, 'all at once poirot’s words about her earlier in the day recurred to me'], [7, 266, '“i see,” said poirot'], [7, 278, '“ mon ami ,” said poirot, in his gentle ironical voice, “is it that we are to remain planted here all night—just because you have seen a beautiful young woman, and your head is in a whirl'], [7, 280, '“but she  is  beautiful, poirot'], [7, 282, 'poirot groaned'], [7, 285, '“poirot,” i said, “do you remember after the styles case when'], [7, 292, 'but to my surprise poirot shook his head very earnestly'], [7, 295, 'take it from papa poirot'], [7, 298, '“some of the greatest criminals i have known had the faces of angels,” remarked poirot cheerfully'], [7, 300, '“poirot,” i cried, horrified, “you cannot mean that you suspect an innocent child like this'], [7, 307, '“my friend,” said poirot, “as usual, you see nothing at all'], [7, 312, 'i, hercule poirot, know it'], [8, 4, 'poirot inquired after the health of mrs. renauld'], [8, 11, 'poirot nodded sympathetically'], [8, 24, '“indeed,” said poirot'], [8, 46, '“ quelle idée ,” murmured poirot, as the girl disappeared'], [8, 56, '“the human foxhound,” murmured poirot, as he leaned back in a comfortable chair, and closed his eyes'], [8, 198, 'i felt a thrill of satisfaction as i realized that in marchaud’s eyes, at least, i ranked equally in importance with poirot'], [9, 1, 'poirot and the commissary, who were both present, greeted me respectively with a smile and a polite bow'], [9, 19, 'remembering poirot’s unaccountable insistence on the footprints in the flower beds, i scrutinized him narrowly as he gave his evidence'], [9, 71, 'the detective wheeled round on poirot'], [9, 75, 'but poirot remained unmoved'], [9, 79, 'poirot spread out his hands'], [9, 88, '“and the other match?” asked poirot'], [9, 96, '“i see you love a joke, m. poirot'], [9, 99, 'poirot bowed'], [9, 105, '“you do not think it odd,” asked poirot, “that these strangers should come unprovided with a weapon, with gloves, with a spade, and that they should so conveniently find all these things'], [9, 140, '“tell me one thing, m. giraud,” said poirot suddenly'], [9, 148, 'then, to my surprise, poirot uttered almost the same words as he had uttered to bex the previous evening: “ i do not agree with you'], [9, 163, '“you are wrong,” said poirot quietly'], [9, 174, 'poirot suddenly assumed his lecturing manner, and addressed us collectively'], [9, 177, '(japp would tell you the same, hastings'], [9, 188, 'you may know all about cigarettes and match ends, m. giraud, but i, hercule poirot, know the mind of man'], [9, 191, '“for your guidance,” continued poirot, “i will also advise you of one fact which might fail to be brought to your notice'], [9, 198, '“all the same, two hours is a good deal,” said poirot softly'], [9, 205, '“no,” said poirot, straightening a little pile of books on a table'], [10, 16, 'this gentleman is m. hercule poirot'], [10, 18, 'a friend of m. poirot’s, captain hastings'], [10, 19, 'stonor looked at poirot with some interest'], [10, 154, 'poirot interjected a remark: “m. stonor, the english chauffeur, masters, had he been long with m. renauld'], [10, 161, 'poirot seemed somewhat crest-fallen'], [11, 99, 'but another voice spoke, imperturbable and calm, the voice of hercule poirot'], [11, 136, 'poirot interrupted with a quick question'], [11, 212, 'poirot had risen and was adjusting a pair of candlesticks that struck his trained eye as being a shade askew'], [11, 248, '“but it is a grave fault you have committed there, captain hastings'], [11, 291, 'poirot turned to bex'], [11, 295, 'poirot looked at him'], [11, 302, '” muttered poirot, but he said no more'], [11, 314, 'poirot tugged out that large turnip of a watch of his, and observed the time'], [11, 321, 'i was going down the steps when poirot’s voice arrested me: “one little moment, my friend'], [11, 324, 'then, with a little satisfied grunt, poirot returned the measure to his pocket, and followed me out into the open air'], [12, 5, 'poirot’s incurable habit of making a mystery out of nothing never failed to irritate me'], [12, 20, '“you think profoundly, my friend,” remarked poirot, breaking in upon my reflections'], [12, 24, '“you are quite right, hastings'], [12, 39, 'the wrist watch, hastings, the wrist watch'], [12, 41, 'poirot was eyeing me curiously'], [12, 48, '“do not enrage yourself, my friend,” said poirot with a smile'], [12, 55, 'i assured poirot that he could rely upon my discretion'], [12, 62, 'but i, hercule poirot, say that madame renauld lied'], [12, 81, '“perfect, hastings'], [12, 87, '“you think so, hastings'], [12, 90, 'poirot restrained my ardour with a light touch upon the arm'], [12, 105, 'oh, be assured, hastings, the danger that threatened him was not in santiago, it was near at hand, in france'], [12, 109, 'a light of pure enjoyment lit up poirot’s face'], [12, 125, 'poirot shrugged his shoulders'], [12, 129, 'a remarkable woman that, hastings'], [12, 150, 'tell me, hastings, what is your explanation of the open door'], [12, 153, 'poirot shook his head, and sighed'], [12, 164, '“an admirable theory, hastings, but for two facts which you have characteristically overlooked'], [12, 170, '“no,” continued poirot, “we must look elsewhere for a solution of the open door mystery'], [12, 177, 'listen, hastings'], [12, 183, '“where they got the spade and the gardening gloves,” said poirot impatiently'], [12, 191, 'i mused, thinking over the new field of conjecture that poirot’s deductions had opened up to me'], [12, 203, '“no,” said poirot cheerfully'], [12, 221, 'even i, hercule poirot, might fail to catch such a one'], [12, 224, '“poirot'], [12, 228, 'from the quietness with which poirot received my remark, i could see that the idea had already occurred to him'], [12, 233, 'poirot maintained a strictly non-committal attitude, repeating: “it may be—yes, it may be'], [13, 1, 'i understood well enough that poirot did not wish to discuss the tragedy where we could so easily be overheard'], [13, 3, 'for a while we ate in silence, and then poirot observed maliciously: “ eh bien'], [13, 9, 'but i was no match for poirot'], [13, 18, '“don’t be an ass, poirot'], [13, 20, 'decidedly you have the heart of a turk, hastings'], [13, 28, 'poirot nodded thoughtfully'], [13, 44, 'i answered poirot lightly enough'], [13, 55, '“ah, my friend, have faith in papa poirot'], [13, 58, 'poirot sighed and shook his head'], [13, 69, 'surely i had never mentioned any hotel to poirot'], [13, 74, 'poirot smoked one of his tiny cigarettes, and then drew his watch from his pocket'], [13, 106, 'poirot smiled'], [13, 110, '“what do you mean by that, poirot'], [13, 127, 'i felt rather at a loose end after poirot had left me'], [13, 171, 'poirot'], [13, 210, 'and then i saw the look in her eyes, the look poirot had spoken of, as she murmured, so that i almost guessed at the words'], [13, 228, '“m. poirot has gone to paris,” i replied coldly'], [13, 262, 'another murder—and poirot away'], [14, 54, 'it was a woman’s long black hair—similar to the one poirot had taken from the arm-chair in the library'], [15, 6, 'it was from poirot, and announced his return by the train arriving at merlinville at 12:28'], [15, 9, 'evidently, i reflected, poirot had had no difficulty in finding what he wanted in paris'], [15, 35, 'hence her anxiety, and her eager questioning of poirot to know whether any one were suspected'], [15, 36, 'my cogitations were interrupted by the arrival of the train, and in another moment i was greeting poirot'], [15, 54, '“my dear poirot—never mind all that'], [15, 88, 'in all my knowledge of poirot he had never done anything so amazing as this'], [15, 90, '“poirot,” i cried, “you’re pulling my leg'], [15, 105, 'poirot listened attentively'], [15, 116, '“you speak as usual, without reflection, hastings'], [15, 123, 'a hint of the lecturer crept into poirot’s tone'], [15, 130, 'we found all our friends there and, after an interchange of polite amenities, poirot began his task'], [15, 132, 'poirot bestowed but a cursory glance on the surroundings'], [15, 134, 'a disdainful smile rose to giraud’s lips, and, as though noting it, poirot flung the bundle down again'], [15, 137, 'poirot knelt down by the body'], [15, 145, 'suddenly poirot stiffened'], [15, 154, 'poirot again shot a question at giraud'], [15, 157, 'poirot proceeded'], [15, 160, 'poirot examined it, then he studied the wound closely'], [15, 171, 'and, stilling the clamour of voices that arose with a wave of his hand, poirot turned to giraud and added, “m. giraud agrees with me, do you not, monsieur'], [15, 180, '“no, m. le juge,” said poirot'], [15, 183, '“the impression it nearly did create,” returned poirot oracularly'], [15, 189, 'this statement of poirot’s again aroused considerable excitement'], [15, 193, '“m. poirot, i am inclined to believe that you are correct in your assertion'], [15, 196, 'poirot was the hero of the hour'], [15, 198, 'poirot responded gracefully, and then excused himself on the pretext that neither he nor i had yet lunched, and that he wished to repair the ravages of the journey'], [15, 200, '“one more thing, m. poirot,” he said, in his suave mocking voice'], [15, 203, '“ah!” said poirot'], [15, 208, '“he was insistent, the good giraud,” said poirot thoughtfully, as we walked towards the hotel'], [15, 211, 'we lunched heartily, but i found poirot somewhat distrait and inattentive'], [15, 224, 'poirot shook his head with a smile'], [17, 5, 'i admit that i am impulsive, and poirot deplores my custom of jumping to conclusions, but i think i had some excuse in this instance'], [17, 6, 'the remarkable way in which this discovery justified poirot’s point of view struck me at once'], [17, 7, '“poirot,” i said, “i congratulate you'], [17, 14, 'poirot lit one of his little cigarettes with his usual precision'], [17, 24, 'poirot walked to the end of the room, absentmindedly straightened a chair, and then said thoughtfully'], [17, 30, 'poirot sat down again, and regarded me, his thoughtful air more marked than ever'], [17, 31, '“so it is definitely your opinion, hastings, that madame daubreuil murdered m. renauld'], [17, 40, 'poirot nodded his head at me'], [17, 48, '“true,” agreed poirot placidly'], [17, 56, 'poirot shook his head'], [17, 74, '“why, poirot, it was you who remarked on that'], [17, 76, 'poirot smiled a little'], [17, 85, '“ta-ta-ta,” said poirot impatiently'], [17, 92, '“poirot,” i cried, “what more do you know'], [17, 96, 'reason—not like giraud—but like hercule poirot'], [17, 108, '“but, poirot, i thought you said the man in the shed had died a natural death'], [17, 110, 'poirot made his favourite ejaculation of impatience'], [17, 120, 'that changed the course of my ideas, and i asked poirot if he knew that jack renauld had been in merlinville on the night of the crime'], [17, 123, '“and without doubt we are not original in the idea, hastings'], [17, 128, 'poirot looked inquiringly at me, but i said no more'], [17, 132, 'poirot greeted him in a business-like manner'], [17, 137, '“exactly, m. poirot,” said the lad'], [17, 146, '“i and my friend, you comprehend, have business elsewhere,” explained poirot'], [17, 150, 'poirot’s voice stopped him'], [17, 157, 'poirot looked at him, his eyes narrowed, cat-like, until they only showed a gleam of green'], [17, 170, 'poirot’s eyes never left the other’s face'], [17, 182, 'poirot bowed his head as a sign that he accepted the explanation'], [17, 184, 'in a trice poirot jumped to his feet'], [17, 185, '“quick, hastings'], [17, 188, 'but when poirot saw that he took the turning to the station, he checked himself'], [17, 195, '“your penetration is amazing, hastings'], [18, 0, ' “by the way, poirot,” i said, as we walked along the hot white road, “i’ve got a bone to pick with you'], [18, 2, 'poirot shot a quick sidelong glance at me'], [18, 6, 'i rather feared poirot’s banter, but to my relief, and somewhat to my surprise, he only shook his head with a rather unusual gravity'], [18, 13, 'poirot seemed to be about to say something further, but checked himself'], [18, 14, 'arrived at the villa, poirot led the way up to the shed where the second body had been discovered'], [18, 27, '“certainly, monsieur poirot'], [18, 55, 'poirot, too, watched her intently'], [18, 59, '“it was unwise to have tried to conceal the fact,” ventured poirot'], [18, 65, '“the facts will tell against him,” said poirot'], [18, 72, '“mademoiselle,” said poirot observing her keenly, “is there not something that you are keeping back that you could tell us'], [18, 91, 'poirot uttered an exclamation'], [18, 95, 'but tell me, monsieur poirot, is it not possible that this tramp might have attacked and killed m. renauld, and taken his clothes and money'], [18, 96, '“it is an idea, mademoiselle,” said poirot slowly'], [18, 102, '“come,” said poirot, and taking my arm, turned in the direction of the villa'], [18, 106, '“it is a curious tale,” said poirot, “but i believe it to be the absolute truth'], [18, 114, 'now, hastings, what was jack renauld doing here on that eventful evening, and if he did not see mademoiselle marthe whom did he see'], [18, 115, '“surely, poirot,” i cried, aghast, “you cannot believe that a boy like that would murder his own father'], [18, 116, '“ mon ami ,” said poirot, “you continue to be of a sentimentality unbelievable'], [18, 124, 'poirot shrugged his shoulders'], [18, 128, '“ah,” said poirot, smiling broadly'], [18, 134, '“no,” said poirot with a curious smile'], [18, 137, '“perhaps,” said poirot, regarding me quizzically'], [18, 149, 'neatly and methodically, poirot opened each drawer in turn, examined the contents, and returned them exactly to their places'], [18, 151, 'poirot waded on through collars, pajamas and socks'], [18, 154, '“poirot'], [18, 159, '” growled poirot'], [18, 164, 'suddenly with a cry of triumph poirot pounced on something, a small square cardboard, evidently a photograph'], [18, 167, '“good afternoon, m. giraud,” said poirot'], [18, 172, 'poirot wheeled to confront the boy who leaned limply against the door, his face ashy pale'], [19, 2, 'i had expected a ringing proclamation of his innocence when poirot challenged him'], [19, 4, 'but poirot had turned to giraud'], [19, 11, '“it would not surprise me,” replied poirot, with a soupçon of malice'], [19, 16, '“now, m. poirot,” said giraud laying his hat on the table, and speaking with the utmost sarcasm, “i will treat you to a little lecture on detective work'], [19, 19, '” said poirot, composing himself to listen'], [19, 26, '“very creditable so far, my dear giraud,” murmured poirot'], [19, 37, 'captain hastings here can fix the time'], [19, 40, 'poirot interrupted: “you are wrong'], [19, 47, 'without doubt, he saw captain hastings and his companion leave the shed, slipped in himself and took the dagger, stabbed his accomplice in the shed'], [19, 55, '“but it could not deceive m. giraud,” murmured poirot'], [19, 65, 'poirot regarded him steadily'], [19, 76, 'i saw a quick flash of green in poirot’s eyes as he rose to his feet'], [19, 83, 'poirot moved towards the door'], [19, 87, '“the piece of lead piping,” said poirot, and left the room'], [19, 99, 'in a minute poirot stood up again'], [19, 104, 'denise and françoise had run to their mistress, and leaving her in their charge poirot left the house'], [19, 108, 'poirot did not answer at once, but after a long wait he said gravely: “i do not know, hastings'], [19, 116, 'this was what i called one of poirot’s irritating answers'], [19, 121, 'we established ourselves on the grassy knoll as poirot had suggested, looking out to sea'], [19, 123, 'the sea was of the palest blue, and the halcyon calm reminded me of the day we had arrived at merlinville, my own good spirits, and poirot’s suggestion that i was “fey'], [19, 126, '“think, my friend,” said poirot’s voice encouragingly'], [19, 132, 'and reluctantly it seemed to me that the only clear and possible solution was that of giraud—which poirot despised'], [19, 136, 'poirot had declared the beroldy case to be all important'], [19, 145, '“poirot,” i said, “it seems to me we have been strangely remiss'], [19, 150, '“and who is that?” inquired poirot, with twinkling eyes'], [20, 0, ' the next moment poirot embraced me warmly'], [20, 11, '“ aucunement ,” agreed poirot'], [20, 22, 'the sentimentality,” warned poirot'], [20, 37, 'there, poirot, what do you think of that'], [20, 39, 'poirot looked at me thoughtfully'], [20, 53, '“you are wrong, hastings'], [20, 59, '“my theory is the truth,” said poirot quietly'], [20, 66, 'poirot sat very upright and began, wagging his forefinger emphatically to emphasize his points'], [20, 86, 'poirot paused, cleared his throat, and signed to me to write'], [20, 94, '“letter written to m. hercule poirot, imploring assistance'], [20, 99, '…’ ” poirot paused'], [20, 100, '“there, hastings, take each of those facts one by one, consider them carefully by themselves and in relation to the whole, and see if you do not get new light on the matter'], [20, 109, '“none whatever, i grant you, hastings'], [20, 111, '“the letter, poirot'], [20, 116, '“and that is all!” cut in poirot'], [20, 127, '“i see,” i said slowly, as the meaning of poirot’s remarks bore in upon me'], [20, 130, 'poirot nodded'], [20, 154, 'and if you do not see that, you see nothing, hastings'], [20, 160, 'a faint smile crossed poirot’s lips'], [20, 166, 'poirot shook his head'], [20, 198, '“my dear poirot, i can’t see anything glaring about it'], [20, 200, 'poirot looked at me sadly, and shook his head'], [20, 207, 'you really are the most irritating of fellows, poirot'], [20, 227, '“georges conneau,” i said doubtfully, eyeing poirot warily'], [20, 251, 'poirot nodded'], [20, 266, '“ eh bien, mon ami ,” said poirot placidly, “that is just what he did do'], [21, 0, ' in a measured voice, poirot began his exposition'], [21, 5, '“but no, it is all most simple really,” said poirot kindly'], [21, 63, '“and then,” said poirot gravely, “the justice that he has so long eluded overtakes him'], [21, 65, '… now, hastings, you understand what i mean when i talk of  two  crimes'], [21, 67, 'he misjudged hercule poirot'], [21, 73, '“you’re marvellous, poirot,” i said, with admiration'], [21, 78, '“ah, then you no longer despise poor old papa poirot'], [21, 83, '“that poor giraud,” said poirot, trying unsuccessfully to look modest'], [21, 88, '“to tell you the truth, poirot,” i said slowly, “even now i don’t quite see—whose hair was it'], [21, 101, 'but i, hercule poirot, whom he despises, will be the little pin that pricks the big balloon— comme ça'], [21, 107, 'voilà une femme , hastings'], [21, 125, 'poirot lost himself in contemplation'], [21, 126, '“one thing more, poirot, what about the piece of lead piping'], [21, 137, '“you see, hastings, we must now start again'], [21, 154, 'for answer, poirot consulted his turnip-faced watch, and then asked: “what time is the afternoon boat from calais'], [21, 163, 'with a rather peculiar smile upon his face, poirot replied: “miss bella duveen'], [22, 2, 'at the same time, i stole a quick glance at poirot'], [22, 10, 'in the bustle of departure, i had no time for thinking, but once on board the boat, secure from poirot’s observation (he, as usual, was “practising the method most excellent of laverguier”) i pulled myself together, and attacked the facts dispassionately'], [22, 11, 'how much did poirot know'], [22, 36, 'was that what poirot was after'], [22, 46, 'i disliked intensely being associated with poirot in hunting this girl down, but i could not see any way of avoiding it, without revealing everything to him, and this, for some reason, i was loath to do'], [22, 47, 'poirot reappeared brisk and smiling at dover, and our journey to london was uneventful'], [22, 49, 'but poirot had other plans'], [22, 59, 'he greeted poirot with every evidence of warmth, and professed himself ready to be of service to us in any way'], [22, 86, 'poirot made no inquiries at the theatre, but contented himself with booking stalls for the variety performance that evening'], [22, 102, 'i suggested leaving to poirot'], [22, 108, 'i heard the door open, and turned my head, thinking it was poirot'], [22, 120, 'and in that moment i understood everything—understood why poirot was seeking her, and what she feared, and understood at last my own heart'], [22, 201, 'poirot was standing there looking at us'], [22, 209, 'i held poirot in a grip of iron'], [22, 219, 'keeping a suspicious eye upon him, for i paid poirot the compliment of knowing that i was no match for him in astuteness, i relaxed my grip, and he sank into an arm-chair, feeling his arms tenderly'], [22, 220, '“it is that you have the strength of a bull when you are roused, hastings'], [22, 224, 'so poirot had known all along'], [22, 230, 'it comes to this—are you going to work with me or against me, hastings'], [22, 236, '“poirot,” i said, “i’m sorry'], [22, 240, 'poirot nodded his head several times'], [22, 251, '“nothing that you could tell me would be any surprise to me, poirot'], [22, 257, 'poirot looked at me thoughtfully'], [22, 260, 'poirot rose and bowed'], [22, 265, 'it defeats even hercule poirot'], [23, 6, 'no, i was still satisfied with my idea—had not even poirot admitted that it defeated him'], [23, 11, 'poirot would not take defeat lying down'], [23, 14, 'poirot’s good temper was imperturbable, yet i thought i detected a film of reserve in his manner which was new'], [23, 16, 'a malicious gleam shot through poirot’s eyes'], [23, 20, '“is that really so, poirot'], [23, 21, '“you can take it from me, hastings'], [23, 30, 'she would know the risk she ran of a message being intercepted by poirot, thus setting him on her track once more'], [23, 32, 'but, in the meantime, what was poirot doing'], [23, 36, 'i had learned, with poirot, that the less dangerous he looked, the more dangerous he was'], [23, 39, '“you are puzzled, hastings'], [23, 53, 'poirot’s perfect calm awakened a thousand apprehensions'], [23, 54, '“i suppose, poirot,” i said rather diffidently, “i mustn’t ask what your plans are'], [23, 61, '’ you know very well that you cannot afford to let papa poirot out of your sight'], [23, 70, 'at all costs i must keep near poirot'], [23, 71, 'poirot observed me attentively as these reflections passed through my mind, and gave a nod of satisfaction'], [23, 130, 'but i pinned my faith to poirot'], [24, 1, 'poirot lost no time in visiting m. hautet'], [24, 5, '“i was told that you had returned to england, m. poirot'], [24, 10, 'poirot shrugged his shoulders'], [24, 20, 'but poirot was not to be drawn'], [24, 43, 'i have here a letter for you, m. poirot'], [24, 46, 'at last he found the missive, and handed it to poirot'], [24, 49, 'poirot studied the letter curiously'], [24, 51, 'poirot did not open it'], [24, 64, 'i am sorry to have to record that poirot’s first remark to me as we traversed the corridor was: “a famous old imbecile, that one'], [24, 68, 'm. poirot,” he cried airily'], [24, 70, '“as you see,” said poirot'], [24, 73, 'poirot spoke in a subdued tone'], [24, 78, '“so extraordinary that it gives one to think, does it not?” suggested poirot mildly'], [24, 81, '“well, good day, m. poirot'], [24, 87, '” poirot drew himself up'], [24, 94, '” “come now,” urged poirot, “is it agreed'], [24, 100, '“i am enchanted to hear it,” said poirot'], [24, 102, 'come, hastings'], [24, 105, 'poirot had displayed his intentions only too plainly'], [24, 107, 'this unlucky encounter with giraud had roused poirot and put him on his mettle'], [24, 110, '“and what are you doing here, m. stonor?” inquired poirot'], [24, 125, 'he turned to poirot'], [24, 127, '“i think that things look very black against him,” said poirot quietly'], [24, 140, 'i paused, uncertain as to how much poirot would wish me to reveal'], [24, 147, 'poirot’s hand arrested his departure'], [24, 151, '“that point about the dagger is good, poirot,” i urged as we went upstairs'], [24, 160, 'eh bien , hastings, they made to his order not  two  paper-knives, but three '], [24, 163, 'no, hastings, i fear the dagger question will not help us to save him from the guillotine'], [24, 165, 'poirot shook his head uncertainly'], [24, 167, 'poirot glanced at me dryly'], [24, 177, '“there are other women in the world who suffer, hastings'], [24, 178, 'the writing was blurred and the note had evidently been written in great agitation: “ dear m. poirot: “if you get this, i beg of you to come to my aid'], [24, 187, 'marthe was at the door to meet us, and led poirot in, clinging with both hands to one of his'], [24, 196, '“neither do i believe it, mademoiselle,” said poirot gently'], [24, 199, '“perhaps because he is screening some one,” suggested poirot, watching her'], [24, 215, '“mademoiselle,” said poirot quietly, “if we are to work together, you and i, we must have things clear'], [24, 220, '“there, there,” said poirot, patting her on the shoulder'], [25, 52, 'i began to realize the magnitude of the task i had so lightly set poirot'], [26, 76, 'poirot was with me when i read it'], [26, 88, '“you were rather high-handed in your methods,  mon ami ,” said poirot dryly'], [26, 103, '“what is it that worries you, hastings'], [26, 104, 'this was quite a new mood in poirot'], [26, 108, 'poirot turned back the pages'], [26, 109, '“i think you are mistaken, hastings'], [26, 112, 'poirot smiled'], [26, 118, 'leave it to papa poirot'], [27, 0, ' “congratulations, m. jack,” said poirot, wringing the lad warmly by the hand'], [27, 6, 'he smiled mournfully at poirot, and said in a low voice: “i went through it to protect her, and now it’s all no use'], [27, 10, 'and you were heading for it too!” added poirot, with a slight twinkle'], [27, 17, '“if i were you,” said poirot frankly, “i should not distress myself unduly'], [27, 22, 'you see, m. poirot, in a way i  do  feel guilty of my father’s murder'], [27, 39, '” poirot reassured him quickly'], [27, 62, '“and afterwards?” asked poirot gently'], [27, 74, 'poirot sprang to his feet'], [27, 78, 'poirot, jack renauld and i set off in the renauld car'], [27, 80, 'as we approached the doorway of the villa marguerite, jack renauld shot a questioning glance at poirot'], [27, 82, '“while you break it in person to mademoiselle marthe, eh?” finished poirot, with a twinkle'], [27, 87, '“poirot,” i said, “do you remember how we arrived here that first day'], [27, 93, '” “poirot, what have you done about finding bel—i mean dulcie'], [27, 94, '“calm yourself, hastings'], [27, 97, 'poirot changed the subject'], [27, 101, '“you are regarding it from the sentimental standpoint, hastings'], [27, 108, 'and in the midst of a fit of laughter on my part at poirot’s peculiarities, the door was opened by françoise'], [27, 109, 'poirot explained that he must see mrs. renauld at once, and the old woman conducted him upstairs'], [27, 111, 'it was some time before poirot reappeared'], [27, 113, '“ vous voilà , hastings'], [27, 117, '“i would hardly have credited it,” said poirot thoughtfully, “but women are very unexpected'], [27, 119, 'poirot bounded out of the room, and met the young couple on the steps outside'], [27, 131, '“i thank you for your good offices, m. poirot, but i will make my own wishes clear'], [27, 145, 'poirot made a mediating gesture, but instantly she regained command of herself'], [27, 155, 'poirot and i went quickly to his assistance'], [27, 156, '“he is overdone,” murmured poirot to marthe'], [27, 163, 'poirot felt his head and hands'], [27, 167, 'get him to bed, and hastings and i will summon a doctor'], [27, 175, '“and now for quarters for the night,” said poirot, when at length  café noir  had completed the meal'], [27, 179, 'then poirot asked a question which surprised me'], [27, 184, '“poirot,” i cried, keeping pace with him as he walked along the corridor, “who on earth is miss robinson'], [27, 185, 'poirot beamed kindly on me'], [27, 186, '“it is that i have arranged you a marriage, hastings'], [27, 188, '“bah!” said poirot, giving me a friendly push over the threshold of the door'], [27, 193, 'poirot cleared his throat'], [27, 197, 'in response, cinderella took from her bag an object wrapped up in paper, and handed it silently to poirot'], [27, 201, '“ très bien, mon enfant ,” said poirot'], [27, 204, 'hastings here and i have work to do'], [27, 211, 'poirot realized that it was futile to argue further'], [27, 219, 'poirot led the way out of the town in the direction of the villa geneviève'], [27, 222, 'come with me, hastings'], [27, 226, 'as we went round to the side of the house, i drew poirot’s attention to a window on the first floor'], [27, 228, '“ah!” said poirot'], [27, 236, '“is the doctor coming again?” asked poirot in a whisper'], [27, 245, '“i hope we have not deranged you, madame,” said poirot politely as she opened the door for us to pass out'], [27, 247, '“by the way,” said poirot, as though struck by an afterthought, “m. stonor has not been in merlinville today, has he'], [27, 248, 'i could not at all fathom the point of this question which i well knew to be meaningless as far as poirot was concerned'], [27, 252, '“true,” said poirot'], [27, 257, '“no ‘ whys ,’ hastings'], [27, 260, 'poirot looked over his shoulder once at the lighted window and the profile of marthe as she bent over her work'], [27, 262, 'arrived at the villa geneviève, poirot took up his stand behind some bushes to the left of the drive, where, whilst enjoying a good view ourselves, we were completely hidden from sight'], [27, 265, 'it seemed to me that it was upon this spot that poirot’s eyes were fixed'], [27, 276, '” cried poirot'], [27, 285, 'poirot had rushed through the empty room and was pounding on the door leading into the corridor'], [27, 289, 'i saw despair in poirot’s eyes'], [27, 298, 'she’s a professional acrobat, hastings'], [27, 305, 'poirot brushed her aside unceremoniously and rushed down the passage to where the other maids were grouped round the further door'], [27, 310, '“she is safe?” demanded poirot'], [27, 316, 'the girl picked up something from the floor and handed it to poirot'], [27, 318, '“a getaway,” said poirot'], [27, 329, '“the murderer of m. renauld, hastings'], [28, 1, 'poirot seemed deaf to my repeated questions'], [28, 6, 'poirot deigned to attend to me for a brief moment'], [28, 10, '“then why was i not told,” vociferated poirot, striking the table, and working himself into a first-class passion'], [28, 18, 'i was aroused from my condition of mental fog by a sharp command from poirot to fetch the doctor immediately on mrs. renauld’s behalf'], [28, 29, 'i awoke to find the sun pouring in through the open windows and poirot, neat and smiling, sitting beside the bed'], [28, 31, 'but it is that you are a famous sleeper, hastings'], [28, 39, '“oh, no, hastings, she did not'], [28, 46, 'poirot leaned back in his chair, and brought the tips of his fingers together in familiar style'], [28, 86, 'poirot paused and cleared his throat'], [28, 88, 'the solution did not commend itself to me, because, as i pointed out to you, hastings, an expert, such as i am, likes to meet a foeman worthy of his steel'], [28, 100, 'i said no word to you, hastings (it was no time for romance) but i sought out mademoiselle dulcie, told her as much as i deemed needful, and set her to search amongst the effects of her sister'], [28, 113, 'that is where, as the americans say, she ‘put it over’ on hercule poirot'], [28, 137, '“however, hastings, things did not go quite as mademoiselle marthe had planned'], [28, 143, 'but she was checkmated—not by hercule poirot—but by  la petite acrobate  with her wrists of steel'], [28, 145, '“when did you first begin to suspect marthe daubreuil, poirot'], [28, 147, 'poirot smiled'], [28, 168, 'and yet, do you know, hastings, i doubt if his heart was ever seriously engaged'], [28, 179, 'poirot proved a fairly true prophet'], [28, 180, 'when at length the doctor pronounced jack renauld strong enough to hear the truth, it was poirot who broke it to him'], [28, 186, 'poirot had acquainted mrs. renauld with the fact that he knew her secret, and had represented to her that jack should not be left in ignorance of his father’s past'], [28, 190, 'a halting question was promptly answered by poirot'], [28, 196, 'there were, of course, various points in the case that remained puzzling to the police, but poirot explained things in so plausible a fashion that all query about them was gradually stilled'], [28, 197, 'shortly after we got back to london, i noticed a magnificent model of a foxhound adorning poirot’s mantelpiece'], [28, 198, 'in answer to my inquiring glance, poirot nodded'], [28, 204, '“m. poirot, i’ve come to say good-bye'], [28, 218, '“so have all of us, at one time and another,” observed poirot philosophically'], [28, 224, 'hastings here will tell you that i believe in heredity'], [28, 241, 'and what of captain arthur hastings, humble chronicler of these pages']]\n",
      "[[7, 145, '“mademoiselle daubreuil,” said m. hautet, sweeping off his hat, “we regret infinitely to disturb you, but the exigencies of the law—you comprehend'], [7, 176, '“marthe, dear'], [7, 184, '“i should prefer not to speak before mademoiselle daubreuil'], [7, 241, 'it was marthe daubreuil'], [7, 249, '“françoise told our amélie,” explained marthe, with a blush'], [7, 293, '“ah,  mon ami , do not set your heart on marthe daubreuil'], [11, 103, 'the subject of the quarrel was mademoiselle marthe daubreuil'], [11, 109, '“i love mademoiselle daubreuil, and i wish to marry her'], [11, 117, 'marthe is as good as she is beautiful'], [11, 119, '“i have nothing against mademoiselle daubreuil in any way'], [11, 125, '“when you informed your father of your intentions towards mademoiselle daubreuil,” he resumed, “he was surprised'], [11, 129, 'nettled, i demanded what he had against mademoiselle daubreuil'], [11, 131, 'i answered that i was marrying marthe, and not her antecedents, but he shouted me down with a peremptory refusal to discuss the matter in any way'], [11, 143, 'i wrote to marthe, telling her what had happened, and her reply soothed me still further'], [13, 19, '“yesterday it was mademoiselle daubreuil, today it is mademoiselle—cinderella'], [13, 23, 'mademoiselle daubreuil is a very beautiful girl, and i do admire her immensely—i don’t mind admitting it'], [13, 94, 'and thirdly, if you wish, endeavour to cut him out with mademoiselle marthe'], [13, 100, 'throw together a boy young renauld and a beautiful girl like mademoiselle marthe, and the result is almost inevitable'], [13, 108, 'that is how always think of mademoiselle daubreuil  as the girl with the anxious eyes'], [13, 194, 'a girl’s voice was speaking, a voice that i recognized as that of the beautiful marthe'], [13, 197, '“you know it, marthe,” jack renauld replied'], [15, 19, 'i do not know what put the idea into my head—possibly it was the deep anxiety underlying marthe daubreuil’s tones—but i asked suddenly: “young m. renauld—he did not leave by that train, did he'], [15, 28, 'that, then, was the reason of marthe’s poignant anxiety'], [15, 34, 'one thing was certain, marthe had known all along'], [17, 166, 'i came to see my fiancée, mademoiselle daubreuil'], [18, 19, '“with good fortune,” he remarked to me over his shoulder, “mademoiselle marthe may find herself in the garden'], [18, 25, '” i joined him at the moment that marthe daubreuil, looking slightly startled, came running up to the hedge at his call'], [18, 100, '“ maman ,” whispered marthe, “i must go'], [18, 107, 'unwittingly, mademoiselle marthe told us the truth on another point—and incidentally gave jack renauld the lie'], [18, 108, 'did you notice his hesitation when i asked him if he saw marthe daubreuil on the night of the crime'], [18, 111, 'it was necessary for me to see mademoiselle marthe before he could put her on her guard'], [18, 114, 'now, hastings, what was jack renauld doing here on that eventful evening, and if he did not see mademoiselle marthe whom did he see'], [20, 88, 'm. renauld quarrels with his son over latter’s wish to marry marthe daubreuil'], [20, 93, 'quarrel with tramp in garden, witnessed by marthe daubreuil'], [20, 134, '“may 23rd,” i read, “m. renauld quarrels with his son over latter’s wish to marry marthe daubreuil'], [22, 37, 'had jack renauld, returning to see marthe daubreuil, come face to face instead with bella duveen, the girl he had heartlessly thrown over'], [22, 42, 'did he fear for this former entanglement of his to come to the ears of marthe daubreuil'], [24, 181, '“marthe daubreuil'], [24, 187, 'marthe was at the door to meet us, and led poirot in, clinging with both hands to one of his'], [24, 200, 'marthe frowned'], [24, 219, 'marthe looked at him for a minute, then, letting her head fall forward on her arms, she burst into tears'], [24, 227, 'marthe listened spellbound'], [27, 1, 'young renauld had come to us as soon as he was liberated—before starting for merlinville to rejoin marthe and his mother'], [27, 29, 'after i met marthe, and realized i’d made a mistake, i ought to have written and told her so honestly'], [27, 30, 'but i was so terrified of a row, and of its coming to marthe’s ears, and her thinking there was more in it than there ever had been, that—well, i was a coward, and went on hoping the thing would die down of itself'], [27, 46, 'i came from cherbourg, as i told you, in order to see marthe before going to the other end of the world'], [27, 82, '“while you break it in person to mademoiselle marthe, eh?” finished poirot, with a twinkle'], [27, 118, '“here are jack and marthe daubreuil,” i exclaimed, looking out of the window'], [27, 127, '“but marthe and i'], [27, 156, '“he is overdone,” murmured poirot to marthe'], [27, 172, 'finally, having done all we could, we left him in the charge of marthe and her mother, and set out for the town'], [27, 227, 'thrown sharply on the blind was the profile of marthe daubreuil'], [27, 233, 'marthe daubreuil was embroidering by a table with a lamp on it'], [27, 260, 'poirot looked over his shoulder once at the lighted window and the profile of marthe as she bent over her work'], [27, 331, 'puzzled and uncomprehending, i knelt down, and lifting the fold of cloth, looked into the dead beautiful face of marthe daubreuil'], [28, 35, '“do you know, i actually dreamt that we found marthe daubreuil’s body in mrs. renauld’s room, and that you declared her to have murdered mr. renauld'], [28, 56, 'from marthe daubreuil’s own lips we have the admission that she overheard m. renauld’s quarrel with the tramp'], [28, 58, 'remember how easily you overheard marthe’s conversation with jack renauld from that spot'], [28, 59, '“but what possible motive could marthe have for murdering mr. renauld'], [28, 64, 'let us reconstruct the scene from the standpoint of marthe daubreuil'], [28, 65, '“marthe daubreuil overhears what passes between renauld and his wife'], [28, 70, 'if the latter defies his father, he will be a pauper—which is not at all to the mind of mademoiselle marthe'], [28, 79, 'and here comes in the second point which led me infallibly to marthe daubreuil—the dagger'], [28, 81, 'one he gave to his mother, one to bella duveen; was it not highly probable that he had given the third one to marthe daubreuil'], [28, 82, '“so then, to sum up, there were four points of note against marthe daubreuil: “(1) marthe daubreuil could have overheard m. renauld’s plans'], [28, 83, '“(2) marthe daubreuil had a direct interest in causing m. renauld’s death'], [28, 84, '“(3) marthe daubreuil was the daughter of the notorious madame beroldy who in my opinion was morally and virtually the murderess of her husband, although it may have been georges conneau’s hand which struck the actual blow'], [28, 85, '“(4) marthe daubreuil was the only person, besides jack renauld, likely to have the third dagger in her possession'], [28, 95, 'if it was  not  bella duveen, the only other person who could have committed the crime was marthe daubreuil'], [28, 99, 'but if, by any chance, it was  not  her sister’s, but the one given by jack to marthe daubreuil—why then, bella duveen’s dagger would be still intact'], [28, 102, '“in the meantime i had taken steps to force mademoiselle marthe into the open'], [28, 107, 'marthe daubreuil made a last bold bid for the renauld millions—and failed'], [28, 122, 'she had brains, that beautiful mademoiselle marthe'], [28, 127, 'on the floor by marthe daubreuil’s body, i found a pad and a little bottle of chloroform and a hypodermic syringe containing a fatal dose of morphine'], [28, 137, '“however, hastings, things did not go quite as mademoiselle marthe had planned'], [28, 141, 'there is a last chance for marthe daubreuil'], [28, 145, '“when did you first begin to suspect marthe daubreuil, poirot'], [28, 151, 'that is how i have thought of marthe daubreuil from the beginning'], [28, 169, 'so far we have looked upon bella duveen as a siren, and marthe daubreuil as the girl he really loved'], [28, 171, 'marthe daubreuil was very beautiful']]\n",
      "[[18, 114, 'now, hastings, what was jack renauld doing here on that eventful evening, and if he did not see mademoiselle marthe whom did he see'], [24, 187, 'marthe was at the door to meet us, and led poirot in, clinging with both hands to one of his'], [27, 82, '“while you break it in person to mademoiselle marthe, eh?” finished poirot, with a twinkle'], [27, 156, '“he is overdone,” murmured poirot to marthe'], [27, 260, 'poirot looked over his shoulder once at the lighted window and the profile of marthe as she bent over her work'], [28, 137, '“however, hastings, things did not go quite as mademoiselle marthe had planned'], [28, 145, '“when did you first begin to suspect marthe daubreuil, poirot']]\n",
      "[[2, 323, '“m. renauld was murdered this morning'], [3, 3, 'murdered'], [3, 53, '“the body was discovered this morning about nine o’clock'], [3, 90, 'going to call her mistress as usual, a younger maid, léonie, was horrified to discover her gagged and bound, and almost at the same moment news was brought that m. renauld’s body had been discovered, stone dead, stabbed in the back'], [4, 56, '“i shall cable without delay to the police in that city, requesting full details of the murdered man’s life out there, his love affairs, his business transactions, his friendships, and any enmities he may have incurred'], [4, 180, 'the murdered man lay on the ground, with a sheet over him'], [6, 59, 'it was some of the men working on them who discovered the body early this morning'], [6, 91, 'the marks you complain of were made by the workmen who discovered the body'], [6, 117, '“and does this, too, belong to the murdered man?” he asked, and i thought i detected a subtle flavour of irony in the question'], [7, 28, 'yet he is found murdered close at hand, almost within ear-shot of the house'], [8, 175, 'we repaired first to the spot where the body had been discovered'], [10, 54, '“so, as far as you know, he had no enemies, and you can give us no clue as to any secret to obtain possession of which he might have been murdered'], [12, 65, '“they declared, after examination of the body, that death had taken place between ten and seven hours previously'], [13, 264, 'but who had been murdered'], [17, 17, '“why, that it was madame daubreuil—beroldy, who murdered mr. renauld'], [17, 31, '“so it is definitely your opinion, hastings, that madame daubreuil murdered m. renauld'], [18, 14, 'arrived at the villa, poirot led the way up to the shed where the second body had been discovered'], [18, 85, 'on the morning of the day m. renauld was murdered, i was walking in the garden here, when i heard a sound of men’s voices quarrelling'], [18, 117, 'i have seen mothers who murdered their little children for the sake of the insurance money'], [28, 35, '“do you know, i actually dreamt that we found marthe daubreuil’s body in mrs. renauld’s room, and that you declared her to have murdered mr. renauld'], [28, 95, 'if it was  not  bella duveen, the only other person who could have committed the crime was marthe daubreuil']]\n",
      "[[3, 118, 'finally there are madame renauld and her son, m. jack renauld'], [3, 284, '“you see, m. jack, the son of monsieur, was usually here, and he spoke the french very badly'], [5, 185, '“jack'], [8, 22, 'the day that he quarrelled with m. jack— ma foi'], [8, 27, 'it was just before m. jack went to paris'], [9, 121, 'm. jack renauld, the son, for instance'], [11, 5, '“jack'], [11, 44, 'jack renauld shook his head'], [11, 55, 'in response, jack renauld declared definitely that he knew nothing of any enmity his father might have incurred in the city of santiago, or elsewhere in the south american continent, that he had noticed no change in his father’s manner of late, and that he had never heard him refer to a secret'], [11, 66, 'jack shrugged his shoulders'], [11, 72, 'jack renauld was clearly disconcerted by the question'], [11, 107, 'jack renauld bowed his head'], [11, 154, '“duveen?” said jack'], [11, 162, 'jack renauld took the letter, and read it through, the colour mounting in his face as he did so'], [11, 187, 'jack renauld leaned forward'], [11, 211, 'stonor crossed to jack, and wrung him by the hand'], [11, 323, 'i had not seen it hanging there before, and guessed that it belonged to either mr. stonor, or jack renauld'], [13, 197, '“you know it, marthe,” jack renauld replied'], [13, 202, '“oh, jack, jack—i am afraid'], [13, 208, 'but the girl’s face was troubled, and jack renauld seemed to recognize it, as he held her closer to him and asked: “but what are you afraid of, darling'], [13, 248, 'giraud evidently did not desire my company and, from what i had seen, it seemed fairly certain that jack renauld did not either'], [14, 118, 'jack renauld succeeded her'], [15, 24, '… “you mean,” i said, my heart beating a little, “that m. jack renauld arrived at merlinville that evening'], [15, 29, 'jack renauld had been in merlinville on the night of the crime'], [15, 119, 'this particular weapon was a war souvenir which was made to jack renauld’s orders'], [17, 118, '“m. jack renauld'], [17, 120, 'that changed the course of my ideas, and i asked poirot if he knew that jack renauld had been in merlinville on the night of the crime'], [17, 129, 'it had just occurred to me that though there were seven women directly or indirectly connected with the case mrs. renauld, madame daubreuil and her daughter, the mysterious visitor, and the three servants—there was, with the exception of old auguste who could hardly count, only one man—jack renauld'], [17, 131, '… i had no time to develop further the appalling idea that had occurred to me, for jack renauld was ushered into the room'], [17, 153, 'jack renauld’s face went crimson'], [17, 160, 'for a moment jack renauld hesitated, then he made up his mind'], [17, 183, 'jack renauld took up his hat and cane and departed'], [18, 40, '“m. jack renauld'], [18, 43, '“jack'], [18, 64, 'he must arrest some one, and that some one will be jack'], [18, 107, 'unwittingly, mademoiselle marthe told us the truth on another point—and incidentally gave jack renauld the lie'], [18, 113, 'when i asked her if she knew that jack renauld was here that night, she answered ‘he  told  me'], [18, 114, 'now, hastings, what was jack renauld doing here on that eventful evening, and if he did not see mademoiselle marthe whom did he see'], [18, 121, 'remember that jack renauld thought that he would come in to half his father’s fortune at the latter’s death'], [18, 141, '“i wish to make a search amongst the effects of m. jack renauld'], [18, 157, 'giraud is in it, and jack renauld, and two gendarmes'], [18, 169, 'giraud nodded his head towards jack'], [18, 174, '” jack renauld stared at him stonily'], [19, 1, 'up to the last, i had not been able bring myself to believe jack renauld guilty'], [19, 15, 'he flung open the door of the  salon , and we passed in, leaving jack renauld in the care of the two other men'], [19, 30, 'i heard of jack renauld’s quarrel with his father, and of the threats that he had used'], [19, 33, 'jack renauld was in merlinville that night'], [19, 38, 'jack renauld, arriving from cherbourg, was the only person who could have taken it'], [19, 45, 'm. jack renauld arrived by train'], [19, 70, '“jack renauld was presumably acquainted with the planning out of the golf course'], [19, 79, 'since it was to jack renauld’s advantage that the body should be found without delay, why dig a grave at all'], [19, 88, 'jack renauld still stood in the hall, with a white dumb face, but as we came out of the  salon , he looked up sharply'], [19, 92, '“jack,” she faltered'], [19, 93, '“jack, what is this'], [19, 107, '“do you believe then, in spite of all appearances to the contrary, that jack renauld may not be guilty'], [19, 111, 'if jack renauld is guilty, it is in spite of giraud’s arguments, not  because  of them'], [20, 32, 'now supposing jack renauld to appear'], [20, 35, 'jack renauld consents—goes to the house and has an interview with his mother, winning her over to his point of view'], [20, 95, '“telegram sent to jack renauld, bidding him proceed by the  anzora to buenos ayres'], [20, 124, 'later you observed me measuring the overcoat of m. jack renauld'], [20, 125, 'eh bien , m. jack renauld wears his overcoat very short'], [20, 126, 'put those two facts together with a third, namely that m. jack renauld flung out of the house in a hurry on his departure for paris, and tell me what you make of it'], [20, 128, '“that letter was written to jack renauld—not to his father'], [20, 143, '“so jack renauld says, but he cannot produce them'], [20, 168, 'remember the fragment of cheque, and the fact that the name bella duveen was faintly familiar to stonor, and i think we may take it for granted that bella duveen is the full name of jack’s unknown correspondent, and that it was she who came to the villa geneviève that night'], [20, 169, 'whether she intended to see jack, or whether she meant all along to appeal to his father we cannot be certain, but i think we may assume that this is what occurred'], [20, 170, 'she produced her claim upon jack, probably showed letters that he had written her, and the older man tried to buy her off by writing a cheque'], [20, 230, 'since we are satisfied that was georges conneau who dictated the lie to her, and as georges conneau is not jack renauld, follows that the third case is put out of court'], [21, 20, 'jack renauld falls in love with the beautiful girl he sees almost daily, and wishes to marry her'], [21, 23, 'jack renauld knows nothing of his father’s past, but madame renauld knows everything'], [21, 40, 'jack renauld and the chauffeur (who had been with his master two years) must be got out of the way'], [21, 42, 'masters was sent off, a telegram despatched to jack, buenos ayres being selected to give credence to the story that renauld had decided upon'], [21, 92, 'it might just as easily have been a grey hair—and then, by no conceivable effort could giraud have persuaded himself it came from the head of jack renauld'], [21, 139, 'some one who was near the villa just before twelve o’clock that night, some one who would benefit by his death—the description fits jack renauld only too well'], [21, 146, '“certainly, and, since they were duplicates, it stands to reason that jack renauld was the owner'], [21, 150, 'like father, like son—jack renauld, when all is said or done, is the son of georges conneau'], [21, 167, 'jack renauld was a young man with plenty of money, and twenty years of age'], [21, 171, 'and he brought out the photograph i had seen him take from jack renauld’s drawer'], [22, 17, 'did he suspect her of having seen jack renauld commit the crime'], [22, 32, 'what kept her there—the hope of seeing jack renauld'], [22, 35, 'but to know that she must have seen jack'], [22, 37, 'had jack renauld, returning to see marthe daubreuil, come face to face instead with bella duveen, the girl he had heartlessly thrown over'], [22, 39, 'if that were indeed the case, it might furnish jack with the alibi he needed'], [22, 158, '“i don’t know whether you knew that jack renauld would be coming that night, or whether you just waited about on the chance of seeing him, but you did wait about'], [22, 168, 'you used a threat in one of your letters to jack renauld'], [22, 194, '“you think that i love jack renauld'], [23, 92, 'me, i preoccupy myself with jack renauld'], [23, 93, 'jack renauld'], [23, 96, 'jack renauld, in prison, with the shadow of the guillotine looming over him'], [23, 109, 'bella or jack renauld'], [23, 113, 'i remembered that no word of jack renauld’s arrest had passed my lips'], [23, 118, 'jack renauld might, and probably would, be acquitted without any intervention on her part'], [23, 128, 'and, at the same time, jack renauld must be saved'], [23, 135, 'and with bella unsuspected, and jack renauld acquitted, all would end satisfactorily'], [24, 0, ' we crossed from england by the evening boat, and the following morning saw us in saint-omer, whither jack renauld had been taken'], [24, 85, 'jack renauld is innocent'], [24, 113, '“then you do not believe that jack renauld committed the crime'], [24, 117, 'i admit that there have been one or two things in this business that have staggered me completely, but none the less, in spite of his fool way of taking it, i’ll never believe that jack renauld is a murderer'], [24, 136, 'it’s her show, and i’ve too much respect for her judgment to shove my oar in, but i can’t get behind this attitude of jack’s'], [24, 141, 'i continued, choosing my words carefully, “we know that the dagger could not have been in jack renauld’s possession that evening'], [24, 155, 'as to the dagger, your point hardly helps jack renauld'], [24, 158, '“well, i was employed in trying to find the firm jack renauld employed to convert his souvenirs'], [24, 179, 'i have no one to turn to, and at all costs jack must be saved'], [25, 0, ' we were present the following morning at the examination of jack renauld'], [25, 9, 'jack did not reply at once, then he said with a hesitancy of manner which was piteous: “i—i—told you that i was in cherbourg'], [25, 11, 'i realized at once that jack renauld was obstinately bent on conducting his own case as he wished, to the despair of his legal representative'], [25, 24, 'i knew m. jack renauld well'], [25, 29, 'the magistrate looked at jack renauld'], [25, 32, 'jack shrugged his shoulders'], [25, 40, 'but jack renauld had no consideration for the feelings of the wretched grosíer'], [25, 44, 'again maître grosíer burst out, and again jack overrode him'], [25, 48, 'it did, in very truth, seem as though jack was rushing on his fate'], [25, 53, 'it would not be easy to secure the acquittal of jack renauld, by anything short of the truth'], [25, 66, 'jack renauld had almost overdone his part'], [25, 69, 'jack’s pale face flushed'], [25, 100, 'on the other hand, now that i saw her without the fair wig she had worn on the stage, i recognized her as the girl of the photograph in jack renauld’s room'], [26, 10, 'she was just desperate about jack     renauld, she’d have lain down on the ground for him to walk on, and     when he began to change, and to stop writing so often, she began     getting in a state'], [26, 12, 'she’d made up her mind to go to their villa at     merlinville, and try and see jack'], [26, 32, 'i figured it out that bella had met papa renauld and told     him about her and jack, and that he’d insulted her or something     like that'], [26, 38, 'you know all     that … when i saw the dead man, looking so like jack, and wearing     jack’s fancy overcoat, i knew'], [26, 40, '—that jack had given bella'], [26, 70, '… if i had—     “as soon as the news was in the paper that jack renauld had been     arrested, it was all up'], [27, 0, ' “congratulations, m. jack,” said poirot, wringing the lad warmly by the hand'], [27, 12, '“he was a well meaning ass, i suppose,” said jack'], [27, 28, '“of course it’s horrible to me to think that bella killed my father,” resumed jack, “but i’d treated her shamefully'], [27, 40, '“no, no, m. jack'], [27, 77, 'stonor, at jack’s instance, agreed to stay behind and do all that could be done for bella duveen'], [27, 78, 'poirot, jack renauld and i set off in the renauld car'], [27, 80, 'as we approached the doorway of the villa marguerite, jack renauld shot a questioning glance at poirot'], [27, 84, 'jack renauld did not wait for more'], [27, 103, 'we will hope that mademoiselle bella will be dealt with leniently, and after all jack renauld cannot marry both the girls'], [27, 118, '“here are jack and marthe daubreuil,” i exclaimed, looking out of the window'], [27, 123, '“i know, i know,” said jack renauld'], [27, 138, '“mother,” cried jack, starting forward'], [27, 154, 'jack renauld, worn out with all he had already gone through, swayed and nearly fell'], [27, 161, 'my poor jack'], [27, 221, '“i should like to assure myself that all goes well with jack renauld'], [27, 229, '“i figure to myself that that is the room where we shall find jack renauld'], [27, 231, 'she explained that jack was much the same, but perhaps we would like to see for ourselves'], [27, 235, 'jack renauld was sleeping an uneasy fitful sleep, his head turning from side to side, and his face still unduly flushed'], [28, 42, '“remember jack renauld’s story'], [28, 58, 'remember how easily you overheard marthe’s conversation with jack renauld from that spot'], [28, 63, 'm. renauld was a millionaire several times over, and at his death (or so she and jack believed) half that vast fortune would pass to his son'], [28, 69, 'at present m. renauld stands inexorably in the way of her marriage with jack'], [28, 71, 'in fact, i doubt if she has ever cared a straw for jack renauld'], [28, 75, 'but with m. renauld dead, and jack the heir to half his millions, the marriage can take place at once, and at a stroke she will attain wealth—not the beggarly thousands that have been extracted from him so far'], [28, 80, 'jack renauld had  three  souvenirs made'], [28, 85, '“(4) marthe daubreuil was the only person, besides jack renauld, likely to have the third dagger in her possession'], [28, 90, 'it did not seem very likely that bella duveen would be wandering about carrying a souvenir paper-knife in her hand, but of course she might have had some idea all the time of revenging herself on jack renauld'], [28, 99, 'but if, by any chance, it was  not  her sister’s, but the one given by jack to marthe daubreuil—why then, bella duveen’s dagger would be still intact'], [28, 154, 'not on jack renauld’s behalf, for she did not know then that he had been in merlinville the previous evening'], [28, 155, '“by the way,” i exclaimed, “how is jack renauld'], [28, 164, '“has jack renauld been—told'], [28, 172, 'she set herself to fascinate jack, and she succeeded, but remember his curious reluctance to break with the other girl'], [28, 180, 'when at length the doctor pronounced jack renauld strong enough to hear the truth, it was poirot who broke it to him'], [28, 182, 'yet jack rallied better than i could have supposed possible'], [28, 186, 'poirot had acquainted mrs. renauld with the fact that he knew her secret, and had represented to her that jack should not be left in ignorance of his father’s past'], [28, 191, '“reassure yourself, m. jack'], [28, 203, 'a few days later jack renauld came to see us with a resolute expression on his face'], [28, 207, '“you go alone, m. jack'], [28, 211, 'jack flushed'], [28, 219, 'but jack’s face had hardened'], [28, 236, 'jack looked irresolute']]\n",
      "[[7, 145, '“mademoiselle daubreuil,” said m. hautet, sweeping off his hat, “we regret infinitely to disturb you, but the exigencies of the law—you comprehend'], [7, 176, '“marthe, dear'], [7, 184, '“i should prefer not to speak before mademoiselle daubreuil'], [7, 241, 'it was marthe daubreuil'], [7, 249, '“françoise told our amélie,” explained marthe, with a blush'], [7, 293, '“ah,  mon ami , do not set your heart on marthe daubreuil'], [11, 103, 'the subject of the quarrel was mademoiselle marthe daubreuil'], [11, 109, '“i love mademoiselle daubreuil, and i wish to marry her'], [11, 117, 'marthe is as good as she is beautiful'], [11, 119, '“i have nothing against mademoiselle daubreuil in any way'], [11, 125, '“when you informed your father of your intentions towards mademoiselle daubreuil,” he resumed, “he was surprised'], [11, 129, 'nettled, i demanded what he had against mademoiselle daubreuil'], [11, 131, 'i answered that i was marrying marthe, and not her antecedents, but he shouted me down with a peremptory refusal to discuss the matter in any way'], [11, 143, 'i wrote to marthe, telling her what had happened, and her reply soothed me still further'], [13, 19, '“yesterday it was mademoiselle daubreuil, today it is mademoiselle—cinderella'], [13, 23, 'mademoiselle daubreuil is a very beautiful girl, and i do admire her immensely—i don’t mind admitting it'], [13, 94, 'and thirdly, if you wish, endeavour to cut him out with mademoiselle marthe'], [13, 100, 'throw together a boy young renauld and a beautiful girl like mademoiselle marthe, and the result is almost inevitable'], [13, 108, 'that is how always think of mademoiselle daubreuil  as the girl with the anxious eyes'], [13, 194, 'a girl’s voice was speaking, a voice that i recognized as that of the beautiful marthe'], [13, 197, '“you know it, marthe,” jack renauld replied'], [15, 19, 'i do not know what put the idea into my head—possibly it was the deep anxiety underlying marthe daubreuil’s tones—but i asked suddenly: “young m. renauld—he did not leave by that train, did he'], [15, 28, 'that, then, was the reason of marthe’s poignant anxiety'], [15, 34, 'one thing was certain, marthe had known all along'], [17, 166, 'i came to see my fiancée, mademoiselle daubreuil'], [18, 19, '“with good fortune,” he remarked to me over his shoulder, “mademoiselle marthe may find herself in the garden'], [18, 25, '” i joined him at the moment that marthe daubreuil, looking slightly startled, came running up to the hedge at his call'], [18, 100, '“ maman ,” whispered marthe, “i must go'], [18, 107, 'unwittingly, mademoiselle marthe told us the truth on another point—and incidentally gave jack renauld the lie'], [18, 108, 'did you notice his hesitation when i asked him if he saw marthe daubreuil on the night of the crime'], [18, 111, 'it was necessary for me to see mademoiselle marthe before he could put her on her guard'], [18, 114, 'now, hastings, what was jack renauld doing here on that eventful evening, and if he did not see mademoiselle marthe whom did he see'], [20, 88, 'm. renauld quarrels with his son over latter’s wish to marry marthe daubreuil'], [20, 93, 'quarrel with tramp in garden, witnessed by marthe daubreuil'], [20, 134, '“may 23rd,” i read, “m. renauld quarrels with his son over latter’s wish to marry marthe daubreuil'], [22, 37, 'had jack renauld, returning to see marthe daubreuil, come face to face instead with bella duveen, the girl he had heartlessly thrown over'], [22, 42, 'did he fear for this former entanglement of his to come to the ears of marthe daubreuil'], [24, 181, '“marthe daubreuil'], [24, 187, 'marthe was at the door to meet us, and led poirot in, clinging with both hands to one of his'], [24, 200, 'marthe frowned'], [24, 219, 'marthe looked at him for a minute, then, letting her head fall forward on her arms, she burst into tears'], [24, 227, 'marthe listened spellbound'], [27, 1, 'young renauld had come to us as soon as he was liberated—before starting for merlinville to rejoin marthe and his mother'], [27, 29, 'after i met marthe, and realized i’d made a mistake, i ought to have written and told her so honestly'], [27, 30, 'but i was so terrified of a row, and of its coming to marthe’s ears, and her thinking there was more in it than there ever had been, that—well, i was a coward, and went on hoping the thing would die down of itself'], [27, 46, 'i came from cherbourg, as i told you, in order to see marthe before going to the other end of the world'], [27, 82, '“while you break it in person to mademoiselle marthe, eh?” finished poirot, with a twinkle'], [27, 118, '“here are jack and marthe daubreuil,” i exclaimed, looking out of the window'], [27, 127, '“but marthe and i'], [27, 156, '“he is overdone,” murmured poirot to marthe'], [27, 172, 'finally, having done all we could, we left him in the charge of marthe and her mother, and set out for the town'], [27, 227, 'thrown sharply on the blind was the profile of marthe daubreuil'], [27, 233, 'marthe daubreuil was embroidering by a table with a lamp on it'], [27, 260, 'poirot looked over his shoulder once at the lighted window and the profile of marthe as she bent over her work'], [27, 331, 'puzzled and uncomprehending, i knelt down, and lifting the fold of cloth, looked into the dead beautiful face of marthe daubreuil'], [28, 35, '“do you know, i actually dreamt that we found marthe daubreuil’s body in mrs. renauld’s room, and that you declared her to have murdered mr. renauld'], [28, 56, 'from marthe daubreuil’s own lips we have the admission that she overheard m. renauld’s quarrel with the tramp'], [28, 58, 'remember how easily you overheard marthe’s conversation with jack renauld from that spot'], [28, 59, '“but what possible motive could marthe have for murdering mr. renauld'], [28, 64, 'let us reconstruct the scene from the standpoint of marthe daubreuil'], [28, 65, '“marthe daubreuil overhears what passes between renauld and his wife'], [28, 70, 'if the latter defies his father, he will be a pauper—which is not at all to the mind of mademoiselle marthe'], [28, 79, 'and here comes in the second point which led me infallibly to marthe daubreuil—the dagger'], [28, 81, 'one he gave to his mother, one to bella duveen; was it not highly probable that he had given the third one to marthe daubreuil'], [28, 82, '“so then, to sum up, there were four points of note against marthe daubreuil: “(1) marthe daubreuil could have overheard m. renauld’s plans'], [28, 83, '“(2) marthe daubreuil had a direct interest in causing m. renauld’s death'], [28, 84, '“(3) marthe daubreuil was the daughter of the notorious madame beroldy who in my opinion was morally and virtually the murderess of her husband, although it may have been georges conneau’s hand which struck the actual blow'], [28, 85, '“(4) marthe daubreuil was the only person, besides jack renauld, likely to have the third dagger in her possession'], [28, 95, 'if it was  not  bella duveen, the only other person who could have committed the crime was marthe daubreuil'], [28, 99, 'but if, by any chance, it was  not  her sister’s, but the one given by jack to marthe daubreuil—why then, bella duveen’s dagger would be still intact'], [28, 102, '“in the meantime i had taken steps to force mademoiselle marthe into the open'], [28, 107, 'marthe daubreuil made a last bold bid for the renauld millions—and failed'], [28, 122, 'she had brains, that beautiful mademoiselle marthe'], [28, 127, 'on the floor by marthe daubreuil’s body, i found a pad and a little bottle of chloroform and a hypodermic syringe containing a fatal dose of morphine'], [28, 137, '“however, hastings, things did not go quite as mademoiselle marthe had planned'], [28, 141, 'there is a last chance for marthe daubreuil'], [28, 145, '“when did you first begin to suspect marthe daubreuil, poirot'], [28, 151, 'that is how i have thought of marthe daubreuil from the beginning'], [28, 169, 'so far we have looked upon bella duveen as a siren, and marthe daubreuil as the girl he really loved'], [28, 171, 'marthe daubreuil was very beautiful']]\n",
      "['she', 'was', 'afraid', 'said', 'm', 'hautet']\n",
      "['turned', 'to', 'her', 'dear', 'but', 'the']\n",
      "['to', 'speak', 'before', 'as', 'my', 'daughter']\n",
      "['us', 'it', 'was', 'i', 'beg', 'your']\n",
      "['our', 'amélie', 'explained', 'with', 'a', 'blush']\n",
      "['your', 'heart', 'on', 'she', 'is', 'not']\n",
      "['the', 'quarrel', 'was', 'renauld', 'sprang', 'round']\n",
      "['admitted', 'i', 'love', 'and', 'i', 'wish']\n",
      "['boy', 'you', 'too', 'is', 'as', 'good']\n",
      "['have', 'nothing', 'against', 'in', 'any', 'way']\n",
      "['your', 'intentions', 'towards', 'he', 'resumed', 'he']\n",
      "['he', 'had', 'against', 'to', 'that', 'he']\n",
      "['i', 'was', 'marrying', 'and', 'not', 'her']\n",
      "['i', 'wrote', 'to', 'telling', 'her', 'what']\n",
      "['yesterday', 'it', 'was', 'today', 'it', 'is']\n",
      "['to', 'rag', 'me', 'is', 'a', 'very']\n",
      "['him', 'out', 'with', 'but', 'i', 'fear']\n",
      "['beautiful', 'girl', 'like', 'and', 'the', 'result']\n",
      "['always', 'think', 'of', 'as', 'the', 'girl']\n",
      "['of', 'the', 'beautiful', 'chéri', 'she', 'was']\n",
      "['you', 'know', 'it', 'jack', 'renauld', 'replied']\n",
      "['deep', 'anxiety', 'underlying', 's', 'tones—but', 'i']\n",
      "['the', 'reason', 'of', 's', 'poignant', 'anxiety']\n",
      "['thing', 'was', 'certain', 'had', 'known', 'all']\n",
      "['see', 'my', 'fiancée', 'i', 'was', 'on']\n",
      "['over', 'his', 'shoulder', 'may', 'find', 'herself']\n",
      "['the', 'moment', 'that', 'looking', 'slightly', 'startled']\n",
      "['house', 'maman', 'whispered', 'i', 'must', 'go']\n",
      "['absolute', 'truth', 'unwittingly', 'told', 'us', 'the']\n",
      "['if', 'he', 'saw', 'on', 'the', 'night']\n",
      "['me', 'to', 'see', 'before', 'he', 'could']\n",
      "['did', 'not', 'see', 'whom', 'did', 'he']\n",
      "['wish', 'to', 'marry', 'son', 'leaves', 'for']\n",
      "['garden', 'witnessed', 'by', 'letter', 'written', 'to']\n",
      "['wish', 'to', 'marry', 'son', 'leaves', 'for']\n",
      "['returning', 'to', 'see', 'come', 'face', 'to']\n",
      "['the', 'ears', 'of', 'i', 'shook', 'my']\n",
      "['to', 'help', 'us', 'i', 'handed', 'it']\n",
      "['the', 'villa', 'marguerite', 'was', 'at', 'the']\n",
      "['poirot', 'watching', 'her', 'frowned', 'screening', 'some']\n",
      "['s', 'real', 'name', 'looked', 'at', 'him']\n",
      "['departure', 'for', 'england', 'listened', 'spellbound', 'when']\n",
      "['merlinville', 'to', 'rejoin', 'and', 'his', 'mother']\n",
      "['after', 'i', 'met', 'and', 'realized', 'i']\n",
      "['its', 'coming', 'to', 's', 'ears', 'and']\n",
      "['order', 'to', 'see', 'before', 'going', 'to']\n",
      "['in', 'person', 'to', 'eh', 'finished', 'poirot']\n",
      "['are', 'jack', 'and', 'i', 'exclaimed', 'looking']\n",
      "['better', 'not', 'but', 'and', 'i', 'in']\n",
      "['murmured', 'poirot', 'to', 'where', 'can', 'we']\n",
      "['the', 'charge', 'of', 'and', 'her', 'mother']\n",
      "['the', 'profile', 'of', 'ah', 'said', 'poirot']\n",
      "['into', 'the', 'bedroom', 'was', 'embroidering', 'by']\n",
      "['the', 'profile', 'of', 'as', 'she', 'bent']\n",
      "['beautiful', 'face', 'of', '', 'i', 'have']\n",
      "['that', 'we', 'found', 's', 'body', 'in']\n",
      "['them', 'yes', 'from', 's', 'own', 'lips']\n",
      "['easily', 'you', 'overheard', 's', 'conversation', 'with']\n",
      "['possible', 'motive', 'could', 'have', 'for', 'murdering']\n",
      "['the', 'standpoint', 'of', 'marthe', 'daubreuil', 'overhears']\n",
      "['of', 'marthe', 'daubreuil', 'overhears', 'what', 'passes']\n",
      "['the', 'mind', 'of', 'in', 'fact', 'i']\n",
      "['me', 'infallibly', 'to', 'the', 'dagger', 'jack']\n",
      "['third', 'one', 'to', 'so', 'then', 'to']\n",
      "['of', 'note', 'against', '(1)', 'marthe', 'daubreuil']\n",
      "['marthe', 'daubreuil', '(1)', 'could', 'have', 'overheard']\n",
      "['s', 'plans', '(2)', 'had', 'a', 'direct']\n",
      "['s', 'death', '(3)', 'was', 'the', 'daughter']\n",
      "['actual', 'blow', '(4)', 'was', 'the', 'only']\n",
      "['the', 'crime', 'was', 'but', 'i', 'had']\n",
      "['by', 'jack', 'to', 'why', 'then', 'bella']\n",
      "['steps', 'to', 'force', 'into', 'the', 'open']\n",
      "['as', 'i', 'thought', 'made', 'a', 'last']\n",
      "['brains', 'that', 'beautiful', 'and', 'her', 'object']\n",
      "['the', 'floor', 'by', 's', 'body', 'i']\n",
      "['go', 'quite', 'as', 'had', 'planned', 'to']\n",
      "['last', 'chance', 'for', 'the', 'idea', 'of']\n",
      "['begin', 'to', 'suspect', 'poirot', 'when', 'she']\n",
      "['have', 'thought', 'of', 'from', 'the', 'beginning']\n",
      "['a', 'siren', 'and', 'as', 'the', 'girl']\n",
      "['to', 'the', 'truth', 'was', 'very', 'beautiful']\n",
      "81\n"
     ]
    }
   ],
   "source": [
    "#Author: Luke\n",
    "#Description: demo of code for answering questions/book 1 code\n",
    "  \n",
    "det=get_det(1)\n",
    "perp=get_perp(1)\n",
    "crime=get_crime(1)\n",
    "sus=get_sus(1)\n",
    "det_occur=get_occur(1,det)\n",
    "perp_occur=get_occur(1,perp)\n",
    "co=get_co_occur(1,det,perp)\n",
    "crime=get_occur(1,crime)\n",
    "sus_occur=get_occur(1,sus)\n",
    "print(det_occur)\n",
    "print(perp_occur)\n",
    "print(co)\n",
    "print(crime)\n",
    "print(sus_occur)\n",
    "print(perp_occur)\n",
    "perp_neighbors=get_3words(1,perp)\n",
    "for n in perp_neighbors:\n",
    "  print(n)\n",
    "print(len(perp_neighbors))"
   ]
  },
  {
   "cell_type": "markdown",
   "metadata": {
    "id": "3ovkF0EC1VdA"
   },
   "source": [
    "\n",
    "\n",
    "#####  The Mysterious Affair at Styles\n"
   ]
  },
  {
   "cell_type": "code",
   "execution_count": 13,
   "metadata": {
    "colab": {
     "base_uri": "https://localhost:8080/"
    },
    "id": "In2U5yHBp_K9",
    "outputId": "43f7efc0-4e72-41aa-8a8e-3ec8776ffa7c"
   },
   "outputs": [
    {
     "name": "stdout",
     "output_type": "stream",
     "text": [
      "[[1, 1, 'nevertheless, in view of the world-wide notoriety which attended it, i have been asked, both by my friend poirot and the family themselves, to write an account of the whole story'], [1, 31, '“i can tell you, hastings, it’s making life jolly difficult for us'], [1, 63, 'as we turned in at the lodge gates, john said: “i’m afraid you’ll find it very quiet down here, hastings'], [1, 82, 'mr. hastings—miss howard'], [1, 105, '“my wife, hastings,” said john'], [1, 124, '“why, if it isn’t too delightful to see you again, mr. hastings, after all these years'], [1, 125, 'alfred, darling, mr. hastings—my husband'], [1, 133, 'he placed a wooden hand in mine and said: “this is a pleasure, mr. hastings'], [1, 144, 'presently mrs. inglethorp turned to give some instructions about letters to evelyn howard, and her husband addressed me in his painstaking voice: “is soldiering your regular profession, mr. hastings'], [1, 195, 'this is mr. hastings—miss murdoch'], [1, 212, 'sisters  are , you know, mr. hastings'], [1, 288, '“mr. hastings, you’re honest'], [1, 292, '“look after her, mr. hastings'], [1, 308, '“above all, mr. hastings, watch that devil—her husband'], [1, 322, '“come for a stroll, hastings'], [1, 340, '“my dear hastings, i don’t mind telling you that i’m at my wits’ end for money'], [2, 80, '“ mon ami  hastings!” he cried'], [2, 81, '“it is indeed  mon ami  hastings'], [2, 82, '“poirot'], [2, 86, 'this is my old friend, monsieur poirot, whom i have not seen for years'], [2, 87, '“oh, we know monsieur poirot,” said cynthia gaily'], [2, 89, '“yes, indeed,” said poirot seriously'], [2, 94, 'poirot was an extraordinary looking little man'], [2, 107, 'and, for the rest of the way home, i recited to them the various exploits and triumphs of hercule poirot'], [3, 175, '“you remember my speaking of my friend poirot'], [3, 192, '“i’m inclined to give hastings a free hand, though i should prefer to wait a bit'], [3, 195, 'poirot is discretion itself'], [4, 29, 'a window above me was cautiously opened, and poirot himself looked out'], [4, 38, 'poirot smiled kindly on me'], [4, 49, 'poirot shook his head energetically'], [4, 69, 'poirot shook his forefinger so fiercely at me that i quailed before it'], [4, 98, '“yes,” said poirot thoughtfully, “it was only natural'], [4, 108, 'poirot stopped for a moment, and gazed sorrowfully over the beautiful expanse of park, still glittering with morning dew'], [4, 116, 'poirot seemed to follow my thoughts'], [4, 121, '“poirot,” i said, “i wish you would tell me why you wanted to know if mrs. inglethorp ate well last night'], [4, 140, '“this is a very dreadful business, monsieur poirot,” he said'], [4, 141, '“hastings has explained to you that we are anxious for no publicity'], [4, 151, 'john flung the match into an adjacent flower bed, a proceeding which was too much for poirot’s feelings'], [4, 154, '“that difficulty will not exist long,” pronounced poirot quietly'], [4, 157, '“show monsieur poirot everything he wants to see'], [4, 158, '“the rooms are locked?” asked poirot'], [4, 160, 'poirot nodded thoughtfully'], [4, 165, '[illustration] poirot locked the door on the inside, and proceeded to a minute inspection of the room'], [4, 168, 'poirot, however, did not seem grateful to me for my forbearance'], [4, 180, '” cried poirot'], [4, 197, 'poirot delicately dipped his finger into liquid, and tasted it gingerly'], [4, 202, '“ah, this is curious,” said poirot'], [4, 208, '“exactly,” said poirot, in an odd voice'], [4, 250, '“that is interesting,” said poirot quickly'], [4, 258, '“no,” said poirot thoughtfully'], [4, 267, '“the forceps, hastings'], [4, 276, '“poirot'], [4, 291, '“now, my friend,” said poirot briskly, “we will go'], [4, 293, 'we passed through alfred inglethorp’s room, and poirot delayed long enough to make a brief but fairly comprehensive examination of it'], [4, 297, '“poirot,” i cried, “where are you'], [4, 319, 'in her attitude towards poirot, she was inclined to be suspicious, but he soon broke down her defences'], [4, 336, 'poirot looked at her keenly'], [4, 344, 'poirot waited for her indignation to subside, and then, resuming his business-like tone, he asked: “now, as to this quarrel'], [4, 398, 'poirot smiled'], [4, 420, 'poirot’s face did not betray a trace of whether he was disappointed or otherwise'], [4, 433, '“when mr. hastings and mr. lawrence came in yesterday evening, they found your mistress busy writing letters'], [4, 440, 'poirot lifted his hand'], [4, 484, 'i was becoming quite excited, but poirot damped my ardour by remarking: “yet the explanation is quite simple'], [4, 488, 'poirot came to the point at once, with a business-like briskness'], [4, 496, '“think,” urged poirot'], [4, 500, '“it does not matter,” said poirot, not betraying any sign of disappointment'], [4, 531, '“what makes you think there was salt in it?” asked poirot'], [4, 542, 'i marvelled at poirot’s calm'], [4, 563, 'then poirot repeated the question he had put to dorcas: “did your mistress ever have a green dress'], [4, 578, '“poirot,” i cried, “i congratulate you'], [4, 584, '“so you think that the cocoa—mark well what i say, hastings, the cocoa —contained strychnine'], [4, 587, '“it might have been salt,” replied poirot placidly'], [4, 590, 'the idea crossed my mind, not for the first time, that poor old poirot was growing old'], [4, 592, 'poirot was surveying me with quietly twinkling eyes'], [4, 594, '” “my dear poirot,” i said coldly, “it is not for me to dictate to you'], [4, 596, '“a most admirable sentiment,” remarked poirot, rising briskly to his feet'], [4, 609, 'a “man of method” was, in poirot’s estimation, the highest praise that could be bestowed on any individual'], [5, 1, 'i asked poirot, in lively curiosity'], [5, 6, 'poirot shrugged his shoulders'], [5, 12, 'i was about to expound these theories to poirot, when his own words distracted me'], [5, 14, '“my dear poirot'], [5, 17, 'that miserable cocoa!” cried poirot flippantly'], [5, 20, 'poirot was sobered at once'], [5, 27, 'poirot made me recapitulate the scene of the night before, listening very carefully, and verifying the position of the various cups'], [5, 54, 'after all, though he was old, poirot had been a great man in his day'], [5, 56, '“you will breakfast with us, monsieur poirot'], [5, 57, 'poirot acquiesced'], [5, 65, '“i think, mr. cavendish,” said poirot gravely, “that you would do well not to buoy yourself up with any false hopes'], [5, 70, 'that is very interesting—very interesting,” murmured poirot softly'], [5, 76, 'poirot bent his head'], [5, 79, 'poirot nodded sympathetically'], [5, 91, 'poirot held up his hand with a faint smile'], [5, 100, '“do not worry,” said poirot smoothly'], [5, 125, '“have another cup of coffee, mademoiselle?” said poirot solicitously'], [5, 134, '” murmured poirot to himself, as he brought back the replenished cup'], [5, 148, 'john strode on ahead and i took the opportunity of whispering to poirot: “there will be an inquest then'], [5, 149, 'poirot nodded absently'], [5, 190, '“can you give us no help in solving it, monsieur?” interposed poirot, speaking for the first time since we had entered the room'], [5, 199, '“a great pity,” agreed poirot gravely'], [5, 201, 'poirot remained lost in thought for a few minutes'], [5, 215, 'poirot nodded thoughtfully'], [5, 219, '“as i was about to proceed, monsieur poirot, that document is now null and void'], [5, 221, '” said poirot'], [5, 233, '“suppose,” suggested poirot, “that, unknown to you, she had made a new will in favour of someone who was not, in any sense of the word, a member of the family—we will say miss howard, for instance—would you be surprised'], [5, 236, 'poirot seemed to have exhausted his questions'], [5, 240, 'poirot smiled'], [5, 244, 'john cavendish had turned to poirot'], [5, 245, '“will you come with us, monsieur poirot'], [5, 255, 'it was poirot who spoke'], [5, 271, 'poirot turned to john'], [5, 274, 'poirot raised his hand'], [5, 284, 'poirot alone seemed perfectly at his ease, and dusted a forgotten corner of the bookcase'], [5, 286, 'john looked questioningly at poirot'], [5, 294, 'poirot stepped forward briskly'], [5, 311, '“did you see anything of what was written above her signature?” asked poirot sharply'], [5, 323, '“thank you, manning, that will do,” said poirot pleasantly'], [5, 341, 'monsieur poirot, i am sure you agree with me that the facts are very suggestive'], [5, 342, '“suggestive, or not,” interrupted john, “we are most grateful to monsieur poirot for elucidating the matter'], [5, 345, 'poirot smiled and answered: “a scribbled over old envelope, and a freshly planted bed of begonias'], [5, 350, 'poirot looked inquiringly at me'], [5, 353, 'there is a woman with a head and a heart too, hastings'], [5, 373, '“look after her, hastings, will you'], [5, 375, 'oh, here’s monsieur poirot'], [5, 377, 'miss howard shook hands with poirot, but glanced suspiciously over her shoulder at john'], [5, 422, 'as she left the room, poirot came over from the window where he had been standing, and sat down facing miss howard'], [5, 429, '“we are at one then,” said poirot, “for i, too, want to hang the criminal'], [5, 438, '“believe me, miss howard,” said poirot very earnestly, “if mr. inglethorp is the man, he shall not escape me'], [5, 465, 'poirot nodded sympathetically'], [5, 476, '“you’ve got the keys still, haven’t you, poirot'], [5, 478, 'taking the keys from poirot, john unlocked it, and we all passed in'], [5, 481, 'poirot drew out the small bunch of keys'], [5, 489, '” cried poirot, dumbfounded'], [5, 496, 'poirot laid down the case again'], [5, 502, 'poirot answered them categorically—almost mechanically'], [5, 512, 'poirot had walked over to the mantelpiece'], [5, 521, '“ah!” cried poirot, with a gesture of anger'], [5, 537, '“what has happened to your extraordinary little friend, mr. hastings'], [5, 540, 'i really did not know how much poirot would wish me to disclose'], [5, 570, 'i could hear poirot shouting and expounding'], [5, 575, 'the sight of me calmed poirot almost immediately'], [5, 580, '“you think so, hastings'], [5, 593, 'cynthia murdoch was just coming in, and poirot stood aside to let her pass'], [5, 601, 'poirot produced the empty box which had contained powders'], [5, 615, 'i privately thought that poirot was rather too much given to these fantastic ideas'], [5, 620, 'poirot did not appear to be listening to me'], [5, 633, 'poirot smiled'], [5, 665, 'poirot looked at me curiously'], [5, 669, '“on the contrary,” said poirot quietly, “there are several points in his favour'], [5, 683, 'poirot shrugged his shoulders'], [5, 688, '“we do not agree, eh?” said poirot'], [5, 706, 'poirot shook his head'], [5, 713, '“poirot, is that seriously your opinion'], [5, 723, 'a groan burst from poirot'], [5, 729, 'we had reached leastways cottage, and poirot ushered me upstairs to his own room'], [5, 733, 'poirot had placed our two chairs in front of the open window which commanded a view of the village street'], [5, 738, '“look, poirot'], [5, 746, '“a little minute,” cried poirot from the window'], [5, 750, '“oh, mr. poirot, i’m sorry for the inconvenience, but i heard that you’d just come back from the hall'], [5, 757, 'poirot’s face remained quite impassive'], [5, 761, 'he clutched poirot by the arm, and sank his voice to a whisper: “just tell me this, mr. poirot, it isn’t—it isn’t strychnine, is it'], [5, 762, 'i hardly heard what poirot replied'], [5, 764, 'the young man departed, and as he closed the door poirot’s eyes met mine'], [5, 768, 'i was opening my lips, when poirot stopped me with a gesture of his hand'], [5, 781, 'me , hercule poirot'], [5, 788, '“poirot, you’re pulling my leg'], [5, 796, '“poirot, i cannot believe you are serious'], [5, 818, 'i endeavoured to interrupt, but poirot swept on'], [5, 819, '“let me tell you this, hastings'], [6, 0, ' in the interval before the inquest, poirot was unfailing in his activity'], [6, 31, 'on one point, poirot seemed to have a curious obsession'], [6, 37, 'poirot and i sat together, not being required to give evidence'], [6, 66, 'i heard poirot chuckle softly beside me'], [6, 120, 'dorcas’s evidence on this point was substantially what poirot and i had already heard, so i will not repeat it here'], [6, 139, 'this was news to me and glancing sideways at poirot, i fancied that it was news to him as well'], [6, 185, 'poirot and i had, of course already seen it'], [6, 277, 'poirot was fidgeting nervously'], [6, 283, 'the coroner, however, passed briskly to the next point, and poirot drew a deep breath of relief'], [6, 296, 'i looked at poirot'], [6, 307, '“ah!” murmured poirot to himself'], [6, 321, 'at that point, poirot nudged me gently, indicating two men who were sitting together near the door'], [6, 323, 'i questioned poirot mutely'], [7, 0, ' as we came out of the stylites arms, poirot drew me aside by a gentle pressure of the arm'], [7, 3, 'in a few moments, they emerged, and poirot at once stepped forward, and accosted the shorter of the two'], [7, 5, '“why, if it isn’t mr. poirot!” cried the inspector'], [7, 7, '“you’ve heard me speak of mr. poirot'], [7, 13, 'but we nailed him in antwerp—thanks to mr. poirot here'], [7, 15, '“i need hardly ask what you are doing here, gentlemen,” remarked poirot'], [7, 19, 'but poirot answered gravely: “there i differ from you'], [7, 24, 'but japp was looking attentively at poirot'], [7, 29, 'poirot smiled'], [7, 31, 'summerhaye was still looking rather sceptical, but japp continued his scrutiny of poirot'], [7, 34, 'a lot depends on being on the spot first thing, and that’s where mr. poirot’s had the start of us'], [7, 40, '“perhaps, though, you have a warrant for his arrest in your pocket now,” suggested poirot'], [7, 43, 'poirot looked at him thoughtfully'], [7, 46, 'japp was regarding poirot with comical perplexity'], [7, 47, '“can’t you go a little further, mr. poirot'], [7, 50, 'poirot nodded gravely'], [7, 59, 'i could only conclude that poirot was mad'], [7, 61, '“i daren’t do it, mr. poirot'], [7, 64, 'poirot reflected a moment'], [7, 70, 'that i have sworn, as my friend hastings here knows'], [7, 83, '“well, my friend,” cried poirot, before i could get in a word, “what do you think'], [7, 90, '“why, in a thousand ingenious ways,” cried poirot'], [7, 94, '“my dear poirot, i am sure you are capable of thinking of seventy'], [7, 101, '“yes, yes, too conclusive,” continued poirot, almost to himself'], [7, 110, 'and in a minute or two, poirot continued: “let us look at the matter like this'], [7, 127, 'me —hercule poirot'], [7, 143, 'but poirot cut me short ruthlessly'], [7, 158, '“it may be so,” i said, fascinated by poirot’s eloquence'], [7, 160, '“ah, why indeed?” said poirot, calming down'], [7, 166, 'i mused, won over to poirot’s views for the moment, although still retaining a faint conviction that the obvious deduction was the correct one'], [7, 167, '“can you not guess?” asked poirot, smiling'], [7, 171, 'poirot spread out his hands apologetically'], [7, 176, 'poirot, who was watching me intently, gave a sigh'], [7, 196, 'poirot nodded'], [7, 205, '“then there is mrs. cavendish,” continued poirot'], [7, 211, 'poirot nodded reflectively'], [7, 222, '“yes, a good deal that was peculiar came out to-day,” continued poirot'], [7, 226, '“which is a very good, or a very bad explanation,” remarked poirot'], [7, 231, '“ mon ami ,” replied poirot gravely, “when you find that people are not telling you the truth—look out'], [7, 233, '“oh, come now, poirot'], [7, 240, 'still, i had a great respect for poirot’s sagacity—except on the occasions when he was what i described to myself as “foolishly pig-headed'], [7, 244, 'poirot gave me a curious look, which i could not quite fathom'], [7, 254, 'poirot seized his hat, gave a ferocious twist to his moustache, and, carefully brushing an imaginary speck of dust from his sleeve, motioned me to precede him down the stairs; there we joined the detectives and set out for styles'], [7, 257, 'poirot had conferred with japp in a low tone on the way up, and it was the latter functionary who requested that the household, with the exception of the servants, should be assembled together in the drawing-room'], [7, 259, 'it was up to poirot to make his boast good'], [7, 261, 'poirot might have excellent reasons for his belief in inglethorp’s innocence, but a man of the type of summerhaye would require tangible proofs, and these i doubted if poirot could supply'], [7, 263, 'poirot politely set chairs for everyone'], [7, 271, 'the well-known glib phraseology passed rapidly through my mind in the interval before poirot opened the proceedings'], [7, 273, '“ mesdames  and  messieurs ,” said poirot, bowing as though he were a celebrity about to deliver a lecture, “i have asked you to come here all together, for a certain object'], [7, 275, 'inglethorp was sitting a little by himself—i think, unconsciously, everyone had drawn his chair slightly away from him—and he gave a faint start as poirot pronounced his name'], [7, 276, '“mr. inglethorp,” said poirot, addressing him directly, “a very dark shadow is resting on this house—the shadow of murder'], [7, 281, '“i do not think, monsieur,” said poirot pointedly, “that you quite realize how terrible it may be—for you'], [7, 285, 'poirot went on'], [7, 289, '“i mean,” said poirot deliberately, “that you are suspected of poisoning your wife'], [7, 294, '“i do not think”—poirot watched him narrowly—“that you quite realize the unfavourable nature of your evidence at the inquest'], [7, 297, 'poirot approached and stood over him'], [7, 304, 'poirot nodded thoughtfully, like a man whose mind is made up'], [7, 313, 'poirot turned to face us'], [7, 317, 'i, hercule poirot, affirm that the man who entered the chemist’s shop, and purchased strychnine at six o’clock on monday last was not mr. inglethorp, for at six o’clock on that day mr. inglethorp was escorting mrs. raikes back to her home from a neighbouring farm'], [8, 3, 'and no mistake, mr. poirot'], [8, 15, '“i will tell you why,” interrupted poirot'], [8, 25, 'and, if it hadn’t been for mr. poirot here, arrested you would have been, as sure as eggs is eggs'], [8, 31, 'mr. poirot, here, will show me the way'], [8, 32, 'as they all went out of the room, poirot turned and made me a sign to follow him upstairs'], [8, 49, 'it must have been quite twenty minutes before poirot rejoined me'], [8, 63, 'i made but a slight gesture”—i know poirot’s gestures—“with the left hand, and over went the table by the bed'], [8, 79, 'i believe you’re right about that man, poirot'], [8, 81, '“he is clever,” observed poirot meditatively'], [8, 92, 'poirot caught me violently by the shoulders'], [8, 100, '“my dear poirot,” i expostulated, “i never thought it would interest you'], [8, 105, 'hastings, do you not see'], [8, 115, 'poirot went straight to him'], [8, 124, '“now, poirot,” i remarked resignedly, “perhaps you will tell me what all this is about'], [8, 139, '“in clearing alfred inglethorp,” continued poirot, “i have been obliged to show my hand sooner than i intended'], [8, 144, '“tell me, hastings, you yourself—have you no suspicions of anybody'], [8, 150, '“come now,” urged poirot encouragingly'], [8, 163, '“yes, my friend,” said poirot unexpectedly, “we can'], [8, 179, 'poirot shook his head energetically'], [8, 194, 'tcha!” cried poirot irritably'], [8, 207, 'poirot shook his head'], [8, 209, 'poirot smiled'], [8, 215, 'but poirot’s shake of the head was so energetic that i stopped'], [8, 223, 'poirot looked puzzled'], [8, 229, '“by the way, hastings, there is something i want you to do for me'], [8, 233, '‘i have a message for you, from poirot'], [8, 246, 'we were running into tadminster now, and poirot directed the car to the “analytical chemist'], [8, 247, 'poirot hopped down briskly, and went inside'], [8, 259, '“i know dr. bauerstein had it tested,” replied poirot quietly'], [8, 263, 'this proceeding of poirot’s, in respect of the cocoa, puzzled me intensely'], [8, 267, '“and really it’s a great relief to think he’s going, hastings,” continued my honest friend'], [8, 320, 'i thought i might as well go down to the village at once, and look up poirot; but i met him half-way, coming up to the house, and at once gave him dorcas’s message'], [8, 326, 'poirot bundled everything out on the floor with scant ceremony'], [8, 327, 'there were one or two green fabrics of varying shades; but poirot shook his head over them all'], [8, 334, '” said poirot'], [8, 341, 'poirot wished her good morning with gallic politeness, and went on: “we have been looking through that chest, dorcas'], [8, 356, '“these evenings must have been great fun,” said poirot genially'], [8, 366, '“so dorcas knows nothing about that black beard,” said poirot thoughtfully, as we walked out into the hall again'], [8, 369, 'poirot nodded'], [8, 375, 'hastings, this affair is very deep'], [8, 377, '“someone with a good deal of intelligence,” remarked poirot dryly'], [8, 385, 'there had been times when i hardly thought that poirot appreciated me at my true worth'], [8, 387, 'this was naturally gratifying, but poirot’s next words were not so welcome'], [8, 392, 'poirot hurried to explain himself'], [8, 400, '“here comes miss howard,” said poirot suddenly'], [8, 404, 'with a nod that was barely civil, miss howard assented to poirot’s request for a few minutes’ conversation'], [8, 405, 'we went into the little morning-room, and poirot closed the door'], [8, 406, '“well, monsieur poirot,” said miss howard impatiently, “what is it'], [8, 414, 'poirot studied her seriously'], [8, 425, '“that is arsenic—not strychnine,” said poirot mildly'], [8, 430, 'if  you are convinced he did it,” said poirot quietly'], [8, 437, '“exactly,” said poirot'], [8, 448, '“no,” said poirot curtly'], [8, 466, '“i am right, am i not?” asked poirot'], [8, 470, 'poirot shook his head gravely'], [8, 474, 'poirot nodded, as if satisfied'], [8, 491, '“if we are wrong, well and good,” said poirot'], [8, 501, '“miss howard,” said poirot gravely, “this is unworthy of you'], [8, 509, '“there,” said poirot, looking after her, “goes a very valuable ally'], [8, 510, 'that woman, hastings, has got brains as well as a heart'], [8, 512, '“instinct is a marvellous thing,” mused poirot'], [8, 520, 'poirot studied me attentively for a moment or two'], [8, 531, 'poirot looked at me very earnestly, and again shook his head'], [8, 534, '“the two often go together,” said poirot enigmatically'], [8, 536, 'but i decided that if i made any interesting and important discoveries—as no doubt i should—i would keep them to myself, and surprise poirot with the ultimate result'], [9, 0, ' i had had no opportunity as yet of passing on poirot’s message to lawrence'], [9, 3, 'otherwise, poirot himself might relieve me of it'], [9, 9, 'the truth is, i’ve got a message for you—from poirot'], [9, 31, 'you’re not a connoisseur, are you, hastings'], [9, 35, '“well, what am i to tell poirot'], [9, 49, 'poirot had been asked by john to remain to lunch, and was already seated at the table'], [9, 52, 'but after the cheese and biscuits had been handed round, and dorcas had left the room, poirot suddenly leant forward to mrs. cavendish'], [9, 53, '“pardon me, madame, for recalling unpleasant memories, but i have a little idea”—poirot’s “little ideas” were becoming a perfect byword—“and would like to ask one or two questions'], [9, 63, '“i mean,” explained poirot, “you are sure it was bolted, and not merely locked'], [9, 77, 'and poirot looked crestfallen'], [9, 79, 'after lunch poirot begged me to accompany him home'], [9, 94, 'i had expected poirot to be disappointed; but, to my surprise, he replied that that was as he had thought, and that he was very glad'], [9, 96, 'poirot switched off on another tack'], [9, 126, 'poirot shrugged his shoulders'], [9, 139, 'i even forgave poirot for his absurd secrecy'], [9, 195, '“hullo, hastings'], [9, 221, 'john lowered his voice: “have you ever thought, hastings—it’s a nightmare to me—who did it'], [9, 230, 'poirot’s mysterious doings, his hints—they all fitted in'], [9, 243, '“that i don’t see,” i confessed, “but i’ll tell you this: poirot thinks so'], [9, 244, '“poirot'], [9, 247, 'i told him of poirot’s intense excitement on hearing that dr. bauerstein had been at styles on the fatal night, and added: “he said twice: ‘that alters everything'], [9, 261, 'and i then told him of the cocoa sample which poirot had taken to be analysed'], [9, 270, 'but no one would dream of suspecting bauerstein, or think of taking another sample—except poirot,” i added, with belated recognition'], [9, 295, 'then i remembered that enigmatical conversation between poirot and evelyn howard'], [9, 324, 'cynthia was back from the hospital, and i placed my chair beside her, and told her of poirot’s wish to visit the dispensary'], [9, 335, 'we were silent for a minute or two, and then, glancing in the direction of mary cavendish, and dropping her voice, cynthia said: “mr. hastings'], [9, 359, '“mr. hastings—you are always so kind, and you know such a lot'], [9, 421, 'i remembered how poirot had relied on my diplomacy'], [9, 439, 'i waited to hear no more, but tore up the village to find poirot'], [10, 0, ' to my extreme annoyance, poirot was not in, and the old belgian who answered my knock informed me that he believed he had gone to london'], [10, 2, 'what on earth could poirot be doing in london'], [10, 5, 'with poirot away, i was uncertain how to act'], [10, 18, 'if only poirot had been accessible, i could have asked his advice'], [10, 21, 'i would never have dreamt of suspecting the doctor, had not poirot put it into my head'], [10, 39, 'after breakfast, i decided to go down to the village, and see if poirot had returned yet; but, before i could start, a well-known face blocked one of the windows, and the well-known voice said: “ bonjour, mon ami'], [10, 40, '” “poirot,” i exclaimed, with relief, and seizing him by both hands, i dragged him into the room'], [10, 44, '“my friend,” replied poirot, “i do not know what you are talking about'], [10, 54, 'poirot shrugged his shoulders'], [10, 58, '“nothing at all, of course,” replied poirot, smiling'], [10, 61, '“what?” cried poirot, in apparently lively astonishment'], [10, 75, '“not unless our friend japp has taken leave of his senses,” replied poirot placidly'], [10, 77, 'poirot gave me one look, which conveyed a wondering pity, and his full sense of the utter absurdity of such an idea'], [10, 79, 'poirot nodded'], [10, 84, '“he is, of course, a german by birth,” said poirot thoughtfully, “though he has practised so long in this country that nobody thinks of him as anything but an englishman'], [10, 93, 'but i could not look at it in poirot’s philosophical way'], [10, 97, 'i should fancy he had found her very useful,” remarked poirot'], [10, 101, '“that, of course, i cannot say, but—shall i tell you my own private opinion, hastings'], [10, 115, 'this she handed to poirot, murmuring as she did so the cryptic words: “on top of the wardrobe'], [10, 117, 'poirot unfolded the sheet of paper eagerly, and uttered an exclamation of satisfaction'], [10, 119, '“come here, hastings'], [10, 122, 'but it was the label that was attracting poirot’s attention'], [10, 128, '“it certainly isn’t a j.” “good,” replied poirot, folding up the paper again'], [10, 138, '“she meant,” replied poirot promptly, “that she found it on top of a wardrobe'], [10, 144, '“poirot,” i asked earnestly, “have you made up your mind about this crime'], [10, 156, 'with a long drawn exclamation of ecstasy, poirot led the way back to the morning-room'], [10, 174, '“is he quite mad, mr. hastings'], [10, 182, '“you are an excellent advocate, i have no doubt, mr. hastings, but in this case your talents are quite thrown away'], [10, 185, '“mr. hastings,” she said, “do you think i and my husband are happy together'], [10, 265, 'would you mind moving—thank you, mr. hastings'], [10, 269, 'poirot did not make his appearance the following morning, and there was no sign of the scotland yard men'], [10, 275, 'just before tea, i strolled down to tell poirot of the new disappointment, but found, to my annoyance, that he was once more out'], [10, 284, 'but, on the following day, no sign of poirot'], [10, 298, 'i had almost forgotten that enigmatical message of poirot’s, but now my curiosity was aroused afresh'], [10, 299, 'lawrence would say no more, so i decided that i would descend from my high horse, and once more seek out poirot at leastways cottage'], [10, 301, 'monsieur poirot was within'], [10, 304, 'poirot was sitting by the table, his head buried in his hands'], [10, 313, 'but, to my great surprise, poirot nodded gravely'], [10, 316, '“you are not serious, poirot'], [10, 322, '“the moment has come,” said poirot thoughtfully, “and i do not know what to do'], [10, 324, 'no one but i, hercule poirot, would attempt it'], [10, 331, 'i did not myself think very highly of lawrence’s intelligence; but i forebore to contradict poirot, and gently took him to task for forgetting my instructions as to which were cynthia’s days off'], [10, 364, 'poirot nodded, and gently taking the photographs from me locked them up again'], [10, 393, 'poirot shook his head'], [10, 400, 'poirot’s smile became rather enigmatical'], [10, 403, 'poirot’s were pleasantly vague'], [10, 406, '“poirot,” i said, “what was in this particular little bottle'], [10, 407, 'poirot looked out of the window'], [10, 419, '“i dropped my hat from the balcony,” explained poirot simply'], [10, 425, '“poirot,” i said, “your gaiety does not deceive me'], [10, 427, '“i do not know,” said poirot'], [10, 439, '“there is a lady below, asking for mr hastings'], [10, 442, 'poirot followed me down the narrow stairs'], [10, 444, '“i have been visiting an old woman in the village,” she explained, “and as lawrence told me you were with monsieur poirot i thought i would call for you'], [10, 445, '“alas, madame,” said poirot, “i thought you had come to honour me with a visit'], [10, 448, 'if you should need a father confessor, madame”—she started ever so slightly—“remember, papa poirot is always at your service'], [10, 451, '“come, will you not walk back with us too, monsieur poirot'], [10, 454, 'it struck me that in some way she was nervous of poirot’s eyes'], [10, 475, 'behind me, with a wild cry, mary cavendish fell heavily against me, and as i turned to catch her i met the quiet triumph in poirot’s eyes'], [11, 3, 'i expressed my admiration to poirot, and he nodded thoughtfully'], [11, 17, 'poirot grinned'], [11, 21, '“every murderer is probably somebody’s old friend,” observed poirot philosophically'], [11, 25, 'i was rather disconcerted by this, remembering how i had busily passed on to john what i believed to be poirot’s views concerning bauerstein'], [11, 28, 'i asked poirot whether he thought john would be condemned'], [11, 30, '“but, poirot—'], [11, 36, 'i, hercule poirot, know, but i lack the last link in my chain'], [11, 54, 'poirot shrugged his shoulders'], [11, 72, '“it is quite  en règle ,” continued poirot'], [11, 77, 'poirot was a true prophet'], [11, 81, 'mary took a house in kensington, poirot being included in the family party'], [11, 83, 'as the weeks went by, the state of poirot’s nerves grew worse and worse'], [11, 149, 'he held up the same dusty piece which poirot and i had examined in the morning-room at styles'], [11, 198, '“mr. hastings, you do not think—surely it could not have been lawrence—oh, no, that could not be'], [11, 199, 'but i myself was puzzled, and as soon as i was alone with poirot i asked him what he thought sir ernest was driving at'], [11, 200, '“ah!” said poirot appreciatively'], [11, 374, 'poirot, i noticed, was looking profoundly discouraged'], [11, 376, '“what is it, poirot'], [11, 394, 'with a great thump on the table, poirot demolished his carefully built up edifice'], [11, 405, '“on an occasion when i was enraged, without doubt,” observed poirot, with great placidity'], [11, 413, 'for poirot, uttering a hoarse and inarticulate cry, again annihilated his masterpiece of cards, and putting his hands over his eyes swayed backwards and forwards, apparently suffering the keenest agony'], [11, 414, '“good heavens, poirot'], [11, 423, '“ah,  ma foi , no!” replied poirot frankly'], [11, 429, '“what  is  the matter with monsieur poirot'], [11, 444, 'but night fell, and poirot had not returned'], [12, 0, ' poirot’s abrupt departure had intrigued us all greatly'], [12, 2, 'but about three o’clock a ferocious and prolonged hooting outside drove us to the window, to see poirot alighting from a car, accompanied by japp and summerhaye'], [12, 9, '“you know, monsieur poirot, that you have  carte blanche  in every way'], [12, 11, 'still beaming, poirot marshalled us all into the drawing-room, bringing forward chairs as he did so'], [12, 23, 'poirot went up to her and pleaded in a low voice'], [12, 26, 'the company once assembled, poirot rose from his seat with the air of a popular lecturer, and bowed politely to his audience'], [12, 44, 'i took an early opportunity of testing that statement by stationing my friend monsieur hastings in the left wing of the building, just outside mrs. cavendish’s door'], [12, 45, 'i myself, in company with the police, went to the deceased’s room, and whilst there i, apparently accidentally, knocked over the table in question, but found that, as i had expected, monsieur hastings had heard no sound at all'], [12, 75, 'she shook her head, and poirot shook his also'], [12, 85, 'poirot was continuing: “the temperature on that day, messieurs, was 80 degrees in the shade'], [12, 171, 'poirot paused'], [12, 173, '“all you have said is quite true, monsieur poirot'], [12, 178, '“what i meant when i told you that you could safely confess to papa poirot, eh'], [12, 200, 'poirot looked round the room, and then answered himself impressively'], [12, 246, 'in the deathly silence, poirot pieced together the slips of paper and, clearing his throat, read: dearest evelyn:     ‘you will be anxious at hearing nothing'], [12, 260, 'poirot skipped nimbly aside'], [12, 262, '“ messieurs, mesdames ,” said poirot, with a flourish, “let me introduce you to the murderer, mr. alfred inglethorp'], [13, 0, ' “poirot, you old villain,” i said, “i’ve half a mind to strangle you'], [13, 5, 'now at last, i had poirot to myself, and could relieve my still burning curiosity'], [13, 6, 'poirot did not answer me for a moment, but at last he said: “i did not deceive you,  mon ami '], [13, 14, '“my friend,” besought poirot, “i implore you, do not enrage yourself'], [13, 28, '“then again,” continued poirot, “at the beginning, did i not repeat to you several times that i didn’t want mr. inglethorp arrested  now '], [13, 61, 'poirot stared at me in surprise'], [13, 91, 'poirot puffed at his tiny cigarette, his eyes fixed on the ceiling'], [13, 142, '“no one would think of looking there,” poirot continued'], [13, 146, 'poirot nodded'], [13, 198, '“and very good reasons too,” replied poirot'], [13, 231, '“you are joking, poirot'], [13, 237, '“exactly,” said poirot dryly'], [13, 243, '“there, poirot, you are quite wrong'], [13, 250, '“then she certainly did mind very much,” remarked poirot'], [13, 268, '“dear me, poirot,” i said with a sigh, “i think you have explained everything'], [13, 294, 'i looked at poirot in silent amazement'], [13, 296, 'who on earth but poirot would have thought of a trial for murder as a restorer of conjugal happiness'], [13, 297, '“i perceive your thoughts,  mon ami ,” said poirot, smiling at me'], [13, 298, '“no one but hercule poirot would have attempted such a thing'], [13, 305, 'poirot had opened the door, and meeting her agonized eyes had nodded gently'], [13, 309, '“perhaps you are right, poirot,” i said gently'], [13, 317, 'cynthia fidgeted with a little tassel for some moments, then, suddenly exclaiming: “you dears!” kissed first me and then poirot, and rushed out of the room again'], [13, 321, '“it means that she has discovered monsieur lawrence does not dislike her as much as she thought,” replied poirot philosophically'], [13, 326, 'monsieur lawrence,” called poirot'], [13, 335, '“and neither of them is for you?” finished poirot']]\n",
      "[[1, 32, 'as for evie—you remember evie'], [1, 36, 'a great sport—old evie'], [1, 40, 'he turned up from nowhere, on the pretext of being a second cousin or something of evie’s, though she didn’t seem particularly keen to acknowledge the relationship'], [1, 47, 'but you could have knocked us all down with a feather when, three months ago, she suddenly announced that she and alfred were engaged'], [1, 69, 'it’s a jolly good life taking it all round—if it weren’t for that fellow alfred inglethorp'], [1, 81, '“hullo, evie, here’s our wounded hero'], [1, 82, 'mr. hastings—miss howard'], [1, 83, 'miss howard shook hands with a hearty, almost painful, grip'], [1, 95, '“you’re a cynic, evie,” said john, laughing'], [1, 102, '“well,” said miss howard, drawing off her gardening gloves, “i’m inclined to agree with you'], [1, 113, 'at that moment a well remembered voice floated through the open french window near at hand: “then you’ll write to the princess after tea, alfred'], [1, 120, 'you are so thoughtful, alfred dear'], [1, 125, 'alfred, darling, mr. hastings—my husband'], [1, 126, 'i looked with some curiosity at “alfred darling”'], [1, 137, 'with the presence of mr. inglethorp, a sense of constraint and veiled hostility seemed to settle down upon the company'], [1, 138, 'miss howard, in particular, took no pains to conceal her feelings'], [1, 144, 'presently mrs. inglethorp turned to give some instructions about letters to evelyn howard, and her husband addressed me in his painstaking voice: “is soldiering your regular profession, mr. hastings'], [1, 168, '“like a good detective story myself,” remarked miss howard'], [1, 248, 'evie’s had a row with alfred inglethorp, and she’s off'], [1, 249, '“evie'], [1, 252, '“yes; you see she went to the mater, and—oh,—here’s evie herself'], [1, 253, 'miss howard entered'], [1, 257, '“my dear evelyn,” cried mrs. cavendish, “this can’t be true'], [1, 258, 'miss howard nodded grimly'], [1, 268, 'just ask your alfred how much time he spends over there'], [1, 277, 'miss howard made an extremely expressive grimace'], [1, 278, '“‘darling alfred’—‘dearest alfred’—‘wicked calumnies’ —‘wicked lies’—‘wicked woman’—to accuse her ‘dear husband'], [1, 286, 'as she left the room, miss howard’s face changed'], [1, 299, '“of course, miss howard,” i said, “i’ll do everything i can, but i’m sure you’re excited and overwrought'], [1, 305, 'the throb of the motor came through the open window, and miss howard rose and moved to the door'], [1, 310, 'miss howard was swallowed up in an eager chorus of protests and good-byes'], [1, 324, 'she always had a rough tongue, but there is no stauncher friend in england than evelyn howard'], [1, 330, '“the one that miss howard—'], [1, 349, 'for the first time i felt that, with evelyn howard, something indefinable had gone from the atmosphere'], [2, 4, 'i received a letter from evelyn howard a couple of days after her departure, telling me she was working as a nurse at the big hospital in middlingham, a manufacturing town some fifteen miles away, and begging me to let her know if mrs. inglethorp should show any wish to be reconciled'], [2, 155, 'i thought of mrs. raikes’s gipsy face, and evelyn howard’s warnings, but wisely decided to hold my peace, whilst cynthia exhausted every possible hypothesis, and cheerfully hoped, “aunt emily will send him away, and will never speak to him again'], [2, 160, 'mr. inglethorp was in the drawing-room when i came down to supper'], [2, 189, 'in a few moments, alfred inglethorp had ushered the doctor in, the latter laughing, and protesting that he was in no fit state for a drawing-room'], [2, 193, '“i did not really mean to come in, but mr. inglethorp insisted'], [2, 208, '“i’ll walk down to the village with you,” said mr. inglethorp'], [3, 20, '“try going through mr. inglethorp’s room, sir,” cried dorcas'], [3, 22, 'suddenly i realized that alfred inglethorp was not with us—that he alone had given no sign of his presence'], [3, 78, 'for one instant he stopped dead, staring at the figure on the bed, and, at the same instant, mrs. inglethorp cried out in a strangled voice, her eyes fixed on the doctor: “alfred—alfred—'], [3, 138, 'we were all silent, but i suppose i voiced the thoughts of us all when i at last broke it by saying: “where is mr. inglethorp'], [3, 142, 'where  was  alfred inglethorp'], [4, 4, 'it was mr. inglethorp'], [4, 35, 'i told him of my awakening, of mrs. inglethorp’s dying words, of her husband’s absence, of the quarrel the day before, of the scrap of conversation between mary and her mother-in-law that i had overheard, of the former quarrel between mrs. inglethorp and evelyn howard, and of the latter’s innuendoes'], [4, 293, 'we passed through alfred inglethorp’s room, and poirot delayed long enough to make a brief but fairly comprehensive examination of it'], [4, 355, 'i didn’t hear what mr. inglethorp replied'], [4, 366, '“you are sure it was mr. inglethorp’s voice you heard'], [4, 494, 'one was to miss howard, and one was to mr. wells, the lawyer, and the other two i don’t think i remember, sir—oh, yes, one was to ross’s, the caterers in tadminster'], [4, 549, '“and the door into mr. inglethorp’s room'], [4, 599, '“mr. inglethorp’s'], [4, 608, 'to my surprise, he did not examine them, merely remarking approvingly as he relocked the desk: “decidedly, he is a man of method, this mr. inglethorp'], [5, 38, 'one, two, three, four, five—but where, then, is the cup of mr. inglethorp'], [5, 62, 'ever since the early hours of the morning, john had been hard at work, sending telegrams—one of the first had gone to evelyn howard—writing notices for the papers, and generally occupying himself with the melancholy duties that a death entails'], [5, 75, 'john broke the rather awkward silence by saying with a slight effort: “i told you, didn’t i, that mr. inglethorp has returned'], [5, 83, 'mr. inglethorp’s reason for not returning last night was, i believe, that he had forgotten the latch-key'], [5, 94, 'if mr. inglethorp did take it, he has had ample time to replace it by now'], [5, 109, 'i pass over alfred inglethorp, who acted the bereaved widower in a manner that i felt to be disgusting in its hypocrisy'], [5, 233, '“suppose,” suggested poirot, “that, unknown to you, she had made a new will in favour of someone who was not, in any sense of the word, a member of the family—we will say miss howard, for instance—would you be surprised'], [5, 238, '“do you think mrs. inglethorp made a will leaving all her money to miss howard'], [5, 247, 'mr. inglethorp is quite willing to leave it entirely to mr. wells and myself'], [5, 347, '“evie!” cried john'], [5, 351, '“miss howard,” i explained'], [5, 355, 'i followed john’s example, and went out into the hall, where miss howard was endeavouring to extricate herself from the voluminous mass of veils that enveloped her head'], [5, 360, 'she had known alfred inglethorp only too well'], [5, 368, '“have you had anything to eat this morning, evie?” asked john'], [5, 376, 'he’s helping us, you know, evie'], [5, 377, 'miss howard shook hands with poirot, but glanced suspiciously over her shoulder at john'], [5, 384, 'alfred inglethorp, of course'], [5, 385, '“my dear evie, do be careful'], [5, 387, '“more fool, lawrence!” retorted miss howard'], [5, 388, '“of course alfred inglethorp murdered poor emily—as i always told you he would'], [5, 389, '“my dear evie, don’t shout so'], [5, 393, 'the snort miss howard gave was truly magnificent'], [5, 412, '“dash it all, evie, i can’t haul him down to the local police station by the scruff of his neck'], [5, 418, 'it occurred to me very forcibly at that moment that to harbour miss howard and alfred inglethorp under the same roof, and keep the peace between them, was likely to prove a herculean task, and i did not envy john'], [5, 422, 'as she left the room, poirot came over from the window where he had been standing, and sat down facing miss howard'], [5, 426, '“i’ll help you to hang alfred with pleasure,” she replied gruffly'], [5, 430, '“alfred inglethorp'], [5, 437, 'but along comes mr. alfred inglethorp—and within two months—hey presto'], [5, 438, '“believe me, miss howard,” said poirot very earnestly, “if mr. inglethorp is the man, he shall not escape me'], [5, 440, '“that’s better,” said miss howard more enthusiastically'], [5, 445, 'miss howard blinked, and a new note crept into the gruffness of her voice'], [5, 543, '“mr. inglethorp and miss howard'], [5, 624, '“locked up in the desk in the boudoir, they found a will of mrs. inglethorp’s, dated before her marriage, leaving her fortune to alfred inglethorp'], [5, 628, '“did mr. inglethorp know of it'], [5, 664, '“yes,” i said, “alfred inglethorp, without doubt'], [5, 678, '“because if mr. inglethorp knew that his wife would be poisoned last night, he would certainly have arranged to be away from the house'], [5, 686, 'this mr. inglethorp, i should say, is somewhat of a scoundrel—but that does not of necessity make him a murderer'], [5, 800, '“and supposing the coroner’s jury returns a verdict of wilful murder against alfred inglethorp'], [5, 804, 'for one thing, a country jury is not anxious to take responsibility upon itself, and mr. inglethorp stands practically in the position of local squire'], [5, 820, 'she would never forgive me if i let alfred inglethorp, her husband, be arrested  now —when a word from me could save him'], [6, 28, 'evelyn howard had been right then, and i experienced a sharp twinge of disgust, as i thought of alfred inglethorp’s liberality with another woman’s money'], [6, 57, 'she turned towards me, and gasped out: ‘alfred—alfred——’” “could the strychnine have been administered in mrs. inglethorp’s after-dinner coffee which was taken to her by her husband'], [6, 183, '“miss howard'], [6, 184, 'miss howard produced the letter written to her by mrs. inglethorp on the evening of the 17th'], [6, 187, 'the following is a facsimile: styles court essex hand written note:      july 17th      my dear evelyn      can we not bury      the hachet'], [6, 191, '“plain as a pikestaff to me,” said miss howard shortly'], [6, 203, 'miss howard was obviously quite a public character'], [6, 207, 'the coroner interrupted her in an agony of apprehension: “thank you, miss howard, that is all'], [6, 224, 'it was to mr. inglethorp'], [6, 225, 'every eye turned simultaneously to where alfred inglethorp was sitting, impassive and wooden'], [6, 233, 'but, seeing it was mr. inglethorp of the hall, i thought there was no harm in it'], [6, 238, '“yes, sir, mr. inglethorp did so'], [6, 242, 'then, amidst a breathless silence, alfred inglethorp was called'], [6, 258, 'alfred inglethorp replied imperturbably: “mr. mace must have been mistaken'], [6, 259, 'the coroner hesitated for a moment, and then said: “mr. inglethorp, as a mere matter of form, would you mind telling us where you were on the evening of monday, july 16th'], [6, 261, '“that is absurd, mr. inglethorp,” said the coroner sharply'], [6, 276, '“be careful, mr. inglethorp'], [6, 285, '“pardon me,” interrupted alfred inglethorp, “you have been misinformed'], [6, 298, 'was he at last convinced of alfred inglethorp’s guilt'], [6, 299, '“mr. inglethorp,” said the coroner, “you have heard your wife’s dying words repeated here'], [6, 314, 'the coroner reflected a moment, then he said: “i believe, mr. inglethorp, that you yourself poured out the coffee, and took it to your wife that evening'], [7, 37, 'from the evidence at the inquest, mr. inglethorp murdered his wife as sure as i stand here, and if anyone but you hinted the contrary i’d laugh in his face'], [7, 53, 'use your warrant: arrest mr. inglethorp'], [7, 69, 'and alfred inglethorp must not be arrested'], [7, 77, 'at styles, mr. inglethorp will give you, or if he refuses—as is probable—i will give you such proofs that shall satisfy you that the case against him could not possibly be sustained'], [7, 92, 'far more convincing than mr. inglethorp’s stony denials'], [7, 95, 'but, seriously, in spite of what i heard you say to the detectives, you surely cannot still believe in the possibility of alfred inglethorp’s innocence'], [7, 132, '“i beg your pardon, he saw a man with a black beard like mr. inglethorp’s, and wearing glasses like mr. inglethorp, and dressed in mr. inglethorp’s rather noticeable clothes'], [7, 137, '“the important fact that alfred inglethorp wears peculiar clothes, has a black beard, and uses glasses,” i quoted'], [7, 147, 'but in the case of alfred inglethorp, all that is changed'], [7, 154, 'everybody was predisposed to believe in mr. inglethorp’s guilt'], [7, 155, 'it was a foregone conclusion that he would be suspected; but, to make it a sure thing there must be tangible proof—such as the actual buying of the poison, and that, with a man of the peculiar appearance of mr. inglethorp, was not difficult'], [7, 156, 'remember, this young mace had never actually spoken to mr. inglethorp'], [7, 157, 'how should he doubt that the man in his clothes, with his beard and his glasses, was not alfred inglethorp'], [7, 175, '“perhaps,” i said doubtfully, for i was really quite indifferent to the fate of alfred inglethorp, and thought that a good fright would do him no harm'], [7, 177, '“come, my friend,” he said, changing the subject, “apart from mr. inglethorp, how did the evidence at the inquest strike you'], [7, 209, 'it seems inconceivable that she should be shielding alfred inglethorp'], [7, 235, 'but there’s john—and miss howard, surely they were speaking the truth'], [7, 239, 'miss howard’s evidence, unimportant as it was, had been given in such a downright straightforward manner that it had never occurred to me to doubt her sincerity'], [7, 243, '“miss howard had always seemed to me so essentially honest—almost uncomfortably so'], [7, 274, 'that object, it concerns mr. alfred inglethorp'], [7, 276, '“mr. inglethorp,” said poirot, addressing him directly, “a very dark shadow is resting on this house—the shadow of murder'], [7, 282, 'and as inglethorp did not appear to understand, he added: “mr. inglethorp, you are standing in very grave danger'], [7, 295, 'mr. inglethorp, knowing what i have now told you, do you still refuse to say where you were at six o’clock on monday afternoon'], [7, 296, 'with a groan, alfred inglethorp sank down again and buried his face in his hands'], [7, 308, 'alfred inglethorp sprang up again'], [7, 317, 'i, hercule poirot, affirm that the man who entered the chemist’s shop, and purchased strychnine at six o’clock on monday last was not mr. inglethorp, for at six o’clock on that day mr. inglethorp was escorting mrs. raikes back to her home from a neighbouring farm'], [8, 17, '“a most malicious and utterly untrue one,” interrupted alfred inglethorp in an agitated voice'], [8, 18, '“and mr. inglethorp was anxious to have no scandal revived just at present'], [8, 28, 'and he shot a baleful glance at evelyn howard'], [8, 90, 'of course, he didn’t want to come in—it was just after dinner—but mr. inglethorp insisted'], [8, 126, 'of course you realize that, now mr. inglethorp is out of it, the whole position is greatly changed'], [8, 131, 'i have ascertained that anyone in the household, with the exception of mrs. cavendish, who was playing tennis with you, could have personated mr. inglethorp on monday evening'], [8, 139, '“in clearing alfred inglethorp,” continued poirot, “i have been obliged to show my hand sooner than i intended'], [8, 154, '“well then,” i blurted out, “it’s absurd—but i suspect miss howard of not telling all she knows'], [8, 155, '“miss howard'], [8, 166, '“well, i learnt that miss howard had been on afternoon duty on tuesday, and that—a convoy coming in unexpectedly—she had kindly offered to remain on night duty, which offer was gratefully accepted'], [8, 181, 'there is nothing weak-minded or degenerate about miss howard'], [8, 190, 'now, what reasons are there against miss howard’s having deliberately poisoned mrs. inglethorp'], [8, 196, 'if miss howard were capable of poisoning the old lady, she would be quite equally capable of simulating devotion'], [8, 198, 'you are perfectly correct in your assumption that her vehemence against alfred inglethorp is too violent to be natural; but you are quite wrong in the deduction you draw from it'], [8, 201, '“now, to my way of thinking, there is one insuperable objection to miss howard’s being the murderess'], [8, 203, '“that in no possible way could mrs. inglethorp’s death benefit miss howard'], [8, 212, 'miss howard occupied very much the same position, so i used her name instead'], [8, 218, 'but i can tell you this much—it was not in miss howard’s favour'], [8, 220, '“well,” i said, with a sigh, “we will acquit miss howard, then'], [8, 265, 'however, my confidence in him, which at one time had rather waned, was fully restored since his belief in alfred inglethorp’s innocence had been so triumphantly vindicated'], [8, 266, 'the funeral of mrs. inglethorp took place the following day, and on monday, as i came down to a late breakfast, john drew me aside, and informed me that mr. inglethorp was leaving that morning, to take up his quarters at the stylites arms until he should have completed his plans'], [8, 374, 'it was cut exactly the shape of mr. inglethorp’s, and i found one or two snipped hairs'], [8, 400, '“here comes miss howard,” said poirot suddenly'], [8, 402, 'but i am in her black books, since i cleared mr. inglethorp'], [8, 404, 'with a nod that was barely civil, miss howard assented to poirot’s request for a few minutes’ conversation'], [8, 406, '“well, monsieur poirot,” said miss howard impatiently, “what is it'], [8, 412, '“and i told you i’d help you with pleasure—to hang alfred inglethorp'], [8, 415, '“miss howard, i will ask you one question'], [8, 417, '“never tell lies,” replied miss howard'], [8, 433, '“good heavens!” cried miss howard'], [8, 440, '“miss howard, do you remember a conversation that took place on the day of my friend’s arrival here'], [8, 447, '“and yet you will pay no attention to my instinct against alfred inglethorp'], [8, 449, '“because your instinct is not against mr. inglethorp'], [8, 457, '“shall i tell you why you have been so vehement against mr. inglethorp'], [8, 460, '“no, no, no!” cried miss howard wildly, flinging up her hands'], [8, 469, 'it  must  be alfred inglethorp'], [8, 471, '“don’t ask me about it,” continued miss howard, “because i shan’t tell you'], [8, 488, 'evelyn howard bowed her head'], [8, 494, 'if we are right, miss howard, on whose side are you then'], [8, 501, '“miss howard,” said poirot gravely, “this is unworthy of you'], [8, 503, '“yes,” she said quietly, “that was not evelyn howard who spoke'], [8, 505, '“ this  is evelyn howard'], [8, 514, '“you and miss howard seem to know what you are talking about,” i observed coldly'], [9, 146, 'the truth of the matter was that it was lawrence who had murdered alfred inglethorp with a croquet mallet'], [9, 295, 'then i remembered that enigmatical conversation between poirot and evelyn howard'], [9, 297, 'was this the monstrous possibility that evelyn had tried not to believe'], [9, 299, 'no wonder miss howard had suggested “hushing it up'], [9, 351, '“lot of paul prys,” grunted miss howard'], [9, 390, 'look, there is john—and miss howard—'], [9, 392, '“yes, john likes me, i think, and of course evie, for all her gruff ways, wouldn’t be unkind to a fly'], [9, 394, 'she wants evie to stay on, is begging her to, but she doesn’t want me, and—and—i don’t know what to do'], [10, 113, 'i am not a vain man where women are concerned, but i remembered certain evidences, too lightly thought of at the time, perhaps, but which certainly seemed to indicate—— my pleasing thoughts were interrupted by the sudden entrance of miss howard'], [10, 136, 'having deduced its existence, i set miss howard to search for it, and, as you see, she has been successful'], [11, 45, '“did you not put two and two together, and reflect that if it was not alfred inglethorp who was quarrelling with his wife—and you remember, he strenuously denied it at the inquest—it must be either lawrence or john'], [11, 97, 'luckily for mr. inglethorp, he had been able to produce an unimpeachable alibi'], [11, 107, 'the prisoner had been arrested in consequence of the discovery, in his room, by detective inspector japp—a most brilliant officer—of the identical phial of strychnine which had been sold at the village chemist’s to the supposed mr. inglethorp on the day before the murder'], [11, 117, 'mr. mace identified the phial handed him by counsel as that sold by him to “mr. inglethorp'], [11, 118, 'pressed, he admitted that he only knew mr. inglethorp by sight'], [11, 121, 'alfred inglethorp was called, and denied having purchased the poison'], [11, 125, 'dorcas, faithful to her “young gentlemen,” denied strenuously that it could have been john’s voice she heard, and resolutely declared, in the teeth of everything, that it was mr. inglethorp who had been in the boudoir with her mistress'], [11, 137, 'it would be miss howard who would attend to anything like that'], [11, 138, 'evelyn howard was called and, after being examined on other points, was questioned as to the parcel'], [11, 148, '“i believe, miss howard, that it was you who found this sheet of brown paper'], [11, 187, 'elizabeth wells, second housemaid at styles, stated that after she had gone to bed she remembered that she had bolted the front door, instead of leaving it on the latch as mr. inglethorp had requested'], [11, 208, 'in his chest of drawers, hidden beneath some underclothing, we found: first, a pair of gold-rimmed pince-nez similar to those worn by mr. inglethorp”—these were exhibited—“secondly, this phial'], [11, 215, 'erything of which i die possessed i leave to my beloved husband alfred ing'], [11, 253, 'evelyn howard had been right in her facts, though her animosity against alfred inglethorp had caused her to jump to the conclusion that he was the person concerned'], [11, 311, 'the hand-writing experts were called upon for their opinion of the signature of “alfred inglethorp” in the chemist’s poison register'], [11, 323, 'his learned friend—sir ernest nodded carelessly at mr. philips—had stated that if the prisoner were an innocent man, he would have come forward at the inquest to explain that it was he, and not mr. inglethorp, who had been the participator in the quarrel'], [11, 327, 'no suspicion had entered the prisoner’s head that anyone could possibly have mistaken his voice for that of mr. inglethorp'], [11, 329, 'the prosecution averred that on monday, july 16th, the prisoner had entered the chemist’s shop in the village, disguised as mr. inglethorp'], [11, 347, '“i understand you to say that it never entered your head that the witnesses at the inquest could possibly have mistaken your voice for that of mr. inglethorp'], [11, 350, 'i was told there had been a quarrel between my mother and mr. inglethorp, and it never occurred to me that such was not really the case'], [11, 368, 'mary, where you purchased strychnine in the name of alfred inglethorp'], [11, 370, '“i put it to you that, wearing a suit of mr. inglethorp’s clothes, with a black beard trimmed to resemble his, you were there—and signed the register in his name'], [12, 12, '“miss howard—here'], [12, 18, 'we must delay our proceedings a few minutes until mr. inglethorp arrives'], [12, 20, 'miss howard rose immediately from her seat'], [12, 24, 'finally miss howard consented to return to her chair'], [12, 25, 'a few minutes later alfred inglethorp entered the room'], [12, 149, 'the servants noticed nothing, since annie, the housemaid, who took in the coffee, brought in seven cups, not knowing that mr. inglethorp never drank it, whereas dorcas, who cleared them away the following morning, found six as usual—or strictly speaking she found five, the sixth being the one found broken in mrs. inglethorp’s room'], [12, 246, 'in the deathly silence, poirot pieced together the slips of paper and, clearing his throat, read: dearest evelyn:     ‘you will be anxious at hearing nothing'], [12, 262, '“ messieurs, mesdames ,” said poirot, with a flourish, “let me introduce you to the murderer, mr. alfred inglethorp'], [13, 4, 'in the room below, john and mary were together once more, while alfred inglethorp and miss howard were in custody'], [13, 11, 'if i had told you my ideas, the very first time you saw mr. alfred inglethorp that astute gentleman would have—in your so expressive idiom—‘smelt a rat’'], [13, 28, '“then again,” continued poirot, “at the beginning, did i not repeat to you several times that i didn’t want mr. inglethorp arrested  now '], [13, 34, 'when i went up to styles with you that first day, i had no idea as to how the crime had been committed, but from what i knew of mr. inglethorp i fancied that it would be very hard to find anything to connect him with it'], [13, 38, '“well, my friend, as i say, my views as to mr. inglethorp’s guilt were very much shaken'], [13, 48, 'this attitude of his gave me furiously to think, and i was slowly forced to the conclusion that alfred inglethorp wanted to be arrested'], [13, 64, 'you have not yet realized that it was miss howard who went to the chemist’s shop'], [13, 65, '“miss howard'], [13, 75, 'i am inclined to think that miss howard was the master mind in that affair'], [13, 85, 'miss howard will have engineered her quarrel, and departed from the house'], [13, 94, 'on monday, therefore, at six o’clock, alfred inglethorp arranges to be seen by a number of people at a spot far removed from the village'], [13, 95, 'miss howard has previously made up a cock and bull story about him and mrs. raikes to account for his holding his tongue afterwards'], [13, 96, 'at six o’clock, miss howard, disguised as alfred inglethorp, enters the chemist’s shop, with her story about a dog, obtains the strychnine, and writes the name of alfred inglethorp in john’s handwriting, which she had previously studied carefully'], [13, 99, 'miss howard goes back to middlingham'], [13, 100, 'alfred inglethorp returns to styles'], [13, 101, 'there is nothing that can compromise him in any way, since it is miss howard who has the strychnine, which, after all, is only wanted as a blind to throw suspicion on john cavendish'], [13, 112, 'mrs. inglethorp reads it, and becomes aware of the perfidy of her husband and evelyn howard, though, unfortunately, the sentence about the bromides conveys no warning to her mind'], [13, 170, '“but surely miss howard had ample opportunities of aiding him'], [13, 171, '“yes, but miss howard did not know of the paper’s existence'], [13, 172, 'in accordance with their prearranged plan, she never spoke to alfred inglethorp'], [13, 174, 'of course i had a watch kept on mr. inglethorp, hoping that sooner or later he would lead me to the hiding-place'], [13, 178, '“i understand that now; but when did you first begin to suspect miss howard'], [13, 188, '“you do not see that that letter was not written on the 17th, but on the 7th—the day after miss howard’s departure'], [13, 192, 'why does miss howard suppress the letter written on the 17th, and produce this faked one instead'], [13, 197, '“and yet,” i cried indignantly, “after that, you gave me two reasons why miss howard could not have committed the crime'], [13, 199, '“for a long time they were a stumbling-block to me until i remembered a very significant fact: that she and alfred inglethorp were cousins']]\n",
      "[[1, 82, 'mr. hastings—miss howard'], [1, 125, 'alfred, darling, mr. hastings—my husband'], [1, 144, 'presently mrs. inglethorp turned to give some instructions about letters to evelyn howard, and her husband addressed me in his painstaking voice: “is soldiering your regular profession, mr. hastings'], [4, 293, 'we passed through alfred inglethorp’s room, and poirot delayed long enough to make a brief but fairly comprehensive examination of it'], [5, 233, '“suppose,” suggested poirot, “that, unknown to you, she had made a new will in favour of someone who was not, in any sense of the word, a member of the family—we will say miss howard, for instance—would you be surprised'], [5, 377, 'miss howard shook hands with poirot, but glanced suspiciously over her shoulder at john'], [5, 422, 'as she left the room, poirot came over from the window where he had been standing, and sat down facing miss howard'], [5, 438, '“believe me, miss howard,” said poirot very earnestly, “if mr. inglethorp is the man, he shall not escape me'], [7, 276, '“mr. inglethorp,” said poirot, addressing him directly, “a very dark shadow is resting on this house—the shadow of murder'], [7, 317, 'i, hercule poirot, affirm that the man who entered the chemist’s shop, and purchased strychnine at six o’clock on monday last was not mr. inglethorp, for at six o’clock on that day mr. inglethorp was escorting mrs. raikes back to her home from a neighbouring farm'], [8, 139, '“in clearing alfred inglethorp,” continued poirot, “i have been obliged to show my hand sooner than i intended'], [8, 400, '“here comes miss howard,” said poirot suddenly'], [8, 404, 'with a nod that was barely civil, miss howard assented to poirot’s request for a few minutes’ conversation'], [8, 406, '“well, monsieur poirot,” said miss howard impatiently, “what is it'], [8, 501, '“miss howard,” said poirot gravely, “this is unworthy of you'], [9, 295, 'then i remembered that enigmatical conversation between poirot and evelyn howard'], [12, 246, 'in the deathly silence, poirot pieced together the slips of paper and, clearing his throat, read: dearest evelyn:     ‘you will be anxious at hearing nothing'], [12, 262, '“ messieurs, mesdames ,” said poirot, with a flourish, “let me introduce you to the murderer, mr. alfred inglethorp'], [13, 28, '“then again,” continued poirot, “at the beginning, did i not repeat to you several times that i didn’t want mr. inglethorp arrested  now ']]\n",
      "[[3, 47, 'mrs. inglethorp was lying on the bed, her whole form agitated by violent convulsions, in one of which she must have overturned the table beside her'], [3, 70, 'the convulsions were of a violence terrible to behold'], [3, 73, 'a final convulsion lifted her from the bed, until she appeared to rest upon her head and her heels, with her body arched in an extraordinary manner'], [3, 79, 'then she fell back motionless on the pillows'], [3, 101, '“the convulsions were of a peculiar violence, dr. wilkins'], [4, 124, 'the present contention is that mrs. inglethorp died of strychnine poisoning, presumably administered in her coffee'], [5, 678, '“because if mr. inglethorp knew that his wife would be poisoned last night, he would certainly have arranged to be away from the house'], [6, 44, 'shorn of its medical phraseology and technicalities, it amounted to the fact that mrs. inglethorp had met her death as the result of strychnine poisoning'], [6, 56, 'she was at that moment in a typical tetanic convulsion'], [7, 111, 'here is a man, let us say, who sets out to poison his wife'], [7, 186, '“his suggestion that his mother might have been poisoned accidentally by means of the tonic she was taking, that did not strike you as strange—  hein'], [7, 289, '“i mean,” said poirot deliberately, “that you are suspected of poisoning your wife'], [7, 293, 'i —poison my dearest emily'], [8, 104, 'so dr. bauerstein was here on tuesday night—the night of the murder'], [8, 162, 'can we say positively that she was away from styles on the night of the murder'], [8, 185, 'my idea was—a very ridiculous one, no doubt—that she had intended to poison him—and that, in some way, mrs. inglethorp got hold of it by mistake'], [8, 190, 'now, what reasons are there against miss howard’s having deliberately poisoned mrs. inglethorp'], [8, 196, 'if miss howard were capable of poisoning the old lady, she would be quite equally capable of simulating devotion'], [8, 419, 'do you still believe that mrs. inglethorp was poisoned by her husband'], [8, 432, 'did you ever in your heart of hearts believe that mrs. inglethorp was poisoned by her husband'], [10, 74, '“not for poisoning mrs. inglethorp'], [11, 90, 'it was neither more nor less than the deliberate poisoning of a fond and trusting woman by the stepson to whom she had been more than a mother'], [12, 163, 'imagine her feelings when her mother-in-law is suddenly taken ill and dies, and immediately after she hears the word ‘poison’'], [13, 234, 'it was because, whilst his mother lay there, obviously poisoned, he saw, over your shoulder, that the door into mademoiselle cynthia’s room was unbolted'], [13, 257, 'when he entered his mother’s room, and saw her obviously poisoned, he jumped to the conclusion that mademoiselle cynthia knew something about the matter']]\n",
      "[[1, 5, 'having no near relations or friends, i was trying to make up my mind what to do, when i ran across john cavendish'], [1, 17, 'mrs. cavendish, who had married john’s father when he was a widower with two sons, had been a handsome woman of middle-age as i remembered her'], [1, 26, 'john practised for some time as a barrister, but had finally settled down to the more congenial life of a country squire'], [1, 29, 'john noticed my surprise at the news of his mother’s remarriage and smiled rather ruefully'], [1, 55, 'john cavendish was waiting on the platform, and piloted me out to the car'], [1, 63, 'as we turned in at the lodge gates, john said: “i’m afraid you’ll find it very quiet down here, hastings'], [1, 95, '“you’re a cynic, evie,” said john, laughing'], [1, 105, '“my wife, hastings,” said john'], [1, 109, 'she greeted me with a few words of pleasant welcome in a low clear voice, and i sank into a basket chair feeling distinctly glad that i had accepted john’s invitation'], [1, 112, 'john, of course, good fellow though he is, could hardly be called a brilliant conversationalist'], [1, 128, 'i did not wonder at john objecting to his beard'], [1, 199, 'she flung herself down on the ground beside john, and as i handed her a plate of sandwiches she smiled up at me'], [1, 224, '“john will show you your room'], [1, 230, 'i expressed my appreciation, and john took me into the house and up the broad staircase, which forked right and left half-way to different wings of the building'], [1, 232, 'john left me, and a few minutes later i saw him from my window walking slowly across the grass arm in arm with cynthia murdoch'], [1, 238, 'it was john’s younger brother, lawrence cavendish'], [1, 244, 'as we entered the large hall, john beckoned us both into the smoking-room'], [1, 251, 'john nodded gloomily'], [1, 284, 'finally john cavendish, finding his persuasions of no avail, went off to look up the trains'], [1, 306, 'john’s voice sounded outside'], [1, 316, '“that’s dr. bauerstein,” said john shortly'], [1, 321, 'john cavendish frowned and changed the subject'], [1, 328, 'john’s face hardened'], [1, 331, '“exactly,” said john, with rather unnecessary abruptness'], [1, 334, '“styles is really a glorious old place,” i said to john'], [2, 13, 'i noticed that john’s manner was somewhat unusual'], [2, 72, 'compared to john, he was an astoundingly difficult person to get to know'], [2, 156, 'i was anxious to get hold of john, but he was nowhere to be seen'], [2, 194, '“well, bauerstein, you are in a plight,” said john, strolling in from the hall'], [2, 203, 'i had risen when cynthia did, john was close by me'], [2, 210, 'he turned to john'], [3, 11, 'john cavendish joined us, and one or two of the servants were standing round in a state of awe-stricken excitement'], [3, 15, 'john rattled the handle of mrs. inglethorp’s door violently, but with no effect'], [3, 23, 'john opened the door of his room'], [3, 49, 'john strode across the room, and lit the gas'], [3, 74, 'in vain mary and john tried to administer more brandy'], [3, 106, 'he turned to john'], [3, 136, 'john and lawrence were in the dining-room'], [3, 139, 'john shook his head'], [3, 151, 'he addressed himself to john: “mr. cavendish, i should like your consent to a post-mortem'], [3, 152, '“is that necessary?” asked john gravely'], [3, 157, 'john bent his head'], [3, 163, 'there was a pause, and then dr. bauerstein drew two keys from his pocket, and handed them to john'], [3, 169, 'john, i knew, had a horror of any kind of publicity, and was an easygoing optimist, who preferred never to meet trouble half-way'], [3, 173, '“john,” i said, “i am going to ask you something'], [3, 190, 'john hesitated'], [4, 138, 'as we neared the house, john came out and met us'], [4, 147, 'john turned to me, taking out his cigarette-case, and lighting a cigarette as he did so'], [4, 151, 'john flung the match into an adjacent flower bed, a proceeding which was too much for poirot’s feelings'], [4, 155, 'john looked puzzled, not quite understanding the portent of this cryptic saying'], [4, 329, 'i put them to you with mr. cavendish’s full approval'], [5, 35, '“john cavendish’s'], [5, 55, '“breakfast is ready,” said john cavendish, coming in from the hall'], [5, 58, 'i observed john'], [5, 62, 'ever since the early hours of the morning, john had been hard at work, sending telegrams—one of the first had gone to evelyn howard—writing notices for the papers, and generally occupying himself with the melancholy duties that a death entails'], [5, 65, '“i think, mr. cavendish,” said poirot gravely, “that you would do well not to buoy yourself up with any false hopes'], [5, 72, 'a faint cloud passed over john’s face'], [5, 75, 'john broke the rather awkward silence by saying with a slight effort: “i told you, didn’t i, that mr. inglethorp has returned'], [5, 81, 'it is a very difficult situation for you, mr. cavendish'], [5, 92, '“no, no, mr. cavendish, it is too late now'], [5, 99, 'john looked perplexed'], [5, 139, '“mr. wells to see you, sir,” she said to john'], [5, 141, 'john rose immediately'], [5, 148, 'john strode on ahead and i took the opportunity of whispering to poirot: “there will be an inquest then'], [5, 166, 'we followed john into his study, and he closed the door behind us'], [5, 168, 'john introduced us both, and explained the reason of our presence'], [5, 176, '“indeed,” said john with a certain stiffness in his manner'], [5, 181, 'a faint expression of relief swept over john’s face'], [5, 198, '“that is a pity,” said john'], [5, 205, 'the lawyer hesitated a moment, and then replied: “the knowledge will be public property very soon, so if mr. cavendish does not object—'], [5, 206, '“not at all,” interpolated john'], [5, 209, ', she gave her entire fortune to her stepson, mr. john cavendish'], [5, 210, '“was not that—pardon the question, mr. cavendish—rather unfair to her other stepson, mr. lawrence cavendish'], [5, 212, 'you see, under the terms of their father’s will, while john inherited the property, lawrence, at his stepmother’s death, would come into a considerable sum of money'], [5, 225, '“she was,” said john unexpectedly'], [5, 237, 'i drew close to him, while john and the lawyer were debating the question of going through mrs. inglethorp’s papers'], [5, 244, 'john cavendish had turned to poirot'], [5, 251, '“we will look through the desk in the boudoir first,” explained john, “and go up to her bedroom afterwards'], [5, 257, 'john and the lawyer looked at him startled'], [5, 271, 'poirot turned to john'], [5, 286, 'john looked questioningly at poirot'], [5, 288, '“come inside, manning,” said john, “i want to speak to you'], [5, 292, '“manning,” said john, “this gentleman will put some questions to you which i want you to answer'], [5, 326, '“good heavens!” murmured john'], [5, 333, '“what do you mean?” cried john again'], [5, 342, '“suggestive, or not,” interrupted john, “we are most grateful to monsieur poirot for elucidating the matter'], [5, 346, 'john, i think, would have pressed his questions further, but at that moment the loud purr of a motor was audible, and we all turned to the window as it swept past'], [5, 347, '“evie!” cried john'], [5, 355, 'i followed john’s example, and went out into the hall, where miss howard was endeavouring to extricate herself from the voluminous mass of veils that enveloped her head'], [5, 368, '“have you had anything to eat this morning, evie?” asked john'], [5, 377, 'miss howard shook hands with poirot, but glanced suspiciously over her shoulder at john'], [5, 397, 'john cavendish looked at her helplessly'], [5, 410, 'you ought to be ashamed of yourself, john cavendish'], [5, 411, '“what do you want me to do?” asked john, unable to help a faint smile'], [5, 418, 'it occurred to me very forcibly at that moment that to harbour miss howard and alfred inglethorp under the same roof, and keep the peace between them, was likely to prove a herculean task, and i did not envy john'], [5, 469, 'john stuck his head in at this juncture, and invited us both to come up to mrs. inglethorp’s room, as he and mr. wells had finished looking through the desk in the boudoir'], [5, 470, 'as we went up the stairs, john looked back to the dining-room door, and lowered his voice confidentially: “look here, what’s going to happen when these two meet'], [5, 478, 'taking the keys from poirot, john unlocked it, and we all passed in'], [5, 479, 'the lawyer went straight to the desk, and john followed him'], [5, 487, 'and john lifted the lid as he spoke'], [5, 553, '“john doesn’t think so,” i remarked'], [5, 555, '“oh, john'], [5, 556, 'something in her tone fired me, and i blurted out: “old john’s an awfully good sort'], [5, 626, 'it came quite as a surprise to wells—and to john cavendish also'], [6, 39, 'the jury viewed the body, and john cavendish gave evidence of identification'], [6, 88, 'he glanced deprecatingly at the coroner, who replied briskly: “certainly, mr. cavendish, we are here to arrive at the truth of this matter, and welcome anything that may lead to further elucidation'], [6, 91, '“how do you make that out, mr. cavendish'], [6, 98, 'we are much obliged to you, mr. cavendish'], [6, 100, '“what mr. cavendish suggests is quite impossible'], [7, 139, 'now suppose anyone wished to pass himself off as john or lawrence cavendish'], [7, 199, 'if it had been monsieur john, i could have understood it'], [7, 235, 'but there’s john—and miss howard, surely they were speaking the truth'], [7, 255, 'i think the appearance of the two scotland yard men was rather a shock—especially to john, though of course after the verdict, he had realized that it was only a matter of time'], [8, 29, '“now, sir,” said japp, turning briskly to john, “i should like to see the lady’s bedroom, please, and after that i’ll have a little chat with the servants'], [8, 113, 'where is mr. cavendish'], [8, 114, 'john was in the smoking-room'], [8, 116, '“mr. cavendish, i have some important business in tadminster'], [8, 122, 'john rang the bell, and ordered round the car'], [8, 226, 'when i cited her and john cavendish as being above suspicion'], [8, 266, 'the funeral of mrs. inglethorp took place the following day, and on monday, as i came down to a late breakfast, john drew me aside, and informed me that mr. inglethorp was leaving that morning, to take up his quarters at the stylites arms until he should have completed his plans'], [8, 283, 'still, the johnnies will wait now'], [8, 308, 'but since then i’ve remembered what the young gentlemen”—john and lawrence were still the “young gentlemen” to dorcas—“call the ‘dressing-up box'], [8, 397, 'how about john'], [9, 49, 'poirot had been asked by john to remain to lunch, and was already seated at the table'], [9, 147, 'but it was absurd of john to make such a fuss about it, and to go shouting out: “i tell you i won’t have it'], [9, 150, 'for, about twelve feet away from me, john and mary cavendish were standing facing each other, and they were evidently quarrelling'], [9, 151, 'and, quite as evidently, they were unaware of my vicinity, for before i could move or speak john repeated the words which had aroused me from my dream'], [9, 163, 'i did not wonder that the blood rose to john’s face in a crimson tide'], [9, 173, 'john fell back a pace'], [9, 178, 'john glanced at her pleadingly, a stricken look on his face'], [9, 186, 'she was walking away when john sprang after her, and caught her by the arm'], [9, 191, '“perhaps,” she said; and then swiftly passed out of the little glade, leaving john standing there as though he had been turned to stone'], [9, 193, 'john turned'], [9, 212, '“cheer up, john'], [9, 221, 'john lowered his voice: “have you ever thought, hastings—it’s a nightmare to me—who did it'], [9, 232, '“no, john,” i said, “it isn’t one of us'], [9, 252, '“h’m,” said john'], [9, 262, 'john interrupted just as i had done'], [9, 280, '“h’m, yes, that might be,” said john'], [9, 285, 'i hoped and prayed it would not occur to john also'], [9, 303, '“there’s another thing,” said john suddenly, and the unexpected sound of his voice made me start guiltily'], [9, 316, '“yes, that’s possible,” admitted john'], [9, 341, 'mrs. inglethorp had made no provisions of any kind for her, but i imagined that john and mary would probably insist on her making her home with them—at any rate until the end of the war'], [9, 342, 'john, i knew, was very fond of her, and would be sorry to let her go'], [9, 343, 'john, who had gone into the house, now reappeared'], [9, 383, '“on the contrary, john is very fond of you'], [9, 384, '“oh, yes— john '], [9, 390, 'look, there is john—and miss howard—'], [9, 392, '“yes, john likes me, i think, and of course evie, for all her gruff ways, wouldn’t be unkind to a fly'], [10, 23, 'after some reflecting, i decided to take john into my confidence, and leave him to make the matter public or not, as he thought fit'], [10, 31, 'john reflected'], [10, 42, 'listen, i have said nothing to anybody but john'], [10, 192, '“where i come from, who i was before i married john—anything, in fact'], [10, 220, 'she paused a minute, and added in a different tone: “and then i met john cavendish'], [10, 239, '“you and john are not going to live here'], [10, 240, '“john may live here, but i shall not'], [10, 253, '“john was so kind as to break that to me this morning'], [10, 259, 'apparently he is a german spy; so the gardener had told john'], [10, 469, 'they’ve arrested him—they’ve arrested mr. cavendish'], [10, 474, 'not mr. lawrence—mr. john'], [11, 0, ' the trial of john cavendish for the murder of his stepmother took place two months later'], [11, 19, '“but john'], [11, 20, 'my old friend john'], [11, 25, 'i was rather disconcerted by this, remembering how i had busily passed on to john what i believed to be poirot’s views concerning bauerstein'], [11, 28, 'i asked poirot whether he thought john would be condemned'], [11, 39, '“when did you first suspect john cavendish'], [11, 45, '“did you not put two and two together, and reflect that if it was not alfred inglethorp who was quarrelling with his wife—and you remember, he strenuously denied it at the inquest—it must be either lawrence or john'], [11, 47, 'but if, on the other hand, it was john, the whole thing was explained quite naturally'], [11, 48, '“so,” i cried, a light breaking in upon me, “it was john who quarrelled with his mother that afternoon'], [11, 76, 'john cavendish did not destroy that will'], [11, 79, 'i will merely state baldly that john cavendish reserved his defence, and was duly committed for trial'], [11, 85, 'privately, i hoped it might remain so, for what happiness could there be for mary, if john were not acquitted'], [11, 86, 'on september 15th john cavendish appeared in the dock at the old bailey, charged with “the wilful murder of emily agnes inglethorp,” and pleaded “not guilty'], [11, 125, 'dorcas, faithful to her “young gentlemen,” denied strenuously that it could have been john’s voice she heard, and resolutely declared, in the teeth of everything, that it was mr. inglethorp who had been in the boudoir with her mistress'], [11, 189, 'hearing a slight noise in the west wing, she had peeped along the passage, and had seen mr. john cavendish knocking at mrs. inglethorp’s door'], [11, 194, 'what a net he has drawn around my poor john'], [11, 205, 'he is endeavouring to make out that there is quite as much evidence against lawrence as against john—and i am not at all sure that he will not succeed'], [11, 284, '“be careful, mr. cavendish'], [11, 307, 'with a satisfied and expressive countenance, sir ernest observed: “i have nothing more to ask you, mr. cavendish'], [11, 335, 'finally, he would point out to the jury that there was evidence against other people besides john cavendish'], [11, 338, 'john acquitted himself well in the witness-box'], [11, 345, 'sir ernest merely smiled, and noted with a sharp eye that john’s protest had produced a very favourable impression on the jury'], [11, 380, 'evidently there was a likelihood of john cavendish being acquitted'], [12, 27, '“ messieurs, mesdames , as you all know, i was called in by monsieur john cavendish to investigate this case'], [12, 98, 'i conjectured, and conjectured rightly, that these words were addressed, not to her husband, but to mr. john cavendish'], [13, 4, 'in the room below, john and mary were together once more, while alfred inglethorp and miss howard were in custody'], [13, 22, 'think now, did i ever say to you that i believed john cavendish guilty'], [13, 42, 'then, when i discovered that inglethorp had nothing to do with mrs. raikes and that in fact it was john cavendish who was interested in that quarter, i was quite sure'], [13, 46, 'but, when i discovered that it was known all over the village that it was john who was attracted by the farmer’s pretty wife, his silence bore quite a different interpretation'], [13, 92, '“they arranged a plan to throw suspicion on john cavendish, by buying strychnine at the village chemist’s, and signing the register in his hand-writing'], [13, 96, 'at six o’clock, miss howard, disguised as alfred inglethorp, enters the chemist’s shop, with her story about a dog, obtains the strychnine, and writes the name of alfred inglethorp in john’s handwriting, which she had previously studied carefully'], [13, 97, '“but, as it will never do if john, too, can prove an alibi, she writes him an anonymous note—still copying his hand-writing—which takes him to a remote spot where it is exceedingly unlikely that anyone will see him'], [13, 101, 'there is nothing that can compromise him in any way, since it is miss howard who has the strychnine, which, after all, is only wanted as a blind to throw suspicion on john cavendish'], [13, 133, 'probably, at this minute, too, he hears the sounds below of mr. wells and john leaving the boudoir'], [13, 173, 'they were supposed to be deadly enemies, and until john cavendish was safely convicted they neither of them dared risk a meeting'], [13, 211, 'she hides the strychnine and glasses in john’s room'], [13, 214, '“i don’t quite see why they tried to fix the blame on john,” i remarked'], [13, 256, 'he had taken it into his long head that mademoiselle cynthia was in love with monsieur john'], [13, 270, 'even john and his wife are reconciled'], [13, 274, 'that john cavendish still loved his wife, i was convinced'], [13, 284, 'do you remember the day of john cavendish’s arrest, when you found me deliberating over a big decision'], [13, 287, 'i was trying to decide whether or not i would clear john cavendish at once'], [13, 290, '“do you mean that you could have saved john cavendish from being brought to trial'], [13, 308, 'he had stood aside, and as i went out i had seen the look in mary’s eyes, as john cavendish had caught his wife in his arms']]\n",
      "[[1, 32, 'as for evie—you remember evie'], [1, 36, 'a great sport—old evie'], [1, 40, 'he turned up from nowhere, on the pretext of being a second cousin or something of evie’s, though she didn’t seem particularly keen to acknowledge the relationship'], [1, 47, 'but you could have knocked us all down with a feather when, three months ago, she suddenly announced that she and alfred were engaged'], [1, 69, 'it’s a jolly good life taking it all round—if it weren’t for that fellow alfred inglethorp'], [1, 81, '“hullo, evie, here’s our wounded hero'], [1, 82, 'mr. hastings—miss howard'], [1, 83, 'miss howard shook hands with a hearty, almost painful, grip'], [1, 95, '“you’re a cynic, evie,” said john, laughing'], [1, 102, '“well,” said miss howard, drawing off her gardening gloves, “i’m inclined to agree with you'], [1, 113, 'at that moment a well remembered voice floated through the open french window near at hand: “then you’ll write to the princess after tea, alfred'], [1, 120, 'you are so thoughtful, alfred dear'], [1, 125, 'alfred, darling, mr. hastings—my husband'], [1, 126, 'i looked with some curiosity at “alfred darling”'], [1, 137, 'with the presence of mr. inglethorp, a sense of constraint and veiled hostility seemed to settle down upon the company'], [1, 138, 'miss howard, in particular, took no pains to conceal her feelings'], [1, 144, 'presently mrs. inglethorp turned to give some instructions about letters to evelyn howard, and her husband addressed me in his painstaking voice: “is soldiering your regular profession, mr. hastings'], [1, 168, '“like a good detective story myself,” remarked miss howard'], [1, 248, 'evie’s had a row with alfred inglethorp, and she’s off'], [1, 249, '“evie'], [1, 252, '“yes; you see she went to the mater, and—oh,—here’s evie herself'], [1, 253, 'miss howard entered'], [1, 257, '“my dear evelyn,” cried mrs. cavendish, “this can’t be true'], [1, 258, 'miss howard nodded grimly'], [1, 268, 'just ask your alfred how much time he spends over there'], [1, 277, 'miss howard made an extremely expressive grimace'], [1, 278, '“‘darling alfred’—‘dearest alfred’—‘wicked calumnies’ —‘wicked lies’—‘wicked woman’—to accuse her ‘dear husband'], [1, 286, 'as she left the room, miss howard’s face changed'], [1, 299, '“of course, miss howard,” i said, “i’ll do everything i can, but i’m sure you’re excited and overwrought'], [1, 305, 'the throb of the motor came through the open window, and miss howard rose and moved to the door'], [1, 310, 'miss howard was swallowed up in an eager chorus of protests and good-byes'], [1, 324, 'she always had a rough tongue, but there is no stauncher friend in england than evelyn howard'], [1, 330, '“the one that miss howard—'], [1, 349, 'for the first time i felt that, with evelyn howard, something indefinable had gone from the atmosphere'], [2, 4, 'i received a letter from evelyn howard a couple of days after her departure, telling me she was working as a nurse at the big hospital in middlingham, a manufacturing town some fifteen miles away, and begging me to let her know if mrs. inglethorp should show any wish to be reconciled'], [2, 155, 'i thought of mrs. raikes’s gipsy face, and evelyn howard’s warnings, but wisely decided to hold my peace, whilst cynthia exhausted every possible hypothesis, and cheerfully hoped, “aunt emily will send him away, and will never speak to him again'], [2, 160, 'mr. inglethorp was in the drawing-room when i came down to supper'], [2, 189, 'in a few moments, alfred inglethorp had ushered the doctor in, the latter laughing, and protesting that he was in no fit state for a drawing-room'], [2, 193, '“i did not really mean to come in, but mr. inglethorp insisted'], [2, 208, '“i’ll walk down to the village with you,” said mr. inglethorp'], [3, 20, '“try going through mr. inglethorp’s room, sir,” cried dorcas'], [3, 22, 'suddenly i realized that alfred inglethorp was not with us—that he alone had given no sign of his presence'], [3, 78, 'for one instant he stopped dead, staring at the figure on the bed, and, at the same instant, mrs. inglethorp cried out in a strangled voice, her eyes fixed on the doctor: “alfred—alfred—'], [3, 138, 'we were all silent, but i suppose i voiced the thoughts of us all when i at last broke it by saying: “where is mr. inglethorp'], [3, 142, 'where  was  alfred inglethorp'], [4, 4, 'it was mr. inglethorp'], [4, 35, 'i told him of my awakening, of mrs. inglethorp’s dying words, of her husband’s absence, of the quarrel the day before, of the scrap of conversation between mary and her mother-in-law that i had overheard, of the former quarrel between mrs. inglethorp and evelyn howard, and of the latter’s innuendoes'], [4, 293, 'we passed through alfred inglethorp’s room, and poirot delayed long enough to make a brief but fairly comprehensive examination of it'], [4, 355, 'i didn’t hear what mr. inglethorp replied'], [4, 366, '“you are sure it was mr. inglethorp’s voice you heard'], [4, 494, 'one was to miss howard, and one was to mr. wells, the lawyer, and the other two i don’t think i remember, sir—oh, yes, one was to ross’s, the caterers in tadminster'], [4, 549, '“and the door into mr. inglethorp’s room'], [4, 599, '“mr. inglethorp’s'], [4, 608, 'to my surprise, he did not examine them, merely remarking approvingly as he relocked the desk: “decidedly, he is a man of method, this mr. inglethorp'], [5, 38, 'one, two, three, four, five—but where, then, is the cup of mr. inglethorp'], [5, 62, 'ever since the early hours of the morning, john had been hard at work, sending telegrams—one of the first had gone to evelyn howard—writing notices for the papers, and generally occupying himself with the melancholy duties that a death entails'], [5, 75, 'john broke the rather awkward silence by saying with a slight effort: “i told you, didn’t i, that mr. inglethorp has returned'], [5, 83, 'mr. inglethorp’s reason for not returning last night was, i believe, that he had forgotten the latch-key'], [5, 94, 'if mr. inglethorp did take it, he has had ample time to replace it by now'], [5, 109, 'i pass over alfred inglethorp, who acted the bereaved widower in a manner that i felt to be disgusting in its hypocrisy'], [5, 233, '“suppose,” suggested poirot, “that, unknown to you, she had made a new will in favour of someone who was not, in any sense of the word, a member of the family—we will say miss howard, for instance—would you be surprised'], [5, 238, '“do you think mrs. inglethorp made a will leaving all her money to miss howard'], [5, 247, 'mr. inglethorp is quite willing to leave it entirely to mr. wells and myself'], [5, 347, '“evie!” cried john'], [5, 351, '“miss howard,” i explained'], [5, 355, 'i followed john’s example, and went out into the hall, where miss howard was endeavouring to extricate herself from the voluminous mass of veils that enveloped her head'], [5, 360, 'she had known alfred inglethorp only too well'], [5, 368, '“have you had anything to eat this morning, evie?” asked john'], [5, 376, 'he’s helping us, you know, evie'], [5, 377, 'miss howard shook hands with poirot, but glanced suspiciously over her shoulder at john'], [5, 384, 'alfred inglethorp, of course'], [5, 385, '“my dear evie, do be careful'], [5, 387, '“more fool, lawrence!” retorted miss howard'], [5, 388, '“of course alfred inglethorp murdered poor emily—as i always told you he would'], [5, 389, '“my dear evie, don’t shout so'], [5, 393, 'the snort miss howard gave was truly magnificent'], [5, 412, '“dash it all, evie, i can’t haul him down to the local police station by the scruff of his neck'], [5, 418, 'it occurred to me very forcibly at that moment that to harbour miss howard and alfred inglethorp under the same roof, and keep the peace between them, was likely to prove a herculean task, and i did not envy john'], [5, 422, 'as she left the room, poirot came over from the window where he had been standing, and sat down facing miss howard'], [5, 426, '“i’ll help you to hang alfred with pleasure,” she replied gruffly'], [5, 430, '“alfred inglethorp'], [5, 437, 'but along comes mr. alfred inglethorp—and within two months—hey presto'], [5, 438, '“believe me, miss howard,” said poirot very earnestly, “if mr. inglethorp is the man, he shall not escape me'], [5, 440, '“that’s better,” said miss howard more enthusiastically'], [5, 445, 'miss howard blinked, and a new note crept into the gruffness of her voice'], [5, 543, '“mr. inglethorp and miss howard'], [5, 624, '“locked up in the desk in the boudoir, they found a will of mrs. inglethorp’s, dated before her marriage, leaving her fortune to alfred inglethorp'], [5, 628, '“did mr. inglethorp know of it'], [5, 664, '“yes,” i said, “alfred inglethorp, without doubt'], [5, 678, '“because if mr. inglethorp knew that his wife would be poisoned last night, he would certainly have arranged to be away from the house'], [5, 686, 'this mr. inglethorp, i should say, is somewhat of a scoundrel—but that does not of necessity make him a murderer'], [5, 800, '“and supposing the coroner’s jury returns a verdict of wilful murder against alfred inglethorp'], [5, 804, 'for one thing, a country jury is not anxious to take responsibility upon itself, and mr. inglethorp stands practically in the position of local squire'], [5, 820, 'she would never forgive me if i let alfred inglethorp, her husband, be arrested  now —when a word from me could save him'], [6, 28, 'evelyn howard had been right then, and i experienced a sharp twinge of disgust, as i thought of alfred inglethorp’s liberality with another woman’s money'], [6, 57, 'she turned towards me, and gasped out: ‘alfred—alfred——’” “could the strychnine have been administered in mrs. inglethorp’s after-dinner coffee which was taken to her by her husband'], [6, 183, '“miss howard'], [6, 184, 'miss howard produced the letter written to her by mrs. inglethorp on the evening of the 17th'], [6, 187, 'the following is a facsimile: styles court essex hand written note:      july 17th      my dear evelyn      can we not bury      the hachet'], [6, 191, '“plain as a pikestaff to me,” said miss howard shortly'], [6, 203, 'miss howard was obviously quite a public character'], [6, 207, 'the coroner interrupted her in an agony of apprehension: “thank you, miss howard, that is all'], [6, 224, 'it was to mr. inglethorp'], [6, 225, 'every eye turned simultaneously to where alfred inglethorp was sitting, impassive and wooden'], [6, 233, 'but, seeing it was mr. inglethorp of the hall, i thought there was no harm in it'], [6, 238, '“yes, sir, mr. inglethorp did so'], [6, 242, 'then, amidst a breathless silence, alfred inglethorp was called'], [6, 258, 'alfred inglethorp replied imperturbably: “mr. mace must have been mistaken'], [6, 259, 'the coroner hesitated for a moment, and then said: “mr. inglethorp, as a mere matter of form, would you mind telling us where you were on the evening of monday, july 16th'], [6, 261, '“that is absurd, mr. inglethorp,” said the coroner sharply'], [6, 276, '“be careful, mr. inglethorp'], [6, 285, '“pardon me,” interrupted alfred inglethorp, “you have been misinformed'], [6, 298, 'was he at last convinced of alfred inglethorp’s guilt'], [6, 299, '“mr. inglethorp,” said the coroner, “you have heard your wife’s dying words repeated here'], [6, 314, 'the coroner reflected a moment, then he said: “i believe, mr. inglethorp, that you yourself poured out the coffee, and took it to your wife that evening'], [7, 37, 'from the evidence at the inquest, mr. inglethorp murdered his wife as sure as i stand here, and if anyone but you hinted the contrary i’d laugh in his face'], [7, 53, 'use your warrant: arrest mr. inglethorp'], [7, 69, 'and alfred inglethorp must not be arrested'], [7, 77, 'at styles, mr. inglethorp will give you, or if he refuses—as is probable—i will give you such proofs that shall satisfy you that the case against him could not possibly be sustained'], [7, 92, 'far more convincing than mr. inglethorp’s stony denials'], [7, 95, 'but, seriously, in spite of what i heard you say to the detectives, you surely cannot still believe in the possibility of alfred inglethorp’s innocence'], [7, 132, '“i beg your pardon, he saw a man with a black beard like mr. inglethorp’s, and wearing glasses like mr. inglethorp, and dressed in mr. inglethorp’s rather noticeable clothes'], [7, 137, '“the important fact that alfred inglethorp wears peculiar clothes, has a black beard, and uses glasses,” i quoted'], [7, 147, 'but in the case of alfred inglethorp, all that is changed'], [7, 154, 'everybody was predisposed to believe in mr. inglethorp’s guilt'], [7, 155, 'it was a foregone conclusion that he would be suspected; but, to make it a sure thing there must be tangible proof—such as the actual buying of the poison, and that, with a man of the peculiar appearance of mr. inglethorp, was not difficult'], [7, 156, 'remember, this young mace had never actually spoken to mr. inglethorp'], [7, 157, 'how should he doubt that the man in his clothes, with his beard and his glasses, was not alfred inglethorp'], [7, 175, '“perhaps,” i said doubtfully, for i was really quite indifferent to the fate of alfred inglethorp, and thought that a good fright would do him no harm'], [7, 177, '“come, my friend,” he said, changing the subject, “apart from mr. inglethorp, how did the evidence at the inquest strike you'], [7, 209, 'it seems inconceivable that she should be shielding alfred inglethorp'], [7, 235, 'but there’s john—and miss howard, surely they were speaking the truth'], [7, 239, 'miss howard’s evidence, unimportant as it was, had been given in such a downright straightforward manner that it had never occurred to me to doubt her sincerity'], [7, 243, '“miss howard had always seemed to me so essentially honest—almost uncomfortably so'], [7, 274, 'that object, it concerns mr. alfred inglethorp'], [7, 276, '“mr. inglethorp,” said poirot, addressing him directly, “a very dark shadow is resting on this house—the shadow of murder'], [7, 282, 'and as inglethorp did not appear to understand, he added: “mr. inglethorp, you are standing in very grave danger'], [7, 295, 'mr. inglethorp, knowing what i have now told you, do you still refuse to say where you were at six o’clock on monday afternoon'], [7, 296, 'with a groan, alfred inglethorp sank down again and buried his face in his hands'], [7, 308, 'alfred inglethorp sprang up again'], [7, 317, 'i, hercule poirot, affirm that the man who entered the chemist’s shop, and purchased strychnine at six o’clock on monday last was not mr. inglethorp, for at six o’clock on that day mr. inglethorp was escorting mrs. raikes back to her home from a neighbouring farm'], [8, 17, '“a most malicious and utterly untrue one,” interrupted alfred inglethorp in an agitated voice'], [8, 18, '“and mr. inglethorp was anxious to have no scandal revived just at present'], [8, 28, 'and he shot a baleful glance at evelyn howard'], [8, 90, 'of course, he didn’t want to come in—it was just after dinner—but mr. inglethorp insisted'], [8, 126, 'of course you realize that, now mr. inglethorp is out of it, the whole position is greatly changed'], [8, 131, 'i have ascertained that anyone in the household, with the exception of mrs. cavendish, who was playing tennis with you, could have personated mr. inglethorp on monday evening'], [8, 139, '“in clearing alfred inglethorp,” continued poirot, “i have been obliged to show my hand sooner than i intended'], [8, 154, '“well then,” i blurted out, “it’s absurd—but i suspect miss howard of not telling all she knows'], [8, 155, '“miss howard'], [8, 166, '“well, i learnt that miss howard had been on afternoon duty on tuesday, and that—a convoy coming in unexpectedly—she had kindly offered to remain on night duty, which offer was gratefully accepted'], [8, 181, 'there is nothing weak-minded or degenerate about miss howard'], [8, 190, 'now, what reasons are there against miss howard’s having deliberately poisoned mrs. inglethorp'], [8, 196, 'if miss howard were capable of poisoning the old lady, she would be quite equally capable of simulating devotion'], [8, 198, 'you are perfectly correct in your assumption that her vehemence against alfred inglethorp is too violent to be natural; but you are quite wrong in the deduction you draw from it'], [8, 201, '“now, to my way of thinking, there is one insuperable objection to miss howard’s being the murderess'], [8, 203, '“that in no possible way could mrs. inglethorp’s death benefit miss howard'], [8, 212, 'miss howard occupied very much the same position, so i used her name instead'], [8, 218, 'but i can tell you this much—it was not in miss howard’s favour'], [8, 220, '“well,” i said, with a sigh, “we will acquit miss howard, then'], [8, 265, 'however, my confidence in him, which at one time had rather waned, was fully restored since his belief in alfred inglethorp’s innocence had been so triumphantly vindicated'], [8, 266, 'the funeral of mrs. inglethorp took place the following day, and on monday, as i came down to a late breakfast, john drew me aside, and informed me that mr. inglethorp was leaving that morning, to take up his quarters at the stylites arms until he should have completed his plans'], [8, 374, 'it was cut exactly the shape of mr. inglethorp’s, and i found one or two snipped hairs'], [8, 400, '“here comes miss howard,” said poirot suddenly'], [8, 402, 'but i am in her black books, since i cleared mr. inglethorp'], [8, 404, 'with a nod that was barely civil, miss howard assented to poirot’s request for a few minutes’ conversation'], [8, 406, '“well, monsieur poirot,” said miss howard impatiently, “what is it'], [8, 412, '“and i told you i’d help you with pleasure—to hang alfred inglethorp'], [8, 415, '“miss howard, i will ask you one question'], [8, 417, '“never tell lies,” replied miss howard'], [8, 433, '“good heavens!” cried miss howard'], [8, 440, '“miss howard, do you remember a conversation that took place on the day of my friend’s arrival here'], [8, 447, '“and yet you will pay no attention to my instinct against alfred inglethorp'], [8, 449, '“because your instinct is not against mr. inglethorp'], [8, 457, '“shall i tell you why you have been so vehement against mr. inglethorp'], [8, 460, '“no, no, no!” cried miss howard wildly, flinging up her hands'], [8, 469, 'it  must  be alfred inglethorp'], [8, 471, '“don’t ask me about it,” continued miss howard, “because i shan’t tell you'], [8, 488, 'evelyn howard bowed her head'], [8, 494, 'if we are right, miss howard, on whose side are you then'], [8, 501, '“miss howard,” said poirot gravely, “this is unworthy of you'], [8, 503, '“yes,” she said quietly, “that was not evelyn howard who spoke'], [8, 505, '“ this  is evelyn howard'], [8, 514, '“you and miss howard seem to know what you are talking about,” i observed coldly'], [9, 146, 'the truth of the matter was that it was lawrence who had murdered alfred inglethorp with a croquet mallet'], [9, 295, 'then i remembered that enigmatical conversation between poirot and evelyn howard'], [9, 297, 'was this the monstrous possibility that evelyn had tried not to believe'], [9, 299, 'no wonder miss howard had suggested “hushing it up'], [9, 351, '“lot of paul prys,” grunted miss howard'], [9, 390, 'look, there is john—and miss howard—'], [9, 392, '“yes, john likes me, i think, and of course evie, for all her gruff ways, wouldn’t be unkind to a fly'], [9, 394, 'she wants evie to stay on, is begging her to, but she doesn’t want me, and—and—i don’t know what to do'], [10, 113, 'i am not a vain man where women are concerned, but i remembered certain evidences, too lightly thought of at the time, perhaps, but which certainly seemed to indicate—— my pleasing thoughts were interrupted by the sudden entrance of miss howard'], [10, 136, 'having deduced its existence, i set miss howard to search for it, and, as you see, she has been successful'], [11, 45, '“did you not put two and two together, and reflect that if it was not alfred inglethorp who was quarrelling with his wife—and you remember, he strenuously denied it at the inquest—it must be either lawrence or john'], [11, 97, 'luckily for mr. inglethorp, he had been able to produce an unimpeachable alibi'], [11, 107, 'the prisoner had been arrested in consequence of the discovery, in his room, by detective inspector japp—a most brilliant officer—of the identical phial of strychnine which had been sold at the village chemist’s to the supposed mr. inglethorp on the day before the murder'], [11, 117, 'mr. mace identified the phial handed him by counsel as that sold by him to “mr. inglethorp'], [11, 118, 'pressed, he admitted that he only knew mr. inglethorp by sight'], [11, 121, 'alfred inglethorp was called, and denied having purchased the poison'], [11, 125, 'dorcas, faithful to her “young gentlemen,” denied strenuously that it could have been john’s voice she heard, and resolutely declared, in the teeth of everything, that it was mr. inglethorp who had been in the boudoir with her mistress'], [11, 137, 'it would be miss howard who would attend to anything like that'], [11, 138, 'evelyn howard was called and, after being examined on other points, was questioned as to the parcel'], [11, 148, '“i believe, miss howard, that it was you who found this sheet of brown paper'], [11, 187, 'elizabeth wells, second housemaid at styles, stated that after she had gone to bed she remembered that she had bolted the front door, instead of leaving it on the latch as mr. inglethorp had requested'], [11, 208, 'in his chest of drawers, hidden beneath some underclothing, we found: first, a pair of gold-rimmed pince-nez similar to those worn by mr. inglethorp”—these were exhibited—“secondly, this phial'], [11, 215, 'erything of which i die possessed i leave to my beloved husband alfred ing'], [11, 253, 'evelyn howard had been right in her facts, though her animosity against alfred inglethorp had caused her to jump to the conclusion that he was the person concerned'], [11, 311, 'the hand-writing experts were called upon for their opinion of the signature of “alfred inglethorp” in the chemist’s poison register'], [11, 323, 'his learned friend—sir ernest nodded carelessly at mr. philips—had stated that if the prisoner were an innocent man, he would have come forward at the inquest to explain that it was he, and not mr. inglethorp, who had been the participator in the quarrel'], [11, 327, 'no suspicion had entered the prisoner’s head that anyone could possibly have mistaken his voice for that of mr. inglethorp'], [11, 329, 'the prosecution averred that on monday, july 16th, the prisoner had entered the chemist’s shop in the village, disguised as mr. inglethorp'], [11, 347, '“i understand you to say that it never entered your head that the witnesses at the inquest could possibly have mistaken your voice for that of mr. inglethorp'], [11, 350, 'i was told there had been a quarrel between my mother and mr. inglethorp, and it never occurred to me that such was not really the case'], [11, 368, 'mary, where you purchased strychnine in the name of alfred inglethorp'], [11, 370, '“i put it to you that, wearing a suit of mr. inglethorp’s clothes, with a black beard trimmed to resemble his, you were there—and signed the register in his name'], [12, 12, '“miss howard—here'], [12, 18, 'we must delay our proceedings a few minutes until mr. inglethorp arrives'], [12, 20, 'miss howard rose immediately from her seat'], [12, 24, 'finally miss howard consented to return to her chair'], [12, 25, 'a few minutes later alfred inglethorp entered the room'], [12, 149, 'the servants noticed nothing, since annie, the housemaid, who took in the coffee, brought in seven cups, not knowing that mr. inglethorp never drank it, whereas dorcas, who cleared them away the following morning, found six as usual—or strictly speaking she found five, the sixth being the one found broken in mrs. inglethorp’s room'], [12, 246, 'in the deathly silence, poirot pieced together the slips of paper and, clearing his throat, read: dearest evelyn:     ‘you will be anxious at hearing nothing'], [12, 262, '“ messieurs, mesdames ,” said poirot, with a flourish, “let me introduce you to the murderer, mr. alfred inglethorp'], [13, 4, 'in the room below, john and mary were together once more, while alfred inglethorp and miss howard were in custody'], [13, 11, 'if i had told you my ideas, the very first time you saw mr. alfred inglethorp that astute gentleman would have—in your so expressive idiom—‘smelt a rat’'], [13, 28, '“then again,” continued poirot, “at the beginning, did i not repeat to you several times that i didn’t want mr. inglethorp arrested  now '], [13, 34, 'when i went up to styles with you that first day, i had no idea as to how the crime had been committed, but from what i knew of mr. inglethorp i fancied that it would be very hard to find anything to connect him with it'], [13, 38, '“well, my friend, as i say, my views as to mr. inglethorp’s guilt were very much shaken'], [13, 48, 'this attitude of his gave me furiously to think, and i was slowly forced to the conclusion that alfred inglethorp wanted to be arrested'], [13, 64, 'you have not yet realized that it was miss howard who went to the chemist’s shop'], [13, 65, '“miss howard'], [13, 75, 'i am inclined to think that miss howard was the master mind in that affair'], [13, 85, 'miss howard will have engineered her quarrel, and departed from the house'], [13, 94, 'on monday, therefore, at six o’clock, alfred inglethorp arranges to be seen by a number of people at a spot far removed from the village'], [13, 95, 'miss howard has previously made up a cock and bull story about him and mrs. raikes to account for his holding his tongue afterwards'], [13, 96, 'at six o’clock, miss howard, disguised as alfred inglethorp, enters the chemist’s shop, with her story about a dog, obtains the strychnine, and writes the name of alfred inglethorp in john’s handwriting, which she had previously studied carefully'], [13, 99, 'miss howard goes back to middlingham'], [13, 100, 'alfred inglethorp returns to styles'], [13, 101, 'there is nothing that can compromise him in any way, since it is miss howard who has the strychnine, which, after all, is only wanted as a blind to throw suspicion on john cavendish'], [13, 112, 'mrs. inglethorp reads it, and becomes aware of the perfidy of her husband and evelyn howard, though, unfortunately, the sentence about the bromides conveys no warning to her mind'], [13, 170, '“but surely miss howard had ample opportunities of aiding him'], [13, 171, '“yes, but miss howard did not know of the paper’s existence'], [13, 172, 'in accordance with their prearranged plan, she never spoke to alfred inglethorp'], [13, 174, 'of course i had a watch kept on mr. inglethorp, hoping that sooner or later he would lead me to the hiding-place'], [13, 178, '“i understand that now; but when did you first begin to suspect miss howard'], [13, 188, '“you do not see that that letter was not written on the 17th, but on the 7th—the day after miss howard’s departure'], [13, 192, 'why does miss howard suppress the letter written on the 17th, and produce this faked one instead'], [13, 197, '“and yet,” i cried indignantly, “after that, you gave me two reasons why miss howard could not have committed the crime'], [13, 199, '“for a long time they were a stumbling-block to me until i remembered a very significant fact: that she and alfred inglethorp were cousins']]\n",
      "['us', 'as', 'for', 'you', 'remember', 'evie']\n",
      "['for', 'evie—you', 'remember', 'no', 'oh', 'i']\n",
      "['a', 'great', 'sport—old', 'not', 'precisely', 'young']\n",
      "['of', 'being', 'a', 'or', 'something', 'of']\n",
      "['or', 'something', 'of', 's', 'though', 'she']\n",
      "['that', 'she', 'and', 'were', 'engaged', 'the']\n",
      "['for', 'that', 'fellow', 'he', 'checked', 'the']\n",
      "['our', 'approach', 'hullo', 'here', 's', 'our']\n",
      "['hero', 'mr', 'hastings', 'miss', 'howard', 'shook']\n",
      "['mr', 'hastings—miss', 'howard', 'shook', 'hands', 'with']\n",
      "['re', 'a', 'cynic', 'said', 'john', 'laughing']\n",
      "['refreshed', 'well', 'said', 'drawing', 'off', 'her']\n",
      "['princess', 'after', 'tea', 'i', 'll', 'write']\n",
      "['are', 'so', 'thoughtful', 'dear', 'the', 'french']\n",
      "['all', 'these', 'years', 'darling', 'mr', 'hastings—my']\n",
      "['some', 'curiosity', 'at', 'darling', 'he', 'certainly']\n",
      "['upon', 'the', 'company', 'in', 'particular', 'took']\n",
      "['about', 'letters', 'to', 'and', 'her', 'husband']\n",
      "['story', 'myself', 'remarked', 'lots', 'of', 'nonsense']\n",
      "['of', 'a', 'mess', 's', 'had', 'a']\n",
      "['a', 'row', 'with', 'and', 'she', 's']\n",
      "['she', 's', 'off', 'off', 'john', 'nodded']\n",
      "['and—oh', '—here', 's', 'herself', 'miss', 'howard']\n",
      "['s', 'evie', 'herself', 'entered', 'her', 'lips']\n",
      "['mind', 'my', 'dear', 'cried', 'mrs', 'cavendish']\n",
      "['t', 'be', 'true', 'nodded', 'grimly', 'true']\n",
      "['just', 'ask', 'your', 'how', 'much', 'time']\n",
      "['did', 'she', 'say', 'made', 'an', 'extremely']\n",
      "['expressive', 'grimace', 'darling', '—', 'dearest', 'alfred']\n",
      "['alfred', '—', 'dearest', '—', 'wicked', 'calumnies']\n",
      "['left', 'the', 'room', 's', 'face', 'changed']\n",
      "['her', 'of', 'course', 'i', 'said', 'i']\n",
      "['open', 'window', 'and', 'rose', 'and', 'moved']\n",
      "['time', 'for', 'more', 'was', 'swallowed', 'up']\n",
      "['in', 'england', 'than', 'he', 'took', 'the']\n",
      "['the', 'one', 'that', '', 'exactly', 'said']\n",
      "['felt', 'that', 'with', 'something', 'indefinable', 'had']\n",
      "['a', 'letter', 'from', 'a', 'couple', 'of']\n",
      "['gipsy', 'face', 'and', 's', 'warnings', 'but']\n",
      "['a', 'few', 'moments', 'had', 'ushered', 'the']\n",
      "['i', 'realized', 'that', 'was', 'not', 'with']\n",
      "['on', 'the', 'doctor', 'alfred—', 'then', 'she']\n",
      "['the', 'doctor', 'alfred', '', 'then', 'she']\n",
      "['met', 'where', 'was', 'his', 'absence', 'was']\n",
      "['mrs', 'inglethorp', 'and', 'and', 'of', 'the']\n",
      "['we', 'passed', 'through', 's', 'room', 'and']\n",
      "['one', 'was', 'to', 'and', 'one', 'was']\n",
      "['had', 'gone', 'to', 'writing', 'notices', 'for']\n",
      "['i', 'pass', 'over', 'who', 'acted', 'the']\n",
      "['family—we', 'will', 'say', 'for', 'instance—would', 'you']\n",
      "['her', 'money', 'to', 'i', 'asked', 'in']\n",
      "['it', 'swept', 'past', 'cried', 'john', 'excuse']\n",
      "['inquiringly', 'at', 'me', 'i', 'explained', 'ah']\n",
      "['the', 'hall', 'where', 'was', 'endeavouring', 'to']\n",
      "['she', 'had', 'known', 'only', 'too', 'well']\n",
      "['eat', 'this', 'morning', 'asked', 'john', 'no']\n",
      "['us', 'you', 'know', 'miss', 'howard', 'shook']\n",
      "['you', 'know', 'evie', 'shook', 'hands', 'with']\n",
      "['to', 'prison', 'who', 'of', 'course', 'my']\n",
      "['course', 'my', 'dear', 'do', 'be', 'careful']\n",
      "['fool', 'lawrence', 'retorted', 'of', 'course', 'alfred']\n",
      "['howard', 'of', 'course', 'murdered', 'poor', 'emily—as']\n",
      "['would', 'my', 'dear', 'don', 't', 'shout']\n",
      "['fiddlesticks', 'the', 'snort', 'gave', 'was', 'truly']\n",
      "['dash', 'it', 'all', 'i', 'can', 't']\n",
      "['that', 'to', 'harbour', 'and', 'alfred', 'inglethorp']\n",
      "['miss', 'howard', 'and', 'under', 'the', 'same']\n",
      "['sat', 'down', 'facing', 'mademoiselle', 'he', 'said']\n",
      "['you', 'to', 'hang', 'with', 'pleasure', 'she']\n",
      "['hang', 'the', 'criminal', 'him', 'or', 'another']\n",
      "['along', 'comes', 'mr', 'and', 'within', 'two']\n",
      "['presto', 'believe', 'me', 'said', 'poirot', 'very']\n",
      "['s', 'better', 'said', 'more', 'enthusiastically', 'but']\n",
      "['that', 'have', 'wept', 'blinked', 'and', 'a']\n",
      "['mr', 'inglethorp', 'and', 'she', 'looked', 'at']\n",
      "['her', 'fortune', 'to', 'it', 'must', 'have']\n",
      "['yes', 'i', 'said', 'without', 'doubt', 'poirot']\n",
      "['wilful', 'murder', 'against', 'what', 'becomes', 'of']\n",
      "['if', 'i', 'let', 'her', 'husband', 'be']\n",
      "['walked', 'on', 'sharply', 'had', 'been', 'right']\n",
      "['i', 'thought', 'of', 's', 'liberality', 'with']\n",
      "['and', 'gasped', 'out', 'alfred——', 'could', 'the']\n",
      "['gasped', 'out', 'alfred', '—', 'could', 'the']\n",
      "['that', 'is', 'all', 'miss', 'howard', 'produced']\n",
      "['all', 'miss', 'howard', 'produced', 'the', 'letter']\n",
      "['17th', 'my', 'dear', 'can', 'we', 'not']\n",
      "['to', 'me', 'said', 'shortly', 'it', 'shows']\n",
      "['of', 'the', 'jury', 'was', 'obviously', 'quite']\n",
      "['apprehension', 'thank', 'you', 'that', 'is', 'all']\n",
      "['simultaneously', 'to', 'where', 'was', 'sitting', 'impassive']\n",
      "['a', 'breathless', 'silence', 'was', 'called', 'did']\n",
      "['mace', 's', 'statement', 'replied', 'imperturbably', 'mr']\n",
      "['pardon', 'me', 'interrupted', 'you', 'have', 'been']\n",
      "['last', 'convinced', 'of', 's', 'guilt', 'mr']\n",
      "['not', 'enough', 'and', 'must', 'not', 'be']\n",
      "['the', 'possibility', 'of', 's', 'innocence', 'why']\n",
      "['important', 'fact', 'that', 'wears', 'peculiar', 'clothes']\n",
      "['the', 'case', 'of', 'all', 'that', 'is']\n",
      "['glasses', 'was', 'not', 'it', 'may', 'be']\n",
      "['the', 'fate', 'of', 'and', 'thought', 'that']\n",
      "['should', 'be', 'shielding', 'yet', 'that', 'is']\n",
      "['there', 's', 'john—and', 'surely', 'they', 'were']\n",
      "['an', 'unpleasant', 'shock', 's', 'evidence', 'unimportant']\n",
      "['so', 'i', 'asked', 'had', 'always', 'seemed']\n",
      "['it', 'concerns', 'mr', 'inglethorp', 'was', 'sitting']\n",
      "['with', 'a', 'groan', 'sank', 'down', 'again']\n",
      "['speak', 'for', 'you', 'sprang', 'up', 'again']\n",
      "['untrue', 'one', 'interrupted', 'in', 'an', 'agitated']\n",
      "['baleful', 'glance', 'at', 'now', 'sir', 'said']\n",
      "['suspicion', 'in', 'clearing', 'continued', 'poirot', 'i']\n",
      "['absurd—but', 'i', 'suspect', 'of', 'not', 'telling']\n",
      "['all', 'she', 'knows', 'yes—you', 'll', 'laugh']\n",
      "['i', 'learnt', 'that', 'had', 'been', 'on']\n",
      "['or', 'degenerate', 'about', 'she', 'is', 'an']\n",
      "['are', 'there', 'against', 's', 'having', 'deliberately']\n",
      "['a', 'child', 'if', 'were', 'capable', 'of']\n",
      "['her', 'vehemence', 'against', 'is', 'too', 'violent']\n",
      "['insuperable', 'objection', 'to', 's', 'being', 'the']\n",
      "['s', 'death', 'benefit', 'now', 'there', 'is']\n",
      "['in', 'my', 'mind', 'occupied', 'very', 'much']\n",
      "['was', 'not', 'in', 's', 'favour', 'i']\n",
      "['we', 'will', 'acquit', 'then', 'it', 'is']\n",
      "['his', 'belief', 'in', 's', 'innocence', 'had']\n",
      "['thoughtfully', 'here', 'comes', 'said', 'poirot', 'suddenly']\n",
      "['was', 'barely', 'civil', 'assented', 'to', 'poirot']\n",
      "['monsieur', 'poirot', 'said', 'impatiently', 'what', 'is']\n",
      "['with', 'pleasure—to', 'hang', 'ah', 'poirot', 'studied']\n",
      "['studied', 'her', 'seriously', 'i', 'will', 'ask']\n",
      "['tell', 'lies', 'replied', 'it', 'is', 'this']\n",
      "['good', 'heavens', 'cried', 'haven', 't', 'i']\n",
      "['what', 'little', 'idea', 'do', 'you', 'remember']\n",
      "['my', 'instinct', 'against', 'no', 'said', 'poirot']\n",
      "['no', 'no', 'cried', 'wildly', 'flinging', 'up']\n",
      "['it', 'must', 'be', 'poirot', 'shook', 'his']\n",
      "['about', 'it', 'continued', 'because', 'i', 'shan']\n",
      "['you', 'will', 'watch', 'bowed', 'her', 'head']\n",
      "['we', 'are', 'right', 'on', 'whose', 'side']\n",
      "['she', 'broke', 'off', 'said', 'poirot', 'gravely']\n",
      "['that', 'was', 'not', 'who', 'spoke', 'she']\n",
      "['proudly', 'this', 'is', 'and', 'she', 'is']\n",
      "['ignored', 'you', 'and', 'seem', 'to', 'know']\n",
      "['who', 'had', 'murdered', 'with', 'a', 'croquet']\n",
      "['between', 'poirot', 'and', 'was', 'this', 'what']\n",
      "['monstrous', 'possibility', 'that', 'had', 'tried', 'not']\n",
      "['in', 'no', 'wonder', 'had', 'suggested', 'hushing']\n",
      "['paul', 'prys', 'grunted', 'lawrence', 'opined', 'that']\n",
      "['there', 'is', 'john—and', '', 'cynthia', 'nodded']\n",
      "['and', 'of', 'course', 'for', 'all', 'her']\n",
      "['me', 'she', 'wants', 'to', 'stay', 'on']\n",
      "['sudden', 'entrance', 'of', 'she', 'glanced', 'round']\n",
      "['existence', 'i', 'set', 'to', 'search', 'for']\n",
      "['it', 'was', 'not', 'who', 'was', 'quarrelling']\n",
      "['not', 'cross', 'examined', 'was', 'called', 'and']\n",
      "['it', 'would', 'be', 'who', 'would', 'attend']\n",
      "['anything', 'like', 'that', 'was', 'called', 'and']\n",
      "['it', 'i', 'believe', 'that', 'it', 'was']\n",
      "['my', 'beloved', 'husband', 'ing', 'this', 'placed']\n",
      "['of', 'her', 'pride', 'had', 'been', 'right']\n",
      "['her', 'animosity', 'against', 'had', 'caused', 'her']\n",
      "['the', 'signature', 'of', 'in', 'the', 'chemist']\n",
      "['the', 'name', 'of', 'no', 'that', 'is']\n",
      "['he', 'did', 'so', 'here', 'mademoiselle', 'cynthia']\n",
      "['him', 'a', 'note', 'rose', 'immediately', 'from']\n",
      "['low', 'voice', 'finally', 'consented', 'to', 'return']\n",
      "['few', 'minutes', 'later', 'entered', 'the', 'room']\n",
      "['throat', 'read', 'dearest', 'you', 'will', 'be']\n",
      "['the', 'murderer', 'mr', '', 'poirot', 'you']\n",
      "['once', 'more', 'while', 'and', 'miss', 'howard']\n",
      "['alfred', 'inglethorp', 'and', 'were', 'in', 'custody']\n",
      "['you', 'saw', 'mr', 'that', 'astute', 'gentleman']\n",
      "['the', 'conclusion', 'that', 'wanted', 'to', 'be']\n",
      "['that', 'it', 'was', 'who', 'went', 'to']\n",
      "['chemist', 's', 'shop', 'but', 'certainly', 'who']\n",
      "['to', 'think', 'that', 'was', 'the', 'master']\n",
      "['by', 'that', 'time', 'will', 'have', 'engineered']\n",
      "['six', 'o', 'clock', 'arranges', 'to', 'be']\n",
      "['from', 'the', 'village', 'has', 'previously', 'made']\n",
      "['six', 'o', 'clock', 'disguised', 'as', 'alfred']\n",
      "['howard', 'disguised', 'as', 'enters', 'the', 'chemist']\n",
      "['the', 'name', 'of', 'in', 'john', 's']\n",
      "['all', 'goes', 'well', 'goes', 'back', 'to']\n",
      "['back', 'to', 'middlingham', 'returns', 'to', 'styles']\n",
      "['since', 'it', 'is', 'who', 'has', 'the']\n",
      "['her', 'husband', 'and', 'though', 'unfortunately', 'the']\n",
      "['vase', 'but', 'surely', 'had', 'ample', 'opportunities']\n",
      "['him', 'yes', 'but', 'did', 'not', 'know']\n",
      "['never', 'spoke', 'to', 'they', 'were', 'supposed']\n",
      "['begin', 'to', 'suspect', 'when', 'i', 'discovered']\n",
      "['7th—the', 'day', 'after', 's', 'departure', 'the']\n",
      "['myself', 'why', 'does', 'suppress', 'the', 'letter']\n",
      "['two', 'reasons', 'why', 'could', 'not', 'have']\n",
      "['that', 'she', 'and', 'were', 'cousins', 'she']\n",
      "192\n"
     ]
    }
   ],
   "source": [
    "# Block for book 2\n",
    "#Author: Luke\n",
    "  \n",
    "det=get_det(2)\n",
    "perp=get_perp(2)\n",
    "crime=get_crime(2)\n",
    "sus=get_sus(2)\n",
    "det_occur=get_occur(2,det)\n",
    "perp_occur=get_occur(2,perp)\n",
    "co=get_co_occur(2,det,perp)\n",
    "crime=get_occur(2,crime)\n",
    "sus_occur=get_occur(2,sus)\n",
    "print(det_occur)\n",
    "print(perp_occur)\n",
    "print(co)\n",
    "print(crime)\n",
    "print(sus_occur)\n",
    "print(perp_occur)\n",
    "perp_neighbors=get_3words(2,perp)\n",
    "for n in perp_neighbors:\n",
    "  print(n)\n",
    "print(len(perp_neighbors))\n",
    "#notes: avoided using \"murdered\" for crime as charcters often use word \n",
    "#murder in theoretial conversations and wild accusations\n",
    "#when discussing actual event, more specific language \"poison\" is used\n",
    "#poison needs to be further refined to avoid instances where acquisition of poison is discussed,\n",
    "#hence adding a check whether emily/mrs. cavendish/old lady/wife/mother is menttioned in same sentence\n",
    "#Mr. cavendish once refers to John's deceased father, so checked for that instance in regex"
   ]
  },
  {
   "cell_type": "markdown",
   "metadata": {
    "id": "3ovkF0EC1VdA"
   },
   "source": [
    "\n",
    "### Code - Do we need this anymore?\n"
   ]
  },
  {
   "cell_type": "code",
   "execution_count": 2,
   "metadata": {
    "colab": {
     "base_uri": "https://localhost:8080/",
     "height": 356
    },
    "id": "S_Lj5Stcn0DN",
    "outputId": "f6ae444a-4f00-4c74-cc35-bbe3ddaf19b4"
   },
   "outputs": [],
   "source": [
    "# Author: @verolero86\n",
    "\n",
    "# W.I.P. - first stab takes care of white space characters\n",
    "#import numpy as np # to grab unique elements \n",
    "\n",
    "#def find_white_space(book,nchars,debug):\n",
    "  #result_book = re.findall(r'\\s',book[0:nchars]);\n",
    "\n",
    "#  if debug == True:\n",
    "#    print(repr(book1_chapter1[0:nchars]))\n",
    "\n",
    " # print(f\"Number of white space characters = {len(result_book)}\")\n",
    " # print(f\"Unique types of white space characters found = {np.unique(result_book)}\")\n",
    "\n",
    "  #return len(result_book)\n",
    "\n",
    "#def remove_specific_white_space(book,regex):\n",
    "#  result_book = re.sub(regex,' ',book)\n",
    "\n",
    " # return result_book\n",
    "\n",
    "#def clean_data(book):\n",
    "  #ws_regex=r'[\\r\\n\\u200a]'\n",
    "  #result_book = remove_specific_white_space(book,ws_regex).lower()\n",
    "  #return result_book\n",
    "\n",
    "# Set a subset of characters for easier parsing (-1 for all in chapter)\n",
    "#num_ws_b1c1 = find_white_space(corpus[1][\"contents\"][1],-1,True);\n",
    "#print(num_ws_b1c1)\n",
    "\n",
    "#num_ws_b1c2 = find_white_space(corpus[1][\"contents\"][2],-1,False);\n",
    "#print(num_ws_b1c2)\n",
    "\n",
    "#num_ws_b2c1 = find_white_space(corpus[2][\"contents\"][1],-1,False);\n",
    "#print(num_ws_b2c1)\n",
    "\n",
    "# Cleaning up unwanted white space and breaking up int o sentences.\n",
    "#b1c1 = corpus[1][\"contents\"][1]\n",
    "#regex=r'[\\r\\n\\u200a]'\n",
    "#b1c1_no_ws = remove_specific_white_space(b1c1,regex)\n",
    "#print(f\"No \\\\r and \\\\n anymore: {repr(b1c1_no_ws[0:400])}\")\n",
    "#result_sentences = re.findall(r'[^\\.\\!\\?]*[\\.\\!\\?]',b1c1_no_ws);\n",
    "#print(repr(result_sentences[0]))\n",
    "#print(repr(result_sentences))\n",
    "#sentence_regex=r'[\\.\\?!](?![\\'\\\"\\u2019\\u201a\\u201c\\u275c\\u275f\\u201e\\u201d\\u0022\\u275e]\\s[a-z])(?![\\'\\\"\\u2019\\u201a\\u201c\\u275c\\u275f\\u201e\\u201d\\u0022\\u275e]\\sI said)[\\'\\\"\\u2018\\u2019\\u201c\\u201d\\)\\]]*\\s*(?<!\\w\\.\\w.)(?<![A-Z][a-z][a-z]\\.)(?<![A-Z][a-z]\\.)(?<![A-Z]\\.)\\s+'\n",
    "#result2=re.split(r'[\\.\\?!](?![\\'\\\"\\u2019\\u201a\\u201c\\u275c\\u275f\\u201e\\u201d\\u0022\\u275e]\\s[a-z])(?![\\'\\\"\\u2019\\u201a\\u201c\\u275c\\u275f\\u201e\\u201d\\u0022\\u275e]\\sI said)[\\'\\\"\\u2018\\u2019\\u201c\\u201d\\)\\]]*\\s*(?<!\\w\\.\\w.)(?<![A-Z][a-z][a-z]\\.)(?<![A-Z][a-z]\\.)(?<![A-Z]\\.)\\s+',b1c1_no_ws,flags=re.UNICODE)\n",
    "#result2=re.split(sentence_regex,b1c1_no_ws,flags=re.UNICODE)\n",
    "#print(b1c1_no_ws)\n",
    "#b1c1_clean = clean_data(b1c1)\n",
    "#result3=re.split(sentence_regex,b1c1_clean,flags=re.UNICODE)\n",
    "#print(result2)\n",
    "#print(result3)"
   ]
  },
  {
   "cell_type": "markdown",
   "metadata": {
    "id": "3ovkF0EC1VdA"
   },
   "source": [
    "\n",
    "\n",
    "#####   The Secret Adversary \n"
   ]
  },
  {
   "cell_type": "code",
   "execution_count": null,
   "metadata": {
    "id": "7-EP8mLjqrO-"
   },
   "outputs": [],
   "source": [
    "bookid=3\n",
    "print(corpus[bookid][\"title\"],len(corpus[bookid][\"chapters\"]),len(corpus[bookid][\"contents\"]))\n",
    "det=get_det(bookid)\n",
    "perp=get_perp(bookid)\n",
    "crime=get_crime(bookid)\n",
    "sus=get_sus(bookid)\n",
    "det_occur=get_occur(bookid,det)\n",
    "perp_occur=get_occur(bookid,perp)\n",
    "co=get_co_occur(bookid,det,perp)\n",
    "crime=get_occur(bookid,crime)\n",
    "sus_occur=get_occur(bookid,sus)\n",
    "#print(det)\n",
    "print(\"det_occur = \", det_occur)\n",
    "#print(perp)\n",
    "print(\"perp_occur = \", perp_occur)\n",
    "print(\"co = \", co)\n",
    "print(\"crime = \", crime)\n",
    "print(\"sus_occur = \", sus_occur)\n",
    "#print(get_context(1,3,116))\n"
   ]
  },
  {
   "cell_type": "markdown",
   "metadata": {
    "id": "3ovkF0EC1VdA"
   },
   "source": [
    "\n",
    "\n",
    "##### The Man in the Brown Suit \n"
   ]
  },
  {
   "cell_type": "code",
   "execution_count": null,
   "metadata": {
    "id": "ATzzpDAt1lnN"
   },
   "outputs": [],
   "source": [
    "det=get_det(4)\n",
    "perp=get_perp(4)\n",
    "crime=get_crime(4)\n",
    "sus=get_sus(4)\n",
    "det_occur=get_occur(4,det)\n",
    "perp_occur=get_occur(4,perp)\n",
    "co=get_co_occur(4,det,perp)\n",
    "crime=get_occur(4,crime)\n",
    "sus_occur=get_occur(4,sus)\n",
    "print(det_occur)\n",
    "print(perp_occur)\n",
    "print(co)\n",
    "print(crime)\n",
    "print(sus_occur)\n",
    "#print(get_context(1,7,184))\n",
    "print(len(perp_occur))\n",
    "print(perp_occur)"
   ]
  },
  {
   "cell_type": "markdown",
   "metadata": {
    "id": "3ovkF0EC1VdA"
   },
   "source": [
    "\n",
    "#####  The Secret of Chimneys \n"
   ]
  },
  {
   "cell_type": "code",
   "execution_count": null,
   "metadata": {
    "id": "VfT-3mXl1o6G"
   },
   "outputs": [],
   "source": [
    "det=get_det(5)\n",
    "perp=get_perp(5)\n",
    "crime=get_crime(5)\n",
    "sus=get_sus(5)\n",
    "det_occur=get_occur(5,det)\n",
    "perp_occur=get_occur(5,perp)\n",
    "co=get_co_occur(5,det,perp)\n",
    "crime=get_occur(5,crime)\n",
    "sus_occur=get_occur(5,sus)\n",
    "print(det_occur)\n",
    "print(perp_occur)\n",
    "print(co)\n",
    "print(crime)\n",
    "print(sus_occur)\n",
    "print(get_context(1,7,184))\n",
    "print(len(perp_occur))\n",
    "print(perp_occur)"
   ]
  },
  {
   "cell_type": "markdown",
   "metadata": {
    "id": "3ovkF0EC1VdA"
   },
   "source": [
    "\n",
    "\n",
    "\n",
    "## Results\n"
   ]
  },
  {
   "cell_type": "markdown",
   "metadata": {
    "id": "3ovkF0EC1VdA"
   },
   "source": [
    "\n",
    "### Q1. When does the detective (or a pair) occur for the first time -  chapter #, the sentence(s) # in a chapter\n"
   ]
  },
  {
   "cell_type": "markdown",
   "metadata": {
    "id": "3ovkF0EC1VdA"
   },
   "source": [
    "### The Murder on the Links "
   ]
  },
  {
   "cell_type": "markdown",
   "metadata": {
    "id": "CbkLHRPQ1pLl"
   },
   "source": [
    "######Story told from viewpoint of Arthur Hastings, who is Hercule Poirot's sidekick.\n",
    "####Hercule first appears in the 4th sentence of the first chapter.\n",
    "i had been transacting some business in paris and was returning by the morning service to london where i was still sharing rooms with my old friend, the belgian ex-detective, hercule poirot\""
   ]
  },
  {
   "cell_type": "markdown",
   "metadata": {
    "id": "3ovkF0EC1VdA"
   },
   "source": [
    "###  The Mysterious Affair at Styles "
   ]
  },
  {
   "cell_type": "markdown",
   "metadata": {
    "id": "CbkLHRPQ1pLl"
   },
   "source": [
    "####Story told from viewpoint of Arther Hastings, Hercule Poirot's sidekick.\n",
    "####Hercule first appears in the 1st sentence of the 1st chapter.\n",
    "\"nevertheless, in view of the world-wide notoriety which attended it, i have been asked, both by my friend poirot and the family themselves, to write an account of the whole story\""
   ]
  },
  {
   "cell_type": "markdown",
   "metadata": {
    "id": "3ovkF0EC1VdA"
   },
   "source": [
    "### The Secret Adversary "
   ]
  },
  {
   "cell_type": "code",
   "execution_count": null,
   "metadata": {},
   "outputs": [],
   "source": []
  },
  {
   "cell_type": "markdown",
   "metadata": {
    "id": "3ovkF0EC1VdA"
   },
   "source": [
    "### The Man in the Brown Suit "
   ]
  },
  {
   "cell_type": "code",
   "execution_count": null,
   "metadata": {},
   "outputs": [],
   "source": []
  },
  {
   "cell_type": "markdown",
   "metadata": {
    "id": "3ovkF0EC1VdA"
   },
   "source": [
    "### The Secret of Chimneys "
   ]
  },
  {
   "cell_type": "code",
   "execution_count": null,
   "metadata": {},
   "outputs": [],
   "source": []
  },
  {
   "cell_type": "code",
   "execution_count": null,
   "metadata": {
    "id": "ePM70xfk1wWY"
   },
   "outputs": [],
   "source": []
  },
  {
   "cell_type": "markdown",
   "metadata": {
    "id": "-F_GYvFv16SX"
   },
   "source": [
    "### Q2. When is the crime first mentioned - the type of the crime and the details - chapter #, the sentence(s) # in a chapter,"
   ]
  },
  {
   "cell_type": "markdown",
   "metadata": {
    "id": "3ovkF0EC1VdA"
   },
   "source": [
    "### The Murder on the Links "
   ]
  },
  {
   "cell_type": "markdown",
   "metadata": {
    "id": "GLq-sNsm1wu_"
   },
   "source": [
    "\n",
    "######The murder of Paul Renauld is revealed at the end of chapter 2 in sentence 323.\n",
    "\"m. renauld was murdered this morning\"\n",
    "####The time when the body is discovered is reported in chapter 3 sentence 53\n",
    "\"the body was discovered this morning about nine o’clock\"\n",
    "####The methodology is described in chapter 3 sentence 90\n",
    "\"going to call her mistress as usual, a younger maid, léonie, was horrified to discover her gagged and bound, and almost at the same moment news was brought that m. renauld’s body had been discovered, stone dead, stabbed in the back\"\n",
    "####Who found the body is answered in chapter 6 sentence 59\n",
    "\"it was some of the men working on them who discovered the body early this morning\"\n",
    "####Time of death is reported in chapter 12 sentence 65\n",
    "\"they declared, after examination of the body, that death had taken place between ten and seven hours previously\"\n",
    "####Finally, the murderer is revealed in chapter 28 (via co-occurence with Hercule Poirot) sentence 95\n",
    "####Note, Poirot exposes her as the murderer earlier (end of chapter 27), but definite evidence (within a single sentence) that Poirot is making his final accusation does not occur until chapter 28 sentence 95 near the end of a long conversation between Poirot and Hastings concerning how Poirot knew that Marthe was the murderess."
   ]
  },
  {
   "cell_type": "markdown",
   "metadata": {
    "id": "3ovkF0EC1VdA"
   },
   "source": [
    "###  The Mysterious Affair at Styles "
   ]
  },
  {
   "cell_type": "markdown",
   "metadata": {
    "id": "GLq-sNsm1wu_"
   },
   "source": [
    "####The murder of Emily Inglethorp occurs in chapter 3.\n",
    "####The strychnine poisoning triggers a slow death scene from sentences 47-79\n",
    "\"mrs. inglethorp was lying on the bed, her whole form agitated by violent convulsions, in one of which she must have overturned the table beside her...then she fell back motionless on the pillows\"\n",
    "####The methodology of the murder is first described in chapter 4 sentence 124.\n",
    "\"the present contention is that mrs. inglethorp died of strychnine poisoning, presumably administered in her coffee\"\n",
    "\n",
    "#NOTE: need to add murder details from later in books"
   ]
  },
  {
   "cell_type": "markdown",
   "metadata": {
    "id": "3ovkF0EC1VdA"
   },
   "source": [
    "### The Secret Adversary "
   ]
  },
  {
   "cell_type": "code",
   "execution_count": null,
   "metadata": {},
   "outputs": [],
   "source": []
  },
  {
   "cell_type": "markdown",
   "metadata": {
    "id": "3ovkF0EC1VdA"
   },
   "source": [
    "### The Man in the Brown Suit "
   ]
  },
  {
   "cell_type": "code",
   "execution_count": null,
   "metadata": {},
   "outputs": [],
   "source": []
  },
  {
   "cell_type": "markdown",
   "metadata": {
    "id": "3ovkF0EC1VdA"
   },
   "source": [
    "### The Secret of Chimneys "
   ]
  },
  {
   "cell_type": "code",
   "execution_count": null,
   "metadata": {},
   "outputs": [],
   "source": []
  },
  {
   "cell_type": "code",
   "execution_count": null,
   "metadata": {
    "id": "1R9c9sHm1076"
   },
   "outputs": [],
   "source": []
  },
  {
   "cell_type": "markdown",
   "metadata": {
    "id": "-F_GYvFv16SX"
   },
   "source": [
    "### Q3. When is the perpetrator first mentioned - chapter #, the sentence(s) # in a chapter,ords following the mention of a perpetrator),"
   ]
  },
  {
   "cell_type": "markdown",
   "metadata": {
    "id": "3ovkF0EC1VdA"
   },
   "source": [
    "### The Murder on the Links "
   ]
  },
  {
   "cell_type": "markdown",
   "metadata": {
    "id": "DcRq576e11V_"
   },
   "source": [
    "####Mademoiselle Daubreuil (Marthe) is first mentioned in chapter 7 sentence 145.\n",
    "\"mademoiselle daubreuil,' said m. hautet, sweeping off his hat, 'we regret infinitely to disturb you, but the exigencies of the law—you comprehend\""
   ]
  },
  {
   "cell_type": "markdown",
   "metadata": {
    "id": "3ovkF0EC1VdA"
   },
   "source": [
    "###  The Mysterious Affair at Styles "
   ]
  },
  {
   "cell_type": "markdown",
   "metadata": {
    "id": "DcRq576e11V_"
   },
   "source": [
    "####Alfred Inglethorp and Evelyn Howard are first mentioned in chapter 1 in sentences 32 and 40 respectively"
   ]
  },
  {
   "cell_type": "markdown",
   "metadata": {
    "id": "3ovkF0EC1VdA"
   },
   "source": [
    "### The Secret Adversary "
   ]
  },
  {
   "cell_type": "code",
   "execution_count": null,
   "metadata": {},
   "outputs": [],
   "source": []
  },
  {
   "cell_type": "markdown",
   "metadata": {
    "id": "3ovkF0EC1VdA"
   },
   "source": [
    "### The Man in the Brown Suit "
   ]
  },
  {
   "cell_type": "code",
   "execution_count": null,
   "metadata": {},
   "outputs": [],
   "source": []
  },
  {
   "cell_type": "markdown",
   "metadata": {
    "id": "3ovkF0EC1VdA"
   },
   "source": [
    "### The Secret of Chimneys "
   ]
  },
  {
   "cell_type": "code",
   "execution_count": null,
   "metadata": {},
   "outputs": [],
   "source": []
  },
  {
   "cell_type": "code",
   "execution_count": 10,
   "metadata": {
    "id": "4OWqQFtC155B"
   },
   "outputs": [],
   "source": []
  },
  {
   "cell_type": "markdown",
   "metadata": {
    "id": "-F_GYvFv16SX"
   },
   "source": [
    "### Q4. What are the 3 words that occur around the perpetrator on each mention (i.e., the three words preceding, and the three words following the mention of a perpetrator),"
   ]
  },
  {
   "cell_type": "markdown",
   "metadata": {
    "id": "3ovkF0EC1VdA"
   },
   "source": [
    "### The Murder on the Links "
   ]
  },
  {
   "cell_type": "markdown",
   "metadata": {
    "id": "-F_GYvFv16SX"
   },
   "source": [
    "['she', 'was', 'afraid', 'said', 'm', 'hautet']\n",
    "\n",
    "['turned', 'to', 'her', 'dear', 'but', 'the']\n",
    "\n",
    "['to', 'speak', 'before', 'as', 'my', 'daughter']\n",
    "\n",
    "['us', 'it', 'was', 'i', 'beg', 'your']\n",
    "\n",
    "['our', 'amélie', 'explained', 'with', 'a', 'blush']\n",
    "\n",
    "['your', 'heart', 'on', 'she', 'is', 'not']\n",
    "\n",
    "['the', 'quarrel', 'was', 'renauld', 'sprang', 'round']\n",
    "\n",
    "['admitted', 'i', 'love', 'and', 'i', 'wish']\n",
    "\n",
    "['boy', 'you', 'too', 'is', 'as', 'good']\n",
    "\n",
    "['have', 'nothing', 'against', 'in', 'any', 'way']\n",
    "\n",
    "['your', 'intentions', 'towards', 'he', 'resumed', 'he']\n",
    "\n",
    "['he', 'had', 'against', 'to', 'that', 'he']\n",
    "\n",
    "['i', 'was', 'marrying', 'and', 'not', 'her']\n",
    "\n",
    "['i', 'wrote', 'to', 'telling', 'her', 'what']\n",
    "\n",
    "['yesterday', 'it', 'was', 'today', 'it', 'is']\n",
    "\n",
    "['to', 'rag', 'me', 'is', 'a', 'very']\n",
    "\n",
    "['him', 'out', 'with', 'but', 'i', 'fear']\n",
    "\n",
    "['beautiful', 'girl', 'like', 'and', 'the', 'result']\n",
    "\n",
    "['always', 'think', 'of', 'as', 'the', 'girl']\n",
    "\n",
    "['of', 'the', 'beautiful', 'chéri', 'she', 'was']\n",
    "\n",
    "['you', 'know', 'it', 'jack', 'renauld', 'replied']\n",
    "\n",
    "['deep', 'anxiety', 'underlying', 's', 'tones—but', 'i']\n",
    "\n",
    "['the', 'reason', 'of', 's', 'poignant', 'anxiety']\n",
    "\n",
    "['thing', 'was', 'certain', 'had', 'known', 'all']\n",
    "\n",
    "['see', 'my', 'fiancée', 'i', 'was', 'on']\n",
    "\n",
    "['over', 'his', 'shoulder', 'may', 'find', 'herself']\n",
    "\n",
    "['the', 'moment', 'that', 'looking', 'slightly', 'startled']\n",
    "\n",
    "['house', 'maman', 'whispered', 'i', 'must', 'go']\n",
    "\n",
    "['absolute', 'truth', 'unwittingly', 'told', 'us', 'the']\n",
    "\n",
    "['if', 'he', 'saw', 'on', 'the', 'night']\n",
    "\n",
    "['me', 'to', 'see', 'before', 'he', 'could']\n",
    "\n",
    "['did', 'not', 'see', 'whom', 'did', 'he']\n",
    "\n",
    "['wish', 'to', 'marry', 'son', 'leaves', 'for']\n",
    "\n",
    "['garden', 'witnessed', 'by', 'letter', 'written', 'to']\n",
    "\n",
    "['wish', 'to', 'marry', 'son', 'leaves', 'for']\n",
    "\n",
    "['returning', 'to', 'see', 'come', 'face', 'to']\n",
    "\n",
    "['the', 'ears', 'of', 'i', 'shook', 'my']\n",
    "\n",
    "['to', 'help', 'us', 'i', 'handed', 'it']\n",
    "\n",
    "['the', 'villa', 'marguerite', 'was', 'at', 'the']\n",
    "\n",
    "['poirot', 'watching', 'her', 'frowned', 'screening', 'some']\n",
    "\n",
    "['s', 'real', 'name', 'looked', 'at', 'him']\n",
    "\n",
    "['departure', 'for', 'england', 'listened', 'spellbound', 'when']\n",
    "\n",
    "['merlinville', 'to', 'rejoin', 'and', 'his', 'mother']\n",
    "\n",
    "['after', 'i', 'met', 'and', 'realized', 'i']\n",
    "\n",
    "['its', 'coming', 'to', 's', 'ears', 'and']\n",
    "\n",
    "['order', 'to', 'see', 'before', 'going', 'to']\n",
    "\n",
    "['in', 'person', 'to', 'eh', 'finished', 'poirot']\n",
    "\n",
    "['are', 'jack', 'and', 'i', 'exclaimed', 'looking']\n",
    "\n",
    "['better', 'not', 'but', 'and', 'i', 'in']\n",
    "\n",
    "['murmured', 'poirot', 'to', 'where', 'can', 'we']\n",
    "\n",
    "['the', 'charge', 'of', 'and', 'her', 'mother']\n",
    "\n",
    "['the', 'profile', 'of', 'ah', 'said', 'poirot']\n",
    "\n",
    "['into', 'the', 'bedroom', 'was', 'embroidering', 'by']\n",
    "\n",
    "['the', 'profile', 'of', 'as', 'she', 'bent']\n",
    "\n",
    "['beautiful', 'face', 'of', '', 'i', 'have']\n",
    "\n",
    "['that', 'we', 'found', 's', 'body', 'in']\n",
    "\n",
    "['them', 'yes', 'from', 's', 'own', 'lips']\n",
    "\n",
    "['easily', 'you', 'overheard', 's', 'conversation', 'with']\n",
    "\n",
    "['possible', 'motive', 'could', 'have', 'for', 'murdering']\n",
    "\n",
    "['the', 'standpoint', 'of', 'marthe', 'daubreuil', 'overhears']\n",
    "\n",
    "['of', 'marthe', 'daubreuil', 'overhears', 'what', 'passes']\n",
    "\n",
    "['the', 'mind', 'of', 'in', 'fact', 'i']\n",
    "\n",
    "['me', 'infallibly', 'to', 'the', 'dagger', 'jack']\n",
    "\n",
    "['third', 'one', 'to', 'so', 'then', 'to']\n",
    "\n",
    "['of', 'note', 'against', '(1)', 'marthe', 'daubreuil']\n",
    "\n",
    "['marthe', 'daubreuil', '(1)', 'could', 'have', 'overheard']\n",
    "\n",
    "['s', 'plans', '(2)', 'had', 'a', 'direct']\n",
    "\n",
    "['s', 'death', '(3)', 'was', 'the', 'daughter']\n",
    "\n",
    "['actual', 'blow', '(4)', 'was', 'the', 'only']\n",
    "\n",
    "['the', 'crime', 'was', 'but', 'i', 'had']\n",
    "\n",
    "['by', 'jack', 'to', 'why', 'then', 'bella']\n",
    "\n",
    "['steps', 'to', 'force', 'into', 'the', 'open']\n",
    "\n",
    "['as', 'i', 'thought', 'made', 'a', 'last']\n",
    "\n",
    "['brains', 'that', 'beautiful', 'and', 'her', 'object']\n",
    "\n",
    "['the', 'floor', 'by', 's', 'body', 'i']\n",
    "\n",
    "['go', 'quite', 'as', 'had', 'planned', 'to']\n",
    "\n",
    "['last', 'chance', 'for', 'the', 'idea', 'of']\n",
    "\n",
    "['begin', 'to', 'suspect', 'poirot', 'when', 'she']\n",
    "\n",
    "['have', 'thought', 'of', 'from', 'the', 'beginning']\n",
    "\n",
    "['a', 'siren', 'and', 'as', 'the', 'girl']\n",
    "\n",
    "['to', 'the', 'truth', 'was', 'very', 'beautiful']"
   ]
  },
  {
   "cell_type": "markdown",
   "metadata": {
    "id": "3ovkF0EC1VdA"
   },
   "source": [
    "###  The Mysterious Affair at Styles "
   ]
  },
  {
   "cell_type": "markdown",
   "metadata": {
    "id": "-F_GYvFv16SX"
   },
   "source": [
    "\n",
    "['us', 'as', 'for', 'you', 'remember', 'evie']\n",
    "\n",
    "['for', 'evie—you', 'remember', 'no', 'oh', 'i']\n",
    "\n",
    "['a', 'great', 'sport—old', 'not', 'precisely', 'young']\n",
    "\n",
    "['of', 'being', 'a', 'or', 'something', 'of']\n",
    "\n",
    "['or', 'something', 'of', 's', 'though', 'she']\n",
    "\n",
    "['that', 'she', 'and', 'were', 'engaged', 'the']\n",
    "\n",
    "['for', 'that', 'fellow', 'he', 'checked', 'the']\n",
    "\n",
    "['our', 'approach', 'hullo', 'here', 's', 'our']\n",
    "\n",
    "['hero', 'mr', 'hastings', 'miss', 'howard', 'shook']\n",
    "\n",
    "['mr', 'hastings—miss', 'howard', 'shook', 'hands', 'with']\n",
    "\n",
    "['re', 'a', 'cynic', 'said', 'john', 'laughing']\n",
    "\n",
    "['refreshed', 'well', 'said', 'drawing', 'off', 'her']\n",
    "\n",
    "['princess', 'after', 'tea', 'i', 'll', 'write']\n",
    "\n",
    "['are', 'so', 'thoughtful', 'dear', 'the', 'french']\n",
    "\n",
    "['all', 'these', 'years', 'darling', 'mr', 'hastings—my']\n",
    "\n",
    "['some', 'curiosity', 'at', 'darling', 'he', 'certainly']\n",
    "\n",
    "['upon', 'the', 'company', 'in', 'particular', 'took']\n",
    "\n",
    "['about', 'letters', 'to', 'and', 'her', 'husband']\n",
    "\n",
    "['story', 'myself', 'remarked', 'lots', 'of', 'nonsense']\n",
    "\n",
    "['of', 'a', 'mess', 's', 'had', 'a']\n",
    "\n",
    "['a', 'row', 'with', 'and', 'she', 's']\n",
    "\n",
    "['she', 's', 'off', 'off', 'john', 'nodded']\n",
    "\n",
    "['and—oh', '—here', 's', 'herself', 'miss', 'howard']\n",
    "\n",
    "['s', 'evie', 'herself', 'entered', 'her', 'lips']\n",
    "\n",
    "['mind', 'my', 'dear', 'cried', 'mrs', 'cavendish']\n",
    "\n",
    "['t', 'be', 'true', 'nodded', 'grimly', 'true']\n",
    "\n",
    "['just', 'ask', 'your', 'how', 'much', 'time']\n",
    "\n",
    "['did', 'she', 'say', 'made', 'an', 'extremely']\n",
    "\n",
    "['expressive', 'grimace', 'darling', '—', 'dearest', 'alfred']\n",
    "\n",
    "['alfred', '—', 'dearest', '—', 'wicked', 'calumnies']\n",
    "\n",
    "['left', 'the', 'room', 's', 'face', 'changed']\n",
    "\n",
    "['her', 'of', 'course', 'i', 'said', 'i']\n",
    "\n",
    "['open', 'window', 'and', 'rose', 'and', 'moved']\n",
    "\n",
    "['time', 'for', 'more', 'was', 'swallowed', 'up']\n",
    "\n",
    "['in', 'england', 'than', 'he', 'took', 'the']\n",
    "\n",
    "['the', 'one', 'that', '', 'exactly', 'said']\n",
    "\n",
    "['felt', 'that', 'with', 'something', 'indefinable', 'had']\n",
    "\n",
    "['a', 'letter', 'from', 'a', 'couple', 'of']\n",
    "\n",
    "\n",
    "['gipsy', 'face', 'and', 's', 'warnings', 'but']\n",
    "\n",
    "['a', 'few', 'moments', 'had', 'ushered', 'the']\n",
    "\n",
    "['i', 'realized', 'that', 'was', 'not', 'with']\n",
    "\n",
    "['on', 'the', 'doctor', 'alfred—', 'then', 'she']\n",
    "\n",
    "['the', 'doctor', 'alfred', '', 'then', 'she']\n",
    "\n",
    "['met', 'where', 'was', 'his', 'absence', 'was']\n",
    "\n",
    "['mrs', 'inglethorp', 'and', 'and', 'of', 'the']\n",
    "\n",
    "['we', 'passed', 'through', 's', 'room', 'and']\n",
    "\n",
    "['one', 'was', 'to', 'and', 'one', 'was']\n",
    "\n",
    "['had', 'gone', 'to', 'writing', 'notices', 'for']\n",
    "\n",
    "['i', 'pass', 'over', 'who', 'acted', 'the']\n",
    "\n",
    "['family—we', 'will', 'say', 'for', 'instance—would', 'you']\n",
    "\n",
    "['her', 'money', 'to', 'i', 'asked', 'in']\n",
    "\n",
    "['it', 'swept', 'past', 'cried', 'john', 'excuse']\n",
    "\n",
    "['inquiringly', 'at', 'me', 'i', 'explained', 'ah']\n",
    "\n",
    "['the', 'hall', 'where', 'was', 'endeavouring', 'to']\n",
    "\n",
    "['she', 'had', 'known', 'only', 'too', 'well']\n",
    "\n",
    "['eat', 'this', 'morning', 'asked', 'john', 'no']\n",
    "\n",
    "['us', 'you', 'know', 'miss', 'howard', 'shook']\n",
    "\n",
    "\n",
    "['you', 'know', 'evie', 'shook', 'hands', 'with']\n",
    "\n",
    "['to', 'prison', 'who', 'of', 'course', 'my']\n",
    "\n",
    "['course', 'my', 'dear', 'do', 'be', 'careful']\n",
    "\n",
    "['fool', 'lawrence', 'retorted', 'of', 'course', 'alfred']\n",
    "\n",
    "['howard', 'of', 'course', 'murdered', 'poor', 'emily—as']\n",
    "\n",
    "['would', 'my', 'dear', 'don', 't', 'shout']\n",
    "\n",
    "['fiddlesticks', 'the', 'snort', 'gave', 'was', 'truly']\n",
    "\n",
    "['dash', 'it', 'all', 'i', 'can', 't']\n",
    "\n",
    "['that', 'to', 'harbour', 'and', 'alfred', 'inglethorp']\n",
    "\n",
    "['miss', 'howard', 'and', 'under', 'the', 'same']\n",
    "\n",
    "['sat', 'down', 'facing', 'mademoiselle', 'he', 'said']\n",
    "\n",
    "['you', 'to', 'hang', 'with', 'pleasure', 'she']\n",
    "\n",
    "['hang', 'the', 'criminal', 'him', 'or', 'another']\n",
    "\n",
    "['along', 'comes', 'mr', 'and', 'within', 'two']\n",
    "\n",
    "['presto', 'believe', 'me', 'said', 'poirot', 'very']\n",
    "\n",
    "['s', 'better', 'said', 'more', 'enthusiastically', 'but']\n",
    "\n",
    "['that', 'have', 'wept', 'blinked', 'and', 'a']\n",
    "\n",
    "['mr', 'inglethorp', 'and', 'she', 'looked', 'at']\n",
    "\n",
    "['her', 'fortune', 'to', 'it', 'must', 'have']\n",
    "\n",
    "['yes', 'i', 'said', 'without', 'doubt', 'poirot']\n",
    "\n",
    "['wilful', 'murder', 'against', 'what', 'becomes', 'of']\n",
    "\n",
    "['if', 'i', 'let', 'her', 'husband', 'be']\n",
    "\n",
    "['walked', 'on', 'sharply', 'had', 'been', 'right']\n",
    "\n",
    "['i', 'thought', 'of', 's', 'liberality', 'with']\n",
    "\n",
    "['and', 'gasped', 'out', 'alfred——', 'could', 'the']\n",
    "\n",
    "['gasped', 'out', 'alfred', '—', 'could', 'the']\n",
    "\n",
    "['that', 'is', 'all', 'miss', 'howard', 'produced']\n",
    "\n",
    "['all', 'miss', 'howard', 'produced', 'the', 'letter']\n",
    "\n",
    "['17th', 'my', 'dear', 'can', 'we', 'not']\n",
    "\n",
    "['to', 'me', 'said', 'shortly', 'it', 'shows']\n",
    "\n",
    "['of', 'the', 'jury', 'was', 'obviously', 'quite']\n",
    "\n",
    "['apprehension', 'thank', 'you', 'that', 'is', 'all']\n",
    "\n",
    "['simultaneously', 'to', 'where', 'was', 'sitting', 'impassive']\n",
    "\n",
    "['a', 'breathless', 'silence', 'was', 'called', 'did']\n",
    "\n",
    "['mace', 's', 'statement', 'replied', 'imperturbably', 'mr']\n",
    "\n",
    "['pardon', 'me', 'interrupted', 'you', 'have', 'been']\n",
    "\n",
    "['last', 'convinced', 'of', 's', 'guilt', 'mr']\n",
    "\n",
    "['not', 'enough', 'and', 'must', 'not', 'be']\n",
    "\n",
    "['the', 'possibility', 'of', 's', 'innocence', 'why']\n",
    "\n",
    "['important', 'fact', 'that', 'wears', 'peculiar', 'clothes']\n",
    "\n",
    "['the', 'case', 'of', 'all', 'that', 'is']\n",
    "\n",
    "['glasses', 'was', 'not', 'it', 'may', 'be']\n",
    "\n",
    "['the', 'fate', 'of', 'and', 'thought', 'that']\n",
    "\n",
    "['should', 'be', 'shielding', 'yet', 'that', 'is']\n",
    "\n",
    "['there', 's', 'john—and', 'surely', 'they', 'were']\n",
    "\n",
    "['an', 'unpleasant', 'shock', 's', 'evidence', 'unimportant']\n",
    "\n",
    "['so', 'i', 'asked', 'had', 'always', 'seemed']\n",
    "\n",
    "['it', 'concerns', 'mr', 'inglethorp', 'was', 'sitting']\n",
    "\n",
    "['with', 'a', 'groan', 'sank', 'down', 'again']\n",
    "\n",
    "['speak', 'for', 'you', 'sprang', 'up', 'again']\n",
    "\n",
    "['untrue', 'one', 'interrupted', 'in', 'an', 'agitated']\n",
    "\n",
    "['baleful', 'glance', 'at', 'now', 'sir', 'said']\n",
    "\n",
    "['suspicion', 'in', 'clearing', 'continued', 'poirot', 'i']\n",
    "\n",
    "['absurd—but', 'i', 'suspect', 'of', 'not', 'telling']\n",
    "\n",
    "['all', 'she', 'knows', 'yes—you', 'll', 'laugh']\n",
    "\n",
    "['i', 'learnt', 'that', 'had', 'been', 'on']\n",
    "\n",
    "['or', 'degenerate', 'about', 'she', 'is', 'an']\n",
    "\n",
    "['are', 'there', 'against', 's', 'having', 'deliberately']\n",
    "\n",
    "['a', 'child', 'if', 'were', 'capable', 'of']\n",
    "\n",
    "['her', 'vehemence', 'against', 'is', 'too', 'violent']\n",
    "\n",
    "['insuperable', 'objection', 'to', 's', 'being', 'the']\n",
    "\n",
    "['s', 'death', 'benefit', 'now', 'there', 'is']\n",
    "\n",
    "['in', 'my', 'mind', 'occupied', 'very', 'much']\n",
    "\n",
    "['was', 'not', 'in', 's', 'favour', 'i']\n",
    "\n",
    "['we', 'will', 'acquit', 'then', 'it', 'is']\n",
    "\n",
    "['his', 'belief', 'in', 's', 'innocence', 'had']\n",
    "\n",
    "['thoughtfully', 'here', 'comes', 'said', 'poirot', 'suddenly']\n",
    "\n",
    "['was', 'barely', 'civil', 'assented', 'to', 'poirot']\n",
    "\n",
    "['monsieur', 'poirot', 'said', 'impatiently', 'what', 'is']\n",
    "\n",
    "['with', 'pleasure—to', 'hang', 'ah', 'poirot', 'studied']\n",
    "\n",
    "['studied', 'her', 'seriously', 'i', 'will', 'ask']\n",
    "\n",
    "['tell', 'lies', 'replied', 'it', 'is', 'this']\n",
    "\n",
    "['good', 'heavens', 'cried', 'haven', 't', 'i']\n",
    "\n",
    "['what', 'little', 'idea', 'do', 'you', 'remember']\n",
    "\n",
    "['my', 'instinct', 'against', 'no', 'said', 'poirot']\n",
    "\n",
    "['no', 'no', 'cried', 'wildly', 'flinging', 'up']\n",
    "\n",
    "['it', 'must', 'be', 'poirot', 'shook', 'his']\n",
    "\n",
    "['about', 'it', 'continued', 'because', 'i', 'shan']\n",
    "\n",
    "['you', 'will', 'watch', 'bowed', 'her', 'head']\n",
    "\n",
    "['we', 'are', 'right', 'on', 'whose', 'side']\n",
    "\n",
    "['she', 'broke', 'off', 'said', 'poirot', 'gravely']\n",
    "\n",
    "['that', 'was', 'not', 'who', 'spoke', 'she']\n",
    "\n",
    "['proudly', 'this', 'is', 'and', 'she', 'is']\n",
    "\n",
    "['ignored', 'you', 'and', 'seem', 'to', 'know']\n",
    "\n",
    "['who', 'had', 'murdered', 'with', 'a', 'croquet']\n",
    "\n",
    "['between', 'poirot', 'and', 'was', 'this', 'what']\n",
    "\n",
    "['monstrous', 'possibility', 'that', 'had', 'tried', 'not']\n",
    "\n",
    "['in', 'no', 'wonder', 'had', 'suggested', 'hushing']\n",
    "\n",
    "['paul', 'prys', 'grunted', 'lawrence', 'opined', 'that']\n",
    "\n",
    "['there', 'is', 'john—and', '', 'cynthia', 'nodded']\n",
    "\n",
    "['and', 'of', 'course', 'for', 'all', 'her']\n",
    "\n",
    "['me', 'she', 'wants', 'to', 'stay', 'on']\n",
    "\n",
    "['sudden', 'entrance', 'of', 'she', 'glanced', 'round']\n",
    "\n",
    "['existence', 'i', 'set', 'to', 'search', 'for']\n",
    "\n",
    "['it', 'was', 'not', 'who', 'was', 'quarrelling']\n",
    "\n",
    "['not', 'cross', 'examined', 'was', 'called', 'and']\n",
    "\n",
    "['it', 'would', 'be', 'who', 'would', 'attend']\n",
    "\n",
    "['anything', 'like', 'that', 'was', 'called', 'and']\n",
    "\n",
    "['it', 'i', 'believe', 'that', 'it', 'was']\n",
    "\n",
    "['my', 'beloved', 'husband', 'ing', 'this', 'placed']\n",
    "\n",
    "['of', 'her', 'pride', 'had', 'been', 'right']\n",
    "\n",
    "['her', 'animosity', 'against', 'had', 'caused', 'her']\n",
    "\n",
    "['the', 'signature', 'of', 'in', 'the', 'chemist']\n",
    "\n",
    "['the', 'name', 'of', 'no', 'that', 'is']\n",
    "\n",
    "['he', 'did', 'so', 'here', 'mademoiselle', 'cynthia']\n",
    "\n",
    "['him', 'a', 'note', 'rose', 'immediately', 'from']\n",
    "\n",
    "['low', 'voice', 'finally', 'consented', 'to', 'return']\n",
    "\n",
    "['few', 'minutes', 'later', 'entered', 'the', 'room']\n",
    "\n",
    "['throat', 'read', 'dearest', 'you', 'will', 'be']\n",
    "\n",
    "['the', 'murderer', 'mr', '', 'poirot', 'you']\n",
    "\n",
    "['once', 'more', 'while', 'and', 'miss', 'howard']\n",
    "\n",
    "['alfred', 'inglethorp', 'and', 'were', 'in', 'custody']\n",
    "\n",
    "['you', 'saw', 'mr', 'that', 'astute', 'gentleman']\n",
    "\n",
    "['the', 'conclusion', 'that', 'wanted', 'to', 'be']\n",
    "\n",
    "['that', 'it', 'was', 'who', 'went', 'to']\n",
    "\n",
    "['chemist', 's', 'shop', 'but', 'certainly', 'who']\n",
    "\n",
    "['to', 'think', 'that', 'was', 'the', 'master']\n",
    "\n",
    "['by', 'that', 'time', 'will', 'have', 'engineered']\n",
    "\n",
    "['six', 'o', 'clock', 'arranges', 'to', 'be']\n",
    "\n",
    "['from', 'the', 'village', 'has', 'previously', 'made']\n",
    "\n",
    "['six', 'o', 'clock', 'disguised', 'as', 'alfred']\n",
    "\n",
    "['howard', 'disguised', 'as', 'enters', 'the', 'chemist']\n",
    "\n",
    "['the', 'name', 'of', 'in', 'john', 's']\n",
    "\n",
    "['all', 'goes', 'well', 'goes', 'back', 'to']\n",
    "\n",
    "['back', 'to', 'middlingham', 'returns', 'to', 'styles']\n",
    "\n",
    "['since', 'it', 'is', 'who', 'has', 'the']\n",
    "\n",
    "['her', 'husband', 'and', 'though', 'unfortunately', 'the']\n",
    "\n",
    "['vase', 'but', 'surely', 'had', 'ample', 'opportunities']\n",
    "\n",
    "['him', 'yes', 'but', 'did', 'not', 'know']\n",
    "\n",
    "['never', 'spoke', 'to', 'they', 'were', 'supposed']\n",
    "\n",
    "['begin', 'to', 'suspect', 'when', 'i', 'discovered']\n",
    "\n",
    "['7th—the', 'day', 'after', 's', 'departure', 'the']\n",
    "\n",
    "['myself', 'why', 'does', 'suppress', 'the', 'letter']\n",
    "\n",
    "['two', 'reasons', 'why', 'could', 'not', 'have']\n",
    "\n",
    "['that', 'she', 'and', 'were', 'cousins', 'she']"
   ]
  },
  {
   "cell_type": "code",
   "execution_count": null,
   "metadata": {
    "id": "u-sZeYwg19lB"
   },
   "outputs": [],
   "source": []
  },
  {
   "cell_type": "markdown",
   "metadata": {
    "id": "3ovkF0EC1VdA"
   },
   "source": [
    "### The Secret Adversary "
   ]
  },
  {
   "cell_type": "code",
   "execution_count": null,
   "metadata": {},
   "outputs": [],
   "source": []
  },
  {
   "cell_type": "markdown",
   "metadata": {
    "id": "3ovkF0EC1VdA"
   },
   "source": [
    "### The Man in the Brown Suit "
   ]
  },
  {
   "cell_type": "code",
   "execution_count": null,
   "metadata": {},
   "outputs": [],
   "source": []
  },
  {
   "cell_type": "markdown",
   "metadata": {
    "id": "3ovkF0EC1VdA"
   },
   "source": [
    "### The Secret of Chimneys "
   ]
  },
  {
   "cell_type": "code",
   "execution_count": null,
   "metadata": {},
   "outputs": [],
   "source": []
  },
  {
   "cell_type": "markdown",
   "metadata": {
    "id": "rGOQisCW190Y"
   },
   "source": [
    "## 5. When and how the detective/detectives and the perpetrators co-occur - chapter #, the sentence(s) # in a chapter,"
   ]
  },
  {
   "cell_type": "markdown",
   "metadata": {
    "id": "3ovkF0EC1VdA"
   },
   "source": [
    "### The Murder on the Links "
   ]
  },
  {
   "cell_type": "markdown",
   "metadata": {
    "id": "rGOQisCW190Y"
   },
   "source": [
    "####Arthur Hastings (sidekick) and Marthe (perpetrator) first co-occur in chapter 18 sentence 114.\n",
    "'now, hastings, what was jack renauld doing here on that eventful evening, and if he did not see mademoiselle marthe whom did he see'\n",
    "####Hercule Poirot (detective) and Marthe (perpetrator) first co-occur in chapter 24 sentence 187\n",
    "'marthe was at the door to meet us, and led poirot in, clinging with both hands to one of his'\n",
    "####Poirot and Marthe again co-occur in chapter 27 sentence 82\n",
    "“while you break it in person to mademoiselle marthe, eh?” finished poirot, with a twinkle'\n",
    "####They co-occur again in chapter 27 sentence 156\n",
    "“he is overdone,” murmured poirot to marthe'\n",
    "####As well as chapter 27 sentence 260\n",
    "'poirot looked over his shoulder once at the lighted window and the profile of marthe as she bent over her work'\n",
    "#### Hastings and Marthe co-occur in chapter 28 sentence 137\n",
    "“however, hastings, things did not go quite as mademoiselle marthe had planned'\n",
    "####Finally, Poirot and Marthe co-occur in chapter 28 sentence 145\n",
    "“when did you first begin to suspect marthe daubreuil, poirot'"
   ]
  },
  {
   "cell_type": "markdown",
   "metadata": {
    "id": "3ovkF0EC1VdA"
   },
   "source": [
    "###  The Mysterious Affair at Styles "
   ]
  },
  {
   "cell_type": "markdown",
   "metadata": {
    "id": "rGOQisCW190Y"
   },
   "source": [
    "####Arthur Hastings and Evelyn Howard first occur together in chapter 1 sentence 82\n",
    "####Arthur Hastings and Alfred Inglethorp first occur together in chapter 1 sentence 125\n",
    "###Arthur Hastings, Alfred Inglethorp and Evelyn Howard co-occur in chapter 1 sentence 144\n",
    "\n",
    "####Hercule Poirot and Alfred Inglethorp first co-occur in chapter 4 sentence 293\n",
    "####Hercule Poirot and Evelyn Howard first co-occur in chapter 5 sentence 233\n",
    "####Further co-occurrences:\n",
    "#####chapter 5  sentence 377: Evelyn and Hercule\n",
    "#####chapter 5  sentence 422: Evelyn and Hercule\n",
    "#####chapter 5  sentence 438: Evelyn and Hercule\n",
    "#####chapter 7  sentence 276: Alfred and Hercule\n",
    "#####chapter 7  sentence 317: Alfred and Hercule\n",
    "#####chapter 8  sentence 139: Alfred and Hercule\n",
    "#####chapter 8  sentence 400: Evelyn and Hercule\n",
    "#####chapter 8  setnence 404: Evelyn and Hercule\n",
    "#####chapter 8  sentence 406: Evelyn and Hercule\n",
    "#####chapter 8  sentence 501: Evelyn and Hercule\n",
    "#####chapter 9  sentence 295: Evelyn and Hercule\n",
    "#####chapter 12 sentence 246: Evelyn and Hercule\n",
    "#####chapter 12 sentence 262: Alfred and Hercule\n",
    "#####chapter 13 sentence  28: Alfred and Hercule"
   ]
  },
  {
   "cell_type": "markdown",
   "metadata": {
    "id": "3ovkF0EC1VdA"
   },
   "source": [
    "### The Secret Adversary "
   ]
  },
  {
   "cell_type": "code",
   "execution_count": null,
   "metadata": {},
   "outputs": [],
   "source": []
  },
  {
   "cell_type": "markdown",
   "metadata": {
    "id": "3ovkF0EC1VdA"
   },
   "source": [
    "### The Man in the Brown Suit "
   ]
  },
  {
   "cell_type": "code",
   "execution_count": null,
   "metadata": {},
   "outputs": [],
   "source": []
  },
  {
   "cell_type": "markdown",
   "metadata": {
    "id": "3ovkF0EC1VdA"
   },
   "source": [
    "### The Secret of Chimneys "
   ]
  },
  {
   "cell_type": "code",
   "execution_count": null,
   "metadata": {
    "id": "Uf_QyW7629H4"
   },
   "outputs": [],
   "source": []
  },
  {
   "cell_type": "markdown",
   "metadata": {
    "id": "bDDmhW4P29Z-"
   },
   "source": [
    "### Q6. When are other suspects first introduced - chapter #, the sentence(s) # in a chapter"
   ]
  },
  {
   "cell_type": "markdown",
   "metadata": {
    "id": "3ovkF0EC1VdA"
   },
   "source": [
    "### The Murder on the Links "
   ]
  },
  {
   "cell_type": "markdown",
   "metadata": {
    "id": "bDDmhW4P29Z-"
   },
   "source": [
    "####Jack Renauld is the red herring in this book.\n",
    "####He first appears in chapter 3 sentence 118.\n",
    "####'finally there are madame renauld and her son, m. jack renauld'"
   ]
  },
  {
   "cell_type": "markdown",
   "metadata": {
    "id": "3ovkF0EC1VdA"
   },
   "source": [
    "###  The Mysterious Affair at Styles "
   ]
  },
  {
   "cell_type": "markdown",
   "metadata": {
    "id": "bDDmhW4P29Z-"
   },
   "source": [
    "####John Cavendish is the red herring in this book.\n",
    "####He first appears in chapter 1 sentence 5.\n",
    "\"having no near relations or friends, i was trying to make up my mind what to do, when i ran across john cavendish\""
   ]
  },
  {
   "cell_type": "markdown",
   "metadata": {
    "id": "3ovkF0EC1VdA"
   },
   "source": [
    "### The Secret Adversary "
   ]
  },
  {
   "cell_type": "code",
   "execution_count": null,
   "metadata": {},
   "outputs": [],
   "source": []
  },
  {
   "cell_type": "markdown",
   "metadata": {
    "id": "3ovkF0EC1VdA"
   },
   "source": [
    "### The Man in the Brown Suit "
   ]
  },
  {
   "cell_type": "code",
   "execution_count": null,
   "metadata": {},
   "outputs": [],
   "source": []
  },
  {
   "cell_type": "markdown",
   "metadata": {
    "id": "3ovkF0EC1VdA"
   },
   "source": [
    "### The Secret of Chimneys "
   ]
  },
  {
   "cell_type": "code",
   "execution_count": null,
   "metadata": {
    "id": "w00qyFj8xxwD"
   },
   "outputs": [],
   "source": []
  },
  {
   "cell_type": "markdown",
   "metadata": {
    "id": "rsajewrP3VEd"
   },
   "source": [
    "\n",
    "\n",
    "## Discussion"
   ]
  },
  {
   "cell_type": "code",
   "execution_count": null,
   "metadata": {
    "id": "rAyzwcaG3Z5j"
   },
   "outputs": [],
   "source": []
  },
  {
   "cell_type": "markdown",
   "metadata": {
    "id": "rsajewrP3VEd"
   },
   "source": [
    "\n",
    "\n",
    "## Additional/Extra Analysis"
   ]
  },
  {
   "cell_type": "code",
   "execution_count": null,
   "metadata": {
    "id": "KthIUBm43eD_"
   },
   "outputs": [],
   "source": []
  },
  {
   "cell_type": "markdown",
   "metadata": {
    "id": "rsajewrP3VEd"
   },
   "source": [
    "\n",
    "\n",
    "## Dev notes"
   ]
  },
  {
   "cell_type": "code",
   "execution_count": null,
   "metadata": {
    "id": "br9fgnQ-ZczA"
   },
   "outputs": [],
   "source": [
    "#Dev Notes: will refactor fetch() to generate dict of titles and indices rather than take in index\n",
    "# I.e., fetch() is backwards. should assign index based on title while fetching url\n",
    "\n",
    "\n",
    "#artifacts I've spotted in data:\n",
    "# I noticed and \"[Illustration]\" artifact in the mysterious affair at style.\n",
    "\n",
    "#possible start for sentence splitting regex\n",
    "#sentence_regex = r'([\\.\\?!][\\'\\\"\\u2018\\u2019\\u201c\\u201d\\)\\]]*\\s*(?<!\\w\\.\\w.)(?<![A-Z][a-z][a-z]\\.)(?<![A-Z][a-z]\\.)(?<![A-Z]\\.)\\s+)\n",
    "\n",
    "# V: do we need to clean up contractions to be spelled out? e.g., \"I'm\" to \"I am\", \"don't\" to \"do not\".\n",
    "#  "
   ]
  }
 ],
 "metadata": {
  "colab": {
   "collapsed_sections": [],
   "name": "Proj_1_collab.ipynb",
   "provenance": []
  },
  "kernelspec": {
   "display_name": "Python 3 (ipykernel)",
   "language": "python",
   "name": "python3"
  },
  "language_info": {
   "codemirror_mode": {
    "name": "ipython",
    "version": 3
   },
   "file_extension": ".py",
   "mimetype": "text/x-python",
   "name": "python",
   "nbconvert_exporter": "python",
   "pygments_lexer": "ipython3",
   "version": "3.8.10"
  }
 },
 "nbformat": 4,
 "nbformat_minor": 1
}
