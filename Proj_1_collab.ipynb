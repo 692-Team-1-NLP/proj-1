{
  "nbformat": 4,
  "nbformat_minor": 0,
  "metadata": {
    "colab": {
      "name": "Proj-1-collab.ipynb",
      "provenance": [],
      "collapsed_sections": [],
      "include_colab_link": true
    },
    "kernelspec": {
      "name": "python3",
      "display_name": "Python 3"
    },
    "language_info": {
      "name": "python"
    }
  },
  "cells": [
    {
      "cell_type": "markdown",
      "metadata": {
        "id": "view-in-github",
        "colab_type": "text"
      },
      "source": [
        "<a href=\"https://colab.research.google.com/github/692-Team-1-NLP/proj-1/blob/main/Proj_1_collab.ipynb\" target=\"_parent\"><img src=\"https://colab.research.google.com/assets/colab-badge.svg\" alt=\"Open In Colab\"/></a>"
      ]
    },
    {
      "cell_type": "markdown",
      "metadata": {
        "id": "8FHlrdot1Lsi"
      },
      "source": [
        "# `692-Proj-1 : Crime Novel Plot Analysis with Regex - Agatha Christie`\n",
        "The goal of this project is to conduct a plot and protagonist/antagonist analysis of the famous crime novels. For this project, we will analyze five publicly available crime novels/stories by Agatha Christie at the project Gutenberg http://www.gutenberg.org/. The novels chosen are: \n",
        "- The Mysterious Affair at Styles \n",
        "- The Murder on the Links \n",
        "- The Secret Adversary \n",
        "- The Man in the Brown Suit \n",
        "- The Secret of Chimneys \n",
        "\n",
        "\n",
        "Note: Feel free to use any background resource for the understanding of the plot, protagonist and antagonist names, and other details. Look for spoilers, details, etc. Our goal is not to predict the crime, but to computationally analyze the structure of the plot."
      ]
    },
    {
      "cell_type": "markdown",
      "metadata": {
        "id": "rUWekg6N1Rb0"
      },
      "source": [
        "#Data collection\n",
        "\n",
        "##Background research: \n",
        "\n",
        "Location for Plain text UTF-8 files for novels: \n",
        "- The Mysterious Affair at Styles https://www.gutenberg.org/files/863/863-0.txt\n",
        "- The Murder on the Links https://www.gutenberg.org/files/58866/58866-0.txt\n",
        "- The Secret Adversary https://www.gutenberg.org/files/1155/1155-0.txt\n",
        "- The Man in the Brown Suit https://www.gutenberg.org/files/61168/61168-0.txt\n",
        "- The Secret of Chimneys https://www.gutenberg.org/files/65238/65238-0.txt\n",
        "\n",
        "Note: One benefit to getting the text version is that the html version also has page number to clean, not present in text files\n",
        "\n",
        "###Helpful Links\n",
        "\n",
        "https://stackoverflow.com/questions/7243750/download-file-from-web-in-python-3\n",
        "\n",
        "https://docs.python.org/3/howto/urllib2.html\n",
        "\n"
      ]
    },
    {
      "cell_type": "code",
      "metadata": {
        "id": "y3zV4HGP1Us-"
      },
      "source": [
        "# example test run for one file \n",
        "# we will need a data structure that holds the name and links and loop through or sequentially get the data of all the novels.\n",
        "\n",
        "import urllib.request, re\n",
        "url = \"https://www.gutenberg.org/files/863/863-0.txt\" # utf-8 text file link for The Mysterious Affair at Styles \n",
        "\n",
        "response = urllib.request.urlopen(url)\n",
        "data = response.read()      # a `bytes` object\n",
        "text = data.decode('utf-8') # Default encoding is ascii; gutenberg has utf-8 encoded files\n",
        "#text  # uncomment for output if needed\n",
        "# text needs to be cleaned before it can be analyzed \n",
        "\n",
        "# trying out word; we will need both word and sentences\n",
        "#words = re.split('\\s+', text)\n",
        "\n",
        "# trying out tokenization sentences via re\n",
        "# tried, this WIP, as you can see in the output, doesnt get all the sentences\n",
        "sentences = re.split('(?<!\\w\\.\\w.)(?<![A-Z][a-z]\\.)(?<=\\.|\\?)\\s', text)"
      ],
      "execution_count": 1,
      "outputs": []
    },
    {
      "cell_type": "code",
      "metadata": {
        "id": "JDv-TcBQ1MU9"
      },
      "source": [
        ""
      ],
      "execution_count": 1,
      "outputs": []
    },
    {
      "cell_type": "code",
      "metadata": {
        "id": "srz1rKdu-x0P"
      },
      "source": [
        ""
      ],
      "execution_count": 1,
      "outputs": []
    },
    {
      "cell_type": "code",
      "metadata": {
        "id": "FHwNdj3-S5gW"
      },
      "source": [
        "#Author: Luke\n",
        "#Description: exploratory code for carving book file into chapters\n",
        "#Note: looks like it works for Murder on the Links, not tested on other books yet\n",
        "#Note: the upturned quote character \\u201c in chapter title was a nice bug till I remembered left/right handed quotes exist in unicode\n",
        "#copied fetch code from Addi\n",
        "#reverse engineering: virtual function in C++ makes sure derived function called instead of original function when derived pointer passed to function that expects basep pointer\n",
        "#without virtual functions, calling delete on derived class will call base destructor, which fails to delete extra data of derived class, which then leaks memory and can cause state errors\n",
        "#always make destructor virtual \n",
        "def get_index(title):\n",
        "  last_reg=re.compile(r\"\\w+$\")\n",
        "  last_word=re.findall(last_reg,title)[0]\n",
        "  if last_word ==\"Links\":\n",
        "    #\"The Murder on the Links\"\n",
        "    index=1\n",
        "  elif last_word==\"Styles\":\n",
        "    #\"The Mysterious Affair at Styles\"\n",
        "    index=2\n",
        "  elif last_word==\"Adversary\":\n",
        "    #\"The Secret Adversary\"\n",
        "    index=3\n",
        "  elif last_word==\"Suit\":\n",
        "    #\"The Man in the Brown Suit\"\n",
        "    index=4\n",
        "  elif last_word==\"Chimneys\":\n",
        "    #\"The Secret of Chimneys\"\n",
        "    index=5\n",
        "  return index\n",
        "\n",
        "def get_text(index):\n",
        "  if index==1:\n",
        "    #\"The Murder on the Links\"\n",
        "    url = \"https://www.gutenberg.org/files/58866/58866-0.txt\"\n",
        "  elif index==2:\n",
        "    #\"The Mysterious Affair at Styles\"\n",
        "    url=\"https://www.gutenberg.org/files/863/863-0.txt\"\n",
        "  elif index==3:\n",
        "    #\"The Secret Adversary\"\n",
        "    url=\"https://www.gutenberg.org/files/1155/1155-0.txt\"\n",
        "  elif index==4:\n",
        "    #\"The Man in the Brown Suit\"\n",
        "    url=\"https://www.gutenberg.org/files/61168/61168-0.txt\"\n",
        "  elif index==5:\n",
        "    #\"The Secret of Chimneys\"\n",
        "    url=\"https://www.gutenberg.org/files/65238/65238-0.txt\"\n",
        "  response = urllib.request.urlopen(url)\n",
        "  data = response.read()      # a `bytes` object\n",
        "  text = data.decode('utf-8')\n",
        "  return text\n",
        "\n",
        "def get_ch_regex(index):\n",
        "  if index==1:\n",
        "    ch_carve=re.compile(r'\\n\\d\\d?\\s[\\'\\\"\\u201c]?[A-Z].*\\n')\n",
        "  elif index==2:\n",
        "    ch_carve=re.compile(r'CHAPTER\\s[IVX]+\\.\\r\\n.*\\r\\n')\n",
        "  elif index==3:\n",
        "    ch_carve=re.compile(r'\\r\\n\\r\\n\\r\\nCHAPTER.*\\r\\n')\n",
        "  elif index==4:\n",
        "    ch_carve=re.compile(r'CHAPTER\\s\\w+\\r\\n')  \n",
        "  elif index==5:\n",
        "    ch_carve=re.compile(r'\\d\\d?\\r\\n\\r\\n[A-OQ-Z].*\\r\\n')\n",
        "  return ch_carve\n",
        "\n",
        "def trim_contents(ch_contents_dict,index):\n",
        "  last=len(ch_contents_dict)\n",
        "  if index==1:\n",
        "    ch_contents_dict[last]=ch_contents_dict[last].split('\\nEnd of Project Gutenberg')[0]\n",
        "  elif index==2:\n",
        "    ch_contents_dict[last]=ch_contents_dict[last].split('\\nTHE END')[0]\n",
        "  elif index==3:\n",
        "    ch_contents_dict[last-1]=ch_contents_dict[last-1].split('\\nEnd of the Project Gutenberg')[0]\n",
        "  elif index==4:\n",
        "    ch_contents_dict[last-1]=ch_contents_dict[last-1].split('THE END')[0]\n",
        "  elif index==5:\n",
        "    ch_contents_dict[last]=re.split(r\"TRANSCRIBER\",ch_contents_dict[last])[0]\n",
        "  return ch_contents_dict\n",
        "\n",
        "def remove_white(chapter):\n",
        "  regex=r'[\\r\\n\\u200a]'\n",
        "  chapter = re.sub(regex,' ',chapter)\n",
        "  return chapter\n",
        "\n",
        "def sent_carve(chapter):\n",
        "  #chapter=re.split(r'(?<![A-H|J-Z])[\\.\\?!](?![\\'\\\"\\u2019\\u201a\\u201c\\u275c\\u275f\\u201e\\u201d\\u0022\\u275e]\\s[a-z])(?![\\'\\\"\\u2019\\u201a\\u201c\\u275c\\u275f\\u201e\\u201d\\u0022\\u275e]\\sI said)[\\'\\\"\\u2018\\u2019\\u201c\\u201d\\)\\]]*\\s*(?<!\\w\\.\\w)(?<![A-Z][a-z][a-z])(?<![A-Z][a-z])\\s+',chapter,flags=re.UNICODE)\n",
        "  chapter=re.split(r'(?<![^A-Z][A-H|J-Z])(?<!Mr|Ms|Dr)(?<!Mrs)(?<!Mlle)(?<!Melle)[\\.\\?!](?![\\'\\\"\\u2019\\u201a\\u201c\\u275c\\u275f\\u201e\\u201d\\u0022\\u275e]\\s[a-z])(?![\\'\\\"\\u2019\\u201a\\u201c\\u275c\\u275f\\u201e\\u201d\\u0022\\u275e]\\sI said)[\\'\\\"\\u2018\\u2019\\u201c\\u201d\\)\\]]*\\s*(?<!\\w\\.\\w)\\s+',chapter,flags=re.UNICODE)\n",
        "  chapter=chapter[:-1]\n",
        "  chapter={num:contents.lower() for (num,contents) in enumerate(chapter)}\n",
        "  return chapter\n",
        "\n",
        "def ch_carve(title):\n",
        "\n",
        "  index=get_index(title)\n",
        "  text=get_text(index)\n",
        "  ch_regex=get_ch_regex(index)\n",
        "  if index ==3:\n",
        "    text=re.split(\"CHAPTER XXVIII.     AND AFTER\\r\\n\\r\\n\\r\\n\\r\\nPROLOGUE\",text)[1]\n",
        "  if index ==4:\n",
        "    text=re.split(\"PROLOGUE\",text)[1]\n",
        "  ch_titles=re.findall(ch_regex,text)\n",
        "  ch_titles_dict={num+1:remove_white(title.strip()) for (num,title) in enumerate(ch_titles)}\n",
        "  if index==3 or index ==4:\n",
        "    ch_titles_dict.update( {0 :\"PROLOGUE\"} )\n",
        "  chapters=re.split(ch_regex,text)\n",
        "  if index==3 or index==4:\n",
        "    ch_contents_dict = {num:contents for (num,contents) in enumerate(chapters)}  \n",
        "  elif index ==1 or index ==2 or index==5:\n",
        "    chapters=chapters[1:]\n",
        "    ch_contents_dict = {num+1:contents for (num,contents) in enumerate(chapters)}\n",
        "  ch_contents_dict=trim_contents(ch_contents_dict,index)\n",
        "  return {\"title\":title,\"contents\":ch_contents_dict,\"chapters\":ch_titles_dict}\n",
        "\n",
        "def get_corpus():\n",
        "  #tentatively planning to index books from 1 to match chapters\n",
        "  titles=[\"The Mysterious Affair at Styles\",\"The Murder on the Links\",\"The Secret Adversary\",\"The Man in the Brown Suit\",\"The Secret of Chimneys\"]\n",
        "  corpus={ get_index(title):ch_carve(title) for title in titles}\n",
        "  return corpus\n",
        "def clean_corpus(corpus):\n",
        "  for keyb,value in corpus.items():\n",
        "    for  keyc,value in value[\"contents\"].items():\n",
        "      corpus[keyb][\"contents\"][keyc]=sent_carve(remove_white(value))\n",
        "    \n",
        "  return corpus"
      ],
      "execution_count": 26,
      "outputs": []
    },
    {
      "cell_type": "code",
      "metadata": {
        "id": "bFHpUYOXeF4z",
        "outputId": "64ac4790-ad99-4987-d43b-7c29ae01fd5d",
        "colab": {
          "base_uri": "https://localhost:8080/"
        }
      },
      "source": [
        "corpus=get_corpus()\n",
        "\n",
        "print(corpus[1][\"title\"],len(corpus[1][\"chapters\"]),len(corpus[1][\"contents\"]))\n",
        "#print(corpus[1][\"contents\"][28])\n",
        "#print(corpus[2][\"contents\"][13])\n",
        "corpus=clean_corpus(corpus)\n"
      ],
      "execution_count": 23,
      "outputs": [
        {
          "output_type": "stream",
          "name": "stdout",
          "text": [
            "The Murder on the Links 28 28\n"
          ]
        }
      ]
    },
    {
      "cell_type": "code",
      "metadata": {
        "colab": {
          "base_uri": "https://localhost:8080/"
        },
        "id": "lUaxNizp9CDJ",
        "outputId": "191c1b59-22a4-4483-a370-519dded19f68"
      },
      "source": [
        "\n",
        "\n",
        "\n",
        "def get_det(index):\n",
        "  if index==1:\n",
        "    det=re.compile(r\"hercule|poirot|arthur|hastings\")\n",
        "  return det\n",
        "\n",
        "#The Mysterious Affair at Styles\n",
        "#Lead detective: Hercule Poirot, Arthur Hastings\n",
        "#Other detectives/assistants:\n",
        "#Victim: Emily Inglethorp\n",
        "#Suspects: Alfred Inglethorp , Cavendish\n",
        "#Perpetrator(s): Alfred Inglethorp, Evelyn Howard\n",
        "#Other important characters: John Cavendish,\n",
        "#Crime: Murder, Poisoning\n",
        "#Mrs. Inglethorp\n",
        "\n",
        "def get_perp(index):\n",
        "  if index==1:\n",
        "    #checked book for abbreviations Mlle,mlle,Melle,melle - none occured in text\n",
        "    perp=re.compile(r\"mademoiselle daubreuil|marthe\")\n",
        "  elif index==2:\n",
        "    re.compile(r\"Alfred|(?<!Mrs. |Emily )Inglethorp\")\n",
        "  return perp\n",
        "\n",
        "def get_crime(index):\n",
        "  if index==1:\n",
        "    crime=re.compile(r\"murdered|body (was|had been) discovered\")\n",
        "  return crime\n",
        "\n",
        "def get_sus(index):\n",
        "  if index==1:\n",
        "    sus=re.compile(r\"jack\")\n",
        "  return sus\n",
        "\n",
        "def get_occur(index,regex):\n",
        "  occur=[]\n",
        "  for ch_index,ch_contents in corpus[1][\"contents\"].items():\n",
        "    for sent_index,sent_contents in ch_contents.items():\n",
        "      matches=re.search(regex,sent_contents)\n",
        "      if matches is not None:\n",
        "        occur.append([ch_index,sent_index,sent_contents])\n",
        "        #print(\"Chapter: \",ch_index, \"Sentence: \", sent_index, \"Contents: \",sent_contents)\n",
        "  return occur\n",
        "def get_co_occur(index, det,perp):\n",
        "  co_occur=[]\n",
        "  for ch_index,ch_contents in corpus[1][\"contents\"].items():\n",
        "    for sent_index,sent_contents in ch_contents.items():\n",
        "      dmatches=re.search(det,sent_contents)\n",
        "      pmatches=re.search(perp,sent_contents)\n",
        "      if dmatches is not None and pmatches is not None:\n",
        "        co_occur.append([ch_index,sent_index,sent_contents])\n",
        "        #print(\"Chapter: \",ch_index, \"Sentence: \", sent_index, \"Contents: \",sent_contents)\n",
        "  return co_occur\n",
        "def get_context(book,ch,sent):\n",
        "  near3=[]\n",
        "  if sent==max(corpus[book][\"contents\"][ch].keys()):\n",
        "    near3=[[sent-2,corpus[book][\"contents\"][ch][sent-2]],[sent-1,corpus[book][\"contents\"][ch][sent-1]],[sent,corpus[book][\"contents\"][ch][sent]]]\n",
        "  elif sent==min(corpus[book][\"contents\"][ch].keys()):\n",
        "    near3=[[sent,corpus[book][\"contents\"][ch][sent]],[sent+1,corpus[book][\"contents\"][ch][sent+1]],[sent+2,corpus[book][\"contents\"][ch][sent+2]]]\n",
        "  else:\n",
        "    near3=[[sent-1,corpus[book][\"contents\"][ch][sent-1]],[sent,corpus[book][\"contents\"][ch][sent]],[sent+1,corpus[book][\"contents\"][ch][sent+1]]]\n",
        "  return near3\n",
        "det=get_det(1)\n",
        "perp=get_perp(1)\n",
        "crime=get_crime(1)\n",
        "sus=get_sus(1)\n",
        "det_occur=get_occur(1,det)\n",
        "perp_occur=get_occur(1,perp)\n",
        "co=get_co_occur(1,det,perp)\n",
        "crime=get_occur(1,crime)\n",
        "sus_occur=get_occur(1,sus)\n",
        "print(det_occur)\n",
        "print(perp_occur)\n",
        "print(co)\n",
        "print(crime)\n",
        "print(sus_occur)\n",
        "print(get_context(1,3,116))"
      ],
      "execution_count": 24,
      "outputs": [
        {
          "output_type": "stream",
          "name": "stdout",
          "text": [
            "[[1, 4, 'i had been transacting some business in  paris and was returning by the morning service to london where i was  still sharing rooms with my old friend, the belgian ex-detective,  hercule poirot'], [1, 123, '“that was poirot’s first big case'], [2, 1, 'my friend poirot, exact to the minute as usual, was just tapping the  shell of his second egg'], [2, 8, 'elsewhere, i have described hercule poirot'], [2, 17, '_the little  grey cells___—remember always the little grey cells, _mon ami!___”    i slipped into my seat, and remarked idly, in answer to poirot’s  greeting, that an hour’s sea passage from calais to dover could hardly  be dignified by the epithet “terrible'], [2, 18, 'poirot waved his egg-spoon in vigorous refutation of my remark'], [2, 37, 'poirot shook his head seriously'], [2, 55, 'poirot threw me a withering glance'], [2, 56, '“what an intelligence has my friend hastings!” he exclaimed  sarcastically'], [2, 60, 'poirot shook his head with a dissatisfied air'], [2, 67, '“cheer up, poirot, the luck will change'], [2, 70, 'poirot smiled, and taking up the neat little letter opener with which  he opened his correspondence he slit the tops of the several envelopes  that lay by his plate'], [2, 84, 'poirot  continued to read his correspondence placidly'], [2, 90, 'poirot was reading  attentively'], [2, 108, '“yes, indeed,” said poirot meditatively'], [2, 110, 'poirot nodded'], [2, 132, '“dear me, poirot,” i said, my excitement rising, “i smell some goodly  shekels in this'], [2, 138, '“in any case,” continued poirot, “it is not the money which attracts me  here'], [2, 162, 'poirot nodded'], [2, 181, 'a woman cannot  wait—always remember that, hastings'], [2, 183, 'before starting poirot had despatched a telegram to mr. renauld giving  the time of our arrival at calais'], [2, 184, '“i’m surprised you haven’t invested  in a few bottles of some sea sick remedy, poirot,” i observed  maliciously, as i recalled our conversation at breakfast'], [2, 193, '“he did not know the methods of hercule poirot'], [2, 197, '“it’s all very well, poirot, but i think you are falling into the habit  of despising certain things too much'], [2, 199, '“and has, without doubt, hanged more than one innocent man,” remarked  poirot dryly'], [2, 204, 'but the others, the hercules  poirots, they are above the experts'], [2, 212, '“but yet,” poirot wagged his finger at me'], [2, 215, 'poirot nodded in a satisfied  manner'], [2, 218, 'yet you demand  that i, hercule poirot, should make myself ridiculous by lying down  (possibly on damp grass) to study hypothetical footprints, and should  scoop up cigarette ash when i do not know one kind from the other'], [2, 236, 'and poirot, having effectually silenced, if not convinced me, leaned  back with a satisfied air'], [2, 238, 'the  weather was gorgeous, and the sea as smooth as the proverbial  mill-pond, so i was hardly surprised to hear that laverguier’s method  had once more justified itself when a smiling poirot joined me on  disembarking at calais'], [2, 239, 'a disappointment was in store for us, as no car  had been sent to meet us, but poirot put this down to his telegram  having been delayed in transit'], [2, 252, 'are you not the one and  only hercule poirot'], [2, 255, '“you are what the scotch people call ‘fey,’ hastings'], [2, 283, '“by jove, poirot,” i exclaimed, “did you see that young goddess'], [2, 284, 'poirot raised his eyebrows'], [2, 295, '“i saw only a girl with anxious eyes,” said poirot gravely'], [2, 303, '“yes, monsieur, but—”    poirot leaned forward'], [3, 0, '  in a moment poirot had leapt from the car, his eyes blazing with  excitement'], [3, 10, 'poirot reflected for a minute'], [3, 13, 'poirot took out a card, and scribbled a few words on it'], [3, 16, 'in a  few seconds a comrade joined him and was handed poirot’s message'], [3, 19, '“my dear m. poirot,” cried the new-comer, “i am delighted to see you'], [3, 21, 'poirot’s face had lighted up'], [3, 25, '“this is an  english friend of mine, captain hastings—m. lucien bex'], [3, 26, 'the commissary and i bowed to each other ceremoniously, then m. bex  turned once more to poirot'], [3, 50, '“when was the crime committed?” asked poirot'], [3, 67, 'poirot handed it to him, and the magistrate read it'], [3, 71, 'we  are much indebted to you, m. poirot'], [3, 91, 'm. poirot,  the body was lying, face downwards, _in an open grave___'], [3, 103, 'poirot nodded, and the commissary resumed:    “madame renauld was hastily freed from the cords that bound her by the  horrified servants'], [3, 118, 'poirot bowed his head'], [3, 277, 'a perplexed frown was beginning to gather between poirot’s eyes'], [3, 282, 'poirot’s frown deepened'], [4, 9, '“we have forgotten to inform m. poirot of  that'], [4, 11, '“this letter, m. poirot, we  found in the pocket of the dead man’s overcoat'], [4, 12, 'poirot took it and unfolded it'], [4, 29, 'poirot handed it back with a grave face'], [4, 36, 'm. poirot, at first sight the  case seemed simplicity itself'], [4, 39, 'poirot nodded'], [4, 48, 'poirot shook his head'], [4, 57, '“excellent,” said poirot appreciatively'], [4, 59, '“you have found no other letters from this bella amongst m. renauld’s  effects?” asked poirot'], [4, 66, 'poirot ran through the document'], [4, 76, '“perhaps,” began bex, “you did not notice—”    “the date?” twinkled poirot'], [4, 86, 'poirot shrugged his shoulders'], [4, 92, 'now, m. poirot, you would without doubt like to  visit the scene of the crime'], [4, 97, 'he opened the door, and bowed ceremoniously to poirot to precede him'], [4, 98, 'poirot, with equal politeness, drew back and bowed to the commissary'], [4, 102, '“that room there, it is the study, _hein?___” asked poirot suddenly,  nodding towards the door opposite'], [4, 111, 'poirot stood a moment talking in the room, then he stepped forward,  passed his hand lightly over the backs of the leather chairs, picked up  a magazine from the table, and drew a finger gingerly over the surface  of the oak sideboard'], [4, 124, '“you recognize it—eh, hastings'], [4, 132, '“the former, i fancy,” said poirot, “for, if i am not mistaken, the  handwriting is that of m. renauld'], [4, 135, 'poirot laughed'], [4, 137, 'my friend hastings  here will tell you that anything in the least crooked is a torment to  me'], [4, 158, '“courage!” cried poirot, clapping him on the back'], [4, 163, 'as we turned to leave the room, poirot remarked casually: “it was here  that m. renauld received his guest last night, eh'], [4, 179, '“one can see by his face that he was stabbed in the back,” remarked  poirot'], [4, 183, 'poirot  examined it narrowly'], [4, 190, 'poirot tested the  discoloured point gingerly with his finger tip'], [4, 195, '“of course he did,” said poirot contemptuously'], [4, 216, 'poirot lingered a moment, looking back towards the body'], [5, 1, 'poirot  went up in a zigzag fashion which puzzled me, until he whispered with a  grimace:    “no wonder the servants heard m. renauld mounting the stairs; not a  board of them but creaks fit to wake the dead'], [5, 57, '“_pardon___,” interrupted poirot, “but is there then no other egress  from the dressing-room'], [5, 89, '“yes, this gentleman—m. hercule poirot'], [5, 90, 'poirot bowed'], [5, 106, 'poirot rose from his seat, scrutinized the clock carefully, and nodded,  satisfied'], [5, 115, 'but poirot, deft as ever, took the broken trinket from the startled  commissary, and held it to his ear'], [5, 121, '“no,” said poirot gently, “it is a few minutes after five'], [5, 139, 'asked poirot'], [5, 141, '“of course,” agreed poirot, looking somewhat crestfallen'], [5, 196, 'it was at this moment, when we were all stunned by the mention of that  word, that poirot approached mrs. renauld'], [5, 230, 'instantly poirot was beside her, he raised the lid of her eye, felt her  pulse'], [6, 5, 'now, m. poirot, shall we visit the  place where the crime was committed'], [6, 8, 'poirot had  looked up at the staircase in passing, and shook his head in a  dissatisfied manner'], [6, 13, 'but poirot continued to shake his head as though not fully accepting  the explanation'], [6, 19, 'poirot pointed to a window on the first floor'], [6, 28, 'poirot went close to the bed and studied it attentively'], [6, 31, 'poirot nodded, as though convinced, and we turned away, but he suddenly  darted off and began examining the other flower-bed'], [6, 36, '“my dear m. poirot, those are without doubt the footprints of the  gardener’s large hobnailed boots'], [6, 38, '“true,” said poirot, evidently crestfallen'], [6, 41, 'then, to my utter astonishment, poirot pronounced these words:    “i do not agree with you'], [6, 47, 'i can investigate this matter of the footprints later,”  said poirot cheerfully'], [6, 74, 'bex introduced us, presenting poirot as a colleague'], [6, 76, '“i know you by name, m. poirot,” he said'], [6, 79, '“crimes, though, are very much the same,” remarked poirot gently'], [6, 95, '“the external sign,” said poirot'], [6, 99, 'a very faint smile came to poirot’s lips'], [6, 113, 'but poirot was now apparently interested in something else, a short  discoloured piece of lead-piping which lay beside the spade'], [6, 119, '“i, on the contrary, find it very interesting,” said poirot sweetly'], [6, 122, 'meanwhile poirot, as though struck by a sudden idea, stepped back over  the boundary, and tried the door of the little shed'], [6, 132, 'i could not help  feeling that, so far, poirot had not greatly distinguished himself, and  it vexed me'], [6, 136, '“no, m. poirot, it is an affair of the golf course'], [6, 139, 'poirot turned to me'], [6, 142, '“you do not play the golf, m. poirot?” inquired bex'], [6, 152, 'i could not refrain from a laugh at the way the game appeared to  poirot, and my little friend smiled at me affectionately, bearing no  malice'], [6, 157, 'poirot nodded thoughtfully'], [6, 163, '“yes,” said poirot doubtfully'], [6, 167, '“yes,” said poirot, in a somewhat dissatisfied voice'], [7, 1, 'giraud himself had been  obviously delighted when poirot declared that he had seen all he  wanted'], [7, 3, 'poirot guessed my thoughts, for as soon as we  were alone he remarked ironically:    “at last you have seen the detective you admire—the human foxhound'], [7, 9, '“nonsense, poirot'], [7, 23, 'poirot brushed a speck of dust from his sleeve with a dissatisfied air'], [7, 43, 'poirot called to him, and he set down the barrow and came  hobbling towards us'], [7, 46, 'my faith in poirot revived a little'], [7, 48, '“exactly,” said poirot'], [7, 69, 'auguste was charmed with poirot’s interest, and was quite inclined to  be garrulous'], [7, 70, '“that is a splendid specimen there,” said poirot, pointing'], [7, 73, 'the old fellow stepped into the bed, and  carefully took a slip from the plant poirot had admired'], [7, 74, 'poirot was profuse in his thanks, and auguste departed to his barrow'], [7, 75, '“you see?” said poirot with a smile, as he bent over the bed to examine  the indentation of the gardener’s hobnailed boot'], [7, 83, '_eh bien___, i agree with you,” said poirot'], [7, 89, 'but to my surprise poirot shook his head'], [7, 95, '“ah, m. poirot, we were coming to look for you,” said the magistrate'], [7, 102, '“is m. giraud not going to accompany us?” asked poirot'], [7, 106, 'poirot walked with the examining magistrate, and the commissary  and i followed a few paces behind'], [7, 218, 'poirot seemed lost in thought'], [7, 225, 'with mutual civilities, we parted company, poirot and i going towards  merlinville, and the others returning to the villa geneviève'], [7, 226, '“the french police system is very marvellous,” said poirot, looking  after them'], [7, 238, '“yes, mademoiselle,” said poirot gently'], [7, 242, 'poirot made a grimace'], [7, 249, 'poirot eyed her keenly'], [7, 254, 'all at once poirot’s words  about her earlier in the day recurred to me'], [7, 258, '“i see,” said poirot'], [7, 270, '“_mon ami___,” said poirot, in his gentle ironical voice, “is it that  we are to remain planted here all night—just because you have seen a  beautiful young woman, and your head is in a whirl'], [7, 272, '“but she _is___ beautiful, poirot'], [7, 274, 'poirot groaned'], [7, 276, '“poirot,” i said, “do you remember after the styles case when—”    “when you were in love with two charming women at once, and neither of  them were for you'], [7, 279, 'but to my surprise poirot shook his head very earnestly'], [7, 282, 'take it from papa poirot'], [7, 285, '“some of the greatest criminals i have known had the faces of angels,”  remarked poirot cheerfully'], [7, 287, '“poirot,” i cried, horrified, “you cannot mean that you suspect an  innocent child like this'], [7, 294, '“my friend,” said poirot, “as usual, you see nothing at all'], [7, 299, 'i, hercule poirot, know it'], [8, 4, 'poirot inquired after the health of mrs. renauld'], [8, 10, 'poirot nodded sympathetically'], [8, 22, '“indeed,” said poirot'], [8, 44, '“_quelle idée___,” murmured poirot, as the girl disappeared'], [8, 53, '“the human foxhound,” murmured poirot, as he leaned back in a  comfortable chair, and closed his eyes'], [8, 193, 'i felt a thrill of satisfaction as i realized that in marchaud’s eyes,  at least, i ranked equally in importance with poirot'], [9, 1, 'poirot and the commissary, who were both  present, greeted me respectively with a smile and a polite bow'], [9, 19, 'remembering poirot’s unaccountable  insistence on the footprints in the flower beds, i scrutinized him  narrowly as he gave his evidence'], [9, 68, 'the detective wheeled round on  poirot'], [9, 72, 'but poirot remained unmoved'], [9, 76, 'poirot spread out his hands'], [9, 85, '“and the other match?” asked poirot'], [9, 92, '“i see you love a joke, m. poirot'], [9, 95, 'poirot bowed'], [9, 101, '“you do not think it odd,” asked poirot, “that these strangers should  come unprovided with a weapon, with gloves, with a spade, and that they  should so conveniently find all these things'], [9, 136, '“tell me one thing, m. giraud,” said poirot suddenly'], [9, 144, 'then, to my surprise, poirot uttered almost the same words as he had  uttered to bex the previous evening:    “_i do not agree with you.___ the door being left open was the result  of either design or necessity, and any theory that does not admit that  fact is bound to prove vain'], [9, 158, '“you are wrong,” said poirot quietly'], [9, 169, 'poirot suddenly  assumed his lecturing manner, and addressed us collectively'], [9, 172, '(japp would tell you the same, hastings'], [9, 183, 'you may know all about cigarettes and match ends,  m. giraud, but i, hercule poirot, know the mind of man'], [9, 186, '“for your guidance,” continued poirot, “i will also advise you of one  fact which might fail to be brought to your notice'], [9, 193, '“all the same, two hours is a good deal,” said poirot softly'], [9, 200, '“no,” said poirot, straightening a little pile of books on a table'], [10, 16, 'this gentleman  is m. hercule poirot'], [10, 18, 'a friend of m. poirot’s, captain  hastings'], [10, 19, 'stonor looked at poirot with some interest'], [10, 151, 'poirot interjected a remark:    “m. stonor, the english chauffeur, masters, had he been long with m.  renauld'], [10, 158, 'poirot seemed somewhat crest-fallen'], [11, 97, 'but  another voice spoke, imperturbable and calm, the voice of hercule  poirot'], [11, 133, 'my father reminded  me that i was entirely dependent on him, and it must have been in  answer to that that i made the remark about doing as i pleased after  his death—”    poirot interrupted with a quick question'], [11, 207, 'poirot had risen and was adjusting a pair of candlesticks  that struck his trained eye as being a shade askew'], [11, 241, '“but it is a  grave fault you have committed there, captain hastings'], [11, 280, 'poirot turned to bex'], [11, 284, 'poirot looked at him'], [11, 290, '“_ils sont mal renseignés, les accomplices!___” muttered poirot, but he  said no more'], [11, 302, 'poirot tugged out that large turnip of a watch of his, and observed the  time'], [11, 309, 'i was going down the steps when poirot’s voice  arrested me:    “one little moment, my friend'], [11, 312, 'then, with a little satisfied grunt, poirot returned the measure to his  pocket, and followed me out into the open air'], [12, 4, 'poirot’s incurable habit of making a mystery out of  nothing never failed to irritate me'], [12, 18, '“you think profoundly, my friend,” remarked poirot, breaking in upon my  reflections'], [12, 22, '“you are quite right, hastings'], [12, 36, '_the wrist  watch, hastings, the wrist watch!___”    again that wrist watch'], [12, 37, 'poirot was eyeing me curiously'], [12, 43, '“do not enrage yourself, my friend,” said poirot with a smile'], [12, 48, 'i assured poirot that he could rely upon my discretion'], [12, 54, 'but  i, hercule poirot, say that madame renauld lied'], [12, 71, '“perfect, hastings'], [12, 77, '“you think so, hastings'], [12, 80, 'poirot restrained my ardour with a light touch upon the arm'], [12, 93, 'oh, be assured, hastings, the danger that threatened him was not  in santiago, it was near at hand, in france'], [12, 97, 'a light of pure enjoyment lit up poirot’s face'], [12, 113, 'poirot shrugged his shoulders'], [12, 117, 'a remarkable woman that,  hastings'], [12, 138, 'tell  me, hastings, what is your explanation of the open door'], [12, 141, 'poirot shook his head, and sighed'], [12, 151, '“an admirable theory, hastings, but for two facts which you have  characteristically overlooked'], [12, 157, '“no,” continued poirot, “we must look elsewhere for a solution of the  open door mystery'], [12, 163, '“no—_and there ought to have been.___ listen, hastings'], [12, 168, '“where they got the spade and the gardening gloves,” said poirot  impatiently'], [12, 176, 'i mused, thinking over the new field of conjecture that poirot’s  deductions had opened up to me'], [12, 188, '“no,” said poirot cheerfully'], [12, 203, 'even i, hercule poirot, might fail to catch such a one'], [12, 206, '“poirot'], [12, 210, 'from the quietness with which poirot received my remark, i could see  that the idea had already occurred to him'], [12, 215, 'poirot maintained a strictly  non-committal attitude, repeating:    “it may be—yes, it may be'], [13, 1, 'i understood well enough that  poirot did not wish to discuss the tragedy where we could so easily be  overheard'], [13, 3, 'for a while we ate in silence, and then poirot observed  maliciously:    “_eh bien!___ and your indiscretions'], [13, 8, 'but i was no match for poirot'], [13, 16, '“don’t be an ass, poirot'], [13, 18, 'decidedly you have the heart of a turk,  hastings'], [13, 26, 'poirot nodded thoughtfully'], [13, 42, 'i answered poirot lightly enough'], [13, 53, '“ah, my friend, have faith in papa poirot'], [13, 56, 'poirot sighed and shook his head'], [13, 66, 'surely i had never mentioned  any hotel to poirot'], [13, 71, 'poirot smoked one of his tiny  cigarettes, and then drew his watch from his pocket'], [13, 103, 'poirot smiled'], [13, 106, '“what do you mean by that, poirot'], [13, 123, 'i felt rather at a loose end after poirot had left me'], [13, 167, 'poirot'], [13, 206, 'and then i saw the look in her eyes, the look poirot had spoken of, as  she murmured, so that i almost guessed at the words'], [13, 224, '“m. poirot has gone to paris,” i replied coldly'], [13, 257, 'another murder—and poirot away'], [14, 50, 'it was a woman’s long black hair—similar to the one poirot had taken  from the arm-chair in the library'], [15, 6, 'it was from poirot, and  announced his return by the train arriving at merlinville at 12:28'], [15, 9, 'evidently, i reflected, poirot had had no difficulty in finding what he  wanted in paris'], [15, 35, 'hence her anxiety, and her eager questioning of poirot to know whether  any one were suspected'], [15, 36, 'my cogitations were interrupted by the arrival of the train, and in  another moment i was greeting poirot'], [15, 54, '“my dear poirot—never mind all that'], [15, 85, 'in all my knowledge of poirot he  had never done anything so amazing as this'], [15, 87, '“poirot,” i cried, “you’re pulling my leg'], [15, 102, 'poirot listened attentively'], [15, 113, '“you speak as usual, without reflection, hastings'], [15, 120, 'a hint of the lecturer crept into poirot’s tone'], [15, 127, 'we found all our friends there and, after an  interchange of polite amenities, poirot began his task'], [15, 129, 'poirot bestowed  but a cursory glance on the surroundings'], [15, 131, 'a disdainful smile rose  to giraud’s lips, and, as though noting it, poirot flung the bundle  down again'], [15, 134, 'poirot knelt down by the body'], [15, 142, 'suddenly poirot stiffened'], [15, 151, 'poirot again shot a question at giraud'], [15, 154, 'poirot proceeded'], [15, 157, 'poirot examined it, then he studied the wound closely'], [15, 168, 'and, stilling the clamour of voices that arose  with a wave of his hand, poirot turned to giraud and added, “m. giraud  agrees with me, do you not, monsieur'], [15, 177, '“no, m. le juge,” said poirot'], [15, 180, '“the impression it nearly did create,” returned poirot oracularly'], [15, 186, 'this statement of poirot’s again aroused considerable excitement'], [15, 190, '“m. poirot, i am inclined to believe that you are correct in your  assertion'], [15, 193, 'poirot was the hero of the hour'], [15, 195, 'poirot responded gracefully, and then excused himself  on the pretext that neither he nor i had yet lunched, and that he  wished to repair the ravages of the journey'], [15, 197, '“one more thing, m. poirot,” he said, in his suave mocking voice'], [15, 200, '“ah!” said poirot'], [15, 205, '“he was insistent, the good giraud,” said poirot thoughtfully, as we  walked towards the hotel'], [15, 208, 'we lunched heartily, but i found poirot somewhat distrait and  inattentive'], [15, 221, 'poirot shook his head with a smile'], [17, 5, 'i admit that i am impulsive, and poirot deplores my custom of  jumping to conclusions, but i think i had some excuse in this instance'], [17, 6, 'the remarkable way in which this discovery justified poirot’s point of  view struck me at once'], [17, 7, '“poirot,” i said, “i congratulate you'], [17, 14, 'poirot lit one of his little cigarettes with his usual precision'], [17, 24, 'poirot walked to the end of the room, absentmindedly straightened a  chair, and then said thoughtfully'], [17, 30, 'poirot sat down again, and regarded me, his thoughtful air more marked  than ever'], [17, 31, '“so it is definitely your opinion, hastings, that madame daubreuil  murdered m. renauld'], [17, 39, 'poirot nodded his head at me'], [17, 47, '“true,” agreed poirot placidly'], [17, 54, 'poirot shook his head'], [17, 72, '“why, poirot, it was you who remarked on that'], [17, 74, 'poirot smiled a little'], [17, 83, '“ta-ta-ta,” said poirot impatiently'], [17, 90, '“poirot,” i cried, “what more do you know'], [17, 94, 'reason—not like giraud—but  like hercule poirot'], [17, 105, '“but, poirot, i thought you said the man in the shed had died a natural  death'], [17, 107, 'poirot made his favourite ejaculation of impatience'], [17, 117, 'that changed the course of my ideas, and i asked poirot if he knew that  jack renauld had been in merlinville on the night of the crime'], [17, 120, '“and without doubt we are not original in the idea, hastings'], [17, 124, 'poirot looked inquiringly at me, but i said no more'], [17, 128, 'poirot greeted him in a business-like manner'], [17, 133, '“exactly, m. poirot,” said the lad'], [17, 142, '“i and my friend, you comprehend, have business elsewhere,” explained  poirot'], [17, 146, 'poirot’s voice stopped him'], [17, 153, 'poirot looked at him, his eyes narrowed, cat-like, until they only  showed a gleam of green'], [17, 166, 'poirot’s eyes never left the other’s face'], [17, 178, 'poirot bowed his head as a sign that he accepted the explanation'], [17, 180, 'in a trice poirot jumped  to his feet'], [17, 181, '“quick, hastings'], [17, 184, 'but when poirot saw that he took the  turning to the station, he checked himself'], [17, 191, '“your penetration is amazing, hastings'], [18, 0, '  “by the way, poirot,” i said, as we walked along the hot white road,  “i’ve got a bone to pick with you'], [18, 2, 'poirot shot a quick sidelong glance at me'], [18, 6, 'i rather feared poirot’s banter, but to my relief, and somewhat to my  surprise, he only shook his head with a rather unusual gravity'], [18, 13, 'poirot seemed to be about to say something further, but checked  himself'], [18, 14, 'arrived at the villa, poirot led the way up to the shed where the  second body had been discovered'], [18, 26, '“certainly, monsieur poirot'], [18, 53, 'poirot, too, watched her intently'], [18, 57, '“it was unwise to have tried to conceal the fact,” ventured poirot'], [18, 63, '“the facts will tell against him,” said poirot'], [18, 70, '“mademoiselle,” said poirot observing her keenly, “is there not  something that you are keeping back that you could tell us'], [18, 88, 'poirot uttered an exclamation'], [18, 92, 'but tell me, monsieur poirot, is it not  possible that this tramp might have attacked and killed m. renauld, and  taken his clothes and money'], [18, 93, '“it is an idea, mademoiselle,” said poirot slowly'], [18, 99, '“come,” said poirot, and taking my arm, turned in the direction of the  villa'], [18, 103, '“it is a curious tale,” said poirot, “but i believe it to be the  absolute truth'], [18, 111, 'now, hastings, what  was jack renauld doing here on that eventful evening, and if he did not  see mademoiselle marthe whom did he see'], [18, 112, '“surely, poirot,” i cried, aghast, “you cannot believe that a boy like  that would murder his own father'], [18, 113, '“_mon ami___,” said poirot, “you continue to be of a sentimentality  unbelievable'], [18, 121, 'poirot shrugged his shoulders'], [18, 125, '“ah,” said poirot, smiling broadly'], [18, 131, '“no,” said poirot with a curious smile'], [18, 134, '“perhaps,” said poirot, regarding me quizzically'], [18, 146, 'neatly and methodically, poirot opened each drawer in turn, examined  the contents, and returned them exactly to their places'], [18, 148, 'poirot waded on through  collars, pajamas and socks'], [18, 151, '“poirot'], [18, 155, '“_sacré tonnerre!___” growled poirot'], [18, 160, 'suddenly with a cry of triumph poirot pounced on  something, a small square cardboard, evidently a photograph'], [18, 163, '“good afternoon, m. giraud,” said poirot'], [18, 168, 'poirot wheeled to confront the boy who leaned limply against the door,  his face ashy pale'], [19, 2, 'i had expected a ringing proclamation of  his innocence when poirot challenged him'], [19, 4, 'but poirot had turned to giraud'], [19, 11, '“it would not surprise me,” replied poirot, with a soupçon of malice'], [19, 16, '“now, m. poirot,” said giraud laying his hat on the table, and speaking  with the utmost sarcasm, “i will treat you to a little lecture on  detective work'], [19, 18, '“_bien!___” said poirot, composing himself to listen'], [19, 25, '“very creditable so far, my dear giraud,” murmured poirot'], [19, 36, 'captain hastings here  can fix the time'], [19, 39, 'poirot interrupted:    “you are wrong'], [19, 46, 'without doubt, he saw captain hastings and his companion leave  the shed, slipped in himself and took the dagger, stabbed his  accomplice in the shed—”    “who was already dead'], [19, 53, '“but it could not deceive m. giraud,” murmured poirot'], [19, 63, 'poirot regarded him steadily'], [19, 74, 'i saw a quick flash of green in poirot’s eyes as he rose to his feet'], [19, 80, 'poirot moved towards the door'], [19, 84, '“the piece of lead piping,” said poirot, and left the room'], [19, 96, 'in a minute  poirot stood up again'], [19, 101, 'denise and françoise had run to their mistress, and leaving her in  their charge poirot left the house'], [19, 105, 'poirot did not answer at once, but after a long wait he said gravely:    “i do not know, hastings'], [19, 113, 'this was what i called one of poirot’s irritating answers'], [19, 118, 'we established ourselves on the grassy knoll as poirot had suggested,  looking out to sea'], [19, 120, 'the sea was of the palest blue, and the  halcyon calm reminded me of the day we had arrived at merlinville, my  own good spirits, and poirot’s suggestion that i was “fey'], [19, 123, '“think, my friend,” said poirot’s voice encouragingly'], [19, 129, 'and reluctantly it seemed to me that the only clear and  possible solution was that of giraud—which poirot despised'], [19, 133, 'poirot had declared the beroldy case to be all important'], [19, 141, '“poirot,” i said, “it seems to me we have been strangely remiss'], [19, 146, '“and who is that?” inquired poirot, with twinkling eyes'], [20, 0, '  the next moment poirot embraced me warmly'], [20, 10, '“_aucunement___,” agreed poirot'], [20, 20, 'the sentimentality,” warned poirot'], [20, 35, 'there, poirot, what do you think of that'], [20, 37, 'poirot looked at me thoughtfully'], [20, 50, '“you are wrong, hastings'], [20, 56, '“my theory is the truth,” said poirot quietly'], [20, 63, 'poirot sat very upright and began, wagging his forefinger emphatically  to emphasize his points'], [20, 83, 'poirot paused, cleared his throat, and signed to me to write'], [20, 88, '“letter written to m. hercule poirot, imploring assistance'], [20, 93, '…’ ”    poirot paused'], [20, 94, '“there, hastings, take each of those facts one by one, consider them  carefully by themselves and in relation to the whole, and see if you do  not get new light on the matter'], [20, 103, '“none whatever, i grant you, hastings'], [20, 105, '“the letter, poirot'], [20, 109, '“why it was found in his pocket and—and—”    “and that is all!” cut in poirot'], [20, 119, '“i see,” i said slowly, as the meaning of poirot’s remarks bore in upon  me'], [20, 122, 'poirot nodded'], [20, 145, 'and if you do not see that, you see  nothing, hastings'], [20, 151, 'a faint smile crossed poirot’s lips'], [20, 157, 'poirot shook his head'], [20, 189, '“my dear poirot, i can’t see anything glaring about it'], [20, 191, 'poirot looked at me sadly, and shook his head'], [20, 195, 'you really are the most irritating of  fellows, poirot'], [20, 214, '“georges conneau,” i said doubtfully, eyeing poirot warily'], [20, 236, 'poirot nodded'], [20, 249, '“_eh bien, mon ami___,” said poirot placidly, “that is just what he did  do'], [21, 0, '  in a measured voice, poirot began his exposition'], [21, 5, '“but no, it is all most simple really,” said poirot kindly'], [21, 61, '“and then,” said poirot gravely, “the justice that he has so long  eluded overtakes him'], [21, 63, '… now,  hastings, you understand what i mean when i talk of _two___ crimes'], [21, 65, 'he misjudged  hercule poirot'], [21, 71, '“you’re marvellous, poirot,” i said, with admiration'], [21, 76, '“ah, then you no longer despise poor old papa poirot'], [21, 81, '“that poor giraud,” said poirot, trying unsuccessfully to look modest'], [21, 86, '“to tell you the truth, poirot,” i said slowly, “even now i don’t quite  see—whose hair was it'], [21, 99, 'but i, hercule poirot, whom he  despises, will be the little pin that pricks the big balloon—_comme  ça!___” and he made an expressive gesture'], [21, 103, 'voilà une femme___, hastings'], [21, 121, 'poirot lost himself in contemplation'], [21, 122, '“one thing more, poirot, what about the piece of lead piping'], [21, 132, '“you see, hastings, we must now start again'], [21, 149, 'for answer, poirot consulted his turnip-faced watch, and then asked:    “what time is the afternoon boat from calais'], [21, 158, 'with a rather peculiar smile upon his face, poirot replied:    “miss bella duveen'], [22, 2, 'at the same time, i stole a quick glance at poirot'], [22, 10, 'in the bustle of departure, i had no time for thinking, but once on  board the boat, secure from poirot’s observation (he, as usual, was  “practising the method most excellent of laverguier”) i pulled myself  together, and attacked the facts dispassionately'], [22, 11, 'how much did poirot  know'], [22, 36, 'was that what poirot  was after'], [22, 46, 'i disliked  intensely being associated with poirot in hunting this girl down, but i  could not see any way of avoiding it, without revealing everything to  him, and this, for some reason, i was loath to do'], [22, 47, 'poirot reappeared brisk and smiling at dover, and our journey to london  was uneventful'], [22, 49, 'but poirot had other plans'], [22, 59, 'he greeted poirot with every  evidence of warmth, and professed himself ready to be of service to us  in any way'], [22, 86, 'poirot made no inquiries at  the theatre, but contented himself with booking stalls for the variety  performance that evening'], [22, 102, 'i suggested leaving to poirot'], [22, 108, 'i heard the door open, and turned my  head, thinking it was poirot'], [22, 120, 'and in that moment i  understood everything—understood why poirot was seeking her, and what  she feared, and understood at last my own heart'], [22, 198, 'poirot was standing  there looking at us'], [22, 206, 'i held poirot in  a grip of iron'], [22, 215, 'keeping a suspicious eye upon him, for i paid poirot the compliment of  knowing that i was no match for him in astuteness, i relaxed my grip,  and he sank into an arm-chair, feeling his arms tenderly'], [22, 216, '“it is that you have the strength of a bull when you are roused,  hastings'], [22, 220, 'so poirot had known all along'], [22, 225, '_eh  bien!___ it comes to this—are you going to work with me or against me,  hastings'], [22, 231, '“poirot,” i said, “i’m sorry'], [22, 235, 'poirot nodded his head several times'], [22, 246, '“nothing that you could tell me would be any surprise to me, poirot'], [22, 252, 'poirot looked at me thoughtfully'], [22, 255, 'poirot rose and bowed'], [22, 259, 'it defeats even hercule  poirot'], [23, 6, 'no, i was still satisfied  with my idea—had not even poirot admitted that it defeated him'], [23, 11, 'poirot would not take defeat lying  down'], [23, 14, 'poirot’s good temper was imperturbable, yet i thought i  detected a film of reserve in his manner which was new'], [23, 16, 'a  malicious gleam shot through poirot’s eyes'], [23, 20, '“is that really so, poirot'], [23, 21, '“you can take it from me, hastings'], [23, 30, 'she would know the risk she ran of a message being  intercepted by poirot, thus setting him on her track once more'], [23, 32, 'but, in the meantime, what was poirot doing'], [23, 36, 'i had learned, with poirot, that the less dangerous he  looked, the more dangerous he was'], [23, 39, '“you are puzzled, hastings'], [23, 53, 'poirot’s perfect calm awakened a thousand apprehensions'], [23, 54, '“i suppose, poirot,” i said rather diffidently, “i mustn’t ask what  your plans are'], [23, 59, '“_we?___”    “precisely—‘_we!___’ you know very well that you cannot afford to let  papa poirot out of your sight'], [23, 67, 'at all costs i must keep near poirot'], [23, 68, 'poirot observed me attentively as these reflections passed through my  mind, and gave a nod of satisfaction'], [23, 125, 'but i  pinned my faith to poirot'], [24, 1, 'poirot lost  no time in visiting m. hautet'], [24, 5, '“i was told that you had returned to england, m. poirot'], [24, 10, 'poirot shrugged his shoulders'], [24, 20, 'but poirot was not to be drawn'], [24, 43, 'i have here a letter for you, m. poirot'], [24, 46, 'at last he found the  missive, and handed it to poirot'], [24, 49, 'poirot studied the letter curiously'], [24, 51, 'poirot  did not open it'], [24, 63, 'i am sorry to have to record that poirot’s first remark  to me as we traversed the corridor was:    “a famous old imbecile, that one'], [24, 67, 'm. poirot,” he cried airily'], [24, 69, '“as you see,” said poirot'], [24, 72, 'poirot spoke in a subdued tone'], [24, 77, '“so extraordinary that it gives one to think, does it not?” suggested  poirot mildly'], [24, 80, '“well, good day, m. poirot'], [24, 84, 'giraud stared for a moment—then burst out laughing, tapping his head  significantly with the brief remark: “_toqué!___”    poirot drew himself up'], [24, 90, 'giraud stared helplessly at him, and murmured again:    “_toqué!___”    “come now,” urged poirot, “is it agreed'], [24, 96, '“i am enchanted to hear it,” said poirot'], [24, 98, 'come, hastings'], [24, 101, 'poirot had displayed his intentions only too plainly'], [24, 103, 'this unlucky encounter with giraud had roused poirot and put him on his  mettle'], [24, 106, '“and what are you doing here, m. stonor?” inquired poirot'], [24, 121, 'he turned to  poirot'], [24, 123, '“i think that things look very black against him,” said poirot quietly'], [24, 135, '“for one thing, the dagger—” i  paused, uncertain as to how much poirot would wish me to reveal'], [24, 142, 'poirot’s hand arrested his departure'], [24, 146, '“that point about the dagger is good, poirot,” i urged as we went  upstairs'], [24, 155, '_eh bien___,  hastings, they made to his order not _two___ paper-knives, but  _three___'], [24, 158, 'no,  hastings, i fear the dagger question will not help us to save him from  the guillotine'], [24, 160, 'poirot shook his head uncertainly'], [24, 162, 'poirot glanced at me dryly'], [24, 170, '“there are other women in the world who suffer, hastings'], [24, 171, 'the writing was blurred and the note had evidently been written in  great agitation:    “_dear m. poirot:___  “if you get this, i beg of you to come to my aid'], [24, 180, 'marthe was at the  door to meet us, and led poirot in, clinging with both hands to one of  his'], [24, 189, '“neither do i believe it, mademoiselle,” said poirot gently'], [24, 192, '“perhaps because he is screening some one,” suggested poirot, watching  her'], [24, 208, '“mademoiselle,” said poirot quietly, “if we are to work together, you  and i, we must have things clear'], [24, 213, '“there, there,” said poirot, patting her on the shoulder'], [25, 52, 'i began to realize the magnitude of the task  i had so lightly set poirot'], [26, 75, 'poirot was with me when i read it'], [26, 87, '“you were rather high-handed in your methods, _mon ami___,” said poirot  dryly'], [26, 102, '“what is it that worries you, hastings'], [26, 103, 'this was quite a new mood in poirot'], [26, 107, 'poirot turned back the pages'], [26, 108, '“i think you are mistaken, hastings'], [26, 111, 'poirot smiled'], [26, 117, 'leave it to papa poirot'], [27, 0, '  “congratulations, m. jack,” said poirot, wringing the lad warmly by the  hand'], [27, 6, 'he smiled mournfully at poirot, and said in a low  voice:    “i went through it to protect her, and now it’s all no use'], [27, 9, '“_eh ma foi!___ and you were heading for it too!” added poirot, with a  slight twinkle'], [27, 16, '“if i were you,” said poirot frankly, “i should not distress myself  unduly'], [27, 20, 'you see, m. poirot, in a way i _do___ feel  guilty of my father’s murder'], [27, 36, 'i mean, my mother didn’t think—couldn’t  think—that—that it was _me?___”    poirot reassured him quickly'], [27, 58, '“and afterwards?” asked poirot gently'], [27, 70, 'poirot sprang to his feet'], [27, 74, 'poirot, jack renauld and i set off in the renauld car'], [27, 76, 'as we approached the doorway of  the villa marguerite, jack renauld shot a questioning glance at poirot'], [27, 77, '“how would it be if you went on first—to break the news to my mother  that i am free—”    “while you break it in person to mademoiselle marthe, eh?” finished  poirot, with a twinkle'], [27, 82, '“poirot,” i said, “do you remember how we arrived here that first day'], [27, 87, 'but what a lot of things have  happened since then—especially for you, _mon ami!___”    “poirot, what have you done about finding bel—i mean dulcie'], [27, 88, '“calm yourself, hastings'], [27, 91, 'poirot changed the subject'], [27, 95, '“you are regarding it from the sentimental standpoint, hastings'], [27, 102, 'and in the midst of a fit of laughter on my part at poirot’s  peculiarities, the door was opened by françoise'], [27, 103, 'poirot explained that he must see mrs. renauld at once, and the old  woman conducted him upstairs'], [27, 105, 'it was some  time before poirot reappeared'], [27, 107, '“_vous voilà___, hastings'], [27, 111, '“i would hardly have credited it,” said poirot thoughtfully, “but women  are very unexpected'], [27, 113, 'poirot bounded out of the room, and met the young couple on the steps  outside'], [27, 124, '“i thank you for your good offices, m. poirot, but i will make my own  wishes clear'], [27, 138, 'poirot made a mediating gesture, but instantly she regained  command of herself'], [27, 148, 'poirot and i went quickly to his assistance'], [27, 149, '“he is overdone,” murmured poirot to marthe'], [27, 156, 'poirot felt his head and hands'], [27, 160, 'get him to bed, and hastings and i will summon a doctor'], [27, 168, '“and now for quarters for the night,” said poirot, when at length _café  noir___ had completed the meal'], [27, 172, 'then poirot asked  a question which surprised me'], [27, 177, '“poirot,” i cried, keeping pace with him as he walked along the  corridor, “who on earth is miss robinson'], [27, 178, 'poirot beamed kindly on me'], [27, 179, '“it is that i have arranged you a marriage, hastings'], [27, 180, '“but, i say—”    “bah!” said poirot, giving me a friendly push over the threshold of the  door'], [27, 185, 'poirot cleared his throat'], [27, 189, 'in response, cinderella took from her bag an object wrapped up in  paper, and handed it silently to poirot'], [27, 193, '“_très bien, mon enfant___,” said poirot'], [27, 196, 'hastings here and i have work to do'], [27, 202, 'poirot realized that it was futile to argue further'], [27, 210, 'poirot led the way out of the town in the direction  of the villa geneviève'], [27, 213, 'come with me, hastings'], [27, 217, 'as we went round to the  side of the house, i drew poirot’s attention to a window on the first  floor'], [27, 219, '“ah!” said poirot'], [27, 227, '“is the doctor coming again?” asked poirot in a whisper'], [27, 236, '“i hope we have not deranged you, madame,” said poirot politely as she  opened the door for us to pass out'], [27, 238, '“by the way,” said poirot, as though struck by an afterthought, “m.  stonor has not been in merlinville today, has he'], [27, 239, 'i could not at all fathom the point of this question which i well knew  to be meaningless as far as poirot was concerned'], [27, 243, '“true,” said poirot'], [27, 247, '“no ‘_whys___,’ hastings'], [27, 250, 'poirot looked over his shoulder once at the lighted  window and the profile of marthe as she bent over her work'], [27, 252, 'arrived at the villa geneviève, poirot took up his stand behind some  bushes to the left of the drive, where, whilst enjoying a good view  ourselves, we were completely hidden from sight'], [27, 255, 'it seemed to me that it was upon  this spot that poirot’s eyes were fixed'], [27, 263, '“_mille tonnerres!___” cried poirot'], [27, 272, 'poirot had rushed through the empty room and was pounding on the door  leading into the corridor'], [27, 276, 'i saw despair in  poirot’s eyes'], [27, 285, 'she’s a professional acrobat, hastings'], [27, 292, 'poirot brushed her aside unceremoniously and rushed down the  passage to where the other maids were grouped round the further door'], [27, 297, '“she is safe?” demanded poirot'], [27, 303, 'the girl picked up  something from the floor and handed it to poirot'], [27, 305, '“a getaway,” said poirot'], [27, 316, '“the murderer of m. renauld, hastings'], [28, 1, 'poirot  seemed deaf to my repeated questions'], [28, 6, 'poirot deigned to attend to me for a brief moment'], [28, 10, '“then why was i not told,” vociferated poirot, striking the table, and  working himself into a first-class passion'], [28, 17, 'i was aroused from my condition of mental fog by a sharp command from  poirot to fetch the doctor immediately on mrs. renauld’s behalf'], [28, 28, 'i awoke to find the sun pouring in through the open windows and poirot,  neat and smiling, sitting beside the bed'], [28, 30, 'but it is that you are a famous sleeper, hastings'], [28, 38, '“oh, no, hastings, she did not'], [28, 45, 'poirot leaned back in his chair, and brought the tips of his fingers  together in familiar style'], [28, 85, 'poirot paused and cleared his throat'], [28, 87, 'the solution did not commend itself to me, because,  as i pointed out to you, hastings, an expert, such as i am, likes to  meet a foeman worthy of his steel'], [28, 99, 'i said no word to you, hastings  (it was no time for romance) but i sought out mademoiselle dulcie, told  her as much as i deemed needful, and set her to search amongst the  effects of her sister'], [28, 112, 'that is where, as the americans say, she ‘put it over’ on hercule  poirot'], [28, 135, '“however, hastings, things did not go quite as mademoiselle marthe had  planned'], [28, 141, 'but she was checkmated—not by hercule poirot—but by _la petite  acrobate___ with her wrists of steel'], [28, 143, '“when did you first begin to suspect marthe daubreuil, poirot'], [28, 145, 'poirot smiled'], [28, 165, 'and yet, do you know, hastings, i doubt if his heart was  ever seriously engaged'], [28, 176, 'poirot proved a fairly true prophet'], [28, 177, 'when at length the doctor  pronounced jack renauld strong enough to hear the truth, it was poirot  who broke it to him'], [28, 183, 'poirot had acquainted mrs.  renauld with the fact that he knew her secret, and had represented to  her that jack should not be left in ignorance of his father’s past'], [28, 187, 'a  halting question was promptly answered by poirot'], [28, 193, 'there were, of course, various points in the case that remained  puzzling to the police, but poirot explained things in so plausible a  fashion that all query about them was gradually stilled'], [28, 194, 'shortly after we got back to london, i noticed a magnificent model of a  foxhound adorning poirot’s mantelpiece'], [28, 195, 'in answer to my inquiring  glance, poirot nodded'], [28, 200, '“m. poirot, i’ve come to say good-bye'], [28, 214, '“so have all of us, at one time and another,” observed poirot  philosophically'], [28, 220, 'hastings here will tell you that i  believe in heredity—”    “well, then—”    “wait'], [28, 234, 'and what of captain arthur hastings, humble chronicler of these pages']]\n",
            "[[7, 139, '“mademoiselle daubreuil,” said m. hautet, sweeping off his hat, “we  regret infinitely to disturb you, but the exigencies of the law—you  comprehend'], [7, 170, '“marthe, dear—”    but the girl shook her head'], [7, 177, '“i should prefer not to speak before mademoiselle daubreuil'], [7, 233, 'it was marthe  daubreuil'], [7, 241, '“françoise told our amélie,” explained marthe, with a blush'], [7, 280, '“ah, _mon ami___, do not set your heart on marthe daubreuil'], [11, 101, 'the subject of the quarrel was mademoiselle marthe  daubreuil'], [11, 107, '“i love mademoiselle daubreuil, and i wish to marry  her'], [11, 115, 'marthe is as good as she is  beautiful'], [11, 117, '“i have nothing against mademoiselle daubreuil in any way'], [11, 129, 'i answered that i was marrying marthe, and not her  antecedents, but he shouted me down with a peremptory refusal to  discuss the matter in any way'], [11, 140, 'i wrote to marthe, telling her what had happened,  and her reply soothed me still further'], [13, 17, '“yesterday it was mademoiselle daubreuil, today it is  mademoiselle—cinderella'], [13, 21, 'mademoiselle daubreuil is a very  beautiful girl, and i do admire her immensely—i don’t mind admitting  it'], [13, 91, 'and  thirdly, if you wish, endeavour to cut him out with mademoiselle  marthe'], [13, 97, 'throw together a boy young renauld  and a beautiful girl like mademoiselle marthe, and the result is almost  inevitable'], [13, 104, '“at any rate—_i saw that she had anxious eyes.___ that is how always  think of mademoiselle daubreuil _as the girl with the anxious  eyes'], [13, 190, 'a girl’s voice was speaking, a voice  that i recognized as that of the beautiful marthe'], [13, 193, '“you know it, marthe,” jack renauld replied'], [15, 19, 'i do not know what put the idea into my head—possibly it was the deep  anxiety underlying marthe daubreuil’s tones—but i asked suddenly:    “young m. renauld—he did not leave by that train, did he'], [15, 28, 'that, then, was the reason of marthe’s poignant  anxiety'], [15, 34, 'one thing was certain, marthe had known all along'], [18, 19, '“with good fortune,” he remarked to me over his shoulder, “mademoiselle  marthe may find herself in the garden'], [18, 24, '_un moment, s’il vous  plaît.___”    i joined him at the moment that marthe daubreuil, looking slightly  startled, came running up to the hedge at his call'], [18, 97, '“_maman___,” whispered marthe, “i must go'], [18, 104, 'unwittingly, mademoiselle marthe told us the truth on  another point—and incidentally gave jack renauld the lie'], [18, 105, 'did you  notice his hesitation when i asked him if he saw marthe daubreuil on  the night of the crime'], [18, 108, 'it was necessary for me to see mademoiselle marthe before  he could put her on her guard'], [18, 111, 'now, hastings, what  was jack renauld doing here on that eventful evening, and if he did not  see mademoiselle marthe whom did he see'], [20, 84, '“_23rd may.___ m. renauld quarrels with his son over latter’s wish to  marry marthe daubreuil'], [20, 87, '“_7th june.___ quarrel with tramp in garden, witnessed by marthe  daubreuil'], [20, 125, '“may 23rd,” i read, “m. renauld quarrels with his son over latter’s  wish to marry marthe daubreuil'], [22, 37, 'had jack renauld, returning to see marthe daubreuil, come  face to face instead with bella duveen, the girl he had heartlessly  thrown over'], [22, 42, 'did he fear for this former entanglement of his to come to the  ears of marthe daubreuil'], [24, 174, '“marthe daubreuil'], [24, 180, 'marthe was at the  door to meet us, and led poirot in, clinging with both hands to one of  his'], [24, 193, 'marthe frowned'], [24, 212, 'marthe looked at him for a minute, then, letting her head fall forward  on her arms, she burst into tears'], [24, 220, 'marthe listened spellbound'], [27, 1, 'young renauld had come to us as soon as he was liberated—before  starting for merlinville to rejoin marthe and his mother'], [27, 27, 'after i met marthe, and  realized i’d made a mistake, i ought to have written and told her so  honestly'], [27, 28, 'but i was so terrified of a row, and of its coming to  marthe’s ears, and her thinking there was more in it than there ever  had been, that—well, i was a coward, and went on hoping the thing would  die down of itself'], [27, 43, 'i came from cherbourg, as i told you, in  order to see marthe before going to the other end of the world'], [27, 77, '“how would it be if you went on first—to break the news to my mother  that i am free—”    “while you break it in person to mademoiselle marthe, eh?” finished  poirot, with a twinkle'], [27, 112, '“here are jack and marthe daubreuil,” i exclaimed, looking out of the  window'], [27, 121, '“but marthe and i—”    “in any case, do not take mademoiselle with you'], [27, 149, '“he is overdone,” murmured poirot to marthe'], [27, 165, 'finally, having done all we could, we left him in the charge of marthe  and her mother, and set out for the town'], [27, 218, 'thrown sharply on the blind was the profile of marthe daubreuil'], [27, 224, 'marthe daubreuil was embroidering by  a table with a lamp on it'], [27, 250, 'poirot looked over his shoulder once at the lighted  window and the profile of marthe as she bent over her work'], [27, 318, 'puzzled and uncomprehending, i knelt down, and lifting the fold of  cloth, looked into the dead beautiful face of marthe daubreuil'], [28, 34, '“do you know, i actually dreamt  that we found marthe daubreuil’s body in mrs. renauld’s room, and that  you declared her to have murdered mr. renauld'], [28, 55, 'from marthe daubreuil’s own lips we  have the admission that she overheard m. renauld’s quarrel with the  tramp'], [28, 57, 'remember how easily you overheard marthe’s conversation with jack  renauld from that spot'], [28, 58, '“but what possible motive could marthe have for murdering mr. renauld'], [28, 63, 'let us reconstruct the scene from the standpoint  of marthe daubreuil'], [28, 64, '“marthe daubreuil overhears what passes between renauld and his wife'], [28, 69, 'if the latter defies his father, he will be a  pauper—which is not at all to the mind of mademoiselle marthe'], [28, 78, 'and here comes in the  second point which led me infallibly to marthe daubreuil—the dagger'], [28, 80, 'one he gave to his mother,  one to bella duveen; was it not highly probable that he had given the  third one to marthe daubreuil'], [28, 81, '“so then, to sum up, there were four points of note against marthe  daubreuil:    “(1) marthe daubreuil could have overheard m. renauld’s plans'], [28, 82, '“(2) marthe daubreuil had a direct interest in causing m. renauld’s  death'], [28, 83, '“(3) marthe daubreuil was the daughter of the notorious madame beroldy  who in my opinion was morally and virtually the murderess of her  husband, although it may have been georges conneau’s hand which struck  the actual blow'], [28, 84, '“(4) marthe daubreuil was the only person, besides jack renauld, likely  to have the third dagger in her possession'], [28, 94, 'if it was _not___ bella duveen, the only other person who  could have committed the crime was marthe daubreuil'], [28, 98, 'but if, by any chance, it was _not___ her  sister’s, but the one given by jack to marthe daubreuil—why then, bella  duveen’s dagger would be still intact'], [28, 101, '“in the meantime i had taken steps to force mademoiselle marthe into  the open'], [28, 106, 'marthe daubreuil made a last  bold bid for the renauld millions—and failed'], [28, 121, 'she had brains, that beautiful  mademoiselle marthe'], [28, 125, 'but it would have  been suicide, _mon ami!___ on the floor by marthe daubreuil’s body, i  found a pad and a little bottle of chloroform and a hypodermic syringe  containing a fatal dose of morphine'], [28, 135, '“however, hastings, things did not go quite as mademoiselle marthe had  planned'], [28, 139, 'there  is a last chance for marthe daubreuil'], [28, 143, '“when did you first begin to suspect marthe daubreuil, poirot'], [28, 149, 'that is how i have thought of  marthe daubreuil from the beginning'], [28, 166, 'so far we have looked upon bella duveen as a  siren, and marthe daubreuil as the girl he really loved'], [28, 168, 'marthe daubreuil was very beautiful']]\n",
            "[[18, 111, 'now, hastings, what  was jack renauld doing here on that eventful evening, and if he did not  see mademoiselle marthe whom did he see'], [24, 180, 'marthe was at the  door to meet us, and led poirot in, clinging with both hands to one of  his'], [27, 77, '“how would it be if you went on first—to break the news to my mother  that i am free—”    “while you break it in person to mademoiselle marthe, eh?” finished  poirot, with a twinkle'], [27, 149, '“he is overdone,” murmured poirot to marthe'], [27, 250, 'poirot looked over his shoulder once at the lighted  window and the profile of marthe as she bent over her work'], [28, 135, '“however, hastings, things did not go quite as mademoiselle marthe had  planned'], [28, 143, '“when did you first begin to suspect marthe daubreuil, poirot']]\n",
            "[[2, 305, '“m. renauld was murdered this morning'], [3, 3, 'murdered'], [3, 51, '“the body was discovered this morning about nine o’clock'], [4, 54, '“i shall cable without delay to  the police in that city, requesting full details of the murdered man’s  life out there, his love affairs, his business transactions, his  friendships, and any enmities he may have incurred'], [4, 173, 'the murdered man lay on the  ground, with a sheet over him'], [6, 115, '“and does this, too, belong to the murdered man?” he asked, and i  thought i detected a subtle flavour of irony in the question'], [7, 26, 'yet he is found murdered close at hand,  almost within ear-shot of the house'], [8, 170, 'we repaired first to the spot where the body had been discovered'], [10, 54, '“so, as far as you know, he had no enemies, and you can give us no clue  as to any secret to obtain possession of which he might have been  murdered'], [13, 259, 'but who had been  murdered'], [17, 17, '“why, that it was madame daubreuil—beroldy, who murdered mr. renauld'], [17, 31, '“so it is definitely your opinion, hastings, that madame daubreuil  murdered m. renauld'], [18, 14, 'arrived at the villa, poirot led the way up to the shed where the  second body had been discovered'], [18, 82, 'on the  morning of the day m. renauld was murdered, i was walking in the garden  here, when i heard a sound of men’s voices quarrelling'], [18, 114, 'i have seen mothers who murdered their little children  for the sake of the insurance money'], [28, 34, '“do you know, i actually dreamt  that we found marthe daubreuil’s body in mrs. renauld’s room, and that  you declared her to have murdered mr. renauld']]\n",
            "[[3, 116, 'finally there are madame renauld and her son, m.  jack renauld'], [3, 274, '“you see, m. jack, the son of monsieur, was usually  here, and he spoke the french very badly'], [5, 184, '“jack'], [8, 21, 'the  day that he quarrelled with m. jack—_ma foi!___ they might have been  heard in the market place, they shouted so loud'], [8, 25, 'it was just before m. jack went to paris'], [9, 117, 'm. jack  renauld, the son, for instance'], [11, 5, '“jack'], [11, 42, 'jack renauld shook his head'], [11, 53, 'in response, jack renauld declared definitely  that he knew nothing of any enmity his father might have incurred in  the city of santiago, or elsewhere in the south american continent,  that he had noticed no change in his father’s manner of late, and that  he had never heard him refer to a secret'], [11, 64, 'jack shrugged his shoulders'], [11, 70, 'jack renauld was clearly disconcerted  by the question'], [11, 105, 'jack renauld bowed his head'], [11, 151, '“duveen?” said jack'], [11, 159, 'jack renauld took the letter, and read it through, the colour mounting  in his face as he did so'], [11, 182, 'very sad—very distressing—”    jack renauld leaned forward'], [11, 206, 'stonor crossed to jack, and wrung him by  the hand'], [11, 311, 'i had not seen it hanging there  before, and guessed that it belonged to either mr. stonor, or jack  renauld'], [13, 193, '“you know it, marthe,” jack renauld replied'], [13, 198, '“oh, jack, jack—i am afraid'], [13, 204, 'but the girl’s face was troubled, and jack renauld seemed to recognize  it, as he held her closer to him and asked:    “but what are you afraid of, darling'], [13, 244, 'giraud evidently  did not desire my company and, from what i had seen, it seemed fairly  certain that jack renauld did not either'], [14, 114, 'jack renauld succeeded her'], [15, 24, '…    “you mean,” i said, my heart beating a little, “that m. jack renauld  arrived at merlinville that evening'], [15, 29, 'jack renauld had been in merlinville on the night of the  crime'], [15, 116, 'this  particular weapon was a war souvenir which was made to jack renauld’s  orders'], [17, 115, '“m. jack renauld'], [17, 117, 'that changed the course of my ideas, and i asked poirot if he knew that  jack renauld had been in merlinville on the night of the crime'], [17, 125, 'it had just  occurred to me that though there were seven women directly or  indirectly connected with the case mrs. renauld, madame daubreuil and  her daughter, the mysterious visitor, and the three servants—there was,  with the exception of old auguste who could hardly count, only one  man—jack renauld'], [17, 127, '…___    i had no time to develop further the appalling idea that had occurred  to me, for jack renauld was ushered into the room'], [17, 149, 'jack renauld’s face went crimson'], [17, 156, 'for a moment jack renauld hesitated, then he made up his mind'], [17, 179, 'jack  renauld took up his hat and cane and departed'], [18, 39, '“m. jack renauld'], [18, 42, '“jack'], [18, 62, 'he must arrest some one, and that some one will  be jack'], [18, 104, 'unwittingly, mademoiselle marthe told us the truth on  another point—and incidentally gave jack renauld the lie'], [18, 110, 'when i asked her if she knew that jack renauld  was here that night, she answered ‘he _told___ me'], [18, 111, 'now, hastings, what  was jack renauld doing here on that eventful evening, and if he did not  see mademoiselle marthe whom did he see'], [18, 118, 'remember that jack renauld thought that he would come  in to half his father’s fortune at the latter’s death'], [18, 138, '“i wish to make a search amongst the effects of m. jack renauld'], [18, 154, 'giraud is in it, and jack  renauld, and two gendarmes'], [18, 165, 'giraud nodded his head towards jack'], [18, 169, '“what do you say to that, _jeune homme?___”    jack renauld stared at him stonily'], [19, 1, 'up to the last, i had not been able bring myself to  believe jack renauld guilty'], [19, 15, 'he flung  open the door of the _salon___, and we passed in, leaving jack renauld  in the care of the two other men'], [19, 29, 'i heard of jack renauld’s  quarrel with his father, and of the threats that he had used'], [19, 32, 'jack renauld was in  merlinville that night'], [19, 37, 'jack renauld, arriving from cherbourg, was the only  person who could have taken it'], [19, 44, 'm. jack renauld arrived by train'], [19, 68, '“jack renauld was presumably acquainted with the planning out of the  golf course'], [19, 77, 'since it was to  jack renauld’s advantage that the body should be found without delay,  _why dig a grave at all?___”    giraud did not reply'], [19, 85, 'jack renauld still stood in the hall, with a white dumb face, but as we  came out of the _salon___, he looked up sharply'], [19, 89, '“jack,” she faltered'], [19, 90, '“jack, what is this'], [19, 104, '“do you believe then, in spite of all appearances to the contrary, that  jack renauld may not be guilty'], [19, 108, 'if jack renauld is  guilty, it is in spite of giraud’s arguments, not _because___ of them'], [20, 30, 'now supposing jack renauld to  appear'], [20, 33, 'jack renauld consents—goes to the house and has an interview with his  mother, winning her over to his point of view'], [20, 89, '“telegram sent to jack renauld, bidding him proceed by the _anzora___  to buenos ayres'], [20, 116, '“ah, _quelle idée!___ later you observed me measuring the overcoat of  m. jack renauld'], [20, 117, '_eh bien___, m. jack renauld wears his overcoat very  short'], [20, 118, 'put those two facts together with a third, namely that m. jack  renauld flung out of the house in a hurry on his departure for paris,  and tell me what you make of it'], [20, 120, '“that letter was written to jack renauld—not to his father'], [20, 134, '“so jack renauld says, but he cannot produce them'], [20, 159, 'remember the  fragment of cheque, and the fact that the name bella duveen was faintly  familiar to stonor, and i think we may take it for granted that bella  duveen is the full name of jack’s unknown correspondent, and that it  was she who came to the villa geneviève that night'], [20, 160, 'whether she  intended to see jack, or whether she meant all along to appeal to his  father we cannot be certain, but i think we may assume that this is  what occurred'], [20, 161, 'she produced her claim upon jack, probably showed  letters that he had written her, and the older man tried to buy her off  by writing a cheque'], [20, 217, 'since we are satisfied that  was georges conneau who dictated the lie to her, and as georges conneau  is not jack renauld, follows that the third case is put out of court'], [21, 20, 'jack renauld falls in love with the  beautiful girl he sees almost daily, and wishes to marry her'], [21, 23, 'jack renauld knows nothing of his father’s  past, but madame renauld knows everything'], [21, 40, 'jack  renauld and the chauffeur (who had been with his master two years) must  be got out of the way'], [21, 42, 'masters  was sent off, a telegram despatched to jack, buenos ayres being  selected to give credence to the story that renauld had decided upon'], [21, 90, 'it might  just as easily have been a grey hair—and then, by no conceivable effort  could giraud have persuaded himself it came from the head of jack  renauld'], [21, 134, 'some one who was near the villa just before twelve o’clock that night,  some one who would benefit by his death—the description fits jack  renauld only too well'], [21, 141, '“certainly, and, since they were duplicates, it stands to reason that  jack renauld was the owner'], [21, 145, 'like  father, like son—jack renauld, when all is said or done, is the son of  georges conneau'], [21, 162, 'jack  renauld was a young man with plenty of money, and twenty years of age'], [21, 166, 'and he brought out the photograph i had seen him take from jack  renauld’s drawer'], [22, 17, 'did he suspect  her of having seen jack renauld commit the crime'], [22, 32, 'what kept her there—the hope of seeing jack renauld'], [22, 35, 'but to know that she must have seen jack'], [22, 37, 'had jack renauld, returning to see marthe daubreuil, come  face to face instead with bella duveen, the girl he had heartlessly  thrown over'], [22, 39, 'if that were indeed the case, it might furnish  jack with the alibi he needed'], [22, 156, '“i don’t know whether you knew that jack renauld would be coming that  night, or whether you just waited about on the chance of seeing him,  but you did wait about'], [22, 165, 'you used a threat in one of  your letters to jack renauld'], [22, 191, '“you think that i love jack renauld'], [23, 87, 'me, i preoccupy myself with jack renauld'], [23, 88, 'jack renauld'], [23, 91, 'jack renauld, in prison, with the shadow of  the guillotine looming over him'], [23, 104, 'bella or jack renauld'], [23, 108, 'i remembered that no word of jack  renauld’s arrest had passed my lips'], [23, 113, 'jack renauld might, and probably would, be  acquitted without any intervention on her part'], [23, 123, 'and, at the same time, jack renauld must  be saved'], [23, 130, 'and with  bella unsuspected, and jack renauld acquitted, all would end  satisfactorily'], [24, 0, '  we crossed from england by the evening boat, and the following morning  saw us in saint-omer, whither jack renauld had been taken'], [24, 83, 'jack renauld is  innocent'], [24, 109, '“then you do not believe that jack renauld committed the crime'], [24, 113, 'i admit that there have been one or  two things in this business that have staggered me completely, but none  the less, in spite of his fool way of taking it, i’ll never believe  that jack renauld is a murderer'], [24, 132, 'it’s her  show, and i’ve too much respect for her judgment to shove my oar in,  but i can’t get behind this attitude of jack’s'], [24, 136, 'i  continued, choosing my words carefully, “we know that the dagger could  not have been in jack renauld’s possession that evening'], [24, 150, 'as to the dagger, your point hardly helps  jack renauld'], [24, 153, '“well, i was employed in trying to find the firm jack renauld employed  to convert his souvenirs'], [24, 172, 'i have no one to turn  to, and at all costs jack must be saved'], [25, 0, '  we were present the following morning at the examination of jack  renauld'], [25, 9, 'jack did not reply at once, then he said with a hesitancy of manner  which was piteous:    “i—i—told you that i was in cherbourg'], [25, 11, 'i realized at once that jack renauld  was obstinately bent on conducting his own case as he wished, to the  despair of his legal representative'], [25, 24, 'i knew m. jack renauld well'], [25, 29, 'the magistrate looked at jack renauld'], [25, 32, 'jack shrugged his shoulders'], [25, 40, 'but jack renauld had no consideration for the feelings of the wretched  grosíer'], [25, 44, 'again maître grosíer burst out, and again jack overrode him'], [25, 48, 'it did,  in very truth, seem as though jack was rushing on his fate'], [25, 53, 'it would not be easy to secure the  acquittal of jack renauld, by anything short of the truth'], [25, 65, 'jack renauld had almost overdone his part'], [25, 68, 'jack’s pale face flushed'], [25, 96, 'on the other hand, now that i saw her  without the fair wig she had worn on the stage, i recognized her as the  girl of the photograph in jack renauld’s room'], [26, 10, 'she was just desperate about jack      renauld, she’d have lain down on the ground for him to walk on, and      when he began to change, and to stop writing so often, she began      getting in a state'], [26, 12, 'she’d made up her mind to go to their villa at      merlinville, and try and see jack'], [26, 32, 'i figured it out that bella had met papa renauld and told      him about her and jack, and that he’d insulted her or something      like that'], [26, 38, 'you know all      that … when i saw the dead man, looking so like jack, and wearing      jack’s fancy overcoat, i knew'], [26, 39, 'and there was the identical      paper-knife—wicked little thing!—that jack had given bella'], [26, 69, '… if i had—      “as soon as the news was in the paper that jack renauld had been      arrested, it was all up'], [27, 0, '  “congratulations, m. jack,” said poirot, wringing the lad warmly by the  hand'], [27, 11, '“he was a well meaning ass, i suppose,” said jack'], [27, 26, '“of course it’s horrible to me to think that bella killed my father,”  resumed jack, “but i’d treated her shamefully'], [27, 37, '“no, no, m. jack'], [27, 73, 'stonor, at jack’s instance,  agreed to stay behind and do all that could be done for bella duveen'], [27, 74, 'poirot, jack renauld and i set off in the renauld car'], [27, 76, 'as we approached the doorway of  the villa marguerite, jack renauld shot a questioning glance at poirot'], [27, 79, 'jack renauld did not wait for more'], [27, 97, 'we will hope that mademoiselle bella will be dealt  with leniently, and after all jack renauld cannot marry both the girls'], [27, 112, '“here are jack and marthe daubreuil,” i exclaimed, looking out of the  window'], [27, 117, '“i know, i know,” said jack renauld'], [27, 131, '“mother,” cried jack, starting forward'], [27, 147, 'jack renauld, worn out with all he had already gone through, swayed and  nearly fell'], [27, 154, 'my poor jack'], [27, 212, '“i should like to assure myself that all goes well with jack renauld'], [27, 220, '“i figure to myself that that is the room where we  shall find jack renauld'], [27, 222, 'she explained that jack was  much the same, but perhaps we would like to see for ourselves'], [27, 226, 'jack renauld was sleeping an uneasy fitful sleep, his head turning from  side to side, and his face still unduly flushed'], [28, 41, '“remember jack renauld’s story'], [28, 57, 'remember how easily you overheard marthe’s conversation with jack  renauld from that spot'], [28, 62, 'm. renauld was a millionaire several times over,  and at his death (or so she and jack believed) half that vast fortune  would pass to his son'], [28, 68, 'at present m. renauld stands inexorably in the way of her  marriage with jack'], [28, 70, 'in fact,  i doubt if she has ever cared a straw for jack renauld'], [28, 74, 'but with m. renauld dead, and jack  the heir to half his millions, the marriage can take place at once, and  at a stroke she will attain wealth—not the beggarly thousands that have  been extracted from him so far'], [28, 79, 'jack renauld had _three___ souvenirs made'], [28, 84, '“(4) marthe daubreuil was the only person, besides jack renauld, likely  to have the third dagger in her possession'], [28, 89, 'it did not seem very  likely that bella duveen would be wandering about carrying a souvenir  paper-knife in her hand, but of course she might have had some idea all  the time of revenging herself on jack renauld'], [28, 98, 'but if, by any chance, it was _not___ her  sister’s, but the one given by jack to marthe daubreuil—why then, bella  duveen’s dagger would be still intact'], [28, 151, 'not on jack renauld’s behalf, for she did  not know then that he had been in merlinville the previous evening'], [28, 152, '“by the way,” i exclaimed, “how is jack renauld'], [28, 161, '“has jack renauld been—told'], [28, 169, 'she set herself to fascinate jack,  and she succeeded, but remember his curious reluctance to break with  the other girl'], [28, 177, 'when at length the doctor  pronounced jack renauld strong enough to hear the truth, it was poirot  who broke it to him'], [28, 179, 'yet jack rallied  better than i could have supposed possible'], [28, 183, 'poirot had acquainted mrs.  renauld with the fact that he knew her secret, and had represented to  her that jack should not be left in ignorance of his father’s past'], [28, 188, '“reassure yourself, m. jack'], [28, 199, 'a few days later jack renauld came to see us with a resolute expression  on his face'], [28, 203, '“you go alone, m. jack'], [28, 207, 'jack flushed'], [28, 215, 'but jack’s face had hardened'], [28, 229, 'jack looked irresolute']]\n",
            "[[115, 'then there is the  chauffeur whom m. renauld brought over from england with him, but he is  away on a holiday'], [116, 'finally there are madame renauld and her son, m.  jack renauld'], [117, 'he, too, is away from home at present']]\n"
          ]
        }
      ]
    },
    {
      "cell_type": "code",
      "metadata": {
        "id": "kWcsmUjIiwtd",
        "outputId": "7e2adb59-cc68-40a1-ab39-dd786e438634",
        "colab": {
          "base_uri": "https://localhost:8080/"
        }
      },
      "source": [
        "for key,value in corpus[1][\"contents\"][2].items():\n",
        "  print(key,value)\n"
      ],
      "execution_count": 25,
      "outputs": [
        {
          "output_type": "stream",
          "name": "stdout",
          "text": [
            "0   it was five minutes past nine when i entered our joint sitting-room for  breakfast on the following morning\n",
            "1 my friend poirot, exact to the minute as usual, was just tapping the  shell of his second egg\n",
            "2 he beamed upon me as i entered\n",
            "3 “you have slept well, yes\n",
            "4 you have recovered from the crossing so  terrible\n",
            "5 it is a marvel, almost you are exact this morning\n",
            "6 _pardon___, but your tie is not symmetrical\n",
            "7 permit that i rearrange  him\n",
            "8 elsewhere, i have described hercule poirot\n",
            "9 an extraordinary little  man\n",
            "10 height, five feet four inches, egg-shaped head carried a little to  one side, eyes that shone green when he was excited, stiff military  moustache, air of dignity immense\n",
            "11 he was neat and dandified in  appearance\n",
            "12 for neatness of any kind, he had an absolute passion\n",
            "13 to  see an ornament set crooked, or a speck of dust, or a slight disarray  in one’s attire, was torture to the little man until he could ease his  feelings by remedying the matter\n",
            "14 “order” and “method” were his gods\n",
            "15 he had a certain disdain for tangible evidence, such as footprints and  cigarette ash, and would maintain that, taken by themselves, they would  never enable a detective to solve a problem\n",
            "16 then he would tap his  egg-shaped head with absurd complacency, and remark with great  satisfaction: “the true work, it is done from _within___\n",
            "17 _the little  grey cells___—remember always the little grey cells, _mon ami!___”    i slipped into my seat, and remarked idly, in answer to poirot’s  greeting, that an hour’s sea passage from calais to dover could hardly  be dignified by the epithet “terrible\n",
            "18 poirot waved his egg-spoon in vigorous refutation of my remark\n",
            "19 “_du tout!___ if for an hour one experiences sensations and emotions of  the most terrible, one has lived many hours\n",
            "20 does not one of your  english poets say that time is counted, not by hours, but by  heart-beats\n",
            "21 “i fancy browning was referring to something more romantic than sea  sickness, though\n",
            "22 “because he was an englishman, an islander to whom _la manche___ was  nothing\n",
            "23 oh, you english\n",
            "24 with _nous autres___ it is different\n",
            "25 figure  to yourself that a lady of my acquaintance at the beginning of the war  fled to ostend\n",
            "26 there she had a terrible crisis of the nerves\n",
            "27 impossible to escape further except by crossing the sea\n",
            "28 and she had a  horror—_mais une horreur!___—of the sea\n",
            "29 what was she to do\n",
            "30 daily _les  boches___ were drawing nearer\n",
            "31 imagine to yourself the terrible  situation\n",
            "32 “what did she do\n",
            "33 i inquired curiously\n",
            "34 “fortunately her husband was _homme pratique___\n",
            "35 he was also very calm,  the crises of the nerves, they affected him not\n",
            "36 _il l’a emportée  simplement!___ naturally when she reached england she was prostrate,  but she still breathed\n",
            "37 poirot shook his head seriously\n",
            "38 i composed my face as best i could\n",
            "39 suddenly he stiffened and pointed a dramatic finger at the toast rack\n",
            "40 “ah, par exemple, c’est trop fort!” he cried\n",
            "41 “what is it\n",
            "42 “this piece of toast\n",
            "43 you remark him not\n",
            "44 he whipped the offender out  of the rack, and held it up for me to examine\n",
            "45 “is it square\n",
            "46 no\n",
            "47 is it a triangle\n",
            "48 again no\n",
            "49 is it even round\n",
            "50 no\n",
            "51 is  it of any shape remotely pleasing to the eye\n",
            "52 what symmetry have we  here\n",
            "53 none\n",
            "54 “it’s cut from a cottage loaf,” i explained soothingly\n",
            "55 poirot threw me a withering glance\n",
            "56 “what an intelligence has my friend hastings!” he exclaimed  sarcastically\n",
            "57 “comprehend you not that i have forbidden such a loaf—a  loaf haphazard and shapeless, that no baker should permit himself to  bake\n",
            "58 i endeavoured to distract his mind\n",
            "59 “anything interesting come by the post\n",
            "60 poirot shook his head with a dissatisfied air\n",
            "61 “i have not yet examined my letters, but nothing of interest arrives  nowadays\n",
            "62 the great criminals, the criminals of method, they do not  exist\n",
            "63 the cases i have been employed upon lately were _banal___ to the  last degree\n",
            "64 in verity i am reduced to recovering lost lap-dogs for  fashionable ladies\n",
            "65 the last problem that presented any interest was  that intricate little affair of the yardly diamond, and that was—how  many months ago, my friend\n",
            "66 he shook his head despondently, and i roared with laughter\n",
            "67 “cheer up, poirot, the luck will change\n",
            "68 open your letters\n",
            "69 for all you  know, there may be a great case looming on the horizon\n",
            "70 poirot smiled, and taking up the neat little letter opener with which  he opened his correspondence he slit the tops of the several envelopes  that lay by his plate\n",
            "71 “a bill\n",
            "72 another bill\n",
            "73 it is that i grow extravagant in my old age\n",
            "74 aha\n",
            "75 a note from japp\n",
            "76 “yes?” pricked up my ears\n",
            "77 the scotland yard inspector had more than  once introduced us to an interesting case\n",
            "78 “he merely thanks me (in his fashion) for a little point in the  aberystwyth case on which i was able to set him right\n",
            "79 i am delighted  to have been of service to him\n",
            "80 “how does he thank you\n",
            "81 i asked curiously, for i knew my japp\n",
            "82 “he is kind enough to say that i am a wonderful sport for my age, and  that he was glad to have had the chance of letting me in on the case\n",
            "83 this was so typical of japp, that i could not forbear a chuckle\n",
            "84 poirot  continued to read his correspondence placidly\n",
            "85 “a suggestion that i should give a lecture to our local boy scouts\n",
            "86 the  countess of forfanock will be obliged if i will call and see her\n",
            "87 another lap-dog without doubt\n",
            "88 and now for the last\n",
            "89 ah—”    i looked up, quick to notice the change of tone\n",
            "90 poirot was reading  attentively\n",
            "91 in a minute he tossed the sheet over to me\n",
            "92 “this is out of the ordinary, _mon ami___\n",
            "93 read for yourself\n",
            "94 the letter was written on a foreign type of paper, in a bold  characteristic hand:    “villa geneviève  merlinville-sur-mer  france      “_dear sir___,  “i am in need of the services of a detective and, for reasons which i  will give you later, do not wish to call in the official police\n",
            "95 i have  heard of you from several quarters, and all reports go to show that you  are not only a man of decided ability, but one who also knows how to be  discreet\n",
            "96 i do not wish to trust details to the post, but, on account  of a secret i possess, i go in daily fear of my life\n",
            "97 i am convinced  that the danger is imminent, and therefore i beg that you will lose no  time in crossing to france\n",
            "98 i will send a car to meet you at calais, if  you will wire me when you are arriving\n",
            "99 i shall be obliged if you will  drop all cases you have on hand, and devote yourself solely to my  interests\n",
            "100 i am prepared to pay any compensation necessary\n",
            "101 i shall  probably need your services for a considerable period of time, as it  may be necessary for you to go out to santiago, where i spent several  years of my life\n",
            "102 i shall be content for you to name your own fee\n",
            "103 “assuring you once more that the matter is _urgent___,      “yours faithfully  “p. t. renauld\n",
            "104 below the signature was a hastily scrawled line, almost illegible: “for  god’s sake, come\n",
            "105 i handed the letter back with quickened pulses\n",
            "106 “at last!” i said\n",
            "107 “here is something distinctly out of the ordinary\n",
            "108 “yes, indeed,” said poirot meditatively\n",
            "109 “you will go of course,” i continued\n",
            "110 poirot nodded\n",
            "111 he was thinking deeply\n",
            "112 finally he seemed to make up his  mind, and glanced up at the clock\n",
            "113 his face was very grave\n",
            "114 “see you, my friend, there is no time to lose\n",
            "115 the continental express  leaves victoria at 11 o’clock\n",
            "116 do not agitate yourself\n",
            "117 there is plenty  of time\n",
            "118 we can allow ten minutes for discussion\n",
            "119 you accompany me,  _n’est-ce pas?___”    “well—”    “you told me yourself that your employer needed you not for the next  few weeks\n",
            "120 “oh, that’s all right\n",
            "121 but this mr. renauld hints strongly that his  business is private\n",
            "122 “ta-ta-ta\n",
            "123 i will manage m. renauld\n",
            "124 by the way, i seem to know the  name\n",
            "125 “there’s a well-known south american millionaire fellow\n",
            "126 his name’s  renauld\n",
            "127 i don’t know whether it could be the same\n",
            "128 “but without doubt\n",
            "129 that explains the mention of santiago\n",
            "130 santiago is  in chile, and chile it is in south america\n",
            "131 ah, but we progress  finely\n",
            "132 “dear me, poirot,” i said, my excitement rising, “i smell some goodly  shekels in this\n",
            "133 if we succeed, we shall make our fortunes\n",
            "134 “do not be too sure of that, my friend\n",
            "135 a rich man and his money are  not so easily parted\n",
            "136 me, i have seen a well-known millionaire turn out  a tramful of people to seek for a dropped halfpenny\n",
            "137 i acknowledged the wisdom of this\n",
            "138 “in any case,” continued poirot, “it is not the money which attracts me  here\n",
            "139 certainly it will be pleasant to have _carte blanche___ in our  investigations; one can be sure that way of wasting no time, but it is  something a little bizarre in this problem which arouses my interest\n",
            "140 you remarked the postscript\n",
            "141 how did it strike you\n",
            "142 i considered\n",
            "143 “clearly he wrote the letter keeping himself well in hand, but at the  end his self-control snapped and, on the impulse of the moment, he  scrawled those four desperate words\n",
            "144 but my friend shook his head energetically\n",
            "145 “you are in error\n",
            "146 see you not that while the ink of the signature is  nearly black, that of the postscript is quite pale\n",
            "147 “well?” i said puzzled\n",
            "148 “_mon dieu, mon ami___, but use your little grey cells\n",
            "149 is it not  obvious\n",
            "150 m. renauld wrote his letter\n",
            "151 without blotting it, he reread it  carefully\n",
            "152 then, not on impulse, but deliberately, he added those last  words, and blotted the sheet\n",
            "153 “but why\n",
            "154 “_parbleu!___ so that it should produce the effect upon me that it has  upon you\n",
            "155 “what\n",
            "156 “_mais, oui___—to make sure of my coming\n",
            "157 he reread the letter and was  dissatisfied\n",
            "158 it was not strong enough\n",
            "159 he paused, and then added softly, his eyes shining with that green  light that always betokened inward excitement: “and so, _mon ami___,  since that postscript was added, not on impulse, but soberly, in cold  blood, the urgency is very great, and we must reach him as soon as  possible\n",
            "160 “merlinville,” i murmured thoughtfully\n",
            "161 “i’ve heard of it, i think\n",
            "162 poirot nodded\n",
            "163 “it is a quiet little place—but chic\n",
            "164 it lies about midway between  bolougne and calais\n",
            "165 it is rapidly becoming the fashion\n",
            "166 rich english  people who wish to be quiet are taking it up\n",
            "167 m. renauld has a house in  england, i suppose\n",
            "168 “yes, in rutland gate, as far as i remember\n",
            "169 also a big place in the  country, somewhere in hertfordshire\n",
            "170 but i really know very little  about him, he doesn’t do much in a social way\n",
            "171 i believe he has large  south american interests in the city, and has spent most of his life  out in chile and the argentino\n",
            "172 “well, we shall hear all details from the man himself\n",
            "173 come, let us  pack\n",
            "174 a small suit-case each, and then a taxi to victoria\n",
            "175 “and the countess\n",
            "176 i inquired with a smile\n",
            "177 “ah\n",
            "178 _je m’en fiche!___ her case was certainly not interesting\n",
            "179 “why so sure of that\n",
            "180 “because in that case she would have come, not written\n",
            "181 a woman cannot  wait—always remember that, hastings\n",
            "182 eleven o’clock saw our departure from victoria on our way to dover\n",
            "183 before starting poirot had despatched a telegram to mr. renauld giving  the time of our arrival at calais\n",
            "184 “i’m surprised you haven’t invested  in a few bottles of some sea sick remedy, poirot,” i observed  maliciously, as i recalled our conversation at breakfast\n",
            "185 my friend, who was anxiously scanning the weather, turned a reproachful  face upon me\n",
            "186 “is it that you have forgotten the method most excellent of laverguier\n",
            "187 his system, i practise it always\n",
            "188 one balances oneself, if you  remember, turning the head from left to right, breathing in and out,  counting six between each breath\n",
            "189 “h’m,” i demurred\n",
            "190 “you’ll be rather tired of balancing yourself and  counting six by the time you get to santiago, or buenos ayres, or  wherever it is you land\n",
            "191 “_quelle idée!___ you do not figure to yourself that i shall go to  santiago\n",
            "192 “mr. renauld suggests it in his letter\n",
            "193 “he did not know the methods of hercule poirot\n",
            "194 i do not run to and  fro, making journeys, and agitating myself\n",
            "195 my work is done from  within—_here___—” he tapped his forehead significantly\n",
            "196 as usual, this remark roused my argumentative faculty\n",
            "197 “it’s all very well, poirot, but i think you are falling into the habit  of despising certain things too much\n",
            "198 a finger-print has led sometimes  to the arrest and conviction of a murderer\n",
            "199 “and has, without doubt, hanged more than one innocent man,” remarked  poirot dryly\n",
            "200 “but surely the study of finger-prints and footprints, cigarette ash,  different kinds of mud, and other clues that comprise the minute  observation of details—all these are of vital importance\n",
            "201 “but certainly\n",
            "202 i have never said otherwise\n",
            "203 the trained observer, the  expert, without doubt he is useful\n",
            "204 but the others, the hercules  poirots, they are above the experts\n",
            "205 to them the experts bring the  facts, their business is the method of the crime, its logical  deduction, the proper sequence and order of the facts; above all, the  true psychology of the case\n",
            "206 you have hunted the fox, yes\n",
            "207 “i have hunted a bit, now and again,” i said, rather bewildered by this  abrupt change of subject\n",
            "208 “why\n",
            "209 “_eh bien___, this hunting of the fox, you need the dogs, no\n",
            "210 “hounds,” i corrected gently\n",
            "211 “yes, of course\n",
            "212 “but yet,” poirot wagged his finger at me\n",
            "213 “you did not descend from  your horse and run along the ground smelling with your nose and  uttering loud ow ows\n",
            "214 in spite of myself i laughed immoderately\n",
            "215 poirot nodded in a satisfied  manner\n",
            "216 “so\n",
            "217 you leave the work of the d— hounds to the hounds\n",
            "218 yet you demand  that i, hercule poirot, should make myself ridiculous by lying down  (possibly on damp grass) to study hypothetical footprints, and should  scoop up cigarette ash when i do not know one kind from the other\n",
            "219 remember the plymouth express mystery\n",
            "220 the good japp departed to make a  survey of the railway line\n",
            "221 when he returned, i, without having moved  from my apartments, was able to tell him exactly what he had found\n",
            "222 “so you are of the opinion that japp wasted his time\n",
            "223 “not at all, since his evidence confirmed my theory\n",
            "224 but _i___ should  have wasted my time if _i___ had gone\n",
            "225 it is the same with so called  ‘experts\n",
            "226 remember the handwriting testimony in the cavendish case\n",
            "227 one counsel’s questioning brings out testimony as to the resemblances,  the defence brings evidence to show dissimilarity\n",
            "228 all the language is  very technical\n",
            "229 and the result\n",
            "230 what we all knew in the first place\n",
            "231 the writing was very like that of john cavendish\n",
            "232 and the psychological  mind is faced with the question ‘why\n",
            "233 because it was actually his\n",
            "234 or  because some one wished us to think it was his\n",
            "235 i answered that  question, _mon ami___, and answered it correctly\n",
            "236 and poirot, having effectually silenced, if not convinced me, leaned  back with a satisfied air\n",
            "237 on the boat, i knew better than to disturb my friend’s solitude\n",
            "238 the  weather was gorgeous, and the sea as smooth as the proverbial  mill-pond, so i was hardly surprised to hear that laverguier’s method  had once more justified itself when a smiling poirot joined me on  disembarking at calais\n",
            "239 a disappointment was in store for us, as no car  had been sent to meet us, but poirot put this down to his telegram  having been delayed in transit\n",
            "240 “since it is _carte blanche___, we will hire a car,” he said  cheerfully\n",
            "241 and a few minutes later saw us creaking and jolting along,  in the most ramshackle of automobiles that ever plied for hire, in the  direction of merlinville\n",
            "242 my spirits were at their highest\n",
            "243 “what gorgeous air\n",
            "244 i exclaimed\n",
            "245 “this promises to be a delightful  trip\n",
            "246 “for you, yes\n",
            "247 for me, i have work to do, remember, at our journey’s  end\n",
            "248 “bah!” i said cheerfully\n",
            "249 “you will discover all, ensure this mr.  renauld’s safety, run the would-be assassins to earth, and all will  finish in a blaze of glory\n",
            "250 “you are sanguine, my friend\n",
            "251 “yes, i feel absolutely assured of success\n",
            "252 are you not the one and  only hercule poirot\n",
            "253 but my little friend did not rise to the bait\n",
            "254 he was observing me  gravely\n",
            "255 “you are what the scotch people call ‘fey,’ hastings\n",
            "256 it presages  disaster\n",
            "257 “nonsense\n",
            "258 at any rate, you do not share my feelings\n",
            "259 “no, but i am afraid\n",
            "260 “afraid of what\n",
            "261 “i do not know\n",
            "262 but i have a premonition—a _je ne sais quoi!___”    he spoke so gravely, that i was impressed in spite of myself\n",
            "263 “i have a feeling,” he said slowly, “that this is going to be a big  affair—a long, troublesome problem that will not be easy to work out\n",
            "264 i would have questioned him further, but we were just coming into the  little town of merlinville, and we slowed up to inquire the way to the  villa geneviève\n",
            "265 “straight on, monsieur, through the town\n",
            "266 the villa geneviève is about  half a mile the other side\n",
            "267 you cannot miss it\n",
            "268 a big villa,  overlooking the sea\n",
            "269 we thanked our informant, and drove on, leaving the town behind\n",
            "270 a fork  in the road brought us to a second halt\n",
            "271 a peasant was trudging towards  us, and we waited for him to come up to us in order to ask the way  again\n",
            "272 there was a tiny villa standing right by the road, but it was  too small and dilapidated to be the one we wanted\n",
            "273 as we waited, the  gate of it swung open and a girl came out\n",
            "274 the peasant was passing us now, and the driver leaned forward from his  seat and asked for direction\n",
            "275 “the villa geneviève\n",
            "276 just a few steps up this road to the right,  monsieur\n",
            "277 you could see it if it were not for the curve\n",
            "278 the chauffeur thanked him, and started the car again\n",
            "279 my eyes were  fascinated by the girl who still stood, with one hand on the gate,  watching us\n",
            "280 i am an admirer of beauty, and here was one whom nobody  could have passed without remark\n",
            "281 very tall, with the proportions of a  young goddess, her uncovered golden head gleaming in the sunlight, i  swore to myself that she was one of the most beautiful girls i had ever  seen\n",
            "282 as we swung up the rough road, i turned my head to look after  her\n",
            "283 “by jove, poirot,” i exclaimed, “did you see that young goddess\n",
            "284 poirot raised his eyebrows\n",
            "285 “_ça commence!___” he murmured\n",
            "286 “already you have seen a goddess\n",
            "287 “but, hang it all, wasn’t she\n",
            "288 “possibly\n",
            "289 i did not remark the fact\n",
            "290 “surely you noticed her\n",
            "291 “_mon ami___, two people rarely see the same thing\n",
            "292 you, for instance,  saw a goddess\n",
            "293 i—” he hesitated\n",
            "294 “yes\n",
            "295 “i saw only a girl with anxious eyes,” said poirot gravely\n",
            "296 but at that moment we drew up at a big green gate, and, simultaneously,  we both uttered an exclamation\n",
            "297 before it stood an imposing _sergent de  ville___\n",
            "298 he held up his hand to bar our way\n",
            "299 “you cannot pass, monsieurs\n",
            "300 “but we wish to see mr. renauld,” i cried\n",
            "301 “we have an appointment\n",
            "302 this is his villa, isn’t it\n",
            "303 “yes, monsieur, but—”    poirot leaned forward\n",
            "304 “but what\n",
            "305 “m. renauld was murdered this morning\n"
          ]
        }
      ]
    },
    {
      "cell_type": "markdown",
      "metadata": {
        "id": "zgEkqEZLhyEh"
      },
      "source": [
        "1,4\n",
        "7,139\n",
        "18,111\n",
        "2,307\n",
        "3,116\n",
        "115\n",
        "before it stood an imposing _sergent de  ville___"
      ]
    },
    {
      "cell_type": "code",
      "metadata": {
        "id": "I8KDd-s3RDtG",
        "outputId": "73f4b68e-d2b9-4cf5-d134-e2d3991826bb",
        "colab": {
          "base_uri": "https://localhost:8080/",
          "height": 356
        }
      },
      "source": [
        "det=get_det(2)\n",
        "perp=get_perp(2)\n",
        "crime=get_crime(2)\n",
        "sus=get_sus(2)\n",
        "det_occur=get_occur(2,det)\n",
        "perp_occur=get_occur(2,perp)\n",
        "co=get_co_occur(2,det,perp)\n",
        "crime=get_occur(2,crime)\n",
        "sus_occur=get_occur(2,sus)\n",
        "print(det_occur)\n",
        "print(perp_occur)\n",
        "print(co)\n",
        "print(crime)\n",
        "print(sus_occur)\n",
        "print(get_context(1,3,116))"
      ],
      "execution_count": 7,
      "outputs": [
        {
          "output_type": "error",
          "ename": "UnboundLocalError",
          "evalue": "ignored",
          "traceback": [
            "\u001b[0;31m---------------------------------------------------------------------------\u001b[0m",
            "\u001b[0;31mUnboundLocalError\u001b[0m                         Traceback (most recent call last)",
            "\u001b[0;32m<ipython-input-7-d5f2c4b783a8>\u001b[0m in \u001b[0;36m<module>\u001b[0;34m()\u001b[0m\n\u001b[0;32m----> 1\u001b[0;31m \u001b[0mdet\u001b[0m\u001b[0;34m=\u001b[0m\u001b[0mget_det\u001b[0m\u001b[0;34m(\u001b[0m\u001b[0;36m2\u001b[0m\u001b[0;34m)\u001b[0m\u001b[0;34m\u001b[0m\u001b[0;34m\u001b[0m\u001b[0m\n\u001b[0m\u001b[1;32m      2\u001b[0m \u001b[0mperp\u001b[0m\u001b[0;34m=\u001b[0m\u001b[0mget_perp\u001b[0m\u001b[0;34m(\u001b[0m\u001b[0;36m2\u001b[0m\u001b[0;34m)\u001b[0m\u001b[0;34m\u001b[0m\u001b[0;34m\u001b[0m\u001b[0m\n\u001b[1;32m      3\u001b[0m \u001b[0mcrime\u001b[0m\u001b[0;34m=\u001b[0m\u001b[0mget_crime\u001b[0m\u001b[0;34m(\u001b[0m\u001b[0;36m2\u001b[0m\u001b[0;34m)\u001b[0m\u001b[0;34m\u001b[0m\u001b[0;34m\u001b[0m\u001b[0m\n\u001b[1;32m      4\u001b[0m \u001b[0msus\u001b[0m\u001b[0;34m=\u001b[0m\u001b[0mget_sus\u001b[0m\u001b[0;34m(\u001b[0m\u001b[0;36m2\u001b[0m\u001b[0;34m)\u001b[0m\u001b[0;34m\u001b[0m\u001b[0;34m\u001b[0m\u001b[0m\n\u001b[1;32m      5\u001b[0m \u001b[0mdet_occur\u001b[0m\u001b[0;34m=\u001b[0m\u001b[0mget_occur\u001b[0m\u001b[0;34m(\u001b[0m\u001b[0;36m2\u001b[0m\u001b[0;34m,\u001b[0m\u001b[0mdet\u001b[0m\u001b[0;34m)\u001b[0m\u001b[0;34m\u001b[0m\u001b[0;34m\u001b[0m\u001b[0m\n",
            "\u001b[0;32m<ipython-input-4-faaae3588a87>\u001b[0m in \u001b[0;36mget_det\u001b[0;34m(index)\u001b[0m\n\u001b[1;32m      5\u001b[0m   \u001b[0;32mif\u001b[0m \u001b[0mindex\u001b[0m\u001b[0;34m==\u001b[0m\u001b[0;36m1\u001b[0m\u001b[0;34m:\u001b[0m\u001b[0;34m\u001b[0m\u001b[0;34m\u001b[0m\u001b[0m\n\u001b[1;32m      6\u001b[0m     \u001b[0mdet\u001b[0m\u001b[0;34m=\u001b[0m\u001b[0mre\u001b[0m\u001b[0;34m.\u001b[0m\u001b[0mcompile\u001b[0m\u001b[0;34m(\u001b[0m\u001b[0;34mr\"hercule|poirot|arthur|hastings\"\u001b[0m\u001b[0;34m)\u001b[0m\u001b[0;34m\u001b[0m\u001b[0;34m\u001b[0m\u001b[0m\n\u001b[0;32m----> 7\u001b[0;31m   \u001b[0;32mreturn\u001b[0m \u001b[0mdet\u001b[0m\u001b[0;34m\u001b[0m\u001b[0;34m\u001b[0m\u001b[0m\n\u001b[0m\u001b[1;32m      8\u001b[0m \u001b[0;34m\u001b[0m\u001b[0m\n\u001b[1;32m      9\u001b[0m \u001b[0;31m#The Mysterious Affair at Styles\u001b[0m\u001b[0;34m\u001b[0m\u001b[0;34m\u001b[0m\u001b[0;34m\u001b[0m\u001b[0m\n",
            "\u001b[0;31mUnboundLocalError\u001b[0m: local variable 'det' referenced before assignment"
          ]
        }
      ]
    },
    {
      "cell_type": "code",
      "metadata": {
        "id": "smz9geGxDtCv"
      },
      "source": [
        "print(corpus[1][\"title\"],len(corpus[1][\"chapters\"]),len(corpus[1][\"contents\"]))\n",
        "print(corpus[1][\"chapters\"])\n",
        "print(corpus[1][\"contents\"][1])\n",
        "reg=re.compile(r\"illustration\")\n",
        "print(get_occur(1,reg))"
      ],
      "execution_count": null,
      "outputs": []
    },
    {
      "cell_type": "code",
      "metadata": {
        "id": "S_Lj5Stcn0DN"
      },
      "source": [
        "# Author: @verolero86\n",
        "\n",
        "# W.I.P. - first stab takes care of white space characters\n",
        "import numpy as np # to grab unique elements \n",
        "\n",
        "def find_white_space(book,nchars,debug):\n",
        "  result_book = re.findall(r'\\s',book[0:nchars]);\n",
        "\n",
        "#  if debug == True:\n",
        "#    print(repr(book1_chapter1[0:nchars]))\n",
        "\n",
        "  print(f\"Number of white space characters = {len(result_book)}\")\n",
        "  print(f\"Unique types of white space characters found = {np.unique(result_book)}\")\n",
        "\n",
        "  return len(result_book)\n",
        "\n",
        "def remove_specific_white_space(book,regex):\n",
        "  result_book = re.sub(regex,' ',book)\n",
        "\n",
        "  return result_book\n",
        "\n",
        "def clean_data(book):\n",
        "  ws_regex=r'[\\r\\n\\u200a]'\n",
        "  result_book = remove_specific_white_space(book,ws_regex).lower()\n",
        "  return result_book\n",
        "\n",
        "# Set a subset of characters for easier parsing (-1 for all in chapter)\n",
        "num_ws_b1c1 = find_white_space(corpus[1][\"contents\"][1],-1,True);\n",
        "print(num_ws_b1c1)\n",
        "\n",
        "num_ws_b1c2 = find_white_space(corpus[1][\"contents\"][2],-1,False);\n",
        "print(num_ws_b1c2)\n",
        "\n",
        "num_ws_b2c1 = find_white_space(corpus[2][\"contents\"][1],-1,False);\n",
        "print(num_ws_b2c1)\n",
        "\n",
        "# Cleaning up unwanted white space and breaking up int o sentences.\n",
        "b1c1 = corpus[1][\"contents\"][1]\n",
        "regex=r'[\\r\\n\\u200a]'\n",
        "b1c1_no_ws = remove_specific_white_space(b1c1,regex)\n",
        "#print(f\"No \\\\r and \\\\n anymore: {repr(b1c1_no_ws[0:400])}\")\n",
        "#result_sentences = re.findall(r'[^\\.\\!\\?]*[\\.\\!\\?]',b1c1_no_ws);\n",
        "#print(repr(result_sentences[0]))\n",
        "#print(repr(result_sentences))\n",
        "sentence_regex=r'[\\.\\?!](?![\\'\\\"\\u2019\\u201a\\u201c\\u275c\\u275f\\u201e\\u201d\\u0022\\u275e]\\s[a-z])(?![\\'\\\"\\u2019\\u201a\\u201c\\u275c\\u275f\\u201e\\u201d\\u0022\\u275e]\\sI said)[\\'\\\"\\u2018\\u2019\\u201c\\u201d\\)\\]]*\\s*(?<!\\w\\.\\w.)(?<![A-Z][a-z][a-z]\\.)(?<![A-Z][a-z]\\.)(?<![A-Z]\\.)\\s+'\n",
        "#result2=re.split(r'[\\.\\?!](?![\\'\\\"\\u2019\\u201a\\u201c\\u275c\\u275f\\u201e\\u201d\\u0022\\u275e]\\s[a-z])(?![\\'\\\"\\u2019\\u201a\\u201c\\u275c\\u275f\\u201e\\u201d\\u0022\\u275e]\\sI said)[\\'\\\"\\u2018\\u2019\\u201c\\u201d\\)\\]]*\\s*(?<!\\w\\.\\w.)(?<![A-Z][a-z][a-z]\\.)(?<![A-Z][a-z]\\.)(?<![A-Z]\\.)\\s+',b1c1_no_ws,flags=re.UNICODE)\n",
        "result2=re.split(sentence_regex,b1c1_no_ws,flags=re.UNICODE)\n",
        "#print(b1c1_no_ws)\n",
        "b1c1_clean = clean_data(b1c1)\n",
        "result3=re.split(sentence_regex,b1c1_clean,flags=re.UNICODE)\n",
        "print(result2)\n",
        "print(result3)"
      ],
      "execution_count": null,
      "outputs": []
    },
    {
      "cell_type": "code",
      "metadata": {
        "id": "br9fgnQ-ZczA"
      },
      "source": [
        "#Dev Notes: will refactor fetch() to generate dict of titles and indices rather than take in index\n",
        "# I.e., fetch() is backwards. should assign index based on title while fetching url\n",
        "\n",
        "\n",
        "#artifacts I've spotted in data:\n",
        "# I noticed and \"[Illustration]\" artifact in the mysterious affair at style.\n",
        "\n",
        "#possible start for sentence splitting regex\n",
        "#sentence_regex = r'([\\.\\?!][\\'\\\"\\u2018\\u2019\\u201c\\u201d\\)\\]]*\\s*(?<!\\w\\.\\w.)(?<![A-Z][a-z][a-z]\\.)(?<![A-Z][a-z]\\.)(?<![A-Z]\\.)\\s+)\n",
        "\n",
        "# V: do we need to clean up contractions to be spelled out? e.g., \"I'm\" to \"I am\", \"don't\" to \"do not\".\n",
        "#  "
      ],
      "execution_count": null,
      "outputs": []
    },
    {
      "cell_type": "markdown",
      "metadata": {
        "id": "3ovkF0EC1VdA"
      },
      "source": [
        "#Data Cleaning\n",
        "\n",
        "## Background Research\n",
        "\n",
        "\n",
        "- There are inconsistencies between the novel formats. Some of them start with a prologue and others dont. \n",
        "- There is START OF THE PROJECT present in the beginning of most but not all books, others have 'START OF THIS PROJECT', but   table of contents appear after that.\n",
        "- Some of them have the word table of contents, others say contents\n",
        "- some follow roman numeral in naming chapters, others dont\n",
        "- Some use the word 'chapter' , others just kist chapter titles followed by a number\n",
        "- Novel text files have license and other info at the end\n",
        "\n",
        "These factors above will need to be considered in data cleaning. \n",
        "\n",
        "Listing a few key particulars below: \n",
        "\n",
        "- The Mysterious Affair at Styles \n",
        "    - This Phrase is present at the beginning - \\*** START OF THE PROJECT \n",
        "    - The Novel plot starts at second instance of 'chapter I.' # period is important here. \n",
        "    - Novel ends at 'THE END' and has \\*** END OF THE PROJECT GUTENBERG EBOOK...'. \n",
        "    - Each chapter starts with 'Chapter' followed by chapter number in roman numeral, followed by new line, followed by title of chapter\n",
        "  \n",
        "\n",
        "- The Murder on the Links \n",
        "  - This Phrase is present at the beginning - \\*** START OF THIS PROJECT \n",
        "  - The Novel plot starts at second instance of '1 A Fellow Traveller'. Novel ends at 'End of Project Gutenberg's The Murder on the Links, by Agatha Christie\n",
        "  - and has \\*** END OF THIS PROJECT GUTENBERG ...' at the end. .\n",
        " - Each chapter  starts with number followed by title of chapter\n",
        "\n",
        "\n",
        "- The Secret Adversary \n",
        "  - This Phrase is present at the beginning - \\*** START OF THIS PROJECT \n",
        "  - The Novel plot starts at second instance of 'PROLOGUE'. Novel ends at 'End of the Project Gutenberg EBook of The Secret Adversary, by Agatha Christie' \n",
        "  -  has \\*** END OF THIS PROJECT GUTENBERG ...' at the end. \n",
        "  - Each chapter starts with 'Chapter' followed by chapter number in roman numeral, followed by title of chapter\n",
        "\n",
        "\n",
        "- The Man in the Brown Suit \n",
        "  - This Phrase is present at the beginning - \\*** START OF THIS PROJECT \n",
        "  - The Novel starts at second instance of 'PROLOGUE'. Novel ends at 'End of Project Gutenberg's The Man in the Brown Suit, by Agatha Christie' \n",
        "  - has \\*** END OF THIS PROJECT GUTENBERG ...' at the end. \n",
        "  - Each chapter starts with 'Chapter' followed by chapter number in roman numeral\n",
        "\n",
        "\n",
        "- The Secret of Chimneys \n",
        "    - This Phrase is present at the beginning - \\*** START OF THE PROJECT \n",
        "  - The Novel plot starts at second instance of '1 (new line)\n",
        "Anthony Cade Signs on' # new line is first here. \n",
        "- Novel ends at 'Transcriber's Notes:' and has \\*** END OF THE PROJECT GUTENBERG...' at the end.\n",
        "Each chapter starts with number followed by new line followed by title of chapter\n"
      ]
    },
    {
      "cell_type": "code",
      "metadata": {
        "id": "EkyIet661XXl"
      },
      "source": [
        ""
      ],
      "execution_count": null,
      "outputs": []
    },
    {
      "cell_type": "markdown",
      "metadata": {
        "id": "W3QdymCF1Xzm"
      },
      "source": [
        "#Data Tokenization / Prep for analysis\n",
        "\n",
        "Note: since we are not allowed to use NLTK for tokenization, we will have to use python for this as well. \n",
        "\n",
        "We can use split() but that would be very basic as it doesnt achieve tokens in a linguistic sense; we should be able to use the re package that adds support for regex; after all the point for us is to learn regex better. Recommend using re.split with our custom regex \n",
        "https://docs.python.org/3/library/re.html\n",
        "\n",
        "\n",
        "###Helpful Links: \n",
        "- https://python.plainenglish.io/how-to-tokenize-sentences-without-using-any-nlp-library-in-python-a381b75f7d22 \n",
        "- https://stackoverflow.com/questions/21361073/tokenize-words-in-a-list-of-sentences-python\n",
        "\n",
        "\n"
      ]
    },
    {
      "cell_type": "code",
      "metadata": {
        "id": "PGOjoKEn1fn_"
      },
      "source": [
        ""
      ],
      "execution_count": null,
      "outputs": []
    },
    {
      "cell_type": "markdown",
      "metadata": {
        "id": "BCj4aRmu1gBl"
      },
      "source": [
        "#Data Analysis"
      ]
    },
    {
      "cell_type": "markdown",
      "metadata": {
        "id": "R46wL0Jj1lz8"
      },
      "source": [
        "Goal of this project is to analyze the frequencies of occurrence of the protagonists and the perpetrator(s) across the novel - per chapter, and per sentence in a chapter, the mention of the crime, and other circumstances surrounding the antagonists. The ultimate objective is to use basic NLP tools to observe any patterns in plot structures across the works of one or all of the authors.  Specifically, analysis questions below need to be answered. \n",
        "\n",
        "Note: To effectively conduct this analysis, you should find resources, and read the plot summaries of each novel, so you can make your search more effective. If plot summaries are not available, use regex to search for clues, and report how well/how fast that approach worked. \n",
        "\n",
        "The plot summary answers derived from reading the book/ summary are located below each question"
      ]
    },
    {
      "cell_type": "markdown",
      "metadata": {
        "id": "PAEn08Le1jxG"
      },
      "source": [
        "##Pre-Steps"
      ]
    },
    {
      "cell_type": "markdown",
      "metadata": {
        "id": "V7NpNWwiL1Yu"
      },
      "source": [
        "Details of each book: \n",
        "\n",
        "- The Mysterious Affair at Styles \n",
        "  - Lead detective: Hercule Poirot, Arthur Hastings\n",
        "  - Other detectives/assistants: \n",
        "  - Victim: Emily Inglethorp\n",
        "  - Suspects: Alfred Inglethorp , Cavendish\n",
        "  - Perpetrator(s): Alfred Inglethorp, Evelyn Howard\n",
        "  - Other important characters: John Cavendish, \n",
        "  - Crime: Murder, Poisoning\n",
        "  - motif: murder mystery\n",
        "https://agathachristie.fandom.com/wiki/The_Mysterious_Affair_at_Styles\n",
        "\n",
        "\n",
        "- The Murder on the Links \n",
        "  - Lead detective(s): Hercule Poirot, Arthur Hastings\n",
        "  - Other detectives/assistants:  Monsieur Giraud, Monsieur Hautet\n",
        "  - Victim: Paul Renauld\n",
        "  - Suspects: Jack Renauld\n",
        "  - Perpetrator: Marthe Daubreuil.\n",
        "  - Other important characters:  Paul Renauld, Eloise Renauld, Jack Renauld, Madame Daubreuil, Gabriel Stonor, Georges Conneau, Madame Beroldy, Marthe Daubreuil, Bella Duveen, Dulcie Duveen (Cindrella), Cindrella\n",
        "  - Crime: Murder, Stabbing\n",
        "  - motif: murder mystery\n",
        "https://en.wikipedia.org/wiki/The_Murder_on_the_Links\n",
        "https://agathachristie.fandom.com/wiki/The_Murder_on_the_Links\n",
        "\n",
        "\n",
        "\n",
        "- The Secret Adversary  (complicated, Needs to be looked at more)\n",
        "  - Lead detective: Tommy and Tuppence, Tommy Beresford, Tuppence Cowley, Prudence Cowley, Prudence \"Tuppence\" Cowley, \n",
        "  - Other detectives/assistants: \n",
        "  - Victim: Jane Finn, Mrs. Vandemeyer\n",
        "  - Suspects: Mr. Brown,  Julius Hersheimmer\n",
        "  - Perpetrator: Sir James Peel Edgerton\n",
        "  - Other important characters: Jane Finn\n",
        "  - Crime: Espionage, Kidnapping\n",
        "  - motif: thriller focus rather than detection\n",
        "\n",
        "\n",
        "- The Man in the Brown Suit (complicated, Needs to be looked at more)\n",
        "  - Lead detective: Anne Beddingfeld\n",
        "  - Other detectives/assistants: \n",
        "  - Victim: Nadina aka Anita Grünberg, L. B. Carton\n",
        "  - Suspects: Harry\n",
        "  - Perpetrator: Sir Eustace Pedler\n",
        "  - Other important characters: Nadina, Count Sergius Paulovitch, the Colonel,  , Suzanne Blair, Colonel Race, Guy Pagett, Harry Rayburn, Harry Rayburn, Rev. Chichester, Miss Pettigrew,Harry Parker, Chichester\n",
        "  - Crime: diamond theft, murders, kidnapping\n",
        "  - motif: thriller focus rather than detection\n",
        "\n",
        "\n",
        "- The Secret of Chimneys (complicated, Needs to be looked at more)\n",
        "  - Lead detective: Anthony Cade aka Prince Nicholas\n",
        "  - Other detectives/assistants: Superintendent Battle, Monsieur Lemoine of the Sûreté, Mr. Fish aka american agent\n",
        "  - Victim: Perceived: Count Stanislaus aka Prince Michael Obolovitch\n",
        "  - Suspects: Anthony Cade, Prince Nicholas, King Victor, \n",
        "  - Perpetrator: Mlle Brun aka Queen Varaga aka Angèle Mory, M Lemoine aka King Victor\n",
        "  - Other important characters: King Nicholas IV, Queen Varaga aka Angèle Mory, Herman Isaacstein, Prince Michael Obolovitch,  George Lomax, Count Stylptitch, Jimmy McGrath, Virginia Revel, Captain O'Neill, Captain O'Neill, Mr Holmes, Isaacstein, Hiram P. Fish, Prince Nicholas, Mademoiselle Mlle Brun, Bill Eversleigh, Monsieur Lemoine of the Sûreté, Professor Wynwood, Boris Anchoukoff,\n",
        "   - Crime: sensitive document theft, murders, treasure hunt, espionage\n",
        "  - motif: thriller focus rather than detection\n",
        "\n"
      ]
    },
    {
      "cell_type": "code",
      "metadata": {
        "id": "ATzzpDAt1lnN"
      },
      "source": [
        ""
      ],
      "execution_count": null,
      "outputs": []
    },
    {
      "cell_type": "code",
      "metadata": {
        "id": "VfT-3mXl1o6G"
      },
      "source": [
        ""
      ],
      "execution_count": null,
      "outputs": []
    },
    {
      "cell_type": "markdown",
      "metadata": {
        "id": "CbkLHRPQ1pLl"
      },
      "source": [
        "##1. When does the detective (or a pair) occur for the first time -  chapter #, the sentence(s) # in a chapter,\n",
        "\n",
        "####Background research\n",
        "Poirot appears in Chapter# 1, sentence # 2 for the first time"
      ]
    },
    {
      "cell_type": "code",
      "metadata": {
        "id": "ePM70xfk1wWY"
      },
      "source": [
        ""
      ],
      "execution_count": null,
      "outputs": []
    },
    {
      "cell_type": "markdown",
      "metadata": {
        "id": "GLq-sNsm1wu_"
      },
      "source": [
        "##2. When is the crime first mentioned - the type of the crime and the details -  chapter #, the sentence(s) # in a chapter,\n"
      ]
    },
    {
      "cell_type": "code",
      "metadata": {
        "id": "1R9c9sHm1076"
      },
      "source": [
        ""
      ],
      "execution_count": null,
      "outputs": []
    },
    {
      "cell_type": "markdown",
      "metadata": {
        "id": "DcRq576e11V_"
      },
      "source": [
        "##3. When is the perpetrator first mentioned - chapter #, the sentence(s) # in a chapter,"
      ]
    },
    {
      "cell_type": "code",
      "metadata": {
        "id": "4OWqQFtC155B"
      },
      "source": [
        ""
      ],
      "execution_count": null,
      "outputs": []
    },
    {
      "cell_type": "markdown",
      "metadata": {
        "id": "-F_GYvFv16SX"
      },
      "source": [
        "## 4. What are the 3 words that occur around the perpetrator on each mention (i.e., the three words preceding, and the three words following the mention of a perpetrator),"
      ]
    },
    {
      "cell_type": "code",
      "metadata": {
        "id": "u-sZeYwg19lB"
      },
      "source": [
        ""
      ],
      "execution_count": null,
      "outputs": []
    },
    {
      "cell_type": "markdown",
      "metadata": {
        "id": "rGOQisCW190Y"
      },
      "source": [
        "## 5. When and how the detective/detectives and the perpetrators co-occur - chapter #, the sentence(s) # in a chapter,"
      ]
    },
    {
      "cell_type": "code",
      "metadata": {
        "id": "Uf_QyW7629H4"
      },
      "source": [
        ""
      ],
      "execution_count": null,
      "outputs": []
    },
    {
      "cell_type": "markdown",
      "metadata": {
        "id": "bDDmhW4P29Z-"
      },
      "source": [
        "## 6. When are other suspects first introduced - chapter #, the sentence(s) # in a chapter"
      ]
    },
    {
      "cell_type": "code",
      "metadata": {
        "id": "1qttHUqV3C5g"
      },
      "source": [
        ""
      ],
      "execution_count": null,
      "outputs": []
    },
    {
      "cell_type": "markdown",
      "metadata": {
        "id": "rsajewrP3VEd"
      },
      "source": [
        "# Additional/Extra Analysis"
      ]
    },
    {
      "cell_type": "code",
      "metadata": {
        "id": "rAyzwcaG3Z5j"
      },
      "source": [
        ""
      ],
      "execution_count": null,
      "outputs": []
    },
    {
      "cell_type": "markdown",
      "metadata": {
        "id": "Q0FN0SH_3azr"
      },
      "source": [
        "# Practice Section"
      ]
    },
    {
      "cell_type": "code",
      "metadata": {
        "id": "KthIUBm43eD_"
      },
      "source": [
        ""
      ],
      "execution_count": null,
      "outputs": []
    }
  ]
}